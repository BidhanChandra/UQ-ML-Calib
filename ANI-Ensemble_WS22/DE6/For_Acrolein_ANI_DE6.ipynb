{
  "cells": [
    {
      "cell_type": "markdown",
      "metadata": {
        "id": "wOjcyoxvuDwH"
      },
      "source": [
        "#Data Collection Acrolein"
      ]
    },
    {
      "cell_type": "code",
      "execution_count": null,
      "metadata": {
        "id": "Ge9wCK2bvk8Q"
      },
      "outputs": [],
      "source": [
        "import numpy as np\n",
        "from sklearn.metrics import r2_score, mean_absolute_error\n",
        "from sklearn.model_selection import train_test_split\n",
        "from tqdm import tqdm"
      ]
    },
    {
      "cell_type": "code",
      "execution_count": null,
      "metadata": {
        "colab": {
          "base_uri": "https://localhost:8080/"
        },
        "id": "VNKJbEKCwixz",
        "outputId": "88c7c1ff-6cde-40b5-c5dd-57a12eac9cd6"
      },
      "outputs": [
        {
          "output_type": "stream",
          "name": "stdout",
          "text": [
            "Collecting mlatom\n",
            "  Downloading mlatom-3.9.1-py3-none-any.whl.metadata (7.0 kB)\n",
            "Requirement already satisfied: numpy in /usr/local/lib/python3.10/dist-packages (from mlatom) (1.26.4)\n",
            "Requirement already satisfied: scipy in /usr/local/lib/python3.10/dist-packages (from mlatom) (1.13.1)\n",
            "Requirement already satisfied: h5py in /usr/local/lib/python3.10/dist-packages (from mlatom) (3.11.0)\n",
            "Collecting pyh5md (from mlatom)\n",
            "  Downloading pyh5md-1.0.0-py2.py3-none-any.whl.metadata (497 bytes)\n",
            "Requirement already satisfied: torch in /usr/local/lib/python3.10/dist-packages (from mlatom) (2.3.1+cu121)\n",
            "Collecting torchani (from mlatom)\n",
            "  Downloading torchani-2.2.4-py3-none-any.whl.metadata (6.0 kB)\n",
            "Requirement already satisfied: matplotlib in /usr/local/lib/python3.10/dist-packages (from mlatom) (3.7.1)\n",
            "Requirement already satisfied: statsmodels in /usr/local/lib/python3.10/dist-packages (from mlatom) (0.14.2)\n",
            "Requirement already satisfied: tqdm in /usr/local/lib/python3.10/dist-packages (from mlatom) (4.66.4)\n",
            "Requirement already satisfied: contourpy>=1.0.1 in /usr/local/lib/python3.10/dist-packages (from matplotlib->mlatom) (1.2.1)\n",
            "Requirement already satisfied: cycler>=0.10 in /usr/local/lib/python3.10/dist-packages (from matplotlib->mlatom) (0.12.1)\n",
            "Requirement already satisfied: fonttools>=4.22.0 in /usr/local/lib/python3.10/dist-packages (from matplotlib->mlatom) (4.53.1)\n",
            "Requirement already satisfied: kiwisolver>=1.0.1 in /usr/local/lib/python3.10/dist-packages (from matplotlib->mlatom) (1.4.5)\n",
            "Requirement already satisfied: packaging>=20.0 in /usr/local/lib/python3.10/dist-packages (from matplotlib->mlatom) (24.1)\n",
            "Requirement already satisfied: pillow>=6.2.0 in /usr/local/lib/python3.10/dist-packages (from matplotlib->mlatom) (9.4.0)\n",
            "Requirement already satisfied: pyparsing>=2.3.1 in /usr/local/lib/python3.10/dist-packages (from matplotlib->mlatom) (3.1.2)\n",
            "Requirement already satisfied: python-dateutil>=2.7 in /usr/local/lib/python3.10/dist-packages (from matplotlib->mlatom) (2.8.2)\n",
            "Requirement already satisfied: pandas!=2.1.0,>=1.4 in /usr/local/lib/python3.10/dist-packages (from statsmodels->mlatom) (2.1.4)\n",
            "Requirement already satisfied: patsy>=0.5.6 in /usr/local/lib/python3.10/dist-packages (from statsmodels->mlatom) (0.5.6)\n",
            "Requirement already satisfied: filelock in /usr/local/lib/python3.10/dist-packages (from torch->mlatom) (3.15.4)\n",
            "Requirement already satisfied: typing-extensions>=4.8.0 in /usr/local/lib/python3.10/dist-packages (from torch->mlatom) (4.12.2)\n",
            "Requirement already satisfied: sympy in /usr/local/lib/python3.10/dist-packages (from torch->mlatom) (1.13.1)\n",
            "Requirement already satisfied: networkx in /usr/local/lib/python3.10/dist-packages (from torch->mlatom) (3.3)\n",
            "Requirement already satisfied: jinja2 in /usr/local/lib/python3.10/dist-packages (from torch->mlatom) (3.1.4)\n",
            "Requirement already satisfied: fsspec in /usr/local/lib/python3.10/dist-packages (from torch->mlatom) (2024.6.1)\n",
            "Collecting nvidia-cuda-nvrtc-cu12==12.1.105 (from torch->mlatom)\n",
            "  Using cached nvidia_cuda_nvrtc_cu12-12.1.105-py3-none-manylinux1_x86_64.whl.metadata (1.5 kB)\n",
            "Collecting nvidia-cuda-runtime-cu12==12.1.105 (from torch->mlatom)\n",
            "  Using cached nvidia_cuda_runtime_cu12-12.1.105-py3-none-manylinux1_x86_64.whl.metadata (1.5 kB)\n",
            "Collecting nvidia-cuda-cupti-cu12==12.1.105 (from torch->mlatom)\n",
            "  Using cached nvidia_cuda_cupti_cu12-12.1.105-py3-none-manylinux1_x86_64.whl.metadata (1.6 kB)\n",
            "Collecting nvidia-cudnn-cu12==8.9.2.26 (from torch->mlatom)\n",
            "  Using cached nvidia_cudnn_cu12-8.9.2.26-py3-none-manylinux1_x86_64.whl.metadata (1.6 kB)\n",
            "Collecting nvidia-cublas-cu12==12.1.3.1 (from torch->mlatom)\n",
            "  Using cached nvidia_cublas_cu12-12.1.3.1-py3-none-manylinux1_x86_64.whl.metadata (1.5 kB)\n",
            "Collecting nvidia-cufft-cu12==11.0.2.54 (from torch->mlatom)\n",
            "  Using cached nvidia_cufft_cu12-11.0.2.54-py3-none-manylinux1_x86_64.whl.metadata (1.5 kB)\n",
            "Collecting nvidia-curand-cu12==10.3.2.106 (from torch->mlatom)\n",
            "  Using cached nvidia_curand_cu12-10.3.2.106-py3-none-manylinux1_x86_64.whl.metadata (1.5 kB)\n",
            "Collecting nvidia-cusolver-cu12==11.4.5.107 (from torch->mlatom)\n",
            "  Using cached nvidia_cusolver_cu12-11.4.5.107-py3-none-manylinux1_x86_64.whl.metadata (1.6 kB)\n",
            "Collecting nvidia-cusparse-cu12==12.1.0.106 (from torch->mlatom)\n",
            "  Using cached nvidia_cusparse_cu12-12.1.0.106-py3-none-manylinux1_x86_64.whl.metadata (1.6 kB)\n",
            "Collecting nvidia-nccl-cu12==2.20.5 (from torch->mlatom)\n",
            "  Using cached nvidia_nccl_cu12-2.20.5-py3-none-manylinux2014_x86_64.whl.metadata (1.8 kB)\n",
            "Collecting nvidia-nvtx-cu12==12.1.105 (from torch->mlatom)\n",
            "  Using cached nvidia_nvtx_cu12-12.1.105-py3-none-manylinux1_x86_64.whl.metadata (1.7 kB)\n",
            "Requirement already satisfied: triton==2.3.1 in /usr/local/lib/python3.10/dist-packages (from torch->mlatom) (2.3.1)\n",
            "Collecting nvidia-nvjitlink-cu12 (from nvidia-cusolver-cu12==11.4.5.107->torch->mlatom)\n",
            "  Downloading nvidia_nvjitlink_cu12-12.5.82-py3-none-manylinux2014_x86_64.whl.metadata (1.5 kB)\n",
            "Collecting lark-parser (from torchani->mlatom)\n",
            "  Downloading lark_parser-0.12.0-py2.py3-none-any.whl.metadata (1.7 kB)\n",
            "Requirement already satisfied: requests in /usr/local/lib/python3.10/dist-packages (from torchani->mlatom) (2.31.0)\n",
            "Requirement already satisfied: importlib-metadata in /usr/local/lib/python3.10/dist-packages (from torchani->mlatom) (8.2.0)\n",
            "Requirement already satisfied: pytz>=2020.1 in /usr/local/lib/python3.10/dist-packages (from pandas!=2.1.0,>=1.4->statsmodels->mlatom) (2024.1)\n",
            "Requirement already satisfied: tzdata>=2022.1 in /usr/local/lib/python3.10/dist-packages (from pandas!=2.1.0,>=1.4->statsmodels->mlatom) (2024.1)\n",
            "Requirement already satisfied: six in /usr/local/lib/python3.10/dist-packages (from patsy>=0.5.6->statsmodels->mlatom) (1.16.0)\n",
            "Requirement already satisfied: zipp>=0.5 in /usr/local/lib/python3.10/dist-packages (from importlib-metadata->torchani->mlatom) (3.19.2)\n",
            "Requirement already satisfied: MarkupSafe>=2.0 in /usr/local/lib/python3.10/dist-packages (from jinja2->torch->mlatom) (2.1.5)\n",
            "Requirement already satisfied: charset-normalizer<4,>=2 in /usr/local/lib/python3.10/dist-packages (from requests->torchani->mlatom) (3.3.2)\n",
            "Requirement already satisfied: idna<4,>=2.5 in /usr/local/lib/python3.10/dist-packages (from requests->torchani->mlatom) (3.7)\n",
            "Requirement already satisfied: urllib3<3,>=1.21.1 in /usr/local/lib/python3.10/dist-packages (from requests->torchani->mlatom) (2.0.7)\n",
            "Requirement already satisfied: certifi>=2017.4.17 in /usr/local/lib/python3.10/dist-packages (from requests->torchani->mlatom) (2024.7.4)\n",
            "Requirement already satisfied: mpmath<1.4,>=1.1.0 in /usr/local/lib/python3.10/dist-packages (from sympy->torch->mlatom) (1.3.0)\n",
            "Downloading mlatom-3.9.1-py3-none-any.whl (51.8 MB)\n",
            "\u001b[2K   \u001b[90m━━━━━━━━━━━━━━━━━━━━━━━━━━━━━━━━━━━━━━━━\u001b[0m \u001b[32m51.8/51.8 MB\u001b[0m \u001b[31m9.4 MB/s\u001b[0m eta \u001b[36m0:00:00\u001b[0m\n",
            "\u001b[?25hDownloading pyh5md-1.0.0-py2.py3-none-any.whl (4.4 kB)\n",
            "Using cached nvidia_cublas_cu12-12.1.3.1-py3-none-manylinux1_x86_64.whl (410.6 MB)\n",
            "Using cached nvidia_cuda_cupti_cu12-12.1.105-py3-none-manylinux1_x86_64.whl (14.1 MB)\n",
            "Using cached nvidia_cuda_nvrtc_cu12-12.1.105-py3-none-manylinux1_x86_64.whl (23.7 MB)\n",
            "Using cached nvidia_cuda_runtime_cu12-12.1.105-py3-none-manylinux1_x86_64.whl (823 kB)\n",
            "Using cached nvidia_cudnn_cu12-8.9.2.26-py3-none-manylinux1_x86_64.whl (731.7 MB)\n",
            "Using cached nvidia_cufft_cu12-11.0.2.54-py3-none-manylinux1_x86_64.whl (121.6 MB)\n",
            "Using cached nvidia_curand_cu12-10.3.2.106-py3-none-manylinux1_x86_64.whl (56.5 MB)\n",
            "Using cached nvidia_cusolver_cu12-11.4.5.107-py3-none-manylinux1_x86_64.whl (124.2 MB)\n",
            "Using cached nvidia_cusparse_cu12-12.1.0.106-py3-none-manylinux1_x86_64.whl (196.0 MB)\n",
            "Using cached nvidia_nccl_cu12-2.20.5-py3-none-manylinux2014_x86_64.whl (176.2 MB)\n",
            "Using cached nvidia_nvtx_cu12-12.1.105-py3-none-manylinux1_x86_64.whl (99 kB)\n",
            "Downloading torchani-2.2.4-py3-none-any.whl (10.9 MB)\n",
            "\u001b[2K   \u001b[90m━━━━━━━━━━━━━━━━━━━━━━━━━━━━━━━━━━━━━━━━\u001b[0m \u001b[32m10.9/10.9 MB\u001b[0m \u001b[31m10.5 MB/s\u001b[0m eta \u001b[36m0:00:00\u001b[0m\n",
            "\u001b[?25hDownloading lark_parser-0.12.0-py2.py3-none-any.whl (103 kB)\n",
            "\u001b[2K   \u001b[90m━━━━━━━━━━━━━━━━━━━━━━━━━━━━━━━━━━━━━━━━\u001b[0m \u001b[32m103.5/103.5 kB\u001b[0m \u001b[31m8.6 MB/s\u001b[0m eta \u001b[36m0:00:00\u001b[0m\n",
            "\u001b[?25hDownloading nvidia_nvjitlink_cu12-12.5.82-py3-none-manylinux2014_x86_64.whl (21.3 MB)\n",
            "\u001b[2K   \u001b[90m━━━━━━━━━━━━━━━━━━━━━━━━━━━━━━━━━━━━━━━━\u001b[0m \u001b[32m21.3/21.3 MB\u001b[0m \u001b[31m87.0 MB/s\u001b[0m eta \u001b[36m0:00:00\u001b[0m\n",
            "\u001b[?25hInstalling collected packages: pyh5md, lark-parser, nvidia-nvtx-cu12, nvidia-nvjitlink-cu12, nvidia-nccl-cu12, nvidia-curand-cu12, nvidia-cufft-cu12, nvidia-cuda-runtime-cu12, nvidia-cuda-nvrtc-cu12, nvidia-cuda-cupti-cu12, nvidia-cublas-cu12, nvidia-cusparse-cu12, nvidia-cudnn-cu12, nvidia-cusolver-cu12, torchani, mlatom\n",
            "Successfully installed lark-parser-0.12.0 mlatom-3.9.1 nvidia-cublas-cu12-12.1.3.1 nvidia-cuda-cupti-cu12-12.1.105 nvidia-cuda-nvrtc-cu12-12.1.105 nvidia-cuda-runtime-cu12-12.1.105 nvidia-cudnn-cu12-8.9.2.26 nvidia-cufft-cu12-11.0.2.54 nvidia-curand-cu12-10.3.2.106 nvidia-cusolver-cu12-11.4.5.107 nvidia-cusparse-cu12-12.1.0.106 nvidia-nccl-cu12-2.20.5 nvidia-nvjitlink-cu12-12.5.82 nvidia-nvtx-cu12-12.1.105 pyh5md-1.0.0 torchani-2.2.4\n",
            "Cloning into 'ulamdyn'...\n",
            "remote: Enumerating objects: 1097, done.\u001b[K\n",
            "remote: Counting objects: 100% (187/187), done.\u001b[K\n",
            "remote: Compressing objects: 100% (74/74), done.\u001b[K\n",
            "remote: Total 1097 (delta 116), reused 130 (delta 90), pack-reused 910 (from 1)\u001b[K\n",
            "Receiving objects: 100% (1097/1097), 15.66 MiB | 31.08 MiB/s, done.\n",
            "Resolving deltas: 100% (625/625), done.\n",
            "Processing ./ulamdyn\n",
            "  Preparing metadata (setup.py) ... \u001b[?25l\u001b[?25hdone\n",
            "Collecting rmsd (from ulamdyn==0+untagged.86.g3547f09)\n",
            "  Downloading rmsd-1.5.1-py3-none-any.whl.metadata (5.3 kB)\n",
            "Requirement already satisfied: h5py in /usr/local/lib/python3.10/dist-packages (from ulamdyn==0+untagged.86.g3547f09) (3.11.0)\n",
            "Requirement already satisfied: numpy in /usr/local/lib/python3.10/dist-packages (from ulamdyn==0+untagged.86.g3547f09) (1.26.4)\n",
            "Requirement already satisfied: scipy in /usr/local/lib/python3.10/dist-packages (from ulamdyn==0+untagged.86.g3547f09) (1.13.1)\n",
            "Requirement already satisfied: joblib in /usr/local/lib/python3.10/dist-packages (from ulamdyn==0+untagged.86.g3547f09) (1.4.2)\n",
            "Requirement already satisfied: pandas in /usr/local/lib/python3.10/dist-packages (from ulamdyn==0+untagged.86.g3547f09) (2.1.4)\n",
            "Requirement already satisfied: scikit-learn in /usr/local/lib/python3.10/dist-packages (from ulamdyn==0+untagged.86.g3547f09) (1.3.2)\n",
            "Collecting tslearn (from ulamdyn==0+untagged.86.g3547f09)\n",
            "  Downloading tslearn-0.6.3-py3-none-any.whl.metadata (14 kB)\n",
            "Requirement already satisfied: python-dateutil>=2.8.2 in /usr/local/lib/python3.10/dist-packages (from pandas->ulamdyn==0+untagged.86.g3547f09) (2.8.2)\n",
            "Requirement already satisfied: pytz>=2020.1 in /usr/local/lib/python3.10/dist-packages (from pandas->ulamdyn==0+untagged.86.g3547f09) (2024.1)\n",
            "Requirement already satisfied: tzdata>=2022.1 in /usr/local/lib/python3.10/dist-packages (from pandas->ulamdyn==0+untagged.86.g3547f09) (2024.1)\n",
            "Requirement already satisfied: threadpoolctl>=2.0.0 in /usr/local/lib/python3.10/dist-packages (from scikit-learn->ulamdyn==0+untagged.86.g3547f09) (3.5.0)\n",
            "Requirement already satisfied: numba in /usr/local/lib/python3.10/dist-packages (from tslearn->ulamdyn==0+untagged.86.g3547f09) (0.60.0)\n",
            "Requirement already satisfied: six>=1.5 in /usr/local/lib/python3.10/dist-packages (from python-dateutil>=2.8.2->pandas->ulamdyn==0+untagged.86.g3547f09) (1.16.0)\n",
            "Requirement already satisfied: llvmlite<0.44,>=0.43.0dev0 in /usr/local/lib/python3.10/dist-packages (from numba->tslearn->ulamdyn==0+untagged.86.g3547f09) (0.43.0)\n",
            "Downloading rmsd-1.5.1-py3-none-any.whl (17 kB)\n",
            "Downloading tslearn-0.6.3-py3-none-any.whl (374 kB)\n",
            "\u001b[2K   \u001b[90m━━━━━━━━━━━━━━━━━━━━━━━━━━━━━━━━━━━━━━━━\u001b[0m \u001b[32m374.4/374.4 kB\u001b[0m \u001b[31m12.2 MB/s\u001b[0m eta \u001b[36m0:00:00\u001b[0m\n",
            "\u001b[?25hBuilding wheels for collected packages: ulamdyn\n",
            "  Building wheel for ulamdyn (setup.py) ... \u001b[?25l\u001b[?25hdone\n",
            "  Created wheel for ulamdyn: filename=ulamdyn-0+untagged.86.g3547f09-py3-none-any.whl size=82743 sha256=96c2f0b01671f8a7bc3d29c89ebb06144bb8ca8943b46ca86bf1d3780a2a08c9\n",
            "  Stored in directory: /tmp/pip-ephem-wheel-cache-b3m2i1r4/wheels/ea/44/6c/17ce24d141475292bbb4c82ed8acc25f0b63a566b8af3500fc\n",
            "Successfully built ulamdyn\n",
            "Installing collected packages: rmsd, tslearn, ulamdyn\n",
            "Successfully installed rmsd-1.5.1 tslearn-0.6.3 ulamdyn-0+untagged.86.g3547f09\n"
          ]
        }
      ],
      "source": [
        "!pip install mlatom\n",
        "!git clone https://gitlab.com/maxjr82/ulamdyn.git\n",
        "!pip install ulamdyn/"
      ]
    },
    {
      "cell_type": "code",
      "execution_count": null,
      "metadata": {
        "colab": {
          "base_uri": "https://localhost:8080/"
        },
        "id": "7z8eznaooDgP",
        "outputId": "d948a90c-8c8b-497c-949f-1666c38ee33f"
      },
      "outputs": [
        {
          "output_type": "stream",
          "name": "stdout",
          "text": [
            "R -> (120000, 8, 3)\n",
            "F -> (120000, 8, 3)\n",
            "Q -> (120000, 8, 1)\n",
            "DP -> (120000, 3)\n",
            "QP -> (120000, 3, 3)\n",
            "P -> (120000, 6)\n",
            "RC -> (120000, 3)\n",
            "HL -> (120000, 2)\n",
            "E -> (120000, 1)\n",
            "Z -> (8,)\n",
            "R2 -> (120000, 1)\n",
            "CONF -> (120000, 1)\n",
            "['C', 'O', 'C', 'C', 'H', 'H', 'H', 'H']\n"
          ]
        }
      ],
      "source": [
        "from typing_extensions import get_overloads\n",
        "data = np.load('ws22_acrolein.npz')\n",
        "\n",
        "for key, val in data.items():\n",
        "    print(key, '->', val.shape)\n",
        "\n",
        "coordinates_cis_trans = np.array(data['R'][:20000])\n",
        "energy_cis_trans = np.array(data['E'][:20000])\n",
        "grads_cis_trans = -np.array(data['F'][:20000])\n",
        "\n",
        "\n",
        "atoms = []\n",
        "\n",
        "for i in range(data['Z'].shape[0]):\n",
        "    if data['Z'][i] == 6:\n",
        "        atoms.append('C')\n",
        "    elif data['Z'][i] == 8:\n",
        "        atoms.append('O')\n",
        "    elif data['Z'][i] == 1:\n",
        "        atoms.append('H')\n",
        "\n",
        "print(atoms)"
      ]
    },
    {
      "cell_type": "code",
      "execution_count": null,
      "metadata": {
        "id": "ofeIVgHWr5qQ"
      },
      "outputs": [],
      "source": [
        "coordinates_trans = np.array(data['R'][70000:])\n",
        "energy_trans = np.array(data['E'][70000:])\n",
        "grads_trans = -np.array(data['F'][70000:])"
      ]
    },
    {
      "cell_type": "code",
      "execution_count": null,
      "metadata": {
        "id": "huFf9938vuRA"
      },
      "outputs": [],
      "source": [
        "coordinates_cis = np.array(data['R'][20000:70000])\n",
        "energy_cis = np.array(data['E'][20000:70000])\n",
        "grads_cis = -np.array(data['F'][20000:70000])"
      ]
    },
    {
      "cell_type": "code",
      "execution_count": null,
      "metadata": {
        "id": "bjSsy6Fzug6p"
      },
      "outputs": [],
      "source": [
        "coordinates_trans_train, coordinates_trans_test, en_trans_train, en_trans_test, grads_trans_train, grads_trans_test = train_test_split(coordinates_trans, energy_trans, grads_trans, train_size = 0.90, random_state=0)"
      ]
    },
    {
      "cell_type": "code",
      "execution_count": null,
      "metadata": {
        "colab": {
          "base_uri": "https://localhost:8080/"
        },
        "id": "HyZZQweo4vxf",
        "outputId": "6948b5b5-f370-4376-9fe4-178ab7f0b3cc"
      },
      "outputs": [
        {
          "output_type": "execute_result",
          "data": {
            "text/plain": [
              "array([[-120265.54525667],\n",
              "       [-120295.6376437 ],\n",
              "       [-120290.32390238],\n",
              "       ...,\n",
              "       [-120294.09290581],\n",
              "       [-120273.4211467 ],\n",
              "       [-120292.20436419]])"
            ]
          },
          "metadata": {},
          "execution_count": 7
        }
      ],
      "source": [
        "en_trans_train"
      ]
    },
    {
      "cell_type": "code",
      "execution_count": null,
      "metadata": {
        "colab": {
          "base_uri": "https://localhost:8080/"
        },
        "id": "Emluw96Ou2Qj",
        "outputId": "95426c94-50ab-409e-d9d0-3d392d72cb20"
      },
      "outputs": [
        {
          "output_type": "stream",
          "name": "stdout",
          "text": [
            "(45000, 1)\n",
            "(5000, 1)\n"
          ]
        }
      ],
      "source": [
        "print(en_trans_train.shape)\n",
        "print(en_trans_test.shape)"
      ]
    },
    {
      "cell_type": "code",
      "execution_count": null,
      "metadata": {
        "id": "lZj6P76dgN2F"
      },
      "outputs": [],
      "source": [
        "import ulamdyn as ulmd\n",
        "import os\n",
        "\n",
        "from mlatom.data import molecular_database, molecule\n",
        "from mlatom.interfaces.torchani_interface import ani\n",
        "# from mlatom.interfaces.gap_interface import gap\n",
        "from mlatom import models\n",
        "from mlatom.constants import Hartree2eV, Angstrom2Bohr, kcalpermol2eV\n",
        "import torch"
      ]
    },
    {
      "cell_type": "code",
      "execution_count": null,
      "metadata": {
        "id": "gCzK7ZVax5wn"
      },
      "outputs": [],
      "source": [
        "import seaborn as sns\n",
        "import matplotlib.pyplot as plt\n",
        "from matplotlib.ticker import StrMethodFormatter\n",
        "\n",
        "import ipywidgets as widgets\n",
        "from ipywidgets import interact"
      ]
    },
    {
      "cell_type": "code",
      "execution_count": null,
      "metadata": {
        "id": "3c9-u_2Yx9g3"
      },
      "outputs": [],
      "source": [
        "epots_train = en_trans_train.flatten() * kcalpermol2eV\n",
        "epots_test = en_trans_test.flatten() * kcalpermol2eV\n",
        "grads_train = grads_trans_train * kcalpermol2eV\n",
        "grads_test = grads_trans_test * kcalpermol2eV"
      ]
    },
    {
      "cell_type": "code",
      "execution_count": null,
      "metadata": {
        "colab": {
          "base_uri": "https://localhost:8080/"
        },
        "id": "ExU-bYt4437L",
        "outputId": "fb9f3a18-d710-4b86-c1c1-794058e35cc3"
      },
      "outputs": [
        {
          "output_type": "execute_result",
          "data": {
            "text/plain": [
              "array([-5217.51587023, -5218.8213772 , -5218.59084958, ...,\n",
              "       -5218.75436138, -5217.85755231, -5218.67243021])"
            ]
          },
          "metadata": {},
          "execution_count": 12
        }
      ],
      "source": [
        "epots_train"
      ]
    },
    {
      "cell_type": "code",
      "execution_count": null,
      "metadata": {
        "id": "rX81SoKdyL1v"
      },
      "outputs": [],
      "source": [
        "atoms = np.tile(np.array(1 * [6] + 1 * [8] + 2 * [6] + 4 * [1]), (45000, 1))\n",
        "acrolein_train = molecular_database.from_numpy(coordinates_trans_train, atoms)"
      ]
    },
    {
      "cell_type": "code",
      "execution_count": null,
      "metadata": {
        "colab": {
          "base_uri": "https://localhost:8080/"
        },
        "id": "caDLo1Aw1wTQ",
        "outputId": "407e80dc-8065-4489-d6f3-5ea2d3bb9d03"
      },
      "outputs": [
        {
          "output_type": "execute_result",
          "data": {
            "text/plain": [
              "(45000, 8)"
            ]
          },
          "metadata": {},
          "execution_count": 14
        }
      ],
      "source": [
        "acrolein_train.element_symbols.shape"
      ]
    },
    {
      "cell_type": "code",
      "execution_count": null,
      "metadata": {
        "colab": {
          "base_uri": "https://localhost:8080/"
        },
        "id": "VP1braDw1_t3",
        "outputId": "2e532bf6-098a-4a02-e874-18b8747cf46b"
      },
      "outputs": [
        {
          "output_type": "execute_result",
          "data": {
            "text/plain": [
              "(45000, 8, 3)"
            ]
          },
          "metadata": {},
          "execution_count": 15
        }
      ],
      "source": [
        "acrolein_train.xyz_coordinates.shape"
      ]
    },
    {
      "cell_type": "code",
      "execution_count": null,
      "metadata": {
        "colab": {
          "base_uri": "https://localhost:8080/"
        },
        "id": "gdpl5_O62CdX",
        "outputId": "7fd85a85-afea-46ca-867e-780717572b86"
      },
      "outputs": [
        {
          "output_type": "execute_result",
          "data": {
            "text/plain": [
              "['__add__',\n",
              " '__class__',\n",
              " '__delattr__',\n",
              " '__dict__',\n",
              " '__dir__',\n",
              " '__doc__',\n",
              " '__eq__',\n",
              " '__format__',\n",
              " '__ge__',\n",
              " '__getattribute__',\n",
              " '__getitem__',\n",
              " '__gt__',\n",
              " '__hash__',\n",
              " '__init__',\n",
              " '__init_subclass__',\n",
              " '__iter__',\n",
              " '__le__',\n",
              " '__len__',\n",
              " '__lt__',\n",
              " '__module__',\n",
              " '__ne__',\n",
              " '__new__',\n",
              " '__reduce__',\n",
              " '__reduce_ex__',\n",
              " '__repr__',\n",
              " '__setattr__',\n",
              " '__sizeof__',\n",
              " '__str__',\n",
              " '__subclasshook__',\n",
              " '__weakref__',\n",
              " '_is_uniform_cell',\n",
              " '_load',\n",
              " 'add_hessian_properties',\n",
              " 'add_scalar_properties',\n",
              " 'add_scalar_properties_from_file',\n",
              " 'add_xyz_derivative_properties',\n",
              " 'add_xyz_derivative_properties_from_file',\n",
              " 'add_xyz_vectorial_properties',\n",
              " 'add_xyz_vectorial_properties_from_file',\n",
              " 'add_xyz_vectorial_properties_from_string',\n",
              " 'append',\n",
              " 'atomic_numbers',\n",
              " 'batches',\n",
              " 'charges',\n",
              " 'copy',\n",
              " 'dump',\n",
              " 'element_symbols',\n",
              " 'filter_by_property',\n",
              " 'from_numpy',\n",
              " 'from_smiles_file',\n",
              " 'from_smiles_string',\n",
              " 'from_xyz_file',\n",
              " 'from_xyz_string',\n",
              " 'get_atomic_numbers',\n",
              " 'get_element_symbols',\n",
              " 'get_number_of_atoms',\n",
              " 'get_properties',\n",
              " 'get_xyz_derivative_properties',\n",
              " 'get_xyz_string',\n",
              " 'get_xyz_vectorial_properties',\n",
              " 'ids',\n",
              " 'load',\n",
              " 'molecules',\n",
              " 'multiplicities',\n",
              " 'nuclear_masses',\n",
              " 'number_of_atoms',\n",
              " 'proliferate',\n",
              " 'read_from_numpy',\n",
              " 'read_from_smiles_file',\n",
              " 'read_from_smiles_string',\n",
              " 'read_from_xyz_file',\n",
              " 'read_from_xyz_string',\n",
              " 'set_properties',\n",
              " 'size',\n",
              " 'smiles',\n",
              " 'split',\n",
              " 'sum_properties',\n",
              " 'write_file_energy_gradients',\n",
              " 'write_file_with_hessian',\n",
              " 'write_file_with_properties',\n",
              " 'write_file_with_smiles',\n",
              " 'write_file_with_xyz_coordinates',\n",
              " 'write_file_with_xyz_derivative_properties',\n",
              " 'write_file_with_xyz_vectorial_properties',\n",
              " 'xyz_coordinates']"
            ]
          },
          "metadata": {},
          "execution_count": 16
        }
      ],
      "source": [
        "dir(acrolein_train)"
      ]
    },
    {
      "cell_type": "code",
      "execution_count": null,
      "metadata": {
        "id": "ENGGDrGz2FTw"
      },
      "outputs": [],
      "source": [
        "acrolein_train.add_scalar_properties(epots_train, \"energy\")"
      ]
    },
    {
      "cell_type": "code",
      "execution_count": null,
      "metadata": {
        "id": "HdYhO-VbS5Ef"
      },
      "outputs": [],
      "source": [
        "acrolein_train.add_xyz_derivative_properties(grads_train, \"energy\", \"energy_grad\")"
      ]
    },
    {
      "cell_type": "code",
      "execution_count": null,
      "metadata": {
        "colab": {
          "base_uri": "https://localhost:8080/"
        },
        "id": "ecLlx9wP2OwC",
        "outputId": "733f6ad8-eba6-4ab4-9958-60dc251de540"
      },
      "outputs": [
        {
          "output_type": "execute_result",
          "data": {
            "text/plain": [
              "45000"
            ]
          },
          "metadata": {},
          "execution_count": 19
        }
      ],
      "source": [
        "acrolein_train.size"
      ]
    },
    {
      "cell_type": "code",
      "execution_count": null,
      "metadata": {
        "colab": {
          "base_uri": "https://localhost:8080/"
        },
        "id": "sKo7_E-K4M2G",
        "outputId": "84123ad6-c34e-4bb1-f20d-3a25b32defc2"
      },
      "outputs": [
        {
          "output_type": "execute_result",
          "data": {
            "text/plain": [
              "(45000,)"
            ]
          },
          "metadata": {},
          "execution_count": 20
        }
      ],
      "source": [
        "acrolein_train.get_properties('energy').shape"
      ]
    },
    {
      "cell_type": "code",
      "execution_count": null,
      "metadata": {
        "colab": {
          "base_uri": "https://localhost:8080/"
        },
        "id": "Z5KKyFCBTFVx",
        "outputId": "551f085c-9973-45ce-90a9-4189b2688009"
      },
      "outputs": [
        {
          "output_type": "execute_result",
          "data": {
            "text/plain": [
              "(45000, 8, 3)"
            ]
          },
          "metadata": {},
          "execution_count": 21
        }
      ],
      "source": [
        "acrolein_train.get_xyz_derivative_properties('energy_grad').shape"
      ]
    },
    {
      "cell_type": "code",
      "execution_count": null,
      "metadata": {
        "id": "bBHu6Civ3fn-"
      },
      "outputs": [],
      "source": [
        "import random\n",
        "import torch\n",
        "import os\n",
        "import sys\n",
        "import numpy as np\n",
        "import pandas as pd\n",
        "import ulamdyn as ulmd\n",
        "import torch\n",
        "import torchani\n",
        "from mlatom.data import molecular_database, molecule\n",
        "from mlatom.interfaces.torchani_interface import ani\n",
        "from mlatom.constants import Hartree2eV, Angstrom2Bohr"
      ]
    },
    {
      "cell_type": "code",
      "execution_count": null,
      "metadata": {
        "id": "WEat_Cfphy1-"
      },
      "outputs": [],
      "source": [
        "def set_seed(seed):\n",
        "    # Set the seed for the Python random module\n",
        "    random.seed(seed)\n",
        "\n",
        "    # Set the seed for NumPy\n",
        "    np.random.seed(seed)\n",
        "\n",
        "    # Set the seed for PyTorch (CPU)\n",
        "    torch.manual_seed(seed)\n",
        "\n",
        "    # If using a GPU, set the seed for PyTorch (GPU)\n",
        "    if torch.cuda.is_available():\n",
        "        torch.cuda.manual_seed(seed)\n",
        "        torch.cuda.manual_seed_all(seed)  # if you are using multi-GPU.\n",
        "\n",
        "    # Ensure deterministic behavior for some operations\n",
        "    torch.backends.cudnn.deterministic = True\n",
        "    torch.backends.cudnn.benchmark = False\n",
        "\n",
        "# Set a seed value\n",
        "seed = 0\n",
        "set_seed(seed)"
      ]
    },
    {
      "cell_type": "code",
      "execution_count": null,
      "metadata": {
        "id": "sJHpYOs6rFkQ"
      },
      "outputs": [],
      "source": [
        "hyperparams = models.hyperparameters({\n",
        "        #### Training ####\n",
        "        'batch_size':           models.hyperparameter(value=128, minval=1, maxval=1024, optimization_space='linear', dtype=int),\n",
        "        'max_epochs':           models.hyperparameter(value=1000, minval=100, maxval=1000000, optimization_space='log', dtype=int),\n",
        "        'learning_rate':                    models.hyperparameter(value=0.001, minval=0.0001, maxval=0.01, optimization_space='log'),\n",
        "        'early_stopping_learning_rate':     models.hyperparameter(value=1.0E-7, minval=1.0E-6, maxval=1.0E-4, optimization_space='log'),\n",
        "        'lr_reduce_patience':   models.hyperparameter(value=50, minval=16, maxval=256, optimization_space='linear'),\n",
        "        'lr_reduce_factor':     models.hyperparameter(value=0.8, minval=0.1, maxval=0.9, optimization_space='linear'),\n",
        "        'lr_reduce_threshold':  models.hyperparameter(value=0.0, minval=-0.01, maxval=0.01, optimization_space='linear'),\n",
        "        #### Loss ####\n",
        "        'force_coefficient':    models.hyperparameter(value=0.1, minval=0.05, maxval=5, optimization_space='linear'),\n",
        "        'median_loss':          models.hyperparameter(value=False),\n",
        "        'validation_loss_type': models.hyperparameter(value='mean_RMSE', choices=['MSE', 'mean_RMSE']),\n",
        "        #### Network ####\n",
        "        \"neurons\":              models.hyperparameter(value=[[72, 64, 64, 16]]),\n",
        "        \"activation_function\":  models.hyperparameter(value=lambda: torch.nn.CELU(), optimization_space='choice', choices=[\"CELU\", \"ReLU\", \"GELU\"]),\n",
        "        \"fixed_layers\":         models.hyperparameter(value=False),\n",
        "        #### AEV ####\n",
        "        'Rcr':                  models.hyperparameter(value=5.2000e+00, minval=1.0, maxval=10.0, optimization_space='linear'),\n",
        "        'Rca':                  models.hyperparameter(value=3.5000e+00, minval=1.0, maxval=10.0, optimization_space='linear'),\n",
        "        'EtaR':                 models.hyperparameter(value=[1.6000000e+01]),\n",
        "        'ShfR':                 models.hyperparameter(value=[9.0000000e-01, 1.1687500e+00, 1.4375000e+00, 1.7062500e+00, 1.9750000e+00, 2.2437500e+00, 2.5125000e+00, 2.7812500e+00, 3.0500000e+00, 3.3187500e+00, 3.5875000e+00, 3.8562500e+00, 4.1250000e+00, 4.3937500e+00, 4.6625000e+00, 4.9312500e+00]),\n",
        "        'Zeta':                 models.hyperparameter(value=[3.2000000e+01]),\n",
        "        'ShfZ':                 models.hyperparameter(value=[1.9634954e-01, 5.8904862e-01, 9.8174770e-01, 1.3744468e+00, 1.7671459e+00, 2.1598449e+00, 2.5525440e+00, 2.9452431e+00]),\n",
        "        'EtaA':                 models.hyperparameter(value=[8.0000000e+00]),\n",
        "        'ShfA':                 models.hyperparameter(value=[9.0000000e-01, 1.5500000e+00, 2.2000000e+00, 2.8500000e+00]),\n",
        "    })"
      ]
    },
    {
      "cell_type": "code",
      "execution_count": null,
      "metadata": {
        "colab": {
          "base_uri": "https://localhost:8080/"
        },
        "id": "Y_J70_Kz3qqn",
        "outputId": "1107e62b-f8fa-489d-b39a-4028bfc5b9d1"
      },
      "outputs": [
        {
          "output_type": "stream",
          "name": "stdout",
          "text": [
            "the trained ANI model will be saved in ani_acrolein.pt\n"
          ]
        }
      ],
      "source": [
        "model_ani = ani(\"ani_acrolein.pt\")\n",
        "model_ani.hyperparameters = hyperparams"
      ]
    },
    {
      "cell_type": "code",
      "execution_count": null,
      "metadata": {
        "colab": {
          "base_uri": "https://localhost:8080/"
        },
        "id": "dfHvFwXo3vVf",
        "outputId": "5ea5a815-e455-477e-cb61-fc9df2cd2350"
      },
      "outputs": [
        {
          "metadata": {
            "tags": null
          },
          "name": "stdout",
          "output_type": "stream",
          "text": [
            "Sequential(\n",
            "  (0): AEVComputer()\n",
            "  (1): ANIModel(\n",
            "    (C): Sequential(\n",
            "      (0): Linear(in_features=240, out_features=72, bias=True)\n",
            "      (1): CELU(alpha=1.0)\n",
            "      (2): Linear(in_features=72, out_features=64, bias=True)\n",
            "      (3): CELU(alpha=1.0)\n",
            "      (4): Linear(in_features=64, out_features=64, bias=True)\n",
            "      (5): CELU(alpha=1.0)\n",
            "      (6): Linear(in_features=64, out_features=16, bias=True)\n",
            "      (7): CELU(alpha=1.0)\n",
            "      (8): Linear(in_features=16, out_features=1, bias=True)\n",
            "    )\n",
            "    (H): Sequential(\n",
            "      (0): Linear(in_features=240, out_features=72, bias=True)\n",
            "      (1): CELU(alpha=1.0)\n",
            "      (2): Linear(in_features=72, out_features=64, bias=True)\n",
            "      (3): CELU(alpha=1.0)\n",
            "      (4): Linear(in_features=64, out_features=64, bias=True)\n",
            "      (5): CELU(alpha=1.0)\n",
            "      (6): Linear(in_features=64, out_features=16, bias=True)\n",
            "      (7): CELU(alpha=1.0)\n",
            "      (8): Linear(in_features=16, out_features=1, bias=True)\n",
            "    )\n",
            "    (O): Sequential(\n",
            "      (0): Linear(in_features=240, out_features=72, bias=True)\n",
            "      (1): CELU(alpha=1.0)\n",
            "      (2): Linear(in_features=72, out_features=64, bias=True)\n",
            "      (3): CELU(alpha=1.0)\n",
            "      (4): Linear(in_features=64, out_features=64, bias=True)\n",
            "      (5): CELU(alpha=1.0)\n",
            "      (6): Linear(in_features=64, out_features=16, bias=True)\n",
            "      (7): CELU(alpha=1.0)\n",
            "      (8): Linear(in_features=16, out_features=1, bias=True)\n",
            "    )\n",
            "  )\n",
            ")\n",
            "training starting from epoch 1\n",
            "validation loss: 0.06886480988396539 at epoch 1\n",
            "learning_rate: 0.001\n",
            "model saved in ani_acrolein.pt\n"
          ]
        },
        {
          "metadata": {
            "tags": null
          },
          "name": "stderr",
          "output_type": "stream",
          "text": [
            "epoch 1: 100%|██████████| 282/282 [00:07<00:00, 35.80it/s]\n"
          ]
        },
        {
          "metadata": {
            "tags": null
          },
          "name": "stdout",
          "output_type": "stream",
          "text": [
            "validation loss: 0.01241582860549291 at epoch 2\n",
            "learning_rate: 0.001\n",
            "model saved in ani_acrolein.pt\n"
          ]
        },
        {
          "metadata": {
            "tags": null
          },
          "name": "stderr",
          "output_type": "stream",
          "text": [
            "epoch 2: 100%|██████████| 282/282 [00:08<00:00, 34.28it/s]\n"
          ]
        },
        {
          "metadata": {
            "tags": null
          },
          "name": "stdout",
          "output_type": "stream",
          "text": [
            "validation loss: 0.004837781601481968 at epoch 3\n",
            "learning_rate: 0.001\n",
            "model saved in ani_acrolein.pt\n"
          ]
        },
        {
          "metadata": {
            "tags": null
          },
          "name": "stderr",
          "output_type": "stream",
          "text": [
            "epoch 3: 100%|██████████| 282/282 [00:08<00:00, 34.55it/s]\n"
          ]
        },
        {
          "metadata": {
            "tags": null
          },
          "name": "stdout",
          "output_type": "stream",
          "text": [
            "validation loss: 0.009803978979587555 at epoch 4\n",
            "learning_rate: 0.001\n"
          ]
        },
        {
          "metadata": {
            "tags": null
          },
          "name": "stderr",
          "output_type": "stream",
          "text": [
            "epoch 4: 100%|██████████| 282/282 [00:07<00:00, 37.52it/s]\n"
          ]
        },
        {
          "metadata": {
            "tags": null
          },
          "name": "stdout",
          "output_type": "stream",
          "text": [
            "validation loss: 0.0033736433005995222 at epoch 5\n",
            "learning_rate: 0.001\n",
            "model saved in ani_acrolein.pt\n"
          ]
        },
        {
          "metadata": {
            "tags": null
          },
          "name": "stderr",
          "output_type": "stream",
          "text": [
            "epoch 5: 100%|██████████| 282/282 [00:08<00:00, 33.71it/s]\n"
          ]
        },
        {
          "metadata": {
            "tags": null
          },
          "name": "stdout",
          "output_type": "stream",
          "text": [
            "validation loss: 0.032826159132851494 at epoch 6\n",
            "learning_rate: 0.001\n"
          ]
        },
        {
          "metadata": {
            "tags": null
          },
          "name": "stderr",
          "output_type": "stream",
          "text": [
            "epoch 6: 100%|██████████| 282/282 [00:08<00:00, 34.69it/s]\n"
          ]
        },
        {
          "metadata": {
            "tags": null
          },
          "name": "stdout",
          "output_type": "stream",
          "text": [
            "validation loss: 0.002934562948015001 at epoch 7\n",
            "learning_rate: 0.001\n",
            "model saved in ani_acrolein.pt\n"
          ]
        },
        {
          "metadata": {
            "tags": null
          },
          "name": "stderr",
          "output_type": "stream",
          "text": [
            "epoch 7: 100%|██████████| 282/282 [00:07<00:00, 37.77it/s]\n"
          ]
        },
        {
          "metadata": {
            "tags": null
          },
          "name": "stdout",
          "output_type": "stream",
          "text": [
            "validation loss: 0.0029592056572437285 at epoch 8\n",
            "learning_rate: 0.001\n"
          ]
        },
        {
          "metadata": {
            "tags": null
          },
          "name": "stderr",
          "output_type": "stream",
          "text": [
            "epoch 8: 100%|██████████| 282/282 [00:08<00:00, 34.34it/s]\n"
          ]
        },
        {
          "metadata": {
            "tags": null
          },
          "name": "stdout",
          "output_type": "stream",
          "text": [
            "validation loss: 0.006129677140050464 at epoch 9\n",
            "learning_rate: 0.001\n"
          ]
        },
        {
          "metadata": {
            "tags": null
          },
          "name": "stderr",
          "output_type": "stream",
          "text": [
            "epoch 9: 100%|██████████| 282/282 [00:08<00:00, 34.27it/s]\n"
          ]
        },
        {
          "metadata": {
            "tags": null
          },
          "name": "stdout",
          "output_type": "stream",
          "text": [
            "validation loss: 0.0030545854055219228 at epoch 10\n",
            "learning_rate: 0.001\n"
          ]
        },
        {
          "metadata": {
            "tags": null
          },
          "name": "stderr",
          "output_type": "stream",
          "text": [
            "epoch 10: 100%|██████████| 282/282 [00:07<00:00, 37.76it/s]\n"
          ]
        },
        {
          "metadata": {
            "tags": null
          },
          "name": "stdout",
          "output_type": "stream",
          "text": [
            "validation loss: 0.00246390206946267 at epoch 11\n",
            "learning_rate: 0.001\n",
            "model saved in ani_acrolein.pt\n"
          ]
        },
        {
          "metadata": {
            "tags": null
          },
          "name": "stderr",
          "output_type": "stream",
          "text": [
            "epoch 11: 100%|██████████| 282/282 [00:08<00:00, 34.39it/s]\n"
          ]
        },
        {
          "metadata": {
            "tags": null
          },
          "name": "stdout",
          "output_type": "stream",
          "text": [
            "validation loss: 0.00231132257812553 at epoch 12\n",
            "learning_rate: 0.001\n",
            "model saved in ani_acrolein.pt\n"
          ]
        },
        {
          "metadata": {
            "tags": null
          },
          "name": "stderr",
          "output_type": "stream",
          "text": [
            "epoch 12: 100%|██████████| 282/282 [00:08<00:00, 34.68it/s]\n"
          ]
        },
        {
          "metadata": {
            "tags": null
          },
          "name": "stdout",
          "output_type": "stream",
          "text": [
            "validation loss: 0.009929813279045952 at epoch 13\n",
            "learning_rate: 0.001\n"
          ]
        },
        {
          "metadata": {
            "tags": null
          },
          "name": "stderr",
          "output_type": "stream",
          "text": [
            "epoch 13: 100%|██████████| 282/282 [00:07<00:00, 37.08it/s]\n"
          ]
        },
        {
          "metadata": {
            "tags": null
          },
          "name": "stdout",
          "output_type": "stream",
          "text": [
            "validation loss: 0.006594942222038905 at epoch 14\n",
            "learning_rate: 0.001\n"
          ]
        },
        {
          "metadata": {
            "tags": null
          },
          "name": "stderr",
          "output_type": "stream",
          "text": [
            "epoch 14: 100%|██████████| 282/282 [00:08<00:00, 34.10it/s]\n"
          ]
        },
        {
          "metadata": {
            "tags": null
          },
          "name": "stdout",
          "output_type": "stream",
          "text": [
            "validation loss: 0.0036238910622066922 at epoch 15\n",
            "learning_rate: 0.001\n"
          ]
        },
        {
          "metadata": {
            "tags": null
          },
          "name": "stderr",
          "output_type": "stream",
          "text": [
            "epoch 15: 100%|██████████| 282/282 [00:08<00:00, 33.61it/s]\n"
          ]
        },
        {
          "metadata": {
            "tags": null
          },
          "name": "stdout",
          "output_type": "stream",
          "text": [
            "validation loss: 0.0031603787988424303 at epoch 16\n",
            "learning_rate: 0.001\n"
          ]
        },
        {
          "metadata": {
            "tags": null
          },
          "name": "stderr",
          "output_type": "stream",
          "text": [
            "epoch 16: 100%|██████████| 282/282 [00:07<00:00, 38.40it/s]\n"
          ]
        },
        {
          "metadata": {
            "tags": null
          },
          "name": "stdout",
          "output_type": "stream",
          "text": [
            "validation loss: 0.003429109720720185 at epoch 17\n",
            "learning_rate: 0.001\n"
          ]
        },
        {
          "metadata": {
            "tags": null
          },
          "name": "stderr",
          "output_type": "stream",
          "text": [
            "epoch 17: 100%|██████████| 282/282 [00:08<00:00, 34.50it/s]\n"
          ]
        },
        {
          "metadata": {
            "tags": null
          },
          "name": "stdout",
          "output_type": "stream",
          "text": [
            "validation loss: 0.0036372157898214128 at epoch 18\n",
            "learning_rate: 0.001\n"
          ]
        },
        {
          "metadata": {
            "tags": null
          },
          "name": "stderr",
          "output_type": "stream",
          "text": [
            "epoch 18: 100%|██████████| 282/282 [00:08<00:00, 34.43it/s]\n"
          ]
        },
        {
          "metadata": {
            "tags": null
          },
          "name": "stdout",
          "output_type": "stream",
          "text": [
            "validation loss: 0.003736145082447264 at epoch 19\n",
            "learning_rate: 0.001\n"
          ]
        },
        {
          "metadata": {
            "tags": null
          },
          "name": "stderr",
          "output_type": "stream",
          "text": [
            "epoch 19: 100%|██████████| 282/282 [00:07<00:00, 38.25it/s]\n"
          ]
        },
        {
          "metadata": {
            "tags": null
          },
          "name": "stdout",
          "output_type": "stream",
          "text": [
            "validation loss: 0.003808058116171095 at epoch 20\n",
            "learning_rate: 0.001\n"
          ]
        },
        {
          "metadata": {
            "tags": null
          },
          "name": "stderr",
          "output_type": "stream",
          "text": [
            "epoch 20: 100%|██████████| 282/282 [00:08<00:00, 33.87it/s]\n"
          ]
        },
        {
          "metadata": {
            "tags": null
          },
          "name": "stdout",
          "output_type": "stream",
          "text": [
            "validation loss: 0.00453014686703682 at epoch 21\n",
            "learning_rate: 0.001\n"
          ]
        },
        {
          "metadata": {
            "tags": null
          },
          "name": "stderr",
          "output_type": "stream",
          "text": [
            "epoch 21: 100%|██████████| 282/282 [00:08<00:00, 34.41it/s]\n"
          ]
        },
        {
          "metadata": {
            "tags": null
          },
          "name": "stdout",
          "output_type": "stream",
          "text": [
            "validation loss: 0.0035509887006547718 at epoch 22\n",
            "learning_rate: 0.001\n"
          ]
        },
        {
          "metadata": {
            "tags": null
          },
          "name": "stderr",
          "output_type": "stream",
          "text": [
            "epoch 22: 100%|██████████| 282/282 [00:07<00:00, 38.31it/s]\n"
          ]
        },
        {
          "metadata": {
            "tags": null
          },
          "name": "stdout",
          "output_type": "stream",
          "text": [
            "validation loss: 0.003473807050122155 at epoch 23\n",
            "learning_rate: 0.001\n"
          ]
        },
        {
          "metadata": {
            "tags": null
          },
          "name": "stderr",
          "output_type": "stream",
          "text": [
            "epoch 23: 100%|██████████| 282/282 [00:08<00:00, 34.65it/s]\n"
          ]
        },
        {
          "metadata": {
            "tags": null
          },
          "name": "stdout",
          "output_type": "stream",
          "text": [
            "validation loss: 0.003437918980916341 at epoch 24\n",
            "learning_rate: 0.001\n"
          ]
        },
        {
          "metadata": {
            "tags": null
          },
          "name": "stderr",
          "output_type": "stream",
          "text": [
            "epoch 24: 100%|██████████| 282/282 [00:08<00:00, 33.76it/s]\n"
          ]
        },
        {
          "metadata": {
            "tags": null
          },
          "name": "stdout",
          "output_type": "stream",
          "text": [
            "validation loss: 0.0033023178544309404 at epoch 25\n",
            "learning_rate: 0.001\n"
          ]
        },
        {
          "metadata": {
            "tags": null
          },
          "name": "stderr",
          "output_type": "stream",
          "text": [
            "epoch 25: 100%|██████████| 282/282 [00:07<00:00, 37.77it/s]\n"
          ]
        },
        {
          "metadata": {
            "tags": null
          },
          "name": "stdout",
          "output_type": "stream",
          "text": [
            "validation loss: 0.003920941909154256 at epoch 26\n",
            "learning_rate: 0.001\n"
          ]
        },
        {
          "metadata": {
            "tags": null
          },
          "name": "stderr",
          "output_type": "stream",
          "text": [
            "epoch 26: 100%|██████████| 282/282 [00:08<00:00, 34.44it/s]\n"
          ]
        },
        {
          "metadata": {
            "tags": null
          },
          "name": "stdout",
          "output_type": "stream",
          "text": [
            "validation loss: 0.002931062165233824 at epoch 27\n",
            "learning_rate: 0.001\n"
          ]
        },
        {
          "metadata": {
            "tags": null
          },
          "name": "stderr",
          "output_type": "stream",
          "text": [
            "epoch 27: 100%|██████████| 282/282 [00:08<00:00, 34.22it/s]\n"
          ]
        },
        {
          "metadata": {
            "tags": null
          },
          "name": "stdout",
          "output_type": "stream",
          "text": [
            "validation loss: 0.003045145702030924 at epoch 28\n",
            "learning_rate: 0.001\n"
          ]
        },
        {
          "metadata": {
            "tags": null
          },
          "name": "stderr",
          "output_type": "stream",
          "text": [
            "epoch 28: 100%|██████████| 282/282 [00:07<00:00, 38.20it/s]\n"
          ]
        },
        {
          "metadata": {
            "tags": null
          },
          "name": "stdout",
          "output_type": "stream",
          "text": [
            "validation loss: 0.002591000818543964 at epoch 29\n",
            "learning_rate: 0.001\n"
          ]
        },
        {
          "metadata": {
            "tags": null
          },
          "name": "stderr",
          "output_type": "stream",
          "text": [
            "epoch 29: 100%|██████████| 282/282 [00:08<00:00, 34.66it/s]\n"
          ]
        },
        {
          "metadata": {
            "tags": null
          },
          "name": "stdout",
          "output_type": "stream",
          "text": [
            "validation loss: 0.002401553205317921 at epoch 30\n",
            "learning_rate: 0.001\n"
          ]
        },
        {
          "metadata": {
            "tags": null
          },
          "name": "stderr",
          "output_type": "stream",
          "text": [
            "epoch 30: 100%|██████████| 282/282 [00:08<00:00, 34.34it/s]\n"
          ]
        },
        {
          "metadata": {
            "tags": null
          },
          "name": "stdout",
          "output_type": "stream",
          "text": [
            "validation loss: 0.002895032379362318 at epoch 31\n",
            "learning_rate: 0.001\n"
          ]
        },
        {
          "metadata": {
            "tags": null
          },
          "name": "stderr",
          "output_type": "stream",
          "text": [
            "epoch 31: 100%|██████████| 282/282 [00:07<00:00, 38.12it/s]\n"
          ]
        },
        {
          "metadata": {
            "tags": null
          },
          "name": "stdout",
          "output_type": "stream",
          "text": [
            "validation loss: 0.0016700614591439566 at epoch 32\n",
            "learning_rate: 0.001\n",
            "model saved in ani_acrolein.pt\n"
          ]
        },
        {
          "metadata": {
            "tags": null
          },
          "name": "stderr",
          "output_type": "stream",
          "text": [
            "epoch 32: 100%|██████████| 282/282 [00:08<00:00, 34.37it/s]\n"
          ]
        },
        {
          "metadata": {
            "tags": null
          },
          "name": "stdout",
          "output_type": "stream",
          "text": [
            "validation loss: 0.0017070775462521446 at epoch 33\n",
            "learning_rate: 0.001\n"
          ]
        },
        {
          "metadata": {
            "tags": null
          },
          "name": "stderr",
          "output_type": "stream",
          "text": [
            "epoch 33: 100%|██████████| 282/282 [00:08<00:00, 34.44it/s]\n"
          ]
        },
        {
          "metadata": {
            "tags": null
          },
          "name": "stdout",
          "output_type": "stream",
          "text": [
            "validation loss: 0.0014760154891345237 at epoch 34\n",
            "learning_rate: 0.001\n",
            "model saved in ani_acrolein.pt\n"
          ]
        },
        {
          "metadata": {
            "tags": null
          },
          "name": "stderr",
          "output_type": "stream",
          "text": [
            "epoch 34: 100%|██████████| 282/282 [00:07<00:00, 38.35it/s]\n"
          ]
        },
        {
          "metadata": {
            "tags": null
          },
          "name": "stdout",
          "output_type": "stream",
          "text": [
            "validation loss: 0.0014569685674375957 at epoch 35\n",
            "learning_rate: 0.001\n",
            "model saved in ani_acrolein.pt\n"
          ]
        },
        {
          "metadata": {
            "tags": null
          },
          "name": "stderr",
          "output_type": "stream",
          "text": [
            "epoch 35: 100%|██████████| 282/282 [00:08<00:00, 34.57it/s]\n"
          ]
        },
        {
          "metadata": {
            "tags": null
          },
          "name": "stdout",
          "output_type": "stream",
          "text": [
            "validation loss: 0.004634317408005397 at epoch 36\n",
            "learning_rate: 0.001\n"
          ]
        },
        {
          "metadata": {
            "tags": null
          },
          "name": "stderr",
          "output_type": "stream",
          "text": [
            "epoch 36: 100%|██████████| 282/282 [00:08<00:00, 34.58it/s]\n"
          ]
        },
        {
          "metadata": {
            "tags": null
          },
          "name": "stdout",
          "output_type": "stream",
          "text": [
            "validation loss: 0.001377014312479231 at epoch 37\n",
            "learning_rate: 0.001\n",
            "model saved in ani_acrolein.pt\n"
          ]
        },
        {
          "metadata": {
            "tags": null
          },
          "name": "stderr",
          "output_type": "stream",
          "text": [
            "epoch 37: 100%|██████████| 282/282 [00:07<00:00, 38.25it/s]\n"
          ]
        },
        {
          "metadata": {
            "tags": null
          },
          "name": "stdout",
          "output_type": "stream",
          "text": [
            "validation loss: 0.0013648719547523392 at epoch 38\n",
            "learning_rate: 0.001\n",
            "model saved in ani_acrolein.pt\n"
          ]
        },
        {
          "metadata": {
            "tags": null
          },
          "name": "stderr",
          "output_type": "stream",
          "text": [
            "epoch 38: 100%|██████████| 282/282 [00:08<00:00, 34.06it/s]\n"
          ]
        },
        {
          "metadata": {
            "tags": null
          },
          "name": "stdout",
          "output_type": "stream",
          "text": [
            "validation loss: 0.003727921449475818 at epoch 39\n",
            "learning_rate: 0.001\n"
          ]
        },
        {
          "metadata": {
            "tags": null
          },
          "name": "stderr",
          "output_type": "stream",
          "text": [
            "epoch 39: 100%|██████████| 282/282 [00:08<00:00, 34.45it/s]\n"
          ]
        },
        {
          "metadata": {
            "tags": null
          },
          "name": "stdout",
          "output_type": "stream",
          "text": [
            "validation loss: 0.0013553478543957074 at epoch 40\n",
            "learning_rate: 0.001\n",
            "model saved in ani_acrolein.pt\n"
          ]
        },
        {
          "metadata": {
            "tags": null
          },
          "name": "stderr",
          "output_type": "stream",
          "text": [
            "epoch 40: 100%|██████████| 282/282 [00:07<00:00, 38.32it/s]\n"
          ]
        },
        {
          "metadata": {
            "tags": null
          },
          "name": "stdout",
          "output_type": "stream",
          "text": [
            "validation loss: 0.0013214853182435037 at epoch 41\n",
            "learning_rate: 0.001\n",
            "model saved in ani_acrolein.pt\n"
          ]
        },
        {
          "metadata": {
            "tags": null
          },
          "name": "stderr",
          "output_type": "stream",
          "text": [
            "epoch 41: 100%|██████████| 282/282 [00:08<00:00, 34.48it/s]\n"
          ]
        },
        {
          "metadata": {
            "tags": null
          },
          "name": "stdout",
          "output_type": "stream",
          "text": [
            "validation loss: 0.00133482470528947 at epoch 42\n",
            "learning_rate: 0.001\n"
          ]
        },
        {
          "metadata": {
            "tags": null
          },
          "name": "stderr",
          "output_type": "stream",
          "text": [
            "epoch 42: 100%|██████████| 282/282 [00:08<00:00, 34.21it/s]\n"
          ]
        },
        {
          "metadata": {
            "tags": null
          },
          "name": "stdout",
          "output_type": "stream",
          "text": [
            "validation loss: 0.0013340303475658098 at epoch 43\n",
            "learning_rate: 0.001\n"
          ]
        },
        {
          "metadata": {
            "tags": null
          },
          "name": "stderr",
          "output_type": "stream",
          "text": [
            "epoch 43: 100%|██████████| 282/282 [00:07<00:00, 38.24it/s]\n"
          ]
        },
        {
          "metadata": {
            "tags": null
          },
          "name": "stdout",
          "output_type": "stream",
          "text": [
            "validation loss: 0.00213820248345534 at epoch 44\n",
            "learning_rate: 0.001\n"
          ]
        },
        {
          "metadata": {
            "tags": null
          },
          "name": "stderr",
          "output_type": "stream",
          "text": [
            "epoch 44: 100%|██████████| 282/282 [00:08<00:00, 34.17it/s]\n"
          ]
        },
        {
          "metadata": {
            "tags": null
          },
          "name": "stdout",
          "output_type": "stream",
          "text": [
            "validation loss: 0.0013485130162702666 at epoch 45\n",
            "learning_rate: 0.001\n"
          ]
        },
        {
          "metadata": {
            "tags": null
          },
          "name": "stderr",
          "output_type": "stream",
          "text": [
            "epoch 45: 100%|██████████| 282/282 [00:08<00:00, 34.65it/s]\n"
          ]
        },
        {
          "metadata": {
            "tags": null
          },
          "name": "stdout",
          "output_type": "stream",
          "text": [
            "validation loss: 0.0025227761533525256 at epoch 46\n",
            "learning_rate: 0.001\n"
          ]
        },
        {
          "metadata": {
            "tags": null
          },
          "name": "stderr",
          "output_type": "stream",
          "text": [
            "epoch 46: 100%|██████████| 282/282 [00:07<00:00, 38.29it/s]\n"
          ]
        },
        {
          "metadata": {
            "tags": null
          },
          "name": "stdout",
          "output_type": "stream",
          "text": [
            "validation loss: 0.0013094134471482702 at epoch 47\n",
            "learning_rate: 0.001\n",
            "model saved in ani_acrolein.pt\n"
          ]
        },
        {
          "metadata": {
            "tags": null
          },
          "name": "stderr",
          "output_type": "stream",
          "text": [
            "epoch 47: 100%|██████████| 282/282 [00:08<00:00, 33.94it/s]\n"
          ]
        },
        {
          "metadata": {
            "tags": null
          },
          "name": "stdout",
          "output_type": "stream",
          "text": [
            "validation loss: 0.0013117162502474255 at epoch 48\n",
            "learning_rate: 0.001\n"
          ]
        },
        {
          "metadata": {
            "tags": null
          },
          "name": "stderr",
          "output_type": "stream",
          "text": [
            "epoch 48: 100%|██████████| 282/282 [00:08<00:00, 34.88it/s]\n"
          ]
        },
        {
          "metadata": {
            "tags": null
          },
          "name": "stdout",
          "output_type": "stream",
          "text": [
            "validation loss: 0.0013183185640308593 at epoch 49\n",
            "learning_rate: 0.001\n"
          ]
        },
        {
          "metadata": {
            "tags": null
          },
          "name": "stderr",
          "output_type": "stream",
          "text": [
            "epoch 49: 100%|██████████| 282/282 [00:07<00:00, 38.03it/s]\n"
          ]
        },
        {
          "metadata": {
            "tags": null
          },
          "name": "stdout",
          "output_type": "stream",
          "text": [
            "validation loss: 0.0015213776330153148 at epoch 50\n",
            "learning_rate: 0.001\n"
          ]
        },
        {
          "metadata": {
            "tags": null
          },
          "name": "stderr",
          "output_type": "stream",
          "text": [
            "epoch 50: 100%|██████████| 282/282 [00:08<00:00, 34.69it/s]\n"
          ]
        },
        {
          "metadata": {
            "tags": null
          },
          "name": "stdout",
          "output_type": "stream",
          "text": [
            "validation loss: 0.00160079212155607 at epoch 51\n",
            "learning_rate: 0.001\n"
          ]
        },
        {
          "metadata": {
            "tags": null
          },
          "name": "stderr",
          "output_type": "stream",
          "text": [
            "epoch 51: 100%|██████████| 282/282 [00:08<00:00, 34.47it/s]\n"
          ]
        },
        {
          "metadata": {
            "tags": null
          },
          "name": "stdout",
          "output_type": "stream",
          "text": [
            "validation loss: 0.002128433820274141 at epoch 52\n",
            "learning_rate: 0.001\n"
          ]
        },
        {
          "metadata": {
            "tags": null
          },
          "name": "stderr",
          "output_type": "stream",
          "text": [
            "epoch 52: 100%|██████████| 282/282 [00:07<00:00, 38.37it/s]\n"
          ]
        },
        {
          "metadata": {
            "tags": null
          },
          "name": "stdout",
          "output_type": "stream",
          "text": [
            "validation loss: 0.0028104848497443728 at epoch 53\n",
            "learning_rate: 0.001\n"
          ]
        },
        {
          "metadata": {
            "tags": null
          },
          "name": "stderr",
          "output_type": "stream",
          "text": [
            "epoch 53: 100%|██████████| 282/282 [00:08<00:00, 34.83it/s]\n"
          ]
        },
        {
          "metadata": {
            "tags": null
          },
          "name": "stdout",
          "output_type": "stream",
          "text": [
            "validation loss: 0.0012966841186086338 at epoch 54\n",
            "learning_rate: 0.001\n",
            "model saved in ani_acrolein.pt\n"
          ]
        },
        {
          "metadata": {
            "tags": null
          },
          "name": "stderr",
          "output_type": "stream",
          "text": [
            "epoch 54: 100%|██████████| 282/282 [00:08<00:00, 34.25it/s]\n"
          ]
        },
        {
          "metadata": {
            "tags": null
          },
          "name": "stdout",
          "output_type": "stream",
          "text": [
            "validation loss: 0.0012775250780913566 at epoch 55\n",
            "learning_rate: 0.001\n",
            "model saved in ani_acrolein.pt\n"
          ]
        },
        {
          "metadata": {
            "tags": null
          },
          "name": "stderr",
          "output_type": "stream",
          "text": [
            "epoch 55: 100%|██████████| 282/282 [00:07<00:00, 38.30it/s]\n"
          ]
        },
        {
          "metadata": {
            "tags": null
          },
          "name": "stdout",
          "output_type": "stream",
          "text": [
            "validation loss: 0.0022377341174417073 at epoch 56\n",
            "learning_rate: 0.001\n"
          ]
        },
        {
          "metadata": {
            "tags": null
          },
          "name": "stderr",
          "output_type": "stream",
          "text": [
            "epoch 56: 100%|██████████| 282/282 [00:08<00:00, 33.83it/s]\n"
          ]
        },
        {
          "metadata": {
            "tags": null
          },
          "name": "stdout",
          "output_type": "stream",
          "text": [
            "validation loss: 0.0012408769155542055 at epoch 57\n",
            "learning_rate: 0.001\n",
            "model saved in ani_acrolein.pt\n"
          ]
        },
        {
          "metadata": {
            "tags": null
          },
          "name": "stderr",
          "output_type": "stream",
          "text": [
            "epoch 57: 100%|██████████| 282/282 [00:08<00:00, 33.98it/s]\n"
          ]
        },
        {
          "metadata": {
            "tags": null
          },
          "name": "stdout",
          "output_type": "stream",
          "text": [
            "validation loss: 0.001254659199880229 at epoch 58\n",
            "learning_rate: 0.001\n"
          ]
        },
        {
          "metadata": {
            "tags": null
          },
          "name": "stderr",
          "output_type": "stream",
          "text": [
            "epoch 58: 100%|██████████| 282/282 [00:07<00:00, 37.87it/s]\n"
          ]
        },
        {
          "metadata": {
            "tags": null
          },
          "name": "stdout",
          "output_type": "stream",
          "text": [
            "validation loss: 0.0032128022412459055 at epoch 59\n",
            "learning_rate: 0.001\n"
          ]
        },
        {
          "metadata": {
            "tags": null
          },
          "name": "stderr",
          "output_type": "stream",
          "text": [
            "epoch 59: 100%|██████████| 282/282 [00:08<00:00, 34.41it/s]\n"
          ]
        },
        {
          "metadata": {
            "tags": null
          },
          "name": "stdout",
          "output_type": "stream",
          "text": [
            "validation loss: 0.0012349326949980524 at epoch 60\n",
            "learning_rate: 0.001\n",
            "model saved in ani_acrolein.pt\n"
          ]
        },
        {
          "metadata": {
            "tags": null
          },
          "name": "stderr",
          "output_type": "stream",
          "text": [
            "epoch 60: 100%|██████████| 282/282 [00:08<00:00, 34.31it/s]\n"
          ]
        },
        {
          "metadata": {
            "tags": null
          },
          "name": "stdout",
          "output_type": "stream",
          "text": [
            "validation loss: 0.001147495006521543 at epoch 61\n",
            "learning_rate: 0.001\n",
            "model saved in ani_acrolein.pt\n"
          ]
        },
        {
          "metadata": {
            "tags": null
          },
          "name": "stderr",
          "output_type": "stream",
          "text": [
            "epoch 61: 100%|██████████| 282/282 [00:07<00:00, 38.13it/s]\n"
          ]
        },
        {
          "metadata": {
            "tags": null
          },
          "name": "stdout",
          "output_type": "stream",
          "text": [
            "validation loss: 0.001328684409459432 at epoch 62\n",
            "learning_rate: 0.001\n"
          ]
        },
        {
          "metadata": {
            "tags": null
          },
          "name": "stderr",
          "output_type": "stream",
          "text": [
            "epoch 62: 100%|██████████| 282/282 [00:08<00:00, 34.86it/s]\n"
          ]
        },
        {
          "metadata": {
            "tags": null
          },
          "name": "stdout",
          "output_type": "stream",
          "text": [
            "validation loss: 0.00165873145725992 at epoch 63\n",
            "learning_rate: 0.001\n"
          ]
        },
        {
          "metadata": {
            "tags": null
          },
          "name": "stderr",
          "output_type": "stream",
          "text": [
            "epoch 63: 100%|██████████| 282/282 [00:08<00:00, 34.42it/s]\n"
          ]
        },
        {
          "metadata": {
            "tags": null
          },
          "name": "stdout",
          "output_type": "stream",
          "text": [
            "validation loss: 0.001238526661362913 at epoch 64\n",
            "learning_rate: 0.001\n"
          ]
        },
        {
          "metadata": {
            "tags": null
          },
          "name": "stderr",
          "output_type": "stream",
          "text": [
            "epoch 64: 100%|██████████| 282/282 [00:07<00:00, 38.36it/s]\n"
          ]
        },
        {
          "metadata": {
            "tags": null
          },
          "name": "stdout",
          "output_type": "stream",
          "text": [
            "validation loss: 0.0011173139297299915 at epoch 65\n",
            "learning_rate: 0.001\n",
            "model saved in ani_acrolein.pt\n"
          ]
        },
        {
          "metadata": {
            "tags": null
          },
          "name": "stderr",
          "output_type": "stream",
          "text": [
            "epoch 65: 100%|██████████| 282/282 [00:08<00:00, 34.12it/s]\n"
          ]
        },
        {
          "metadata": {
            "tags": null
          },
          "name": "stdout",
          "output_type": "stream",
          "text": [
            "validation loss: 0.0011040541753172875 at epoch 66\n",
            "learning_rate: 0.001\n",
            "model saved in ani_acrolein.pt\n"
          ]
        },
        {
          "metadata": {
            "tags": null
          },
          "name": "stderr",
          "output_type": "stream",
          "text": [
            "epoch 66: 100%|██████████| 282/282 [00:08<00:00, 34.55it/s]\n"
          ]
        },
        {
          "metadata": {
            "tags": null
          },
          "name": "stdout",
          "output_type": "stream",
          "text": [
            "validation loss: 0.0011182734635141161 at epoch 67\n",
            "learning_rate: 0.001\n"
          ]
        },
        {
          "metadata": {
            "tags": null
          },
          "name": "stderr",
          "output_type": "stream",
          "text": [
            "epoch 67: 100%|██████████| 282/282 [00:07<00:00, 37.87it/s]\n"
          ]
        },
        {
          "metadata": {
            "tags": null
          },
          "name": "stdout",
          "output_type": "stream",
          "text": [
            "validation loss: 0.0017384305894374847 at epoch 68\n",
            "learning_rate: 0.001\n"
          ]
        },
        {
          "metadata": {
            "tags": null
          },
          "name": "stderr",
          "output_type": "stream",
          "text": [
            "epoch 68: 100%|██████████| 282/282 [00:08<00:00, 34.12it/s]\n"
          ]
        },
        {
          "metadata": {
            "tags": null
          },
          "name": "stdout",
          "output_type": "stream",
          "text": [
            "validation loss: 0.0015222663614484998 at epoch 69\n",
            "learning_rate: 0.001\n"
          ]
        },
        {
          "metadata": {
            "tags": null
          },
          "name": "stderr",
          "output_type": "stream",
          "text": [
            "epoch 69: 100%|██████████| 282/282 [00:08<00:00, 34.42it/s]\n"
          ]
        },
        {
          "metadata": {
            "tags": null
          },
          "name": "stdout",
          "output_type": "stream",
          "text": [
            "validation loss: 0.0014867248046729299 at epoch 70\n",
            "learning_rate: 0.001\n"
          ]
        },
        {
          "metadata": {
            "tags": null
          },
          "name": "stderr",
          "output_type": "stream",
          "text": [
            "epoch 70: 100%|██████████| 282/282 [00:07<00:00, 38.10it/s]\n"
          ]
        },
        {
          "metadata": {
            "tags": null
          },
          "name": "stdout",
          "output_type": "stream",
          "text": [
            "validation loss: 0.0014380954065256648 at epoch 71\n",
            "learning_rate: 0.001\n"
          ]
        },
        {
          "metadata": {
            "tags": null
          },
          "name": "stderr",
          "output_type": "stream",
          "text": [
            "epoch 71: 100%|██████████| 282/282 [00:08<00:00, 34.58it/s]\n"
          ]
        },
        {
          "metadata": {
            "tags": null
          },
          "name": "stdout",
          "output_type": "stream",
          "text": [
            "validation loss: 0.0015773601780335108 at epoch 72\n",
            "learning_rate: 0.001\n"
          ]
        },
        {
          "metadata": {
            "tags": null
          },
          "name": "stderr",
          "output_type": "stream",
          "text": [
            "epoch 72: 100%|██████████| 282/282 [00:08<00:00, 34.45it/s]\n"
          ]
        },
        {
          "metadata": {
            "tags": null
          },
          "name": "stdout",
          "output_type": "stream",
          "text": [
            "validation loss: 0.001056017652981811 at epoch 73\n",
            "learning_rate: 0.001\n",
            "model saved in ani_acrolein.pt\n"
          ]
        },
        {
          "metadata": {
            "tags": null
          },
          "name": "stderr",
          "output_type": "stream",
          "text": [
            "epoch 73: 100%|██████████| 282/282 [00:07<00:00, 38.42it/s]\n"
          ]
        },
        {
          "metadata": {
            "tags": null
          },
          "name": "stdout",
          "output_type": "stream",
          "text": [
            "validation loss: 0.0015479369850622284 at epoch 74\n",
            "learning_rate: 0.001\n"
          ]
        },
        {
          "metadata": {
            "tags": null
          },
          "name": "stderr",
          "output_type": "stream",
          "text": [
            "epoch 74: 100%|██████████| 282/282 [00:08<00:00, 34.26it/s]\n"
          ]
        },
        {
          "metadata": {
            "tags": null
          },
          "name": "stdout",
          "output_type": "stream",
          "text": [
            "validation loss: 0.0019545940342876648 at epoch 75\n",
            "learning_rate: 0.001\n"
          ]
        },
        {
          "metadata": {
            "tags": null
          },
          "name": "stderr",
          "output_type": "stream",
          "text": [
            "epoch 75: 100%|██████████| 282/282 [00:08<00:00, 34.31it/s]\n"
          ]
        },
        {
          "metadata": {
            "tags": null
          },
          "name": "stdout",
          "output_type": "stream",
          "text": [
            "validation loss: 0.005140186458826065 at epoch 76\n",
            "learning_rate: 0.001\n"
          ]
        },
        {
          "metadata": {
            "tags": null
          },
          "name": "stderr",
          "output_type": "stream",
          "text": [
            "epoch 76: 100%|██████████| 282/282 [00:07<00:00, 38.31it/s]\n"
          ]
        },
        {
          "metadata": {
            "tags": null
          },
          "name": "stdout",
          "output_type": "stream",
          "text": [
            "validation loss: 0.0025535318007071815 at epoch 77\n",
            "learning_rate: 0.001\n"
          ]
        },
        {
          "metadata": {
            "tags": null
          },
          "name": "stderr",
          "output_type": "stream",
          "text": [
            "epoch 77: 100%|██████████| 282/282 [00:08<00:00, 34.45it/s]\n"
          ]
        },
        {
          "metadata": {
            "tags": null
          },
          "name": "stdout",
          "output_type": "stream",
          "text": [
            "validation loss: 0.0014530662852856849 at epoch 78\n",
            "learning_rate: 0.001\n"
          ]
        },
        {
          "metadata": {
            "tags": null
          },
          "name": "stderr",
          "output_type": "stream",
          "text": [
            "epoch 78: 100%|██████████| 282/282 [00:08<00:00, 34.16it/s]\n"
          ]
        },
        {
          "metadata": {
            "tags": null
          },
          "name": "stdout",
          "output_type": "stream",
          "text": [
            "validation loss: 0.0016383166222108734 at epoch 79\n",
            "learning_rate: 0.001\n"
          ]
        },
        {
          "metadata": {
            "tags": null
          },
          "name": "stderr",
          "output_type": "stream",
          "text": [
            "epoch 79: 100%|██████████| 282/282 [00:07<00:00, 38.25it/s]\n"
          ]
        },
        {
          "metadata": {
            "tags": null
          },
          "name": "stdout",
          "output_type": "stream",
          "text": [
            "validation loss: 0.0013116236271129714 at epoch 80\n",
            "learning_rate: 0.001\n"
          ]
        },
        {
          "metadata": {
            "tags": null
          },
          "name": "stderr",
          "output_type": "stream",
          "text": [
            "epoch 80: 100%|██████████| 282/282 [00:08<00:00, 34.47it/s]\n"
          ]
        },
        {
          "metadata": {
            "tags": null
          },
          "name": "stdout",
          "output_type": "stream",
          "text": [
            "validation loss: 0.0015515171314279238 at epoch 81\n",
            "learning_rate: 0.001\n"
          ]
        },
        {
          "metadata": {
            "tags": null
          },
          "name": "stderr",
          "output_type": "stream",
          "text": [
            "epoch 81: 100%|██████████| 282/282 [00:08<00:00, 34.03it/s]\n"
          ]
        },
        {
          "metadata": {
            "tags": null
          },
          "name": "stdout",
          "output_type": "stream",
          "text": [
            "validation loss: 0.001965903131498231 at epoch 82\n",
            "learning_rate: 0.001\n"
          ]
        },
        {
          "metadata": {
            "tags": null
          },
          "name": "stderr",
          "output_type": "stream",
          "text": [
            "epoch 82: 100%|██████████| 282/282 [00:07<00:00, 38.27it/s]\n"
          ]
        },
        {
          "metadata": {
            "tags": null
          },
          "name": "stdout",
          "output_type": "stream",
          "text": [
            "validation loss: 0.0011672806019584338 at epoch 83\n",
            "learning_rate: 0.001\n"
          ]
        },
        {
          "metadata": {
            "tags": null
          },
          "name": "stderr",
          "output_type": "stream",
          "text": [
            "epoch 83: 100%|██████████| 282/282 [00:08<00:00, 34.57it/s]\n"
          ]
        },
        {
          "metadata": {
            "tags": null
          },
          "name": "stdout",
          "output_type": "stream",
          "text": [
            "validation loss: 0.002260330100854238 at epoch 84\n",
            "learning_rate: 0.001\n"
          ]
        },
        {
          "metadata": {
            "tags": null
          },
          "name": "stderr",
          "output_type": "stream",
          "text": [
            "epoch 84: 100%|██████████| 282/282 [00:08<00:00, 34.69it/s]\n"
          ]
        },
        {
          "metadata": {
            "tags": null
          },
          "name": "stdout",
          "output_type": "stream",
          "text": [
            "validation loss: 0.0009994274804161654 at epoch 85\n",
            "learning_rate: 0.001\n",
            "model saved in ani_acrolein.pt\n"
          ]
        },
        {
          "metadata": {
            "tags": null
          },
          "name": "stderr",
          "output_type": "stream",
          "text": [
            "epoch 85: 100%|██████████| 282/282 [00:07<00:00, 37.94it/s]\n"
          ]
        },
        {
          "metadata": {
            "tags": null
          },
          "name": "stdout",
          "output_type": "stream",
          "text": [
            "validation loss: 0.0015566197310884794 at epoch 86\n",
            "learning_rate: 0.001\n"
          ]
        },
        {
          "metadata": {
            "tags": null
          },
          "name": "stderr",
          "output_type": "stream",
          "text": [
            "epoch 86: 100%|██████████| 282/282 [00:08<00:00, 34.45it/s]\n"
          ]
        },
        {
          "metadata": {
            "tags": null
          },
          "name": "stdout",
          "output_type": "stream",
          "text": [
            "validation loss: 0.002787502671281497 at epoch 87\n",
            "learning_rate: 0.001\n"
          ]
        },
        {
          "metadata": {
            "tags": null
          },
          "name": "stderr",
          "output_type": "stream",
          "text": [
            "epoch 87: 100%|██████████| 282/282 [00:08<00:00, 34.45it/s]\n"
          ]
        },
        {
          "metadata": {
            "tags": null
          },
          "name": "stdout",
          "output_type": "stream",
          "text": [
            "validation loss: 0.0024410958339770635 at epoch 88\n",
            "learning_rate: 0.001\n"
          ]
        },
        {
          "metadata": {
            "tags": null
          },
          "name": "stderr",
          "output_type": "stream",
          "text": [
            "epoch 88: 100%|██████████| 282/282 [00:07<00:00, 38.03it/s]\n"
          ]
        },
        {
          "metadata": {
            "tags": null
          },
          "name": "stdout",
          "output_type": "stream",
          "text": [
            "validation loss: 0.002195589433113734 at epoch 89\n",
            "learning_rate: 0.001\n"
          ]
        },
        {
          "metadata": {
            "tags": null
          },
          "name": "stderr",
          "output_type": "stream",
          "text": [
            "epoch 89: 100%|██████████| 282/282 [00:08<00:00, 34.52it/s]\n"
          ]
        },
        {
          "metadata": {
            "tags": null
          },
          "name": "stdout",
          "output_type": "stream",
          "text": [
            "validation loss: 0.0016002636601527532 at epoch 90\n",
            "learning_rate: 0.001\n"
          ]
        },
        {
          "metadata": {
            "tags": null
          },
          "name": "stderr",
          "output_type": "stream",
          "text": [
            "epoch 90: 100%|██████████| 282/282 [00:08<00:00, 34.66it/s]\n"
          ]
        },
        {
          "metadata": {
            "tags": null
          },
          "name": "stdout",
          "output_type": "stream",
          "text": [
            "validation loss: 0.006051747699578603 at epoch 91\n",
            "learning_rate: 0.001\n"
          ]
        },
        {
          "metadata": {
            "tags": null
          },
          "name": "stderr",
          "output_type": "stream",
          "text": [
            "epoch 91: 100%|██████████| 282/282 [00:07<00:00, 38.18it/s]\n"
          ]
        },
        {
          "metadata": {
            "tags": null
          },
          "name": "stdout",
          "output_type": "stream",
          "text": [
            "validation loss: 0.010148490733570523 at epoch 92\n",
            "learning_rate: 0.001\n"
          ]
        },
        {
          "metadata": {
            "tags": null
          },
          "name": "stderr",
          "output_type": "stream",
          "text": [
            "epoch 92: 100%|██████████| 282/282 [00:08<00:00, 33.82it/s]\n"
          ]
        },
        {
          "metadata": {
            "tags": null
          },
          "name": "stdout",
          "output_type": "stream",
          "text": [
            "validation loss: 0.0009569409208165275 at epoch 93\n",
            "learning_rate: 0.001\n",
            "model saved in ani_acrolein.pt\n"
          ]
        },
        {
          "metadata": {
            "tags": null
          },
          "name": "stderr",
          "output_type": "stream",
          "text": [
            "epoch 93: 100%|██████████| 282/282 [00:08<00:00, 34.07it/s]\n"
          ]
        },
        {
          "metadata": {
            "tags": null
          },
          "name": "stdout",
          "output_type": "stream",
          "text": [
            "validation loss: 0.001415863383975294 at epoch 94\n",
            "learning_rate: 0.001\n"
          ]
        },
        {
          "metadata": {
            "tags": null
          },
          "name": "stderr",
          "output_type": "stream",
          "text": [
            "epoch 94: 100%|██████████| 282/282 [00:07<00:00, 37.64it/s]\n"
          ]
        },
        {
          "metadata": {
            "tags": null
          },
          "name": "stdout",
          "output_type": "stream",
          "text": [
            "validation loss: 0.0045613577862580615 at epoch 95\n",
            "learning_rate: 0.001\n"
          ]
        },
        {
          "metadata": {
            "tags": null
          },
          "name": "stderr",
          "output_type": "stream",
          "text": [
            "epoch 95: 100%|██████████| 282/282 [00:08<00:00, 34.28it/s]\n"
          ]
        },
        {
          "metadata": {
            "tags": null
          },
          "name": "stdout",
          "output_type": "stream",
          "text": [
            "validation loss: 0.004781709081596798 at epoch 96\n",
            "learning_rate: 0.001\n"
          ]
        },
        {
          "metadata": {
            "tags": null
          },
          "name": "stderr",
          "output_type": "stream",
          "text": [
            "epoch 96: 100%|██████████| 282/282 [00:08<00:00, 34.43it/s]\n"
          ]
        },
        {
          "metadata": {
            "tags": null
          },
          "name": "stdout",
          "output_type": "stream",
          "text": [
            "validation loss: 0.0012866608980629179 at epoch 97\n",
            "learning_rate: 0.001\n"
          ]
        },
        {
          "metadata": {
            "tags": null
          },
          "name": "stderr",
          "output_type": "stream",
          "text": [
            "epoch 97: 100%|██████████| 282/282 [00:07<00:00, 38.25it/s]\n"
          ]
        },
        {
          "metadata": {
            "tags": null
          },
          "name": "stdout",
          "output_type": "stream",
          "text": [
            "validation loss: 0.0009523046931458844 at epoch 98\n",
            "learning_rate: 0.001\n",
            "model saved in ani_acrolein.pt\n"
          ]
        },
        {
          "metadata": {
            "tags": null
          },
          "name": "stderr",
          "output_type": "stream",
          "text": [
            "epoch 98: 100%|██████████| 282/282 [00:08<00:00, 34.31it/s]\n"
          ]
        },
        {
          "metadata": {
            "tags": null
          },
          "name": "stdout",
          "output_type": "stream",
          "text": [
            "validation loss: 0.004654463946819305 at epoch 99\n",
            "learning_rate: 0.001\n"
          ]
        },
        {
          "metadata": {
            "tags": null
          },
          "name": "stderr",
          "output_type": "stream",
          "text": [
            "epoch 99: 100%|██████████| 282/282 [00:08<00:00, 33.89it/s]\n"
          ]
        },
        {
          "metadata": {
            "tags": null
          },
          "name": "stdout",
          "output_type": "stream",
          "text": [
            "validation loss: 0.0023341635598076713 at epoch 100\n",
            "learning_rate: 0.001\n"
          ]
        },
        {
          "metadata": {
            "tags": null
          },
          "name": "stderr",
          "output_type": "stream",
          "text": [
            "epoch 100: 100%|██████████| 282/282 [00:07<00:00, 38.15it/s]\n"
          ]
        },
        {
          "metadata": {
            "tags": null
          },
          "name": "stdout",
          "output_type": "stream",
          "text": [
            "validation loss: 0.0041962378587987684 at epoch 101\n",
            "learning_rate: 0.001\n"
          ]
        },
        {
          "metadata": {
            "tags": null
          },
          "name": "stderr",
          "output_type": "stream",
          "text": [
            "epoch 101: 100%|██████████| 282/282 [00:08<00:00, 34.06it/s]\n"
          ]
        },
        {
          "metadata": {
            "tags": null
          },
          "name": "stdout",
          "output_type": "stream",
          "text": [
            "validation loss: 0.004155261036422517 at epoch 102\n",
            "learning_rate: 0.001\n"
          ]
        },
        {
          "metadata": {
            "tags": null
          },
          "name": "stderr",
          "output_type": "stream",
          "text": [
            "epoch 102: 100%|██████████| 282/282 [00:08<00:00, 34.41it/s]\n"
          ]
        },
        {
          "metadata": {
            "tags": null
          },
          "name": "stdout",
          "output_type": "stream",
          "text": [
            "validation loss: 0.001346803235510985 at epoch 103\n",
            "learning_rate: 0.001\n"
          ]
        },
        {
          "metadata": {
            "tags": null
          },
          "name": "stderr",
          "output_type": "stream",
          "text": [
            "epoch 103: 100%|██████████| 282/282 [00:07<00:00, 38.16it/s]\n"
          ]
        },
        {
          "metadata": {
            "tags": null
          },
          "name": "stdout",
          "output_type": "stream",
          "text": [
            "validation loss: 0.009837887936168247 at epoch 104\n",
            "learning_rate: 0.001\n"
          ]
        },
        {
          "metadata": {
            "tags": null
          },
          "name": "stderr",
          "output_type": "stream",
          "text": [
            "epoch 104: 100%|██████████| 282/282 [00:08<00:00, 33.99it/s]\n"
          ]
        },
        {
          "metadata": {
            "tags": null
          },
          "name": "stdout",
          "output_type": "stream",
          "text": [
            "validation loss: 0.003640643497308095 at epoch 105\n",
            "learning_rate: 0.001\n"
          ]
        },
        {
          "metadata": {
            "tags": null
          },
          "name": "stderr",
          "output_type": "stream",
          "text": [
            "epoch 105: 100%|██████████| 282/282 [00:08<00:00, 34.30it/s]\n"
          ]
        },
        {
          "metadata": {
            "tags": null
          },
          "name": "stdout",
          "output_type": "stream",
          "text": [
            "validation loss: 0.001208948598139816 at epoch 106\n",
            "learning_rate: 0.001\n"
          ]
        },
        {
          "metadata": {
            "tags": null
          },
          "name": "stderr",
          "output_type": "stream",
          "text": [
            "epoch 106: 100%|██████████| 282/282 [00:07<00:00, 37.94it/s]\n"
          ]
        },
        {
          "metadata": {
            "tags": null
          },
          "name": "stdout",
          "output_type": "stream",
          "text": [
            "validation loss: 0.003575889855623245 at epoch 107\n",
            "learning_rate: 0.001\n"
          ]
        },
        {
          "metadata": {
            "tags": null
          },
          "name": "stderr",
          "output_type": "stream",
          "text": [
            "epoch 107: 100%|██████████| 282/282 [00:08<00:00, 34.09it/s]\n"
          ]
        },
        {
          "metadata": {
            "tags": null
          },
          "name": "stdout",
          "output_type": "stream",
          "text": [
            "validation loss: 0.001244384309483899 at epoch 108\n",
            "learning_rate: 0.001\n"
          ]
        },
        {
          "metadata": {
            "tags": null
          },
          "name": "stderr",
          "output_type": "stream",
          "text": [
            "epoch 108: 100%|██████████| 282/282 [00:08<00:00, 34.59it/s]\n"
          ]
        },
        {
          "metadata": {
            "tags": null
          },
          "name": "stdout",
          "output_type": "stream",
          "text": [
            "validation loss: 0.0027623126837942337 at epoch 109\n",
            "learning_rate: 0.001\n"
          ]
        },
        {
          "metadata": {
            "tags": null
          },
          "name": "stderr",
          "output_type": "stream",
          "text": [
            "epoch 109: 100%|██████████| 282/282 [00:07<00:00, 37.96it/s]\n"
          ]
        },
        {
          "metadata": {
            "tags": null
          },
          "name": "stdout",
          "output_type": "stream",
          "text": [
            "validation loss: 0.006198337306578954 at epoch 110\n",
            "learning_rate: 0.001\n"
          ]
        },
        {
          "metadata": {
            "tags": null
          },
          "name": "stderr",
          "output_type": "stream",
          "text": [
            "epoch 110: 100%|██████████| 282/282 [00:08<00:00, 34.22it/s]\n"
          ]
        },
        {
          "metadata": {
            "tags": null
          },
          "name": "stdout",
          "output_type": "stream",
          "text": [
            "validation loss: 0.0012572896339827114 at epoch 111\n",
            "learning_rate: 0.001\n"
          ]
        },
        {
          "metadata": {
            "tags": null
          },
          "name": "stderr",
          "output_type": "stream",
          "text": [
            "epoch 111: 100%|██████████| 282/282 [00:08<00:00, 33.85it/s]\n"
          ]
        },
        {
          "metadata": {
            "tags": null
          },
          "name": "stdout",
          "output_type": "stream",
          "text": [
            "validation loss: 0.0022748302900128894 at epoch 112\n",
            "learning_rate: 0.001\n"
          ]
        },
        {
          "metadata": {
            "tags": null
          },
          "name": "stderr",
          "output_type": "stream",
          "text": [
            "epoch 112: 100%|██████████| 282/282 [00:07<00:00, 38.34it/s]\n"
          ]
        },
        {
          "metadata": {
            "tags": null
          },
          "name": "stdout",
          "output_type": "stream",
          "text": [
            "validation loss: 0.0022365024536848068 at epoch 113\n",
            "learning_rate: 0.001\n"
          ]
        },
        {
          "metadata": {
            "tags": null
          },
          "name": "stderr",
          "output_type": "stream",
          "text": [
            "epoch 113: 100%|██████████| 282/282 [00:08<00:00, 34.39it/s]\n"
          ]
        },
        {
          "metadata": {
            "tags": null
          },
          "name": "stdout",
          "output_type": "stream",
          "text": [
            "validation loss: 0.0019499929679764642 at epoch 114\n",
            "learning_rate: 0.001\n"
          ]
        },
        {
          "metadata": {
            "tags": null
          },
          "name": "stderr",
          "output_type": "stream",
          "text": [
            "epoch 114: 100%|██████████| 282/282 [00:08<00:00, 34.21it/s]\n"
          ]
        },
        {
          "metadata": {
            "tags": null
          },
          "name": "stdout",
          "output_type": "stream",
          "text": [
            "validation loss: 0.0026695358488294813 at epoch 115\n",
            "learning_rate: 0.001\n"
          ]
        },
        {
          "metadata": {
            "tags": null
          },
          "name": "stderr",
          "output_type": "stream",
          "text": [
            "epoch 115: 100%|██████████| 282/282 [00:07<00:00, 38.25it/s]\n"
          ]
        },
        {
          "metadata": {
            "tags": null
          },
          "name": "stdout",
          "output_type": "stream",
          "text": [
            "validation loss: 0.001503954038851791 at epoch 116\n",
            "learning_rate: 0.001\n"
          ]
        },
        {
          "metadata": {
            "tags": null
          },
          "name": "stderr",
          "output_type": "stream",
          "text": [
            "epoch 116: 100%|██████████| 282/282 [00:08<00:00, 34.32it/s]\n"
          ]
        },
        {
          "metadata": {
            "tags": null
          },
          "name": "stdout",
          "output_type": "stream",
          "text": [
            "validation loss: 0.001228990083767308 at epoch 117\n",
            "learning_rate: 0.001\n"
          ]
        },
        {
          "metadata": {
            "tags": null
          },
          "name": "stderr",
          "output_type": "stream",
          "text": [
            "epoch 117: 100%|██████████| 282/282 [00:08<00:00, 34.17it/s]\n"
          ]
        },
        {
          "metadata": {
            "tags": null
          },
          "name": "stdout",
          "output_type": "stream",
          "text": [
            "validation loss: 0.001055647112015221 at epoch 118\n",
            "learning_rate: 0.001\n"
          ]
        },
        {
          "metadata": {
            "tags": null
          },
          "name": "stderr",
          "output_type": "stream",
          "text": [
            "epoch 118: 100%|██████████| 282/282 [00:07<00:00, 37.99it/s]\n"
          ]
        },
        {
          "metadata": {
            "tags": null
          },
          "name": "stdout",
          "output_type": "stream",
          "text": [
            "validation loss: 0.008799241364002227 at epoch 119\n",
            "learning_rate: 0.001\n"
          ]
        },
        {
          "metadata": {
            "tags": null
          },
          "name": "stderr",
          "output_type": "stream",
          "text": [
            "epoch 119: 100%|██████████| 282/282 [00:08<00:00, 34.56it/s]\n"
          ]
        },
        {
          "metadata": {
            "tags": null
          },
          "name": "stdout",
          "output_type": "stream",
          "text": [
            "validation loss: 0.007777235759629144 at epoch 120\n",
            "learning_rate: 0.001\n"
          ]
        },
        {
          "metadata": {
            "tags": null
          },
          "name": "stderr",
          "output_type": "stream",
          "text": [
            "epoch 120: 100%|██████████| 282/282 [00:08<00:00, 34.12it/s]\n"
          ]
        },
        {
          "metadata": {
            "tags": null
          },
          "name": "stdout",
          "output_type": "stream",
          "text": [
            "validation loss: 0.001204525977373123 at epoch 121\n",
            "learning_rate: 0.001\n"
          ]
        },
        {
          "metadata": {
            "tags": null
          },
          "name": "stderr",
          "output_type": "stream",
          "text": [
            "epoch 121: 100%|██████████| 282/282 [00:07<00:00, 38.14it/s]\n"
          ]
        },
        {
          "metadata": {
            "tags": null
          },
          "name": "stdout",
          "output_type": "stream",
          "text": [
            "validation loss: 0.000878146360317866 at epoch 122\n",
            "learning_rate: 0.001\n",
            "model saved in ani_acrolein.pt\n"
          ]
        },
        {
          "metadata": {
            "tags": null
          },
          "name": "stderr",
          "output_type": "stream",
          "text": [
            "epoch 122: 100%|██████████| 282/282 [00:08<00:00, 34.66it/s]\n"
          ]
        },
        {
          "metadata": {
            "tags": null
          },
          "name": "stdout",
          "output_type": "stream",
          "text": [
            "validation loss: 0.0013943811414970292 at epoch 123\n",
            "learning_rate: 0.001\n"
          ]
        },
        {
          "metadata": {
            "tags": null
          },
          "name": "stderr",
          "output_type": "stream",
          "text": [
            "epoch 123: 100%|██████████| 282/282 [00:08<00:00, 34.53it/s]\n"
          ]
        },
        {
          "metadata": {
            "tags": null
          },
          "name": "stdout",
          "output_type": "stream",
          "text": [
            "validation loss: 0.0032439521700143815 at epoch 124\n",
            "learning_rate: 0.001\n"
          ]
        },
        {
          "metadata": {
            "tags": null
          },
          "name": "stderr",
          "output_type": "stream",
          "text": [
            "epoch 124: 100%|██████████| 282/282 [00:07<00:00, 37.16it/s]\n"
          ]
        },
        {
          "metadata": {
            "tags": null
          },
          "name": "stdout",
          "output_type": "stream",
          "text": [
            "validation loss: 0.0031531286785999933 at epoch 125\n",
            "learning_rate: 0.001\n"
          ]
        },
        {
          "metadata": {
            "tags": null
          },
          "name": "stderr",
          "output_type": "stream",
          "text": [
            "epoch 125: 100%|██████████| 282/282 [00:08<00:00, 34.42it/s]\n"
          ]
        },
        {
          "metadata": {
            "tags": null
          },
          "name": "stdout",
          "output_type": "stream",
          "text": [
            "validation loss: 0.0009977852776646614 at epoch 126\n",
            "learning_rate: 0.001\n"
          ]
        },
        {
          "metadata": {
            "tags": null
          },
          "name": "stderr",
          "output_type": "stream",
          "text": [
            "epoch 126: 100%|██████████| 282/282 [00:08<00:00, 34.70it/s]\n"
          ]
        },
        {
          "metadata": {
            "tags": null
          },
          "name": "stdout",
          "output_type": "stream",
          "text": [
            "validation loss: 0.008901605645815531 at epoch 127\n",
            "learning_rate: 0.001\n"
          ]
        },
        {
          "metadata": {
            "tags": null
          },
          "name": "stderr",
          "output_type": "stream",
          "text": [
            "epoch 127: 100%|██████████| 282/282 [00:07<00:00, 38.09it/s]\n"
          ]
        },
        {
          "metadata": {
            "tags": null
          },
          "name": "stdout",
          "output_type": "stream",
          "text": [
            "validation loss: 0.0009563700863056713 at epoch 128\n",
            "learning_rate: 0.001\n"
          ]
        },
        {
          "metadata": {
            "tags": null
          },
          "name": "stderr",
          "output_type": "stream",
          "text": [
            "epoch 128: 100%|██████████| 282/282 [00:08<00:00, 34.50it/s]\n"
          ]
        },
        {
          "metadata": {
            "tags": null
          },
          "name": "stdout",
          "output_type": "stream",
          "text": [
            "validation loss: 0.0008314446798629231 at epoch 129\n",
            "learning_rate: 0.001\n",
            "model saved in ani_acrolein.pt\n"
          ]
        },
        {
          "metadata": {
            "tags": null
          },
          "name": "stderr",
          "output_type": "stream",
          "text": [
            "epoch 129: 100%|██████████| 282/282 [00:08<00:00, 34.43it/s]\n"
          ]
        },
        {
          "metadata": {
            "tags": null
          },
          "name": "stdout",
          "output_type": "stream",
          "text": [
            "validation loss: 0.003561534318659041 at epoch 130\n",
            "learning_rate: 0.001\n"
          ]
        },
        {
          "metadata": {
            "tags": null
          },
          "name": "stderr",
          "output_type": "stream",
          "text": [
            "epoch 130: 100%|██████████| 282/282 [00:07<00:00, 37.97it/s]\n"
          ]
        },
        {
          "metadata": {
            "tags": null
          },
          "name": "stdout",
          "output_type": "stream",
          "text": [
            "validation loss: 0.0030850406024191114 at epoch 131\n",
            "learning_rate: 0.001\n"
          ]
        },
        {
          "metadata": {
            "tags": null
          },
          "name": "stderr",
          "output_type": "stream",
          "text": [
            "epoch 131: 100%|██████████| 282/282 [00:08<00:00, 34.48it/s]\n"
          ]
        },
        {
          "metadata": {
            "tags": null
          },
          "name": "stdout",
          "output_type": "stream",
          "text": [
            "validation loss: 0.0017972808058063189 at epoch 132\n",
            "learning_rate: 0.001\n"
          ]
        },
        {
          "metadata": {
            "tags": null
          },
          "name": "stderr",
          "output_type": "stream",
          "text": [
            "epoch 132: 100%|██████████| 282/282 [00:08<00:00, 34.36it/s]\n"
          ]
        },
        {
          "metadata": {
            "tags": null
          },
          "name": "stdout",
          "output_type": "stream",
          "text": [
            "validation loss: 0.0009012492311497529 at epoch 133\n",
            "learning_rate: 0.001\n"
          ]
        },
        {
          "metadata": {
            "tags": null
          },
          "name": "stderr",
          "output_type": "stream",
          "text": [
            "epoch 133: 100%|██████████| 282/282 [00:07<00:00, 38.21it/s]\n"
          ]
        },
        {
          "metadata": {
            "tags": null
          },
          "name": "stdout",
          "output_type": "stream",
          "text": [
            "validation loss: 0.0036902429461479185 at epoch 134\n",
            "learning_rate: 0.001\n"
          ]
        },
        {
          "metadata": {
            "tags": null
          },
          "name": "stderr",
          "output_type": "stream",
          "text": [
            "epoch 134: 100%|██████████| 282/282 [00:08<00:00, 34.85it/s]\n"
          ]
        },
        {
          "metadata": {
            "tags": null
          },
          "name": "stdout",
          "output_type": "stream",
          "text": [
            "validation loss: 0.0013599957120087412 at epoch 135\n",
            "learning_rate: 0.001\n"
          ]
        },
        {
          "metadata": {
            "tags": null
          },
          "name": "stderr",
          "output_type": "stream",
          "text": [
            "epoch 135: 100%|██████████| 282/282 [00:08<00:00, 34.62it/s]\n"
          ]
        },
        {
          "metadata": {
            "tags": null
          },
          "name": "stdout",
          "output_type": "stream",
          "text": [
            "validation loss: 0.003201130948132939 at epoch 136\n",
            "learning_rate: 0.001\n"
          ]
        },
        {
          "metadata": {
            "tags": null
          },
          "name": "stderr",
          "output_type": "stream",
          "text": [
            "epoch 136: 100%|██████████| 282/282 [00:07<00:00, 38.24it/s]\n"
          ]
        },
        {
          "metadata": {
            "tags": null
          },
          "name": "stdout",
          "output_type": "stream",
          "text": [
            "validation loss: 0.0012098910560210546 at epoch 137\n",
            "learning_rate: 0.001\n"
          ]
        },
        {
          "metadata": {
            "tags": null
          },
          "name": "stderr",
          "output_type": "stream",
          "text": [
            "epoch 137: 100%|██████████| 282/282 [00:08<00:00, 34.99it/s]\n"
          ]
        },
        {
          "metadata": {
            "tags": null
          },
          "name": "stdout",
          "output_type": "stream",
          "text": [
            "validation loss: 0.0034732986754841275 at epoch 138\n",
            "learning_rate: 0.001\n"
          ]
        },
        {
          "metadata": {
            "tags": null
          },
          "name": "stderr",
          "output_type": "stream",
          "text": [
            "epoch 138: 100%|██████████| 282/282 [00:08<00:00, 33.74it/s]\n"
          ]
        },
        {
          "metadata": {
            "tags": null
          },
          "name": "stdout",
          "output_type": "stream",
          "text": [
            "validation loss: 0.0010240142424073485 at epoch 139\n",
            "learning_rate: 0.001\n"
          ]
        },
        {
          "metadata": {
            "tags": null
          },
          "name": "stderr",
          "output_type": "stream",
          "text": [
            "epoch 139: 100%|██████████| 282/282 [00:07<00:00, 38.11it/s]\n"
          ]
        },
        {
          "metadata": {
            "tags": null
          },
          "name": "stdout",
          "output_type": "stream",
          "text": [
            "validation loss: 0.005450232625007629 at epoch 140\n",
            "learning_rate: 0.001\n"
          ]
        },
        {
          "metadata": {
            "tags": null
          },
          "name": "stderr",
          "output_type": "stream",
          "text": [
            "epoch 140: 100%|██████████| 282/282 [00:08<00:00, 35.10it/s]\n"
          ]
        },
        {
          "metadata": {
            "tags": null
          },
          "name": "stdout",
          "output_type": "stream",
          "text": [
            "validation loss: 0.002162191614508629 at epoch 141\n",
            "learning_rate: 0.001\n"
          ]
        },
        {
          "metadata": {
            "tags": null
          },
          "name": "stderr",
          "output_type": "stream",
          "text": [
            "epoch 141: 100%|██████████| 282/282 [00:08<00:00, 33.99it/s]\n"
          ]
        },
        {
          "metadata": {
            "tags": null
          },
          "name": "stdout",
          "output_type": "stream",
          "text": [
            "validation loss: 0.0027993355691432954 at epoch 142\n",
            "learning_rate: 0.001\n"
          ]
        },
        {
          "metadata": {
            "tags": null
          },
          "name": "stderr",
          "output_type": "stream",
          "text": [
            "epoch 142: 100%|██████████| 282/282 [00:07<00:00, 38.13it/s]\n"
          ]
        },
        {
          "metadata": {
            "tags": null
          },
          "name": "stdout",
          "output_type": "stream",
          "text": [
            "validation loss: 0.0037737654878033534 at epoch 143\n",
            "learning_rate: 0.001\n"
          ]
        },
        {
          "metadata": {
            "tags": null
          },
          "name": "stderr",
          "output_type": "stream",
          "text": [
            "epoch 143: 100%|██████████| 282/282 [00:07<00:00, 35.29it/s]\n"
          ]
        },
        {
          "metadata": {
            "tags": null
          },
          "name": "stdout",
          "output_type": "stream",
          "text": [
            "validation loss: 0.005729043655925327 at epoch 144\n",
            "learning_rate: 0.001\n"
          ]
        },
        {
          "metadata": {
            "tags": null
          },
          "name": "stderr",
          "output_type": "stream",
          "text": [
            "epoch 144: 100%|██████████| 282/282 [00:08<00:00, 34.14it/s]\n"
          ]
        },
        {
          "metadata": {
            "tags": null
          },
          "name": "stdout",
          "output_type": "stream",
          "text": [
            "validation loss: 0.0070765584972169665 at epoch 145\n",
            "learning_rate: 0.001\n"
          ]
        },
        {
          "metadata": {
            "tags": null
          },
          "name": "stderr",
          "output_type": "stream",
          "text": [
            "epoch 145: 100%|██████████| 282/282 [00:07<00:00, 37.94it/s]\n"
          ]
        },
        {
          "metadata": {
            "tags": null
          },
          "name": "stdout",
          "output_type": "stream",
          "text": [
            "validation loss: 0.0030478353516923055 at epoch 146\n",
            "learning_rate: 0.001\n"
          ]
        },
        {
          "metadata": {
            "tags": null
          },
          "name": "stderr",
          "output_type": "stream",
          "text": [
            "epoch 146: 100%|██████████| 282/282 [00:08<00:00, 34.83it/s]\n"
          ]
        },
        {
          "metadata": {
            "tags": null
          },
          "name": "stdout",
          "output_type": "stream",
          "text": [
            "validation loss: 0.0013923221073216861 at epoch 147\n",
            "learning_rate: 0.001\n"
          ]
        },
        {
          "metadata": {
            "tags": null
          },
          "name": "stderr",
          "output_type": "stream",
          "text": [
            "epoch 147: 100%|██████████| 282/282 [00:08<00:00, 33.96it/s]\n"
          ]
        },
        {
          "metadata": {
            "tags": null
          },
          "name": "stdout",
          "output_type": "stream",
          "text": [
            "validation loss: 0.0008384641628298495 at epoch 148\n",
            "learning_rate: 0.001\n"
          ]
        },
        {
          "metadata": {
            "tags": null
          },
          "name": "stderr",
          "output_type": "stream",
          "text": [
            "epoch 148: 100%|██████████| 282/282 [00:07<00:00, 38.26it/s]\n"
          ]
        },
        {
          "metadata": {
            "tags": null
          },
          "name": "stdout",
          "output_type": "stream",
          "text": [
            "validation loss: 0.003912521070904202 at epoch 149\n",
            "learning_rate: 0.001\n"
          ]
        },
        {
          "metadata": {
            "tags": null
          },
          "name": "stderr",
          "output_type": "stream",
          "text": [
            "epoch 149: 100%|██████████| 282/282 [00:08<00:00, 34.80it/s]\n"
          ]
        },
        {
          "metadata": {
            "tags": null
          },
          "name": "stdout",
          "output_type": "stream",
          "text": [
            "validation loss: 0.0012542414805955357 at epoch 150\n",
            "learning_rate: 0.001\n"
          ]
        },
        {
          "metadata": {
            "tags": null
          },
          "name": "stderr",
          "output_type": "stream",
          "text": [
            "epoch 150: 100%|██████████| 282/282 [00:08<00:00, 34.32it/s]\n"
          ]
        },
        {
          "metadata": {
            "tags": null
          },
          "name": "stdout",
          "output_type": "stream",
          "text": [
            "validation loss: 0.0020412496825059257 at epoch 151\n",
            "learning_rate: 0.001\n"
          ]
        },
        {
          "metadata": {
            "tags": null
          },
          "name": "stderr",
          "output_type": "stream",
          "text": [
            "epoch 151: 100%|██████████| 282/282 [00:07<00:00, 38.34it/s]\n"
          ]
        },
        {
          "metadata": {
            "tags": null
          },
          "name": "stdout",
          "output_type": "stream",
          "text": [
            "validation loss: 0.0044983585675557455 at epoch 152\n",
            "learning_rate: 0.001\n"
          ]
        },
        {
          "metadata": {
            "tags": null
          },
          "name": "stderr",
          "output_type": "stream",
          "text": [
            "epoch 152: 100%|██████████| 282/282 [00:08<00:00, 34.16it/s]\n"
          ]
        },
        {
          "metadata": {
            "tags": null
          },
          "name": "stdout",
          "output_type": "stream",
          "text": [
            "validation loss: 0.004463497466511196 at epoch 153\n",
            "learning_rate: 0.001\n"
          ]
        },
        {
          "metadata": {
            "tags": null
          },
          "name": "stderr",
          "output_type": "stream",
          "text": [
            "epoch 153: 100%|██████████| 282/282 [00:08<00:00, 34.41it/s]\n"
          ]
        },
        {
          "metadata": {
            "tags": null
          },
          "name": "stdout",
          "output_type": "stream",
          "text": [
            "validation loss: 0.0008281449601054192 at epoch 154\n",
            "learning_rate: 0.001\n",
            "model saved in ani_acrolein.pt\n"
          ]
        },
        {
          "metadata": {
            "tags": null
          },
          "name": "stderr",
          "output_type": "stream",
          "text": [
            "epoch 154: 100%|██████████| 282/282 [00:07<00:00, 38.22it/s]\n"
          ]
        },
        {
          "metadata": {
            "tags": null
          },
          "name": "stdout",
          "output_type": "stream",
          "text": [
            "validation loss: 0.0008099713333778911 at epoch 155\n",
            "learning_rate: 0.001\n",
            "model saved in ani_acrolein.pt\n"
          ]
        },
        {
          "metadata": {
            "tags": null
          },
          "name": "stderr",
          "output_type": "stream",
          "text": [
            "epoch 155: 100%|██████████| 282/282 [00:08<00:00, 34.82it/s]\n"
          ]
        },
        {
          "metadata": {
            "tags": null
          },
          "name": "stdout",
          "output_type": "stream",
          "text": [
            "validation loss: 0.0024158995267417696 at epoch 156\n",
            "learning_rate: 0.001\n"
          ]
        },
        {
          "metadata": {
            "tags": null
          },
          "name": "stderr",
          "output_type": "stream",
          "text": [
            "epoch 156: 100%|██████████| 282/282 [00:08<00:00, 34.47it/s]\n"
          ]
        },
        {
          "metadata": {
            "tags": null
          },
          "name": "stdout",
          "output_type": "stream",
          "text": [
            "validation loss: 0.005452996191051271 at epoch 157\n",
            "learning_rate: 0.001\n"
          ]
        },
        {
          "metadata": {
            "tags": null
          },
          "name": "stderr",
          "output_type": "stream",
          "text": [
            "epoch 157: 100%|██████████| 282/282 [00:07<00:00, 37.65it/s]\n"
          ]
        },
        {
          "metadata": {
            "tags": null
          },
          "name": "stdout",
          "output_type": "stream",
          "text": [
            "validation loss: 0.0017953025814559725 at epoch 158\n",
            "learning_rate: 0.001\n"
          ]
        },
        {
          "metadata": {
            "tags": null
          },
          "name": "stderr",
          "output_type": "stream",
          "text": [
            "epoch 158: 100%|██████████| 282/282 [00:07<00:00, 35.30it/s]\n"
          ]
        },
        {
          "metadata": {
            "tags": null
          },
          "name": "stdout",
          "output_type": "stream",
          "text": [
            "validation loss: 0.0064313309325112235 at epoch 159\n",
            "learning_rate: 0.001\n"
          ]
        },
        {
          "metadata": {
            "tags": null
          },
          "name": "stderr",
          "output_type": "stream",
          "text": [
            "epoch 159: 100%|██████████| 282/282 [00:08<00:00, 33.39it/s]\n"
          ]
        },
        {
          "metadata": {
            "tags": null
          },
          "name": "stdout",
          "output_type": "stream",
          "text": [
            "validation loss: 0.0026565369665622713 at epoch 160\n",
            "learning_rate: 0.001\n"
          ]
        },
        {
          "metadata": {
            "tags": null
          },
          "name": "stderr",
          "output_type": "stream",
          "text": [
            "epoch 160: 100%|██████████| 282/282 [00:07<00:00, 38.26it/s]\n"
          ]
        },
        {
          "metadata": {
            "tags": null
          },
          "name": "stdout",
          "output_type": "stream",
          "text": [
            "validation loss: 0.0014718585941526626 at epoch 161\n",
            "learning_rate: 0.001\n"
          ]
        },
        {
          "metadata": {
            "tags": null
          },
          "name": "stderr",
          "output_type": "stream",
          "text": [
            "epoch 161: 100%|██████████| 282/282 [00:08<00:00, 34.72it/s]\n"
          ]
        },
        {
          "metadata": {
            "tags": null
          },
          "name": "stdout",
          "output_type": "stream",
          "text": [
            "validation loss: 0.0009922610769669215 at epoch 162\n",
            "learning_rate: 0.001\n"
          ]
        },
        {
          "metadata": {
            "tags": null
          },
          "name": "stderr",
          "output_type": "stream",
          "text": [
            "epoch 162: 100%|██████████| 282/282 [00:08<00:00, 34.78it/s]\n"
          ]
        },
        {
          "metadata": {
            "tags": null
          },
          "name": "stdout",
          "output_type": "stream",
          "text": [
            "validation loss: 0.0029195007069243327 at epoch 163\n",
            "learning_rate: 0.001\n"
          ]
        },
        {
          "metadata": {
            "tags": null
          },
          "name": "stderr",
          "output_type": "stream",
          "text": [
            "epoch 163: 100%|██████████| 282/282 [00:07<00:00, 37.88it/s]\n"
          ]
        },
        {
          "metadata": {
            "tags": null
          },
          "name": "stdout",
          "output_type": "stream",
          "text": [
            "validation loss: 0.0021636819342772166 at epoch 164\n",
            "learning_rate: 0.001\n"
          ]
        },
        {
          "metadata": {
            "tags": null
          },
          "name": "stderr",
          "output_type": "stream",
          "text": [
            "epoch 164: 100%|██████████| 282/282 [00:08<00:00, 34.53it/s]\n"
          ]
        },
        {
          "metadata": {
            "tags": null
          },
          "name": "stdout",
          "output_type": "stream",
          "text": [
            "validation loss: 0.003969120161400901 at epoch 165\n",
            "learning_rate: 0.001\n"
          ]
        },
        {
          "metadata": {
            "tags": null
          },
          "name": "stderr",
          "output_type": "stream",
          "text": [
            "epoch 165: 100%|██████████| 282/282 [00:08<00:00, 34.41it/s]\n"
          ]
        },
        {
          "metadata": {
            "tags": null
          },
          "name": "stdout",
          "output_type": "stream",
          "text": [
            "validation loss: 0.0030357472317086324 at epoch 166\n",
            "learning_rate: 0.001\n"
          ]
        },
        {
          "metadata": {
            "tags": null
          },
          "name": "stderr",
          "output_type": "stream",
          "text": [
            "epoch 166: 100%|██████████| 282/282 [00:07<00:00, 37.58it/s]\n"
          ]
        },
        {
          "metadata": {
            "tags": null
          },
          "name": "stdout",
          "output_type": "stream",
          "text": [
            "validation loss: 0.0007750745862722397 at epoch 167\n",
            "learning_rate: 0.001\n",
            "model saved in ani_acrolein.pt\n"
          ]
        },
        {
          "metadata": {
            "tags": null
          },
          "name": "stderr",
          "output_type": "stream",
          "text": [
            "epoch 167: 100%|██████████| 282/282 [00:08<00:00, 34.59it/s]\n"
          ]
        },
        {
          "metadata": {
            "tags": null
          },
          "name": "stdout",
          "output_type": "stream",
          "text": [
            "validation loss: 0.001557235412299633 at epoch 168\n",
            "learning_rate: 0.001\n"
          ]
        },
        {
          "metadata": {
            "tags": null
          },
          "name": "stderr",
          "output_type": "stream",
          "text": [
            "epoch 168: 100%|██████████| 282/282 [00:08<00:00, 34.33it/s]\n"
          ]
        },
        {
          "metadata": {
            "tags": null
          },
          "name": "stdout",
          "output_type": "stream",
          "text": [
            "validation loss: 0.0009706290604339705 at epoch 169\n",
            "learning_rate: 0.001\n"
          ]
        },
        {
          "metadata": {
            "tags": null
          },
          "name": "stderr",
          "output_type": "stream",
          "text": [
            "epoch 169: 100%|██████████| 282/282 [00:07<00:00, 38.02it/s]\n"
          ]
        },
        {
          "metadata": {
            "tags": null
          },
          "name": "stdout",
          "output_type": "stream",
          "text": [
            "validation loss: 0.0011204711844523749 at epoch 170\n",
            "learning_rate: 0.001\n"
          ]
        },
        {
          "metadata": {
            "tags": null
          },
          "name": "stderr",
          "output_type": "stream",
          "text": [
            "epoch 170: 100%|██████████| 282/282 [00:07<00:00, 35.26it/s]\n"
          ]
        },
        {
          "metadata": {
            "tags": null
          },
          "name": "stdout",
          "output_type": "stream",
          "text": [
            "validation loss: 0.0022092160532871884 at epoch 171\n",
            "learning_rate: 0.001\n"
          ]
        },
        {
          "metadata": {
            "tags": null
          },
          "name": "stderr",
          "output_type": "stream",
          "text": [
            "epoch 171: 100%|██████████| 282/282 [00:08<00:00, 33.84it/s]\n"
          ]
        },
        {
          "metadata": {
            "tags": null
          },
          "name": "stdout",
          "output_type": "stream",
          "text": [
            "validation loss: 0.0017876281879014438 at epoch 172\n",
            "learning_rate: 0.001\n"
          ]
        },
        {
          "metadata": {
            "tags": null
          },
          "name": "stderr",
          "output_type": "stream",
          "text": [
            "epoch 172: 100%|██████████| 282/282 [00:07<00:00, 38.37it/s]\n"
          ]
        },
        {
          "metadata": {
            "tags": null
          },
          "name": "stdout",
          "output_type": "stream",
          "text": [
            "validation loss: 0.0007699953938523929 at epoch 173\n",
            "learning_rate: 0.001\n",
            "model saved in ani_acrolein.pt\n"
          ]
        },
        {
          "metadata": {
            "tags": null
          },
          "name": "stderr",
          "output_type": "stream",
          "text": [
            "epoch 173: 100%|██████████| 282/282 [00:08<00:00, 34.76it/s]\n"
          ]
        },
        {
          "metadata": {
            "tags": null
          },
          "name": "stdout",
          "output_type": "stream",
          "text": [
            "validation loss: 0.0015284626086552939 at epoch 174\n",
            "learning_rate: 0.001\n"
          ]
        },
        {
          "metadata": {
            "tags": null
          },
          "name": "stderr",
          "output_type": "stream",
          "text": [
            "epoch 174: 100%|██████████| 282/282 [00:08<00:00, 34.31it/s]\n"
          ]
        },
        {
          "metadata": {
            "tags": null
          },
          "name": "stdout",
          "output_type": "stream",
          "text": [
            "validation loss: 0.006578458885351817 at epoch 175\n",
            "learning_rate: 0.001\n"
          ]
        },
        {
          "metadata": {
            "tags": null
          },
          "name": "stderr",
          "output_type": "stream",
          "text": [
            "epoch 175: 100%|██████████| 282/282 [00:07<00:00, 38.29it/s]\n"
          ]
        },
        {
          "metadata": {
            "tags": null
          },
          "name": "stdout",
          "output_type": "stream",
          "text": [
            "validation loss: 0.004298362165689468 at epoch 176\n",
            "learning_rate: 0.001\n"
          ]
        },
        {
          "metadata": {
            "tags": null
          },
          "name": "stderr",
          "output_type": "stream",
          "text": [
            "epoch 176: 100%|██████████| 282/282 [00:07<00:00, 35.37it/s]\n"
          ]
        },
        {
          "metadata": {
            "tags": null
          },
          "name": "stdout",
          "output_type": "stream",
          "text": [
            "validation loss: 0.0008492602345844109 at epoch 177\n",
            "learning_rate: 0.001\n"
          ]
        },
        {
          "metadata": {
            "tags": null
          },
          "name": "stderr",
          "output_type": "stream",
          "text": [
            "epoch 177: 100%|██████████| 282/282 [00:08<00:00, 33.85it/s]\n"
          ]
        },
        {
          "metadata": {
            "tags": null
          },
          "name": "stdout",
          "output_type": "stream",
          "text": [
            "validation loss: 0.0017345386793216069 at epoch 178\n",
            "learning_rate: 0.001\n"
          ]
        },
        {
          "metadata": {
            "tags": null
          },
          "name": "stderr",
          "output_type": "stream",
          "text": [
            "epoch 178: 100%|██████████| 282/282 [00:07<00:00, 37.16it/s]\n"
          ]
        },
        {
          "metadata": {
            "tags": null
          },
          "name": "stdout",
          "output_type": "stream",
          "text": [
            "validation loss: 0.0010932811283402974 at epoch 179\n",
            "learning_rate: 0.001\n"
          ]
        },
        {
          "metadata": {
            "tags": null
          },
          "name": "stderr",
          "output_type": "stream",
          "text": [
            "epoch 179: 100%|██████████| 282/282 [00:07<00:00, 35.33it/s]\n"
          ]
        },
        {
          "metadata": {
            "tags": null
          },
          "name": "stdout",
          "output_type": "stream",
          "text": [
            "validation loss: 0.002262974661257532 at epoch 180\n",
            "learning_rate: 0.001\n"
          ]
        },
        {
          "metadata": {
            "tags": null
          },
          "name": "stderr",
          "output_type": "stream",
          "text": [
            "epoch 180: 100%|██████████| 282/282 [00:08<00:00, 34.29it/s]\n"
          ]
        },
        {
          "metadata": {
            "tags": null
          },
          "name": "stdout",
          "output_type": "stream",
          "text": [
            "validation loss: 0.0007529038675129413 at epoch 181\n",
            "learning_rate: 0.001\n",
            "model saved in ani_acrolein.pt\n"
          ]
        },
        {
          "metadata": {
            "tags": null
          },
          "name": "stderr",
          "output_type": "stream",
          "text": [
            "epoch 181: 100%|██████████| 282/282 [00:07<00:00, 36.93it/s]\n"
          ]
        },
        {
          "metadata": {
            "tags": null
          },
          "name": "stdout",
          "output_type": "stream",
          "text": [
            "validation loss: 0.0013885573943456014 at epoch 182\n",
            "learning_rate: 0.001\n"
          ]
        },
        {
          "metadata": {
            "tags": null
          },
          "name": "stderr",
          "output_type": "stream",
          "text": [
            "epoch 182: 100%|██████████| 282/282 [00:07<00:00, 35.69it/s]\n"
          ]
        },
        {
          "metadata": {
            "tags": null
          },
          "name": "stdout",
          "output_type": "stream",
          "text": [
            "validation loss: 0.0008263553914924463 at epoch 183\n",
            "learning_rate: 0.001\n"
          ]
        },
        {
          "metadata": {
            "tags": null
          },
          "name": "stderr",
          "output_type": "stream",
          "text": [
            "epoch 183: 100%|██████████| 282/282 [00:08<00:00, 34.20it/s]\n"
          ]
        },
        {
          "metadata": {
            "tags": null
          },
          "name": "stdout",
          "output_type": "stream",
          "text": [
            "validation loss: 0.0015708011935154597 at epoch 184\n",
            "learning_rate: 0.001\n"
          ]
        },
        {
          "metadata": {
            "tags": null
          },
          "name": "stderr",
          "output_type": "stream",
          "text": [
            "epoch 184: 100%|██████████| 282/282 [00:07<00:00, 37.09it/s]\n"
          ]
        },
        {
          "metadata": {
            "tags": null
          },
          "name": "stdout",
          "output_type": "stream",
          "text": [
            "validation loss: 0.0012827869339121713 at epoch 185\n",
            "learning_rate: 0.001\n"
          ]
        },
        {
          "metadata": {
            "tags": null
          },
          "name": "stderr",
          "output_type": "stream",
          "text": [
            "epoch 185: 100%|██████████| 282/282 [00:07<00:00, 35.54it/s]\n"
          ]
        },
        {
          "metadata": {
            "tags": null
          },
          "name": "stdout",
          "output_type": "stream",
          "text": [
            "validation loss: 0.006131525350941552 at epoch 186\n",
            "learning_rate: 0.001\n"
          ]
        },
        {
          "metadata": {
            "tags": null
          },
          "name": "stderr",
          "output_type": "stream",
          "text": [
            "epoch 186: 100%|██████████| 282/282 [00:08<00:00, 34.45it/s]\n"
          ]
        },
        {
          "metadata": {
            "tags": null
          },
          "name": "stdout",
          "output_type": "stream",
          "text": [
            "validation loss: 0.002388765358262592 at epoch 187\n",
            "learning_rate: 0.001\n"
          ]
        },
        {
          "metadata": {
            "tags": null
          },
          "name": "stderr",
          "output_type": "stream",
          "text": [
            "epoch 187: 100%|██████████| 282/282 [00:07<00:00, 37.04it/s]\n"
          ]
        },
        {
          "metadata": {
            "tags": null
          },
          "name": "stdout",
          "output_type": "stream",
          "text": [
            "validation loss: 0.0024249177012178632 at epoch 188\n",
            "learning_rate: 0.001\n"
          ]
        },
        {
          "metadata": {
            "tags": null
          },
          "name": "stderr",
          "output_type": "stream",
          "text": [
            "epoch 188: 100%|██████████| 282/282 [00:07<00:00, 36.14it/s]\n"
          ]
        },
        {
          "metadata": {
            "tags": null
          },
          "name": "stdout",
          "output_type": "stream",
          "text": [
            "validation loss: 0.003958705173598395 at epoch 189\n",
            "learning_rate: 0.001\n"
          ]
        },
        {
          "metadata": {
            "tags": null
          },
          "name": "stderr",
          "output_type": "stream",
          "text": [
            "epoch 189: 100%|██████████| 282/282 [00:08<00:00, 34.19it/s]\n"
          ]
        },
        {
          "metadata": {
            "tags": null
          },
          "name": "stdout",
          "output_type": "stream",
          "text": [
            "validation loss: 0.0037804001602861617 at epoch 190\n",
            "learning_rate: 0.001\n"
          ]
        },
        {
          "metadata": {
            "tags": null
          },
          "name": "stderr",
          "output_type": "stream",
          "text": [
            "epoch 190: 100%|██████████| 282/282 [00:07<00:00, 35.31it/s]\n"
          ]
        },
        {
          "metadata": {
            "tags": null
          },
          "name": "stdout",
          "output_type": "stream",
          "text": [
            "validation loss: 0.0033963555147250492 at epoch 191\n",
            "learning_rate: 0.001\n"
          ]
        },
        {
          "metadata": {
            "tags": null
          },
          "name": "stderr",
          "output_type": "stream",
          "text": [
            "epoch 191: 100%|██████████| 282/282 [00:08<00:00, 33.45it/s]\n"
          ]
        },
        {
          "metadata": {
            "tags": null
          },
          "name": "stdout",
          "output_type": "stream",
          "text": [
            "validation loss: 0.001378862804836697 at epoch 192\n",
            "learning_rate: 0.001\n"
          ]
        },
        {
          "metadata": {
            "tags": null
          },
          "name": "stderr",
          "output_type": "stream",
          "text": [
            "epoch 192: 100%|██████████| 282/282 [00:08<00:00, 33.12it/s]\n"
          ]
        },
        {
          "metadata": {
            "tags": null
          },
          "name": "stdout",
          "output_type": "stream",
          "text": [
            "validation loss: 0.002897234188185798 at epoch 193\n",
            "learning_rate: 0.001\n"
          ]
        },
        {
          "metadata": {
            "tags": null
          },
          "name": "stderr",
          "output_type": "stream",
          "text": [
            "epoch 193: 100%|██████████| 282/282 [00:08<00:00, 33.23it/s]\n"
          ]
        },
        {
          "metadata": {
            "tags": null
          },
          "name": "stdout",
          "output_type": "stream",
          "text": [
            "validation loss: 0.0014017073056764072 at epoch 194\n",
            "learning_rate: 0.001\n"
          ]
        },
        {
          "metadata": {
            "tags": null
          },
          "name": "stderr",
          "output_type": "stream",
          "text": [
            "epoch 194: 100%|██████████| 282/282 [00:07<00:00, 36.89it/s]\n"
          ]
        },
        {
          "metadata": {
            "tags": null
          },
          "name": "stdout",
          "output_type": "stream",
          "text": [
            "validation loss: 0.004955061074760225 at epoch 195\n",
            "learning_rate: 0.001\n"
          ]
        },
        {
          "metadata": {
            "tags": null
          },
          "name": "stderr",
          "output_type": "stream",
          "text": [
            "epoch 195: 100%|██████████| 282/282 [00:08<00:00, 32.26it/s]\n"
          ]
        },
        {
          "metadata": {
            "tags": null
          },
          "name": "stdout",
          "output_type": "stream",
          "text": [
            "validation loss: 0.0010241420641541482 at epoch 196\n",
            "learning_rate: 0.001\n"
          ]
        },
        {
          "metadata": {
            "tags": null
          },
          "name": "stderr",
          "output_type": "stream",
          "text": [
            "epoch 196: 100%|██████████| 282/282 [00:08<00:00, 32.40it/s]\n"
          ]
        },
        {
          "metadata": {
            "tags": null
          },
          "name": "stdout",
          "output_type": "stream",
          "text": [
            "validation loss: 0.004769134233395258 at epoch 197\n",
            "learning_rate: 0.001\n"
          ]
        },
        {
          "metadata": {
            "tags": null
          },
          "name": "stderr",
          "output_type": "stream",
          "text": [
            "epoch 197: 100%|██████████| 282/282 [00:07<00:00, 36.47it/s]\n"
          ]
        },
        {
          "metadata": {
            "tags": null
          },
          "name": "stdout",
          "output_type": "stream",
          "text": [
            "validation loss: 0.002048737986220254 at epoch 198\n",
            "learning_rate: 0.001\n"
          ]
        },
        {
          "metadata": {
            "tags": null
          },
          "name": "stderr",
          "output_type": "stream",
          "text": [
            "epoch 198: 100%|██████████| 282/282 [00:08<00:00, 34.77it/s]\n"
          ]
        },
        {
          "metadata": {
            "tags": null
          },
          "name": "stdout",
          "output_type": "stream",
          "text": [
            "validation loss: 0.0008330319221648905 at epoch 199\n",
            "learning_rate: 0.001\n"
          ]
        },
        {
          "metadata": {
            "tags": null
          },
          "name": "stderr",
          "output_type": "stream",
          "text": [
            "epoch 199: 100%|██████████| 282/282 [00:08<00:00, 33.78it/s]\n"
          ]
        },
        {
          "metadata": {
            "tags": null
          },
          "name": "stdout",
          "output_type": "stream",
          "text": [
            "validation loss: 0.0020489677869611317 at epoch 200\n",
            "learning_rate: 0.001\n"
          ]
        },
        {
          "metadata": {
            "tags": null
          },
          "name": "stderr",
          "output_type": "stream",
          "text": [
            "epoch 200: 100%|██████████| 282/282 [00:07<00:00, 36.96it/s]\n"
          ]
        },
        {
          "metadata": {
            "tags": null
          },
          "name": "stdout",
          "output_type": "stream",
          "text": [
            "validation loss: 0.004222465091281467 at epoch 201\n",
            "learning_rate: 0.001\n"
          ]
        },
        {
          "metadata": {
            "tags": null
          },
          "name": "stderr",
          "output_type": "stream",
          "text": [
            "epoch 201: 100%|██████████| 282/282 [00:07<00:00, 35.44it/s]\n"
          ]
        },
        {
          "metadata": {
            "tags": null
          },
          "name": "stdout",
          "output_type": "stream",
          "text": [
            "validation loss: 0.0012160965278744697 at epoch 202\n",
            "learning_rate: 0.001\n"
          ]
        },
        {
          "metadata": {
            "tags": null
          },
          "name": "stderr",
          "output_type": "stream",
          "text": [
            "epoch 202: 100%|██████████| 282/282 [00:08<00:00, 33.94it/s]\n"
          ]
        },
        {
          "metadata": {
            "tags": null
          },
          "name": "stdout",
          "output_type": "stream",
          "text": [
            "validation loss: 0.0010572610108388796 at epoch 203\n",
            "learning_rate: 0.001\n"
          ]
        },
        {
          "metadata": {
            "tags": null
          },
          "name": "stderr",
          "output_type": "stream",
          "text": [
            "epoch 203: 100%|██████████| 282/282 [00:08<00:00, 34.92it/s]\n"
          ]
        },
        {
          "metadata": {
            "tags": null
          },
          "name": "stdout",
          "output_type": "stream",
          "text": [
            "validation loss: 0.001543820636967818 at epoch 204\n",
            "learning_rate: 0.001\n"
          ]
        },
        {
          "metadata": {
            "tags": null
          },
          "name": "stderr",
          "output_type": "stream",
          "text": [
            "epoch 204: 100%|██████████| 282/282 [00:07<00:00, 36.91it/s]\n"
          ]
        },
        {
          "metadata": {
            "tags": null
          },
          "name": "stdout",
          "output_type": "stream",
          "text": [
            "validation loss: 0.000772118392917845 at epoch 205\n",
            "learning_rate: 0.001\n"
          ]
        },
        {
          "metadata": {
            "tags": null
          },
          "name": "stderr",
          "output_type": "stream",
          "text": [
            "epoch 205: 100%|██████████| 282/282 [00:08<00:00, 33.50it/s]\n"
          ]
        },
        {
          "metadata": {
            "tags": null
          },
          "name": "stdout",
          "output_type": "stream",
          "text": [
            "validation loss: 0.0006407313905656337 at epoch 206\n",
            "learning_rate: 0.001\n",
            "model saved in ani_acrolein.pt\n"
          ]
        },
        {
          "metadata": {
            "tags": null
          },
          "name": "stderr",
          "output_type": "stream",
          "text": [
            "epoch 206: 100%|██████████| 282/282 [00:08<00:00, 34.71it/s]\n"
          ]
        },
        {
          "metadata": {
            "tags": null
          },
          "name": "stdout",
          "output_type": "stream",
          "text": [
            "validation loss: 0.0012767129209306505 at epoch 207\n",
            "learning_rate: 0.001\n"
          ]
        },
        {
          "metadata": {
            "tags": null
          },
          "name": "stderr",
          "output_type": "stream",
          "text": [
            "epoch 207: 100%|██████████| 282/282 [00:07<00:00, 37.61it/s]\n"
          ]
        },
        {
          "metadata": {
            "tags": null
          },
          "name": "stdout",
          "output_type": "stream",
          "text": [
            "validation loss: 0.007156194011370341 at epoch 208\n",
            "learning_rate: 0.001\n"
          ]
        },
        {
          "metadata": {
            "tags": null
          },
          "name": "stderr",
          "output_type": "stream",
          "text": [
            "epoch 208: 100%|██████████| 282/282 [00:08<00:00, 33.60it/s]\n"
          ]
        },
        {
          "metadata": {
            "tags": null
          },
          "name": "stdout",
          "output_type": "stream",
          "text": [
            "validation loss: 0.003247288015153673 at epoch 209\n",
            "learning_rate: 0.001\n"
          ]
        },
        {
          "metadata": {
            "tags": null
          },
          "name": "stderr",
          "output_type": "stream",
          "text": [
            "epoch 209: 100%|██████████| 282/282 [00:08<00:00, 32.80it/s]\n"
          ]
        },
        {
          "metadata": {
            "tags": null
          },
          "name": "stdout",
          "output_type": "stream",
          "text": [
            "validation loss: 0.006670964870187972 at epoch 210\n",
            "learning_rate: 0.001\n"
          ]
        },
        {
          "metadata": {
            "tags": null
          },
          "name": "stderr",
          "output_type": "stream",
          "text": [
            "epoch 210: 100%|██████████| 282/282 [00:07<00:00, 35.86it/s]\n"
          ]
        },
        {
          "metadata": {
            "tags": null
          },
          "name": "stdout",
          "output_type": "stream",
          "text": [
            "validation loss: 0.0010819080058071349 at epoch 211\n",
            "learning_rate: 0.001\n"
          ]
        },
        {
          "metadata": {
            "tags": null
          },
          "name": "stderr",
          "output_type": "stream",
          "text": [
            "epoch 211: 100%|██████████| 282/282 [00:08<00:00, 32.64it/s]\n"
          ]
        },
        {
          "metadata": {
            "tags": null
          },
          "name": "stdout",
          "output_type": "stream",
          "text": [
            "validation loss: 0.0017363605673114458 at epoch 212\n",
            "learning_rate: 0.001\n"
          ]
        },
        {
          "metadata": {
            "tags": null
          },
          "name": "stderr",
          "output_type": "stream",
          "text": [
            "epoch 212: 100%|██████████| 282/282 [00:08<00:00, 32.19it/s]\n"
          ]
        },
        {
          "metadata": {
            "tags": null
          },
          "name": "stdout",
          "output_type": "stream",
          "text": [
            "validation loss: 0.00324996245569653 at epoch 213\n",
            "learning_rate: 0.001\n"
          ]
        },
        {
          "metadata": {
            "tags": null
          },
          "name": "stderr",
          "output_type": "stream",
          "text": [
            "epoch 213: 100%|██████████| 282/282 [00:07<00:00, 35.53it/s]\n"
          ]
        },
        {
          "metadata": {
            "tags": null
          },
          "name": "stdout",
          "output_type": "stream",
          "text": [
            "validation loss: 0.0020185276170571645 at epoch 214\n",
            "learning_rate: 0.001\n"
          ]
        },
        {
          "metadata": {
            "tags": null
          },
          "name": "stderr",
          "output_type": "stream",
          "text": [
            "epoch 214: 100%|██████████| 282/282 [00:08<00:00, 33.59it/s]\n"
          ]
        },
        {
          "metadata": {
            "tags": null
          },
          "name": "stdout",
          "output_type": "stream",
          "text": [
            "validation loss: 0.0018894936425818338 at epoch 215\n",
            "learning_rate: 0.001\n"
          ]
        },
        {
          "metadata": {
            "tags": null
          },
          "name": "stderr",
          "output_type": "stream",
          "text": [
            "epoch 215: 100%|██████████| 282/282 [00:08<00:00, 32.87it/s]\n"
          ]
        },
        {
          "metadata": {
            "tags": null
          },
          "name": "stdout",
          "output_type": "stream",
          "text": [
            "validation loss: 0.0008862811235917939 at epoch 216\n",
            "learning_rate: 0.001\n"
          ]
        },
        {
          "metadata": {
            "tags": null
          },
          "name": "stderr",
          "output_type": "stream",
          "text": [
            "epoch 216: 100%|██████████| 282/282 [00:08<00:00, 33.71it/s]\n"
          ]
        },
        {
          "metadata": {
            "tags": null
          },
          "name": "stdout",
          "output_type": "stream",
          "text": [
            "validation loss: 0.0035176000114944244 at epoch 217\n",
            "learning_rate: 0.001\n"
          ]
        },
        {
          "metadata": {
            "tags": null
          },
          "name": "stderr",
          "output_type": "stream",
          "text": [
            "epoch 217: 100%|██████████| 282/282 [00:07<00:00, 36.64it/s]\n"
          ]
        },
        {
          "metadata": {
            "tags": null
          },
          "name": "stdout",
          "output_type": "stream",
          "text": [
            "validation loss: 0.0006861291515330473 at epoch 218\n",
            "learning_rate: 0.001\n"
          ]
        },
        {
          "metadata": {
            "tags": null
          },
          "name": "stderr",
          "output_type": "stream",
          "text": [
            "epoch 218: 100%|██████████| 282/282 [00:08<00:00, 32.18it/s]\n"
          ]
        },
        {
          "metadata": {
            "tags": null
          },
          "name": "stdout",
          "output_type": "stream",
          "text": [
            "validation loss: 0.002121121100253529 at epoch 219\n",
            "learning_rate: 0.001\n"
          ]
        },
        {
          "metadata": {
            "tags": null
          },
          "name": "stderr",
          "output_type": "stream",
          "text": [
            "epoch 219: 100%|██████████| 282/282 [00:08<00:00, 32.83it/s]\n"
          ]
        },
        {
          "metadata": {
            "tags": null
          },
          "name": "stdout",
          "output_type": "stream",
          "text": [
            "validation loss: 0.0010447609581881098 at epoch 220\n",
            "learning_rate: 0.001\n"
          ]
        },
        {
          "metadata": {
            "tags": null
          },
          "name": "stderr",
          "output_type": "stream",
          "text": [
            "epoch 220: 100%|██████████| 282/282 [00:07<00:00, 37.01it/s]\n"
          ]
        },
        {
          "metadata": {
            "tags": null
          },
          "name": "stdout",
          "output_type": "stream",
          "text": [
            "validation loss: 0.005976672252019246 at epoch 221\n",
            "learning_rate: 0.001\n"
          ]
        },
        {
          "metadata": {
            "tags": null
          },
          "name": "stderr",
          "output_type": "stream",
          "text": [
            "epoch 221: 100%|██████████| 282/282 [00:08<00:00, 33.36it/s]\n"
          ]
        },
        {
          "metadata": {
            "tags": null
          },
          "name": "stdout",
          "output_type": "stream",
          "text": [
            "validation loss: 0.0020816877285639445 at epoch 222\n",
            "learning_rate: 0.001\n"
          ]
        },
        {
          "metadata": {
            "tags": null
          },
          "name": "stderr",
          "output_type": "stream",
          "text": [
            "epoch 222: 100%|██████████| 282/282 [00:08<00:00, 33.21it/s]\n"
          ]
        },
        {
          "metadata": {
            "tags": null
          },
          "name": "stdout",
          "output_type": "stream",
          "text": [
            "validation loss: 0.0008329858481884002 at epoch 223\n",
            "learning_rate: 0.001\n"
          ]
        },
        {
          "metadata": {
            "tags": null
          },
          "name": "stderr",
          "output_type": "stream",
          "text": [
            "epoch 223: 100%|██████████| 282/282 [00:07<00:00, 36.87it/s]\n"
          ]
        },
        {
          "metadata": {
            "tags": null
          },
          "name": "stdout",
          "output_type": "stream",
          "text": [
            "validation loss: 0.0008813851401209831 at epoch 224\n",
            "learning_rate: 0.001\n"
          ]
        },
        {
          "metadata": {
            "tags": null
          },
          "name": "stderr",
          "output_type": "stream",
          "text": [
            "epoch 224: 100%|██████████| 282/282 [00:08<00:00, 33.47it/s]\n"
          ]
        },
        {
          "metadata": {
            "tags": null
          },
          "name": "stdout",
          "output_type": "stream",
          "text": [
            "validation loss: 0.00583759367134836 at epoch 225\n",
            "learning_rate: 0.001\n"
          ]
        },
        {
          "metadata": {
            "tags": null
          },
          "name": "stderr",
          "output_type": "stream",
          "text": [
            "epoch 225: 100%|██████████| 282/282 [00:08<00:00, 33.16it/s]\n"
          ]
        },
        {
          "metadata": {
            "tags": null
          },
          "name": "stdout",
          "output_type": "stream",
          "text": [
            "validation loss: 0.0006959355990919802 at epoch 226\n",
            "learning_rate: 0.001\n"
          ]
        },
        {
          "metadata": {
            "tags": null
          },
          "name": "stderr",
          "output_type": "stream",
          "text": [
            "epoch 226: 100%|██████████| 282/282 [00:07<00:00, 37.19it/s]\n"
          ]
        },
        {
          "metadata": {
            "tags": null
          },
          "name": "stdout",
          "output_type": "stream",
          "text": [
            "validation loss: 0.000683202943040265 at epoch 227\n",
            "learning_rate: 0.001\n"
          ]
        },
        {
          "metadata": {
            "tags": null
          },
          "name": "stderr",
          "output_type": "stream",
          "text": [
            "epoch 227: 100%|██████████| 282/282 [00:08<00:00, 33.48it/s]\n"
          ]
        },
        {
          "metadata": {
            "tags": null
          },
          "name": "stdout",
          "output_type": "stream",
          "text": [
            "validation loss: 0.0032495761695835327 at epoch 228\n",
            "learning_rate: 0.001\n"
          ]
        },
        {
          "metadata": {
            "tags": null
          },
          "name": "stderr",
          "output_type": "stream",
          "text": [
            "epoch 228: 100%|██████████| 282/282 [00:08<00:00, 33.61it/s]\n"
          ]
        },
        {
          "metadata": {
            "tags": null
          },
          "name": "stdout",
          "output_type": "stream",
          "text": [
            "validation loss: 0.0009913165378901694 at epoch 229\n",
            "learning_rate: 0.001\n"
          ]
        },
        {
          "metadata": {
            "tags": null
          },
          "name": "stderr",
          "output_type": "stream",
          "text": [
            "epoch 229: 100%|██████████| 282/282 [00:07<00:00, 36.87it/s]\n"
          ]
        },
        {
          "metadata": {
            "tags": null
          },
          "name": "stdout",
          "output_type": "stream",
          "text": [
            "validation loss: 0.0008148881623314487 at epoch 230\n",
            "learning_rate: 0.001\n"
          ]
        },
        {
          "metadata": {
            "tags": null
          },
          "name": "stderr",
          "output_type": "stream",
          "text": [
            "epoch 230: 100%|██████████| 282/282 [00:08<00:00, 34.34it/s]\n"
          ]
        },
        {
          "metadata": {
            "tags": null
          },
          "name": "stdout",
          "output_type": "stream",
          "text": [
            "validation loss: 0.0010688941553235055 at epoch 231\n",
            "learning_rate: 0.001\n"
          ]
        },
        {
          "metadata": {
            "tags": null
          },
          "name": "stderr",
          "output_type": "stream",
          "text": [
            "epoch 231: 100%|██████████| 282/282 [00:08<00:00, 33.12it/s]\n"
          ]
        },
        {
          "metadata": {
            "tags": null
          },
          "name": "stdout",
          "output_type": "stream",
          "text": [
            "validation loss: 0.003843196921878391 at epoch 232\n",
            "learning_rate: 0.001\n"
          ]
        },
        {
          "metadata": {
            "tags": null
          },
          "name": "stderr",
          "output_type": "stream",
          "text": [
            "epoch 232: 100%|██████████| 282/282 [00:07<00:00, 36.19it/s]\n"
          ]
        },
        {
          "metadata": {
            "tags": null
          },
          "name": "stdout",
          "output_type": "stream",
          "text": [
            "validation loss: 0.0009938288715978464 at epoch 233\n",
            "learning_rate: 0.001\n"
          ]
        },
        {
          "metadata": {
            "tags": null
          },
          "name": "stderr",
          "output_type": "stream",
          "text": [
            "epoch 233: 100%|██████████| 282/282 [00:08<00:00, 34.92it/s]\n"
          ]
        },
        {
          "metadata": {
            "tags": null
          },
          "name": "stdout",
          "output_type": "stream",
          "text": [
            "validation loss: 0.0007911624887751208 at epoch 234\n",
            "learning_rate: 0.001\n"
          ]
        },
        {
          "metadata": {
            "tags": null
          },
          "name": "stderr",
          "output_type": "stream",
          "text": [
            "epoch 234: 100%|██████████| 282/282 [00:08<00:00, 32.96it/s]\n"
          ]
        },
        {
          "metadata": {
            "tags": null
          },
          "name": "stdout",
          "output_type": "stream",
          "text": [
            "validation loss: 0.005046404841873381 at epoch 235\n",
            "learning_rate: 0.001\n"
          ]
        },
        {
          "metadata": {
            "tags": null
          },
          "name": "stderr",
          "output_type": "stream",
          "text": [
            "epoch 235: 100%|██████████| 282/282 [00:08<00:00, 35.01it/s]\n"
          ]
        },
        {
          "metadata": {
            "tags": null
          },
          "name": "stdout",
          "output_type": "stream",
          "text": [
            "validation loss: 0.003803435034222073 at epoch 236\n",
            "learning_rate: 0.001\n"
          ]
        },
        {
          "metadata": {
            "tags": null
          },
          "name": "stderr",
          "output_type": "stream",
          "text": [
            "epoch 236: 100%|██████████| 282/282 [00:07<00:00, 36.50it/s]\n"
          ]
        },
        {
          "metadata": {
            "tags": null
          },
          "name": "stdout",
          "output_type": "stream",
          "text": [
            "validation loss: 0.001074433572590351 at epoch 237\n",
            "learning_rate: 0.001\n"
          ]
        },
        {
          "metadata": {
            "tags": null
          },
          "name": "stderr",
          "output_type": "stream",
          "text": [
            "epoch 237: 100%|██████████| 282/282 [00:08<00:00, 33.41it/s]\n"
          ]
        },
        {
          "metadata": {
            "tags": null
          },
          "name": "stdout",
          "output_type": "stream",
          "text": [
            "validation loss: 0.0007820837791595194 at epoch 238\n",
            "learning_rate: 0.001\n"
          ]
        },
        {
          "metadata": {
            "tags": null
          },
          "name": "stderr",
          "output_type": "stream",
          "text": [
            "epoch 238: 100%|██████████| 282/282 [00:08<00:00, 34.02it/s]\n"
          ]
        },
        {
          "metadata": {
            "tags": null
          },
          "name": "stdout",
          "output_type": "stream",
          "text": [
            "validation loss: 0.001152324952185154 at epoch 239\n",
            "learning_rate: 0.001\n"
          ]
        },
        {
          "metadata": {
            "tags": null
          },
          "name": "stderr",
          "output_type": "stream",
          "text": [
            "epoch 239: 100%|██████████| 282/282 [00:07<00:00, 36.77it/s]\n"
          ]
        },
        {
          "metadata": {
            "tags": null
          },
          "name": "stdout",
          "output_type": "stream",
          "text": [
            "validation loss: 0.0018838811301522785 at epoch 240\n",
            "learning_rate: 0.001\n"
          ]
        },
        {
          "metadata": {
            "tags": null
          },
          "name": "stderr",
          "output_type": "stream",
          "text": [
            "epoch 240: 100%|██████████| 282/282 [00:08<00:00, 33.58it/s]\n"
          ]
        },
        {
          "metadata": {
            "tags": null
          },
          "name": "stdout",
          "output_type": "stream",
          "text": [
            "validation loss: 0.005320590840445625 at epoch 241\n",
            "learning_rate: 0.001\n"
          ]
        },
        {
          "metadata": {
            "tags": null
          },
          "name": "stderr",
          "output_type": "stream",
          "text": [
            "epoch 241: 100%|██████████| 282/282 [00:08<00:00, 33.38it/s]\n"
          ]
        },
        {
          "metadata": {
            "tags": null
          },
          "name": "stdout",
          "output_type": "stream",
          "text": [
            "validation loss: 0.0010783670395612716 at epoch 242\n",
            "learning_rate: 0.001\n"
          ]
        },
        {
          "metadata": {
            "tags": null
          },
          "name": "stderr",
          "output_type": "stream",
          "text": [
            "epoch 242: 100%|██████████| 282/282 [00:07<00:00, 37.41it/s]\n"
          ]
        },
        {
          "metadata": {
            "tags": null
          },
          "name": "stdout",
          "output_type": "stream",
          "text": [
            "validation loss: 0.0006248935005731053 at epoch 243\n",
            "learning_rate: 0.001\n",
            "model saved in ani_acrolein.pt\n"
          ]
        },
        {
          "metadata": {
            "tags": null
          },
          "name": "stderr",
          "output_type": "stream",
          "text": [
            "epoch 243: 100%|██████████| 282/282 [00:08<00:00, 33.67it/s]\n"
          ]
        },
        {
          "metadata": {
            "tags": null
          },
          "name": "stdout",
          "output_type": "stream",
          "text": [
            "validation loss: 0.0032881839159462187 at epoch 244\n",
            "learning_rate: 0.001\n"
          ]
        },
        {
          "metadata": {
            "tags": null
          },
          "name": "stderr",
          "output_type": "stream",
          "text": [
            "epoch 244: 100%|██████████| 282/282 [00:08<00:00, 33.79it/s]\n"
          ]
        },
        {
          "metadata": {
            "tags": null
          },
          "name": "stdout",
          "output_type": "stream",
          "text": [
            "validation loss: 0.0016599859396616617 at epoch 245\n",
            "learning_rate: 0.001\n"
          ]
        },
        {
          "metadata": {
            "tags": null
          },
          "name": "stderr",
          "output_type": "stream",
          "text": [
            "epoch 245: 100%|██████████| 282/282 [00:07<00:00, 37.64it/s]\n"
          ]
        },
        {
          "metadata": {
            "tags": null
          },
          "name": "stdout",
          "output_type": "stream",
          "text": [
            "validation loss: 0.0017995951349536578 at epoch 246\n",
            "learning_rate: 0.001\n"
          ]
        },
        {
          "metadata": {
            "tags": null
          },
          "name": "stderr",
          "output_type": "stream",
          "text": [
            "epoch 246: 100%|██████████| 282/282 [00:08<00:00, 33.84it/s]\n"
          ]
        },
        {
          "metadata": {
            "tags": null
          },
          "name": "stdout",
          "output_type": "stream",
          "text": [
            "validation loss: 0.0015224700371424358 at epoch 247\n",
            "learning_rate: 0.001\n"
          ]
        },
        {
          "metadata": {
            "tags": null
          },
          "name": "stderr",
          "output_type": "stream",
          "text": [
            "epoch 247: 100%|██████████| 282/282 [00:08<00:00, 33.80it/s]\n"
          ]
        },
        {
          "metadata": {
            "tags": null
          },
          "name": "stdout",
          "output_type": "stream",
          "text": [
            "validation loss: 0.0016954680391483836 at epoch 248\n",
            "learning_rate: 0.001\n"
          ]
        },
        {
          "metadata": {
            "tags": null
          },
          "name": "stderr",
          "output_type": "stream",
          "text": [
            "epoch 248: 100%|██████████| 282/282 [00:07<00:00, 37.57it/s]\n"
          ]
        },
        {
          "metadata": {
            "tags": null
          },
          "name": "stdout",
          "output_type": "stream",
          "text": [
            "validation loss: 0.002906970110204485 at epoch 249\n",
            "learning_rate: 0.001\n"
          ]
        },
        {
          "metadata": {
            "tags": null
          },
          "name": "stderr",
          "output_type": "stream",
          "text": [
            "epoch 249: 100%|██████████| 282/282 [00:08<00:00, 33.37it/s]\n"
          ]
        },
        {
          "metadata": {
            "tags": null
          },
          "name": "stdout",
          "output_type": "stream",
          "text": [
            "validation loss: 0.0016144582620925374 at epoch 250\n",
            "learning_rate: 0.001\n"
          ]
        },
        {
          "metadata": {
            "tags": null
          },
          "name": "stderr",
          "output_type": "stream",
          "text": [
            "epoch 250: 100%|██████████| 282/282 [00:08<00:00, 33.33it/s]\n"
          ]
        },
        {
          "metadata": {
            "tags": null
          },
          "name": "stdout",
          "output_type": "stream",
          "text": [
            "validation loss: 0.0017414167788293627 at epoch 251\n",
            "learning_rate: 0.001\n"
          ]
        },
        {
          "metadata": {
            "tags": null
          },
          "name": "stderr",
          "output_type": "stream",
          "text": [
            "epoch 251: 100%|██████████| 282/282 [00:07<00:00, 37.67it/s]\n"
          ]
        },
        {
          "metadata": {
            "tags": null
          },
          "name": "stdout",
          "output_type": "stream",
          "text": [
            "validation loss: 0.002035741812653012 at epoch 252\n",
            "learning_rate: 0.001\n"
          ]
        },
        {
          "metadata": {
            "tags": null
          },
          "name": "stderr",
          "output_type": "stream",
          "text": [
            "epoch 252: 100%|██████████| 282/282 [00:08<00:00, 33.58it/s]\n"
          ]
        },
        {
          "metadata": {
            "tags": null
          },
          "name": "stdout",
          "output_type": "stream",
          "text": [
            "validation loss: 0.0006097363933093018 at epoch 253\n",
            "learning_rate: 0.001\n",
            "model saved in ani_acrolein.pt\n"
          ]
        },
        {
          "metadata": {
            "tags": null
          },
          "name": "stderr",
          "output_type": "stream",
          "text": [
            "epoch 253: 100%|██████████| 282/282 [00:08<00:00, 33.70it/s]\n"
          ]
        },
        {
          "metadata": {
            "tags": null
          },
          "name": "stdout",
          "output_type": "stream",
          "text": [
            "validation loss: 0.0036210132075680627 at epoch 254\n",
            "learning_rate: 0.001\n"
          ]
        },
        {
          "metadata": {
            "tags": null
          },
          "name": "stderr",
          "output_type": "stream",
          "text": [
            "epoch 254: 100%|██████████| 282/282 [00:07<00:00, 37.34it/s]\n"
          ]
        },
        {
          "metadata": {
            "tags": null
          },
          "name": "stdout",
          "output_type": "stream",
          "text": [
            "validation loss: 0.0018740629802147548 at epoch 255\n",
            "learning_rate: 0.001\n"
          ]
        },
        {
          "metadata": {
            "tags": null
          },
          "name": "stderr",
          "output_type": "stream",
          "text": [
            "epoch 255: 100%|██████████| 282/282 [00:08<00:00, 34.05it/s]\n"
          ]
        },
        {
          "metadata": {
            "tags": null
          },
          "name": "stdout",
          "output_type": "stream",
          "text": [
            "validation loss: 0.0006483560808830791 at epoch 256\n",
            "learning_rate: 0.001\n"
          ]
        },
        {
          "metadata": {
            "tags": null
          },
          "name": "stderr",
          "output_type": "stream",
          "text": [
            "epoch 256: 100%|██████████| 282/282 [00:08<00:00, 33.96it/s]\n"
          ]
        },
        {
          "metadata": {
            "tags": null
          },
          "name": "stdout",
          "output_type": "stream",
          "text": [
            "validation loss: 0.0010681256055831909 at epoch 257\n",
            "learning_rate: 0.001\n"
          ]
        },
        {
          "metadata": {
            "tags": null
          },
          "name": "stderr",
          "output_type": "stream",
          "text": [
            "epoch 257: 100%|██████████| 282/282 [00:07<00:00, 37.21it/s]\n"
          ]
        },
        {
          "metadata": {
            "tags": null
          },
          "name": "stdout",
          "output_type": "stream",
          "text": [
            "validation loss: 0.006828439772129059 at epoch 258\n",
            "learning_rate: 0.001\n"
          ]
        },
        {
          "metadata": {
            "tags": null
          },
          "name": "stderr",
          "output_type": "stream",
          "text": [
            "epoch 258: 100%|██████████| 282/282 [00:08<00:00, 34.93it/s]\n"
          ]
        },
        {
          "metadata": {
            "tags": null
          },
          "name": "stdout",
          "output_type": "stream",
          "text": [
            "validation loss: 0.0011542738477389018 at epoch 259\n",
            "learning_rate: 0.001\n"
          ]
        },
        {
          "metadata": {
            "tags": null
          },
          "name": "stderr",
          "output_type": "stream",
          "text": [
            "epoch 259: 100%|██████████| 282/282 [00:08<00:00, 33.77it/s]\n"
          ]
        },
        {
          "metadata": {
            "tags": null
          },
          "name": "stdout",
          "output_type": "stream",
          "text": [
            "validation loss: 0.0008931939510835542 at epoch 260\n",
            "learning_rate: 0.001\n"
          ]
        },
        {
          "metadata": {
            "tags": null
          },
          "name": "stderr",
          "output_type": "stream",
          "text": [
            "epoch 260: 100%|██████████| 282/282 [00:07<00:00, 36.39it/s]\n"
          ]
        },
        {
          "metadata": {
            "tags": null
          },
          "name": "stdout",
          "output_type": "stream",
          "text": [
            "validation loss: 0.0008116978311704264 at epoch 261\n",
            "learning_rate: 0.001\n"
          ]
        },
        {
          "metadata": {
            "tags": null
          },
          "name": "stderr",
          "output_type": "stream",
          "text": [
            "epoch 261: 100%|██████████| 282/282 [00:08<00:00, 35.22it/s]\n"
          ]
        },
        {
          "metadata": {
            "tags": null
          },
          "name": "stdout",
          "output_type": "stream",
          "text": [
            "validation loss: 0.0008155436594453123 at epoch 262\n",
            "learning_rate: 0.001\n"
          ]
        },
        {
          "metadata": {
            "tags": null
          },
          "name": "stderr",
          "output_type": "stream",
          "text": [
            "epoch 262: 100%|██████████| 282/282 [00:08<00:00, 33.71it/s]\n"
          ]
        },
        {
          "metadata": {
            "tags": null
          },
          "name": "stdout",
          "output_type": "stream",
          "text": [
            "validation loss: 0.006364398294024997 at epoch 263\n",
            "learning_rate: 0.001\n"
          ]
        },
        {
          "metadata": {
            "tags": null
          },
          "name": "stderr",
          "output_type": "stream",
          "text": [
            "epoch 263: 100%|██████████| 282/282 [00:08<00:00, 33.95it/s]\n"
          ]
        },
        {
          "metadata": {
            "tags": null
          },
          "name": "stdout",
          "output_type": "stream",
          "text": [
            "validation loss: 0.0007484085419111781 at epoch 264\n",
            "learning_rate: 0.001\n"
          ]
        },
        {
          "metadata": {
            "tags": null
          },
          "name": "stderr",
          "output_type": "stream",
          "text": [
            "epoch 264: 100%|██████████| 282/282 [00:07<00:00, 35.73it/s]\n"
          ]
        },
        {
          "metadata": {
            "tags": null
          },
          "name": "stdout",
          "output_type": "stream",
          "text": [
            "validation loss: 0.0012006832344664468 at epoch 265\n",
            "learning_rate: 0.001\n"
          ]
        },
        {
          "metadata": {
            "tags": null
          },
          "name": "stderr",
          "output_type": "stream",
          "text": [
            "epoch 265: 100%|██████████| 282/282 [00:08<00:00, 32.28it/s]\n"
          ]
        },
        {
          "metadata": {
            "tags": null
          },
          "name": "stdout",
          "output_type": "stream",
          "text": [
            "validation loss: 0.0027243506775961983 at epoch 266\n",
            "learning_rate: 0.001\n"
          ]
        },
        {
          "metadata": {
            "tags": null
          },
          "name": "stderr",
          "output_type": "stream",
          "text": [
            "epoch 266: 100%|██████████| 282/282 [00:08<00:00, 31.97it/s]\n"
          ]
        },
        {
          "metadata": {
            "tags": null
          },
          "name": "stdout",
          "output_type": "stream",
          "text": [
            "validation loss: 0.0016426042897833718 at epoch 267\n",
            "learning_rate: 0.001\n"
          ]
        },
        {
          "metadata": {
            "tags": null
          },
          "name": "stderr",
          "output_type": "stream",
          "text": [
            "epoch 267: 100%|██████████| 282/282 [00:07<00:00, 35.72it/s]\n"
          ]
        },
        {
          "metadata": {
            "tags": null
          },
          "name": "stdout",
          "output_type": "stream",
          "text": [
            "validation loss: 0.001115704240070449 at epoch 268\n",
            "learning_rate: 0.001\n"
          ]
        },
        {
          "metadata": {
            "tags": null
          },
          "name": "stderr",
          "output_type": "stream",
          "text": [
            "epoch 268: 100%|██████████| 282/282 [00:08<00:00, 32.37it/s]\n"
          ]
        },
        {
          "metadata": {
            "tags": null
          },
          "name": "stdout",
          "output_type": "stream",
          "text": [
            "validation loss: 0.000937452954136663 at epoch 269\n",
            "learning_rate: 0.001\n"
          ]
        },
        {
          "metadata": {
            "tags": null
          },
          "name": "stderr",
          "output_type": "stream",
          "text": [
            "epoch 269: 100%|██████████| 282/282 [00:08<00:00, 32.02it/s]\n"
          ]
        },
        {
          "metadata": {
            "tags": null
          },
          "name": "stdout",
          "output_type": "stream",
          "text": [
            "validation loss: 0.0029458941618601482 at epoch 270\n",
            "learning_rate: 0.001\n"
          ]
        },
        {
          "metadata": {
            "tags": null
          },
          "name": "stderr",
          "output_type": "stream",
          "text": [
            "epoch 270: 100%|██████████| 282/282 [00:08<00:00, 34.72it/s]\n"
          ]
        },
        {
          "metadata": {
            "tags": null
          },
          "name": "stdout",
          "output_type": "stream",
          "text": [
            "validation loss: 0.0007790338988933298 at epoch 271\n",
            "learning_rate: 0.001\n"
          ]
        },
        {
          "metadata": {
            "tags": null
          },
          "name": "stderr",
          "output_type": "stream",
          "text": [
            "epoch 271: 100%|██████████| 282/282 [00:08<00:00, 32.69it/s]\n"
          ]
        },
        {
          "metadata": {
            "tags": null
          },
          "name": "stdout",
          "output_type": "stream",
          "text": [
            "validation loss: 0.0007512309352556865 at epoch 272\n",
            "learning_rate: 0.001\n"
          ]
        },
        {
          "metadata": {
            "tags": null
          },
          "name": "stderr",
          "output_type": "stream",
          "text": [
            "epoch 272: 100%|██████████| 282/282 [00:08<00:00, 32.05it/s]\n"
          ]
        },
        {
          "metadata": {
            "tags": null
          },
          "name": "stdout",
          "output_type": "stream",
          "text": [
            "validation loss: 0.0017805228208502134 at epoch 273\n",
            "learning_rate: 0.001\n"
          ]
        },
        {
          "metadata": {
            "tags": null
          },
          "name": "stderr",
          "output_type": "stream",
          "text": [
            "epoch 273: 100%|██████████| 282/282 [00:08<00:00, 33.50it/s]\n"
          ]
        },
        {
          "metadata": {
            "tags": null
          },
          "name": "stdout",
          "output_type": "stream",
          "text": [
            "validation loss: 0.001857735256354014 at epoch 274\n",
            "learning_rate: 0.001\n"
          ]
        },
        {
          "metadata": {
            "tags": null
          },
          "name": "stderr",
          "output_type": "stream",
          "text": [
            "epoch 274: 100%|██████████| 282/282 [00:08<00:00, 35.00it/s]\n"
          ]
        },
        {
          "metadata": {
            "tags": null
          },
          "name": "stdout",
          "output_type": "stream",
          "text": [
            "validation loss: 0.002081565135055118 at epoch 275\n",
            "learning_rate: 0.001\n"
          ]
        },
        {
          "metadata": {
            "tags": null
          },
          "name": "stderr",
          "output_type": "stream",
          "text": [
            "epoch 275: 100%|██████████| 282/282 [00:08<00:00, 32.88it/s]\n"
          ]
        },
        {
          "metadata": {
            "tags": null
          },
          "name": "stdout",
          "output_type": "stream",
          "text": [
            "validation loss: 0.0007970898643963867 at epoch 276\n",
            "learning_rate: 0.001\n"
          ]
        },
        {
          "metadata": {
            "tags": null
          },
          "name": "stderr",
          "output_type": "stream",
          "text": [
            "epoch 276: 100%|██████████| 282/282 [00:08<00:00, 32.60it/s]\n"
          ]
        },
        {
          "metadata": {
            "tags": null
          },
          "name": "stdout",
          "output_type": "stream",
          "text": [
            "validation loss: 0.002648381766345766 at epoch 277\n",
            "learning_rate: 0.001\n"
          ]
        },
        {
          "metadata": {
            "tags": null
          },
          "name": "stderr",
          "output_type": "stream",
          "text": [
            "epoch 277: 100%|██████████| 282/282 [00:07<00:00, 35.40it/s]\n"
          ]
        },
        {
          "metadata": {
            "tags": null
          },
          "name": "stdout",
          "output_type": "stream",
          "text": [
            "validation loss: 0.0023713830494218402 at epoch 278\n",
            "learning_rate: 0.001\n"
          ]
        },
        {
          "metadata": {
            "tags": null
          },
          "name": "stderr",
          "output_type": "stream",
          "text": [
            "epoch 278: 100%|██████████| 282/282 [00:08<00:00, 32.50it/s]\n"
          ]
        },
        {
          "metadata": {
            "tags": null
          },
          "name": "stdout",
          "output_type": "stream",
          "text": [
            "validation loss: 0.0013988487530085776 at epoch 279\n",
            "learning_rate: 0.001\n"
          ]
        },
        {
          "metadata": {
            "tags": null
          },
          "name": "stderr",
          "output_type": "stream",
          "text": [
            "epoch 279: 100%|██████████| 282/282 [00:08<00:00, 31.98it/s]\n"
          ]
        },
        {
          "metadata": {
            "tags": null
          },
          "name": "stdout",
          "output_type": "stream",
          "text": [
            "validation loss: 0.002147629141807556 at epoch 280\n",
            "learning_rate: 0.001\n"
          ]
        },
        {
          "metadata": {
            "tags": null
          },
          "name": "stderr",
          "output_type": "stream",
          "text": [
            "epoch 280: 100%|██████████| 282/282 [00:08<00:00, 34.41it/s]\n"
          ]
        },
        {
          "metadata": {
            "tags": null
          },
          "name": "stdout",
          "output_type": "stream",
          "text": [
            "validation loss: 0.0012950830732782683 at epoch 281\n",
            "learning_rate: 0.001\n"
          ]
        },
        {
          "metadata": {
            "tags": null
          },
          "name": "stderr",
          "output_type": "stream",
          "text": [
            "epoch 281: 100%|██████████| 282/282 [00:07<00:00, 35.55it/s]\n"
          ]
        },
        {
          "metadata": {
            "tags": null
          },
          "name": "stdout",
          "output_type": "stream",
          "text": [
            "validation loss: 0.0016609004586935043 at epoch 282\n",
            "learning_rate: 0.001\n"
          ]
        },
        {
          "metadata": {
            "tags": null
          },
          "name": "stderr",
          "output_type": "stream",
          "text": [
            "epoch 282: 100%|██████████| 282/282 [00:08<00:00, 32.74it/s]\n"
          ]
        },
        {
          "metadata": {
            "tags": null
          },
          "name": "stdout",
          "output_type": "stream",
          "text": [
            "validation loss: 0.0011601828295323584 at epoch 283\n",
            "learning_rate: 0.001\n"
          ]
        },
        {
          "metadata": {
            "tags": null
          },
          "name": "stderr",
          "output_type": "stream",
          "text": [
            "epoch 283: 100%|██████████| 282/282 [00:08<00:00, 32.70it/s]\n"
          ]
        },
        {
          "metadata": {
            "tags": null
          },
          "name": "stdout",
          "output_type": "stream",
          "text": [
            "validation loss: 0.0009629914959271749 at epoch 284\n",
            "learning_rate: 0.001\n"
          ]
        },
        {
          "metadata": {
            "tags": null
          },
          "name": "stderr",
          "output_type": "stream",
          "text": [
            "epoch 284: 100%|██████████| 282/282 [00:07<00:00, 36.06it/s]\n"
          ]
        },
        {
          "metadata": {
            "tags": null
          },
          "name": "stdout",
          "output_type": "stream",
          "text": [
            "validation loss: 0.0016498492964439923 at epoch 285\n",
            "learning_rate: 0.001\n"
          ]
        },
        {
          "metadata": {
            "tags": null
          },
          "name": "stderr",
          "output_type": "stream",
          "text": [
            "epoch 285: 100%|██████████| 282/282 [00:08<00:00, 32.29it/s]\n"
          ]
        },
        {
          "metadata": {
            "tags": null
          },
          "name": "stdout",
          "output_type": "stream",
          "text": [
            "validation loss: 0.0020199233442544937 at epoch 286\n",
            "learning_rate: 0.001\n"
          ]
        },
        {
          "metadata": {
            "tags": null
          },
          "name": "stderr",
          "output_type": "stream",
          "text": [
            "epoch 286: 100%|██████████| 282/282 [00:08<00:00, 32.65it/s]\n"
          ]
        },
        {
          "metadata": {
            "tags": null
          },
          "name": "stdout",
          "output_type": "stream",
          "text": [
            "validation loss: 0.004119125796688928 at epoch 287\n",
            "learning_rate: 0.001\n"
          ]
        },
        {
          "metadata": {
            "tags": null
          },
          "name": "stderr",
          "output_type": "stream",
          "text": [
            "epoch 287: 100%|██████████| 282/282 [00:07<00:00, 35.88it/s]\n"
          ]
        },
        {
          "metadata": {
            "tags": null
          },
          "name": "stdout",
          "output_type": "stream",
          "text": [
            "validation loss: 0.0019425177375475566 at epoch 288\n",
            "learning_rate: 0.001\n"
          ]
        },
        {
          "metadata": {
            "tags": null
          },
          "name": "stderr",
          "output_type": "stream",
          "text": [
            "epoch 288: 100%|██████████| 282/282 [00:08<00:00, 34.14it/s]\n"
          ]
        },
        {
          "metadata": {
            "tags": null
          },
          "name": "stdout",
          "output_type": "stream",
          "text": [
            "validation loss: 0.003140678122639656 at epoch 289\n",
            "learning_rate: 0.001\n"
          ]
        },
        {
          "metadata": {
            "tags": null
          },
          "name": "stderr",
          "output_type": "stream",
          "text": [
            "epoch 289: 100%|██████████| 282/282 [00:08<00:00, 33.60it/s]\n"
          ]
        },
        {
          "metadata": {
            "tags": null
          },
          "name": "stdout",
          "output_type": "stream",
          "text": [
            "validation loss: 0.001844261078370942 at epoch 290\n",
            "learning_rate: 0.001\n"
          ]
        },
        {
          "metadata": {
            "tags": null
          },
          "name": "stderr",
          "output_type": "stream",
          "text": [
            "epoch 290: 100%|██████████| 282/282 [00:08<00:00, 35.23it/s]\n"
          ]
        },
        {
          "metadata": {
            "tags": null
          },
          "name": "stdout",
          "output_type": "stream",
          "text": [
            "validation loss: 0.0008719607753058274 at epoch 291\n",
            "learning_rate: 0.001\n"
          ]
        },
        {
          "metadata": {
            "tags": null
          },
          "name": "stderr",
          "output_type": "stream",
          "text": [
            "epoch 291: 100%|██████████| 282/282 [00:07<00:00, 36.84it/s]\n"
          ]
        },
        {
          "metadata": {
            "tags": null
          },
          "name": "stdout",
          "output_type": "stream",
          "text": [
            "validation loss: 0.0009943353657921156 at epoch 292\n",
            "learning_rate: 0.001\n"
          ]
        },
        {
          "metadata": {
            "tags": null
          },
          "name": "stderr",
          "output_type": "stream",
          "text": [
            "epoch 292: 100%|██████████| 282/282 [00:08<00:00, 34.22it/s]\n"
          ]
        },
        {
          "metadata": {
            "tags": null
          },
          "name": "stdout",
          "output_type": "stream",
          "text": [
            "validation loss: 0.0006485834221045176 at epoch 293\n",
            "learning_rate: 0.001\n"
          ]
        },
        {
          "metadata": {
            "tags": null
          },
          "name": "stderr",
          "output_type": "stream",
          "text": [
            "epoch 293: 100%|██████████| 282/282 [00:08<00:00, 33.55it/s]\n"
          ]
        },
        {
          "metadata": {
            "tags": null
          },
          "name": "stdout",
          "output_type": "stream",
          "text": [
            "validation loss: 0.0009052630033757952 at epoch 294\n",
            "learning_rate: 0.001\n"
          ]
        },
        {
          "metadata": {
            "tags": null
          },
          "name": "stderr",
          "output_type": "stream",
          "text": [
            "epoch 294: 100%|██████████| 282/282 [00:07<00:00, 37.02it/s]\n"
          ]
        },
        {
          "metadata": {
            "tags": null
          },
          "name": "stdout",
          "output_type": "stream",
          "text": [
            "validation loss: 0.0010169583318961992 at epoch 295\n",
            "learning_rate: 0.001\n"
          ]
        },
        {
          "metadata": {
            "tags": null
          },
          "name": "stderr",
          "output_type": "stream",
          "text": [
            "epoch 295: 100%|██████████| 282/282 [00:08<00:00, 33.57it/s]\n"
          ]
        },
        {
          "metadata": {
            "tags": null
          },
          "name": "stdout",
          "output_type": "stream",
          "text": [
            "validation loss: 0.0017624569891227617 at epoch 296\n",
            "learning_rate: 0.001\n"
          ]
        },
        {
          "metadata": {
            "tags": null
          },
          "name": "stderr",
          "output_type": "stream",
          "text": [
            "epoch 296: 100%|██████████| 282/282 [00:08<00:00, 33.26it/s]\n"
          ]
        },
        {
          "metadata": {
            "tags": null
          },
          "name": "stdout",
          "output_type": "stream",
          "text": [
            "validation loss: 0.000993950140559011 at epoch 297\n",
            "learning_rate: 0.001\n"
          ]
        },
        {
          "metadata": {
            "tags": null
          },
          "name": "stderr",
          "output_type": "stream",
          "text": [
            "epoch 297: 100%|██████████| 282/282 [00:07<00:00, 36.82it/s]\n"
          ]
        },
        {
          "metadata": {
            "tags": null
          },
          "name": "stdout",
          "output_type": "stream",
          "text": [
            "validation loss: 0.0012351393724481265 at epoch 298\n",
            "learning_rate: 0.001\n"
          ]
        },
        {
          "metadata": {
            "tags": null
          },
          "name": "stderr",
          "output_type": "stream",
          "text": [
            "epoch 298: 100%|██████████| 282/282 [00:08<00:00, 33.12it/s]\n"
          ]
        },
        {
          "metadata": {
            "tags": null
          },
          "name": "stdout",
          "output_type": "stream",
          "text": [
            "validation loss: 0.0029012740204731624 at epoch 299\n",
            "learning_rate: 0.001\n"
          ]
        },
        {
          "metadata": {
            "tags": null
          },
          "name": "stderr",
          "output_type": "stream",
          "text": [
            "epoch 299: 100%|██████████| 282/282 [00:08<00:00, 33.42it/s]\n"
          ]
        },
        {
          "metadata": {
            "tags": null
          },
          "name": "stdout",
          "output_type": "stream",
          "text": [
            "validation loss: 0.0008947630123131804 at epoch 300\n",
            "learning_rate: 0.001\n"
          ]
        },
        {
          "metadata": {
            "tags": null
          },
          "name": "stderr",
          "output_type": "stream",
          "text": [
            "epoch 300: 100%|██████████| 282/282 [00:07<00:00, 37.24it/s]\n"
          ]
        },
        {
          "metadata": {
            "tags": null
          },
          "name": "stdout",
          "output_type": "stream",
          "text": [
            "validation loss: 0.001271359932091501 at epoch 301\n",
            "learning_rate: 0.001\n"
          ]
        },
        {
          "metadata": {
            "tags": null
          },
          "name": "stderr",
          "output_type": "stream",
          "text": [
            "epoch 301: 100%|██████████| 282/282 [00:08<00:00, 33.48it/s]\n"
          ]
        },
        {
          "metadata": {
            "tags": null
          },
          "name": "stdout",
          "output_type": "stream",
          "text": [
            "validation loss: 0.0006607411102288299 at epoch 302\n",
            "learning_rate: 0.001\n"
          ]
        },
        {
          "metadata": {
            "tags": null
          },
          "name": "stderr",
          "output_type": "stream",
          "text": [
            "epoch 302: 100%|██████████| 282/282 [00:08<00:00, 33.65it/s]\n"
          ]
        },
        {
          "metadata": {
            "tags": null
          },
          "name": "stdout",
          "output_type": "stream",
          "text": [
            "validation loss: 0.0006324444582892788 at epoch 303\n",
            "learning_rate: 0.001\n"
          ]
        },
        {
          "metadata": {
            "tags": null
          },
          "name": "stderr",
          "output_type": "stream",
          "text": [
            "epoch 303: 100%|██████████| 282/282 [00:07<00:00, 36.97it/s]\n"
          ]
        },
        {
          "metadata": {
            "tags": null
          },
          "name": "stdout",
          "output_type": "stream",
          "text": [
            "validation loss: 0.0006806438428660234 at epoch 304\n",
            "learning_rate: 0.001\n"
          ]
        },
        {
          "metadata": {
            "tags": null
          },
          "name": "stderr",
          "output_type": "stream",
          "text": [
            "epoch 304: 100%|██████████| 282/282 [00:08<00:00, 33.66it/s]\n"
          ]
        },
        {
          "metadata": {
            "tags": null
          },
          "name": "stdout",
          "output_type": "stream",
          "text": [
            "validation loss: 0.0009634251784947183 at epoch 305\n",
            "learning_rate: 0.0008\n"
          ]
        },
        {
          "metadata": {
            "tags": null
          },
          "name": "stderr",
          "output_type": "stream",
          "text": [
            "epoch 305: 100%|██████████| 282/282 [00:08<00:00, 33.69it/s]\n"
          ]
        },
        {
          "metadata": {
            "tags": null
          },
          "name": "stdout",
          "output_type": "stream",
          "text": [
            "validation loss: 0.0005527978291114172 at epoch 306\n",
            "learning_rate: 0.0008\n",
            "model saved in ani_acrolein.pt\n"
          ]
        },
        {
          "metadata": {
            "tags": null
          },
          "name": "stderr",
          "output_type": "stream",
          "text": [
            "epoch 306: 100%|██████████| 282/282 [00:07<00:00, 37.33it/s]\n"
          ]
        },
        {
          "metadata": {
            "tags": null
          },
          "name": "stdout",
          "output_type": "stream",
          "text": [
            "validation loss: 0.001574291800459226 at epoch 307\n",
            "learning_rate: 0.0008\n"
          ]
        },
        {
          "metadata": {
            "tags": null
          },
          "name": "stderr",
          "output_type": "stream",
          "text": [
            "epoch 307: 100%|██████████| 282/282 [00:08<00:00, 34.14it/s]\n"
          ]
        },
        {
          "metadata": {
            "tags": null
          },
          "name": "stdout",
          "output_type": "stream",
          "text": [
            "validation loss: 0.0005433993678953912 at epoch 308\n",
            "learning_rate: 0.0008\n",
            "model saved in ani_acrolein.pt\n"
          ]
        },
        {
          "metadata": {
            "tags": null
          },
          "name": "stderr",
          "output_type": "stream",
          "text": [
            "epoch 308: 100%|██████████| 282/282 [00:08<00:00, 33.38it/s]\n"
          ]
        },
        {
          "metadata": {
            "tags": null
          },
          "name": "stdout",
          "output_type": "stream",
          "text": [
            "validation loss: 0.0008520823601219389 at epoch 309\n",
            "learning_rate: 0.0008\n"
          ]
        },
        {
          "metadata": {
            "tags": null
          },
          "name": "stderr",
          "output_type": "stream",
          "text": [
            "epoch 309: 100%|██████████| 282/282 [00:07<00:00, 36.33it/s]\n"
          ]
        },
        {
          "metadata": {
            "tags": null
          },
          "name": "stdout",
          "output_type": "stream",
          "text": [
            "validation loss: 0.0020525972064998413 at epoch 310\n",
            "learning_rate: 0.0008\n"
          ]
        },
        {
          "metadata": {
            "tags": null
          },
          "name": "stderr",
          "output_type": "stream",
          "text": [
            "epoch 310: 100%|██████████| 282/282 [00:08<00:00, 34.46it/s]\n"
          ]
        },
        {
          "metadata": {
            "tags": null
          },
          "name": "stdout",
          "output_type": "stream",
          "text": [
            "validation loss: 0.002589259636070993 at epoch 311\n",
            "learning_rate: 0.0008\n"
          ]
        },
        {
          "metadata": {
            "tags": null
          },
          "name": "stderr",
          "output_type": "stream",
          "text": [
            "epoch 311: 100%|██████████| 282/282 [00:08<00:00, 33.61it/s]\n"
          ]
        },
        {
          "metadata": {
            "tags": null
          },
          "name": "stdout",
          "output_type": "stream",
          "text": [
            "validation loss: 0.0016508008680409855 at epoch 312\n",
            "learning_rate: 0.0008\n"
          ]
        },
        {
          "metadata": {
            "tags": null
          },
          "name": "stderr",
          "output_type": "stream",
          "text": [
            "epoch 312: 100%|██████████| 282/282 [00:07<00:00, 35.93it/s]\n"
          ]
        },
        {
          "metadata": {
            "tags": null
          },
          "name": "stdout",
          "output_type": "stream",
          "text": [
            "validation loss: 0.002070982678069009 at epoch 313\n",
            "learning_rate: 0.0008\n"
          ]
        },
        {
          "metadata": {
            "tags": null
          },
          "name": "stderr",
          "output_type": "stream",
          "text": [
            "epoch 313: 100%|██████████| 282/282 [00:08<00:00, 35.22it/s]\n"
          ]
        },
        {
          "metadata": {
            "tags": null
          },
          "name": "stdout",
          "output_type": "stream",
          "text": [
            "validation loss: 0.0015197041382392247 at epoch 314\n",
            "learning_rate: 0.0008\n"
          ]
        },
        {
          "metadata": {
            "tags": null
          },
          "name": "stderr",
          "output_type": "stream",
          "text": [
            "epoch 314: 100%|██████████| 282/282 [00:08<00:00, 33.39it/s]\n"
          ]
        },
        {
          "metadata": {
            "tags": null
          },
          "name": "stdout",
          "output_type": "stream",
          "text": [
            "validation loss: 0.0005209328606724739 at epoch 315\n",
            "learning_rate: 0.0008\n",
            "model saved in ani_acrolein.pt\n"
          ]
        },
        {
          "metadata": {
            "tags": null
          },
          "name": "stderr",
          "output_type": "stream",
          "text": [
            "epoch 315: 100%|██████████| 282/282 [00:08<00:00, 34.64it/s]\n"
          ]
        },
        {
          "metadata": {
            "tags": null
          },
          "name": "stdout",
          "output_type": "stream",
          "text": [
            "validation loss: 0.0015213091837035285 at epoch 316\n",
            "learning_rate: 0.0008\n"
          ]
        },
        {
          "metadata": {
            "tags": null
          },
          "name": "stderr",
          "output_type": "stream",
          "text": [
            "epoch 316: 100%|██████████| 282/282 [00:07<00:00, 37.29it/s]\n"
          ]
        },
        {
          "metadata": {
            "tags": null
          },
          "name": "stdout",
          "output_type": "stream",
          "text": [
            "validation loss: 0.0006894104803601901 at epoch 317\n",
            "learning_rate: 0.0008\n"
          ]
        },
        {
          "metadata": {
            "tags": null
          },
          "name": "stderr",
          "output_type": "stream",
          "text": [
            "epoch 317: 100%|██████████| 282/282 [00:08<00:00, 33.31it/s]\n"
          ]
        },
        {
          "metadata": {
            "tags": null
          },
          "name": "stdout",
          "output_type": "stream",
          "text": [
            "validation loss: 0.0005576789139045609 at epoch 318\n",
            "learning_rate: 0.0008\n"
          ]
        },
        {
          "metadata": {
            "tags": null
          },
          "name": "stderr",
          "output_type": "stream",
          "text": [
            "epoch 318: 100%|██████████| 282/282 [00:08<00:00, 33.35it/s]\n"
          ]
        },
        {
          "metadata": {
            "tags": null
          },
          "name": "stdout",
          "output_type": "stream",
          "text": [
            "validation loss: 0.0007093137962122758 at epoch 319\n",
            "learning_rate: 0.0008\n"
          ]
        },
        {
          "metadata": {
            "tags": null
          },
          "name": "stderr",
          "output_type": "stream",
          "text": [
            "epoch 319: 100%|██████████| 282/282 [00:07<00:00, 37.49it/s]\n"
          ]
        },
        {
          "metadata": {
            "tags": null
          },
          "name": "stdout",
          "output_type": "stream",
          "text": [
            "validation loss: 0.0007127068961660068 at epoch 320\n",
            "learning_rate: 0.0008\n"
          ]
        },
        {
          "metadata": {
            "tags": null
          },
          "name": "stderr",
          "output_type": "stream",
          "text": [
            "epoch 320: 100%|██████████| 282/282 [00:08<00:00, 33.15it/s]\n"
          ]
        },
        {
          "metadata": {
            "tags": null
          },
          "name": "stdout",
          "output_type": "stream",
          "text": [
            "validation loss: 0.0007709437886046039 at epoch 321\n",
            "learning_rate: 0.0008\n"
          ]
        },
        {
          "metadata": {
            "tags": null
          },
          "name": "stderr",
          "output_type": "stream",
          "text": [
            "epoch 321: 100%|██████████| 282/282 [00:08<00:00, 33.67it/s]\n"
          ]
        },
        {
          "metadata": {
            "tags": null
          },
          "name": "stdout",
          "output_type": "stream",
          "text": [
            "validation loss: 0.0006400343779888418 at epoch 322\n",
            "learning_rate: 0.0008\n"
          ]
        },
        {
          "metadata": {
            "tags": null
          },
          "name": "stderr",
          "output_type": "stream",
          "text": [
            "epoch 322: 100%|██████████| 282/282 [00:07<00:00, 37.14it/s]\n"
          ]
        },
        {
          "metadata": {
            "tags": null
          },
          "name": "stdout",
          "output_type": "stream",
          "text": [
            "validation loss: 0.0013371440163917011 at epoch 323\n",
            "learning_rate: 0.0008\n"
          ]
        },
        {
          "metadata": {
            "tags": null
          },
          "name": "stderr",
          "output_type": "stream",
          "text": [
            "epoch 323: 100%|██████████| 282/282 [00:08<00:00, 33.73it/s]\n"
          ]
        },
        {
          "metadata": {
            "tags": null
          },
          "name": "stdout",
          "output_type": "stream",
          "text": [
            "validation loss: 0.0037482131554020777 at epoch 324\n",
            "learning_rate: 0.0008\n"
          ]
        },
        {
          "metadata": {
            "tags": null
          },
          "name": "stderr",
          "output_type": "stream",
          "text": [
            "epoch 324: 100%|██████████| 282/282 [00:08<00:00, 33.19it/s]\n"
          ]
        },
        {
          "metadata": {
            "tags": null
          },
          "name": "stdout",
          "output_type": "stream",
          "text": [
            "validation loss: 0.0009136317550308174 at epoch 325\n",
            "learning_rate: 0.0008\n"
          ]
        },
        {
          "metadata": {
            "tags": null
          },
          "name": "stderr",
          "output_type": "stream",
          "text": [
            "epoch 325: 100%|██████████| 282/282 [00:07<00:00, 36.38it/s]\n"
          ]
        },
        {
          "metadata": {
            "tags": null
          },
          "name": "stdout",
          "output_type": "stream",
          "text": [
            "validation loss: 0.0015220868860681852 at epoch 326\n",
            "learning_rate: 0.0008\n"
          ]
        },
        {
          "metadata": {
            "tags": null
          },
          "name": "stderr",
          "output_type": "stream",
          "text": [
            "epoch 326: 100%|██████████| 282/282 [00:08<00:00, 33.73it/s]\n"
          ]
        },
        {
          "metadata": {
            "tags": null
          },
          "name": "stdout",
          "output_type": "stream",
          "text": [
            "validation loss: 0.00241760447786914 at epoch 327\n",
            "learning_rate: 0.0008\n"
          ]
        },
        {
          "metadata": {
            "tags": null
          },
          "name": "stderr",
          "output_type": "stream",
          "text": [
            "epoch 327: 100%|██████████| 282/282 [00:08<00:00, 33.68it/s]\n"
          ]
        },
        {
          "metadata": {
            "tags": null
          },
          "name": "stdout",
          "output_type": "stream",
          "text": [
            "validation loss: 0.003050594061613083 at epoch 328\n",
            "learning_rate: 0.0008\n"
          ]
        },
        {
          "metadata": {
            "tags": null
          },
          "name": "stderr",
          "output_type": "stream",
          "text": [
            "epoch 328: 100%|██████████| 282/282 [00:07<00:00, 37.08it/s]\n"
          ]
        },
        {
          "metadata": {
            "tags": null
          },
          "name": "stdout",
          "output_type": "stream",
          "text": [
            "validation loss: 0.0013894288316369057 at epoch 329\n",
            "learning_rate: 0.0008\n"
          ]
        },
        {
          "metadata": {
            "tags": null
          },
          "name": "stderr",
          "output_type": "stream",
          "text": [
            "epoch 329: 100%|██████████| 282/282 [00:08<00:00, 33.44it/s]\n"
          ]
        },
        {
          "metadata": {
            "tags": null
          },
          "name": "stdout",
          "output_type": "stream",
          "text": [
            "validation loss: 0.0009035665140383774 at epoch 330\n",
            "learning_rate: 0.0008\n"
          ]
        },
        {
          "metadata": {
            "tags": null
          },
          "name": "stderr",
          "output_type": "stream",
          "text": [
            "epoch 330: 100%|██████████| 282/282 [00:08<00:00, 33.53it/s]\n"
          ]
        },
        {
          "metadata": {
            "tags": null
          },
          "name": "stdout",
          "output_type": "stream",
          "text": [
            "validation loss: 0.0007297046097616355 at epoch 331\n",
            "learning_rate: 0.0008\n"
          ]
        },
        {
          "metadata": {
            "tags": null
          },
          "name": "stderr",
          "output_type": "stream",
          "text": [
            "epoch 331: 100%|██████████| 282/282 [00:07<00:00, 37.36it/s]\n"
          ]
        },
        {
          "metadata": {
            "tags": null
          },
          "name": "stdout",
          "output_type": "stream",
          "text": [
            "validation loss: 0.0013087023902270528 at epoch 332\n",
            "learning_rate: 0.0008\n"
          ]
        },
        {
          "metadata": {
            "tags": null
          },
          "name": "stderr",
          "output_type": "stream",
          "text": [
            "epoch 332: 100%|██████████| 282/282 [00:08<00:00, 32.79it/s]\n"
          ]
        },
        {
          "metadata": {
            "tags": null
          },
          "name": "stdout",
          "output_type": "stream",
          "text": [
            "validation loss: 0.0008397926601270834 at epoch 333\n",
            "learning_rate: 0.0008\n"
          ]
        },
        {
          "metadata": {
            "tags": null
          },
          "name": "stderr",
          "output_type": "stream",
          "text": [
            "epoch 333: 100%|██████████| 282/282 [00:08<00:00, 32.98it/s]\n"
          ]
        },
        {
          "metadata": {
            "tags": null
          },
          "name": "stdout",
          "output_type": "stream",
          "text": [
            "validation loss: 0.0014893515606721243 at epoch 334\n",
            "learning_rate: 0.0008\n"
          ]
        },
        {
          "metadata": {
            "tags": null
          },
          "name": "stderr",
          "output_type": "stream",
          "text": [
            "epoch 334: 100%|██████████| 282/282 [00:07<00:00, 37.04it/s]\n"
          ]
        },
        {
          "metadata": {
            "tags": null
          },
          "name": "stdout",
          "output_type": "stream",
          "text": [
            "validation loss: 0.0006076271774040328 at epoch 335\n",
            "learning_rate: 0.0008\n"
          ]
        },
        {
          "metadata": {
            "tags": null
          },
          "name": "stderr",
          "output_type": "stream",
          "text": [
            "epoch 335: 100%|██████████| 282/282 [00:08<00:00, 33.63it/s]\n"
          ]
        },
        {
          "metadata": {
            "tags": null
          },
          "name": "stdout",
          "output_type": "stream",
          "text": [
            "validation loss: 0.0010512808056341277 at epoch 336\n",
            "learning_rate: 0.0008\n"
          ]
        },
        {
          "metadata": {
            "tags": null
          },
          "name": "stderr",
          "output_type": "stream",
          "text": [
            "epoch 336: 100%|██████████| 282/282 [00:08<00:00, 33.06it/s]\n"
          ]
        },
        {
          "metadata": {
            "tags": null
          },
          "name": "stdout",
          "output_type": "stream",
          "text": [
            "validation loss: 0.0007931535140507751 at epoch 337\n",
            "learning_rate: 0.0008\n"
          ]
        },
        {
          "metadata": {
            "tags": null
          },
          "name": "stderr",
          "output_type": "stream",
          "text": [
            "epoch 337: 100%|██████████| 282/282 [00:07<00:00, 37.46it/s]\n"
          ]
        },
        {
          "metadata": {
            "tags": null
          },
          "name": "stdout",
          "output_type": "stream",
          "text": [
            "validation loss: 0.0014905385143227047 at epoch 338\n",
            "learning_rate: 0.0008\n"
          ]
        },
        {
          "metadata": {
            "tags": null
          },
          "name": "stderr",
          "output_type": "stream",
          "text": [
            "epoch 338: 100%|██████████| 282/282 [00:08<00:00, 34.37it/s]\n"
          ]
        },
        {
          "metadata": {
            "tags": null
          },
          "name": "stdout",
          "output_type": "stream",
          "text": [
            "validation loss: 0.0009871064258946314 at epoch 339\n",
            "learning_rate: 0.0008\n"
          ]
        },
        {
          "metadata": {
            "tags": null
          },
          "name": "stderr",
          "output_type": "stream",
          "text": [
            "epoch 339: 100%|██████████| 282/282 [00:08<00:00, 33.04it/s]\n"
          ]
        },
        {
          "metadata": {
            "tags": null
          },
          "name": "stdout",
          "output_type": "stream",
          "text": [
            "validation loss: 0.001403852991759777 at epoch 340\n",
            "learning_rate: 0.0008\n"
          ]
        },
        {
          "metadata": {
            "tags": null
          },
          "name": "stderr",
          "output_type": "stream",
          "text": [
            "epoch 340: 100%|██████████| 282/282 [00:07<00:00, 36.09it/s]\n"
          ]
        },
        {
          "metadata": {
            "tags": null
          },
          "name": "stdout",
          "output_type": "stream",
          "text": [
            "validation loss: 0.0008367300116353565 at epoch 341\n",
            "learning_rate: 0.0008\n"
          ]
        },
        {
          "metadata": {
            "tags": null
          },
          "name": "stderr",
          "output_type": "stream",
          "text": [
            "epoch 341: 100%|██████████| 282/282 [00:08<00:00, 35.12it/s]\n"
          ]
        },
        {
          "metadata": {
            "tags": null
          },
          "name": "stdout",
          "output_type": "stream",
          "text": [
            "validation loss: 0.001080685360564126 at epoch 342\n",
            "learning_rate: 0.0008\n"
          ]
        },
        {
          "metadata": {
            "tags": null
          },
          "name": "stderr",
          "output_type": "stream",
          "text": [
            "epoch 342: 100%|██████████| 282/282 [00:08<00:00, 32.83it/s]\n"
          ]
        },
        {
          "metadata": {
            "tags": null
          },
          "name": "stdout",
          "output_type": "stream",
          "text": [
            "validation loss: 0.0007371413326925702 at epoch 343\n",
            "learning_rate: 0.0008\n"
          ]
        },
        {
          "metadata": {
            "tags": null
          },
          "name": "stderr",
          "output_type": "stream",
          "text": [
            "epoch 343: 100%|██████████| 282/282 [00:08<00:00, 35.21it/s]\n"
          ]
        },
        {
          "metadata": {
            "tags": null
          },
          "name": "stdout",
          "output_type": "stream",
          "text": [
            "validation loss: 0.000995693050324917 at epoch 344\n",
            "learning_rate: 0.0008\n"
          ]
        },
        {
          "metadata": {
            "tags": null
          },
          "name": "stderr",
          "output_type": "stream",
          "text": [
            "epoch 344: 100%|██████████| 282/282 [00:07<00:00, 35.93it/s]\n"
          ]
        },
        {
          "metadata": {
            "tags": null
          },
          "name": "stdout",
          "output_type": "stream",
          "text": [
            "validation loss: 0.0008320465998517142 at epoch 345\n",
            "learning_rate: 0.0008\n"
          ]
        },
        {
          "metadata": {
            "tags": null
          },
          "name": "stderr",
          "output_type": "stream",
          "text": [
            "epoch 345: 100%|██████████| 282/282 [00:08<00:00, 32.80it/s]\n"
          ]
        },
        {
          "metadata": {
            "tags": null
          },
          "name": "stdout",
          "output_type": "stream",
          "text": [
            "validation loss: 0.0005779028414852089 at epoch 346\n",
            "learning_rate: 0.0008\n"
          ]
        },
        {
          "metadata": {
            "tags": null
          },
          "name": "stderr",
          "output_type": "stream",
          "text": [
            "epoch 346: 100%|██████████| 282/282 [00:08<00:00, 34.05it/s]\n"
          ]
        },
        {
          "metadata": {
            "tags": null
          },
          "name": "stdout",
          "output_type": "stream",
          "text": [
            "validation loss: 0.0005921024932629532 at epoch 347\n",
            "learning_rate: 0.0008\n"
          ]
        },
        {
          "metadata": {
            "tags": null
          },
          "name": "stderr",
          "output_type": "stream",
          "text": [
            "epoch 347: 100%|██████████| 282/282 [00:07<00:00, 37.69it/s]\n"
          ]
        },
        {
          "metadata": {
            "tags": null
          },
          "name": "stdout",
          "output_type": "stream",
          "text": [
            "validation loss: 0.0005682221477230389 at epoch 348\n",
            "learning_rate: 0.0008\n"
          ]
        },
        {
          "metadata": {
            "tags": null
          },
          "name": "stderr",
          "output_type": "stream",
          "text": [
            "epoch 348: 100%|██████████| 282/282 [00:08<00:00, 33.81it/s]\n"
          ]
        },
        {
          "metadata": {
            "tags": null
          },
          "name": "stdout",
          "output_type": "stream",
          "text": [
            "validation loss: 0.0010972038855155308 at epoch 349\n",
            "learning_rate: 0.0008\n"
          ]
        },
        {
          "metadata": {
            "tags": null
          },
          "name": "stderr",
          "output_type": "stream",
          "text": [
            "epoch 349: 100%|██████████| 282/282 [00:08<00:00, 33.48it/s]\n"
          ]
        },
        {
          "metadata": {
            "tags": null
          },
          "name": "stdout",
          "output_type": "stream",
          "text": [
            "validation loss: 0.0005999249041908317 at epoch 350\n",
            "learning_rate: 0.0008\n"
          ]
        },
        {
          "metadata": {
            "tags": null
          },
          "name": "stderr",
          "output_type": "stream",
          "text": [
            "epoch 350: 100%|██████████| 282/282 [00:07<00:00, 37.46it/s]\n"
          ]
        },
        {
          "metadata": {
            "tags": null
          },
          "name": "stdout",
          "output_type": "stream",
          "text": [
            "validation loss: 0.0009754705487026109 at epoch 351\n",
            "learning_rate: 0.0008\n"
          ]
        },
        {
          "metadata": {
            "tags": null
          },
          "name": "stderr",
          "output_type": "stream",
          "text": [
            "epoch 351: 100%|██████████| 282/282 [00:08<00:00, 33.66it/s]\n"
          ]
        },
        {
          "metadata": {
            "tags": null
          },
          "name": "stdout",
          "output_type": "stream",
          "text": [
            "validation loss: 0.0020005871537658905 at epoch 352\n",
            "learning_rate: 0.0008\n"
          ]
        },
        {
          "metadata": {
            "tags": null
          },
          "name": "stderr",
          "output_type": "stream",
          "text": [
            "epoch 352: 100%|██████████| 282/282 [00:08<00:00, 34.02it/s]\n"
          ]
        },
        {
          "metadata": {
            "tags": null
          },
          "name": "stdout",
          "output_type": "stream",
          "text": [
            "validation loss: 0.0029996000164084964 at epoch 353\n",
            "learning_rate: 0.0008\n"
          ]
        },
        {
          "metadata": {
            "tags": null
          },
          "name": "stderr",
          "output_type": "stream",
          "text": [
            "epoch 353: 100%|██████████| 282/282 [00:07<00:00, 36.92it/s]\n"
          ]
        },
        {
          "metadata": {
            "tags": null
          },
          "name": "stdout",
          "output_type": "stream",
          "text": [
            "validation loss: 0.0017691543565856087 at epoch 354\n",
            "learning_rate: 0.0008\n"
          ]
        },
        {
          "metadata": {
            "tags": null
          },
          "name": "stderr",
          "output_type": "stream",
          "text": [
            "epoch 354: 100%|██████████| 282/282 [00:08<00:00, 33.79it/s]\n"
          ]
        },
        {
          "metadata": {
            "tags": null
          },
          "name": "stdout",
          "output_type": "stream",
          "text": [
            "validation loss: 0.0006737492899927828 at epoch 355\n",
            "learning_rate: 0.0008\n"
          ]
        },
        {
          "metadata": {
            "tags": null
          },
          "name": "stderr",
          "output_type": "stream",
          "text": [
            "epoch 355: 100%|██████████| 282/282 [00:08<00:00, 33.15it/s]\n"
          ]
        },
        {
          "metadata": {
            "tags": null
          },
          "name": "stdout",
          "output_type": "stream",
          "text": [
            "validation loss: 0.0018164100795984269 at epoch 356\n",
            "learning_rate: 0.0008\n"
          ]
        },
        {
          "metadata": {
            "tags": null
          },
          "name": "stderr",
          "output_type": "stream",
          "text": [
            "epoch 356: 100%|██████████| 282/282 [00:07<00:00, 36.92it/s]\n"
          ]
        },
        {
          "metadata": {
            "tags": null
          },
          "name": "stdout",
          "output_type": "stream",
          "text": [
            "validation loss: 0.001086641036801868 at epoch 357\n",
            "learning_rate: 0.0008\n"
          ]
        },
        {
          "metadata": {
            "tags": null
          },
          "name": "stderr",
          "output_type": "stream",
          "text": [
            "epoch 357: 100%|██████████| 282/282 [00:08<00:00, 33.94it/s]\n"
          ]
        },
        {
          "metadata": {
            "tags": null
          },
          "name": "stdout",
          "output_type": "stream",
          "text": [
            "validation loss: 0.0009272135359545549 at epoch 358\n",
            "learning_rate: 0.0008\n"
          ]
        },
        {
          "metadata": {
            "tags": null
          },
          "name": "stderr",
          "output_type": "stream",
          "text": [
            "epoch 358: 100%|██████████| 282/282 [00:08<00:00, 33.08it/s]\n"
          ]
        },
        {
          "metadata": {
            "tags": null
          },
          "name": "stdout",
          "output_type": "stream",
          "text": [
            "validation loss: 0.0006336014014151362 at epoch 359\n",
            "learning_rate: 0.0008\n"
          ]
        },
        {
          "metadata": {
            "tags": null
          },
          "name": "stderr",
          "output_type": "stream",
          "text": [
            "epoch 359: 100%|██████████| 282/282 [00:07<00:00, 37.03it/s]\n"
          ]
        },
        {
          "metadata": {
            "tags": null
          },
          "name": "stdout",
          "output_type": "stream",
          "text": [
            "validation loss: 0.001230421259171433 at epoch 360\n",
            "learning_rate: 0.0008\n"
          ]
        },
        {
          "metadata": {
            "tags": null
          },
          "name": "stderr",
          "output_type": "stream",
          "text": [
            "epoch 360: 100%|██████████| 282/282 [00:08<00:00, 34.25it/s]\n"
          ]
        },
        {
          "metadata": {
            "tags": null
          },
          "name": "stdout",
          "output_type": "stream",
          "text": [
            "validation loss: 0.0009343144165145027 at epoch 361\n",
            "learning_rate: 0.0008\n"
          ]
        },
        {
          "metadata": {
            "tags": null
          },
          "name": "stderr",
          "output_type": "stream",
          "text": [
            "epoch 361: 100%|██████████| 282/282 [00:08<00:00, 33.72it/s]\n"
          ]
        },
        {
          "metadata": {
            "tags": null
          },
          "name": "stdout",
          "output_type": "stream",
          "text": [
            "validation loss: 0.0005407914854586124 at epoch 362\n",
            "learning_rate: 0.0008\n"
          ]
        },
        {
          "metadata": {
            "tags": null
          },
          "name": "stderr",
          "output_type": "stream",
          "text": [
            "epoch 362: 100%|██████████| 282/282 [00:07<00:00, 36.33it/s]\n"
          ]
        },
        {
          "metadata": {
            "tags": null
          },
          "name": "stdout",
          "output_type": "stream",
          "text": [
            "validation loss: 0.0010957811400294304 at epoch 363\n",
            "learning_rate: 0.0008\n"
          ]
        },
        {
          "metadata": {
            "tags": null
          },
          "name": "stderr",
          "output_type": "stream",
          "text": [
            "epoch 363: 100%|██████████| 282/282 [00:08<00:00, 35.12it/s]\n"
          ]
        },
        {
          "metadata": {
            "tags": null
          },
          "name": "stdout",
          "output_type": "stream",
          "text": [
            "validation loss: 0.0019680268433358936 at epoch 364\n",
            "learning_rate: 0.0008\n"
          ]
        },
        {
          "metadata": {
            "tags": null
          },
          "name": "stderr",
          "output_type": "stream",
          "text": [
            "epoch 364: 100%|██████████| 282/282 [00:08<00:00, 33.67it/s]\n"
          ]
        },
        {
          "metadata": {
            "tags": null
          },
          "name": "stdout",
          "output_type": "stream",
          "text": [
            "validation loss: 0.0014457283326321179 at epoch 365\n",
            "learning_rate: 0.0008\n"
          ]
        },
        {
          "metadata": {
            "tags": null
          },
          "name": "stderr",
          "output_type": "stream",
          "text": [
            "epoch 365: 100%|██████████| 282/282 [00:07<00:00, 35.27it/s]\n"
          ]
        },
        {
          "metadata": {
            "tags": null
          },
          "name": "stdout",
          "output_type": "stream",
          "text": [
            "validation loss: 0.0017225442545281517 at epoch 366\n",
            "learning_rate: 0.0008\n"
          ]
        },
        {
          "metadata": {
            "tags": null
          },
          "name": "stderr",
          "output_type": "stream",
          "text": [
            "epoch 366: 100%|██████████| 282/282 [00:07<00:00, 36.23it/s]\n"
          ]
        },
        {
          "metadata": {
            "tags": null
          },
          "name": "stdout",
          "output_type": "stream",
          "text": [
            "validation loss: 0.0007654667827818129 at epoch 367\n",
            "learning_rate: 0.00064\n"
          ]
        },
        {
          "metadata": {
            "tags": null
          },
          "name": "stderr",
          "output_type": "stream",
          "text": [
            "epoch 367: 100%|██████████| 282/282 [00:08<00:00, 33.47it/s]\n"
          ]
        },
        {
          "metadata": {
            "tags": null
          },
          "name": "stdout",
          "output_type": "stream",
          "text": [
            "validation loss: 0.001345699008140299 at epoch 368\n",
            "learning_rate: 0.00064\n"
          ]
        },
        {
          "metadata": {
            "tags": null
          },
          "name": "stderr",
          "output_type": "stream",
          "text": [
            "epoch 368: 100%|██████████| 282/282 [00:08<00:00, 35.03it/s]\n"
          ]
        },
        {
          "metadata": {
            "tags": null
          },
          "name": "stdout",
          "output_type": "stream",
          "text": [
            "validation loss: 0.0016341611138648458 at epoch 369\n",
            "learning_rate: 0.00064\n"
          ]
        },
        {
          "metadata": {
            "tags": null
          },
          "name": "stderr",
          "output_type": "stream",
          "text": [
            "epoch 369: 100%|██████████| 282/282 [00:07<00:00, 37.59it/s]\n"
          ]
        },
        {
          "metadata": {
            "tags": null
          },
          "name": "stdout",
          "output_type": "stream",
          "text": [
            "validation loss: 0.0016182497085796461 at epoch 370\n",
            "learning_rate: 0.00064\n"
          ]
        },
        {
          "metadata": {
            "tags": null
          },
          "name": "stderr",
          "output_type": "stream",
          "text": [
            "epoch 370: 100%|██████████| 282/282 [00:08<00:00, 33.77it/s]\n"
          ]
        },
        {
          "metadata": {
            "tags": null
          },
          "name": "stdout",
          "output_type": "stream",
          "text": [
            "validation loss: 0.0013705744619170825 at epoch 371\n",
            "learning_rate: 0.00064\n"
          ]
        },
        {
          "metadata": {
            "tags": null
          },
          "name": "stderr",
          "output_type": "stream",
          "text": [
            "epoch 371: 100%|██████████| 282/282 [00:08<00:00, 33.92it/s]\n"
          ]
        },
        {
          "metadata": {
            "tags": null
          },
          "name": "stdout",
          "output_type": "stream",
          "text": [
            "validation loss: 0.0012669877145025466 at epoch 372\n",
            "learning_rate: 0.00064\n"
          ]
        },
        {
          "metadata": {
            "tags": null
          },
          "name": "stderr",
          "output_type": "stream",
          "text": [
            "epoch 372: 100%|██████████| 282/282 [00:07<00:00, 36.79it/s]\n"
          ]
        },
        {
          "metadata": {
            "tags": null
          },
          "name": "stdout",
          "output_type": "stream",
          "text": [
            "validation loss: 0.0013576584201720025 at epoch 373\n",
            "learning_rate: 0.00064\n"
          ]
        },
        {
          "metadata": {
            "tags": null
          },
          "name": "stderr",
          "output_type": "stream",
          "text": [
            "epoch 373: 100%|██████████| 282/282 [00:08<00:00, 32.84it/s]\n"
          ]
        },
        {
          "metadata": {
            "tags": null
          },
          "name": "stdout",
          "output_type": "stream",
          "text": [
            "validation loss: 0.0012530954264932208 at epoch 374\n",
            "learning_rate: 0.00064\n"
          ]
        },
        {
          "metadata": {
            "tags": null
          },
          "name": "stderr",
          "output_type": "stream",
          "text": [
            "epoch 374: 100%|██████████| 282/282 [00:08<00:00, 33.62it/s]\n"
          ]
        },
        {
          "metadata": {
            "tags": null
          },
          "name": "stdout",
          "output_type": "stream",
          "text": [
            "validation loss: 0.0019233154190911187 at epoch 375\n",
            "learning_rate: 0.00064\n"
          ]
        },
        {
          "metadata": {
            "tags": null
          },
          "name": "stderr",
          "output_type": "stream",
          "text": [
            "epoch 375: 100%|██████████| 282/282 [00:07<00:00, 37.64it/s]\n"
          ]
        },
        {
          "metadata": {
            "tags": null
          },
          "name": "stdout",
          "output_type": "stream",
          "text": [
            "validation loss: 0.0006859374692042669 at epoch 376\n",
            "learning_rate: 0.00064\n"
          ]
        },
        {
          "metadata": {
            "tags": null
          },
          "name": "stderr",
          "output_type": "stream",
          "text": [
            "epoch 376: 100%|██████████| 282/282 [00:08<00:00, 34.29it/s]\n"
          ]
        },
        {
          "metadata": {
            "tags": null
          },
          "name": "stdout",
          "output_type": "stream",
          "text": [
            "validation loss: 0.0018710274431440565 at epoch 377\n",
            "learning_rate: 0.00064\n"
          ]
        },
        {
          "metadata": {
            "tags": null
          },
          "name": "stderr",
          "output_type": "stream",
          "text": [
            "epoch 377: 100%|██████████| 282/282 [00:08<00:00, 33.30it/s]\n"
          ]
        },
        {
          "metadata": {
            "tags": null
          },
          "name": "stdout",
          "output_type": "stream",
          "text": [
            "validation loss: 0.0006637723069224092 at epoch 378\n",
            "learning_rate: 0.00064\n"
          ]
        },
        {
          "metadata": {
            "tags": null
          },
          "name": "stderr",
          "output_type": "stream",
          "text": [
            "epoch 378: 100%|██████████| 282/282 [00:07<00:00, 37.52it/s]\n"
          ]
        },
        {
          "metadata": {
            "tags": null
          },
          "name": "stdout",
          "output_type": "stream",
          "text": [
            "validation loss: 0.0004982428631434837 at epoch 379\n",
            "learning_rate: 0.00064\n",
            "model saved in ani_acrolein.pt\n"
          ]
        },
        {
          "metadata": {
            "tags": null
          },
          "name": "stderr",
          "output_type": "stream",
          "text": [
            "epoch 379: 100%|██████████| 282/282 [00:08<00:00, 33.36it/s]\n"
          ]
        },
        {
          "metadata": {
            "tags": null
          },
          "name": "stdout",
          "output_type": "stream",
          "text": [
            "validation loss: 0.0005593930201398001 at epoch 380\n",
            "learning_rate: 0.00064\n"
          ]
        },
        {
          "metadata": {
            "tags": null
          },
          "name": "stderr",
          "output_type": "stream",
          "text": [
            "epoch 380: 100%|██████████| 282/282 [00:08<00:00, 33.41it/s]\n"
          ]
        },
        {
          "metadata": {
            "tags": null
          },
          "name": "stdout",
          "output_type": "stream",
          "text": [
            "validation loss: 0.0007445826505621274 at epoch 381\n",
            "learning_rate: 0.00064\n"
          ]
        },
        {
          "metadata": {
            "tags": null
          },
          "name": "stderr",
          "output_type": "stream",
          "text": [
            "epoch 381: 100%|██████████| 282/282 [00:07<00:00, 37.31it/s]\n"
          ]
        },
        {
          "metadata": {
            "tags": null
          },
          "name": "stdout",
          "output_type": "stream",
          "text": [
            "validation loss: 0.0015270236084858576 at epoch 382\n",
            "learning_rate: 0.00064\n"
          ]
        },
        {
          "metadata": {
            "tags": null
          },
          "name": "stderr",
          "output_type": "stream",
          "text": [
            "epoch 382: 100%|██████████| 282/282 [00:08<00:00, 33.82it/s]\n"
          ]
        },
        {
          "metadata": {
            "tags": null
          },
          "name": "stdout",
          "output_type": "stream",
          "text": [
            "validation loss: 0.0012681032104624643 at epoch 383\n",
            "learning_rate: 0.00064\n"
          ]
        },
        {
          "metadata": {
            "tags": null
          },
          "name": "stderr",
          "output_type": "stream",
          "text": [
            "epoch 383: 100%|██████████| 282/282 [00:08<00:00, 33.60it/s]\n"
          ]
        },
        {
          "metadata": {
            "tags": null
          },
          "name": "stdout",
          "output_type": "stream",
          "text": [
            "validation loss: 0.0012516228275166617 at epoch 384\n",
            "learning_rate: 0.00064\n"
          ]
        },
        {
          "metadata": {
            "tags": null
          },
          "name": "stderr",
          "output_type": "stream",
          "text": [
            "epoch 384: 100%|██████████| 282/282 [00:07<00:00, 36.10it/s]\n"
          ]
        },
        {
          "metadata": {
            "tags": null
          },
          "name": "stdout",
          "output_type": "stream",
          "text": [
            "validation loss: 0.001967957036362754 at epoch 385\n",
            "learning_rate: 0.00064\n"
          ]
        },
        {
          "metadata": {
            "tags": null
          },
          "name": "stderr",
          "output_type": "stream",
          "text": [
            "epoch 385: 100%|██████████| 282/282 [00:08<00:00, 34.15it/s]\n"
          ]
        },
        {
          "metadata": {
            "tags": null
          },
          "name": "stdout",
          "output_type": "stream",
          "text": [
            "validation loss: 0.0019214107543230057 at epoch 386\n",
            "learning_rate: 0.00064\n"
          ]
        },
        {
          "metadata": {
            "tags": null
          },
          "name": "stderr",
          "output_type": "stream",
          "text": [
            "epoch 386: 100%|██████████| 282/282 [00:08<00:00, 33.05it/s]\n"
          ]
        },
        {
          "metadata": {
            "tags": null
          },
          "name": "stdout",
          "output_type": "stream",
          "text": [
            "validation loss: 0.00048368790849215456 at epoch 387\n",
            "learning_rate: 0.00064\n",
            "model saved in ani_acrolein.pt\n"
          ]
        },
        {
          "metadata": {
            "tags": null
          },
          "name": "stderr",
          "output_type": "stream",
          "text": [
            "epoch 387: 100%|██████████| 282/282 [00:07<00:00, 36.06it/s]\n"
          ]
        },
        {
          "metadata": {
            "tags": null
          },
          "name": "stdout",
          "output_type": "stream",
          "text": [
            "validation loss: 0.0016292567269669638 at epoch 388\n",
            "learning_rate: 0.00064\n"
          ]
        },
        {
          "metadata": {
            "tags": null
          },
          "name": "stderr",
          "output_type": "stream",
          "text": [
            "epoch 388: 100%|██████████| 282/282 [00:08<00:00, 34.49it/s]\n"
          ]
        },
        {
          "metadata": {
            "tags": null
          },
          "name": "stdout",
          "output_type": "stream",
          "text": [
            "validation loss: 0.001063700926800569 at epoch 389\n",
            "learning_rate: 0.00064\n"
          ]
        },
        {
          "metadata": {
            "tags": null
          },
          "name": "stderr",
          "output_type": "stream",
          "text": [
            "epoch 389: 100%|██████████| 282/282 [00:08<00:00, 32.84it/s]\n"
          ]
        },
        {
          "metadata": {
            "tags": null
          },
          "name": "stdout",
          "output_type": "stream",
          "text": [
            "validation loss: 0.0008431520313024521 at epoch 390\n",
            "learning_rate: 0.00064\n"
          ]
        },
        {
          "metadata": {
            "tags": null
          },
          "name": "stderr",
          "output_type": "stream",
          "text": [
            "epoch 390: 100%|██████████| 282/282 [00:08<00:00, 34.46it/s]\n"
          ]
        },
        {
          "metadata": {
            "tags": null
          },
          "name": "stdout",
          "output_type": "stream",
          "text": [
            "validation loss: 0.0014513467724124591 at epoch 391\n",
            "learning_rate: 0.00064\n"
          ]
        },
        {
          "metadata": {
            "tags": null
          },
          "name": "stderr",
          "output_type": "stream",
          "text": [
            "epoch 391: 100%|██████████| 282/282 [00:07<00:00, 36.75it/s]\n"
          ]
        },
        {
          "metadata": {
            "tags": null
          },
          "name": "stdout",
          "output_type": "stream",
          "text": [
            "validation loss: 0.0009465685917271508 at epoch 392\n",
            "learning_rate: 0.00064\n"
          ]
        },
        {
          "metadata": {
            "tags": null
          },
          "name": "stderr",
          "output_type": "stream",
          "text": [
            "epoch 392: 100%|██████████| 282/282 [00:08<00:00, 33.74it/s]\n"
          ]
        },
        {
          "metadata": {
            "tags": null
          },
          "name": "stdout",
          "output_type": "stream",
          "text": [
            "validation loss: 0.0015186851893862088 at epoch 393\n",
            "learning_rate: 0.00064\n"
          ]
        },
        {
          "metadata": {
            "tags": null
          },
          "name": "stderr",
          "output_type": "stream",
          "text": [
            "epoch 393: 100%|██████████| 282/282 [00:08<00:00, 33.61it/s]\n"
          ]
        },
        {
          "metadata": {
            "tags": null
          },
          "name": "stdout",
          "output_type": "stream",
          "text": [
            "validation loss: 0.0012048165773351988 at epoch 394\n",
            "learning_rate: 0.00064\n"
          ]
        },
        {
          "metadata": {
            "tags": null
          },
          "name": "stderr",
          "output_type": "stream",
          "text": [
            "epoch 394: 100%|██████████| 282/282 [00:07<00:00, 36.91it/s]\n"
          ]
        },
        {
          "metadata": {
            "tags": null
          },
          "name": "stdout",
          "output_type": "stream",
          "text": [
            "validation loss: 0.0016792962294485834 at epoch 395\n",
            "learning_rate: 0.00064\n"
          ]
        },
        {
          "metadata": {
            "tags": null
          },
          "name": "stderr",
          "output_type": "stream",
          "text": [
            "epoch 395: 100%|██████████| 282/282 [00:08<00:00, 33.79it/s]\n"
          ]
        },
        {
          "metadata": {
            "tags": null
          },
          "name": "stdout",
          "output_type": "stream",
          "text": [
            "validation loss: 0.0009354535109466976 at epoch 396\n",
            "learning_rate: 0.00064\n"
          ]
        },
        {
          "metadata": {
            "tags": null
          },
          "name": "stderr",
          "output_type": "stream",
          "text": [
            "epoch 396: 100%|██████████| 282/282 [00:08<00:00, 33.75it/s]\n"
          ]
        },
        {
          "metadata": {
            "tags": null
          },
          "name": "stdout",
          "output_type": "stream",
          "text": [
            "validation loss: 0.0006007789373397827 at epoch 397\n",
            "learning_rate: 0.00064\n"
          ]
        },
        {
          "metadata": {
            "tags": null
          },
          "name": "stderr",
          "output_type": "stream",
          "text": [
            "epoch 397: 100%|██████████| 282/282 [00:07<00:00, 37.51it/s]\n"
          ]
        },
        {
          "metadata": {
            "tags": null
          },
          "name": "stdout",
          "output_type": "stream",
          "text": [
            "validation loss: 0.0007631539872123136 at epoch 398\n",
            "learning_rate: 0.00064\n"
          ]
        },
        {
          "metadata": {
            "tags": null
          },
          "name": "stderr",
          "output_type": "stream",
          "text": [
            "epoch 398: 100%|██████████| 282/282 [00:08<00:00, 33.33it/s]\n"
          ]
        },
        {
          "metadata": {
            "tags": null
          },
          "name": "stdout",
          "output_type": "stream",
          "text": [
            "validation loss: 0.0008246055841445922 at epoch 399\n",
            "learning_rate: 0.00064\n"
          ]
        },
        {
          "metadata": {
            "tags": null
          },
          "name": "stderr",
          "output_type": "stream",
          "text": [
            "epoch 399: 100%|██████████| 282/282 [00:08<00:00, 33.59it/s]\n"
          ]
        },
        {
          "metadata": {
            "tags": null
          },
          "name": "stdout",
          "output_type": "stream",
          "text": [
            "validation loss: 0.0015859585669305589 at epoch 400\n",
            "learning_rate: 0.00064\n"
          ]
        },
        {
          "metadata": {
            "tags": null
          },
          "name": "stderr",
          "output_type": "stream",
          "text": [
            "epoch 400: 100%|██████████| 282/282 [00:07<00:00, 36.79it/s]\n"
          ]
        },
        {
          "metadata": {
            "tags": null
          },
          "name": "stdout",
          "output_type": "stream",
          "text": [
            "validation loss: 0.0014502675500180987 at epoch 401\n",
            "learning_rate: 0.00064\n"
          ]
        },
        {
          "metadata": {
            "tags": null
          },
          "name": "stderr",
          "output_type": "stream",
          "text": [
            "epoch 401: 100%|██████████| 282/282 [00:08<00:00, 33.27it/s]\n"
          ]
        },
        {
          "metadata": {
            "tags": null
          },
          "name": "stdout",
          "output_type": "stream",
          "text": [
            "validation loss: 0.0010792695267332925 at epoch 402\n",
            "learning_rate: 0.00064\n"
          ]
        },
        {
          "metadata": {
            "tags": null
          },
          "name": "stderr",
          "output_type": "stream",
          "text": [
            "epoch 402: 100%|██████████| 282/282 [00:08<00:00, 33.26it/s]\n"
          ]
        },
        {
          "metadata": {
            "tags": null
          },
          "name": "stdout",
          "output_type": "stream",
          "text": [
            "validation loss: 0.0009284100673264928 at epoch 403\n",
            "learning_rate: 0.00064\n"
          ]
        },
        {
          "metadata": {
            "tags": null
          },
          "name": "stderr",
          "output_type": "stream",
          "text": [
            "epoch 403: 100%|██████████| 282/282 [00:07<00:00, 36.25it/s]\n"
          ]
        },
        {
          "metadata": {
            "tags": null
          },
          "name": "stdout",
          "output_type": "stream",
          "text": [
            "validation loss: 0.0009251711128486528 at epoch 404\n",
            "learning_rate: 0.00064\n"
          ]
        },
        {
          "metadata": {
            "tags": null
          },
          "name": "stderr",
          "output_type": "stream",
          "text": [
            "epoch 404: 100%|██████████| 282/282 [00:08<00:00, 33.18it/s]\n"
          ]
        },
        {
          "metadata": {
            "tags": null
          },
          "name": "stdout",
          "output_type": "stream",
          "text": [
            "validation loss: 0.0006302157081663609 at epoch 405\n",
            "learning_rate: 0.00064\n"
          ]
        },
        {
          "metadata": {
            "tags": null
          },
          "name": "stderr",
          "output_type": "stream",
          "text": [
            "epoch 405: 100%|██████████| 282/282 [00:08<00:00, 33.37it/s]\n"
          ]
        },
        {
          "metadata": {
            "tags": null
          },
          "name": "stdout",
          "output_type": "stream",
          "text": [
            "validation loss: 0.0005556352419985665 at epoch 406\n",
            "learning_rate: 0.00064\n"
          ]
        },
        {
          "metadata": {
            "tags": null
          },
          "name": "stderr",
          "output_type": "stream",
          "text": [
            "epoch 406: 100%|██████████| 282/282 [00:07<00:00, 36.39it/s]\n"
          ]
        },
        {
          "metadata": {
            "tags": null
          },
          "name": "stdout",
          "output_type": "stream",
          "text": [
            "validation loss: 0.000686580837600761 at epoch 407\n",
            "learning_rate: 0.00064\n"
          ]
        },
        {
          "metadata": {
            "tags": null
          },
          "name": "stderr",
          "output_type": "stream",
          "text": [
            "epoch 407: 100%|██████████| 282/282 [00:08<00:00, 33.91it/s]\n"
          ]
        },
        {
          "metadata": {
            "tags": null
          },
          "name": "stdout",
          "output_type": "stream",
          "text": [
            "validation loss: 0.0015544948370920287 at epoch 408\n",
            "learning_rate: 0.00064\n"
          ]
        },
        {
          "metadata": {
            "tags": null
          },
          "name": "stderr",
          "output_type": "stream",
          "text": [
            "epoch 408: 100%|██████████| 282/282 [00:08<00:00, 32.72it/s]\n"
          ]
        },
        {
          "metadata": {
            "tags": null
          },
          "name": "stdout",
          "output_type": "stream",
          "text": [
            "validation loss: 0.0016031063141094314 at epoch 409\n",
            "learning_rate: 0.00064\n"
          ]
        },
        {
          "metadata": {
            "tags": null
          },
          "name": "stderr",
          "output_type": "stream",
          "text": [
            "epoch 409: 100%|██████████| 282/282 [00:08<00:00, 33.94it/s]\n"
          ]
        },
        {
          "metadata": {
            "tags": null
          },
          "name": "stdout",
          "output_type": "stream",
          "text": [
            "validation loss: 0.001026126286221875 at epoch 410\n",
            "learning_rate: 0.00064\n"
          ]
        },
        {
          "metadata": {
            "tags": null
          },
          "name": "stderr",
          "output_type": "stream",
          "text": [
            "epoch 410: 100%|██████████| 282/282 [00:07<00:00, 36.38it/s]\n"
          ]
        },
        {
          "metadata": {
            "tags": null
          },
          "name": "stdout",
          "output_type": "stream",
          "text": [
            "validation loss: 0.0004762269068095419 at epoch 411\n",
            "learning_rate: 0.00064\n",
            "model saved in ani_acrolein.pt\n"
          ]
        },
        {
          "metadata": {
            "tags": null
          },
          "name": "stderr",
          "output_type": "stream",
          "text": [
            "epoch 411: 100%|██████████| 282/282 [00:08<00:00, 33.03it/s]\n"
          ]
        },
        {
          "metadata": {
            "tags": null
          },
          "name": "stdout",
          "output_type": "stream",
          "text": [
            "validation loss: 0.0004828905585325427 at epoch 412\n",
            "learning_rate: 0.00064\n"
          ]
        },
        {
          "metadata": {
            "tags": null
          },
          "name": "stderr",
          "output_type": "stream",
          "text": [
            "epoch 412: 100%|██████████| 282/282 [00:08<00:00, 33.21it/s]\n"
          ]
        },
        {
          "metadata": {
            "tags": null
          },
          "name": "stdout",
          "output_type": "stream",
          "text": [
            "validation loss: 0.0005885445550084114 at epoch 413\n",
            "learning_rate: 0.00064\n"
          ]
        },
        {
          "metadata": {
            "tags": null
          },
          "name": "stderr",
          "output_type": "stream",
          "text": [
            "epoch 413: 100%|██████████| 282/282 [00:07<00:00, 36.85it/s]\n"
          ]
        },
        {
          "metadata": {
            "tags": null
          },
          "name": "stdout",
          "output_type": "stream",
          "text": [
            "validation loss: 0.0006468988863958253 at epoch 414\n",
            "learning_rate: 0.00064\n"
          ]
        },
        {
          "metadata": {
            "tags": null
          },
          "name": "stderr",
          "output_type": "stream",
          "text": [
            "epoch 414: 100%|██████████| 282/282 [00:08<00:00, 32.68it/s]\n"
          ]
        },
        {
          "metadata": {
            "tags": null
          },
          "name": "stdout",
          "output_type": "stream",
          "text": [
            "validation loss: 0.0004313536242892345 at epoch 415\n",
            "learning_rate: 0.00064\n",
            "model saved in ani_acrolein.pt\n"
          ]
        },
        {
          "metadata": {
            "tags": null
          },
          "name": "stderr",
          "output_type": "stream",
          "text": [
            "epoch 415: 100%|██████████| 282/282 [00:08<00:00, 32.74it/s]\n"
          ]
        },
        {
          "metadata": {
            "tags": null
          },
          "name": "stdout",
          "output_type": "stream",
          "text": [
            "validation loss: 0.0023592194120089214 at epoch 416\n",
            "learning_rate: 0.00064\n"
          ]
        },
        {
          "metadata": {
            "tags": null
          },
          "name": "stderr",
          "output_type": "stream",
          "text": [
            "epoch 416: 100%|██████████| 282/282 [00:07<00:00, 35.60it/s]\n"
          ]
        },
        {
          "metadata": {
            "tags": null
          },
          "name": "stdout",
          "output_type": "stream",
          "text": [
            "validation loss: 0.0011332291513681412 at epoch 417\n",
            "learning_rate: 0.00064\n"
          ]
        },
        {
          "metadata": {
            "tags": null
          },
          "name": "stderr",
          "output_type": "stream",
          "text": [
            "epoch 417: 100%|██████████| 282/282 [00:08<00:00, 34.76it/s]\n"
          ]
        },
        {
          "metadata": {
            "tags": null
          },
          "name": "stdout",
          "output_type": "stream",
          "text": [
            "validation loss: 0.0014042364085714023 at epoch 418\n",
            "learning_rate: 0.00064\n"
          ]
        },
        {
          "metadata": {
            "tags": null
          },
          "name": "stderr",
          "output_type": "stream",
          "text": [
            "epoch 418: 100%|██████████| 282/282 [00:08<00:00, 33.14it/s]\n"
          ]
        },
        {
          "metadata": {
            "tags": null
          },
          "name": "stdout",
          "output_type": "stream",
          "text": [
            "validation loss: 0.0011102190812428791 at epoch 419\n",
            "learning_rate: 0.00064\n"
          ]
        },
        {
          "metadata": {
            "tags": null
          },
          "name": "stderr",
          "output_type": "stream",
          "text": [
            "epoch 419: 100%|██████████| 282/282 [00:08<00:00, 34.73it/s]\n"
          ]
        },
        {
          "metadata": {
            "tags": null
          },
          "name": "stdout",
          "output_type": "stream",
          "text": [
            "validation loss: 0.001947064008977678 at epoch 420\n",
            "learning_rate: 0.00064\n"
          ]
        },
        {
          "metadata": {
            "tags": null
          },
          "name": "stderr",
          "output_type": "stream",
          "text": [
            "epoch 420: 100%|██████████| 282/282 [00:07<00:00, 36.22it/s]\n"
          ]
        },
        {
          "metadata": {
            "tags": null
          },
          "name": "stdout",
          "output_type": "stream",
          "text": [
            "validation loss: 0.001984308926595582 at epoch 421\n",
            "learning_rate: 0.00064\n"
          ]
        },
        {
          "metadata": {
            "tags": null
          },
          "name": "stderr",
          "output_type": "stream",
          "text": [
            "epoch 421: 100%|██████████| 282/282 [00:08<00:00, 33.05it/s]\n"
          ]
        },
        {
          "metadata": {
            "tags": null
          },
          "name": "stdout",
          "output_type": "stream",
          "text": [
            "validation loss: 0.0006063701079951393 at epoch 422\n",
            "learning_rate: 0.00064\n"
          ]
        },
        {
          "metadata": {
            "tags": null
          },
          "name": "stderr",
          "output_type": "stream",
          "text": [
            "epoch 422: 100%|██████████| 282/282 [00:08<00:00, 33.79it/s]\n"
          ]
        },
        {
          "metadata": {
            "tags": null
          },
          "name": "stdout",
          "output_type": "stream",
          "text": [
            "validation loss: 0.001638629539973206 at epoch 423\n",
            "learning_rate: 0.00064\n"
          ]
        },
        {
          "metadata": {
            "tags": null
          },
          "name": "stderr",
          "output_type": "stream",
          "text": [
            "epoch 423: 100%|██████████| 282/282 [00:07<00:00, 37.06it/s]\n"
          ]
        },
        {
          "metadata": {
            "tags": null
          },
          "name": "stdout",
          "output_type": "stream",
          "text": [
            "validation loss: 0.0009336252800292439 at epoch 424\n",
            "learning_rate: 0.00064\n"
          ]
        },
        {
          "metadata": {
            "tags": null
          },
          "name": "stderr",
          "output_type": "stream",
          "text": [
            "epoch 424: 100%|██████████| 282/282 [00:08<00:00, 33.36it/s]\n"
          ]
        },
        {
          "metadata": {
            "tags": null
          },
          "name": "stdout",
          "output_type": "stream",
          "text": [
            "validation loss: 0.001272456352909406 at epoch 425\n",
            "learning_rate: 0.00064\n"
          ]
        },
        {
          "metadata": {
            "tags": null
          },
          "name": "stderr",
          "output_type": "stream",
          "text": [
            "epoch 425: 100%|██████████| 282/282 [00:08<00:00, 32.51it/s]\n"
          ]
        },
        {
          "metadata": {
            "tags": null
          },
          "name": "stdout",
          "output_type": "stream",
          "text": [
            "validation loss: 0.002566836756136682 at epoch 426\n",
            "learning_rate: 0.00064\n"
          ]
        },
        {
          "metadata": {
            "tags": null
          },
          "name": "stderr",
          "output_type": "stream",
          "text": [
            "epoch 426: 100%|██████████| 282/282 [00:07<00:00, 36.24it/s]\n"
          ]
        },
        {
          "metadata": {
            "tags": null
          },
          "name": "stdout",
          "output_type": "stream",
          "text": [
            "validation loss: 0.0012035036906599998 at epoch 427\n",
            "learning_rate: 0.00064\n"
          ]
        },
        {
          "metadata": {
            "tags": null
          },
          "name": "stderr",
          "output_type": "stream",
          "text": [
            "epoch 427: 100%|██████████| 282/282 [00:08<00:00, 32.01it/s]\n"
          ]
        },
        {
          "metadata": {
            "tags": null
          },
          "name": "stdout",
          "output_type": "stream",
          "text": [
            "validation loss: 0.001294781279232767 at epoch 428\n",
            "learning_rate: 0.00064\n"
          ]
        },
        {
          "metadata": {
            "tags": null
          },
          "name": "stderr",
          "output_type": "stream",
          "text": [
            "epoch 428: 100%|██████████| 282/282 [00:08<00:00, 32.04it/s]\n"
          ]
        },
        {
          "metadata": {
            "tags": null
          },
          "name": "stdout",
          "output_type": "stream",
          "text": [
            "validation loss: 0.0004788834376053678 at epoch 429\n",
            "learning_rate: 0.00064\n"
          ]
        },
        {
          "metadata": {
            "tags": null
          },
          "name": "stderr",
          "output_type": "stream",
          "text": [
            "epoch 429: 100%|██████████| 282/282 [00:08<00:00, 34.88it/s]\n"
          ]
        },
        {
          "metadata": {
            "tags": null
          },
          "name": "stdout",
          "output_type": "stream",
          "text": [
            "validation loss: 0.0012824117085999912 at epoch 430\n",
            "learning_rate: 0.00064\n"
          ]
        },
        {
          "metadata": {
            "tags": null
          },
          "name": "stderr",
          "output_type": "stream",
          "text": [
            "epoch 430: 100%|██████████| 282/282 [00:08<00:00, 33.13it/s]\n"
          ]
        },
        {
          "metadata": {
            "tags": null
          },
          "name": "stdout",
          "output_type": "stream",
          "text": [
            "validation loss: 0.0006145343999895785 at epoch 431\n",
            "learning_rate: 0.00064\n"
          ]
        },
        {
          "metadata": {
            "tags": null
          },
          "name": "stderr",
          "output_type": "stream",
          "text": [
            "epoch 431: 100%|██████████| 282/282 [00:08<00:00, 32.06it/s]\n"
          ]
        },
        {
          "metadata": {
            "tags": null
          },
          "name": "stdout",
          "output_type": "stream",
          "text": [
            "validation loss: 0.002071077237526576 at epoch 432\n",
            "learning_rate: 0.00064\n"
          ]
        },
        {
          "metadata": {
            "tags": null
          },
          "name": "stderr",
          "output_type": "stream",
          "text": [
            "epoch 432: 100%|██████████| 282/282 [00:08<00:00, 33.15it/s]\n"
          ]
        },
        {
          "metadata": {
            "tags": null
          },
          "name": "stdout",
          "output_type": "stream",
          "text": [
            "validation loss: 0.0009296359701289071 at epoch 433\n",
            "learning_rate: 0.00064\n"
          ]
        },
        {
          "metadata": {
            "tags": null
          },
          "name": "stderr",
          "output_type": "stream",
          "text": [
            "epoch 433: 100%|██████████| 282/282 [00:07<00:00, 36.12it/s]\n"
          ]
        },
        {
          "metadata": {
            "tags": null
          },
          "name": "stdout",
          "output_type": "stream",
          "text": [
            "validation loss: 0.0010595365870330069 at epoch 434\n",
            "learning_rate: 0.00064\n"
          ]
        },
        {
          "metadata": {
            "tags": null
          },
          "name": "stderr",
          "output_type": "stream",
          "text": [
            "epoch 434: 100%|██████████| 282/282 [00:08<00:00, 31.97it/s]\n"
          ]
        },
        {
          "metadata": {
            "tags": null
          },
          "name": "stdout",
          "output_type": "stream",
          "text": [
            "validation loss: 0.0011302456988228691 at epoch 435\n",
            "learning_rate: 0.00064\n"
          ]
        },
        {
          "metadata": {
            "tags": null
          },
          "name": "stderr",
          "output_type": "stream",
          "text": [
            "epoch 435: 100%|██████████| 282/282 [00:08<00:00, 32.50it/s]\n"
          ]
        },
        {
          "metadata": {
            "tags": null
          },
          "name": "stdout",
          "output_type": "stream",
          "text": [
            "validation loss: 0.0007124749384820461 at epoch 436\n",
            "learning_rate: 0.00064\n"
          ]
        },
        {
          "metadata": {
            "tags": null
          },
          "name": "stderr",
          "output_type": "stream",
          "text": [
            "epoch 436: 100%|██████████| 282/282 [00:07<00:00, 35.71it/s]\n"
          ]
        },
        {
          "metadata": {
            "tags": null
          },
          "name": "stdout",
          "output_type": "stream",
          "text": [
            "validation loss: 0.001262768333984746 at epoch 437\n",
            "learning_rate: 0.00064\n"
          ]
        },
        {
          "metadata": {
            "tags": null
          },
          "name": "stderr",
          "output_type": "stream",
          "text": [
            "epoch 437: 100%|██████████| 282/282 [00:08<00:00, 33.09it/s]\n"
          ]
        },
        {
          "metadata": {
            "tags": null
          },
          "name": "stdout",
          "output_type": "stream",
          "text": [
            "validation loss: 0.0011532257546981175 at epoch 438\n",
            "learning_rate: 0.00064\n"
          ]
        },
        {
          "metadata": {
            "tags": null
          },
          "name": "stderr",
          "output_type": "stream",
          "text": [
            "epoch 438: 100%|██████████| 282/282 [00:08<00:00, 32.11it/s]\n"
          ]
        },
        {
          "metadata": {
            "tags": null
          },
          "name": "stdout",
          "output_type": "stream",
          "text": [
            "validation loss: 0.0013205751876036325 at epoch 439\n",
            "learning_rate: 0.00064\n"
          ]
        },
        {
          "metadata": {
            "tags": null
          },
          "name": "stderr",
          "output_type": "stream",
          "text": [
            "epoch 439: 100%|██████████| 282/282 [00:08<00:00, 34.66it/s]\n"
          ]
        },
        {
          "metadata": {
            "tags": null
          },
          "name": "stdout",
          "output_type": "stream",
          "text": [
            "validation loss: 0.0007319588801927037 at epoch 440\n",
            "learning_rate: 0.00064\n"
          ]
        },
        {
          "metadata": {
            "tags": null
          },
          "name": "stderr",
          "output_type": "stream",
          "text": [
            "epoch 440: 100%|██████████| 282/282 [00:08<00:00, 33.58it/s]\n"
          ]
        },
        {
          "metadata": {
            "tags": null
          },
          "name": "stdout",
          "output_type": "stream",
          "text": [
            "validation loss: 0.0007810965809557173 at epoch 441\n",
            "learning_rate: 0.00064\n"
          ]
        },
        {
          "metadata": {
            "tags": null
          },
          "name": "stderr",
          "output_type": "stream",
          "text": [
            "epoch 441: 100%|██████████| 282/282 [00:08<00:00, 32.81it/s]\n"
          ]
        },
        {
          "metadata": {
            "tags": null
          },
          "name": "stdout",
          "output_type": "stream",
          "text": [
            "validation loss: 0.0013141234839955966 at epoch 442\n",
            "learning_rate: 0.00064\n"
          ]
        },
        {
          "metadata": {
            "tags": null
          },
          "name": "stderr",
          "output_type": "stream",
          "text": [
            "epoch 442: 100%|██████████| 282/282 [00:08<00:00, 31.93it/s]\n"
          ]
        },
        {
          "metadata": {
            "tags": null
          },
          "name": "stdout",
          "output_type": "stream",
          "text": [
            "validation loss: 0.001176169440150261 at epoch 443\n",
            "learning_rate: 0.00064\n"
          ]
        },
        {
          "metadata": {
            "tags": null
          },
          "name": "stderr",
          "output_type": "stream",
          "text": [
            "epoch 443: 100%|██████████| 282/282 [00:07<00:00, 35.39it/s]\n"
          ]
        },
        {
          "metadata": {
            "tags": null
          },
          "name": "stdout",
          "output_type": "stream",
          "text": [
            "validation loss: 0.0005064888358530071 at epoch 444\n",
            "learning_rate: 0.00064\n"
          ]
        },
        {
          "metadata": {
            "tags": null
          },
          "name": "stderr",
          "output_type": "stream",
          "text": [
            "epoch 444: 100%|██████████| 282/282 [00:08<00:00, 32.40it/s]\n"
          ]
        },
        {
          "metadata": {
            "tags": null
          },
          "name": "stdout",
          "output_type": "stream",
          "text": [
            "validation loss: 0.000575930075512992 at epoch 445\n",
            "learning_rate: 0.00064\n"
          ]
        },
        {
          "metadata": {
            "tags": null
          },
          "name": "stderr",
          "output_type": "stream",
          "text": [
            "epoch 445: 100%|██████████| 282/282 [00:08<00:00, 32.12it/s]\n"
          ]
        },
        {
          "metadata": {
            "tags": null
          },
          "name": "stdout",
          "output_type": "stream",
          "text": [
            "validation loss: 0.0018978296418984731 at epoch 446\n",
            "learning_rate: 0.00064\n"
          ]
        },
        {
          "metadata": {
            "tags": null
          },
          "name": "stderr",
          "output_type": "stream",
          "text": [
            "epoch 446: 100%|██████████| 282/282 [00:08<00:00, 35.03it/s]\n"
          ]
        },
        {
          "metadata": {
            "tags": null
          },
          "name": "stdout",
          "output_type": "stream",
          "text": [
            "validation loss: 0.000992874643041028 at epoch 447\n",
            "learning_rate: 0.00064\n"
          ]
        },
        {
          "metadata": {
            "tags": null
          },
          "name": "stderr",
          "output_type": "stream",
          "text": [
            "epoch 447: 100%|██████████| 282/282 [00:08<00:00, 33.83it/s]\n"
          ]
        },
        {
          "metadata": {
            "tags": null
          },
          "name": "stdout",
          "output_type": "stream",
          "text": [
            "validation loss: 0.000873181571977006 at epoch 448\n",
            "learning_rate: 0.00064\n"
          ]
        },
        {
          "metadata": {
            "tags": null
          },
          "name": "stderr",
          "output_type": "stream",
          "text": [
            "epoch 448: 100%|██████████| 282/282 [00:08<00:00, 31.95it/s]\n"
          ]
        },
        {
          "metadata": {
            "tags": null
          },
          "name": "stdout",
          "output_type": "stream",
          "text": [
            "validation loss: 0.0019375975711478127 at epoch 449\n",
            "learning_rate: 0.00064\n"
          ]
        },
        {
          "metadata": {
            "tags": null
          },
          "name": "stderr",
          "output_type": "stream",
          "text": [
            "epoch 449: 100%|██████████| 282/282 [00:08<00:00, 33.24it/s]\n"
          ]
        },
        {
          "metadata": {
            "tags": null
          },
          "name": "stdout",
          "output_type": "stream",
          "text": [
            "validation loss: 0.0013184845679336124 at epoch 450\n",
            "learning_rate: 0.00064\n"
          ]
        },
        {
          "metadata": {
            "tags": null
          },
          "name": "stderr",
          "output_type": "stream",
          "text": [
            "epoch 450: 100%|██████████| 282/282 [00:07<00:00, 35.46it/s]\n"
          ]
        },
        {
          "metadata": {
            "tags": null
          },
          "name": "stdout",
          "output_type": "stream",
          "text": [
            "validation loss: 0.0016697701546880934 at epoch 451\n",
            "learning_rate: 0.00064\n"
          ]
        },
        {
          "metadata": {
            "tags": null
          },
          "name": "stderr",
          "output_type": "stream",
          "text": [
            "epoch 451: 100%|██████████| 282/282 [00:08<00:00, 32.31it/s]\n"
          ]
        },
        {
          "metadata": {
            "tags": null
          },
          "name": "stdout",
          "output_type": "stream",
          "text": [
            "validation loss: 0.0008255020872586303 at epoch 452\n",
            "learning_rate: 0.00064\n"
          ]
        },
        {
          "metadata": {
            "tags": null
          },
          "name": "stderr",
          "output_type": "stream",
          "text": [
            "epoch 452: 100%|██████████| 282/282 [00:08<00:00, 31.92it/s]\n"
          ]
        },
        {
          "metadata": {
            "tags": null
          },
          "name": "stdout",
          "output_type": "stream",
          "text": [
            "validation loss: 0.0021194156226184632 at epoch 453\n",
            "learning_rate: 0.00064\n"
          ]
        },
        {
          "metadata": {
            "tags": null
          },
          "name": "stderr",
          "output_type": "stream",
          "text": [
            "epoch 453: 100%|██████████| 282/282 [00:07<00:00, 35.78it/s]\n"
          ]
        },
        {
          "metadata": {
            "tags": null
          },
          "name": "stdout",
          "output_type": "stream",
          "text": [
            "validation loss: 0.0015296059317058987 at epoch 454\n",
            "learning_rate: 0.00064\n"
          ]
        },
        {
          "metadata": {
            "tags": null
          },
          "name": "stderr",
          "output_type": "stream",
          "text": [
            "epoch 454: 100%|██████████| 282/282 [00:08<00:00, 31.83it/s]\n"
          ]
        },
        {
          "metadata": {
            "tags": null
          },
          "name": "stdout",
          "output_type": "stream",
          "text": [
            "validation loss: 0.0020521292868587704 at epoch 455\n",
            "learning_rate: 0.00064\n"
          ]
        },
        {
          "metadata": {
            "tags": null
          },
          "name": "stderr",
          "output_type": "stream",
          "text": [
            "epoch 455: 100%|██████████| 282/282 [00:08<00:00, 32.28it/s]\n"
          ]
        },
        {
          "metadata": {
            "tags": null
          },
          "name": "stdout",
          "output_type": "stream",
          "text": [
            "validation loss: 0.002186249820722474 at epoch 456\n",
            "learning_rate: 0.00064\n"
          ]
        },
        {
          "metadata": {
            "tags": null
          },
          "name": "stderr",
          "output_type": "stream",
          "text": [
            "epoch 456: 100%|██████████| 282/282 [00:08<00:00, 34.44it/s]\n"
          ]
        },
        {
          "metadata": {
            "tags": null
          },
          "name": "stdout",
          "output_type": "stream",
          "text": [
            "validation loss: 0.002053770452737808 at epoch 457\n",
            "learning_rate: 0.00064\n"
          ]
        },
        {
          "metadata": {
            "tags": null
          },
          "name": "stderr",
          "output_type": "stream",
          "text": [
            "epoch 457: 100%|██████████| 282/282 [00:08<00:00, 34.55it/s]\n"
          ]
        },
        {
          "metadata": {
            "tags": null
          },
          "name": "stdout",
          "output_type": "stream",
          "text": [
            "validation loss: 0.0004294329689194759 at epoch 458\n",
            "learning_rate: 0.00064\n",
            "model saved in ani_acrolein.pt\n"
          ]
        },
        {
          "metadata": {
            "tags": null
          },
          "name": "stderr",
          "output_type": "stream",
          "text": [
            "epoch 458: 100%|██████████| 282/282 [00:08<00:00, 31.80it/s]\n"
          ]
        },
        {
          "metadata": {
            "tags": null
          },
          "name": "stdout",
          "output_type": "stream",
          "text": [
            "validation loss: 0.0008450357611808512 at epoch 459\n",
            "learning_rate: 0.00064\n"
          ]
        },
        {
          "metadata": {
            "tags": null
          },
          "name": "stderr",
          "output_type": "stream",
          "text": [
            "epoch 459: 100%|██████████| 282/282 [00:08<00:00, 32.70it/s]\n"
          ]
        },
        {
          "metadata": {
            "tags": null
          },
          "name": "stdout",
          "output_type": "stream",
          "text": [
            "validation loss: 0.0004127622979382674 at epoch 460\n",
            "learning_rate: 0.00064\n",
            "model saved in ani_acrolein.pt\n"
          ]
        },
        {
          "metadata": {
            "tags": null
          },
          "name": "stderr",
          "output_type": "stream",
          "text": [
            "epoch 460: 100%|██████████| 282/282 [00:07<00:00, 35.50it/s]\n"
          ]
        },
        {
          "metadata": {
            "tags": null
          },
          "name": "stdout",
          "output_type": "stream",
          "text": [
            "validation loss: 0.0019292458742856979 at epoch 461\n",
            "learning_rate: 0.00064\n"
          ]
        },
        {
          "metadata": {
            "tags": null
          },
          "name": "stderr",
          "output_type": "stream",
          "text": [
            "epoch 461: 100%|██████████| 282/282 [00:08<00:00, 32.19it/s]\n"
          ]
        },
        {
          "metadata": {
            "tags": null
          },
          "name": "stdout",
          "output_type": "stream",
          "text": [
            "validation loss: 0.0019393184615506065 at epoch 462\n",
            "learning_rate: 0.00064\n"
          ]
        },
        {
          "metadata": {
            "tags": null
          },
          "name": "stderr",
          "output_type": "stream",
          "text": [
            "epoch 462: 100%|██████████| 282/282 [00:08<00:00, 31.96it/s]\n"
          ]
        },
        {
          "metadata": {
            "tags": null
          },
          "name": "stdout",
          "output_type": "stream",
          "text": [
            "validation loss: 0.0007066279397242599 at epoch 463\n",
            "learning_rate: 0.00064\n"
          ]
        },
        {
          "metadata": {
            "tags": null
          },
          "name": "stderr",
          "output_type": "stream",
          "text": [
            "epoch 463: 100%|██████████| 282/282 [00:07<00:00, 36.32it/s]\n"
          ]
        },
        {
          "metadata": {
            "tags": null
          },
          "name": "stdout",
          "output_type": "stream",
          "text": [
            "validation loss: 0.0005798505979279677 at epoch 464\n",
            "learning_rate: 0.00064\n"
          ]
        },
        {
          "metadata": {
            "tags": null
          },
          "name": "stderr",
          "output_type": "stream",
          "text": [
            "epoch 464: 100%|██████████| 282/282 [00:08<00:00, 31.83it/s]\n"
          ]
        },
        {
          "metadata": {
            "tags": null
          },
          "name": "stdout",
          "output_type": "stream",
          "text": [
            "validation loss: 0.0005422397512528631 at epoch 465\n",
            "learning_rate: 0.00064\n"
          ]
        },
        {
          "metadata": {
            "tags": null
          },
          "name": "stderr",
          "output_type": "stream",
          "text": [
            "epoch 465: 100%|██████████| 282/282 [00:08<00:00, 32.09it/s]\n"
          ]
        },
        {
          "metadata": {
            "tags": null
          },
          "name": "stdout",
          "output_type": "stream",
          "text": [
            "validation loss: 0.0014078798707988526 at epoch 466\n",
            "learning_rate: 0.00064\n"
          ]
        },
        {
          "metadata": {
            "tags": null
          },
          "name": "stderr",
          "output_type": "stream",
          "text": [
            "epoch 466: 100%|██████████| 282/282 [00:08<00:00, 33.88it/s]\n"
          ]
        },
        {
          "metadata": {
            "tags": null
          },
          "name": "stdout",
          "output_type": "stream",
          "text": [
            "validation loss: 0.0014731296458178097 at epoch 467\n",
            "learning_rate: 0.00064\n"
          ]
        },
        {
          "metadata": {
            "tags": null
          },
          "name": "stderr",
          "output_type": "stream",
          "text": [
            "epoch 467: 100%|██████████| 282/282 [00:08<00:00, 34.82it/s]\n"
          ]
        },
        {
          "metadata": {
            "tags": null
          },
          "name": "stdout",
          "output_type": "stream",
          "text": [
            "validation loss: 0.002184007480740547 at epoch 468\n",
            "learning_rate: 0.00064\n"
          ]
        },
        {
          "metadata": {
            "tags": null
          },
          "name": "stderr",
          "output_type": "stream",
          "text": [
            "epoch 468: 100%|██████████| 282/282 [00:08<00:00, 31.64it/s]\n"
          ]
        },
        {
          "metadata": {
            "tags": null
          },
          "name": "stdout",
          "output_type": "stream",
          "text": [
            "validation loss: 0.0015336234172185262 at epoch 469\n",
            "learning_rate: 0.00064\n"
          ]
        },
        {
          "metadata": {
            "tags": null
          },
          "name": "stderr",
          "output_type": "stream",
          "text": [
            "epoch 469: 100%|██████████| 282/282 [00:08<00:00, 32.52it/s]\n"
          ]
        },
        {
          "metadata": {
            "tags": null
          },
          "name": "stdout",
          "output_type": "stream",
          "text": [
            "validation loss: 0.0014756991407937473 at epoch 470\n",
            "learning_rate: 0.00064\n"
          ]
        },
        {
          "metadata": {
            "tags": null
          },
          "name": "stderr",
          "output_type": "stream",
          "text": [
            "epoch 470: 100%|██████████| 282/282 [00:07<00:00, 36.15it/s]\n"
          ]
        },
        {
          "metadata": {
            "tags": null
          },
          "name": "stdout",
          "output_type": "stream",
          "text": [
            "validation loss: 0.0007905049361288548 at epoch 471\n",
            "learning_rate: 0.00064\n"
          ]
        },
        {
          "metadata": {
            "tags": null
          },
          "name": "stderr",
          "output_type": "stream",
          "text": [
            "epoch 471: 100%|██████████| 282/282 [00:08<00:00, 32.97it/s]\n"
          ]
        },
        {
          "metadata": {
            "tags": null
          },
          "name": "stdout",
          "output_type": "stream",
          "text": [
            "validation loss: 0.0012933042322595914 at epoch 472\n",
            "learning_rate: 0.00064\n"
          ]
        },
        {
          "metadata": {
            "tags": null
          },
          "name": "stderr",
          "output_type": "stream",
          "text": [
            "epoch 472: 100%|██████████| 282/282 [00:08<00:00, 32.26it/s]\n"
          ]
        },
        {
          "metadata": {
            "tags": null
          },
          "name": "stdout",
          "output_type": "stream",
          "text": [
            "validation loss: 0.001242865606314606 at epoch 473\n",
            "learning_rate: 0.00064\n"
          ]
        },
        {
          "metadata": {
            "tags": null
          },
          "name": "stderr",
          "output_type": "stream",
          "text": [
            "epoch 473: 100%|██████████| 282/282 [00:07<00:00, 36.21it/s]\n"
          ]
        },
        {
          "metadata": {
            "tags": null
          },
          "name": "stdout",
          "output_type": "stream",
          "text": [
            "validation loss: 0.0016745378010802798 at epoch 474\n",
            "learning_rate: 0.00064\n"
          ]
        },
        {
          "metadata": {
            "tags": null
          },
          "name": "stderr",
          "output_type": "stream",
          "text": [
            "epoch 474: 100%|██████████| 282/282 [00:08<00:00, 33.18it/s]\n"
          ]
        },
        {
          "metadata": {
            "tags": null
          },
          "name": "stdout",
          "output_type": "stream",
          "text": [
            "validation loss: 0.0018903591285149256 at epoch 475\n",
            "learning_rate: 0.00064\n"
          ]
        },
        {
          "metadata": {
            "tags": null
          },
          "name": "stderr",
          "output_type": "stream",
          "text": [
            "epoch 475: 100%|██████████| 282/282 [00:08<00:00, 32.04it/s]\n"
          ]
        },
        {
          "metadata": {
            "tags": null
          },
          "name": "stdout",
          "output_type": "stream",
          "text": [
            "validation loss: 0.0018369006961584092 at epoch 476\n",
            "learning_rate: 0.00064\n"
          ]
        },
        {
          "metadata": {
            "tags": null
          },
          "name": "stderr",
          "output_type": "stream",
          "text": [
            "epoch 476: 100%|██████████| 282/282 [00:08<00:00, 34.20it/s]\n"
          ]
        },
        {
          "metadata": {
            "tags": null
          },
          "name": "stdout",
          "output_type": "stream",
          "text": [
            "validation loss: 0.0020222334216038387 at epoch 477\n",
            "learning_rate: 0.00064\n"
          ]
        },
        {
          "metadata": {
            "tags": null
          },
          "name": "stderr",
          "output_type": "stream",
          "text": [
            "epoch 477: 100%|██████████| 282/282 [00:08<00:00, 35.03it/s]\n"
          ]
        },
        {
          "metadata": {
            "tags": null
          },
          "name": "stdout",
          "output_type": "stream",
          "text": [
            "validation loss: 0.0027521048138538996 at epoch 478\n",
            "learning_rate: 0.00064\n"
          ]
        },
        {
          "metadata": {
            "tags": null
          },
          "name": "stderr",
          "output_type": "stream",
          "text": [
            "epoch 478: 100%|██████████| 282/282 [00:08<00:00, 32.81it/s]\n"
          ]
        },
        {
          "metadata": {
            "tags": null
          },
          "name": "stdout",
          "output_type": "stream",
          "text": [
            "validation loss: 0.000970537732872698 at epoch 479\n",
            "learning_rate: 0.00064\n"
          ]
        },
        {
          "metadata": {
            "tags": null
          },
          "name": "stderr",
          "output_type": "stream",
          "text": [
            "epoch 479: 100%|██████████| 282/282 [00:08<00:00, 32.28it/s]\n"
          ]
        },
        {
          "metadata": {
            "tags": null
          },
          "name": "stdout",
          "output_type": "stream",
          "text": [
            "validation loss: 0.00047376719779438443 at epoch 480\n",
            "learning_rate: 0.00064\n"
          ]
        },
        {
          "metadata": {
            "tags": null
          },
          "name": "stderr",
          "output_type": "stream",
          "text": [
            "epoch 480: 100%|██████████| 282/282 [00:08<00:00, 35.07it/s]\n"
          ]
        },
        {
          "metadata": {
            "tags": null
          },
          "name": "stdout",
          "output_type": "stream",
          "text": [
            "validation loss: 0.0015270286930931939 at epoch 481\n",
            "learning_rate: 0.00064\n"
          ]
        },
        {
          "metadata": {
            "tags": null
          },
          "name": "stderr",
          "output_type": "stream",
          "text": [
            "epoch 481: 100%|██████████| 282/282 [00:08<00:00, 32.15it/s]\n"
          ]
        },
        {
          "metadata": {
            "tags": null
          },
          "name": "stdout",
          "output_type": "stream",
          "text": [
            "validation loss: 0.0025242530173725554 at epoch 482\n",
            "learning_rate: 0.00064\n"
          ]
        },
        {
          "metadata": {
            "tags": null
          },
          "name": "stderr",
          "output_type": "stream",
          "text": [
            "epoch 482: 100%|██████████| 282/282 [00:08<00:00, 33.33it/s]\n"
          ]
        },
        {
          "metadata": {
            "tags": null
          },
          "name": "stdout",
          "output_type": "stream",
          "text": [
            "validation loss: 0.002127253570490413 at epoch 483\n",
            "learning_rate: 0.00064\n"
          ]
        },
        {
          "metadata": {
            "tags": null
          },
          "name": "stderr",
          "output_type": "stream",
          "text": [
            "epoch 483: 100%|██████████| 282/282 [00:07<00:00, 36.61it/s]\n"
          ]
        },
        {
          "metadata": {
            "tags": null
          },
          "name": "stdout",
          "output_type": "stream",
          "text": [
            "validation loss: 0.00235879115263621 at epoch 484\n",
            "learning_rate: 0.00064\n"
          ]
        },
        {
          "metadata": {
            "tags": null
          },
          "name": "stderr",
          "output_type": "stream",
          "text": [
            "epoch 484: 100%|██████████| 282/282 [00:08<00:00, 33.91it/s]\n"
          ]
        },
        {
          "metadata": {
            "tags": null
          },
          "name": "stdout",
          "output_type": "stream",
          "text": [
            "validation loss: 0.0017831196669075224 at epoch 485\n",
            "learning_rate: 0.00064\n"
          ]
        },
        {
          "metadata": {
            "tags": null
          },
          "name": "stderr",
          "output_type": "stream",
          "text": [
            "epoch 485: 100%|██████████| 282/282 [00:08<00:00, 32.31it/s]\n"
          ]
        },
        {
          "metadata": {
            "tags": null
          },
          "name": "stdout",
          "output_type": "stream",
          "text": [
            "validation loss: 0.0022591068430079355 at epoch 486\n",
            "learning_rate: 0.00064\n"
          ]
        },
        {
          "metadata": {
            "tags": null
          },
          "name": "stderr",
          "output_type": "stream",
          "text": [
            "epoch 486: 100%|██████████| 282/282 [00:08<00:00, 34.01it/s]\n"
          ]
        },
        {
          "metadata": {
            "tags": null
          },
          "name": "stdout",
          "output_type": "stream",
          "text": [
            "validation loss: 0.0010282749128010537 at epoch 487\n",
            "learning_rate: 0.00064\n"
          ]
        },
        {
          "metadata": {
            "tags": null
          },
          "name": "stderr",
          "output_type": "stream",
          "text": [
            "epoch 487: 100%|██████████| 282/282 [00:07<00:00, 36.32it/s]\n"
          ]
        },
        {
          "metadata": {
            "tags": null
          },
          "name": "stdout",
          "output_type": "stream",
          "text": [
            "validation loss: 0.001556087013747957 at epoch 488\n",
            "learning_rate: 0.00064\n"
          ]
        },
        {
          "metadata": {
            "tags": null
          },
          "name": "stderr",
          "output_type": "stream",
          "text": [
            "epoch 488: 100%|██████████| 282/282 [00:08<00:00, 33.25it/s]\n"
          ]
        },
        {
          "metadata": {
            "tags": null
          },
          "name": "stdout",
          "output_type": "stream",
          "text": [
            "validation loss: 0.0015927640207939679 at epoch 489\n",
            "learning_rate: 0.00064\n"
          ]
        },
        {
          "metadata": {
            "tags": null
          },
          "name": "stderr",
          "output_type": "stream",
          "text": [
            "epoch 489: 100%|██████████| 282/282 [00:08<00:00, 33.47it/s]\n"
          ]
        },
        {
          "metadata": {
            "tags": null
          },
          "name": "stdout",
          "output_type": "stream",
          "text": [
            "validation loss: 0.0020117180728250078 at epoch 490\n",
            "learning_rate: 0.00064\n"
          ]
        },
        {
          "metadata": {
            "tags": null
          },
          "name": "stderr",
          "output_type": "stream",
          "text": [
            "epoch 490: 100%|██████████| 282/282 [00:07<00:00, 37.24it/s]\n"
          ]
        },
        {
          "metadata": {
            "tags": null
          },
          "name": "stdout",
          "output_type": "stream",
          "text": [
            "validation loss: 0.0016022078345219294 at epoch 491\n",
            "learning_rate: 0.00064\n"
          ]
        },
        {
          "metadata": {
            "tags": null
          },
          "name": "stderr",
          "output_type": "stream",
          "text": [
            "epoch 491: 100%|██████████| 282/282 [00:08<00:00, 33.74it/s]\n"
          ]
        },
        {
          "metadata": {
            "tags": null
          },
          "name": "stdout",
          "output_type": "stream",
          "text": [
            "validation loss: 0.0018338191459576288 at epoch 492\n",
            "learning_rate: 0.00064\n"
          ]
        },
        {
          "metadata": {
            "tags": null
          },
          "name": "stderr",
          "output_type": "stream",
          "text": [
            "epoch 492: 100%|██████████| 282/282 [00:08<00:00, 33.44it/s]\n"
          ]
        },
        {
          "metadata": {
            "tags": null
          },
          "name": "stdout",
          "output_type": "stream",
          "text": [
            "validation loss: 0.00204701319999165 at epoch 493\n",
            "learning_rate: 0.00064\n"
          ]
        },
        {
          "metadata": {
            "tags": null
          },
          "name": "stderr",
          "output_type": "stream",
          "text": [
            "epoch 493: 100%|██████████| 282/282 [00:07<00:00, 37.21it/s]\n"
          ]
        },
        {
          "metadata": {
            "tags": null
          },
          "name": "stdout",
          "output_type": "stream",
          "text": [
            "validation loss: 0.002374905475311809 at epoch 494\n",
            "learning_rate: 0.00064\n"
          ]
        },
        {
          "metadata": {
            "tags": null
          },
          "name": "stderr",
          "output_type": "stream",
          "text": [
            "epoch 494: 100%|██████████| 282/282 [00:08<00:00, 33.32it/s]\n"
          ]
        },
        {
          "metadata": {
            "tags": null
          },
          "name": "stdout",
          "output_type": "stream",
          "text": [
            "validation loss: 0.0004312252677563164 at epoch 495\n",
            "learning_rate: 0.00064\n"
          ]
        },
        {
          "metadata": {
            "tags": null
          },
          "name": "stderr",
          "output_type": "stream",
          "text": [
            "epoch 495: 100%|██████████| 282/282 [00:08<00:00, 33.42it/s]\n"
          ]
        },
        {
          "metadata": {
            "tags": null
          },
          "name": "stdout",
          "output_type": "stream",
          "text": [
            "validation loss: 0.0015192839403947195 at epoch 496\n",
            "learning_rate: 0.00064\n"
          ]
        },
        {
          "metadata": {
            "tags": null
          },
          "name": "stderr",
          "output_type": "stream",
          "text": [
            "epoch 496: 100%|██████████| 282/282 [00:07<00:00, 37.21it/s]\n"
          ]
        },
        {
          "metadata": {
            "tags": null
          },
          "name": "stdout",
          "output_type": "stream",
          "text": [
            "validation loss: 0.0012894151699211862 at epoch 497\n",
            "learning_rate: 0.00064\n"
          ]
        },
        {
          "metadata": {
            "tags": null
          },
          "name": "stderr",
          "output_type": "stream",
          "text": [
            "epoch 497: 100%|██████████| 282/282 [00:08<00:00, 33.51it/s]\n"
          ]
        },
        {
          "metadata": {
            "tags": null
          },
          "name": "stdout",
          "output_type": "stream",
          "text": [
            "validation loss: 0.0010774106159806252 at epoch 498\n",
            "learning_rate: 0.00064\n"
          ]
        },
        {
          "metadata": {
            "tags": null
          },
          "name": "stderr",
          "output_type": "stream",
          "text": [
            "epoch 498: 100%|██████████| 282/282 [00:08<00:00, 33.81it/s]\n"
          ]
        },
        {
          "metadata": {
            "tags": null
          },
          "name": "stdout",
          "output_type": "stream",
          "text": [
            "validation loss: 0.0058473193248112995 at epoch 499\n",
            "learning_rate: 0.00064\n"
          ]
        },
        {
          "metadata": {
            "tags": null
          },
          "name": "stderr",
          "output_type": "stream",
          "text": [
            "epoch 499: 100%|██████████| 282/282 [00:07<00:00, 36.75it/s]\n"
          ]
        },
        {
          "metadata": {
            "tags": null
          },
          "name": "stdout",
          "output_type": "stream",
          "text": [
            "validation loss: 0.002065871109565099 at epoch 500\n",
            "learning_rate: 0.00064\n"
          ]
        },
        {
          "metadata": {
            "tags": null
          },
          "name": "stderr",
          "output_type": "stream",
          "text": [
            "epoch 500: 100%|██████████| 282/282 [00:08<00:00, 31.83it/s]\n"
          ]
        },
        {
          "metadata": {
            "tags": null
          },
          "name": "stdout",
          "output_type": "stream",
          "text": [
            "validation loss: 0.0023965594503614638 at epoch 501\n",
            "learning_rate: 0.00064\n"
          ]
        },
        {
          "metadata": {
            "tags": null
          },
          "name": "stderr",
          "output_type": "stream",
          "text": [
            "epoch 501: 100%|██████████| 282/282 [00:08<00:00, 31.88it/s]\n"
          ]
        },
        {
          "metadata": {
            "tags": null
          },
          "name": "stdout",
          "output_type": "stream",
          "text": [
            "validation loss: 0.002182450120647748 at epoch 502\n",
            "learning_rate: 0.00064\n"
          ]
        },
        {
          "metadata": {
            "tags": null
          },
          "name": "stderr",
          "output_type": "stream",
          "text": [
            "epoch 502: 100%|██████████| 282/282 [00:08<00:00, 33.17it/s]\n"
          ]
        },
        {
          "metadata": {
            "tags": null
          },
          "name": "stdout",
          "output_type": "stream",
          "text": [
            "validation loss: 0.0006267685112026003 at epoch 503\n",
            "learning_rate: 0.00064\n"
          ]
        },
        {
          "metadata": {
            "tags": null
          },
          "name": "stderr",
          "output_type": "stream",
          "text": [
            "epoch 503: 100%|██████████| 282/282 [00:07<00:00, 35.26it/s]\n"
          ]
        },
        {
          "metadata": {
            "tags": null
          },
          "name": "stdout",
          "output_type": "stream",
          "text": [
            "validation loss: 0.0018762595074044333 at epoch 504\n",
            "learning_rate: 0.00064\n"
          ]
        },
        {
          "metadata": {
            "tags": null
          },
          "name": "stderr",
          "output_type": "stream",
          "text": [
            "epoch 504: 100%|██████████| 282/282 [00:08<00:00, 33.62it/s]\n"
          ]
        },
        {
          "metadata": {
            "tags": null
          },
          "name": "stdout",
          "output_type": "stream",
          "text": [
            "validation loss: 0.0005929580819275644 at epoch 505\n",
            "learning_rate: 0.00064\n"
          ]
        },
        {
          "metadata": {
            "tags": null
          },
          "name": "stderr",
          "output_type": "stream",
          "text": [
            "epoch 505: 100%|██████████| 282/282 [00:08<00:00, 33.53it/s]\n"
          ]
        },
        {
          "metadata": {
            "tags": null
          },
          "name": "stdout",
          "output_type": "stream",
          "text": [
            "validation loss: 0.002589941844344139 at epoch 506\n",
            "learning_rate: 0.00064\n"
          ]
        },
        {
          "metadata": {
            "tags": null
          },
          "name": "stderr",
          "output_type": "stream",
          "text": [
            "epoch 506: 100%|██████████| 282/282 [00:07<00:00, 36.50it/s]\n"
          ]
        },
        {
          "metadata": {
            "tags": null
          },
          "name": "stdout",
          "output_type": "stream",
          "text": [
            "validation loss: 0.003878647122118208 at epoch 507\n",
            "learning_rate: 0.00064\n"
          ]
        },
        {
          "metadata": {
            "tags": null
          },
          "name": "stderr",
          "output_type": "stream",
          "text": [
            "epoch 507: 100%|██████████| 282/282 [00:08<00:00, 33.32it/s]\n"
          ]
        },
        {
          "metadata": {
            "tags": null
          },
          "name": "stdout",
          "output_type": "stream",
          "text": [
            "validation loss: 0.0023236614217360813 at epoch 508\n",
            "learning_rate: 0.00064\n"
          ]
        },
        {
          "metadata": {
            "tags": null
          },
          "name": "stderr",
          "output_type": "stream",
          "text": [
            "epoch 508: 100%|██████████| 282/282 [00:08<00:00, 32.61it/s]\n"
          ]
        },
        {
          "metadata": {
            "tags": null
          },
          "name": "stdout",
          "output_type": "stream",
          "text": [
            "validation loss: 0.0004987636527253522 at epoch 509\n",
            "learning_rate: 0.00064\n"
          ]
        },
        {
          "metadata": {
            "tags": null
          },
          "name": "stderr",
          "output_type": "stream",
          "text": [
            "epoch 509: 100%|██████████| 282/282 [00:07<00:00, 36.50it/s]\n"
          ]
        },
        {
          "metadata": {
            "tags": null
          },
          "name": "stdout",
          "output_type": "stream",
          "text": [
            "validation loss: 0.002942772027519014 at epoch 510\n",
            "learning_rate: 0.00064\n"
          ]
        },
        {
          "metadata": {
            "tags": null
          },
          "name": "stderr",
          "output_type": "stream",
          "text": [
            "epoch 510: 100%|██████████| 282/282 [00:08<00:00, 33.26it/s]\n"
          ]
        },
        {
          "metadata": {
            "tags": null
          },
          "name": "stdout",
          "output_type": "stream",
          "text": [
            "validation loss: 0.0027646115372578304 at epoch 511\n",
            "learning_rate: 0.00064\n"
          ]
        },
        {
          "metadata": {
            "tags": null
          },
          "name": "stderr",
          "output_type": "stream",
          "text": [
            "epoch 511: 100%|██████████| 282/282 [00:08<00:00, 33.61it/s]\n"
          ]
        },
        {
          "metadata": {
            "tags": null
          },
          "name": "stdout",
          "output_type": "stream",
          "text": [
            "validation loss: 0.000622691279484166 at epoch 512\n",
            "learning_rate: 0.0005120000000000001\n"
          ]
        },
        {
          "metadata": {
            "tags": null
          },
          "name": "stderr",
          "output_type": "stream",
          "text": [
            "epoch 512: 100%|██████████| 282/282 [00:07<00:00, 37.28it/s]\n"
          ]
        },
        {
          "metadata": {
            "tags": null
          },
          "name": "stdout",
          "output_type": "stream",
          "text": [
            "validation loss: 0.001870917805367046 at epoch 513\n",
            "learning_rate: 0.0005120000000000001\n"
          ]
        },
        {
          "metadata": {
            "tags": null
          },
          "name": "stderr",
          "output_type": "stream",
          "text": [
            "epoch 513: 100%|██████████| 282/282 [00:08<00:00, 33.44it/s]\n"
          ]
        },
        {
          "metadata": {
            "tags": null
          },
          "name": "stdout",
          "output_type": "stream",
          "text": [
            "validation loss: 0.00042089310102164747 at epoch 514\n",
            "learning_rate: 0.0005120000000000001\n"
          ]
        },
        {
          "metadata": {
            "tags": null
          },
          "name": "stderr",
          "output_type": "stream",
          "text": [
            "epoch 514: 100%|██████████| 282/282 [00:08<00:00, 33.28it/s]\n"
          ]
        },
        {
          "metadata": {
            "tags": null
          },
          "name": "stdout",
          "output_type": "stream",
          "text": [
            "validation loss: 0.00041788681803478137 at epoch 515\n",
            "learning_rate: 0.0005120000000000001\n"
          ]
        },
        {
          "metadata": {
            "tags": null
          },
          "name": "stderr",
          "output_type": "stream",
          "text": [
            "epoch 515: 100%|██████████| 282/282 [00:07<00:00, 37.05it/s]\n"
          ]
        },
        {
          "metadata": {
            "tags": null
          },
          "name": "stdout",
          "output_type": "stream",
          "text": [
            "validation loss: 0.001042723788983292 at epoch 516\n",
            "learning_rate: 0.0005120000000000001\n"
          ]
        },
        {
          "metadata": {
            "tags": null
          },
          "name": "stderr",
          "output_type": "stream",
          "text": [
            "epoch 516: 100%|██████████| 282/282 [00:08<00:00, 33.95it/s]\n"
          ]
        },
        {
          "metadata": {
            "tags": null
          },
          "name": "stdout",
          "output_type": "stream",
          "text": [
            "validation loss: 0.0012267817846602863 at epoch 517\n",
            "learning_rate: 0.0005120000000000001\n"
          ]
        },
        {
          "metadata": {
            "tags": null
          },
          "name": "stderr",
          "output_type": "stream",
          "text": [
            "epoch 517: 100%|██████████| 282/282 [00:08<00:00, 33.33it/s]\n"
          ]
        },
        {
          "metadata": {
            "tags": null
          },
          "name": "stdout",
          "output_type": "stream",
          "text": [
            "validation loss: 0.0015858974647190835 at epoch 518\n",
            "learning_rate: 0.0005120000000000001\n"
          ]
        },
        {
          "metadata": {
            "tags": null
          },
          "name": "stderr",
          "output_type": "stream",
          "text": [
            "epoch 518: 100%|██████████| 282/282 [00:07<00:00, 37.29it/s]\n"
          ]
        },
        {
          "metadata": {
            "tags": null
          },
          "name": "stdout",
          "output_type": "stream",
          "text": [
            "validation loss: 0.0018246143592728508 at epoch 519\n",
            "learning_rate: 0.0005120000000000001\n"
          ]
        },
        {
          "metadata": {
            "tags": null
          },
          "name": "stderr",
          "output_type": "stream",
          "text": [
            "epoch 519: 100%|██████████| 282/282 [00:08<00:00, 34.02it/s]\n"
          ]
        },
        {
          "metadata": {
            "tags": null
          },
          "name": "stdout",
          "output_type": "stream",
          "text": [
            "validation loss: 0.0006754991259011957 at epoch 520\n",
            "learning_rate: 0.0005120000000000001\n"
          ]
        },
        {
          "metadata": {
            "tags": null
          },
          "name": "stderr",
          "output_type": "stream",
          "text": [
            "epoch 520: 100%|██████████| 282/282 [00:08<00:00, 32.43it/s]\n"
          ]
        },
        {
          "metadata": {
            "tags": null
          },
          "name": "stdout",
          "output_type": "stream",
          "text": [
            "validation loss: 0.0015164259398976962 at epoch 521\n",
            "learning_rate: 0.0005120000000000001\n"
          ]
        },
        {
          "metadata": {
            "tags": null
          },
          "name": "stderr",
          "output_type": "stream",
          "text": [
            "epoch 521: 100%|██████████| 282/282 [00:07<00:00, 36.81it/s]\n"
          ]
        },
        {
          "metadata": {
            "tags": null
          },
          "name": "stdout",
          "output_type": "stream",
          "text": [
            "validation loss: 0.0020612038522958755 at epoch 522\n",
            "learning_rate: 0.0005120000000000001\n"
          ]
        },
        {
          "metadata": {
            "tags": null
          },
          "name": "stderr",
          "output_type": "stream",
          "text": [
            "epoch 522: 100%|██████████| 282/282 [00:08<00:00, 34.90it/s]\n"
          ]
        },
        {
          "metadata": {
            "tags": null
          },
          "name": "stdout",
          "output_type": "stream",
          "text": [
            "validation loss: 0.0014925723671913146 at epoch 523\n",
            "learning_rate: 0.0005120000000000001\n"
          ]
        },
        {
          "metadata": {
            "tags": null
          },
          "name": "stderr",
          "output_type": "stream",
          "text": [
            "epoch 523: 100%|██████████| 282/282 [00:08<00:00, 33.66it/s]\n"
          ]
        },
        {
          "metadata": {
            "tags": null
          },
          "name": "stdout",
          "output_type": "stream",
          "text": [
            "validation loss: 0.00107786922239595 at epoch 524\n",
            "learning_rate: 0.0005120000000000001\n"
          ]
        },
        {
          "metadata": {
            "tags": null
          },
          "name": "stderr",
          "output_type": "stream",
          "text": [
            "epoch 524: 100%|██████████| 282/282 [00:07<00:00, 35.76it/s]\n"
          ]
        },
        {
          "metadata": {
            "tags": null
          },
          "name": "stdout",
          "output_type": "stream",
          "text": [
            "validation loss: 0.0017571987923648623 at epoch 525\n",
            "learning_rate: 0.0005120000000000001\n"
          ]
        },
        {
          "metadata": {
            "tags": null
          },
          "name": "stderr",
          "output_type": "stream",
          "text": [
            "epoch 525: 100%|██████████| 282/282 [00:07<00:00, 36.28it/s]\n"
          ]
        },
        {
          "metadata": {
            "tags": null
          },
          "name": "stdout",
          "output_type": "stream",
          "text": [
            "validation loss: 0.000397943208201064 at epoch 526\n",
            "learning_rate: 0.0005120000000000001\n",
            "model saved in ani_acrolein.pt\n"
          ]
        },
        {
          "metadata": {
            "tags": null
          },
          "name": "stderr",
          "output_type": "stream",
          "text": [
            "epoch 526: 100%|██████████| 282/282 [00:08<00:00, 33.52it/s]\n"
          ]
        },
        {
          "metadata": {
            "tags": null
          },
          "name": "stdout",
          "output_type": "stream",
          "text": [
            "validation loss: 0.00048773114010691645 at epoch 527\n",
            "learning_rate: 0.0005120000000000001\n"
          ]
        },
        {
          "metadata": {
            "tags": null
          },
          "name": "stderr",
          "output_type": "stream",
          "text": [
            "epoch 527: 100%|██████████| 282/282 [00:08<00:00, 34.89it/s]\n"
          ]
        },
        {
          "metadata": {
            "tags": null
          },
          "name": "stdout",
          "output_type": "stream",
          "text": [
            "validation loss: 0.0015675965555840068 at epoch 528\n",
            "learning_rate: 0.0005120000000000001\n"
          ]
        },
        {
          "metadata": {
            "tags": null
          },
          "name": "stderr",
          "output_type": "stream",
          "text": [
            "epoch 528: 100%|██████████| 282/282 [00:07<00:00, 37.34it/s]\n"
          ]
        },
        {
          "metadata": {
            "tags": null
          },
          "name": "stdout",
          "output_type": "stream",
          "text": [
            "validation loss: 0.0013384976618819767 at epoch 529\n",
            "learning_rate: 0.0005120000000000001\n"
          ]
        },
        {
          "metadata": {
            "tags": null
          },
          "name": "stderr",
          "output_type": "stream",
          "text": [
            "epoch 529: 100%|██████████| 282/282 [00:08<00:00, 33.54it/s]\n"
          ]
        },
        {
          "metadata": {
            "tags": null
          },
          "name": "stdout",
          "output_type": "stream",
          "text": [
            "validation loss: 0.0007030075900256634 at epoch 530\n",
            "learning_rate: 0.0005120000000000001\n"
          ]
        },
        {
          "metadata": {
            "tags": null
          },
          "name": "stderr",
          "output_type": "stream",
          "text": [
            "epoch 530: 100%|██████████| 282/282 [00:08<00:00, 33.34it/s]\n"
          ]
        },
        {
          "metadata": {
            "tags": null
          },
          "name": "stdout",
          "output_type": "stream",
          "text": [
            "validation loss: 0.0021627222763167487 at epoch 531\n",
            "learning_rate: 0.0005120000000000001\n"
          ]
        },
        {
          "metadata": {
            "tags": null
          },
          "name": "stderr",
          "output_type": "stream",
          "text": [
            "epoch 531: 100%|██████████| 282/282 [00:07<00:00, 37.05it/s]\n"
          ]
        },
        {
          "metadata": {
            "tags": null
          },
          "name": "stdout",
          "output_type": "stream",
          "text": [
            "validation loss: 0.001492387827899721 at epoch 532\n",
            "learning_rate: 0.0005120000000000001\n"
          ]
        },
        {
          "metadata": {
            "tags": null
          },
          "name": "stderr",
          "output_type": "stream",
          "text": [
            "epoch 532: 100%|██████████| 282/282 [00:08<00:00, 33.06it/s]\n"
          ]
        },
        {
          "metadata": {
            "tags": null
          },
          "name": "stdout",
          "output_type": "stream",
          "text": [
            "validation loss: 0.0019384717990954716 at epoch 533\n",
            "learning_rate: 0.0005120000000000001\n"
          ]
        },
        {
          "metadata": {
            "tags": null
          },
          "name": "stderr",
          "output_type": "stream",
          "text": [
            "epoch 533: 100%|██████████| 282/282 [00:08<00:00, 33.52it/s]\n"
          ]
        },
        {
          "metadata": {
            "tags": null
          },
          "name": "stdout",
          "output_type": "stream",
          "text": [
            "validation loss: 0.0010572319246000715 at epoch 534\n",
            "learning_rate: 0.0005120000000000001\n"
          ]
        },
        {
          "metadata": {
            "tags": null
          },
          "name": "stderr",
          "output_type": "stream",
          "text": [
            "epoch 534: 100%|██████████| 282/282 [00:07<00:00, 37.37it/s]\n"
          ]
        },
        {
          "metadata": {
            "tags": null
          },
          "name": "stdout",
          "output_type": "stream",
          "text": [
            "validation loss: 0.00044532278573347465 at epoch 535\n",
            "learning_rate: 0.0005120000000000001\n"
          ]
        },
        {
          "metadata": {
            "tags": null
          },
          "name": "stderr",
          "output_type": "stream",
          "text": [
            "epoch 535: 100%|██████████| 282/282 [00:08<00:00, 33.09it/s]\n"
          ]
        },
        {
          "metadata": {
            "tags": null
          },
          "name": "stdout",
          "output_type": "stream",
          "text": [
            "validation loss: 0.0013537168320682314 at epoch 536\n",
            "learning_rate: 0.0005120000000000001\n"
          ]
        },
        {
          "metadata": {
            "tags": null
          },
          "name": "stderr",
          "output_type": "stream",
          "text": [
            "epoch 536: 100%|██████████| 282/282 [00:08<00:00, 33.11it/s]\n"
          ]
        },
        {
          "metadata": {
            "tags": null
          },
          "name": "stdout",
          "output_type": "stream",
          "text": [
            "validation loss: 0.00046423023069898286 at epoch 537\n",
            "learning_rate: 0.0005120000000000001\n"
          ]
        },
        {
          "metadata": {
            "tags": null
          },
          "name": "stderr",
          "output_type": "stream",
          "text": [
            "epoch 537: 100%|██████████| 282/282 [00:07<00:00, 37.19it/s]\n"
          ]
        },
        {
          "metadata": {
            "tags": null
          },
          "name": "stdout",
          "output_type": "stream",
          "text": [
            "validation loss: 0.0008906769425504737 at epoch 538\n",
            "learning_rate: 0.0005120000000000001\n"
          ]
        },
        {
          "metadata": {
            "tags": null
          },
          "name": "stderr",
          "output_type": "stream",
          "text": [
            "epoch 538: 100%|██████████| 282/282 [00:08<00:00, 33.17it/s]\n"
          ]
        },
        {
          "metadata": {
            "tags": null
          },
          "name": "stdout",
          "output_type": "stream",
          "text": [
            "validation loss: 0.0014571409093009102 at epoch 539\n",
            "learning_rate: 0.0005120000000000001\n"
          ]
        },
        {
          "metadata": {
            "tags": null
          },
          "name": "stderr",
          "output_type": "stream",
          "text": [
            "epoch 539: 100%|██████████| 282/282 [00:08<00:00, 33.17it/s]\n"
          ]
        },
        {
          "metadata": {
            "tags": null
          },
          "name": "stdout",
          "output_type": "stream",
          "text": [
            "validation loss: 0.0004239889151520199 at epoch 540\n",
            "learning_rate: 0.0005120000000000001\n"
          ]
        },
        {
          "metadata": {
            "tags": null
          },
          "name": "stderr",
          "output_type": "stream",
          "text": [
            "epoch 540: 100%|██████████| 282/282 [00:07<00:00, 36.96it/s]\n"
          ]
        },
        {
          "metadata": {
            "tags": null
          },
          "name": "stdout",
          "output_type": "stream",
          "text": [
            "validation loss: 0.0003964816114554803 at epoch 541\n",
            "learning_rate: 0.0005120000000000001\n",
            "model saved in ani_acrolein.pt\n"
          ]
        },
        {
          "metadata": {
            "tags": null
          },
          "name": "stderr",
          "output_type": "stream",
          "text": [
            "epoch 541: 100%|██████████| 282/282 [00:08<00:00, 33.48it/s]\n"
          ]
        },
        {
          "metadata": {
            "tags": null
          },
          "name": "stdout",
          "output_type": "stream",
          "text": [
            "validation loss: 0.0004031176343560219 at epoch 542\n",
            "learning_rate: 0.0005120000000000001\n"
          ]
        },
        {
          "metadata": {
            "tags": null
          },
          "name": "stderr",
          "output_type": "stream",
          "text": [
            "epoch 542: 100%|██████████| 282/282 [00:08<00:00, 33.30it/s]\n"
          ]
        },
        {
          "metadata": {
            "tags": null
          },
          "name": "stdout",
          "output_type": "stream",
          "text": [
            "validation loss: 0.0008129899563888708 at epoch 543\n",
            "learning_rate: 0.0005120000000000001\n"
          ]
        },
        {
          "metadata": {
            "tags": null
          },
          "name": "stderr",
          "output_type": "stream",
          "text": [
            "epoch 543: 100%|██████████| 282/282 [00:07<00:00, 37.06it/s]\n"
          ]
        },
        {
          "metadata": {
            "tags": null
          },
          "name": "stdout",
          "output_type": "stream",
          "text": [
            "validation loss: 0.001467331209944354 at epoch 544\n",
            "learning_rate: 0.0005120000000000001\n"
          ]
        },
        {
          "metadata": {
            "tags": null
          },
          "name": "stderr",
          "output_type": "stream",
          "text": [
            "epoch 544: 100%|██████████| 282/282 [00:08<00:00, 33.73it/s]\n"
          ]
        },
        {
          "metadata": {
            "tags": null
          },
          "name": "stdout",
          "output_type": "stream",
          "text": [
            "validation loss: 0.00043494497570726606 at epoch 545\n",
            "learning_rate: 0.0005120000000000001\n"
          ]
        },
        {
          "metadata": {
            "tags": null
          },
          "name": "stderr",
          "output_type": "stream",
          "text": [
            "epoch 545: 100%|██████████| 282/282 [00:08<00:00, 33.17it/s]\n"
          ]
        },
        {
          "metadata": {
            "tags": null
          },
          "name": "stdout",
          "output_type": "stream",
          "text": [
            "validation loss: 0.0011632246664828724 at epoch 546\n",
            "learning_rate: 0.0005120000000000001\n"
          ]
        },
        {
          "metadata": {
            "tags": null
          },
          "name": "stderr",
          "output_type": "stream",
          "text": [
            "epoch 546: 100%|██████████| 282/282 [00:07<00:00, 37.21it/s]\n"
          ]
        },
        {
          "metadata": {
            "tags": null
          },
          "name": "stdout",
          "output_type": "stream",
          "text": [
            "validation loss: 0.0021540816922982534 at epoch 547\n",
            "learning_rate: 0.0005120000000000001\n"
          ]
        },
        {
          "metadata": {
            "tags": null
          },
          "name": "stderr",
          "output_type": "stream",
          "text": [
            "epoch 547: 100%|██████████| 282/282 [00:08<00:00, 33.26it/s]\n"
          ]
        },
        {
          "metadata": {
            "tags": null
          },
          "name": "stdout",
          "output_type": "stream",
          "text": [
            "validation loss: 0.0016254177722666 at epoch 548\n",
            "learning_rate: 0.0005120000000000001\n"
          ]
        },
        {
          "metadata": {
            "tags": null
          },
          "name": "stderr",
          "output_type": "stream",
          "text": [
            "epoch 548: 100%|██████████| 282/282 [00:08<00:00, 33.15it/s]\n"
          ]
        },
        {
          "metadata": {
            "tags": null
          },
          "name": "stdout",
          "output_type": "stream",
          "text": [
            "validation loss: 0.0009229796354969343 at epoch 549\n",
            "learning_rate: 0.0005120000000000001\n"
          ]
        },
        {
          "metadata": {
            "tags": null
          },
          "name": "stderr",
          "output_type": "stream",
          "text": [
            "epoch 549: 100%|██████████| 282/282 [00:07<00:00, 36.69it/s]\n"
          ]
        },
        {
          "metadata": {
            "tags": null
          },
          "name": "stdout",
          "output_type": "stream",
          "text": [
            "validation loss: 0.001317260593175888 at epoch 550\n",
            "learning_rate: 0.0005120000000000001\n"
          ]
        },
        {
          "metadata": {
            "tags": null
          },
          "name": "stderr",
          "output_type": "stream",
          "text": [
            "epoch 550: 100%|██████████| 282/282 [00:08<00:00, 34.00it/s]\n"
          ]
        },
        {
          "metadata": {
            "tags": null
          },
          "name": "stdout",
          "output_type": "stream",
          "text": [
            "validation loss: 0.0008045960759951008 at epoch 551\n",
            "learning_rate: 0.0005120000000000001\n"
          ]
        },
        {
          "metadata": {
            "tags": null
          },
          "name": "stderr",
          "output_type": "stream",
          "text": [
            "epoch 551: 100%|██████████| 282/282 [00:08<00:00, 33.64it/s]\n"
          ]
        },
        {
          "metadata": {
            "tags": null
          },
          "name": "stdout",
          "output_type": "stream",
          "text": [
            "validation loss: 0.0004706722150246302 at epoch 552\n",
            "learning_rate: 0.0005120000000000001\n"
          ]
        },
        {
          "metadata": {
            "tags": null
          },
          "name": "stderr",
          "output_type": "stream",
          "text": [
            "epoch 552: 100%|██████████| 282/282 [00:07<00:00, 36.49it/s]\n"
          ]
        },
        {
          "metadata": {
            "tags": null
          },
          "name": "stdout",
          "output_type": "stream",
          "text": [
            "validation loss: 0.0014251051164335675 at epoch 553\n",
            "learning_rate: 0.0005120000000000001\n"
          ]
        },
        {
          "metadata": {
            "tags": null
          },
          "name": "stderr",
          "output_type": "stream",
          "text": [
            "epoch 553: 100%|██████████| 282/282 [00:08<00:00, 34.82it/s]\n"
          ]
        },
        {
          "metadata": {
            "tags": null
          },
          "name": "stdout",
          "output_type": "stream",
          "text": [
            "validation loss: 0.0010590419611997074 at epoch 554\n",
            "learning_rate: 0.0005120000000000001\n"
          ]
        },
        {
          "metadata": {
            "tags": null
          },
          "name": "stderr",
          "output_type": "stream",
          "text": [
            "epoch 554: 100%|██████████| 282/282 [00:08<00:00, 33.28it/s]\n"
          ]
        },
        {
          "metadata": {
            "tags": null
          },
          "name": "stdout",
          "output_type": "stream",
          "text": [
            "validation loss: 0.00142531339575847 at epoch 555\n",
            "learning_rate: 0.0005120000000000001\n"
          ]
        },
        {
          "metadata": {
            "tags": null
          },
          "name": "stderr",
          "output_type": "stream",
          "text": [
            "epoch 555: 100%|██████████| 282/282 [00:08<00:00, 35.13it/s]\n"
          ]
        },
        {
          "metadata": {
            "tags": null
          },
          "name": "stdout",
          "output_type": "stream",
          "text": [
            "validation loss: 0.000461925006368094 at epoch 556\n",
            "learning_rate: 0.0005120000000000001\n"
          ]
        },
        {
          "metadata": {
            "tags": null
          },
          "name": "stderr",
          "output_type": "stream",
          "text": [
            "epoch 556: 100%|██████████| 282/282 [00:07<00:00, 35.75it/s]\n"
          ]
        },
        {
          "metadata": {
            "tags": null
          },
          "name": "stdout",
          "output_type": "stream",
          "text": [
            "validation loss: 0.0007726457168658574 at epoch 557\n",
            "learning_rate: 0.0005120000000000001\n"
          ]
        },
        {
          "metadata": {
            "tags": null
          },
          "name": "stderr",
          "output_type": "stream",
          "text": [
            "epoch 557: 100%|██████████| 282/282 [00:08<00:00, 33.24it/s]\n"
          ]
        },
        {
          "metadata": {
            "tags": null
          },
          "name": "stdout",
          "output_type": "stream",
          "text": [
            "validation loss: 0.0015505330430136788 at epoch 558\n",
            "learning_rate: 0.0005120000000000001\n"
          ]
        },
        {
          "metadata": {
            "tags": null
          },
          "name": "stderr",
          "output_type": "stream",
          "text": [
            "epoch 558: 100%|██████████| 282/282 [00:08<00:00, 34.68it/s]\n"
          ]
        },
        {
          "metadata": {
            "tags": null
          },
          "name": "stdout",
          "output_type": "stream",
          "text": [
            "validation loss: 0.001927391497625245 at epoch 559\n",
            "learning_rate: 0.0005120000000000001\n"
          ]
        },
        {
          "metadata": {
            "tags": null
          },
          "name": "stderr",
          "output_type": "stream",
          "text": [
            "epoch 559: 100%|██████████| 282/282 [00:07<00:00, 37.11it/s]\n"
          ]
        },
        {
          "metadata": {
            "tags": null
          },
          "name": "stdout",
          "output_type": "stream",
          "text": [
            "validation loss: 0.0004855012827449375 at epoch 560\n",
            "learning_rate: 0.0005120000000000001\n"
          ]
        },
        {
          "metadata": {
            "tags": null
          },
          "name": "stderr",
          "output_type": "stream",
          "text": [
            "epoch 560: 100%|██████████| 282/282 [00:08<00:00, 33.21it/s]\n"
          ]
        },
        {
          "metadata": {
            "tags": null
          },
          "name": "stdout",
          "output_type": "stream",
          "text": [
            "validation loss: 0.001985818902651469 at epoch 561\n",
            "learning_rate: 0.0005120000000000001\n"
          ]
        },
        {
          "metadata": {
            "tags": null
          },
          "name": "stderr",
          "output_type": "stream",
          "text": [
            "epoch 561: 100%|██████████| 282/282 [00:08<00:00, 34.13it/s]\n"
          ]
        },
        {
          "metadata": {
            "tags": null
          },
          "name": "stdout",
          "output_type": "stream",
          "text": [
            "validation loss: 0.0013241117083364062 at epoch 562\n",
            "learning_rate: 0.0005120000000000001\n"
          ]
        },
        {
          "metadata": {
            "tags": null
          },
          "name": "stderr",
          "output_type": "stream",
          "text": [
            "epoch 562: 100%|██████████| 282/282 [00:07<00:00, 37.44it/s]\n"
          ]
        },
        {
          "metadata": {
            "tags": null
          },
          "name": "stdout",
          "output_type": "stream",
          "text": [
            "validation loss: 0.0017318076019485792 at epoch 563\n",
            "learning_rate: 0.0005120000000000001\n"
          ]
        },
        {
          "metadata": {
            "tags": null
          },
          "name": "stderr",
          "output_type": "stream",
          "text": [
            "epoch 563: 100%|██████████| 282/282 [00:08<00:00, 33.48it/s]\n"
          ]
        },
        {
          "metadata": {
            "tags": null
          },
          "name": "stdout",
          "output_type": "stream",
          "text": [
            "validation loss: 0.0009361800323757861 at epoch 564\n",
            "learning_rate: 0.0005120000000000001\n"
          ]
        },
        {
          "metadata": {
            "tags": null
          },
          "name": "stderr",
          "output_type": "stream",
          "text": [
            "epoch 564: 100%|██████████| 282/282 [00:08<00:00, 33.54it/s]\n"
          ]
        },
        {
          "metadata": {
            "tags": null
          },
          "name": "stdout",
          "output_type": "stream",
          "text": [
            "validation loss: 0.001211026875509156 at epoch 565\n",
            "learning_rate: 0.0005120000000000001\n"
          ]
        },
        {
          "metadata": {
            "tags": null
          },
          "name": "stderr",
          "output_type": "stream",
          "text": [
            "epoch 565: 100%|██████████| 282/282 [00:07<00:00, 37.13it/s]\n"
          ]
        },
        {
          "metadata": {
            "tags": null
          },
          "name": "stdout",
          "output_type": "stream",
          "text": [
            "validation loss: 0.0005703671963678466 at epoch 566\n",
            "learning_rate: 0.0005120000000000001\n"
          ]
        },
        {
          "metadata": {
            "tags": null
          },
          "name": "stderr",
          "output_type": "stream",
          "text": [
            "epoch 566: 100%|██████████| 282/282 [00:08<00:00, 33.50it/s]\n"
          ]
        },
        {
          "metadata": {
            "tags": null
          },
          "name": "stdout",
          "output_type": "stream",
          "text": [
            "validation loss: 0.001793013773030705 at epoch 567\n",
            "learning_rate: 0.0005120000000000001\n"
          ]
        },
        {
          "metadata": {
            "tags": null
          },
          "name": "stderr",
          "output_type": "stream",
          "text": [
            "epoch 567: 100%|██████████| 282/282 [00:08<00:00, 33.27it/s]\n"
          ]
        },
        {
          "metadata": {
            "tags": null
          },
          "name": "stdout",
          "output_type": "stream",
          "text": [
            "validation loss: 0.0016134526042474642 at epoch 568\n",
            "learning_rate: 0.0005120000000000001\n"
          ]
        },
        {
          "metadata": {
            "tags": null
          },
          "name": "stderr",
          "output_type": "stream",
          "text": [
            "epoch 568: 100%|██████████| 282/282 [00:07<00:00, 37.09it/s]\n"
          ]
        },
        {
          "metadata": {
            "tags": null
          },
          "name": "stdout",
          "output_type": "stream",
          "text": [
            "validation loss: 0.0015255210225780804 at epoch 569\n",
            "learning_rate: 0.0005120000000000001\n"
          ]
        },
        {
          "metadata": {
            "tags": null
          },
          "name": "stderr",
          "output_type": "stream",
          "text": [
            "epoch 569: 100%|██████████| 282/282 [00:08<00:00, 32.87it/s]\n"
          ]
        },
        {
          "metadata": {
            "tags": null
          },
          "name": "stdout",
          "output_type": "stream",
          "text": [
            "validation loss: 0.0007884836751553747 at epoch 570\n",
            "learning_rate: 0.0005120000000000001\n"
          ]
        },
        {
          "metadata": {
            "tags": null
          },
          "name": "stderr",
          "output_type": "stream",
          "text": [
            "epoch 570: 100%|██████████| 282/282 [00:08<00:00, 33.19it/s]\n"
          ]
        },
        {
          "metadata": {
            "tags": null
          },
          "name": "stdout",
          "output_type": "stream",
          "text": [
            "validation loss: 0.0003678970796366533 at epoch 571\n",
            "learning_rate: 0.0005120000000000001\n",
            "model saved in ani_acrolein.pt\n"
          ]
        },
        {
          "metadata": {
            "tags": null
          },
          "name": "stderr",
          "output_type": "stream",
          "text": [
            "epoch 571: 100%|██████████| 282/282 [00:07<00:00, 37.23it/s]\n"
          ]
        },
        {
          "metadata": {
            "tags": null
          },
          "name": "stdout",
          "output_type": "stream",
          "text": [
            "validation loss: 0.0007126343734562397 at epoch 572\n",
            "learning_rate: 0.0005120000000000001\n"
          ]
        },
        {
          "metadata": {
            "tags": null
          },
          "name": "stderr",
          "output_type": "stream",
          "text": [
            "epoch 572: 100%|██████████| 282/282 [00:08<00:00, 33.29it/s]\n"
          ]
        },
        {
          "metadata": {
            "tags": null
          },
          "name": "stdout",
          "output_type": "stream",
          "text": [
            "validation loss: 0.0011599438273244434 at epoch 573\n",
            "learning_rate: 0.0005120000000000001\n"
          ]
        },
        {
          "metadata": {
            "tags": null
          },
          "name": "stderr",
          "output_type": "stream",
          "text": [
            "epoch 573: 100%|██████████| 282/282 [00:08<00:00, 33.72it/s]\n"
          ]
        },
        {
          "metadata": {
            "tags": null
          },
          "name": "stdout",
          "output_type": "stream",
          "text": [
            "validation loss: 0.000982427733639876 at epoch 574\n",
            "learning_rate: 0.0005120000000000001\n"
          ]
        },
        {
          "metadata": {
            "tags": null
          },
          "name": "stderr",
          "output_type": "stream",
          "text": [
            "epoch 574: 100%|██████████| 282/282 [00:07<00:00, 37.21it/s]\n"
          ]
        },
        {
          "metadata": {
            "tags": null
          },
          "name": "stdout",
          "output_type": "stream",
          "text": [
            "validation loss: 0.0006702783397502369 at epoch 575\n",
            "learning_rate: 0.0005120000000000001\n"
          ]
        },
        {
          "metadata": {
            "tags": null
          },
          "name": "stderr",
          "output_type": "stream",
          "text": [
            "epoch 575: 100%|██████████| 282/282 [00:08<00:00, 33.22it/s]\n"
          ]
        },
        {
          "metadata": {
            "tags": null
          },
          "name": "stdout",
          "output_type": "stream",
          "text": [
            "validation loss: 0.00141185581849681 at epoch 576\n",
            "learning_rate: 0.0005120000000000001\n"
          ]
        },
        {
          "metadata": {
            "tags": null
          },
          "name": "stderr",
          "output_type": "stream",
          "text": [
            "epoch 576: 100%|██████████| 282/282 [00:08<00:00, 32.69it/s]\n"
          ]
        },
        {
          "metadata": {
            "tags": null
          },
          "name": "stdout",
          "output_type": "stream",
          "text": [
            "validation loss: 0.0005748563152220514 at epoch 577\n",
            "learning_rate: 0.0005120000000000001\n"
          ]
        },
        {
          "metadata": {
            "tags": null
          },
          "name": "stderr",
          "output_type": "stream",
          "text": [
            "epoch 577: 100%|██████████| 282/282 [00:07<00:00, 36.35it/s]\n"
          ]
        },
        {
          "metadata": {
            "tags": null
          },
          "name": "stdout",
          "output_type": "stream",
          "text": [
            "validation loss: 0.0005537591307527489 at epoch 578\n",
            "learning_rate: 0.0005120000000000001\n"
          ]
        },
        {
          "metadata": {
            "tags": null
          },
          "name": "stderr",
          "output_type": "stream",
          "text": [
            "epoch 578: 100%|██████████| 282/282 [00:08<00:00, 32.41it/s]\n"
          ]
        },
        {
          "metadata": {
            "tags": null
          },
          "name": "stdout",
          "output_type": "stream",
          "text": [
            "validation loss: 0.0010818286000026597 at epoch 579\n",
            "learning_rate: 0.0005120000000000001\n"
          ]
        },
        {
          "metadata": {
            "tags": null
          },
          "name": "stderr",
          "output_type": "stream",
          "text": [
            "epoch 579: 100%|██████████| 282/282 [00:08<00:00, 33.33it/s]\n"
          ]
        },
        {
          "metadata": {
            "tags": null
          },
          "name": "stdout",
          "output_type": "stream",
          "text": [
            "validation loss: 0.000516487588485082 at epoch 580\n",
            "learning_rate: 0.0005120000000000001\n"
          ]
        },
        {
          "metadata": {
            "tags": null
          },
          "name": "stderr",
          "output_type": "stream",
          "text": [
            "epoch 580: 100%|██████████| 282/282 [00:07<00:00, 36.25it/s]\n"
          ]
        },
        {
          "metadata": {
            "tags": null
          },
          "name": "stdout",
          "output_type": "stream",
          "text": [
            "validation loss: 0.0005736545485754808 at epoch 581\n",
            "learning_rate: 0.0005120000000000001\n"
          ]
        },
        {
          "metadata": {
            "tags": null
          },
          "name": "stderr",
          "output_type": "stream",
          "text": [
            "epoch 581: 100%|██████████| 282/282 [00:08<00:00, 33.88it/s]\n"
          ]
        },
        {
          "metadata": {
            "tags": null
          },
          "name": "stdout",
          "output_type": "stream",
          "text": [
            "validation loss: 0.0005809272987147172 at epoch 582\n",
            "learning_rate: 0.0005120000000000001\n"
          ]
        },
        {
          "metadata": {
            "tags": null
          },
          "name": "stderr",
          "output_type": "stream",
          "text": [
            "epoch 582: 100%|██████████| 282/282 [00:08<00:00, 33.51it/s]\n"
          ]
        },
        {
          "metadata": {
            "tags": null
          },
          "name": "stdout",
          "output_type": "stream",
          "text": [
            "validation loss: 0.0016293432588378588 at epoch 583\n",
            "learning_rate: 0.0005120000000000001\n"
          ]
        },
        {
          "metadata": {
            "tags": null
          },
          "name": "stderr",
          "output_type": "stream",
          "text": [
            "epoch 583: 100%|██████████| 282/282 [00:07<00:00, 36.08it/s]\n"
          ]
        },
        {
          "metadata": {
            "tags": null
          },
          "name": "stdout",
          "output_type": "stream",
          "text": [
            "validation loss: 0.0007655535071260399 at epoch 584\n",
            "learning_rate: 0.0005120000000000001\n"
          ]
        },
        {
          "metadata": {
            "tags": null
          },
          "name": "stderr",
          "output_type": "stream",
          "text": [
            "epoch 584: 100%|██████████| 282/282 [00:07<00:00, 35.42it/s]\n"
          ]
        },
        {
          "metadata": {
            "tags": null
          },
          "name": "stdout",
          "output_type": "stream",
          "text": [
            "validation loss: 0.0010452233370807436 at epoch 585\n",
            "learning_rate: 0.0005120000000000001\n"
          ]
        },
        {
          "metadata": {
            "tags": null
          },
          "name": "stderr",
          "output_type": "stream",
          "text": [
            "epoch 585: 100%|██████████| 282/282 [00:08<00:00, 33.12it/s]\n"
          ]
        },
        {
          "metadata": {
            "tags": null
          },
          "name": "stdout",
          "output_type": "stream",
          "text": [
            "validation loss: 0.0005100377686321735 at epoch 586\n",
            "learning_rate: 0.0005120000000000001\n"
          ]
        },
        {
          "metadata": {
            "tags": null
          },
          "name": "stderr",
          "output_type": "stream",
          "text": [
            "epoch 586: 100%|██████████| 282/282 [00:07<00:00, 35.33it/s]\n"
          ]
        },
        {
          "metadata": {
            "tags": null
          },
          "name": "stdout",
          "output_type": "stream",
          "text": [
            "validation loss: 0.0003495990857481956 at epoch 587\n",
            "learning_rate: 0.0005120000000000001\n",
            "model saved in ani_acrolein.pt\n"
          ]
        },
        {
          "metadata": {
            "tags": null
          },
          "name": "stderr",
          "output_type": "stream",
          "text": [
            "epoch 587: 100%|██████████| 282/282 [00:07<00:00, 36.71it/s]\n"
          ]
        },
        {
          "metadata": {
            "tags": null
          },
          "name": "stdout",
          "output_type": "stream",
          "text": [
            "validation loss: 0.0007579811529980766 at epoch 588\n",
            "learning_rate: 0.0005120000000000001\n"
          ]
        },
        {
          "metadata": {
            "tags": null
          },
          "name": "stderr",
          "output_type": "stream",
          "text": [
            "epoch 588: 100%|██████████| 282/282 [00:08<00:00, 33.50it/s]\n"
          ]
        },
        {
          "metadata": {
            "tags": null
          },
          "name": "stdout",
          "output_type": "stream",
          "text": [
            "validation loss: 0.000805057529773977 at epoch 589\n",
            "learning_rate: 0.0005120000000000001\n"
          ]
        },
        {
          "metadata": {
            "tags": null
          },
          "name": "stderr",
          "output_type": "stream",
          "text": [
            "epoch 589: 100%|██████████| 282/282 [00:08<00:00, 34.62it/s]\n"
          ]
        },
        {
          "metadata": {
            "tags": null
          },
          "name": "stdout",
          "output_type": "stream",
          "text": [
            "validation loss: 0.001277757700946596 at epoch 590\n",
            "learning_rate: 0.0005120000000000001\n"
          ]
        },
        {
          "metadata": {
            "tags": null
          },
          "name": "stderr",
          "output_type": "stream",
          "text": [
            "epoch 590: 100%|██████████| 282/282 [00:07<00:00, 37.13it/s]\n"
          ]
        },
        {
          "metadata": {
            "tags": null
          },
          "name": "stdout",
          "output_type": "stream",
          "text": [
            "validation loss: 0.0009151136502623558 at epoch 591\n",
            "learning_rate: 0.0005120000000000001\n"
          ]
        },
        {
          "metadata": {
            "tags": null
          },
          "name": "stderr",
          "output_type": "stream",
          "text": [
            "epoch 591: 100%|██████████| 282/282 [00:08<00:00, 33.03it/s]\n"
          ]
        },
        {
          "metadata": {
            "tags": null
          },
          "name": "stdout",
          "output_type": "stream",
          "text": [
            "validation loss: 0.0012251574628882938 at epoch 592\n",
            "learning_rate: 0.0005120000000000001\n"
          ]
        },
        {
          "metadata": {
            "tags": null
          },
          "name": "stderr",
          "output_type": "stream",
          "text": [
            "epoch 592: 100%|██████████| 282/282 [00:08<00:00, 33.40it/s]\n"
          ]
        },
        {
          "metadata": {
            "tags": null
          },
          "name": "stdout",
          "output_type": "stream",
          "text": [
            "validation loss: 0.0031253391553958255 at epoch 593\n",
            "learning_rate: 0.0005120000000000001\n"
          ]
        },
        {
          "metadata": {
            "tags": null
          },
          "name": "stderr",
          "output_type": "stream",
          "text": [
            "epoch 593: 100%|██████████| 282/282 [00:07<00:00, 37.27it/s]\n"
          ]
        },
        {
          "metadata": {
            "tags": null
          },
          "name": "stdout",
          "output_type": "stream",
          "text": [
            "validation loss: 0.0018686136388116413 at epoch 594\n",
            "learning_rate: 0.0005120000000000001\n"
          ]
        },
        {
          "metadata": {
            "tags": null
          },
          "name": "stderr",
          "output_type": "stream",
          "text": [
            "epoch 594: 100%|██████████| 282/282 [00:08<00:00, 32.88it/s]\n"
          ]
        },
        {
          "metadata": {
            "tags": null
          },
          "name": "stdout",
          "output_type": "stream",
          "text": [
            "validation loss: 0.0006732900204757849 at epoch 595\n",
            "learning_rate: 0.0005120000000000001\n"
          ]
        },
        {
          "metadata": {
            "tags": null
          },
          "name": "stderr",
          "output_type": "stream",
          "text": [
            "epoch 595: 100%|██████████| 282/282 [00:08<00:00, 33.70it/s]\n"
          ]
        },
        {
          "metadata": {
            "tags": null
          },
          "name": "stdout",
          "output_type": "stream",
          "text": [
            "validation loss: 0.00182293045355214 at epoch 596\n",
            "learning_rate: 0.0005120000000000001\n"
          ]
        },
        {
          "metadata": {
            "tags": null
          },
          "name": "stderr",
          "output_type": "stream",
          "text": [
            "epoch 596: 100%|██████████| 282/282 [00:07<00:00, 36.72it/s]\n"
          ]
        },
        {
          "metadata": {
            "tags": null
          },
          "name": "stdout",
          "output_type": "stream",
          "text": [
            "validation loss: 0.00045439330074522233 at epoch 597\n",
            "learning_rate: 0.0005120000000000001\n"
          ]
        },
        {
          "metadata": {
            "tags": null
          },
          "name": "stderr",
          "output_type": "stream",
          "text": [
            "epoch 597: 100%|██████████| 282/282 [00:08<00:00, 33.17it/s]\n"
          ]
        },
        {
          "metadata": {
            "tags": null
          },
          "name": "stdout",
          "output_type": "stream",
          "text": [
            "validation loss: 0.001068566069834762 at epoch 598\n",
            "learning_rate: 0.0005120000000000001\n"
          ]
        },
        {
          "metadata": {
            "tags": null
          },
          "name": "stderr",
          "output_type": "stream",
          "text": [
            "epoch 598: 100%|██████████| 282/282 [00:08<00:00, 32.58it/s]\n"
          ]
        },
        {
          "metadata": {
            "tags": null
          },
          "name": "stdout",
          "output_type": "stream",
          "text": [
            "validation loss: 0.0010424276184704568 at epoch 599\n",
            "learning_rate: 0.0005120000000000001\n"
          ]
        },
        {
          "metadata": {
            "tags": null
          },
          "name": "stderr",
          "output_type": "stream",
          "text": [
            "epoch 599: 100%|██████████| 282/282 [00:07<00:00, 36.95it/s]\n"
          ]
        },
        {
          "metadata": {
            "tags": null
          },
          "name": "stdout",
          "output_type": "stream",
          "text": [
            "validation loss: 0.0012200105513135591 at epoch 600\n",
            "learning_rate: 0.0005120000000000001\n"
          ]
        },
        {
          "metadata": {
            "tags": null
          },
          "name": "stderr",
          "output_type": "stream",
          "text": [
            "epoch 600: 100%|██████████| 282/282 [00:08<00:00, 33.67it/s]\n"
          ]
        },
        {
          "metadata": {
            "tags": null
          },
          "name": "stdout",
          "output_type": "stream",
          "text": [
            "validation loss: 0.0003549609463661909 at epoch 601\n",
            "learning_rate: 0.0005120000000000001\n"
          ]
        },
        {
          "metadata": {
            "tags": null
          },
          "name": "stderr",
          "output_type": "stream",
          "text": [
            "epoch 601: 100%|██████████| 282/282 [00:08<00:00, 32.99it/s]\n"
          ]
        },
        {
          "metadata": {
            "tags": null
          },
          "name": "stdout",
          "output_type": "stream",
          "text": [
            "validation loss: 0.0006604651407235198 at epoch 602\n",
            "learning_rate: 0.0005120000000000001\n"
          ]
        },
        {
          "metadata": {
            "tags": null
          },
          "name": "stderr",
          "output_type": "stream",
          "text": [
            "epoch 602: 100%|██████████| 282/282 [00:07<00:00, 36.81it/s]\n"
          ]
        },
        {
          "metadata": {
            "tags": null
          },
          "name": "stdout",
          "output_type": "stream",
          "text": [
            "validation loss: 0.000676273915088839 at epoch 603\n",
            "learning_rate: 0.0005120000000000001\n"
          ]
        },
        {
          "metadata": {
            "tags": null
          },
          "name": "stderr",
          "output_type": "stream",
          "text": [
            "epoch 603: 100%|██████████| 282/282 [00:08<00:00, 32.81it/s]\n"
          ]
        },
        {
          "metadata": {
            "tags": null
          },
          "name": "stdout",
          "output_type": "stream",
          "text": [
            "validation loss: 0.0006167023616532485 at epoch 604\n",
            "learning_rate: 0.0005120000000000001\n"
          ]
        },
        {
          "metadata": {
            "tags": null
          },
          "name": "stderr",
          "output_type": "stream",
          "text": [
            "epoch 604: 100%|██████████| 282/282 [00:08<00:00, 32.53it/s]\n"
          ]
        },
        {
          "metadata": {
            "tags": null
          },
          "name": "stdout",
          "output_type": "stream",
          "text": [
            "validation loss: 0.0009604561742809083 at epoch 605\n",
            "learning_rate: 0.0005120000000000001\n"
          ]
        },
        {
          "metadata": {
            "tags": null
          },
          "name": "stderr",
          "output_type": "stream",
          "text": [
            "epoch 605: 100%|██████████| 282/282 [00:07<00:00, 36.14it/s]\n"
          ]
        },
        {
          "metadata": {
            "tags": null
          },
          "name": "stdout",
          "output_type": "stream",
          "text": [
            "validation loss: 0.0014372747465968131 at epoch 606\n",
            "learning_rate: 0.0005120000000000001\n"
          ]
        },
        {
          "metadata": {
            "tags": null
          },
          "name": "stderr",
          "output_type": "stream",
          "text": [
            "epoch 606: 100%|██████████| 282/282 [00:08<00:00, 33.54it/s]\n"
          ]
        },
        {
          "metadata": {
            "tags": null
          },
          "name": "stdout",
          "output_type": "stream",
          "text": [
            "validation loss: 0.00046876365029149586 at epoch 607\n",
            "learning_rate: 0.0005120000000000001\n"
          ]
        },
        {
          "metadata": {
            "tags": null
          },
          "name": "stderr",
          "output_type": "stream",
          "text": [
            "epoch 607: 100%|██████████| 282/282 [00:08<00:00, 32.15it/s]\n"
          ]
        },
        {
          "metadata": {
            "tags": null
          },
          "name": "stdout",
          "output_type": "stream",
          "text": [
            "validation loss: 0.0006508776201970048 at epoch 608\n",
            "learning_rate: 0.0005120000000000001\n"
          ]
        },
        {
          "metadata": {
            "tags": null
          },
          "name": "stderr",
          "output_type": "stream",
          "text": [
            "epoch 608: 100%|██████████| 282/282 [00:08<00:00, 35.01it/s]\n"
          ]
        },
        {
          "metadata": {
            "tags": null
          },
          "name": "stdout",
          "output_type": "stream",
          "text": [
            "validation loss: 0.00048095593104759853 at epoch 609\n",
            "learning_rate: 0.0005120000000000001\n"
          ]
        },
        {
          "metadata": {
            "tags": null
          },
          "name": "stderr",
          "output_type": "stream",
          "text": [
            "epoch 609: 100%|██████████| 282/282 [00:08<00:00, 33.95it/s]\n"
          ]
        },
        {
          "metadata": {
            "tags": null
          },
          "name": "stdout",
          "output_type": "stream",
          "text": [
            "validation loss: 0.0005558703881171015 at epoch 610\n",
            "learning_rate: 0.0005120000000000001\n"
          ]
        },
        {
          "metadata": {
            "tags": null
          },
          "name": "stderr",
          "output_type": "stream",
          "text": [
            "epoch 610: 100%|██████████| 282/282 [00:08<00:00, 32.70it/s]\n"
          ]
        },
        {
          "metadata": {
            "tags": null
          },
          "name": "stdout",
          "output_type": "stream",
          "text": [
            "validation loss: 0.0012955268000562985 at epoch 611\n",
            "learning_rate: 0.0005120000000000001\n"
          ]
        },
        {
          "metadata": {
            "tags": null
          },
          "name": "stderr",
          "output_type": "stream",
          "text": [
            "epoch 611: 100%|██████████| 282/282 [00:08<00:00, 31.94it/s]\n"
          ]
        },
        {
          "metadata": {
            "tags": null
          },
          "name": "stdout",
          "output_type": "stream",
          "text": [
            "validation loss: 0.0006335744145843717 at epoch 612\n",
            "learning_rate: 0.0005120000000000001\n"
          ]
        },
        {
          "metadata": {
            "tags": null
          },
          "name": "stderr",
          "output_type": "stream",
          "text": [
            "epoch 612: 100%|██████████| 282/282 [00:07<00:00, 35.73it/s]\n"
          ]
        },
        {
          "metadata": {
            "tags": null
          },
          "name": "stdout",
          "output_type": "stream",
          "text": [
            "validation loss: 0.0010439244525300131 at epoch 613\n",
            "learning_rate: 0.0005120000000000001\n"
          ]
        },
        {
          "metadata": {
            "tags": null
          },
          "name": "stderr",
          "output_type": "stream",
          "text": [
            "epoch 613: 100%|██████████| 282/282 [00:08<00:00, 32.00it/s]\n"
          ]
        },
        {
          "metadata": {
            "tags": null
          },
          "name": "stdout",
          "output_type": "stream",
          "text": [
            "validation loss: 0.0015693535200423665 at epoch 614\n",
            "learning_rate: 0.0005120000000000001\n"
          ]
        },
        {
          "metadata": {
            "tags": null
          },
          "name": "stderr",
          "output_type": "stream",
          "text": [
            "epoch 614: 100%|██████████| 282/282 [00:08<00:00, 32.64it/s]\n"
          ]
        },
        {
          "metadata": {
            "tags": null
          },
          "name": "stdout",
          "output_type": "stream",
          "text": [
            "validation loss: 0.0014765951707959176 at epoch 615\n",
            "learning_rate: 0.0005120000000000001\n"
          ]
        },
        {
          "metadata": {
            "tags": null
          },
          "name": "stderr",
          "output_type": "stream",
          "text": [
            "epoch 615: 100%|██████████| 282/282 [00:07<00:00, 35.46it/s]\n"
          ]
        },
        {
          "metadata": {
            "tags": null
          },
          "name": "stdout",
          "output_type": "stream",
          "text": [
            "validation loss: 0.0006446493321822749 at epoch 616\n",
            "learning_rate: 0.0005120000000000001\n"
          ]
        },
        {
          "metadata": {
            "tags": null
          },
          "name": "stderr",
          "output_type": "stream",
          "text": [
            "epoch 616: 100%|██████████| 282/282 [00:08<00:00, 33.48it/s]\n"
          ]
        },
        {
          "metadata": {
            "tags": null
          },
          "name": "stdout",
          "output_type": "stream",
          "text": [
            "validation loss: 0.0006705107415715853 at epoch 617\n",
            "learning_rate: 0.0005120000000000001\n"
          ]
        },
        {
          "metadata": {
            "tags": null
          },
          "name": "stderr",
          "output_type": "stream",
          "text": [
            "epoch 617: 100%|██████████| 282/282 [00:08<00:00, 32.07it/s]\n"
          ]
        },
        {
          "metadata": {
            "tags": null
          },
          "name": "stdout",
          "output_type": "stream",
          "text": [
            "validation loss: 0.0014986733107103243 at epoch 618\n",
            "learning_rate: 0.0005120000000000001\n"
          ]
        },
        {
          "metadata": {
            "tags": null
          },
          "name": "stderr",
          "output_type": "stream",
          "text": [
            "epoch 618: 100%|██████████| 282/282 [00:08<00:00, 33.58it/s]\n"
          ]
        },
        {
          "metadata": {
            "tags": null
          },
          "name": "stdout",
          "output_type": "stream",
          "text": [
            "validation loss: 0.0013461117959684796 at epoch 619\n",
            "learning_rate: 0.0005120000000000001\n"
          ]
        },
        {
          "metadata": {
            "tags": null
          },
          "name": "stderr",
          "output_type": "stream",
          "text": [
            "epoch 619: 100%|██████████| 282/282 [00:07<00:00, 35.73it/s]\n"
          ]
        },
        {
          "metadata": {
            "tags": null
          },
          "name": "stdout",
          "output_type": "stream",
          "text": [
            "validation loss: 0.0004492895481073194 at epoch 620\n",
            "learning_rate: 0.0005120000000000001\n"
          ]
        },
        {
          "metadata": {
            "tags": null
          },
          "name": "stderr",
          "output_type": "stream",
          "text": [
            "epoch 620: 100%|██████████| 282/282 [00:08<00:00, 32.02it/s]\n"
          ]
        },
        {
          "metadata": {
            "tags": null
          },
          "name": "stdout",
          "output_type": "stream",
          "text": [
            "validation loss: 0.00150821077492502 at epoch 621\n",
            "learning_rate: 0.0005120000000000001\n"
          ]
        },
        {
          "metadata": {
            "tags": null
          },
          "name": "stderr",
          "output_type": "stream",
          "text": [
            "epoch 621: 100%|██████████| 282/282 [00:08<00:00, 31.95it/s]\n"
          ]
        },
        {
          "metadata": {
            "tags": null
          },
          "name": "stdout",
          "output_type": "stream",
          "text": [
            "validation loss: 0.0019317785766389635 at epoch 622\n",
            "learning_rate: 0.0005120000000000001\n"
          ]
        },
        {
          "metadata": {
            "tags": null
          },
          "name": "stderr",
          "output_type": "stream",
          "text": [
            "epoch 622: 100%|██████████| 282/282 [00:07<00:00, 35.85it/s]\n"
          ]
        },
        {
          "metadata": {
            "tags": null
          },
          "name": "stdout",
          "output_type": "stream",
          "text": [
            "validation loss: 0.0005327525772154332 at epoch 623\n",
            "learning_rate: 0.0005120000000000001\n"
          ]
        },
        {
          "metadata": {
            "tags": null
          },
          "name": "stderr",
          "output_type": "stream",
          "text": [
            "epoch 623: 100%|██████████| 282/282 [00:08<00:00, 32.16it/s]\n"
          ]
        },
        {
          "metadata": {
            "tags": null
          },
          "name": "stdout",
          "output_type": "stream",
          "text": [
            "validation loss: 0.0008078933987352583 at epoch 624\n",
            "learning_rate: 0.0005120000000000001\n"
          ]
        },
        {
          "metadata": {
            "tags": null
          },
          "name": "stderr",
          "output_type": "stream",
          "text": [
            "epoch 624: 100%|██████████| 282/282 [00:08<00:00, 32.37it/s]\n"
          ]
        },
        {
          "metadata": {
            "tags": null
          },
          "name": "stdout",
          "output_type": "stream",
          "text": [
            "validation loss: 0.0013312815494007535 at epoch 625\n",
            "learning_rate: 0.0005120000000000001\n"
          ]
        },
        {
          "metadata": {
            "tags": null
          },
          "name": "stderr",
          "output_type": "stream",
          "text": [
            "epoch 625: 100%|██████████| 282/282 [00:08<00:00, 35.14it/s]\n"
          ]
        },
        {
          "metadata": {
            "tags": null
          },
          "name": "stdout",
          "output_type": "stream",
          "text": [
            "validation loss: 0.00044438312492436834 at epoch 626\n",
            "learning_rate: 0.0005120000000000001\n"
          ]
        },
        {
          "metadata": {
            "tags": null
          },
          "name": "stderr",
          "output_type": "stream",
          "text": [
            "epoch 626: 100%|██████████| 282/282 [00:08<00:00, 32.95it/s]\n"
          ]
        },
        {
          "metadata": {
            "tags": null
          },
          "name": "stdout",
          "output_type": "stream",
          "text": [
            "validation loss: 0.0014561516104473007 at epoch 627\n",
            "learning_rate: 0.0005120000000000001\n"
          ]
        },
        {
          "metadata": {
            "tags": null
          },
          "name": "stderr",
          "output_type": "stream",
          "text": [
            "epoch 627: 100%|██████████| 282/282 [00:08<00:00, 31.49it/s]\n"
          ]
        },
        {
          "metadata": {
            "tags": null
          },
          "name": "stdout",
          "output_type": "stream",
          "text": [
            "validation loss: 0.002091349181201723 at epoch 628\n",
            "learning_rate: 0.0005120000000000001\n"
          ]
        },
        {
          "metadata": {
            "tags": null
          },
          "name": "stderr",
          "output_type": "stream",
          "text": [
            "epoch 628: 100%|██████████| 282/282 [00:08<00:00, 33.37it/s]\n"
          ]
        },
        {
          "metadata": {
            "tags": null
          },
          "name": "stdout",
          "output_type": "stream",
          "text": [
            "validation loss: 0.0016132384654548434 at epoch 629\n",
            "learning_rate: 0.0005120000000000001\n"
          ]
        },
        {
          "metadata": {
            "tags": null
          },
          "name": "stderr",
          "output_type": "stream",
          "text": [
            "epoch 629: 100%|██████████| 282/282 [00:07<00:00, 35.34it/s]\n"
          ]
        },
        {
          "metadata": {
            "tags": null
          },
          "name": "stdout",
          "output_type": "stream",
          "text": [
            "validation loss: 0.0004374635103676054 at epoch 630\n",
            "learning_rate: 0.0005120000000000001\n"
          ]
        },
        {
          "metadata": {
            "tags": null
          },
          "name": "stderr",
          "output_type": "stream",
          "text": [
            "epoch 630: 100%|██████████| 282/282 [00:08<00:00, 32.31it/s]\n"
          ]
        },
        {
          "metadata": {
            "tags": null
          },
          "name": "stdout",
          "output_type": "stream",
          "text": [
            "validation loss: 0.0015183060583141114 at epoch 631\n",
            "learning_rate: 0.0005120000000000001\n"
          ]
        },
        {
          "metadata": {
            "tags": null
          },
          "name": "stderr",
          "output_type": "stream",
          "text": [
            "epoch 631: 100%|██████████| 282/282 [00:08<00:00, 32.31it/s]\n"
          ]
        },
        {
          "metadata": {
            "tags": null
          },
          "name": "stdout",
          "output_type": "stream",
          "text": [
            "validation loss: 0.00037608269974589347 at epoch 632\n",
            "learning_rate: 0.0005120000000000001\n"
          ]
        },
        {
          "metadata": {
            "tags": null
          },
          "name": "stderr",
          "output_type": "stream",
          "text": [
            "epoch 632: 100%|██████████| 282/282 [00:07<00:00, 35.68it/s]\n"
          ]
        },
        {
          "metadata": {
            "tags": null
          },
          "name": "stdout",
          "output_type": "stream",
          "text": [
            "validation loss: 0.0012542540729045869 at epoch 633\n",
            "learning_rate: 0.0005120000000000001\n"
          ]
        },
        {
          "metadata": {
            "tags": null
          },
          "name": "stderr",
          "output_type": "stream",
          "text": [
            "epoch 633: 100%|██████████| 282/282 [00:08<00:00, 31.94it/s]\n"
          ]
        },
        {
          "metadata": {
            "tags": null
          },
          "name": "stdout",
          "output_type": "stream",
          "text": [
            "validation loss: 0.0015970852399865786 at epoch 634\n",
            "learning_rate: 0.0005120000000000001\n"
          ]
        },
        {
          "metadata": {
            "tags": null
          },
          "name": "stderr",
          "output_type": "stream",
          "text": [
            "epoch 634: 100%|██████████| 282/282 [00:08<00:00, 32.37it/s]\n"
          ]
        },
        {
          "metadata": {
            "tags": null
          },
          "name": "stdout",
          "output_type": "stream",
          "text": [
            "validation loss: 0.0005842394075459904 at epoch 635\n",
            "learning_rate: 0.0005120000000000001\n"
          ]
        },
        {
          "metadata": {
            "tags": null
          },
          "name": "stderr",
          "output_type": "stream",
          "text": [
            "epoch 635: 100%|██████████| 282/282 [00:08<00:00, 34.56it/s]\n"
          ]
        },
        {
          "metadata": {
            "tags": null
          },
          "name": "stdout",
          "output_type": "stream",
          "text": [
            "validation loss: 0.0009597572286923726 at epoch 636\n",
            "learning_rate: 0.0005120000000000001\n"
          ]
        },
        {
          "metadata": {
            "tags": null
          },
          "name": "stderr",
          "output_type": "stream",
          "text": [
            "epoch 636: 100%|██████████| 282/282 [00:08<00:00, 33.94it/s]\n"
          ]
        },
        {
          "metadata": {
            "tags": null
          },
          "name": "stdout",
          "output_type": "stream",
          "text": [
            "validation loss: 0.00047345685193108186 at epoch 637\n",
            "learning_rate: 0.0005120000000000001\n"
          ]
        },
        {
          "metadata": {
            "tags": null
          },
          "name": "stderr",
          "output_type": "stream",
          "text": [
            "epoch 637: 100%|██████████| 282/282 [00:08<00:00, 32.07it/s]\n"
          ]
        },
        {
          "metadata": {
            "tags": null
          },
          "name": "stdout",
          "output_type": "stream",
          "text": [
            "validation loss: 0.0018168747425079345 at epoch 638\n",
            "learning_rate: 0.0005120000000000001\n"
          ]
        },
        {
          "metadata": {
            "tags": null
          },
          "name": "stderr",
          "output_type": "stream",
          "text": [
            "epoch 638: 100%|██████████| 282/282 [00:08<00:00, 32.01it/s]\n"
          ]
        },
        {
          "metadata": {
            "tags": null
          },
          "name": "stdout",
          "output_type": "stream",
          "text": [
            "validation loss: 0.0003519153433541457 at epoch 639\n",
            "learning_rate: 0.0004096000000000001\n"
          ]
        },
        {
          "metadata": {
            "tags": null
          },
          "name": "stderr",
          "output_type": "stream",
          "text": [
            "epoch 639: 100%|██████████| 282/282 [00:07<00:00, 35.56it/s]\n"
          ]
        },
        {
          "metadata": {
            "tags": null
          },
          "name": "stdout",
          "output_type": "stream",
          "text": [
            "validation loss: 0.001284121567176448 at epoch 640\n",
            "learning_rate: 0.0004096000000000001\n"
          ]
        },
        {
          "metadata": {
            "tags": null
          },
          "name": "stderr",
          "output_type": "stream",
          "text": [
            "epoch 640: 100%|██████████| 282/282 [00:08<00:00, 32.12it/s]\n"
          ]
        },
        {
          "metadata": {
            "tags": null
          },
          "name": "stdout",
          "output_type": "stream",
          "text": [
            "validation loss: 0.0007003564031587707 at epoch 641\n",
            "learning_rate: 0.0004096000000000001\n"
          ]
        },
        {
          "metadata": {
            "tags": null
          },
          "name": "stderr",
          "output_type": "stream",
          "text": [
            "epoch 641: 100%|██████████| 282/282 [00:08<00:00, 31.98it/s]\n"
          ]
        },
        {
          "metadata": {
            "tags": null
          },
          "name": "stdout",
          "output_type": "stream",
          "text": [
            "validation loss: 0.0009692525731192695 at epoch 642\n",
            "learning_rate: 0.0004096000000000001\n"
          ]
        },
        {
          "metadata": {
            "tags": null
          },
          "name": "stderr",
          "output_type": "stream",
          "text": [
            "epoch 642: 100%|██████████| 282/282 [00:08<00:00, 35.03it/s]\n"
          ]
        },
        {
          "metadata": {
            "tags": null
          },
          "name": "stdout",
          "output_type": "stream",
          "text": [
            "validation loss: 0.0009360098586314254 at epoch 643\n",
            "learning_rate: 0.0004096000000000001\n"
          ]
        },
        {
          "metadata": {
            "tags": null
          },
          "name": "stderr",
          "output_type": "stream",
          "text": [
            "epoch 643: 100%|██████████| 282/282 [00:08<00:00, 33.29it/s]\n"
          ]
        },
        {
          "metadata": {
            "tags": null
          },
          "name": "stdout",
          "output_type": "stream",
          "text": [
            "validation loss: 0.0014317319980925985 at epoch 644\n",
            "learning_rate: 0.0004096000000000001\n"
          ]
        },
        {
          "metadata": {
            "tags": null
          },
          "name": "stderr",
          "output_type": "stream",
          "text": [
            "epoch 644: 100%|██████████| 282/282 [00:08<00:00, 32.20it/s]\n"
          ]
        },
        {
          "metadata": {
            "tags": null
          },
          "name": "stdout",
          "output_type": "stream",
          "text": [
            "validation loss: 0.0009543914654188686 at epoch 645\n",
            "learning_rate: 0.0004096000000000001\n"
          ]
        },
        {
          "metadata": {
            "tags": null
          },
          "name": "stderr",
          "output_type": "stream",
          "text": [
            "epoch 645: 100%|██████████| 282/282 [00:08<00:00, 32.96it/s]\n"
          ]
        },
        {
          "metadata": {
            "tags": null
          },
          "name": "stdout",
          "output_type": "stream",
          "text": [
            "validation loss: 0.0010891617942187521 at epoch 646\n",
            "learning_rate: 0.0004096000000000001\n"
          ]
        },
        {
          "metadata": {
            "tags": null
          },
          "name": "stderr",
          "output_type": "stream",
          "text": [
            "epoch 646: 100%|██████████| 282/282 [00:07<00:00, 35.65it/s]\n"
          ]
        },
        {
          "metadata": {
            "tags": null
          },
          "name": "stdout",
          "output_type": "stream",
          "text": [
            "validation loss: 0.0010842914705475172 at epoch 647\n",
            "learning_rate: 0.0004096000000000001\n"
          ]
        },
        {
          "metadata": {
            "tags": null
          },
          "name": "stderr",
          "output_type": "stream",
          "text": [
            "epoch 647: 100%|██████████| 282/282 [00:08<00:00, 32.36it/s]\n"
          ]
        },
        {
          "metadata": {
            "tags": null
          },
          "name": "stdout",
          "output_type": "stream",
          "text": [
            "validation loss: 0.0015307615573207538 at epoch 648\n",
            "learning_rate: 0.0004096000000000001\n"
          ]
        },
        {
          "metadata": {
            "tags": null
          },
          "name": "stderr",
          "output_type": "stream",
          "text": [
            "epoch 648: 100%|██████████| 282/282 [00:08<00:00, 31.68it/s]\n"
          ]
        },
        {
          "metadata": {
            "tags": null
          },
          "name": "stdout",
          "output_type": "stream",
          "text": [
            "validation loss: 0.0016202451785405478 at epoch 649\n",
            "learning_rate: 0.0004096000000000001\n"
          ]
        },
        {
          "metadata": {
            "tags": null
          },
          "name": "stderr",
          "output_type": "stream",
          "text": [
            "epoch 649: 100%|██████████| 282/282 [00:07<00:00, 35.53it/s]\n"
          ]
        },
        {
          "metadata": {
            "tags": null
          },
          "name": "stdout",
          "output_type": "stream",
          "text": [
            "validation loss: 0.0007883450219200717 at epoch 650\n",
            "learning_rate: 0.0004096000000000001\n"
          ]
        },
        {
          "metadata": {
            "tags": null
          },
          "name": "stderr",
          "output_type": "stream",
          "text": [
            "epoch 650: 100%|██████████| 282/282 [00:08<00:00, 31.91it/s]\n"
          ]
        },
        {
          "metadata": {
            "tags": null
          },
          "name": "stdout",
          "output_type": "stream",
          "text": [
            "validation loss: 0.0005522746559646394 at epoch 651\n",
            "learning_rate: 0.0004096000000000001\n"
          ]
        },
        {
          "metadata": {
            "tags": null
          },
          "name": "stderr",
          "output_type": "stream",
          "text": [
            "epoch 651: 100%|██████████| 282/282 [00:08<00:00, 31.91it/s]\n"
          ]
        },
        {
          "metadata": {
            "tags": null
          },
          "name": "stdout",
          "output_type": "stream",
          "text": [
            "validation loss: 0.001518540383213096 at epoch 652\n",
            "learning_rate: 0.0004096000000000001\n"
          ]
        },
        {
          "metadata": {
            "tags": null
          },
          "name": "stderr",
          "output_type": "stream",
          "text": [
            "epoch 652: 100%|██████████| 282/282 [00:08<00:00, 34.43it/s]\n"
          ]
        },
        {
          "metadata": {
            "tags": null
          },
          "name": "stdout",
          "output_type": "stream",
          "text": [
            "validation loss: 0.0011422640118334028 at epoch 653\n",
            "learning_rate: 0.0004096000000000001\n"
          ]
        },
        {
          "metadata": {
            "tags": null
          },
          "name": "stderr",
          "output_type": "stream",
          "text": [
            "epoch 653: 100%|██████████| 282/282 [00:08<00:00, 34.34it/s]\n"
          ]
        },
        {
          "metadata": {
            "tags": null
          },
          "name": "stdout",
          "output_type": "stream",
          "text": [
            "validation loss: 0.00232514645324813 at epoch 654\n",
            "learning_rate: 0.0004096000000000001\n"
          ]
        },
        {
          "metadata": {
            "tags": null
          },
          "name": "stderr",
          "output_type": "stream",
          "text": [
            "epoch 654: 100%|██████████| 282/282 [00:08<00:00, 32.32it/s]\n"
          ]
        },
        {
          "metadata": {
            "tags": null
          },
          "name": "stdout",
          "output_type": "stream",
          "text": [
            "validation loss: 0.0010495610046717856 at epoch 655\n",
            "learning_rate: 0.0004096000000000001\n"
          ]
        },
        {
          "metadata": {
            "tags": null
          },
          "name": "stderr",
          "output_type": "stream",
          "text": [
            "epoch 655: 100%|██████████| 282/282 [00:08<00:00, 32.58it/s]\n"
          ]
        },
        {
          "metadata": {
            "tags": null
          },
          "name": "stdout",
          "output_type": "stream",
          "text": [
            "validation loss: 0.0006222372895313634 at epoch 656\n",
            "learning_rate: 0.0004096000000000001\n"
          ]
        },
        {
          "metadata": {
            "tags": null
          },
          "name": "stderr",
          "output_type": "stream",
          "text": [
            "epoch 656: 100%|██████████| 282/282 [00:07<00:00, 35.36it/s]\n"
          ]
        },
        {
          "metadata": {
            "tags": null
          },
          "name": "stdout",
          "output_type": "stream",
          "text": [
            "validation loss: 0.0010511666875746516 at epoch 657\n",
            "learning_rate: 0.0004096000000000001\n"
          ]
        },
        {
          "metadata": {
            "tags": null
          },
          "name": "stderr",
          "output_type": "stream",
          "text": [
            "epoch 657: 100%|██████████| 282/282 [00:08<00:00, 31.75it/s]\n"
          ]
        },
        {
          "metadata": {
            "tags": null
          },
          "name": "stdout",
          "output_type": "stream",
          "text": [
            "validation loss: 0.0013139481138851907 at epoch 658\n",
            "learning_rate: 0.0004096000000000001\n"
          ]
        },
        {
          "metadata": {
            "tags": null
          },
          "name": "stderr",
          "output_type": "stream",
          "text": [
            "epoch 658: 100%|██████████| 282/282 [00:08<00:00, 31.35it/s]\n"
          ]
        },
        {
          "metadata": {
            "tags": null
          },
          "name": "stdout",
          "output_type": "stream",
          "text": [
            "validation loss: 0.000738586041248507 at epoch 659\n",
            "learning_rate: 0.0004096000000000001\n"
          ]
        },
        {
          "metadata": {
            "tags": null
          },
          "name": "stderr",
          "output_type": "stream",
          "text": [
            "epoch 659: 100%|██████████| 282/282 [00:07<00:00, 35.51it/s]\n"
          ]
        },
        {
          "metadata": {
            "tags": null
          },
          "name": "stdout",
          "output_type": "stream",
          "text": [
            "validation loss: 0.0018854314155048793 at epoch 660\n",
            "learning_rate: 0.0004096000000000001\n"
          ]
        },
        {
          "metadata": {
            "tags": null
          },
          "name": "stderr",
          "output_type": "stream",
          "text": [
            "epoch 660: 100%|██████████| 282/282 [00:08<00:00, 32.46it/s]\n"
          ]
        },
        {
          "metadata": {
            "tags": null
          },
          "name": "stdout",
          "output_type": "stream",
          "text": [
            "validation loss: 0.0007694272481732898 at epoch 661\n",
            "learning_rate: 0.0004096000000000001\n"
          ]
        },
        {
          "metadata": {
            "tags": null
          },
          "name": "stderr",
          "output_type": "stream",
          "text": [
            "epoch 661: 100%|██████████| 282/282 [00:08<00:00, 32.12it/s]\n"
          ]
        },
        {
          "metadata": {
            "tags": null
          },
          "name": "stdout",
          "output_type": "stream",
          "text": [
            "validation loss: 0.0017944507019387352 at epoch 662\n",
            "learning_rate: 0.0004096000000000001\n"
          ]
        },
        {
          "metadata": {
            "tags": null
          },
          "name": "stderr",
          "output_type": "stream",
          "text": [
            "epoch 662: 100%|██████████| 282/282 [00:08<00:00, 32.88it/s]\n"
          ]
        },
        {
          "metadata": {
            "tags": null
          },
          "name": "stdout",
          "output_type": "stream",
          "text": [
            "validation loss: 0.0007642258873416318 at epoch 663\n",
            "learning_rate: 0.0004096000000000001\n"
          ]
        },
        {
          "metadata": {
            "tags": null
          },
          "name": "stderr",
          "output_type": "stream",
          "text": [
            "epoch 663: 100%|██████████| 282/282 [00:07<00:00, 35.73it/s]\n"
          ]
        },
        {
          "metadata": {
            "tags": null
          },
          "name": "stdout",
          "output_type": "stream",
          "text": [
            "validation loss: 0.0013261559911900097 at epoch 664\n",
            "learning_rate: 0.0004096000000000001\n"
          ]
        },
        {
          "metadata": {
            "tags": null
          },
          "name": "stderr",
          "output_type": "stream",
          "text": [
            "epoch 664: 100%|██████████| 282/282 [00:08<00:00, 32.26it/s]\n"
          ]
        },
        {
          "metadata": {
            "tags": null
          },
          "name": "stdout",
          "output_type": "stream",
          "text": [
            "validation loss: 0.0014278599495689075 at epoch 665\n",
            "learning_rate: 0.0004096000000000001\n"
          ]
        },
        {
          "metadata": {
            "tags": null
          },
          "name": "stderr",
          "output_type": "stream",
          "text": [
            "epoch 665: 100%|██████████| 282/282 [00:08<00:00, 31.74it/s]\n"
          ]
        },
        {
          "metadata": {
            "tags": null
          },
          "name": "stdout",
          "output_type": "stream",
          "text": [
            "validation loss: 0.0015110387023952272 at epoch 666\n",
            "learning_rate: 0.0004096000000000001\n"
          ]
        },
        {
          "metadata": {
            "tags": null
          },
          "name": "stderr",
          "output_type": "stream",
          "text": [
            "epoch 666: 100%|██████████| 282/282 [00:07<00:00, 35.55it/s]\n"
          ]
        },
        {
          "metadata": {
            "tags": null
          },
          "name": "stdout",
          "output_type": "stream",
          "text": [
            "validation loss: 0.0016170881705151665 at epoch 667\n",
            "learning_rate: 0.0004096000000000001\n"
          ]
        },
        {
          "metadata": {
            "tags": null
          },
          "name": "stderr",
          "output_type": "stream",
          "text": [
            "epoch 667: 100%|██████████| 282/282 [00:08<00:00, 32.69it/s]\n"
          ]
        },
        {
          "metadata": {
            "tags": null
          },
          "name": "stdout",
          "output_type": "stream",
          "text": [
            "validation loss: 0.0016696435577339597 at epoch 668\n",
            "learning_rate: 0.0004096000000000001\n"
          ]
        },
        {
          "metadata": {
            "tags": null
          },
          "name": "stderr",
          "output_type": "stream",
          "text": [
            "epoch 668: 100%|██████████| 282/282 [00:08<00:00, 33.28it/s]\n"
          ]
        },
        {
          "metadata": {
            "tags": null
          },
          "name": "stdout",
          "output_type": "stream",
          "text": [
            "validation loss: 0.0007895454553266366 at epoch 669\n",
            "learning_rate: 0.0004096000000000001\n"
          ]
        },
        {
          "metadata": {
            "tags": null
          },
          "name": "stderr",
          "output_type": "stream",
          "text": [
            "epoch 669: 100%|██████████| 282/282 [00:07<00:00, 35.38it/s]\n"
          ]
        },
        {
          "metadata": {
            "tags": null
          },
          "name": "stdout",
          "output_type": "stream",
          "text": [
            "validation loss: 0.0009782928865816859 at epoch 670\n",
            "learning_rate: 0.0004096000000000001\n"
          ]
        },
        {
          "metadata": {
            "tags": null
          },
          "name": "stderr",
          "output_type": "stream",
          "text": [
            "epoch 670: 100%|██████████| 282/282 [00:08<00:00, 35.06it/s]\n"
          ]
        },
        {
          "metadata": {
            "tags": null
          },
          "name": "stdout",
          "output_type": "stream",
          "text": [
            "validation loss: 0.0005296903840369649 at epoch 671\n",
            "learning_rate: 0.0004096000000000001\n"
          ]
        },
        {
          "metadata": {
            "tags": null
          },
          "name": "stderr",
          "output_type": "stream",
          "text": [
            "epoch 671: 100%|██████████| 282/282 [00:08<00:00, 33.39it/s]\n"
          ]
        },
        {
          "metadata": {
            "tags": null
          },
          "name": "stdout",
          "output_type": "stream",
          "text": [
            "validation loss: 0.0017725630965497758 at epoch 672\n",
            "learning_rate: 0.0004096000000000001\n"
          ]
        },
        {
          "metadata": {
            "tags": null
          },
          "name": "stderr",
          "output_type": "stream",
          "text": [
            "epoch 672: 100%|██████████| 282/282 [00:08<00:00, 33.87it/s]\n"
          ]
        },
        {
          "metadata": {
            "tags": null
          },
          "name": "stdout",
          "output_type": "stream",
          "text": [
            "validation loss: 0.0009663233144415749 at epoch 673\n",
            "learning_rate: 0.0004096000000000001\n"
          ]
        },
        {
          "metadata": {
            "tags": null
          },
          "name": "stderr",
          "output_type": "stream",
          "text": [
            "epoch 673: 100%|██████████| 282/282 [00:07<00:00, 37.02it/s]\n"
          ]
        },
        {
          "metadata": {
            "tags": null
          },
          "name": "stdout",
          "output_type": "stream",
          "text": [
            "validation loss: 0.0015746133774518967 at epoch 674\n",
            "learning_rate: 0.0004096000000000001\n"
          ]
        },
        {
          "metadata": {
            "tags": null
          },
          "name": "stderr",
          "output_type": "stream",
          "text": [
            "epoch 674: 100%|██████████| 282/282 [00:08<00:00, 32.84it/s]\n"
          ]
        },
        {
          "metadata": {
            "tags": null
          },
          "name": "stdout",
          "output_type": "stream",
          "text": [
            "validation loss: 0.0011344894675744904 at epoch 675\n",
            "learning_rate: 0.0004096000000000001\n"
          ]
        },
        {
          "metadata": {
            "tags": null
          },
          "name": "stderr",
          "output_type": "stream",
          "text": [
            "epoch 675: 100%|██████████| 282/282 [00:08<00:00, 33.87it/s]\n"
          ]
        },
        {
          "metadata": {
            "tags": null
          },
          "name": "stdout",
          "output_type": "stream",
          "text": [
            "validation loss: 0.0005476243235170841 at epoch 676\n",
            "learning_rate: 0.0004096000000000001\n"
          ]
        },
        {
          "metadata": {
            "tags": null
          },
          "name": "stderr",
          "output_type": "stream",
          "text": [
            "epoch 676: 100%|██████████| 282/282 [00:07<00:00, 37.01it/s]\n"
          ]
        },
        {
          "metadata": {
            "tags": null
          },
          "name": "stdout",
          "output_type": "stream",
          "text": [
            "validation loss: 0.00047740013028184575 at epoch 677\n",
            "learning_rate: 0.0004096000000000001\n"
          ]
        },
        {
          "metadata": {
            "tags": null
          },
          "name": "stderr",
          "output_type": "stream",
          "text": [
            "epoch 677: 100%|██████████| 282/282 [00:08<00:00, 33.37it/s]\n"
          ]
        },
        {
          "metadata": {
            "tags": null
          },
          "name": "stdout",
          "output_type": "stream",
          "text": [
            "validation loss: 0.0011920179906818602 at epoch 678\n",
            "learning_rate: 0.0004096000000000001\n"
          ]
        },
        {
          "metadata": {
            "tags": null
          },
          "name": "stderr",
          "output_type": "stream",
          "text": [
            "epoch 678: 100%|██████████| 282/282 [00:08<00:00, 33.20it/s]\n"
          ]
        },
        {
          "metadata": {
            "tags": null
          },
          "name": "stdout",
          "output_type": "stream",
          "text": [
            "validation loss: 0.0010024147952596347 at epoch 679\n",
            "learning_rate: 0.0004096000000000001\n"
          ]
        },
        {
          "metadata": {
            "tags": null
          },
          "name": "stderr",
          "output_type": "stream",
          "text": [
            "epoch 679: 100%|██████████| 282/282 [00:07<00:00, 37.09it/s]\n"
          ]
        },
        {
          "metadata": {
            "tags": null
          },
          "name": "stdout",
          "output_type": "stream",
          "text": [
            "validation loss: 0.0005198425985872745 at epoch 680\n",
            "learning_rate: 0.0004096000000000001\n"
          ]
        },
        {
          "metadata": {
            "tags": null
          },
          "name": "stderr",
          "output_type": "stream",
          "text": [
            "epoch 680: 100%|██████████| 282/282 [00:08<00:00, 32.23it/s]\n"
          ]
        },
        {
          "metadata": {
            "tags": null
          },
          "name": "stdout",
          "output_type": "stream",
          "text": [
            "validation loss: 0.0003681324269208643 at epoch 681\n",
            "learning_rate: 0.0004096000000000001\n"
          ]
        },
        {
          "metadata": {
            "tags": null
          },
          "name": "stderr",
          "output_type": "stream",
          "text": [
            "epoch 681: 100%|██████████| 282/282 [00:08<00:00, 32.93it/s]\n"
          ]
        },
        {
          "metadata": {
            "tags": null
          },
          "name": "stdout",
          "output_type": "stream",
          "text": [
            "validation loss: 0.001773910039001041 at epoch 682\n",
            "learning_rate: 0.0004096000000000001\n"
          ]
        },
        {
          "metadata": {
            "tags": null
          },
          "name": "stderr",
          "output_type": "stream",
          "text": [
            "epoch 682: 100%|██████████| 282/282 [00:07<00:00, 37.06it/s]\n"
          ]
        },
        {
          "metadata": {
            "tags": null
          },
          "name": "stdout",
          "output_type": "stream",
          "text": [
            "validation loss: 0.000357728928534521 at epoch 683\n",
            "learning_rate: 0.0004096000000000001\n"
          ]
        },
        {
          "metadata": {
            "tags": null
          },
          "name": "stderr",
          "output_type": "stream",
          "text": [
            "epoch 683: 100%|██████████| 282/282 [00:08<00:00, 33.10it/s]\n"
          ]
        },
        {
          "metadata": {
            "tags": null
          },
          "name": "stdout",
          "output_type": "stream",
          "text": [
            "validation loss: 0.0009528234452009201 at epoch 684\n",
            "learning_rate: 0.0004096000000000001\n"
          ]
        },
        {
          "metadata": {
            "tags": null
          },
          "name": "stderr",
          "output_type": "stream",
          "text": [
            "epoch 684: 100%|██████████| 282/282 [00:08<00:00, 33.45it/s]\n"
          ]
        },
        {
          "metadata": {
            "tags": null
          },
          "name": "stdout",
          "output_type": "stream",
          "text": [
            "validation loss: 0.0007327975465191735 at epoch 685\n",
            "learning_rate: 0.0004096000000000001\n"
          ]
        },
        {
          "metadata": {
            "tags": null
          },
          "name": "stderr",
          "output_type": "stream",
          "text": [
            "epoch 685: 100%|██████████| 282/282 [00:07<00:00, 37.00it/s]\n"
          ]
        },
        {
          "metadata": {
            "tags": null
          },
          "name": "stdout",
          "output_type": "stream",
          "text": [
            "validation loss: 0.0008483761379288302 at epoch 686\n",
            "learning_rate: 0.0004096000000000001\n"
          ]
        },
        {
          "metadata": {
            "tags": null
          },
          "name": "stderr",
          "output_type": "stream",
          "text": [
            "epoch 686: 100%|██████████| 282/282 [00:08<00:00, 33.64it/s]\n"
          ]
        },
        {
          "metadata": {
            "tags": null
          },
          "name": "stdout",
          "output_type": "stream",
          "text": [
            "validation loss: 0.0012935439290271864 at epoch 687\n",
            "learning_rate: 0.0004096000000000001\n"
          ]
        },
        {
          "metadata": {
            "tags": null
          },
          "name": "stderr",
          "output_type": "stream",
          "text": [
            "epoch 687: 100%|██████████| 282/282 [00:08<00:00, 33.04it/s]\n"
          ]
        },
        {
          "metadata": {
            "tags": null
          },
          "name": "stdout",
          "output_type": "stream",
          "text": [
            "validation loss: 0.0005770129044022825 at epoch 688\n",
            "learning_rate: 0.0004096000000000001\n"
          ]
        },
        {
          "metadata": {
            "tags": null
          },
          "name": "stderr",
          "output_type": "stream",
          "text": [
            "epoch 688: 100%|██████████| 282/282 [00:07<00:00, 37.09it/s]\n"
          ]
        },
        {
          "metadata": {
            "tags": null
          },
          "name": "stdout",
          "output_type": "stream",
          "text": [
            "validation loss: 0.0009752070274617937 at epoch 689\n",
            "learning_rate: 0.0004096000000000001\n"
          ]
        },
        {
          "metadata": {
            "tags": null
          },
          "name": "stderr",
          "output_type": "stream",
          "text": [
            "epoch 689: 100%|██████████| 282/282 [00:08<00:00, 33.75it/s]\n"
          ]
        },
        {
          "metadata": {
            "tags": null
          },
          "name": "stdout",
          "output_type": "stream",
          "text": [
            "validation loss: 0.0003435000092205074 at epoch 690\n",
            "learning_rate: 0.0003276800000000001\n",
            "model saved in ani_acrolein.pt\n"
          ]
        },
        {
          "metadata": {
            "tags": null
          },
          "name": "stderr",
          "output_type": "stream",
          "text": [
            "epoch 690: 100%|██████████| 282/282 [00:08<00:00, 33.30it/s]\n"
          ]
        },
        {
          "metadata": {
            "tags": null
          },
          "name": "stdout",
          "output_type": "stream",
          "text": [
            "validation loss: 0.0007824776342345609 at epoch 691\n",
            "learning_rate: 0.0003276800000000001\n"
          ]
        },
        {
          "metadata": {
            "tags": null
          },
          "name": "stderr",
          "output_type": "stream",
          "text": [
            "epoch 691: 100%|██████████| 282/282 [00:07<00:00, 37.00it/s]\n"
          ]
        },
        {
          "metadata": {
            "tags": null
          },
          "name": "stdout",
          "output_type": "stream",
          "text": [
            "validation loss: 0.001289608913163344 at epoch 692\n",
            "learning_rate: 0.0003276800000000001\n"
          ]
        },
        {
          "metadata": {
            "tags": null
          },
          "name": "stderr",
          "output_type": "stream",
          "text": [
            "epoch 692: 100%|██████████| 282/282 [00:08<00:00, 34.05it/s]\n"
          ]
        },
        {
          "metadata": {
            "tags": null
          },
          "name": "stdout",
          "output_type": "stream",
          "text": [
            "validation loss: 0.0012803410490353903 at epoch 693\n",
            "learning_rate: 0.0003276800000000001\n"
          ]
        },
        {
          "metadata": {
            "tags": null
          },
          "name": "stderr",
          "output_type": "stream",
          "text": [
            "epoch 693: 100%|██████████| 282/282 [00:08<00:00, 33.31it/s]\n"
          ]
        },
        {
          "metadata": {
            "tags": null
          },
          "name": "stdout",
          "output_type": "stream",
          "text": [
            "validation loss: 0.0012355496486028035 at epoch 694\n",
            "learning_rate: 0.0003276800000000001\n"
          ]
        },
        {
          "metadata": {
            "tags": null
          },
          "name": "stderr",
          "output_type": "stream",
          "text": [
            "epoch 694: 100%|██████████| 282/282 [00:07<00:00, 36.60it/s]\n"
          ]
        },
        {
          "metadata": {
            "tags": null
          },
          "name": "stdout",
          "output_type": "stream",
          "text": [
            "validation loss: 0.0015127448075347477 at epoch 695\n",
            "learning_rate: 0.0003276800000000001\n"
          ]
        },
        {
          "metadata": {
            "tags": null
          },
          "name": "stderr",
          "output_type": "stream",
          "text": [
            "epoch 695: 100%|██████████| 282/282 [00:08<00:00, 34.70it/s]\n"
          ]
        },
        {
          "metadata": {
            "tags": null
          },
          "name": "stdout",
          "output_type": "stream",
          "text": [
            "validation loss: 0.0014303431030776765 at epoch 696\n",
            "learning_rate: 0.0003276800000000001\n"
          ]
        },
        {
          "metadata": {
            "tags": null
          },
          "name": "stderr",
          "output_type": "stream",
          "text": [
            "epoch 696: 100%|██████████| 282/282 [00:08<00:00, 33.29it/s]\n"
          ]
        },
        {
          "metadata": {
            "tags": null
          },
          "name": "stdout",
          "output_type": "stream",
          "text": [
            "validation loss: 0.0013957547263966667 at epoch 697\n",
            "learning_rate: 0.0003276800000000001\n"
          ]
        },
        {
          "metadata": {
            "tags": null
          },
          "name": "stderr",
          "output_type": "stream",
          "text": [
            "epoch 697: 100%|██████████| 282/282 [00:08<00:00, 34.46it/s]\n"
          ]
        },
        {
          "metadata": {
            "tags": null
          },
          "name": "stdout",
          "output_type": "stream",
          "text": [
            "validation loss: 0.0005110442638397217 at epoch 698\n",
            "learning_rate: 0.0003276800000000001\n"
          ]
        },
        {
          "metadata": {
            "tags": null
          },
          "name": "stderr",
          "output_type": "stream",
          "text": [
            "epoch 698: 100%|██████████| 282/282 [00:07<00:00, 36.69it/s]\n"
          ]
        },
        {
          "metadata": {
            "tags": null
          },
          "name": "stdout",
          "output_type": "stream",
          "text": [
            "validation loss: 0.0008042562169333299 at epoch 699\n",
            "learning_rate: 0.0003276800000000001\n"
          ]
        },
        {
          "metadata": {
            "tags": null
          },
          "name": "stderr",
          "output_type": "stream",
          "text": [
            "epoch 699: 100%|██████████| 282/282 [00:08<00:00, 33.11it/s]\n"
          ]
        },
        {
          "metadata": {
            "tags": null
          },
          "name": "stdout",
          "output_type": "stream",
          "text": [
            "validation loss: 0.001240252466665374 at epoch 700\n",
            "learning_rate: 0.0003276800000000001\n"
          ]
        },
        {
          "metadata": {
            "tags": null
          },
          "name": "stderr",
          "output_type": "stream",
          "text": [
            "epoch 700: 100%|██████████| 282/282 [00:08<00:00, 33.90it/s]\n"
          ]
        },
        {
          "metadata": {
            "tags": null
          },
          "name": "stdout",
          "output_type": "stream",
          "text": [
            "validation loss: 0.0014243333786725999 at epoch 701\n",
            "learning_rate: 0.0003276800000000001\n"
          ]
        },
        {
          "metadata": {
            "tags": null
          },
          "name": "stderr",
          "output_type": "stream",
          "text": [
            "epoch 701: 100%|██████████| 282/282 [00:07<00:00, 37.09it/s]\n"
          ]
        },
        {
          "metadata": {
            "tags": null
          },
          "name": "stdout",
          "output_type": "stream",
          "text": [
            "validation loss: 0.0013539690292543834 at epoch 702\n",
            "learning_rate: 0.0003276800000000001\n"
          ]
        },
        {
          "metadata": {
            "tags": null
          },
          "name": "stderr",
          "output_type": "stream",
          "text": [
            "epoch 702: 100%|██████████| 282/282 [00:08<00:00, 33.38it/s]\n"
          ]
        },
        {
          "metadata": {
            "tags": null
          },
          "name": "stdout",
          "output_type": "stream",
          "text": [
            "validation loss: 0.0012849885647495587 at epoch 703\n",
            "learning_rate: 0.0003276800000000001\n"
          ]
        },
        {
          "metadata": {
            "tags": null
          },
          "name": "stderr",
          "output_type": "stream",
          "text": [
            "epoch 703: 100%|██████████| 282/282 [00:08<00:00, 33.77it/s]\n"
          ]
        },
        {
          "metadata": {
            "tags": null
          },
          "name": "stdout",
          "output_type": "stream",
          "text": [
            "validation loss: 0.0016963069579667516 at epoch 704\n",
            "learning_rate: 0.0003276800000000001\n"
          ]
        },
        {
          "metadata": {
            "tags": null
          },
          "name": "stderr",
          "output_type": "stream",
          "text": [
            "epoch 704: 100%|██████████| 282/282 [00:07<00:00, 37.04it/s]\n"
          ]
        },
        {
          "metadata": {
            "tags": null
          },
          "name": "stdout",
          "output_type": "stream",
          "text": [
            "validation loss: 0.001348947490255038 at epoch 705\n",
            "learning_rate: 0.0003276800000000001\n"
          ]
        },
        {
          "metadata": {
            "tags": null
          },
          "name": "stderr",
          "output_type": "stream",
          "text": [
            "epoch 705: 100%|██████████| 282/282 [00:08<00:00, 33.49it/s]\n"
          ]
        },
        {
          "metadata": {
            "tags": null
          },
          "name": "stdout",
          "output_type": "stream",
          "text": [
            "validation loss: 0.0016047546904948023 at epoch 706\n",
            "learning_rate: 0.0003276800000000001\n"
          ]
        },
        {
          "metadata": {
            "tags": null
          },
          "name": "stderr",
          "output_type": "stream",
          "text": [
            "epoch 706: 100%|██████████| 282/282 [00:08<00:00, 33.12it/s]\n"
          ]
        },
        {
          "metadata": {
            "tags": null
          },
          "name": "stdout",
          "output_type": "stream",
          "text": [
            "validation loss: 0.0012387303395403756 at epoch 707\n",
            "learning_rate: 0.0003276800000000001\n"
          ]
        },
        {
          "metadata": {
            "tags": null
          },
          "name": "stderr",
          "output_type": "stream",
          "text": [
            "epoch 707: 100%|██████████| 282/282 [00:07<00:00, 37.11it/s]\n"
          ]
        },
        {
          "metadata": {
            "tags": null
          },
          "name": "stdout",
          "output_type": "stream",
          "text": [
            "validation loss: 0.001644850326081117 at epoch 708\n",
            "learning_rate: 0.0003276800000000001\n"
          ]
        },
        {
          "metadata": {
            "tags": null
          },
          "name": "stderr",
          "output_type": "stream",
          "text": [
            "epoch 708: 100%|██████████| 282/282 [00:08<00:00, 33.43it/s]\n"
          ]
        },
        {
          "metadata": {
            "tags": null
          },
          "name": "stdout",
          "output_type": "stream",
          "text": [
            "validation loss: 0.0012799090983139144 at epoch 709\n",
            "learning_rate: 0.0003276800000000001\n"
          ]
        },
        {
          "metadata": {
            "tags": null
          },
          "name": "stderr",
          "output_type": "stream",
          "text": [
            "epoch 709: 100%|██████████| 282/282 [00:08<00:00, 33.06it/s]\n"
          ]
        },
        {
          "metadata": {
            "tags": null
          },
          "name": "stdout",
          "output_type": "stream",
          "text": [
            "validation loss: 0.001207474966843923 at epoch 710\n",
            "learning_rate: 0.0003276800000000001\n"
          ]
        },
        {
          "metadata": {
            "tags": null
          },
          "name": "stderr",
          "output_type": "stream",
          "text": [
            "epoch 710: 100%|██████████| 282/282 [00:07<00:00, 37.06it/s]\n"
          ]
        },
        {
          "metadata": {
            "tags": null
          },
          "name": "stdout",
          "output_type": "stream",
          "text": [
            "validation loss: 0.0013495238812433349 at epoch 711\n",
            "learning_rate: 0.0003276800000000001\n"
          ]
        },
        {
          "metadata": {
            "tags": null
          },
          "name": "stderr",
          "output_type": "stream",
          "text": [
            "epoch 711: 100%|██████████| 282/282 [00:08<00:00, 33.11it/s]\n"
          ]
        },
        {
          "metadata": {
            "tags": null
          },
          "name": "stdout",
          "output_type": "stream",
          "text": [
            "validation loss: 0.0006956024178200298 at epoch 712\n",
            "learning_rate: 0.0003276800000000001\n"
          ]
        },
        {
          "metadata": {
            "tags": null
          },
          "name": "stderr",
          "output_type": "stream",
          "text": [
            "epoch 712: 100%|██████████| 282/282 [00:08<00:00, 32.97it/s]\n"
          ]
        },
        {
          "metadata": {
            "tags": null
          },
          "name": "stdout",
          "output_type": "stream",
          "text": [
            "validation loss: 0.0015563762163122495 at epoch 713\n",
            "learning_rate: 0.0003276800000000001\n"
          ]
        },
        {
          "metadata": {
            "tags": null
          },
          "name": "stderr",
          "output_type": "stream",
          "text": [
            "epoch 713: 100%|██████████| 282/282 [00:07<00:00, 36.90it/s]\n"
          ]
        },
        {
          "metadata": {
            "tags": null
          },
          "name": "stdout",
          "output_type": "stream",
          "text": [
            "validation loss: 0.0009021506131523185 at epoch 714\n",
            "learning_rate: 0.0003276800000000001\n"
          ]
        },
        {
          "metadata": {
            "tags": null
          },
          "name": "stderr",
          "output_type": "stream",
          "text": [
            "epoch 714: 100%|██████████| 282/282 [00:08<00:00, 33.01it/s]\n"
          ]
        },
        {
          "metadata": {
            "tags": null
          },
          "name": "stdout",
          "output_type": "stream",
          "text": [
            "validation loss: 0.0014598410973946253 at epoch 715\n",
            "learning_rate: 0.0003276800000000001\n"
          ]
        },
        {
          "metadata": {
            "tags": null
          },
          "name": "stderr",
          "output_type": "stream",
          "text": [
            "epoch 715: 100%|██████████| 282/282 [00:08<00:00, 33.13it/s]\n"
          ]
        },
        {
          "metadata": {
            "tags": null
          },
          "name": "stdout",
          "output_type": "stream",
          "text": [
            "validation loss: 0.0013721627477142546 at epoch 716\n",
            "learning_rate: 0.0003276800000000001\n"
          ]
        },
        {
          "metadata": {
            "tags": null
          },
          "name": "stderr",
          "output_type": "stream",
          "text": [
            "epoch 716: 100%|██████████| 282/282 [00:07<00:00, 37.16it/s]\n"
          ]
        },
        {
          "metadata": {
            "tags": null
          },
          "name": "stdout",
          "output_type": "stream",
          "text": [
            "validation loss: 0.0003329050011105008 at epoch 717\n",
            "learning_rate: 0.0003276800000000001\n",
            "model saved in ani_acrolein.pt\n"
          ]
        },
        {
          "metadata": {
            "tags": null
          },
          "name": "stderr",
          "output_type": "stream",
          "text": [
            "epoch 717: 100%|██████████| 282/282 [00:08<00:00, 33.64it/s]\n"
          ]
        },
        {
          "metadata": {
            "tags": null
          },
          "name": "stdout",
          "output_type": "stream",
          "text": [
            "validation loss: 0.001496557544502947 at epoch 718\n",
            "learning_rate: 0.0003276800000000001\n"
          ]
        },
        {
          "metadata": {
            "tags": null
          },
          "name": "stderr",
          "output_type": "stream",
          "text": [
            "epoch 718: 100%|██████████| 282/282 [00:08<00:00, 33.30it/s]\n"
          ]
        },
        {
          "metadata": {
            "tags": null
          },
          "name": "stdout",
          "output_type": "stream",
          "text": [
            "validation loss: 0.0013052744070688883 at epoch 719\n",
            "learning_rate: 0.0003276800000000001\n"
          ]
        },
        {
          "metadata": {
            "tags": null
          },
          "name": "stderr",
          "output_type": "stream",
          "text": [
            "epoch 719: 100%|██████████| 282/282 [00:07<00:00, 36.64it/s]\n"
          ]
        },
        {
          "metadata": {
            "tags": null
          },
          "name": "stdout",
          "output_type": "stream",
          "text": [
            "validation loss: 0.00044925043048957985 at epoch 720\n",
            "learning_rate: 0.0003276800000000001\n"
          ]
        },
        {
          "metadata": {
            "tags": null
          },
          "name": "stderr",
          "output_type": "stream",
          "text": [
            "epoch 720: 100%|██████████| 282/282 [00:08<00:00, 34.73it/s]\n"
          ]
        },
        {
          "metadata": {
            "tags": null
          },
          "name": "stdout",
          "output_type": "stream",
          "text": [
            "validation loss: 0.0012432091103659736 at epoch 721\n",
            "learning_rate: 0.0003276800000000001\n"
          ]
        },
        {
          "metadata": {
            "tags": null
          },
          "name": "stderr",
          "output_type": "stream",
          "text": [
            "epoch 721: 100%|██████████| 282/282 [00:08<00:00, 33.44it/s]\n"
          ]
        },
        {
          "metadata": {
            "tags": null
          },
          "name": "stdout",
          "output_type": "stream",
          "text": [
            "validation loss: 0.001678771493335565 at epoch 722\n",
            "learning_rate: 0.0003276800000000001\n"
          ]
        },
        {
          "metadata": {
            "tags": null
          },
          "name": "stderr",
          "output_type": "stream",
          "text": [
            "epoch 722: 100%|██████████| 282/282 [00:08<00:00, 35.00it/s]\n"
          ]
        },
        {
          "metadata": {
            "tags": null
          },
          "name": "stdout",
          "output_type": "stream",
          "text": [
            "validation loss: 0.0011524102911353112 at epoch 723\n",
            "learning_rate: 0.0003276800000000001\n"
          ]
        },
        {
          "metadata": {
            "tags": null
          },
          "name": "stderr",
          "output_type": "stream",
          "text": [
            "epoch 723: 100%|██████████| 282/282 [00:07<00:00, 35.57it/s]\n"
          ]
        },
        {
          "metadata": {
            "tags": null
          },
          "name": "stdout",
          "output_type": "stream",
          "text": [
            "validation loss: 0.0010299842978517214 at epoch 724\n",
            "learning_rate: 0.0003276800000000001\n"
          ]
        },
        {
          "metadata": {
            "tags": null
          },
          "name": "stderr",
          "output_type": "stream",
          "text": [
            "epoch 724: 100%|██████████| 282/282 [00:08<00:00, 33.58it/s]\n"
          ]
        },
        {
          "metadata": {
            "tags": null
          },
          "name": "stdout",
          "output_type": "stream",
          "text": [
            "validation loss: 0.0014738608706328603 at epoch 725\n",
            "learning_rate: 0.0003276800000000001\n"
          ]
        },
        {
          "metadata": {
            "tags": null
          },
          "name": "stderr",
          "output_type": "stream",
          "text": [
            "epoch 725: 100%|██████████| 282/282 [00:08<00:00, 34.07it/s]\n"
          ]
        },
        {
          "metadata": {
            "tags": null
          },
          "name": "stdout",
          "output_type": "stream",
          "text": [
            "validation loss: 0.0011285793723331558 at epoch 726\n",
            "learning_rate: 0.0003276800000000001\n"
          ]
        },
        {
          "metadata": {
            "tags": null
          },
          "name": "stderr",
          "output_type": "stream",
          "text": [
            "epoch 726: 100%|██████████| 282/282 [00:07<00:00, 36.98it/s]\n"
          ]
        },
        {
          "metadata": {
            "tags": null
          },
          "name": "stdout",
          "output_type": "stream",
          "text": [
            "validation loss: 0.0011026223732365503 at epoch 727\n",
            "learning_rate: 0.0003276800000000001\n"
          ]
        },
        {
          "metadata": {
            "tags": null
          },
          "name": "stderr",
          "output_type": "stream",
          "text": [
            "epoch 727: 100%|██████████| 282/282 [00:08<00:00, 33.27it/s]\n"
          ]
        },
        {
          "metadata": {
            "tags": null
          },
          "name": "stdout",
          "output_type": "stream",
          "text": [
            "validation loss: 0.0013977737865514225 at epoch 728\n",
            "learning_rate: 0.0003276800000000001\n"
          ]
        },
        {
          "metadata": {
            "tags": null
          },
          "name": "stderr",
          "output_type": "stream",
          "text": [
            "epoch 728: 100%|██████████| 282/282 [00:08<00:00, 33.55it/s]\n"
          ]
        },
        {
          "metadata": {
            "tags": null
          },
          "name": "stdout",
          "output_type": "stream",
          "text": [
            "validation loss: 0.00031592240743339063 at epoch 729\n",
            "learning_rate: 0.0003276800000000001\n",
            "model saved in ani_acrolein.pt\n"
          ]
        },
        {
          "metadata": {
            "tags": null
          },
          "name": "stderr",
          "output_type": "stream",
          "text": [
            "epoch 729: 100%|██████████| 282/282 [00:07<00:00, 37.10it/s]\n"
          ]
        },
        {
          "metadata": {
            "tags": null
          },
          "name": "stdout",
          "output_type": "stream",
          "text": [
            "validation loss: 0.001585823999510871 at epoch 730\n",
            "learning_rate: 0.0003276800000000001\n"
          ]
        },
        {
          "metadata": {
            "tags": null
          },
          "name": "stderr",
          "output_type": "stream",
          "text": [
            "epoch 730: 100%|██████████| 282/282 [00:08<00:00, 33.20it/s]\n"
          ]
        },
        {
          "metadata": {
            "tags": null
          },
          "name": "stdout",
          "output_type": "stream",
          "text": [
            "validation loss: 0.0011947665106919077 at epoch 731\n",
            "learning_rate: 0.0003276800000000001\n"
          ]
        },
        {
          "metadata": {
            "tags": null
          },
          "name": "stderr",
          "output_type": "stream",
          "text": [
            "epoch 731: 100%|██████████| 282/282 [00:08<00:00, 32.50it/s]\n"
          ]
        },
        {
          "metadata": {
            "tags": null
          },
          "name": "stdout",
          "output_type": "stream",
          "text": [
            "validation loss: 0.000735021047708061 at epoch 732\n",
            "learning_rate: 0.0003276800000000001\n"
          ]
        },
        {
          "metadata": {
            "tags": null
          },
          "name": "stderr",
          "output_type": "stream",
          "text": [
            "epoch 732: 100%|██████████| 282/282 [00:07<00:00, 36.83it/s]\n"
          ]
        },
        {
          "metadata": {
            "tags": null
          },
          "name": "stdout",
          "output_type": "stream",
          "text": [
            "validation loss: 0.0004289996932364172 at epoch 733\n",
            "learning_rate: 0.0003276800000000001\n"
          ]
        },
        {
          "metadata": {
            "tags": null
          },
          "name": "stderr",
          "output_type": "stream",
          "text": [
            "epoch 733: 100%|██████████| 282/282 [00:08<00:00, 33.50it/s]\n"
          ]
        },
        {
          "metadata": {
            "tags": null
          },
          "name": "stdout",
          "output_type": "stream",
          "text": [
            "validation loss: 0.0015082444945971171 at epoch 734\n",
            "learning_rate: 0.0003276800000000001\n"
          ]
        },
        {
          "metadata": {
            "tags": null
          },
          "name": "stderr",
          "output_type": "stream",
          "text": [
            "epoch 734: 100%|██████████| 282/282 [00:08<00:00, 34.05it/s]\n"
          ]
        },
        {
          "metadata": {
            "tags": null
          },
          "name": "stdout",
          "output_type": "stream",
          "text": [
            "validation loss: 0.0012365403705173069 at epoch 735\n",
            "learning_rate: 0.0003276800000000001\n"
          ]
        },
        {
          "metadata": {
            "tags": null
          },
          "name": "stderr",
          "output_type": "stream",
          "text": [
            "epoch 735: 100%|██████████| 282/282 [00:07<00:00, 37.40it/s]\n"
          ]
        },
        {
          "metadata": {
            "tags": null
          },
          "name": "stdout",
          "output_type": "stream",
          "text": [
            "validation loss: 0.0014587137723962465 at epoch 736\n",
            "learning_rate: 0.0003276800000000001\n"
          ]
        },
        {
          "metadata": {
            "tags": null
          },
          "name": "stderr",
          "output_type": "stream",
          "text": [
            "epoch 736: 100%|██████████| 282/282 [00:08<00:00, 33.81it/s]\n"
          ]
        },
        {
          "metadata": {
            "tags": null
          },
          "name": "stdout",
          "output_type": "stream",
          "text": [
            "validation loss: 0.0011523751227392092 at epoch 737\n",
            "learning_rate: 0.0003276800000000001\n"
          ]
        },
        {
          "metadata": {
            "tags": null
          },
          "name": "stderr",
          "output_type": "stream",
          "text": [
            "epoch 737: 100%|██████████| 282/282 [00:08<00:00, 34.05it/s]\n"
          ]
        },
        {
          "metadata": {
            "tags": null
          },
          "name": "stdout",
          "output_type": "stream",
          "text": [
            "validation loss: 0.0016524250118268862 at epoch 738\n",
            "learning_rate: 0.0003276800000000001\n"
          ]
        },
        {
          "metadata": {
            "tags": null
          },
          "name": "stderr",
          "output_type": "stream",
          "text": [
            "epoch 738: 100%|██████████| 282/282 [00:07<00:00, 37.26it/s]\n"
          ]
        },
        {
          "metadata": {
            "tags": null
          },
          "name": "stdout",
          "output_type": "stream",
          "text": [
            "validation loss: 0.0012114732969138358 at epoch 739\n",
            "learning_rate: 0.0003276800000000001\n"
          ]
        },
        {
          "metadata": {
            "tags": null
          },
          "name": "stderr",
          "output_type": "stream",
          "text": [
            "epoch 739: 100%|██████████| 282/282 [00:08<00:00, 34.10it/s]\n"
          ]
        },
        {
          "metadata": {
            "tags": null
          },
          "name": "stdout",
          "output_type": "stream",
          "text": [
            "validation loss: 0.00160074069764879 at epoch 740\n",
            "learning_rate: 0.0003276800000000001\n"
          ]
        },
        {
          "metadata": {
            "tags": null
          },
          "name": "stderr",
          "output_type": "stream",
          "text": [
            "epoch 740: 100%|██████████| 282/282 [00:08<00:00, 33.69it/s]\n"
          ]
        },
        {
          "metadata": {
            "tags": null
          },
          "name": "stdout",
          "output_type": "stream",
          "text": [
            "validation loss: 0.0012363252879844771 at epoch 741\n",
            "learning_rate: 0.0003276800000000001\n"
          ]
        },
        {
          "metadata": {
            "tags": null
          },
          "name": "stderr",
          "output_type": "stream",
          "text": [
            "epoch 741: 100%|██████████| 282/282 [00:07<00:00, 37.93it/s]\n"
          ]
        },
        {
          "metadata": {
            "tags": null
          },
          "name": "stdout",
          "output_type": "stream",
          "text": [
            "validation loss: 0.000857381184067991 at epoch 742\n",
            "learning_rate: 0.0003276800000000001\n"
          ]
        },
        {
          "metadata": {
            "tags": null
          },
          "name": "stderr",
          "output_type": "stream",
          "text": [
            "epoch 742: 100%|██████████| 282/282 [00:07<00:00, 35.68it/s]\n"
          ]
        },
        {
          "metadata": {
            "tags": null
          },
          "name": "stdout",
          "output_type": "stream",
          "text": [
            "validation loss: 0.0012489469945430756 at epoch 743\n",
            "learning_rate: 0.0003276800000000001\n"
          ]
        },
        {
          "metadata": {
            "tags": null
          },
          "name": "stderr",
          "output_type": "stream",
          "text": [
            "epoch 743: 100%|██████████| 282/282 [00:08<00:00, 34.92it/s]\n"
          ]
        },
        {
          "metadata": {
            "tags": null
          },
          "name": "stdout",
          "output_type": "stream",
          "text": [
            "validation loss: 0.0017124499463372761 at epoch 744\n",
            "learning_rate: 0.0003276800000000001\n"
          ]
        },
        {
          "metadata": {
            "tags": null
          },
          "name": "stderr",
          "output_type": "stream",
          "text": [
            "epoch 744: 100%|██████████| 282/282 [00:07<00:00, 37.23it/s]\n"
          ]
        },
        {
          "metadata": {
            "tags": null
          },
          "name": "stdout",
          "output_type": "stream",
          "text": [
            "validation loss: 0.0010265395301911565 at epoch 745\n",
            "learning_rate: 0.0003276800000000001\n"
          ]
        },
        {
          "metadata": {
            "tags": null
          },
          "name": "stderr",
          "output_type": "stream",
          "text": [
            "epoch 745: 100%|██████████| 282/282 [00:07<00:00, 36.69it/s]\n"
          ]
        },
        {
          "metadata": {
            "tags": null
          },
          "name": "stdout",
          "output_type": "stream",
          "text": [
            "validation loss: 0.0016852492772870594 at epoch 746\n",
            "learning_rate: 0.0003276800000000001\n"
          ]
        },
        {
          "metadata": {
            "tags": null
          },
          "name": "stderr",
          "output_type": "stream",
          "text": [
            "epoch 746: 100%|██████████| 282/282 [00:08<00:00, 33.95it/s]\n"
          ]
        },
        {
          "metadata": {
            "tags": null
          },
          "name": "stdout",
          "output_type": "stream",
          "text": [
            "validation loss: 0.0010332396336727673 at epoch 747\n",
            "learning_rate: 0.0003276800000000001\n"
          ]
        },
        {
          "metadata": {
            "tags": null
          },
          "name": "stderr",
          "output_type": "stream",
          "text": [
            "epoch 747: 100%|██████████| 282/282 [00:07<00:00, 37.23it/s]\n"
          ]
        },
        {
          "metadata": {
            "tags": null
          },
          "name": "stdout",
          "output_type": "stream",
          "text": [
            "validation loss: 0.0016642086721128887 at epoch 748\n",
            "learning_rate: 0.0003276800000000001\n"
          ]
        },
        {
          "metadata": {
            "tags": null
          },
          "name": "stderr",
          "output_type": "stream",
          "text": [
            "epoch 748: 100%|██████████| 282/282 [00:07<00:00, 35.86it/s]\n"
          ]
        },
        {
          "metadata": {
            "tags": null
          },
          "name": "stdout",
          "output_type": "stream",
          "text": [
            "validation loss: 0.0009192018633087476 at epoch 749\n",
            "learning_rate: 0.0003276800000000001\n"
          ]
        },
        {
          "metadata": {
            "tags": null
          },
          "name": "stderr",
          "output_type": "stream",
          "text": [
            "epoch 749: 100%|██████████| 282/282 [00:08<00:00, 34.50it/s]\n"
          ]
        },
        {
          "metadata": {
            "tags": null
          },
          "name": "stdout",
          "output_type": "stream",
          "text": [
            "validation loss: 0.0017168926497300465 at epoch 750\n",
            "learning_rate: 0.0003276800000000001\n"
          ]
        },
        {
          "metadata": {
            "tags": null
          },
          "name": "stderr",
          "output_type": "stream",
          "text": [
            "epoch 750: 100%|██████████| 282/282 [00:07<00:00, 37.33it/s]\n"
          ]
        },
        {
          "metadata": {
            "tags": null
          },
          "name": "stdout",
          "output_type": "stream",
          "text": [
            "validation loss: 0.001208199828863144 at epoch 751\n",
            "learning_rate: 0.0003276800000000001\n"
          ]
        },
        {
          "metadata": {
            "tags": null
          },
          "name": "stderr",
          "output_type": "stream",
          "text": [
            "epoch 751: 100%|██████████| 282/282 [00:07<00:00, 35.87it/s]\n"
          ]
        },
        {
          "metadata": {
            "tags": null
          },
          "name": "stdout",
          "output_type": "stream",
          "text": [
            "validation loss: 0.0017293478979004753 at epoch 752\n",
            "learning_rate: 0.0003276800000000001\n"
          ]
        },
        {
          "metadata": {
            "tags": null
          },
          "name": "stderr",
          "output_type": "stream",
          "text": [
            "epoch 752: 100%|██████████| 282/282 [00:08<00:00, 34.46it/s]\n"
          ]
        },
        {
          "metadata": {
            "tags": null
          },
          "name": "stdout",
          "output_type": "stream",
          "text": [
            "validation loss: 0.0008065986012419065 at epoch 753\n",
            "learning_rate: 0.0003276800000000001\n"
          ]
        },
        {
          "metadata": {
            "tags": null
          },
          "name": "stderr",
          "output_type": "stream",
          "text": [
            "epoch 753: 100%|██████████| 282/282 [00:07<00:00, 37.14it/s]\n"
          ]
        },
        {
          "metadata": {
            "tags": null
          },
          "name": "stdout",
          "output_type": "stream",
          "text": [
            "validation loss: 0.0017561805364158418 at epoch 754\n",
            "learning_rate: 0.0003276800000000001\n"
          ]
        },
        {
          "metadata": {
            "tags": null
          },
          "name": "stderr",
          "output_type": "stream",
          "text": [
            "epoch 754: 100%|██████████| 282/282 [00:07<00:00, 35.51it/s]\n"
          ]
        },
        {
          "metadata": {
            "tags": null
          },
          "name": "stdout",
          "output_type": "stream",
          "text": [
            "validation loss: 0.0011951020235816637 at epoch 755\n",
            "learning_rate: 0.0003276800000000001\n"
          ]
        },
        {
          "metadata": {
            "tags": null
          },
          "name": "stderr",
          "output_type": "stream",
          "text": [
            "epoch 755: 100%|██████████| 282/282 [00:08<00:00, 34.93it/s]\n"
          ]
        },
        {
          "metadata": {
            "tags": null
          },
          "name": "stdout",
          "output_type": "stream",
          "text": [
            "validation loss: 0.0010439374711778428 at epoch 756\n",
            "learning_rate: 0.0003276800000000001\n"
          ]
        },
        {
          "metadata": {
            "tags": null
          },
          "name": "stderr",
          "output_type": "stream",
          "text": [
            "epoch 756: 100%|██████████| 282/282 [00:07<00:00, 36.87it/s]\n"
          ]
        },
        {
          "metadata": {
            "tags": null
          },
          "name": "stdout",
          "output_type": "stream",
          "text": [
            "validation loss: 0.0010811995019515356 at epoch 757\n",
            "learning_rate: 0.0003276800000000001\n"
          ]
        },
        {
          "metadata": {
            "tags": null
          },
          "name": "stderr",
          "output_type": "stream",
          "text": [
            "epoch 757: 100%|██████████| 282/282 [00:07<00:00, 36.72it/s]\n"
          ]
        },
        {
          "metadata": {
            "tags": null
          },
          "name": "stdout",
          "output_type": "stream",
          "text": [
            "validation loss: 0.0007911005421645112 at epoch 758\n",
            "learning_rate: 0.0003276800000000001\n"
          ]
        },
        {
          "metadata": {
            "tags": null
          },
          "name": "stderr",
          "output_type": "stream",
          "text": [
            "epoch 758: 100%|██████████| 282/282 [00:08<00:00, 34.06it/s]\n"
          ]
        },
        {
          "metadata": {
            "tags": null
          },
          "name": "stdout",
          "output_type": "stream",
          "text": [
            "validation loss: 0.0014052202925086022 at epoch 759\n",
            "learning_rate: 0.0003276800000000001\n"
          ]
        },
        {
          "metadata": {
            "tags": null
          },
          "name": "stderr",
          "output_type": "stream",
          "text": [
            "epoch 759: 100%|██████████| 282/282 [00:08<00:00, 35.08it/s]\n"
          ]
        },
        {
          "metadata": {
            "tags": null
          },
          "name": "stdout",
          "output_type": "stream",
          "text": [
            "validation loss: 0.0004589515816834238 at epoch 760\n",
            "learning_rate: 0.0003276800000000001\n"
          ]
        },
        {
          "metadata": {
            "tags": null
          },
          "name": "stderr",
          "output_type": "stream",
          "text": [
            "epoch 760: 100%|██████████| 282/282 [00:07<00:00, 37.46it/s]\n"
          ]
        },
        {
          "metadata": {
            "tags": null
          },
          "name": "stdout",
          "output_type": "stream",
          "text": [
            "validation loss: 0.001235044630865256 at epoch 761\n",
            "learning_rate: 0.0003276800000000001\n"
          ]
        },
        {
          "metadata": {
            "tags": null
          },
          "name": "stderr",
          "output_type": "stream",
          "text": [
            "epoch 761: 100%|██████████| 282/282 [00:08<00:00, 34.01it/s]\n"
          ]
        },
        {
          "metadata": {
            "tags": null
          },
          "name": "stdout",
          "output_type": "stream",
          "text": [
            "validation loss: 0.0011431802436709403 at epoch 762\n",
            "learning_rate: 0.0003276800000000001\n"
          ]
        },
        {
          "metadata": {
            "tags": null
          },
          "name": "stderr",
          "output_type": "stream",
          "text": [
            "epoch 762: 100%|██████████| 282/282 [00:08<00:00, 34.39it/s]\n"
          ]
        },
        {
          "metadata": {
            "tags": null
          },
          "name": "stdout",
          "output_type": "stream",
          "text": [
            "validation loss: 0.0008134657090736761 at epoch 763\n",
            "learning_rate: 0.0003276800000000001\n"
          ]
        },
        {
          "metadata": {
            "tags": null
          },
          "name": "stderr",
          "output_type": "stream",
          "text": [
            "epoch 763: 100%|██████████| 282/282 [00:07<00:00, 37.16it/s]\n"
          ]
        },
        {
          "metadata": {
            "tags": null
          },
          "name": "stdout",
          "output_type": "stream",
          "text": [
            "validation loss: 0.0003849854829410712 at epoch 764\n",
            "learning_rate: 0.0003276800000000001\n"
          ]
        },
        {
          "metadata": {
            "tags": null
          },
          "name": "stderr",
          "output_type": "stream",
          "text": [
            "epoch 764: 100%|██████████| 282/282 [00:08<00:00, 33.33it/s]\n"
          ]
        },
        {
          "metadata": {
            "tags": null
          },
          "name": "stdout",
          "output_type": "stream",
          "text": [
            "validation loss: 0.0013444620826178126 at epoch 765\n",
            "learning_rate: 0.0003276800000000001\n"
          ]
        },
        {
          "metadata": {
            "tags": null
          },
          "name": "stderr",
          "output_type": "stream",
          "text": [
            "epoch 765: 100%|██████████| 282/282 [00:08<00:00, 33.95it/s]\n"
          ]
        },
        {
          "metadata": {
            "tags": null
          },
          "name": "stdout",
          "output_type": "stream",
          "text": [
            "validation loss: 0.001273734573688772 at epoch 766\n",
            "learning_rate: 0.0003276800000000001\n"
          ]
        },
        {
          "metadata": {
            "tags": null
          },
          "name": "stderr",
          "output_type": "stream",
          "text": [
            "epoch 766: 100%|██████████| 282/282 [00:07<00:00, 37.24it/s]\n"
          ]
        },
        {
          "metadata": {
            "tags": null
          },
          "name": "stdout",
          "output_type": "stream",
          "text": [
            "validation loss: 0.0010354091475407283 at epoch 767\n",
            "learning_rate: 0.0003276800000000001\n"
          ]
        },
        {
          "metadata": {
            "tags": null
          },
          "name": "stderr",
          "output_type": "stream",
          "text": [
            "epoch 767: 100%|██████████| 282/282 [00:08<00:00, 33.35it/s]\n"
          ]
        },
        {
          "metadata": {
            "tags": null
          },
          "name": "stdout",
          "output_type": "stream",
          "text": [
            "validation loss: 0.001196321858300103 at epoch 768\n",
            "learning_rate: 0.0003276800000000001\n"
          ]
        },
        {
          "metadata": {
            "tags": null
          },
          "name": "stderr",
          "output_type": "stream",
          "text": [
            "epoch 768: 100%|██████████| 282/282 [00:08<00:00, 33.71it/s]\n"
          ]
        },
        {
          "metadata": {
            "tags": null
          },
          "name": "stdout",
          "output_type": "stream",
          "text": [
            "validation loss: 0.0017793417490190929 at epoch 769\n",
            "learning_rate: 0.0003276800000000001\n"
          ]
        },
        {
          "metadata": {
            "tags": null
          },
          "name": "stderr",
          "output_type": "stream",
          "text": [
            "epoch 769: 100%|██████████| 282/282 [00:07<00:00, 37.22it/s]\n"
          ]
        },
        {
          "metadata": {
            "tags": null
          },
          "name": "stdout",
          "output_type": "stream",
          "text": [
            "validation loss: 0.0011762288941277398 at epoch 770\n",
            "learning_rate: 0.0003276800000000001\n"
          ]
        },
        {
          "metadata": {
            "tags": null
          },
          "name": "stderr",
          "output_type": "stream",
          "text": [
            "epoch 770: 100%|██████████| 282/282 [00:08<00:00, 33.55it/s]\n"
          ]
        },
        {
          "metadata": {
            "tags": null
          },
          "name": "stdout",
          "output_type": "stream",
          "text": [
            "validation loss: 0.0018533806734614903 at epoch 771\n",
            "learning_rate: 0.0003276800000000001\n"
          ]
        },
        {
          "metadata": {
            "tags": null
          },
          "name": "stderr",
          "output_type": "stream",
          "text": [
            "epoch 771: 100%|██████████| 282/282 [00:08<00:00, 34.25it/s]\n"
          ]
        },
        {
          "metadata": {
            "tags": null
          },
          "name": "stdout",
          "output_type": "stream",
          "text": [
            "validation loss: 0.001231687536670102 at epoch 772\n",
            "learning_rate: 0.0003276800000000001\n"
          ]
        },
        {
          "metadata": {
            "tags": null
          },
          "name": "stderr",
          "output_type": "stream",
          "text": [
            "epoch 772: 100%|██████████| 282/282 [00:07<00:00, 37.98it/s]\n"
          ]
        },
        {
          "metadata": {
            "tags": null
          },
          "name": "stdout",
          "output_type": "stream",
          "text": [
            "validation loss: 0.0017179273714621863 at epoch 773\n",
            "learning_rate: 0.0003276800000000001\n"
          ]
        },
        {
          "metadata": {
            "tags": null
          },
          "name": "stderr",
          "output_type": "stream",
          "text": [
            "epoch 773: 100%|██████████| 282/282 [00:08<00:00, 33.52it/s]\n"
          ]
        },
        {
          "metadata": {
            "tags": null
          },
          "name": "stdout",
          "output_type": "stream",
          "text": [
            "validation loss: 0.0012221117201778623 at epoch 774\n",
            "learning_rate: 0.0003276800000000001\n"
          ]
        },
        {
          "metadata": {
            "tags": null
          },
          "name": "stderr",
          "output_type": "stream",
          "text": [
            "epoch 774: 100%|██████████| 282/282 [00:08<00:00, 32.94it/s]\n"
          ]
        },
        {
          "metadata": {
            "tags": null
          },
          "name": "stdout",
          "output_type": "stream",
          "text": [
            "validation loss: 0.0017106557711958886 at epoch 775\n",
            "learning_rate: 0.0003276800000000001\n"
          ]
        },
        {
          "metadata": {
            "tags": null
          },
          "name": "stderr",
          "output_type": "stream",
          "text": [
            "epoch 775: 100%|██████████| 282/282 [00:07<00:00, 36.01it/s]\n"
          ]
        },
        {
          "metadata": {
            "tags": null
          },
          "name": "stdout",
          "output_type": "stream",
          "text": [
            "validation loss: 0.0011593519474069277 at epoch 776\n",
            "learning_rate: 0.0003276800000000001\n"
          ]
        },
        {
          "metadata": {
            "tags": null
          },
          "name": "stderr",
          "output_type": "stream",
          "text": [
            "epoch 776: 100%|██████████| 282/282 [00:08<00:00, 34.54it/s]\n"
          ]
        },
        {
          "metadata": {
            "tags": null
          },
          "name": "stdout",
          "output_type": "stream",
          "text": [
            "validation loss: 0.001775908887386322 at epoch 777\n",
            "learning_rate: 0.0003276800000000001\n"
          ]
        },
        {
          "metadata": {
            "tags": null
          },
          "name": "stderr",
          "output_type": "stream",
          "text": [
            "epoch 777: 100%|██████████| 282/282 [00:08<00:00, 33.68it/s]\n"
          ]
        },
        {
          "metadata": {
            "tags": null
          },
          "name": "stdout",
          "output_type": "stream",
          "text": [
            "validation loss: 0.001049767255783081 at epoch 778\n",
            "learning_rate: 0.0003276800000000001\n"
          ]
        },
        {
          "metadata": {
            "tags": null
          },
          "name": "stderr",
          "output_type": "stream",
          "text": [
            "epoch 778: 100%|██████████| 282/282 [00:07<00:00, 36.30it/s]\n"
          ]
        },
        {
          "metadata": {
            "tags": null
          },
          "name": "stdout",
          "output_type": "stream",
          "text": [
            "validation loss: 0.0013372267136971157 at epoch 779\n",
            "learning_rate: 0.0003276800000000001\n"
          ]
        },
        {
          "metadata": {
            "tags": null
          },
          "name": "stderr",
          "output_type": "stream",
          "text": [
            "epoch 779: 100%|██████████| 282/282 [00:07<00:00, 35.49it/s]\n"
          ]
        },
        {
          "metadata": {
            "tags": null
          },
          "name": "stdout",
          "output_type": "stream",
          "text": [
            "validation loss: 0.0007970006900529067 at epoch 780\n",
            "learning_rate: 0.0003276800000000001\n"
          ]
        },
        {
          "metadata": {
            "tags": null
          },
          "name": "stderr",
          "output_type": "stream",
          "text": [
            "epoch 780: 100%|██████████| 282/282 [00:08<00:00, 33.35it/s]\n"
          ]
        },
        {
          "metadata": {
            "tags": null
          },
          "name": "stdout",
          "output_type": "stream",
          "text": [
            "validation loss: 0.00030676561200784313 at epoch 781\n",
            "learning_rate: 0.0002621440000000001\n",
            "model saved in ani_acrolein.pt\n"
          ]
        },
        {
          "metadata": {
            "tags": null
          },
          "name": "stderr",
          "output_type": "stream",
          "text": [
            "epoch 781: 100%|██████████| 282/282 [00:07<00:00, 35.34it/s]\n"
          ]
        },
        {
          "metadata": {
            "tags": null
          },
          "name": "stdout",
          "output_type": "stream",
          "text": [
            "validation loss: 0.0005252099310358365 at epoch 782\n",
            "learning_rate: 0.0002621440000000001\n"
          ]
        },
        {
          "metadata": {
            "tags": null
          },
          "name": "stderr",
          "output_type": "stream",
          "text": [
            "epoch 782: 100%|██████████| 282/282 [00:08<00:00, 35.06it/s]\n"
          ]
        },
        {
          "metadata": {
            "tags": null
          },
          "name": "stdout",
          "output_type": "stream",
          "text": [
            "validation loss: 0.0003714887961331341 at epoch 783\n",
            "learning_rate: 0.0002621440000000001\n"
          ]
        },
        {
          "metadata": {
            "tags": null
          },
          "name": "stderr",
          "output_type": "stream",
          "text": [
            "epoch 783: 100%|██████████| 282/282 [00:08<00:00, 32.38it/s]\n"
          ]
        },
        {
          "metadata": {
            "tags": null
          },
          "name": "stdout",
          "output_type": "stream",
          "text": [
            "validation loss: 0.0009921038581265343 at epoch 784\n",
            "learning_rate: 0.0002621440000000001\n"
          ]
        },
        {
          "metadata": {
            "tags": null
          },
          "name": "stderr",
          "output_type": "stream",
          "text": [
            "epoch 784: 100%|██████████| 282/282 [00:08<00:00, 34.20it/s]\n"
          ]
        },
        {
          "metadata": {
            "tags": null
          },
          "name": "stdout",
          "output_type": "stream",
          "text": [
            "validation loss: 0.0006894552318586244 at epoch 785\n",
            "learning_rate: 0.0002621440000000001\n"
          ]
        },
        {
          "metadata": {
            "tags": null
          },
          "name": "stderr",
          "output_type": "stream",
          "text": [
            "epoch 785: 100%|██████████| 282/282 [00:07<00:00, 37.44it/s]\n"
          ]
        },
        {
          "metadata": {
            "tags": null
          },
          "name": "stdout",
          "output_type": "stream",
          "text": [
            "validation loss: 0.001274726453754637 at epoch 786\n",
            "learning_rate: 0.0002621440000000001\n"
          ]
        },
        {
          "metadata": {
            "tags": null
          },
          "name": "stderr",
          "output_type": "stream",
          "text": [
            "epoch 786: 100%|██████████| 282/282 [00:08<00:00, 33.69it/s]\n"
          ]
        },
        {
          "metadata": {
            "tags": null
          },
          "name": "stdout",
          "output_type": "stream",
          "text": [
            "validation loss: 0.0006355845754345258 at epoch 787\n",
            "learning_rate: 0.0002621440000000001\n"
          ]
        },
        {
          "metadata": {
            "tags": null
          },
          "name": "stderr",
          "output_type": "stream",
          "text": [
            "epoch 787: 100%|██████████| 282/282 [00:08<00:00, 33.98it/s]\n"
          ]
        },
        {
          "metadata": {
            "tags": null
          },
          "name": "stdout",
          "output_type": "stream",
          "text": [
            "validation loss: 0.0012483071891797913 at epoch 788\n",
            "learning_rate: 0.0002621440000000001\n"
          ]
        },
        {
          "metadata": {
            "tags": null
          },
          "name": "stderr",
          "output_type": "stream",
          "text": [
            "epoch 788: 100%|██████████| 282/282 [00:07<00:00, 37.18it/s]\n"
          ]
        },
        {
          "metadata": {
            "tags": null
          },
          "name": "stdout",
          "output_type": "stream",
          "text": [
            "validation loss: 0.0005488346550199721 at epoch 789\n",
            "learning_rate: 0.0002621440000000001\n"
          ]
        },
        {
          "metadata": {
            "tags": null
          },
          "name": "stderr",
          "output_type": "stream",
          "text": [
            "epoch 789: 100%|██████████| 282/282 [00:08<00:00, 33.52it/s]\n"
          ]
        },
        {
          "metadata": {
            "tags": null
          },
          "name": "stdout",
          "output_type": "stream",
          "text": [
            "validation loss: 0.0012164768212371403 at epoch 790\n",
            "learning_rate: 0.0002621440000000001\n"
          ]
        },
        {
          "metadata": {
            "tags": null
          },
          "name": "stderr",
          "output_type": "stream",
          "text": [
            "epoch 790: 100%|██████████| 282/282 [00:08<00:00, 33.59it/s]\n"
          ]
        },
        {
          "metadata": {
            "tags": null
          },
          "name": "stdout",
          "output_type": "stream",
          "text": [
            "validation loss: 0.0003865766560451852 at epoch 791\n",
            "learning_rate: 0.0002621440000000001\n"
          ]
        },
        {
          "metadata": {
            "tags": null
          },
          "name": "stderr",
          "output_type": "stream",
          "text": [
            "epoch 791: 100%|██████████| 282/282 [00:07<00:00, 37.38it/s]\n"
          ]
        },
        {
          "metadata": {
            "tags": null
          },
          "name": "stdout",
          "output_type": "stream",
          "text": [
            "validation loss: 0.001254613324171967 at epoch 792\n",
            "learning_rate: 0.0002621440000000001\n"
          ]
        },
        {
          "metadata": {
            "tags": null
          },
          "name": "stderr",
          "output_type": "stream",
          "text": [
            "epoch 792: 100%|██████████| 282/282 [00:08<00:00, 34.07it/s]\n"
          ]
        },
        {
          "metadata": {
            "tags": null
          },
          "name": "stdout",
          "output_type": "stream",
          "text": [
            "validation loss: 0.00037717569929858046 at epoch 793\n",
            "learning_rate: 0.0002621440000000001\n"
          ]
        },
        {
          "metadata": {
            "tags": null
          },
          "name": "stderr",
          "output_type": "stream",
          "text": [
            "epoch 793: 100%|██████████| 282/282 [00:08<00:00, 34.05it/s]\n"
          ]
        },
        {
          "metadata": {
            "tags": null
          },
          "name": "stdout",
          "output_type": "stream",
          "text": [
            "validation loss: 0.001251337396601836 at epoch 794\n",
            "learning_rate: 0.0002621440000000001\n"
          ]
        },
        {
          "metadata": {
            "tags": null
          },
          "name": "stderr",
          "output_type": "stream",
          "text": [
            "epoch 794: 100%|██████████| 282/282 [00:07<00:00, 37.72it/s]\n"
          ]
        },
        {
          "metadata": {
            "tags": null
          },
          "name": "stdout",
          "output_type": "stream",
          "text": [
            "validation loss: 0.00045925300382077694 at epoch 795\n",
            "learning_rate: 0.0002621440000000001\n"
          ]
        },
        {
          "metadata": {
            "tags": null
          },
          "name": "stderr",
          "output_type": "stream",
          "text": [
            "epoch 795: 100%|██████████| 282/282 [00:08<00:00, 34.97it/s]\n"
          ]
        },
        {
          "metadata": {
            "tags": null
          },
          "name": "stdout",
          "output_type": "stream",
          "text": [
            "validation loss: 0.001308008430732621 at epoch 796\n",
            "learning_rate: 0.0002621440000000001\n"
          ]
        },
        {
          "metadata": {
            "tags": null
          },
          "name": "stderr",
          "output_type": "stream",
          "text": [
            "epoch 796: 100%|██████████| 282/282 [00:08<00:00, 33.87it/s]\n"
          ]
        },
        {
          "metadata": {
            "tags": null
          },
          "name": "stdout",
          "output_type": "stream",
          "text": [
            "validation loss: 0.0006384515903062291 at epoch 797\n",
            "learning_rate: 0.0002621440000000001\n"
          ]
        },
        {
          "metadata": {
            "tags": null
          },
          "name": "stderr",
          "output_type": "stream",
          "text": [
            "epoch 797: 100%|██████████| 282/282 [00:07<00:00, 38.09it/s]\n"
          ]
        },
        {
          "metadata": {
            "tags": null
          },
          "name": "stdout",
          "output_type": "stream",
          "text": [
            "validation loss: 0.0012570972335007456 at epoch 798\n",
            "learning_rate: 0.0002621440000000001\n"
          ]
        },
        {
          "metadata": {
            "tags": null
          },
          "name": "stderr",
          "output_type": "stream",
          "text": [
            "epoch 798: 100%|██████████| 282/282 [00:08<00:00, 34.60it/s]\n"
          ]
        },
        {
          "metadata": {
            "tags": null
          },
          "name": "stdout",
          "output_type": "stream",
          "text": [
            "validation loss: 0.0008717516358527872 at epoch 799\n",
            "learning_rate: 0.0002621440000000001\n"
          ]
        },
        {
          "output_type": "stream",
          "name": "stderr",
          "text": [
            "epoch 799: 100%|██████████| 282/282 [00:08<00:00, 33.78it/s]\n"
          ]
        },
        {
          "output_type": "stream",
          "name": "stdout",
          "text": [
            "validation loss: 0.0010469605103135108 at epoch 800\n",
            "learning_rate: 0.0002621440000000001\n"
          ]
        },
        {
          "output_type": "stream",
          "name": "stderr",
          "text": [
            "epoch 800: 100%|██████████| 282/282 [00:07<00:00, 36.40it/s]\n"
          ]
        },
        {
          "output_type": "stream",
          "name": "stdout",
          "text": [
            "validation loss: 0.0011610874980688096 at epoch 801\n",
            "learning_rate: 0.0002621440000000001\n"
          ]
        },
        {
          "output_type": "stream",
          "name": "stderr",
          "text": [
            "epoch 801: 100%|██████████| 282/282 [00:08<00:00, 35.00it/s]\n"
          ]
        },
        {
          "output_type": "stream",
          "name": "stdout",
          "text": [
            "validation loss: 0.0006194896387557189 at epoch 802\n",
            "learning_rate: 0.0002621440000000001\n"
          ]
        },
        {
          "output_type": "stream",
          "name": "stderr",
          "text": [
            "epoch 802: 100%|██████████| 282/282 [00:08<00:00, 32.78it/s]\n"
          ]
        },
        {
          "output_type": "stream",
          "name": "stdout",
          "text": [
            "validation loss: 0.0006264689486059877 at epoch 803\n",
            "learning_rate: 0.0002621440000000001\n"
          ]
        },
        {
          "output_type": "stream",
          "name": "stderr",
          "text": [
            "epoch 803: 100%|██████████| 282/282 [00:08<00:00, 32.87it/s]\n"
          ]
        },
        {
          "output_type": "stream",
          "name": "stdout",
          "text": [
            "validation loss: 0.0006965437415573332 at epoch 804\n",
            "learning_rate: 0.0002621440000000001\n"
          ]
        },
        {
          "output_type": "stream",
          "name": "stderr",
          "text": [
            "epoch 804: 100%|██████████| 282/282 [00:07<00:00, 35.48it/s]\n"
          ]
        },
        {
          "output_type": "stream",
          "name": "stdout",
          "text": [
            "validation loss: 0.0008148243899146715 at epoch 805\n",
            "learning_rate: 0.0002621440000000001\n"
          ]
        },
        {
          "output_type": "stream",
          "name": "stderr",
          "text": [
            "epoch 805: 100%|██████████| 282/282 [00:08<00:00, 31.85it/s]\n"
          ]
        },
        {
          "output_type": "stream",
          "name": "stdout",
          "text": [
            "validation loss: 0.0009040615964266989 at epoch 806\n",
            "learning_rate: 0.0002621440000000001\n"
          ]
        },
        {
          "output_type": "stream",
          "name": "stderr",
          "text": [
            "epoch 806: 100%|██████████| 282/282 [00:08<00:00, 31.72it/s]\n"
          ]
        },
        {
          "output_type": "stream",
          "name": "stdout",
          "text": [
            "validation loss: 0.0008009310310913457 at epoch 807\n",
            "learning_rate: 0.0002621440000000001\n"
          ]
        },
        {
          "output_type": "stream",
          "name": "stderr",
          "text": [
            "epoch 807: 100%|██████████| 282/282 [00:08<00:00, 33.97it/s]\n"
          ]
        },
        {
          "output_type": "stream",
          "name": "stdout",
          "text": [
            "validation loss: 0.00029354096638659635 at epoch 808\n",
            "learning_rate: 0.0002621440000000001\n",
            "model saved in ani_acrolein.pt\n"
          ]
        },
        {
          "output_type": "stream",
          "name": "stderr",
          "text": [
            "epoch 808: 100%|██████████| 282/282 [00:08<00:00, 33.70it/s]\n"
          ]
        },
        {
          "output_type": "stream",
          "name": "stdout",
          "text": [
            "validation loss: 0.0013065774722231759 at epoch 809\n",
            "learning_rate: 0.0002621440000000001\n"
          ]
        },
        {
          "output_type": "stream",
          "name": "stderr",
          "text": [
            "epoch 809: 100%|██████████| 282/282 [00:08<00:00, 32.22it/s]\n"
          ]
        },
        {
          "output_type": "stream",
          "name": "stdout",
          "text": [
            "validation loss: 0.0006077195550832483 at epoch 810\n",
            "learning_rate: 0.0002621440000000001\n"
          ]
        },
        {
          "output_type": "stream",
          "name": "stderr",
          "text": [
            "epoch 810: 100%|██████████| 282/282 [00:08<00:00, 32.94it/s]\n"
          ]
        },
        {
          "output_type": "stream",
          "name": "stdout",
          "text": [
            "validation loss: 0.0012481202938490444 at epoch 811\n",
            "learning_rate: 0.0002621440000000001\n"
          ]
        },
        {
          "output_type": "stream",
          "name": "stderr",
          "text": [
            "epoch 811: 100%|██████████| 282/282 [00:07<00:00, 35.82it/s]\n"
          ]
        },
        {
          "output_type": "stream",
          "name": "stdout",
          "text": [
            "validation loss: 0.00039976820391085413 at epoch 812\n",
            "learning_rate: 0.0002621440000000001\n"
          ]
        },
        {
          "output_type": "stream",
          "name": "stderr",
          "text": [
            "epoch 812: 100%|██████████| 282/282 [00:08<00:00, 32.19it/s]\n"
          ]
        },
        {
          "output_type": "stream",
          "name": "stdout",
          "text": [
            "validation loss: 0.0012664000110493767 at epoch 813\n",
            "learning_rate: 0.0002621440000000001\n"
          ]
        },
        {
          "output_type": "stream",
          "name": "stderr",
          "text": [
            "epoch 813: 100%|██████████| 282/282 [00:08<00:00, 32.45it/s]\n"
          ]
        },
        {
          "output_type": "stream",
          "name": "stdout",
          "text": [
            "validation loss: 0.0003680898153947459 at epoch 814\n",
            "learning_rate: 0.0002621440000000001\n"
          ]
        },
        {
          "output_type": "stream",
          "name": "stderr",
          "text": [
            "epoch 814: 100%|██████████| 282/282 [00:07<00:00, 35.79it/s]\n"
          ]
        },
        {
          "output_type": "stream",
          "name": "stdout",
          "text": [
            "validation loss: 0.0012412445776992375 at epoch 815\n",
            "learning_rate: 0.0002621440000000001\n"
          ]
        },
        {
          "output_type": "stream",
          "name": "stderr",
          "text": [
            "epoch 815: 100%|██████████| 282/282 [00:08<00:00, 32.16it/s]\n"
          ]
        },
        {
          "output_type": "stream",
          "name": "stdout",
          "text": [
            "validation loss: 0.0003722530518554979 at epoch 816\n",
            "learning_rate: 0.0002621440000000001\n"
          ]
        },
        {
          "output_type": "stream",
          "name": "stderr",
          "text": [
            "epoch 816: 100%|██████████| 282/282 [00:08<00:00, 31.96it/s]\n"
          ]
        },
        {
          "output_type": "stream",
          "name": "stdout",
          "text": [
            "validation loss: 0.0012998909569448896 at epoch 817\n",
            "learning_rate: 0.0002621440000000001\n"
          ]
        },
        {
          "output_type": "stream",
          "name": "stderr",
          "text": [
            "epoch 817: 100%|██████████| 282/282 [00:08<00:00, 34.62it/s]\n"
          ]
        },
        {
          "output_type": "stream",
          "name": "stdout",
          "text": [
            "validation loss: 0.0003717984300520685 at epoch 818\n",
            "learning_rate: 0.0002621440000000001\n"
          ]
        },
        {
          "output_type": "stream",
          "name": "stderr",
          "text": [
            "epoch 818: 100%|██████████| 282/282 [00:08<00:00, 33.72it/s]\n"
          ]
        },
        {
          "output_type": "stream",
          "name": "stdout",
          "text": [
            "validation loss: 0.0012696420467562146 at epoch 819\n",
            "learning_rate: 0.0002621440000000001\n"
          ]
        },
        {
          "output_type": "stream",
          "name": "stderr",
          "text": [
            "epoch 819: 100%|██████████| 282/282 [00:08<00:00, 32.01it/s]\n"
          ]
        },
        {
          "output_type": "stream",
          "name": "stdout",
          "text": [
            "validation loss: 0.00040520522619287173 at epoch 820\n",
            "learning_rate: 0.0002621440000000001\n"
          ]
        },
        {
          "output_type": "stream",
          "name": "stderr",
          "text": [
            "epoch 820: 100%|██████████| 282/282 [00:08<00:00, 32.41it/s]\n"
          ]
        },
        {
          "output_type": "stream",
          "name": "stdout",
          "text": [
            "validation loss: 0.0012618558754523596 at epoch 821\n",
            "learning_rate: 0.0002621440000000001\n"
          ]
        },
        {
          "output_type": "stream",
          "name": "stderr",
          "text": [
            "epoch 821: 100%|██████████| 282/282 [00:07<00:00, 35.54it/s]\n"
          ]
        },
        {
          "output_type": "stream",
          "name": "stdout",
          "text": [
            "validation loss: 0.0004415562411563264 at epoch 822\n",
            "learning_rate: 0.0002621440000000001\n"
          ]
        },
        {
          "output_type": "stream",
          "name": "stderr",
          "text": [
            "epoch 822: 100%|██████████| 282/282 [00:08<00:00, 31.86it/s]\n"
          ]
        },
        {
          "output_type": "stream",
          "name": "stdout",
          "text": [
            "validation loss: 0.0011371299682392014 at epoch 823\n",
            "learning_rate: 0.0002621440000000001\n"
          ]
        },
        {
          "output_type": "stream",
          "name": "stderr",
          "text": [
            "epoch 823: 100%|██████████| 282/282 [00:08<00:00, 32.28it/s]\n"
          ]
        },
        {
          "output_type": "stream",
          "name": "stdout",
          "text": [
            "validation loss: 0.000701874682886733 at epoch 824\n",
            "learning_rate: 0.0002621440000000001\n"
          ]
        },
        {
          "output_type": "stream",
          "name": "stderr",
          "text": [
            "epoch 824: 100%|██████████| 282/282 [00:07<00:00, 35.60it/s]\n"
          ]
        },
        {
          "output_type": "stream",
          "name": "stdout",
          "text": [
            "validation loss: 0.00046151737910177975 at epoch 825\n",
            "learning_rate: 0.0002621440000000001\n"
          ]
        },
        {
          "output_type": "stream",
          "name": "stderr",
          "text": [
            "epoch 825: 100%|██████████| 282/282 [00:08<00:00, 33.42it/s]\n"
          ]
        },
        {
          "output_type": "stream",
          "name": "stdout",
          "text": [
            "validation loss: 0.0006614505714840359 at epoch 826\n",
            "learning_rate: 0.0002621440000000001\n"
          ]
        },
        {
          "output_type": "stream",
          "name": "stderr",
          "text": [
            "epoch 826: 100%|██████████| 282/282 [00:08<00:00, 32.39it/s]\n"
          ]
        },
        {
          "output_type": "stream",
          "name": "stdout",
          "text": [
            "validation loss: 0.0004824937404029899 at epoch 827\n",
            "learning_rate: 0.0002621440000000001\n"
          ]
        },
        {
          "output_type": "stream",
          "name": "stderr",
          "text": [
            "epoch 827: 100%|██████████| 282/282 [00:08<00:00, 33.55it/s]\n"
          ]
        },
        {
          "output_type": "stream",
          "name": "stdout",
          "text": [
            "validation loss: 0.0007798941756288211 at epoch 828\n",
            "learning_rate: 0.0002621440000000001\n"
          ]
        },
        {
          "output_type": "stream",
          "name": "stderr",
          "text": [
            "epoch 828: 100%|██████████| 282/282 [00:07<00:00, 35.86it/s]\n"
          ]
        },
        {
          "output_type": "stream",
          "name": "stdout",
          "text": [
            "validation loss: 0.00038645990213586224 at epoch 829\n",
            "learning_rate: 0.0002621440000000001\n"
          ]
        },
        {
          "output_type": "stream",
          "name": "stderr",
          "text": [
            "epoch 829: 100%|██████████| 282/282 [00:08<00:00, 32.40it/s]\n"
          ]
        },
        {
          "output_type": "stream",
          "name": "stdout",
          "text": [
            "validation loss: 0.0005553479592005411 at epoch 830\n",
            "learning_rate: 0.0002621440000000001\n"
          ]
        },
        {
          "output_type": "stream",
          "name": "stderr",
          "text": [
            "epoch 830: 100%|██████████| 282/282 [00:08<00:00, 33.21it/s]\n"
          ]
        },
        {
          "output_type": "stream",
          "name": "stdout",
          "text": [
            "validation loss: 0.000861174785428577 at epoch 831\n",
            "learning_rate: 0.0002621440000000001\n"
          ]
        },
        {
          "output_type": "stream",
          "name": "stderr",
          "text": [
            "epoch 831: 100%|██████████| 282/282 [00:07<00:00, 36.66it/s]\n"
          ]
        },
        {
          "output_type": "stream",
          "name": "stdout",
          "text": [
            "validation loss: 0.0013305823082725207 at epoch 832\n",
            "learning_rate: 0.0002621440000000001\n"
          ]
        },
        {
          "output_type": "stream",
          "name": "stderr",
          "text": [
            "epoch 832: 100%|██████████| 282/282 [00:08<00:00, 32.94it/s]\n"
          ]
        },
        {
          "output_type": "stream",
          "name": "stdout",
          "text": [
            "validation loss: 0.001089306299885114 at epoch 833\n",
            "learning_rate: 0.0002621440000000001\n"
          ]
        },
        {
          "output_type": "stream",
          "name": "stderr",
          "text": [
            "epoch 833: 100%|██████████| 282/282 [00:08<00:00, 32.74it/s]\n"
          ]
        },
        {
          "output_type": "stream",
          "name": "stdout",
          "text": [
            "validation loss: 0.001235795853038629 at epoch 834\n",
            "learning_rate: 0.0002621440000000001\n"
          ]
        },
        {
          "output_type": "stream",
          "name": "stderr",
          "text": [
            "epoch 834: 100%|██████████| 282/282 [00:07<00:00, 36.73it/s]\n"
          ]
        },
        {
          "output_type": "stream",
          "name": "stdout",
          "text": [
            "validation loss: 0.0009491626148422559 at epoch 835\n",
            "learning_rate: 0.0002621440000000001\n"
          ]
        },
        {
          "output_type": "stream",
          "name": "stderr",
          "text": [
            "epoch 835: 100%|██████████| 282/282 [00:08<00:00, 33.29it/s]\n"
          ]
        },
        {
          "output_type": "stream",
          "name": "stdout",
          "text": [
            "validation loss: 0.0012631892595026228 at epoch 836\n",
            "learning_rate: 0.0002621440000000001\n"
          ]
        },
        {
          "output_type": "stream",
          "name": "stderr",
          "text": [
            "epoch 836: 100%|██████████| 282/282 [00:08<00:00, 32.78it/s]\n"
          ]
        },
        {
          "output_type": "stream",
          "name": "stdout",
          "text": [
            "validation loss: 0.0007663519548045264 at epoch 837\n",
            "learning_rate: 0.0002621440000000001\n"
          ]
        },
        {
          "output_type": "stream",
          "name": "stderr",
          "text": [
            "epoch 837: 100%|██████████| 282/282 [00:08<00:00, 35.22it/s]\n"
          ]
        },
        {
          "output_type": "stream",
          "name": "stdout",
          "text": [
            "validation loss: 0.001305834573176172 at epoch 838\n",
            "learning_rate: 0.0002621440000000001\n"
          ]
        },
        {
          "output_type": "stream",
          "name": "stderr",
          "text": [
            "epoch 838: 100%|██████████| 282/282 [00:08<00:00, 34.01it/s]\n"
          ]
        },
        {
          "output_type": "stream",
          "name": "stdout",
          "text": [
            "validation loss: 0.0007757906681961483 at epoch 839\n",
            "learning_rate: 0.0002621440000000001\n"
          ]
        },
        {
          "output_type": "stream",
          "name": "stderr",
          "text": [
            "epoch 839: 100%|██████████| 282/282 [00:08<00:00, 32.48it/s]\n"
          ]
        },
        {
          "output_type": "stream",
          "name": "stdout",
          "text": [
            "validation loss: 0.001209876786503527 at epoch 840\n",
            "learning_rate: 0.0002621440000000001\n"
          ]
        },
        {
          "output_type": "stream",
          "name": "stderr",
          "text": [
            "epoch 840: 100%|██████████| 282/282 [00:08<00:00, 33.59it/s]\n"
          ]
        },
        {
          "output_type": "stream",
          "name": "stdout",
          "text": [
            "validation loss: 0.0009915423136618402 at epoch 841\n",
            "learning_rate: 0.0002621440000000001\n"
          ]
        },
        {
          "output_type": "stream",
          "name": "stderr",
          "text": [
            "epoch 841: 100%|██████████| 282/282 [00:07<00:00, 36.13it/s]\n"
          ]
        },
        {
          "output_type": "stream",
          "name": "stdout",
          "text": [
            "validation loss: 0.0012584224310186174 at epoch 842\n",
            "learning_rate: 0.0002621440000000001\n"
          ]
        },
        {
          "output_type": "stream",
          "name": "stderr",
          "text": [
            "epoch 842: 100%|██████████| 282/282 [00:08<00:00, 32.45it/s]\n"
          ]
        },
        {
          "output_type": "stream",
          "name": "stdout",
          "text": [
            "validation loss: 0.001152689951989386 at epoch 843\n",
            "learning_rate: 0.0002621440000000001\n"
          ]
        },
        {
          "output_type": "stream",
          "name": "stderr",
          "text": [
            "epoch 843: 100%|██████████| 282/282 [00:08<00:00, 32.98it/s]\n"
          ]
        },
        {
          "output_type": "stream",
          "name": "stdout",
          "text": [
            "validation loss: 0.0006400758628216054 at epoch 844\n",
            "learning_rate: 0.0002621440000000001\n"
          ]
        },
        {
          "output_type": "stream",
          "name": "stderr",
          "text": [
            "epoch 844: 100%|██████████| 282/282 [00:07<00:00, 36.55it/s]\n"
          ]
        },
        {
          "output_type": "stream",
          "name": "stdout",
          "text": [
            "validation loss: 0.0009002225887444284 at epoch 845\n",
            "learning_rate: 0.0002621440000000001\n"
          ]
        },
        {
          "output_type": "stream",
          "name": "stderr",
          "text": [
            "epoch 845: 100%|██████████| 282/282 [00:08<00:00, 33.00it/s]\n"
          ]
        },
        {
          "output_type": "stream",
          "name": "stdout",
          "text": [
            "validation loss: 0.0005399745628237724 at epoch 846\n",
            "learning_rate: 0.0002621440000000001\n"
          ]
        },
        {
          "output_type": "stream",
          "name": "stderr",
          "text": [
            "epoch 846: 100%|██████████| 282/282 [00:08<00:00, 32.78it/s]\n"
          ]
        },
        {
          "output_type": "stream",
          "name": "stdout",
          "text": [
            "validation loss: 0.0003080647751275036 at epoch 847\n",
            "learning_rate: 0.0002621440000000001\n"
          ]
        },
        {
          "output_type": "stream",
          "name": "stderr",
          "text": [
            "epoch 847: 100%|██████████| 282/282 [00:07<00:00, 36.67it/s]\n"
          ]
        },
        {
          "output_type": "stream",
          "name": "stdout",
          "text": [
            "validation loss: 0.0010409414329462581 at epoch 848\n",
            "learning_rate: 0.0002621440000000001\n"
          ]
        },
        {
          "output_type": "stream",
          "name": "stderr",
          "text": [
            "epoch 848: 100%|██████████| 282/282 [00:08<00:00, 33.17it/s]\n"
          ]
        },
        {
          "output_type": "stream",
          "name": "stdout",
          "text": [
            "validation loss: 0.0008590093838671843 at epoch 849\n",
            "learning_rate: 0.0002621440000000001\n"
          ]
        },
        {
          "output_type": "stream",
          "name": "stderr",
          "text": [
            "epoch 849: 100%|██████████| 282/282 [00:08<00:00, 32.68it/s]\n"
          ]
        },
        {
          "output_type": "stream",
          "name": "stdout",
          "text": [
            "validation loss: 0.0005410605168177022 at epoch 850\n",
            "learning_rate: 0.0002621440000000001\n"
          ]
        },
        {
          "output_type": "stream",
          "name": "stderr",
          "text": [
            "epoch 850: 100%|██████████| 282/282 [00:07<00:00, 35.71it/s]\n"
          ]
        },
        {
          "output_type": "stream",
          "name": "stdout",
          "text": [
            "validation loss: 0.0013578677566515075 at epoch 851\n",
            "learning_rate: 0.0002621440000000001\n"
          ]
        },
        {
          "output_type": "stream",
          "name": "stderr",
          "text": [
            "epoch 851: 100%|██████████| 282/282 [00:08<00:00, 33.95it/s]\n"
          ]
        },
        {
          "output_type": "stream",
          "name": "stdout",
          "text": [
            "validation loss: 0.0008873059021102058 at epoch 852\n",
            "learning_rate: 0.0002621440000000001\n"
          ]
        },
        {
          "output_type": "stream",
          "name": "stderr",
          "text": [
            "epoch 852: 100%|██████████| 282/282 [00:08<00:00, 33.03it/s]\n"
          ]
        },
        {
          "output_type": "stream",
          "name": "stdout",
          "text": [
            "validation loss: 0.0011658510714769364 at epoch 853\n",
            "learning_rate: 0.0002621440000000001\n"
          ]
        },
        {
          "output_type": "stream",
          "name": "stderr",
          "text": [
            "epoch 853: 100%|██████████| 282/282 [00:08<00:00, 34.47it/s]\n"
          ]
        },
        {
          "output_type": "stream",
          "name": "stdout",
          "text": [
            "validation loss: 0.000547947616626819 at epoch 854\n",
            "learning_rate: 0.0002621440000000001\n"
          ]
        },
        {
          "output_type": "stream",
          "name": "stderr",
          "text": [
            "epoch 854: 100%|██████████| 282/282 [00:07<00:00, 35.92it/s]\n"
          ]
        },
        {
          "output_type": "stream",
          "name": "stdout",
          "text": [
            "validation loss: 0.0003535945752842559 at epoch 855\n",
            "learning_rate: 0.0002621440000000001\n"
          ]
        },
        {
          "output_type": "stream",
          "name": "stderr",
          "text": [
            "epoch 855: 100%|██████████| 282/282 [00:08<00:00, 32.89it/s]\n"
          ]
        },
        {
          "output_type": "stream",
          "name": "stdout",
          "text": [
            "validation loss: 0.000955228796435727 at epoch 856\n",
            "learning_rate: 0.0002621440000000001\n"
          ]
        },
        {
          "output_type": "stream",
          "name": "stderr",
          "text": [
            "epoch 856: 100%|██████████| 282/282 [00:08<00:00, 32.88it/s]\n"
          ]
        },
        {
          "output_type": "stream",
          "name": "stdout",
          "text": [
            "validation loss: 0.0008197058844897483 at epoch 857\n",
            "learning_rate: 0.0002621440000000001\n"
          ]
        },
        {
          "output_type": "stream",
          "name": "stderr",
          "text": [
            "epoch 857: 100%|██████████| 282/282 [00:07<00:00, 36.01it/s]\n"
          ]
        },
        {
          "output_type": "stream",
          "name": "stdout",
          "text": [
            "validation loss: 0.0014316782214575344 at epoch 858\n",
            "learning_rate: 0.0002621440000000001\n"
          ]
        },
        {
          "output_type": "stream",
          "name": "stderr",
          "text": [
            "epoch 858: 100%|██████████| 282/282 [00:08<00:00, 32.36it/s]\n"
          ]
        },
        {
          "output_type": "stream",
          "name": "stdout",
          "text": [
            "validation loss: 0.0006896214998430676 at epoch 859\n",
            "learning_rate: 0.0002621440000000001\n"
          ]
        },
        {
          "output_type": "stream",
          "name": "stderr",
          "text": [
            "epoch 859: 100%|██████████| 282/282 [00:08<00:00, 32.50it/s]\n"
          ]
        },
        {
          "output_type": "stream",
          "name": "stdout",
          "text": [
            "validation loss: 0.00028344214314387903 at epoch 860\n",
            "learning_rate: 0.00020971520000000012\n",
            "model saved in ani_acrolein.pt\n"
          ]
        },
        {
          "output_type": "stream",
          "name": "stderr",
          "text": [
            "epoch 860: 100%|██████████| 282/282 [00:07<00:00, 36.62it/s]\n"
          ]
        },
        {
          "output_type": "stream",
          "name": "stdout",
          "text": [
            "validation loss: 0.0004185539502650499 at epoch 861\n",
            "learning_rate: 0.00020971520000000012\n"
          ]
        },
        {
          "output_type": "stream",
          "name": "stderr",
          "text": [
            "epoch 861: 100%|██████████| 282/282 [00:08<00:00, 33.84it/s]\n"
          ]
        },
        {
          "output_type": "stream",
          "name": "stdout",
          "text": [
            "validation loss: 0.00038212973086370364 at epoch 862\n",
            "learning_rate: 0.00020971520000000012\n"
          ]
        },
        {
          "output_type": "stream",
          "name": "stderr",
          "text": [
            "epoch 862: 100%|██████████| 282/282 [00:08<00:00, 32.64it/s]\n"
          ]
        },
        {
          "output_type": "stream",
          "name": "stdout",
          "text": [
            "validation loss: 0.0005829300648636288 at epoch 863\n",
            "learning_rate: 0.00020971520000000012\n"
          ]
        },
        {
          "output_type": "stream",
          "name": "stderr",
          "text": [
            "epoch 863: 100%|██████████| 282/282 [00:07<00:00, 35.25it/s]\n"
          ]
        },
        {
          "output_type": "stream",
          "name": "stdout",
          "text": [
            "validation loss: 0.00043266608400477303 at epoch 864\n",
            "learning_rate: 0.00020971520000000012\n"
          ]
        },
        {
          "output_type": "stream",
          "name": "stderr",
          "text": [
            "epoch 864: 100%|██████████| 282/282 [00:08<00:00, 34.87it/s]\n"
          ]
        },
        {
          "output_type": "stream",
          "name": "stdout",
          "text": [
            "validation loss: 0.0006773131357298957 at epoch 865\n",
            "learning_rate: 0.00020971520000000012\n"
          ]
        },
        {
          "output_type": "stream",
          "name": "stderr",
          "text": [
            "epoch 865: 100%|██████████| 282/282 [00:08<00:00, 32.76it/s]\n"
          ]
        },
        {
          "output_type": "stream",
          "name": "stdout",
          "text": [
            "validation loss: 0.0004814050669471423 at epoch 866\n",
            "learning_rate: 0.00020971520000000012\n"
          ]
        },
        {
          "output_type": "stream",
          "name": "stderr",
          "text": [
            "epoch 866: 100%|██████████| 282/282 [00:08<00:00, 33.63it/s]\n"
          ]
        },
        {
          "output_type": "stream",
          "name": "stdout",
          "text": [
            "validation loss: 0.0007282544378605154 at epoch 867\n",
            "learning_rate: 0.00020971520000000012\n"
          ]
        },
        {
          "output_type": "stream",
          "name": "stderr",
          "text": [
            "epoch 867: 100%|██████████| 282/282 [00:07<00:00, 36.54it/s]\n"
          ]
        },
        {
          "output_type": "stream",
          "name": "stdout",
          "text": [
            "validation loss: 0.0005202262405720022 at epoch 868\n",
            "learning_rate: 0.00020971520000000012\n"
          ]
        },
        {
          "output_type": "stream",
          "name": "stderr",
          "text": [
            "epoch 868: 100%|██████████| 282/282 [00:08<00:00, 33.31it/s]\n"
          ]
        },
        {
          "output_type": "stream",
          "name": "stdout",
          "text": [
            "validation loss: 0.0007441569641232491 at epoch 869\n",
            "learning_rate: 0.00020971520000000012\n"
          ]
        },
        {
          "output_type": "stream",
          "name": "stderr",
          "text": [
            "epoch 869: 100%|██████████| 282/282 [00:08<00:00, 33.24it/s]\n"
          ]
        },
        {
          "output_type": "stream",
          "name": "stdout",
          "text": [
            "validation loss: 0.00044105164520442486 at epoch 870\n",
            "learning_rate: 0.00020971520000000012\n"
          ]
        },
        {
          "output_type": "stream",
          "name": "stderr",
          "text": [
            "epoch 870: 100%|██████████| 282/282 [00:07<00:00, 36.31it/s]\n"
          ]
        },
        {
          "output_type": "stream",
          "name": "stdout",
          "text": [
            "validation loss: 0.000637821565899584 at epoch 871\n",
            "learning_rate: 0.00020971520000000012\n"
          ]
        },
        {
          "output_type": "stream",
          "name": "stderr",
          "text": [
            "epoch 871: 100%|██████████| 282/282 [00:08<00:00, 32.83it/s]\n"
          ]
        },
        {
          "output_type": "stream",
          "name": "stdout",
          "text": [
            "validation loss: 0.0005024783164262772 at epoch 872\n",
            "learning_rate: 0.00020971520000000012\n"
          ]
        },
        {
          "output_type": "stream",
          "name": "stderr",
          "text": [
            "epoch 872: 100%|██████████| 282/282 [00:08<00:00, 32.86it/s]\n"
          ]
        },
        {
          "output_type": "stream",
          "name": "stdout",
          "text": [
            "validation loss: 0.0008035428581966294 at epoch 873\n",
            "learning_rate: 0.00020971520000000012\n"
          ]
        },
        {
          "output_type": "stream",
          "name": "stderr",
          "text": [
            "epoch 873: 100%|██████████| 282/282 [00:07<00:00, 36.28it/s]\n"
          ]
        },
        {
          "output_type": "stream",
          "name": "stdout",
          "text": [
            "validation loss: 0.0004975018364687761 at epoch 874\n",
            "learning_rate: 0.00020971520000000012\n"
          ]
        },
        {
          "output_type": "stream",
          "name": "stderr",
          "text": [
            "epoch 874: 100%|██████████| 282/282 [00:08<00:00, 33.45it/s]\n"
          ]
        },
        {
          "output_type": "stream",
          "name": "stdout",
          "text": [
            "validation loss: 0.0007851176307433181 at epoch 875\n",
            "learning_rate: 0.00020971520000000012\n"
          ]
        },
        {
          "output_type": "stream",
          "name": "stderr",
          "text": [
            "epoch 875: 100%|██████████| 282/282 [00:08<00:00, 32.78it/s]\n"
          ]
        },
        {
          "output_type": "stream",
          "name": "stdout",
          "text": [
            "validation loss: 0.00047338837716314527 at epoch 876\n",
            "learning_rate: 0.00020971520000000012\n"
          ]
        },
        {
          "output_type": "stream",
          "name": "stderr",
          "text": [
            "epoch 876: 100%|██████████| 282/282 [00:07<00:00, 35.57it/s]\n"
          ]
        },
        {
          "output_type": "stream",
          "name": "stdout",
          "text": [
            "validation loss: 0.0008659576773643494 at epoch 877\n",
            "learning_rate: 0.00020971520000000012\n"
          ]
        },
        {
          "output_type": "stream",
          "name": "stderr",
          "text": [
            "epoch 877: 100%|██████████| 282/282 [00:08<00:00, 34.75it/s]\n"
          ]
        },
        {
          "output_type": "stream",
          "name": "stdout",
          "text": [
            "validation loss: 0.0003818512736923165 at epoch 878\n",
            "learning_rate: 0.00020971520000000012\n"
          ]
        },
        {
          "output_type": "stream",
          "name": "stderr",
          "text": [
            "epoch 878: 100%|██████████| 282/282 [00:08<00:00, 33.25it/s]\n"
          ]
        },
        {
          "output_type": "stream",
          "name": "stdout",
          "text": [
            "validation loss: 0.0007251588288280699 at epoch 879\n",
            "learning_rate: 0.00020971520000000012\n"
          ]
        },
        {
          "output_type": "stream",
          "name": "stderr",
          "text": [
            "epoch 879: 100%|██████████| 282/282 [00:08<00:00, 33.47it/s]\n"
          ]
        },
        {
          "output_type": "stream",
          "name": "stdout",
          "text": [
            "validation loss: 0.00039179662201139663 at epoch 880\n",
            "learning_rate: 0.00020971520000000012\n"
          ]
        },
        {
          "output_type": "stream",
          "name": "stderr",
          "text": [
            "epoch 880: 100%|██████████| 282/282 [00:07<00:00, 36.49it/s]\n"
          ]
        },
        {
          "output_type": "stream",
          "name": "stdout",
          "text": [
            "validation loss: 0.0008546295190850893 at epoch 881\n",
            "learning_rate: 0.00020971520000000012\n"
          ]
        },
        {
          "output_type": "stream",
          "name": "stderr",
          "text": [
            "epoch 881: 100%|██████████| 282/282 [00:08<00:00, 33.26it/s]\n"
          ]
        },
        {
          "output_type": "stream",
          "name": "stdout",
          "text": [
            "validation loss: 0.000490148296372758 at epoch 882\n",
            "learning_rate: 0.00020971520000000012\n"
          ]
        },
        {
          "output_type": "stream",
          "name": "stderr",
          "text": [
            "epoch 882: 100%|██████████| 282/282 [00:08<00:00, 33.42it/s]\n"
          ]
        },
        {
          "output_type": "stream",
          "name": "stdout",
          "text": [
            "validation loss: 0.0008393490397267872 at epoch 883\n",
            "learning_rate: 0.00020971520000000012\n"
          ]
        },
        {
          "output_type": "stream",
          "name": "stderr",
          "text": [
            "epoch 883: 100%|██████████| 282/282 [00:07<00:00, 36.46it/s]\n"
          ]
        },
        {
          "output_type": "stream",
          "name": "stdout",
          "text": [
            "validation loss: 0.00039952259262402855 at epoch 884\n",
            "learning_rate: 0.00020971520000000012\n"
          ]
        },
        {
          "output_type": "stream",
          "name": "stderr",
          "text": [
            "epoch 884: 100%|██████████| 282/282 [00:08<00:00, 33.02it/s]\n"
          ]
        },
        {
          "output_type": "stream",
          "name": "stdout",
          "text": [
            "validation loss: 0.0008998540904786852 at epoch 885\n",
            "learning_rate: 0.00020971520000000012\n"
          ]
        },
        {
          "output_type": "stream",
          "name": "stderr",
          "text": [
            "epoch 885: 100%|██████████| 282/282 [00:08<00:00, 33.07it/s]\n"
          ]
        },
        {
          "output_type": "stream",
          "name": "stdout",
          "text": [
            "validation loss: 0.0004929200630221102 at epoch 886\n",
            "learning_rate: 0.00020971520000000012\n"
          ]
        },
        {
          "output_type": "stream",
          "name": "stderr",
          "text": [
            "epoch 886: 100%|██████████| 282/282 [00:07<00:00, 35.56it/s]\n"
          ]
        },
        {
          "output_type": "stream",
          "name": "stdout",
          "text": [
            "validation loss: 0.0008716462809178565 at epoch 887\n",
            "learning_rate: 0.00020971520000000012\n"
          ]
        },
        {
          "output_type": "stream",
          "name": "stderr",
          "text": [
            "epoch 887: 100%|██████████| 282/282 [00:08<00:00, 34.79it/s]\n"
          ]
        },
        {
          "output_type": "stream",
          "name": "stdout",
          "text": [
            "validation loss: 0.00038839467552800975 at epoch 888\n",
            "learning_rate: 0.00020971520000000012\n"
          ]
        },
        {
          "output_type": "stream",
          "name": "stderr",
          "text": [
            "epoch 888: 100%|██████████| 282/282 [00:08<00:00, 32.90it/s]\n"
          ]
        },
        {
          "output_type": "stream",
          "name": "stdout",
          "text": [
            "validation loss: 0.0009399607876936594 at epoch 889\n",
            "learning_rate: 0.00020971520000000012\n"
          ]
        },
        {
          "output_type": "stream",
          "name": "stderr",
          "text": [
            "epoch 889: 100%|██████████| 282/282 [00:08<00:00, 33.09it/s]\n"
          ]
        },
        {
          "output_type": "stream",
          "name": "stdout",
          "text": [
            "validation loss: 0.0004449402199437221 at epoch 890\n",
            "learning_rate: 0.00020971520000000012\n"
          ]
        },
        {
          "output_type": "stream",
          "name": "stderr",
          "text": [
            "epoch 890: 100%|██████████| 282/282 [00:07<00:00, 36.51it/s]\n"
          ]
        },
        {
          "output_type": "stream",
          "name": "stdout",
          "text": [
            "validation loss: 0.0007924050514896711 at epoch 891\n",
            "learning_rate: 0.00020971520000000012\n"
          ]
        },
        {
          "output_type": "stream",
          "name": "stderr",
          "text": [
            "epoch 891: 100%|██████████| 282/282 [00:08<00:00, 33.20it/s]\n"
          ]
        },
        {
          "output_type": "stream",
          "name": "stdout",
          "text": [
            "validation loss: 0.000353526898763246 at epoch 892\n",
            "learning_rate: 0.00020971520000000012\n"
          ]
        },
        {
          "output_type": "stream",
          "name": "stderr",
          "text": [
            "epoch 892: 100%|██████████| 282/282 [00:08<00:00, 33.04it/s]\n"
          ]
        },
        {
          "output_type": "stream",
          "name": "stdout",
          "text": [
            "validation loss: 0.0010042979137765036 at epoch 893\n",
            "learning_rate: 0.00020971520000000012\n"
          ]
        },
        {
          "output_type": "stream",
          "name": "stderr",
          "text": [
            "epoch 893: 100%|██████████| 282/282 [00:07<00:00, 36.30it/s]\n"
          ]
        },
        {
          "output_type": "stream",
          "name": "stdout",
          "text": [
            "validation loss: 0.0003613489392317004 at epoch 894\n",
            "learning_rate: 0.00020971520000000012\n"
          ]
        },
        {
          "output_type": "stream",
          "name": "stderr",
          "text": [
            "epoch 894: 100%|██████████| 282/282 [00:08<00:00, 32.81it/s]\n"
          ]
        },
        {
          "output_type": "stream",
          "name": "stdout",
          "text": [
            "validation loss: 0.0009370943299598164 at epoch 895\n",
            "learning_rate: 0.00020971520000000012\n"
          ]
        },
        {
          "output_type": "stream",
          "name": "stderr",
          "text": [
            "epoch 895: 100%|██████████| 282/282 [00:08<00:00, 32.85it/s]\n"
          ]
        },
        {
          "output_type": "stream",
          "name": "stdout",
          "text": [
            "validation loss: 0.00035865627436174285 at epoch 896\n",
            "learning_rate: 0.00020971520000000012\n"
          ]
        },
        {
          "output_type": "stream",
          "name": "stderr",
          "text": [
            "epoch 896: 100%|██████████| 282/282 [00:07<00:00, 36.25it/s]\n"
          ]
        },
        {
          "output_type": "stream",
          "name": "stdout",
          "text": [
            "validation loss: 0.0010234657070702976 at epoch 897\n",
            "learning_rate: 0.00020971520000000012\n"
          ]
        },
        {
          "output_type": "stream",
          "name": "stderr",
          "text": [
            "epoch 897: 100%|██████████| 282/282 [00:08<00:00, 33.59it/s]\n"
          ]
        },
        {
          "output_type": "stream",
          "name": "stdout",
          "text": [
            "validation loss: 0.0003401872981339693 at epoch 898\n",
            "learning_rate: 0.00020971520000000012\n"
          ]
        },
        {
          "output_type": "stream",
          "name": "stderr",
          "text": [
            "epoch 898: 100%|██████████| 282/282 [00:08<00:00, 33.22it/s]\n"
          ]
        },
        {
          "output_type": "stream",
          "name": "stdout",
          "text": [
            "validation loss: 0.0007196274966829353 at epoch 899\n",
            "learning_rate: 0.00020971520000000012\n"
          ]
        },
        {
          "output_type": "stream",
          "name": "stderr",
          "text": [
            "epoch 899: 100%|██████████| 282/282 [00:08<00:00, 34.61it/s]\n"
          ]
        },
        {
          "output_type": "stream",
          "name": "stdout",
          "text": [
            "validation loss: 0.0004112453452414937 at epoch 900\n",
            "learning_rate: 0.00020971520000000012\n"
          ]
        },
        {
          "output_type": "stream",
          "name": "stderr",
          "text": [
            "epoch 900: 100%|██████████| 282/282 [00:07<00:00, 35.60it/s]\n"
          ]
        },
        {
          "output_type": "stream",
          "name": "stdout",
          "text": [
            "validation loss: 0.00103795458873113 at epoch 901\n",
            "learning_rate: 0.00020971520000000012\n"
          ]
        },
        {
          "output_type": "stream",
          "name": "stderr",
          "text": [
            "epoch 901: 100%|██████████| 282/282 [00:08<00:00, 33.22it/s]\n"
          ]
        },
        {
          "output_type": "stream",
          "name": "stdout",
          "text": [
            "validation loss: 0.00035269231287141643 at epoch 902\n",
            "learning_rate: 0.00020971520000000012\n"
          ]
        },
        {
          "output_type": "stream",
          "name": "stderr",
          "text": [
            "epoch 902: 100%|██████████| 282/282 [00:08<00:00, 32.71it/s]\n"
          ]
        },
        {
          "output_type": "stream",
          "name": "stdout",
          "text": [
            "validation loss: 0.001020764608350065 at epoch 903\n",
            "learning_rate: 0.00020971520000000012\n"
          ]
        },
        {
          "output_type": "stream",
          "name": "stderr",
          "text": [
            "epoch 903: 100%|██████████| 282/282 [00:07<00:00, 35.92it/s]\n"
          ]
        },
        {
          "output_type": "stream",
          "name": "stdout",
          "text": [
            "validation loss: 0.0003951449981994099 at epoch 904\n",
            "learning_rate: 0.00020971520000000012\n"
          ]
        },
        {
          "output_type": "stream",
          "name": "stderr",
          "text": [
            "epoch 904: 100%|██████████| 282/282 [00:08<00:00, 32.72it/s]\n"
          ]
        },
        {
          "output_type": "stream",
          "name": "stdout",
          "text": [
            "validation loss: 0.0006962943420641952 at epoch 905\n",
            "learning_rate: 0.00020971520000000012\n"
          ]
        },
        {
          "output_type": "stream",
          "name": "stderr",
          "text": [
            "epoch 905: 100%|██████████| 282/282 [00:08<00:00, 32.46it/s]\n"
          ]
        },
        {
          "output_type": "stream",
          "name": "stdout",
          "text": [
            "validation loss: 0.0003597216101156341 at epoch 906\n",
            "learning_rate: 0.00020971520000000012\n"
          ]
        },
        {
          "output_type": "stream",
          "name": "stderr",
          "text": [
            "epoch 906: 100%|██████████| 282/282 [00:07<00:00, 36.03it/s]\n"
          ]
        },
        {
          "output_type": "stream",
          "name": "stdout",
          "text": [
            "validation loss: 0.0009521524765425259 at epoch 907\n",
            "learning_rate: 0.00020971520000000012\n"
          ]
        },
        {
          "output_type": "stream",
          "name": "stderr",
          "text": [
            "epoch 907: 100%|██████████| 282/282 [00:08<00:00, 33.08it/s]\n"
          ]
        },
        {
          "output_type": "stream",
          "name": "stdout",
          "text": [
            "validation loss: 0.00033432256326907213 at epoch 908\n",
            "learning_rate: 0.00020971520000000012\n"
          ]
        },
        {
          "output_type": "stream",
          "name": "stderr",
          "text": [
            "epoch 908: 100%|██████████| 282/282 [00:08<00:00, 32.52it/s]\n"
          ]
        },
        {
          "output_type": "stream",
          "name": "stdout",
          "text": [
            "validation loss: 0.0009471425140897433 at epoch 909\n",
            "learning_rate: 0.00020971520000000012\n"
          ]
        },
        {
          "output_type": "stream",
          "name": "stderr",
          "text": [
            "epoch 909: 100%|██████████| 282/282 [00:07<00:00, 35.48it/s]\n"
          ]
        },
        {
          "output_type": "stream",
          "name": "stdout",
          "text": [
            "validation loss: 0.0003496421784576443 at epoch 910\n",
            "learning_rate: 0.00020971520000000012\n"
          ]
        },
        {
          "output_type": "stream",
          "name": "stderr",
          "text": [
            "epoch 910: 100%|██████████| 282/282 [00:08<00:00, 34.59it/s]\n"
          ]
        },
        {
          "output_type": "stream",
          "name": "stdout",
          "text": [
            "validation loss: 0.0010671866486469904 at epoch 911\n",
            "learning_rate: 0.00020971520000000012\n"
          ]
        },
        {
          "output_type": "stream",
          "name": "stderr",
          "text": [
            "epoch 911: 100%|██████████| 282/282 [00:08<00:00, 32.98it/s]\n"
          ]
        },
        {
          "output_type": "stream",
          "name": "stdout",
          "text": [
            "validation loss: 0.0002703078304313951 at epoch 912\n",
            "learning_rate: 0.0001677721600000001\n",
            "model saved in ani_acrolein.pt\n"
          ]
        },
        {
          "output_type": "stream",
          "name": "stderr",
          "text": [
            "epoch 912: 100%|██████████| 282/282 [00:08<00:00, 33.39it/s]\n"
          ]
        },
        {
          "output_type": "stream",
          "name": "stdout",
          "text": [
            "validation loss: 0.00045763717260625627 at epoch 913\n",
            "learning_rate: 0.0001677721600000001\n"
          ]
        },
        {
          "output_type": "stream",
          "name": "stderr",
          "text": [
            "epoch 913: 100%|██████████| 282/282 [00:07<00:00, 35.74it/s]\n"
          ]
        },
        {
          "output_type": "stream",
          "name": "stdout",
          "text": [
            "validation loss: 0.0005080711200005478 at epoch 914\n",
            "learning_rate: 0.0001677721600000001\n"
          ]
        },
        {
          "output_type": "stream",
          "name": "stderr",
          "text": [
            "epoch 914: 100%|██████████| 282/282 [00:08<00:00, 32.60it/s]\n"
          ]
        },
        {
          "output_type": "stream",
          "name": "stdout",
          "text": [
            "validation loss: 0.000826612482054366 at epoch 915\n",
            "learning_rate: 0.0001677721600000001\n"
          ]
        },
        {
          "output_type": "stream",
          "name": "stderr",
          "text": [
            "epoch 915: 100%|██████████| 282/282 [00:08<00:00, 32.66it/s]\n"
          ]
        },
        {
          "output_type": "stream",
          "name": "stdout",
          "text": [
            "validation loss: 0.0005001093467904462 at epoch 916\n",
            "learning_rate: 0.0001677721600000001\n"
          ]
        },
        {
          "output_type": "stream",
          "name": "stderr",
          "text": [
            "epoch 916: 100%|██████████| 282/282 [00:07<00:00, 36.13it/s]\n"
          ]
        },
        {
          "output_type": "stream",
          "name": "stdout",
          "text": [
            "validation loss: 0.0008592631241513623 at epoch 917\n",
            "learning_rate: 0.0001677721600000001\n"
          ]
        },
        {
          "output_type": "stream",
          "name": "stderr",
          "text": [
            "epoch 917: 100%|██████████| 282/282 [00:08<00:00, 32.60it/s]\n"
          ]
        },
        {
          "output_type": "stream",
          "name": "stdout",
          "text": [
            "validation loss: 0.0004265168079485496 at epoch 918\n",
            "learning_rate: 0.0001677721600000001\n"
          ]
        },
        {
          "output_type": "stream",
          "name": "stderr",
          "text": [
            "epoch 918: 100%|██████████| 282/282 [00:08<00:00, 33.16it/s]\n"
          ]
        },
        {
          "output_type": "stream",
          "name": "stdout",
          "text": [
            "validation loss: 0.0008383235964510176 at epoch 919\n",
            "learning_rate: 0.0001677721600000001\n"
          ]
        },
        {
          "output_type": "stream",
          "name": "stderr",
          "text": [
            "epoch 919: 100%|██████████| 282/282 [00:07<00:00, 36.59it/s]\n"
          ]
        },
        {
          "output_type": "stream",
          "name": "stdout",
          "text": [
            "validation loss: 0.00043028161964482733 at epoch 920\n",
            "learning_rate: 0.0001677721600000001\n"
          ]
        },
        {
          "output_type": "stream",
          "name": "stderr",
          "text": [
            "epoch 920: 100%|██████████| 282/282 [00:08<00:00, 32.80it/s]\n"
          ]
        },
        {
          "output_type": "stream",
          "name": "stdout",
          "text": [
            "validation loss: 0.0008529289650420348 at epoch 921\n",
            "learning_rate: 0.0001677721600000001\n"
          ]
        },
        {
          "output_type": "stream",
          "name": "stderr",
          "text": [
            "epoch 921: 100%|██████████| 282/282 [00:08<00:00, 33.22it/s]\n"
          ]
        },
        {
          "output_type": "stream",
          "name": "stdout",
          "text": [
            "validation loss: 0.0004016637847655349 at epoch 922\n",
            "learning_rate: 0.0001677721600000001\n"
          ]
        },
        {
          "output_type": "stream",
          "name": "stderr",
          "text": [
            "epoch 922: 100%|██████████| 282/282 [00:07<00:00, 36.03it/s]\n"
          ]
        },
        {
          "output_type": "stream",
          "name": "stdout",
          "text": [
            "validation loss: 0.0008410349554485745 at epoch 923\n",
            "learning_rate: 0.0001677721600000001\n"
          ]
        },
        {
          "output_type": "stream",
          "name": "stderr",
          "text": [
            "epoch 923: 100%|██████████| 282/282 [00:08<00:00, 33.68it/s]\n"
          ]
        },
        {
          "output_type": "stream",
          "name": "stdout",
          "text": [
            "validation loss: 0.000415680928569701 at epoch 924\n",
            "learning_rate: 0.0001677721600000001\n"
          ]
        },
        {
          "output_type": "stream",
          "name": "stderr",
          "text": [
            "epoch 924: 100%|██████████| 282/282 [00:08<00:00, 32.81it/s]\n"
          ]
        },
        {
          "output_type": "stream",
          "name": "stdout",
          "text": [
            "validation loss: 0.0008235778825150595 at epoch 925\n",
            "learning_rate: 0.0001677721600000001\n"
          ]
        },
        {
          "output_type": "stream",
          "name": "stderr",
          "text": [
            "epoch 925: 100%|██████████| 282/282 [00:08<00:00, 34.65it/s]\n"
          ]
        },
        {
          "output_type": "stream",
          "name": "stdout",
          "text": [
            "validation loss: 0.00041773198255234294 at epoch 926\n",
            "learning_rate: 0.0001677721600000001\n"
          ]
        },
        {
          "output_type": "stream",
          "name": "stderr",
          "text": [
            "epoch 926: 100%|██████████| 282/282 [00:07<00:00, 35.58it/s]\n"
          ]
        },
        {
          "output_type": "stream",
          "name": "stdout",
          "text": [
            "validation loss: 0.000803871458189355 at epoch 927\n",
            "learning_rate: 0.0001677721600000001\n"
          ]
        },
        {
          "output_type": "stream",
          "name": "stderr",
          "text": [
            "epoch 927: 100%|██████████| 282/282 [00:08<00:00, 32.60it/s]\n"
          ]
        },
        {
          "output_type": "stream",
          "name": "stdout",
          "text": [
            "validation loss: 0.0004165634084492922 at epoch 928\n",
            "learning_rate: 0.0001677721600000001\n"
          ]
        },
        {
          "output_type": "stream",
          "name": "stderr",
          "text": [
            "epoch 928: 100%|██████████| 282/282 [00:08<00:00, 33.24it/s]\n"
          ]
        },
        {
          "output_type": "stream",
          "name": "stdout",
          "text": [
            "validation loss: 0.0007772580045792792 at epoch 929\n",
            "learning_rate: 0.0001677721600000001\n"
          ]
        },
        {
          "output_type": "stream",
          "name": "stderr",
          "text": [
            "epoch 929: 100%|██████████| 282/282 [00:07<00:00, 36.00it/s]\n"
          ]
        },
        {
          "output_type": "stream",
          "name": "stdout",
          "text": [
            "validation loss: 0.0004249143691526519 at epoch 930\n",
            "learning_rate: 0.0001677721600000001\n"
          ]
        },
        {
          "output_type": "stream",
          "name": "stderr",
          "text": [
            "epoch 930: 100%|██████████| 282/282 [00:08<00:00, 32.82it/s]\n"
          ]
        },
        {
          "output_type": "stream",
          "name": "stdout",
          "text": [
            "validation loss: 0.0007047318567832311 at epoch 931\n",
            "learning_rate: 0.0001677721600000001\n"
          ]
        },
        {
          "output_type": "stream",
          "name": "stderr",
          "text": [
            "epoch 931: 100%|██████████| 282/282 [00:08<00:00, 32.70it/s]\n"
          ]
        },
        {
          "output_type": "stream",
          "name": "stdout",
          "text": [
            "validation loss: 0.00041851219224433103 at epoch 932\n",
            "learning_rate: 0.0001677721600000001\n"
          ]
        },
        {
          "output_type": "stream",
          "name": "stderr",
          "text": [
            "epoch 932: 100%|██████████| 282/282 [00:07<00:00, 36.42it/s]\n"
          ]
        },
        {
          "output_type": "stream",
          "name": "stdout",
          "text": [
            "validation loss: 0.0007155988402664661 at epoch 933\n",
            "learning_rate: 0.0001677721600000001\n"
          ]
        },
        {
          "output_type": "stream",
          "name": "stderr",
          "text": [
            "epoch 933: 100%|██████████| 282/282 [00:08<00:00, 32.42it/s]\n"
          ]
        },
        {
          "output_type": "stream",
          "name": "stdout",
          "text": [
            "validation loss: 0.0004198165217207538 at epoch 934\n",
            "learning_rate: 0.0001677721600000001\n"
          ]
        },
        {
          "output_type": "stream",
          "name": "stderr",
          "text": [
            "epoch 934: 100%|██████████| 282/282 [00:08<00:00, 33.16it/s]\n"
          ]
        },
        {
          "output_type": "stream",
          "name": "stdout",
          "text": [
            "validation loss: 0.0007456040473447906 at epoch 935\n",
            "learning_rate: 0.0001677721600000001\n"
          ]
        },
        {
          "output_type": "stream",
          "name": "stderr",
          "text": [
            "epoch 935: 100%|██████████| 282/282 [00:07<00:00, 36.02it/s]\n"
          ]
        },
        {
          "output_type": "stream",
          "name": "stdout",
          "text": [
            "validation loss: 0.0004347598296072748 at epoch 936\n",
            "learning_rate: 0.0001677721600000001\n"
          ]
        },
        {
          "output_type": "stream",
          "name": "stderr",
          "text": [
            "epoch 936: 100%|██████████| 282/282 [00:08<00:00, 33.62it/s]\n"
          ]
        },
        {
          "output_type": "stream",
          "name": "stdout",
          "text": [
            "validation loss: 0.0006508320685889986 at epoch 937\n",
            "learning_rate: 0.0001677721600000001\n"
          ]
        },
        {
          "output_type": "stream",
          "name": "stderr",
          "text": [
            "epoch 937: 100%|██████████| 282/282 [00:08<00:00, 33.05it/s]\n"
          ]
        },
        {
          "output_type": "stream",
          "name": "stdout",
          "text": [
            "validation loss: 0.0004078600559797552 at epoch 938\n",
            "learning_rate: 0.0001677721600000001\n"
          ]
        },
        {
          "output_type": "stream",
          "name": "stderr",
          "text": [
            "epoch 938: 100%|██████████| 282/282 [00:08<00:00, 34.83it/s]\n"
          ]
        },
        {
          "output_type": "stream",
          "name": "stdout",
          "text": [
            "validation loss: 0.0006502388305962086 at epoch 939\n",
            "learning_rate: 0.0001677721600000001\n"
          ]
        },
        {
          "output_type": "stream",
          "name": "stderr",
          "text": [
            "epoch 939: 100%|██████████| 282/282 [00:07<00:00, 36.66it/s]\n"
          ]
        },
        {
          "output_type": "stream",
          "name": "stdout",
          "text": [
            "validation loss: 0.000451924118730757 at epoch 940\n",
            "learning_rate: 0.0001677721600000001\n"
          ]
        },
        {
          "output_type": "stream",
          "name": "stderr",
          "text": [
            "epoch 940: 100%|██████████| 282/282 [00:08<00:00, 33.01it/s]\n"
          ]
        },
        {
          "output_type": "stream",
          "name": "stdout",
          "text": [
            "validation loss: 0.0005676030019919078 at epoch 941\n",
            "learning_rate: 0.0001677721600000001\n"
          ]
        },
        {
          "output_type": "stream",
          "name": "stderr",
          "text": [
            "epoch 941: 100%|██████████| 282/282 [00:08<00:00, 33.21it/s]\n"
          ]
        },
        {
          "output_type": "stream",
          "name": "stdout",
          "text": [
            "validation loss: 0.0004562135243581401 at epoch 942\n",
            "learning_rate: 0.0001677721600000001\n"
          ]
        },
        {
          "output_type": "stream",
          "name": "stderr",
          "text": [
            "epoch 942: 100%|██████████| 282/282 [00:07<00:00, 36.05it/s]\n"
          ]
        },
        {
          "output_type": "stream",
          "name": "stdout",
          "text": [
            "validation loss: 0.0005952944730718931 at epoch 943\n",
            "learning_rate: 0.0001677721600000001\n"
          ]
        },
        {
          "output_type": "stream",
          "name": "stderr",
          "text": [
            "epoch 943: 100%|██████████| 282/282 [00:08<00:00, 32.37it/s]\n"
          ]
        },
        {
          "output_type": "stream",
          "name": "stdout",
          "text": [
            "validation loss: 0.00043940229962269463 at epoch 944\n",
            "learning_rate: 0.0001677721600000001\n"
          ]
        },
        {
          "output_type": "stream",
          "name": "stderr",
          "text": [
            "epoch 944: 100%|██████████| 282/282 [00:08<00:00, 32.43it/s]\n"
          ]
        },
        {
          "output_type": "stream",
          "name": "stdout",
          "text": [
            "validation loss: 0.0005672497327129046 at epoch 945\n",
            "learning_rate: 0.0001677721600000001\n"
          ]
        },
        {
          "output_type": "stream",
          "name": "stderr",
          "text": [
            "epoch 945: 100%|██████████| 282/282 [00:07<00:00, 35.89it/s]\n"
          ]
        },
        {
          "output_type": "stream",
          "name": "stdout",
          "text": [
            "validation loss: 0.00043149598294662107 at epoch 946\n",
            "learning_rate: 0.0001677721600000001\n"
          ]
        },
        {
          "output_type": "stream",
          "name": "stderr",
          "text": [
            "epoch 946: 100%|██████████| 282/282 [00:08<00:00, 33.68it/s]\n"
          ]
        },
        {
          "output_type": "stream",
          "name": "stdout",
          "text": [
            "validation loss: 0.0007041446169217427 at epoch 947\n",
            "learning_rate: 0.0001677721600000001\n"
          ]
        },
        {
          "output_type": "stream",
          "name": "stderr",
          "text": [
            "epoch 947: 100%|██████████| 282/282 [00:08<00:00, 32.60it/s]\n"
          ]
        },
        {
          "output_type": "stream",
          "name": "stdout",
          "text": [
            "validation loss: 0.0004044514660620027 at epoch 948\n",
            "learning_rate: 0.0001677721600000001\n"
          ]
        },
        {
          "output_type": "stream",
          "name": "stderr",
          "text": [
            "epoch 948: 100%|██████████| 282/282 [00:07<00:00, 35.30it/s]\n"
          ]
        },
        {
          "output_type": "stream",
          "name": "stdout",
          "text": [
            "validation loss: 0.0006909687324530548 at epoch 949\n",
            "learning_rate: 0.0001677721600000001\n"
          ]
        },
        {
          "output_type": "stream",
          "name": "stderr",
          "text": [
            "epoch 949: 100%|██████████| 282/282 [00:08<00:00, 34.96it/s]\n"
          ]
        },
        {
          "output_type": "stream",
          "name": "stdout",
          "text": [
            "validation loss: 0.0004168574404385355 at epoch 950\n",
            "learning_rate: 0.0001677721600000001\n"
          ]
        },
        {
          "output_type": "stream",
          "name": "stderr",
          "text": [
            "epoch 950: 100%|██████████| 282/282 [00:08<00:00, 32.32it/s]\n"
          ]
        },
        {
          "output_type": "stream",
          "name": "stdout",
          "text": [
            "validation loss: 0.0006135338445504506 at epoch 951\n",
            "learning_rate: 0.0001677721600000001\n"
          ]
        },
        {
          "output_type": "stream",
          "name": "stderr",
          "text": [
            "epoch 951: 100%|██████████| 282/282 [00:08<00:00, 32.19it/s]\n"
          ]
        },
        {
          "output_type": "stream",
          "name": "stdout",
          "text": [
            "validation loss: 0.0004946847082012229 at epoch 952\n",
            "learning_rate: 0.0001677721600000001\n"
          ]
        },
        {
          "output_type": "stream",
          "name": "stderr",
          "text": [
            "epoch 952: 100%|██████████| 282/282 [00:07<00:00, 36.06it/s]\n"
          ]
        },
        {
          "output_type": "stream",
          "name": "stdout",
          "text": [
            "validation loss: 0.000621810300482644 at epoch 953\n",
            "learning_rate: 0.0001677721600000001\n"
          ]
        },
        {
          "output_type": "stream",
          "name": "stderr",
          "text": [
            "epoch 953: 100%|██████████| 282/282 [00:08<00:00, 32.42it/s]\n"
          ]
        },
        {
          "output_type": "stream",
          "name": "stdout",
          "text": [
            "validation loss: 0.0004522098298701975 at epoch 954\n",
            "learning_rate: 0.0001677721600000001\n"
          ]
        },
        {
          "output_type": "stream",
          "name": "stderr",
          "text": [
            "epoch 954: 100%|██████████| 282/282 [00:08<00:00, 31.53it/s]\n"
          ]
        },
        {
          "output_type": "stream",
          "name": "stdout",
          "text": [
            "validation loss: 0.000655487717439731 at epoch 955\n",
            "learning_rate: 0.0001677721600000001\n"
          ]
        },
        {
          "output_type": "stream",
          "name": "stderr",
          "text": [
            "epoch 955: 100%|██████████| 282/282 [00:07<00:00, 35.64it/s]\n"
          ]
        },
        {
          "output_type": "stream",
          "name": "stdout",
          "text": [
            "validation loss: 0.0004710395803882016 at epoch 956\n",
            "learning_rate: 0.0001677721600000001\n"
          ]
        },
        {
          "output_type": "stream",
          "name": "stderr",
          "text": [
            "epoch 956: 100%|██████████| 282/282 [00:08<00:00, 33.09it/s]\n"
          ]
        },
        {
          "output_type": "stream",
          "name": "stdout",
          "text": [
            "validation loss: 0.0007413276260097822 at epoch 957\n",
            "learning_rate: 0.0001677721600000001\n"
          ]
        },
        {
          "output_type": "stream",
          "name": "stderr",
          "text": [
            "epoch 957: 100%|██████████| 282/282 [00:08<00:00, 32.49it/s]\n"
          ]
        },
        {
          "output_type": "stream",
          "name": "stdout",
          "text": [
            "validation loss: 0.0004001851088056962 at epoch 958\n",
            "learning_rate: 0.0001677721600000001\n"
          ]
        },
        {
          "output_type": "stream",
          "name": "stderr",
          "text": [
            "epoch 958: 100%|██████████| 282/282 [00:07<00:00, 35.37it/s]\n"
          ]
        },
        {
          "output_type": "stream",
          "name": "stdout",
          "text": [
            "validation loss: 0.0004950533012549082 at epoch 959\n",
            "learning_rate: 0.0001677721600000001\n"
          ]
        },
        {
          "output_type": "stream",
          "name": "stderr",
          "text": [
            "epoch 959: 100%|██████████| 282/282 [00:08<00:00, 33.94it/s]\n"
          ]
        },
        {
          "output_type": "stream",
          "name": "stdout",
          "text": [
            "validation loss: 0.0005163025280667676 at epoch 960\n",
            "learning_rate: 0.0001677721600000001\n"
          ]
        },
        {
          "output_type": "stream",
          "name": "stderr",
          "text": [
            "epoch 960: 100%|██████████| 282/282 [00:08<00:00, 32.66it/s]\n"
          ]
        },
        {
          "output_type": "stream",
          "name": "stdout",
          "text": [
            "validation loss: 0.0005385323762893677 at epoch 961\n",
            "learning_rate: 0.0001677721600000001\n"
          ]
        },
        {
          "output_type": "stream",
          "name": "stderr",
          "text": [
            "epoch 961: 100%|██████████| 282/282 [00:08<00:00, 33.23it/s]\n"
          ]
        },
        {
          "output_type": "stream",
          "name": "stdout",
          "text": [
            "validation loss: 0.00046163904956645436 at epoch 962\n",
            "learning_rate: 0.0001677721600000001\n"
          ]
        },
        {
          "output_type": "stream",
          "name": "stderr",
          "text": [
            "epoch 962: 100%|██████████| 282/282 [00:07<00:00, 35.75it/s]\n"
          ]
        },
        {
          "output_type": "stream",
          "name": "stdout",
          "text": [
            "validation loss: 0.0006154497476915518 at epoch 963\n",
            "learning_rate: 0.0001677721600000001\n"
          ]
        },
        {
          "output_type": "stream",
          "name": "stderr",
          "text": [
            "epoch 963: 100%|██████████| 282/282 [00:08<00:00, 32.22it/s]\n"
          ]
        },
        {
          "output_type": "stream",
          "name": "stdout",
          "text": [
            "validation loss: 0.0002532532741833064 at epoch 964\n",
            "learning_rate: 0.00013421772800000008\n",
            "model saved in ani_acrolein.pt\n"
          ]
        },
        {
          "output_type": "stream",
          "name": "stderr",
          "text": [
            "epoch 964: 100%|██████████| 282/282 [00:08<00:00, 32.35it/s]\n"
          ]
        },
        {
          "output_type": "stream",
          "name": "stdout",
          "text": [
            "validation loss: 0.0003891139092544715 at epoch 965\n",
            "learning_rate: 0.00013421772800000008\n"
          ]
        },
        {
          "output_type": "stream",
          "name": "stderr",
          "text": [
            "epoch 965: 100%|██████████| 282/282 [00:07<00:00, 36.47it/s]\n"
          ]
        },
        {
          "output_type": "stream",
          "name": "stdout",
          "text": [
            "validation loss: 0.00033145585055980415 at epoch 966\n",
            "learning_rate: 0.00013421772800000008\n"
          ]
        },
        {
          "output_type": "stream",
          "name": "stderr",
          "text": [
            "epoch 966: 100%|██████████| 282/282 [00:08<00:00, 32.64it/s]\n"
          ]
        },
        {
          "output_type": "stream",
          "name": "stdout",
          "text": [
            "validation loss: 0.00037665559703277217 at epoch 967\n",
            "learning_rate: 0.00013421772800000008\n"
          ]
        },
        {
          "output_type": "stream",
          "name": "stderr",
          "text": [
            "epoch 967: 100%|██████████| 282/282 [00:08<00:00, 32.71it/s]\n"
          ]
        },
        {
          "output_type": "stream",
          "name": "stdout",
          "text": [
            "validation loss: 0.0003398607462230656 at epoch 968\n",
            "learning_rate: 0.00013421772800000008\n"
          ]
        },
        {
          "output_type": "stream",
          "name": "stderr",
          "text": [
            "epoch 968: 100%|██████████| 282/282 [00:07<00:00, 35.75it/s]\n"
          ]
        },
        {
          "output_type": "stream",
          "name": "stdout",
          "text": [
            "validation loss: 0.00038729903495146167 at epoch 969\n",
            "learning_rate: 0.00013421772800000008\n"
          ]
        },
        {
          "output_type": "stream",
          "name": "stderr",
          "text": [
            "epoch 969: 100%|██████████| 282/282 [00:08<00:00, 33.57it/s]\n"
          ]
        },
        {
          "output_type": "stream",
          "name": "stdout",
          "text": [
            "validation loss: 0.0003516835117091735 at epoch 970\n",
            "learning_rate: 0.00013421772800000008\n"
          ]
        },
        {
          "output_type": "stream",
          "name": "stderr",
          "text": [
            "epoch 970: 100%|██████████| 282/282 [00:08<00:00, 32.97it/s]\n"
          ]
        },
        {
          "output_type": "stream",
          "name": "stdout",
          "text": [
            "validation loss: 0.00039466838186813725 at epoch 971\n",
            "learning_rate: 0.00013421772800000008\n"
          ]
        },
        {
          "output_type": "stream",
          "name": "stderr",
          "text": [
            "epoch 971: 100%|██████████| 282/282 [00:08<00:00, 34.16it/s]\n"
          ]
        },
        {
          "output_type": "stream",
          "name": "stdout",
          "text": [
            "validation loss: 0.0003578797071758244 at epoch 972\n",
            "learning_rate: 0.00013421772800000008\n"
          ]
        },
        {
          "output_type": "stream",
          "name": "stderr",
          "text": [
            "epoch 972: 100%|██████████| 282/282 [00:07<00:00, 35.47it/s]\n"
          ]
        },
        {
          "output_type": "stream",
          "name": "stdout",
          "text": [
            "validation loss: 0.00039536203775140976 at epoch 973\n",
            "learning_rate: 0.00013421772800000008\n"
          ]
        },
        {
          "output_type": "stream",
          "name": "stderr",
          "text": [
            "epoch 973: 100%|██████████| 282/282 [00:08<00:00, 32.59it/s]\n"
          ]
        },
        {
          "output_type": "stream",
          "name": "stdout",
          "text": [
            "validation loss: 0.00037231119846304256 at epoch 974\n",
            "learning_rate: 0.00013421772800000008\n"
          ]
        },
        {
          "output_type": "stream",
          "name": "stderr",
          "text": [
            "epoch 974: 100%|██████████| 282/282 [00:08<00:00, 32.62it/s]\n"
          ]
        },
        {
          "output_type": "stream",
          "name": "stdout",
          "text": [
            "validation loss: 0.0003839183849179082 at epoch 975\n",
            "learning_rate: 0.00013421772800000008\n"
          ]
        },
        {
          "output_type": "stream",
          "name": "stderr",
          "text": [
            "epoch 975: 100%|██████████| 282/282 [00:07<00:00, 36.20it/s]\n"
          ]
        },
        {
          "output_type": "stream",
          "name": "stdout",
          "text": [
            "validation loss: 0.00039379347529676226 at epoch 976\n",
            "learning_rate: 0.00013421772800000008\n"
          ]
        },
        {
          "output_type": "stream",
          "name": "stderr",
          "text": [
            "epoch 976: 100%|██████████| 282/282 [00:08<00:00, 32.71it/s]\n"
          ]
        },
        {
          "output_type": "stream",
          "name": "stdout",
          "text": [
            "validation loss: 0.0003749263089978033 at epoch 977\n",
            "learning_rate: 0.00013421772800000008\n"
          ]
        },
        {
          "output_type": "stream",
          "name": "stderr",
          "text": [
            "epoch 977: 100%|██████████| 282/282 [00:08<00:00, 32.27it/s]\n"
          ]
        },
        {
          "output_type": "stream",
          "name": "stdout",
          "text": [
            "validation loss: 0.0003838160251163774 at epoch 978\n",
            "learning_rate: 0.00013421772800000008\n"
          ]
        },
        {
          "output_type": "stream",
          "name": "stderr",
          "text": [
            "epoch 978: 100%|██████████| 282/282 [00:07<00:00, 35.63it/s]\n"
          ]
        },
        {
          "output_type": "stream",
          "name": "stdout",
          "text": [
            "validation loss: 0.00040067456973095735 at epoch 979\n",
            "learning_rate: 0.00013421772800000008\n"
          ]
        },
        {
          "output_type": "stream",
          "name": "stderr",
          "text": [
            "epoch 979: 100%|██████████| 282/282 [00:08<00:00, 32.98it/s]\n"
          ]
        },
        {
          "output_type": "stream",
          "name": "stdout",
          "text": [
            "validation loss: 0.0003728216387745407 at epoch 980\n",
            "learning_rate: 0.00013421772800000008\n"
          ]
        },
        {
          "output_type": "stream",
          "name": "stderr",
          "text": [
            "epoch 980: 100%|██████████| 282/282 [00:08<00:00, 32.72it/s]\n"
          ]
        },
        {
          "output_type": "stream",
          "name": "stdout",
          "text": [
            "validation loss: 0.00039183979253802035 at epoch 981\n",
            "learning_rate: 0.00013421772800000008\n"
          ]
        },
        {
          "output_type": "stream",
          "name": "stderr",
          "text": [
            "epoch 981: 100%|██████████| 282/282 [00:07<00:00, 35.54it/s]\n"
          ]
        },
        {
          "output_type": "stream",
          "name": "stdout",
          "text": [
            "validation loss: 0.00040662458166480065 at epoch 982\n",
            "learning_rate: 0.00013421772800000008\n"
          ]
        },
        {
          "output_type": "stream",
          "name": "stderr",
          "text": [
            "epoch 982: 100%|██████████| 282/282 [00:08<00:00, 33.90it/s]\n"
          ]
        },
        {
          "output_type": "stream",
          "name": "stdout",
          "text": [
            "validation loss: 0.00037916681439512307 at epoch 983\n",
            "learning_rate: 0.00013421772800000008\n"
          ]
        },
        {
          "output_type": "stream",
          "name": "stderr",
          "text": [
            "epoch 983: 100%|██████████| 282/282 [00:08<00:00, 33.07it/s]\n"
          ]
        },
        {
          "output_type": "stream",
          "name": "stdout",
          "text": [
            "validation loss: 0.0003434608711136712 at epoch 984\n",
            "learning_rate: 0.00013421772800000008\n"
          ]
        },
        {
          "output_type": "stream",
          "name": "stderr",
          "text": [
            "epoch 984: 100%|██████████| 282/282 [00:08<00:00, 33.17it/s]\n"
          ]
        },
        {
          "output_type": "stream",
          "name": "stdout",
          "text": [
            "validation loss: 0.0004577807705435488 at epoch 985\n",
            "learning_rate: 0.00013421772800000008\n"
          ]
        },
        {
          "output_type": "stream",
          "name": "stderr",
          "text": [
            "epoch 985: 100%|██████████| 282/282 [00:07<00:00, 36.24it/s]\n"
          ]
        },
        {
          "output_type": "stream",
          "name": "stdout",
          "text": [
            "validation loss: 0.00036536275098721186 at epoch 986\n",
            "learning_rate: 0.00013421772800000008\n"
          ]
        },
        {
          "output_type": "stream",
          "name": "stderr",
          "text": [
            "epoch 986: 100%|██████████| 282/282 [00:08<00:00, 32.69it/s]\n"
          ]
        },
        {
          "output_type": "stream",
          "name": "stdout",
          "text": [
            "validation loss: 0.00030136899712185063 at epoch 987\n",
            "learning_rate: 0.00013421772800000008\n"
          ]
        },
        {
          "output_type": "stream",
          "name": "stderr",
          "text": [
            "epoch 987: 100%|██████████| 282/282 [00:08<00:00, 32.83it/s]\n"
          ]
        },
        {
          "output_type": "stream",
          "name": "stdout",
          "text": [
            "validation loss: 0.0004678729789124595 at epoch 988\n",
            "learning_rate: 0.00013421772800000008\n"
          ]
        },
        {
          "output_type": "stream",
          "name": "stderr",
          "text": [
            "epoch 988: 100%|██████████| 282/282 [00:07<00:00, 35.89it/s]\n"
          ]
        },
        {
          "output_type": "stream",
          "name": "stdout",
          "text": [
            "validation loss: 0.0003249087068769667 at epoch 989\n",
            "learning_rate: 0.00013421772800000008\n"
          ]
        },
        {
          "output_type": "stream",
          "name": "stderr",
          "text": [
            "epoch 989: 100%|██████████| 282/282 [00:08<00:00, 32.80it/s]\n"
          ]
        },
        {
          "output_type": "stream",
          "name": "stdout",
          "text": [
            "validation loss: 0.0004518411529974805 at epoch 990\n",
            "learning_rate: 0.00013421772800000008\n"
          ]
        },
        {
          "output_type": "stream",
          "name": "stderr",
          "text": [
            "epoch 990: 100%|██████████| 282/282 [00:08<00:00, 32.91it/s]\n"
          ]
        },
        {
          "output_type": "stream",
          "name": "stdout",
          "text": [
            "validation loss: 0.0003797612792501847 at epoch 991\n",
            "learning_rate: 0.00013421772800000008\n"
          ]
        },
        {
          "output_type": "stream",
          "name": "stderr",
          "text": [
            "epoch 991: 100%|██████████| 282/282 [00:07<00:00, 35.28it/s]\n"
          ]
        },
        {
          "output_type": "stream",
          "name": "stdout",
          "text": [
            "validation loss: 0.0004446572487552961 at epoch 992\n",
            "learning_rate: 0.00013421772800000008\n"
          ]
        },
        {
          "output_type": "stream",
          "name": "stderr",
          "text": [
            "epoch 992: 100%|██████████| 282/282 [00:08<00:00, 33.67it/s]\n"
          ]
        },
        {
          "output_type": "stream",
          "name": "stdout",
          "text": [
            "validation loss: 0.00036151736022697553 at epoch 993\n",
            "learning_rate: 0.00013421772800000008\n"
          ]
        },
        {
          "output_type": "stream",
          "name": "stderr",
          "text": [
            "epoch 993: 100%|██████████| 282/282 [00:08<00:00, 32.81it/s]\n"
          ]
        },
        {
          "output_type": "stream",
          "name": "stdout",
          "text": [
            "validation loss: 0.000449880901310179 at epoch 994\n",
            "learning_rate: 0.00013421772800000008\n"
          ]
        },
        {
          "output_type": "stream",
          "name": "stderr",
          "text": [
            "epoch 994: 100%|██████████| 282/282 [00:08<00:00, 33.79it/s]\n"
          ]
        },
        {
          "output_type": "stream",
          "name": "stdout",
          "text": [
            "validation loss: 0.0003702422875083155 at epoch 995\n",
            "learning_rate: 0.00013421772800000008\n"
          ]
        },
        {
          "output_type": "stream",
          "name": "stderr",
          "text": [
            "epoch 995: 100%|██████████| 282/282 [00:07<00:00, 35.89it/s]\n"
          ]
        },
        {
          "output_type": "stream",
          "name": "stdout",
          "text": [
            "validation loss: 0.00043974318500194284 at epoch 996\n",
            "learning_rate: 0.00013421772800000008\n"
          ]
        },
        {
          "output_type": "stream",
          "name": "stderr",
          "text": [
            "epoch 996: 100%|██████████| 282/282 [00:08<00:00, 32.53it/s]\n"
          ]
        },
        {
          "output_type": "stream",
          "name": "stdout",
          "text": [
            "validation loss: 0.00044133714627888465 at epoch 997\n",
            "learning_rate: 0.00013421772800000008\n"
          ]
        },
        {
          "output_type": "stream",
          "name": "stderr",
          "text": [
            "epoch 997: 100%|██████████| 282/282 [00:08<00:00, 32.55it/s]\n"
          ]
        },
        {
          "output_type": "stream",
          "name": "stdout",
          "text": [
            "validation loss: 0.00035988026381366783 at epoch 998\n",
            "learning_rate: 0.00013421772800000008\n"
          ]
        },
        {
          "output_type": "stream",
          "name": "stderr",
          "text": [
            "epoch 998: 100%|██████████| 282/282 [00:07<00:00, 36.20it/s]\n"
          ]
        },
        {
          "output_type": "stream",
          "name": "stdout",
          "text": [
            "validation loss: 0.00046646191014183895 at epoch 999\n",
            "learning_rate: 0.00013421772800000008\n"
          ]
        },
        {
          "output_type": "stream",
          "name": "stderr",
          "text": [
            "epoch 999: 100%|██████████| 282/282 [00:08<00:00, 32.68it/s]\n"
          ]
        },
        {
          "output_type": "stream",
          "name": "stdout",
          "text": [
            "validation loss: 0.00042713368125259877 at epoch 1000\n",
            "learning_rate: 0.00013421772800000008\n"
          ]
        },
        {
          "output_type": "stream",
          "name": "stderr",
          "text": [
            "epoch 1000: 100%|██████████| 282/282 [00:08<00:00, 33.00it/s]"
          ]
        },
        {
          "output_type": "stream",
          "name": "stdout",
          "text": [
            "model loaded from ani_acrolein.pt\n"
          ]
        },
        {
          "output_type": "stream",
          "name": "stderr",
          "text": [
            "\n"
          ]
        }
      ],
      "source": [
        "model_ani.train(\n",
        "    molecular_database=acrolein_train,\n",
        "    property_to_learn=\"energy\",\n",
        "    xyz_derivative_property_to_learn=\"energy_grad\",\n",
        "    save_model=True,\n",
        ")"
      ]
    },
    {
      "cell_type": "markdown",
      "metadata": {
        "id": "ePJxXEdOR9_a"
      },
      "source": [
        "#Testing"
      ]
    },
    {
      "cell_type": "code",
      "execution_count": null,
      "metadata": {
        "id": "QZ00QUEc5wx_"
      },
      "outputs": [],
      "source": [
        "atoms = np.tile(np.array(1 * [6] + 1 * [8] + 2 * [6] + 4 * [1]), (5000, 1))\n",
        "acrolein_test = molecular_database.from_numpy(coordinates_trans_test, atoms)"
      ]
    },
    {
      "cell_type": "code",
      "execution_count": null,
      "metadata": {
        "id": "Pg1RPR6mSDhx"
      },
      "outputs": [],
      "source": [
        "acrolein_test.add_scalar_properties(epots_test, \"energy\")"
      ]
    },
    {
      "cell_type": "code",
      "execution_count": null,
      "metadata": {
        "id": "qiiCMU7dZGxL"
      },
      "outputs": [],
      "source": [
        "acrolein_test.add_xyz_derivative_properties(grads_test, \"energy\", \"energy_grad\")"
      ]
    },
    {
      "cell_type": "code",
      "execution_count": null,
      "metadata": {
        "colab": {
          "base_uri": "https://localhost:8080/"
        },
        "id": "bcrAOqQFSMSJ",
        "outputId": "f27c90b1-0eb4-45c0-ca8e-f8fa495120d8"
      },
      "outputs": [
        {
          "output_type": "execute_result",
          "data": {
            "text/plain": [
              "5000"
            ]
          },
          "metadata": {},
          "execution_count": 30
        }
      ],
      "source": [
        "acrolein_test.size"
      ]
    },
    {
      "cell_type": "code",
      "execution_count": null,
      "metadata": {
        "id": "gw0-f85SSVEC"
      },
      "outputs": [],
      "source": []
    },
    {
      "cell_type": "code",
      "execution_count": null,
      "metadata": {
        "id": "woEFYZaUSYPK"
      },
      "outputs": [],
      "source": [
        "mcd_test_mol = acrolein_test.copy()\n",
        "model_ani.predict(\n",
        "    molecular_database=mcd_test_mol,\n",
        "    property_to_predict=\"energy\",\n",
        "    xyz_derivative_property_to_predict=\"energy_grad\",\n",
        "    batch_size=100,\n",
        ")\n",
        "# mcd_test_mol.get_properties(\"energy\")\n",
        "# mcd_test_mol.get_xyz_derivative_properties(\"energy_grad\")\n",
        "np.savez('test.npz', energy=np.array(mcd_test_mol.get_properties(\"energy\")) /kcalpermol2eV, grad=np.array(mcd_test_mol.get_xyz_derivative_properties(\"energy_grad\")) / kcalpermol2eV)"
      ]
    },
    {
      "cell_type": "code",
      "execution_count": null,
      "metadata": {
        "colab": {
          "base_uri": "https://localhost:8080/"
        },
        "id": "ijwQe6JNZoK9",
        "outputId": "7ec45602-b29f-4a13-9ec2-46868999ac70"
      },
      "outputs": [
        {
          "output_type": "stream",
          "name": "stdout",
          "text": [
            "0.003044547786170216\n",
            "0.03316257407893068\n"
          ]
        }
      ],
      "source": [
        "mse_epot = np.mean(\n",
        "    ((mcd_test_mol.get_properties(\"energy\") - acrolein_test.get_properties(\"energy\")))** 2)\n",
        "print(np.sqrt(mse_epot))\n",
        "mse_grad = np.mean(\n",
        "    (\n",
        "        (\n",
        "            mcd_test_mol.get_xyz_derivative_properties(\"energy_grad\")\n",
        "            - acrolein_test.get_xyz_derivative_properties(\"energy_grad\")\n",
        "        )\n",
        "    )\n",
        "    ** 2\n",
        ")\n",
        "print(np.sqrt(mse_grad))"
      ]
    },
    {
      "cell_type": "code",
      "execution_count": null,
      "metadata": {
        "id": "jZmMsjUg111v"
      },
      "outputs": [],
      "source": [
        "mcd_train_mol = acrolein_train.copy()\n",
        "model_ani.predict(\n",
        "    molecular_database=mcd_train_mol,\n",
        "    property_to_predict=\"energy\",\n",
        "    xyz_derivative_property_to_predict=\"energy_grad\",\n",
        "    batch_size=100,\n",
        ")\n",
        "# mcd_test_mol.get_properties(\"energy\")\n",
        "# mcd_test_mol.get_xyz_derivative_properties(\"energy_grad\")\n",
        "np.savez('train.npz', energy=np.array(mcd_train_mol.get_properties(\"energy\")) /kcalpermol2eV, grad=np.array(mcd_train_mol.get_xyz_derivative_properties(\"energy_grad\")) / kcalpermol2eV)"
      ]
    },
    {
      "cell_type": "markdown",
      "metadata": {
        "id": "egFNlJyvWKRK"
      },
      "source": [
        "#Cis-Trans"
      ]
    },
    {
      "cell_type": "code",
      "execution_count": null,
      "metadata": {
        "id": "V7JSX3CQU4a1"
      },
      "outputs": [],
      "source": [
        "atoms = np.tile(np.array(1 * [6] + 1 * [8] + 2 * [6] + 4 * [1]), (20000, 1))\n",
        "acrolein_cis_trans = molecular_database.from_numpy(coordinates_cis_trans, atoms)\n",
        "acrolein_cis_trans.add_scalar_properties(energy_cis_trans.flatten() * kcalpermol2eV, \"energy\")\n",
        "acrolein_cis_trans.add_xyz_derivative_properties(grads_cis_trans * kcalpermol2eV, \"energy\", \"energy_grad\")\n",
        "\n",
        "mcd_cis_trans = acrolein_cis_trans.copy()\n",
        "\n",
        "model_ani.predict(\n",
        "    molecular_database=mcd_cis_trans,\n",
        "    property_to_predict=\"energy\",\n",
        "    xyz_derivative_property_to_predict=\"energy_grad\",\n",
        "    batch_size=100,\n",
        ")\n",
        "# mcd_test_mol.get_properties(\"energy\")\n",
        "# mcd_test_mol.get_xyz_derivative_properties(\"energy_grad\")\n",
        "np.savez('cis_trans.npz', energy=np.array(mcd_cis_trans.get_properties(\"energy\")) /kcalpermol2eV, grad=np.array(mcd_cis_trans.get_xyz_derivative_properties(\"energy_grad\")) / kcalpermol2eV)"
      ]
    },
    {
      "cell_type": "markdown",
      "metadata": {
        "id": "tWMX9srOcCv6"
      },
      "source": [
        "#Cis"
      ]
    },
    {
      "cell_type": "code",
      "execution_count": null,
      "metadata": {
        "id": "6EO9aZRLWaX0"
      },
      "outputs": [],
      "source": [
        "atoms = np.tile(np.array(1 * [6] + 1 * [8] + 2 * [6] + 4 * [1]), (50000, 1))\n",
        "acrolein_cis = molecular_database.from_numpy(coordinates_cis, atoms)\n",
        "acrolein_cis.add_scalar_properties(energy_cis.flatten() * kcalpermol2eV, \"energy\")\n",
        "acrolein_cis.add_xyz_derivative_properties(grads_cis * kcalpermol2eV, \"energy\", \"energy_grad\")\n",
        "\n",
        "mcd_cis = acrolein_cis.copy()\n",
        "\n",
        "model_ani.predict(\n",
        "    molecular_database=mcd_cis,\n",
        "    property_to_predict=\"energy\",\n",
        "    xyz_derivative_property_to_predict=\"energy_grad\",\n",
        "    batch_size=100,\n",
        ")\n",
        "# mcd_test_mol.get_properties(\"energy\")\n",
        "# mcd_test_mol.get_xyz_derivative_properties(\"energy_grad\")\n",
        "np.savez('cis.npz', energy=np.array(mcd_cis.get_properties(\"energy\")) /kcalpermol2eV, grad=np.array(mcd_cis.get_xyz_derivative_properties(\"energy_grad\")) / kcalpermol2eV)"
      ]
    }
  ],
  "metadata": {
    "accelerator": "GPU",
    "colab": {
      "gpuType": "T4",
      "provenance": []
    },
    "kernelspec": {
      "display_name": "Python 3",
      "name": "python3"
    },
    "language_info": {
      "name": "python"
    }
  },
  "nbformat": 4,
  "nbformat_minor": 0
}