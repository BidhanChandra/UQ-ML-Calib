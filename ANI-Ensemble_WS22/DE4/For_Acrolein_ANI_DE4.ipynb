{
  "cells": [
    {
      "cell_type": "markdown",
      "metadata": {
        "id": "wOjcyoxvuDwH"
      },
      "source": [
        "#Data Collection Acrolein"
      ]
    },
    {
      "cell_type": "code",
      "execution_count": null,
      "metadata": {
        "id": "Ge9wCK2bvk8Q"
      },
      "outputs": [],
      "source": [
        "import numpy as np\n",
        "from sklearn.metrics import r2_score, mean_absolute_error\n",
        "from sklearn.model_selection import train_test_split\n",
        "from tqdm import tqdm"
      ]
    },
    {
      "cell_type": "code",
      "execution_count": null,
      "metadata": {
        "colab": {
          "base_uri": "https://localhost:8080/"
        },
        "id": "VNKJbEKCwixz",
        "outputId": "23f18d7c-fd65-4475-f762-f76d2fb4abea"
      },
      "outputs": [
        {
          "output_type": "stream",
          "name": "stdout",
          "text": [
            "Collecting mlatom\n",
            "  Downloading mlatom-3.9.1-py3-none-any.whl.metadata (7.0 kB)\n",
            "Requirement already satisfied: numpy in /usr/local/lib/python3.10/dist-packages (from mlatom) (1.26.4)\n",
            "Requirement already satisfied: scipy in /usr/local/lib/python3.10/dist-packages (from mlatom) (1.13.1)\n",
            "Requirement already satisfied: h5py in /usr/local/lib/python3.10/dist-packages (from mlatom) (3.11.0)\n",
            "Collecting pyh5md (from mlatom)\n",
            "  Downloading pyh5md-1.0.0-py2.py3-none-any.whl.metadata (497 bytes)\n",
            "Requirement already satisfied: torch in /usr/local/lib/python3.10/dist-packages (from mlatom) (2.3.1+cu121)\n",
            "Collecting torchani (from mlatom)\n",
            "  Downloading torchani-2.2.4-py3-none-any.whl.metadata (6.0 kB)\n",
            "Requirement already satisfied: matplotlib in /usr/local/lib/python3.10/dist-packages (from mlatom) (3.7.1)\n",
            "Requirement already satisfied: statsmodels in /usr/local/lib/python3.10/dist-packages (from mlatom) (0.14.2)\n",
            "Requirement already satisfied: tqdm in /usr/local/lib/python3.10/dist-packages (from mlatom) (4.66.4)\n",
            "Requirement already satisfied: contourpy>=1.0.1 in /usr/local/lib/python3.10/dist-packages (from matplotlib->mlatom) (1.2.1)\n",
            "Requirement already satisfied: cycler>=0.10 in /usr/local/lib/python3.10/dist-packages (from matplotlib->mlatom) (0.12.1)\n",
            "Requirement already satisfied: fonttools>=4.22.0 in /usr/local/lib/python3.10/dist-packages (from matplotlib->mlatom) (4.53.1)\n",
            "Requirement already satisfied: kiwisolver>=1.0.1 in /usr/local/lib/python3.10/dist-packages (from matplotlib->mlatom) (1.4.5)\n",
            "Requirement already satisfied: packaging>=20.0 in /usr/local/lib/python3.10/dist-packages (from matplotlib->mlatom) (24.1)\n",
            "Requirement already satisfied: pillow>=6.2.0 in /usr/local/lib/python3.10/dist-packages (from matplotlib->mlatom) (9.4.0)\n",
            "Requirement already satisfied: pyparsing>=2.3.1 in /usr/local/lib/python3.10/dist-packages (from matplotlib->mlatom) (3.1.2)\n",
            "Requirement already satisfied: python-dateutil>=2.7 in /usr/local/lib/python3.10/dist-packages (from matplotlib->mlatom) (2.8.2)\n",
            "Requirement already satisfied: pandas!=2.1.0,>=1.4 in /usr/local/lib/python3.10/dist-packages (from statsmodels->mlatom) (2.1.4)\n",
            "Requirement already satisfied: patsy>=0.5.6 in /usr/local/lib/python3.10/dist-packages (from statsmodels->mlatom) (0.5.6)\n",
            "Requirement already satisfied: filelock in /usr/local/lib/python3.10/dist-packages (from torch->mlatom) (3.15.4)\n",
            "Requirement already satisfied: typing-extensions>=4.8.0 in /usr/local/lib/python3.10/dist-packages (from torch->mlatom) (4.12.2)\n",
            "Requirement already satisfied: sympy in /usr/local/lib/python3.10/dist-packages (from torch->mlatom) (1.13.1)\n",
            "Requirement already satisfied: networkx in /usr/local/lib/python3.10/dist-packages (from torch->mlatom) (3.3)\n",
            "Requirement already satisfied: jinja2 in /usr/local/lib/python3.10/dist-packages (from torch->mlatom) (3.1.4)\n",
            "Requirement already satisfied: fsspec in /usr/local/lib/python3.10/dist-packages (from torch->mlatom) (2024.6.1)\n",
            "Collecting nvidia-cuda-nvrtc-cu12==12.1.105 (from torch->mlatom)\n",
            "  Using cached nvidia_cuda_nvrtc_cu12-12.1.105-py3-none-manylinux1_x86_64.whl.metadata (1.5 kB)\n",
            "Collecting nvidia-cuda-runtime-cu12==12.1.105 (from torch->mlatom)\n",
            "  Using cached nvidia_cuda_runtime_cu12-12.1.105-py3-none-manylinux1_x86_64.whl.metadata (1.5 kB)\n",
            "Collecting nvidia-cuda-cupti-cu12==12.1.105 (from torch->mlatom)\n",
            "  Using cached nvidia_cuda_cupti_cu12-12.1.105-py3-none-manylinux1_x86_64.whl.metadata (1.6 kB)\n",
            "Collecting nvidia-cudnn-cu12==8.9.2.26 (from torch->mlatom)\n",
            "  Using cached nvidia_cudnn_cu12-8.9.2.26-py3-none-manylinux1_x86_64.whl.metadata (1.6 kB)\n",
            "Collecting nvidia-cublas-cu12==12.1.3.1 (from torch->mlatom)\n",
            "  Using cached nvidia_cublas_cu12-12.1.3.1-py3-none-manylinux1_x86_64.whl.metadata (1.5 kB)\n",
            "Collecting nvidia-cufft-cu12==11.0.2.54 (from torch->mlatom)\n",
            "  Using cached nvidia_cufft_cu12-11.0.2.54-py3-none-manylinux1_x86_64.whl.metadata (1.5 kB)\n",
            "Collecting nvidia-curand-cu12==10.3.2.106 (from torch->mlatom)\n",
            "  Using cached nvidia_curand_cu12-10.3.2.106-py3-none-manylinux1_x86_64.whl.metadata (1.5 kB)\n",
            "Collecting nvidia-cusolver-cu12==11.4.5.107 (from torch->mlatom)\n",
            "  Using cached nvidia_cusolver_cu12-11.4.5.107-py3-none-manylinux1_x86_64.whl.metadata (1.6 kB)\n",
            "Collecting nvidia-cusparse-cu12==12.1.0.106 (from torch->mlatom)\n",
            "  Using cached nvidia_cusparse_cu12-12.1.0.106-py3-none-manylinux1_x86_64.whl.metadata (1.6 kB)\n",
            "Collecting nvidia-nccl-cu12==2.20.5 (from torch->mlatom)\n",
            "  Using cached nvidia_nccl_cu12-2.20.5-py3-none-manylinux2014_x86_64.whl.metadata (1.8 kB)\n",
            "Collecting nvidia-nvtx-cu12==12.1.105 (from torch->mlatom)\n",
            "  Using cached nvidia_nvtx_cu12-12.1.105-py3-none-manylinux1_x86_64.whl.metadata (1.7 kB)\n",
            "Requirement already satisfied: triton==2.3.1 in /usr/local/lib/python3.10/dist-packages (from torch->mlatom) (2.3.1)\n",
            "Collecting nvidia-nvjitlink-cu12 (from nvidia-cusolver-cu12==11.4.5.107->torch->mlatom)\n",
            "  Downloading nvidia_nvjitlink_cu12-12.5.82-py3-none-manylinux2014_x86_64.whl.metadata (1.5 kB)\n",
            "Collecting lark-parser (from torchani->mlatom)\n",
            "  Downloading lark_parser-0.12.0-py2.py3-none-any.whl.metadata (1.7 kB)\n",
            "Requirement already satisfied: requests in /usr/local/lib/python3.10/dist-packages (from torchani->mlatom) (2.31.0)\n",
            "Requirement already satisfied: importlib-metadata in /usr/local/lib/python3.10/dist-packages (from torchani->mlatom) (8.2.0)\n",
            "Requirement already satisfied: pytz>=2020.1 in /usr/local/lib/python3.10/dist-packages (from pandas!=2.1.0,>=1.4->statsmodels->mlatom) (2024.1)\n",
            "Requirement already satisfied: tzdata>=2022.1 in /usr/local/lib/python3.10/dist-packages (from pandas!=2.1.0,>=1.4->statsmodels->mlatom) (2024.1)\n",
            "Requirement already satisfied: six in /usr/local/lib/python3.10/dist-packages (from patsy>=0.5.6->statsmodels->mlatom) (1.16.0)\n",
            "Requirement already satisfied: zipp>=0.5 in /usr/local/lib/python3.10/dist-packages (from importlib-metadata->torchani->mlatom) (3.19.2)\n",
            "Requirement already satisfied: MarkupSafe>=2.0 in /usr/local/lib/python3.10/dist-packages (from jinja2->torch->mlatom) (2.1.5)\n",
            "Requirement already satisfied: charset-normalizer<4,>=2 in /usr/local/lib/python3.10/dist-packages (from requests->torchani->mlatom) (3.3.2)\n",
            "Requirement already satisfied: idna<4,>=2.5 in /usr/local/lib/python3.10/dist-packages (from requests->torchani->mlatom) (3.7)\n",
            "Requirement already satisfied: urllib3<3,>=1.21.1 in /usr/local/lib/python3.10/dist-packages (from requests->torchani->mlatom) (2.0.7)\n",
            "Requirement already satisfied: certifi>=2017.4.17 in /usr/local/lib/python3.10/dist-packages (from requests->torchani->mlatom) (2024.7.4)\n",
            "Requirement already satisfied: mpmath<1.4,>=1.1.0 in /usr/local/lib/python3.10/dist-packages (from sympy->torch->mlatom) (1.3.0)\n",
            "Downloading mlatom-3.9.1-py3-none-any.whl (51.8 MB)\n",
            "\u001b[2K   \u001b[90m━━━━━━━━━━━━━━━━━━━━━━━━━━━━━━━━━━━━━━━━\u001b[0m \u001b[32m51.8/51.8 MB\u001b[0m \u001b[31m19.0 MB/s\u001b[0m eta \u001b[36m0:00:00\u001b[0m\n",
            "\u001b[?25hDownloading pyh5md-1.0.0-py2.py3-none-any.whl (4.4 kB)\n",
            "Using cached nvidia_cublas_cu12-12.1.3.1-py3-none-manylinux1_x86_64.whl (410.6 MB)\n",
            "Using cached nvidia_cuda_cupti_cu12-12.1.105-py3-none-manylinux1_x86_64.whl (14.1 MB)\n",
            "Using cached nvidia_cuda_nvrtc_cu12-12.1.105-py3-none-manylinux1_x86_64.whl (23.7 MB)\n",
            "Using cached nvidia_cuda_runtime_cu12-12.1.105-py3-none-manylinux1_x86_64.whl (823 kB)\n",
            "Using cached nvidia_cudnn_cu12-8.9.2.26-py3-none-manylinux1_x86_64.whl (731.7 MB)\n",
            "Using cached nvidia_cufft_cu12-11.0.2.54-py3-none-manylinux1_x86_64.whl (121.6 MB)\n",
            "Using cached nvidia_curand_cu12-10.3.2.106-py3-none-manylinux1_x86_64.whl (56.5 MB)\n",
            "Using cached nvidia_cusolver_cu12-11.4.5.107-py3-none-manylinux1_x86_64.whl (124.2 MB)\n",
            "Using cached nvidia_cusparse_cu12-12.1.0.106-py3-none-manylinux1_x86_64.whl (196.0 MB)\n",
            "Using cached nvidia_nccl_cu12-2.20.5-py3-none-manylinux2014_x86_64.whl (176.2 MB)\n",
            "Using cached nvidia_nvtx_cu12-12.1.105-py3-none-manylinux1_x86_64.whl (99 kB)\n",
            "Downloading torchani-2.2.4-py3-none-any.whl (10.9 MB)\n",
            "\u001b[2K   \u001b[90m━━━━━━━━━━━━━━━━━━━━━━━━━━━━━━━━━━━━━━━━\u001b[0m \u001b[32m10.9/10.9 MB\u001b[0m \u001b[31m16.7 MB/s\u001b[0m eta \u001b[36m0:00:00\u001b[0m\n",
            "\u001b[?25hDownloading lark_parser-0.12.0-py2.py3-none-any.whl (103 kB)\n",
            "\u001b[2K   \u001b[90m━━━━━━━━━━━━━━━━━━━━━━━━━━━━━━━━━━━━━━━━\u001b[0m \u001b[32m103.5/103.5 kB\u001b[0m \u001b[31m10.2 MB/s\u001b[0m eta \u001b[36m0:00:00\u001b[0m\n",
            "\u001b[?25hDownloading nvidia_nvjitlink_cu12-12.5.82-py3-none-manylinux2014_x86_64.whl (21.3 MB)\n",
            "\u001b[2K   \u001b[90m━━━━━━━━━━━━━━━━━━━━━━━━━━━━━━━━━━━━━━━━\u001b[0m \u001b[32m21.3/21.3 MB\u001b[0m \u001b[31m37.5 MB/s\u001b[0m eta \u001b[36m0:00:00\u001b[0m\n",
            "\u001b[?25hInstalling collected packages: pyh5md, lark-parser, nvidia-nvtx-cu12, nvidia-nvjitlink-cu12, nvidia-nccl-cu12, nvidia-curand-cu12, nvidia-cufft-cu12, nvidia-cuda-runtime-cu12, nvidia-cuda-nvrtc-cu12, nvidia-cuda-cupti-cu12, nvidia-cublas-cu12, nvidia-cusparse-cu12, nvidia-cudnn-cu12, nvidia-cusolver-cu12, torchani, mlatom\n",
            "Successfully installed lark-parser-0.12.0 mlatom-3.9.1 nvidia-cublas-cu12-12.1.3.1 nvidia-cuda-cupti-cu12-12.1.105 nvidia-cuda-nvrtc-cu12-12.1.105 nvidia-cuda-runtime-cu12-12.1.105 nvidia-cudnn-cu12-8.9.2.26 nvidia-cufft-cu12-11.0.2.54 nvidia-curand-cu12-10.3.2.106 nvidia-cusolver-cu12-11.4.5.107 nvidia-cusparse-cu12-12.1.0.106 nvidia-nccl-cu12-2.20.5 nvidia-nvjitlink-cu12-12.5.82 nvidia-nvtx-cu12-12.1.105 pyh5md-1.0.0 torchani-2.2.4\n",
            "Cloning into 'ulamdyn'...\n",
            "remote: Enumerating objects: 1097, done.\u001b[K\n",
            "remote: Counting objects: 100% (187/187), done.\u001b[K\n",
            "remote: Compressing objects: 100% (74/74), done.\u001b[K\n",
            "remote: Total 1097 (delta 116), reused 130 (delta 90), pack-reused 910 (from 1)\u001b[K\n",
            "Receiving objects: 100% (1097/1097), 15.66 MiB | 26.04 MiB/s, done.\n",
            "Resolving deltas: 100% (625/625), done.\n",
            "Processing ./ulamdyn\n",
            "  Preparing metadata (setup.py) ... \u001b[?25l\u001b[?25hdone\n",
            "Collecting rmsd (from ulamdyn==0+untagged.86.g3547f09)\n",
            "  Downloading rmsd-1.5.1-py3-none-any.whl.metadata (5.3 kB)\n",
            "Requirement already satisfied: h5py in /usr/local/lib/python3.10/dist-packages (from ulamdyn==0+untagged.86.g3547f09) (3.11.0)\n",
            "Requirement already satisfied: numpy in /usr/local/lib/python3.10/dist-packages (from ulamdyn==0+untagged.86.g3547f09) (1.26.4)\n",
            "Requirement already satisfied: scipy in /usr/local/lib/python3.10/dist-packages (from ulamdyn==0+untagged.86.g3547f09) (1.13.1)\n",
            "Requirement already satisfied: joblib in /usr/local/lib/python3.10/dist-packages (from ulamdyn==0+untagged.86.g3547f09) (1.4.2)\n",
            "Requirement already satisfied: pandas in /usr/local/lib/python3.10/dist-packages (from ulamdyn==0+untagged.86.g3547f09) (2.1.4)\n",
            "Requirement already satisfied: scikit-learn in /usr/local/lib/python3.10/dist-packages (from ulamdyn==0+untagged.86.g3547f09) (1.3.2)\n",
            "Collecting tslearn (from ulamdyn==0+untagged.86.g3547f09)\n",
            "  Downloading tslearn-0.6.3-py3-none-any.whl.metadata (14 kB)\n",
            "Requirement already satisfied: python-dateutil>=2.8.2 in /usr/local/lib/python3.10/dist-packages (from pandas->ulamdyn==0+untagged.86.g3547f09) (2.8.2)\n",
            "Requirement already satisfied: pytz>=2020.1 in /usr/local/lib/python3.10/dist-packages (from pandas->ulamdyn==0+untagged.86.g3547f09) (2024.1)\n",
            "Requirement already satisfied: tzdata>=2022.1 in /usr/local/lib/python3.10/dist-packages (from pandas->ulamdyn==0+untagged.86.g3547f09) (2024.1)\n",
            "Requirement already satisfied: threadpoolctl>=2.0.0 in /usr/local/lib/python3.10/dist-packages (from scikit-learn->ulamdyn==0+untagged.86.g3547f09) (3.5.0)\n",
            "Requirement already satisfied: numba in /usr/local/lib/python3.10/dist-packages (from tslearn->ulamdyn==0+untagged.86.g3547f09) (0.60.0)\n",
            "Requirement already satisfied: six>=1.5 in /usr/local/lib/python3.10/dist-packages (from python-dateutil>=2.8.2->pandas->ulamdyn==0+untagged.86.g3547f09) (1.16.0)\n",
            "Requirement already satisfied: llvmlite<0.44,>=0.43.0dev0 in /usr/local/lib/python3.10/dist-packages (from numba->tslearn->ulamdyn==0+untagged.86.g3547f09) (0.43.0)\n",
            "Downloading rmsd-1.5.1-py3-none-any.whl (17 kB)\n",
            "Downloading tslearn-0.6.3-py3-none-any.whl (374 kB)\n",
            "\u001b[2K   \u001b[90m━━━━━━━━━━━━━━━━━━━━━━━━━━━━━━━━━━━━━━━━\u001b[0m \u001b[32m374.4/374.4 kB\u001b[0m \u001b[31m10.0 MB/s\u001b[0m eta \u001b[36m0:00:00\u001b[0m\n",
            "\u001b[?25hBuilding wheels for collected packages: ulamdyn\n",
            "  Building wheel for ulamdyn (setup.py) ... \u001b[?25l\u001b[?25hdone\n",
            "  Created wheel for ulamdyn: filename=ulamdyn-0+untagged.86.g3547f09-py3-none-any.whl size=82743 sha256=c9fa255d4ccbd3453af316106e6ab1f8ed2349f5685d49f04c07b903c078f5d1\n",
            "  Stored in directory: /tmp/pip-ephem-wheel-cache-0so57t3u/wheels/ea/44/6c/17ce24d141475292bbb4c82ed8acc25f0b63a566b8af3500fc\n",
            "Successfully built ulamdyn\n",
            "Installing collected packages: rmsd, tslearn, ulamdyn\n",
            "Successfully installed rmsd-1.5.1 tslearn-0.6.3 ulamdyn-0+untagged.86.g3547f09\n"
          ]
        }
      ],
      "source": [
        "!pip install mlatom\n",
        "!git clone https://gitlab.com/maxjr82/ulamdyn.git\n",
        "!pip install ulamdyn/"
      ]
    },
    {
      "cell_type": "code",
      "execution_count": null,
      "metadata": {
        "colab": {
          "base_uri": "https://localhost:8080/"
        },
        "id": "7z8eznaooDgP",
        "outputId": "ac6357a7-d1cb-4c50-f710-9d4a060f791b"
      },
      "outputs": [
        {
          "output_type": "stream",
          "name": "stdout",
          "text": [
            "R -> (120000, 8, 3)\n",
            "F -> (120000, 8, 3)\n",
            "Q -> (120000, 8, 1)\n",
            "DP -> (120000, 3)\n",
            "QP -> (120000, 3, 3)\n",
            "P -> (120000, 6)\n",
            "RC -> (120000, 3)\n",
            "HL -> (120000, 2)\n",
            "E -> (120000, 1)\n",
            "Z -> (8,)\n",
            "R2 -> (120000, 1)\n",
            "CONF -> (120000, 1)\n",
            "['C', 'O', 'C', 'C', 'H', 'H', 'H', 'H']\n"
          ]
        }
      ],
      "source": [
        "from typing_extensions import get_overloads\n",
        "data = np.load('ws22_acrolein.npz')\n",
        "\n",
        "for key, val in data.items():\n",
        "    print(key, '->', val.shape)\n",
        "\n",
        "coordinates_cis_trans = np.array(data['R'][:20000])\n",
        "energy_cis_trans = np.array(data['E'][:20000])\n",
        "grads_cis_trans = -np.array(data['F'][:20000])\n",
        "\n",
        "\n",
        "atoms = []\n",
        "\n",
        "for i in range(data['Z'].shape[0]):\n",
        "    if data['Z'][i] == 6:\n",
        "        atoms.append('C')\n",
        "    elif data['Z'][i] == 8:\n",
        "        atoms.append('O')\n",
        "    elif data['Z'][i] == 1:\n",
        "        atoms.append('H')\n",
        "\n",
        "print(atoms)"
      ]
    },
    {
      "cell_type": "code",
      "execution_count": null,
      "metadata": {
        "id": "ofeIVgHWr5qQ"
      },
      "outputs": [],
      "source": [
        "coordinates_trans = np.array(data['R'][70000:])\n",
        "energy_trans = np.array(data['E'][70000:])\n",
        "grads_trans = -np.array(data['F'][70000:])"
      ]
    },
    {
      "cell_type": "code",
      "execution_count": null,
      "metadata": {
        "id": "huFf9938vuRA"
      },
      "outputs": [],
      "source": [
        "coordinates_cis = np.array(data['R'][20000:70000])\n",
        "energy_cis = np.array(data['E'][20000:70000])\n",
        "grads_cis = -np.array(data['F'][20000:70000])"
      ]
    },
    {
      "cell_type": "code",
      "execution_count": null,
      "metadata": {
        "id": "bjSsy6Fzug6p"
      },
      "outputs": [],
      "source": [
        "coordinates_trans_train, coordinates_trans_test, en_trans_train, en_trans_test, grads_trans_train, grads_trans_test = train_test_split(coordinates_trans, energy_trans, grads_trans, train_size = 0.90, random_state=0)"
      ]
    },
    {
      "cell_type": "code",
      "execution_count": null,
      "metadata": {
        "colab": {
          "base_uri": "https://localhost:8080/"
        },
        "id": "HyZZQweo4vxf",
        "outputId": "b415e8e5-36e0-43db-a335-088697c14f5e"
      },
      "outputs": [
        {
          "output_type": "execute_result",
          "data": {
            "text/plain": [
              "array([[-120265.54525667],\n",
              "       [-120295.6376437 ],\n",
              "       [-120290.32390238],\n",
              "       ...,\n",
              "       [-120294.09290581],\n",
              "       [-120273.4211467 ],\n",
              "       [-120292.20436419]])"
            ]
          },
          "metadata": {},
          "execution_count": 7
        }
      ],
      "source": [
        "en_trans_train"
      ]
    },
    {
      "cell_type": "code",
      "execution_count": null,
      "metadata": {
        "colab": {
          "base_uri": "https://localhost:8080/"
        },
        "id": "Emluw96Ou2Qj",
        "outputId": "a5f910a0-e5e3-4686-aef7-1c666d244ac1"
      },
      "outputs": [
        {
          "output_type": "stream",
          "name": "stdout",
          "text": [
            "(45000, 1)\n",
            "(5000, 1)\n"
          ]
        }
      ],
      "source": [
        "print(en_trans_train.shape)\n",
        "print(en_trans_test.shape)"
      ]
    },
    {
      "cell_type": "code",
      "execution_count": null,
      "metadata": {
        "id": "lZj6P76dgN2F"
      },
      "outputs": [],
      "source": [
        "import ulamdyn as ulmd\n",
        "import os\n",
        "\n",
        "from mlatom.data import molecular_database, molecule\n",
        "from mlatom.interfaces.torchani_interface import ani\n",
        "# from mlatom.interfaces.gap_interface import gap\n",
        "from mlatom import models\n",
        "from mlatom.constants import Hartree2eV, Angstrom2Bohr, kcalpermol2eV\n",
        "import torch"
      ]
    },
    {
      "cell_type": "code",
      "execution_count": null,
      "metadata": {
        "id": "gCzK7ZVax5wn"
      },
      "outputs": [],
      "source": [
        "import seaborn as sns\n",
        "import matplotlib.pyplot as plt\n",
        "from matplotlib.ticker import StrMethodFormatter\n",
        "\n",
        "import ipywidgets as widgets\n",
        "from ipywidgets import interact"
      ]
    },
    {
      "cell_type": "code",
      "execution_count": null,
      "metadata": {
        "id": "3c9-u_2Yx9g3"
      },
      "outputs": [],
      "source": [
        "epots_train = en_trans_train.flatten() * kcalpermol2eV\n",
        "epots_test = en_trans_test.flatten() * kcalpermol2eV\n",
        "grads_train = grads_trans_train * kcalpermol2eV\n",
        "grads_test = grads_trans_test * kcalpermol2eV"
      ]
    },
    {
      "cell_type": "code",
      "execution_count": null,
      "metadata": {
        "colab": {
          "base_uri": "https://localhost:8080/"
        },
        "id": "ExU-bYt4437L",
        "outputId": "885ff6eb-cf08-4c62-e049-c2ac9862e43e"
      },
      "outputs": [
        {
          "output_type": "execute_result",
          "data": {
            "text/plain": [
              "array([-5217.51587023, -5218.8213772 , -5218.59084958, ...,\n",
              "       -5218.75436138, -5217.85755231, -5218.67243021])"
            ]
          },
          "metadata": {},
          "execution_count": 12
        }
      ],
      "source": [
        "epots_train"
      ]
    },
    {
      "cell_type": "code",
      "execution_count": null,
      "metadata": {
        "id": "rX81SoKdyL1v"
      },
      "outputs": [],
      "source": [
        "atoms = np.tile(np.array(1 * [6] + 1 * [8] + 2 * [6] + 4 * [1]), (45000, 1))\n",
        "acrolein_train = molecular_database.from_numpy(coordinates_trans_train, atoms)"
      ]
    },
    {
      "cell_type": "code",
      "execution_count": null,
      "metadata": {
        "colab": {
          "base_uri": "https://localhost:8080/"
        },
        "id": "caDLo1Aw1wTQ",
        "outputId": "ac4ca5cc-aa23-42fb-a8c6-9a8ae956334d"
      },
      "outputs": [
        {
          "output_type": "execute_result",
          "data": {
            "text/plain": [
              "(45000, 8)"
            ]
          },
          "metadata": {},
          "execution_count": 14
        }
      ],
      "source": [
        "acrolein_train.element_symbols.shape"
      ]
    },
    {
      "cell_type": "code",
      "execution_count": null,
      "metadata": {
        "colab": {
          "base_uri": "https://localhost:8080/"
        },
        "id": "VP1braDw1_t3",
        "outputId": "a9bb0f35-6b1d-4467-aa31-847966445ea6"
      },
      "outputs": [
        {
          "output_type": "execute_result",
          "data": {
            "text/plain": [
              "(45000, 8, 3)"
            ]
          },
          "metadata": {},
          "execution_count": 15
        }
      ],
      "source": [
        "acrolein_train.xyz_coordinates.shape"
      ]
    },
    {
      "cell_type": "code",
      "execution_count": null,
      "metadata": {
        "colab": {
          "base_uri": "https://localhost:8080/"
        },
        "id": "gdpl5_O62CdX",
        "outputId": "506802f0-50ad-4704-d702-389397f21ff3"
      },
      "outputs": [
        {
          "output_type": "execute_result",
          "data": {
            "text/plain": [
              "['__add__',\n",
              " '__class__',\n",
              " '__delattr__',\n",
              " '__dict__',\n",
              " '__dir__',\n",
              " '__doc__',\n",
              " '__eq__',\n",
              " '__format__',\n",
              " '__ge__',\n",
              " '__getattribute__',\n",
              " '__getitem__',\n",
              " '__gt__',\n",
              " '__hash__',\n",
              " '__init__',\n",
              " '__init_subclass__',\n",
              " '__iter__',\n",
              " '__le__',\n",
              " '__len__',\n",
              " '__lt__',\n",
              " '__module__',\n",
              " '__ne__',\n",
              " '__new__',\n",
              " '__reduce__',\n",
              " '__reduce_ex__',\n",
              " '__repr__',\n",
              " '__setattr__',\n",
              " '__sizeof__',\n",
              " '__str__',\n",
              " '__subclasshook__',\n",
              " '__weakref__',\n",
              " '_is_uniform_cell',\n",
              " '_load',\n",
              " 'add_hessian_properties',\n",
              " 'add_scalar_properties',\n",
              " 'add_scalar_properties_from_file',\n",
              " 'add_xyz_derivative_properties',\n",
              " 'add_xyz_derivative_properties_from_file',\n",
              " 'add_xyz_vectorial_properties',\n",
              " 'add_xyz_vectorial_properties_from_file',\n",
              " 'add_xyz_vectorial_properties_from_string',\n",
              " 'append',\n",
              " 'atomic_numbers',\n",
              " 'batches',\n",
              " 'charges',\n",
              " 'copy',\n",
              " 'dump',\n",
              " 'element_symbols',\n",
              " 'filter_by_property',\n",
              " 'from_numpy',\n",
              " 'from_smiles_file',\n",
              " 'from_smiles_string',\n",
              " 'from_xyz_file',\n",
              " 'from_xyz_string',\n",
              " 'get_atomic_numbers',\n",
              " 'get_element_symbols',\n",
              " 'get_number_of_atoms',\n",
              " 'get_properties',\n",
              " 'get_xyz_derivative_properties',\n",
              " 'get_xyz_string',\n",
              " 'get_xyz_vectorial_properties',\n",
              " 'ids',\n",
              " 'load',\n",
              " 'molecules',\n",
              " 'multiplicities',\n",
              " 'nuclear_masses',\n",
              " 'number_of_atoms',\n",
              " 'proliferate',\n",
              " 'read_from_numpy',\n",
              " 'read_from_smiles_file',\n",
              " 'read_from_smiles_string',\n",
              " 'read_from_xyz_file',\n",
              " 'read_from_xyz_string',\n",
              " 'set_properties',\n",
              " 'size',\n",
              " 'smiles',\n",
              " 'split',\n",
              " 'sum_properties',\n",
              " 'write_file_energy_gradients',\n",
              " 'write_file_with_hessian',\n",
              " 'write_file_with_properties',\n",
              " 'write_file_with_smiles',\n",
              " 'write_file_with_xyz_coordinates',\n",
              " 'write_file_with_xyz_derivative_properties',\n",
              " 'write_file_with_xyz_vectorial_properties',\n",
              " 'xyz_coordinates']"
            ]
          },
          "metadata": {},
          "execution_count": 16
        }
      ],
      "source": [
        "dir(acrolein_train)"
      ]
    },
    {
      "cell_type": "code",
      "execution_count": null,
      "metadata": {
        "id": "ENGGDrGz2FTw"
      },
      "outputs": [],
      "source": [
        "acrolein_train.add_scalar_properties(epots_train, \"energy\")"
      ]
    },
    {
      "cell_type": "code",
      "execution_count": null,
      "metadata": {
        "id": "HdYhO-VbS5Ef"
      },
      "outputs": [],
      "source": [
        "acrolein_train.add_xyz_derivative_properties(grads_train, \"energy\", \"energy_grad\")"
      ]
    },
    {
      "cell_type": "code",
      "execution_count": null,
      "metadata": {
        "colab": {
          "base_uri": "https://localhost:8080/"
        },
        "id": "ecLlx9wP2OwC",
        "outputId": "d25bc7dc-f24e-4c89-ca2a-05a9ac700bf2"
      },
      "outputs": [
        {
          "output_type": "execute_result",
          "data": {
            "text/plain": [
              "45000"
            ]
          },
          "metadata": {},
          "execution_count": 19
        }
      ],
      "source": [
        "acrolein_train.size"
      ]
    },
    {
      "cell_type": "code",
      "execution_count": null,
      "metadata": {
        "colab": {
          "base_uri": "https://localhost:8080/"
        },
        "id": "sKo7_E-K4M2G",
        "outputId": "5af7d2e2-f817-4201-e309-bbb910dad5b8"
      },
      "outputs": [
        {
          "output_type": "execute_result",
          "data": {
            "text/plain": [
              "(45000,)"
            ]
          },
          "metadata": {},
          "execution_count": 20
        }
      ],
      "source": [
        "acrolein_train.get_properties('energy').shape"
      ]
    },
    {
      "cell_type": "code",
      "execution_count": null,
      "metadata": {
        "colab": {
          "base_uri": "https://localhost:8080/"
        },
        "id": "Z5KKyFCBTFVx",
        "outputId": "6d775429-2a0e-4dfd-fe32-8b5c21c27884"
      },
      "outputs": [
        {
          "output_type": "execute_result",
          "data": {
            "text/plain": [
              "(45000, 8, 3)"
            ]
          },
          "metadata": {},
          "execution_count": 21
        }
      ],
      "source": [
        "acrolein_train.get_xyz_derivative_properties('energy_grad').shape"
      ]
    },
    {
      "cell_type": "code",
      "execution_count": null,
      "metadata": {
        "id": "bBHu6Civ3fn-"
      },
      "outputs": [],
      "source": [
        "import random\n",
        "import torch\n",
        "import os\n",
        "import sys\n",
        "import numpy as np\n",
        "import pandas as pd\n",
        "import ulamdyn as ulmd\n",
        "import torch\n",
        "import torchani\n",
        "from mlatom.data import molecular_database, molecule\n",
        "from mlatom.interfaces.torchani_interface import ani\n",
        "from mlatom.constants import Hartree2eV, Angstrom2Bohr"
      ]
    },
    {
      "cell_type": "code",
      "execution_count": null,
      "metadata": {
        "id": "WEat_Cfphy1-"
      },
      "outputs": [],
      "source": [
        "def set_seed(seed):\n",
        "    # Set the seed for the Python random module\n",
        "    random.seed(seed)\n",
        "\n",
        "    # Set the seed for NumPy\n",
        "    np.random.seed(seed)\n",
        "\n",
        "    # Set the seed for PyTorch (CPU)\n",
        "    torch.manual_seed(seed)\n",
        "\n",
        "    # If using a GPU, set the seed for PyTorch (GPU)\n",
        "    if torch.cuda.is_available():\n",
        "        torch.cuda.manual_seed(seed)\n",
        "        torch.cuda.manual_seed_all(seed)  # if you are using multi-GPU.\n",
        "\n",
        "    # Ensure deterministic behavior for some operations\n",
        "    torch.backends.cudnn.deterministic = True\n",
        "    torch.backends.cudnn.benchmark = False\n",
        "\n",
        "# Set a seed value\n",
        "seed = 0\n",
        "set_seed(seed)"
      ]
    },
    {
      "cell_type": "code",
      "execution_count": null,
      "metadata": {
        "id": "sJHpYOs6rFkQ"
      },
      "outputs": [],
      "source": [
        "hyperparams = models.hyperparameters({\n",
        "        #### Training ####\n",
        "        'batch_size':           models.hyperparameter(value=128, minval=1, maxval=1024, optimization_space='linear', dtype=int),\n",
        "        'max_epochs':           models.hyperparameter(value=1000, minval=100, maxval=1000000, optimization_space='log', dtype=int),\n",
        "        'learning_rate':                    models.hyperparameter(value=0.002, minval=0.0001, maxval=0.01, optimization_space='log'),\n",
        "        'early_stopping_learning_rate':     models.hyperparameter(value=1.0E-7, minval=1.0E-6, maxval=1.0E-4, optimization_space='log'),\n",
        "        'lr_reduce_patience':   models.hyperparameter(value=50, minval=16, maxval=256, optimization_space='linear'),\n",
        "        'lr_reduce_factor':     models.hyperparameter(value=0.8, minval=0.1, maxval=0.9, optimization_space='linear'),\n",
        "        'lr_reduce_threshold':  models.hyperparameter(value=0.0, minval=-0.01, maxval=0.01, optimization_space='linear'),\n",
        "        #### Loss ####\n",
        "        'force_coefficient':    models.hyperparameter(value=0.1, minval=0.05, maxval=5, optimization_space='linear'),\n",
        "        'median_loss':          models.hyperparameter(value=False),\n",
        "        'validation_loss_type': models.hyperparameter(value='mean_RMSE', choices=['MSE', 'mean_RMSE']),\n",
        "        #### Network ####\n",
        "        \"neurons\":              models.hyperparameter(value=[[72, 64, 32, 16]]),\n",
        "        \"activation_function\":  models.hyperparameter(value=lambda: torch.nn.CELU(), optimization_space='choice', choices=[\"CELU\", \"ReLU\", \"GELU\"]),\n",
        "        \"fixed_layers\":         models.hyperparameter(value=False),\n",
        "        #### AEV ####\n",
        "        'Rcr':                  models.hyperparameter(value=5.2000e+00, minval=1.0, maxval=10.0, optimization_space='linear'),\n",
        "        'Rca':                  models.hyperparameter(value=3.5000e+00, minval=1.0, maxval=10.0, optimization_space='linear'),\n",
        "        'EtaR':                 models.hyperparameter(value=[1.6000000e+01]),\n",
        "        'ShfR':                 models.hyperparameter(value=[9.0000000e-01, 1.1687500e+00, 1.4375000e+00, 1.7062500e+00, 1.9750000e+00, 2.2437500e+00, 2.5125000e+00, 2.7812500e+00, 3.0500000e+00, 3.3187500e+00, 3.5875000e+00, 3.8562500e+00, 4.1250000e+00, 4.3937500e+00, 4.6625000e+00, 4.9312500e+00]),\n",
        "        'Zeta':                 models.hyperparameter(value=[3.2000000e+01]),\n",
        "        'ShfZ':                 models.hyperparameter(value=[1.9634954e-01, 5.8904862e-01, 9.8174770e-01, 1.3744468e+00, 1.7671459e+00, 2.1598449e+00, 2.5525440e+00, 2.9452431e+00]),\n",
        "        'EtaA':                 models.hyperparameter(value=[8.0000000e+00]),\n",
        "        'ShfA':                 models.hyperparameter(value=[9.0000000e-01, 1.5500000e+00, 2.2000000e+00, 2.8500000e+00]),\n",
        "    })"
      ]
    },
    {
      "cell_type": "code",
      "execution_count": null,
      "metadata": {
        "colab": {
          "base_uri": "https://localhost:8080/"
        },
        "id": "Y_J70_Kz3qqn",
        "outputId": "dcacc28a-f97a-40c8-8cd8-8df6dcb07386"
      },
      "outputs": [
        {
          "output_type": "stream",
          "name": "stdout",
          "text": [
            "the trained ANI model will be saved in ani_acrolein.pt\n"
          ]
        }
      ],
      "source": [
        "model_ani = ani(\"ani_acrolein.pt\")\n",
        "model_ani.hyperparameters = hyperparams"
      ]
    },
    {
      "cell_type": "code",
      "execution_count": null,
      "metadata": {
        "colab": {
          "base_uri": "https://localhost:8080/"
        },
        "id": "dfHvFwXo3vVf",
        "outputId": "632fcae7-3d26-4046-bbf8-97d1db626e3f"
      },
      "outputs": [
        {
          "metadata": {
            "tags": null
          },
          "name": "stdout",
          "output_type": "stream",
          "text": [
            "Sequential(\n",
            "  (0): AEVComputer()\n",
            "  (1): ANIModel(\n",
            "    (C): Sequential(\n",
            "      (0): Linear(in_features=240, out_features=72, bias=True)\n",
            "      (1): CELU(alpha=1.0)\n",
            "      (2): Linear(in_features=72, out_features=64, bias=True)\n",
            "      (3): CELU(alpha=1.0)\n",
            "      (4): Linear(in_features=64, out_features=32, bias=True)\n",
            "      (5): CELU(alpha=1.0)\n",
            "      (6): Linear(in_features=32, out_features=16, bias=True)\n",
            "      (7): CELU(alpha=1.0)\n",
            "      (8): Linear(in_features=16, out_features=1, bias=True)\n",
            "    )\n",
            "    (H): Sequential(\n",
            "      (0): Linear(in_features=240, out_features=72, bias=True)\n",
            "      (1): CELU(alpha=1.0)\n",
            "      (2): Linear(in_features=72, out_features=64, bias=True)\n",
            "      (3): CELU(alpha=1.0)\n",
            "      (4): Linear(in_features=64, out_features=32, bias=True)\n",
            "      (5): CELU(alpha=1.0)\n",
            "      (6): Linear(in_features=32, out_features=16, bias=True)\n",
            "      (7): CELU(alpha=1.0)\n",
            "      (8): Linear(in_features=16, out_features=1, bias=True)\n",
            "    )\n",
            "    (O): Sequential(\n",
            "      (0): Linear(in_features=240, out_features=72, bias=True)\n",
            "      (1): CELU(alpha=1.0)\n",
            "      (2): Linear(in_features=72, out_features=64, bias=True)\n",
            "      (3): CELU(alpha=1.0)\n",
            "      (4): Linear(in_features=64, out_features=32, bias=True)\n",
            "      (5): CELU(alpha=1.0)\n",
            "      (6): Linear(in_features=32, out_features=16, bias=True)\n",
            "      (7): CELU(alpha=1.0)\n",
            "      (8): Linear(in_features=16, out_features=1, bias=True)\n",
            "    )\n",
            "  )\n",
            ")\n",
            "training starting from epoch 1\n",
            "validation loss: 0.06560242297914293 at epoch 1\n",
            "learning_rate: 0.002\n",
            "model saved in ani_acrolein.pt\n"
          ]
        },
        {
          "metadata": {
            "tags": null
          },
          "name": "stderr",
          "output_type": "stream",
          "text": [
            "epoch 1: 100%|██████████| 282/282 [00:08<00:00, 32.52it/s]\n"
          ]
        },
        {
          "metadata": {
            "tags": null
          },
          "name": "stdout",
          "output_type": "stream",
          "text": [
            "validation loss: 0.07550335476133559 at epoch 2\n",
            "learning_rate: 0.002\n"
          ]
        },
        {
          "metadata": {
            "tags": null
          },
          "name": "stderr",
          "output_type": "stream",
          "text": [
            "epoch 2: 100%|██████████| 282/282 [00:07<00:00, 38.01it/s]\n"
          ]
        },
        {
          "metadata": {
            "tags": null
          },
          "name": "stdout",
          "output_type": "stream",
          "text": [
            "validation loss: 0.010338096075587803 at epoch 3\n",
            "learning_rate: 0.002\n",
            "model saved in ani_acrolein.pt\n"
          ]
        },
        {
          "metadata": {
            "tags": null
          },
          "name": "stderr",
          "output_type": "stream",
          "text": [
            "epoch 3: 100%|██████████| 282/282 [00:08<00:00, 34.80it/s]\n"
          ]
        },
        {
          "metadata": {
            "tags": null
          },
          "name": "stdout",
          "output_type": "stream",
          "text": [
            "validation loss: 0.004936054640346103 at epoch 4\n",
            "learning_rate: 0.002\n",
            "model saved in ani_acrolein.pt\n"
          ]
        },
        {
          "metadata": {
            "tags": null
          },
          "name": "stderr",
          "output_type": "stream",
          "text": [
            "epoch 4: 100%|██████████| 282/282 [00:08<00:00, 33.80it/s]\n"
          ]
        },
        {
          "metadata": {
            "tags": null
          },
          "name": "stdout",
          "output_type": "stream",
          "text": [
            "validation loss: 0.0056704123417536416 at epoch 5\n",
            "learning_rate: 0.002\n"
          ]
        },
        {
          "metadata": {
            "tags": null
          },
          "name": "stderr",
          "output_type": "stream",
          "text": [
            "epoch 5: 100%|██████████| 282/282 [00:07<00:00, 37.99it/s]\n"
          ]
        },
        {
          "metadata": {
            "tags": null
          },
          "name": "stdout",
          "output_type": "stream",
          "text": [
            "validation loss: 0.021351094868448047 at epoch 6\n",
            "learning_rate: 0.002\n"
          ]
        },
        {
          "metadata": {
            "tags": null
          },
          "name": "stderr",
          "output_type": "stream",
          "text": [
            "epoch 6: 100%|██████████| 282/282 [00:08<00:00, 33.73it/s]\n"
          ]
        },
        {
          "metadata": {
            "tags": null
          },
          "name": "stdout",
          "output_type": "stream",
          "text": [
            "validation loss: 0.009660625172985925 at epoch 7\n",
            "learning_rate: 0.002\n"
          ]
        },
        {
          "metadata": {
            "tags": null
          },
          "name": "stderr",
          "output_type": "stream",
          "text": [
            "epoch 7: 100%|██████████| 282/282 [00:08<00:00, 33.83it/s]\n"
          ]
        },
        {
          "metadata": {
            "tags": null
          },
          "name": "stdout",
          "output_type": "stream",
          "text": [
            "validation loss: 0.017594782140519884 at epoch 8\n",
            "learning_rate: 0.002\n"
          ]
        },
        {
          "metadata": {
            "tags": null
          },
          "name": "stderr",
          "output_type": "stream",
          "text": [
            "epoch 8: 100%|██████████| 282/282 [00:07<00:00, 36.61it/s]\n"
          ]
        },
        {
          "metadata": {
            "tags": null
          },
          "name": "stdout",
          "output_type": "stream",
          "text": [
            "validation loss: 0.002643272293938531 at epoch 9\n",
            "learning_rate: 0.002\n",
            "model saved in ani_acrolein.pt\n"
          ]
        },
        {
          "metadata": {
            "tags": null
          },
          "name": "stderr",
          "output_type": "stream",
          "text": [
            "epoch 9: 100%|██████████| 282/282 [00:07<00:00, 35.40it/s]\n"
          ]
        },
        {
          "metadata": {
            "tags": null
          },
          "name": "stdout",
          "output_type": "stream",
          "text": [
            "validation loss: 0.004246212545368407 at epoch 10\n",
            "learning_rate: 0.002\n"
          ]
        },
        {
          "metadata": {
            "tags": null
          },
          "name": "stderr",
          "output_type": "stream",
          "text": [
            "epoch 10: 100%|██████████| 282/282 [00:08<00:00, 34.35it/s]\n"
          ]
        },
        {
          "metadata": {
            "tags": null
          },
          "name": "stdout",
          "output_type": "stream",
          "text": [
            "validation loss: 0.005281345887316598 at epoch 11\n",
            "learning_rate: 0.002\n"
          ]
        },
        {
          "metadata": {
            "tags": null
          },
          "name": "stderr",
          "output_type": "stream",
          "text": [
            "epoch 11: 100%|██████████| 282/282 [00:07<00:00, 37.02it/s]\n"
          ]
        },
        {
          "metadata": {
            "tags": null
          },
          "name": "stdout",
          "output_type": "stream",
          "text": [
            "validation loss: 0.005342185083362792 at epoch 12\n",
            "learning_rate: 0.002\n"
          ]
        },
        {
          "metadata": {
            "tags": null
          },
          "name": "stderr",
          "output_type": "stream",
          "text": [
            "epoch 12: 100%|██████████| 282/282 [00:07<00:00, 35.39it/s]\n"
          ]
        },
        {
          "metadata": {
            "tags": null
          },
          "name": "stdout",
          "output_type": "stream",
          "text": [
            "validation loss: 0.005307230207655165 at epoch 13\n",
            "learning_rate: 0.002\n"
          ]
        },
        {
          "metadata": {
            "tags": null
          },
          "name": "stderr",
          "output_type": "stream",
          "text": [
            "epoch 13: 100%|██████████| 282/282 [00:08<00:00, 33.38it/s]\n"
          ]
        },
        {
          "metadata": {
            "tags": null
          },
          "name": "stdout",
          "output_type": "stream",
          "text": [
            "validation loss: 0.003554062037004365 at epoch 14\n",
            "learning_rate: 0.002\n"
          ]
        },
        {
          "metadata": {
            "tags": null
          },
          "name": "stderr",
          "output_type": "stream",
          "text": [
            "epoch 14: 100%|██████████| 282/282 [00:07<00:00, 36.54it/s]\n"
          ]
        },
        {
          "metadata": {
            "tags": null
          },
          "name": "stdout",
          "output_type": "stream",
          "text": [
            "validation loss: 0.007534809827804565 at epoch 15\n",
            "learning_rate: 0.002\n"
          ]
        },
        {
          "metadata": {
            "tags": null
          },
          "name": "stderr",
          "output_type": "stream",
          "text": [
            "epoch 15: 100%|██████████| 282/282 [00:07<00:00, 36.15it/s]\n"
          ]
        },
        {
          "metadata": {
            "tags": null
          },
          "name": "stdout",
          "output_type": "stream",
          "text": [
            "validation loss: 0.001860327230559455 at epoch 16\n",
            "learning_rate: 0.002\n",
            "model saved in ani_acrolein.pt\n"
          ]
        },
        {
          "metadata": {
            "tags": null
          },
          "name": "stderr",
          "output_type": "stream",
          "text": [
            "epoch 16: 100%|██████████| 282/282 [00:08<00:00, 34.51it/s]\n"
          ]
        },
        {
          "metadata": {
            "tags": null
          },
          "name": "stdout",
          "output_type": "stream",
          "text": [
            "validation loss: 0.001837466436955664 at epoch 17\n",
            "learning_rate: 0.002\n",
            "model saved in ani_acrolein.pt\n"
          ]
        },
        {
          "metadata": {
            "tags": null
          },
          "name": "stderr",
          "output_type": "stream",
          "text": [
            "epoch 17: 100%|██████████| 282/282 [00:07<00:00, 35.86it/s]\n"
          ]
        },
        {
          "metadata": {
            "tags": null
          },
          "name": "stdout",
          "output_type": "stream",
          "text": [
            "validation loss: 0.0028239497393369676 at epoch 18\n",
            "learning_rate: 0.002\n"
          ]
        },
        {
          "metadata": {
            "tags": null
          },
          "name": "stderr",
          "output_type": "stream",
          "text": [
            "epoch 18: 100%|██████████| 282/282 [00:07<00:00, 36.76it/s]\n"
          ]
        },
        {
          "metadata": {
            "tags": null
          },
          "name": "stdout",
          "output_type": "stream",
          "text": [
            "validation loss: 0.00243017153441906 at epoch 19\n",
            "learning_rate: 0.002\n"
          ]
        },
        {
          "metadata": {
            "tags": null
          },
          "name": "stderr",
          "output_type": "stream",
          "text": [
            "epoch 19: 100%|██████████| 282/282 [00:08<00:00, 33.96it/s]\n"
          ]
        },
        {
          "metadata": {
            "tags": null
          },
          "name": "stdout",
          "output_type": "stream",
          "text": [
            "validation loss: 0.008116452634334564 at epoch 20\n",
            "learning_rate: 0.002\n"
          ]
        },
        {
          "metadata": {
            "tags": null
          },
          "name": "stderr",
          "output_type": "stream",
          "text": [
            "epoch 20: 100%|██████████| 282/282 [00:08<00:00, 34.70it/s]\n"
          ]
        },
        {
          "metadata": {
            "tags": null
          },
          "name": "stdout",
          "output_type": "stream",
          "text": [
            "validation loss: 0.0031377517680327097 at epoch 21\n",
            "learning_rate: 0.002\n"
          ]
        },
        {
          "metadata": {
            "tags": null
          },
          "name": "stderr",
          "output_type": "stream",
          "text": [
            "epoch 21: 100%|██████████| 282/282 [00:07<00:00, 37.22it/s]\n"
          ]
        },
        {
          "metadata": {
            "tags": null
          },
          "name": "stdout",
          "output_type": "stream",
          "text": [
            "validation loss: 0.0049383890397018855 at epoch 22\n",
            "learning_rate: 0.002\n"
          ]
        },
        {
          "metadata": {
            "tags": null
          },
          "name": "stderr",
          "output_type": "stream",
          "text": [
            "epoch 22: 100%|██████████| 282/282 [00:08<00:00, 33.67it/s]\n"
          ]
        },
        {
          "metadata": {
            "tags": null
          },
          "name": "stdout",
          "output_type": "stream",
          "text": [
            "validation loss: 0.0019922978306810063 at epoch 23\n",
            "learning_rate: 0.002\n"
          ]
        },
        {
          "metadata": {
            "tags": null
          },
          "name": "stderr",
          "output_type": "stream",
          "text": [
            "epoch 23: 100%|██████████| 282/282 [00:07<00:00, 36.08it/s]\n"
          ]
        },
        {
          "metadata": {
            "tags": null
          },
          "name": "stdout",
          "output_type": "stream",
          "text": [
            "validation loss: 0.003927195625172721 at epoch 24\n",
            "learning_rate: 0.002\n"
          ]
        },
        {
          "metadata": {
            "tags": null
          },
          "name": "stderr",
          "output_type": "stream",
          "text": [
            "epoch 24: 100%|██████████| 282/282 [00:07<00:00, 37.26it/s]\n"
          ]
        },
        {
          "metadata": {
            "tags": null
          },
          "name": "stdout",
          "output_type": "stream",
          "text": [
            "validation loss: 0.0037926969793107774 at epoch 25\n",
            "learning_rate: 0.002\n"
          ]
        },
        {
          "metadata": {
            "tags": null
          },
          "name": "stderr",
          "output_type": "stream",
          "text": [
            "epoch 25: 100%|██████████| 282/282 [00:08<00:00, 33.98it/s]\n"
          ]
        },
        {
          "metadata": {
            "tags": null
          },
          "name": "stdout",
          "output_type": "stream",
          "text": [
            "validation loss: 0.006267828762531281 at epoch 26\n",
            "learning_rate: 0.002\n"
          ]
        },
        {
          "metadata": {
            "tags": null
          },
          "name": "stderr",
          "output_type": "stream",
          "text": [
            "epoch 26: 100%|██████████| 282/282 [00:07<00:00, 35.39it/s]\n"
          ]
        },
        {
          "metadata": {
            "tags": null
          },
          "name": "stdout",
          "output_type": "stream",
          "text": [
            "validation loss: 0.016893281830681693 at epoch 27\n",
            "learning_rate: 0.002\n"
          ]
        },
        {
          "metadata": {
            "tags": null
          },
          "name": "stderr",
          "output_type": "stream",
          "text": [
            "epoch 27: 100%|██████████| 282/282 [00:07<00:00, 36.44it/s]\n"
          ]
        },
        {
          "metadata": {
            "tags": null
          },
          "name": "stdout",
          "output_type": "stream",
          "text": [
            "validation loss: 0.00443780180811882 at epoch 28\n",
            "learning_rate: 0.002\n"
          ]
        },
        {
          "metadata": {
            "tags": null
          },
          "name": "stderr",
          "output_type": "stream",
          "text": [
            "epoch 28: 100%|██████████| 282/282 [00:08<00:00, 33.93it/s]\n"
          ]
        },
        {
          "metadata": {
            "tags": null
          },
          "name": "stdout",
          "output_type": "stream",
          "text": [
            "validation loss: 0.003256153037150701 at epoch 29\n",
            "learning_rate: 0.002\n"
          ]
        },
        {
          "metadata": {
            "tags": null
          },
          "name": "stderr",
          "output_type": "stream",
          "text": [
            "epoch 29: 100%|██████████| 282/282 [00:08<00:00, 33.83it/s]\n"
          ]
        },
        {
          "metadata": {
            "tags": null
          },
          "name": "stdout",
          "output_type": "stream",
          "text": [
            "validation loss: 0.00600515706009335 at epoch 30\n",
            "learning_rate: 0.002\n"
          ]
        },
        {
          "metadata": {
            "tags": null
          },
          "name": "stderr",
          "output_type": "stream",
          "text": [
            "epoch 30: 100%|██████████| 282/282 [00:07<00:00, 37.56it/s]\n"
          ]
        },
        {
          "metadata": {
            "tags": null
          },
          "name": "stdout",
          "output_type": "stream",
          "text": [
            "validation loss: 0.0016788504893581072 at epoch 31\n",
            "learning_rate: 0.002\n",
            "model saved in ani_acrolein.pt\n"
          ]
        },
        {
          "metadata": {
            "tags": null
          },
          "name": "stderr",
          "output_type": "stream",
          "text": [
            "epoch 31: 100%|██████████| 282/282 [00:08<00:00, 33.90it/s]\n"
          ]
        },
        {
          "metadata": {
            "tags": null
          },
          "name": "stdout",
          "output_type": "stream",
          "text": [
            "validation loss: 0.0023614913440412944 at epoch 32\n",
            "learning_rate: 0.002\n"
          ]
        },
        {
          "metadata": {
            "tags": null
          },
          "name": "stderr",
          "output_type": "stream",
          "text": [
            "epoch 32: 100%|██████████| 282/282 [00:08<00:00, 34.02it/s]\n"
          ]
        },
        {
          "metadata": {
            "tags": null
          },
          "name": "stdout",
          "output_type": "stream",
          "text": [
            "validation loss: 0.010993419494893816 at epoch 33\n",
            "learning_rate: 0.002\n"
          ]
        },
        {
          "metadata": {
            "tags": null
          },
          "name": "stderr",
          "output_type": "stream",
          "text": [
            "epoch 33: 100%|██████████| 282/282 [00:07<00:00, 38.04it/s]\n"
          ]
        },
        {
          "metadata": {
            "tags": null
          },
          "name": "stdout",
          "output_type": "stream",
          "text": [
            "validation loss: 0.002114637171228727 at epoch 34\n",
            "learning_rate: 0.002\n"
          ]
        },
        {
          "metadata": {
            "tags": null
          },
          "name": "stderr",
          "output_type": "stream",
          "text": [
            "epoch 34: 100%|██████████| 282/282 [00:08<00:00, 33.10it/s]\n"
          ]
        },
        {
          "metadata": {
            "tags": null
          },
          "name": "stdout",
          "output_type": "stream",
          "text": [
            "validation loss: 0.0023930918193525736 at epoch 35\n",
            "learning_rate: 0.002\n"
          ]
        },
        {
          "metadata": {
            "tags": null
          },
          "name": "stderr",
          "output_type": "stream",
          "text": [
            "epoch 35: 100%|██████████| 282/282 [00:08<00:00, 34.16it/s]\n"
          ]
        },
        {
          "metadata": {
            "tags": null
          },
          "name": "stdout",
          "output_type": "stream",
          "text": [
            "validation loss: 0.002043959958685769 at epoch 36\n",
            "learning_rate: 0.002\n"
          ]
        },
        {
          "metadata": {
            "tags": null
          },
          "name": "stderr",
          "output_type": "stream",
          "text": [
            "epoch 36: 100%|██████████| 282/282 [00:07<00:00, 37.59it/s]\n"
          ]
        },
        {
          "metadata": {
            "tags": null
          },
          "name": "stdout",
          "output_type": "stream",
          "text": [
            "validation loss: 0.013705761498875087 at epoch 37\n",
            "learning_rate: 0.002\n"
          ]
        },
        {
          "metadata": {
            "tags": null
          },
          "name": "stderr",
          "output_type": "stream",
          "text": [
            "epoch 37: 100%|██████████| 282/282 [00:08<00:00, 34.30it/s]\n"
          ]
        },
        {
          "metadata": {
            "tags": null
          },
          "name": "stdout",
          "output_type": "stream",
          "text": [
            "validation loss: 0.001717411570250988 at epoch 38\n",
            "learning_rate: 0.002\n"
          ]
        },
        {
          "metadata": {
            "tags": null
          },
          "name": "stderr",
          "output_type": "stream",
          "text": [
            "epoch 38: 100%|██████████| 282/282 [00:08<00:00, 34.46it/s]\n"
          ]
        },
        {
          "metadata": {
            "tags": null
          },
          "name": "stdout",
          "output_type": "stream",
          "text": [
            "validation loss: 0.007730076458719042 at epoch 39\n",
            "learning_rate: 0.002\n"
          ]
        },
        {
          "metadata": {
            "tags": null
          },
          "name": "stderr",
          "output_type": "stream",
          "text": [
            "epoch 39: 100%|██████████| 282/282 [00:07<00:00, 37.73it/s]\n"
          ]
        },
        {
          "metadata": {
            "tags": null
          },
          "name": "stdout",
          "output_type": "stream",
          "text": [
            "validation loss: 0.015211426549487643 at epoch 40\n",
            "learning_rate: 0.002\n"
          ]
        },
        {
          "metadata": {
            "tags": null
          },
          "name": "stderr",
          "output_type": "stream",
          "text": [
            "epoch 40: 100%|██████████| 282/282 [00:08<00:00, 34.20it/s]\n"
          ]
        },
        {
          "metadata": {
            "tags": null
          },
          "name": "stdout",
          "output_type": "stream",
          "text": [
            "validation loss: 0.002393748026755121 at epoch 41\n",
            "learning_rate: 0.002\n"
          ]
        },
        {
          "metadata": {
            "tags": null
          },
          "name": "stderr",
          "output_type": "stream",
          "text": [
            "epoch 41: 100%|██████████| 282/282 [00:08<00:00, 33.47it/s]\n"
          ]
        },
        {
          "metadata": {
            "tags": null
          },
          "name": "stdout",
          "output_type": "stream",
          "text": [
            "validation loss: 0.012022948993576898 at epoch 42\n",
            "learning_rate: 0.002\n"
          ]
        },
        {
          "metadata": {
            "tags": null
          },
          "name": "stderr",
          "output_type": "stream",
          "text": [
            "epoch 42: 100%|██████████| 282/282 [00:07<00:00, 37.79it/s]\n"
          ]
        },
        {
          "metadata": {
            "tags": null
          },
          "name": "stdout",
          "output_type": "stream",
          "text": [
            "validation loss: 0.002194668612546391 at epoch 43\n",
            "learning_rate: 0.002\n"
          ]
        },
        {
          "metadata": {
            "tags": null
          },
          "name": "stderr",
          "output_type": "stream",
          "text": [
            "epoch 43: 100%|██████████| 282/282 [00:08<00:00, 34.52it/s]\n"
          ]
        },
        {
          "metadata": {
            "tags": null
          },
          "name": "stdout",
          "output_type": "stream",
          "text": [
            "validation loss: 0.0029841269618935055 at epoch 44\n",
            "learning_rate: 0.002\n"
          ]
        },
        {
          "metadata": {
            "tags": null
          },
          "name": "stderr",
          "output_type": "stream",
          "text": [
            "epoch 44: 100%|██████████| 282/282 [00:08<00:00, 34.38it/s]\n"
          ]
        },
        {
          "metadata": {
            "tags": null
          },
          "name": "stdout",
          "output_type": "stream",
          "text": [
            "validation loss: 0.013466571814484067 at epoch 45\n",
            "learning_rate: 0.002\n"
          ]
        },
        {
          "metadata": {
            "tags": null
          },
          "name": "stderr",
          "output_type": "stream",
          "text": [
            "epoch 45: 100%|██████████| 282/282 [00:07<00:00, 37.12it/s]\n"
          ]
        },
        {
          "metadata": {
            "tags": null
          },
          "name": "stdout",
          "output_type": "stream",
          "text": [
            "validation loss: 0.0032869183851612937 at epoch 46\n",
            "learning_rate: 0.002\n"
          ]
        },
        {
          "metadata": {
            "tags": null
          },
          "name": "stderr",
          "output_type": "stream",
          "text": [
            "epoch 46: 100%|██████████| 282/282 [00:07<00:00, 35.60it/s]\n"
          ]
        },
        {
          "metadata": {
            "tags": null
          },
          "name": "stdout",
          "output_type": "stream",
          "text": [
            "validation loss: 0.0032740495238039228 at epoch 47\n",
            "learning_rate: 0.002\n"
          ]
        },
        {
          "metadata": {
            "tags": null
          },
          "name": "stderr",
          "output_type": "stream",
          "text": [
            "epoch 47: 100%|██████████| 282/282 [00:08<00:00, 33.81it/s]\n"
          ]
        },
        {
          "metadata": {
            "tags": null
          },
          "name": "stdout",
          "output_type": "stream",
          "text": [
            "validation loss: 0.011387833873430888 at epoch 48\n",
            "learning_rate: 0.002\n"
          ]
        },
        {
          "metadata": {
            "tags": null
          },
          "name": "stderr",
          "output_type": "stream",
          "text": [
            "epoch 48: 100%|██████████| 282/282 [00:08<00:00, 34.77it/s]\n"
          ]
        },
        {
          "metadata": {
            "tags": null
          },
          "name": "stdout",
          "output_type": "stream",
          "text": [
            "validation loss: 0.008156360467274984 at epoch 49\n",
            "learning_rate: 0.002\n"
          ]
        },
        {
          "metadata": {
            "tags": null
          },
          "name": "stderr",
          "output_type": "stream",
          "text": [
            "epoch 49: 100%|██████████| 282/282 [00:07<00:00, 36.78it/s]\n"
          ]
        },
        {
          "metadata": {
            "tags": null
          },
          "name": "stdout",
          "output_type": "stream",
          "text": [
            "validation loss: 0.018446885347366333 at epoch 50\n",
            "learning_rate: 0.002\n"
          ]
        },
        {
          "metadata": {
            "tags": null
          },
          "name": "stderr",
          "output_type": "stream",
          "text": [
            "epoch 50: 100%|██████████| 282/282 [00:08<00:00, 33.97it/s]\n"
          ]
        },
        {
          "metadata": {
            "tags": null
          },
          "name": "stdout",
          "output_type": "stream",
          "text": [
            "validation loss: 0.010664649632241991 at epoch 51\n",
            "learning_rate: 0.002\n"
          ]
        },
        {
          "metadata": {
            "tags": null
          },
          "name": "stderr",
          "output_type": "stream",
          "text": [
            "epoch 51: 100%|██████████| 282/282 [00:07<00:00, 35.33it/s]\n"
          ]
        },
        {
          "metadata": {
            "tags": null
          },
          "name": "stdout",
          "output_type": "stream",
          "text": [
            "validation loss: 0.004154051181342867 at epoch 52\n",
            "learning_rate: 0.002\n"
          ]
        },
        {
          "metadata": {
            "tags": null
          },
          "name": "stderr",
          "output_type": "stream",
          "text": [
            "epoch 52: 100%|██████████| 282/282 [00:07<00:00, 37.08it/s]\n"
          ]
        },
        {
          "metadata": {
            "tags": null
          },
          "name": "stdout",
          "output_type": "stream",
          "text": [
            "validation loss: 0.0027754981451564363 at epoch 53\n",
            "learning_rate: 0.002\n"
          ]
        },
        {
          "metadata": {
            "tags": null
          },
          "name": "stderr",
          "output_type": "stream",
          "text": [
            "epoch 53: 100%|██████████| 282/282 [00:08<00:00, 34.40it/s]\n"
          ]
        },
        {
          "metadata": {
            "tags": null
          },
          "name": "stdout",
          "output_type": "stream",
          "text": [
            "validation loss: 0.009300138632456462 at epoch 54\n",
            "learning_rate: 0.002\n"
          ]
        },
        {
          "metadata": {
            "tags": null
          },
          "name": "stderr",
          "output_type": "stream",
          "text": [
            "epoch 54: 100%|██████████| 282/282 [00:08<00:00, 34.94it/s]\n"
          ]
        },
        {
          "metadata": {
            "tags": null
          },
          "name": "stdout",
          "output_type": "stream",
          "text": [
            "validation loss: 0.008034193138281505 at epoch 55\n",
            "learning_rate: 0.002\n"
          ]
        },
        {
          "metadata": {
            "tags": null
          },
          "name": "stderr",
          "output_type": "stream",
          "text": [
            "epoch 55: 100%|██████████| 282/282 [00:07<00:00, 36.81it/s]\n"
          ]
        },
        {
          "metadata": {
            "tags": null
          },
          "name": "stdout",
          "output_type": "stream",
          "text": [
            "validation loss: 0.0019102371773786016 at epoch 56\n",
            "learning_rate: 0.002\n"
          ]
        },
        {
          "metadata": {
            "tags": null
          },
          "name": "stderr",
          "output_type": "stream",
          "text": [
            "epoch 56: 100%|██████████| 282/282 [00:08<00:00, 33.88it/s]\n"
          ]
        },
        {
          "metadata": {
            "tags": null
          },
          "name": "stdout",
          "output_type": "stream",
          "text": [
            "validation loss: 0.0020190915374292268 at epoch 57\n",
            "learning_rate: 0.002\n"
          ]
        },
        {
          "metadata": {
            "tags": null
          },
          "name": "stderr",
          "output_type": "stream",
          "text": [
            "epoch 57: 100%|██████████| 282/282 [00:08<00:00, 34.42it/s]\n"
          ]
        },
        {
          "metadata": {
            "tags": null
          },
          "name": "stdout",
          "output_type": "stream",
          "text": [
            "validation loss: 0.0018826333226429092 at epoch 58\n",
            "learning_rate: 0.002\n"
          ]
        },
        {
          "metadata": {
            "tags": null
          },
          "name": "stderr",
          "output_type": "stream",
          "text": [
            "epoch 58: 100%|██████████| 282/282 [00:07<00:00, 38.03it/s]\n"
          ]
        },
        {
          "metadata": {
            "tags": null
          },
          "name": "stdout",
          "output_type": "stream",
          "text": [
            "validation loss: 0.007724189261595408 at epoch 59\n",
            "learning_rate: 0.002\n"
          ]
        },
        {
          "metadata": {
            "tags": null
          },
          "name": "stderr",
          "output_type": "stream",
          "text": [
            "epoch 59: 100%|██████████| 282/282 [00:08<00:00, 34.13it/s]\n"
          ]
        },
        {
          "metadata": {
            "tags": null
          },
          "name": "stdout",
          "output_type": "stream",
          "text": [
            "validation loss: 0.001433235236340099 at epoch 60\n",
            "learning_rate: 0.002\n",
            "model saved in ani_acrolein.pt\n"
          ]
        },
        {
          "metadata": {
            "tags": null
          },
          "name": "stderr",
          "output_type": "stream",
          "text": [
            "epoch 60: 100%|██████████| 282/282 [00:08<00:00, 34.37it/s]\n"
          ]
        },
        {
          "metadata": {
            "tags": null
          },
          "name": "stdout",
          "output_type": "stream",
          "text": [
            "validation loss: 0.002654721134238773 at epoch 61\n",
            "learning_rate: 0.002\n"
          ]
        },
        {
          "metadata": {
            "tags": null
          },
          "name": "stderr",
          "output_type": "stream",
          "text": [
            "epoch 61: 100%|██████████| 282/282 [00:07<00:00, 37.68it/s]\n"
          ]
        },
        {
          "metadata": {
            "tags": null
          },
          "name": "stdout",
          "output_type": "stream",
          "text": [
            "validation loss: 0.0021262480583455826 at epoch 62\n",
            "learning_rate: 0.002\n"
          ]
        },
        {
          "metadata": {
            "tags": null
          },
          "name": "stderr",
          "output_type": "stream",
          "text": [
            "epoch 62: 100%|██████████| 282/282 [00:08<00:00, 32.70it/s]\n"
          ]
        },
        {
          "metadata": {
            "tags": null
          },
          "name": "stdout",
          "output_type": "stream",
          "text": [
            "validation loss: 0.004747493694225947 at epoch 63\n",
            "learning_rate: 0.002\n"
          ]
        },
        {
          "metadata": {
            "tags": null
          },
          "name": "stderr",
          "output_type": "stream",
          "text": [
            "epoch 63: 100%|██████████| 282/282 [00:08<00:00, 33.69it/s]\n"
          ]
        },
        {
          "metadata": {
            "tags": null
          },
          "name": "stdout",
          "output_type": "stream",
          "text": [
            "validation loss: 0.002739549822277493 at epoch 64\n",
            "learning_rate: 0.002\n"
          ]
        },
        {
          "metadata": {
            "tags": null
          },
          "name": "stderr",
          "output_type": "stream",
          "text": [
            "epoch 64: 100%|██████████| 282/282 [00:07<00:00, 36.87it/s]\n"
          ]
        },
        {
          "metadata": {
            "tags": null
          },
          "name": "stdout",
          "output_type": "stream",
          "text": [
            "validation loss: 0.010843595193492041 at epoch 65\n",
            "learning_rate: 0.002\n"
          ]
        },
        {
          "metadata": {
            "tags": null
          },
          "name": "stderr",
          "output_type": "stream",
          "text": [
            "epoch 65: 100%|██████████| 282/282 [00:08<00:00, 33.58it/s]\n"
          ]
        },
        {
          "metadata": {
            "tags": null
          },
          "name": "stdout",
          "output_type": "stream",
          "text": [
            "validation loss: 0.0033919033077028063 at epoch 66\n",
            "learning_rate: 0.002\n"
          ]
        },
        {
          "metadata": {
            "tags": null
          },
          "name": "stderr",
          "output_type": "stream",
          "text": [
            "epoch 66: 100%|██████████| 282/282 [00:08<00:00, 34.34it/s]\n"
          ]
        },
        {
          "metadata": {
            "tags": null
          },
          "name": "stdout",
          "output_type": "stream",
          "text": [
            "validation loss: 0.001219046417209837 at epoch 67\n",
            "learning_rate: 0.002\n",
            "model saved in ani_acrolein.pt\n"
          ]
        },
        {
          "metadata": {
            "tags": null
          },
          "name": "stderr",
          "output_type": "stream",
          "text": [
            "epoch 67: 100%|██████████| 282/282 [00:07<00:00, 37.93it/s]\n"
          ]
        },
        {
          "metadata": {
            "tags": null
          },
          "name": "stdout",
          "output_type": "stream",
          "text": [
            "validation loss: 0.0068208621309863195 at epoch 68\n",
            "learning_rate: 0.002\n"
          ]
        },
        {
          "metadata": {
            "tags": null
          },
          "name": "stderr",
          "output_type": "stream",
          "text": [
            "epoch 68: 100%|██████████| 282/282 [00:08<00:00, 33.67it/s]\n"
          ]
        },
        {
          "metadata": {
            "tags": null
          },
          "name": "stdout",
          "output_type": "stream",
          "text": [
            "validation loss: 0.002222365582982699 at epoch 69\n",
            "learning_rate: 0.002\n"
          ]
        },
        {
          "metadata": {
            "tags": null
          },
          "name": "stderr",
          "output_type": "stream",
          "text": [
            "epoch 69: 100%|██████████| 282/282 [00:08<00:00, 33.13it/s]\n"
          ]
        },
        {
          "metadata": {
            "tags": null
          },
          "name": "stdout",
          "output_type": "stream",
          "text": [
            "validation loss: 0.003183268219232559 at epoch 70\n",
            "learning_rate: 0.002\n"
          ]
        },
        {
          "metadata": {
            "tags": null
          },
          "name": "stderr",
          "output_type": "stream",
          "text": [
            "epoch 70: 100%|██████████| 282/282 [00:07<00:00, 37.88it/s]\n"
          ]
        },
        {
          "metadata": {
            "tags": null
          },
          "name": "stdout",
          "output_type": "stream",
          "text": [
            "validation loss: 0.0018881765844093428 at epoch 71\n",
            "learning_rate: 0.002\n"
          ]
        },
        {
          "metadata": {
            "tags": null
          },
          "name": "stderr",
          "output_type": "stream",
          "text": [
            "epoch 71: 100%|██████████| 282/282 [00:08<00:00, 33.90it/s]\n"
          ]
        },
        {
          "metadata": {
            "tags": null
          },
          "name": "stdout",
          "output_type": "stream",
          "text": [
            "validation loss: 0.00341448980404271 at epoch 72\n",
            "learning_rate: 0.002\n"
          ]
        },
        {
          "metadata": {
            "tags": null
          },
          "name": "stderr",
          "output_type": "stream",
          "text": [
            "epoch 72: 100%|██████████| 282/282 [00:08<00:00, 34.00it/s]\n"
          ]
        },
        {
          "metadata": {
            "tags": null
          },
          "name": "stdout",
          "output_type": "stream",
          "text": [
            "validation loss: 0.0010709809073143534 at epoch 73\n",
            "learning_rate: 0.002\n",
            "model saved in ani_acrolein.pt\n"
          ]
        },
        {
          "metadata": {
            "tags": null
          },
          "name": "stderr",
          "output_type": "stream",
          "text": [
            "epoch 73: 100%|██████████| 282/282 [00:07<00:00, 38.14it/s]\n"
          ]
        },
        {
          "metadata": {
            "tags": null
          },
          "name": "stdout",
          "output_type": "stream",
          "text": [
            "validation loss: 0.003717731277147929 at epoch 74\n",
            "learning_rate: 0.002\n"
          ]
        },
        {
          "metadata": {
            "tags": null
          },
          "name": "stderr",
          "output_type": "stream",
          "text": [
            "epoch 74: 100%|██████████| 282/282 [00:08<00:00, 34.31it/s]\n"
          ]
        },
        {
          "metadata": {
            "tags": null
          },
          "name": "stdout",
          "output_type": "stream",
          "text": [
            "validation loss: 0.0022007821417517133 at epoch 75\n",
            "learning_rate: 0.002\n"
          ]
        },
        {
          "metadata": {
            "tags": null
          },
          "name": "stderr",
          "output_type": "stream",
          "text": [
            "epoch 75: 100%|██████████| 282/282 [00:08<00:00, 34.30it/s]\n"
          ]
        },
        {
          "metadata": {
            "tags": null
          },
          "name": "stdout",
          "output_type": "stream",
          "text": [
            "validation loss: 0.004529425498512056 at epoch 76\n",
            "learning_rate: 0.002\n"
          ]
        },
        {
          "metadata": {
            "tags": null
          },
          "name": "stderr",
          "output_type": "stream",
          "text": [
            "epoch 76: 100%|██████████| 282/282 [00:07<00:00, 36.63it/s]\n"
          ]
        },
        {
          "metadata": {
            "tags": null
          },
          "name": "stdout",
          "output_type": "stream",
          "text": [
            "validation loss: 0.002080944660637114 at epoch 77\n",
            "learning_rate: 0.002\n"
          ]
        },
        {
          "metadata": {
            "tags": null
          },
          "name": "stderr",
          "output_type": "stream",
          "text": [
            "epoch 77: 100%|██████████| 282/282 [00:08<00:00, 33.65it/s]\n"
          ]
        },
        {
          "metadata": {
            "tags": null
          },
          "name": "stdout",
          "output_type": "stream",
          "text": [
            "validation loss: 0.003965327047639423 at epoch 78\n",
            "learning_rate: 0.002\n"
          ]
        },
        {
          "metadata": {
            "tags": null
          },
          "name": "stderr",
          "output_type": "stream",
          "text": [
            "epoch 78: 100%|██████████| 282/282 [00:08<00:00, 34.04it/s]\n"
          ]
        },
        {
          "metadata": {
            "tags": null
          },
          "name": "stdout",
          "output_type": "stream",
          "text": [
            "validation loss: 0.00212669651541445 at epoch 79\n",
            "learning_rate: 0.002\n"
          ]
        },
        {
          "metadata": {
            "tags": null
          },
          "name": "stderr",
          "output_type": "stream",
          "text": [
            "epoch 79: 100%|██████████| 282/282 [00:07<00:00, 37.86it/s]\n"
          ]
        },
        {
          "metadata": {
            "tags": null
          },
          "name": "stdout",
          "output_type": "stream",
          "text": [
            "validation loss: 0.0014568231900533041 at epoch 80\n",
            "learning_rate: 0.002\n"
          ]
        },
        {
          "metadata": {
            "tags": null
          },
          "name": "stderr",
          "output_type": "stream",
          "text": [
            "epoch 80: 100%|██████████| 282/282 [00:08<00:00, 34.33it/s]\n"
          ]
        },
        {
          "metadata": {
            "tags": null
          },
          "name": "stdout",
          "output_type": "stream",
          "text": [
            "validation loss: 0.0029524427553017933 at epoch 81\n",
            "learning_rate: 0.002\n"
          ]
        },
        {
          "metadata": {
            "tags": null
          },
          "name": "stderr",
          "output_type": "stream",
          "text": [
            "epoch 81: 100%|██████████| 282/282 [00:08<00:00, 33.77it/s]\n"
          ]
        },
        {
          "metadata": {
            "tags": null
          },
          "name": "stdout",
          "output_type": "stream",
          "text": [
            "validation loss: 0.002633937277727657 at epoch 82\n",
            "learning_rate: 0.002\n"
          ]
        },
        {
          "metadata": {
            "tags": null
          },
          "name": "stderr",
          "output_type": "stream",
          "text": [
            "epoch 82: 100%|██████████| 282/282 [00:07<00:00, 37.64it/s]\n"
          ]
        },
        {
          "metadata": {
            "tags": null
          },
          "name": "stdout",
          "output_type": "stream",
          "text": [
            "validation loss: 0.0016188594011796846 at epoch 83\n",
            "learning_rate: 0.002\n"
          ]
        },
        {
          "metadata": {
            "tags": null
          },
          "name": "stderr",
          "output_type": "stream",
          "text": [
            "epoch 83: 100%|██████████| 282/282 [00:08<00:00, 34.37it/s]\n"
          ]
        },
        {
          "metadata": {
            "tags": null
          },
          "name": "stdout",
          "output_type": "stream",
          "text": [
            "validation loss: 0.002579530455999904 at epoch 84\n",
            "learning_rate: 0.002\n"
          ]
        },
        {
          "metadata": {
            "tags": null
          },
          "name": "stderr",
          "output_type": "stream",
          "text": [
            "epoch 84: 100%|██████████| 282/282 [00:08<00:00, 33.70it/s]\n"
          ]
        },
        {
          "metadata": {
            "tags": null
          },
          "name": "stdout",
          "output_type": "stream",
          "text": [
            "validation loss: 0.0032736488928397497 at epoch 85\n",
            "learning_rate: 0.002\n"
          ]
        },
        {
          "metadata": {
            "tags": null
          },
          "name": "stderr",
          "output_type": "stream",
          "text": [
            "epoch 85: 100%|██████████| 282/282 [00:07<00:00, 36.98it/s]\n"
          ]
        },
        {
          "metadata": {
            "tags": null
          },
          "name": "stdout",
          "output_type": "stream",
          "text": [
            "validation loss: 0.004659133861462275 at epoch 86\n",
            "learning_rate: 0.002\n"
          ]
        },
        {
          "metadata": {
            "tags": null
          },
          "name": "stderr",
          "output_type": "stream",
          "text": [
            "epoch 86: 100%|██████████| 282/282 [00:07<00:00, 35.25it/s]\n"
          ]
        },
        {
          "metadata": {
            "tags": null
          },
          "name": "stdout",
          "output_type": "stream",
          "text": [
            "validation loss: 0.002449495603640874 at epoch 87\n",
            "learning_rate: 0.002\n"
          ]
        },
        {
          "metadata": {
            "tags": null
          },
          "name": "stderr",
          "output_type": "stream",
          "text": [
            "epoch 87: 100%|██████████| 282/282 [00:08<00:00, 34.10it/s]\n"
          ]
        },
        {
          "metadata": {
            "tags": null
          },
          "name": "stdout",
          "output_type": "stream",
          "text": [
            "validation loss: 0.003962803973091973 at epoch 88\n",
            "learning_rate: 0.002\n"
          ]
        },
        {
          "metadata": {
            "tags": null
          },
          "name": "stderr",
          "output_type": "stream",
          "text": [
            "epoch 88: 100%|██████████| 282/282 [00:07<00:00, 37.64it/s]\n"
          ]
        },
        {
          "metadata": {
            "tags": null
          },
          "name": "stdout",
          "output_type": "stream",
          "text": [
            "validation loss: 0.001889770386947526 at epoch 89\n",
            "learning_rate: 0.002\n"
          ]
        },
        {
          "metadata": {
            "tags": null
          },
          "name": "stderr",
          "output_type": "stream",
          "text": [
            "epoch 89: 100%|██████████| 282/282 [00:07<00:00, 35.35it/s]\n"
          ]
        },
        {
          "metadata": {
            "tags": null
          },
          "name": "stdout",
          "output_type": "stream",
          "text": [
            "validation loss: 0.0032822583499881957 at epoch 90\n",
            "learning_rate: 0.002\n"
          ]
        },
        {
          "metadata": {
            "tags": null
          },
          "name": "stderr",
          "output_type": "stream",
          "text": [
            "epoch 90: 100%|██████████| 282/282 [00:08<00:00, 33.00it/s]\n"
          ]
        },
        {
          "metadata": {
            "tags": null
          },
          "name": "stdout",
          "output_type": "stream",
          "text": [
            "validation loss: 0.003836394644445843 at epoch 91\n",
            "learning_rate: 0.002\n"
          ]
        },
        {
          "metadata": {
            "tags": null
          },
          "name": "stderr",
          "output_type": "stream",
          "text": [
            "epoch 91: 100%|██████████| 282/282 [00:07<00:00, 36.90it/s]\n"
          ]
        },
        {
          "metadata": {
            "tags": null
          },
          "name": "stdout",
          "output_type": "stream",
          "text": [
            "validation loss: 0.003525519548190965 at epoch 92\n",
            "learning_rate: 0.002\n"
          ]
        },
        {
          "metadata": {
            "tags": null
          },
          "name": "stderr",
          "output_type": "stream",
          "text": [
            "epoch 92: 100%|██████████| 282/282 [00:07<00:00, 35.66it/s]\n"
          ]
        },
        {
          "metadata": {
            "tags": null
          },
          "name": "stdout",
          "output_type": "stream",
          "text": [
            "validation loss: 0.0009592459027965864 at epoch 93\n",
            "learning_rate: 0.002\n",
            "model saved in ani_acrolein.pt\n"
          ]
        },
        {
          "metadata": {
            "tags": null
          },
          "name": "stderr",
          "output_type": "stream",
          "text": [
            "epoch 93: 100%|██████████| 282/282 [00:08<00:00, 33.89it/s]\n"
          ]
        },
        {
          "metadata": {
            "tags": null
          },
          "name": "stdout",
          "output_type": "stream",
          "text": [
            "validation loss: 0.001749089573820432 at epoch 94\n",
            "learning_rate: 0.002\n"
          ]
        },
        {
          "metadata": {
            "tags": null
          },
          "name": "stderr",
          "output_type": "stream",
          "text": [
            "epoch 94: 100%|██████████| 282/282 [00:07<00:00, 36.40it/s]\n"
          ]
        },
        {
          "metadata": {
            "tags": null
          },
          "name": "stdout",
          "output_type": "stream",
          "text": [
            "validation loss: 0.0018712165819274056 at epoch 95\n",
            "learning_rate: 0.002\n"
          ]
        },
        {
          "metadata": {
            "tags": null
          },
          "name": "stderr",
          "output_type": "stream",
          "text": [
            "epoch 95: 100%|██████████| 282/282 [00:07<00:00, 36.78it/s]\n"
          ]
        },
        {
          "metadata": {
            "tags": null
          },
          "name": "stdout",
          "output_type": "stream",
          "text": [
            "validation loss: 0.00467414183749093 at epoch 96\n",
            "learning_rate: 0.002\n"
          ]
        },
        {
          "metadata": {
            "tags": null
          },
          "name": "stderr",
          "output_type": "stream",
          "text": [
            "epoch 96: 100%|██████████| 282/282 [00:08<00:00, 34.29it/s]\n"
          ]
        },
        {
          "metadata": {
            "tags": null
          },
          "name": "stdout",
          "output_type": "stream",
          "text": [
            "validation loss: 0.003218404634131326 at epoch 97\n",
            "learning_rate: 0.002\n"
          ]
        },
        {
          "metadata": {
            "tags": null
          },
          "name": "stderr",
          "output_type": "stream",
          "text": [
            "epoch 97: 100%|██████████| 282/282 [00:08<00:00, 33.57it/s]\n"
          ]
        },
        {
          "metadata": {
            "tags": null
          },
          "name": "stdout",
          "output_type": "stream",
          "text": [
            "validation loss: 0.004846126278241475 at epoch 98\n",
            "learning_rate: 0.002\n"
          ]
        },
        {
          "metadata": {
            "tags": null
          },
          "name": "stderr",
          "output_type": "stream",
          "text": [
            "epoch 98: 100%|██████████| 282/282 [00:07<00:00, 37.77it/s]\n"
          ]
        },
        {
          "metadata": {
            "tags": null
          },
          "name": "stdout",
          "output_type": "stream",
          "text": [
            "validation loss: 0.0015988011583685875 at epoch 99\n",
            "learning_rate: 0.002\n"
          ]
        },
        {
          "metadata": {
            "tags": null
          },
          "name": "stderr",
          "output_type": "stream",
          "text": [
            "epoch 99: 100%|██████████| 282/282 [00:08<00:00, 34.26it/s]\n"
          ]
        },
        {
          "metadata": {
            "tags": null
          },
          "name": "stdout",
          "output_type": "stream",
          "text": [
            "validation loss: 0.001693117383453581 at epoch 100\n",
            "learning_rate: 0.002\n"
          ]
        },
        {
          "metadata": {
            "tags": null
          },
          "name": "stderr",
          "output_type": "stream",
          "text": [
            "epoch 100: 100%|██████████| 282/282 [00:08<00:00, 33.30it/s]\n"
          ]
        },
        {
          "metadata": {
            "tags": null
          },
          "name": "stdout",
          "output_type": "stream",
          "text": [
            "validation loss: 0.004773795230521096 at epoch 101\n",
            "learning_rate: 0.002\n"
          ]
        },
        {
          "metadata": {
            "tags": null
          },
          "name": "stderr",
          "output_type": "stream",
          "text": [
            "epoch 101: 100%|██████████| 282/282 [00:07<00:00, 37.32it/s]\n"
          ]
        },
        {
          "metadata": {
            "tags": null
          },
          "name": "stdout",
          "output_type": "stream",
          "text": [
            "validation loss: 0.0011706296155850093 at epoch 102\n",
            "learning_rate: 0.002\n"
          ]
        },
        {
          "metadata": {
            "tags": null
          },
          "name": "stderr",
          "output_type": "stream",
          "text": [
            "epoch 102: 100%|██████████| 282/282 [00:08<00:00, 34.07it/s]\n"
          ]
        },
        {
          "metadata": {
            "tags": null
          },
          "name": "stdout",
          "output_type": "stream",
          "text": [
            "validation loss: 0.004604427423742083 at epoch 103\n",
            "learning_rate: 0.002\n"
          ]
        },
        {
          "metadata": {
            "tags": null
          },
          "name": "stderr",
          "output_type": "stream",
          "text": [
            "epoch 103: 100%|██████████| 282/282 [00:08<00:00, 34.29it/s]\n"
          ]
        },
        {
          "metadata": {
            "tags": null
          },
          "name": "stdout",
          "output_type": "stream",
          "text": [
            "validation loss: 0.005573968936999639 at epoch 104\n",
            "learning_rate: 0.002\n"
          ]
        },
        {
          "metadata": {
            "tags": null
          },
          "name": "stderr",
          "output_type": "stream",
          "text": [
            "epoch 104: 100%|██████████| 282/282 [00:07<00:00, 36.91it/s]\n"
          ]
        },
        {
          "metadata": {
            "tags": null
          },
          "name": "stdout",
          "output_type": "stream",
          "text": [
            "validation loss: 0.0027261753016048005 at epoch 105\n",
            "learning_rate: 0.002\n"
          ]
        },
        {
          "metadata": {
            "tags": null
          },
          "name": "stderr",
          "output_type": "stream",
          "text": [
            "epoch 105: 100%|██████████| 282/282 [00:08<00:00, 34.15it/s]\n"
          ]
        },
        {
          "metadata": {
            "tags": null
          },
          "name": "stdout",
          "output_type": "stream",
          "text": [
            "validation loss: 0.003799381133582857 at epoch 106\n",
            "learning_rate: 0.002\n"
          ]
        },
        {
          "metadata": {
            "tags": null
          },
          "name": "stderr",
          "output_type": "stream",
          "text": [
            "epoch 106: 100%|██████████| 282/282 [00:08<00:00, 33.93it/s]\n"
          ]
        },
        {
          "metadata": {
            "tags": null
          },
          "name": "stdout",
          "output_type": "stream",
          "text": [
            "validation loss: 0.0039098978175057305 at epoch 107\n",
            "learning_rate: 0.002\n"
          ]
        },
        {
          "metadata": {
            "tags": null
          },
          "name": "stderr",
          "output_type": "stream",
          "text": [
            "epoch 107: 100%|██████████| 282/282 [00:07<00:00, 37.72it/s]\n"
          ]
        },
        {
          "metadata": {
            "tags": null
          },
          "name": "stdout",
          "output_type": "stream",
          "text": [
            "validation loss: 0.0026593199140495724 at epoch 108\n",
            "learning_rate: 0.002\n"
          ]
        },
        {
          "metadata": {
            "tags": null
          },
          "name": "stderr",
          "output_type": "stream",
          "text": [
            "epoch 108: 100%|██████████| 282/282 [00:08<00:00, 34.05it/s]\n"
          ]
        },
        {
          "metadata": {
            "tags": null
          },
          "name": "stdout",
          "output_type": "stream",
          "text": [
            "validation loss: 0.0035701596471998426 at epoch 109\n",
            "learning_rate: 0.002\n"
          ]
        },
        {
          "metadata": {
            "tags": null
          },
          "name": "stderr",
          "output_type": "stream",
          "text": [
            "epoch 109: 100%|██████████| 282/282 [00:08<00:00, 34.25it/s]\n"
          ]
        },
        {
          "metadata": {
            "tags": null
          },
          "name": "stdout",
          "output_type": "stream",
          "text": [
            "validation loss: 0.0013757383690940009 at epoch 110\n",
            "learning_rate: 0.002\n"
          ]
        },
        {
          "metadata": {
            "tags": null
          },
          "name": "stderr",
          "output_type": "stream",
          "text": [
            "epoch 110: 100%|██████████| 282/282 [00:07<00:00, 37.67it/s]\n"
          ]
        },
        {
          "metadata": {
            "tags": null
          },
          "name": "stdout",
          "output_type": "stream",
          "text": [
            "validation loss: 0.00281319027642409 at epoch 111\n",
            "learning_rate: 0.002\n"
          ]
        },
        {
          "metadata": {
            "tags": null
          },
          "name": "stderr",
          "output_type": "stream",
          "text": [
            "epoch 111: 100%|██████████| 282/282 [00:08<00:00, 32.56it/s]\n"
          ]
        },
        {
          "metadata": {
            "tags": null
          },
          "name": "stdout",
          "output_type": "stream",
          "text": [
            "validation loss: 0.002340634102622668 at epoch 112\n",
            "learning_rate: 0.002\n"
          ]
        },
        {
          "metadata": {
            "tags": null
          },
          "name": "stderr",
          "output_type": "stream",
          "text": [
            "epoch 112: 100%|██████████| 282/282 [00:08<00:00, 34.38it/s]\n"
          ]
        },
        {
          "metadata": {
            "tags": null
          },
          "name": "stdout",
          "output_type": "stream",
          "text": [
            "validation loss: 0.0025340129600630867 at epoch 113\n",
            "learning_rate: 0.002\n"
          ]
        },
        {
          "metadata": {
            "tags": null
          },
          "name": "stderr",
          "output_type": "stream",
          "text": [
            "epoch 113: 100%|██████████| 282/282 [00:07<00:00, 37.75it/s]\n"
          ]
        },
        {
          "metadata": {
            "tags": null
          },
          "name": "stdout",
          "output_type": "stream",
          "text": [
            "validation loss: 0.002477568185991711 at epoch 114\n",
            "learning_rate: 0.002\n"
          ]
        },
        {
          "metadata": {
            "tags": null
          },
          "name": "stderr",
          "output_type": "stream",
          "text": [
            "epoch 114: 100%|██████████| 282/282 [00:08<00:00, 34.16it/s]\n"
          ]
        },
        {
          "metadata": {
            "tags": null
          },
          "name": "stdout",
          "output_type": "stream",
          "text": [
            "validation loss: 0.0026292638960811825 at epoch 115\n",
            "learning_rate: 0.002\n"
          ]
        },
        {
          "metadata": {
            "tags": null
          },
          "name": "stderr",
          "output_type": "stream",
          "text": [
            "epoch 115: 100%|██████████| 282/282 [00:08<00:00, 34.04it/s]\n"
          ]
        },
        {
          "metadata": {
            "tags": null
          },
          "name": "stdout",
          "output_type": "stream",
          "text": [
            "validation loss: 0.002983826978339089 at epoch 116\n",
            "learning_rate: 0.002\n"
          ]
        },
        {
          "metadata": {
            "tags": null
          },
          "name": "stderr",
          "output_type": "stream",
          "text": [
            "epoch 116: 100%|██████████| 282/282 [00:07<00:00, 37.88it/s]\n"
          ]
        },
        {
          "metadata": {
            "tags": null
          },
          "name": "stdout",
          "output_type": "stream",
          "text": [
            "validation loss: 0.00578033036324713 at epoch 117\n",
            "learning_rate: 0.002\n"
          ]
        },
        {
          "metadata": {
            "tags": null
          },
          "name": "stderr",
          "output_type": "stream",
          "text": [
            "epoch 117: 100%|██████████| 282/282 [00:08<00:00, 34.47it/s]\n"
          ]
        },
        {
          "metadata": {
            "tags": null
          },
          "name": "stdout",
          "output_type": "stream",
          "text": [
            "validation loss: 0.0010241892801390754 at epoch 118\n",
            "learning_rate: 0.002\n"
          ]
        },
        {
          "metadata": {
            "tags": null
          },
          "name": "stderr",
          "output_type": "stream",
          "text": [
            "epoch 118: 100%|██████████| 282/282 [00:08<00:00, 33.31it/s]\n"
          ]
        },
        {
          "metadata": {
            "tags": null
          },
          "name": "stdout",
          "output_type": "stream",
          "text": [
            "validation loss: 0.0009553386357923349 at epoch 119\n",
            "learning_rate: 0.002\n",
            "model saved in ani_acrolein.pt\n"
          ]
        },
        {
          "metadata": {
            "tags": null
          },
          "name": "stderr",
          "output_type": "stream",
          "text": [
            "epoch 119: 100%|██████████| 282/282 [00:07<00:00, 37.34it/s]\n"
          ]
        },
        {
          "metadata": {
            "tags": null
          },
          "name": "stdout",
          "output_type": "stream",
          "text": [
            "validation loss: 0.0032120577759212916 at epoch 120\n",
            "learning_rate: 0.002\n"
          ]
        },
        {
          "metadata": {
            "tags": null
          },
          "name": "stderr",
          "output_type": "stream",
          "text": [
            "epoch 120: 100%|██████████| 282/282 [00:07<00:00, 35.61it/s]\n"
          ]
        },
        {
          "metadata": {
            "tags": null
          },
          "name": "stdout",
          "output_type": "stream",
          "text": [
            "validation loss: 0.00487545946571562 at epoch 121\n",
            "learning_rate: 0.002\n"
          ]
        },
        {
          "metadata": {
            "tags": null
          },
          "name": "stderr",
          "output_type": "stream",
          "text": [
            "epoch 121: 100%|██████████| 282/282 [00:08<00:00, 34.01it/s]\n"
          ]
        },
        {
          "metadata": {
            "tags": null
          },
          "name": "stdout",
          "output_type": "stream",
          "text": [
            "validation loss: 0.0024672551105419794 at epoch 122\n",
            "learning_rate: 0.002\n"
          ]
        },
        {
          "metadata": {
            "tags": null
          },
          "name": "stderr",
          "output_type": "stream",
          "text": [
            "epoch 122: 100%|██████████| 282/282 [00:07<00:00, 36.65it/s]\n"
          ]
        },
        {
          "metadata": {
            "tags": null
          },
          "name": "stdout",
          "output_type": "stream",
          "text": [
            "validation loss: 0.004175098025136523 at epoch 123\n",
            "learning_rate: 0.002\n"
          ]
        },
        {
          "metadata": {
            "tags": null
          },
          "name": "stderr",
          "output_type": "stream",
          "text": [
            "epoch 123: 100%|██████████| 282/282 [00:07<00:00, 35.66it/s]\n"
          ]
        },
        {
          "metadata": {
            "tags": null
          },
          "name": "stdout",
          "output_type": "stream",
          "text": [
            "validation loss: 0.0017483836263418198 at epoch 124\n",
            "learning_rate: 0.002\n"
          ]
        },
        {
          "metadata": {
            "tags": null
          },
          "name": "stderr",
          "output_type": "stream",
          "text": [
            "epoch 124: 100%|██████████| 282/282 [00:12<00:00, 22.23it/s]\n"
          ]
        },
        {
          "metadata": {
            "tags": null
          },
          "name": "stdout",
          "output_type": "stream",
          "text": [
            "validation loss: 0.004727770662970013 at epoch 125\n",
            "learning_rate: 0.002\n"
          ]
        },
        {
          "metadata": {
            "tags": null
          },
          "name": "stderr",
          "output_type": "stream",
          "text": [
            "epoch 125: 100%|██████████| 282/282 [00:08<00:00, 33.89it/s]\n"
          ]
        },
        {
          "metadata": {
            "tags": null
          },
          "name": "stdout",
          "output_type": "stream",
          "text": [
            "validation loss: 0.005167719430393643 at epoch 126\n",
            "learning_rate: 0.002\n"
          ]
        },
        {
          "metadata": {
            "tags": null
          },
          "name": "stderr",
          "output_type": "stream",
          "text": [
            "epoch 126: 100%|██████████| 282/282 [00:08<00:00, 35.12it/s]\n"
          ]
        },
        {
          "metadata": {
            "tags": null
          },
          "name": "stdout",
          "output_type": "stream",
          "text": [
            "validation loss: 0.001916876667075687 at epoch 127\n",
            "learning_rate: 0.002\n"
          ]
        },
        {
          "metadata": {
            "tags": null
          },
          "name": "stderr",
          "output_type": "stream",
          "text": [
            "epoch 127: 100%|██████████| 282/282 [00:07<00:00, 37.61it/s]\n"
          ]
        },
        {
          "metadata": {
            "tags": null
          },
          "name": "stdout",
          "output_type": "stream",
          "text": [
            "validation loss: 0.0020880077795849905 at epoch 128\n",
            "learning_rate: 0.002\n"
          ]
        },
        {
          "metadata": {
            "tags": null
          },
          "name": "stderr",
          "output_type": "stream",
          "text": [
            "epoch 128: 100%|██████████| 282/282 [00:08<00:00, 34.28it/s]\n"
          ]
        },
        {
          "metadata": {
            "tags": null
          },
          "name": "stdout",
          "output_type": "stream",
          "text": [
            "validation loss: 0.00581370958354738 at epoch 129\n",
            "learning_rate: 0.002\n"
          ]
        },
        {
          "metadata": {
            "tags": null
          },
          "name": "stderr",
          "output_type": "stream",
          "text": [
            "epoch 129: 100%|██████████| 282/282 [00:08<00:00, 34.64it/s]\n"
          ]
        },
        {
          "metadata": {
            "tags": null
          },
          "name": "stdout",
          "output_type": "stream",
          "text": [
            "validation loss: 0.004593146708276537 at epoch 130\n",
            "learning_rate: 0.002\n"
          ]
        },
        {
          "metadata": {
            "tags": null
          },
          "name": "stderr",
          "output_type": "stream",
          "text": [
            "epoch 130: 100%|██████████| 282/282 [00:07<00:00, 37.60it/s]\n"
          ]
        },
        {
          "metadata": {
            "tags": null
          },
          "name": "stdout",
          "output_type": "stream",
          "text": [
            "validation loss: 0.0025315703948338825 at epoch 131\n",
            "learning_rate: 0.002\n"
          ]
        },
        {
          "metadata": {
            "tags": null
          },
          "name": "stderr",
          "output_type": "stream",
          "text": [
            "epoch 131: 100%|██████████| 282/282 [00:08<00:00, 33.26it/s]\n"
          ]
        },
        {
          "metadata": {
            "tags": null
          },
          "name": "stdout",
          "output_type": "stream",
          "text": [
            "validation loss: 0.0029260802550448313 at epoch 132\n",
            "learning_rate: 0.002\n"
          ]
        },
        {
          "metadata": {
            "tags": null
          },
          "name": "stderr",
          "output_type": "stream",
          "text": [
            "epoch 132: 100%|██████████| 282/282 [00:09<00:00, 31.32it/s]\n"
          ]
        },
        {
          "metadata": {
            "tags": null
          },
          "name": "stdout",
          "output_type": "stream",
          "text": [
            "validation loss: 0.0034382219993405873 at epoch 133\n",
            "learning_rate: 0.002\n"
          ]
        },
        {
          "metadata": {
            "tags": null
          },
          "name": "stderr",
          "output_type": "stream",
          "text": [
            "epoch 133: 100%|██████████| 282/282 [00:07<00:00, 37.54it/s]\n"
          ]
        },
        {
          "metadata": {
            "tags": null
          },
          "name": "stdout",
          "output_type": "stream",
          "text": [
            "validation loss: 0.00540328319867452 at epoch 134\n",
            "learning_rate: 0.002\n"
          ]
        },
        {
          "metadata": {
            "tags": null
          },
          "name": "stderr",
          "output_type": "stream",
          "text": [
            "epoch 134: 100%|██████████| 282/282 [00:08<00:00, 33.87it/s]\n"
          ]
        },
        {
          "metadata": {
            "tags": null
          },
          "name": "stdout",
          "output_type": "stream",
          "text": [
            "validation loss: 0.004425654954380459 at epoch 135\n",
            "learning_rate: 0.002\n"
          ]
        },
        {
          "metadata": {
            "tags": null
          },
          "name": "stderr",
          "output_type": "stream",
          "text": [
            "epoch 135: 100%|██████████| 282/282 [00:08<00:00, 33.85it/s]\n"
          ]
        },
        {
          "metadata": {
            "tags": null
          },
          "name": "stdout",
          "output_type": "stream",
          "text": [
            "validation loss: 0.0019209907294975386 at epoch 136\n",
            "learning_rate: 0.002\n"
          ]
        },
        {
          "metadata": {
            "tags": null
          },
          "name": "stderr",
          "output_type": "stream",
          "text": [
            "epoch 136: 100%|██████████| 282/282 [00:07<00:00, 37.55it/s]\n"
          ]
        },
        {
          "metadata": {
            "tags": null
          },
          "name": "stdout",
          "output_type": "stream",
          "text": [
            "validation loss: 0.0027294469707541996 at epoch 137\n",
            "learning_rate: 0.002\n"
          ]
        },
        {
          "metadata": {
            "tags": null
          },
          "name": "stderr",
          "output_type": "stream",
          "text": [
            "epoch 137: 100%|██████████| 282/282 [00:08<00:00, 32.92it/s]\n"
          ]
        },
        {
          "metadata": {
            "tags": null
          },
          "name": "stdout",
          "output_type": "stream",
          "text": [
            "validation loss: 0.001693223802579774 at epoch 138\n",
            "learning_rate: 0.002\n"
          ]
        },
        {
          "metadata": {
            "tags": null
          },
          "name": "stderr",
          "output_type": "stream",
          "text": [
            "epoch 138: 100%|██████████| 282/282 [00:08<00:00, 32.90it/s]\n"
          ]
        },
        {
          "metadata": {
            "tags": null
          },
          "name": "stdout",
          "output_type": "stream",
          "text": [
            "validation loss: 0.0007319424048893981 at epoch 139\n",
            "learning_rate: 0.002\n",
            "model saved in ani_acrolein.pt\n"
          ]
        },
        {
          "metadata": {
            "tags": null
          },
          "name": "stderr",
          "output_type": "stream",
          "text": [
            "epoch 139: 100%|██████████| 282/282 [00:07<00:00, 37.36it/s]\n"
          ]
        },
        {
          "metadata": {
            "tags": null
          },
          "name": "stdout",
          "output_type": "stream",
          "text": [
            "validation loss: 0.0010615822068519062 at epoch 140\n",
            "learning_rate: 0.002\n"
          ]
        },
        {
          "metadata": {
            "tags": null
          },
          "name": "stderr",
          "output_type": "stream",
          "text": [
            "epoch 140: 100%|██████████| 282/282 [00:08<00:00, 33.92it/s]\n"
          ]
        },
        {
          "metadata": {
            "tags": null
          },
          "name": "stdout",
          "output_type": "stream",
          "text": [
            "validation loss: 0.0013822024828857847 at epoch 141\n",
            "learning_rate: 0.002\n"
          ]
        },
        {
          "metadata": {
            "tags": null
          },
          "name": "stderr",
          "output_type": "stream",
          "text": [
            "epoch 141: 100%|██████████| 282/282 [00:08<00:00, 32.52it/s]\n"
          ]
        },
        {
          "metadata": {
            "tags": null
          },
          "name": "stdout",
          "output_type": "stream",
          "text": [
            "validation loss: 0.0013853906128141614 at epoch 142\n",
            "learning_rate: 0.002\n"
          ]
        },
        {
          "metadata": {
            "tags": null
          },
          "name": "stderr",
          "output_type": "stream",
          "text": [
            "epoch 142: 100%|██████████| 282/282 [00:07<00:00, 35.93it/s]\n"
          ]
        },
        {
          "metadata": {
            "tags": null
          },
          "name": "stdout",
          "output_type": "stream",
          "text": [
            "validation loss: 0.001460824171702067 at epoch 143\n",
            "learning_rate: 0.002\n"
          ]
        },
        {
          "metadata": {
            "tags": null
          },
          "name": "stderr",
          "output_type": "stream",
          "text": [
            "epoch 143: 100%|██████████| 282/282 [00:07<00:00, 35.49it/s]\n"
          ]
        },
        {
          "metadata": {
            "tags": null
          },
          "name": "stdout",
          "output_type": "stream",
          "text": [
            "validation loss: 0.0015756309578816095 at epoch 144\n",
            "learning_rate: 0.002\n"
          ]
        },
        {
          "metadata": {
            "tags": null
          },
          "name": "stderr",
          "output_type": "stream",
          "text": [
            "epoch 144: 100%|██████████| 282/282 [00:08<00:00, 33.74it/s]\n"
          ]
        },
        {
          "metadata": {
            "tags": null
          },
          "name": "stdout",
          "output_type": "stream",
          "text": [
            "validation loss: 0.0021469584272967445 at epoch 145\n",
            "learning_rate: 0.002\n"
          ]
        },
        {
          "metadata": {
            "tags": null
          },
          "name": "stderr",
          "output_type": "stream",
          "text": [
            "epoch 145: 100%|██████████| 282/282 [00:08<00:00, 33.17it/s]\n"
          ]
        },
        {
          "metadata": {
            "tags": null
          },
          "name": "stdout",
          "output_type": "stream",
          "text": [
            "validation loss: 0.001266482759681013 at epoch 146\n",
            "learning_rate: 0.002\n"
          ]
        },
        {
          "metadata": {
            "tags": null
          },
          "name": "stderr",
          "output_type": "stream",
          "text": [
            "epoch 146: 100%|██████████| 282/282 [00:07<00:00, 36.23it/s]\n"
          ]
        },
        {
          "metadata": {
            "tags": null
          },
          "name": "stdout",
          "output_type": "stream",
          "text": [
            "validation loss: 0.0007384058340556092 at epoch 147\n",
            "learning_rate: 0.002\n"
          ]
        },
        {
          "metadata": {
            "tags": null
          },
          "name": "stderr",
          "output_type": "stream",
          "text": [
            "epoch 147: 100%|██████████| 282/282 [00:08<00:00, 33.56it/s]\n"
          ]
        },
        {
          "metadata": {
            "tags": null
          },
          "name": "stdout",
          "output_type": "stream",
          "text": [
            "validation loss: 0.005181723246971766 at epoch 148\n",
            "learning_rate: 0.002\n"
          ]
        },
        {
          "metadata": {
            "tags": null
          },
          "name": "stderr",
          "output_type": "stream",
          "text": [
            "epoch 148: 100%|██████████| 282/282 [00:08<00:00, 33.97it/s]\n"
          ]
        },
        {
          "metadata": {
            "tags": null
          },
          "name": "stdout",
          "output_type": "stream",
          "text": [
            "validation loss: 0.0015591822001669142 at epoch 149\n",
            "learning_rate: 0.002\n"
          ]
        },
        {
          "metadata": {
            "tags": null
          },
          "name": "stderr",
          "output_type": "stream",
          "text": [
            "epoch 149: 100%|██████████| 282/282 [00:07<00:00, 37.63it/s]\n"
          ]
        },
        {
          "metadata": {
            "tags": null
          },
          "name": "stdout",
          "output_type": "stream",
          "text": [
            "validation loss: 0.000700592812978559 at epoch 150\n",
            "learning_rate: 0.002\n",
            "model saved in ani_acrolein.pt\n"
          ]
        },
        {
          "metadata": {
            "tags": null
          },
          "name": "stderr",
          "output_type": "stream",
          "text": [
            "epoch 150: 100%|██████████| 282/282 [00:08<00:00, 33.81it/s]\n"
          ]
        },
        {
          "metadata": {
            "tags": null
          },
          "name": "stdout",
          "output_type": "stream",
          "text": [
            "validation loss: 0.0033202435622612637 at epoch 151\n",
            "learning_rate: 0.002\n"
          ]
        },
        {
          "metadata": {
            "tags": null
          },
          "name": "stderr",
          "output_type": "stream",
          "text": [
            "epoch 151: 100%|██████████| 282/282 [00:08<00:00, 33.35it/s]\n"
          ]
        },
        {
          "metadata": {
            "tags": null
          },
          "name": "stdout",
          "output_type": "stream",
          "text": [
            "validation loss: 0.001910778370168474 at epoch 152\n",
            "learning_rate: 0.002\n"
          ]
        },
        {
          "metadata": {
            "tags": null
          },
          "name": "stderr",
          "output_type": "stream",
          "text": [
            "epoch 152: 100%|██████████| 282/282 [00:07<00:00, 36.27it/s]\n"
          ]
        },
        {
          "metadata": {
            "tags": null
          },
          "name": "stdout",
          "output_type": "stream",
          "text": [
            "validation loss: 0.001984959931837188 at epoch 153\n",
            "learning_rate: 0.002\n"
          ]
        },
        {
          "metadata": {
            "tags": null
          },
          "name": "stderr",
          "output_type": "stream",
          "text": [
            "epoch 153: 100%|██████████| 282/282 [00:08<00:00, 34.03it/s]\n"
          ]
        },
        {
          "metadata": {
            "tags": null
          },
          "name": "stdout",
          "output_type": "stream",
          "text": [
            "validation loss: 0.002071705162525177 at epoch 154\n",
            "learning_rate: 0.002\n"
          ]
        },
        {
          "metadata": {
            "tags": null
          },
          "name": "stderr",
          "output_type": "stream",
          "text": [
            "epoch 154: 100%|██████████| 282/282 [00:08<00:00, 32.88it/s]\n"
          ]
        },
        {
          "metadata": {
            "tags": null
          },
          "name": "stdout",
          "output_type": "stream",
          "text": [
            "validation loss: 0.001605813251601325 at epoch 155\n",
            "learning_rate: 0.002\n"
          ]
        },
        {
          "metadata": {
            "tags": null
          },
          "name": "stderr",
          "output_type": "stream",
          "text": [
            "epoch 155: 100%|██████████| 282/282 [00:07<00:00, 36.32it/s]\n"
          ]
        },
        {
          "metadata": {
            "tags": null
          },
          "name": "stdout",
          "output_type": "stream",
          "text": [
            "validation loss: 0.0018253625498877632 at epoch 156\n",
            "learning_rate: 0.002\n"
          ]
        },
        {
          "metadata": {
            "tags": null
          },
          "name": "stderr",
          "output_type": "stream",
          "text": [
            "epoch 156: 100%|██████████| 282/282 [00:08<00:00, 33.51it/s]\n"
          ]
        },
        {
          "metadata": {
            "tags": null
          },
          "name": "stdout",
          "output_type": "stream",
          "text": [
            "validation loss: 0.0017212927184171148 at epoch 157\n",
            "learning_rate: 0.002\n"
          ]
        },
        {
          "metadata": {
            "tags": null
          },
          "name": "stderr",
          "output_type": "stream",
          "text": [
            "epoch 157: 100%|██████████| 282/282 [00:08<00:00, 34.05it/s]\n"
          ]
        },
        {
          "metadata": {
            "tags": null
          },
          "name": "stdout",
          "output_type": "stream",
          "text": [
            "validation loss: 0.0025101542787419424 at epoch 158\n",
            "learning_rate: 0.002\n"
          ]
        },
        {
          "metadata": {
            "tags": null
          },
          "name": "stderr",
          "output_type": "stream",
          "text": [
            "epoch 158: 100%|██████████| 282/282 [00:07<00:00, 37.27it/s]\n"
          ]
        },
        {
          "metadata": {
            "tags": null
          },
          "name": "stdout",
          "output_type": "stream",
          "text": [
            "validation loss: 0.0029280342244439655 at epoch 159\n",
            "learning_rate: 0.002\n"
          ]
        },
        {
          "metadata": {
            "tags": null
          },
          "name": "stderr",
          "output_type": "stream",
          "text": [
            "epoch 159: 100%|██████████| 282/282 [00:08<00:00, 33.36it/s]\n"
          ]
        },
        {
          "metadata": {
            "tags": null
          },
          "name": "stdout",
          "output_type": "stream",
          "text": [
            "validation loss: 0.002084421831700537 at epoch 160\n",
            "learning_rate: 0.002\n"
          ]
        },
        {
          "metadata": {
            "tags": null
          },
          "name": "stderr",
          "output_type": "stream",
          "text": [
            "epoch 160: 100%|██████████| 282/282 [00:08<00:00, 33.78it/s]\n"
          ]
        },
        {
          "metadata": {
            "tags": null
          },
          "name": "stdout",
          "output_type": "stream",
          "text": [
            "validation loss: 0.0007064710938268238 at epoch 161\n",
            "learning_rate: 0.002\n"
          ]
        },
        {
          "metadata": {
            "tags": null
          },
          "name": "stderr",
          "output_type": "stream",
          "text": [
            "epoch 161: 100%|██████████| 282/282 [00:07<00:00, 36.39it/s]\n"
          ]
        },
        {
          "metadata": {
            "tags": null
          },
          "name": "stdout",
          "output_type": "stream",
          "text": [
            "validation loss: 0.0007022459515266948 at epoch 162\n",
            "learning_rate: 0.002\n"
          ]
        },
        {
          "metadata": {
            "tags": null
          },
          "name": "stderr",
          "output_type": "stream",
          "text": [
            "epoch 162: 100%|██████████| 282/282 [00:08<00:00, 35.18it/s]\n"
          ]
        },
        {
          "metadata": {
            "tags": null
          },
          "name": "stdout",
          "output_type": "stream",
          "text": [
            "validation loss: 0.0012292715261379879 at epoch 163\n",
            "learning_rate: 0.002\n"
          ]
        },
        {
          "metadata": {
            "tags": null
          },
          "name": "stderr",
          "output_type": "stream",
          "text": [
            "epoch 163: 100%|██████████| 282/282 [00:08<00:00, 34.20it/s]\n"
          ]
        },
        {
          "metadata": {
            "tags": null
          },
          "name": "stdout",
          "output_type": "stream",
          "text": [
            "validation loss: 0.0010990631373392211 at epoch 164\n",
            "learning_rate: 0.002\n"
          ]
        },
        {
          "metadata": {
            "tags": null
          },
          "name": "stderr",
          "output_type": "stream",
          "text": [
            "epoch 164: 100%|██████████| 282/282 [00:07<00:00, 35.59it/s]\n"
          ]
        },
        {
          "metadata": {
            "tags": null
          },
          "name": "stdout",
          "output_type": "stream",
          "text": [
            "validation loss: 0.001350498714380794 at epoch 165\n",
            "learning_rate: 0.002\n"
          ]
        },
        {
          "metadata": {
            "tags": null
          },
          "name": "stderr",
          "output_type": "stream",
          "text": [
            "epoch 165: 100%|██████████| 282/282 [00:07<00:00, 36.79it/s]\n"
          ]
        },
        {
          "metadata": {
            "tags": null
          },
          "name": "stdout",
          "output_type": "stream",
          "text": [
            "validation loss: 0.0007178095219035944 at epoch 166\n",
            "learning_rate: 0.002\n"
          ]
        },
        {
          "metadata": {
            "tags": null
          },
          "name": "stderr",
          "output_type": "stream",
          "text": [
            "epoch 166: 100%|██████████| 282/282 [00:08<00:00, 33.31it/s]\n"
          ]
        },
        {
          "metadata": {
            "tags": null
          },
          "name": "stdout",
          "output_type": "stream",
          "text": [
            "validation loss: 0.0027777930481566325 at epoch 167\n",
            "learning_rate: 0.002\n"
          ]
        },
        {
          "metadata": {
            "tags": null
          },
          "name": "stderr",
          "output_type": "stream",
          "text": [
            "epoch 167: 100%|██████████| 282/282 [00:08<00:00, 34.95it/s]\n"
          ]
        },
        {
          "metadata": {
            "tags": null
          },
          "name": "stdout",
          "output_type": "stream",
          "text": [
            "validation loss: 0.0013300845647851627 at epoch 168\n",
            "learning_rate: 0.002\n"
          ]
        },
        {
          "metadata": {
            "tags": null
          },
          "name": "stderr",
          "output_type": "stream",
          "text": [
            "epoch 168: 100%|██████████| 282/282 [00:07<00:00, 37.52it/s]\n"
          ]
        },
        {
          "metadata": {
            "tags": null
          },
          "name": "stdout",
          "output_type": "stream",
          "text": [
            "validation loss: 0.0008022047645515866 at epoch 169\n",
            "learning_rate: 0.002\n"
          ]
        },
        {
          "metadata": {
            "tags": null
          },
          "name": "stderr",
          "output_type": "stream",
          "text": [
            "epoch 169: 100%|██████████| 282/282 [00:08<00:00, 34.01it/s]\n"
          ]
        },
        {
          "metadata": {
            "tags": null
          },
          "name": "stdout",
          "output_type": "stream",
          "text": [
            "validation loss: 0.0032853552218940524 at epoch 170\n",
            "learning_rate: 0.002\n"
          ]
        },
        {
          "metadata": {
            "tags": null
          },
          "name": "stderr",
          "output_type": "stream",
          "text": [
            "epoch 170: 100%|██████████| 282/282 [00:08<00:00, 34.24it/s]\n"
          ]
        },
        {
          "metadata": {
            "tags": null
          },
          "name": "stdout",
          "output_type": "stream",
          "text": [
            "validation loss: 0.0021429690851105586 at epoch 171\n",
            "learning_rate: 0.002\n"
          ]
        },
        {
          "metadata": {
            "tags": null
          },
          "name": "stderr",
          "output_type": "stream",
          "text": [
            "epoch 171: 100%|██████████| 282/282 [00:07<00:00, 37.35it/s]\n"
          ]
        },
        {
          "metadata": {
            "tags": null
          },
          "name": "stdout",
          "output_type": "stream",
          "text": [
            "validation loss: 0.004111643585893843 at epoch 172\n",
            "learning_rate: 0.002\n"
          ]
        },
        {
          "metadata": {
            "tags": null
          },
          "name": "stderr",
          "output_type": "stream",
          "text": [
            "epoch 172: 100%|██████████| 282/282 [00:08<00:00, 33.53it/s]\n"
          ]
        },
        {
          "metadata": {
            "tags": null
          },
          "name": "stdout",
          "output_type": "stream",
          "text": [
            "validation loss: 0.003982149206929736 at epoch 173\n",
            "learning_rate: 0.002\n"
          ]
        },
        {
          "metadata": {
            "tags": null
          },
          "name": "stderr",
          "output_type": "stream",
          "text": [
            "epoch 173: 100%|██████████| 282/282 [00:08<00:00, 33.26it/s]\n"
          ]
        },
        {
          "metadata": {
            "tags": null
          },
          "name": "stdout",
          "output_type": "stream",
          "text": [
            "validation loss: 0.001604553004933728 at epoch 174\n",
            "learning_rate: 0.002\n"
          ]
        },
        {
          "metadata": {
            "tags": null
          },
          "name": "stderr",
          "output_type": "stream",
          "text": [
            "epoch 174: 100%|██████████| 282/282 [00:07<00:00, 37.49it/s]\n"
          ]
        },
        {
          "metadata": {
            "tags": null
          },
          "name": "stdout",
          "output_type": "stream",
          "text": [
            "validation loss: 0.0009467481532030636 at epoch 175\n",
            "learning_rate: 0.002\n"
          ]
        },
        {
          "metadata": {
            "tags": null
          },
          "name": "stderr",
          "output_type": "stream",
          "text": [
            "epoch 175: 100%|██████████| 282/282 [00:08<00:00, 33.30it/s]\n"
          ]
        },
        {
          "metadata": {
            "tags": null
          },
          "name": "stdout",
          "output_type": "stream",
          "text": [
            "validation loss: 0.0027609006381697125 at epoch 176\n",
            "learning_rate: 0.002\n"
          ]
        },
        {
          "metadata": {
            "tags": null
          },
          "name": "stderr",
          "output_type": "stream",
          "text": [
            "epoch 176: 100%|██████████| 282/282 [00:08<00:00, 33.54it/s]\n"
          ]
        },
        {
          "metadata": {
            "tags": null
          },
          "name": "stdout",
          "output_type": "stream",
          "text": [
            "validation loss: 0.003317402829726537 at epoch 177\n",
            "learning_rate: 0.002\n"
          ]
        },
        {
          "metadata": {
            "tags": null
          },
          "name": "stderr",
          "output_type": "stream",
          "text": [
            "epoch 177: 100%|██████████| 282/282 [00:07<00:00, 37.47it/s]\n"
          ]
        },
        {
          "metadata": {
            "tags": null
          },
          "name": "stdout",
          "output_type": "stream",
          "text": [
            "validation loss: 0.007643168720934126 at epoch 178\n",
            "learning_rate: 0.002\n"
          ]
        },
        {
          "metadata": {
            "tags": null
          },
          "name": "stderr",
          "output_type": "stream",
          "text": [
            "epoch 178: 100%|██████████| 282/282 [00:08<00:00, 34.28it/s]\n"
          ]
        },
        {
          "metadata": {
            "tags": null
          },
          "name": "stdout",
          "output_type": "stream",
          "text": [
            "validation loss: 0.0038689164386855233 at epoch 179\n",
            "learning_rate: 0.002\n"
          ]
        },
        {
          "metadata": {
            "tags": null
          },
          "name": "stderr",
          "output_type": "stream",
          "text": [
            "epoch 179: 100%|██████████| 282/282 [00:08<00:00, 33.88it/s]\n"
          ]
        },
        {
          "metadata": {
            "tags": null
          },
          "name": "stdout",
          "output_type": "stream",
          "text": [
            "validation loss: 0.0021572302132844925 at epoch 180\n",
            "learning_rate: 0.002\n"
          ]
        },
        {
          "metadata": {
            "tags": null
          },
          "name": "stderr",
          "output_type": "stream",
          "text": [
            "epoch 180: 100%|██████████| 282/282 [00:07<00:00, 36.35it/s]\n"
          ]
        },
        {
          "metadata": {
            "tags": null
          },
          "name": "stdout",
          "output_type": "stream",
          "text": [
            "validation loss: 0.003966603017515606 at epoch 181\n",
            "learning_rate: 0.002\n"
          ]
        },
        {
          "metadata": {
            "tags": null
          },
          "name": "stderr",
          "output_type": "stream",
          "text": [
            "epoch 181: 100%|██████████| 282/282 [00:08<00:00, 34.50it/s]\n"
          ]
        },
        {
          "metadata": {
            "tags": null
          },
          "name": "stdout",
          "output_type": "stream",
          "text": [
            "validation loss: 0.003427449468109343 at epoch 182\n",
            "learning_rate: 0.002\n"
          ]
        },
        {
          "metadata": {
            "tags": null
          },
          "name": "stderr",
          "output_type": "stream",
          "text": [
            "epoch 182: 100%|██████████| 282/282 [00:08<00:00, 33.58it/s]\n"
          ]
        },
        {
          "metadata": {
            "tags": null
          },
          "name": "stdout",
          "output_type": "stream",
          "text": [
            "validation loss: 0.004064872771501541 at epoch 183\n",
            "learning_rate: 0.002\n"
          ]
        },
        {
          "metadata": {
            "tags": null
          },
          "name": "stderr",
          "output_type": "stream",
          "text": [
            "epoch 183: 100%|██████████| 282/282 [00:07<00:00, 37.42it/s]\n"
          ]
        },
        {
          "metadata": {
            "tags": null
          },
          "name": "stdout",
          "output_type": "stream",
          "text": [
            "validation loss: 0.003450425576832559 at epoch 184\n",
            "learning_rate: 0.002\n"
          ]
        },
        {
          "metadata": {
            "tags": null
          },
          "name": "stderr",
          "output_type": "stream",
          "text": [
            "epoch 184: 100%|██████████| 282/282 [00:08<00:00, 34.34it/s]\n"
          ]
        },
        {
          "metadata": {
            "tags": null
          },
          "name": "stdout",
          "output_type": "stream",
          "text": [
            "validation loss: 0.0016531185433268547 at epoch 185\n",
            "learning_rate: 0.002\n"
          ]
        },
        {
          "metadata": {
            "tags": null
          },
          "name": "stderr",
          "output_type": "stream",
          "text": [
            "epoch 185: 100%|██████████| 282/282 [00:08<00:00, 33.54it/s]\n"
          ]
        },
        {
          "metadata": {
            "tags": null
          },
          "name": "stdout",
          "output_type": "stream",
          "text": [
            "validation loss: 0.0007276181061234739 at epoch 186\n",
            "learning_rate: 0.002\n"
          ]
        },
        {
          "metadata": {
            "tags": null
          },
          "name": "stderr",
          "output_type": "stream",
          "text": [
            "epoch 186: 100%|██████████| 282/282 [00:07<00:00, 37.31it/s]\n"
          ]
        },
        {
          "metadata": {
            "tags": null
          },
          "name": "stdout",
          "output_type": "stream",
          "text": [
            "validation loss: 0.0027155056844154995 at epoch 187\n",
            "learning_rate: 0.002\n"
          ]
        },
        {
          "metadata": {
            "tags": null
          },
          "name": "stderr",
          "output_type": "stream",
          "text": [
            "epoch 187: 100%|██████████| 282/282 [00:08<00:00, 34.23it/s]\n"
          ]
        },
        {
          "metadata": {
            "tags": null
          },
          "name": "stdout",
          "output_type": "stream",
          "text": [
            "validation loss: 0.0007716396186086867 at epoch 188\n",
            "learning_rate: 0.002\n"
          ]
        },
        {
          "metadata": {
            "tags": null
          },
          "name": "stderr",
          "output_type": "stream",
          "text": [
            "epoch 188: 100%|██████████| 282/282 [00:08<00:00, 33.59it/s]\n"
          ]
        },
        {
          "metadata": {
            "tags": null
          },
          "name": "stdout",
          "output_type": "stream",
          "text": [
            "validation loss: 0.004055747936169306 at epoch 189\n",
            "learning_rate: 0.002\n"
          ]
        },
        {
          "metadata": {
            "tags": null
          },
          "name": "stderr",
          "output_type": "stream",
          "text": [
            "epoch 189: 100%|██████████| 282/282 [00:07<00:00, 35.57it/s]\n"
          ]
        },
        {
          "metadata": {
            "tags": null
          },
          "name": "stdout",
          "output_type": "stream",
          "text": [
            "validation loss: 0.0007933474832938777 at epoch 190\n",
            "learning_rate: 0.002\n"
          ]
        },
        {
          "metadata": {
            "tags": null
          },
          "name": "stderr",
          "output_type": "stream",
          "text": [
            "epoch 190: 100%|██████████| 282/282 [00:07<00:00, 36.91it/s]\n"
          ]
        },
        {
          "metadata": {
            "tags": null
          },
          "name": "stdout",
          "output_type": "stream",
          "text": [
            "validation loss: 0.0027492709739340678 at epoch 191\n",
            "learning_rate: 0.002\n"
          ]
        },
        {
          "metadata": {
            "tags": null
          },
          "name": "stderr",
          "output_type": "stream",
          "text": [
            "epoch 191: 100%|██████████| 282/282 [00:08<00:00, 32.74it/s]\n"
          ]
        },
        {
          "metadata": {
            "tags": null
          },
          "name": "stdout",
          "output_type": "stream",
          "text": [
            "validation loss: 0.0017219318308764034 at epoch 192\n",
            "learning_rate: 0.002\n"
          ]
        },
        {
          "metadata": {
            "tags": null
          },
          "name": "stderr",
          "output_type": "stream",
          "text": [
            "epoch 192: 100%|██████████| 282/282 [00:08<00:00, 33.28it/s]\n"
          ]
        },
        {
          "metadata": {
            "tags": null
          },
          "name": "stdout",
          "output_type": "stream",
          "text": [
            "validation loss: 0.0017889843400981692 at epoch 193\n",
            "learning_rate: 0.002\n"
          ]
        },
        {
          "metadata": {
            "tags": null
          },
          "name": "stderr",
          "output_type": "stream",
          "text": [
            "epoch 193: 100%|██████████| 282/282 [00:07<00:00, 36.08it/s]\n"
          ]
        },
        {
          "metadata": {
            "tags": null
          },
          "name": "stdout",
          "output_type": "stream",
          "text": [
            "validation loss: 0.002071410300003158 at epoch 194\n",
            "learning_rate: 0.002\n"
          ]
        },
        {
          "metadata": {
            "tags": null
          },
          "name": "stderr",
          "output_type": "stream",
          "text": [
            "epoch 194: 100%|██████████| 282/282 [00:08<00:00, 33.03it/s]\n"
          ]
        },
        {
          "metadata": {
            "tags": null
          },
          "name": "stdout",
          "output_type": "stream",
          "text": [
            "validation loss: 0.0058999274803532495 at epoch 195\n",
            "learning_rate: 0.002\n"
          ]
        },
        {
          "metadata": {
            "tags": null
          },
          "name": "stderr",
          "output_type": "stream",
          "text": [
            "epoch 195: 100%|██████████| 282/282 [00:08<00:00, 33.30it/s]\n"
          ]
        },
        {
          "metadata": {
            "tags": null
          },
          "name": "stdout",
          "output_type": "stream",
          "text": [
            "validation loss: 0.0008935388049317731 at epoch 196\n",
            "learning_rate: 0.002\n"
          ]
        },
        {
          "metadata": {
            "tags": null
          },
          "name": "stderr",
          "output_type": "stream",
          "text": [
            "epoch 196: 100%|██████████| 282/282 [00:07<00:00, 36.38it/s]\n"
          ]
        },
        {
          "metadata": {
            "tags": null
          },
          "name": "stdout",
          "output_type": "stream",
          "text": [
            "validation loss: 0.00104133240878582 at epoch 197\n",
            "learning_rate: 0.002\n"
          ]
        },
        {
          "metadata": {
            "tags": null
          },
          "name": "stderr",
          "output_type": "stream",
          "text": [
            "epoch 197: 100%|██████████| 282/282 [00:08<00:00, 33.58it/s]\n"
          ]
        },
        {
          "metadata": {
            "tags": null
          },
          "name": "stdout",
          "output_type": "stream",
          "text": [
            "validation loss: 0.0006717087953454919 at epoch 198\n",
            "learning_rate: 0.002\n",
            "model saved in ani_acrolein.pt\n"
          ]
        },
        {
          "metadata": {
            "tags": null
          },
          "name": "stderr",
          "output_type": "stream",
          "text": [
            "epoch 198: 100%|██████████| 282/282 [00:08<00:00, 33.38it/s]\n"
          ]
        },
        {
          "metadata": {
            "tags": null
          },
          "name": "stdout",
          "output_type": "stream",
          "text": [
            "validation loss: 0.0015165589733256233 at epoch 199\n",
            "learning_rate: 0.002\n"
          ]
        },
        {
          "metadata": {
            "tags": null
          },
          "name": "stderr",
          "output_type": "stream",
          "text": [
            "epoch 199: 100%|██████████| 282/282 [00:07<00:00, 37.26it/s]\n"
          ]
        },
        {
          "metadata": {
            "tags": null
          },
          "name": "stdout",
          "output_type": "stream",
          "text": [
            "validation loss: 0.00182950749165482 at epoch 200\n",
            "learning_rate: 0.002\n"
          ]
        },
        {
          "metadata": {
            "tags": null
          },
          "name": "stderr",
          "output_type": "stream",
          "text": [
            "epoch 200: 100%|██████████| 282/282 [00:08<00:00, 33.12it/s]\n"
          ]
        },
        {
          "metadata": {
            "tags": null
          },
          "name": "stdout",
          "output_type": "stream",
          "text": [
            "validation loss: 0.0014879038474626012 at epoch 201\n",
            "learning_rate: 0.002\n"
          ]
        },
        {
          "metadata": {
            "tags": null
          },
          "name": "stderr",
          "output_type": "stream",
          "text": [
            "epoch 201: 100%|██████████| 282/282 [00:08<00:00, 33.05it/s]\n"
          ]
        },
        {
          "metadata": {
            "tags": null
          },
          "name": "stdout",
          "output_type": "stream",
          "text": [
            "validation loss: 0.0010141846512754758 at epoch 202\n",
            "learning_rate: 0.002\n"
          ]
        },
        {
          "metadata": {
            "tags": null
          },
          "name": "stderr",
          "output_type": "stream",
          "text": [
            "epoch 202: 100%|██████████| 282/282 [00:07<00:00, 35.97it/s]\n"
          ]
        },
        {
          "metadata": {
            "tags": null
          },
          "name": "stdout",
          "output_type": "stream",
          "text": [
            "validation loss: 0.0006811969276103708 at epoch 203\n",
            "learning_rate: 0.002\n"
          ]
        },
        {
          "metadata": {
            "tags": null
          },
          "name": "stderr",
          "output_type": "stream",
          "text": [
            "epoch 203: 100%|██████████| 282/282 [00:08<00:00, 34.70it/s]\n"
          ]
        },
        {
          "metadata": {
            "tags": null
          },
          "name": "stdout",
          "output_type": "stream",
          "text": [
            "validation loss: 0.0009816327285435465 at epoch 204\n",
            "learning_rate: 0.002\n"
          ]
        },
        {
          "metadata": {
            "tags": null
          },
          "name": "stderr",
          "output_type": "stream",
          "text": [
            "epoch 204: 100%|██████████| 282/282 [00:08<00:00, 33.15it/s]\n"
          ]
        },
        {
          "metadata": {
            "tags": null
          },
          "name": "stdout",
          "output_type": "stream",
          "text": [
            "validation loss: 0.0010572725824183889 at epoch 205\n",
            "learning_rate: 0.002\n"
          ]
        },
        {
          "metadata": {
            "tags": null
          },
          "name": "stderr",
          "output_type": "stream",
          "text": [
            "epoch 205: 100%|██████████| 282/282 [00:08<00:00, 34.96it/s]\n"
          ]
        },
        {
          "metadata": {
            "tags": null
          },
          "name": "stdout",
          "output_type": "stream",
          "text": [
            "validation loss: 0.0015025706920358869 at epoch 206\n",
            "learning_rate: 0.002\n"
          ]
        },
        {
          "metadata": {
            "tags": null
          },
          "name": "stderr",
          "output_type": "stream",
          "text": [
            "epoch 206: 100%|██████████| 282/282 [00:07<00:00, 36.96it/s]\n"
          ]
        },
        {
          "metadata": {
            "tags": null
          },
          "name": "stdout",
          "output_type": "stream",
          "text": [
            "validation loss: 0.0008415048039621777 at epoch 207\n",
            "learning_rate: 0.002\n"
          ]
        },
        {
          "metadata": {
            "tags": null
          },
          "name": "stderr",
          "output_type": "stream",
          "text": [
            "epoch 207: 100%|██████████| 282/282 [00:08<00:00, 32.09it/s]\n"
          ]
        },
        {
          "metadata": {
            "tags": null
          },
          "name": "stdout",
          "output_type": "stream",
          "text": [
            "validation loss: 0.002400365309582816 at epoch 208\n",
            "learning_rate: 0.002\n"
          ]
        },
        {
          "metadata": {
            "tags": null
          },
          "name": "stderr",
          "output_type": "stream",
          "text": [
            "epoch 208: 100%|██████████| 282/282 [00:08<00:00, 33.20it/s]\n"
          ]
        },
        {
          "metadata": {
            "tags": null
          },
          "name": "stdout",
          "output_type": "stream",
          "text": [
            "validation loss: 0.002126584753394127 at epoch 209\n",
            "learning_rate: 0.002\n"
          ]
        },
        {
          "metadata": {
            "tags": null
          },
          "name": "stderr",
          "output_type": "stream",
          "text": [
            "epoch 209: 100%|██████████| 282/282 [00:07<00:00, 36.61it/s]\n"
          ]
        },
        {
          "metadata": {
            "tags": null
          },
          "name": "stdout",
          "output_type": "stream",
          "text": [
            "validation loss: 0.006434717350535923 at epoch 210\n",
            "learning_rate: 0.002\n"
          ]
        },
        {
          "metadata": {
            "tags": null
          },
          "name": "stderr",
          "output_type": "stream",
          "text": [
            "epoch 210: 100%|██████████| 282/282 [00:08<00:00, 32.99it/s]\n"
          ]
        },
        {
          "metadata": {
            "tags": null
          },
          "name": "stdout",
          "output_type": "stream",
          "text": [
            "validation loss: 0.0007798904747598701 at epoch 211\n",
            "learning_rate: 0.002\n"
          ]
        },
        {
          "metadata": {
            "tags": null
          },
          "name": "stderr",
          "output_type": "stream",
          "text": [
            "epoch 211: 100%|██████████| 282/282 [00:08<00:00, 33.32it/s]\n"
          ]
        },
        {
          "metadata": {
            "tags": null
          },
          "name": "stdout",
          "output_type": "stream",
          "text": [
            "validation loss: 0.002094317901465628 at epoch 212\n",
            "learning_rate: 0.002\n"
          ]
        },
        {
          "metadata": {
            "tags": null
          },
          "name": "stderr",
          "output_type": "stream",
          "text": [
            "epoch 212: 100%|██████████| 282/282 [00:07<00:00, 37.24it/s]\n"
          ]
        },
        {
          "metadata": {
            "tags": null
          },
          "name": "stdout",
          "output_type": "stream",
          "text": [
            "validation loss: 0.0007490458095239269 at epoch 213\n",
            "learning_rate: 0.002\n"
          ]
        },
        {
          "metadata": {
            "tags": null
          },
          "name": "stderr",
          "output_type": "stream",
          "text": [
            "epoch 213: 100%|██████████| 282/282 [00:08<00:00, 33.32it/s]\n"
          ]
        },
        {
          "metadata": {
            "tags": null
          },
          "name": "stdout",
          "output_type": "stream",
          "text": [
            "validation loss: 0.0007177995190852218 at epoch 214\n",
            "learning_rate: 0.002\n"
          ]
        },
        {
          "metadata": {
            "tags": null
          },
          "name": "stderr",
          "output_type": "stream",
          "text": [
            "epoch 214: 100%|██████████| 282/282 [00:08<00:00, 32.20it/s]\n"
          ]
        },
        {
          "metadata": {
            "tags": null
          },
          "name": "stdout",
          "output_type": "stream",
          "text": [
            "validation loss: 0.0013343534477882914 at epoch 215\n",
            "learning_rate: 0.002\n"
          ]
        },
        {
          "metadata": {
            "tags": null
          },
          "name": "stderr",
          "output_type": "stream",
          "text": [
            "epoch 215: 100%|██████████| 282/282 [00:07<00:00, 36.65it/s]\n"
          ]
        },
        {
          "metadata": {
            "tags": null
          },
          "name": "stdout",
          "output_type": "stream",
          "text": [
            "validation loss: 0.0014070021998551156 at epoch 216\n",
            "learning_rate: 0.002\n"
          ]
        },
        {
          "metadata": {
            "tags": null
          },
          "name": "stderr",
          "output_type": "stream",
          "text": [
            "epoch 216: 100%|██████████| 282/282 [00:08<00:00, 33.02it/s]\n"
          ]
        },
        {
          "metadata": {
            "tags": null
          },
          "name": "stdout",
          "output_type": "stream",
          "text": [
            "validation loss: 0.0007866527872780959 at epoch 217\n",
            "learning_rate: 0.002\n"
          ]
        },
        {
          "metadata": {
            "tags": null
          },
          "name": "stderr",
          "output_type": "stream",
          "text": [
            "epoch 217: 100%|██████████| 282/282 [00:08<00:00, 32.34it/s]\n"
          ]
        },
        {
          "metadata": {
            "tags": null
          },
          "name": "stdout",
          "output_type": "stream",
          "text": [
            "validation loss: 0.0007002895561357339 at epoch 218\n",
            "learning_rate: 0.002\n"
          ]
        },
        {
          "metadata": {
            "tags": null
          },
          "name": "stderr",
          "output_type": "stream",
          "text": [
            "epoch 218: 100%|██████████| 282/282 [00:07<00:00, 35.28it/s]\n"
          ]
        },
        {
          "metadata": {
            "tags": null
          },
          "name": "stdout",
          "output_type": "stream",
          "text": [
            "validation loss: 0.001772326435479853 at epoch 219\n",
            "learning_rate: 0.002\n"
          ]
        },
        {
          "metadata": {
            "tags": null
          },
          "name": "stderr",
          "output_type": "stream",
          "text": [
            "epoch 219: 100%|██████████| 282/282 [00:08<00:00, 34.65it/s]\n"
          ]
        },
        {
          "metadata": {
            "tags": null
          },
          "name": "stdout",
          "output_type": "stream",
          "text": [
            "validation loss: 0.0010827658234371079 at epoch 220\n",
            "learning_rate: 0.002\n"
          ]
        },
        {
          "metadata": {
            "tags": null
          },
          "name": "stderr",
          "output_type": "stream",
          "text": [
            "epoch 220: 100%|██████████| 282/282 [00:08<00:00, 32.54it/s]\n"
          ]
        },
        {
          "metadata": {
            "tags": null
          },
          "name": "stdout",
          "output_type": "stream",
          "text": [
            "validation loss: 0.0007339828804963165 at epoch 221\n",
            "learning_rate: 0.002\n"
          ]
        },
        {
          "metadata": {
            "tags": null
          },
          "name": "stderr",
          "output_type": "stream",
          "text": [
            "epoch 221: 100%|██████████| 282/282 [00:08<00:00, 33.91it/s]\n"
          ]
        },
        {
          "metadata": {
            "tags": null
          },
          "name": "stdout",
          "output_type": "stream",
          "text": [
            "validation loss: 0.002364515370792813 at epoch 222\n",
            "learning_rate: 0.002\n"
          ]
        },
        {
          "metadata": {
            "tags": null
          },
          "name": "stderr",
          "output_type": "stream",
          "text": [
            "epoch 222: 100%|██████████| 282/282 [00:07<00:00, 36.75it/s]\n"
          ]
        },
        {
          "metadata": {
            "tags": null
          },
          "name": "stdout",
          "output_type": "stream",
          "text": [
            "validation loss: 0.0014113386223713557 at epoch 223\n",
            "learning_rate: 0.002\n"
          ]
        },
        {
          "metadata": {
            "tags": null
          },
          "name": "stderr",
          "output_type": "stream",
          "text": [
            "epoch 223: 100%|██████████| 282/282 [00:08<00:00, 33.28it/s]\n"
          ]
        },
        {
          "metadata": {
            "tags": null
          },
          "name": "stdout",
          "output_type": "stream",
          "text": [
            "validation loss: 0.002469508753882514 at epoch 224\n",
            "learning_rate: 0.002\n"
          ]
        },
        {
          "metadata": {
            "tags": null
          },
          "name": "stderr",
          "output_type": "stream",
          "text": [
            "epoch 224: 100%|██████████| 282/282 [00:08<00:00, 33.00it/s]\n"
          ]
        },
        {
          "metadata": {
            "tags": null
          },
          "name": "stdout",
          "output_type": "stream",
          "text": [
            "validation loss: 0.005439343985584047 at epoch 225\n",
            "learning_rate: 0.002\n"
          ]
        },
        {
          "metadata": {
            "tags": null
          },
          "name": "stderr",
          "output_type": "stream",
          "text": [
            "epoch 225: 100%|██████████| 282/282 [00:07<00:00, 36.88it/s]\n"
          ]
        },
        {
          "metadata": {
            "tags": null
          },
          "name": "stdout",
          "output_type": "stream",
          "text": [
            "validation loss: 0.0024217108885447184 at epoch 226\n",
            "learning_rate: 0.002\n"
          ]
        },
        {
          "metadata": {
            "tags": null
          },
          "name": "stderr",
          "output_type": "stream",
          "text": [
            "epoch 226: 100%|██████████| 282/282 [00:08<00:00, 34.06it/s]\n"
          ]
        },
        {
          "metadata": {
            "tags": null
          },
          "name": "stdout",
          "output_type": "stream",
          "text": [
            "validation loss: 0.0018984237197372648 at epoch 227\n",
            "learning_rate: 0.002\n"
          ]
        },
        {
          "metadata": {
            "tags": null
          },
          "name": "stderr",
          "output_type": "stream",
          "text": [
            "epoch 227: 100%|██████████| 282/282 [00:08<00:00, 33.27it/s]\n"
          ]
        },
        {
          "metadata": {
            "tags": null
          },
          "name": "stdout",
          "output_type": "stream",
          "text": [
            "validation loss: 0.0029883336623509724 at epoch 228\n",
            "learning_rate: 0.002\n"
          ]
        },
        {
          "metadata": {
            "tags": null
          },
          "name": "stderr",
          "output_type": "stream",
          "text": [
            "epoch 228: 100%|██████████| 282/282 [00:07<00:00, 36.91it/s]\n"
          ]
        },
        {
          "metadata": {
            "tags": null
          },
          "name": "stdout",
          "output_type": "stream",
          "text": [
            "validation loss: 0.0018528297369678815 at epoch 229\n",
            "learning_rate: 0.002\n"
          ]
        },
        {
          "metadata": {
            "tags": null
          },
          "name": "stderr",
          "output_type": "stream",
          "text": [
            "epoch 229: 100%|██████████| 282/282 [00:08<00:00, 33.79it/s]\n"
          ]
        },
        {
          "metadata": {
            "tags": null
          },
          "name": "stdout",
          "output_type": "stream",
          "text": [
            "validation loss: 0.002503674465748999 at epoch 230\n",
            "learning_rate: 0.002\n"
          ]
        },
        {
          "metadata": {
            "tags": null
          },
          "name": "stderr",
          "output_type": "stream",
          "text": [
            "epoch 230: 100%|██████████| 282/282 [00:08<00:00, 33.58it/s]\n"
          ]
        },
        {
          "metadata": {
            "tags": null
          },
          "name": "stdout",
          "output_type": "stream",
          "text": [
            "validation loss: 0.0012752624824643136 at epoch 231\n",
            "learning_rate: 0.002\n"
          ]
        },
        {
          "metadata": {
            "tags": null
          },
          "name": "stderr",
          "output_type": "stream",
          "text": [
            "epoch 231: 100%|██████████| 282/282 [00:07<00:00, 36.32it/s]\n"
          ]
        },
        {
          "metadata": {
            "tags": null
          },
          "name": "stdout",
          "output_type": "stream",
          "text": [
            "validation loss: 0.0005881362938218647 at epoch 232\n",
            "learning_rate: 0.002\n",
            "model saved in ani_acrolein.pt\n"
          ]
        },
        {
          "metadata": {
            "tags": null
          },
          "name": "stderr",
          "output_type": "stream",
          "text": [
            "epoch 232: 100%|██████████| 282/282 [00:08<00:00, 35.09it/s]\n"
          ]
        },
        {
          "metadata": {
            "tags": null
          },
          "name": "stdout",
          "output_type": "stream",
          "text": [
            "validation loss: 0.0016509024418062633 at epoch 233\n",
            "learning_rate: 0.002\n"
          ]
        },
        {
          "metadata": {
            "tags": null
          },
          "name": "stderr",
          "output_type": "stream",
          "text": [
            "epoch 233: 100%|██████████| 282/282 [00:08<00:00, 33.87it/s]\n"
          ]
        },
        {
          "metadata": {
            "tags": null
          },
          "name": "stdout",
          "output_type": "stream",
          "text": [
            "validation loss: 0.003105667288104693 at epoch 234\n",
            "learning_rate: 0.002\n"
          ]
        },
        {
          "metadata": {
            "tags": null
          },
          "name": "stderr",
          "output_type": "stream",
          "text": [
            "epoch 234: 100%|██████████| 282/282 [00:08<00:00, 34.17it/s]\n"
          ]
        },
        {
          "metadata": {
            "tags": null
          },
          "name": "stdout",
          "output_type": "stream",
          "text": [
            "validation loss: 0.003713072144322925 at epoch 235\n",
            "learning_rate: 0.002\n"
          ]
        },
        {
          "metadata": {
            "tags": null
          },
          "name": "stderr",
          "output_type": "stream",
          "text": [
            "epoch 235: 100%|██████████| 282/282 [00:07<00:00, 36.57it/s]\n"
          ]
        },
        {
          "metadata": {
            "tags": null
          },
          "name": "stdout",
          "output_type": "stream",
          "text": [
            "validation loss: 0.001070365057223373 at epoch 236\n",
            "learning_rate: 0.002\n"
          ]
        },
        {
          "metadata": {
            "tags": null
          },
          "name": "stderr",
          "output_type": "stream",
          "text": [
            "epoch 236: 100%|██████████| 282/282 [00:08<00:00, 33.61it/s]\n"
          ]
        },
        {
          "metadata": {
            "tags": null
          },
          "name": "stdout",
          "output_type": "stream",
          "text": [
            "validation loss: 0.007703005413214365 at epoch 237\n",
            "learning_rate: 0.002\n"
          ]
        },
        {
          "metadata": {
            "tags": null
          },
          "name": "stderr",
          "output_type": "stream",
          "text": [
            "epoch 237: 100%|██████████| 282/282 [00:08<00:00, 33.24it/s]\n"
          ]
        },
        {
          "metadata": {
            "tags": null
          },
          "name": "stdout",
          "output_type": "stream",
          "text": [
            "validation loss: 0.0013225362143582768 at epoch 238\n",
            "learning_rate: 0.002\n"
          ]
        },
        {
          "metadata": {
            "tags": null
          },
          "name": "stderr",
          "output_type": "stream",
          "text": [
            "epoch 238: 100%|██████████| 282/282 [00:07<00:00, 37.02it/s]\n"
          ]
        },
        {
          "metadata": {
            "tags": null
          },
          "name": "stdout",
          "output_type": "stream",
          "text": [
            "validation loss: 0.0007227221834990714 at epoch 239\n",
            "learning_rate: 0.002\n"
          ]
        },
        {
          "metadata": {
            "tags": null
          },
          "name": "stderr",
          "output_type": "stream",
          "text": [
            "epoch 239: 100%|██████████| 282/282 [00:08<00:00, 33.69it/s]\n"
          ]
        },
        {
          "metadata": {
            "tags": null
          },
          "name": "stdout",
          "output_type": "stream",
          "text": [
            "validation loss: 0.0026600427776575087 at epoch 240\n",
            "learning_rate: 0.002\n"
          ]
        },
        {
          "metadata": {
            "tags": null
          },
          "name": "stderr",
          "output_type": "stream",
          "text": [
            "epoch 240: 100%|██████████| 282/282 [00:08<00:00, 33.52it/s]\n"
          ]
        },
        {
          "metadata": {
            "tags": null
          },
          "name": "stdout",
          "output_type": "stream",
          "text": [
            "validation loss: 0.0007334816273715762 at epoch 241\n",
            "learning_rate: 0.002\n"
          ]
        },
        {
          "metadata": {
            "tags": null
          },
          "name": "stderr",
          "output_type": "stream",
          "text": [
            "epoch 241: 100%|██████████| 282/282 [00:07<00:00, 36.21it/s]\n"
          ]
        },
        {
          "metadata": {
            "tags": null
          },
          "name": "stdout",
          "output_type": "stream",
          "text": [
            "validation loss: 0.00199779598083761 at epoch 242\n",
            "learning_rate: 0.002\n"
          ]
        },
        {
          "metadata": {
            "tags": null
          },
          "name": "stderr",
          "output_type": "stream",
          "text": [
            "epoch 242: 100%|██████████| 282/282 [00:08<00:00, 32.82it/s]\n"
          ]
        },
        {
          "metadata": {
            "tags": null
          },
          "name": "stdout",
          "output_type": "stream",
          "text": [
            "validation loss: 0.0023378128276930915 at epoch 243\n",
            "learning_rate: 0.002\n"
          ]
        },
        {
          "metadata": {
            "tags": null
          },
          "name": "stderr",
          "output_type": "stream",
          "text": [
            "epoch 243: 100%|██████████| 282/282 [00:08<00:00, 32.90it/s]\n"
          ]
        },
        {
          "metadata": {
            "tags": null
          },
          "name": "stdout",
          "output_type": "stream",
          "text": [
            "validation loss: 0.00409005880024698 at epoch 244\n",
            "learning_rate: 0.002\n"
          ]
        },
        {
          "metadata": {
            "tags": null
          },
          "name": "stderr",
          "output_type": "stream",
          "text": [
            "epoch 244: 100%|██████████| 282/282 [00:07<00:00, 36.76it/s]\n"
          ]
        },
        {
          "metadata": {
            "tags": null
          },
          "name": "stdout",
          "output_type": "stream",
          "text": [
            "validation loss: 0.0006310931291017267 at epoch 245\n",
            "learning_rate: 0.002\n"
          ]
        },
        {
          "metadata": {
            "tags": null
          },
          "name": "stderr",
          "output_type": "stream",
          "text": [
            "epoch 245: 100%|██████████| 282/282 [00:08<00:00, 34.69it/s]\n"
          ]
        },
        {
          "metadata": {
            "tags": null
          },
          "name": "stdout",
          "output_type": "stream",
          "text": [
            "validation loss: 0.0011138614142934481 at epoch 246\n",
            "learning_rate: 0.002\n"
          ]
        },
        {
          "metadata": {
            "tags": null
          },
          "name": "stderr",
          "output_type": "stream",
          "text": [
            "epoch 246: 100%|██████████| 282/282 [00:08<00:00, 34.08it/s]\n"
          ]
        },
        {
          "metadata": {
            "tags": null
          },
          "name": "stdout",
          "output_type": "stream",
          "text": [
            "validation loss: 0.005878682305415471 at epoch 247\n",
            "learning_rate: 0.002\n"
          ]
        },
        {
          "metadata": {
            "tags": null
          },
          "name": "stderr",
          "output_type": "stream",
          "text": [
            "epoch 247: 100%|██████████| 282/282 [00:07<00:00, 37.21it/s]\n"
          ]
        },
        {
          "metadata": {
            "tags": null
          },
          "name": "stdout",
          "output_type": "stream",
          "text": [
            "validation loss: 0.0006541947904560301 at epoch 248\n",
            "learning_rate: 0.002\n"
          ]
        },
        {
          "metadata": {
            "tags": null
          },
          "name": "stderr",
          "output_type": "stream",
          "text": [
            "epoch 248: 100%|██████████| 282/282 [00:08<00:00, 33.92it/s]\n"
          ]
        },
        {
          "metadata": {
            "tags": null
          },
          "name": "stdout",
          "output_type": "stream",
          "text": [
            "validation loss: 0.0009676837805244658 at epoch 249\n",
            "learning_rate: 0.002\n"
          ]
        },
        {
          "metadata": {
            "tags": null
          },
          "name": "stderr",
          "output_type": "stream",
          "text": [
            "epoch 249: 100%|██████████| 282/282 [00:08<00:00, 33.87it/s]\n"
          ]
        },
        {
          "metadata": {
            "tags": null
          },
          "name": "stdout",
          "output_type": "stream",
          "text": [
            "validation loss: 0.0032315895789199406 at epoch 250\n",
            "learning_rate: 0.002\n"
          ]
        },
        {
          "metadata": {
            "tags": null
          },
          "name": "stderr",
          "output_type": "stream",
          "text": [
            "epoch 250: 100%|██████████| 282/282 [00:07<00:00, 35.92it/s]\n"
          ]
        },
        {
          "metadata": {
            "tags": null
          },
          "name": "stdout",
          "output_type": "stream",
          "text": [
            "validation loss: 0.0015548951534761323 at epoch 251\n",
            "learning_rate: 0.002\n"
          ]
        },
        {
          "metadata": {
            "tags": null
          },
          "name": "stderr",
          "output_type": "stream",
          "text": [
            "epoch 251: 100%|██████████| 282/282 [00:07<00:00, 36.32it/s]\n"
          ]
        },
        {
          "metadata": {
            "tags": null
          },
          "name": "stdout",
          "output_type": "stream",
          "text": [
            "validation loss: 0.001394313770863745 at epoch 252\n",
            "learning_rate: 0.002\n"
          ]
        },
        {
          "metadata": {
            "tags": null
          },
          "name": "stderr",
          "output_type": "stream",
          "text": [
            "epoch 252: 100%|██████████| 282/282 [00:08<00:00, 34.06it/s]\n"
          ]
        },
        {
          "metadata": {
            "tags": null
          },
          "name": "stdout",
          "output_type": "stream",
          "text": [
            "validation loss: 0.000649883480121692 at epoch 253\n",
            "learning_rate: 0.002\n"
          ]
        },
        {
          "metadata": {
            "tags": null
          },
          "name": "stderr",
          "output_type": "stream",
          "text": [
            "epoch 253: 100%|██████████| 282/282 [00:08<00:00, 34.89it/s]\n"
          ]
        },
        {
          "metadata": {
            "tags": null
          },
          "name": "stdout",
          "output_type": "stream",
          "text": [
            "validation loss: 0.0032521346261103947 at epoch 254\n",
            "learning_rate: 0.002\n"
          ]
        },
        {
          "metadata": {
            "tags": null
          },
          "name": "stderr",
          "output_type": "stream",
          "text": [
            "epoch 254: 100%|██████████| 282/282 [00:07<00:00, 37.64it/s]\n"
          ]
        },
        {
          "metadata": {
            "tags": null
          },
          "name": "stdout",
          "output_type": "stream",
          "text": [
            "validation loss: 0.0010271620278557141 at epoch 255\n",
            "learning_rate: 0.002\n"
          ]
        },
        {
          "metadata": {
            "tags": null
          },
          "name": "stderr",
          "output_type": "stream",
          "text": [
            "epoch 255: 100%|██████████| 282/282 [00:08<00:00, 33.32it/s]\n"
          ]
        },
        {
          "metadata": {
            "tags": null
          },
          "name": "stdout",
          "output_type": "stream",
          "text": [
            "validation loss: 0.0006374632144967715 at epoch 256\n",
            "learning_rate: 0.002\n"
          ]
        },
        {
          "metadata": {
            "tags": null
          },
          "name": "stderr",
          "output_type": "stream",
          "text": [
            "epoch 256: 100%|██████████| 282/282 [00:08<00:00, 33.80it/s]\n"
          ]
        },
        {
          "metadata": {
            "tags": null
          },
          "name": "stdout",
          "output_type": "stream",
          "text": [
            "validation loss: 0.002069007287422816 at epoch 257\n",
            "learning_rate: 0.002\n"
          ]
        },
        {
          "metadata": {
            "tags": null
          },
          "name": "stderr",
          "output_type": "stream",
          "text": [
            "epoch 257: 100%|██████████| 282/282 [00:07<00:00, 37.46it/s]\n"
          ]
        },
        {
          "metadata": {
            "tags": null
          },
          "name": "stdout",
          "output_type": "stream",
          "text": [
            "validation loss: 0.003988344523641798 at epoch 258\n",
            "learning_rate: 0.002\n"
          ]
        },
        {
          "metadata": {
            "tags": null
          },
          "name": "stderr",
          "output_type": "stream",
          "text": [
            "epoch 258: 100%|██████████| 282/282 [00:08<00:00, 33.70it/s]\n"
          ]
        },
        {
          "metadata": {
            "tags": null
          },
          "name": "stdout",
          "output_type": "stream",
          "text": [
            "validation loss: 0.0018396086369951567 at epoch 259\n",
            "learning_rate: 0.002\n"
          ]
        },
        {
          "metadata": {
            "tags": null
          },
          "name": "stderr",
          "output_type": "stream",
          "text": [
            "epoch 259: 100%|██████████| 282/282 [00:08<00:00, 33.91it/s]\n"
          ]
        },
        {
          "metadata": {
            "tags": null
          },
          "name": "stdout",
          "output_type": "stream",
          "text": [
            "validation loss: 0.0017222641731301943 at epoch 260\n",
            "learning_rate: 0.002\n"
          ]
        },
        {
          "metadata": {
            "tags": null
          },
          "name": "stderr",
          "output_type": "stream",
          "text": [
            "epoch 260: 100%|██████████| 282/282 [00:07<00:00, 37.65it/s]\n"
          ]
        },
        {
          "metadata": {
            "tags": null
          },
          "name": "stdout",
          "output_type": "stream",
          "text": [
            "validation loss: 0.0019112898401088185 at epoch 261\n",
            "learning_rate: 0.002\n"
          ]
        },
        {
          "metadata": {
            "tags": null
          },
          "name": "stderr",
          "output_type": "stream",
          "text": [
            "epoch 261: 100%|██████████| 282/282 [00:08<00:00, 33.80it/s]\n"
          ]
        },
        {
          "metadata": {
            "tags": null
          },
          "name": "stdout",
          "output_type": "stream",
          "text": [
            "validation loss: 0.0006512047615316179 at epoch 262\n",
            "learning_rate: 0.002\n"
          ]
        },
        {
          "metadata": {
            "tags": null
          },
          "name": "stderr",
          "output_type": "stream",
          "text": [
            "epoch 262: 100%|██████████| 282/282 [00:08<00:00, 33.21it/s]\n"
          ]
        },
        {
          "metadata": {
            "tags": null
          },
          "name": "stdout",
          "output_type": "stream",
          "text": [
            "validation loss: 0.0005949611663818359 at epoch 263\n",
            "learning_rate: 0.002\n"
          ]
        },
        {
          "metadata": {
            "tags": null
          },
          "name": "stderr",
          "output_type": "stream",
          "text": [
            "epoch 263: 100%|██████████| 282/282 [00:07<00:00, 37.61it/s]\n"
          ]
        },
        {
          "metadata": {
            "tags": null
          },
          "name": "stdout",
          "output_type": "stream",
          "text": [
            "validation loss: 0.003340438347723749 at epoch 264\n",
            "learning_rate: 0.002\n"
          ]
        },
        {
          "metadata": {
            "tags": null
          },
          "name": "stderr",
          "output_type": "stream",
          "text": [
            "epoch 264: 100%|██████████| 282/282 [00:08<00:00, 34.37it/s]\n"
          ]
        },
        {
          "metadata": {
            "tags": null
          },
          "name": "stdout",
          "output_type": "stream",
          "text": [
            "validation loss: 0.003226243788997332 at epoch 265\n",
            "learning_rate: 0.002\n"
          ]
        },
        {
          "metadata": {
            "tags": null
          },
          "name": "stderr",
          "output_type": "stream",
          "text": [
            "epoch 265: 100%|██████████| 282/282 [00:08<00:00, 33.51it/s]\n"
          ]
        },
        {
          "metadata": {
            "tags": null
          },
          "name": "stdout",
          "output_type": "stream",
          "text": [
            "validation loss: 0.0014135705687933497 at epoch 266\n",
            "learning_rate: 0.002\n"
          ]
        },
        {
          "metadata": {
            "tags": null
          },
          "name": "stderr",
          "output_type": "stream",
          "text": [
            "epoch 266: 100%|██████████| 282/282 [00:07<00:00, 37.15it/s]\n"
          ]
        },
        {
          "metadata": {
            "tags": null
          },
          "name": "stdout",
          "output_type": "stream",
          "text": [
            "validation loss: 0.0006892420206632879 at epoch 267\n",
            "learning_rate: 0.002\n"
          ]
        },
        {
          "metadata": {
            "tags": null
          },
          "name": "stderr",
          "output_type": "stream",
          "text": [
            "epoch 267: 100%|██████████| 282/282 [00:08<00:00, 34.87it/s]\n"
          ]
        },
        {
          "metadata": {
            "tags": null
          },
          "name": "stdout",
          "output_type": "stream",
          "text": [
            "validation loss: 0.0030580550846126342 at epoch 268\n",
            "learning_rate: 0.002\n"
          ]
        },
        {
          "metadata": {
            "tags": null
          },
          "name": "stderr",
          "output_type": "stream",
          "text": [
            "epoch 268: 100%|██████████| 282/282 [00:08<00:00, 33.55it/s]\n"
          ]
        },
        {
          "metadata": {
            "tags": null
          },
          "name": "stdout",
          "output_type": "stream",
          "text": [
            "validation loss: 0.0015467013642191886 at epoch 269\n",
            "learning_rate: 0.002\n"
          ]
        },
        {
          "metadata": {
            "tags": null
          },
          "name": "stderr",
          "output_type": "stream",
          "text": [
            "epoch 269: 100%|██████████| 282/282 [00:07<00:00, 35.39it/s]\n"
          ]
        },
        {
          "metadata": {
            "tags": null
          },
          "name": "stdout",
          "output_type": "stream",
          "text": [
            "validation loss: 0.0034189368850655027 at epoch 270\n",
            "learning_rate: 0.002\n"
          ]
        },
        {
          "metadata": {
            "tags": null
          },
          "name": "stderr",
          "output_type": "stream",
          "text": [
            "epoch 270: 100%|██████████| 282/282 [00:07<00:00, 35.41it/s]\n"
          ]
        },
        {
          "metadata": {
            "tags": null
          },
          "name": "stdout",
          "output_type": "stream",
          "text": [
            "validation loss: 0.002678253678811921 at epoch 271\n",
            "learning_rate: 0.002\n"
          ]
        },
        {
          "metadata": {
            "tags": null
          },
          "name": "stderr",
          "output_type": "stream",
          "text": [
            "epoch 271: 100%|██████████| 282/282 [00:08<00:00, 33.54it/s]\n"
          ]
        },
        {
          "metadata": {
            "tags": null
          },
          "name": "stdout",
          "output_type": "stream",
          "text": [
            "validation loss: 0.0006200209475225873 at epoch 272\n",
            "learning_rate: 0.002\n"
          ]
        },
        {
          "metadata": {
            "tags": null
          },
          "name": "stderr",
          "output_type": "stream",
          "text": [
            "epoch 272: 100%|██████████| 282/282 [00:07<00:00, 35.88it/s]\n"
          ]
        },
        {
          "metadata": {
            "tags": null
          },
          "name": "stdout",
          "output_type": "stream",
          "text": [
            "validation loss: 0.005087345477607515 at epoch 273\n",
            "learning_rate: 0.002\n"
          ]
        },
        {
          "metadata": {
            "tags": null
          },
          "name": "stderr",
          "output_type": "stream",
          "text": [
            "epoch 273: 100%|██████████| 282/282 [00:07<00:00, 36.31it/s]\n"
          ]
        },
        {
          "metadata": {
            "tags": null
          },
          "name": "stdout",
          "output_type": "stream",
          "text": [
            "validation loss: 0.0005917250774800778 at epoch 274\n",
            "learning_rate: 0.002\n"
          ]
        },
        {
          "metadata": {
            "tags": null
          },
          "name": "stderr",
          "output_type": "stream",
          "text": [
            "epoch 274: 100%|██████████| 282/282 [00:08<00:00, 33.97it/s]\n"
          ]
        },
        {
          "metadata": {
            "tags": null
          },
          "name": "stdout",
          "output_type": "stream",
          "text": [
            "validation loss: 0.0018850446492433548 at epoch 275\n",
            "learning_rate: 0.002\n"
          ]
        },
        {
          "metadata": {
            "tags": null
          },
          "name": "stderr",
          "output_type": "stream",
          "text": [
            "epoch 275: 100%|██████████| 282/282 [00:07<00:00, 35.32it/s]\n"
          ]
        },
        {
          "metadata": {
            "tags": null
          },
          "name": "stdout",
          "output_type": "stream",
          "text": [
            "validation loss: 0.0017334444315897093 at epoch 276\n",
            "learning_rate: 0.002\n"
          ]
        },
        {
          "metadata": {
            "tags": null
          },
          "name": "stderr",
          "output_type": "stream",
          "text": [
            "epoch 276: 100%|██████████| 282/282 [00:07<00:00, 35.45it/s]\n"
          ]
        },
        {
          "metadata": {
            "tags": null
          },
          "name": "stdout",
          "output_type": "stream",
          "text": [
            "validation loss: 0.0024502520114183424 at epoch 277\n",
            "learning_rate: 0.002\n"
          ]
        },
        {
          "metadata": {
            "tags": null
          },
          "name": "stderr",
          "output_type": "stream",
          "text": [
            "epoch 277: 100%|██████████| 282/282 [00:08<00:00, 34.07it/s]\n"
          ]
        },
        {
          "metadata": {
            "tags": null
          },
          "name": "stdout",
          "output_type": "stream",
          "text": [
            "validation loss: 0.0009239562385612064 at epoch 278\n",
            "learning_rate: 0.002\n"
          ]
        },
        {
          "metadata": {
            "tags": null
          },
          "name": "stderr",
          "output_type": "stream",
          "text": [
            "epoch 278: 100%|██████████| 282/282 [00:08<00:00, 33.50it/s]\n"
          ]
        },
        {
          "metadata": {
            "tags": null
          },
          "name": "stdout",
          "output_type": "stream",
          "text": [
            "validation loss: 0.0015270737649665939 at epoch 279\n",
            "learning_rate: 0.002\n"
          ]
        },
        {
          "metadata": {
            "tags": null
          },
          "name": "stderr",
          "output_type": "stream",
          "text": [
            "epoch 279: 100%|██████████| 282/282 [00:07<00:00, 36.65it/s]\n"
          ]
        },
        {
          "metadata": {
            "tags": null
          },
          "name": "stdout",
          "output_type": "stream",
          "text": [
            "validation loss: 0.002256391144461102 at epoch 280\n",
            "learning_rate: 0.002\n"
          ]
        },
        {
          "metadata": {
            "tags": null
          },
          "name": "stderr",
          "output_type": "stream",
          "text": [
            "epoch 280: 100%|██████████| 282/282 [00:08<00:00, 33.94it/s]\n"
          ]
        },
        {
          "metadata": {
            "tags": null
          },
          "name": "stdout",
          "output_type": "stream",
          "text": [
            "validation loss: 0.0013807429356707467 at epoch 281\n",
            "learning_rate: 0.002\n"
          ]
        },
        {
          "metadata": {
            "tags": null
          },
          "name": "stderr",
          "output_type": "stream",
          "text": [
            "epoch 281: 100%|██████████| 282/282 [00:08<00:00, 34.03it/s]\n"
          ]
        },
        {
          "metadata": {
            "tags": null
          },
          "name": "stdout",
          "output_type": "stream",
          "text": [
            "validation loss: 0.0014812049095829327 at epoch 282\n",
            "learning_rate: 0.002\n"
          ]
        },
        {
          "metadata": {
            "tags": null
          },
          "name": "stderr",
          "output_type": "stream",
          "text": [
            "epoch 282: 100%|██████████| 282/282 [00:07<00:00, 37.44it/s]\n"
          ]
        },
        {
          "metadata": {
            "tags": null
          },
          "name": "stdout",
          "output_type": "stream",
          "text": [
            "validation loss: 0.0061441103286213345 at epoch 283\n",
            "learning_rate: 0.002\n"
          ]
        },
        {
          "metadata": {
            "tags": null
          },
          "name": "stderr",
          "output_type": "stream",
          "text": [
            "epoch 283: 100%|██████████| 282/282 [00:08<00:00, 32.68it/s]\n"
          ]
        },
        {
          "metadata": {
            "tags": null
          },
          "name": "stdout",
          "output_type": "stream",
          "text": [
            "validation loss: 0.0012057432788941595 at epoch 284\n",
            "learning_rate: 0.0016\n"
          ]
        },
        {
          "metadata": {
            "tags": null
          },
          "name": "stderr",
          "output_type": "stream",
          "text": [
            "epoch 284: 100%|██████████| 282/282 [00:08<00:00, 33.68it/s]\n"
          ]
        },
        {
          "metadata": {
            "tags": null
          },
          "name": "stdout",
          "output_type": "stream",
          "text": [
            "validation loss: 0.0022490823566913604 at epoch 285\n",
            "learning_rate: 0.0016\n"
          ]
        },
        {
          "metadata": {
            "tags": null
          },
          "name": "stderr",
          "output_type": "stream",
          "text": [
            "epoch 285: 100%|██████████| 282/282 [00:07<00:00, 37.29it/s]\n"
          ]
        },
        {
          "metadata": {
            "tags": null
          },
          "name": "stdout",
          "output_type": "stream",
          "text": [
            "validation loss: 0.005371430920230018 at epoch 286\n",
            "learning_rate: 0.0016\n"
          ]
        },
        {
          "metadata": {
            "tags": null
          },
          "name": "stderr",
          "output_type": "stream",
          "text": [
            "epoch 286: 100%|██████████| 282/282 [00:08<00:00, 34.13it/s]\n"
          ]
        },
        {
          "metadata": {
            "tags": null
          },
          "name": "stdout",
          "output_type": "stream",
          "text": [
            "validation loss: 0.0014701261702511046 at epoch 287\n",
            "learning_rate: 0.0016\n"
          ]
        },
        {
          "metadata": {
            "tags": null
          },
          "name": "stderr",
          "output_type": "stream",
          "text": [
            "epoch 287: 100%|██████████| 282/282 [00:08<00:00, 33.21it/s]\n"
          ]
        },
        {
          "metadata": {
            "tags": null
          },
          "name": "stdout",
          "output_type": "stream",
          "text": [
            "validation loss: 0.00227351955903901 at epoch 288\n",
            "learning_rate: 0.0016\n"
          ]
        },
        {
          "metadata": {
            "tags": null
          },
          "name": "stderr",
          "output_type": "stream",
          "text": [
            "epoch 288: 100%|██████████| 282/282 [00:07<00:00, 37.68it/s]\n"
          ]
        },
        {
          "metadata": {
            "tags": null
          },
          "name": "stdout",
          "output_type": "stream",
          "text": [
            "validation loss: 0.001205817380713092 at epoch 289\n",
            "learning_rate: 0.0016\n"
          ]
        },
        {
          "metadata": {
            "tags": null
          },
          "name": "stderr",
          "output_type": "stream",
          "text": [
            "epoch 289: 100%|██████████| 282/282 [00:08<00:00, 34.28it/s]\n"
          ]
        },
        {
          "metadata": {
            "tags": null
          },
          "name": "stdout",
          "output_type": "stream",
          "text": [
            "validation loss: 0.0035139558845096166 at epoch 290\n",
            "learning_rate: 0.0016\n"
          ]
        },
        {
          "metadata": {
            "tags": null
          },
          "name": "stderr",
          "output_type": "stream",
          "text": [
            "epoch 290: 100%|██████████| 282/282 [00:08<00:00, 32.52it/s]\n"
          ]
        },
        {
          "metadata": {
            "tags": null
          },
          "name": "stdout",
          "output_type": "stream",
          "text": [
            "validation loss: 0.0016963693383667204 at epoch 291\n",
            "learning_rate: 0.0016\n"
          ]
        },
        {
          "metadata": {
            "tags": null
          },
          "name": "stderr",
          "output_type": "stream",
          "text": [
            "epoch 291: 100%|██████████| 282/282 [00:07<00:00, 36.91it/s]\n"
          ]
        },
        {
          "metadata": {
            "tags": null
          },
          "name": "stdout",
          "output_type": "stream",
          "text": [
            "validation loss: 0.0027011034538348515 at epoch 292\n",
            "learning_rate: 0.0016\n"
          ]
        },
        {
          "metadata": {
            "tags": null
          },
          "name": "stderr",
          "output_type": "stream",
          "text": [
            "epoch 292: 100%|██████████| 282/282 [00:08<00:00, 34.72it/s]\n"
          ]
        },
        {
          "metadata": {
            "tags": null
          },
          "name": "stdout",
          "output_type": "stream",
          "text": [
            "validation loss: 0.0005097319276796447 at epoch 293\n",
            "learning_rate: 0.0016\n",
            "model saved in ani_acrolein.pt\n"
          ]
        },
        {
          "metadata": {
            "tags": null
          },
          "name": "stderr",
          "output_type": "stream",
          "text": [
            "epoch 293: 100%|██████████| 282/282 [00:08<00:00, 33.64it/s]\n"
          ]
        },
        {
          "metadata": {
            "tags": null
          },
          "name": "stdout",
          "output_type": "stream",
          "text": [
            "validation loss: 0.001884572457936075 at epoch 294\n",
            "learning_rate: 0.0016\n"
          ]
        },
        {
          "metadata": {
            "tags": null
          },
          "name": "stderr",
          "output_type": "stream",
          "text": [
            "epoch 294: 100%|██████████| 282/282 [00:07<00:00, 36.60it/s]\n"
          ]
        },
        {
          "metadata": {
            "tags": null
          },
          "name": "stdout",
          "output_type": "stream",
          "text": [
            "validation loss: 0.0020983618564075894 at epoch 295\n",
            "learning_rate: 0.0016\n"
          ]
        },
        {
          "metadata": {
            "tags": null
          },
          "name": "stderr",
          "output_type": "stream",
          "text": [
            "epoch 295: 100%|██████████| 282/282 [00:07<00:00, 35.77it/s]\n"
          ]
        },
        {
          "metadata": {
            "tags": null
          },
          "name": "stdout",
          "output_type": "stream",
          "text": [
            "validation loss: 0.004219940255085627 at epoch 296\n",
            "learning_rate: 0.0016\n"
          ]
        },
        {
          "metadata": {
            "tags": null
          },
          "name": "stderr",
          "output_type": "stream",
          "text": [
            "epoch 296: 100%|██████████| 282/282 [00:08<00:00, 33.50it/s]\n"
          ]
        },
        {
          "metadata": {
            "tags": null
          },
          "name": "stdout",
          "output_type": "stream",
          "text": [
            "validation loss: 0.001075038782424397 at epoch 297\n",
            "learning_rate: 0.0016\n"
          ]
        },
        {
          "metadata": {
            "tags": null
          },
          "name": "stderr",
          "output_type": "stream",
          "text": [
            "epoch 297: 100%|██████████| 282/282 [00:08<00:00, 34.74it/s]\n"
          ]
        },
        {
          "metadata": {
            "tags": null
          },
          "name": "stdout",
          "output_type": "stream",
          "text": [
            "validation loss: 0.0010307434433036381 at epoch 298\n",
            "learning_rate: 0.0016\n"
          ]
        },
        {
          "metadata": {
            "tags": null
          },
          "name": "stderr",
          "output_type": "stream",
          "text": [
            "epoch 298: 100%|██████████| 282/282 [00:07<00:00, 37.10it/s]\n"
          ]
        },
        {
          "metadata": {
            "tags": null
          },
          "name": "stdout",
          "output_type": "stream",
          "text": [
            "validation loss: 0.004728599309921265 at epoch 299\n",
            "learning_rate: 0.0016\n"
          ]
        },
        {
          "metadata": {
            "tags": null
          },
          "name": "stderr",
          "output_type": "stream",
          "text": [
            "epoch 299: 100%|██████████| 282/282 [00:08<00:00, 33.90it/s]\n"
          ]
        },
        {
          "metadata": {
            "tags": null
          },
          "name": "stdout",
          "output_type": "stream",
          "text": [
            "validation loss: 0.0006997315569056405 at epoch 300\n",
            "learning_rate: 0.0016\n"
          ]
        },
        {
          "metadata": {
            "tags": null
          },
          "name": "stderr",
          "output_type": "stream",
          "text": [
            "epoch 300: 100%|██████████| 282/282 [00:08<00:00, 34.26it/s]\n"
          ]
        },
        {
          "metadata": {
            "tags": null
          },
          "name": "stdout",
          "output_type": "stream",
          "text": [
            "validation loss: 0.001935871895816591 at epoch 301\n",
            "learning_rate: 0.0016\n"
          ]
        },
        {
          "metadata": {
            "tags": null
          },
          "name": "stderr",
          "output_type": "stream",
          "text": [
            "epoch 301: 100%|██████████| 282/282 [00:07<00:00, 37.50it/s]\n"
          ]
        },
        {
          "metadata": {
            "tags": null
          },
          "name": "stdout",
          "output_type": "stream",
          "text": [
            "validation loss: 0.0007514403474827607 at epoch 302\n",
            "learning_rate: 0.0016\n"
          ]
        },
        {
          "metadata": {
            "tags": null
          },
          "name": "stderr",
          "output_type": "stream",
          "text": [
            "epoch 302: 100%|██████████| 282/282 [00:08<00:00, 33.72it/s]\n"
          ]
        },
        {
          "metadata": {
            "tags": null
          },
          "name": "stdout",
          "output_type": "stream",
          "text": [
            "validation loss: 0.000666477950496806 at epoch 303\n",
            "learning_rate: 0.0016\n"
          ]
        },
        {
          "metadata": {
            "tags": null
          },
          "name": "stderr",
          "output_type": "stream",
          "text": [
            "epoch 303: 100%|██████████| 282/282 [00:08<00:00, 34.07it/s]\n"
          ]
        },
        {
          "metadata": {
            "tags": null
          },
          "name": "stdout",
          "output_type": "stream",
          "text": [
            "validation loss: 0.0010644778807957966 at epoch 304\n",
            "learning_rate: 0.0016\n"
          ]
        },
        {
          "metadata": {
            "tags": null
          },
          "name": "stderr",
          "output_type": "stream",
          "text": [
            "epoch 304: 100%|██████████| 282/282 [00:07<00:00, 36.66it/s]\n"
          ]
        },
        {
          "metadata": {
            "tags": null
          },
          "name": "stdout",
          "output_type": "stream",
          "text": [
            "validation loss: 0.0021664483894904456 at epoch 305\n",
            "learning_rate: 0.0016\n"
          ]
        },
        {
          "metadata": {
            "tags": null
          },
          "name": "stderr",
          "output_type": "stream",
          "text": [
            "epoch 305: 100%|██████████| 282/282 [00:08<00:00, 33.63it/s]\n"
          ]
        },
        {
          "metadata": {
            "tags": null
          },
          "name": "stdout",
          "output_type": "stream",
          "text": [
            "validation loss: 0.0033228201650910907 at epoch 306\n",
            "learning_rate: 0.0016\n"
          ]
        },
        {
          "metadata": {
            "tags": null
          },
          "name": "stderr",
          "output_type": "stream",
          "text": [
            "epoch 306: 100%|██████████| 282/282 [00:08<00:00, 33.69it/s]\n"
          ]
        },
        {
          "metadata": {
            "tags": null
          },
          "name": "stdout",
          "output_type": "stream",
          "text": [
            "validation loss: 0.001948821332719591 at epoch 307\n",
            "learning_rate: 0.0016\n"
          ]
        },
        {
          "metadata": {
            "tags": null
          },
          "name": "stderr",
          "output_type": "stream",
          "text": [
            "epoch 307: 100%|██████████| 282/282 [00:07<00:00, 37.34it/s]\n"
          ]
        },
        {
          "metadata": {
            "tags": null
          },
          "name": "stdout",
          "output_type": "stream",
          "text": [
            "validation loss: 0.002776257660653856 at epoch 308\n",
            "learning_rate: 0.0016\n"
          ]
        },
        {
          "metadata": {
            "tags": null
          },
          "name": "stderr",
          "output_type": "stream",
          "text": [
            "epoch 308: 100%|██████████| 282/282 [00:08<00:00, 33.66it/s]\n"
          ]
        },
        {
          "metadata": {
            "tags": null
          },
          "name": "stdout",
          "output_type": "stream",
          "text": [
            "validation loss: 0.0017820881489250394 at epoch 309\n",
            "learning_rate: 0.0016\n"
          ]
        },
        {
          "metadata": {
            "tags": null
          },
          "name": "stderr",
          "output_type": "stream",
          "text": [
            "epoch 309: 100%|██████████| 282/282 [00:08<00:00, 34.26it/s]\n"
          ]
        },
        {
          "metadata": {
            "tags": null
          },
          "name": "stdout",
          "output_type": "stream",
          "text": [
            "validation loss: 0.0009890675254993968 at epoch 310\n",
            "learning_rate: 0.0016\n"
          ]
        },
        {
          "metadata": {
            "tags": null
          },
          "name": "stderr",
          "output_type": "stream",
          "text": [
            "epoch 310: 100%|██████████| 282/282 [00:07<00:00, 37.40it/s]\n"
          ]
        },
        {
          "metadata": {
            "tags": null
          },
          "name": "stdout",
          "output_type": "stream",
          "text": [
            "validation loss: 0.00048066638306611115 at epoch 311\n",
            "learning_rate: 0.0016\n",
            "model saved in ani_acrolein.pt\n"
          ]
        },
        {
          "metadata": {
            "tags": null
          },
          "name": "stderr",
          "output_type": "stream",
          "text": [
            "epoch 311: 100%|██████████| 282/282 [00:08<00:00, 33.14it/s]\n"
          ]
        },
        {
          "metadata": {
            "tags": null
          },
          "name": "stdout",
          "output_type": "stream",
          "text": [
            "validation loss: 0.002108258616593149 at epoch 312\n",
            "learning_rate: 0.0016\n"
          ]
        },
        {
          "metadata": {
            "tags": null
          },
          "name": "stderr",
          "output_type": "stream",
          "text": [
            "epoch 312: 100%|██████████| 282/282 [00:08<00:00, 33.70it/s]\n"
          ]
        },
        {
          "metadata": {
            "tags": null
          },
          "name": "stdout",
          "output_type": "stream",
          "text": [
            "validation loss: 0.001897939610812399 at epoch 313\n",
            "learning_rate: 0.0016\n"
          ]
        },
        {
          "metadata": {
            "tags": null
          },
          "name": "stderr",
          "output_type": "stream",
          "text": [
            "epoch 313: 100%|██████████| 282/282 [00:07<00:00, 37.46it/s]\n"
          ]
        },
        {
          "metadata": {
            "tags": null
          },
          "name": "stdout",
          "output_type": "stream",
          "text": [
            "validation loss: 0.004152237090799544 at epoch 314\n",
            "learning_rate: 0.0016\n"
          ]
        },
        {
          "metadata": {
            "tags": null
          },
          "name": "stderr",
          "output_type": "stream",
          "text": [
            "epoch 314: 100%|██████████| 282/282 [00:08<00:00, 33.20it/s]\n"
          ]
        },
        {
          "metadata": {
            "tags": null
          },
          "name": "stdout",
          "output_type": "stream",
          "text": [
            "validation loss: 0.00251496755083402 at epoch 315\n",
            "learning_rate: 0.0016\n"
          ]
        },
        {
          "metadata": {
            "tags": null
          },
          "name": "stderr",
          "output_type": "stream",
          "text": [
            "epoch 315: 100%|██████████| 282/282 [00:08<00:00, 33.74it/s]\n"
          ]
        },
        {
          "metadata": {
            "tags": null
          },
          "name": "stdout",
          "output_type": "stream",
          "text": [
            "validation loss: 0.0016164324772026805 at epoch 316\n",
            "learning_rate: 0.0016\n"
          ]
        },
        {
          "metadata": {
            "tags": null
          },
          "name": "stderr",
          "output_type": "stream",
          "text": [
            "epoch 316: 100%|██████████| 282/282 [00:07<00:00, 37.68it/s]\n"
          ]
        },
        {
          "metadata": {
            "tags": null
          },
          "name": "stdout",
          "output_type": "stream",
          "text": [
            "validation loss: 0.00248514784541395 at epoch 317\n",
            "learning_rate: 0.0016\n"
          ]
        },
        {
          "metadata": {
            "tags": null
          },
          "name": "stderr",
          "output_type": "stream",
          "text": [
            "epoch 317: 100%|██████████| 282/282 [00:08<00:00, 33.11it/s]\n"
          ]
        },
        {
          "metadata": {
            "tags": null
          },
          "name": "stdout",
          "output_type": "stream",
          "text": [
            "validation loss: 0.005903177695141898 at epoch 318\n",
            "learning_rate: 0.0016\n"
          ]
        },
        {
          "metadata": {
            "tags": null
          },
          "name": "stderr",
          "output_type": "stream",
          "text": [
            "epoch 318: 100%|██████████| 282/282 [00:08<00:00, 33.36it/s]\n"
          ]
        },
        {
          "metadata": {
            "tags": null
          },
          "name": "stdout",
          "output_type": "stream",
          "text": [
            "validation loss: 0.002985210147168901 at epoch 319\n",
            "learning_rate: 0.0016\n"
          ]
        },
        {
          "metadata": {
            "tags": null
          },
          "name": "stderr",
          "output_type": "stream",
          "text": [
            "epoch 319: 100%|██████████| 282/282 [00:07<00:00, 37.62it/s]\n"
          ]
        },
        {
          "metadata": {
            "tags": null
          },
          "name": "stdout",
          "output_type": "stream",
          "text": [
            "validation loss: 0.001871090571085612 at epoch 320\n",
            "learning_rate: 0.0016\n"
          ]
        },
        {
          "metadata": {
            "tags": null
          },
          "name": "stderr",
          "output_type": "stream",
          "text": [
            "epoch 320: 100%|██████████| 282/282 [00:08<00:00, 34.10it/s]\n"
          ]
        },
        {
          "metadata": {
            "tags": null
          },
          "name": "stdout",
          "output_type": "stream",
          "text": [
            "validation loss: 0.0005612310415340795 at epoch 321\n",
            "learning_rate: 0.0016\n"
          ]
        },
        {
          "metadata": {
            "tags": null
          },
          "name": "stderr",
          "output_type": "stream",
          "text": [
            "epoch 321: 100%|██████████| 282/282 [00:08<00:00, 33.39it/s]\n"
          ]
        },
        {
          "metadata": {
            "tags": null
          },
          "name": "stdout",
          "output_type": "stream",
          "text": [
            "validation loss: 0.0017981990294324028 at epoch 322\n",
            "learning_rate: 0.0016\n"
          ]
        },
        {
          "metadata": {
            "tags": null
          },
          "name": "stderr",
          "output_type": "stream",
          "text": [
            "epoch 322: 100%|██████████| 282/282 [00:07<00:00, 37.60it/s]\n"
          ]
        },
        {
          "metadata": {
            "tags": null
          },
          "name": "stdout",
          "output_type": "stream",
          "text": [
            "validation loss: 0.004506133390797509 at epoch 323\n",
            "learning_rate: 0.0016\n"
          ]
        },
        {
          "metadata": {
            "tags": null
          },
          "name": "stderr",
          "output_type": "stream",
          "text": [
            "epoch 323: 100%|██████████| 282/282 [00:08<00:00, 34.56it/s]\n"
          ]
        },
        {
          "metadata": {
            "tags": null
          },
          "name": "stdout",
          "output_type": "stream",
          "text": [
            "validation loss: 0.0011227986125482454 at epoch 324\n",
            "learning_rate: 0.0016\n"
          ]
        },
        {
          "metadata": {
            "tags": null
          },
          "name": "stderr",
          "output_type": "stream",
          "text": [
            "epoch 324: 100%|██████████| 282/282 [00:08<00:00, 33.14it/s]\n"
          ]
        },
        {
          "metadata": {
            "tags": null
          },
          "name": "stdout",
          "output_type": "stream",
          "text": [
            "validation loss: 0.0008576627083950573 at epoch 325\n",
            "learning_rate: 0.0016\n"
          ]
        },
        {
          "metadata": {
            "tags": null
          },
          "name": "stderr",
          "output_type": "stream",
          "text": [
            "epoch 325: 100%|██████████| 282/282 [00:07<00:00, 36.90it/s]\n"
          ]
        },
        {
          "metadata": {
            "tags": null
          },
          "name": "stdout",
          "output_type": "stream",
          "text": [
            "validation loss: 0.0018481901221805148 at epoch 326\n",
            "learning_rate: 0.0016\n"
          ]
        },
        {
          "metadata": {
            "tags": null
          },
          "name": "stderr",
          "output_type": "stream",
          "text": [
            "epoch 326: 100%|██████████| 282/282 [00:07<00:00, 35.40it/s]\n"
          ]
        },
        {
          "metadata": {
            "tags": null
          },
          "name": "stdout",
          "output_type": "stream",
          "text": [
            "validation loss: 0.0016514489592777358 at epoch 327\n",
            "learning_rate: 0.0016\n"
          ]
        },
        {
          "metadata": {
            "tags": null
          },
          "name": "stderr",
          "output_type": "stream",
          "text": [
            "epoch 327: 100%|██████████| 282/282 [00:08<00:00, 34.59it/s]\n"
          ]
        },
        {
          "metadata": {
            "tags": null
          },
          "name": "stdout",
          "output_type": "stream",
          "text": [
            "validation loss: 0.0022547635932763416 at epoch 328\n",
            "learning_rate: 0.0016\n"
          ]
        },
        {
          "metadata": {
            "tags": null
          },
          "name": "stderr",
          "output_type": "stream",
          "text": [
            "epoch 328: 100%|██████████| 282/282 [00:07<00:00, 37.06it/s]\n"
          ]
        },
        {
          "metadata": {
            "tags": null
          },
          "name": "stdout",
          "output_type": "stream",
          "text": [
            "validation loss: 0.0015654634055164126 at epoch 329\n",
            "learning_rate: 0.0016\n"
          ]
        },
        {
          "metadata": {
            "tags": null
          },
          "name": "stderr",
          "output_type": "stream",
          "text": [
            "epoch 329: 100%|██████████| 282/282 [00:07<00:00, 36.08it/s]\n"
          ]
        },
        {
          "metadata": {
            "tags": null
          },
          "name": "stdout",
          "output_type": "stream",
          "text": [
            "validation loss: 0.002230822328064177 at epoch 330\n",
            "learning_rate: 0.0016\n"
          ]
        },
        {
          "metadata": {
            "tags": null
          },
          "name": "stderr",
          "output_type": "stream",
          "text": [
            "epoch 330: 100%|██████████| 282/282 [00:08<00:00, 34.61it/s]\n"
          ]
        },
        {
          "metadata": {
            "tags": null
          },
          "name": "stdout",
          "output_type": "stream",
          "text": [
            "validation loss: 0.001905460485153728 at epoch 331\n",
            "learning_rate: 0.0016\n"
          ]
        },
        {
          "metadata": {
            "tags": null
          },
          "name": "stderr",
          "output_type": "stream",
          "text": [
            "epoch 331: 100%|██████████| 282/282 [00:07<00:00, 35.93it/s]\n"
          ]
        },
        {
          "metadata": {
            "tags": null
          },
          "name": "stdout",
          "output_type": "stream",
          "text": [
            "validation loss: 0.002319618273112509 at epoch 332\n",
            "learning_rate: 0.0016\n"
          ]
        },
        {
          "metadata": {
            "tags": null
          },
          "name": "stderr",
          "output_type": "stream",
          "text": [
            "epoch 332: 100%|██████████| 282/282 [00:07<00:00, 36.51it/s]\n"
          ]
        },
        {
          "metadata": {
            "tags": null
          },
          "name": "stdout",
          "output_type": "stream",
          "text": [
            "validation loss: 0.0010576279163360596 at epoch 333\n",
            "learning_rate: 0.0016\n"
          ]
        },
        {
          "metadata": {
            "tags": null
          },
          "name": "stderr",
          "output_type": "stream",
          "text": [
            "epoch 333: 100%|██████████| 282/282 [00:08<00:00, 34.04it/s]\n"
          ]
        },
        {
          "metadata": {
            "tags": null
          },
          "name": "stdout",
          "output_type": "stream",
          "text": [
            "validation loss: 0.0020718142340580624 at epoch 334\n",
            "learning_rate: 0.0016\n"
          ]
        },
        {
          "metadata": {
            "tags": null
          },
          "name": "stderr",
          "output_type": "stream",
          "text": [
            "epoch 334: 100%|██████████| 282/282 [00:08<00:00, 34.61it/s]\n"
          ]
        },
        {
          "metadata": {
            "tags": null
          },
          "name": "stdout",
          "output_type": "stream",
          "text": [
            "validation loss: 0.0038297614057858785 at epoch 335\n",
            "learning_rate: 0.0016\n"
          ]
        },
        {
          "metadata": {
            "tags": null
          },
          "name": "stderr",
          "output_type": "stream",
          "text": [
            "epoch 335: 100%|██████████| 282/282 [00:07<00:00, 36.99it/s]\n"
          ]
        },
        {
          "metadata": {
            "tags": null
          },
          "name": "stdout",
          "output_type": "stream",
          "text": [
            "validation loss: 0.0010577332683735423 at epoch 336\n",
            "learning_rate: 0.0016\n"
          ]
        },
        {
          "metadata": {
            "tags": null
          },
          "name": "stderr",
          "output_type": "stream",
          "text": [
            "epoch 336: 100%|██████████| 282/282 [00:08<00:00, 33.54it/s]\n"
          ]
        },
        {
          "metadata": {
            "tags": null
          },
          "name": "stdout",
          "output_type": "stream",
          "text": [
            "validation loss: 0.003520734300216039 at epoch 337\n",
            "learning_rate: 0.0016\n"
          ]
        },
        {
          "metadata": {
            "tags": null
          },
          "name": "stderr",
          "output_type": "stream",
          "text": [
            "epoch 337: 100%|██████████| 282/282 [00:08<00:00, 33.82it/s]\n"
          ]
        },
        {
          "metadata": {
            "tags": null
          },
          "name": "stdout",
          "output_type": "stream",
          "text": [
            "validation loss: 0.0011253429560197723 at epoch 338\n",
            "learning_rate: 0.0016\n"
          ]
        },
        {
          "metadata": {
            "tags": null
          },
          "name": "stderr",
          "output_type": "stream",
          "text": [
            "epoch 338: 100%|██████████| 282/282 [00:07<00:00, 36.36it/s]\n"
          ]
        },
        {
          "metadata": {
            "tags": null
          },
          "name": "stdout",
          "output_type": "stream",
          "text": [
            "validation loss: 0.0011736674159765243 at epoch 339\n",
            "learning_rate: 0.0016\n"
          ]
        },
        {
          "metadata": {
            "tags": null
          },
          "name": "stderr",
          "output_type": "stream",
          "text": [
            "epoch 339: 100%|██████████| 282/282 [00:08<00:00, 33.69it/s]\n"
          ]
        },
        {
          "metadata": {
            "tags": null
          },
          "name": "stdout",
          "output_type": "stream",
          "text": [
            "validation loss: 0.0024185521768199073 at epoch 340\n",
            "learning_rate: 0.0016\n"
          ]
        },
        {
          "metadata": {
            "tags": null
          },
          "name": "stderr",
          "output_type": "stream",
          "text": [
            "epoch 340: 100%|██████████| 282/282 [00:08<00:00, 33.77it/s]\n"
          ]
        },
        {
          "metadata": {
            "tags": null
          },
          "name": "stdout",
          "output_type": "stream",
          "text": [
            "validation loss: 0.0022114903810951446 at epoch 341\n",
            "learning_rate: 0.0016\n"
          ]
        },
        {
          "metadata": {
            "tags": null
          },
          "name": "stderr",
          "output_type": "stream",
          "text": [
            "epoch 341: 100%|██████████| 282/282 [00:07<00:00, 36.83it/s]\n"
          ]
        },
        {
          "metadata": {
            "tags": null
          },
          "name": "stdout",
          "output_type": "stream",
          "text": [
            "validation loss: 0.0025973020096619922 at epoch 342\n",
            "learning_rate: 0.0016\n"
          ]
        },
        {
          "metadata": {
            "tags": null
          },
          "name": "stderr",
          "output_type": "stream",
          "text": [
            "epoch 342: 100%|██████████| 282/282 [00:08<00:00, 33.71it/s]\n"
          ]
        },
        {
          "metadata": {
            "tags": null
          },
          "name": "stdout",
          "output_type": "stream",
          "text": [
            "validation loss: 0.0028996898151106305 at epoch 343\n",
            "learning_rate: 0.0016\n"
          ]
        },
        {
          "metadata": {
            "tags": null
          },
          "name": "stderr",
          "output_type": "stream",
          "text": [
            "epoch 343: 100%|██████████| 282/282 [00:08<00:00, 33.67it/s]\n"
          ]
        },
        {
          "metadata": {
            "tags": null
          },
          "name": "stdout",
          "output_type": "stream",
          "text": [
            "validation loss: 0.002128820937540796 at epoch 344\n",
            "learning_rate: 0.0016\n"
          ]
        },
        {
          "metadata": {
            "tags": null
          },
          "name": "stderr",
          "output_type": "stream",
          "text": [
            "epoch 344: 100%|██████████| 282/282 [00:07<00:00, 37.08it/s]\n"
          ]
        },
        {
          "metadata": {
            "tags": null
          },
          "name": "stdout",
          "output_type": "stream",
          "text": [
            "validation loss: 0.0008111054835220178 at epoch 345\n",
            "learning_rate: 0.0016\n"
          ]
        },
        {
          "metadata": {
            "tags": null
          },
          "name": "stderr",
          "output_type": "stream",
          "text": [
            "epoch 345: 100%|██████████| 282/282 [00:08<00:00, 33.61it/s]\n"
          ]
        },
        {
          "metadata": {
            "tags": null
          },
          "name": "stdout",
          "output_type": "stream",
          "text": [
            "validation loss: 0.0035246457987361483 at epoch 346\n",
            "learning_rate: 0.0016\n"
          ]
        },
        {
          "metadata": {
            "tags": null
          },
          "name": "stderr",
          "output_type": "stream",
          "text": [
            "epoch 346: 100%|██████████| 282/282 [00:08<00:00, 33.89it/s]\n"
          ]
        },
        {
          "metadata": {
            "tags": null
          },
          "name": "stdout",
          "output_type": "stream",
          "text": [
            "validation loss: 0.0013365834421581691 at epoch 347\n",
            "learning_rate: 0.0016\n"
          ]
        },
        {
          "metadata": {
            "tags": null
          },
          "name": "stderr",
          "output_type": "stream",
          "text": [
            "epoch 347: 100%|██████████| 282/282 [00:07<00:00, 35.31it/s]\n"
          ]
        },
        {
          "metadata": {
            "tags": null
          },
          "name": "stdout",
          "output_type": "stream",
          "text": [
            "validation loss: 0.0012681917763418622 at epoch 348\n",
            "learning_rate: 0.0016\n"
          ]
        },
        {
          "metadata": {
            "tags": null
          },
          "name": "stderr",
          "output_type": "stream",
          "text": [
            "epoch 348: 100%|██████████| 282/282 [00:07<00:00, 37.17it/s]\n"
          ]
        },
        {
          "metadata": {
            "tags": null
          },
          "name": "stdout",
          "output_type": "stream",
          "text": [
            "validation loss: 0.0034002152499225404 at epoch 349\n",
            "learning_rate: 0.0016\n"
          ]
        },
        {
          "metadata": {
            "tags": null
          },
          "name": "stderr",
          "output_type": "stream",
          "text": [
            "epoch 349: 100%|██████████| 282/282 [00:08<00:00, 33.69it/s]\n"
          ]
        },
        {
          "metadata": {
            "tags": null
          },
          "name": "stdout",
          "output_type": "stream",
          "text": [
            "validation loss: 0.0016148191110955344 at epoch 350\n",
            "learning_rate: 0.0016\n"
          ]
        },
        {
          "metadata": {
            "tags": null
          },
          "name": "stderr",
          "output_type": "stream",
          "text": [
            "epoch 350: 100%|██████████| 282/282 [00:08<00:00, 33.17it/s]\n"
          ]
        },
        {
          "metadata": {
            "tags": null
          },
          "name": "stdout",
          "output_type": "stream",
          "text": [
            "validation loss: 0.002311022001836035 at epoch 351\n",
            "learning_rate: 0.0016\n"
          ]
        },
        {
          "metadata": {
            "tags": null
          },
          "name": "stderr",
          "output_type": "stream",
          "text": [
            "epoch 351: 100%|██████████| 282/282 [00:07<00:00, 36.83it/s]\n"
          ]
        },
        {
          "metadata": {
            "tags": null
          },
          "name": "stdout",
          "output_type": "stream",
          "text": [
            "validation loss: 0.0010534626129600738 at epoch 352\n",
            "learning_rate: 0.0016\n"
          ]
        },
        {
          "metadata": {
            "tags": null
          },
          "name": "stderr",
          "output_type": "stream",
          "text": [
            "epoch 352: 100%|██████████| 282/282 [00:08<00:00, 32.54it/s]\n"
          ]
        },
        {
          "metadata": {
            "tags": null
          },
          "name": "stdout",
          "output_type": "stream",
          "text": [
            "validation loss: 0.0008839904483821657 at epoch 353\n",
            "learning_rate: 0.0016\n"
          ]
        },
        {
          "metadata": {
            "tags": null
          },
          "name": "stderr",
          "output_type": "stream",
          "text": [
            "epoch 353: 100%|██████████| 282/282 [00:08<00:00, 33.28it/s]\n"
          ]
        },
        {
          "metadata": {
            "tags": null
          },
          "name": "stdout",
          "output_type": "stream",
          "text": [
            "validation loss: 0.0009907758956154188 at epoch 354\n",
            "learning_rate: 0.0016\n"
          ]
        },
        {
          "metadata": {
            "tags": null
          },
          "name": "stderr",
          "output_type": "stream",
          "text": [
            "epoch 354: 100%|██████████| 282/282 [00:07<00:00, 37.03it/s]\n"
          ]
        },
        {
          "metadata": {
            "tags": null
          },
          "name": "stdout",
          "output_type": "stream",
          "text": [
            "validation loss: 0.004105907784567939 at epoch 355\n",
            "learning_rate: 0.0016\n"
          ]
        },
        {
          "metadata": {
            "tags": null
          },
          "name": "stderr",
          "output_type": "stream",
          "text": [
            "epoch 355: 100%|██████████| 282/282 [00:08<00:00, 33.39it/s]\n"
          ]
        },
        {
          "metadata": {
            "tags": null
          },
          "name": "stdout",
          "output_type": "stream",
          "text": [
            "validation loss: 0.003273870294292768 at epoch 356\n",
            "learning_rate: 0.0016\n"
          ]
        },
        {
          "metadata": {
            "tags": null
          },
          "name": "stderr",
          "output_type": "stream",
          "text": [
            "epoch 356: 100%|██████████| 282/282 [00:08<00:00, 33.97it/s]\n"
          ]
        },
        {
          "metadata": {
            "tags": null
          },
          "name": "stdout",
          "output_type": "stream",
          "text": [
            "validation loss: 0.0005837381221354007 at epoch 357\n",
            "learning_rate: 0.0016\n"
          ]
        },
        {
          "metadata": {
            "tags": null
          },
          "name": "stderr",
          "output_type": "stream",
          "text": [
            "epoch 357: 100%|██████████| 282/282 [00:07<00:00, 36.21it/s]\n"
          ]
        },
        {
          "metadata": {
            "tags": null
          },
          "name": "stdout",
          "output_type": "stream",
          "text": [
            "validation loss: 0.002893911014000575 at epoch 358\n",
            "learning_rate: 0.0016\n"
          ]
        },
        {
          "metadata": {
            "tags": null
          },
          "name": "stderr",
          "output_type": "stream",
          "text": [
            "epoch 358: 100%|██████████| 282/282 [00:08<00:00, 34.92it/s]\n"
          ]
        },
        {
          "metadata": {
            "tags": null
          },
          "name": "stdout",
          "output_type": "stream",
          "text": [
            "validation loss: 0.0006955796927213669 at epoch 359\n",
            "learning_rate: 0.0016\n"
          ]
        },
        {
          "metadata": {
            "tags": null
          },
          "name": "stderr",
          "output_type": "stream",
          "text": [
            "epoch 359: 100%|██████████| 282/282 [00:08<00:00, 32.49it/s]\n"
          ]
        },
        {
          "metadata": {
            "tags": null
          },
          "name": "stdout",
          "output_type": "stream",
          "text": [
            "validation loss: 0.0021686606738302444 at epoch 360\n",
            "learning_rate: 0.0016\n"
          ]
        },
        {
          "metadata": {
            "tags": null
          },
          "name": "stderr",
          "output_type": "stream",
          "text": [
            "epoch 360: 100%|██████████| 282/282 [00:08<00:00, 35.15it/s]\n"
          ]
        },
        {
          "metadata": {
            "tags": null
          },
          "name": "stdout",
          "output_type": "stream",
          "text": [
            "validation loss: 0.002036544534895155 at epoch 361\n",
            "learning_rate: 0.0016\n"
          ]
        },
        {
          "metadata": {
            "tags": null
          },
          "name": "stderr",
          "output_type": "stream",
          "text": [
            "epoch 361: 100%|██████████| 282/282 [00:07<00:00, 36.37it/s]\n"
          ]
        },
        {
          "metadata": {
            "tags": null
          },
          "name": "stdout",
          "output_type": "stream",
          "text": [
            "validation loss: 0.00315457088748614 at epoch 362\n",
            "learning_rate: 0.0016\n"
          ]
        },
        {
          "metadata": {
            "tags": null
          },
          "name": "stderr",
          "output_type": "stream",
          "text": [
            "epoch 362: 100%|██████████| 282/282 [00:08<00:00, 33.49it/s]\n"
          ]
        },
        {
          "metadata": {
            "tags": null
          },
          "name": "stdout",
          "output_type": "stream",
          "text": [
            "validation loss: 0.000912349516318904 at epoch 363\n",
            "learning_rate: 0.00128\n"
          ]
        },
        {
          "metadata": {
            "tags": null
          },
          "name": "stderr",
          "output_type": "stream",
          "text": [
            "epoch 363: 100%|██████████| 282/282 [00:08<00:00, 33.81it/s]\n"
          ]
        },
        {
          "metadata": {
            "tags": null
          },
          "name": "stdout",
          "output_type": "stream",
          "text": [
            "validation loss: 0.002281406498617596 at epoch 364\n",
            "learning_rate: 0.00128\n"
          ]
        },
        {
          "metadata": {
            "tags": null
          },
          "name": "stderr",
          "output_type": "stream",
          "text": [
            "epoch 364: 100%|██████████| 282/282 [00:07<00:00, 37.01it/s]\n"
          ]
        },
        {
          "metadata": {
            "tags": null
          },
          "name": "stdout",
          "output_type": "stream",
          "text": [
            "validation loss: 0.0007020626622769567 at epoch 365\n",
            "learning_rate: 0.00128\n"
          ]
        },
        {
          "metadata": {
            "tags": null
          },
          "name": "stderr",
          "output_type": "stream",
          "text": [
            "epoch 365: 100%|██████████| 282/282 [00:08<00:00, 33.73it/s]\n"
          ]
        },
        {
          "metadata": {
            "tags": null
          },
          "name": "stdout",
          "output_type": "stream",
          "text": [
            "validation loss: 0.004657745033502579 at epoch 366\n",
            "learning_rate: 0.00128\n"
          ]
        },
        {
          "metadata": {
            "tags": null
          },
          "name": "stderr",
          "output_type": "stream",
          "text": [
            "epoch 366: 100%|██████████| 282/282 [00:08<00:00, 32.44it/s]\n"
          ]
        },
        {
          "metadata": {
            "tags": null
          },
          "name": "stdout",
          "output_type": "stream",
          "text": [
            "validation loss: 0.0005758347420228852 at epoch 367\n",
            "learning_rate: 0.00128\n"
          ]
        },
        {
          "metadata": {
            "tags": null
          },
          "name": "stderr",
          "output_type": "stream",
          "text": [
            "epoch 367: 100%|██████████| 282/282 [00:07<00:00, 36.74it/s]\n"
          ]
        },
        {
          "metadata": {
            "tags": null
          },
          "name": "stdout",
          "output_type": "stream",
          "text": [
            "validation loss: 0.0028968985047605304 at epoch 368\n",
            "learning_rate: 0.00128\n"
          ]
        },
        {
          "metadata": {
            "tags": null
          },
          "name": "stderr",
          "output_type": "stream",
          "text": [
            "epoch 368: 100%|██████████| 282/282 [00:08<00:00, 34.00it/s]\n"
          ]
        },
        {
          "metadata": {
            "tags": null
          },
          "name": "stdout",
          "output_type": "stream",
          "text": [
            "validation loss: 0.0032557863841454187 at epoch 369\n",
            "learning_rate: 0.00128\n"
          ]
        },
        {
          "metadata": {
            "tags": null
          },
          "name": "stderr",
          "output_type": "stream",
          "text": [
            "epoch 369: 100%|██████████| 282/282 [00:08<00:00, 33.31it/s]\n"
          ]
        },
        {
          "metadata": {
            "tags": null
          },
          "name": "stdout",
          "output_type": "stream",
          "text": [
            "validation loss: 0.0008587223009930716 at epoch 370\n",
            "learning_rate: 0.00128\n"
          ]
        },
        {
          "metadata": {
            "tags": null
          },
          "name": "stderr",
          "output_type": "stream",
          "text": [
            "epoch 370: 100%|██████████| 282/282 [00:07<00:00, 36.69it/s]\n"
          ]
        },
        {
          "metadata": {
            "tags": null
          },
          "name": "stdout",
          "output_type": "stream",
          "text": [
            "validation loss: 0.003068263618482484 at epoch 371\n",
            "learning_rate: 0.00128\n"
          ]
        },
        {
          "metadata": {
            "tags": null
          },
          "name": "stderr",
          "output_type": "stream",
          "text": [
            "epoch 371: 100%|██████████| 282/282 [00:08<00:00, 34.94it/s]\n"
          ]
        },
        {
          "metadata": {
            "tags": null
          },
          "name": "stdout",
          "output_type": "stream",
          "text": [
            "validation loss: 0.002490526821878221 at epoch 372\n",
            "learning_rate: 0.00128\n"
          ]
        },
        {
          "metadata": {
            "tags": null
          },
          "name": "stderr",
          "output_type": "stream",
          "text": [
            "epoch 372: 100%|██████████| 282/282 [00:08<00:00, 33.39it/s]\n"
          ]
        },
        {
          "metadata": {
            "tags": null
          },
          "name": "stdout",
          "output_type": "stream",
          "text": [
            "validation loss: 0.0009095836844709185 at epoch 373\n",
            "learning_rate: 0.00128\n"
          ]
        },
        {
          "metadata": {
            "tags": null
          },
          "name": "stderr",
          "output_type": "stream",
          "text": [
            "epoch 373: 100%|██████████| 282/282 [00:08<00:00, 33.56it/s]\n"
          ]
        },
        {
          "metadata": {
            "tags": null
          },
          "name": "stdout",
          "output_type": "stream",
          "text": [
            "validation loss: 0.0005847858836253484 at epoch 374\n",
            "learning_rate: 0.00128\n"
          ]
        },
        {
          "metadata": {
            "tags": null
          },
          "name": "stderr",
          "output_type": "stream",
          "text": [
            "epoch 374: 100%|██████████| 282/282 [00:07<00:00, 36.90it/s]\n"
          ]
        },
        {
          "metadata": {
            "tags": null
          },
          "name": "stdout",
          "output_type": "stream",
          "text": [
            "validation loss: 0.002130173401700126 at epoch 375\n",
            "learning_rate: 0.00128\n"
          ]
        },
        {
          "metadata": {
            "tags": null
          },
          "name": "stderr",
          "output_type": "stream",
          "text": [
            "epoch 375: 100%|██████████| 282/282 [00:08<00:00, 34.33it/s]\n"
          ]
        },
        {
          "metadata": {
            "tags": null
          },
          "name": "stdout",
          "output_type": "stream",
          "text": [
            "validation loss: 0.0029330913689401415 at epoch 376\n",
            "learning_rate: 0.00128\n"
          ]
        },
        {
          "metadata": {
            "tags": null
          },
          "name": "stderr",
          "output_type": "stream",
          "text": [
            "epoch 376: 100%|██████████| 282/282 [00:08<00:00, 33.35it/s]\n"
          ]
        },
        {
          "metadata": {
            "tags": null
          },
          "name": "stdout",
          "output_type": "stream",
          "text": [
            "validation loss: 0.0017090290834506352 at epoch 377\n",
            "learning_rate: 0.00128\n"
          ]
        },
        {
          "metadata": {
            "tags": null
          },
          "name": "stderr",
          "output_type": "stream",
          "text": [
            "epoch 377: 100%|██████████| 282/282 [00:07<00:00, 37.22it/s]\n"
          ]
        },
        {
          "metadata": {
            "tags": null
          },
          "name": "stdout",
          "output_type": "stream",
          "text": [
            "validation loss: 0.0009086028896272182 at epoch 378\n",
            "learning_rate: 0.00128\n"
          ]
        },
        {
          "metadata": {
            "tags": null
          },
          "name": "stderr",
          "output_type": "stream",
          "text": [
            "epoch 378: 100%|██████████| 282/282 [00:08<00:00, 33.92it/s]\n"
          ]
        },
        {
          "metadata": {
            "tags": null
          },
          "name": "stdout",
          "output_type": "stream",
          "text": [
            "validation loss: 0.0005705150568650828 at epoch 379\n",
            "learning_rate: 0.00128\n"
          ]
        },
        {
          "metadata": {
            "tags": null
          },
          "name": "stderr",
          "output_type": "stream",
          "text": [
            "epoch 379: 100%|██████████| 282/282 [00:08<00:00, 33.66it/s]\n"
          ]
        },
        {
          "metadata": {
            "tags": null
          },
          "name": "stdout",
          "output_type": "stream",
          "text": [
            "validation loss: 0.0027967041085163753 at epoch 380\n",
            "learning_rate: 0.00128\n"
          ]
        },
        {
          "metadata": {
            "tags": null
          },
          "name": "stderr",
          "output_type": "stream",
          "text": [
            "epoch 380: 100%|██████████| 282/282 [00:07<00:00, 36.75it/s]\n"
          ]
        },
        {
          "metadata": {
            "tags": null
          },
          "name": "stdout",
          "output_type": "stream",
          "text": [
            "validation loss: 0.0028107345319456525 at epoch 381\n",
            "learning_rate: 0.00128\n"
          ]
        },
        {
          "metadata": {
            "tags": null
          },
          "name": "stderr",
          "output_type": "stream",
          "text": [
            "epoch 381: 100%|██████████| 282/282 [00:08<00:00, 32.70it/s]\n"
          ]
        },
        {
          "metadata": {
            "tags": null
          },
          "name": "stdout",
          "output_type": "stream",
          "text": [
            "validation loss: 0.0026750429802470735 at epoch 382\n",
            "learning_rate: 0.00128\n"
          ]
        },
        {
          "metadata": {
            "tags": null
          },
          "name": "stderr",
          "output_type": "stream",
          "text": [
            "epoch 382: 100%|██████████| 282/282 [00:08<00:00, 31.98it/s]\n"
          ]
        },
        {
          "metadata": {
            "tags": null
          },
          "name": "stdout",
          "output_type": "stream",
          "text": [
            "validation loss: 0.0005800322956509061 at epoch 383\n",
            "learning_rate: 0.00128\n"
          ]
        },
        {
          "metadata": {
            "tags": null
          },
          "name": "stderr",
          "output_type": "stream",
          "text": [
            "epoch 383: 100%|██████████| 282/282 [00:08<00:00, 35.24it/s]\n"
          ]
        },
        {
          "metadata": {
            "tags": null
          },
          "name": "stdout",
          "output_type": "stream",
          "text": [
            "validation loss: 0.0037996095319588977 at epoch 384\n",
            "learning_rate: 0.00128\n"
          ]
        },
        {
          "metadata": {
            "tags": null
          },
          "name": "stderr",
          "output_type": "stream",
          "text": [
            "epoch 384: 100%|██████████| 282/282 [00:07<00:00, 35.44it/s]\n"
          ]
        },
        {
          "metadata": {
            "tags": null
          },
          "name": "stdout",
          "output_type": "stream",
          "text": [
            "validation loss: 0.0016862651556730271 at epoch 385\n",
            "learning_rate: 0.00128\n"
          ]
        },
        {
          "metadata": {
            "tags": null
          },
          "name": "stderr",
          "output_type": "stream",
          "text": [
            "epoch 385: 100%|██████████| 282/282 [00:08<00:00, 32.69it/s]\n"
          ]
        },
        {
          "metadata": {
            "tags": null
          },
          "name": "stdout",
          "output_type": "stream",
          "text": [
            "validation loss: 0.0018986814717451732 at epoch 386\n",
            "learning_rate: 0.00128\n"
          ]
        },
        {
          "metadata": {
            "tags": null
          },
          "name": "stderr",
          "output_type": "stream",
          "text": [
            "epoch 386: 100%|██████████| 282/282 [00:08<00:00, 32.15it/s]\n"
          ]
        },
        {
          "metadata": {
            "tags": null
          },
          "name": "stdout",
          "output_type": "stream",
          "text": [
            "validation loss: 0.0023829853617482713 at epoch 387\n",
            "learning_rate: 0.00128\n"
          ]
        },
        {
          "metadata": {
            "tags": null
          },
          "name": "stderr",
          "output_type": "stream",
          "text": [
            "epoch 387: 100%|██████████| 282/282 [00:07<00:00, 35.96it/s]\n"
          ]
        },
        {
          "metadata": {
            "tags": null
          },
          "name": "stdout",
          "output_type": "stream",
          "text": [
            "validation loss: 0.003288713138964441 at epoch 388\n",
            "learning_rate: 0.00128\n"
          ]
        },
        {
          "metadata": {
            "tags": null
          },
          "name": "stderr",
          "output_type": "stream",
          "text": [
            "epoch 388: 100%|██████████| 282/282 [00:08<00:00, 33.08it/s]\n"
          ]
        },
        {
          "metadata": {
            "tags": null
          },
          "name": "stdout",
          "output_type": "stream",
          "text": [
            "validation loss: 0.0012792189998759164 at epoch 389\n",
            "learning_rate: 0.00128\n"
          ]
        },
        {
          "metadata": {
            "tags": null
          },
          "name": "stderr",
          "output_type": "stream",
          "text": [
            "epoch 389: 100%|██████████| 282/282 [00:08<00:00, 33.10it/s]\n"
          ]
        },
        {
          "metadata": {
            "tags": null
          },
          "name": "stdout",
          "output_type": "stream",
          "text": [
            "validation loss: 0.002135038491752413 at epoch 390\n",
            "learning_rate: 0.00128\n"
          ]
        },
        {
          "metadata": {
            "tags": null
          },
          "name": "stderr",
          "output_type": "stream",
          "text": [
            "epoch 390: 100%|██████████| 282/282 [00:07<00:00, 36.78it/s]\n"
          ]
        },
        {
          "metadata": {
            "tags": null
          },
          "name": "stdout",
          "output_type": "stream",
          "text": [
            "validation loss: 0.0004871171054740747 at epoch 391\n",
            "learning_rate: 0.00128\n"
          ]
        },
        {
          "metadata": {
            "tags": null
          },
          "name": "stderr",
          "output_type": "stream",
          "text": [
            "epoch 391: 100%|██████████| 282/282 [00:08<00:00, 33.77it/s]\n"
          ]
        },
        {
          "metadata": {
            "tags": null
          },
          "name": "stdout",
          "output_type": "stream",
          "text": [
            "validation loss: 0.0017568757401572334 at epoch 392\n",
            "learning_rate: 0.00128\n"
          ]
        },
        {
          "metadata": {
            "tags": null
          },
          "name": "stderr",
          "output_type": "stream",
          "text": [
            "epoch 392: 100%|██████████| 282/282 [00:08<00:00, 33.35it/s]\n"
          ]
        },
        {
          "metadata": {
            "tags": null
          },
          "name": "stdout",
          "output_type": "stream",
          "text": [
            "validation loss: 0.0016712876227166918 at epoch 393\n",
            "learning_rate: 0.00128\n"
          ]
        },
        {
          "metadata": {
            "tags": null
          },
          "name": "stderr",
          "output_type": "stream",
          "text": [
            "epoch 393: 100%|██████████| 282/282 [00:07<00:00, 35.30it/s]\n"
          ]
        },
        {
          "metadata": {
            "tags": null
          },
          "name": "stdout",
          "output_type": "stream",
          "text": [
            "validation loss: 0.001959255970186657 at epoch 394\n",
            "learning_rate: 0.00128\n"
          ]
        },
        {
          "metadata": {
            "tags": null
          },
          "name": "stderr",
          "output_type": "stream",
          "text": [
            "epoch 394: 100%|██████████| 282/282 [00:08<00:00, 34.44it/s]\n"
          ]
        },
        {
          "metadata": {
            "tags": null
          },
          "name": "stdout",
          "output_type": "stream",
          "text": [
            "validation loss: 0.0029008860554960037 at epoch 395\n",
            "learning_rate: 0.00128\n"
          ]
        },
        {
          "metadata": {
            "tags": null
          },
          "name": "stderr",
          "output_type": "stream",
          "text": [
            "epoch 395: 100%|██████████| 282/282 [00:08<00:00, 33.48it/s]\n"
          ]
        },
        {
          "metadata": {
            "tags": null
          },
          "name": "stdout",
          "output_type": "stream",
          "text": [
            "validation loss: 0.0005451156161725521 at epoch 396\n",
            "learning_rate: 0.00128\n"
          ]
        },
        {
          "metadata": {
            "tags": null
          },
          "name": "stderr",
          "output_type": "stream",
          "text": [
            "epoch 396: 100%|██████████| 282/282 [00:07<00:00, 35.38it/s]\n"
          ]
        },
        {
          "metadata": {
            "tags": null
          },
          "name": "stdout",
          "output_type": "stream",
          "text": [
            "validation loss: 0.0008191500206788381 at epoch 397\n",
            "learning_rate: 0.00128\n"
          ]
        },
        {
          "metadata": {
            "tags": null
          },
          "name": "stderr",
          "output_type": "stream",
          "text": [
            "epoch 397: 100%|██████████| 282/282 [00:07<00:00, 36.67it/s]\n"
          ]
        },
        {
          "metadata": {
            "tags": null
          },
          "name": "stdout",
          "output_type": "stream",
          "text": [
            "validation loss: 0.00324650690290663 at epoch 398\n",
            "learning_rate: 0.00128\n"
          ]
        },
        {
          "metadata": {
            "tags": null
          },
          "name": "stderr",
          "output_type": "stream",
          "text": [
            "epoch 398: 100%|██████████| 282/282 [00:08<00:00, 33.20it/s]\n"
          ]
        },
        {
          "metadata": {
            "tags": null
          },
          "name": "stdout",
          "output_type": "stream",
          "text": [
            "validation loss: 0.001211905828780598 at epoch 399\n",
            "learning_rate: 0.00128\n"
          ]
        },
        {
          "metadata": {
            "tags": null
          },
          "name": "stderr",
          "output_type": "stream",
          "text": [
            "epoch 399: 100%|██████████| 282/282 [00:08<00:00, 32.77it/s]\n"
          ]
        },
        {
          "metadata": {
            "tags": null
          },
          "name": "stdout",
          "output_type": "stream",
          "text": [
            "validation loss: 0.004068559282355839 at epoch 400\n",
            "learning_rate: 0.00128\n"
          ]
        },
        {
          "metadata": {
            "tags": null
          },
          "name": "stderr",
          "output_type": "stream",
          "text": [
            "epoch 400: 100%|██████████| 282/282 [00:07<00:00, 35.41it/s]\n"
          ]
        },
        {
          "metadata": {
            "tags": null
          },
          "name": "stdout",
          "output_type": "stream",
          "text": [
            "validation loss: 0.0007349624691738023 at epoch 401\n",
            "learning_rate: 0.00128\n"
          ]
        },
        {
          "metadata": {
            "tags": null
          },
          "name": "stderr",
          "output_type": "stream",
          "text": [
            "epoch 401: 100%|██████████| 282/282 [00:08<00:00, 33.04it/s]\n"
          ]
        },
        {
          "metadata": {
            "tags": null
          },
          "name": "stdout",
          "output_type": "stream",
          "text": [
            "validation loss: 0.003337461393740442 at epoch 402\n",
            "learning_rate: 0.00128\n"
          ]
        },
        {
          "metadata": {
            "tags": null
          },
          "name": "stderr",
          "output_type": "stream",
          "text": [
            "epoch 402: 100%|██████████| 282/282 [00:08<00:00, 32.00it/s]\n"
          ]
        },
        {
          "metadata": {
            "tags": null
          },
          "name": "stdout",
          "output_type": "stream",
          "text": [
            "validation loss: 0.001695764669113689 at epoch 403\n",
            "learning_rate: 0.00128\n"
          ]
        },
        {
          "metadata": {
            "tags": null
          },
          "name": "stderr",
          "output_type": "stream",
          "text": [
            "epoch 403: 100%|██████████| 282/282 [00:08<00:00, 35.15it/s]\n"
          ]
        },
        {
          "metadata": {
            "tags": null
          },
          "name": "stdout",
          "output_type": "stream",
          "text": [
            "validation loss: 0.0011296640386184056 at epoch 404\n",
            "learning_rate: 0.00128\n"
          ]
        },
        {
          "metadata": {
            "tags": null
          },
          "name": "stderr",
          "output_type": "stream",
          "text": [
            "epoch 404: 100%|██████████| 282/282 [00:08<00:00, 34.34it/s]\n"
          ]
        },
        {
          "metadata": {
            "tags": null
          },
          "name": "stdout",
          "output_type": "stream",
          "text": [
            "validation loss: 0.00047988396717442406 at epoch 405\n",
            "learning_rate: 0.00128\n",
            "model saved in ani_acrolein.pt\n"
          ]
        },
        {
          "metadata": {
            "tags": null
          },
          "name": "stderr",
          "output_type": "stream",
          "text": [
            "epoch 405: 100%|██████████| 282/282 [00:08<00:00, 33.10it/s]\n"
          ]
        },
        {
          "metadata": {
            "tags": null
          },
          "name": "stdout",
          "output_type": "stream",
          "text": [
            "validation loss: 0.002035223878092236 at epoch 406\n",
            "learning_rate: 0.00128\n"
          ]
        },
        {
          "metadata": {
            "tags": null
          },
          "name": "stderr",
          "output_type": "stream",
          "text": [
            "epoch 406: 100%|██████████| 282/282 [00:08<00:00, 33.73it/s]\n"
          ]
        },
        {
          "metadata": {
            "tags": null
          },
          "name": "stdout",
          "output_type": "stream",
          "text": [
            "validation loss: 0.0011576696667406293 at epoch 407\n",
            "learning_rate: 0.00128\n"
          ]
        },
        {
          "metadata": {
            "tags": null
          },
          "name": "stderr",
          "output_type": "stream",
          "text": [
            "epoch 407: 100%|██████████| 282/282 [00:07<00:00, 35.61it/s]\n"
          ]
        },
        {
          "metadata": {
            "tags": null
          },
          "name": "stdout",
          "output_type": "stream",
          "text": [
            "validation loss: 0.0019504402428865432 at epoch 408\n",
            "learning_rate: 0.00128\n"
          ]
        },
        {
          "metadata": {
            "tags": null
          },
          "name": "stderr",
          "output_type": "stream",
          "text": [
            "epoch 408: 100%|██████████| 282/282 [00:08<00:00, 33.10it/s]\n"
          ]
        },
        {
          "metadata": {
            "tags": null
          },
          "name": "stdout",
          "output_type": "stream",
          "text": [
            "validation loss: 0.0023976129906045068 at epoch 409\n",
            "learning_rate: 0.00128\n"
          ]
        },
        {
          "metadata": {
            "tags": null
          },
          "name": "stderr",
          "output_type": "stream",
          "text": [
            "epoch 409: 100%|██████████| 282/282 [00:08<00:00, 33.43it/s]\n"
          ]
        },
        {
          "metadata": {
            "tags": null
          },
          "name": "stdout",
          "output_type": "stream",
          "text": [
            "validation loss: 0.0019792972687217923 at epoch 410\n",
            "learning_rate: 0.00128\n"
          ]
        },
        {
          "metadata": {
            "tags": null
          },
          "name": "stderr",
          "output_type": "stream",
          "text": [
            "epoch 410: 100%|██████████| 282/282 [00:07<00:00, 36.44it/s]\n"
          ]
        },
        {
          "metadata": {
            "tags": null
          },
          "name": "stdout",
          "output_type": "stream",
          "text": [
            "validation loss: 0.0021419515278604294 at epoch 411\n",
            "learning_rate: 0.00128\n"
          ]
        },
        {
          "metadata": {
            "tags": null
          },
          "name": "stderr",
          "output_type": "stream",
          "text": [
            "epoch 411: 100%|██████████| 282/282 [00:08<00:00, 33.39it/s]\n"
          ]
        },
        {
          "metadata": {
            "tags": null
          },
          "name": "stdout",
          "output_type": "stream",
          "text": [
            "validation loss: 0.002449500095513132 at epoch 412\n",
            "learning_rate: 0.00128\n"
          ]
        },
        {
          "metadata": {
            "tags": null
          },
          "name": "stderr",
          "output_type": "stream",
          "text": [
            "epoch 412: 100%|██████████| 282/282 [00:08<00:00, 33.62it/s]\n"
          ]
        },
        {
          "metadata": {
            "tags": null
          },
          "name": "stdout",
          "output_type": "stream",
          "text": [
            "validation loss: 0.00110399124191867 at epoch 413\n",
            "learning_rate: 0.00128\n"
          ]
        },
        {
          "metadata": {
            "tags": null
          },
          "name": "stderr",
          "output_type": "stream",
          "text": [
            "epoch 413: 100%|██████████| 282/282 [00:07<00:00, 36.83it/s]\n"
          ]
        },
        {
          "metadata": {
            "tags": null
          },
          "name": "stdout",
          "output_type": "stream",
          "text": [
            "validation loss: 0.0004738024396614896 at epoch 414\n",
            "learning_rate: 0.00128\n",
            "model saved in ani_acrolein.pt\n"
          ]
        },
        {
          "metadata": {
            "tags": null
          },
          "name": "stderr",
          "output_type": "stream",
          "text": [
            "epoch 414: 100%|██████████| 282/282 [00:08<00:00, 33.81it/s]\n"
          ]
        },
        {
          "metadata": {
            "tags": null
          },
          "name": "stdout",
          "output_type": "stream",
          "text": [
            "validation loss: 0.002519454128212399 at epoch 415\n",
            "learning_rate: 0.00128\n"
          ]
        },
        {
          "metadata": {
            "tags": null
          },
          "name": "stderr",
          "output_type": "stream",
          "text": [
            "epoch 415: 100%|██████████| 282/282 [00:08<00:00, 33.75it/s]\n"
          ]
        },
        {
          "metadata": {
            "tags": null
          },
          "name": "stdout",
          "output_type": "stream",
          "text": [
            "validation loss: 0.0017893533971574571 at epoch 416\n",
            "learning_rate: 0.00128\n"
          ]
        },
        {
          "metadata": {
            "tags": null
          },
          "name": "stderr",
          "output_type": "stream",
          "text": [
            "epoch 416: 100%|██████████| 282/282 [00:08<00:00, 33.77it/s]\n"
          ]
        },
        {
          "metadata": {
            "tags": null
          },
          "name": "stdout",
          "output_type": "stream",
          "text": [
            "validation loss: 0.0052122290631135305 at epoch 417\n",
            "learning_rate: 0.00128\n"
          ]
        },
        {
          "metadata": {
            "tags": null
          },
          "name": "stderr",
          "output_type": "stream",
          "text": [
            "epoch 417: 100%|██████████| 282/282 [00:07<00:00, 36.67it/s]\n"
          ]
        },
        {
          "metadata": {
            "tags": null
          },
          "name": "stdout",
          "output_type": "stream",
          "text": [
            "validation loss: 0.0015643834835953182 at epoch 418\n",
            "learning_rate: 0.00128\n"
          ]
        },
        {
          "metadata": {
            "tags": null
          },
          "name": "stderr",
          "output_type": "stream",
          "text": [
            "epoch 418: 100%|██████████| 282/282 [00:08<00:00, 32.99it/s]\n"
          ]
        },
        {
          "metadata": {
            "tags": null
          },
          "name": "stdout",
          "output_type": "stream",
          "text": [
            "validation loss: 0.0027911972420083153 at epoch 419\n",
            "learning_rate: 0.00128\n"
          ]
        },
        {
          "metadata": {
            "tags": null
          },
          "name": "stderr",
          "output_type": "stream",
          "text": [
            "epoch 419: 100%|██████████| 282/282 [00:08<00:00, 33.02it/s]\n"
          ]
        },
        {
          "metadata": {
            "tags": null
          },
          "name": "stdout",
          "output_type": "stream",
          "text": [
            "validation loss: 0.0030648174219661288 at epoch 420\n",
            "learning_rate: 0.00128\n"
          ]
        },
        {
          "metadata": {
            "tags": null
          },
          "name": "stderr",
          "output_type": "stream",
          "text": [
            "epoch 420: 100%|██████████| 282/282 [00:07<00:00, 35.83it/s]\n"
          ]
        },
        {
          "metadata": {
            "tags": null
          },
          "name": "stdout",
          "output_type": "stream",
          "text": [
            "validation loss: 0.0024927812500132457 at epoch 421\n",
            "learning_rate: 0.00128\n"
          ]
        },
        {
          "metadata": {
            "tags": null
          },
          "name": "stderr",
          "output_type": "stream",
          "text": [
            "epoch 421: 100%|██████████| 282/282 [00:08<00:00, 32.38it/s]\n"
          ]
        },
        {
          "metadata": {
            "tags": null
          },
          "name": "stdout",
          "output_type": "stream",
          "text": [
            "validation loss: 0.0008383411367734274 at epoch 422\n",
            "learning_rate: 0.00128\n"
          ]
        },
        {
          "metadata": {
            "tags": null
          },
          "name": "stderr",
          "output_type": "stream",
          "text": [
            "epoch 422: 100%|██████████| 282/282 [00:08<00:00, 33.19it/s]\n"
          ]
        },
        {
          "metadata": {
            "tags": null
          },
          "name": "stdout",
          "output_type": "stream",
          "text": [
            "validation loss: 0.0014047367200255394 at epoch 423\n",
            "learning_rate: 0.00128\n"
          ]
        },
        {
          "metadata": {
            "tags": null
          },
          "name": "stderr",
          "output_type": "stream",
          "text": [
            "epoch 423: 100%|██████████| 282/282 [00:07<00:00, 36.90it/s]\n"
          ]
        },
        {
          "metadata": {
            "tags": null
          },
          "name": "stdout",
          "output_type": "stream",
          "text": [
            "validation loss: 0.002895232097970115 at epoch 424\n",
            "learning_rate: 0.00128\n"
          ]
        },
        {
          "metadata": {
            "tags": null
          },
          "name": "stderr",
          "output_type": "stream",
          "text": [
            "epoch 424: 100%|██████████| 282/282 [00:08<00:00, 34.04it/s]\n"
          ]
        },
        {
          "metadata": {
            "tags": null
          },
          "name": "stdout",
          "output_type": "stream",
          "text": [
            "validation loss: 0.0008643772279222806 at epoch 425\n",
            "learning_rate: 0.00128\n"
          ]
        },
        {
          "metadata": {
            "tags": null
          },
          "name": "stderr",
          "output_type": "stream",
          "text": [
            "epoch 425: 100%|██████████| 282/282 [00:08<00:00, 33.93it/s]\n"
          ]
        },
        {
          "metadata": {
            "tags": null
          },
          "name": "stdout",
          "output_type": "stream",
          "text": [
            "validation loss: 0.0027527662995788784 at epoch 426\n",
            "learning_rate: 0.00128\n"
          ]
        },
        {
          "metadata": {
            "tags": null
          },
          "name": "stderr",
          "output_type": "stream",
          "text": [
            "epoch 426: 100%|██████████| 282/282 [00:07<00:00, 35.97it/s]\n"
          ]
        },
        {
          "metadata": {
            "tags": null
          },
          "name": "stdout",
          "output_type": "stream",
          "text": [
            "validation loss: 0.0010360519629385736 at epoch 427\n",
            "learning_rate: 0.00128\n"
          ]
        },
        {
          "metadata": {
            "tags": null
          },
          "name": "stderr",
          "output_type": "stream",
          "text": [
            "epoch 427: 100%|██████████| 282/282 [00:08<00:00, 34.61it/s]\n"
          ]
        },
        {
          "metadata": {
            "tags": null
          },
          "name": "stdout",
          "output_type": "stream",
          "text": [
            "validation loss: 0.0021524099244011772 at epoch 428\n",
            "learning_rate: 0.00128\n"
          ]
        },
        {
          "metadata": {
            "tags": null
          },
          "name": "stderr",
          "output_type": "stream",
          "text": [
            "epoch 428: 100%|██████████| 282/282 [00:08<00:00, 33.25it/s]\n"
          ]
        },
        {
          "metadata": {
            "tags": null
          },
          "name": "stdout",
          "output_type": "stream",
          "text": [
            "validation loss: 0.0011254930214749442 at epoch 429\n",
            "learning_rate: 0.00128\n"
          ]
        },
        {
          "metadata": {
            "tags": null
          },
          "name": "stderr",
          "output_type": "stream",
          "text": [
            "epoch 429: 100%|██████████| 282/282 [00:08<00:00, 33.58it/s]\n"
          ]
        },
        {
          "metadata": {
            "tags": null
          },
          "name": "stdout",
          "output_type": "stream",
          "text": [
            "validation loss: 0.0025064755843745338 at epoch 430\n",
            "learning_rate: 0.00128\n"
          ]
        },
        {
          "metadata": {
            "tags": null
          },
          "name": "stderr",
          "output_type": "stream",
          "text": [
            "epoch 430: 100%|██████████| 282/282 [00:07<00:00, 37.06it/s]\n"
          ]
        },
        {
          "metadata": {
            "tags": null
          },
          "name": "stdout",
          "output_type": "stream",
          "text": [
            "validation loss: 0.002615861705607838 at epoch 431\n",
            "learning_rate: 0.00128\n"
          ]
        },
        {
          "metadata": {
            "tags": null
          },
          "name": "stderr",
          "output_type": "stream",
          "text": [
            "epoch 431: 100%|██████████| 282/282 [00:08<00:00, 33.02it/s]\n"
          ]
        },
        {
          "metadata": {
            "tags": null
          },
          "name": "stdout",
          "output_type": "stream",
          "text": [
            "validation loss: 0.002430785013569726 at epoch 432\n",
            "learning_rate: 0.00128\n"
          ]
        },
        {
          "metadata": {
            "tags": null
          },
          "name": "stderr",
          "output_type": "stream",
          "text": [
            "epoch 432: 100%|██████████| 282/282 [00:08<00:00, 33.67it/s]\n"
          ]
        },
        {
          "metadata": {
            "tags": null
          },
          "name": "stdout",
          "output_type": "stream",
          "text": [
            "validation loss: 0.0005570929981768131 at epoch 433\n",
            "learning_rate: 0.00128\n"
          ]
        },
        {
          "metadata": {
            "tags": null
          },
          "name": "stderr",
          "output_type": "stream",
          "text": [
            "epoch 433: 100%|██████████| 282/282 [00:07<00:00, 35.70it/s]\n"
          ]
        },
        {
          "metadata": {
            "tags": null
          },
          "name": "stdout",
          "output_type": "stream",
          "text": [
            "validation loss: 0.0011393155811561478 at epoch 434\n",
            "learning_rate: 0.00128\n"
          ]
        },
        {
          "metadata": {
            "tags": null
          },
          "name": "stderr",
          "output_type": "stream",
          "text": [
            "epoch 434: 100%|██████████| 282/282 [00:08<00:00, 32.73it/s]\n"
          ]
        },
        {
          "metadata": {
            "tags": null
          },
          "name": "stdout",
          "output_type": "stream",
          "text": [
            "validation loss: 0.0031232724206315147 at epoch 435\n",
            "learning_rate: 0.00128\n"
          ]
        },
        {
          "metadata": {
            "tags": null
          },
          "name": "stderr",
          "output_type": "stream",
          "text": [
            "epoch 435: 100%|██████████| 282/282 [00:08<00:00, 33.96it/s]\n"
          ]
        },
        {
          "metadata": {
            "tags": null
          },
          "name": "stdout",
          "output_type": "stream",
          "text": [
            "validation loss: 0.0009647088079816766 at epoch 436\n",
            "learning_rate: 0.00128\n"
          ]
        },
        {
          "metadata": {
            "tags": null
          },
          "name": "stderr",
          "output_type": "stream",
          "text": [
            "epoch 436: 100%|██████████| 282/282 [00:07<00:00, 35.53it/s]\n"
          ]
        },
        {
          "metadata": {
            "tags": null
          },
          "name": "stdout",
          "output_type": "stream",
          "text": [
            "validation loss: 0.002694824172390832 at epoch 437\n",
            "learning_rate: 0.00128\n"
          ]
        },
        {
          "metadata": {
            "tags": null
          },
          "name": "stderr",
          "output_type": "stream",
          "text": [
            "epoch 437: 100%|██████████| 282/282 [00:08<00:00, 34.41it/s]\n"
          ]
        },
        {
          "metadata": {
            "tags": null
          },
          "name": "stdout",
          "output_type": "stream",
          "text": [
            "validation loss: 0.002985050797462463 at epoch 438\n",
            "learning_rate: 0.00128\n"
          ]
        },
        {
          "metadata": {
            "tags": null
          },
          "name": "stderr",
          "output_type": "stream",
          "text": [
            "epoch 438: 100%|██████████| 282/282 [00:08<00:00, 32.56it/s]\n"
          ]
        },
        {
          "metadata": {
            "tags": null
          },
          "name": "stdout",
          "output_type": "stream",
          "text": [
            "validation loss: 0.002227112203836441 at epoch 439\n",
            "learning_rate: 0.00128\n"
          ]
        },
        {
          "metadata": {
            "tags": null
          },
          "name": "stderr",
          "output_type": "stream",
          "text": [
            "epoch 439: 100%|██████████| 282/282 [00:08<00:00, 34.01it/s]\n"
          ]
        },
        {
          "metadata": {
            "tags": null
          },
          "name": "stdout",
          "output_type": "stream",
          "text": [
            "validation loss: 0.0013439526648985015 at epoch 440\n",
            "learning_rate: 0.00128\n"
          ]
        },
        {
          "metadata": {
            "tags": null
          },
          "name": "stderr",
          "output_type": "stream",
          "text": [
            "epoch 440: 100%|██████████| 282/282 [00:07<00:00, 36.54it/s]\n"
          ]
        },
        {
          "metadata": {
            "tags": null
          },
          "name": "stdout",
          "output_type": "stream",
          "text": [
            "validation loss: 0.0007115891629623042 at epoch 441\n",
            "learning_rate: 0.00128\n"
          ]
        },
        {
          "metadata": {
            "tags": null
          },
          "name": "stderr",
          "output_type": "stream",
          "text": [
            "epoch 441: 100%|██████████| 282/282 [00:08<00:00, 32.38it/s]\n"
          ]
        },
        {
          "metadata": {
            "tags": null
          },
          "name": "stdout",
          "output_type": "stream",
          "text": [
            "validation loss: 0.002925136759877205 at epoch 442\n",
            "learning_rate: 0.00128\n"
          ]
        },
        {
          "metadata": {
            "tags": null
          },
          "name": "stderr",
          "output_type": "stream",
          "text": [
            "epoch 442: 100%|██████████| 282/282 [00:08<00:00, 32.32it/s]\n"
          ]
        },
        {
          "metadata": {
            "tags": null
          },
          "name": "stdout",
          "output_type": "stream",
          "text": [
            "validation loss: 0.0015535952407452795 at epoch 443\n",
            "learning_rate: 0.00128\n"
          ]
        },
        {
          "metadata": {
            "tags": null
          },
          "name": "stderr",
          "output_type": "stream",
          "text": [
            "epoch 443: 100%|██████████| 282/282 [00:08<00:00, 35.17it/s]\n"
          ]
        },
        {
          "metadata": {
            "tags": null
          },
          "name": "stdout",
          "output_type": "stream",
          "text": [
            "validation loss: 0.0027174280186494193 at epoch 444\n",
            "learning_rate: 0.00128\n"
          ]
        },
        {
          "metadata": {
            "tags": null
          },
          "name": "stderr",
          "output_type": "stream",
          "text": [
            "epoch 444: 100%|██████████| 282/282 [00:08<00:00, 32.89it/s]\n"
          ]
        },
        {
          "metadata": {
            "tags": null
          },
          "name": "stdout",
          "output_type": "stream",
          "text": [
            "validation loss: 0.0013806432286898294 at epoch 445\n",
            "learning_rate: 0.00128\n"
          ]
        },
        {
          "metadata": {
            "tags": null
          },
          "name": "stderr",
          "output_type": "stream",
          "text": [
            "epoch 445: 100%|██████████| 282/282 [00:08<00:00, 32.54it/s]\n"
          ]
        },
        {
          "metadata": {
            "tags": null
          },
          "name": "stdout",
          "output_type": "stream",
          "text": [
            "validation loss: 0.0005202578744954533 at epoch 446\n",
            "learning_rate: 0.00128\n"
          ]
        },
        {
          "metadata": {
            "tags": null
          },
          "name": "stderr",
          "output_type": "stream",
          "text": [
            "epoch 446: 100%|██████████| 282/282 [00:07<00:00, 35.61it/s]\n"
          ]
        },
        {
          "metadata": {
            "tags": null
          },
          "name": "stdout",
          "output_type": "stream",
          "text": [
            "validation loss: 0.001740581868423356 at epoch 447\n",
            "learning_rate: 0.00128\n"
          ]
        },
        {
          "metadata": {
            "tags": null
          },
          "name": "stderr",
          "output_type": "stream",
          "text": [
            "epoch 447: 100%|██████████| 282/282 [00:08<00:00, 34.31it/s]\n"
          ]
        },
        {
          "metadata": {
            "tags": null
          },
          "name": "stdout",
          "output_type": "stream",
          "text": [
            "validation loss: 0.0026233152399460476 at epoch 448\n",
            "learning_rate: 0.00128\n"
          ]
        },
        {
          "metadata": {
            "tags": null
          },
          "name": "stderr",
          "output_type": "stream",
          "text": [
            "epoch 448: 100%|██████████| 282/282 [00:08<00:00, 31.91it/s]\n"
          ]
        },
        {
          "metadata": {
            "tags": null
          },
          "name": "stdout",
          "output_type": "stream",
          "text": [
            "validation loss: 0.0013797421836190754 at epoch 449\n",
            "learning_rate: 0.00128\n"
          ]
        },
        {
          "metadata": {
            "tags": null
          },
          "name": "stderr",
          "output_type": "stream",
          "text": [
            "epoch 449: 100%|██████████| 282/282 [00:08<00:00, 33.41it/s]\n"
          ]
        },
        {
          "metadata": {
            "tags": null
          },
          "name": "stdout",
          "output_type": "stream",
          "text": [
            "validation loss: 0.0018335212137964036 at epoch 450\n",
            "learning_rate: 0.00128\n"
          ]
        },
        {
          "metadata": {
            "tags": null
          },
          "name": "stderr",
          "output_type": "stream",
          "text": [
            "epoch 450: 100%|██████████| 282/282 [00:07<00:00, 36.16it/s]\n"
          ]
        },
        {
          "metadata": {
            "tags": null
          },
          "name": "stdout",
          "output_type": "stream",
          "text": [
            "validation loss: 0.0014873400239480865 at epoch 451\n",
            "learning_rate: 0.00128\n"
          ]
        },
        {
          "metadata": {
            "tags": null
          },
          "name": "stderr",
          "output_type": "stream",
          "text": [
            "epoch 451: 100%|██████████| 282/282 [00:08<00:00, 33.06it/s]\n"
          ]
        },
        {
          "metadata": {
            "tags": null
          },
          "name": "stdout",
          "output_type": "stream",
          "text": [
            "validation loss: 0.0019272211227152082 at epoch 452\n",
            "learning_rate: 0.00128\n"
          ]
        },
        {
          "metadata": {
            "tags": null
          },
          "name": "stderr",
          "output_type": "stream",
          "text": [
            "epoch 452: 100%|██████████| 282/282 [00:08<00:00, 32.54it/s]\n"
          ]
        },
        {
          "metadata": {
            "tags": null
          },
          "name": "stdout",
          "output_type": "stream",
          "text": [
            "validation loss: 0.0010797097343537543 at epoch 453\n",
            "learning_rate: 0.00128\n"
          ]
        },
        {
          "metadata": {
            "tags": null
          },
          "name": "stderr",
          "output_type": "stream",
          "text": [
            "epoch 453: 100%|██████████| 282/282 [00:07<00:00, 36.48it/s]\n"
          ]
        },
        {
          "metadata": {
            "tags": null
          },
          "name": "stdout",
          "output_type": "stream",
          "text": [
            "validation loss: 0.003256766544448005 at epoch 454\n",
            "learning_rate: 0.00128\n"
          ]
        },
        {
          "metadata": {
            "tags": null
          },
          "name": "stderr",
          "output_type": "stream",
          "text": [
            "epoch 454: 100%|██████████| 282/282 [00:08<00:00, 32.68it/s]\n"
          ]
        },
        {
          "metadata": {
            "tags": null
          },
          "name": "stdout",
          "output_type": "stream",
          "text": [
            "validation loss: 0.0019276349759764142 at epoch 455\n",
            "learning_rate: 0.00128\n"
          ]
        },
        {
          "metadata": {
            "tags": null
          },
          "name": "stderr",
          "output_type": "stream",
          "text": [
            "epoch 455: 100%|██████████| 282/282 [00:08<00:00, 32.31it/s]\n"
          ]
        },
        {
          "metadata": {
            "tags": null
          },
          "name": "stdout",
          "output_type": "stream",
          "text": [
            "validation loss: 0.0025102375812000696 at epoch 456\n",
            "learning_rate: 0.00128\n"
          ]
        },
        {
          "metadata": {
            "tags": null
          },
          "name": "stderr",
          "output_type": "stream",
          "text": [
            "epoch 456: 100%|██████████| 282/282 [00:08<00:00, 32.73it/s]\n"
          ]
        },
        {
          "metadata": {
            "tags": null
          },
          "name": "stdout",
          "output_type": "stream",
          "text": [
            "validation loss: 0.0006983680418796009 at epoch 457\n",
            "learning_rate: 0.00128\n"
          ]
        },
        {
          "metadata": {
            "tags": null
          },
          "name": "stderr",
          "output_type": "stream",
          "text": [
            "epoch 457: 100%|██████████| 282/282 [00:07<00:00, 36.58it/s]\n"
          ]
        },
        {
          "metadata": {
            "tags": null
          },
          "name": "stdout",
          "output_type": "stream",
          "text": [
            "validation loss: 0.0018442315542035632 at epoch 458\n",
            "learning_rate: 0.00128\n"
          ]
        },
        {
          "metadata": {
            "tags": null
          },
          "name": "stderr",
          "output_type": "stream",
          "text": [
            "epoch 458: 100%|██████████| 282/282 [00:08<00:00, 32.82it/s]\n"
          ]
        },
        {
          "metadata": {
            "tags": null
          },
          "name": "stdout",
          "output_type": "stream",
          "text": [
            "validation loss: 0.0006627462862266435 at epoch 459\n",
            "learning_rate: 0.00128\n"
          ]
        },
        {
          "metadata": {
            "tags": null
          },
          "name": "stderr",
          "output_type": "stream",
          "text": [
            "epoch 459: 100%|██████████| 282/282 [00:08<00:00, 33.37it/s]\n"
          ]
        },
        {
          "metadata": {
            "tags": null
          },
          "name": "stdout",
          "output_type": "stream",
          "text": [
            "validation loss: 0.0008217260812719663 at epoch 460\n",
            "learning_rate: 0.00128\n"
          ]
        },
        {
          "metadata": {
            "tags": null
          },
          "name": "stderr",
          "output_type": "stream",
          "text": [
            "epoch 460: 100%|██████████| 282/282 [00:07<00:00, 36.94it/s]\n"
          ]
        },
        {
          "metadata": {
            "tags": null
          },
          "name": "stdout",
          "output_type": "stream",
          "text": [
            "validation loss: 0.0027996442152394187 at epoch 461\n",
            "learning_rate: 0.00128\n"
          ]
        },
        {
          "metadata": {
            "tags": null
          },
          "name": "stderr",
          "output_type": "stream",
          "text": [
            "epoch 461: 100%|██████████| 282/282 [00:08<00:00, 31.74it/s]\n"
          ]
        },
        {
          "metadata": {
            "tags": null
          },
          "name": "stdout",
          "output_type": "stream",
          "text": [
            "validation loss: 0.001989989219440354 at epoch 462\n",
            "learning_rate: 0.00128\n"
          ]
        },
        {
          "metadata": {
            "tags": null
          },
          "name": "stderr",
          "output_type": "stream",
          "text": [
            "epoch 462: 100%|██████████| 282/282 [00:08<00:00, 32.72it/s]\n"
          ]
        },
        {
          "metadata": {
            "tags": null
          },
          "name": "stdout",
          "output_type": "stream",
          "text": [
            "validation loss: 0.0008349503758880827 at epoch 463\n",
            "learning_rate: 0.00128\n"
          ]
        },
        {
          "metadata": {
            "tags": null
          },
          "name": "stderr",
          "output_type": "stream",
          "text": [
            "epoch 463: 100%|██████████| 282/282 [00:08<00:00, 34.80it/s]\n"
          ]
        },
        {
          "metadata": {
            "tags": null
          },
          "name": "stdout",
          "output_type": "stream",
          "text": [
            "validation loss: 0.0005692258332338598 at epoch 464\n",
            "learning_rate: 0.00128\n"
          ]
        },
        {
          "metadata": {
            "tags": null
          },
          "name": "stderr",
          "output_type": "stream",
          "text": [
            "epoch 464: 100%|██████████| 282/282 [00:08<00:00, 34.69it/s]\n"
          ]
        },
        {
          "metadata": {
            "tags": null
          },
          "name": "stdout",
          "output_type": "stream",
          "text": [
            "validation loss: 0.0016124593226446045 at epoch 465\n",
            "learning_rate: 0.00128\n"
          ]
        },
        {
          "metadata": {
            "tags": null
          },
          "name": "stderr",
          "output_type": "stream",
          "text": [
            "epoch 465: 100%|██████████| 282/282 [00:08<00:00, 32.26it/s]\n"
          ]
        },
        {
          "metadata": {
            "tags": null
          },
          "name": "stdout",
          "output_type": "stream",
          "text": [
            "validation loss: 0.000548706298487054 at epoch 466\n",
            "learning_rate: 0.0010240000000000002\n"
          ]
        },
        {
          "metadata": {
            "tags": null
          },
          "name": "stderr",
          "output_type": "stream",
          "text": [
            "epoch 466: 100%|██████████| 282/282 [00:08<00:00, 33.68it/s]\n"
          ]
        },
        {
          "metadata": {
            "tags": null
          },
          "name": "stdout",
          "output_type": "stream",
          "text": [
            "validation loss: 0.0005722386183010207 at epoch 467\n",
            "learning_rate: 0.0010240000000000002\n"
          ]
        },
        {
          "metadata": {
            "tags": null
          },
          "name": "stderr",
          "output_type": "stream",
          "text": [
            "epoch 467: 100%|██████████| 282/282 [00:07<00:00, 37.27it/s]\n"
          ]
        },
        {
          "metadata": {
            "tags": null
          },
          "name": "stdout",
          "output_type": "stream",
          "text": [
            "validation loss: 0.0024892427110009725 at epoch 468\n",
            "learning_rate: 0.0010240000000000002\n"
          ]
        },
        {
          "metadata": {
            "tags": null
          },
          "name": "stderr",
          "output_type": "stream",
          "text": [
            "epoch 468: 100%|██████████| 282/282 [00:08<00:00, 32.62it/s]\n"
          ]
        },
        {
          "metadata": {
            "tags": null
          },
          "name": "stdout",
          "output_type": "stream",
          "text": [
            "validation loss: 0.0004875261096490754 at epoch 469\n",
            "learning_rate: 0.0010240000000000002\n"
          ]
        },
        {
          "metadata": {
            "tags": null
          },
          "name": "stderr",
          "output_type": "stream",
          "text": [
            "epoch 469: 100%|██████████| 282/282 [00:08<00:00, 33.70it/s]\n"
          ]
        },
        {
          "metadata": {
            "tags": null
          },
          "name": "stdout",
          "output_type": "stream",
          "text": [
            "validation loss: 0.002992421521080865 at epoch 470\n",
            "learning_rate: 0.0010240000000000002\n"
          ]
        },
        {
          "metadata": {
            "tags": null
          },
          "name": "stderr",
          "output_type": "stream",
          "text": [
            "epoch 470: 100%|██████████| 282/282 [00:07<00:00, 37.17it/s]\n"
          ]
        },
        {
          "metadata": {
            "tags": null
          },
          "name": "stdout",
          "output_type": "stream",
          "text": [
            "validation loss: 0.0013634005106157726 at epoch 471\n",
            "learning_rate: 0.0010240000000000002\n"
          ]
        },
        {
          "metadata": {
            "tags": null
          },
          "name": "stderr",
          "output_type": "stream",
          "text": [
            "epoch 471: 100%|██████████| 282/282 [00:08<00:00, 33.58it/s]\n"
          ]
        },
        {
          "metadata": {
            "tags": null
          },
          "name": "stdout",
          "output_type": "stream",
          "text": [
            "validation loss: 0.001173874319427543 at epoch 472\n",
            "learning_rate: 0.0010240000000000002\n"
          ]
        },
        {
          "metadata": {
            "tags": null
          },
          "name": "stderr",
          "output_type": "stream",
          "text": [
            "epoch 472: 100%|██████████| 282/282 [00:08<00:00, 33.36it/s]\n"
          ]
        },
        {
          "metadata": {
            "tags": null
          },
          "name": "stdout",
          "output_type": "stream",
          "text": [
            "validation loss: 0.0030538256002797023 at epoch 473\n",
            "learning_rate: 0.0010240000000000002\n"
          ]
        },
        {
          "metadata": {
            "tags": null
          },
          "name": "stderr",
          "output_type": "stream",
          "text": [
            "epoch 473: 100%|██████████| 282/282 [00:07<00:00, 37.38it/s]\n"
          ]
        },
        {
          "metadata": {
            "tags": null
          },
          "name": "stdout",
          "output_type": "stream",
          "text": [
            "validation loss: 0.0021196243696742587 at epoch 474\n",
            "learning_rate: 0.0010240000000000002\n"
          ]
        },
        {
          "metadata": {
            "tags": null
          },
          "name": "stderr",
          "output_type": "stream",
          "text": [
            "epoch 474: 100%|██████████| 282/282 [00:08<00:00, 33.42it/s]\n"
          ]
        },
        {
          "metadata": {
            "tags": null
          },
          "name": "stdout",
          "output_type": "stream",
          "text": [
            "validation loss: 0.0024014209773805407 at epoch 475\n",
            "learning_rate: 0.0010240000000000002\n"
          ]
        },
        {
          "metadata": {
            "tags": null
          },
          "name": "stderr",
          "output_type": "stream",
          "text": [
            "epoch 475: 100%|██████████| 282/282 [00:08<00:00, 32.50it/s]\n"
          ]
        },
        {
          "metadata": {
            "tags": null
          },
          "name": "stdout",
          "output_type": "stream",
          "text": [
            "validation loss: 0.0008751965297593011 at epoch 476\n",
            "learning_rate: 0.0010240000000000002\n"
          ]
        },
        {
          "metadata": {
            "tags": null
          },
          "name": "stderr",
          "output_type": "stream",
          "text": [
            "epoch 476: 100%|██████████| 282/282 [00:07<00:00, 36.75it/s]\n"
          ]
        },
        {
          "metadata": {
            "tags": null
          },
          "name": "stdout",
          "output_type": "stream",
          "text": [
            "validation loss: 0.00043657862974537745 at epoch 477\n",
            "learning_rate: 0.0010240000000000002\n",
            "model saved in ani_acrolein.pt\n"
          ]
        },
        {
          "metadata": {
            "tags": null
          },
          "name": "stderr",
          "output_type": "stream",
          "text": [
            "epoch 477: 100%|██████████| 282/282 [00:08<00:00, 34.82it/s]\n"
          ]
        },
        {
          "metadata": {
            "tags": null
          },
          "name": "stdout",
          "output_type": "stream",
          "text": [
            "validation loss: 0.001525063421163294 at epoch 478\n",
            "learning_rate: 0.0010240000000000002\n"
          ]
        },
        {
          "metadata": {
            "tags": null
          },
          "name": "stderr",
          "output_type": "stream",
          "text": [
            "epoch 478: 100%|██████████| 282/282 [00:08<00:00, 33.39it/s]\n"
          ]
        },
        {
          "metadata": {
            "tags": null
          },
          "name": "stdout",
          "output_type": "stream",
          "text": [
            "validation loss: 0.0031863237536615793 at epoch 479\n",
            "learning_rate: 0.0010240000000000002\n"
          ]
        },
        {
          "metadata": {
            "tags": null
          },
          "name": "stderr",
          "output_type": "stream",
          "text": [
            "epoch 479: 100%|██████████| 282/282 [00:07<00:00, 35.31it/s]\n"
          ]
        },
        {
          "metadata": {
            "tags": null
          },
          "name": "stdout",
          "output_type": "stream",
          "text": [
            "validation loss: 0.0014124265619450144 at epoch 480\n",
            "learning_rate: 0.0010240000000000002\n"
          ]
        },
        {
          "metadata": {
            "tags": null
          },
          "name": "stderr",
          "output_type": "stream",
          "text": [
            "epoch 480: 100%|██████████| 282/282 [00:07<00:00, 36.65it/s]\n"
          ]
        },
        {
          "metadata": {
            "tags": null
          },
          "name": "stdout",
          "output_type": "stream",
          "text": [
            "validation loss: 0.002524285121096505 at epoch 481\n",
            "learning_rate: 0.0010240000000000002\n"
          ]
        },
        {
          "metadata": {
            "tags": null
          },
          "name": "stderr",
          "output_type": "stream",
          "text": [
            "epoch 481: 100%|██████████| 282/282 [00:08<00:00, 32.97it/s]\n"
          ]
        },
        {
          "metadata": {
            "tags": null
          },
          "name": "stdout",
          "output_type": "stream",
          "text": [
            "validation loss: 0.0028723294188578922 at epoch 482\n",
            "learning_rate: 0.0010240000000000002\n"
          ]
        },
        {
          "metadata": {
            "tags": null
          },
          "name": "stderr",
          "output_type": "stream",
          "text": [
            "epoch 482: 100%|██████████| 282/282 [00:08<00:00, 33.21it/s]\n"
          ]
        },
        {
          "metadata": {
            "tags": null
          },
          "name": "stdout",
          "output_type": "stream",
          "text": [
            "validation loss: 0.0008313397947284911 at epoch 483\n",
            "learning_rate: 0.0010240000000000002\n"
          ]
        },
        {
          "metadata": {
            "tags": null
          },
          "name": "stderr",
          "output_type": "stream",
          "text": [
            "epoch 483: 100%|██████████| 282/282 [00:07<00:00, 37.16it/s]\n"
          ]
        },
        {
          "metadata": {
            "tags": null
          },
          "name": "stdout",
          "output_type": "stream",
          "text": [
            "validation loss: 0.0021667022787862354 at epoch 484\n",
            "learning_rate: 0.0010240000000000002\n"
          ]
        },
        {
          "metadata": {
            "tags": null
          },
          "name": "stderr",
          "output_type": "stream",
          "text": [
            "epoch 484: 100%|██████████| 282/282 [00:08<00:00, 33.61it/s]\n"
          ]
        },
        {
          "metadata": {
            "tags": null
          },
          "name": "stdout",
          "output_type": "stream",
          "text": [
            "validation loss: 0.0034393990602758196 at epoch 485\n",
            "learning_rate: 0.0010240000000000002\n"
          ]
        },
        {
          "metadata": {
            "tags": null
          },
          "name": "stderr",
          "output_type": "stream",
          "text": [
            "epoch 485: 100%|██████████| 282/282 [00:08<00:00, 33.44it/s]\n"
          ]
        },
        {
          "metadata": {
            "tags": null
          },
          "name": "stdout",
          "output_type": "stream",
          "text": [
            "validation loss: 0.0011156305919090906 at epoch 486\n",
            "learning_rate: 0.0010240000000000002\n"
          ]
        },
        {
          "metadata": {
            "tags": null
          },
          "name": "stderr",
          "output_type": "stream",
          "text": [
            "epoch 486: 100%|██████████| 282/282 [00:07<00:00, 36.85it/s]\n"
          ]
        },
        {
          "metadata": {
            "tags": null
          },
          "name": "stdout",
          "output_type": "stream",
          "text": [
            "validation loss: 0.003991785393820869 at epoch 487\n",
            "learning_rate: 0.0010240000000000002\n"
          ]
        },
        {
          "metadata": {
            "tags": null
          },
          "name": "stderr",
          "output_type": "stream",
          "text": [
            "epoch 487: 100%|██████████| 282/282 [00:08<00:00, 33.89it/s]\n"
          ]
        },
        {
          "metadata": {
            "tags": null
          },
          "name": "stdout",
          "output_type": "stream",
          "text": [
            "validation loss: 0.002222646979822053 at epoch 488\n",
            "learning_rate: 0.0010240000000000002\n"
          ]
        },
        {
          "metadata": {
            "tags": null
          },
          "name": "stderr",
          "output_type": "stream",
          "text": [
            "epoch 488: 100%|██████████| 282/282 [00:08<00:00, 32.53it/s]\n"
          ]
        },
        {
          "metadata": {
            "tags": null
          },
          "name": "stdout",
          "output_type": "stream",
          "text": [
            "validation loss: 0.0031454335186216565 at epoch 489\n",
            "learning_rate: 0.0010240000000000002\n"
          ]
        },
        {
          "metadata": {
            "tags": null
          },
          "name": "stderr",
          "output_type": "stream",
          "text": [
            "epoch 489: 100%|██████████| 282/282 [00:07<00:00, 36.45it/s]\n"
          ]
        },
        {
          "metadata": {
            "tags": null
          },
          "name": "stdout",
          "output_type": "stream",
          "text": [
            "validation loss: 0.0024034339371654724 at epoch 490\n",
            "learning_rate: 0.0010240000000000002\n"
          ]
        },
        {
          "metadata": {
            "tags": null
          },
          "name": "stderr",
          "output_type": "stream",
          "text": [
            "epoch 490: 100%|██████████| 282/282 [00:08<00:00, 33.25it/s]\n"
          ]
        },
        {
          "metadata": {
            "tags": null
          },
          "name": "stdout",
          "output_type": "stream",
          "text": [
            "validation loss: 0.0019266407175196542 at epoch 491\n",
            "learning_rate: 0.0010240000000000002\n"
          ]
        },
        {
          "metadata": {
            "tags": null
          },
          "name": "stderr",
          "output_type": "stream",
          "text": [
            "epoch 491: 100%|██████████| 282/282 [00:08<00:00, 33.22it/s]\n"
          ]
        },
        {
          "metadata": {
            "tags": null
          },
          "name": "stdout",
          "output_type": "stream",
          "text": [
            "validation loss: 0.0022110815942287445 at epoch 492\n",
            "learning_rate: 0.0010240000000000002\n"
          ]
        },
        {
          "metadata": {
            "tags": null
          },
          "name": "stderr",
          "output_type": "stream",
          "text": [
            "epoch 492: 100%|██████████| 282/282 [00:07<00:00, 35.68it/s]\n"
          ]
        },
        {
          "metadata": {
            "tags": null
          },
          "name": "stdout",
          "output_type": "stream",
          "text": [
            "validation loss: 0.0005452939354711109 at epoch 493\n",
            "learning_rate: 0.0010240000000000002\n"
          ]
        },
        {
          "metadata": {
            "tags": null
          },
          "name": "stderr",
          "output_type": "stream",
          "text": [
            "epoch 493: 100%|██████████| 282/282 [00:07<00:00, 35.47it/s]\n"
          ]
        },
        {
          "metadata": {
            "tags": null
          },
          "name": "stdout",
          "output_type": "stream",
          "text": [
            "validation loss: 0.0022719051953819062 at epoch 494\n",
            "learning_rate: 0.0010240000000000002\n"
          ]
        },
        {
          "metadata": {
            "tags": null
          },
          "name": "stderr",
          "output_type": "stream",
          "text": [
            "epoch 494: 100%|██████████| 282/282 [00:08<00:00, 34.28it/s]\n"
          ]
        },
        {
          "metadata": {
            "tags": null
          },
          "name": "stdout",
          "output_type": "stream",
          "text": [
            "validation loss: 0.00041319012662602793 at epoch 495\n",
            "learning_rate: 0.0010240000000000002\n",
            "model saved in ani_acrolein.pt\n"
          ]
        },
        {
          "metadata": {
            "tags": null
          },
          "name": "stderr",
          "output_type": "stream",
          "text": [
            "epoch 495: 100%|██████████| 282/282 [00:08<00:00, 33.11it/s]\n"
          ]
        },
        {
          "metadata": {
            "tags": null
          },
          "name": "stdout",
          "output_type": "stream",
          "text": [
            "validation loss: 0.00057253271755245 at epoch 496\n",
            "learning_rate: 0.0010240000000000002\n"
          ]
        },
        {
          "metadata": {
            "tags": null
          },
          "name": "stderr",
          "output_type": "stream",
          "text": [
            "epoch 496: 100%|██████████| 282/282 [00:07<00:00, 37.02it/s]\n"
          ]
        },
        {
          "metadata": {
            "tags": null
          },
          "name": "stdout",
          "output_type": "stream",
          "text": [
            "validation loss: 0.0008403577556212743 at epoch 497\n",
            "learning_rate: 0.0010240000000000002\n"
          ]
        },
        {
          "metadata": {
            "tags": null
          },
          "name": "stderr",
          "output_type": "stream",
          "text": [
            "epoch 497: 100%|██████████| 282/282 [00:08<00:00, 33.64it/s]\n"
          ]
        },
        {
          "metadata": {
            "tags": null
          },
          "name": "stdout",
          "output_type": "stream",
          "text": [
            "validation loss: 0.00048115030510558024 at epoch 498\n",
            "learning_rate: 0.0010240000000000002\n"
          ]
        },
        {
          "metadata": {
            "tags": null
          },
          "name": "stderr",
          "output_type": "stream",
          "text": [
            "epoch 498: 100%|██████████| 282/282 [00:08<00:00, 33.17it/s]\n"
          ]
        },
        {
          "metadata": {
            "tags": null
          },
          "name": "stdout",
          "output_type": "stream",
          "text": [
            "validation loss: 0.001342499439087179 at epoch 499\n",
            "learning_rate: 0.0010240000000000002\n"
          ]
        },
        {
          "metadata": {
            "tags": null
          },
          "name": "stderr",
          "output_type": "stream",
          "text": [
            "epoch 499: 100%|██████████| 282/282 [00:07<00:00, 36.90it/s]\n"
          ]
        },
        {
          "metadata": {
            "tags": null
          },
          "name": "stdout",
          "output_type": "stream",
          "text": [
            "validation loss: 0.0013657286763191223 at epoch 500\n",
            "learning_rate: 0.0010240000000000002\n"
          ]
        },
        {
          "metadata": {
            "tags": null
          },
          "name": "stderr",
          "output_type": "stream",
          "text": [
            "epoch 500: 100%|██████████| 282/282 [00:08<00:00, 33.54it/s]\n"
          ]
        },
        {
          "metadata": {
            "tags": null
          },
          "name": "stdout",
          "output_type": "stream",
          "text": [
            "validation loss: 0.0012251105383038522 at epoch 501\n",
            "learning_rate: 0.0010240000000000002\n"
          ]
        },
        {
          "metadata": {
            "tags": null
          },
          "name": "stderr",
          "output_type": "stream",
          "text": [
            "epoch 501: 100%|██████████| 282/282 [00:08<00:00, 33.56it/s]\n"
          ]
        },
        {
          "metadata": {
            "tags": null
          },
          "name": "stdout",
          "output_type": "stream",
          "text": [
            "validation loss: 0.0012091830008559756 at epoch 502\n",
            "learning_rate: 0.0010240000000000002\n"
          ]
        },
        {
          "metadata": {
            "tags": null
          },
          "name": "stderr",
          "output_type": "stream",
          "text": [
            "epoch 502: 100%|██████████| 282/282 [00:07<00:00, 36.00it/s]\n"
          ]
        },
        {
          "metadata": {
            "tags": null
          },
          "name": "stdout",
          "output_type": "stream",
          "text": [
            "validation loss: 0.0011037646275427607 at epoch 503\n",
            "learning_rate: 0.0010240000000000002\n"
          ]
        },
        {
          "metadata": {
            "tags": null
          },
          "name": "stderr",
          "output_type": "stream",
          "text": [
            "epoch 503: 100%|██████████| 282/282 [00:08<00:00, 33.82it/s]\n"
          ]
        },
        {
          "metadata": {
            "tags": null
          },
          "name": "stdout",
          "output_type": "stream",
          "text": [
            "validation loss: 0.00048105970977081194 at epoch 504\n",
            "learning_rate: 0.0010240000000000002\n"
          ]
        },
        {
          "metadata": {
            "tags": null
          },
          "name": "stderr",
          "output_type": "stream",
          "text": [
            "epoch 504: 100%|██████████| 282/282 [00:08<00:00, 33.24it/s]\n"
          ]
        },
        {
          "metadata": {
            "tags": null
          },
          "name": "stdout",
          "output_type": "stream",
          "text": [
            "validation loss: 0.0021496311641401714 at epoch 505\n",
            "learning_rate: 0.0010240000000000002\n"
          ]
        },
        {
          "metadata": {
            "tags": null
          },
          "name": "stderr",
          "output_type": "stream",
          "text": [
            "epoch 505: 100%|██████████| 282/282 [00:07<00:00, 36.98it/s]\n"
          ]
        },
        {
          "metadata": {
            "tags": null
          },
          "name": "stdout",
          "output_type": "stream",
          "text": [
            "validation loss: 0.00126762861924039 at epoch 506\n",
            "learning_rate: 0.0010240000000000002\n"
          ]
        },
        {
          "metadata": {
            "tags": null
          },
          "name": "stderr",
          "output_type": "stream",
          "text": [
            "epoch 506: 100%|██████████| 282/282 [00:08<00:00, 34.10it/s]\n"
          ]
        },
        {
          "metadata": {
            "tags": null
          },
          "name": "stdout",
          "output_type": "stream",
          "text": [
            "validation loss: 0.0016408891181151073 at epoch 507\n",
            "learning_rate: 0.0010240000000000002\n"
          ]
        },
        {
          "metadata": {
            "tags": null
          },
          "name": "stderr",
          "output_type": "stream",
          "text": [
            "epoch 507: 100%|██████████| 282/282 [00:08<00:00, 33.49it/s]\n"
          ]
        },
        {
          "metadata": {
            "tags": null
          },
          "name": "stdout",
          "output_type": "stream",
          "text": [
            "validation loss: 0.0021310222844282785 at epoch 508\n",
            "learning_rate: 0.0010240000000000002\n"
          ]
        },
        {
          "metadata": {
            "tags": null
          },
          "name": "stderr",
          "output_type": "stream",
          "text": [
            "epoch 508: 100%|██████████| 282/282 [00:07<00:00, 36.33it/s]\n"
          ]
        },
        {
          "metadata": {
            "tags": null
          },
          "name": "stdout",
          "output_type": "stream",
          "text": [
            "validation loss: 0.0015871573438247044 at epoch 509\n",
            "learning_rate: 0.0010240000000000002\n"
          ]
        },
        {
          "metadata": {
            "tags": null
          },
          "name": "stderr",
          "output_type": "stream",
          "text": [
            "epoch 509: 100%|██████████| 282/282 [00:08<00:00, 34.52it/s]\n"
          ]
        },
        {
          "metadata": {
            "tags": null
          },
          "name": "stdout",
          "output_type": "stream",
          "text": [
            "validation loss: 0.0017157216800583732 at epoch 510\n",
            "learning_rate: 0.0010240000000000002\n"
          ]
        },
        {
          "metadata": {
            "tags": null
          },
          "name": "stderr",
          "output_type": "stream",
          "text": [
            "epoch 510: 100%|██████████| 282/282 [00:08<00:00, 33.70it/s]\n"
          ]
        },
        {
          "metadata": {
            "tags": null
          },
          "name": "stdout",
          "output_type": "stream",
          "text": [
            "validation loss: 0.0015973475534054968 at epoch 511\n",
            "learning_rate: 0.0010240000000000002\n"
          ]
        },
        {
          "metadata": {
            "tags": null
          },
          "name": "stderr",
          "output_type": "stream",
          "text": [
            "epoch 511: 100%|██████████| 282/282 [00:08<00:00, 34.30it/s]\n"
          ]
        },
        {
          "metadata": {
            "tags": null
          },
          "name": "stdout",
          "output_type": "stream",
          "text": [
            "validation loss: 0.0017818585120969348 at epoch 512\n",
            "learning_rate: 0.0010240000000000002\n"
          ]
        },
        {
          "metadata": {
            "tags": null
          },
          "name": "stderr",
          "output_type": "stream",
          "text": [
            "epoch 512: 100%|██████████| 282/282 [00:07<00:00, 37.02it/s]\n"
          ]
        },
        {
          "metadata": {
            "tags": null
          },
          "name": "stdout",
          "output_type": "stream",
          "text": [
            "validation loss: 0.0026183287368880376 at epoch 513\n",
            "learning_rate: 0.0010240000000000002\n"
          ]
        },
        {
          "metadata": {
            "tags": null
          },
          "name": "stderr",
          "output_type": "stream",
          "text": [
            "epoch 513: 100%|██████████| 282/282 [00:08<00:00, 33.29it/s]\n"
          ]
        },
        {
          "metadata": {
            "tags": null
          },
          "name": "stdout",
          "output_type": "stream",
          "text": [
            "validation loss: 0.002164006347457568 at epoch 514\n",
            "learning_rate: 0.0010240000000000002\n"
          ]
        },
        {
          "metadata": {
            "tags": null
          },
          "name": "stderr",
          "output_type": "stream",
          "text": [
            "epoch 514: 100%|██████████| 282/282 [00:08<00:00, 33.36it/s]\n"
          ]
        },
        {
          "metadata": {
            "tags": null
          },
          "name": "stdout",
          "output_type": "stream",
          "text": [
            "validation loss: 0.0009120649604333771 at epoch 515\n",
            "learning_rate: 0.0010240000000000002\n"
          ]
        },
        {
          "metadata": {
            "tags": null
          },
          "name": "stderr",
          "output_type": "stream",
          "text": [
            "epoch 515: 100%|██████████| 282/282 [00:07<00:00, 37.12it/s]\n"
          ]
        },
        {
          "metadata": {
            "tags": null
          },
          "name": "stdout",
          "output_type": "stream",
          "text": [
            "validation loss: 0.0021881430016623604 at epoch 516\n",
            "learning_rate: 0.0010240000000000002\n"
          ]
        },
        {
          "metadata": {
            "tags": null
          },
          "name": "stderr",
          "output_type": "stream",
          "text": [
            "epoch 516: 100%|██████████| 282/282 [00:08<00:00, 32.41it/s]\n"
          ]
        },
        {
          "metadata": {
            "tags": null
          },
          "name": "stdout",
          "output_type": "stream",
          "text": [
            "validation loss: 0.0019160567075014114 at epoch 517\n",
            "learning_rate: 0.0010240000000000002\n"
          ]
        },
        {
          "metadata": {
            "tags": null
          },
          "name": "stderr",
          "output_type": "stream",
          "text": [
            "epoch 517: 100%|██████████| 282/282 [00:08<00:00, 33.11it/s]\n"
          ]
        },
        {
          "metadata": {
            "tags": null
          },
          "name": "stdout",
          "output_type": "stream",
          "text": [
            "validation loss: 0.0005339524058832062 at epoch 518\n",
            "learning_rate: 0.0010240000000000002\n"
          ]
        },
        {
          "metadata": {
            "tags": null
          },
          "name": "stderr",
          "output_type": "stream",
          "text": [
            "epoch 518: 100%|██████████| 282/282 [00:07<00:00, 37.00it/s]\n"
          ]
        },
        {
          "metadata": {
            "tags": null
          },
          "name": "stdout",
          "output_type": "stream",
          "text": [
            "validation loss: 0.0023261569688717526 at epoch 519\n",
            "learning_rate: 0.0010240000000000002\n"
          ]
        },
        {
          "metadata": {
            "tags": null
          },
          "name": "stderr",
          "output_type": "stream",
          "text": [
            "epoch 519: 100%|██████████| 282/282 [00:08<00:00, 33.27it/s]\n"
          ]
        },
        {
          "metadata": {
            "tags": null
          },
          "name": "stdout",
          "output_type": "stream",
          "text": [
            "validation loss: 0.0006027084572447671 at epoch 520\n",
            "learning_rate: 0.0010240000000000002\n"
          ]
        },
        {
          "metadata": {
            "tags": null
          },
          "name": "stderr",
          "output_type": "stream",
          "text": [
            "epoch 520: 100%|██████████| 282/282 [00:08<00:00, 33.30it/s]\n"
          ]
        },
        {
          "metadata": {
            "tags": null
          },
          "name": "stdout",
          "output_type": "stream",
          "text": [
            "validation loss: 0.0022995880726310943 at epoch 521\n",
            "learning_rate: 0.0010240000000000002\n"
          ]
        },
        {
          "metadata": {
            "tags": null
          },
          "name": "stderr",
          "output_type": "stream",
          "text": [
            "epoch 521: 100%|██████████| 282/282 [00:07<00:00, 37.17it/s]\n"
          ]
        },
        {
          "metadata": {
            "tags": null
          },
          "name": "stdout",
          "output_type": "stream",
          "text": [
            "validation loss: 0.0014358694735500548 at epoch 522\n",
            "learning_rate: 0.0010240000000000002\n"
          ]
        },
        {
          "metadata": {
            "tags": null
          },
          "name": "stderr",
          "output_type": "stream",
          "text": [
            "epoch 522: 100%|██████████| 282/282 [00:08<00:00, 34.16it/s]\n"
          ]
        },
        {
          "metadata": {
            "tags": null
          },
          "name": "stdout",
          "output_type": "stream",
          "text": [
            "validation loss: 0.0004890277091827657 at epoch 523\n",
            "learning_rate: 0.0010240000000000002\n"
          ]
        },
        {
          "metadata": {
            "tags": null
          },
          "name": "stderr",
          "output_type": "stream",
          "text": [
            "epoch 523: 100%|██████████| 282/282 [00:08<00:00, 32.74it/s]\n"
          ]
        },
        {
          "metadata": {
            "tags": null
          },
          "name": "stdout",
          "output_type": "stream",
          "text": [
            "validation loss: 0.0007762716822326183 at epoch 524\n",
            "learning_rate: 0.0010240000000000002\n"
          ]
        },
        {
          "metadata": {
            "tags": null
          },
          "name": "stderr",
          "output_type": "stream",
          "text": [
            "epoch 524: 100%|██████████| 282/282 [00:07<00:00, 36.02it/s]\n"
          ]
        },
        {
          "metadata": {
            "tags": null
          },
          "name": "stdout",
          "output_type": "stream",
          "text": [
            "validation loss: 0.0043746927380561825 at epoch 525\n",
            "learning_rate: 0.0010240000000000002\n"
          ]
        },
        {
          "metadata": {
            "tags": null
          },
          "name": "stderr",
          "output_type": "stream",
          "text": [
            "epoch 525: 100%|██████████| 282/282 [00:08<00:00, 34.50it/s]\n"
          ]
        },
        {
          "metadata": {
            "tags": null
          },
          "name": "stdout",
          "output_type": "stream",
          "text": [
            "validation loss: 0.001435119950109058 at epoch 526\n",
            "learning_rate: 0.0010240000000000002\n"
          ]
        },
        {
          "metadata": {
            "tags": null
          },
          "name": "stderr",
          "output_type": "stream",
          "text": [
            "epoch 526: 100%|██████████| 282/282 [00:08<00:00, 33.39it/s]\n"
          ]
        },
        {
          "metadata": {
            "tags": null
          },
          "name": "stdout",
          "output_type": "stream",
          "text": [
            "validation loss: 0.0004510525394645002 at epoch 527\n",
            "learning_rate: 0.0010240000000000002\n"
          ]
        },
        {
          "metadata": {
            "tags": null
          },
          "name": "stderr",
          "output_type": "stream",
          "text": [
            "epoch 527: 100%|██████████| 282/282 [00:08<00:00, 33.72it/s]\n"
          ]
        },
        {
          "metadata": {
            "tags": null
          },
          "name": "stdout",
          "output_type": "stream",
          "text": [
            "validation loss: 0.0011667733308341767 at epoch 528\n",
            "learning_rate: 0.0010240000000000002\n"
          ]
        },
        {
          "metadata": {
            "tags": null
          },
          "name": "stderr",
          "output_type": "stream",
          "text": [
            "epoch 528: 100%|██████████| 282/282 [00:07<00:00, 37.12it/s]\n"
          ]
        },
        {
          "metadata": {
            "tags": null
          },
          "name": "stdout",
          "output_type": "stream",
          "text": [
            "validation loss: 0.0013440484992331928 at epoch 529\n",
            "learning_rate: 0.0010240000000000002\n"
          ]
        },
        {
          "metadata": {
            "tags": null
          },
          "name": "stderr",
          "output_type": "stream",
          "text": [
            "epoch 529: 100%|██████████| 282/282 [00:08<00:00, 33.24it/s]\n"
          ]
        },
        {
          "metadata": {
            "tags": null
          },
          "name": "stdout",
          "output_type": "stream",
          "text": [
            "validation loss: 0.002745430143343078 at epoch 530\n",
            "learning_rate: 0.0010240000000000002\n"
          ]
        },
        {
          "metadata": {
            "tags": null
          },
          "name": "stderr",
          "output_type": "stream",
          "text": [
            "epoch 530: 100%|██████████| 282/282 [00:08<00:00, 32.95it/s]\n"
          ]
        },
        {
          "metadata": {
            "tags": null
          },
          "name": "stdout",
          "output_type": "stream",
          "text": [
            "validation loss: 0.0005225627652058999 at epoch 531\n",
            "learning_rate: 0.0010240000000000002\n"
          ]
        },
        {
          "metadata": {
            "tags": null
          },
          "name": "stderr",
          "output_type": "stream",
          "text": [
            "epoch 531: 100%|██████████| 282/282 [00:07<00:00, 36.81it/s]\n"
          ]
        },
        {
          "metadata": {
            "tags": null
          },
          "name": "stdout",
          "output_type": "stream",
          "text": [
            "validation loss: 0.0010830730232927535 at epoch 532\n",
            "learning_rate: 0.0010240000000000002\n"
          ]
        },
        {
          "metadata": {
            "tags": null
          },
          "name": "stderr",
          "output_type": "stream",
          "text": [
            "epoch 532: 100%|██████████| 282/282 [00:08<00:00, 33.21it/s]\n"
          ]
        },
        {
          "metadata": {
            "tags": null
          },
          "name": "stdout",
          "output_type": "stream",
          "text": [
            "validation loss: 0.001341716734899415 at epoch 533\n",
            "learning_rate: 0.0010240000000000002\n"
          ]
        },
        {
          "metadata": {
            "tags": null
          },
          "name": "stderr",
          "output_type": "stream",
          "text": [
            "epoch 533: 100%|██████████| 282/282 [00:08<00:00, 33.52it/s]\n"
          ]
        },
        {
          "metadata": {
            "tags": null
          },
          "name": "stdout",
          "output_type": "stream",
          "text": [
            "validation loss: 0.00437509227792422 at epoch 534\n",
            "learning_rate: 0.0010240000000000002\n"
          ]
        },
        {
          "metadata": {
            "tags": null
          },
          "name": "stderr",
          "output_type": "stream",
          "text": [
            "epoch 534: 100%|██████████| 282/282 [00:07<00:00, 36.91it/s]\n"
          ]
        },
        {
          "metadata": {
            "tags": null
          },
          "name": "stdout",
          "output_type": "stream",
          "text": [
            "validation loss: 0.0012042338839835592 at epoch 535\n",
            "learning_rate: 0.0010240000000000002\n"
          ]
        },
        {
          "metadata": {
            "tags": null
          },
          "name": "stderr",
          "output_type": "stream",
          "text": [
            "epoch 535: 100%|██████████| 282/282 [00:08<00:00, 33.50it/s]\n"
          ]
        },
        {
          "metadata": {
            "tags": null
          },
          "name": "stdout",
          "output_type": "stream",
          "text": [
            "validation loss: 0.0010733525852362315 at epoch 536\n",
            "learning_rate: 0.0010240000000000002\n"
          ]
        },
        {
          "metadata": {
            "tags": null
          },
          "name": "stderr",
          "output_type": "stream",
          "text": [
            "epoch 536: 100%|██████████| 282/282 [00:08<00:00, 32.62it/s]\n"
          ]
        },
        {
          "metadata": {
            "tags": null
          },
          "name": "stdout",
          "output_type": "stream",
          "text": [
            "validation loss: 0.0011217812192108895 at epoch 537\n",
            "learning_rate: 0.0010240000000000002\n"
          ]
        },
        {
          "metadata": {
            "tags": null
          },
          "name": "stderr",
          "output_type": "stream",
          "text": [
            "epoch 537: 100%|██████████| 282/282 [00:07<00:00, 36.67it/s]\n"
          ]
        },
        {
          "metadata": {
            "tags": null
          },
          "name": "stdout",
          "output_type": "stream",
          "text": [
            "validation loss: 0.0030983713898393842 at epoch 538\n",
            "learning_rate: 0.0010240000000000002\n"
          ]
        },
        {
          "metadata": {
            "tags": null
          },
          "name": "stderr",
          "output_type": "stream",
          "text": [
            "epoch 538: 100%|██████████| 282/282 [00:08<00:00, 33.78it/s]\n"
          ]
        },
        {
          "metadata": {
            "tags": null
          },
          "name": "stdout",
          "output_type": "stream",
          "text": [
            "validation loss: 0.0006014065283040206 at epoch 539\n",
            "learning_rate: 0.0010240000000000002\n"
          ]
        },
        {
          "metadata": {
            "tags": null
          },
          "name": "stderr",
          "output_type": "stream",
          "text": [
            "epoch 539: 100%|██████████| 282/282 [00:08<00:00, 33.73it/s]\n"
          ]
        },
        {
          "metadata": {
            "tags": null
          },
          "name": "stdout",
          "output_type": "stream",
          "text": [
            "validation loss: 0.002561632184518708 at epoch 540\n",
            "learning_rate: 0.0010240000000000002\n"
          ]
        },
        {
          "metadata": {
            "tags": null
          },
          "name": "stderr",
          "output_type": "stream",
          "text": [
            "epoch 540: 100%|██████████| 282/282 [00:07<00:00, 35.65it/s]\n"
          ]
        },
        {
          "metadata": {
            "tags": null
          },
          "name": "stdout",
          "output_type": "stream",
          "text": [
            "validation loss: 0.0017226932586895095 at epoch 541\n",
            "learning_rate: 0.0010240000000000002\n"
          ]
        },
        {
          "metadata": {
            "tags": null
          },
          "name": "stderr",
          "output_type": "stream",
          "text": [
            "epoch 541: 100%|██████████| 282/282 [00:07<00:00, 35.68it/s]\n"
          ]
        },
        {
          "metadata": {
            "tags": null
          },
          "name": "stdout",
          "output_type": "stream",
          "text": [
            "validation loss: 0.0027511172377400928 at epoch 542\n",
            "learning_rate: 0.0010240000000000002\n"
          ]
        },
        {
          "metadata": {
            "tags": null
          },
          "name": "stderr",
          "output_type": "stream",
          "text": [
            "epoch 542: 100%|██████████| 282/282 [00:08<00:00, 33.93it/s]\n"
          ]
        },
        {
          "metadata": {
            "tags": null
          },
          "name": "stdout",
          "output_type": "stream",
          "text": [
            "validation loss: 0.0006610376913514402 at epoch 543\n",
            "learning_rate: 0.0010240000000000002\n"
          ]
        },
        {
          "metadata": {
            "tags": null
          },
          "name": "stderr",
          "output_type": "stream",
          "text": [
            "epoch 543: 100%|██████████| 282/282 [00:08<00:00, 32.70it/s]\n"
          ]
        },
        {
          "metadata": {
            "tags": null
          },
          "name": "stdout",
          "output_type": "stream",
          "text": [
            "validation loss: 0.0013417797461152076 at epoch 544\n",
            "learning_rate: 0.0010240000000000002\n"
          ]
        },
        {
          "metadata": {
            "tags": null
          },
          "name": "stderr",
          "output_type": "stream",
          "text": [
            "epoch 544: 100%|██████████| 282/282 [00:07<00:00, 36.95it/s]\n"
          ]
        },
        {
          "metadata": {
            "tags": null
          },
          "name": "stdout",
          "output_type": "stream",
          "text": [
            "validation loss: 0.0015830389981468518 at epoch 545\n",
            "learning_rate: 0.0010240000000000002\n"
          ]
        },
        {
          "metadata": {
            "tags": null
          },
          "name": "stderr",
          "output_type": "stream",
          "text": [
            "epoch 545: 100%|██████████| 282/282 [00:08<00:00, 33.39it/s]\n"
          ]
        },
        {
          "metadata": {
            "tags": null
          },
          "name": "stdout",
          "output_type": "stream",
          "text": [
            "validation loss: 0.0008107496052980423 at epoch 546\n",
            "learning_rate: 0.0010240000000000002\n"
          ]
        },
        {
          "metadata": {
            "tags": null
          },
          "name": "stderr",
          "output_type": "stream",
          "text": [
            "epoch 546: 100%|██████████| 282/282 [00:08<00:00, 33.76it/s]\n"
          ]
        },
        {
          "metadata": {
            "tags": null
          },
          "name": "stdout",
          "output_type": "stream",
          "text": [
            "validation loss: 0.0006081497594714165 at epoch 547\n",
            "learning_rate: 0.0008192000000000002\n"
          ]
        },
        {
          "metadata": {
            "tags": null
          },
          "name": "stderr",
          "output_type": "stream",
          "text": [
            "epoch 547: 100%|██████████| 282/282 [00:07<00:00, 36.87it/s]\n"
          ]
        },
        {
          "metadata": {
            "tags": null
          },
          "name": "stdout",
          "output_type": "stream",
          "text": [
            "validation loss: 0.00043098617841800054 at epoch 548\n",
            "learning_rate: 0.0008192000000000002\n"
          ]
        },
        {
          "metadata": {
            "tags": null
          },
          "name": "stderr",
          "output_type": "stream",
          "text": [
            "epoch 548: 100%|██████████| 282/282 [00:08<00:00, 33.31it/s]\n"
          ]
        },
        {
          "metadata": {
            "tags": null
          },
          "name": "stdout",
          "output_type": "stream",
          "text": [
            "validation loss: 0.0019576313147942224 at epoch 549\n",
            "learning_rate: 0.0008192000000000002\n"
          ]
        },
        {
          "metadata": {
            "tags": null
          },
          "name": "stderr",
          "output_type": "stream",
          "text": [
            "epoch 549: 100%|██████████| 282/282 [00:08<00:00, 33.77it/s]\n"
          ]
        },
        {
          "metadata": {
            "tags": null
          },
          "name": "stdout",
          "output_type": "stream",
          "text": [
            "validation loss: 0.0011039160829451348 at epoch 550\n",
            "learning_rate: 0.0008192000000000002\n"
          ]
        },
        {
          "metadata": {
            "tags": null
          },
          "name": "stderr",
          "output_type": "stream",
          "text": [
            "epoch 550: 100%|██████████| 282/282 [00:07<00:00, 35.98it/s]\n"
          ]
        },
        {
          "metadata": {
            "tags": null
          },
          "name": "stdout",
          "output_type": "stream",
          "text": [
            "validation loss: 0.0017261170877350702 at epoch 551\n",
            "learning_rate: 0.0008192000000000002\n"
          ]
        },
        {
          "metadata": {
            "tags": null
          },
          "name": "stderr",
          "output_type": "stream",
          "text": [
            "epoch 551: 100%|██████████| 282/282 [00:08<00:00, 32.94it/s]\n"
          ]
        },
        {
          "metadata": {
            "tags": null
          },
          "name": "stdout",
          "output_type": "stream",
          "text": [
            "validation loss: 0.0012649144323335754 at epoch 552\n",
            "learning_rate: 0.0008192000000000002\n"
          ]
        },
        {
          "metadata": {
            "tags": null
          },
          "name": "stderr",
          "output_type": "stream",
          "text": [
            "epoch 552: 100%|██████████| 282/282 [00:08<00:00, 33.49it/s]\n"
          ]
        },
        {
          "metadata": {
            "tags": null
          },
          "name": "stdout",
          "output_type": "stream",
          "text": [
            "validation loss: 0.0016408184328012996 at epoch 553\n",
            "learning_rate: 0.0008192000000000002\n"
          ]
        },
        {
          "metadata": {
            "tags": null
          },
          "name": "stderr",
          "output_type": "stream",
          "text": [
            "epoch 553: 100%|██████████| 282/282 [00:07<00:00, 36.84it/s]\n"
          ]
        },
        {
          "metadata": {
            "tags": null
          },
          "name": "stdout",
          "output_type": "stream",
          "text": [
            "validation loss: 0.0010685023466746012 at epoch 554\n",
            "learning_rate: 0.0008192000000000002\n"
          ]
        },
        {
          "metadata": {
            "tags": null
          },
          "name": "stderr",
          "output_type": "stream",
          "text": [
            "epoch 554: 100%|██████████| 282/282 [00:08<00:00, 33.93it/s]\n"
          ]
        },
        {
          "metadata": {
            "tags": null
          },
          "name": "stdout",
          "output_type": "stream",
          "text": [
            "validation loss: 0.000449086451696025 at epoch 555\n",
            "learning_rate: 0.0008192000000000002\n"
          ]
        },
        {
          "metadata": {
            "tags": null
          },
          "name": "stderr",
          "output_type": "stream",
          "text": [
            "epoch 555: 100%|██████████| 282/282 [00:08<00:00, 33.24it/s]\n"
          ]
        },
        {
          "metadata": {
            "tags": null
          },
          "name": "stdout",
          "output_type": "stream",
          "text": [
            "validation loss: 0.0015890617329213355 at epoch 556\n",
            "learning_rate: 0.0008192000000000002\n"
          ]
        },
        {
          "metadata": {
            "tags": null
          },
          "name": "stderr",
          "output_type": "stream",
          "text": [
            "epoch 556: 100%|██████████| 282/282 [00:07<00:00, 36.30it/s]\n"
          ]
        },
        {
          "metadata": {
            "tags": null
          },
          "name": "stdout",
          "output_type": "stream",
          "text": [
            "validation loss: 0.0011169812546836006 at epoch 557\n",
            "learning_rate: 0.0008192000000000002\n"
          ]
        },
        {
          "metadata": {
            "tags": null
          },
          "name": "stderr",
          "output_type": "stream",
          "text": [
            "epoch 557: 100%|██████████| 282/282 [00:08<00:00, 33.78it/s]\n"
          ]
        },
        {
          "metadata": {
            "tags": null
          },
          "name": "stdout",
          "output_type": "stream",
          "text": [
            "validation loss: 0.0005968920178711414 at epoch 558\n",
            "learning_rate: 0.0008192000000000002\n"
          ]
        },
        {
          "metadata": {
            "tags": null
          },
          "name": "stderr",
          "output_type": "stream",
          "text": [
            "epoch 558: 100%|██████████| 282/282 [00:08<00:00, 33.12it/s]\n"
          ]
        },
        {
          "metadata": {
            "tags": null
          },
          "name": "stdout",
          "output_type": "stream",
          "text": [
            "validation loss: 0.0011476777187652057 at epoch 559\n",
            "learning_rate: 0.0008192000000000002\n"
          ]
        },
        {
          "metadata": {
            "tags": null
          },
          "name": "stderr",
          "output_type": "stream",
          "text": [
            "epoch 559: 100%|██████████| 282/282 [00:08<00:00, 33.83it/s]\n"
          ]
        },
        {
          "metadata": {
            "tags": null
          },
          "name": "stdout",
          "output_type": "stream",
          "text": [
            "validation loss: 0.0012639419560631117 at epoch 560\n",
            "learning_rate: 0.0008192000000000002\n"
          ]
        },
        {
          "metadata": {
            "tags": null
          },
          "name": "stderr",
          "output_type": "stream",
          "text": [
            "epoch 560: 100%|██████████| 282/282 [00:07<00:00, 37.13it/s]\n"
          ]
        },
        {
          "metadata": {
            "tags": null
          },
          "name": "stdout",
          "output_type": "stream",
          "text": [
            "validation loss: 0.0010650365841057565 at epoch 561\n",
            "learning_rate: 0.0008192000000000002\n"
          ]
        },
        {
          "metadata": {
            "tags": null
          },
          "name": "stderr",
          "output_type": "stream",
          "text": [
            "epoch 561: 100%|██████████| 282/282 [00:08<00:00, 33.03it/s]\n"
          ]
        },
        {
          "metadata": {
            "tags": null
          },
          "name": "stdout",
          "output_type": "stream",
          "text": [
            "validation loss: 0.0020381960885392297 at epoch 562\n",
            "learning_rate: 0.0008192000000000002\n"
          ]
        },
        {
          "metadata": {
            "tags": null
          },
          "name": "stderr",
          "output_type": "stream",
          "text": [
            "epoch 562: 100%|██████████| 282/282 [00:08<00:00, 32.96it/s]\n"
          ]
        },
        {
          "metadata": {
            "tags": null
          },
          "name": "stdout",
          "output_type": "stream",
          "text": [
            "validation loss: 0.0008010843131277297 at epoch 563\n",
            "learning_rate: 0.0008192000000000002\n"
          ]
        },
        {
          "metadata": {
            "tags": null
          },
          "name": "stderr",
          "output_type": "stream",
          "text": [
            "epoch 563: 100%|██████████| 282/282 [00:07<00:00, 36.52it/s]\n"
          ]
        },
        {
          "metadata": {
            "tags": null
          },
          "name": "stdout",
          "output_type": "stream",
          "text": [
            "validation loss: 0.0005923129017982218 at epoch 564\n",
            "learning_rate: 0.0008192000000000002\n"
          ]
        },
        {
          "metadata": {
            "tags": null
          },
          "name": "stderr",
          "output_type": "stream",
          "text": [
            "epoch 564: 100%|██████████| 282/282 [00:08<00:00, 32.72it/s]\n"
          ]
        },
        {
          "metadata": {
            "tags": null
          },
          "name": "stdout",
          "output_type": "stream",
          "text": [
            "validation loss: 0.0014589202975233396 at epoch 565\n",
            "learning_rate: 0.0008192000000000002\n"
          ]
        },
        {
          "metadata": {
            "tags": null
          },
          "name": "stderr",
          "output_type": "stream",
          "text": [
            "epoch 565: 100%|██████████| 282/282 [00:08<00:00, 33.38it/s]\n"
          ]
        },
        {
          "metadata": {
            "tags": null
          },
          "name": "stdout",
          "output_type": "stream",
          "text": [
            "validation loss: 0.00048250371341904006 at epoch 566\n",
            "learning_rate: 0.0008192000000000002\n"
          ]
        },
        {
          "metadata": {
            "tags": null
          },
          "name": "stderr",
          "output_type": "stream",
          "text": [
            "epoch 566: 100%|██████████| 282/282 [00:07<00:00, 36.83it/s]\n"
          ]
        },
        {
          "metadata": {
            "tags": null
          },
          "name": "stdout",
          "output_type": "stream",
          "text": [
            "validation loss: 0.0018280195444822312 at epoch 567\n",
            "learning_rate: 0.0008192000000000002\n"
          ]
        },
        {
          "metadata": {
            "tags": null
          },
          "name": "stderr",
          "output_type": "stream",
          "text": [
            "epoch 567: 100%|██████████| 282/282 [00:08<00:00, 33.35it/s]\n"
          ]
        },
        {
          "metadata": {
            "tags": null
          },
          "name": "stdout",
          "output_type": "stream",
          "text": [
            "validation loss: 0.0005800135905543963 at epoch 568\n",
            "learning_rate: 0.0008192000000000002\n"
          ]
        },
        {
          "metadata": {
            "tags": null
          },
          "name": "stderr",
          "output_type": "stream",
          "text": [
            "epoch 568: 100%|██████████| 282/282 [00:08<00:00, 33.71it/s]\n"
          ]
        },
        {
          "metadata": {
            "tags": null
          },
          "name": "stdout",
          "output_type": "stream",
          "text": [
            "validation loss: 0.0005848491328457992 at epoch 569\n",
            "learning_rate: 0.0008192000000000002\n"
          ]
        },
        {
          "metadata": {
            "tags": null
          },
          "name": "stderr",
          "output_type": "stream",
          "text": [
            "epoch 569: 100%|██████████| 282/282 [00:07<00:00, 36.32it/s]\n"
          ]
        },
        {
          "metadata": {
            "tags": null
          },
          "name": "stdout",
          "output_type": "stream",
          "text": [
            "validation loss: 0.0004657311613361041 at epoch 570\n",
            "learning_rate: 0.0008192000000000002\n"
          ]
        },
        {
          "metadata": {
            "tags": null
          },
          "name": "stderr",
          "output_type": "stream",
          "text": [
            "epoch 570: 100%|██████████| 282/282 [00:08<00:00, 34.04it/s]\n"
          ]
        },
        {
          "metadata": {
            "tags": null
          },
          "name": "stdout",
          "output_type": "stream",
          "text": [
            "validation loss: 0.0007786188200116157 at epoch 571\n",
            "learning_rate: 0.0008192000000000002\n"
          ]
        },
        {
          "metadata": {
            "tags": null
          },
          "name": "stderr",
          "output_type": "stream",
          "text": [
            "epoch 571: 100%|██████████| 282/282 [00:08<00:00, 32.64it/s]\n"
          ]
        },
        {
          "metadata": {
            "tags": null
          },
          "name": "stdout",
          "output_type": "stream",
          "text": [
            "validation loss: 0.0013837180932362875 at epoch 572\n",
            "learning_rate: 0.0008192000000000002\n"
          ]
        },
        {
          "metadata": {
            "tags": null
          },
          "name": "stderr",
          "output_type": "stream",
          "text": [
            "epoch 572: 100%|██████████| 282/282 [00:07<00:00, 35.62it/s]\n"
          ]
        },
        {
          "metadata": {
            "tags": null
          },
          "name": "stdout",
          "output_type": "stream",
          "text": [
            "validation loss: 0.0015816981121897697 at epoch 573\n",
            "learning_rate: 0.0008192000000000002\n"
          ]
        },
        {
          "metadata": {
            "tags": null
          },
          "name": "stderr",
          "output_type": "stream",
          "text": [
            "epoch 573: 100%|██████████| 282/282 [00:07<00:00, 35.97it/s]\n"
          ]
        },
        {
          "metadata": {
            "tags": null
          },
          "name": "stdout",
          "output_type": "stream",
          "text": [
            "validation loss: 0.0008164896638029152 at epoch 574\n",
            "learning_rate: 0.0008192000000000002\n"
          ]
        },
        {
          "metadata": {
            "tags": null
          },
          "name": "stderr",
          "output_type": "stream",
          "text": [
            "epoch 574: 100%|██████████| 282/282 [00:08<00:00, 33.68it/s]\n"
          ]
        },
        {
          "metadata": {
            "tags": null
          },
          "name": "stdout",
          "output_type": "stream",
          "text": [
            "validation loss: 0.0014368502497673036 at epoch 575\n",
            "learning_rate: 0.0008192000000000002\n"
          ]
        },
        {
          "metadata": {
            "tags": null
          },
          "name": "stderr",
          "output_type": "stream",
          "text": [
            "epoch 575: 100%|██████████| 282/282 [00:08<00:00, 33.42it/s]\n"
          ]
        },
        {
          "metadata": {
            "tags": null
          },
          "name": "stdout",
          "output_type": "stream",
          "text": [
            "validation loss: 0.0013662112462851737 at epoch 576\n",
            "learning_rate: 0.0008192000000000002\n"
          ]
        },
        {
          "metadata": {
            "tags": null
          },
          "name": "stderr",
          "output_type": "stream",
          "text": [
            "epoch 576: 100%|██████████| 282/282 [00:07<00:00, 36.92it/s]\n"
          ]
        },
        {
          "metadata": {
            "tags": null
          },
          "name": "stdout",
          "output_type": "stream",
          "text": [
            "validation loss: 0.0003776104263961315 at epoch 577\n",
            "learning_rate: 0.0008192000000000002\n",
            "model saved in ani_acrolein.pt\n"
          ]
        },
        {
          "metadata": {
            "tags": null
          },
          "name": "stderr",
          "output_type": "stream",
          "text": [
            "epoch 577: 100%|██████████| 282/282 [00:08<00:00, 32.70it/s]\n"
          ]
        },
        {
          "metadata": {
            "tags": null
          },
          "name": "stdout",
          "output_type": "stream",
          "text": [
            "validation loss: 0.0016920766284068424 at epoch 578\n",
            "learning_rate: 0.0008192000000000002\n"
          ]
        },
        {
          "metadata": {
            "tags": null
          },
          "name": "stderr",
          "output_type": "stream",
          "text": [
            "epoch 578: 100%|██████████| 282/282 [00:08<00:00, 32.38it/s]\n"
          ]
        },
        {
          "metadata": {
            "tags": null
          },
          "name": "stdout",
          "output_type": "stream",
          "text": [
            "validation loss: 0.0006806561466720369 at epoch 579\n",
            "learning_rate: 0.0008192000000000002\n"
          ]
        },
        {
          "metadata": {
            "tags": null
          },
          "name": "stderr",
          "output_type": "stream",
          "text": [
            "epoch 579: 100%|██████████| 282/282 [00:07<00:00, 36.00it/s]\n"
          ]
        },
        {
          "metadata": {
            "tags": null
          },
          "name": "stdout",
          "output_type": "stream",
          "text": [
            "validation loss: 0.0006518075097766187 at epoch 580\n",
            "learning_rate: 0.0008192000000000002\n"
          ]
        },
        {
          "metadata": {
            "tags": null
          },
          "name": "stderr",
          "output_type": "stream",
          "text": [
            "epoch 580: 100%|██████████| 282/282 [00:08<00:00, 32.17it/s]\n"
          ]
        },
        {
          "metadata": {
            "tags": null
          },
          "name": "stdout",
          "output_type": "stream",
          "text": [
            "validation loss: 0.0004916419028821919 at epoch 581\n",
            "learning_rate: 0.0008192000000000002\n"
          ]
        },
        {
          "metadata": {
            "tags": null
          },
          "name": "stderr",
          "output_type": "stream",
          "text": [
            "epoch 581: 100%|██████████| 282/282 [00:08<00:00, 32.78it/s]\n"
          ]
        },
        {
          "metadata": {
            "tags": null
          },
          "name": "stdout",
          "output_type": "stream",
          "text": [
            "validation loss: 0.0029801937838395435 at epoch 582\n",
            "learning_rate: 0.0008192000000000002\n"
          ]
        },
        {
          "metadata": {
            "tags": null
          },
          "name": "stderr",
          "output_type": "stream",
          "text": [
            "epoch 582: 100%|██████████| 282/282 [00:07<00:00, 36.90it/s]\n"
          ]
        },
        {
          "metadata": {
            "tags": null
          },
          "name": "stdout",
          "output_type": "stream",
          "text": [
            "validation loss: 0.00035847196872863503 at epoch 583\n",
            "learning_rate: 0.0008192000000000002\n",
            "model saved in ani_acrolein.pt\n"
          ]
        },
        {
          "metadata": {
            "tags": null
          },
          "name": "stderr",
          "output_type": "stream",
          "text": [
            "epoch 583: 100%|██████████| 282/282 [00:08<00:00, 33.37it/s]\n"
          ]
        },
        {
          "metadata": {
            "tags": null
          },
          "name": "stdout",
          "output_type": "stream",
          "text": [
            "validation loss: 0.0012283449959423808 at epoch 584\n",
            "learning_rate: 0.0008192000000000002\n"
          ]
        },
        {
          "metadata": {
            "tags": null
          },
          "name": "stderr",
          "output_type": "stream",
          "text": [
            "epoch 584: 100%|██████████| 282/282 [00:08<00:00, 32.15it/s]\n"
          ]
        },
        {
          "metadata": {
            "tags": null
          },
          "name": "stdout",
          "output_type": "stream",
          "text": [
            "validation loss: 0.001221173716088136 at epoch 585\n",
            "learning_rate: 0.0008192000000000002\n"
          ]
        },
        {
          "metadata": {
            "tags": null
          },
          "name": "stderr",
          "output_type": "stream",
          "text": [
            "epoch 585: 100%|██████████| 282/282 [00:07<00:00, 35.50it/s]\n"
          ]
        },
        {
          "metadata": {
            "tags": null
          },
          "name": "stdout",
          "output_type": "stream",
          "text": [
            "validation loss: 0.0003441598717537191 at epoch 586\n",
            "learning_rate: 0.0008192000000000002\n",
            "model saved in ani_acrolein.pt\n"
          ]
        },
        {
          "metadata": {
            "tags": null
          },
          "name": "stderr",
          "output_type": "stream",
          "text": [
            "epoch 586: 100%|██████████| 282/282 [00:08<00:00, 35.14it/s]\n"
          ]
        },
        {
          "metadata": {
            "tags": null
          },
          "name": "stdout",
          "output_type": "stream",
          "text": [
            "validation loss: 0.0006566192048291365 at epoch 587\n",
            "learning_rate: 0.0008192000000000002\n"
          ]
        },
        {
          "metadata": {
            "tags": null
          },
          "name": "stderr",
          "output_type": "stream",
          "text": [
            "epoch 587: 100%|██████████| 282/282 [00:08<00:00, 33.06it/s]\n"
          ]
        },
        {
          "metadata": {
            "tags": null
          },
          "name": "stdout",
          "output_type": "stream",
          "text": [
            "validation loss: 0.00043206275585624905 at epoch 588\n",
            "learning_rate: 0.0008192000000000002\n"
          ]
        },
        {
          "metadata": {
            "tags": null
          },
          "name": "stderr",
          "output_type": "stream",
          "text": [
            "epoch 588: 100%|██████████| 282/282 [00:08<00:00, 34.15it/s]\n"
          ]
        },
        {
          "metadata": {
            "tags": null
          },
          "name": "stdout",
          "output_type": "stream",
          "text": [
            "validation loss: 0.002167812176876598 at epoch 589\n",
            "learning_rate: 0.0008192000000000002\n"
          ]
        },
        {
          "metadata": {
            "tags": null
          },
          "name": "stderr",
          "output_type": "stream",
          "text": [
            "epoch 589: 100%|██████████| 282/282 [00:07<00:00, 36.93it/s]\n"
          ]
        },
        {
          "metadata": {
            "tags": null
          },
          "name": "stdout",
          "output_type": "stream",
          "text": [
            "validation loss: 0.001222348584069146 at epoch 590\n",
            "learning_rate: 0.0008192000000000002\n"
          ]
        },
        {
          "metadata": {
            "tags": null
          },
          "name": "stderr",
          "output_type": "stream",
          "text": [
            "epoch 590: 100%|██████████| 282/282 [00:08<00:00, 33.07it/s]\n"
          ]
        },
        {
          "metadata": {
            "tags": null
          },
          "name": "stdout",
          "output_type": "stream",
          "text": [
            "validation loss: 0.000787776917219162 at epoch 591\n",
            "learning_rate: 0.0008192000000000002\n"
          ]
        },
        {
          "metadata": {
            "tags": null
          },
          "name": "stderr",
          "output_type": "stream",
          "text": [
            "epoch 591: 100%|██████████| 282/282 [00:08<00:00, 32.33it/s]\n"
          ]
        },
        {
          "metadata": {
            "tags": null
          },
          "name": "stdout",
          "output_type": "stream",
          "text": [
            "validation loss: 0.0003236154657271173 at epoch 592\n",
            "learning_rate: 0.0008192000000000002\n",
            "model saved in ani_acrolein.pt\n"
          ]
        },
        {
          "metadata": {
            "tags": null
          },
          "name": "stderr",
          "output_type": "stream",
          "text": [
            "epoch 592: 100%|██████████| 282/282 [00:07<00:00, 36.45it/s]\n"
          ]
        },
        {
          "metadata": {
            "tags": null
          },
          "name": "stdout",
          "output_type": "stream",
          "text": [
            "validation loss: 0.0023676785694228277 at epoch 593\n",
            "learning_rate: 0.0008192000000000002\n"
          ]
        },
        {
          "metadata": {
            "tags": null
          },
          "name": "stderr",
          "output_type": "stream",
          "text": [
            "epoch 593: 100%|██████████| 282/282 [00:08<00:00, 33.22it/s]\n"
          ]
        },
        {
          "metadata": {
            "tags": null
          },
          "name": "stdout",
          "output_type": "stream",
          "text": [
            "validation loss: 0.002052271174059974 at epoch 594\n",
            "learning_rate: 0.0008192000000000002\n"
          ]
        },
        {
          "metadata": {
            "tags": null
          },
          "name": "stderr",
          "output_type": "stream",
          "text": [
            "epoch 594: 100%|██████████| 282/282 [00:08<00:00, 33.00it/s]\n"
          ]
        },
        {
          "metadata": {
            "tags": null
          },
          "name": "stdout",
          "output_type": "stream",
          "text": [
            "validation loss: 0.0008620778148372968 at epoch 595\n",
            "learning_rate: 0.0008192000000000002\n"
          ]
        },
        {
          "metadata": {
            "tags": null
          },
          "name": "stderr",
          "output_type": "stream",
          "text": [
            "epoch 595: 100%|██████████| 282/282 [00:07<00:00, 36.57it/s]\n"
          ]
        },
        {
          "metadata": {
            "tags": null
          },
          "name": "stdout",
          "output_type": "stream",
          "text": [
            "validation loss: 0.00036628866899344656 at epoch 596\n",
            "learning_rate: 0.0008192000000000002\n"
          ]
        },
        {
          "metadata": {
            "tags": null
          },
          "name": "stderr",
          "output_type": "stream",
          "text": [
            "epoch 596: 100%|██████████| 282/282 [00:08<00:00, 33.84it/s]\n"
          ]
        },
        {
          "metadata": {
            "tags": null
          },
          "name": "stdout",
          "output_type": "stream",
          "text": [
            "validation loss: 0.00038554368168115615 at epoch 597\n",
            "learning_rate: 0.0008192000000000002\n"
          ]
        },
        {
          "metadata": {
            "tags": null
          },
          "name": "stderr",
          "output_type": "stream",
          "text": [
            "epoch 597: 100%|██████████| 282/282 [00:08<00:00, 32.89it/s]\n"
          ]
        },
        {
          "metadata": {
            "tags": null
          },
          "name": "stdout",
          "output_type": "stream",
          "text": [
            "validation loss: 0.0007602748349308968 at epoch 598\n",
            "learning_rate: 0.0008192000000000002\n"
          ]
        },
        {
          "metadata": {
            "tags": null
          },
          "name": "stderr",
          "output_type": "stream",
          "text": [
            "epoch 598: 100%|██████████| 282/282 [00:08<00:00, 33.94it/s]\n"
          ]
        },
        {
          "metadata": {
            "tags": null
          },
          "name": "stdout",
          "output_type": "stream",
          "text": [
            "validation loss: 0.0006803841984106435 at epoch 599\n",
            "learning_rate: 0.0008192000000000002\n"
          ]
        },
        {
          "metadata": {
            "tags": null
          },
          "name": "stderr",
          "output_type": "stream",
          "text": [
            "epoch 599: 100%|██████████| 282/282 [00:07<00:00, 35.80it/s]\n"
          ]
        },
        {
          "metadata": {
            "tags": null
          },
          "name": "stdout",
          "output_type": "stream",
          "text": [
            "validation loss: 0.00044999520149495865 at epoch 600\n",
            "learning_rate: 0.0008192000000000002\n"
          ]
        },
        {
          "metadata": {
            "tags": null
          },
          "name": "stderr",
          "output_type": "stream",
          "text": [
            "epoch 600: 100%|██████████| 282/282 [00:08<00:00, 33.47it/s]\n"
          ]
        },
        {
          "metadata": {
            "tags": null
          },
          "name": "stdout",
          "output_type": "stream",
          "text": [
            "validation loss: 0.0005458267132441202 at epoch 601\n",
            "learning_rate: 0.0008192000000000002\n"
          ]
        },
        {
          "metadata": {
            "tags": null
          },
          "name": "stderr",
          "output_type": "stream",
          "text": [
            "epoch 601: 100%|██████████| 282/282 [00:08<00:00, 32.96it/s]\n"
          ]
        },
        {
          "metadata": {
            "tags": null
          },
          "name": "stdout",
          "output_type": "stream",
          "text": [
            "validation loss: 0.001831227660179138 at epoch 602\n",
            "learning_rate: 0.0008192000000000002\n"
          ]
        },
        {
          "metadata": {
            "tags": null
          },
          "name": "stderr",
          "output_type": "stream",
          "text": [
            "epoch 602: 100%|██████████| 282/282 [00:07<00:00, 36.71it/s]\n"
          ]
        },
        {
          "metadata": {
            "tags": null
          },
          "name": "stdout",
          "output_type": "stream",
          "text": [
            "validation loss: 0.0022569261540969212 at epoch 603\n",
            "learning_rate: 0.0008192000000000002\n"
          ]
        },
        {
          "metadata": {
            "tags": null
          },
          "name": "stderr",
          "output_type": "stream",
          "text": [
            "epoch 603: 100%|██████████| 282/282 [00:08<00:00, 33.09it/s]\n"
          ]
        },
        {
          "metadata": {
            "tags": null
          },
          "name": "stdout",
          "output_type": "stream",
          "text": [
            "validation loss: 0.001442062698304653 at epoch 604\n",
            "learning_rate: 0.0008192000000000002\n"
          ]
        },
        {
          "metadata": {
            "tags": null
          },
          "name": "stderr",
          "output_type": "stream",
          "text": [
            "epoch 604: 100%|██████████| 282/282 [00:08<00:00, 32.76it/s]\n"
          ]
        },
        {
          "metadata": {
            "tags": null
          },
          "name": "stdout",
          "output_type": "stream",
          "text": [
            "validation loss: 0.0006260292020936807 at epoch 605\n",
            "learning_rate: 0.0008192000000000002\n"
          ]
        },
        {
          "metadata": {
            "tags": null
          },
          "name": "stderr",
          "output_type": "stream",
          "text": [
            "epoch 605: 100%|██████████| 282/282 [00:07<00:00, 36.15it/s]\n"
          ]
        },
        {
          "metadata": {
            "tags": null
          },
          "name": "stdout",
          "output_type": "stream",
          "text": [
            "validation loss: 0.0008527357975641886 at epoch 606\n",
            "learning_rate: 0.0008192000000000002\n"
          ]
        },
        {
          "metadata": {
            "tags": null
          },
          "name": "stderr",
          "output_type": "stream",
          "text": [
            "epoch 606: 100%|██████████| 282/282 [00:08<00:00, 32.92it/s]\n"
          ]
        },
        {
          "metadata": {
            "tags": null
          },
          "name": "stdout",
          "output_type": "stream",
          "text": [
            "validation loss: 0.0007109802303214868 at epoch 607\n",
            "learning_rate: 0.0008192000000000002\n"
          ]
        },
        {
          "metadata": {
            "tags": null
          },
          "name": "stderr",
          "output_type": "stream",
          "text": [
            "epoch 607: 100%|██████████| 282/282 [00:08<00:00, 33.16it/s]\n"
          ]
        },
        {
          "metadata": {
            "tags": null
          },
          "name": "stdout",
          "output_type": "stream",
          "text": [
            "validation loss: 0.0012200927154885398 at epoch 608\n",
            "learning_rate: 0.0008192000000000002\n"
          ]
        },
        {
          "metadata": {
            "tags": null
          },
          "name": "stderr",
          "output_type": "stream",
          "text": [
            "epoch 608: 100%|██████████| 282/282 [00:07<00:00, 36.83it/s]\n"
          ]
        },
        {
          "metadata": {
            "tags": null
          },
          "name": "stdout",
          "output_type": "stream",
          "text": [
            "validation loss: 0.0013294816795322631 at epoch 609\n",
            "learning_rate: 0.0008192000000000002\n"
          ]
        },
        {
          "metadata": {
            "tags": null
          },
          "name": "stderr",
          "output_type": "stream",
          "text": [
            "epoch 609: 100%|██████████| 282/282 [00:08<00:00, 33.91it/s]\n"
          ]
        },
        {
          "metadata": {
            "tags": null
          },
          "name": "stdout",
          "output_type": "stream",
          "text": [
            "validation loss: 0.0006536898761987686 at epoch 610\n",
            "learning_rate: 0.0008192000000000002\n"
          ]
        },
        {
          "metadata": {
            "tags": null
          },
          "name": "stderr",
          "output_type": "stream",
          "text": [
            "epoch 610: 100%|██████████| 282/282 [00:08<00:00, 33.17it/s]\n"
          ]
        },
        {
          "metadata": {
            "tags": null
          },
          "name": "stdout",
          "output_type": "stream",
          "text": [
            "validation loss: 0.0011320972359842724 at epoch 611\n",
            "learning_rate: 0.0008192000000000002\n"
          ]
        },
        {
          "metadata": {
            "tags": null
          },
          "name": "stderr",
          "output_type": "stream",
          "text": [
            "epoch 611: 100%|██████████| 282/282 [00:08<00:00, 35.04it/s]\n"
          ]
        },
        {
          "metadata": {
            "tags": null
          },
          "name": "stdout",
          "output_type": "stream",
          "text": [
            "validation loss: 0.000689549265222417 at epoch 612\n",
            "learning_rate: 0.0008192000000000002\n"
          ]
        },
        {
          "metadata": {
            "tags": null
          },
          "name": "stderr",
          "output_type": "stream",
          "text": [
            "epoch 612: 100%|██████████| 282/282 [00:08<00:00, 35.16it/s]\n"
          ]
        },
        {
          "metadata": {
            "tags": null
          },
          "name": "stdout",
          "output_type": "stream",
          "text": [
            "validation loss: 0.0036316867470741272 at epoch 613\n",
            "learning_rate: 0.0008192000000000002\n"
          ]
        },
        {
          "metadata": {
            "tags": null
          },
          "name": "stderr",
          "output_type": "stream",
          "text": [
            "epoch 613: 100%|██████████| 282/282 [00:08<00:00, 33.36it/s]\n"
          ]
        },
        {
          "metadata": {
            "tags": null
          },
          "name": "stdout",
          "output_type": "stream",
          "text": [
            "validation loss: 0.0006815321971144941 at epoch 614\n",
            "learning_rate: 0.0008192000000000002\n"
          ]
        },
        {
          "metadata": {
            "tags": null
          },
          "name": "stderr",
          "output_type": "stream",
          "text": [
            "epoch 614: 100%|██████████| 282/282 [00:08<00:00, 34.11it/s]\n"
          ]
        },
        {
          "metadata": {
            "tags": null
          },
          "name": "stdout",
          "output_type": "stream",
          "text": [
            "validation loss: 0.0019469382183419333 at epoch 615\n",
            "learning_rate: 0.0008192000000000002\n"
          ]
        },
        {
          "metadata": {
            "tags": null
          },
          "name": "stderr",
          "output_type": "stream",
          "text": [
            "epoch 615: 100%|██████████| 282/282 [00:07<00:00, 36.83it/s]\n"
          ]
        },
        {
          "metadata": {
            "tags": null
          },
          "name": "stdout",
          "output_type": "stream",
          "text": [
            "validation loss: 0.0006068527085913553 at epoch 616\n",
            "learning_rate: 0.0008192000000000002\n"
          ]
        },
        {
          "metadata": {
            "tags": null
          },
          "name": "stderr",
          "output_type": "stream",
          "text": [
            "epoch 616: 100%|██████████| 282/282 [00:08<00:00, 32.92it/s]\n"
          ]
        },
        {
          "metadata": {
            "tags": null
          },
          "name": "stdout",
          "output_type": "stream",
          "text": [
            "validation loss: 0.0020316331386566163 at epoch 617\n",
            "learning_rate: 0.0008192000000000002\n"
          ]
        },
        {
          "metadata": {
            "tags": null
          },
          "name": "stderr",
          "output_type": "stream",
          "text": [
            "epoch 617: 100%|██████████| 282/282 [00:08<00:00, 33.12it/s]\n"
          ]
        },
        {
          "metadata": {
            "tags": null
          },
          "name": "stdout",
          "output_type": "stream",
          "text": [
            "validation loss: 0.0005740033549567064 at epoch 618\n",
            "learning_rate: 0.0008192000000000002\n"
          ]
        },
        {
          "metadata": {
            "tags": null
          },
          "name": "stderr",
          "output_type": "stream",
          "text": [
            "epoch 618: 100%|██████████| 282/282 [00:07<00:00, 35.63it/s]\n"
          ]
        },
        {
          "metadata": {
            "tags": null
          },
          "name": "stdout",
          "output_type": "stream",
          "text": [
            "validation loss: 0.00038286004877752727 at epoch 619\n",
            "learning_rate: 0.0008192000000000002\n"
          ]
        },
        {
          "metadata": {
            "tags": null
          },
          "name": "stderr",
          "output_type": "stream",
          "text": [
            "epoch 619: 100%|██████████| 282/282 [00:08<00:00, 33.29it/s]\n"
          ]
        },
        {
          "metadata": {
            "tags": null
          },
          "name": "stdout",
          "output_type": "stream",
          "text": [
            "validation loss: 0.0008145785232385 at epoch 620\n",
            "learning_rate: 0.0008192000000000002\n"
          ]
        },
        {
          "metadata": {
            "tags": null
          },
          "name": "stderr",
          "output_type": "stream",
          "text": [
            "epoch 620: 100%|██████████| 282/282 [00:08<00:00, 33.38it/s]\n"
          ]
        },
        {
          "metadata": {
            "tags": null
          },
          "name": "stdout",
          "output_type": "stream",
          "text": [
            "validation loss: 0.0014511864607532818 at epoch 621\n",
            "learning_rate: 0.0008192000000000002\n"
          ]
        },
        {
          "metadata": {
            "tags": null
          },
          "name": "stderr",
          "output_type": "stream",
          "text": [
            "epoch 621: 100%|██████████| 282/282 [00:07<00:00, 36.70it/s]\n"
          ]
        },
        {
          "metadata": {
            "tags": null
          },
          "name": "stdout",
          "output_type": "stream",
          "text": [
            "validation loss: 0.001040807550979985 at epoch 622\n",
            "learning_rate: 0.0008192000000000002\n"
          ]
        },
        {
          "metadata": {
            "tags": null
          },
          "name": "stderr",
          "output_type": "stream",
          "text": [
            "epoch 622: 100%|██████████| 282/282 [00:08<00:00, 33.41it/s]\n"
          ]
        },
        {
          "metadata": {
            "tags": null
          },
          "name": "stdout",
          "output_type": "stream",
          "text": [
            "validation loss: 0.0018511777338054444 at epoch 623\n",
            "learning_rate: 0.0008192000000000002\n"
          ]
        },
        {
          "metadata": {
            "tags": null
          },
          "name": "stderr",
          "output_type": "stream",
          "text": [
            "epoch 623: 100%|██████████| 282/282 [00:08<00:00, 32.91it/s]\n"
          ]
        },
        {
          "metadata": {
            "tags": null
          },
          "name": "stdout",
          "output_type": "stream",
          "text": [
            "validation loss: 0.00199883124894566 at epoch 624\n",
            "learning_rate: 0.0008192000000000002\n"
          ]
        },
        {
          "metadata": {
            "tags": null
          },
          "name": "stderr",
          "output_type": "stream",
          "text": [
            "epoch 624: 100%|██████████| 282/282 [00:07<00:00, 36.16it/s]\n"
          ]
        },
        {
          "metadata": {
            "tags": null
          },
          "name": "stdout",
          "output_type": "stream",
          "text": [
            "validation loss: 0.0016028801161381933 at epoch 625\n",
            "learning_rate: 0.0008192000000000002\n"
          ]
        },
        {
          "metadata": {
            "tags": null
          },
          "name": "stderr",
          "output_type": "stream",
          "text": [
            "epoch 625: 100%|██████████| 282/282 [00:08<00:00, 32.88it/s]\n"
          ]
        },
        {
          "metadata": {
            "tags": null
          },
          "name": "stdout",
          "output_type": "stream",
          "text": [
            "validation loss: 0.0005038645238512092 at epoch 626\n",
            "learning_rate: 0.0008192000000000002\n"
          ]
        },
        {
          "metadata": {
            "tags": null
          },
          "name": "stderr",
          "output_type": "stream",
          "text": [
            "epoch 626: 100%|██████████| 282/282 [00:08<00:00, 32.49it/s]\n"
          ]
        },
        {
          "metadata": {
            "tags": null
          },
          "name": "stdout",
          "output_type": "stream",
          "text": [
            "validation loss: 0.001462846224506696 at epoch 627\n",
            "learning_rate: 0.0008192000000000002\n"
          ]
        },
        {
          "metadata": {
            "tags": null
          },
          "name": "stderr",
          "output_type": "stream",
          "text": [
            "epoch 627: 100%|██████████| 282/282 [00:08<00:00, 34.72it/s]\n"
          ]
        },
        {
          "metadata": {
            "tags": null
          },
          "name": "stdout",
          "output_type": "stream",
          "text": [
            "validation loss: 0.0005166322965588834 at epoch 628\n",
            "learning_rate: 0.0008192000000000002\n"
          ]
        },
        {
          "metadata": {
            "tags": null
          },
          "name": "stderr",
          "output_type": "stream",
          "text": [
            "epoch 628: 100%|██████████| 282/282 [00:07<00:00, 36.53it/s]\n"
          ]
        },
        {
          "metadata": {
            "tags": null
          },
          "name": "stdout",
          "output_type": "stream",
          "text": [
            "validation loss: 0.0014684065249231126 at epoch 629\n",
            "learning_rate: 0.0008192000000000002\n"
          ]
        },
        {
          "metadata": {
            "tags": null
          },
          "name": "stderr",
          "output_type": "stream",
          "text": [
            "epoch 629: 100%|██████████| 282/282 [00:08<00:00, 32.93it/s]\n"
          ]
        },
        {
          "metadata": {
            "tags": null
          },
          "name": "stdout",
          "output_type": "stream",
          "text": [
            "validation loss: 0.001282036803662777 at epoch 630\n",
            "learning_rate: 0.0008192000000000002\n"
          ]
        },
        {
          "metadata": {
            "tags": null
          },
          "name": "stderr",
          "output_type": "stream",
          "text": [
            "epoch 630: 100%|██████████| 282/282 [00:08<00:00, 33.33it/s]\n"
          ]
        },
        {
          "metadata": {
            "tags": null
          },
          "name": "stdout",
          "output_type": "stream",
          "text": [
            "validation loss: 0.0003411285349478324 at epoch 631\n",
            "learning_rate: 0.0008192000000000002\n"
          ]
        },
        {
          "metadata": {
            "tags": null
          },
          "name": "stderr",
          "output_type": "stream",
          "text": [
            "epoch 631: 100%|██████████| 282/282 [00:07<00:00, 36.64it/s]\n"
          ]
        },
        {
          "metadata": {
            "tags": null
          },
          "name": "stdout",
          "output_type": "stream",
          "text": [
            "validation loss: 0.00122467459903823 at epoch 632\n",
            "learning_rate: 0.0008192000000000002\n"
          ]
        },
        {
          "metadata": {
            "tags": null
          },
          "name": "stderr",
          "output_type": "stream",
          "text": [
            "epoch 632: 100%|██████████| 282/282 [00:08<00:00, 31.86it/s]\n"
          ]
        },
        {
          "metadata": {
            "tags": null
          },
          "name": "stdout",
          "output_type": "stream",
          "text": [
            "validation loss: 0.0007085523336297936 at epoch 633\n",
            "learning_rate: 0.0008192000000000002\n"
          ]
        },
        {
          "metadata": {
            "tags": null
          },
          "name": "stderr",
          "output_type": "stream",
          "text": [
            "epoch 633: 100%|██████████| 282/282 [00:08<00:00, 33.37it/s]\n"
          ]
        },
        {
          "metadata": {
            "tags": null
          },
          "name": "stdout",
          "output_type": "stream",
          "text": [
            "validation loss: 0.001499605781502194 at epoch 634\n",
            "learning_rate: 0.0008192000000000002\n"
          ]
        },
        {
          "metadata": {
            "tags": null
          },
          "name": "stderr",
          "output_type": "stream",
          "text": [
            "epoch 634: 100%|██████████| 282/282 [00:07<00:00, 36.67it/s]\n"
          ]
        },
        {
          "metadata": {
            "tags": null
          },
          "name": "stdout",
          "output_type": "stream",
          "text": [
            "validation loss: 0.0020111423283815386 at epoch 635\n",
            "learning_rate: 0.0008192000000000002\n"
          ]
        },
        {
          "metadata": {
            "tags": null
          },
          "name": "stderr",
          "output_type": "stream",
          "text": [
            "epoch 635: 100%|██████████| 282/282 [00:08<00:00, 33.31it/s]\n"
          ]
        },
        {
          "metadata": {
            "tags": null
          },
          "name": "stdout",
          "output_type": "stream",
          "text": [
            "validation loss: 0.001525768748588032 at epoch 636\n",
            "learning_rate: 0.0008192000000000002\n"
          ]
        },
        {
          "metadata": {
            "tags": null
          },
          "name": "stderr",
          "output_type": "stream",
          "text": [
            "epoch 636: 100%|██████████| 282/282 [00:08<00:00, 33.01it/s]\n"
          ]
        },
        {
          "metadata": {
            "tags": null
          },
          "name": "stdout",
          "output_type": "stream",
          "text": [
            "validation loss: 0.00035134568106797006 at epoch 637\n",
            "learning_rate: 0.0008192000000000002\n"
          ]
        },
        {
          "metadata": {
            "tags": null
          },
          "name": "stderr",
          "output_type": "stream",
          "text": [
            "epoch 637: 100%|██████████| 282/282 [00:07<00:00, 35.45it/s]\n"
          ]
        },
        {
          "metadata": {
            "tags": null
          },
          "name": "stdout",
          "output_type": "stream",
          "text": [
            "validation loss: 0.0031287354313664965 at epoch 638\n",
            "learning_rate: 0.0008192000000000002\n"
          ]
        },
        {
          "metadata": {
            "tags": null
          },
          "name": "stderr",
          "output_type": "stream",
          "text": [
            "epoch 638: 100%|██████████| 282/282 [00:08<00:00, 35.10it/s]\n"
          ]
        },
        {
          "metadata": {
            "tags": null
          },
          "name": "stdout",
          "output_type": "stream",
          "text": [
            "validation loss: 0.000777089524600241 at epoch 639\n",
            "learning_rate: 0.0008192000000000002\n"
          ]
        },
        {
          "metadata": {
            "tags": null
          },
          "name": "stderr",
          "output_type": "stream",
          "text": [
            "epoch 639: 100%|██████████| 282/282 [00:08<00:00, 32.24it/s]\n"
          ]
        },
        {
          "metadata": {
            "tags": null
          },
          "name": "stdout",
          "output_type": "stream",
          "text": [
            "validation loss: 0.0017444327680601014 at epoch 640\n",
            "learning_rate: 0.0008192000000000002\n"
          ]
        },
        {
          "metadata": {
            "tags": null
          },
          "name": "stderr",
          "output_type": "stream",
          "text": [
            "epoch 640: 100%|██████████| 282/282 [00:08<00:00, 33.99it/s]\n"
          ]
        },
        {
          "metadata": {
            "tags": null
          },
          "name": "stdout",
          "output_type": "stream",
          "text": [
            "validation loss: 0.0021718993700212902 at epoch 641\n",
            "learning_rate: 0.0008192000000000002\n"
          ]
        },
        {
          "metadata": {
            "tags": null
          },
          "name": "stderr",
          "output_type": "stream",
          "text": [
            "epoch 641: 100%|██████████| 282/282 [00:07<00:00, 36.42it/s]\n"
          ]
        },
        {
          "metadata": {
            "tags": null
          },
          "name": "stdout",
          "output_type": "stream",
          "text": [
            "validation loss: 0.0022294397354125977 at epoch 642\n",
            "learning_rate: 0.0008192000000000002\n"
          ]
        },
        {
          "metadata": {
            "tags": null
          },
          "name": "stderr",
          "output_type": "stream",
          "text": [
            "epoch 642: 100%|██████████| 282/282 [00:08<00:00, 33.30it/s]\n"
          ]
        },
        {
          "metadata": {
            "tags": null
          },
          "name": "stdout",
          "output_type": "stream",
          "text": [
            "validation loss: 0.0004940940377612909 at epoch 643\n",
            "learning_rate: 0.0008192000000000002\n"
          ]
        },
        {
          "metadata": {
            "tags": null
          },
          "name": "stderr",
          "output_type": "stream",
          "text": [
            "epoch 643: 100%|██████████| 282/282 [00:08<00:00, 33.12it/s]\n"
          ]
        },
        {
          "metadata": {
            "tags": null
          },
          "name": "stdout",
          "output_type": "stream",
          "text": [
            "validation loss: 0.0007555267864631282 at epoch 644\n",
            "learning_rate: 0.0006553600000000002\n"
          ]
        },
        {
          "metadata": {
            "tags": null
          },
          "name": "stderr",
          "output_type": "stream",
          "text": [
            "epoch 644: 100%|██████████| 282/282 [00:07<00:00, 36.57it/s]\n"
          ]
        },
        {
          "metadata": {
            "tags": null
          },
          "name": "stdout",
          "output_type": "stream",
          "text": [
            "validation loss: 0.0006428259275853634 at epoch 645\n",
            "learning_rate: 0.0006553600000000002\n"
          ]
        },
        {
          "metadata": {
            "tags": null
          },
          "name": "stderr",
          "output_type": "stream",
          "text": [
            "epoch 645: 100%|██████████| 282/282 [00:08<00:00, 31.88it/s]\n"
          ]
        },
        {
          "metadata": {
            "tags": null
          },
          "name": "stdout",
          "output_type": "stream",
          "text": [
            "validation loss: 0.0003845359074572722 at epoch 646\n",
            "learning_rate: 0.0006553600000000002\n"
          ]
        },
        {
          "metadata": {
            "tags": null
          },
          "name": "stderr",
          "output_type": "stream",
          "text": [
            "epoch 646: 100%|██████████| 282/282 [00:08<00:00, 33.39it/s]\n"
          ]
        },
        {
          "metadata": {
            "tags": null
          },
          "name": "stdout",
          "output_type": "stream",
          "text": [
            "validation loss: 0.0005911338432795472 at epoch 647\n",
            "learning_rate: 0.0006553600000000002\n"
          ]
        },
        {
          "metadata": {
            "tags": null
          },
          "name": "stderr",
          "output_type": "stream",
          "text": [
            "epoch 647: 100%|██████████| 282/282 [00:07<00:00, 36.70it/s]\n"
          ]
        },
        {
          "metadata": {
            "tags": null
          },
          "name": "stdout",
          "output_type": "stream",
          "text": [
            "validation loss: 0.0010305767423576778 at epoch 648\n",
            "learning_rate: 0.0006553600000000002\n"
          ]
        },
        {
          "metadata": {
            "tags": null
          },
          "name": "stderr",
          "output_type": "stream",
          "text": [
            "epoch 648: 100%|██████████| 282/282 [00:08<00:00, 33.89it/s]\n"
          ]
        },
        {
          "metadata": {
            "tags": null
          },
          "name": "stdout",
          "output_type": "stream",
          "text": [
            "validation loss: 0.0012028749403026368 at epoch 649\n",
            "learning_rate: 0.0006553600000000002\n"
          ]
        },
        {
          "metadata": {
            "tags": null
          },
          "name": "stderr",
          "output_type": "stream",
          "text": [
            "epoch 649: 100%|██████████| 282/282 [00:08<00:00, 33.11it/s]\n"
          ]
        },
        {
          "metadata": {
            "tags": null
          },
          "name": "stdout",
          "output_type": "stream",
          "text": [
            "validation loss: 0.0004904023421307404 at epoch 650\n",
            "learning_rate: 0.0006553600000000002\n"
          ]
        },
        {
          "metadata": {
            "tags": null
          },
          "name": "stderr",
          "output_type": "stream",
          "text": [
            "epoch 650: 100%|██████████| 282/282 [00:07<00:00, 36.13it/s]\n"
          ]
        },
        {
          "metadata": {
            "tags": null
          },
          "name": "stdout",
          "output_type": "stream",
          "text": [
            "validation loss: 0.0011177991752823193 at epoch 651\n",
            "learning_rate: 0.0006553600000000002\n"
          ]
        },
        {
          "metadata": {
            "tags": null
          },
          "name": "stderr",
          "output_type": "stream",
          "text": [
            "epoch 651: 100%|██████████| 282/282 [00:08<00:00, 34.51it/s]\n"
          ]
        },
        {
          "metadata": {
            "tags": null
          },
          "name": "stdout",
          "output_type": "stream",
          "text": [
            "validation loss: 0.0008658507946464751 at epoch 652\n",
            "learning_rate: 0.0006553600000000002\n"
          ]
        },
        {
          "metadata": {
            "tags": null
          },
          "name": "stderr",
          "output_type": "stream",
          "text": [
            "epoch 652: 100%|██████████| 282/282 [00:08<00:00, 32.71it/s]\n"
          ]
        },
        {
          "metadata": {
            "tags": null
          },
          "name": "stdout",
          "output_type": "stream",
          "text": [
            "validation loss: 0.001123606367243661 at epoch 653\n",
            "learning_rate: 0.0006553600000000002\n"
          ]
        },
        {
          "metadata": {
            "tags": null
          },
          "name": "stderr",
          "output_type": "stream",
          "text": [
            "epoch 653: 100%|██████████| 282/282 [00:08<00:00, 34.13it/s]\n"
          ]
        },
        {
          "metadata": {
            "tags": null
          },
          "name": "stdout",
          "output_type": "stream",
          "text": [
            "validation loss: 0.0016039165688885584 at epoch 654\n",
            "learning_rate: 0.0006553600000000002\n"
          ]
        },
        {
          "metadata": {
            "tags": null
          },
          "name": "stderr",
          "output_type": "stream",
          "text": [
            "epoch 654: 100%|██████████| 282/282 [00:07<00:00, 36.76it/s]\n"
          ]
        },
        {
          "metadata": {
            "tags": null
          },
          "name": "stdout",
          "output_type": "stream",
          "text": [
            "validation loss: 0.002781987413764 at epoch 655\n",
            "learning_rate: 0.0006553600000000002\n"
          ]
        },
        {
          "metadata": {
            "tags": null
          },
          "name": "stderr",
          "output_type": "stream",
          "text": [
            "epoch 655: 100%|██████████| 282/282 [00:08<00:00, 33.18it/s]\n"
          ]
        },
        {
          "metadata": {
            "tags": null
          },
          "name": "stdout",
          "output_type": "stream",
          "text": [
            "validation loss: 0.0010139855063623852 at epoch 656\n",
            "learning_rate: 0.0006553600000000002\n"
          ]
        },
        {
          "metadata": {
            "tags": null
          },
          "name": "stderr",
          "output_type": "stream",
          "text": [
            "epoch 656: 100%|██████████| 282/282 [00:08<00:00, 33.53it/s]\n"
          ]
        },
        {
          "metadata": {
            "tags": null
          },
          "name": "stdout",
          "output_type": "stream",
          "text": [
            "validation loss: 0.0020127153793970745 at epoch 657\n",
            "learning_rate: 0.0006553600000000002\n"
          ]
        },
        {
          "metadata": {
            "tags": null
          },
          "name": "stderr",
          "output_type": "stream",
          "text": [
            "epoch 657: 100%|██████████| 282/282 [00:07<00:00, 36.68it/s]\n"
          ]
        },
        {
          "metadata": {
            "tags": null
          },
          "name": "stdout",
          "output_type": "stream",
          "text": [
            "validation loss: 0.002130265724327829 at epoch 658\n",
            "learning_rate: 0.0006553600000000002\n"
          ]
        },
        {
          "metadata": {
            "tags": null
          },
          "name": "stderr",
          "output_type": "stream",
          "text": [
            "epoch 658: 100%|██████████| 282/282 [00:08<00:00, 33.39it/s]\n"
          ]
        },
        {
          "metadata": {
            "tags": null
          },
          "name": "stdout",
          "output_type": "stream",
          "text": [
            "validation loss: 0.001818793515364329 at epoch 659\n",
            "learning_rate: 0.0006553600000000002\n"
          ]
        },
        {
          "metadata": {
            "tags": null
          },
          "name": "stderr",
          "output_type": "stream",
          "text": [
            "epoch 659: 100%|██████████| 282/282 [00:08<00:00, 32.68it/s]\n"
          ]
        },
        {
          "metadata": {
            "tags": null
          },
          "name": "stdout",
          "output_type": "stream",
          "text": [
            "validation loss: 0.0008393465139799647 at epoch 660\n",
            "learning_rate: 0.0006553600000000002\n"
          ]
        },
        {
          "metadata": {
            "tags": null
          },
          "name": "stderr",
          "output_type": "stream",
          "text": [
            "epoch 660: 100%|██████████| 282/282 [00:07<00:00, 36.57it/s]\n"
          ]
        },
        {
          "metadata": {
            "tags": null
          },
          "name": "stdout",
          "output_type": "stream",
          "text": [
            "validation loss: 0.0009816127783722347 at epoch 661\n",
            "learning_rate: 0.0006553600000000002\n"
          ]
        },
        {
          "metadata": {
            "tags": null
          },
          "name": "stderr",
          "output_type": "stream",
          "text": [
            "epoch 661: 100%|██████████| 282/282 [00:08<00:00, 32.92it/s]\n"
          ]
        },
        {
          "metadata": {
            "tags": null
          },
          "name": "stdout",
          "output_type": "stream",
          "text": [
            "validation loss: 0.0029207676665650474 at epoch 662\n",
            "learning_rate: 0.0006553600000000002\n"
          ]
        },
        {
          "metadata": {
            "tags": null
          },
          "name": "stderr",
          "output_type": "stream",
          "text": [
            "epoch 662: 100%|██████████| 282/282 [00:08<00:00, 33.17it/s]\n"
          ]
        },
        {
          "metadata": {
            "tags": null
          },
          "name": "stdout",
          "output_type": "stream",
          "text": [
            "validation loss: 0.0006714228466153145 at epoch 663\n",
            "learning_rate: 0.0006553600000000002\n"
          ]
        },
        {
          "metadata": {
            "tags": null
          },
          "name": "stderr",
          "output_type": "stream",
          "text": [
            "epoch 663: 100%|██████████| 282/282 [00:07<00:00, 36.54it/s]\n"
          ]
        },
        {
          "metadata": {
            "tags": null
          },
          "name": "stdout",
          "output_type": "stream",
          "text": [
            "validation loss: 0.0011312679242756632 at epoch 664\n",
            "learning_rate: 0.0006553600000000002\n"
          ]
        },
        {
          "metadata": {
            "tags": null
          },
          "name": "stderr",
          "output_type": "stream",
          "text": [
            "epoch 664: 100%|██████████| 282/282 [00:08<00:00, 34.32it/s]\n"
          ]
        },
        {
          "metadata": {
            "tags": null
          },
          "name": "stdout",
          "output_type": "stream",
          "text": [
            "validation loss: 0.0007618178228537242 at epoch 665\n",
            "learning_rate: 0.0006553600000000002\n"
          ]
        },
        {
          "metadata": {
            "tags": null
          },
          "name": "stderr",
          "output_type": "stream",
          "text": [
            "epoch 665: 100%|██████████| 282/282 [00:08<00:00, 33.12it/s]\n"
          ]
        },
        {
          "metadata": {
            "tags": null
          },
          "name": "stdout",
          "output_type": "stream",
          "text": [
            "validation loss: 0.0003057931154552433 at epoch 666\n",
            "learning_rate: 0.0006553600000000002\n",
            "model saved in ani_acrolein.pt\n"
          ]
        },
        {
          "metadata": {
            "tags": null
          },
          "name": "stderr",
          "output_type": "stream",
          "text": [
            "epoch 666: 100%|██████████| 282/282 [00:08<00:00, 34.57it/s]\n"
          ]
        },
        {
          "metadata": {
            "tags": null
          },
          "name": "stdout",
          "output_type": "stream",
          "text": [
            "validation loss: 0.0011740965081585778 at epoch 667\n",
            "learning_rate: 0.0006553600000000002\n"
          ]
        },
        {
          "metadata": {
            "tags": null
          },
          "name": "stderr",
          "output_type": "stream",
          "text": [
            "epoch 667: 100%|██████████| 282/282 [00:08<00:00, 35.06it/s]\n"
          ]
        },
        {
          "metadata": {
            "tags": null
          },
          "name": "stdout",
          "output_type": "stream",
          "text": [
            "validation loss: 0.0008615901122490565 at epoch 668\n",
            "learning_rate: 0.0006553600000000002\n"
          ]
        },
        {
          "metadata": {
            "tags": null
          },
          "name": "stderr",
          "output_type": "stream",
          "text": [
            "epoch 668: 100%|██████████| 282/282 [00:08<00:00, 32.85it/s]\n"
          ]
        },
        {
          "metadata": {
            "tags": null
          },
          "name": "stdout",
          "output_type": "stream",
          "text": [
            "validation loss: 0.0013706057171026865 at epoch 669\n",
            "learning_rate: 0.0006553600000000002\n"
          ]
        },
        {
          "metadata": {
            "tags": null
          },
          "name": "stderr",
          "output_type": "stream",
          "text": [
            "epoch 669: 100%|██████████| 282/282 [00:08<00:00, 33.79it/s]\n"
          ]
        },
        {
          "metadata": {
            "tags": null
          },
          "name": "stdout",
          "output_type": "stream",
          "text": [
            "validation loss: 0.0016480032727122307 at epoch 670\n",
            "learning_rate: 0.0006553600000000002\n"
          ]
        },
        {
          "metadata": {
            "tags": null
          },
          "name": "stderr",
          "output_type": "stream",
          "text": [
            "epoch 670: 100%|██████████| 282/282 [00:07<00:00, 36.63it/s]\n"
          ]
        },
        {
          "metadata": {
            "tags": null
          },
          "name": "stdout",
          "output_type": "stream",
          "text": [
            "validation loss: 0.0008065408128831122 at epoch 671\n",
            "learning_rate: 0.0006553600000000002\n"
          ]
        },
        {
          "metadata": {
            "tags": null
          },
          "name": "stderr",
          "output_type": "stream",
          "text": [
            "epoch 671: 100%|██████████| 282/282 [00:08<00:00, 33.29it/s]\n"
          ]
        },
        {
          "metadata": {
            "tags": null
          },
          "name": "stdout",
          "output_type": "stream",
          "text": [
            "validation loss: 0.0013523936486906475 at epoch 672\n",
            "learning_rate: 0.0006553600000000002\n"
          ]
        },
        {
          "metadata": {
            "tags": null
          },
          "name": "stderr",
          "output_type": "stream",
          "text": [
            "epoch 672: 100%|██████████| 282/282 [00:08<00:00, 33.07it/s]\n"
          ]
        },
        {
          "metadata": {
            "tags": null
          },
          "name": "stdout",
          "output_type": "stream",
          "text": [
            "validation loss: 0.0009123479020264414 at epoch 673\n",
            "learning_rate: 0.0006553600000000002\n"
          ]
        },
        {
          "metadata": {
            "tags": null
          },
          "name": "stderr",
          "output_type": "stream",
          "text": [
            "epoch 673: 100%|██████████| 282/282 [00:07<00:00, 36.26it/s]\n"
          ]
        },
        {
          "metadata": {
            "tags": null
          },
          "name": "stdout",
          "output_type": "stream",
          "text": [
            "validation loss: 0.0028525302824046876 at epoch 674\n",
            "learning_rate: 0.0006553600000000002\n"
          ]
        },
        {
          "metadata": {
            "tags": null
          },
          "name": "stderr",
          "output_type": "stream",
          "text": [
            "epoch 674: 100%|██████████| 282/282 [00:08<00:00, 33.16it/s]\n"
          ]
        },
        {
          "metadata": {
            "tags": null
          },
          "name": "stdout",
          "output_type": "stream",
          "text": [
            "validation loss: 0.0018083606561024985 at epoch 675\n",
            "learning_rate: 0.0006553600000000002\n"
          ]
        },
        {
          "metadata": {
            "tags": null
          },
          "name": "stderr",
          "output_type": "stream",
          "text": [
            "epoch 675: 100%|██████████| 282/282 [00:08<00:00, 33.21it/s]\n"
          ]
        },
        {
          "metadata": {
            "tags": null
          },
          "name": "stdout",
          "output_type": "stream",
          "text": [
            "validation loss: 0.00034366120418740645 at epoch 676\n",
            "learning_rate: 0.0006553600000000002\n"
          ]
        },
        {
          "metadata": {
            "tags": null
          },
          "name": "stderr",
          "output_type": "stream",
          "text": [
            "epoch 676: 100%|██████████| 282/282 [00:07<00:00, 36.83it/s]\n"
          ]
        },
        {
          "metadata": {
            "tags": null
          },
          "name": "stdout",
          "output_type": "stream",
          "text": [
            "validation loss: 0.0004313421853714519 at epoch 677\n",
            "learning_rate: 0.0006553600000000002\n"
          ]
        },
        {
          "metadata": {
            "tags": null
          },
          "name": "stderr",
          "output_type": "stream",
          "text": [
            "epoch 677: 100%|██████████| 282/282 [00:08<00:00, 33.64it/s]\n"
          ]
        },
        {
          "metadata": {
            "tags": null
          },
          "name": "stdout",
          "output_type": "stream",
          "text": [
            "validation loss: 0.0008531837811072667 at epoch 678\n",
            "learning_rate: 0.0006553600000000002\n"
          ]
        },
        {
          "metadata": {
            "tags": null
          },
          "name": "stderr",
          "output_type": "stream",
          "text": [
            "epoch 678: 100%|██████████| 282/282 [00:08<00:00, 33.66it/s]\n"
          ]
        },
        {
          "metadata": {
            "tags": null
          },
          "name": "stdout",
          "output_type": "stream",
          "text": [
            "validation loss: 0.0017046358875102466 at epoch 679\n",
            "learning_rate: 0.0006553600000000002\n"
          ]
        },
        {
          "metadata": {
            "tags": null
          },
          "name": "stderr",
          "output_type": "stream",
          "text": [
            "epoch 679: 100%|██████████| 282/282 [00:07<00:00, 35.28it/s]\n"
          ]
        },
        {
          "metadata": {
            "tags": null
          },
          "name": "stdout",
          "output_type": "stream",
          "text": [
            "validation loss: 0.0010859624337818887 at epoch 680\n",
            "learning_rate: 0.0006553600000000002\n"
          ]
        },
        {
          "metadata": {
            "tags": null
          },
          "name": "stderr",
          "output_type": "stream",
          "text": [
            "epoch 680: 100%|██████████| 282/282 [00:08<00:00, 35.12it/s]\n"
          ]
        },
        {
          "metadata": {
            "tags": null
          },
          "name": "stdout",
          "output_type": "stream",
          "text": [
            "validation loss: 0.0020111436032586626 at epoch 681\n",
            "learning_rate: 0.0006553600000000002\n"
          ]
        },
        {
          "metadata": {
            "tags": null
          },
          "name": "stderr",
          "output_type": "stream",
          "text": [
            "epoch 681: 100%|██████████| 282/282 [00:08<00:00, 33.09it/s]\n"
          ]
        },
        {
          "metadata": {
            "tags": null
          },
          "name": "stdout",
          "output_type": "stream",
          "text": [
            "validation loss: 0.001697952931953801 at epoch 682\n",
            "learning_rate: 0.0006553600000000002\n"
          ]
        },
        {
          "metadata": {
            "tags": null
          },
          "name": "stderr",
          "output_type": "stream",
          "text": [
            "epoch 682: 100%|██████████| 282/282 [00:08<00:00, 34.72it/s]\n"
          ]
        },
        {
          "metadata": {
            "tags": null
          },
          "name": "stdout",
          "output_type": "stream",
          "text": [
            "validation loss: 0.000616403768873877 at epoch 683\n",
            "learning_rate: 0.0006553600000000002\n"
          ]
        },
        {
          "metadata": {
            "tags": null
          },
          "name": "stderr",
          "output_type": "stream",
          "text": [
            "epoch 683: 100%|██████████| 282/282 [00:07<00:00, 36.89it/s]\n"
          ]
        },
        {
          "metadata": {
            "tags": null
          },
          "name": "stdout",
          "output_type": "stream",
          "text": [
            "validation loss: 0.0013388681982954343 at epoch 684\n",
            "learning_rate: 0.0006553600000000002\n"
          ]
        },
        {
          "metadata": {
            "tags": null
          },
          "name": "stderr",
          "output_type": "stream",
          "text": [
            "epoch 684: 100%|██████████| 282/282 [00:08<00:00, 33.35it/s]\n"
          ]
        },
        {
          "metadata": {
            "tags": null
          },
          "name": "stdout",
          "output_type": "stream",
          "text": [
            "validation loss: 0.0012159165367484092 at epoch 685\n",
            "learning_rate: 0.0006553600000000002\n"
          ]
        },
        {
          "metadata": {
            "tags": null
          },
          "name": "stderr",
          "output_type": "stream",
          "text": [
            "epoch 685: 100%|██████████| 282/282 [00:08<00:00, 33.13it/s]\n"
          ]
        },
        {
          "metadata": {
            "tags": null
          },
          "name": "stdout",
          "output_type": "stream",
          "text": [
            "validation loss: 0.00045098422633277043 at epoch 686\n",
            "learning_rate: 0.0006553600000000002\n"
          ]
        },
        {
          "metadata": {
            "tags": null
          },
          "name": "stderr",
          "output_type": "stream",
          "text": [
            "epoch 686: 100%|██████████| 282/282 [00:07<00:00, 35.82it/s]\n"
          ]
        },
        {
          "metadata": {
            "tags": null
          },
          "name": "stdout",
          "output_type": "stream",
          "text": [
            "validation loss: 0.0014055198621418742 at epoch 687\n",
            "learning_rate: 0.0006553600000000002\n"
          ]
        },
        {
          "metadata": {
            "tags": null
          },
          "name": "stderr",
          "output_type": "stream",
          "text": [
            "epoch 687: 100%|██████████| 282/282 [00:08<00:00, 33.02it/s]\n"
          ]
        },
        {
          "metadata": {
            "tags": null
          },
          "name": "stdout",
          "output_type": "stream",
          "text": [
            "validation loss: 0.0016217707196871439 at epoch 688\n",
            "learning_rate: 0.0006553600000000002\n"
          ]
        },
        {
          "metadata": {
            "tags": null
          },
          "name": "stderr",
          "output_type": "stream",
          "text": [
            "epoch 688: 100%|██████████| 282/282 [00:08<00:00, 33.38it/s]\n"
          ]
        },
        {
          "metadata": {
            "tags": null
          },
          "name": "stdout",
          "output_type": "stream",
          "text": [
            "validation loss: 0.00026722903466886946 at epoch 689\n",
            "learning_rate: 0.0006553600000000002\n",
            "model saved in ani_acrolein.pt\n"
          ]
        },
        {
          "metadata": {
            "tags": null
          },
          "name": "stderr",
          "output_type": "stream",
          "text": [
            "epoch 689: 100%|██████████| 282/282 [00:07<00:00, 36.67it/s]\n"
          ]
        },
        {
          "metadata": {
            "tags": null
          },
          "name": "stdout",
          "output_type": "stream",
          "text": [
            "validation loss: 0.00040179182920191024 at epoch 690\n",
            "learning_rate: 0.0006553600000000002\n"
          ]
        },
        {
          "metadata": {
            "tags": null
          },
          "name": "stderr",
          "output_type": "stream",
          "text": [
            "epoch 690: 100%|██████████| 282/282 [00:08<00:00, 33.01it/s]\n"
          ]
        },
        {
          "metadata": {
            "tags": null
          },
          "name": "stdout",
          "output_type": "stream",
          "text": [
            "validation loss: 0.00041638576777444945 at epoch 691\n",
            "learning_rate: 0.0006553600000000002\n"
          ]
        },
        {
          "metadata": {
            "tags": null
          },
          "name": "stderr",
          "output_type": "stream",
          "text": [
            "epoch 691: 100%|██████████| 282/282 [00:08<00:00, 33.47it/s]\n"
          ]
        },
        {
          "metadata": {
            "tags": null
          },
          "name": "stdout",
          "output_type": "stream",
          "text": [
            "validation loss: 0.0008605893386734857 at epoch 692\n",
            "learning_rate: 0.0006553600000000002\n"
          ]
        },
        {
          "metadata": {
            "tags": null
          },
          "name": "stderr",
          "output_type": "stream",
          "text": [
            "epoch 692: 100%|██████████| 282/282 [00:07<00:00, 36.83it/s]\n"
          ]
        },
        {
          "metadata": {
            "tags": null
          },
          "name": "stdout",
          "output_type": "stream",
          "text": [
            "validation loss: 0.0011058915207783381 at epoch 693\n",
            "learning_rate: 0.0006553600000000002\n"
          ]
        },
        {
          "metadata": {
            "tags": null
          },
          "name": "stderr",
          "output_type": "stream",
          "text": [
            "epoch 693: 100%|██████████| 282/282 [00:08<00:00, 32.57it/s]\n"
          ]
        },
        {
          "metadata": {
            "tags": null
          },
          "name": "stdout",
          "output_type": "stream",
          "text": [
            "validation loss: 0.001823006307085355 at epoch 694\n",
            "learning_rate: 0.0006553600000000002\n"
          ]
        },
        {
          "metadata": {
            "tags": null
          },
          "name": "stderr",
          "output_type": "stream",
          "text": [
            "epoch 694: 100%|██████████| 282/282 [00:08<00:00, 32.64it/s]\n"
          ]
        },
        {
          "metadata": {
            "tags": null
          },
          "name": "stdout",
          "output_type": "stream",
          "text": [
            "validation loss: 0.0005474902014765474 at epoch 695\n",
            "learning_rate: 0.0006553600000000002\n"
          ]
        },
        {
          "metadata": {
            "tags": null
          },
          "name": "stderr",
          "output_type": "stream",
          "text": [
            "epoch 695: 100%|██████████| 282/282 [00:07<00:00, 35.86it/s]\n"
          ]
        },
        {
          "metadata": {
            "tags": null
          },
          "name": "stdout",
          "output_type": "stream",
          "text": [
            "validation loss: 0.0009107134665052096 at epoch 696\n",
            "learning_rate: 0.0006553600000000002\n"
          ]
        },
        {
          "metadata": {
            "tags": null
          },
          "name": "stderr",
          "output_type": "stream",
          "text": [
            "epoch 696: 100%|██████████| 282/282 [00:08<00:00, 35.14it/s]\n"
          ]
        },
        {
          "metadata": {
            "tags": null
          },
          "name": "stdout",
          "output_type": "stream",
          "text": [
            "validation loss: 0.001898207449250751 at epoch 697\n",
            "learning_rate: 0.0006553600000000002\n"
          ]
        },
        {
          "metadata": {
            "tags": null
          },
          "name": "stderr",
          "output_type": "stream",
          "text": [
            "epoch 697: 100%|██████████| 282/282 [00:08<00:00, 33.49it/s]\n"
          ]
        },
        {
          "metadata": {
            "tags": null
          },
          "name": "stdout",
          "output_type": "stream",
          "text": [
            "validation loss: 0.0010536205528510942 at epoch 698\n",
            "learning_rate: 0.0006553600000000002\n"
          ]
        },
        {
          "metadata": {
            "tags": null
          },
          "name": "stderr",
          "output_type": "stream",
          "text": [
            "epoch 698: 100%|██████████| 282/282 [00:08<00:00, 33.75it/s]\n"
          ]
        },
        {
          "metadata": {
            "tags": null
          },
          "name": "stdout",
          "output_type": "stream",
          "text": [
            "validation loss: 0.0014076649107866816 at epoch 699\n",
            "learning_rate: 0.0006553600000000002\n"
          ]
        },
        {
          "metadata": {
            "tags": null
          },
          "name": "stderr",
          "output_type": "stream",
          "text": [
            "epoch 699: 100%|██████████| 282/282 [00:07<00:00, 37.01it/s]\n"
          ]
        },
        {
          "metadata": {
            "tags": null
          },
          "name": "stdout",
          "output_type": "stream",
          "text": [
            "validation loss: 0.0007100501052207417 at epoch 700\n",
            "learning_rate: 0.0006553600000000002\n"
          ]
        },
        {
          "metadata": {
            "tags": null
          },
          "name": "stderr",
          "output_type": "stream",
          "text": [
            "epoch 700: 100%|██████████| 282/282 [00:08<00:00, 32.28it/s]\n"
          ]
        },
        {
          "metadata": {
            "tags": null
          },
          "name": "stdout",
          "output_type": "stream",
          "text": [
            "validation loss: 0.0016268061523636182 at epoch 701\n",
            "learning_rate: 0.0006553600000000002\n"
          ]
        },
        {
          "metadata": {
            "tags": null
          },
          "name": "stderr",
          "output_type": "stream",
          "text": [
            "epoch 701: 100%|██████████| 282/282 [00:08<00:00, 33.58it/s]\n"
          ]
        },
        {
          "metadata": {
            "tags": null
          },
          "name": "stdout",
          "output_type": "stream",
          "text": [
            "validation loss: 0.00144678631838825 at epoch 702\n",
            "learning_rate: 0.0006553600000000002\n"
          ]
        },
        {
          "metadata": {
            "tags": null
          },
          "name": "stderr",
          "output_type": "stream",
          "text": [
            "epoch 702: 100%|██████████| 282/282 [00:07<00:00, 36.93it/s]\n"
          ]
        },
        {
          "metadata": {
            "tags": null
          },
          "name": "stdout",
          "output_type": "stream",
          "text": [
            "validation loss: 0.001664096437394619 at epoch 703\n",
            "learning_rate: 0.0006553600000000002\n"
          ]
        },
        {
          "metadata": {
            "tags": null
          },
          "name": "stderr",
          "output_type": "stream",
          "text": [
            "epoch 703: 100%|██████████| 282/282 [00:08<00:00, 33.35it/s]\n"
          ]
        },
        {
          "metadata": {
            "tags": null
          },
          "name": "stdout",
          "output_type": "stream",
          "text": [
            "validation loss: 0.0009954297542572022 at epoch 704\n",
            "learning_rate: 0.0006553600000000002\n"
          ]
        },
        {
          "metadata": {
            "tags": null
          },
          "name": "stderr",
          "output_type": "stream",
          "text": [
            "epoch 704: 100%|██████████| 282/282 [00:08<00:00, 33.77it/s]\n"
          ]
        },
        {
          "metadata": {
            "tags": null
          },
          "name": "stdout",
          "output_type": "stream",
          "text": [
            "validation loss: 0.0007341597887376945 at epoch 705\n",
            "learning_rate: 0.0006553600000000002\n"
          ]
        },
        {
          "metadata": {
            "tags": null
          },
          "name": "stderr",
          "output_type": "stream",
          "text": [
            "epoch 705: 100%|██████████| 282/282 [00:07<00:00, 37.10it/s]\n"
          ]
        },
        {
          "metadata": {
            "tags": null
          },
          "name": "stdout",
          "output_type": "stream",
          "text": [
            "validation loss: 0.0020665256165795856 at epoch 706\n",
            "learning_rate: 0.0006553600000000002\n"
          ]
        },
        {
          "metadata": {
            "tags": null
          },
          "name": "stderr",
          "output_type": "stream",
          "text": [
            "epoch 706: 100%|██████████| 282/282 [00:08<00:00, 33.90it/s]\n"
          ]
        },
        {
          "metadata": {
            "tags": null
          },
          "name": "stdout",
          "output_type": "stream",
          "text": [
            "validation loss: 0.0016088825911283492 at epoch 707\n",
            "learning_rate: 0.0006553600000000002\n"
          ]
        },
        {
          "metadata": {
            "tags": null
          },
          "name": "stderr",
          "output_type": "stream",
          "text": [
            "epoch 707: 100%|██████████| 282/282 [00:08<00:00, 32.97it/s]\n"
          ]
        },
        {
          "metadata": {
            "tags": null
          },
          "name": "stdout",
          "output_type": "stream",
          "text": [
            "validation loss: 0.0009058471992611885 at epoch 708\n",
            "learning_rate: 0.0006553600000000002\n"
          ]
        },
        {
          "metadata": {
            "tags": null
          },
          "name": "stderr",
          "output_type": "stream",
          "text": [
            "epoch 708: 100%|██████████| 282/282 [00:07<00:00, 37.16it/s]\n"
          ]
        },
        {
          "metadata": {
            "tags": null
          },
          "name": "stdout",
          "output_type": "stream",
          "text": [
            "validation loss: 0.0002844895474198792 at epoch 709\n",
            "learning_rate: 0.0006553600000000002\n"
          ]
        },
        {
          "output_type": "stream",
          "name": "stderr",
          "text": [
            "epoch 709: 100%|██████████| 282/282 [00:08<00:00, 33.92it/s]\n"
          ]
        },
        {
          "output_type": "stream",
          "name": "stdout",
          "text": [
            "validation loss: 0.001364138295253118 at epoch 710\n",
            "learning_rate: 0.0006553600000000002\n"
          ]
        },
        {
          "output_type": "stream",
          "name": "stderr",
          "text": [
            "epoch 710: 100%|██████████| 282/282 [00:08<00:00, 33.20it/s]\n"
          ]
        },
        {
          "output_type": "stream",
          "name": "stdout",
          "text": [
            "validation loss: 0.0012186784562137393 at epoch 711\n",
            "learning_rate: 0.0006553600000000002\n"
          ]
        },
        {
          "output_type": "stream",
          "name": "stderr",
          "text": [
            "epoch 711: 100%|██████████| 282/282 [00:07<00:00, 36.23it/s]\n"
          ]
        },
        {
          "output_type": "stream",
          "name": "stdout",
          "text": [
            "validation loss: 0.0025099855330255297 at epoch 712\n",
            "learning_rate: 0.0006553600000000002\n"
          ]
        },
        {
          "output_type": "stream",
          "name": "stderr",
          "text": [
            "epoch 712: 100%|██████████| 282/282 [00:08<00:00, 34.94it/s]\n"
          ]
        },
        {
          "output_type": "stream",
          "name": "stdout",
          "text": [
            "validation loss: 0.003272534171740214 at epoch 713\n",
            "learning_rate: 0.0006553600000000002\n"
          ]
        },
        {
          "output_type": "stream",
          "name": "stderr",
          "text": [
            "epoch 713: 100%|██████████| 282/282 [00:08<00:00, 33.40it/s]\n"
          ]
        },
        {
          "output_type": "stream",
          "name": "stdout",
          "text": [
            "validation loss: 0.00034494027867913247 at epoch 714\n",
            "learning_rate: 0.0006553600000000002\n"
          ]
        },
        {
          "output_type": "stream",
          "name": "stderr",
          "text": [
            "epoch 714: 100%|██████████| 282/282 [00:08<00:00, 33.75it/s]\n"
          ]
        },
        {
          "output_type": "stream",
          "name": "stdout",
          "text": [
            "validation loss: 0.0004787971898913384 at epoch 715\n",
            "learning_rate: 0.0006553600000000002\n"
          ]
        },
        {
          "output_type": "stream",
          "name": "stderr",
          "text": [
            "epoch 715: 100%|██████████| 282/282 [00:07<00:00, 36.72it/s]\n"
          ]
        },
        {
          "output_type": "stream",
          "name": "stdout",
          "text": [
            "validation loss: 0.0009840752821829585 at epoch 716\n",
            "learning_rate: 0.0006553600000000002\n"
          ]
        },
        {
          "output_type": "stream",
          "name": "stderr",
          "text": [
            "epoch 716: 100%|██████████| 282/282 [00:08<00:00, 33.59it/s]\n"
          ]
        },
        {
          "output_type": "stream",
          "name": "stdout",
          "text": [
            "validation loss: 0.00038393127752674953 at epoch 717\n",
            "learning_rate: 0.0006553600000000002\n"
          ]
        },
        {
          "output_type": "stream",
          "name": "stderr",
          "text": [
            "epoch 717: 100%|██████████| 282/282 [00:08<00:00, 33.31it/s]\n"
          ]
        },
        {
          "output_type": "stream",
          "name": "stdout",
          "text": [
            "validation loss: 0.001371763923101955 at epoch 718\n",
            "learning_rate: 0.0006553600000000002\n"
          ]
        },
        {
          "output_type": "stream",
          "name": "stderr",
          "text": [
            "epoch 718: 100%|██████████| 282/282 [00:07<00:00, 36.40it/s]\n"
          ]
        },
        {
          "output_type": "stream",
          "name": "stdout",
          "text": [
            "validation loss: 0.000746656066013707 at epoch 719\n",
            "learning_rate: 0.0006553600000000002\n"
          ]
        },
        {
          "output_type": "stream",
          "name": "stderr",
          "text": [
            "epoch 719: 100%|██████████| 282/282 [00:08<00:00, 32.97it/s]\n"
          ]
        },
        {
          "output_type": "stream",
          "name": "stdout",
          "text": [
            "validation loss: 0.0011010127233134375 at epoch 720\n",
            "learning_rate: 0.0006553600000000002\n"
          ]
        },
        {
          "output_type": "stream",
          "name": "stderr",
          "text": [
            "epoch 720: 100%|██████████| 282/282 [00:08<00:00, 32.75it/s]\n"
          ]
        },
        {
          "output_type": "stream",
          "name": "stdout",
          "text": [
            "validation loss: 0.001162582350273927 at epoch 721\n",
            "learning_rate: 0.0006553600000000002\n"
          ]
        },
        {
          "output_type": "stream",
          "name": "stderr",
          "text": [
            "epoch 721: 100%|██████████| 282/282 [00:07<00:00, 35.90it/s]\n"
          ]
        },
        {
          "output_type": "stream",
          "name": "stdout",
          "text": [
            "validation loss: 0.0007658639036946827 at epoch 722\n",
            "learning_rate: 0.0006553600000000002\n"
          ]
        },
        {
          "output_type": "stream",
          "name": "stderr",
          "text": [
            "epoch 722: 100%|██████████| 282/282 [00:08<00:00, 34.14it/s]\n"
          ]
        },
        {
          "output_type": "stream",
          "name": "stdout",
          "text": [
            "validation loss: 0.00031470419238838887 at epoch 723\n",
            "learning_rate: 0.0006553600000000002\n"
          ]
        },
        {
          "output_type": "stream",
          "name": "stderr",
          "text": [
            "epoch 723: 100%|██████████| 282/282 [00:08<00:00, 33.16it/s]\n"
          ]
        },
        {
          "output_type": "stream",
          "name": "stdout",
          "text": [
            "validation loss: 0.0014388107690546247 at epoch 724\n",
            "learning_rate: 0.0006553600000000002\n"
          ]
        },
        {
          "output_type": "stream",
          "name": "stderr",
          "text": [
            "epoch 724: 100%|██████████| 282/282 [00:08<00:00, 34.24it/s]\n"
          ]
        },
        {
          "output_type": "stream",
          "name": "stdout",
          "text": [
            "validation loss: 0.0006386168392168151 at epoch 725\n",
            "learning_rate: 0.0006553600000000002\n"
          ]
        },
        {
          "output_type": "stream",
          "name": "stderr",
          "text": [
            "epoch 725: 100%|██████████| 282/282 [00:07<00:00, 36.31it/s]\n"
          ]
        },
        {
          "output_type": "stream",
          "name": "stdout",
          "text": [
            "validation loss: 0.0005639674444165494 at epoch 726\n",
            "learning_rate: 0.0006553600000000002\n"
          ]
        },
        {
          "output_type": "stream",
          "name": "stderr",
          "text": [
            "epoch 726: 100%|██████████| 282/282 [00:08<00:00, 33.02it/s]\n"
          ]
        },
        {
          "output_type": "stream",
          "name": "stdout",
          "text": [
            "validation loss: 0.0010893604738844765 at epoch 727\n",
            "learning_rate: 0.0006553600000000002\n"
          ]
        },
        {
          "output_type": "stream",
          "name": "stderr",
          "text": [
            "epoch 727: 100%|██████████| 282/282 [00:08<00:00, 32.48it/s]\n"
          ]
        },
        {
          "output_type": "stream",
          "name": "stdout",
          "text": [
            "validation loss: 0.0007754765260550711 at epoch 728\n",
            "learning_rate: 0.0006553600000000002\n"
          ]
        },
        {
          "output_type": "stream",
          "name": "stderr",
          "text": [
            "epoch 728: 100%|██████████| 282/282 [00:07<00:00, 36.52it/s]\n"
          ]
        },
        {
          "output_type": "stream",
          "name": "stdout",
          "text": [
            "validation loss: 0.0012419723355107837 at epoch 729\n",
            "learning_rate: 0.0006553600000000002\n"
          ]
        },
        {
          "output_type": "stream",
          "name": "stderr",
          "text": [
            "epoch 729: 100%|██████████| 282/282 [00:08<00:00, 32.95it/s]\n"
          ]
        },
        {
          "output_type": "stream",
          "name": "stdout",
          "text": [
            "validation loss: 0.0013271956079536015 at epoch 730\n",
            "learning_rate: 0.0006553600000000002\n"
          ]
        },
        {
          "output_type": "stream",
          "name": "stderr",
          "text": [
            "epoch 730: 100%|██████████| 282/282 [00:08<00:00, 33.13it/s]\n"
          ]
        },
        {
          "output_type": "stream",
          "name": "stdout",
          "text": [
            "validation loss: 0.0013574776897827784 at epoch 731\n",
            "learning_rate: 0.0006553600000000002\n"
          ]
        },
        {
          "output_type": "stream",
          "name": "stderr",
          "text": [
            "epoch 731: 100%|██████████| 282/282 [00:07<00:00, 36.74it/s]\n"
          ]
        },
        {
          "output_type": "stream",
          "name": "stdout",
          "text": [
            "validation loss: 0.0013858804810378286 at epoch 732\n",
            "learning_rate: 0.0006553600000000002\n"
          ]
        },
        {
          "output_type": "stream",
          "name": "stderr",
          "text": [
            "epoch 732: 100%|██████████| 282/282 [00:08<00:00, 33.13it/s]\n"
          ]
        },
        {
          "output_type": "stream",
          "name": "stdout",
          "text": [
            "validation loss: 0.0013833584048681788 at epoch 733\n",
            "learning_rate: 0.0006553600000000002\n"
          ]
        },
        {
          "output_type": "stream",
          "name": "stderr",
          "text": [
            "epoch 733: 100%|██████████| 282/282 [00:08<00:00, 33.09it/s]\n"
          ]
        },
        {
          "output_type": "stream",
          "name": "stdout",
          "text": [
            "validation loss: 0.0017046749376588397 at epoch 734\n",
            "learning_rate: 0.0006553600000000002\n"
          ]
        },
        {
          "output_type": "stream",
          "name": "stderr",
          "text": [
            "epoch 734: 100%|██████████| 282/282 [00:07<00:00, 35.71it/s]\n"
          ]
        },
        {
          "output_type": "stream",
          "name": "stdout",
          "text": [
            "validation loss: 0.001011345039639208 at epoch 735\n",
            "learning_rate: 0.0006553600000000002\n"
          ]
        },
        {
          "output_type": "stream",
          "name": "stderr",
          "text": [
            "epoch 735: 100%|██████████| 282/282 [00:08<00:00, 34.24it/s]\n"
          ]
        },
        {
          "output_type": "stream",
          "name": "stdout",
          "text": [
            "validation loss: 0.0009154687499006589 at epoch 736\n",
            "learning_rate: 0.0006553600000000002\n"
          ]
        },
        {
          "output_type": "stream",
          "name": "stderr",
          "text": [
            "epoch 736: 100%|██████████| 282/282 [00:08<00:00, 33.15it/s]\n"
          ]
        },
        {
          "output_type": "stream",
          "name": "stdout",
          "text": [
            "validation loss: 0.0021237808333502877 at epoch 737\n",
            "learning_rate: 0.0006553600000000002\n"
          ]
        },
        {
          "output_type": "stream",
          "name": "stderr",
          "text": [
            "epoch 737: 100%|██████████| 282/282 [00:08<00:00, 34.83it/s]\n"
          ]
        },
        {
          "output_type": "stream",
          "name": "stdout",
          "text": [
            "validation loss: 0.0004450937199095885 at epoch 738\n",
            "learning_rate: 0.0006553600000000002\n"
          ]
        },
        {
          "output_type": "stream",
          "name": "stderr",
          "text": [
            "epoch 738: 100%|██████████| 282/282 [00:08<00:00, 35.05it/s]\n"
          ]
        },
        {
          "output_type": "stream",
          "name": "stdout",
          "text": [
            "validation loss: 0.00037313997248808543 at epoch 739\n",
            "learning_rate: 0.0006553600000000002\n"
          ]
        },
        {
          "output_type": "stream",
          "name": "stderr",
          "text": [
            "epoch 739: 100%|██████████| 282/282 [00:08<00:00, 32.74it/s]\n"
          ]
        },
        {
          "output_type": "stream",
          "name": "stdout",
          "text": [
            "validation loss: 0.0026076632059282728 at epoch 740\n",
            "learning_rate: 0.0006553600000000002\n"
          ]
        },
        {
          "output_type": "stream",
          "name": "stderr",
          "text": [
            "epoch 740: 100%|██████████| 282/282 [00:08<00:00, 34.10it/s]\n"
          ]
        },
        {
          "output_type": "stream",
          "name": "stdout",
          "text": [
            "validation loss: 0.0005680565697451433 at epoch 741\n",
            "learning_rate: 0.0005242880000000002\n"
          ]
        },
        {
          "output_type": "stream",
          "name": "stderr",
          "text": [
            "epoch 741: 100%|██████████| 282/282 [00:07<00:00, 35.68it/s]\n"
          ]
        },
        {
          "output_type": "stream",
          "name": "stdout",
          "text": [
            "validation loss: 0.0003235780468417539 at epoch 742\n",
            "learning_rate: 0.0005242880000000002\n"
          ]
        },
        {
          "output_type": "stream",
          "name": "stderr",
          "text": [
            "epoch 742: 100%|██████████| 282/282 [00:08<00:00, 33.45it/s]\n"
          ]
        },
        {
          "output_type": "stream",
          "name": "stdout",
          "text": [
            "validation loss: 0.0005404405680795511 at epoch 743\n",
            "learning_rate: 0.0005242880000000002\n"
          ]
        },
        {
          "output_type": "stream",
          "name": "stderr",
          "text": [
            "epoch 743: 100%|██████████| 282/282 [00:08<00:00, 32.91it/s]\n"
          ]
        },
        {
          "output_type": "stream",
          "name": "stdout",
          "text": [
            "validation loss: 0.00028181792195472455 at epoch 744\n",
            "learning_rate: 0.0005242880000000002\n"
          ]
        },
        {
          "output_type": "stream",
          "name": "stderr",
          "text": [
            "epoch 744: 100%|██████████| 282/282 [00:07<00:00, 36.63it/s]\n"
          ]
        },
        {
          "output_type": "stream",
          "name": "stdout",
          "text": [
            "validation loss: 0.0005785792647964424 at epoch 745\n",
            "learning_rate: 0.0005242880000000002\n"
          ]
        },
        {
          "output_type": "stream",
          "name": "stderr",
          "text": [
            "epoch 745: 100%|██████████| 282/282 [00:08<00:00, 33.12it/s]\n"
          ]
        },
        {
          "output_type": "stream",
          "name": "stdout",
          "text": [
            "validation loss: 0.001280421779387527 at epoch 746\n",
            "learning_rate: 0.0005242880000000002\n"
          ]
        },
        {
          "output_type": "stream",
          "name": "stderr",
          "text": [
            "epoch 746: 100%|██████████| 282/282 [00:08<00:00, 33.42it/s]\n"
          ]
        },
        {
          "output_type": "stream",
          "name": "stdout",
          "text": [
            "validation loss: 0.0010399205850230324 at epoch 747\n",
            "learning_rate: 0.0005242880000000002\n"
          ]
        },
        {
          "output_type": "stream",
          "name": "stderr",
          "text": [
            "epoch 747: 100%|██████████| 282/282 [00:07<00:00, 36.68it/s]\n"
          ]
        },
        {
          "output_type": "stream",
          "name": "stdout",
          "text": [
            "validation loss: 0.001073690053489473 at epoch 748\n",
            "learning_rate: 0.0005242880000000002\n"
          ]
        },
        {
          "output_type": "stream",
          "name": "stderr",
          "text": [
            "epoch 748: 100%|██████████| 282/282 [00:08<00:00, 33.48it/s]\n"
          ]
        },
        {
          "output_type": "stream",
          "name": "stdout",
          "text": [
            "validation loss: 0.0015975103634927007 at epoch 749\n",
            "learning_rate: 0.0005242880000000002\n"
          ]
        },
        {
          "output_type": "stream",
          "name": "stderr",
          "text": [
            "epoch 749: 100%|██████████| 282/282 [00:08<00:00, 32.95it/s]\n"
          ]
        },
        {
          "output_type": "stream",
          "name": "stdout",
          "text": [
            "validation loss: 0.0008994761813018057 at epoch 750\n",
            "learning_rate: 0.0005242880000000002\n"
          ]
        },
        {
          "output_type": "stream",
          "name": "stderr",
          "text": [
            "epoch 750: 100%|██████████| 282/282 [00:07<00:00, 35.55it/s]\n"
          ]
        },
        {
          "output_type": "stream",
          "name": "stdout",
          "text": [
            "validation loss: 0.0017207935377955438 at epoch 751\n",
            "learning_rate: 0.0005242880000000002\n"
          ]
        },
        {
          "output_type": "stream",
          "name": "stderr",
          "text": [
            "epoch 751: 100%|██████████| 282/282 [00:08<00:00, 35.03it/s]\n"
          ]
        },
        {
          "output_type": "stream",
          "name": "stdout",
          "text": [
            "validation loss: 0.0009508312460449007 at epoch 752\n",
            "learning_rate: 0.0005242880000000002\n"
          ]
        },
        {
          "output_type": "stream",
          "name": "stderr",
          "text": [
            "epoch 752: 100%|██████████| 282/282 [00:08<00:00, 33.42it/s]\n"
          ]
        },
        {
          "output_type": "stream",
          "name": "stdout",
          "text": [
            "validation loss: 0.0011707722494999568 at epoch 753\n",
            "learning_rate: 0.0005242880000000002\n"
          ]
        },
        {
          "output_type": "stream",
          "name": "stderr",
          "text": [
            "epoch 753: 100%|██████████| 282/282 [00:08<00:00, 33.84it/s]\n"
          ]
        },
        {
          "output_type": "stream",
          "name": "stdout",
          "text": [
            "validation loss: 0.0003097391223741902 at epoch 754\n",
            "learning_rate: 0.0005242880000000002\n"
          ]
        },
        {
          "output_type": "stream",
          "name": "stderr",
          "text": [
            "epoch 754: 100%|██████████| 282/282 [00:07<00:00, 36.23it/s]\n"
          ]
        },
        {
          "output_type": "stream",
          "name": "stdout",
          "text": [
            "validation loss: 0.0002913646006749736 at epoch 755\n",
            "learning_rate: 0.0005242880000000002\n"
          ]
        },
        {
          "output_type": "stream",
          "name": "stderr",
          "text": [
            "epoch 755: 100%|██████████| 282/282 [00:08<00:00, 33.24it/s]\n"
          ]
        },
        {
          "output_type": "stream",
          "name": "stdout",
          "text": [
            "validation loss: 0.0012024169597360823 at epoch 756\n",
            "learning_rate: 0.0005242880000000002\n"
          ]
        },
        {
          "output_type": "stream",
          "name": "stderr",
          "text": [
            "epoch 756: 100%|██████████| 282/282 [00:08<00:00, 33.07it/s]\n"
          ]
        },
        {
          "output_type": "stream",
          "name": "stdout",
          "text": [
            "validation loss: 0.00035300317034125326 at epoch 757\n",
            "learning_rate: 0.0005242880000000002\n"
          ]
        },
        {
          "output_type": "stream",
          "name": "stderr",
          "text": [
            "epoch 757: 100%|██████████| 282/282 [00:07<00:00, 36.54it/s]\n"
          ]
        },
        {
          "output_type": "stream",
          "name": "stdout",
          "text": [
            "validation loss: 0.00198310776717133 at epoch 758\n",
            "learning_rate: 0.0005242880000000002\n"
          ]
        },
        {
          "output_type": "stream",
          "name": "stderr",
          "text": [
            "epoch 758: 100%|██████████| 282/282 [00:08<00:00, 33.24it/s]\n"
          ]
        },
        {
          "output_type": "stream",
          "name": "stdout",
          "text": [
            "validation loss: 0.0005122481588688162 at epoch 759\n",
            "learning_rate: 0.0005242880000000002\n"
          ]
        },
        {
          "output_type": "stream",
          "name": "stderr",
          "text": [
            "epoch 759: 100%|██████████| 282/282 [00:08<00:00, 33.26it/s]\n"
          ]
        },
        {
          "output_type": "stream",
          "name": "stdout",
          "text": [
            "validation loss: 0.0004938912325435214 at epoch 760\n",
            "learning_rate: 0.0005242880000000002\n"
          ]
        },
        {
          "output_type": "stream",
          "name": "stderr",
          "text": [
            "epoch 760: 100%|██████████| 282/282 [00:07<00:00, 36.80it/s]\n"
          ]
        },
        {
          "output_type": "stream",
          "name": "stdout",
          "text": [
            "validation loss: 0.00046129705136020976 at epoch 761\n",
            "learning_rate: 0.0005242880000000002\n"
          ]
        },
        {
          "output_type": "stream",
          "name": "stderr",
          "text": [
            "epoch 761: 100%|██████████| 282/282 [00:08<00:00, 32.52it/s]\n"
          ]
        },
        {
          "output_type": "stream",
          "name": "stdout",
          "text": [
            "validation loss: 0.0011370858541793294 at epoch 762\n",
            "learning_rate: 0.0005242880000000002\n"
          ]
        },
        {
          "output_type": "stream",
          "name": "stderr",
          "text": [
            "epoch 762: 100%|██████████| 282/282 [00:08<00:00, 32.69it/s]\n"
          ]
        },
        {
          "output_type": "stream",
          "name": "stdout",
          "text": [
            "validation loss: 0.001537547400428189 at epoch 763\n",
            "learning_rate: 0.0005242880000000002\n"
          ]
        },
        {
          "output_type": "stream",
          "name": "stderr",
          "text": [
            "epoch 763: 100%|██████████| 282/282 [00:07<00:00, 35.49it/s]\n"
          ]
        },
        {
          "output_type": "stream",
          "name": "stdout",
          "text": [
            "validation loss: 0.0009564216054148145 at epoch 764\n",
            "learning_rate: 0.0005242880000000002\n"
          ]
        },
        {
          "output_type": "stream",
          "name": "stderr",
          "text": [
            "epoch 764: 100%|██████████| 282/282 [00:08<00:00, 34.76it/s]\n"
          ]
        },
        {
          "output_type": "stream",
          "name": "stdout",
          "text": [
            "validation loss: 0.0009069303820530574 at epoch 765\n",
            "learning_rate: 0.0005242880000000002\n"
          ]
        },
        {
          "output_type": "stream",
          "name": "stderr",
          "text": [
            "epoch 765: 100%|██████████| 282/282 [00:08<00:00, 33.44it/s]\n"
          ]
        },
        {
          "output_type": "stream",
          "name": "stdout",
          "text": [
            "validation loss: 0.00027667320664558146 at epoch 766\n",
            "learning_rate: 0.0005242880000000002\n"
          ]
        },
        {
          "output_type": "stream",
          "name": "stderr",
          "text": [
            "epoch 766: 100%|██████████| 282/282 [00:08<00:00, 34.03it/s]\n"
          ]
        },
        {
          "output_type": "stream",
          "name": "stdout",
          "text": [
            "validation loss: 0.0005898555794523822 at epoch 767\n",
            "learning_rate: 0.0005242880000000002\n"
          ]
        },
        {
          "output_type": "stream",
          "name": "stderr",
          "text": [
            "epoch 767: 100%|██████████| 282/282 [00:07<00:00, 36.64it/s]\n"
          ]
        },
        {
          "output_type": "stream",
          "name": "stdout",
          "text": [
            "validation loss: 0.0010906075396471553 at epoch 768\n",
            "learning_rate: 0.0005242880000000002\n"
          ]
        },
        {
          "output_type": "stream",
          "name": "stderr",
          "text": [
            "epoch 768: 100%|██████████| 282/282 [00:08<00:00, 32.51it/s]\n"
          ]
        },
        {
          "output_type": "stream",
          "name": "stdout",
          "text": [
            "validation loss: 0.0003486790570120017 at epoch 769\n",
            "learning_rate: 0.0005242880000000002\n"
          ]
        },
        {
          "output_type": "stream",
          "name": "stderr",
          "text": [
            "epoch 769: 100%|██████████| 282/282 [00:08<00:00, 33.55it/s]\n"
          ]
        },
        {
          "output_type": "stream",
          "name": "stdout",
          "text": [
            "validation loss: 0.00032959928715394605 at epoch 770\n",
            "learning_rate: 0.0005242880000000002\n"
          ]
        },
        {
          "output_type": "stream",
          "name": "stderr",
          "text": [
            "epoch 770: 100%|██████████| 282/282 [00:07<00:00, 36.75it/s]\n"
          ]
        },
        {
          "output_type": "stream",
          "name": "stdout",
          "text": [
            "validation loss: 0.001182885961400138 at epoch 771\n",
            "learning_rate: 0.0005242880000000002\n"
          ]
        },
        {
          "output_type": "stream",
          "name": "stderr",
          "text": [
            "epoch 771: 100%|██████████| 282/282 [00:08<00:00, 33.07it/s]\n"
          ]
        },
        {
          "output_type": "stream",
          "name": "stdout",
          "text": [
            "validation loss: 0.0008571154615945286 at epoch 772\n",
            "learning_rate: 0.0005242880000000002\n"
          ]
        },
        {
          "output_type": "stream",
          "name": "stderr",
          "text": [
            "epoch 772: 100%|██████████| 282/282 [00:08<00:00, 33.52it/s]\n"
          ]
        },
        {
          "output_type": "stream",
          "name": "stdout",
          "text": [
            "validation loss: 0.0010511347874999047 at epoch 773\n",
            "learning_rate: 0.0005242880000000002\n"
          ]
        },
        {
          "output_type": "stream",
          "name": "stderr",
          "text": [
            "epoch 773: 100%|██████████| 282/282 [00:07<00:00, 35.63it/s]\n"
          ]
        },
        {
          "output_type": "stream",
          "name": "stdout",
          "text": [
            "validation loss: 0.0003805709174937672 at epoch 774\n",
            "learning_rate: 0.0005242880000000002\n"
          ]
        },
        {
          "output_type": "stream",
          "name": "stderr",
          "text": [
            "epoch 774: 100%|██████████| 282/282 [00:08<00:00, 33.82it/s]\n"
          ]
        },
        {
          "output_type": "stream",
          "name": "stdout",
          "text": [
            "validation loss: 0.0007424602061510086 at epoch 775\n",
            "learning_rate: 0.0005242880000000002\n"
          ]
        },
        {
          "output_type": "stream",
          "name": "stderr",
          "text": [
            "epoch 775: 100%|██████████| 282/282 [00:08<00:00, 32.61it/s]\n"
          ]
        },
        {
          "output_type": "stream",
          "name": "stdout",
          "text": [
            "validation loss: 0.0007130012388030688 at epoch 776\n",
            "learning_rate: 0.0005242880000000002\n"
          ]
        },
        {
          "output_type": "stream",
          "name": "stderr",
          "text": [
            "epoch 776: 100%|██████████| 282/282 [00:08<00:00, 34.10it/s]\n"
          ]
        },
        {
          "output_type": "stream",
          "name": "stdout",
          "text": [
            "validation loss: 0.0014275004789233209 at epoch 777\n",
            "learning_rate: 0.0005242880000000002\n"
          ]
        },
        {
          "output_type": "stream",
          "name": "stderr",
          "text": [
            "epoch 777: 100%|██████████| 282/282 [00:07<00:00, 36.75it/s]\n"
          ]
        },
        {
          "output_type": "stream",
          "name": "stdout",
          "text": [
            "validation loss: 0.0011943739420837826 at epoch 778\n",
            "learning_rate: 0.0005242880000000002\n"
          ]
        },
        {
          "output_type": "stream",
          "name": "stderr",
          "text": [
            "epoch 778: 100%|██████████| 282/282 [00:08<00:00, 33.02it/s]\n"
          ]
        },
        {
          "output_type": "stream",
          "name": "stdout",
          "text": [
            "validation loss: 0.002645176614324252 at epoch 779\n",
            "learning_rate: 0.0005242880000000002\n"
          ]
        },
        {
          "output_type": "stream",
          "name": "stderr",
          "text": [
            "epoch 779: 100%|██████████| 282/282 [00:08<00:00, 33.62it/s]\n"
          ]
        },
        {
          "output_type": "stream",
          "name": "stdout",
          "text": [
            "validation loss: 0.0015546986601418919 at epoch 780\n",
            "learning_rate: 0.0005242880000000002\n"
          ]
        },
        {
          "output_type": "stream",
          "name": "stderr",
          "text": [
            "epoch 780: 100%|██████████| 282/282 [00:07<00:00, 36.66it/s]\n"
          ]
        },
        {
          "output_type": "stream",
          "name": "stdout",
          "text": [
            "validation loss: 0.0008049207731253571 at epoch 781\n",
            "learning_rate: 0.0005242880000000002\n"
          ]
        },
        {
          "output_type": "stream",
          "name": "stderr",
          "text": [
            "epoch 781: 100%|██████████| 282/282 [00:08<00:00, 33.20it/s]\n"
          ]
        },
        {
          "output_type": "stream",
          "name": "stdout",
          "text": [
            "validation loss: 0.0015553113263514307 at epoch 782\n",
            "learning_rate: 0.0005242880000000002\n"
          ]
        },
        {
          "output_type": "stream",
          "name": "stderr",
          "text": [
            "epoch 782: 100%|██████████| 282/282 [00:08<00:00, 32.40it/s]\n"
          ]
        },
        {
          "output_type": "stream",
          "name": "stdout",
          "text": [
            "validation loss: 0.0008166379324263997 at epoch 783\n",
            "learning_rate: 0.0005242880000000002\n"
          ]
        },
        {
          "output_type": "stream",
          "name": "stderr",
          "text": [
            "epoch 783: 100%|██████████| 282/282 [00:07<00:00, 36.61it/s]\n"
          ]
        },
        {
          "output_type": "stream",
          "name": "stdout",
          "text": [
            "validation loss: 0.000802622523986631 at epoch 784\n",
            "learning_rate: 0.0005242880000000002\n"
          ]
        },
        {
          "output_type": "stream",
          "name": "stderr",
          "text": [
            "epoch 784: 100%|██████████| 282/282 [00:08<00:00, 33.30it/s]\n"
          ]
        },
        {
          "output_type": "stream",
          "name": "stdout",
          "text": [
            "validation loss: 0.002373184614711338 at epoch 785\n",
            "learning_rate: 0.0005242880000000002\n"
          ]
        },
        {
          "output_type": "stream",
          "name": "stderr",
          "text": [
            "epoch 785: 100%|██████████| 282/282 [00:08<00:00, 32.99it/s]\n"
          ]
        },
        {
          "output_type": "stream",
          "name": "stdout",
          "text": [
            "validation loss: 0.0009842074107792643 at epoch 786\n",
            "learning_rate: 0.0005242880000000002\n"
          ]
        },
        {
          "output_type": "stream",
          "name": "stderr",
          "text": [
            "epoch 786: 100%|██████████| 282/282 [00:07<00:00, 36.39it/s]\n"
          ]
        },
        {
          "output_type": "stream",
          "name": "stdout",
          "text": [
            "validation loss: 0.0006279955998890929 at epoch 787\n",
            "learning_rate: 0.0005242880000000002\n"
          ]
        },
        {
          "output_type": "stream",
          "name": "stderr",
          "text": [
            "epoch 787: 100%|██████████| 282/282 [00:08<00:00, 33.96it/s]\n"
          ]
        },
        {
          "output_type": "stream",
          "name": "stdout",
          "text": [
            "validation loss: 0.0005618484078182115 at epoch 788\n",
            "learning_rate: 0.0005242880000000002\n"
          ]
        },
        {
          "output_type": "stream",
          "name": "stderr",
          "text": [
            "epoch 788: 100%|██████████| 282/282 [00:08<00:00, 32.51it/s]\n"
          ]
        },
        {
          "output_type": "stream",
          "name": "stdout",
          "text": [
            "validation loss: 0.0009293515044781897 at epoch 789\n",
            "learning_rate: 0.0005242880000000002\n"
          ]
        },
        {
          "output_type": "stream",
          "name": "stderr",
          "text": [
            "epoch 789: 100%|██████████| 282/282 [00:08<00:00, 34.50it/s]\n"
          ]
        },
        {
          "output_type": "stream",
          "name": "stdout",
          "text": [
            "validation loss: 0.0012584962488876449 at epoch 790\n",
            "learning_rate: 0.0005242880000000002\n"
          ]
        },
        {
          "output_type": "stream",
          "name": "stderr",
          "text": [
            "epoch 790: 100%|██████████| 282/282 [00:07<00:00, 36.65it/s]\n"
          ]
        },
        {
          "output_type": "stream",
          "name": "stdout",
          "text": [
            "validation loss: 0.0019145623197158177 at epoch 791\n",
            "learning_rate: 0.0005242880000000002\n"
          ]
        },
        {
          "output_type": "stream",
          "name": "stderr",
          "text": [
            "epoch 791: 100%|██████████| 282/282 [00:08<00:00, 32.81it/s]\n"
          ]
        },
        {
          "output_type": "stream",
          "name": "stdout",
          "text": [
            "validation loss: 0.0003827679509090053 at epoch 792\n",
            "learning_rate: 0.00041943040000000023\n"
          ]
        },
        {
          "output_type": "stream",
          "name": "stderr",
          "text": [
            "epoch 792: 100%|██████████| 282/282 [00:08<00:00, 32.91it/s]\n"
          ]
        },
        {
          "output_type": "stream",
          "name": "stdout",
          "text": [
            "validation loss: 0.0002962970903350247 at epoch 793\n",
            "learning_rate: 0.00041943040000000023\n"
          ]
        },
        {
          "output_type": "stream",
          "name": "stderr",
          "text": [
            "epoch 793: 100%|██████████| 282/282 [00:07<00:00, 36.83it/s]\n"
          ]
        },
        {
          "output_type": "stream",
          "name": "stdout",
          "text": [
            "validation loss: 0.0004006639110545317 at epoch 794\n",
            "learning_rate: 0.00041943040000000023\n"
          ]
        },
        {
          "output_type": "stream",
          "name": "stderr",
          "text": [
            "epoch 794: 100%|██████████| 282/282 [00:08<00:00, 33.07it/s]\n"
          ]
        },
        {
          "output_type": "stream",
          "name": "stdout",
          "text": [
            "validation loss: 0.0003780539424882995 at epoch 795\n",
            "learning_rate: 0.00041943040000000023\n"
          ]
        },
        {
          "output_type": "stream",
          "name": "stderr",
          "text": [
            "epoch 795: 100%|██████████| 282/282 [00:08<00:00, 32.67it/s]\n"
          ]
        },
        {
          "output_type": "stream",
          "name": "stdout",
          "text": [
            "validation loss: 0.0002733824876033597 at epoch 796\n",
            "learning_rate: 0.00041943040000000023\n"
          ]
        },
        {
          "output_type": "stream",
          "name": "stderr",
          "text": [
            "epoch 796: 100%|██████████| 282/282 [00:07<00:00, 36.69it/s]\n"
          ]
        },
        {
          "output_type": "stream",
          "name": "stdout",
          "text": [
            "validation loss: 0.0003077068401293622 at epoch 797\n",
            "learning_rate: 0.00041943040000000023\n"
          ]
        },
        {
          "output_type": "stream",
          "name": "stderr",
          "text": [
            "epoch 797: 100%|██████████| 282/282 [00:08<00:00, 33.32it/s]\n"
          ]
        },
        {
          "output_type": "stream",
          "name": "stdout",
          "text": [
            "validation loss: 0.0002783533384402593 at epoch 798\n",
            "learning_rate: 0.00041943040000000023\n"
          ]
        },
        {
          "output_type": "stream",
          "name": "stderr",
          "text": [
            "epoch 798: 100%|██████████| 282/282 [00:08<00:00, 32.98it/s]\n"
          ]
        },
        {
          "output_type": "stream",
          "name": "stdout",
          "text": [
            "validation loss: 0.0013939636846383413 at epoch 799\n",
            "learning_rate: 0.00041943040000000023\n"
          ]
        },
        {
          "output_type": "stream",
          "name": "stderr",
          "text": [
            "epoch 799: 100%|██████████| 282/282 [00:07<00:00, 35.86it/s]\n"
          ]
        },
        {
          "output_type": "stream",
          "name": "stdout",
          "text": [
            "validation loss: 0.0005526032795508702 at epoch 800\n",
            "learning_rate: 0.00041943040000000023\n"
          ]
        },
        {
          "output_type": "stream",
          "name": "stderr",
          "text": [
            "epoch 800: 100%|██████████| 282/282 [00:08<00:00, 34.39it/s]\n"
          ]
        },
        {
          "output_type": "stream",
          "name": "stdout",
          "text": [
            "validation loss: 0.0008480844853652848 at epoch 801\n",
            "learning_rate: 0.00041943040000000023\n"
          ]
        },
        {
          "output_type": "stream",
          "name": "stderr",
          "text": [
            "epoch 801: 100%|██████████| 282/282 [00:08<00:00, 33.39it/s]\n"
          ]
        },
        {
          "output_type": "stream",
          "name": "stdout",
          "text": [
            "validation loss: 0.00042388322432008053 at epoch 802\n",
            "learning_rate: 0.00041943040000000023\n"
          ]
        },
        {
          "output_type": "stream",
          "name": "stderr",
          "text": [
            "epoch 802: 100%|██████████| 282/282 [00:08<00:00, 33.05it/s]\n"
          ]
        },
        {
          "output_type": "stream",
          "name": "stdout",
          "text": [
            "validation loss: 0.0003204431153006024 at epoch 803\n",
            "learning_rate: 0.00041943040000000023\n"
          ]
        },
        {
          "output_type": "stream",
          "name": "stderr",
          "text": [
            "epoch 803: 100%|██████████| 282/282 [00:07<00:00, 36.72it/s]\n"
          ]
        },
        {
          "output_type": "stream",
          "name": "stdout",
          "text": [
            "validation loss: 0.0015035502596033943 at epoch 804\n",
            "learning_rate: 0.00041943040000000023\n"
          ]
        },
        {
          "output_type": "stream",
          "name": "stderr",
          "text": [
            "epoch 804: 100%|██████████| 282/282 [00:08<00:00, 33.42it/s]\n"
          ]
        },
        {
          "output_type": "stream",
          "name": "stdout",
          "text": [
            "validation loss: 0.0003122092452314165 at epoch 805\n",
            "learning_rate: 0.00041943040000000023\n"
          ]
        },
        {
          "output_type": "stream",
          "name": "stderr",
          "text": [
            "epoch 805: 100%|██████████| 282/282 [00:08<00:00, 32.97it/s]\n"
          ]
        },
        {
          "output_type": "stream",
          "name": "stdout",
          "text": [
            "validation loss: 0.0007100123307771153 at epoch 806\n",
            "learning_rate: 0.00041943040000000023\n"
          ]
        },
        {
          "output_type": "stream",
          "name": "stderr",
          "text": [
            "epoch 806: 100%|██████████| 282/282 [00:07<00:00, 36.74it/s]\n"
          ]
        },
        {
          "output_type": "stream",
          "name": "stdout",
          "text": [
            "validation loss: 0.00026521158052815333 at epoch 807\n",
            "learning_rate: 0.00041943040000000023\n",
            "model saved in ani_acrolein.pt\n"
          ]
        },
        {
          "output_type": "stream",
          "name": "stderr",
          "text": [
            "epoch 807: 100%|██████████| 282/282 [00:08<00:00, 33.12it/s]\n"
          ]
        },
        {
          "output_type": "stream",
          "name": "stdout",
          "text": [
            "validation loss: 0.00036900158640411167 at epoch 808\n",
            "learning_rate: 0.00041943040000000023\n"
          ]
        },
        {
          "output_type": "stream",
          "name": "stderr",
          "text": [
            "epoch 808: 100%|██████████| 282/282 [00:08<00:00, 32.94it/s]\n"
          ]
        },
        {
          "output_type": "stream",
          "name": "stdout",
          "text": [
            "validation loss: 0.0014998769147528542 at epoch 809\n",
            "learning_rate: 0.00041943040000000023\n"
          ]
        },
        {
          "output_type": "stream",
          "name": "stderr",
          "text": [
            "epoch 809: 100%|██████████| 282/282 [00:08<00:00, 35.14it/s]\n"
          ]
        },
        {
          "output_type": "stream",
          "name": "stdout",
          "text": [
            "validation loss: 0.000262748746201396 at epoch 810\n",
            "learning_rate: 0.00041943040000000023\n",
            "model saved in ani_acrolein.pt\n"
          ]
        },
        {
          "output_type": "stream",
          "name": "stderr",
          "text": [
            "epoch 810: 100%|██████████| 282/282 [00:08<00:00, 34.38it/s]\n"
          ]
        },
        {
          "output_type": "stream",
          "name": "stdout",
          "text": [
            "validation loss: 0.0015050119169884258 at epoch 811\n",
            "learning_rate: 0.00041943040000000023\n"
          ]
        },
        {
          "output_type": "stream",
          "name": "stderr",
          "text": [
            "epoch 811: 100%|██████████| 282/282 [00:08<00:00, 33.17it/s]\n"
          ]
        },
        {
          "output_type": "stream",
          "name": "stdout",
          "text": [
            "validation loss: 0.00027453063800930976 at epoch 812\n",
            "learning_rate: 0.00041943040000000023\n"
          ]
        },
        {
          "output_type": "stream",
          "name": "stderr",
          "text": [
            "epoch 812: 100%|██████████| 282/282 [00:07<00:00, 35.44it/s]\n"
          ]
        },
        {
          "output_type": "stream",
          "name": "stdout",
          "text": [
            "validation loss: 0.0005095147825777531 at epoch 813\n",
            "learning_rate: 0.00041943040000000023\n"
          ]
        },
        {
          "output_type": "stream",
          "name": "stderr",
          "text": [
            "epoch 813: 100%|██████████| 282/282 [00:07<00:00, 35.35it/s]\n"
          ]
        },
        {
          "output_type": "stream",
          "name": "stdout",
          "text": [
            "validation loss: 0.0004628164031439357 at epoch 814\n",
            "learning_rate: 0.00041943040000000023\n"
          ]
        },
        {
          "output_type": "stream",
          "name": "stderr",
          "text": [
            "epoch 814: 100%|██████████| 282/282 [00:08<00:00, 33.11it/s]\n"
          ]
        },
        {
          "output_type": "stream",
          "name": "stdout",
          "text": [
            "validation loss: 0.0016511505130264493 at epoch 815\n",
            "learning_rate: 0.00041943040000000023\n"
          ]
        },
        {
          "output_type": "stream",
          "name": "stderr",
          "text": [
            "epoch 815: 100%|██████████| 282/282 [00:08<00:00, 33.76it/s]\n"
          ]
        },
        {
          "output_type": "stream",
          "name": "stdout",
          "text": [
            "validation loss: 0.0007902138204210334 at epoch 816\n",
            "learning_rate: 0.00041943040000000023\n"
          ]
        },
        {
          "output_type": "stream",
          "name": "stderr",
          "text": [
            "epoch 816: 100%|██████████| 282/282 [00:08<00:00, 34.67it/s]\n"
          ]
        },
        {
          "output_type": "stream",
          "name": "stdout",
          "text": [
            "validation loss: 0.0010782496763600243 at epoch 817\n",
            "learning_rate: 0.00041943040000000023\n"
          ]
        },
        {
          "output_type": "stream",
          "name": "stderr",
          "text": [
            "epoch 817: 100%|██████████| 282/282 [00:08<00:00, 32.64it/s]\n"
          ]
        },
        {
          "output_type": "stream",
          "name": "stdout",
          "text": [
            "validation loss: 0.00032647241403659186 at epoch 818\n",
            "learning_rate: 0.00041943040000000023\n"
          ]
        },
        {
          "output_type": "stream",
          "name": "stderr",
          "text": [
            "epoch 818: 100%|██████████| 282/282 [00:08<00:00, 32.50it/s]\n"
          ]
        },
        {
          "output_type": "stream",
          "name": "stdout",
          "text": [
            "validation loss: 0.0009012514394190576 at epoch 819\n",
            "learning_rate: 0.00041943040000000023\n"
          ]
        },
        {
          "output_type": "stream",
          "name": "stderr",
          "text": [
            "epoch 819: 100%|██████████| 282/282 [00:07<00:00, 36.51it/s]\n"
          ]
        },
        {
          "output_type": "stream",
          "name": "stdout",
          "text": [
            "validation loss: 0.000495933961123228 at epoch 820\n",
            "learning_rate: 0.00041943040000000023\n"
          ]
        },
        {
          "output_type": "stream",
          "name": "stderr",
          "text": [
            "epoch 820: 100%|██████████| 282/282 [00:08<00:00, 32.72it/s]\n"
          ]
        },
        {
          "output_type": "stream",
          "name": "stdout",
          "text": [
            "validation loss: 0.0008530094424883524 at epoch 821\n",
            "learning_rate: 0.00041943040000000023\n"
          ]
        },
        {
          "output_type": "stream",
          "name": "stderr",
          "text": [
            "epoch 821: 100%|██████████| 282/282 [00:08<00:00, 33.01it/s]\n"
          ]
        },
        {
          "output_type": "stream",
          "name": "stdout",
          "text": [
            "validation loss: 0.00030606273665196367 at epoch 822\n",
            "learning_rate: 0.00041943040000000023\n"
          ]
        },
        {
          "output_type": "stream",
          "name": "stderr",
          "text": [
            "epoch 822: 100%|██████████| 282/282 [00:08<00:00, 34.41it/s]\n"
          ]
        },
        {
          "output_type": "stream",
          "name": "stdout",
          "text": [
            "validation loss: 0.0011214940870801608 at epoch 823\n",
            "learning_rate: 0.00041943040000000023\n"
          ]
        },
        {
          "output_type": "stream",
          "name": "stderr",
          "text": [
            "epoch 823: 100%|██████████| 282/282 [00:08<00:00, 34.84it/s]\n"
          ]
        },
        {
          "output_type": "stream",
          "name": "stdout",
          "text": [
            "validation loss: 0.0006358820307585928 at epoch 824\n",
            "learning_rate: 0.00041943040000000023\n"
          ]
        },
        {
          "output_type": "stream",
          "name": "stderr",
          "text": [
            "epoch 824: 100%|██████████| 282/282 [00:08<00:00, 32.72it/s]\n"
          ]
        },
        {
          "output_type": "stream",
          "name": "stdout",
          "text": [
            "validation loss: 0.0011672325995233325 at epoch 825\n",
            "learning_rate: 0.00041943040000000023\n"
          ]
        },
        {
          "output_type": "stream",
          "name": "stderr",
          "text": [
            "epoch 825: 100%|██████████| 282/282 [00:08<00:00, 34.08it/s]\n"
          ]
        },
        {
          "output_type": "stream",
          "name": "stdout",
          "text": [
            "validation loss: 0.0010358696985575888 at epoch 826\n",
            "learning_rate: 0.00041943040000000023\n"
          ]
        },
        {
          "output_type": "stream",
          "name": "stderr",
          "text": [
            "epoch 826: 100%|██████████| 282/282 [00:07<00:00, 36.24it/s]\n"
          ]
        },
        {
          "output_type": "stream",
          "name": "stdout",
          "text": [
            "validation loss: 0.0011175381615757941 at epoch 827\n",
            "learning_rate: 0.00041943040000000023\n"
          ]
        },
        {
          "output_type": "stream",
          "name": "stderr",
          "text": [
            "epoch 827: 100%|██████████| 282/282 [00:08<00:00, 32.77it/s]\n"
          ]
        },
        {
          "output_type": "stream",
          "name": "stdout",
          "text": [
            "validation loss: 0.001179686650633812 at epoch 828\n",
            "learning_rate: 0.00041943040000000023\n"
          ]
        },
        {
          "output_type": "stream",
          "name": "stderr",
          "text": [
            "epoch 828: 100%|██████████| 282/282 [00:08<00:00, 33.20it/s]\n"
          ]
        },
        {
          "output_type": "stream",
          "name": "stdout",
          "text": [
            "validation loss: 0.0010864542822043102 at epoch 829\n",
            "learning_rate: 0.00041943040000000023\n"
          ]
        },
        {
          "output_type": "stream",
          "name": "stderr",
          "text": [
            "epoch 829: 100%|██████████| 282/282 [00:07<00:00, 35.48it/s]\n"
          ]
        },
        {
          "output_type": "stream",
          "name": "stdout",
          "text": [
            "validation loss: 0.0003002422623750236 at epoch 830\n",
            "learning_rate: 0.00041943040000000023\n"
          ]
        },
        {
          "output_type": "stream",
          "name": "stderr",
          "text": [
            "epoch 830: 100%|██████████| 282/282 [00:08<00:00, 33.00it/s]\n"
          ]
        },
        {
          "output_type": "stream",
          "name": "stdout",
          "text": [
            "validation loss: 0.000535156927174992 at epoch 831\n",
            "learning_rate: 0.00041943040000000023\n"
          ]
        },
        {
          "output_type": "stream",
          "name": "stderr",
          "text": [
            "epoch 831: 100%|██████████| 282/282 [00:08<00:00, 32.97it/s]\n"
          ]
        },
        {
          "output_type": "stream",
          "name": "stdout",
          "text": [
            "validation loss: 0.0002805307480610079 at epoch 832\n",
            "learning_rate: 0.00041943040000000023\n"
          ]
        },
        {
          "output_type": "stream",
          "name": "stderr",
          "text": [
            "epoch 832: 100%|██████████| 282/282 [00:07<00:00, 36.46it/s]\n"
          ]
        },
        {
          "output_type": "stream",
          "name": "stdout",
          "text": [
            "validation loss: 0.00027213789895176886 at epoch 833\n",
            "learning_rate: 0.00041943040000000023\n"
          ]
        },
        {
          "output_type": "stream",
          "name": "stderr",
          "text": [
            "epoch 833: 100%|██████████| 282/282 [00:08<00:00, 33.76it/s]\n"
          ]
        },
        {
          "output_type": "stream",
          "name": "stdout",
          "text": [
            "validation loss: 0.00040025557722482417 at epoch 834\n",
            "learning_rate: 0.00041943040000000023\n"
          ]
        },
        {
          "output_type": "stream",
          "name": "stderr",
          "text": [
            "epoch 834: 100%|██████████| 282/282 [00:08<00:00, 32.81it/s]\n"
          ]
        },
        {
          "output_type": "stream",
          "name": "stdout",
          "text": [
            "validation loss: 0.0008199368996752633 at epoch 835\n",
            "learning_rate: 0.00041943040000000023\n"
          ]
        },
        {
          "output_type": "stream",
          "name": "stderr",
          "text": [
            "epoch 835: 100%|██████████| 282/282 [00:07<00:00, 35.35it/s]\n"
          ]
        },
        {
          "output_type": "stream",
          "name": "stdout",
          "text": [
            "validation loss: 0.000307501915221413 at epoch 836\n",
            "learning_rate: 0.00041943040000000023\n"
          ]
        },
        {
          "output_type": "stream",
          "name": "stderr",
          "text": [
            "epoch 836: 100%|██████████| 282/282 [00:08<00:00, 34.30it/s]\n"
          ]
        },
        {
          "output_type": "stream",
          "name": "stdout",
          "text": [
            "validation loss: 0.0013652867318855392 at epoch 837\n",
            "learning_rate: 0.00041943040000000023\n"
          ]
        },
        {
          "output_type": "stream",
          "name": "stderr",
          "text": [
            "epoch 837: 100%|██████████| 282/282 [00:08<00:00, 33.23it/s]\n"
          ]
        },
        {
          "output_type": "stream",
          "name": "stdout",
          "text": [
            "validation loss: 0.0007136412883798281 at epoch 838\n",
            "learning_rate: 0.00041943040000000023\n"
          ]
        },
        {
          "output_type": "stream",
          "name": "stderr",
          "text": [
            "epoch 838: 100%|██████████| 282/282 [00:08<00:00, 33.86it/s]\n"
          ]
        },
        {
          "output_type": "stream",
          "name": "stdout",
          "text": [
            "validation loss: 0.0007277277811533875 at epoch 839\n",
            "learning_rate: 0.00041943040000000023\n"
          ]
        },
        {
          "output_type": "stream",
          "name": "stderr",
          "text": [
            "epoch 839: 100%|██████████| 282/282 [00:07<00:00, 36.43it/s]\n"
          ]
        },
        {
          "output_type": "stream",
          "name": "stdout",
          "text": [
            "validation loss: 0.0015969233007894622 at epoch 840\n",
            "learning_rate: 0.00041943040000000023\n"
          ]
        },
        {
          "output_type": "stream",
          "name": "stderr",
          "text": [
            "epoch 840: 100%|██████████| 282/282 [00:08<00:00, 33.12it/s]\n"
          ]
        },
        {
          "output_type": "stream",
          "name": "stdout",
          "text": [
            "validation loss: 0.0006342543243534035 at epoch 841\n",
            "learning_rate: 0.00041943040000000023\n"
          ]
        },
        {
          "output_type": "stream",
          "name": "stderr",
          "text": [
            "epoch 841: 100%|██████████| 282/282 [00:08<00:00, 33.05it/s]\n"
          ]
        },
        {
          "output_type": "stream",
          "name": "stdout",
          "text": [
            "validation loss: 0.0006470930924018224 at epoch 842\n",
            "learning_rate: 0.00041943040000000023\n"
          ]
        },
        {
          "output_type": "stream",
          "name": "stderr",
          "text": [
            "epoch 842: 100%|██████████| 282/282 [00:07<00:00, 36.50it/s]\n"
          ]
        },
        {
          "output_type": "stream",
          "name": "stdout",
          "text": [
            "validation loss: 0.001286730916135841 at epoch 843\n",
            "learning_rate: 0.00041943040000000023\n"
          ]
        },
        {
          "output_type": "stream",
          "name": "stderr",
          "text": [
            "epoch 843: 100%|██████████| 282/282 [00:08<00:00, 32.78it/s]\n"
          ]
        },
        {
          "output_type": "stream",
          "name": "stdout",
          "text": [
            "validation loss: 0.00026585420676403574 at epoch 844\n",
            "learning_rate: 0.00041943040000000023\n"
          ]
        },
        {
          "output_type": "stream",
          "name": "stderr",
          "text": [
            "epoch 844: 100%|██████████| 282/282 [00:08<00:00, 33.00it/s]\n"
          ]
        },
        {
          "output_type": "stream",
          "name": "stdout",
          "text": [
            "validation loss: 0.0015811153004566829 at epoch 845\n",
            "learning_rate: 0.00041943040000000023\n"
          ]
        },
        {
          "output_type": "stream",
          "name": "stderr",
          "text": [
            "epoch 845: 100%|██████████| 282/282 [00:07<00:00, 35.63it/s]\n"
          ]
        },
        {
          "output_type": "stream",
          "name": "stdout",
          "text": [
            "validation loss: 0.000972997801999251 at epoch 846\n",
            "learning_rate: 0.00041943040000000023\n"
          ]
        },
        {
          "output_type": "stream",
          "name": "stderr",
          "text": [
            "epoch 846: 100%|██████████| 282/282 [00:08<00:00, 35.00it/s]\n"
          ]
        },
        {
          "output_type": "stream",
          "name": "stdout",
          "text": [
            "validation loss: 0.0004068781692120764 at epoch 847\n",
            "learning_rate: 0.00041943040000000023\n"
          ]
        },
        {
          "output_type": "stream",
          "name": "stderr",
          "text": [
            "epoch 847: 100%|██████████| 282/282 [00:08<00:00, 33.32it/s]\n"
          ]
        },
        {
          "output_type": "stream",
          "name": "stdout",
          "text": [
            "validation loss: 0.0004961171986328231 at epoch 848\n",
            "learning_rate: 0.00041943040000000023\n"
          ]
        },
        {
          "output_type": "stream",
          "name": "stderr",
          "text": [
            "epoch 848: 100%|██████████| 282/282 [00:08<00:00, 33.48it/s]\n"
          ]
        },
        {
          "output_type": "stream",
          "name": "stdout",
          "text": [
            "validation loss: 0.0006638913746509287 at epoch 849\n",
            "learning_rate: 0.00041943040000000023\n"
          ]
        },
        {
          "output_type": "stream",
          "name": "stderr",
          "text": [
            "epoch 849: 100%|██████████| 282/282 [00:07<00:00, 36.42it/s]\n"
          ]
        },
        {
          "output_type": "stream",
          "name": "stdout",
          "text": [
            "validation loss: 0.0004180718987352318 at epoch 850\n",
            "learning_rate: 0.00041943040000000023\n"
          ]
        },
        {
          "output_type": "stream",
          "name": "stderr",
          "text": [
            "epoch 850: 100%|██████████| 282/282 [00:08<00:00, 32.62it/s]\n"
          ]
        },
        {
          "output_type": "stream",
          "name": "stdout",
          "text": [
            "validation loss: 0.0014224810211194887 at epoch 851\n",
            "learning_rate: 0.00041943040000000023\n"
          ]
        },
        {
          "output_type": "stream",
          "name": "stderr",
          "text": [
            "epoch 851: 100%|██████████| 282/282 [00:08<00:00, 32.81it/s]\n"
          ]
        },
        {
          "output_type": "stream",
          "name": "stdout",
          "text": [
            "validation loss: 0.0003900338912175761 at epoch 852\n",
            "learning_rate: 0.00041943040000000023\n"
          ]
        },
        {
          "output_type": "stream",
          "name": "stderr",
          "text": [
            "epoch 852: 100%|██████████| 282/282 [00:07<00:00, 36.62it/s]\n"
          ]
        },
        {
          "output_type": "stream",
          "name": "stdout",
          "text": [
            "validation loss: 0.0013802956177128686 at epoch 853\n",
            "learning_rate: 0.00041943040000000023\n"
          ]
        },
        {
          "output_type": "stream",
          "name": "stderr",
          "text": [
            "epoch 853: 100%|██████████| 282/282 [00:08<00:00, 33.52it/s]\n"
          ]
        },
        {
          "output_type": "stream",
          "name": "stdout",
          "text": [
            "validation loss: 0.0003976659551262856 at epoch 854\n",
            "learning_rate: 0.00041943040000000023\n"
          ]
        },
        {
          "output_type": "stream",
          "name": "stderr",
          "text": [
            "epoch 854: 100%|██████████| 282/282 [00:08<00:00, 32.84it/s]\n"
          ]
        },
        {
          "output_type": "stream",
          "name": "stdout",
          "text": [
            "validation loss: 0.0004189889642099539 at epoch 855\n",
            "learning_rate: 0.00041943040000000023\n"
          ]
        },
        {
          "output_type": "stream",
          "name": "stderr",
          "text": [
            "epoch 855: 100%|██████████| 282/282 [00:07<00:00, 36.62it/s]\n"
          ]
        },
        {
          "output_type": "stream",
          "name": "stdout",
          "text": [
            "validation loss: 0.0009538927723964055 at epoch 856\n",
            "learning_rate: 0.00041943040000000023\n"
          ]
        },
        {
          "output_type": "stream",
          "name": "stderr",
          "text": [
            "epoch 856: 100%|██████████| 282/282 [00:08<00:00, 32.64it/s]\n"
          ]
        },
        {
          "output_type": "stream",
          "name": "stdout",
          "text": [
            "validation loss: 0.0003771814190679126 at epoch 857\n",
            "learning_rate: 0.00041943040000000023\n"
          ]
        },
        {
          "output_type": "stream",
          "name": "stderr",
          "text": [
            "epoch 857: 100%|██████████| 282/282 [00:08<00:00, 33.19it/s]\n"
          ]
        },
        {
          "output_type": "stream",
          "name": "stdout",
          "text": [
            "validation loss: 0.0014353783312771055 at epoch 858\n",
            "learning_rate: 0.00041943040000000023\n"
          ]
        },
        {
          "output_type": "stream",
          "name": "stderr",
          "text": [
            "epoch 858: 100%|██████████| 282/282 [00:08<00:00, 35.14it/s]\n"
          ]
        },
        {
          "output_type": "stream",
          "name": "stdout",
          "text": [
            "validation loss: 0.001340211900571982 at epoch 859\n",
            "learning_rate: 0.00041943040000000023\n"
          ]
        },
        {
          "output_type": "stream",
          "name": "stderr",
          "text": [
            "epoch 859: 100%|██████████| 282/282 [00:07<00:00, 35.61it/s]\n"
          ]
        },
        {
          "output_type": "stream",
          "name": "stdout",
          "text": [
            "validation loss: 0.0006359327601061927 at epoch 860\n",
            "learning_rate: 0.00041943040000000023\n"
          ]
        },
        {
          "output_type": "stream",
          "name": "stderr",
          "text": [
            "epoch 860: 100%|██████████| 282/282 [00:08<00:00, 32.94it/s]\n"
          ]
        },
        {
          "output_type": "stream",
          "name": "stdout",
          "text": [
            "validation loss: 0.0013861820904744995 at epoch 861\n",
            "learning_rate: 0.00041943040000000023\n"
          ]
        },
        {
          "output_type": "stream",
          "name": "stderr",
          "text": [
            "epoch 861: 100%|██████████| 282/282 [00:08<00:00, 33.58it/s]\n"
          ]
        },
        {
          "output_type": "stream",
          "name": "stdout",
          "text": [
            "validation loss: 0.0003280480032165845 at epoch 862\n",
            "learning_rate: 0.0003355443200000002\n"
          ]
        },
        {
          "output_type": "stream",
          "name": "stderr",
          "text": [
            "epoch 862: 100%|██████████| 282/282 [00:07<00:00, 36.54it/s]\n"
          ]
        },
        {
          "output_type": "stream",
          "name": "stdout",
          "text": [
            "validation loss: 0.000297602738150292 at epoch 863\n",
            "learning_rate: 0.0003355443200000002\n"
          ]
        },
        {
          "output_type": "stream",
          "name": "stderr",
          "text": [
            "epoch 863: 100%|██████████| 282/282 [00:08<00:00, 32.27it/s]\n"
          ]
        },
        {
          "output_type": "stream",
          "name": "stdout",
          "text": [
            "validation loss: 0.0003528250199225214 at epoch 864\n",
            "learning_rate: 0.0003355443200000002\n"
          ]
        },
        {
          "output_type": "stream",
          "name": "stderr",
          "text": [
            "epoch 864: 100%|██████████| 282/282 [00:08<00:00, 32.87it/s]\n"
          ]
        },
        {
          "output_type": "stream",
          "name": "stdout",
          "text": [
            "validation loss: 0.0006604167260229588 at epoch 865\n",
            "learning_rate: 0.0003355443200000002\n"
          ]
        },
        {
          "output_type": "stream",
          "name": "stderr",
          "text": [
            "epoch 865: 100%|██████████| 282/282 [00:07<00:00, 36.50it/s]\n"
          ]
        },
        {
          "output_type": "stream",
          "name": "stdout",
          "text": [
            "validation loss: 0.0005377698613123761 at epoch 866\n",
            "learning_rate: 0.0003355443200000002\n"
          ]
        },
        {
          "output_type": "stream",
          "name": "stderr",
          "text": [
            "epoch 866: 100%|██████████| 282/282 [00:08<00:00, 33.00it/s]\n"
          ]
        },
        {
          "output_type": "stream",
          "name": "stdout",
          "text": [
            "validation loss: 0.000499918626414405 at epoch 867\n",
            "learning_rate: 0.0003355443200000002\n"
          ]
        },
        {
          "output_type": "stream",
          "name": "stderr",
          "text": [
            "epoch 867: 100%|██████████| 282/282 [00:08<00:00, 33.25it/s]\n"
          ]
        },
        {
          "output_type": "stream",
          "name": "stdout",
          "text": [
            "validation loss: 0.000511786842925681 at epoch 868\n",
            "learning_rate: 0.0003355443200000002\n"
          ]
        },
        {
          "output_type": "stream",
          "name": "stderr",
          "text": [
            "epoch 868: 100%|██████████| 282/282 [00:07<00:00, 36.23it/s]\n"
          ]
        },
        {
          "output_type": "stream",
          "name": "stdout",
          "text": [
            "validation loss: 0.00048657982092764645 at epoch 869\n",
            "learning_rate: 0.0003355443200000002\n"
          ]
        },
        {
          "output_type": "stream",
          "name": "stderr",
          "text": [
            "epoch 869: 100%|██████████| 282/282 [00:08<00:00, 33.79it/s]\n"
          ]
        },
        {
          "output_type": "stream",
          "name": "stdout",
          "text": [
            "validation loss: 0.0002879997400773896 at epoch 870\n",
            "learning_rate: 0.0003355443200000002\n"
          ]
        },
        {
          "output_type": "stream",
          "name": "stderr",
          "text": [
            "epoch 870: 100%|██████████| 282/282 [00:08<00:00, 32.43it/s]\n"
          ]
        },
        {
          "output_type": "stream",
          "name": "stdout",
          "text": [
            "validation loss: 0.0003018603488388989 at epoch 871\n",
            "learning_rate: 0.0003355443200000002\n"
          ]
        },
        {
          "output_type": "stream",
          "name": "stderr",
          "text": [
            "epoch 871: 100%|██████████| 282/282 [00:08<00:00, 34.89it/s]\n"
          ]
        },
        {
          "output_type": "stream",
          "name": "stdout",
          "text": [
            "validation loss: 0.0002778448381771644 at epoch 872\n",
            "learning_rate: 0.0003355443200000002\n"
          ]
        },
        {
          "output_type": "stream",
          "name": "stderr",
          "text": [
            "epoch 872: 100%|██████████| 282/282 [00:07<00:00, 35.87it/s]\n"
          ]
        },
        {
          "output_type": "stream",
          "name": "stdout",
          "text": [
            "validation loss: 0.0002807042439364725 at epoch 873\n",
            "learning_rate: 0.0003355443200000002\n"
          ]
        },
        {
          "output_type": "stream",
          "name": "stderr",
          "text": [
            "epoch 873: 100%|██████████| 282/282 [00:08<00:00, 32.95it/s]\n"
          ]
        },
        {
          "output_type": "stream",
          "name": "stdout",
          "text": [
            "validation loss: 0.0011191763521896467 at epoch 874\n",
            "learning_rate: 0.0003355443200000002\n"
          ]
        },
        {
          "output_type": "stream",
          "name": "stderr",
          "text": [
            "epoch 874: 100%|██████████| 282/282 [00:08<00:00, 33.30it/s]\n"
          ]
        },
        {
          "output_type": "stream",
          "name": "stdout",
          "text": [
            "validation loss: 0.0011921008593506284 at epoch 875\n",
            "learning_rate: 0.0003355443200000002\n"
          ]
        },
        {
          "output_type": "stream",
          "name": "stderr",
          "text": [
            "epoch 875: 100%|██████████| 282/282 [00:07<00:00, 36.59it/s]\n"
          ]
        },
        {
          "output_type": "stream",
          "name": "stdout",
          "text": [
            "validation loss: 0.0008844736566146215 at epoch 876\n",
            "learning_rate: 0.0003355443200000002\n"
          ]
        },
        {
          "output_type": "stream",
          "name": "stderr",
          "text": [
            "epoch 876: 100%|██████████| 282/282 [00:08<00:00, 32.99it/s]\n"
          ]
        },
        {
          "output_type": "stream",
          "name": "stdout",
          "text": [
            "validation loss: 0.0011771985209650465 at epoch 877\n",
            "learning_rate: 0.0003355443200000002\n"
          ]
        },
        {
          "output_type": "stream",
          "name": "stderr",
          "text": [
            "epoch 877: 100%|██████████| 282/282 [00:08<00:00, 33.18it/s]\n"
          ]
        },
        {
          "output_type": "stream",
          "name": "stdout",
          "text": [
            "validation loss: 0.0013279154317246543 at epoch 878\n",
            "learning_rate: 0.0003355443200000002\n"
          ]
        },
        {
          "output_type": "stream",
          "name": "stderr",
          "text": [
            "epoch 878: 100%|██████████| 282/282 [00:07<00:00, 36.38it/s]\n"
          ]
        },
        {
          "output_type": "stream",
          "name": "stdout",
          "text": [
            "validation loss: 0.0007919486959775289 at epoch 879\n",
            "learning_rate: 0.0003355443200000002\n"
          ]
        },
        {
          "output_type": "stream",
          "name": "stderr",
          "text": [
            "epoch 879: 100%|██████████| 282/282 [00:08<00:00, 32.22it/s]\n"
          ]
        },
        {
          "output_type": "stream",
          "name": "stdout",
          "text": [
            "validation loss: 0.0007156193177733156 at epoch 880\n",
            "learning_rate: 0.0003355443200000002\n"
          ]
        },
        {
          "output_type": "stream",
          "name": "stderr",
          "text": [
            "epoch 880: 100%|██████████| 282/282 [00:08<00:00, 32.84it/s]\n"
          ]
        },
        {
          "output_type": "stream",
          "name": "stdout",
          "text": [
            "validation loss: 0.0012934125653571553 at epoch 881\n",
            "learning_rate: 0.0003355443200000002\n"
          ]
        },
        {
          "output_type": "stream",
          "name": "stderr",
          "text": [
            "epoch 881: 100%|██████████| 282/282 [00:07<00:00, 36.35it/s]\n"
          ]
        },
        {
          "output_type": "stream",
          "name": "stdout",
          "text": [
            "validation loss: 0.0011156028567088974 at epoch 882\n",
            "learning_rate: 0.0003355443200000002\n"
          ]
        },
        {
          "output_type": "stream",
          "name": "stderr",
          "text": [
            "epoch 882: 100%|██████████| 282/282 [00:08<00:00, 34.24it/s]\n"
          ]
        },
        {
          "output_type": "stream",
          "name": "stdout",
          "text": [
            "validation loss: 0.00033989742750095 at epoch 883\n",
            "learning_rate: 0.0003355443200000002\n"
          ]
        },
        {
          "output_type": "stream",
          "name": "stderr",
          "text": [
            "epoch 883: 100%|██████████| 282/282 [00:08<00:00, 32.11it/s]\n"
          ]
        },
        {
          "output_type": "stream",
          "name": "stdout",
          "text": [
            "validation loss: 0.0002790192595372597 at epoch 884\n",
            "learning_rate: 0.0003355443200000002\n"
          ]
        },
        {
          "output_type": "stream",
          "name": "stderr",
          "text": [
            "epoch 884: 100%|██████████| 282/282 [00:08<00:00, 34.42it/s]\n"
          ]
        },
        {
          "output_type": "stream",
          "name": "stdout",
          "text": [
            "validation loss: 0.000466952515559064 at epoch 885\n",
            "learning_rate: 0.0003355443200000002\n"
          ]
        },
        {
          "output_type": "stream",
          "name": "stderr",
          "text": [
            "epoch 885: 100%|██████████| 282/282 [00:07<00:00, 36.04it/s]\n"
          ]
        },
        {
          "output_type": "stream",
          "name": "stdout",
          "text": [
            "validation loss: 0.0002937315971487098 at epoch 886\n",
            "learning_rate: 0.0003355443200000002\n"
          ]
        },
        {
          "output_type": "stream",
          "name": "stderr",
          "text": [
            "epoch 886: 100%|██████████| 282/282 [00:08<00:00, 32.93it/s]\n"
          ]
        },
        {
          "output_type": "stream",
          "name": "stdout",
          "text": [
            "validation loss: 0.00034158261906769543 at epoch 887\n",
            "learning_rate: 0.0003355443200000002\n"
          ]
        },
        {
          "output_type": "stream",
          "name": "stderr",
          "text": [
            "epoch 887: 100%|██████████| 282/282 [00:08<00:00, 33.18it/s]\n"
          ]
        },
        {
          "output_type": "stream",
          "name": "stdout",
          "text": [
            "validation loss: 0.0002695457943611675 at epoch 888\n",
            "learning_rate: 0.0003355443200000002\n"
          ]
        },
        {
          "output_type": "stream",
          "name": "stderr",
          "text": [
            "epoch 888: 100%|██████████| 282/282 [00:07<00:00, 36.81it/s]\n"
          ]
        },
        {
          "output_type": "stream",
          "name": "stdout",
          "text": [
            "validation loss: 0.000428822914759318 at epoch 889\n",
            "learning_rate: 0.0003355443200000002\n"
          ]
        },
        {
          "output_type": "stream",
          "name": "stderr",
          "text": [
            "epoch 889: 100%|██████████| 282/282 [00:08<00:00, 32.97it/s]\n"
          ]
        },
        {
          "output_type": "stream",
          "name": "stdout",
          "text": [
            "validation loss: 0.0011073070077432527 at epoch 890\n",
            "learning_rate: 0.0003355443200000002\n"
          ]
        },
        {
          "output_type": "stream",
          "name": "stderr",
          "text": [
            "epoch 890: 100%|██████████| 282/282 [00:08<00:00, 32.81it/s]\n"
          ]
        },
        {
          "output_type": "stream",
          "name": "stdout",
          "text": [
            "validation loss: 0.0006338029855655299 at epoch 891\n",
            "learning_rate: 0.0003355443200000002\n"
          ]
        },
        {
          "output_type": "stream",
          "name": "stderr",
          "text": [
            "epoch 891: 100%|██████████| 282/282 [00:07<00:00, 36.57it/s]\n"
          ]
        },
        {
          "output_type": "stream",
          "name": "stdout",
          "text": [
            "validation loss: 0.0005111701757543617 at epoch 892\n",
            "learning_rate: 0.0003355443200000002\n"
          ]
        },
        {
          "output_type": "stream",
          "name": "stderr",
          "text": [
            "epoch 892: 100%|██████████| 282/282 [00:08<00:00, 33.11it/s]\n"
          ]
        },
        {
          "output_type": "stream",
          "name": "stdout",
          "text": [
            "validation loss: 0.0014011771455407142 at epoch 893\n",
            "learning_rate: 0.0003355443200000002\n"
          ]
        },
        {
          "output_type": "stream",
          "name": "stderr",
          "text": [
            "epoch 893: 100%|██████████| 282/282 [00:08<00:00, 33.48it/s]\n"
          ]
        },
        {
          "output_type": "stream",
          "name": "stdout",
          "text": [
            "validation loss: 0.0007138489344053798 at epoch 894\n",
            "learning_rate: 0.0003355443200000002\n"
          ]
        },
        {
          "output_type": "stream",
          "name": "stderr",
          "text": [
            "epoch 894: 100%|██████████| 282/282 [00:07<00:00, 36.18it/s]\n"
          ]
        },
        {
          "output_type": "stream",
          "name": "stdout",
          "text": [
            "validation loss: 0.0006491114890409841 at epoch 895\n",
            "learning_rate: 0.0003355443200000002\n"
          ]
        },
        {
          "output_type": "stream",
          "name": "stderr",
          "text": [
            "epoch 895: 100%|██████████| 282/282 [00:08<00:00, 34.27it/s]\n"
          ]
        },
        {
          "output_type": "stream",
          "name": "stdout",
          "text": [
            "validation loss: 0.0005200218740436766 at epoch 896\n",
            "learning_rate: 0.0003355443200000002\n"
          ]
        },
        {
          "output_type": "stream",
          "name": "stderr",
          "text": [
            "epoch 896: 100%|██████████| 282/282 [00:08<00:00, 33.18it/s]\n"
          ]
        },
        {
          "output_type": "stream",
          "name": "stdout",
          "text": [
            "validation loss: 0.0007490608274108834 at epoch 897\n",
            "learning_rate: 0.0003355443200000002\n"
          ]
        },
        {
          "output_type": "stream",
          "name": "stderr",
          "text": [
            "epoch 897: 100%|██████████| 282/282 [00:08<00:00, 32.64it/s]\n"
          ]
        },
        {
          "output_type": "stream",
          "name": "stdout",
          "text": [
            "validation loss: 0.0002971990621752209 at epoch 898\n",
            "learning_rate: 0.0003355443200000002\n"
          ]
        },
        {
          "output_type": "stream",
          "name": "stderr",
          "text": [
            "epoch 898: 100%|██████████| 282/282 [00:07<00:00, 36.35it/s]\n"
          ]
        },
        {
          "output_type": "stream",
          "name": "stdout",
          "text": [
            "validation loss: 0.0005905113286442227 at epoch 899\n",
            "learning_rate: 0.0003355443200000002\n"
          ]
        },
        {
          "output_type": "stream",
          "name": "stderr",
          "text": [
            "epoch 899: 100%|██████████| 282/282 [00:08<00:00, 32.61it/s]\n"
          ]
        },
        {
          "output_type": "stream",
          "name": "stdout",
          "text": [
            "validation loss: 0.0007405910189780924 at epoch 900\n",
            "learning_rate: 0.0003355443200000002\n"
          ]
        },
        {
          "output_type": "stream",
          "name": "stderr",
          "text": [
            "epoch 900: 100%|██████████| 282/282 [00:08<00:00, 33.01it/s]\n"
          ]
        },
        {
          "output_type": "stream",
          "name": "stdout",
          "text": [
            "validation loss: 0.0005803315664331118 at epoch 901\n",
            "learning_rate: 0.0003355443200000002\n"
          ]
        },
        {
          "output_type": "stream",
          "name": "stderr",
          "text": [
            "epoch 901: 100%|██████████| 282/282 [00:07<00:00, 36.59it/s]\n"
          ]
        },
        {
          "output_type": "stream",
          "name": "stdout",
          "text": [
            "validation loss: 0.0010636445333560309 at epoch 902\n",
            "learning_rate: 0.0003355443200000002\n"
          ]
        },
        {
          "output_type": "stream",
          "name": "stderr",
          "text": [
            "epoch 902: 100%|██████████| 282/282 [00:08<00:00, 33.06it/s]\n"
          ]
        },
        {
          "output_type": "stream",
          "name": "stdout",
          "text": [
            "validation loss: 0.0007159272544085979 at epoch 903\n",
            "learning_rate: 0.0003355443200000002\n"
          ]
        },
        {
          "output_type": "stream",
          "name": "stderr",
          "text": [
            "epoch 903: 100%|██████████| 282/282 [00:08<00:00, 33.25it/s]\n"
          ]
        },
        {
          "output_type": "stream",
          "name": "stdout",
          "text": [
            "validation loss: 0.0009391184805168046 at epoch 904\n",
            "learning_rate: 0.0003355443200000002\n"
          ]
        },
        {
          "output_type": "stream",
          "name": "stderr",
          "text": [
            "epoch 904: 100%|██████████| 282/282 [00:07<00:00, 35.64it/s]\n"
          ]
        },
        {
          "output_type": "stream",
          "name": "stdout",
          "text": [
            "validation loss: 0.0005790648274123668 at epoch 905\n",
            "learning_rate: 0.0003355443200000002\n"
          ]
        },
        {
          "output_type": "stream",
          "name": "stderr",
          "text": [
            "epoch 905: 100%|██████████| 282/282 [00:08<00:00, 33.96it/s]\n"
          ]
        },
        {
          "output_type": "stream",
          "name": "stdout",
          "text": [
            "validation loss: 0.00035962441791262894 at epoch 906\n",
            "learning_rate: 0.0003355443200000002\n"
          ]
        },
        {
          "output_type": "stream",
          "name": "stderr",
          "text": [
            "epoch 906: 100%|██████████| 282/282 [00:08<00:00, 32.93it/s]\n"
          ]
        },
        {
          "output_type": "stream",
          "name": "stdout",
          "text": [
            "validation loss: 0.0002971728531022867 at epoch 907\n",
            "learning_rate: 0.0003355443200000002\n"
          ]
        },
        {
          "output_type": "stream",
          "name": "stderr",
          "text": [
            "epoch 907: 100%|██████████| 282/282 [00:07<00:00, 35.30it/s]\n"
          ]
        },
        {
          "output_type": "stream",
          "name": "stdout",
          "text": [
            "validation loss: 0.00031677104863855573 at epoch 908\n",
            "learning_rate: 0.0003355443200000002\n"
          ]
        },
        {
          "output_type": "stream",
          "name": "stderr",
          "text": [
            "epoch 908: 100%|██████████| 282/282 [00:08<00:00, 35.22it/s]\n"
          ]
        },
        {
          "output_type": "stream",
          "name": "stdout",
          "text": [
            "validation loss: 0.0006132342289719316 at epoch 909\n",
            "learning_rate: 0.0003355443200000002\n"
          ]
        },
        {
          "output_type": "stream",
          "name": "stderr",
          "text": [
            "epoch 909: 100%|██████████| 282/282 [00:08<00:00, 33.61it/s]\n"
          ]
        },
        {
          "output_type": "stream",
          "name": "stdout",
          "text": [
            "validation loss: 0.0012342626659406556 at epoch 910\n",
            "learning_rate: 0.0003355443200000002\n"
          ]
        },
        {
          "output_type": "stream",
          "name": "stderr",
          "text": [
            "epoch 910: 100%|██████████| 282/282 [00:08<00:00, 32.63it/s]\n"
          ]
        },
        {
          "output_type": "stream",
          "name": "stdout",
          "text": [
            "validation loss: 0.0007168257820109527 at epoch 911\n",
            "learning_rate: 0.0003355443200000002\n"
          ]
        },
        {
          "output_type": "stream",
          "name": "stderr",
          "text": [
            "epoch 911: 100%|██████████| 282/282 [00:07<00:00, 36.17it/s]\n"
          ]
        },
        {
          "output_type": "stream",
          "name": "stdout",
          "text": [
            "validation loss: 0.000885273191663954 at epoch 912\n",
            "learning_rate: 0.0003355443200000002\n"
          ]
        },
        {
          "output_type": "stream",
          "name": "stderr",
          "text": [
            "epoch 912: 100%|██████████| 282/282 [00:08<00:00, 33.05it/s]\n"
          ]
        },
        {
          "output_type": "stream",
          "name": "stdout",
          "text": [
            "validation loss: 0.00037453328031632633 at epoch 913\n",
            "learning_rate: 0.00026843545600000016\n"
          ]
        },
        {
          "output_type": "stream",
          "name": "stderr",
          "text": [
            "epoch 913: 100%|██████████| 282/282 [00:08<00:00, 32.32it/s]\n"
          ]
        },
        {
          "output_type": "stream",
          "name": "stdout",
          "text": [
            "validation loss: 0.00045225635626249845 at epoch 914\n",
            "learning_rate: 0.00026843545600000016\n"
          ]
        },
        {
          "output_type": "stream",
          "name": "stderr",
          "text": [
            "epoch 914: 100%|██████████| 282/282 [00:07<00:00, 36.13it/s]\n"
          ]
        },
        {
          "output_type": "stream",
          "name": "stdout",
          "text": [
            "validation loss: 0.000706037229547898 at epoch 915\n",
            "learning_rate: 0.00026843545600000016\n"
          ]
        },
        {
          "output_type": "stream",
          "name": "stderr",
          "text": [
            "epoch 915: 100%|██████████| 282/282 [00:08<00:00, 32.93it/s]\n"
          ]
        },
        {
          "output_type": "stream",
          "name": "stdout",
          "text": [
            "validation loss: 0.000742969219883283 at epoch 916\n",
            "learning_rate: 0.00026843545600000016\n"
          ]
        },
        {
          "output_type": "stream",
          "name": "stderr",
          "text": [
            "epoch 916: 100%|██████████| 282/282 [00:08<00:00, 33.13it/s]\n"
          ]
        },
        {
          "output_type": "stream",
          "name": "stdout",
          "text": [
            "validation loss: 0.0006355178703864416 at epoch 917\n",
            "learning_rate: 0.00026843545600000016\n"
          ]
        },
        {
          "output_type": "stream",
          "name": "stderr",
          "text": [
            "epoch 917: 100%|██████████| 282/282 [00:08<00:00, 34.56it/s]\n"
          ]
        },
        {
          "output_type": "stream",
          "name": "stdout",
          "text": [
            "validation loss: 0.0004687405654953586 at epoch 918\n",
            "learning_rate: 0.00026843545600000016\n"
          ]
        },
        {
          "output_type": "stream",
          "name": "stderr",
          "text": [
            "epoch 918: 100%|██████████| 282/282 [00:07<00:00, 35.57it/s]\n"
          ]
        },
        {
          "output_type": "stream",
          "name": "stdout",
          "text": [
            "validation loss: 0.0005863575090964635 at epoch 919\n",
            "learning_rate: 0.00026843545600000016\n"
          ]
        },
        {
          "output_type": "stream",
          "name": "stderr",
          "text": [
            "epoch 919: 100%|██████████| 282/282 [00:08<00:00, 33.01it/s]\n"
          ]
        },
        {
          "output_type": "stream",
          "name": "stdout",
          "text": [
            "validation loss: 0.00047599173916710745 at epoch 920\n",
            "learning_rate: 0.00026843545600000016\n"
          ]
        },
        {
          "output_type": "stream",
          "name": "stderr",
          "text": [
            "epoch 920: 100%|██████████| 282/282 [00:08<00:00, 33.01it/s]\n"
          ]
        },
        {
          "output_type": "stream",
          "name": "stdout",
          "text": [
            "validation loss: 0.0003231073599308729 at epoch 921\n",
            "learning_rate: 0.00026843545600000016\n"
          ]
        },
        {
          "output_type": "stream",
          "name": "stderr",
          "text": [
            "epoch 921: 100%|██████████| 282/282 [00:07<00:00, 36.62it/s]\n"
          ]
        },
        {
          "output_type": "stream",
          "name": "stdout",
          "text": [
            "validation loss: 0.0005879625003370974 at epoch 922\n",
            "learning_rate: 0.00026843545600000016\n"
          ]
        },
        {
          "output_type": "stream",
          "name": "stderr",
          "text": [
            "epoch 922: 100%|██████████| 282/282 [00:08<00:00, 32.57it/s]\n"
          ]
        },
        {
          "output_type": "stream",
          "name": "stdout",
          "text": [
            "validation loss: 0.0002591760508302185 at epoch 923\n",
            "learning_rate: 0.00026843545600000016\n",
            "model saved in ani_acrolein.pt\n"
          ]
        },
        {
          "output_type": "stream",
          "name": "stderr",
          "text": [
            "epoch 923: 100%|██████████| 282/282 [00:08<00:00, 32.83it/s]\n"
          ]
        },
        {
          "output_type": "stream",
          "name": "stdout",
          "text": [
            "validation loss: 0.0006526459604501724 at epoch 924\n",
            "learning_rate: 0.00026843545600000016\n"
          ]
        },
        {
          "output_type": "stream",
          "name": "stderr",
          "text": [
            "epoch 924: 100%|██████████| 282/282 [00:07<00:00, 35.52it/s]\n"
          ]
        },
        {
          "output_type": "stream",
          "name": "stdout",
          "text": [
            "validation loss: 0.0005667643940283193 at epoch 925\n",
            "learning_rate: 0.00026843545600000016\n"
          ]
        },
        {
          "output_type": "stream",
          "name": "stderr",
          "text": [
            "epoch 925: 100%|██████████| 282/282 [00:08<00:00, 32.79it/s]\n"
          ]
        },
        {
          "output_type": "stream",
          "name": "stdout",
          "text": [
            "validation loss: 0.0006814191043376923 at epoch 926\n",
            "learning_rate: 0.00026843545600000016\n"
          ]
        },
        {
          "output_type": "stream",
          "name": "stderr",
          "text": [
            "epoch 926: 100%|██████████| 282/282 [00:08<00:00, 32.92it/s]\n"
          ]
        },
        {
          "output_type": "stream",
          "name": "stdout",
          "text": [
            "validation loss: 0.0006275615501734945 at epoch 927\n",
            "learning_rate: 0.00026843545600000016\n"
          ]
        },
        {
          "output_type": "stream",
          "name": "stderr",
          "text": [
            "epoch 927: 100%|██████████| 282/282 [00:07<00:00, 36.44it/s]\n"
          ]
        },
        {
          "output_type": "stream",
          "name": "stdout",
          "text": [
            "validation loss: 0.0007026613064938121 at epoch 928\n",
            "learning_rate: 0.00026843545600000016\n"
          ]
        },
        {
          "output_type": "stream",
          "name": "stderr",
          "text": [
            "epoch 928: 100%|██████████| 282/282 [00:08<00:00, 33.14it/s]\n"
          ]
        },
        {
          "output_type": "stream",
          "name": "stdout",
          "text": [
            "validation loss: 0.0003641264583501551 at epoch 929\n",
            "learning_rate: 0.00026843545600000016\n"
          ]
        },
        {
          "output_type": "stream",
          "name": "stderr",
          "text": [
            "epoch 929: 100%|██████████| 282/282 [00:08<00:00, 33.05it/s]\n"
          ]
        },
        {
          "output_type": "stream",
          "name": "stdout",
          "text": [
            "validation loss: 0.0006035238525105847 at epoch 930\n",
            "learning_rate: 0.00026843545600000016\n"
          ]
        },
        {
          "output_type": "stream",
          "name": "stderr",
          "text": [
            "epoch 930: 100%|██████████| 282/282 [00:07<00:00, 35.73it/s]\n"
          ]
        },
        {
          "output_type": "stream",
          "name": "stdout",
          "text": [
            "validation loss: 0.00025981873046192856 at epoch 931\n",
            "learning_rate: 0.00026843545600000016\n"
          ]
        },
        {
          "output_type": "stream",
          "name": "stderr",
          "text": [
            "epoch 931: 100%|██████████| 282/282 [00:08<00:00, 33.77it/s]\n"
          ]
        },
        {
          "output_type": "stream",
          "name": "stdout",
          "text": [
            "validation loss: 0.000645264291514953 at epoch 932\n",
            "learning_rate: 0.00026843545600000016\n"
          ]
        },
        {
          "output_type": "stream",
          "name": "stderr",
          "text": [
            "epoch 932: 100%|██████████| 282/282 [00:08<00:00, 33.04it/s]\n"
          ]
        },
        {
          "output_type": "stream",
          "name": "stdout",
          "text": [
            "validation loss: 0.0005034415158960555 at epoch 933\n",
            "learning_rate: 0.00026843545600000016\n"
          ]
        },
        {
          "output_type": "stream",
          "name": "stderr",
          "text": [
            "epoch 933: 100%|██████████| 282/282 [00:08<00:00, 33.87it/s]\n"
          ]
        },
        {
          "output_type": "stream",
          "name": "stdout",
          "text": [
            "validation loss: 0.0007569802775979042 at epoch 934\n",
            "learning_rate: 0.00026843545600000016\n"
          ]
        },
        {
          "output_type": "stream",
          "name": "stderr",
          "text": [
            "epoch 934: 100%|██████████| 282/282 [00:07<00:00, 36.41it/s]\n"
          ]
        },
        {
          "output_type": "stream",
          "name": "stdout",
          "text": [
            "validation loss: 0.0007881557920740711 at epoch 935\n",
            "learning_rate: 0.00026843545600000016\n"
          ]
        },
        {
          "output_type": "stream",
          "name": "stderr",
          "text": [
            "epoch 935: 100%|██████████| 282/282 [00:08<00:00, 33.16it/s]\n"
          ]
        },
        {
          "output_type": "stream",
          "name": "stdout",
          "text": [
            "validation loss: 0.0006191560986141363 at epoch 936\n",
            "learning_rate: 0.00026843545600000016\n"
          ]
        },
        {
          "output_type": "stream",
          "name": "stderr",
          "text": [
            "epoch 936: 100%|██████████| 282/282 [00:08<00:00, 32.70it/s]\n"
          ]
        },
        {
          "output_type": "stream",
          "name": "stdout",
          "text": [
            "validation loss: 0.000603347713748614 at epoch 937\n",
            "learning_rate: 0.00026843545600000016\n"
          ]
        },
        {
          "output_type": "stream",
          "name": "stderr",
          "text": [
            "epoch 937: 100%|██████████| 282/282 [00:07<00:00, 36.46it/s]\n"
          ]
        },
        {
          "output_type": "stream",
          "name": "stdout",
          "text": [
            "validation loss: 0.0006367354798648093 at epoch 938\n",
            "learning_rate: 0.00026843545600000016\n"
          ]
        },
        {
          "output_type": "stream",
          "name": "stderr",
          "text": [
            "epoch 938: 100%|██████████| 282/282 [00:08<00:00, 32.95it/s]\n"
          ]
        },
        {
          "output_type": "stream",
          "name": "stdout",
          "text": [
            "validation loss: 0.0007716298380659686 at epoch 939\n",
            "learning_rate: 0.00026843545600000016\n"
          ]
        },
        {
          "output_type": "stream",
          "name": "stderr",
          "text": [
            "epoch 939: 100%|██████████| 282/282 [00:08<00:00, 33.33it/s]\n"
          ]
        },
        {
          "output_type": "stream",
          "name": "stdout",
          "text": [
            "validation loss: 0.00075525629065103 at epoch 940\n",
            "learning_rate: 0.00026843545600000016\n"
          ]
        },
        {
          "output_type": "stream",
          "name": "stderr",
          "text": [
            "epoch 940: 100%|██████████| 282/282 [00:07<00:00, 35.80it/s]\n"
          ]
        },
        {
          "output_type": "stream",
          "name": "stdout",
          "text": [
            "validation loss: 0.0005147185917529795 at epoch 941\n",
            "learning_rate: 0.00026843545600000016\n"
          ]
        },
        {
          "output_type": "stream",
          "name": "stderr",
          "text": [
            "epoch 941: 100%|██████████| 282/282 [00:08<00:00, 34.57it/s]\n"
          ]
        },
        {
          "output_type": "stream",
          "name": "stdout",
          "text": [
            "validation loss: 0.0007680467379589875 at epoch 942\n",
            "learning_rate: 0.00026843545600000016\n"
          ]
        },
        {
          "output_type": "stream",
          "name": "stderr",
          "text": [
            "epoch 942: 100%|██████████| 282/282 [00:08<00:00, 32.75it/s]\n"
          ]
        },
        {
          "output_type": "stream",
          "name": "stdout",
          "text": [
            "validation loss: 0.0011941913151078754 at epoch 943\n",
            "learning_rate: 0.00026843545600000016\n"
          ]
        },
        {
          "output_type": "stream",
          "name": "stderr",
          "text": [
            "epoch 943: 100%|██████████| 282/282 [00:08<00:00, 34.89it/s]\n"
          ]
        },
        {
          "output_type": "stream",
          "name": "stdout",
          "text": [
            "validation loss: 0.000672298611038261 at epoch 944\n",
            "learning_rate: 0.00026843545600000016\n"
          ]
        },
        {
          "output_type": "stream",
          "name": "stderr",
          "text": [
            "epoch 944: 100%|██████████| 282/282 [00:08<00:00, 35.13it/s]\n"
          ]
        },
        {
          "output_type": "stream",
          "name": "stdout",
          "text": [
            "validation loss: 0.0007328409581548637 at epoch 945\n",
            "learning_rate: 0.00026843545600000016\n"
          ]
        },
        {
          "output_type": "stream",
          "name": "stderr",
          "text": [
            "epoch 945: 100%|██████████| 282/282 [00:08<00:00, 32.77it/s]\n"
          ]
        },
        {
          "output_type": "stream",
          "name": "stdout",
          "text": [
            "validation loss: 0.0008296049510439237 at epoch 946\n",
            "learning_rate: 0.00026843545600000016\n"
          ]
        },
        {
          "output_type": "stream",
          "name": "stderr",
          "text": [
            "epoch 946: 100%|██████████| 282/282 [00:08<00:00, 33.49it/s]\n"
          ]
        },
        {
          "output_type": "stream",
          "name": "stdout",
          "text": [
            "validation loss: 0.00029567380311588444 at epoch 947\n",
            "learning_rate: 0.00026843545600000016\n"
          ]
        },
        {
          "output_type": "stream",
          "name": "stderr",
          "text": [
            "epoch 947: 100%|██████████| 282/282 [00:07<00:00, 36.18it/s]\n"
          ]
        },
        {
          "output_type": "stream",
          "name": "stdout",
          "text": [
            "validation loss: 0.0004997971993353632 at epoch 948\n",
            "learning_rate: 0.00026843545600000016\n"
          ]
        },
        {
          "output_type": "stream",
          "name": "stderr",
          "text": [
            "epoch 948: 100%|██████████| 282/282 [00:08<00:00, 32.68it/s]\n"
          ]
        },
        {
          "output_type": "stream",
          "name": "stdout",
          "text": [
            "validation loss: 0.00025961571807662647 at epoch 949\n",
            "learning_rate: 0.00026843545600000016\n"
          ]
        },
        {
          "output_type": "stream",
          "name": "stderr",
          "text": [
            "epoch 949: 100%|██████████| 282/282 [00:08<00:00, 32.36it/s]\n"
          ]
        },
        {
          "output_type": "stream",
          "name": "stdout",
          "text": [
            "validation loss: 0.0005090359387298425 at epoch 950\n",
            "learning_rate: 0.00026843545600000016\n"
          ]
        },
        {
          "output_type": "stream",
          "name": "stderr",
          "text": [
            "epoch 950: 100%|██████████| 282/282 [00:07<00:00, 36.43it/s]\n"
          ]
        },
        {
          "output_type": "stream",
          "name": "stdout",
          "text": [
            "validation loss: 0.00028423363984458975 at epoch 951\n",
            "learning_rate: 0.00026843545600000016\n"
          ]
        },
        {
          "output_type": "stream",
          "name": "stderr",
          "text": [
            "epoch 951: 100%|██████████| 282/282 [00:08<00:00, 32.46it/s]\n"
          ]
        },
        {
          "output_type": "stream",
          "name": "stdout",
          "text": [
            "validation loss: 0.0004453647422293822 at epoch 952\n",
            "learning_rate: 0.00026843545600000016\n"
          ]
        },
        {
          "output_type": "stream",
          "name": "stderr",
          "text": [
            "epoch 952: 100%|██████████| 282/282 [00:08<00:00, 33.03it/s]\n"
          ]
        },
        {
          "output_type": "stream",
          "name": "stdout",
          "text": [
            "validation loss: 0.0002955112891892592 at epoch 953\n",
            "learning_rate: 0.00026843545600000016\n"
          ]
        },
        {
          "output_type": "stream",
          "name": "stderr",
          "text": [
            "epoch 953: 100%|██████████| 282/282 [00:07<00:00, 36.71it/s]\n"
          ]
        },
        {
          "output_type": "stream",
          "name": "stdout",
          "text": [
            "validation loss: 0.0006852847817871306 at epoch 954\n",
            "learning_rate: 0.00026843545600000016\n"
          ]
        },
        {
          "output_type": "stream",
          "name": "stderr",
          "text": [
            "epoch 954: 100%|██████████| 282/282 [00:08<00:00, 33.28it/s]\n"
          ]
        },
        {
          "output_type": "stream",
          "name": "stdout",
          "text": [
            "validation loss: 0.0006466908810867204 at epoch 955\n",
            "learning_rate: 0.00026843545600000016\n"
          ]
        },
        {
          "output_type": "stream",
          "name": "stderr",
          "text": [
            "epoch 955: 100%|██████████| 282/282 [00:08<00:00, 33.09it/s]\n"
          ]
        },
        {
          "output_type": "stream",
          "name": "stdout",
          "text": [
            "validation loss: 0.0007956843127806981 at epoch 956\n",
            "learning_rate: 0.00026843545600000016\n"
          ]
        },
        {
          "output_type": "stream",
          "name": "stderr",
          "text": [
            "epoch 956: 100%|██████████| 282/282 [00:08<00:00, 35.23it/s]\n"
          ]
        },
        {
          "output_type": "stream",
          "name": "stdout",
          "text": [
            "validation loss: 0.000708960608061817 at epoch 957\n",
            "learning_rate: 0.00026843545600000016\n"
          ]
        },
        {
          "output_type": "stream",
          "name": "stderr",
          "text": [
            "epoch 957: 100%|██████████| 282/282 [00:08<00:00, 34.54it/s]\n"
          ]
        },
        {
          "output_type": "stream",
          "name": "stdout",
          "text": [
            "validation loss: 0.0007747221891250875 at epoch 958\n",
            "learning_rate: 0.00026843545600000016\n"
          ]
        },
        {
          "output_type": "stream",
          "name": "stderr",
          "text": [
            "epoch 958: 100%|██████████| 282/282 [00:08<00:00, 32.28it/s]\n"
          ]
        },
        {
          "output_type": "stream",
          "name": "stdout",
          "text": [
            "validation loss: 0.0007729099918570784 at epoch 959\n",
            "learning_rate: 0.00026843545600000016\n"
          ]
        },
        {
          "output_type": "stream",
          "name": "stderr",
          "text": [
            "epoch 959: 100%|██████████| 282/282 [00:08<00:00, 34.01it/s]\n"
          ]
        },
        {
          "output_type": "stream",
          "name": "stdout",
          "text": [
            "validation loss: 0.0007169958444105254 at epoch 960\n",
            "learning_rate: 0.00026843545600000016\n"
          ]
        },
        {
          "output_type": "stream",
          "name": "stderr",
          "text": [
            "epoch 960: 100%|██████████| 282/282 [00:07<00:00, 36.00it/s]\n"
          ]
        },
        {
          "output_type": "stream",
          "name": "stdout",
          "text": [
            "validation loss: 0.0005750633358127541 at epoch 961\n",
            "learning_rate: 0.00026843545600000016\n"
          ]
        },
        {
          "output_type": "stream",
          "name": "stderr",
          "text": [
            "epoch 961: 100%|██████████| 282/282 [00:08<00:00, 33.00it/s]\n"
          ]
        },
        {
          "output_type": "stream",
          "name": "stdout",
          "text": [
            "validation loss: 0.0007827532204488913 at epoch 962\n",
            "learning_rate: 0.00026843545600000016\n"
          ]
        },
        {
          "output_type": "stream",
          "name": "stderr",
          "text": [
            "epoch 962: 100%|██████████| 282/282 [00:08<00:00, 32.97it/s]\n"
          ]
        },
        {
          "output_type": "stream",
          "name": "stdout",
          "text": [
            "validation loss: 0.0006830435122052829 at epoch 963\n",
            "learning_rate: 0.00026843545600000016\n"
          ]
        },
        {
          "output_type": "stream",
          "name": "stderr",
          "text": [
            "epoch 963: 100%|██████████| 282/282 [00:07<00:00, 36.53it/s]\n"
          ]
        },
        {
          "output_type": "stream",
          "name": "stdout",
          "text": [
            "validation loss: 0.0007445462002522416 at epoch 964\n",
            "learning_rate: 0.00026843545600000016\n"
          ]
        },
        {
          "output_type": "stream",
          "name": "stderr",
          "text": [
            "epoch 964: 100%|██████████| 282/282 [00:08<00:00, 33.27it/s]\n"
          ]
        },
        {
          "output_type": "stream",
          "name": "stdout",
          "text": [
            "validation loss: 0.0004067739645640055 at epoch 965\n",
            "learning_rate: 0.00026843545600000016\n"
          ]
        },
        {
          "output_type": "stream",
          "name": "stderr",
          "text": [
            "epoch 965: 100%|██████████| 282/282 [00:08<00:00, 32.35it/s]\n"
          ]
        },
        {
          "output_type": "stream",
          "name": "stdout",
          "text": [
            "validation loss: 0.00024424052859346073 at epoch 966\n",
            "learning_rate: 0.00026843545600000016\n",
            "model saved in ani_acrolein.pt\n"
          ]
        },
        {
          "output_type": "stream",
          "name": "stderr",
          "text": [
            "epoch 966: 100%|██████████| 282/282 [00:07<00:00, 35.82it/s]\n"
          ]
        },
        {
          "output_type": "stream",
          "name": "stdout",
          "text": [
            "validation loss: 0.00025948098219103285 at epoch 967\n",
            "learning_rate: 0.00026843545600000016\n"
          ]
        },
        {
          "output_type": "stream",
          "name": "stderr",
          "text": [
            "epoch 967: 100%|██████████| 282/282 [00:08<00:00, 34.52it/s]\n"
          ]
        },
        {
          "output_type": "stream",
          "name": "stdout",
          "text": [
            "validation loss: 0.0003547447131325801 at epoch 968\n",
            "learning_rate: 0.00026843545600000016\n"
          ]
        },
        {
          "output_type": "stream",
          "name": "stderr",
          "text": [
            "epoch 968: 100%|██████████| 282/282 [00:08<00:00, 33.13it/s]\n"
          ]
        },
        {
          "output_type": "stream",
          "name": "stdout",
          "text": [
            "validation loss: 0.0005778069268498156 at epoch 969\n",
            "learning_rate: 0.00026843545600000016\n"
          ]
        },
        {
          "output_type": "stream",
          "name": "stderr",
          "text": [
            "epoch 969: 100%|██████████| 282/282 [00:08<00:00, 33.53it/s]\n"
          ]
        },
        {
          "output_type": "stream",
          "name": "stdout",
          "text": [
            "validation loss: 0.0007039320377839936 at epoch 970\n",
            "learning_rate: 0.00026843545600000016\n"
          ]
        },
        {
          "output_type": "stream",
          "name": "stderr",
          "text": [
            "epoch 970: 100%|██████████| 282/282 [00:07<00:00, 36.65it/s]\n"
          ]
        },
        {
          "output_type": "stream",
          "name": "stdout",
          "text": [
            "validation loss: 0.0006018482885426945 at epoch 971\n",
            "learning_rate: 0.00026843545600000016\n"
          ]
        },
        {
          "output_type": "stream",
          "name": "stderr",
          "text": [
            "epoch 971: 100%|██████████| 282/282 [00:08<00:00, 32.75it/s]\n"
          ]
        },
        {
          "output_type": "stream",
          "name": "stdout",
          "text": [
            "validation loss: 0.0006676925934023327 at epoch 972\n",
            "learning_rate: 0.00026843545600000016\n"
          ]
        },
        {
          "output_type": "stream",
          "name": "stderr",
          "text": [
            "epoch 972: 100%|██████████| 282/282 [00:08<00:00, 32.51it/s]\n"
          ]
        },
        {
          "output_type": "stream",
          "name": "stdout",
          "text": [
            "validation loss: 0.0007744326061672634 at epoch 973\n",
            "learning_rate: 0.00026843545600000016\n"
          ]
        },
        {
          "output_type": "stream",
          "name": "stderr",
          "text": [
            "epoch 973: 100%|██████████| 282/282 [00:07<00:00, 36.52it/s]\n"
          ]
        },
        {
          "output_type": "stream",
          "name": "stdout",
          "text": [
            "validation loss: 0.0007001478589243359 at epoch 974\n",
            "learning_rate: 0.00026843545600000016\n"
          ]
        },
        {
          "output_type": "stream",
          "name": "stderr",
          "text": [
            "epoch 974: 100%|██████████| 282/282 [00:08<00:00, 32.79it/s]\n"
          ]
        },
        {
          "output_type": "stream",
          "name": "stdout",
          "text": [
            "validation loss: 0.0007390994566182296 at epoch 975\n",
            "learning_rate: 0.00026843545600000016\n"
          ]
        },
        {
          "output_type": "stream",
          "name": "stderr",
          "text": [
            "epoch 975: 100%|██████████| 282/282 [00:08<00:00, 32.88it/s]\n"
          ]
        },
        {
          "output_type": "stream",
          "name": "stdout",
          "text": [
            "validation loss: 0.0007296298063463635 at epoch 976\n",
            "learning_rate: 0.00026843545600000016\n"
          ]
        },
        {
          "output_type": "stream",
          "name": "stderr",
          "text": [
            "epoch 976: 100%|██████████| 282/282 [00:07<00:00, 36.37it/s]\n"
          ]
        },
        {
          "output_type": "stream",
          "name": "stdout",
          "text": [
            "validation loss: 0.0005868555642664432 at epoch 977\n",
            "learning_rate: 0.00026843545600000016\n"
          ]
        },
        {
          "output_type": "stream",
          "name": "stderr",
          "text": [
            "epoch 977: 100%|██████████| 282/282 [00:08<00:00, 33.95it/s]\n"
          ]
        },
        {
          "output_type": "stream",
          "name": "stdout",
          "text": [
            "validation loss: 0.0005913449339568614 at epoch 978\n",
            "learning_rate: 0.00026843545600000016\n"
          ]
        },
        {
          "output_type": "stream",
          "name": "stderr",
          "text": [
            "epoch 978: 100%|██████████| 282/282 [00:08<00:00, 32.24it/s]\n"
          ]
        },
        {
          "output_type": "stream",
          "name": "stdout",
          "text": [
            "validation loss: 0.0006214854729672273 at epoch 979\n",
            "learning_rate: 0.00026843545600000016\n"
          ]
        },
        {
          "output_type": "stream",
          "name": "stderr",
          "text": [
            "epoch 979: 100%|██████████| 282/282 [00:08<00:00, 34.81it/s]\n"
          ]
        },
        {
          "output_type": "stream",
          "name": "stdout",
          "text": [
            "validation loss: 0.0011009992021653388 at epoch 980\n",
            "learning_rate: 0.00026843545600000016\n"
          ]
        },
        {
          "output_type": "stream",
          "name": "stderr",
          "text": [
            "epoch 980: 100%|██████████| 282/282 [00:07<00:00, 35.71it/s]\n"
          ]
        },
        {
          "output_type": "stream",
          "name": "stdout",
          "text": [
            "validation loss: 0.00024608830507430766 at epoch 981\n",
            "learning_rate: 0.00026843545600000016\n"
          ]
        },
        {
          "output_type": "stream",
          "name": "stderr",
          "text": [
            "epoch 981: 100%|██████████| 282/282 [00:08<00:00, 32.78it/s]\n"
          ]
        },
        {
          "output_type": "stream",
          "name": "stdout",
          "text": [
            "validation loss: 0.000259410353584422 at epoch 982\n",
            "learning_rate: 0.00026843545600000016\n"
          ]
        },
        {
          "output_type": "stream",
          "name": "stderr",
          "text": [
            "epoch 982: 100%|██████████| 282/282 [00:08<00:00, 33.35it/s]\n"
          ]
        },
        {
          "output_type": "stream",
          "name": "stdout",
          "text": [
            "validation loss: 0.00024254530150857236 at epoch 983\n",
            "learning_rate: 0.00026843545600000016\n",
            "model saved in ani_acrolein.pt\n"
          ]
        },
        {
          "output_type": "stream",
          "name": "stderr",
          "text": [
            "epoch 983: 100%|██████████| 282/282 [00:07<00:00, 36.34it/s]\n"
          ]
        },
        {
          "output_type": "stream",
          "name": "stdout",
          "text": [
            "validation loss: 0.0006025129006140762 at epoch 984\n",
            "learning_rate: 0.00026843545600000016\n"
          ]
        },
        {
          "output_type": "stream",
          "name": "stderr",
          "text": [
            "epoch 984: 100%|██████████| 282/282 [00:08<00:00, 33.00it/s]\n"
          ]
        },
        {
          "output_type": "stream",
          "name": "stdout",
          "text": [
            "validation loss: 0.0005389928933646944 at epoch 985\n",
            "learning_rate: 0.00026843545600000016\n"
          ]
        },
        {
          "output_type": "stream",
          "name": "stderr",
          "text": [
            "epoch 985: 100%|██████████| 282/282 [00:08<00:00, 31.48it/s]\n"
          ]
        },
        {
          "output_type": "stream",
          "name": "stdout",
          "text": [
            "validation loss: 0.0005999821080929703 at epoch 986\n",
            "learning_rate: 0.00026843545600000016\n"
          ]
        },
        {
          "output_type": "stream",
          "name": "stderr",
          "text": [
            "epoch 986: 100%|██████████| 282/282 [00:07<00:00, 36.25it/s]\n"
          ]
        },
        {
          "output_type": "stream",
          "name": "stdout",
          "text": [
            "validation loss: 0.0007799787600007322 at epoch 987\n",
            "learning_rate: 0.00026843545600000016\n"
          ]
        },
        {
          "output_type": "stream",
          "name": "stderr",
          "text": [
            "epoch 987: 100%|██████████| 282/282 [00:08<00:00, 34.06it/s]\n"
          ]
        },
        {
          "output_type": "stream",
          "name": "stdout",
          "text": [
            "validation loss: 0.0007351962737739086 at epoch 988\n",
            "learning_rate: 0.00026843545600000016\n"
          ]
        },
        {
          "output_type": "stream",
          "name": "stderr",
          "text": [
            "epoch 988: 100%|██████████| 282/282 [00:08<00:00, 32.86it/s]\n"
          ]
        },
        {
          "output_type": "stream",
          "name": "stdout",
          "text": [
            "validation loss: 0.0006513662880493535 at epoch 989\n",
            "learning_rate: 0.00026843545600000016\n"
          ]
        },
        {
          "output_type": "stream",
          "name": "stderr",
          "text": [
            "epoch 989: 100%|██████████| 282/282 [00:08<00:00, 34.38it/s]\n"
          ]
        },
        {
          "output_type": "stream",
          "name": "stdout",
          "text": [
            "validation loss: 0.00041606186206142107 at epoch 990\n",
            "learning_rate: 0.00026843545600000016\n"
          ]
        },
        {
          "output_type": "stream",
          "name": "stderr",
          "text": [
            "epoch 990: 100%|██████████| 282/282 [00:07<00:00, 36.00it/s]\n"
          ]
        },
        {
          "output_type": "stream",
          "name": "stdout",
          "text": [
            "validation loss: 0.0003665050541361173 at epoch 991\n",
            "learning_rate: 0.00026843545600000016\n"
          ]
        },
        {
          "output_type": "stream",
          "name": "stderr",
          "text": [
            "epoch 991: 100%|██████████| 282/282 [00:08<00:00, 32.77it/s]\n"
          ]
        },
        {
          "output_type": "stream",
          "name": "stdout",
          "text": [
            "validation loss: 0.000244029745252596 at epoch 992\n",
            "learning_rate: 0.00026843545600000016\n"
          ]
        },
        {
          "output_type": "stream",
          "name": "stderr",
          "text": [
            "epoch 992: 100%|██████████| 282/282 [00:08<00:00, 32.42it/s]\n"
          ]
        },
        {
          "output_type": "stream",
          "name": "stdout",
          "text": [
            "validation loss: 0.00042735904827713965 at epoch 993\n",
            "learning_rate: 0.00026843545600000016\n"
          ]
        },
        {
          "output_type": "stream",
          "name": "stderr",
          "text": [
            "epoch 993: 100%|██████████| 282/282 [00:07<00:00, 36.61it/s]\n"
          ]
        },
        {
          "output_type": "stream",
          "name": "stdout",
          "text": [
            "validation loss: 0.00023466156071258915 at epoch 994\n",
            "learning_rate: 0.00026843545600000016\n",
            "model saved in ani_acrolein.pt\n"
          ]
        },
        {
          "output_type": "stream",
          "name": "stderr",
          "text": [
            "epoch 994: 100%|██████████| 282/282 [00:08<00:00, 33.27it/s]\n"
          ]
        },
        {
          "output_type": "stream",
          "name": "stdout",
          "text": [
            "validation loss: 0.00024044042949875196 at epoch 995\n",
            "learning_rate: 0.00026843545600000016\n"
          ]
        },
        {
          "output_type": "stream",
          "name": "stderr",
          "text": [
            "epoch 995: 100%|██████████| 282/282 [00:08<00:00, 32.88it/s]\n"
          ]
        },
        {
          "output_type": "stream",
          "name": "stdout",
          "text": [
            "validation loss: 0.0006985767078068521 at epoch 996\n",
            "learning_rate: 0.00026843545600000016\n"
          ]
        },
        {
          "output_type": "stream",
          "name": "stderr",
          "text": [
            "epoch 996: 100%|██████████| 282/282 [00:07<00:00, 36.33it/s]\n"
          ]
        },
        {
          "output_type": "stream",
          "name": "stdout",
          "text": [
            "validation loss: 0.0006056824450691541 at epoch 997\n",
            "learning_rate: 0.00026843545600000016\n"
          ]
        },
        {
          "output_type": "stream",
          "name": "stderr",
          "text": [
            "epoch 997: 100%|██████████| 282/282 [00:08<00:00, 33.16it/s]\n"
          ]
        },
        {
          "output_type": "stream",
          "name": "stdout",
          "text": [
            "validation loss: 0.0005648180548515584 at epoch 998\n",
            "learning_rate: 0.00026843545600000016\n"
          ]
        },
        {
          "output_type": "stream",
          "name": "stderr",
          "text": [
            "epoch 998: 100%|██████████| 282/282 [00:08<00:00, 32.31it/s]\n"
          ]
        },
        {
          "output_type": "stream",
          "name": "stdout",
          "text": [
            "validation loss: 0.0006608166541490289 at epoch 999\n",
            "learning_rate: 0.00026843545600000016\n"
          ]
        },
        {
          "output_type": "stream",
          "name": "stderr",
          "text": [
            "epoch 999: 100%|██████████| 282/282 [00:07<00:00, 36.14it/s]\n"
          ]
        },
        {
          "output_type": "stream",
          "name": "stdout",
          "text": [
            "validation loss: 0.0007872045276065667 at epoch 1000\n",
            "learning_rate: 0.00026843545600000016\n"
          ]
        },
        {
          "output_type": "stream",
          "name": "stderr",
          "text": [
            "epoch 1000: 100%|██████████| 282/282 [00:08<00:00, 33.76it/s]"
          ]
        },
        {
          "output_type": "stream",
          "name": "stdout",
          "text": [
            "model loaded from ani_acrolein.pt\n"
          ]
        },
        {
          "output_type": "stream",
          "name": "stderr",
          "text": [
            "\n"
          ]
        }
      ],
      "source": [
        "model_ani.train(\n",
        "    molecular_database=acrolein_train,\n",
        "    property_to_learn=\"energy\",\n",
        "    xyz_derivative_property_to_learn=\"energy_grad\",\n",
        "    save_model=True,\n",
        ")"
      ]
    },
    {
      "cell_type": "markdown",
      "metadata": {
        "id": "ePJxXEdOR9_a"
      },
      "source": [
        "#Testing"
      ]
    },
    {
      "cell_type": "code",
      "execution_count": null,
      "metadata": {
        "id": "QZ00QUEc5wx_"
      },
      "outputs": [],
      "source": [
        "atoms = np.tile(np.array(1 * [6] + 1 * [8] + 2 * [6] + 4 * [1]), (5000, 1))\n",
        "acrolein_test = molecular_database.from_numpy(coordinates_trans_test, atoms)"
      ]
    },
    {
      "cell_type": "code",
      "execution_count": null,
      "metadata": {
        "id": "Pg1RPR6mSDhx"
      },
      "outputs": [],
      "source": [
        "acrolein_test.add_scalar_properties(epots_test, \"energy\")"
      ]
    },
    {
      "cell_type": "code",
      "execution_count": null,
      "metadata": {
        "id": "qiiCMU7dZGxL"
      },
      "outputs": [],
      "source": [
        "acrolein_test.add_xyz_derivative_properties(grads_test, \"energy\", \"energy_grad\")"
      ]
    },
    {
      "cell_type": "code",
      "execution_count": null,
      "metadata": {
        "colab": {
          "base_uri": "https://localhost:8080/"
        },
        "id": "bcrAOqQFSMSJ",
        "outputId": "b00c079c-8239-4c96-f4b3-c2b5b906bfed"
      },
      "outputs": [
        {
          "output_type": "execute_result",
          "data": {
            "text/plain": [
              "5000"
            ]
          },
          "metadata": {},
          "execution_count": 30
        }
      ],
      "source": [
        "acrolein_test.size"
      ]
    },
    {
      "cell_type": "code",
      "execution_count": null,
      "metadata": {
        "id": "gw0-f85SSVEC"
      },
      "outputs": [],
      "source": []
    },
    {
      "cell_type": "code",
      "execution_count": null,
      "metadata": {
        "id": "woEFYZaUSYPK"
      },
      "outputs": [],
      "source": [
        "mcd_test_mol = acrolein_test.copy()\n",
        "model_ani.predict(\n",
        "    molecular_database=mcd_test_mol,\n",
        "    property_to_predict=\"energy\",\n",
        "    xyz_derivative_property_to_predict=\"energy_grad\",\n",
        "    batch_size=100,\n",
        ")\n",
        "# mcd_test_mol.get_properties(\"energy\")\n",
        "# mcd_test_mol.get_xyz_derivative_properties(\"energy_grad\")\n",
        "np.savez('test.npz', energy=np.array(mcd_test_mol.get_properties(\"energy\")) /kcalpermol2eV, grad=np.array(mcd_test_mol.get_xyz_derivative_properties(\"energy_grad\")) / kcalpermol2eV)"
      ]
    },
    {
      "cell_type": "code",
      "execution_count": null,
      "metadata": {
        "colab": {
          "base_uri": "https://localhost:8080/"
        },
        "id": "ijwQe6JNZoK9",
        "outputId": "448c8f79-d765-419d-e57b-d775288e37f3"
      },
      "outputs": [
        {
          "output_type": "stream",
          "name": "stdout",
          "text": [
            "0.0027095600148736862\n",
            "0.03354623050539524\n"
          ]
        }
      ],
      "source": [
        "mse_epot = np.mean(\n",
        "    ((mcd_test_mol.get_properties(\"energy\") - acrolein_test.get_properties(\"energy\")))** 2)\n",
        "print(np.sqrt(mse_epot))\n",
        "mse_grad = np.mean(\n",
        "    (\n",
        "        (\n",
        "            mcd_test_mol.get_xyz_derivative_properties(\"energy_grad\")\n",
        "            - acrolein_test.get_xyz_derivative_properties(\"energy_grad\")\n",
        "        )\n",
        "    )\n",
        "    ** 2\n",
        ")\n",
        "print(np.sqrt(mse_grad))"
      ]
    },
    {
      "cell_type": "code",
      "execution_count": null,
      "metadata": {
        "id": "jZmMsjUg111v"
      },
      "outputs": [],
      "source": [
        "mcd_train_mol = acrolein_train.copy()\n",
        "model_ani.predict(\n",
        "    molecular_database=mcd_train_mol,\n",
        "    property_to_predict=\"energy\",\n",
        "    xyz_derivative_property_to_predict=\"energy_grad\",\n",
        "    batch_size=100,\n",
        ")\n",
        "# mcd_test_mol.get_properties(\"energy\")\n",
        "# mcd_test_mol.get_xyz_derivative_properties(\"energy_grad\")\n",
        "np.savez('train.npz', energy=np.array(mcd_train_mol.get_properties(\"energy\")) /kcalpermol2eV, grad=np.array(mcd_train_mol.get_xyz_derivative_properties(\"energy_grad\")) / kcalpermol2eV)"
      ]
    },
    {
      "cell_type": "markdown",
      "metadata": {
        "id": "egFNlJyvWKRK"
      },
      "source": [
        "#Cis-Trans"
      ]
    },
    {
      "cell_type": "code",
      "execution_count": null,
      "metadata": {
        "id": "V7JSX3CQU4a1"
      },
      "outputs": [],
      "source": [
        "atoms = np.tile(np.array(1 * [6] + 1 * [8] + 2 * [6] + 4 * [1]), (20000, 1))\n",
        "acrolein_cis_trans = molecular_database.from_numpy(coordinates_cis_trans, atoms)\n",
        "acrolein_cis_trans.add_scalar_properties(energy_cis_trans.flatten() * kcalpermol2eV, \"energy\")\n",
        "acrolein_cis_trans.add_xyz_derivative_properties(grads_cis_trans * kcalpermol2eV, \"energy\", \"energy_grad\")\n",
        "\n",
        "mcd_cis_trans = acrolein_cis_trans.copy()\n",
        "\n",
        "model_ani.predict(\n",
        "    molecular_database=mcd_cis_trans,\n",
        "    property_to_predict=\"energy\",\n",
        "    xyz_derivative_property_to_predict=\"energy_grad\",\n",
        "    batch_size=100,\n",
        ")\n",
        "# mcd_test_mol.get_properties(\"energy\")\n",
        "# mcd_test_mol.get_xyz_derivative_properties(\"energy_grad\")\n",
        "np.savez('cis_trans.npz', energy=np.array(mcd_cis_trans.get_properties(\"energy\")) /kcalpermol2eV, grad=np.array(mcd_cis_trans.get_xyz_derivative_properties(\"energy_grad\")) / kcalpermol2eV)"
      ]
    },
    {
      "cell_type": "markdown",
      "metadata": {
        "id": "tWMX9srOcCv6"
      },
      "source": [
        "#Cis"
      ]
    },
    {
      "cell_type": "code",
      "execution_count": null,
      "metadata": {
        "id": "6EO9aZRLWaX0"
      },
      "outputs": [],
      "source": [
        "atoms = np.tile(np.array(1 * [6] + 1 * [8] + 2 * [6] + 4 * [1]), (50000, 1))\n",
        "acrolein_cis = molecular_database.from_numpy(coordinates_cis, atoms)\n",
        "acrolein_cis.add_scalar_properties(energy_cis.flatten() * kcalpermol2eV, \"energy\")\n",
        "acrolein_cis.add_xyz_derivative_properties(grads_cis * kcalpermol2eV, \"energy\", \"energy_grad\")\n",
        "\n",
        "mcd_cis = acrolein_cis.copy()\n",
        "\n",
        "model_ani.predict(\n",
        "    molecular_database=mcd_cis,\n",
        "    property_to_predict=\"energy\",\n",
        "    xyz_derivative_property_to_predict=\"energy_grad\",\n",
        "    batch_size=100,\n",
        ")\n",
        "# mcd_test_mol.get_properties(\"energy\")\n",
        "# mcd_test_mol.get_xyz_derivative_properties(\"energy_grad\")\n",
        "np.savez('cis.npz', energy=np.array(mcd_cis.get_properties(\"energy\")) /kcalpermol2eV, grad=np.array(mcd_cis.get_xyz_derivative_properties(\"energy_grad\")) / kcalpermol2eV)"
      ]
    }
  ],
  "metadata": {
    "accelerator": "GPU",
    "colab": {
      "gpuType": "T4",
      "provenance": []
    },
    "kernelspec": {
      "display_name": "Python 3",
      "name": "python3"
    },
    "language_info": {
      "name": "python"
    }
  },
  "nbformat": 4,
  "nbformat_minor": 0
}