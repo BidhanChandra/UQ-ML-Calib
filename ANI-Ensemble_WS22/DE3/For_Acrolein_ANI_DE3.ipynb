{
  "cells": [
    {
      "cell_type": "markdown",
      "metadata": {
        "id": "wOjcyoxvuDwH"
      },
      "source": [
        "#Data Collection Acrolein"
      ]
    },
    {
      "cell_type": "code",
      "execution_count": null,
      "metadata": {
        "id": "Ge9wCK2bvk8Q"
      },
      "outputs": [],
      "source": [
        "import numpy as np\n",
        "from sklearn.metrics import r2_score, mean_absolute_error\n",
        "from sklearn.model_selection import train_test_split\n",
        "from tqdm import tqdm"
      ]
    },
    {
      "cell_type": "code",
      "execution_count": null,
      "metadata": {
        "colab": {
          "base_uri": "https://localhost:8080/"
        },
        "id": "VNKJbEKCwixz",
        "outputId": "11d0e143-2a30-4d86-d0c8-d8f1f646334c"
      },
      "outputs": [
        {
          "output_type": "stream",
          "name": "stdout",
          "text": [
            "Collecting mlatom\n",
            "  Downloading mlatom-3.9.1-py3-none-any.whl.metadata (7.0 kB)\n",
            "Requirement already satisfied: numpy in /usr/local/lib/python3.10/dist-packages (from mlatom) (1.26.4)\n",
            "Requirement already satisfied: scipy in /usr/local/lib/python3.10/dist-packages (from mlatom) (1.13.1)\n",
            "Requirement already satisfied: h5py in /usr/local/lib/python3.10/dist-packages (from mlatom) (3.11.0)\n",
            "Collecting pyh5md (from mlatom)\n",
            "  Downloading pyh5md-1.0.0-py2.py3-none-any.whl.metadata (497 bytes)\n",
            "Requirement already satisfied: torch in /usr/local/lib/python3.10/dist-packages (from mlatom) (2.3.1+cu121)\n",
            "Collecting torchani (from mlatom)\n",
            "  Downloading torchani-2.2.4-py3-none-any.whl.metadata (6.0 kB)\n",
            "Requirement already satisfied: matplotlib in /usr/local/lib/python3.10/dist-packages (from mlatom) (3.7.1)\n",
            "Requirement already satisfied: statsmodels in /usr/local/lib/python3.10/dist-packages (from mlatom) (0.14.2)\n",
            "Requirement already satisfied: tqdm in /usr/local/lib/python3.10/dist-packages (from mlatom) (4.66.4)\n",
            "Requirement already satisfied: contourpy>=1.0.1 in /usr/local/lib/python3.10/dist-packages (from matplotlib->mlatom) (1.2.1)\n",
            "Requirement already satisfied: cycler>=0.10 in /usr/local/lib/python3.10/dist-packages (from matplotlib->mlatom) (0.12.1)\n",
            "Requirement already satisfied: fonttools>=4.22.0 in /usr/local/lib/python3.10/dist-packages (from matplotlib->mlatom) (4.53.1)\n",
            "Requirement already satisfied: kiwisolver>=1.0.1 in /usr/local/lib/python3.10/dist-packages (from matplotlib->mlatom) (1.4.5)\n",
            "Requirement already satisfied: packaging>=20.0 in /usr/local/lib/python3.10/dist-packages (from matplotlib->mlatom) (24.1)\n",
            "Requirement already satisfied: pillow>=6.2.0 in /usr/local/lib/python3.10/dist-packages (from matplotlib->mlatom) (9.4.0)\n",
            "Requirement already satisfied: pyparsing>=2.3.1 in /usr/local/lib/python3.10/dist-packages (from matplotlib->mlatom) (3.1.2)\n",
            "Requirement already satisfied: python-dateutil>=2.7 in /usr/local/lib/python3.10/dist-packages (from matplotlib->mlatom) (2.8.2)\n",
            "Requirement already satisfied: pandas!=2.1.0,>=1.4 in /usr/local/lib/python3.10/dist-packages (from statsmodels->mlatom) (2.1.4)\n",
            "Requirement already satisfied: patsy>=0.5.6 in /usr/local/lib/python3.10/dist-packages (from statsmodels->mlatom) (0.5.6)\n",
            "Requirement already satisfied: filelock in /usr/local/lib/python3.10/dist-packages (from torch->mlatom) (3.15.4)\n",
            "Requirement already satisfied: typing-extensions>=4.8.0 in /usr/local/lib/python3.10/dist-packages (from torch->mlatom) (4.12.2)\n",
            "Requirement already satisfied: sympy in /usr/local/lib/python3.10/dist-packages (from torch->mlatom) (1.13.1)\n",
            "Requirement already satisfied: networkx in /usr/local/lib/python3.10/dist-packages (from torch->mlatom) (3.3)\n",
            "Requirement already satisfied: jinja2 in /usr/local/lib/python3.10/dist-packages (from torch->mlatom) (3.1.4)\n",
            "Requirement already satisfied: fsspec in /usr/local/lib/python3.10/dist-packages (from torch->mlatom) (2024.6.1)\n",
            "Collecting nvidia-cuda-nvrtc-cu12==12.1.105 (from torch->mlatom)\n",
            "  Using cached nvidia_cuda_nvrtc_cu12-12.1.105-py3-none-manylinux1_x86_64.whl.metadata (1.5 kB)\n",
            "Collecting nvidia-cuda-runtime-cu12==12.1.105 (from torch->mlatom)\n",
            "  Using cached nvidia_cuda_runtime_cu12-12.1.105-py3-none-manylinux1_x86_64.whl.metadata (1.5 kB)\n",
            "Collecting nvidia-cuda-cupti-cu12==12.1.105 (from torch->mlatom)\n",
            "  Using cached nvidia_cuda_cupti_cu12-12.1.105-py3-none-manylinux1_x86_64.whl.metadata (1.6 kB)\n",
            "Collecting nvidia-cudnn-cu12==8.9.2.26 (from torch->mlatom)\n",
            "  Using cached nvidia_cudnn_cu12-8.9.2.26-py3-none-manylinux1_x86_64.whl.metadata (1.6 kB)\n",
            "Collecting nvidia-cublas-cu12==12.1.3.1 (from torch->mlatom)\n",
            "  Using cached nvidia_cublas_cu12-12.1.3.1-py3-none-manylinux1_x86_64.whl.metadata (1.5 kB)\n",
            "Collecting nvidia-cufft-cu12==11.0.2.54 (from torch->mlatom)\n",
            "  Using cached nvidia_cufft_cu12-11.0.2.54-py3-none-manylinux1_x86_64.whl.metadata (1.5 kB)\n",
            "Collecting nvidia-curand-cu12==10.3.2.106 (from torch->mlatom)\n",
            "  Using cached nvidia_curand_cu12-10.3.2.106-py3-none-manylinux1_x86_64.whl.metadata (1.5 kB)\n",
            "Collecting nvidia-cusolver-cu12==11.4.5.107 (from torch->mlatom)\n",
            "  Using cached nvidia_cusolver_cu12-11.4.5.107-py3-none-manylinux1_x86_64.whl.metadata (1.6 kB)\n",
            "Collecting nvidia-cusparse-cu12==12.1.0.106 (from torch->mlatom)\n",
            "  Using cached nvidia_cusparse_cu12-12.1.0.106-py3-none-manylinux1_x86_64.whl.metadata (1.6 kB)\n",
            "Collecting nvidia-nccl-cu12==2.20.5 (from torch->mlatom)\n",
            "  Using cached nvidia_nccl_cu12-2.20.5-py3-none-manylinux2014_x86_64.whl.metadata (1.8 kB)\n",
            "Collecting nvidia-nvtx-cu12==12.1.105 (from torch->mlatom)\n",
            "  Using cached nvidia_nvtx_cu12-12.1.105-py3-none-manylinux1_x86_64.whl.metadata (1.7 kB)\n",
            "Requirement already satisfied: triton==2.3.1 in /usr/local/lib/python3.10/dist-packages (from torch->mlatom) (2.3.1)\n",
            "Collecting nvidia-nvjitlink-cu12 (from nvidia-cusolver-cu12==11.4.5.107->torch->mlatom)\n",
            "  Downloading nvidia_nvjitlink_cu12-12.5.82-py3-none-manylinux2014_x86_64.whl.metadata (1.5 kB)\n",
            "Collecting lark-parser (from torchani->mlatom)\n",
            "  Downloading lark_parser-0.12.0-py2.py3-none-any.whl.metadata (1.7 kB)\n",
            "Requirement already satisfied: requests in /usr/local/lib/python3.10/dist-packages (from torchani->mlatom) (2.31.0)\n",
            "Requirement already satisfied: importlib-metadata in /usr/local/lib/python3.10/dist-packages (from torchani->mlatom) (8.2.0)\n",
            "Requirement already satisfied: pytz>=2020.1 in /usr/local/lib/python3.10/dist-packages (from pandas!=2.1.0,>=1.4->statsmodels->mlatom) (2024.1)\n",
            "Requirement already satisfied: tzdata>=2022.1 in /usr/local/lib/python3.10/dist-packages (from pandas!=2.1.0,>=1.4->statsmodels->mlatom) (2024.1)\n",
            "Requirement already satisfied: six in /usr/local/lib/python3.10/dist-packages (from patsy>=0.5.6->statsmodels->mlatom) (1.16.0)\n",
            "Requirement already satisfied: zipp>=0.5 in /usr/local/lib/python3.10/dist-packages (from importlib-metadata->torchani->mlatom) (3.19.2)\n",
            "Requirement already satisfied: MarkupSafe>=2.0 in /usr/local/lib/python3.10/dist-packages (from jinja2->torch->mlatom) (2.1.5)\n",
            "Requirement already satisfied: charset-normalizer<4,>=2 in /usr/local/lib/python3.10/dist-packages (from requests->torchani->mlatom) (3.3.2)\n",
            "Requirement already satisfied: idna<4,>=2.5 in /usr/local/lib/python3.10/dist-packages (from requests->torchani->mlatom) (3.7)\n",
            "Requirement already satisfied: urllib3<3,>=1.21.1 in /usr/local/lib/python3.10/dist-packages (from requests->torchani->mlatom) (2.0.7)\n",
            "Requirement already satisfied: certifi>=2017.4.17 in /usr/local/lib/python3.10/dist-packages (from requests->torchani->mlatom) (2024.7.4)\n",
            "Requirement already satisfied: mpmath<1.4,>=1.1.0 in /usr/local/lib/python3.10/dist-packages (from sympy->torch->mlatom) (1.3.0)\n",
            "Downloading mlatom-3.9.1-py3-none-any.whl (51.8 MB)\n",
            "\u001b[2K   \u001b[90m━━━━━━━━━━━━━━━━━━━━━━━━━━━━━━━━━━━━━━━━\u001b[0m \u001b[32m51.8/51.8 MB\u001b[0m \u001b[31m8.0 MB/s\u001b[0m eta \u001b[36m0:00:00\u001b[0m\n",
            "\u001b[?25hDownloading pyh5md-1.0.0-py2.py3-none-any.whl (4.4 kB)\n",
            "Using cached nvidia_cublas_cu12-12.1.3.1-py3-none-manylinux1_x86_64.whl (410.6 MB)\n",
            "Using cached nvidia_cuda_cupti_cu12-12.1.105-py3-none-manylinux1_x86_64.whl (14.1 MB)\n",
            "Using cached nvidia_cuda_nvrtc_cu12-12.1.105-py3-none-manylinux1_x86_64.whl (23.7 MB)\n",
            "Using cached nvidia_cuda_runtime_cu12-12.1.105-py3-none-manylinux1_x86_64.whl (823 kB)\n",
            "Using cached nvidia_cudnn_cu12-8.9.2.26-py3-none-manylinux1_x86_64.whl (731.7 MB)\n",
            "Using cached nvidia_cufft_cu12-11.0.2.54-py3-none-manylinux1_x86_64.whl (121.6 MB)\n",
            "Using cached nvidia_curand_cu12-10.3.2.106-py3-none-manylinux1_x86_64.whl (56.5 MB)\n",
            "Using cached nvidia_cusolver_cu12-11.4.5.107-py3-none-manylinux1_x86_64.whl (124.2 MB)\n",
            "Using cached nvidia_cusparse_cu12-12.1.0.106-py3-none-manylinux1_x86_64.whl (196.0 MB)\n",
            "Using cached nvidia_nccl_cu12-2.20.5-py3-none-manylinux2014_x86_64.whl (176.2 MB)\n",
            "Using cached nvidia_nvtx_cu12-12.1.105-py3-none-manylinux1_x86_64.whl (99 kB)\n",
            "Downloading torchani-2.2.4-py3-none-any.whl (10.9 MB)\n",
            "\u001b[2K   \u001b[90m━━━━━━━━━━━━━━━━━━━━━━━━━━━━━━━━━━━━━━━━\u001b[0m \u001b[32m10.9/10.9 MB\u001b[0m \u001b[31m7.5 MB/s\u001b[0m eta \u001b[36m0:00:00\u001b[0m\n",
            "\u001b[?25hDownloading lark_parser-0.12.0-py2.py3-none-any.whl (103 kB)\n",
            "\u001b[2K   \u001b[90m━━━━━━━━━━━━━━━━━━━━━━━━━━━━━━━━━━━━━━━━\u001b[0m \u001b[32m103.5/103.5 kB\u001b[0m \u001b[31m9.7 MB/s\u001b[0m eta \u001b[36m0:00:00\u001b[0m\n",
            "\u001b[?25hDownloading nvidia_nvjitlink_cu12-12.5.82-py3-none-manylinux2014_x86_64.whl (21.3 MB)\n",
            "\u001b[2K   \u001b[90m━━━━━━━━━━━━━━━━━━━━━━━━━━━━━━━━━━━━━━━━\u001b[0m \u001b[32m21.3/21.3 MB\u001b[0m \u001b[31m49.3 MB/s\u001b[0m eta \u001b[36m0:00:00\u001b[0m\n",
            "\u001b[?25hInstalling collected packages: pyh5md, lark-parser, nvidia-nvtx-cu12, nvidia-nvjitlink-cu12, nvidia-nccl-cu12, nvidia-curand-cu12, nvidia-cufft-cu12, nvidia-cuda-runtime-cu12, nvidia-cuda-nvrtc-cu12, nvidia-cuda-cupti-cu12, nvidia-cublas-cu12, nvidia-cusparse-cu12, nvidia-cudnn-cu12, nvidia-cusolver-cu12, torchani, mlatom\n",
            "Successfully installed lark-parser-0.12.0 mlatom-3.9.1 nvidia-cublas-cu12-12.1.3.1 nvidia-cuda-cupti-cu12-12.1.105 nvidia-cuda-nvrtc-cu12-12.1.105 nvidia-cuda-runtime-cu12-12.1.105 nvidia-cudnn-cu12-8.9.2.26 nvidia-cufft-cu12-11.0.2.54 nvidia-curand-cu12-10.3.2.106 nvidia-cusolver-cu12-11.4.5.107 nvidia-cusparse-cu12-12.1.0.106 nvidia-nccl-cu12-2.20.5 nvidia-nvjitlink-cu12-12.5.82 nvidia-nvtx-cu12-12.1.105 pyh5md-1.0.0 torchani-2.2.4\n",
            "Cloning into 'ulamdyn'...\n",
            "remote: Enumerating objects: 1097, done.\u001b[K\n",
            "remote: Counting objects: 100% (187/187), done.\u001b[K\n",
            "remote: Compressing objects: 100% (74/74), done.\u001b[K\n",
            "remote: Total 1097 (delta 116), reused 130 (delta 90), pack-reused 910 (from 1)\u001b[K\n",
            "Receiving objects: 100% (1097/1097), 15.66 MiB | 17.30 MiB/s, done.\n",
            "Resolving deltas: 100% (625/625), done.\n",
            "Processing ./ulamdyn\n",
            "  Preparing metadata (setup.py) ... \u001b[?25l\u001b[?25hdone\n",
            "Collecting rmsd (from ulamdyn==0+untagged.86.g3547f09)\n",
            "  Downloading rmsd-1.5.1-py3-none-any.whl.metadata (5.3 kB)\n",
            "Requirement already satisfied: h5py in /usr/local/lib/python3.10/dist-packages (from ulamdyn==0+untagged.86.g3547f09) (3.11.0)\n",
            "Requirement already satisfied: numpy in /usr/local/lib/python3.10/dist-packages (from ulamdyn==0+untagged.86.g3547f09) (1.26.4)\n",
            "Requirement already satisfied: scipy in /usr/local/lib/python3.10/dist-packages (from ulamdyn==0+untagged.86.g3547f09) (1.13.1)\n",
            "Requirement already satisfied: joblib in /usr/local/lib/python3.10/dist-packages (from ulamdyn==0+untagged.86.g3547f09) (1.4.2)\n",
            "Requirement already satisfied: pandas in /usr/local/lib/python3.10/dist-packages (from ulamdyn==0+untagged.86.g3547f09) (2.1.4)\n",
            "Requirement already satisfied: scikit-learn in /usr/local/lib/python3.10/dist-packages (from ulamdyn==0+untagged.86.g3547f09) (1.3.2)\n",
            "Collecting tslearn (from ulamdyn==0+untagged.86.g3547f09)\n",
            "  Downloading tslearn-0.6.3-py3-none-any.whl.metadata (14 kB)\n",
            "Requirement already satisfied: python-dateutil>=2.8.2 in /usr/local/lib/python3.10/dist-packages (from pandas->ulamdyn==0+untagged.86.g3547f09) (2.8.2)\n",
            "Requirement already satisfied: pytz>=2020.1 in /usr/local/lib/python3.10/dist-packages (from pandas->ulamdyn==0+untagged.86.g3547f09) (2024.1)\n",
            "Requirement already satisfied: tzdata>=2022.1 in /usr/local/lib/python3.10/dist-packages (from pandas->ulamdyn==0+untagged.86.g3547f09) (2024.1)\n",
            "Requirement already satisfied: threadpoolctl>=2.0.0 in /usr/local/lib/python3.10/dist-packages (from scikit-learn->ulamdyn==0+untagged.86.g3547f09) (3.5.0)\n",
            "Requirement already satisfied: numba in /usr/local/lib/python3.10/dist-packages (from tslearn->ulamdyn==0+untagged.86.g3547f09) (0.60.0)\n",
            "Requirement already satisfied: six>=1.5 in /usr/local/lib/python3.10/dist-packages (from python-dateutil>=2.8.2->pandas->ulamdyn==0+untagged.86.g3547f09) (1.16.0)\n",
            "Requirement already satisfied: llvmlite<0.44,>=0.43.0dev0 in /usr/local/lib/python3.10/dist-packages (from numba->tslearn->ulamdyn==0+untagged.86.g3547f09) (0.43.0)\n",
            "Downloading rmsd-1.5.1-py3-none-any.whl (17 kB)\n",
            "Downloading tslearn-0.6.3-py3-none-any.whl (374 kB)\n",
            "\u001b[2K   \u001b[90m━━━━━━━━━━━━━━━━━━━━━━━━━━━━━━━━━━━━━━━━\u001b[0m \u001b[32m374.4/374.4 kB\u001b[0m \u001b[31m29.9 MB/s\u001b[0m eta \u001b[36m0:00:00\u001b[0m\n",
            "\u001b[?25hBuilding wheels for collected packages: ulamdyn\n",
            "  Building wheel for ulamdyn (setup.py) ... \u001b[?25l\u001b[?25hdone\n",
            "  Created wheel for ulamdyn: filename=ulamdyn-0+untagged.86.g3547f09-py3-none-any.whl size=82743 sha256=c70e2c03fb85c04a60f1de902591f36991249443ca79b203f6393611aafa47dc\n",
            "  Stored in directory: /tmp/pip-ephem-wheel-cache-2efe8kb1/wheels/ea/44/6c/17ce24d141475292bbb4c82ed8acc25f0b63a566b8af3500fc\n",
            "Successfully built ulamdyn\n",
            "Installing collected packages: rmsd, tslearn, ulamdyn\n",
            "Successfully installed rmsd-1.5.1 tslearn-0.6.3 ulamdyn-0+untagged.86.g3547f09\n"
          ]
        }
      ],
      "source": [
        "!pip install mlatom\n",
        "!git clone https://gitlab.com/maxjr82/ulamdyn.git\n",
        "!pip install ulamdyn/"
      ]
    },
    {
      "cell_type": "code",
      "execution_count": null,
      "metadata": {
        "colab": {
          "base_uri": "https://localhost:8080/"
        },
        "id": "7z8eznaooDgP",
        "outputId": "b0ebe733-221c-4969-f8ad-ea7d7c0b75d9"
      },
      "outputs": [
        {
          "output_type": "stream",
          "name": "stdout",
          "text": [
            "R -> (120000, 8, 3)\n",
            "F -> (120000, 8, 3)\n",
            "Q -> (120000, 8, 1)\n",
            "DP -> (120000, 3)\n",
            "QP -> (120000, 3, 3)\n",
            "P -> (120000, 6)\n",
            "RC -> (120000, 3)\n",
            "HL -> (120000, 2)\n",
            "E -> (120000, 1)\n",
            "Z -> (8,)\n",
            "R2 -> (120000, 1)\n",
            "CONF -> (120000, 1)\n",
            "['C', 'O', 'C', 'C', 'H', 'H', 'H', 'H']\n"
          ]
        }
      ],
      "source": [
        "from typing_extensions import get_overloads\n",
        "data = np.load('ws22_acrolein.npz')\n",
        "\n",
        "for key, val in data.items():\n",
        "    print(key, '->', val.shape)\n",
        "\n",
        "coordinates_cis_trans = np.array(data['R'][:20000])\n",
        "energy_cis_trans = np.array(data['E'][:20000])\n",
        "grads_cis_trans = -np.array(data['F'][:20000])\n",
        "\n",
        "\n",
        "atoms = []\n",
        "\n",
        "for i in range(data['Z'].shape[0]):\n",
        "    if data['Z'][i] == 6:\n",
        "        atoms.append('C')\n",
        "    elif data['Z'][i] == 8:\n",
        "        atoms.append('O')\n",
        "    elif data['Z'][i] == 1:\n",
        "        atoms.append('H')\n",
        "\n",
        "print(atoms)"
      ]
    },
    {
      "cell_type": "code",
      "execution_count": null,
      "metadata": {
        "id": "ofeIVgHWr5qQ"
      },
      "outputs": [],
      "source": [
        "coordinates_trans = np.array(data['R'][70000:])\n",
        "energy_trans = np.array(data['E'][70000:])\n",
        "grads_trans = -np.array(data['F'][70000:])"
      ]
    },
    {
      "cell_type": "code",
      "execution_count": null,
      "metadata": {
        "id": "huFf9938vuRA"
      },
      "outputs": [],
      "source": [
        "coordinates_cis = np.array(data['R'][20000:70000])\n",
        "energy_cis = np.array(data['E'][20000:70000])\n",
        "grads_cis = -np.array(data['F'][20000:70000])"
      ]
    },
    {
      "cell_type": "code",
      "execution_count": null,
      "metadata": {
        "id": "bjSsy6Fzug6p"
      },
      "outputs": [],
      "source": [
        "coordinates_trans_train, coordinates_trans_test, en_trans_train, en_trans_test, grads_trans_train, grads_trans_test = train_test_split(coordinates_trans, energy_trans, grads_trans, train_size = 0.90, random_state=0)"
      ]
    },
    {
      "cell_type": "code",
      "execution_count": null,
      "metadata": {
        "colab": {
          "base_uri": "https://localhost:8080/"
        },
        "id": "HyZZQweo4vxf",
        "outputId": "84f7a1a6-c730-4772-b09d-849b3dfed7ab"
      },
      "outputs": [
        {
          "output_type": "execute_result",
          "data": {
            "text/plain": [
              "array([[-120265.54525667],\n",
              "       [-120295.6376437 ],\n",
              "       [-120290.32390238],\n",
              "       ...,\n",
              "       [-120294.09290581],\n",
              "       [-120273.4211467 ],\n",
              "       [-120292.20436419]])"
            ]
          },
          "metadata": {},
          "execution_count": 7
        }
      ],
      "source": [
        "en_trans_train"
      ]
    },
    {
      "cell_type": "code",
      "execution_count": null,
      "metadata": {
        "colab": {
          "base_uri": "https://localhost:8080/"
        },
        "id": "Emluw96Ou2Qj",
        "outputId": "f42450d2-e45d-47b5-cd7c-47cc7e2645d6"
      },
      "outputs": [
        {
          "output_type": "stream",
          "name": "stdout",
          "text": [
            "(45000, 1)\n",
            "(5000, 1)\n"
          ]
        }
      ],
      "source": [
        "print(en_trans_train.shape)\n",
        "print(en_trans_test.shape)"
      ]
    },
    {
      "cell_type": "code",
      "execution_count": null,
      "metadata": {
        "id": "lZj6P76dgN2F"
      },
      "outputs": [],
      "source": [
        "import ulamdyn as ulmd\n",
        "import os\n",
        "\n",
        "from mlatom.data import molecular_database, molecule\n",
        "from mlatom.interfaces.torchani_interface import ani\n",
        "# from mlatom.interfaces.gap_interface import gap\n",
        "from mlatom import models\n",
        "from mlatom.constants import Hartree2eV, Angstrom2Bohr, kcalpermol2eV\n",
        "import torch"
      ]
    },
    {
      "cell_type": "code",
      "execution_count": null,
      "metadata": {
        "id": "gCzK7ZVax5wn"
      },
      "outputs": [],
      "source": [
        "import seaborn as sns\n",
        "import matplotlib.pyplot as plt\n",
        "from matplotlib.ticker import StrMethodFormatter\n",
        "\n",
        "import ipywidgets as widgets\n",
        "from ipywidgets import interact"
      ]
    },
    {
      "cell_type": "code",
      "execution_count": null,
      "metadata": {
        "id": "3c9-u_2Yx9g3"
      },
      "outputs": [],
      "source": [
        "epots_train = en_trans_train.flatten() * kcalpermol2eV\n",
        "epots_test = en_trans_test.flatten() * kcalpermol2eV\n",
        "grads_train = grads_trans_train * kcalpermol2eV\n",
        "grads_test = grads_trans_test * kcalpermol2eV"
      ]
    },
    {
      "cell_type": "code",
      "execution_count": null,
      "metadata": {
        "colab": {
          "base_uri": "https://localhost:8080/"
        },
        "id": "ExU-bYt4437L",
        "outputId": "41999b3b-50a7-45a8-9df9-665ea7509e02"
      },
      "outputs": [
        {
          "output_type": "execute_result",
          "data": {
            "text/plain": [
              "array([-5217.51587023, -5218.8213772 , -5218.59084958, ...,\n",
              "       -5218.75436138, -5217.85755231, -5218.67243021])"
            ]
          },
          "metadata": {},
          "execution_count": 12
        }
      ],
      "source": [
        "epots_train"
      ]
    },
    {
      "cell_type": "code",
      "execution_count": null,
      "metadata": {
        "id": "rX81SoKdyL1v"
      },
      "outputs": [],
      "source": [
        "atoms = np.tile(np.array(1 * [6] + 1 * [8] + 2 * [6] + 4 * [1]), (45000, 1))\n",
        "acrolein_train = molecular_database.from_numpy(coordinates_trans_train, atoms)"
      ]
    },
    {
      "cell_type": "code",
      "execution_count": null,
      "metadata": {
        "colab": {
          "base_uri": "https://localhost:8080/"
        },
        "id": "caDLo1Aw1wTQ",
        "outputId": "c2b1554b-f502-4215-9011-e7f1398d6652"
      },
      "outputs": [
        {
          "output_type": "execute_result",
          "data": {
            "text/plain": [
              "(45000, 8)"
            ]
          },
          "metadata": {},
          "execution_count": 14
        }
      ],
      "source": [
        "acrolein_train.element_symbols.shape"
      ]
    },
    {
      "cell_type": "code",
      "execution_count": null,
      "metadata": {
        "colab": {
          "base_uri": "https://localhost:8080/"
        },
        "id": "VP1braDw1_t3",
        "outputId": "cb55d7df-0127-42ba-e323-0d47e999e6c9"
      },
      "outputs": [
        {
          "output_type": "execute_result",
          "data": {
            "text/plain": [
              "(45000, 8, 3)"
            ]
          },
          "metadata": {},
          "execution_count": 15
        }
      ],
      "source": [
        "acrolein_train.xyz_coordinates.shape"
      ]
    },
    {
      "cell_type": "code",
      "execution_count": null,
      "metadata": {
        "colab": {
          "base_uri": "https://localhost:8080/"
        },
        "id": "gdpl5_O62CdX",
        "outputId": "f4f556d6-9982-44d6-9465-64a8628c88ee"
      },
      "outputs": [
        {
          "output_type": "execute_result",
          "data": {
            "text/plain": [
              "['__add__',\n",
              " '__class__',\n",
              " '__delattr__',\n",
              " '__dict__',\n",
              " '__dir__',\n",
              " '__doc__',\n",
              " '__eq__',\n",
              " '__format__',\n",
              " '__ge__',\n",
              " '__getattribute__',\n",
              " '__getitem__',\n",
              " '__gt__',\n",
              " '__hash__',\n",
              " '__init__',\n",
              " '__init_subclass__',\n",
              " '__iter__',\n",
              " '__le__',\n",
              " '__len__',\n",
              " '__lt__',\n",
              " '__module__',\n",
              " '__ne__',\n",
              " '__new__',\n",
              " '__reduce__',\n",
              " '__reduce_ex__',\n",
              " '__repr__',\n",
              " '__setattr__',\n",
              " '__sizeof__',\n",
              " '__str__',\n",
              " '__subclasshook__',\n",
              " '__weakref__',\n",
              " '_is_uniform_cell',\n",
              " '_load',\n",
              " 'add_hessian_properties',\n",
              " 'add_scalar_properties',\n",
              " 'add_scalar_properties_from_file',\n",
              " 'add_xyz_derivative_properties',\n",
              " 'add_xyz_derivative_properties_from_file',\n",
              " 'add_xyz_vectorial_properties',\n",
              " 'add_xyz_vectorial_properties_from_file',\n",
              " 'add_xyz_vectorial_properties_from_string',\n",
              " 'append',\n",
              " 'atomic_numbers',\n",
              " 'batches',\n",
              " 'charges',\n",
              " 'copy',\n",
              " 'dump',\n",
              " 'element_symbols',\n",
              " 'filter_by_property',\n",
              " 'from_numpy',\n",
              " 'from_smiles_file',\n",
              " 'from_smiles_string',\n",
              " 'from_xyz_file',\n",
              " 'from_xyz_string',\n",
              " 'get_atomic_numbers',\n",
              " 'get_element_symbols',\n",
              " 'get_number_of_atoms',\n",
              " 'get_properties',\n",
              " 'get_xyz_derivative_properties',\n",
              " 'get_xyz_string',\n",
              " 'get_xyz_vectorial_properties',\n",
              " 'ids',\n",
              " 'load',\n",
              " 'molecules',\n",
              " 'multiplicities',\n",
              " 'nuclear_masses',\n",
              " 'number_of_atoms',\n",
              " 'proliferate',\n",
              " 'read_from_numpy',\n",
              " 'read_from_smiles_file',\n",
              " 'read_from_smiles_string',\n",
              " 'read_from_xyz_file',\n",
              " 'read_from_xyz_string',\n",
              " 'set_properties',\n",
              " 'size',\n",
              " 'smiles',\n",
              " 'split',\n",
              " 'sum_properties',\n",
              " 'write_file_energy_gradients',\n",
              " 'write_file_with_hessian',\n",
              " 'write_file_with_properties',\n",
              " 'write_file_with_smiles',\n",
              " 'write_file_with_xyz_coordinates',\n",
              " 'write_file_with_xyz_derivative_properties',\n",
              " 'write_file_with_xyz_vectorial_properties',\n",
              " 'xyz_coordinates']"
            ]
          },
          "metadata": {},
          "execution_count": 16
        }
      ],
      "source": [
        "dir(acrolein_train)"
      ]
    },
    {
      "cell_type": "code",
      "execution_count": null,
      "metadata": {
        "id": "ENGGDrGz2FTw"
      },
      "outputs": [],
      "source": [
        "acrolein_train.add_scalar_properties(epots_train, \"energy\")"
      ]
    },
    {
      "cell_type": "code",
      "execution_count": null,
      "metadata": {
        "id": "HdYhO-VbS5Ef"
      },
      "outputs": [],
      "source": [
        "acrolein_train.add_xyz_derivative_properties(grads_train, \"energy\", \"energy_grad\")"
      ]
    },
    {
      "cell_type": "code",
      "execution_count": null,
      "metadata": {
        "colab": {
          "base_uri": "https://localhost:8080/"
        },
        "id": "ecLlx9wP2OwC",
        "outputId": "5dcff8f3-593b-483d-b065-8c2ea559c138"
      },
      "outputs": [
        {
          "output_type": "execute_result",
          "data": {
            "text/plain": [
              "45000"
            ]
          },
          "metadata": {},
          "execution_count": 19
        }
      ],
      "source": [
        "acrolein_train.size"
      ]
    },
    {
      "cell_type": "code",
      "execution_count": null,
      "metadata": {
        "colab": {
          "base_uri": "https://localhost:8080/"
        },
        "id": "sKo7_E-K4M2G",
        "outputId": "93c012d8-f0b3-4ca0-ac8c-4f3c90ee668b"
      },
      "outputs": [
        {
          "output_type": "execute_result",
          "data": {
            "text/plain": [
              "(45000,)"
            ]
          },
          "metadata": {},
          "execution_count": 20
        }
      ],
      "source": [
        "acrolein_train.get_properties('energy').shape"
      ]
    },
    {
      "cell_type": "code",
      "execution_count": null,
      "metadata": {
        "colab": {
          "base_uri": "https://localhost:8080/"
        },
        "id": "Z5KKyFCBTFVx",
        "outputId": "a72ba23f-c537-4359-8670-337c4831c90e"
      },
      "outputs": [
        {
          "output_type": "execute_result",
          "data": {
            "text/plain": [
              "(45000, 8, 3)"
            ]
          },
          "metadata": {},
          "execution_count": 21
        }
      ],
      "source": [
        "acrolein_train.get_xyz_derivative_properties('energy_grad').shape"
      ]
    },
    {
      "cell_type": "code",
      "execution_count": null,
      "metadata": {
        "id": "bBHu6Civ3fn-"
      },
      "outputs": [],
      "source": [
        "import random\n",
        "import torch\n",
        "import os\n",
        "import sys\n",
        "import numpy as np\n",
        "import pandas as pd\n",
        "import ulamdyn as ulmd\n",
        "import torch\n",
        "import torchani\n",
        "from mlatom.data import molecular_database, molecule\n",
        "from mlatom.interfaces.torchani_interface import ani\n",
        "from mlatom.constants import Hartree2eV, Angstrom2Bohr"
      ]
    },
    {
      "cell_type": "code",
      "execution_count": null,
      "metadata": {
        "id": "WEat_Cfphy1-"
      },
      "outputs": [],
      "source": [
        "def set_seed(seed):\n",
        "    # Set the seed for the Python random module\n",
        "    random.seed(seed)\n",
        "\n",
        "    # Set the seed for NumPy\n",
        "    np.random.seed(seed)\n",
        "\n",
        "    # Set the seed for PyTorch (CPU)\n",
        "    torch.manual_seed(seed)\n",
        "\n",
        "    # If using a GPU, set the seed for PyTorch (GPU)\n",
        "    if torch.cuda.is_available():\n",
        "        torch.cuda.manual_seed(seed)\n",
        "        torch.cuda.manual_seed_all(seed)  # if you are using multi-GPU.\n",
        "\n",
        "    # Ensure deterministic behavior for some operations\n",
        "    torch.backends.cudnn.deterministic = True\n",
        "    torch.backends.cudnn.benchmark = False\n",
        "\n",
        "# Set a seed value\n",
        "seed = 0\n",
        "set_seed(seed)"
      ]
    },
    {
      "cell_type": "code",
      "execution_count": null,
      "metadata": {
        "id": "sJHpYOs6rFkQ"
      },
      "outputs": [],
      "source": [
        "hyperparams = models.hyperparameters({\n",
        "        #### Training ####\n",
        "        'batch_size':           models.hyperparameter(value=128, minval=1, maxval=1024, optimization_space='linear', dtype=int),\n",
        "        'max_epochs':           models.hyperparameter(value=1000, minval=100, maxval=1000000, optimization_space='log', dtype=int),\n",
        "        'learning_rate':                    models.hyperparameter(value=0.001, minval=0.0001, maxval=0.01, optimization_space='log'),\n",
        "        'early_stopping_learning_rate':     models.hyperparameter(value=1.0E-7, minval=1.0E-6, maxval=1.0E-4, optimization_space='log'),\n",
        "        'lr_reduce_patience':   models.hyperparameter(value=50, minval=16, maxval=256, optimization_space='linear'),\n",
        "        'lr_reduce_factor':     models.hyperparameter(value=0.8, minval=0.1, maxval=0.9, optimization_space='linear'),\n",
        "        'lr_reduce_threshold':  models.hyperparameter(value=0.0, minval=-0.01, maxval=0.01, optimization_space='linear'),\n",
        "        #### Loss ####\n",
        "        'force_coefficient':    models.hyperparameter(value=0.1, minval=0.05, maxval=5, optimization_space='linear'),\n",
        "        'median_loss':          models.hyperparameter(value=False),\n",
        "        'validation_loss_type': models.hyperparameter(value='mean_RMSE', choices=['MSE', 'mean_RMSE']),\n",
        "        #### Network ####\n",
        "        \"neurons\":              models.hyperparameter(value=[[72, 64, 32, 16]]),\n",
        "        \"activation_function\":  models.hyperparameter(value=lambda: torch.nn.CELU(), optimization_space='choice', choices=[\"CELU\", \"ReLU\", \"GELU\"]),\n",
        "        \"fixed_layers\":         models.hyperparameter(value=False),\n",
        "        #### AEV ####\n",
        "        'Rcr':                  models.hyperparameter(value=5.2000e+00, minval=1.0, maxval=10.0, optimization_space='linear'),\n",
        "        'Rca':                  models.hyperparameter(value=3.5000e+00, minval=1.0, maxval=10.0, optimization_space='linear'),\n",
        "        'EtaR':                 models.hyperparameter(value=[1.6000000e+01]),\n",
        "        'ShfR':                 models.hyperparameter(value=[9.0000000e-01, 1.1687500e+00, 1.4375000e+00, 1.7062500e+00, 1.9750000e+00, 2.2437500e+00, 2.5125000e+00, 2.7812500e+00, 3.0500000e+00, 3.3187500e+00, 3.5875000e+00, 3.8562500e+00, 4.1250000e+00, 4.3937500e+00, 4.6625000e+00, 4.9312500e+00]),\n",
        "        'Zeta':                 models.hyperparameter(value=[3.2000000e+01]),\n",
        "        'ShfZ':                 models.hyperparameter(value=[1.9634954e-01, 5.8904862e-01, 9.8174770e-01, 1.3744468e+00, 1.7671459e+00, 2.1598449e+00, 2.5525440e+00, 2.9452431e+00]),\n",
        "        'EtaA':                 models.hyperparameter(value=[8.0000000e+00]),\n",
        "        'ShfA':                 models.hyperparameter(value=[9.0000000e-01, 1.5500000e+00, 2.2000000e+00, 2.8500000e+00]),\n",
        "    })"
      ]
    },
    {
      "cell_type": "code",
      "execution_count": null,
      "metadata": {
        "colab": {
          "base_uri": "https://localhost:8080/"
        },
        "id": "Y_J70_Kz3qqn",
        "outputId": "2751d0d5-2b71-47a1-a0e6-6d7187aa121f"
      },
      "outputs": [
        {
          "output_type": "stream",
          "name": "stdout",
          "text": [
            "the trained ANI model will be saved in ani_acrolein.pt\n"
          ]
        }
      ],
      "source": [
        "model_ani = ani(\"ani_acrolein.pt\")\n",
        "model_ani.hyperparameters = hyperparams"
      ]
    },
    {
      "cell_type": "code",
      "execution_count": null,
      "metadata": {
        "colab": {
          "base_uri": "https://localhost:8080/"
        },
        "id": "dfHvFwXo3vVf",
        "outputId": "3b754fb8-9b75-4056-ab70-442ab8602438"
      },
      "outputs": [
        {
          "output_type": "stream",
          "name": "stdout",
          "text": [
            "Sequential(\n",
            "  (0): AEVComputer()\n",
            "  (1): ANIModel(\n",
            "    (C): Sequential(\n",
            "      (0): Linear(in_features=240, out_features=72, bias=True)\n",
            "      (1): CELU(alpha=1.0)\n",
            "      (2): Linear(in_features=72, out_features=64, bias=True)\n",
            "      (3): CELU(alpha=1.0)\n",
            "      (4): Linear(in_features=64, out_features=32, bias=True)\n",
            "      (5): CELU(alpha=1.0)\n",
            "      (6): Linear(in_features=32, out_features=16, bias=True)\n",
            "      (7): CELU(alpha=1.0)\n",
            "      (8): Linear(in_features=16, out_features=1, bias=True)\n",
            "    )\n",
            "    (H): Sequential(\n",
            "      (0): Linear(in_features=240, out_features=72, bias=True)\n",
            "      (1): CELU(alpha=1.0)\n",
            "      (2): Linear(in_features=72, out_features=64, bias=True)\n",
            "      (3): CELU(alpha=1.0)\n",
            "      (4): Linear(in_features=64, out_features=32, bias=True)\n",
            "      (5): CELU(alpha=1.0)\n",
            "      (6): Linear(in_features=32, out_features=16, bias=True)\n",
            "      (7): CELU(alpha=1.0)\n",
            "      (8): Linear(in_features=16, out_features=1, bias=True)\n",
            "    )\n",
            "    (O): Sequential(\n",
            "      (0): Linear(in_features=240, out_features=72, bias=True)\n",
            "      (1): CELU(alpha=1.0)\n",
            "      (2): Linear(in_features=72, out_features=64, bias=True)\n",
            "      (3): CELU(alpha=1.0)\n",
            "      (4): Linear(in_features=64, out_features=32, bias=True)\n",
            "      (5): CELU(alpha=1.0)\n",
            "      (6): Linear(in_features=32, out_features=16, bias=True)\n",
            "      (7): CELU(alpha=1.0)\n",
            "      (8): Linear(in_features=16, out_features=1, bias=True)\n",
            "    )\n",
            "  )\n",
            ")\n",
            "training starting from epoch 1\n",
            "validation loss: 0.06560242313808864 at epoch 1\n",
            "learning_rate: 0.001\n",
            "model saved in ani_acrolein.pt\n"
          ]
        },
        {
          "output_type": "stream",
          "name": "stderr",
          "text": [
            "epoch 1: 100%|██████████| 282/282 [00:08<00:00, 32.08it/s]\n"
          ]
        },
        {
          "output_type": "stream",
          "name": "stdout",
          "text": [
            "validation loss: 0.011722136941221026 at epoch 2\n",
            "learning_rate: 0.001\n",
            "model saved in ani_acrolein.pt\n"
          ]
        },
        {
          "output_type": "stream",
          "name": "stderr",
          "text": [
            "epoch 2: 100%|██████████| 282/282 [00:08<00:00, 34.37it/s]\n"
          ]
        },
        {
          "output_type": "stream",
          "name": "stdout",
          "text": [
            "validation loss: 0.006761103451251984 at epoch 3\n",
            "learning_rate: 0.001\n",
            "model saved in ani_acrolein.pt\n"
          ]
        },
        {
          "output_type": "stream",
          "name": "stderr",
          "text": [
            "epoch 3: 100%|██████████| 282/282 [00:08<00:00, 32.06it/s]\n"
          ]
        },
        {
          "output_type": "stream",
          "name": "stdout",
          "text": [
            "validation loss: 0.004765593359867731 at epoch 4\n",
            "learning_rate: 0.001\n",
            "model saved in ani_acrolein.pt\n"
          ]
        },
        {
          "output_type": "stream",
          "name": "stderr",
          "text": [
            "epoch 4: 100%|██████████| 282/282 [00:09<00:00, 30.71it/s]\n"
          ]
        },
        {
          "output_type": "stream",
          "name": "stdout",
          "text": [
            "validation loss: 0.013274403426382277 at epoch 5\n",
            "learning_rate: 0.001\n"
          ]
        },
        {
          "output_type": "stream",
          "name": "stderr",
          "text": [
            "epoch 5: 100%|██████████| 282/282 [00:08<00:00, 34.77it/s]\n"
          ]
        },
        {
          "output_type": "stream",
          "name": "stdout",
          "text": [
            "validation loss: 0.003750388948453797 at epoch 6\n",
            "learning_rate: 0.001\n",
            "model saved in ani_acrolein.pt\n"
          ]
        },
        {
          "output_type": "stream",
          "name": "stderr",
          "text": [
            "epoch 6: 100%|██████████| 282/282 [00:08<00:00, 32.12it/s]\n"
          ]
        },
        {
          "output_type": "stream",
          "name": "stdout",
          "text": [
            "validation loss: 0.007791856076982287 at epoch 7\n",
            "learning_rate: 0.001\n"
          ]
        },
        {
          "output_type": "stream",
          "name": "stderr",
          "text": [
            "epoch 7: 100%|██████████| 282/282 [00:08<00:00, 31.72it/s]\n"
          ]
        },
        {
          "output_type": "stream",
          "name": "stdout",
          "text": [
            "validation loss: 0.0100629453725285 at epoch 8\n",
            "learning_rate: 0.001\n"
          ]
        },
        {
          "output_type": "stream",
          "name": "stderr",
          "text": [
            "epoch 8: 100%|██████████| 282/282 [00:08<00:00, 31.79it/s]\n"
          ]
        },
        {
          "output_type": "stream",
          "name": "stdout",
          "text": [
            "validation loss: 0.007768127785788642 at epoch 9\n",
            "learning_rate: 0.001\n"
          ]
        },
        {
          "output_type": "stream",
          "name": "stderr",
          "text": [
            "epoch 9: 100%|██████████| 282/282 [00:07<00:00, 35.72it/s]\n"
          ]
        },
        {
          "output_type": "stream",
          "name": "stdout",
          "text": [
            "validation loss: 0.007800704465972053 at epoch 10\n",
            "learning_rate: 0.001\n"
          ]
        },
        {
          "output_type": "stream",
          "name": "stderr",
          "text": [
            "epoch 10: 100%|██████████| 282/282 [00:09<00:00, 30.41it/s]\n"
          ]
        },
        {
          "output_type": "stream",
          "name": "stdout",
          "text": [
            "validation loss: 0.007740895430246989 at epoch 11\n",
            "learning_rate: 0.001\n"
          ]
        },
        {
          "output_type": "stream",
          "name": "stderr",
          "text": [
            "epoch 11: 100%|██████████| 282/282 [00:08<00:00, 31.87it/s]\n"
          ]
        },
        {
          "output_type": "stream",
          "name": "stdout",
          "text": [
            "validation loss: 0.007545473588837517 at epoch 12\n",
            "learning_rate: 0.001\n"
          ]
        },
        {
          "output_type": "stream",
          "name": "stderr",
          "text": [
            "epoch 12: 100%|██████████| 282/282 [00:08<00:00, 34.15it/s]\n"
          ]
        },
        {
          "output_type": "stream",
          "name": "stdout",
          "text": [
            "validation loss: 0.005442024952835507 at epoch 13\n",
            "learning_rate: 0.001\n"
          ]
        },
        {
          "output_type": "stream",
          "name": "stderr",
          "text": [
            "epoch 13: 100%|██████████| 282/282 [00:08<00:00, 34.01it/s]\n"
          ]
        },
        {
          "output_type": "stream",
          "name": "stdout",
          "text": [
            "validation loss: 0.003557067127691375 at epoch 14\n",
            "learning_rate: 0.001\n",
            "model saved in ani_acrolein.pt\n"
          ]
        },
        {
          "output_type": "stream",
          "name": "stderr",
          "text": [
            "epoch 14: 100%|██████████| 282/282 [00:08<00:00, 31.35it/s]\n"
          ]
        },
        {
          "output_type": "stream",
          "name": "stdout",
          "text": [
            "validation loss: 0.0036138937009705437 at epoch 15\n",
            "learning_rate: 0.001\n"
          ]
        },
        {
          "output_type": "stream",
          "name": "stderr",
          "text": [
            "epoch 15: 100%|██████████| 282/282 [00:09<00:00, 30.99it/s]\n"
          ]
        },
        {
          "output_type": "stream",
          "name": "stdout",
          "text": [
            "validation loss: 0.003528273496362898 at epoch 16\n",
            "learning_rate: 0.001\n",
            "model saved in ani_acrolein.pt\n"
          ]
        },
        {
          "output_type": "stream",
          "name": "stderr",
          "text": [
            "epoch 16: 100%|██████████| 282/282 [00:08<00:00, 34.05it/s]\n"
          ]
        },
        {
          "output_type": "stream",
          "name": "stdout",
          "text": [
            "validation loss: 0.0038621592422326406 at epoch 17\n",
            "learning_rate: 0.001\n"
          ]
        },
        {
          "output_type": "stream",
          "name": "stderr",
          "text": [
            "epoch 17: 100%|██████████| 282/282 [00:09<00:00, 30.53it/s]\n"
          ]
        },
        {
          "output_type": "stream",
          "name": "stdout",
          "text": [
            "validation loss: 0.0039954226050111985 at epoch 18\n",
            "learning_rate: 0.001\n"
          ]
        },
        {
          "output_type": "stream",
          "name": "stderr",
          "text": [
            "epoch 18: 100%|██████████| 282/282 [00:09<00:00, 31.00it/s]\n"
          ]
        },
        {
          "output_type": "stream",
          "name": "stdout",
          "text": [
            "validation loss: 0.0037494508756531608 at epoch 19\n",
            "learning_rate: 0.001\n"
          ]
        },
        {
          "output_type": "stream",
          "name": "stderr",
          "text": [
            "epoch 19: 100%|██████████| 282/282 [00:08<00:00, 32.52it/s]\n"
          ]
        },
        {
          "output_type": "stream",
          "name": "stdout",
          "text": [
            "validation loss: 0.0033019480887386534 at epoch 20\n",
            "learning_rate: 0.001\n",
            "model saved in ani_acrolein.pt\n"
          ]
        },
        {
          "output_type": "stream",
          "name": "stderr",
          "text": [
            "epoch 20: 100%|██████████| 282/282 [00:07<00:00, 35.44it/s]\n"
          ]
        },
        {
          "output_type": "stream",
          "name": "stdout",
          "text": [
            "validation loss: 0.003004811334941122 at epoch 21\n",
            "learning_rate: 0.001\n",
            "model saved in ani_acrolein.pt\n"
          ]
        },
        {
          "output_type": "stream",
          "name": "stderr",
          "text": [
            "epoch 21: 100%|██████████| 282/282 [00:08<00:00, 31.39it/s]\n"
          ]
        },
        {
          "output_type": "stream",
          "name": "stdout",
          "text": [
            "validation loss: 0.0027126740117867786 at epoch 22\n",
            "learning_rate: 0.001\n",
            "model saved in ani_acrolein.pt\n"
          ]
        },
        {
          "output_type": "stream",
          "name": "stderr",
          "text": [
            "epoch 22: 100%|██████████| 282/282 [00:08<00:00, 31.66it/s]\n"
          ]
        },
        {
          "output_type": "stream",
          "name": "stdout",
          "text": [
            "validation loss: 0.0030622255437903934 at epoch 23\n",
            "learning_rate: 0.001\n"
          ]
        },
        {
          "output_type": "stream",
          "name": "stderr",
          "text": [
            "epoch 23: 100%|██████████| 282/282 [00:08<00:00, 33.92it/s]\n"
          ]
        },
        {
          "output_type": "stream",
          "name": "stdout",
          "text": [
            "validation loss: 0.002132668336232503 at epoch 24\n",
            "learning_rate: 0.001\n",
            "model saved in ani_acrolein.pt\n"
          ]
        },
        {
          "output_type": "stream",
          "name": "stderr",
          "text": [
            "epoch 24: 100%|██████████| 282/282 [00:08<00:00, 32.48it/s]\n"
          ]
        },
        {
          "output_type": "stream",
          "name": "stdout",
          "text": [
            "validation loss: 0.002678702927298016 at epoch 25\n",
            "learning_rate: 0.001\n"
          ]
        },
        {
          "output_type": "stream",
          "name": "stderr",
          "text": [
            "epoch 25: 100%|██████████| 282/282 [00:08<00:00, 31.80it/s]\n"
          ]
        },
        {
          "output_type": "stream",
          "name": "stdout",
          "text": [
            "validation loss: 0.002476341759165128 at epoch 26\n",
            "learning_rate: 0.001\n"
          ]
        },
        {
          "output_type": "stream",
          "name": "stderr",
          "text": [
            "epoch 26: 100%|██████████| 282/282 [00:08<00:00, 31.68it/s]\n"
          ]
        },
        {
          "output_type": "stream",
          "name": "stdout",
          "text": [
            "validation loss: 0.0017195820361375809 at epoch 27\n",
            "learning_rate: 0.001\n",
            "model saved in ani_acrolein.pt\n"
          ]
        },
        {
          "output_type": "stream",
          "name": "stderr",
          "text": [
            "epoch 27: 100%|██████████| 282/282 [00:08<00:00, 33.35it/s]\n"
          ]
        },
        {
          "output_type": "stream",
          "name": "stdout",
          "text": [
            "validation loss: 0.001719140020509561 at epoch 28\n",
            "learning_rate: 0.001\n",
            "model saved in ani_acrolein.pt\n"
          ]
        },
        {
          "output_type": "stream",
          "name": "stderr",
          "text": [
            "epoch 28: 100%|██████████| 282/282 [00:08<00:00, 31.42it/s]\n"
          ]
        },
        {
          "output_type": "stream",
          "name": "stdout",
          "text": [
            "validation loss: 0.0016539308172133233 at epoch 29\n",
            "learning_rate: 0.001\n",
            "model saved in ani_acrolein.pt\n"
          ]
        },
        {
          "output_type": "stream",
          "name": "stderr",
          "text": [
            "epoch 29: 100%|██████████| 282/282 [00:09<00:00, 30.58it/s]\n"
          ]
        },
        {
          "output_type": "stream",
          "name": "stdout",
          "text": [
            "validation loss: 0.0016420282878809504 at epoch 30\n",
            "learning_rate: 0.001\n",
            "model saved in ani_acrolein.pt\n"
          ]
        },
        {
          "output_type": "stream",
          "name": "stderr",
          "text": [
            "epoch 30: 100%|██████████| 282/282 [00:09<00:00, 30.18it/s]\n"
          ]
        },
        {
          "output_type": "stream",
          "name": "stdout",
          "text": [
            "validation loss: 0.0019725988043679133 at epoch 31\n",
            "learning_rate: 0.001\n"
          ]
        },
        {
          "output_type": "stream",
          "name": "stderr",
          "text": [
            "epoch 31: 100%|██████████| 282/282 [00:08<00:00, 33.25it/s]\n"
          ]
        },
        {
          "output_type": "stream",
          "name": "stdout",
          "text": [
            "validation loss: 0.0018543970179226664 at epoch 32\n",
            "learning_rate: 0.001\n"
          ]
        },
        {
          "output_type": "stream",
          "name": "stderr",
          "text": [
            "epoch 32: 100%|██████████| 282/282 [00:09<00:00, 30.16it/s]\n"
          ]
        },
        {
          "output_type": "stream",
          "name": "stdout",
          "text": [
            "validation loss: 0.0016959281605150964 at epoch 33\n",
            "learning_rate: 0.001\n"
          ]
        },
        {
          "output_type": "stream",
          "name": "stderr",
          "text": [
            "epoch 33: 100%|██████████| 282/282 [00:09<00:00, 30.21it/s]\n"
          ]
        },
        {
          "output_type": "stream",
          "name": "stdout",
          "text": [
            "validation loss: 0.001781009367770619 at epoch 34\n",
            "learning_rate: 0.001\n"
          ]
        },
        {
          "output_type": "stream",
          "name": "stderr",
          "text": [
            "epoch 34: 100%|██████████| 282/282 [00:08<00:00, 31.45it/s]\n"
          ]
        },
        {
          "output_type": "stream",
          "name": "stdout",
          "text": [
            "validation loss: 0.0016414398989743656 at epoch 35\n",
            "learning_rate: 0.001\n",
            "model saved in ani_acrolein.pt\n"
          ]
        },
        {
          "output_type": "stream",
          "name": "stderr",
          "text": [
            "epoch 35: 100%|██████████| 282/282 [00:08<00:00, 33.41it/s]\n"
          ]
        },
        {
          "output_type": "stream",
          "name": "stdout",
          "text": [
            "validation loss: 0.002910563674237993 at epoch 36\n",
            "learning_rate: 0.001\n"
          ]
        },
        {
          "output_type": "stream",
          "name": "stderr",
          "text": [
            "epoch 36: 100%|██████████| 282/282 [00:09<00:00, 29.86it/s]\n"
          ]
        },
        {
          "output_type": "stream",
          "name": "stdout",
          "text": [
            "validation loss: 0.0019023736930555766 at epoch 37\n",
            "learning_rate: 0.001\n"
          ]
        },
        {
          "output_type": "stream",
          "name": "stderr",
          "text": [
            "epoch 37: 100%|██████████| 282/282 [00:09<00:00, 30.94it/s]\n"
          ]
        },
        {
          "output_type": "stream",
          "name": "stdout",
          "text": [
            "validation loss: 0.002566249176859856 at epoch 38\n",
            "learning_rate: 0.001\n"
          ]
        },
        {
          "output_type": "stream",
          "name": "stderr",
          "text": [
            "epoch 38: 100%|██████████| 282/282 [00:08<00:00, 33.61it/s]\n"
          ]
        },
        {
          "output_type": "stream",
          "name": "stdout",
          "text": [
            "validation loss: 0.0015525836886631117 at epoch 39\n",
            "learning_rate: 0.001\n",
            "model saved in ani_acrolein.pt\n"
          ]
        },
        {
          "output_type": "stream",
          "name": "stderr",
          "text": [
            "epoch 39: 100%|██████████| 282/282 [00:08<00:00, 34.21it/s]\n"
          ]
        },
        {
          "output_type": "stream",
          "name": "stdout",
          "text": [
            "validation loss: 0.0036905697882175445 at epoch 40\n",
            "learning_rate: 0.001\n"
          ]
        },
        {
          "output_type": "stream",
          "name": "stderr",
          "text": [
            "epoch 40: 100%|██████████| 282/282 [00:08<00:00, 32.10it/s]\n"
          ]
        },
        {
          "output_type": "stream",
          "name": "stdout",
          "text": [
            "validation loss: 0.001949242163863447 at epoch 41\n",
            "learning_rate: 0.001\n"
          ]
        },
        {
          "output_type": "stream",
          "name": "stderr",
          "text": [
            "epoch 41: 100%|██████████| 282/282 [00:08<00:00, 32.60it/s]\n"
          ]
        },
        {
          "output_type": "stream",
          "name": "stdout",
          "text": [
            "validation loss: 0.003804319050576952 at epoch 42\n",
            "learning_rate: 0.001\n"
          ]
        },
        {
          "output_type": "stream",
          "name": "stderr",
          "text": [
            "epoch 42: 100%|██████████| 282/282 [00:08<00:00, 34.55it/s]\n"
          ]
        },
        {
          "output_type": "stream",
          "name": "stdout",
          "text": [
            "validation loss: 0.004240836395157708 at epoch 43\n",
            "learning_rate: 0.001\n"
          ]
        },
        {
          "output_type": "stream",
          "name": "stderr",
          "text": [
            "epoch 43: 100%|██████████| 282/282 [00:08<00:00, 31.40it/s]\n"
          ]
        },
        {
          "output_type": "stream",
          "name": "stdout",
          "text": [
            "validation loss: 0.0035638226005766127 at epoch 44\n",
            "learning_rate: 0.001\n"
          ]
        },
        {
          "output_type": "stream",
          "name": "stderr",
          "text": [
            "epoch 44: 100%|██████████| 282/282 [00:08<00:00, 31.40it/s]\n"
          ]
        },
        {
          "output_type": "stream",
          "name": "stdout",
          "text": [
            "validation loss: 0.0014262571450736788 at epoch 45\n",
            "learning_rate: 0.001\n",
            "model saved in ani_acrolein.pt\n"
          ]
        },
        {
          "output_type": "stream",
          "name": "stderr",
          "text": [
            "epoch 45: 100%|██████████| 282/282 [00:08<00:00, 34.49it/s]\n"
          ]
        },
        {
          "output_type": "stream",
          "name": "stdout",
          "text": [
            "validation loss: 0.0024341976443926494 at epoch 46\n",
            "learning_rate: 0.001\n"
          ]
        },
        {
          "output_type": "stream",
          "name": "stderr",
          "text": [
            "epoch 46: 100%|██████████| 282/282 [00:08<00:00, 33.15it/s]\n"
          ]
        },
        {
          "output_type": "stream",
          "name": "stdout",
          "text": [
            "validation loss: 0.001476414517396026 at epoch 47\n",
            "learning_rate: 0.001\n"
          ]
        },
        {
          "output_type": "stream",
          "name": "stderr",
          "text": [
            "epoch 47: 100%|██████████| 282/282 [00:08<00:00, 32.71it/s]\n"
          ]
        },
        {
          "output_type": "stream",
          "name": "stdout",
          "text": [
            "validation loss: 0.0013723251579536332 at epoch 48\n",
            "learning_rate: 0.001\n",
            "model saved in ani_acrolein.pt\n"
          ]
        },
        {
          "output_type": "stream",
          "name": "stderr",
          "text": [
            "epoch 48: 100%|██████████| 282/282 [00:08<00:00, 31.73it/s]\n"
          ]
        },
        {
          "output_type": "stream",
          "name": "stdout",
          "text": [
            "validation loss: 0.0012782468903395864 at epoch 49\n",
            "learning_rate: 0.001\n",
            "model saved in ani_acrolein.pt\n"
          ]
        },
        {
          "output_type": "stream",
          "name": "stderr",
          "text": [
            "epoch 49: 100%|██████████| 282/282 [00:07<00:00, 35.58it/s]\n"
          ]
        },
        {
          "output_type": "stream",
          "name": "stdout",
          "text": [
            "validation loss: 0.0013482404574751855 at epoch 50\n",
            "learning_rate: 0.001\n"
          ]
        },
        {
          "output_type": "stream",
          "name": "stderr",
          "text": [
            "epoch 50: 100%|██████████| 282/282 [00:09<00:00, 30.52it/s]\n"
          ]
        },
        {
          "output_type": "stream",
          "name": "stdout",
          "text": [
            "validation loss: 0.008475069840749104 at epoch 51\n",
            "learning_rate: 0.001\n"
          ]
        },
        {
          "output_type": "stream",
          "name": "stderr",
          "text": [
            "epoch 51: 100%|██████████| 282/282 [00:08<00:00, 32.95it/s]\n"
          ]
        },
        {
          "output_type": "stream",
          "name": "stdout",
          "text": [
            "validation loss: 0.0013094526049163607 at epoch 52\n",
            "learning_rate: 0.001\n"
          ]
        },
        {
          "output_type": "stream",
          "name": "stderr",
          "text": [
            "epoch 52: 100%|██████████| 282/282 [00:08<00:00, 33.70it/s]\n"
          ]
        },
        {
          "output_type": "stream",
          "name": "stdout",
          "text": [
            "validation loss: 0.002456147770086924 at epoch 53\n",
            "learning_rate: 0.001\n"
          ]
        },
        {
          "output_type": "stream",
          "name": "stderr",
          "text": [
            "epoch 53: 100%|██████████| 282/282 [00:08<00:00, 34.45it/s]\n"
          ]
        },
        {
          "output_type": "stream",
          "name": "stdout",
          "text": [
            "validation loss: 0.0062359682586458 at epoch 54\n",
            "learning_rate: 0.001\n"
          ]
        },
        {
          "output_type": "stream",
          "name": "stderr",
          "text": [
            "epoch 54: 100%|██████████| 282/282 [00:08<00:00, 32.11it/s]\n"
          ]
        },
        {
          "output_type": "stream",
          "name": "stdout",
          "text": [
            "validation loss: 0.0069315774838129675 at epoch 55\n",
            "learning_rate: 0.001\n"
          ]
        },
        {
          "output_type": "stream",
          "name": "stderr",
          "text": [
            "epoch 55: 100%|██████████| 282/282 [00:08<00:00, 32.67it/s]\n"
          ]
        },
        {
          "output_type": "stream",
          "name": "stdout",
          "text": [
            "validation loss: 0.002494932841923502 at epoch 56\n",
            "learning_rate: 0.001\n"
          ]
        },
        {
          "output_type": "stream",
          "name": "stderr",
          "text": [
            "epoch 56: 100%|██████████| 282/282 [00:08<00:00, 35.24it/s]\n"
          ]
        },
        {
          "output_type": "stream",
          "name": "stdout",
          "text": [
            "validation loss: 0.0013583483886387613 at epoch 57\n",
            "learning_rate: 0.001\n"
          ]
        },
        {
          "output_type": "stream",
          "name": "stderr",
          "text": [
            "epoch 57: 100%|██████████| 282/282 [00:08<00:00, 32.78it/s]\n"
          ]
        },
        {
          "output_type": "stream",
          "name": "stdout",
          "text": [
            "validation loss: 0.002300246912572119 at epoch 58\n",
            "learning_rate: 0.001\n"
          ]
        },
        {
          "output_type": "stream",
          "name": "stderr",
          "text": [
            "epoch 58: 100%|██████████| 282/282 [00:08<00:00, 31.67it/s]\n"
          ]
        },
        {
          "output_type": "stream",
          "name": "stdout",
          "text": [
            "validation loss: 0.001622280065384176 at epoch 59\n",
            "learning_rate: 0.001\n"
          ]
        },
        {
          "output_type": "stream",
          "name": "stderr",
          "text": [
            "epoch 59: 100%|██████████| 282/282 [00:07<00:00, 35.74it/s]\n"
          ]
        },
        {
          "output_type": "stream",
          "name": "stdout",
          "text": [
            "validation loss: 0.0040048528412977855 at epoch 60\n",
            "learning_rate: 0.001\n"
          ]
        },
        {
          "output_type": "stream",
          "name": "stderr",
          "text": [
            "epoch 60: 100%|██████████| 282/282 [00:08<00:00, 32.83it/s]\n"
          ]
        },
        {
          "output_type": "stream",
          "name": "stdout",
          "text": [
            "validation loss: 0.0011287366731299294 at epoch 61\n",
            "learning_rate: 0.001\n",
            "model saved in ani_acrolein.pt\n"
          ]
        },
        {
          "output_type": "stream",
          "name": "stderr",
          "text": [
            "epoch 61: 100%|██████████| 282/282 [00:08<00:00, 32.98it/s]\n"
          ]
        },
        {
          "output_type": "stream",
          "name": "stdout",
          "text": [
            "validation loss: 0.0022385127113925085 at epoch 62\n",
            "learning_rate: 0.001\n"
          ]
        },
        {
          "output_type": "stream",
          "name": "stderr",
          "text": [
            "epoch 62: 100%|██████████| 282/282 [00:08<00:00, 32.56it/s]\n"
          ]
        },
        {
          "output_type": "stream",
          "name": "stdout",
          "text": [
            "validation loss: 0.0011524210431509549 at epoch 63\n",
            "learning_rate: 0.001\n"
          ]
        },
        {
          "output_type": "stream",
          "name": "stderr",
          "text": [
            "epoch 63: 100%|██████████| 282/282 [00:07<00:00, 35.62it/s]\n"
          ]
        },
        {
          "output_type": "stream",
          "name": "stdout",
          "text": [
            "validation loss: 0.0039566748473379345 at epoch 64\n",
            "learning_rate: 0.001\n"
          ]
        },
        {
          "output_type": "stream",
          "name": "stderr",
          "text": [
            "epoch 64: 100%|██████████| 282/282 [00:08<00:00, 32.06it/s]\n"
          ]
        },
        {
          "output_type": "stream",
          "name": "stdout",
          "text": [
            "validation loss: 0.002848958343267441 at epoch 65\n",
            "learning_rate: 0.001\n"
          ]
        },
        {
          "output_type": "stream",
          "name": "stderr",
          "text": [
            "epoch 65: 100%|██████████| 282/282 [00:08<00:00, 32.22it/s]\n"
          ]
        },
        {
          "output_type": "stream",
          "name": "stdout",
          "text": [
            "validation loss: 0.001163856632179684 at epoch 66\n",
            "learning_rate: 0.001\n"
          ]
        },
        {
          "output_type": "stream",
          "name": "stderr",
          "text": [
            "epoch 66: 100%|██████████| 282/282 [00:07<00:00, 35.44it/s]\n"
          ]
        },
        {
          "output_type": "stream",
          "name": "stdout",
          "text": [
            "validation loss: 0.0022919797317849265 at epoch 67\n",
            "learning_rate: 0.001\n"
          ]
        },
        {
          "output_type": "stream",
          "name": "stderr",
          "text": [
            "epoch 67: 100%|██████████| 282/282 [00:08<00:00, 33.61it/s]\n"
          ]
        },
        {
          "output_type": "stream",
          "name": "stdout",
          "text": [
            "validation loss: 0.0023618927316533195 at epoch 68\n",
            "learning_rate: 0.001\n"
          ]
        },
        {
          "output_type": "stream",
          "name": "stderr",
          "text": [
            "epoch 68: 100%|██████████| 282/282 [00:08<00:00, 31.92it/s]\n"
          ]
        },
        {
          "output_type": "stream",
          "name": "stdout",
          "text": [
            "validation loss: 0.0023055330399009916 at epoch 69\n",
            "learning_rate: 0.001\n"
          ]
        },
        {
          "output_type": "stream",
          "name": "stderr",
          "text": [
            "epoch 69: 100%|██████████| 282/282 [00:08<00:00, 32.08it/s]\n"
          ]
        },
        {
          "output_type": "stream",
          "name": "stdout",
          "text": [
            "validation loss: 0.005746246897512012 at epoch 70\n",
            "learning_rate: 0.001\n"
          ]
        },
        {
          "output_type": "stream",
          "name": "stderr",
          "text": [
            "epoch 70: 100%|██████████| 282/282 [00:08<00:00, 33.92it/s]\n"
          ]
        },
        {
          "output_type": "stream",
          "name": "stdout",
          "text": [
            "validation loss: 0.0037134686079290176 at epoch 71\n",
            "learning_rate: 0.001\n"
          ]
        },
        {
          "output_type": "stream",
          "name": "stderr",
          "text": [
            "epoch 71: 100%|██████████| 282/282 [00:08<00:00, 32.06it/s]\n"
          ]
        },
        {
          "output_type": "stream",
          "name": "stdout",
          "text": [
            "validation loss: 0.002589759877986378 at epoch 72\n",
            "learning_rate: 0.001\n"
          ]
        },
        {
          "output_type": "stream",
          "name": "stderr",
          "text": [
            "epoch 72: 100%|██████████| 282/282 [00:09<00:00, 30.46it/s]\n"
          ]
        },
        {
          "output_type": "stream",
          "name": "stdout",
          "text": [
            "validation loss: 0.0015185626240240204 at epoch 73\n",
            "learning_rate: 0.001\n"
          ]
        },
        {
          "output_type": "stream",
          "name": "stderr",
          "text": [
            "epoch 73: 100%|██████████| 282/282 [00:08<00:00, 33.85it/s]\n"
          ]
        },
        {
          "output_type": "stream",
          "name": "stdout",
          "text": [
            "validation loss: 0.0021576896276738907 at epoch 74\n",
            "learning_rate: 0.001\n"
          ]
        },
        {
          "output_type": "stream",
          "name": "stderr",
          "text": [
            "epoch 74: 100%|██████████| 282/282 [00:08<00:00, 32.30it/s]\n"
          ]
        },
        {
          "output_type": "stream",
          "name": "stdout",
          "text": [
            "validation loss: 0.001240357159740395 at epoch 75\n",
            "learning_rate: 0.001\n"
          ]
        },
        {
          "output_type": "stream",
          "name": "stderr",
          "text": [
            "epoch 75: 100%|██████████| 282/282 [00:08<00:00, 31.96it/s]\n"
          ]
        },
        {
          "output_type": "stream",
          "name": "stdout",
          "text": [
            "validation loss: 0.0015321686880456077 at epoch 76\n",
            "learning_rate: 0.001\n"
          ]
        },
        {
          "output_type": "stream",
          "name": "stderr",
          "text": [
            "epoch 76: 100%|██████████| 282/282 [00:09<00:00, 30.58it/s]\n"
          ]
        },
        {
          "output_type": "stream",
          "name": "stdout",
          "text": [
            "validation loss: 0.003603250828054216 at epoch 77\n",
            "learning_rate: 0.001\n"
          ]
        },
        {
          "output_type": "stream",
          "name": "stderr",
          "text": [
            "epoch 77: 100%|██████████| 282/282 [00:08<00:00, 34.44it/s]\n"
          ]
        },
        {
          "output_type": "stream",
          "name": "stdout",
          "text": [
            "validation loss: 0.0021159970031844246 at epoch 78\n",
            "learning_rate: 0.001\n"
          ]
        },
        {
          "output_type": "stream",
          "name": "stderr",
          "text": [
            "epoch 78: 100%|██████████| 282/282 [00:08<00:00, 31.84it/s]\n"
          ]
        },
        {
          "output_type": "stream",
          "name": "stdout",
          "text": [
            "validation loss: 0.003130428958270285 at epoch 79\n",
            "learning_rate: 0.001\n"
          ]
        },
        {
          "output_type": "stream",
          "name": "stderr",
          "text": [
            "epoch 79: 100%|██████████| 282/282 [00:09<00:00, 30.97it/s]\n"
          ]
        },
        {
          "output_type": "stream",
          "name": "stdout",
          "text": [
            "validation loss: 0.0010267396378848288 at epoch 80\n",
            "learning_rate: 0.001\n",
            "model saved in ani_acrolein.pt\n"
          ]
        },
        {
          "output_type": "stream",
          "name": "stderr",
          "text": [
            "epoch 80: 100%|██████████| 282/282 [00:09<00:00, 31.28it/s]\n"
          ]
        },
        {
          "output_type": "stream",
          "name": "stdout",
          "text": [
            "validation loss: 0.001393039827545484 at epoch 81\n",
            "learning_rate: 0.001\n"
          ]
        },
        {
          "output_type": "stream",
          "name": "stderr",
          "text": [
            "epoch 81: 100%|██████████| 282/282 [00:08<00:00, 34.40it/s]\n"
          ]
        },
        {
          "output_type": "stream",
          "name": "stdout",
          "text": [
            "validation loss: 0.001416154854827457 at epoch 82\n",
            "learning_rate: 0.001\n"
          ]
        },
        {
          "output_type": "stream",
          "name": "stderr",
          "text": [
            "epoch 82: 100%|██████████| 282/282 [00:09<00:00, 31.13it/s]\n"
          ]
        },
        {
          "output_type": "stream",
          "name": "stdout",
          "text": [
            "validation loss: 0.002670166465971205 at epoch 83\n",
            "learning_rate: 0.001\n"
          ]
        },
        {
          "output_type": "stream",
          "name": "stderr",
          "text": [
            "epoch 83: 100%|██████████| 282/282 [00:09<00:00, 31.03it/s]\n"
          ]
        },
        {
          "output_type": "stream",
          "name": "stdout",
          "text": [
            "validation loss: 0.004877799838781357 at epoch 84\n",
            "learning_rate: 0.001\n"
          ]
        },
        {
          "output_type": "stream",
          "name": "stderr",
          "text": [
            "epoch 84: 100%|██████████| 282/282 [00:08<00:00, 32.59it/s]\n"
          ]
        },
        {
          "output_type": "stream",
          "name": "stdout",
          "text": [
            "validation loss: 0.0018126555879910786 at epoch 85\n",
            "learning_rate: 0.001\n"
          ]
        },
        {
          "output_type": "stream",
          "name": "stderr",
          "text": [
            "epoch 85: 100%|██████████| 282/282 [00:08<00:00, 34.90it/s]\n"
          ]
        },
        {
          "output_type": "stream",
          "name": "stdout",
          "text": [
            "validation loss: 0.0017338610771629546 at epoch 86\n",
            "learning_rate: 0.001\n"
          ]
        },
        {
          "output_type": "stream",
          "name": "stderr",
          "text": [
            "epoch 86: 100%|██████████| 282/282 [00:08<00:00, 31.81it/s]\n"
          ]
        },
        {
          "output_type": "stream",
          "name": "stdout",
          "text": [
            "validation loss: 0.0012374007801214855 at epoch 87\n",
            "learning_rate: 0.001\n"
          ]
        },
        {
          "output_type": "stream",
          "name": "stderr",
          "text": [
            "epoch 87: 100%|██████████| 282/282 [00:09<00:00, 30.75it/s]\n"
          ]
        },
        {
          "output_type": "stream",
          "name": "stdout",
          "text": [
            "validation loss: 0.0013214391420284907 at epoch 88\n",
            "learning_rate: 0.001\n"
          ]
        },
        {
          "output_type": "stream",
          "name": "stderr",
          "text": [
            "epoch 88: 100%|██████████| 282/282 [00:08<00:00, 35.15it/s]\n"
          ]
        },
        {
          "output_type": "stream",
          "name": "stdout",
          "text": [
            "validation loss: 0.0033127497881650925 at epoch 89\n",
            "learning_rate: 0.001\n"
          ]
        },
        {
          "output_type": "stream",
          "name": "stderr",
          "text": [
            "epoch 89: 100%|██████████| 282/282 [00:09<00:00, 30.54it/s]\n"
          ]
        },
        {
          "output_type": "stream",
          "name": "stdout",
          "text": [
            "validation loss: 0.0021596408585707345 at epoch 90\n",
            "learning_rate: 0.001\n"
          ]
        },
        {
          "output_type": "stream",
          "name": "stderr",
          "text": [
            "epoch 90: 100%|██████████| 282/282 [00:09<00:00, 31.06it/s]\n"
          ]
        },
        {
          "output_type": "stream",
          "name": "stdout",
          "text": [
            "validation loss: 0.001011488971610864 at epoch 91\n",
            "learning_rate: 0.001\n",
            "model saved in ani_acrolein.pt\n"
          ]
        },
        {
          "output_type": "stream",
          "name": "stderr",
          "text": [
            "epoch 91: 100%|██████████| 282/282 [00:09<00:00, 30.50it/s]\n"
          ]
        },
        {
          "output_type": "stream",
          "name": "stdout",
          "text": [
            "validation loss: 0.00108244448983007 at epoch 92\n",
            "learning_rate: 0.001\n"
          ]
        },
        {
          "output_type": "stream",
          "name": "stderr",
          "text": [
            "epoch 92: 100%|██████████| 282/282 [00:08<00:00, 34.39it/s]\n"
          ]
        },
        {
          "output_type": "stream",
          "name": "stdout",
          "text": [
            "validation loss: 0.0013268437907099724 at epoch 93\n",
            "learning_rate: 0.001\n"
          ]
        },
        {
          "output_type": "stream",
          "name": "stderr",
          "text": [
            "epoch 93: 100%|██████████| 282/282 [00:09<00:00, 30.47it/s]\n"
          ]
        },
        {
          "output_type": "stream",
          "name": "stdout",
          "text": [
            "validation loss: 0.0013256869970096482 at epoch 94\n",
            "learning_rate: 0.001\n"
          ]
        },
        {
          "output_type": "stream",
          "name": "stderr",
          "text": [
            "epoch 94: 100%|██████████| 282/282 [00:08<00:00, 31.56it/s]\n"
          ]
        },
        {
          "output_type": "stream",
          "name": "stdout",
          "text": [
            "validation loss: 0.004001294338040882 at epoch 95\n",
            "learning_rate: 0.001\n"
          ]
        },
        {
          "output_type": "stream",
          "name": "stderr",
          "text": [
            "epoch 95: 100%|██████████| 282/282 [00:08<00:00, 34.10it/s]\n"
          ]
        },
        {
          "output_type": "stream",
          "name": "stdout",
          "text": [
            "validation loss: 0.0033742115000883737 at epoch 96\n",
            "learning_rate: 0.001\n"
          ]
        },
        {
          "output_type": "stream",
          "name": "stderr",
          "text": [
            "epoch 96: 100%|██████████| 282/282 [00:08<00:00, 33.71it/s]\n"
          ]
        },
        {
          "output_type": "stream",
          "name": "stdout",
          "text": [
            "validation loss: 0.007125562061866124 at epoch 97\n",
            "learning_rate: 0.001\n"
          ]
        },
        {
          "output_type": "stream",
          "name": "stderr",
          "text": [
            "epoch 97: 100%|██████████| 282/282 [00:08<00:00, 32.53it/s]\n"
          ]
        },
        {
          "output_type": "stream",
          "name": "stdout",
          "text": [
            "validation loss: 0.0010974603870676624 at epoch 98\n",
            "learning_rate: 0.001\n"
          ]
        },
        {
          "output_type": "stream",
          "name": "stderr",
          "text": [
            "epoch 98: 100%|██████████| 282/282 [00:08<00:00, 32.14it/s]\n"
          ]
        },
        {
          "output_type": "stream",
          "name": "stdout",
          "text": [
            "validation loss: 0.0015376950403054555 at epoch 99\n",
            "learning_rate: 0.001\n"
          ]
        },
        {
          "output_type": "stream",
          "name": "stderr",
          "text": [
            "epoch 99: 100%|██████████| 282/282 [00:07<00:00, 35.50it/s]\n"
          ]
        },
        {
          "output_type": "stream",
          "name": "stdout",
          "text": [
            "validation loss: 0.0022648737529913586 at epoch 100\n",
            "learning_rate: 0.001\n"
          ]
        },
        {
          "output_type": "stream",
          "name": "stderr",
          "text": [
            "epoch 100: 100%|██████████| 282/282 [00:08<00:00, 32.36it/s]\n"
          ]
        },
        {
          "output_type": "stream",
          "name": "stdout",
          "text": [
            "validation loss: 0.0019657736271619796 at epoch 101\n",
            "learning_rate: 0.001\n"
          ]
        },
        {
          "output_type": "stream",
          "name": "stderr",
          "text": [
            "epoch 101: 100%|██████████| 282/282 [00:08<00:00, 32.47it/s]\n"
          ]
        },
        {
          "output_type": "stream",
          "name": "stdout",
          "text": [
            "validation loss: 0.0011295960371692974 at epoch 102\n",
            "learning_rate: 0.001\n"
          ]
        },
        {
          "output_type": "stream",
          "name": "stderr",
          "text": [
            "epoch 102: 100%|██████████| 282/282 [00:08<00:00, 34.88it/s]\n"
          ]
        },
        {
          "output_type": "stream",
          "name": "stdout",
          "text": [
            "validation loss: 0.001833453979757097 at epoch 103\n",
            "learning_rate: 0.001\n"
          ]
        },
        {
          "output_type": "stream",
          "name": "stderr",
          "text": [
            "epoch 103: 100%|██████████| 282/282 [00:08<00:00, 33.93it/s]\n"
          ]
        },
        {
          "output_type": "stream",
          "name": "stdout",
          "text": [
            "validation loss: 0.0008616658623019854 at epoch 104\n",
            "learning_rate: 0.001\n",
            "model saved in ani_acrolein.pt\n"
          ]
        },
        {
          "output_type": "stream",
          "name": "stderr",
          "text": [
            "epoch 104: 100%|██████████| 282/282 [00:08<00:00, 32.46it/s]\n"
          ]
        },
        {
          "output_type": "stream",
          "name": "stdout",
          "text": [
            "validation loss: 0.0015476241269045405 at epoch 105\n",
            "learning_rate: 0.001\n"
          ]
        },
        {
          "output_type": "stream",
          "name": "stderr",
          "text": [
            "epoch 105: 100%|██████████| 282/282 [00:08<00:00, 33.47it/s]\n"
          ]
        },
        {
          "output_type": "stream",
          "name": "stdout",
          "text": [
            "validation loss: 0.0020072223709689248 at epoch 106\n",
            "learning_rate: 0.001\n"
          ]
        },
        {
          "output_type": "stream",
          "name": "stderr",
          "text": [
            "epoch 106: 100%|██████████| 282/282 [00:07<00:00, 36.13it/s]\n"
          ]
        },
        {
          "output_type": "stream",
          "name": "stdout",
          "text": [
            "validation loss: 0.002368139068285624 at epoch 107\n",
            "learning_rate: 0.001\n"
          ]
        },
        {
          "output_type": "stream",
          "name": "stderr",
          "text": [
            "epoch 107: 100%|██████████| 282/282 [00:08<00:00, 32.75it/s]\n"
          ]
        },
        {
          "output_type": "stream",
          "name": "stdout",
          "text": [
            "validation loss: 0.0011353747753633393 at epoch 108\n",
            "learning_rate: 0.001\n"
          ]
        },
        {
          "output_type": "stream",
          "name": "stderr",
          "text": [
            "epoch 108: 100%|██████████| 282/282 [00:08<00:00, 32.88it/s]\n"
          ]
        },
        {
          "output_type": "stream",
          "name": "stdout",
          "text": [
            "validation loss: 0.001214007808930344 at epoch 109\n",
            "learning_rate: 0.001\n"
          ]
        },
        {
          "output_type": "stream",
          "name": "stderr",
          "text": [
            "epoch 109: 100%|██████████| 282/282 [00:07<00:00, 35.70it/s]\n"
          ]
        },
        {
          "output_type": "stream",
          "name": "stdout",
          "text": [
            "validation loss: 0.001863731746872266 at epoch 110\n",
            "learning_rate: 0.001\n"
          ]
        },
        {
          "output_type": "stream",
          "name": "stderr",
          "text": [
            "epoch 110: 100%|██████████| 282/282 [00:08<00:00, 32.58it/s]\n"
          ]
        },
        {
          "output_type": "stream",
          "name": "stdout",
          "text": [
            "validation loss: 0.000983231065587865 at epoch 111\n",
            "learning_rate: 0.001\n"
          ]
        },
        {
          "output_type": "stream",
          "name": "stderr",
          "text": [
            "epoch 111: 100%|██████████| 282/282 [00:08<00:00, 31.58it/s]\n"
          ]
        },
        {
          "output_type": "stream",
          "name": "stdout",
          "text": [
            "validation loss: 0.0014208787919746506 at epoch 112\n",
            "learning_rate: 0.001\n"
          ]
        },
        {
          "output_type": "stream",
          "name": "stderr",
          "text": [
            "epoch 112: 100%|██████████| 282/282 [00:08<00:00, 32.38it/s]\n"
          ]
        },
        {
          "output_type": "stream",
          "name": "stdout",
          "text": [
            "validation loss: 0.0018188059586617682 at epoch 113\n",
            "learning_rate: 0.001\n"
          ]
        },
        {
          "output_type": "stream",
          "name": "stderr",
          "text": [
            "epoch 113: 100%|██████████| 282/282 [00:07<00:00, 35.32it/s]\n"
          ]
        },
        {
          "output_type": "stream",
          "name": "stdout",
          "text": [
            "validation loss: 0.0011190369112624061 at epoch 114\n",
            "learning_rate: 0.001\n"
          ]
        },
        {
          "output_type": "stream",
          "name": "stderr",
          "text": [
            "epoch 114: 100%|██████████| 282/282 [00:08<00:00, 31.85it/s]\n"
          ]
        },
        {
          "output_type": "stream",
          "name": "stdout",
          "text": [
            "validation loss: 0.001073137357003159 at epoch 115\n",
            "learning_rate: 0.001\n"
          ]
        },
        {
          "output_type": "stream",
          "name": "stderr",
          "text": [
            "epoch 115: 100%|██████████| 282/282 [00:08<00:00, 31.82it/s]\n"
          ]
        },
        {
          "output_type": "stream",
          "name": "stdout",
          "text": [
            "validation loss: 0.000850231409072876 at epoch 116\n",
            "learning_rate: 0.001\n",
            "model saved in ani_acrolein.pt\n"
          ]
        },
        {
          "output_type": "stream",
          "name": "stderr",
          "text": [
            "epoch 116: 100%|██████████| 282/282 [00:08<00:00, 33.49it/s]\n"
          ]
        },
        {
          "output_type": "stream",
          "name": "stdout",
          "text": [
            "validation loss: 0.0015250712376501825 at epoch 117\n",
            "learning_rate: 0.001\n"
          ]
        },
        {
          "output_type": "stream",
          "name": "stderr",
          "text": [
            "epoch 117: 100%|██████████| 282/282 [00:08<00:00, 33.07it/s]\n"
          ]
        },
        {
          "output_type": "stream",
          "name": "stdout",
          "text": [
            "validation loss: 0.009008040991094377 at epoch 118\n",
            "learning_rate: 0.001\n"
          ]
        },
        {
          "output_type": "stream",
          "name": "stderr",
          "text": [
            "epoch 118: 100%|██████████| 282/282 [00:08<00:00, 32.46it/s]\n"
          ]
        },
        {
          "output_type": "stream",
          "name": "stdout",
          "text": [
            "validation loss: 0.001394277523789141 at epoch 119\n",
            "learning_rate: 0.001\n"
          ]
        },
        {
          "output_type": "stream",
          "name": "stderr",
          "text": [
            "epoch 119: 100%|██████████| 282/282 [00:08<00:00, 32.48it/s]\n"
          ]
        },
        {
          "output_type": "stream",
          "name": "stdout",
          "text": [
            "validation loss: 0.0071644894480705264 at epoch 120\n",
            "learning_rate: 0.001\n"
          ]
        },
        {
          "output_type": "stream",
          "name": "stderr",
          "text": [
            "epoch 120: 100%|██████████| 282/282 [00:08<00:00, 34.75it/s]\n"
          ]
        },
        {
          "output_type": "stream",
          "name": "stdout",
          "text": [
            "validation loss: 0.0014260402553611332 at epoch 121\n",
            "learning_rate: 0.001\n"
          ]
        },
        {
          "output_type": "stream",
          "name": "stderr",
          "text": [
            "epoch 121: 100%|██████████| 282/282 [00:08<00:00, 32.02it/s]\n"
          ]
        },
        {
          "output_type": "stream",
          "name": "stdout",
          "text": [
            "validation loss: 0.0030429358763827217 at epoch 122\n",
            "learning_rate: 0.001\n"
          ]
        },
        {
          "output_type": "stream",
          "name": "stderr",
          "text": [
            "epoch 122: 100%|██████████| 282/282 [00:09<00:00, 30.98it/s]\n"
          ]
        },
        {
          "output_type": "stream",
          "name": "stdout",
          "text": [
            "validation loss: 0.0018371061558524768 at epoch 123\n",
            "learning_rate: 0.001\n"
          ]
        },
        {
          "output_type": "stream",
          "name": "stderr",
          "text": [
            "epoch 123: 100%|██████████| 282/282 [00:08<00:00, 33.34it/s]\n"
          ]
        },
        {
          "output_type": "stream",
          "name": "stdout",
          "text": [
            "validation loss: 0.0016996880587604312 at epoch 124\n",
            "learning_rate: 0.001\n"
          ]
        },
        {
          "output_type": "stream",
          "name": "stderr",
          "text": [
            "epoch 124: 100%|██████████| 282/282 [00:08<00:00, 33.66it/s]\n"
          ]
        },
        {
          "output_type": "stream",
          "name": "stdout",
          "text": [
            "validation loss: 0.0009590920578274462 at epoch 125\n",
            "learning_rate: 0.001\n"
          ]
        },
        {
          "output_type": "stream",
          "name": "stderr",
          "text": [
            "epoch 125: 100%|██████████| 282/282 [00:08<00:00, 32.10it/s]\n"
          ]
        },
        {
          "output_type": "stream",
          "name": "stdout",
          "text": [
            "validation loss: 0.0014430928925673167 at epoch 126\n",
            "learning_rate: 0.001\n"
          ]
        },
        {
          "output_type": "stream",
          "name": "stderr",
          "text": [
            "epoch 126: 100%|██████████| 282/282 [00:09<00:00, 30.77it/s]\n"
          ]
        },
        {
          "output_type": "stream",
          "name": "stdout",
          "text": [
            "validation loss: 0.0008602617991467317 at epoch 127\n",
            "learning_rate: 0.001\n"
          ]
        },
        {
          "output_type": "stream",
          "name": "stderr",
          "text": [
            "epoch 127: 100%|██████████| 282/282 [00:07<00:00, 36.16it/s]\n"
          ]
        },
        {
          "output_type": "stream",
          "name": "stdout",
          "text": [
            "validation loss: 0.0011370272305276658 at epoch 128\n",
            "learning_rate: 0.001\n"
          ]
        },
        {
          "output_type": "stream",
          "name": "stderr",
          "text": [
            "epoch 128: 100%|██████████| 282/282 [00:08<00:00, 32.22it/s]\n"
          ]
        },
        {
          "output_type": "stream",
          "name": "stdout",
          "text": [
            "validation loss: 0.004637916677527957 at epoch 129\n",
            "learning_rate: 0.001\n"
          ]
        },
        {
          "output_type": "stream",
          "name": "stderr",
          "text": [
            "epoch 129: 100%|██████████| 282/282 [00:08<00:00, 31.93it/s]\n"
          ]
        },
        {
          "output_type": "stream",
          "name": "stdout",
          "text": [
            "validation loss: 0.0015538478742043178 at epoch 130\n",
            "learning_rate: 0.001\n"
          ]
        },
        {
          "output_type": "stream",
          "name": "stderr",
          "text": [
            "epoch 130: 100%|██████████| 282/282 [00:08<00:00, 31.53it/s]\n"
          ]
        },
        {
          "output_type": "stream",
          "name": "stdout",
          "text": [
            "validation loss: 0.001369656244913737 at epoch 131\n",
            "learning_rate: 0.001\n"
          ]
        },
        {
          "output_type": "stream",
          "name": "stderr",
          "text": [
            "epoch 131: 100%|██████████| 282/282 [00:08<00:00, 34.86it/s]\n"
          ]
        },
        {
          "output_type": "stream",
          "name": "stdout",
          "text": [
            "validation loss: 0.0010636829568280114 at epoch 132\n",
            "learning_rate: 0.001\n"
          ]
        },
        {
          "output_type": "stream",
          "name": "stderr",
          "text": [
            "epoch 132: 100%|██████████| 282/282 [00:09<00:00, 30.39it/s]\n"
          ]
        },
        {
          "output_type": "stream",
          "name": "stdout",
          "text": [
            "validation loss: 0.0008893466264837318 at epoch 133\n",
            "learning_rate: 0.001\n"
          ]
        },
        {
          "output_type": "stream",
          "name": "stderr",
          "text": [
            "epoch 133: 100%|██████████| 282/282 [00:08<00:00, 31.48it/s]\n"
          ]
        },
        {
          "output_type": "stream",
          "name": "stdout",
          "text": [
            "validation loss: 0.003951312806871202 at epoch 134\n",
            "learning_rate: 0.001\n"
          ]
        },
        {
          "output_type": "stream",
          "name": "stderr",
          "text": [
            "epoch 134: 100%|██████████| 282/282 [00:08<00:00, 33.22it/s]\n"
          ]
        },
        {
          "output_type": "stream",
          "name": "stdout",
          "text": [
            "validation loss: 0.00820517247915268 at epoch 135\n",
            "learning_rate: 0.001\n"
          ]
        },
        {
          "output_type": "stream",
          "name": "stderr",
          "text": [
            "epoch 135: 100%|██████████| 282/282 [00:08<00:00, 32.58it/s]\n"
          ]
        },
        {
          "output_type": "stream",
          "name": "stdout",
          "text": [
            "validation loss: 0.0075088250835736595 at epoch 136\n",
            "learning_rate: 0.001\n"
          ]
        },
        {
          "output_type": "stream",
          "name": "stderr",
          "text": [
            "epoch 136: 100%|██████████| 282/282 [00:08<00:00, 31.58it/s]\n"
          ]
        },
        {
          "output_type": "stream",
          "name": "stdout",
          "text": [
            "validation loss: 0.0008001073234611087 at epoch 137\n",
            "learning_rate: 0.001\n",
            "model saved in ani_acrolein.pt\n"
          ]
        },
        {
          "output_type": "stream",
          "name": "stderr",
          "text": [
            "epoch 137: 100%|██████████| 282/282 [00:08<00:00, 32.80it/s]\n"
          ]
        },
        {
          "output_type": "stream",
          "name": "stdout",
          "text": [
            "validation loss: 0.0009674377532468901 at epoch 138\n",
            "learning_rate: 0.001\n"
          ]
        },
        {
          "output_type": "stream",
          "name": "stderr",
          "text": [
            "epoch 138: 100%|██████████| 282/282 [00:07<00:00, 35.41it/s]\n"
          ]
        },
        {
          "output_type": "stream",
          "name": "stdout",
          "text": [
            "validation loss: 0.0011352178967661327 at epoch 139\n",
            "learning_rate: 0.001\n"
          ]
        },
        {
          "output_type": "stream",
          "name": "stderr",
          "text": [
            "epoch 139: 100%|██████████| 282/282 [00:08<00:00, 31.62it/s]\n"
          ]
        },
        {
          "output_type": "stream",
          "name": "stdout",
          "text": [
            "validation loss: 0.001285567584964964 at epoch 140\n",
            "learning_rate: 0.001\n"
          ]
        },
        {
          "output_type": "stream",
          "name": "stderr",
          "text": [
            "epoch 140: 100%|██████████| 282/282 [00:08<00:00, 32.20it/s]\n"
          ]
        },
        {
          "output_type": "stream",
          "name": "stdout",
          "text": [
            "validation loss: 0.0013553716366489729 at epoch 141\n",
            "learning_rate: 0.001\n"
          ]
        },
        {
          "output_type": "stream",
          "name": "stderr",
          "text": [
            "epoch 141: 100%|██████████| 282/282 [00:08<00:00, 34.94it/s]\n"
          ]
        },
        {
          "output_type": "stream",
          "name": "stdout",
          "text": [
            "validation loss: 0.0016576440201865302 at epoch 142\n",
            "learning_rate: 0.001\n"
          ]
        },
        {
          "output_type": "stream",
          "name": "stderr",
          "text": [
            "epoch 142: 100%|██████████| 282/282 [00:08<00:00, 33.87it/s]\n"
          ]
        },
        {
          "output_type": "stream",
          "name": "stdout",
          "text": [
            "validation loss: 0.0011519660014245245 at epoch 143\n",
            "learning_rate: 0.001\n"
          ]
        },
        {
          "output_type": "stream",
          "name": "stderr",
          "text": [
            "epoch 143: 100%|██████████| 282/282 [00:08<00:00, 32.80it/s]\n"
          ]
        },
        {
          "output_type": "stream",
          "name": "stdout",
          "text": [
            "validation loss: 0.0010823869365784856 at epoch 144\n",
            "learning_rate: 0.001\n"
          ]
        },
        {
          "output_type": "stream",
          "name": "stderr",
          "text": [
            "epoch 144: 100%|██████████| 282/282 [00:08<00:00, 32.66it/s]\n"
          ]
        },
        {
          "output_type": "stream",
          "name": "stdout",
          "text": [
            "validation loss: 0.006232068336672253 at epoch 145\n",
            "learning_rate: 0.001\n"
          ]
        },
        {
          "output_type": "stream",
          "name": "stderr",
          "text": [
            "epoch 145: 100%|██████████| 282/282 [00:07<00:00, 35.60it/s]\n"
          ]
        },
        {
          "output_type": "stream",
          "name": "stdout",
          "text": [
            "validation loss: 0.0011573107656505373 at epoch 146\n",
            "learning_rate: 0.001\n"
          ]
        },
        {
          "output_type": "stream",
          "name": "stderr",
          "text": [
            "epoch 146: 100%|██████████| 282/282 [00:08<00:00, 32.15it/s]\n"
          ]
        },
        {
          "output_type": "stream",
          "name": "stdout",
          "text": [
            "validation loss: 0.0007765794806182385 at epoch 147\n",
            "learning_rate: 0.001\n",
            "model saved in ani_acrolein.pt\n"
          ]
        },
        {
          "output_type": "stream",
          "name": "stderr",
          "text": [
            "epoch 147: 100%|██████████| 282/282 [00:08<00:00, 31.68it/s]\n"
          ]
        },
        {
          "output_type": "stream",
          "name": "stdout",
          "text": [
            "validation loss: 0.0022091403272416856 at epoch 148\n",
            "learning_rate: 0.001\n"
          ]
        },
        {
          "output_type": "stream",
          "name": "stderr",
          "text": [
            "epoch 148: 100%|██████████| 282/282 [00:07<00:00, 35.77it/s]\n"
          ]
        },
        {
          "output_type": "stream",
          "name": "stdout",
          "text": [
            "validation loss: 0.0037785288393497466 at epoch 149\n",
            "learning_rate: 0.001\n"
          ]
        },
        {
          "output_type": "stream",
          "name": "stderr",
          "text": [
            "epoch 149: 100%|██████████| 282/282 [00:08<00:00, 32.26it/s]\n"
          ]
        },
        {
          "output_type": "stream",
          "name": "stdout",
          "text": [
            "validation loss: 0.0018620959776971075 at epoch 150\n",
            "learning_rate: 0.001\n"
          ]
        },
        {
          "output_type": "stream",
          "name": "stderr",
          "text": [
            "epoch 150: 100%|██████████| 282/282 [00:08<00:00, 31.89it/s]\n"
          ]
        },
        {
          "output_type": "stream",
          "name": "stdout",
          "text": [
            "validation loss: 0.0045720387332969245 at epoch 151\n",
            "learning_rate: 0.001\n"
          ]
        },
        {
          "output_type": "stream",
          "name": "stderr",
          "text": [
            "epoch 151: 100%|██████████| 282/282 [00:08<00:00, 33.56it/s]\n"
          ]
        },
        {
          "output_type": "stream",
          "name": "stdout",
          "text": [
            "validation loss: 0.0019068582016560766 at epoch 152\n",
            "learning_rate: 0.001\n"
          ]
        },
        {
          "output_type": "stream",
          "name": "stderr",
          "text": [
            "epoch 152: 100%|██████████| 282/282 [00:08<00:00, 34.85it/s]\n"
          ]
        },
        {
          "output_type": "stream",
          "name": "stdout",
          "text": [
            "validation loss: 0.0009586949166324404 at epoch 153\n",
            "learning_rate: 0.001\n"
          ]
        },
        {
          "output_type": "stream",
          "name": "stderr",
          "text": [
            "epoch 153: 100%|██████████| 282/282 [00:08<00:00, 32.30it/s]\n"
          ]
        },
        {
          "output_type": "stream",
          "name": "stdout",
          "text": [
            "validation loss: 0.001122231349349022 at epoch 154\n",
            "learning_rate: 0.001\n"
          ]
        },
        {
          "output_type": "stream",
          "name": "stderr",
          "text": [
            "epoch 154: 100%|██████████| 282/282 [00:08<00:00, 32.11it/s]\n"
          ]
        },
        {
          "output_type": "stream",
          "name": "stdout",
          "text": [
            "validation loss: 0.0010312218397027916 at epoch 155\n",
            "learning_rate: 0.001\n"
          ]
        },
        {
          "output_type": "stream",
          "name": "stderr",
          "text": [
            "epoch 155: 100%|██████████| 282/282 [00:07<00:00, 35.42it/s]\n"
          ]
        },
        {
          "output_type": "stream",
          "name": "stdout",
          "text": [
            "validation loss: 0.0007467956936193837 at epoch 156\n",
            "learning_rate: 0.001\n",
            "model saved in ani_acrolein.pt\n"
          ]
        },
        {
          "output_type": "stream",
          "name": "stderr",
          "text": [
            "epoch 156: 100%|██████████| 282/282 [00:08<00:00, 32.61it/s]\n"
          ]
        },
        {
          "output_type": "stream",
          "name": "stdout",
          "text": [
            "validation loss: 0.0011791929842697249 at epoch 157\n",
            "learning_rate: 0.001\n"
          ]
        },
        {
          "output_type": "stream",
          "name": "stderr",
          "text": [
            "epoch 157: 100%|██████████| 282/282 [00:08<00:00, 32.36it/s]\n"
          ]
        },
        {
          "output_type": "stream",
          "name": "stdout",
          "text": [
            "validation loss: 0.0011045938258369763 at epoch 158\n",
            "learning_rate: 0.001\n"
          ]
        },
        {
          "output_type": "stream",
          "name": "stderr",
          "text": [
            "epoch 158: 100%|██████████| 282/282 [00:08<00:00, 34.19it/s]\n"
          ]
        },
        {
          "output_type": "stream",
          "name": "stdout",
          "text": [
            "validation loss: 0.0016610380303528575 at epoch 159\n",
            "learning_rate: 0.001\n"
          ]
        },
        {
          "output_type": "stream",
          "name": "stderr",
          "text": [
            "epoch 159: 100%|██████████| 282/282 [00:08<00:00, 34.75it/s]\n"
          ]
        },
        {
          "output_type": "stream",
          "name": "stdout",
          "text": [
            "validation loss: 0.002768975959883796 at epoch 160\n",
            "learning_rate: 0.001\n"
          ]
        },
        {
          "output_type": "stream",
          "name": "stderr",
          "text": [
            "epoch 160: 100%|██████████| 282/282 [00:08<00:00, 32.53it/s]\n"
          ]
        },
        {
          "output_type": "stream",
          "name": "stdout",
          "text": [
            "validation loss: 0.0008396797817614343 at epoch 161\n",
            "learning_rate: 0.001\n"
          ]
        },
        {
          "output_type": "stream",
          "name": "stderr",
          "text": [
            "epoch 161: 100%|██████████| 282/282 [00:08<00:00, 32.51it/s]\n"
          ]
        },
        {
          "output_type": "stream",
          "name": "stdout",
          "text": [
            "validation loss: 0.002954143825504515 at epoch 162\n",
            "learning_rate: 0.001\n"
          ]
        },
        {
          "output_type": "stream",
          "name": "stderr",
          "text": [
            "epoch 162: 100%|██████████| 282/282 [00:07<00:00, 35.56it/s]\n"
          ]
        },
        {
          "output_type": "stream",
          "name": "stdout",
          "text": [
            "validation loss: 0.0018466753115256628 at epoch 163\n",
            "learning_rate: 0.001\n"
          ]
        },
        {
          "output_type": "stream",
          "name": "stderr",
          "text": [
            "epoch 163: 100%|██████████| 282/282 [00:08<00:00, 31.99it/s]\n"
          ]
        },
        {
          "output_type": "stream",
          "name": "stdout",
          "text": [
            "validation loss: 0.000866189572132296 at epoch 164\n",
            "learning_rate: 0.001\n"
          ]
        },
        {
          "output_type": "stream",
          "name": "stderr",
          "text": [
            "epoch 164: 100%|██████████| 282/282 [00:08<00:00, 32.30it/s]\n"
          ]
        },
        {
          "output_type": "stream",
          "name": "stdout",
          "text": [
            "validation loss: 0.0008516679538620843 at epoch 165\n",
            "learning_rate: 0.001\n"
          ]
        },
        {
          "output_type": "stream",
          "name": "stderr",
          "text": [
            "epoch 165: 100%|██████████| 282/282 [00:08<00:00, 33.28it/s]\n"
          ]
        },
        {
          "output_type": "stream",
          "name": "stdout",
          "text": [
            "validation loss: 0.0011340882662269805 at epoch 166\n",
            "learning_rate: 0.001\n"
          ]
        },
        {
          "output_type": "stream",
          "name": "stderr",
          "text": [
            "epoch 166: 100%|██████████| 282/282 [00:07<00:00, 35.45it/s]\n"
          ]
        },
        {
          "output_type": "stream",
          "name": "stdout",
          "text": [
            "validation loss: 0.0008337743700378471 at epoch 167\n",
            "learning_rate: 0.001\n"
          ]
        },
        {
          "output_type": "stream",
          "name": "stderr",
          "text": [
            "epoch 167: 100%|██████████| 282/282 [00:08<00:00, 31.85it/s]\n"
          ]
        },
        {
          "output_type": "stream",
          "name": "stdout",
          "text": [
            "validation loss: 0.000817078202135033 at epoch 168\n",
            "learning_rate: 0.001\n"
          ]
        },
        {
          "output_type": "stream",
          "name": "stderr",
          "text": [
            "epoch 168: 100%|██████████| 282/282 [00:08<00:00, 32.58it/s]\n"
          ]
        },
        {
          "output_type": "stream",
          "name": "stdout",
          "text": [
            "validation loss: 0.001258955564763811 at epoch 169\n",
            "learning_rate: 0.001\n"
          ]
        },
        {
          "output_type": "stream",
          "name": "stderr",
          "text": [
            "epoch 169: 100%|██████████| 282/282 [00:07<00:00, 35.57it/s]\n"
          ]
        },
        {
          "output_type": "stream",
          "name": "stdout",
          "text": [
            "validation loss: 0.000714861707141002 at epoch 170\n",
            "learning_rate: 0.001\n",
            "model saved in ani_acrolein.pt\n"
          ]
        },
        {
          "output_type": "stream",
          "name": "stderr",
          "text": [
            "epoch 170: 100%|██████████| 282/282 [00:08<00:00, 32.28it/s]\n"
          ]
        },
        {
          "output_type": "stream",
          "name": "stdout",
          "text": [
            "validation loss: 0.001075158953666687 at epoch 171\n",
            "learning_rate: 0.001\n"
          ]
        },
        {
          "output_type": "stream",
          "name": "stderr",
          "text": [
            "epoch 171: 100%|██████████| 282/282 [00:08<00:00, 32.59it/s]\n"
          ]
        },
        {
          "output_type": "stream",
          "name": "stdout",
          "text": [
            "validation loss: 0.0009748546626004908 at epoch 172\n",
            "learning_rate: 0.001\n"
          ]
        },
        {
          "output_type": "stream",
          "name": "stderr",
          "text": [
            "epoch 172: 100%|██████████| 282/282 [00:08<00:00, 35.16it/s]\n"
          ]
        },
        {
          "output_type": "stream",
          "name": "stdout",
          "text": [
            "validation loss: 0.001968383169836468 at epoch 173\n",
            "learning_rate: 0.001\n"
          ]
        },
        {
          "output_type": "stream",
          "name": "stderr",
          "text": [
            "epoch 173: 100%|██████████| 282/282 [00:08<00:00, 34.03it/s]\n"
          ]
        },
        {
          "output_type": "stream",
          "name": "stdout",
          "text": [
            "validation loss: 0.0011455708584851689 at epoch 174\n",
            "learning_rate: 0.001\n"
          ]
        },
        {
          "output_type": "stream",
          "name": "stderr",
          "text": [
            "epoch 174: 100%|██████████| 282/282 [00:08<00:00, 32.63it/s]\n"
          ]
        },
        {
          "output_type": "stream",
          "name": "stdout",
          "text": [
            "validation loss: 0.0008442315806945165 at epoch 175\n",
            "learning_rate: 0.001\n"
          ]
        },
        {
          "output_type": "stream",
          "name": "stderr",
          "text": [
            "epoch 175: 100%|██████████| 282/282 [00:08<00:00, 31.82it/s]\n"
          ]
        },
        {
          "output_type": "stream",
          "name": "stdout",
          "text": [
            "validation loss: 0.0008899112505217393 at epoch 176\n",
            "learning_rate: 0.001\n"
          ]
        },
        {
          "output_type": "stream",
          "name": "stderr",
          "text": [
            "epoch 176: 100%|██████████| 282/282 [00:07<00:00, 36.02it/s]\n"
          ]
        },
        {
          "output_type": "stream",
          "name": "stdout",
          "text": [
            "validation loss: 0.0007040089989701906 at epoch 177\n",
            "learning_rate: 0.001\n",
            "model saved in ani_acrolein.pt\n"
          ]
        },
        {
          "output_type": "stream",
          "name": "stderr",
          "text": [
            "epoch 177: 100%|██████████| 282/282 [00:08<00:00, 31.38it/s]\n"
          ]
        },
        {
          "output_type": "stream",
          "name": "stdout",
          "text": [
            "validation loss: 0.0017498817187216547 at epoch 178\n",
            "learning_rate: 0.001\n"
          ]
        },
        {
          "output_type": "stream",
          "name": "stderr",
          "text": [
            "epoch 178: 100%|██████████| 282/282 [00:08<00:00, 32.15it/s]\n"
          ]
        },
        {
          "output_type": "stream",
          "name": "stdout",
          "text": [
            "validation loss: 0.001446455605328083 at epoch 179\n",
            "learning_rate: 0.001\n"
          ]
        },
        {
          "output_type": "stream",
          "name": "stderr",
          "text": [
            "epoch 179: 100%|██████████| 282/282 [00:08<00:00, 34.63it/s]\n"
          ]
        },
        {
          "output_type": "stream",
          "name": "stdout",
          "text": [
            "validation loss: 0.0011253973187671767 at epoch 180\n",
            "learning_rate: 0.001\n"
          ]
        },
        {
          "output_type": "stream",
          "name": "stderr",
          "text": [
            "epoch 180: 100%|██████████| 282/282 [00:08<00:00, 32.90it/s]\n"
          ]
        },
        {
          "output_type": "stream",
          "name": "stdout",
          "text": [
            "validation loss: 0.001786404771109422 at epoch 181\n",
            "learning_rate: 0.001\n"
          ]
        },
        {
          "output_type": "stream",
          "name": "stderr",
          "text": [
            "epoch 181: 100%|██████████| 282/282 [00:08<00:00, 31.86it/s]\n"
          ]
        },
        {
          "output_type": "stream",
          "name": "stdout",
          "text": [
            "validation loss: 0.0010013371308644613 at epoch 182\n",
            "learning_rate: 0.001\n"
          ]
        },
        {
          "output_type": "stream",
          "name": "stderr",
          "text": [
            "epoch 182: 100%|██████████| 282/282 [00:08<00:00, 33.67it/s]\n"
          ]
        },
        {
          "output_type": "stream",
          "name": "stdout",
          "text": [
            "validation loss: 0.0010249174278643396 at epoch 183\n",
            "learning_rate: 0.001\n"
          ]
        },
        {
          "output_type": "stream",
          "name": "stderr",
          "text": [
            "epoch 183: 100%|██████████| 282/282 [00:08<00:00, 34.45it/s]\n"
          ]
        },
        {
          "output_type": "stream",
          "name": "stdout",
          "text": [
            "validation loss: 0.0013304341518216663 at epoch 184\n",
            "learning_rate: 0.001\n"
          ]
        },
        {
          "output_type": "stream",
          "name": "stderr",
          "text": [
            "epoch 184: 100%|██████████| 282/282 [00:08<00:00, 32.28it/s]\n"
          ]
        },
        {
          "output_type": "stream",
          "name": "stdout",
          "text": [
            "validation loss: 0.0014224047255184916 at epoch 185\n",
            "learning_rate: 0.001\n"
          ]
        },
        {
          "output_type": "stream",
          "name": "stderr",
          "text": [
            "epoch 185: 100%|██████████| 282/282 [00:08<00:00, 31.62it/s]\n"
          ]
        },
        {
          "output_type": "stream",
          "name": "stdout",
          "text": [
            "validation loss: 0.0008204882513317797 at epoch 186\n",
            "learning_rate: 0.001\n"
          ]
        },
        {
          "output_type": "stream",
          "name": "stderr",
          "text": [
            "epoch 186: 100%|██████████| 282/282 [00:07<00:00, 35.64it/s]\n"
          ]
        },
        {
          "output_type": "stream",
          "name": "stdout",
          "text": [
            "validation loss: 0.001463022880256176 at epoch 187\n",
            "learning_rate: 0.001\n"
          ]
        },
        {
          "output_type": "stream",
          "name": "stderr",
          "text": [
            "epoch 187: 100%|██████████| 282/282 [00:08<00:00, 32.38it/s]\n"
          ]
        },
        {
          "output_type": "stream",
          "name": "stdout",
          "text": [
            "validation loss: 0.001258231741686662 at epoch 188\n",
            "learning_rate: 0.001\n"
          ]
        },
        {
          "output_type": "stream",
          "name": "stderr",
          "text": [
            "epoch 188: 100%|██████████| 282/282 [00:08<00:00, 32.90it/s]\n"
          ]
        },
        {
          "output_type": "stream",
          "name": "stdout",
          "text": [
            "validation loss: 0.0017329181714190378 at epoch 189\n",
            "learning_rate: 0.001\n"
          ]
        },
        {
          "output_type": "stream",
          "name": "stderr",
          "text": [
            "epoch 189: 100%|██████████| 282/282 [00:08<00:00, 34.14it/s]\n"
          ]
        },
        {
          "output_type": "stream",
          "name": "stdout",
          "text": [
            "validation loss: 0.0014244325392776065 at epoch 190\n",
            "learning_rate: 0.001\n"
          ]
        },
        {
          "output_type": "stream",
          "name": "stderr",
          "text": [
            "epoch 190: 100%|██████████| 282/282 [00:08<00:00, 34.57it/s]\n"
          ]
        },
        {
          "output_type": "stream",
          "name": "stdout",
          "text": [
            "validation loss: 0.001326905315121015 at epoch 191\n",
            "learning_rate: 0.001\n"
          ]
        },
        {
          "output_type": "stream",
          "name": "stderr",
          "text": [
            "epoch 191: 100%|██████████| 282/282 [00:08<00:00, 32.13it/s]\n"
          ]
        },
        {
          "output_type": "stream",
          "name": "stdout",
          "text": [
            "validation loss: 0.0028434472878774006 at epoch 192\n",
            "learning_rate: 0.001\n"
          ]
        },
        {
          "output_type": "stream",
          "name": "stderr",
          "text": [
            "epoch 192: 100%|██████████| 282/282 [00:08<00:00, 32.14it/s]\n"
          ]
        },
        {
          "output_type": "stream",
          "name": "stdout",
          "text": [
            "validation loss: 0.00240982482333978 at epoch 193\n",
            "learning_rate: 0.001\n"
          ]
        },
        {
          "output_type": "stream",
          "name": "stderr",
          "text": [
            "epoch 193: 100%|██████████| 282/282 [00:08<00:00, 35.09it/s]\n"
          ]
        },
        {
          "output_type": "stream",
          "name": "stdout",
          "text": [
            "validation loss: 0.0021121857911348342 at epoch 194\n",
            "learning_rate: 0.001\n"
          ]
        },
        {
          "output_type": "stream",
          "name": "stderr",
          "text": [
            "epoch 194: 100%|██████████| 282/282 [00:08<00:00, 32.06it/s]\n"
          ]
        },
        {
          "output_type": "stream",
          "name": "stdout",
          "text": [
            "validation loss: 0.0013278557045592202 at epoch 195\n",
            "learning_rate: 0.001\n"
          ]
        },
        {
          "output_type": "stream",
          "name": "stderr",
          "text": [
            "epoch 195: 100%|██████████| 282/282 [00:08<00:00, 32.21it/s]\n"
          ]
        },
        {
          "output_type": "stream",
          "name": "stdout",
          "text": [
            "validation loss: 0.002793368235230446 at epoch 196\n",
            "learning_rate: 0.001\n"
          ]
        },
        {
          "output_type": "stream",
          "name": "stderr",
          "text": [
            "epoch 196: 100%|██████████| 282/282 [00:07<00:00, 35.60it/s]\n"
          ]
        },
        {
          "output_type": "stream",
          "name": "stdout",
          "text": [
            "validation loss: 0.0006834229723446899 at epoch 197\n",
            "learning_rate: 0.001\n",
            "model saved in ani_acrolein.pt\n"
          ]
        },
        {
          "output_type": "stream",
          "name": "stderr",
          "text": [
            "epoch 197: 100%|██████████| 282/282 [00:08<00:00, 33.54it/s]\n"
          ]
        },
        {
          "output_type": "stream",
          "name": "stdout",
          "text": [
            "validation loss: 0.0024175598141219883 at epoch 198\n",
            "learning_rate: 0.001\n"
          ]
        },
        {
          "output_type": "stream",
          "name": "stderr",
          "text": [
            "epoch 198: 100%|██████████| 282/282 [00:08<00:00, 32.18it/s]\n"
          ]
        },
        {
          "output_type": "stream",
          "name": "stdout",
          "text": [
            "validation loss: 0.004692939814594057 at epoch 199\n",
            "learning_rate: 0.001\n"
          ]
        },
        {
          "output_type": "stream",
          "name": "stderr",
          "text": [
            "epoch 199: 100%|██████████| 282/282 [00:08<00:00, 33.39it/s]\n"
          ]
        },
        {
          "output_type": "stream",
          "name": "stdout",
          "text": [
            "validation loss: 0.0014341523738371001 at epoch 200\n",
            "learning_rate: 0.001\n"
          ]
        },
        {
          "output_type": "stream",
          "name": "stderr",
          "text": [
            "epoch 200: 100%|██████████| 282/282 [00:08<00:00, 35.09it/s]\n"
          ]
        },
        {
          "output_type": "stream",
          "name": "stdout",
          "text": [
            "validation loss: 0.0017520678035087055 at epoch 201\n",
            "learning_rate: 0.001\n"
          ]
        },
        {
          "output_type": "stream",
          "name": "stderr",
          "text": [
            "epoch 201: 100%|██████████| 282/282 [00:08<00:00, 31.77it/s]\n"
          ]
        },
        {
          "output_type": "stream",
          "name": "stdout",
          "text": [
            "validation loss: 0.0019426967352628708 at epoch 202\n",
            "learning_rate: 0.001\n"
          ]
        },
        {
          "output_type": "stream",
          "name": "stderr",
          "text": [
            "epoch 202: 100%|██████████| 282/282 [00:08<00:00, 32.61it/s]\n"
          ]
        },
        {
          "output_type": "stream",
          "name": "stdout",
          "text": [
            "validation loss: 0.0009231092093719376 at epoch 203\n",
            "learning_rate: 0.001\n"
          ]
        },
        {
          "output_type": "stream",
          "name": "stderr",
          "text": [
            "epoch 203: 100%|██████████| 282/282 [00:07<00:00, 35.37it/s]\n"
          ]
        },
        {
          "output_type": "stream",
          "name": "stdout",
          "text": [
            "validation loss: 0.0007592173620230622 at epoch 204\n",
            "learning_rate: 0.001\n"
          ]
        },
        {
          "output_type": "stream",
          "name": "stderr",
          "text": [
            "epoch 204: 100%|██████████| 282/282 [00:08<00:00, 32.14it/s]\n"
          ]
        },
        {
          "output_type": "stream",
          "name": "stdout",
          "text": [
            "validation loss: 0.0006995886858138773 at epoch 205\n",
            "learning_rate: 0.001\n"
          ]
        },
        {
          "output_type": "stream",
          "name": "stderr",
          "text": [
            "epoch 205: 100%|██████████| 282/282 [00:08<00:00, 32.70it/s]\n"
          ]
        },
        {
          "output_type": "stream",
          "name": "stdout",
          "text": [
            "validation loss: 0.0023651801331175696 at epoch 206\n",
            "learning_rate: 0.001\n"
          ]
        },
        {
          "output_type": "stream",
          "name": "stderr",
          "text": [
            "epoch 206: 100%|██████████| 282/282 [00:08<00:00, 34.40it/s]\n"
          ]
        },
        {
          "output_type": "stream",
          "name": "stdout",
          "text": [
            "validation loss: 0.0009796653596891296 at epoch 207\n",
            "learning_rate: 0.001\n"
          ]
        },
        {
          "output_type": "stream",
          "name": "stderr",
          "text": [
            "epoch 207: 100%|██████████| 282/282 [00:08<00:00, 33.43it/s]\n"
          ]
        },
        {
          "output_type": "stream",
          "name": "stdout",
          "text": [
            "validation loss: 0.0007051339228120115 at epoch 208\n",
            "learning_rate: 0.001\n"
          ]
        },
        {
          "output_type": "stream",
          "name": "stderr",
          "text": [
            "epoch 208: 100%|██████████| 282/282 [00:09<00:00, 31.14it/s]\n"
          ]
        },
        {
          "output_type": "stream",
          "name": "stdout",
          "text": [
            "validation loss: 0.0010056740939617156 at epoch 209\n",
            "learning_rate: 0.001\n"
          ]
        },
        {
          "output_type": "stream",
          "name": "stderr",
          "text": [
            "epoch 209: 100%|██████████| 282/282 [00:09<00:00, 30.94it/s]\n"
          ]
        },
        {
          "output_type": "stream",
          "name": "stdout",
          "text": [
            "validation loss: 0.0006532863345411089 at epoch 210\n",
            "learning_rate: 0.001\n",
            "model saved in ani_acrolein.pt\n"
          ]
        },
        {
          "output_type": "stream",
          "name": "stderr",
          "text": [
            "epoch 210: 100%|██████████| 282/282 [00:08<00:00, 34.00it/s]\n"
          ]
        },
        {
          "output_type": "stream",
          "name": "stdout",
          "text": [
            "validation loss: 0.0010466863363981246 at epoch 211\n",
            "learning_rate: 0.001\n"
          ]
        },
        {
          "output_type": "stream",
          "name": "stderr",
          "text": [
            "epoch 211: 100%|██████████| 282/282 [00:08<00:00, 32.48it/s]\n"
          ]
        },
        {
          "output_type": "stream",
          "name": "stdout",
          "text": [
            "validation loss: 0.002179513638218244 at epoch 212\n",
            "learning_rate: 0.001\n"
          ]
        },
        {
          "output_type": "stream",
          "name": "stderr",
          "text": [
            "epoch 212: 100%|██████████| 282/282 [00:08<00:00, 32.05it/s]\n"
          ]
        },
        {
          "output_type": "stream",
          "name": "stdout",
          "text": [
            "validation loss: 0.003044267180893156 at epoch 213\n",
            "learning_rate: 0.001\n"
          ]
        },
        {
          "output_type": "stream",
          "name": "stderr",
          "text": [
            "epoch 213: 100%|██████████| 282/282 [00:08<00:00, 32.23it/s]\n"
          ]
        },
        {
          "output_type": "stream",
          "name": "stdout",
          "text": [
            "validation loss: 0.0045716755986213685 at epoch 214\n",
            "learning_rate: 0.001\n"
          ]
        },
        {
          "output_type": "stream",
          "name": "stderr",
          "text": [
            "epoch 214: 100%|██████████| 282/282 [00:08<00:00, 34.08it/s]\n"
          ]
        },
        {
          "output_type": "stream",
          "name": "stdout",
          "text": [
            "validation loss: 0.003631408562262853 at epoch 215\n",
            "learning_rate: 0.001\n"
          ]
        },
        {
          "output_type": "stream",
          "name": "stderr",
          "text": [
            "epoch 215: 100%|██████████| 282/282 [00:09<00:00, 31.10it/s]\n"
          ]
        },
        {
          "output_type": "stream",
          "name": "stdout",
          "text": [
            "validation loss: 0.0007666841720541318 at epoch 216\n",
            "learning_rate: 0.001\n"
          ]
        },
        {
          "output_type": "stream",
          "name": "stderr",
          "text": [
            "epoch 216: 100%|██████████| 282/282 [00:09<00:00, 31.12it/s]\n"
          ]
        },
        {
          "output_type": "stream",
          "name": "stdout",
          "text": [
            "validation loss: 0.0007030691670046912 at epoch 217\n",
            "learning_rate: 0.001\n"
          ]
        },
        {
          "output_type": "stream",
          "name": "stderr",
          "text": [
            "epoch 217: 100%|██████████| 282/282 [00:08<00:00, 31.72it/s]\n"
          ]
        },
        {
          "output_type": "stream",
          "name": "stdout",
          "text": [
            "validation loss: 0.001444264553487301 at epoch 218\n",
            "learning_rate: 0.001\n"
          ]
        },
        {
          "output_type": "stream",
          "name": "stderr",
          "text": [
            "epoch 218: 100%|██████████| 282/282 [00:08<00:00, 33.97it/s]\n"
          ]
        },
        {
          "output_type": "stream",
          "name": "stdout",
          "text": [
            "validation loss: 0.00145261626276705 at epoch 219\n",
            "learning_rate: 0.001\n"
          ]
        },
        {
          "output_type": "stream",
          "name": "stderr",
          "text": [
            "epoch 219: 100%|██████████| 282/282 [00:09<00:00, 31.03it/s]\n"
          ]
        },
        {
          "output_type": "stream",
          "name": "stdout",
          "text": [
            "validation loss: 0.0026391900926828384 at epoch 220\n",
            "learning_rate: 0.001\n"
          ]
        },
        {
          "output_type": "stream",
          "name": "stderr",
          "text": [
            "epoch 220: 100%|██████████| 282/282 [00:09<00:00, 30.33it/s]\n"
          ]
        },
        {
          "output_type": "stream",
          "name": "stdout",
          "text": [
            "validation loss: 0.002788301416569286 at epoch 221\n",
            "learning_rate: 0.001\n"
          ]
        },
        {
          "output_type": "stream",
          "name": "stderr",
          "text": [
            "epoch 221: 100%|██████████| 282/282 [00:08<00:00, 34.34it/s]\n"
          ]
        },
        {
          "output_type": "stream",
          "name": "stdout",
          "text": [
            "validation loss: 0.002856206450197432 at epoch 222\n",
            "learning_rate: 0.001\n"
          ]
        },
        {
          "output_type": "stream",
          "name": "stderr",
          "text": [
            "epoch 222: 100%|██████████| 282/282 [00:09<00:00, 31.24it/s]\n"
          ]
        },
        {
          "output_type": "stream",
          "name": "stdout",
          "text": [
            "validation loss: 0.003629511213964886 at epoch 223\n",
            "learning_rate: 0.001\n"
          ]
        },
        {
          "output_type": "stream",
          "name": "stderr",
          "text": [
            "epoch 223: 100%|██████████| 282/282 [00:09<00:00, 30.88it/s]\n"
          ]
        },
        {
          "output_type": "stream",
          "name": "stdout",
          "text": [
            "validation loss: 0.0015965099897649554 at epoch 224\n",
            "learning_rate: 0.001\n"
          ]
        },
        {
          "output_type": "stream",
          "name": "stderr",
          "text": [
            "epoch 224: 100%|██████████| 282/282 [00:09<00:00, 30.92it/s]\n"
          ]
        },
        {
          "output_type": "stream",
          "name": "stdout",
          "text": [
            "validation loss: 0.002099216914839215 at epoch 225\n",
            "learning_rate: 0.001\n"
          ]
        },
        {
          "output_type": "stream",
          "name": "stderr",
          "text": [
            "epoch 225: 100%|██████████| 282/282 [00:08<00:00, 34.85it/s]\n"
          ]
        },
        {
          "output_type": "stream",
          "name": "stdout",
          "text": [
            "validation loss: 0.004002370105849372 at epoch 226\n",
            "learning_rate: 0.001\n"
          ]
        },
        {
          "output_type": "stream",
          "name": "stderr",
          "text": [
            "epoch 226: 100%|██████████| 282/282 [00:08<00:00, 31.97it/s]\n"
          ]
        },
        {
          "output_type": "stream",
          "name": "stdout",
          "text": [
            "validation loss: 0.0026484891027212143 at epoch 227\n",
            "learning_rate: 0.001\n"
          ]
        },
        {
          "output_type": "stream",
          "name": "stderr",
          "text": [
            "epoch 227: 100%|██████████| 282/282 [00:08<00:00, 31.42it/s]\n"
          ]
        },
        {
          "output_type": "stream",
          "name": "stdout",
          "text": [
            "validation loss: 0.0006478402697377735 at epoch 228\n",
            "learning_rate: 0.001\n",
            "model saved in ani_acrolein.pt\n"
          ]
        },
        {
          "output_type": "stream",
          "name": "stderr",
          "text": [
            "epoch 228: 100%|██████████| 282/282 [00:08<00:00, 32.52it/s]\n"
          ]
        },
        {
          "output_type": "stream",
          "name": "stdout",
          "text": [
            "validation loss: 0.00640272949801551 at epoch 229\n",
            "learning_rate: 0.001\n"
          ]
        },
        {
          "output_type": "stream",
          "name": "stderr",
          "text": [
            "epoch 229: 100%|██████████| 282/282 [00:08<00:00, 33.59it/s]\n"
          ]
        },
        {
          "output_type": "stream",
          "name": "stdout",
          "text": [
            "validation loss: 0.003942670901616414 at epoch 230\n",
            "learning_rate: 0.001\n"
          ]
        },
        {
          "output_type": "stream",
          "name": "stderr",
          "text": [
            "epoch 230: 100%|██████████| 282/282 [00:09<00:00, 30.82it/s]\n"
          ]
        },
        {
          "output_type": "stream",
          "name": "stdout",
          "text": [
            "validation loss: 0.0009476853070987596 at epoch 231\n",
            "learning_rate: 0.001\n"
          ]
        },
        {
          "output_type": "stream",
          "name": "stderr",
          "text": [
            "epoch 231: 100%|██████████| 282/282 [00:09<00:00, 31.16it/s]\n"
          ]
        },
        {
          "output_type": "stream",
          "name": "stdout",
          "text": [
            "validation loss: 0.0031209457053078546 at epoch 232\n",
            "learning_rate: 0.001\n"
          ]
        },
        {
          "output_type": "stream",
          "name": "stderr",
          "text": [
            "epoch 232: 100%|██████████| 282/282 [00:07<00:00, 35.48it/s]\n"
          ]
        },
        {
          "output_type": "stream",
          "name": "stdout",
          "text": [
            "validation loss: 0.004014682524734073 at epoch 233\n",
            "learning_rate: 0.001\n"
          ]
        },
        {
          "output_type": "stream",
          "name": "stderr",
          "text": [
            "epoch 233: 100%|██████████| 282/282 [00:08<00:00, 33.64it/s]\n"
          ]
        },
        {
          "output_type": "stream",
          "name": "stdout",
          "text": [
            "validation loss: 0.001429452698263857 at epoch 234\n",
            "learning_rate: 0.001\n"
          ]
        },
        {
          "output_type": "stream",
          "name": "stderr",
          "text": [
            "epoch 234: 100%|██████████| 282/282 [00:08<00:00, 32.07it/s]\n"
          ]
        },
        {
          "output_type": "stream",
          "name": "stdout",
          "text": [
            "validation loss: 0.0036879079507456886 at epoch 235\n",
            "learning_rate: 0.001\n"
          ]
        },
        {
          "output_type": "stream",
          "name": "stderr",
          "text": [
            "epoch 235: 100%|██████████| 282/282 [00:08<00:00, 31.53it/s]\n"
          ]
        },
        {
          "output_type": "stream",
          "name": "stdout",
          "text": [
            "validation loss: 0.005023088541295793 at epoch 236\n",
            "learning_rate: 0.001\n"
          ]
        },
        {
          "output_type": "stream",
          "name": "stderr",
          "text": [
            "epoch 236: 100%|██████████| 282/282 [00:08<00:00, 34.64it/s]\n"
          ]
        },
        {
          "output_type": "stream",
          "name": "stdout",
          "text": [
            "validation loss: 0.0032548365261819627 at epoch 237\n",
            "learning_rate: 0.001\n"
          ]
        },
        {
          "output_type": "stream",
          "name": "stderr",
          "text": [
            "epoch 237: 100%|██████████| 282/282 [00:08<00:00, 31.91it/s]\n"
          ]
        },
        {
          "output_type": "stream",
          "name": "stdout",
          "text": [
            "validation loss: 0.0027213085194428763 at epoch 238\n",
            "learning_rate: 0.001\n"
          ]
        },
        {
          "output_type": "stream",
          "name": "stderr",
          "text": [
            "epoch 238: 100%|██████████| 282/282 [00:08<00:00, 32.06it/s]\n"
          ]
        },
        {
          "output_type": "stream",
          "name": "stdout",
          "text": [
            "validation loss: 0.002290723259250323 at epoch 239\n",
            "learning_rate: 0.001\n"
          ]
        },
        {
          "output_type": "stream",
          "name": "stderr",
          "text": [
            "epoch 239: 100%|██████████| 282/282 [00:08<00:00, 35.24it/s]\n"
          ]
        },
        {
          "output_type": "stream",
          "name": "stdout",
          "text": [
            "validation loss: 0.003115992115603553 at epoch 240\n",
            "learning_rate: 0.001\n"
          ]
        },
        {
          "output_type": "stream",
          "name": "stderr",
          "text": [
            "epoch 240: 100%|██████████| 282/282 [00:08<00:00, 33.20it/s]\n"
          ]
        },
        {
          "output_type": "stream",
          "name": "stdout",
          "text": [
            "validation loss: 0.002653508825434579 at epoch 241\n",
            "learning_rate: 0.001\n"
          ]
        },
        {
          "output_type": "stream",
          "name": "stderr",
          "text": [
            "epoch 241: 100%|██████████| 282/282 [00:08<00:00, 31.73it/s]\n"
          ]
        },
        {
          "output_type": "stream",
          "name": "stdout",
          "text": [
            "validation loss: 0.003681721531682544 at epoch 242\n",
            "learning_rate: 0.001\n"
          ]
        },
        {
          "output_type": "stream",
          "name": "stderr",
          "text": [
            "epoch 242: 100%|██████████| 282/282 [00:08<00:00, 33.01it/s]\n"
          ]
        },
        {
          "output_type": "stream",
          "name": "stdout",
          "text": [
            "validation loss: 0.002558452437321345 at epoch 243\n",
            "learning_rate: 0.001\n"
          ]
        },
        {
          "output_type": "stream",
          "name": "stderr",
          "text": [
            "epoch 243: 100%|██████████| 282/282 [00:07<00:00, 35.63it/s]\n"
          ]
        },
        {
          "output_type": "stream",
          "name": "stdout",
          "text": [
            "validation loss: 0.0038274411459763846 at epoch 244\n",
            "learning_rate: 0.001\n"
          ]
        },
        {
          "output_type": "stream",
          "name": "stderr",
          "text": [
            "epoch 244: 100%|██████████| 282/282 [00:08<00:00, 32.20it/s]\n"
          ]
        },
        {
          "output_type": "stream",
          "name": "stdout",
          "text": [
            "validation loss: 0.003736458132664363 at epoch 245\n",
            "learning_rate: 0.001\n"
          ]
        },
        {
          "output_type": "stream",
          "name": "stderr",
          "text": [
            "epoch 245: 100%|██████████| 282/282 [00:09<00:00, 30.85it/s]\n"
          ]
        },
        {
          "output_type": "stream",
          "name": "stdout",
          "text": [
            "validation loss: 0.005988696979151832 at epoch 246\n",
            "learning_rate: 0.001\n"
          ]
        },
        {
          "output_type": "stream",
          "name": "stderr",
          "text": [
            "epoch 246: 100%|██████████| 282/282 [00:08<00:00, 34.89it/s]\n"
          ]
        },
        {
          "output_type": "stream",
          "name": "stdout",
          "text": [
            "validation loss: 0.0012862766492697927 at epoch 247\n",
            "learning_rate: 0.001\n"
          ]
        },
        {
          "output_type": "stream",
          "name": "stderr",
          "text": [
            "epoch 247: 100%|██████████| 282/282 [00:08<00:00, 33.03it/s]\n"
          ]
        },
        {
          "output_type": "stream",
          "name": "stdout",
          "text": [
            "validation loss: 0.0022782515784104665 at epoch 248\n",
            "learning_rate: 0.001\n"
          ]
        },
        {
          "output_type": "stream",
          "name": "stderr",
          "text": [
            "epoch 248: 100%|██████████| 282/282 [00:08<00:00, 31.81it/s]\n"
          ]
        },
        {
          "output_type": "stream",
          "name": "stdout",
          "text": [
            "validation loss: 0.00489138369427787 at epoch 249\n",
            "learning_rate: 0.001\n"
          ]
        },
        {
          "output_type": "stream",
          "name": "stderr",
          "text": [
            "epoch 249: 100%|██████████| 282/282 [00:08<00:00, 31.52it/s]\n"
          ]
        },
        {
          "output_type": "stream",
          "name": "stdout",
          "text": [
            "validation loss: 0.0007525405945877235 at epoch 250\n",
            "learning_rate: 0.001\n"
          ]
        },
        {
          "output_type": "stream",
          "name": "stderr",
          "text": [
            "epoch 250: 100%|██████████| 282/282 [00:07<00:00, 35.66it/s]\n"
          ]
        },
        {
          "output_type": "stream",
          "name": "stdout",
          "text": [
            "validation loss: 0.0032303495357433954 at epoch 251\n",
            "learning_rate: 0.001\n"
          ]
        },
        {
          "output_type": "stream",
          "name": "stderr",
          "text": [
            "epoch 251: 100%|██████████| 282/282 [00:08<00:00, 31.63it/s]\n"
          ]
        },
        {
          "output_type": "stream",
          "name": "stdout",
          "text": [
            "validation loss: 0.00309174360997147 at epoch 252\n",
            "learning_rate: 0.001\n"
          ]
        },
        {
          "output_type": "stream",
          "name": "stderr",
          "text": [
            "epoch 252: 100%|██████████| 282/282 [00:08<00:00, 32.16it/s]\n"
          ]
        },
        {
          "output_type": "stream",
          "name": "stdout",
          "text": [
            "validation loss: 0.0026679939130942027 at epoch 253\n",
            "learning_rate: 0.001\n"
          ]
        },
        {
          "output_type": "stream",
          "name": "stderr",
          "text": [
            "epoch 253: 100%|██████████| 282/282 [00:08<00:00, 33.13it/s]\n"
          ]
        },
        {
          "output_type": "stream",
          "name": "stdout",
          "text": [
            "validation loss: 0.0030892347660329608 at epoch 254\n",
            "learning_rate: 0.001\n"
          ]
        },
        {
          "output_type": "stream",
          "name": "stderr",
          "text": [
            "epoch 254: 100%|██████████| 282/282 [00:08<00:00, 34.29it/s]\n"
          ]
        },
        {
          "output_type": "stream",
          "name": "stdout",
          "text": [
            "validation loss: 0.00368707271416982 at epoch 255\n",
            "learning_rate: 0.001\n"
          ]
        },
        {
          "output_type": "stream",
          "name": "stderr",
          "text": [
            "epoch 255: 100%|██████████| 282/282 [00:08<00:00, 31.51it/s]\n"
          ]
        },
        {
          "output_type": "stream",
          "name": "stdout",
          "text": [
            "validation loss: 0.0009405692807502217 at epoch 256\n",
            "learning_rate: 0.001\n"
          ]
        },
        {
          "output_type": "stream",
          "name": "stderr",
          "text": [
            "epoch 256: 100%|██████████| 282/282 [00:08<00:00, 32.60it/s]\n"
          ]
        },
        {
          "output_type": "stream",
          "name": "stdout",
          "text": [
            "validation loss: 0.001626132535437743 at epoch 257\n",
            "learning_rate: 0.001\n"
          ]
        },
        {
          "output_type": "stream",
          "name": "stderr",
          "text": [
            "epoch 257: 100%|██████████| 282/282 [00:08<00:00, 35.05it/s]\n"
          ]
        },
        {
          "output_type": "stream",
          "name": "stdout",
          "text": [
            "validation loss: 0.0012624579576982393 at epoch 258\n",
            "learning_rate: 0.001\n"
          ]
        },
        {
          "output_type": "stream",
          "name": "stderr",
          "text": [
            "epoch 258: 100%|██████████| 282/282 [00:08<00:00, 32.19it/s]\n"
          ]
        },
        {
          "output_type": "stream",
          "name": "stdout",
          "text": [
            "validation loss: 0.0010642575124899546 at epoch 259\n",
            "learning_rate: 0.001\n"
          ]
        },
        {
          "output_type": "stream",
          "name": "stderr",
          "text": [
            "epoch 259: 100%|██████████| 282/282 [00:08<00:00, 32.10it/s]\n"
          ]
        },
        {
          "output_type": "stream",
          "name": "stdout",
          "text": [
            "validation loss: 0.001871461951898204 at epoch 260\n",
            "learning_rate: 0.001\n"
          ]
        },
        {
          "output_type": "stream",
          "name": "stderr",
          "text": [
            "epoch 260: 100%|██████████| 282/282 [00:08<00:00, 35.13it/s]\n"
          ]
        },
        {
          "output_type": "stream",
          "name": "stdout",
          "text": [
            "validation loss: 0.002446701099475225 at epoch 261\n",
            "learning_rate: 0.001\n"
          ]
        },
        {
          "output_type": "stream",
          "name": "stderr",
          "text": [
            "epoch 261: 100%|██████████| 282/282 [00:08<00:00, 32.96it/s]\n"
          ]
        },
        {
          "output_type": "stream",
          "name": "stdout",
          "text": [
            "validation loss: 0.0006417448876632584 at epoch 262\n",
            "learning_rate: 0.001\n",
            "model saved in ani_acrolein.pt\n"
          ]
        },
        {
          "output_type": "stream",
          "name": "stderr",
          "text": [
            "epoch 262: 100%|██████████| 282/282 [00:08<00:00, 32.38it/s]\n"
          ]
        },
        {
          "output_type": "stream",
          "name": "stdout",
          "text": [
            "validation loss: 0.0007157394575575988 at epoch 263\n",
            "learning_rate: 0.001\n"
          ]
        },
        {
          "output_type": "stream",
          "name": "stderr",
          "text": [
            "epoch 263: 100%|██████████| 282/282 [00:08<00:00, 32.42it/s]\n"
          ]
        },
        {
          "output_type": "stream",
          "name": "stdout",
          "text": [
            "validation loss: 0.0014698949530720712 at epoch 264\n",
            "learning_rate: 0.001\n"
          ]
        },
        {
          "output_type": "stream",
          "name": "stderr",
          "text": [
            "epoch 264: 100%|██████████| 282/282 [00:07<00:00, 36.10it/s]\n"
          ]
        },
        {
          "output_type": "stream",
          "name": "stdout",
          "text": [
            "validation loss: 0.006346895641750759 at epoch 265\n",
            "learning_rate: 0.001\n"
          ]
        },
        {
          "output_type": "stream",
          "name": "stderr",
          "text": [
            "epoch 265: 100%|██████████| 282/282 [00:08<00:00, 31.68it/s]\n"
          ]
        },
        {
          "output_type": "stream",
          "name": "stdout",
          "text": [
            "validation loss: 0.0023018110626273685 at epoch 266\n",
            "learning_rate: 0.001\n"
          ]
        },
        {
          "output_type": "stream",
          "name": "stderr",
          "text": [
            "epoch 266: 100%|██████████| 282/282 [00:08<00:00, 32.20it/s]\n"
          ]
        },
        {
          "output_type": "stream",
          "name": "stdout",
          "text": [
            "validation loss: 0.011703493581877814 at epoch 267\n",
            "learning_rate: 0.001\n"
          ]
        },
        {
          "output_type": "stream",
          "name": "stderr",
          "text": [
            "epoch 267: 100%|██████████| 282/282 [00:08<00:00, 34.71it/s]\n"
          ]
        },
        {
          "output_type": "stream",
          "name": "stdout",
          "text": [
            "validation loss: 0.0047567832834190795 at epoch 268\n",
            "learning_rate: 0.001\n"
          ]
        },
        {
          "output_type": "stream",
          "name": "stderr",
          "text": [
            "epoch 268: 100%|██████████| 282/282 [00:08<00:00, 33.41it/s]\n"
          ]
        },
        {
          "output_type": "stream",
          "name": "stdout",
          "text": [
            "validation loss: 0.0037906635105609894 at epoch 269\n",
            "learning_rate: 0.001\n"
          ]
        },
        {
          "output_type": "stream",
          "name": "stderr",
          "text": [
            "epoch 269: 100%|██████████| 282/282 [00:08<00:00, 31.56it/s]\n"
          ]
        },
        {
          "output_type": "stream",
          "name": "stdout",
          "text": [
            "validation loss: 0.005526211546527015 at epoch 270\n",
            "learning_rate: 0.001\n"
          ]
        },
        {
          "output_type": "stream",
          "name": "stderr",
          "text": [
            "epoch 270: 100%|██████████| 282/282 [00:08<00:00, 32.94it/s]\n"
          ]
        },
        {
          "output_type": "stream",
          "name": "stdout",
          "text": [
            "validation loss: 0.003142583886782328 at epoch 271\n",
            "learning_rate: 0.001\n"
          ]
        },
        {
          "output_type": "stream",
          "name": "stderr",
          "text": [
            "epoch 271: 100%|██████████| 282/282 [00:08<00:00, 35.13it/s]\n"
          ]
        },
        {
          "output_type": "stream",
          "name": "stdout",
          "text": [
            "validation loss: 0.0031500368432866204 at epoch 272\n",
            "learning_rate: 0.001\n"
          ]
        },
        {
          "output_type": "stream",
          "name": "stderr",
          "text": [
            "epoch 272: 100%|██████████| 282/282 [00:08<00:00, 32.71it/s]\n"
          ]
        },
        {
          "output_type": "stream",
          "name": "stdout",
          "text": [
            "validation loss: 0.003096842328707377 at epoch 273\n",
            "learning_rate: 0.001\n"
          ]
        },
        {
          "output_type": "stream",
          "name": "stderr",
          "text": [
            "epoch 273: 100%|██████████| 282/282 [00:08<00:00, 32.01it/s]\n"
          ]
        },
        {
          "output_type": "stream",
          "name": "stdout",
          "text": [
            "validation loss: 0.004090950147973166 at epoch 274\n",
            "learning_rate: 0.001\n"
          ]
        },
        {
          "output_type": "stream",
          "name": "stderr",
          "text": [
            "epoch 274: 100%|██████████| 282/282 [00:07<00:00, 36.19it/s]\n"
          ]
        },
        {
          "output_type": "stream",
          "name": "stdout",
          "text": [
            "validation loss: 0.0027080917259057363 at epoch 275\n",
            "learning_rate: 0.001\n"
          ]
        },
        {
          "output_type": "stream",
          "name": "stderr",
          "text": [
            "epoch 275: 100%|██████████| 282/282 [00:08<00:00, 32.53it/s]\n"
          ]
        },
        {
          "output_type": "stream",
          "name": "stdout",
          "text": [
            "validation loss: 0.0007724314625892374 at epoch 276\n",
            "learning_rate: 0.001\n"
          ]
        },
        {
          "output_type": "stream",
          "name": "stderr",
          "text": [
            "epoch 276: 100%|██████████| 282/282 [00:08<00:00, 32.64it/s]\n"
          ]
        },
        {
          "output_type": "stream",
          "name": "stdout",
          "text": [
            "validation loss: 0.0015600127031405767 at epoch 277\n",
            "learning_rate: 0.001\n"
          ]
        },
        {
          "output_type": "stream",
          "name": "stderr",
          "text": [
            "epoch 277: 100%|██████████| 282/282 [00:08<00:00, 33.67it/s]\n"
          ]
        },
        {
          "output_type": "stream",
          "name": "stdout",
          "text": [
            "validation loss: 0.0035055835594733557 at epoch 278\n",
            "learning_rate: 0.001\n"
          ]
        },
        {
          "output_type": "stream",
          "name": "stderr",
          "text": [
            "epoch 278: 100%|██████████| 282/282 [00:07<00:00, 35.63it/s]\n"
          ]
        },
        {
          "output_type": "stream",
          "name": "stdout",
          "text": [
            "validation loss: 0.0027447865671581693 at epoch 279\n",
            "learning_rate: 0.001\n"
          ]
        },
        {
          "output_type": "stream",
          "name": "stderr",
          "text": [
            "epoch 279: 100%|██████████| 282/282 [00:09<00:00, 31.28it/s]\n"
          ]
        },
        {
          "output_type": "stream",
          "name": "stdout",
          "text": [
            "validation loss: 0.003567001869281133 at epoch 280\n",
            "learning_rate: 0.001\n"
          ]
        },
        {
          "output_type": "stream",
          "name": "stderr",
          "text": [
            "epoch 280: 100%|██████████| 282/282 [00:08<00:00, 32.43it/s]\n"
          ]
        },
        {
          "output_type": "stream",
          "name": "stdout",
          "text": [
            "validation loss: 0.0027376352002223335 at epoch 281\n",
            "learning_rate: 0.001\n"
          ]
        },
        {
          "output_type": "stream",
          "name": "stderr",
          "text": [
            "epoch 281: 100%|██████████| 282/282 [00:08<00:00, 34.92it/s]\n"
          ]
        },
        {
          "output_type": "stream",
          "name": "stdout",
          "text": [
            "validation loss: 0.004110046197970708 at epoch 282\n",
            "learning_rate: 0.001\n"
          ]
        },
        {
          "output_type": "stream",
          "name": "stderr",
          "text": [
            "epoch 282: 100%|██████████| 282/282 [00:08<00:00, 32.75it/s]\n"
          ]
        },
        {
          "output_type": "stream",
          "name": "stdout",
          "text": [
            "validation loss: 0.0045916537212000955 at epoch 283\n",
            "learning_rate: 0.001\n"
          ]
        },
        {
          "output_type": "stream",
          "name": "stderr",
          "text": [
            "epoch 283: 100%|██████████| 282/282 [00:08<00:00, 31.77it/s]\n"
          ]
        },
        {
          "output_type": "stream",
          "name": "stdout",
          "text": [
            "validation loss: 0.0056230307155185275 at epoch 284\n",
            "learning_rate: 0.001\n"
          ]
        },
        {
          "output_type": "stream",
          "name": "stderr",
          "text": [
            "epoch 284: 100%|██████████| 282/282 [00:08<00:00, 34.17it/s]\n"
          ]
        },
        {
          "output_type": "stream",
          "name": "stdout",
          "text": [
            "validation loss: 0.006877517041232851 at epoch 285\n",
            "learning_rate: 0.001\n"
          ]
        },
        {
          "output_type": "stream",
          "name": "stderr",
          "text": [
            "epoch 285: 100%|██████████| 282/282 [00:08<00:00, 34.11it/s]\n"
          ]
        },
        {
          "output_type": "stream",
          "name": "stdout",
          "text": [
            "validation loss: 0.0020266277144352597 at epoch 286\n",
            "learning_rate: 0.001\n"
          ]
        },
        {
          "output_type": "stream",
          "name": "stderr",
          "text": [
            "epoch 286: 100%|██████████| 282/282 [00:08<00:00, 32.24it/s]\n"
          ]
        },
        {
          "output_type": "stream",
          "name": "stdout",
          "text": [
            "validation loss: 0.002143494516611099 at epoch 287\n",
            "learning_rate: 0.001\n"
          ]
        },
        {
          "output_type": "stream",
          "name": "stderr",
          "text": [
            "epoch 287: 100%|██████████| 282/282 [00:08<00:00, 31.49it/s]\n"
          ]
        },
        {
          "output_type": "stream",
          "name": "stdout",
          "text": [
            "validation loss: 0.0008744806225101154 at epoch 288\n",
            "learning_rate: 0.001\n"
          ]
        },
        {
          "output_type": "stream",
          "name": "stderr",
          "text": [
            "epoch 288: 100%|██████████| 282/282 [00:07<00:00, 35.56it/s]\n"
          ]
        },
        {
          "output_type": "stream",
          "name": "stdout",
          "text": [
            "validation loss: 0.0006150276453958617 at epoch 289\n",
            "learning_rate: 0.001\n",
            "model saved in ani_acrolein.pt\n"
          ]
        },
        {
          "output_type": "stream",
          "name": "stderr",
          "text": [
            "epoch 289: 100%|██████████| 282/282 [00:08<00:00, 31.73it/s]\n"
          ]
        },
        {
          "output_type": "stream",
          "name": "stdout",
          "text": [
            "validation loss: 0.004150986472765605 at epoch 290\n",
            "learning_rate: 0.001\n"
          ]
        },
        {
          "output_type": "stream",
          "name": "stderr",
          "text": [
            "epoch 290: 100%|██████████| 282/282 [00:08<00:00, 31.92it/s]\n"
          ]
        },
        {
          "output_type": "stream",
          "name": "stdout",
          "text": [
            "validation loss: 0.0016417129577861892 at epoch 291\n",
            "learning_rate: 0.001\n"
          ]
        },
        {
          "output_type": "stream",
          "name": "stderr",
          "text": [
            "epoch 291: 100%|██████████| 282/282 [00:08<00:00, 34.17it/s]\n"
          ]
        },
        {
          "output_type": "stream",
          "name": "stdout",
          "text": [
            "validation loss: 0.00264524763988124 at epoch 292\n",
            "learning_rate: 0.001\n"
          ]
        },
        {
          "output_type": "stream",
          "name": "stderr",
          "text": [
            "epoch 292: 100%|██████████| 282/282 [00:08<00:00, 34.19it/s]\n"
          ]
        },
        {
          "output_type": "stream",
          "name": "stdout",
          "text": [
            "validation loss: 0.002459901144107183 at epoch 293\n",
            "learning_rate: 0.001\n"
          ]
        },
        {
          "output_type": "stream",
          "name": "stderr",
          "text": [
            "epoch 293: 100%|██████████| 282/282 [00:08<00:00, 32.27it/s]\n"
          ]
        },
        {
          "output_type": "stream",
          "name": "stdout",
          "text": [
            "validation loss: 0.003510766829053561 at epoch 294\n",
            "learning_rate: 0.001\n"
          ]
        },
        {
          "output_type": "stream",
          "name": "stderr",
          "text": [
            "epoch 294: 100%|██████████| 282/282 [00:08<00:00, 32.35it/s]\n"
          ]
        },
        {
          "output_type": "stream",
          "name": "stdout",
          "text": [
            "validation loss: 0.0028248503688308928 at epoch 295\n",
            "learning_rate: 0.001\n"
          ]
        },
        {
          "output_type": "stream",
          "name": "stderr",
          "text": [
            "epoch 295: 100%|██████████| 282/282 [00:07<00:00, 35.51it/s]\n"
          ]
        },
        {
          "output_type": "stream",
          "name": "stdout",
          "text": [
            "validation loss: 0.006083982341819339 at epoch 296\n",
            "learning_rate: 0.001\n"
          ]
        },
        {
          "output_type": "stream",
          "name": "stderr",
          "text": [
            "epoch 296: 100%|██████████| 282/282 [00:08<00:00, 32.50it/s]\n"
          ]
        },
        {
          "output_type": "stream",
          "name": "stdout",
          "text": [
            "validation loss: 0.0040221100350220996 at epoch 297\n",
            "learning_rate: 0.001\n"
          ]
        },
        {
          "output_type": "stream",
          "name": "stderr",
          "text": [
            "epoch 297: 100%|██████████| 282/282 [00:08<00:00, 32.17it/s]\n"
          ]
        },
        {
          "output_type": "stream",
          "name": "stdout",
          "text": [
            "validation loss: 0.0048901711801687875 at epoch 298\n",
            "learning_rate: 0.001\n"
          ]
        },
        {
          "output_type": "stream",
          "name": "stderr",
          "text": [
            "epoch 298: 100%|██████████| 282/282 [00:07<00:00, 35.90it/s]\n"
          ]
        },
        {
          "output_type": "stream",
          "name": "stdout",
          "text": [
            "validation loss: 0.0008180105996628603 at epoch 299\n",
            "learning_rate: 0.001\n"
          ]
        },
        {
          "output_type": "stream",
          "name": "stderr",
          "text": [
            "epoch 299: 100%|██████████| 282/282 [00:08<00:00, 33.06it/s]\n"
          ]
        },
        {
          "output_type": "stream",
          "name": "stdout",
          "text": [
            "validation loss: 0.0030370299220085144 at epoch 300\n",
            "learning_rate: 0.001\n"
          ]
        },
        {
          "output_type": "stream",
          "name": "stderr",
          "text": [
            "epoch 300: 100%|██████████| 282/282 [00:08<00:00, 31.61it/s]\n"
          ]
        },
        {
          "output_type": "stream",
          "name": "stdout",
          "text": [
            "validation loss: 0.0006258509163227347 at epoch 301\n",
            "learning_rate: 0.001\n"
          ]
        },
        {
          "output_type": "stream",
          "name": "stderr",
          "text": [
            "epoch 301: 100%|██████████| 282/282 [00:08<00:00, 34.15it/s]\n"
          ]
        },
        {
          "output_type": "stream",
          "name": "stdout",
          "text": [
            "validation loss: 0.0019022754091355535 at epoch 302\n",
            "learning_rate: 0.001\n"
          ]
        },
        {
          "output_type": "stream",
          "name": "stderr",
          "text": [
            "epoch 302: 100%|██████████| 282/282 [00:08<00:00, 34.14it/s]\n"
          ]
        },
        {
          "output_type": "stream",
          "name": "stdout",
          "text": [
            "validation loss: 0.0017352589443325997 at epoch 303\n",
            "learning_rate: 0.001\n"
          ]
        },
        {
          "output_type": "stream",
          "name": "stderr",
          "text": [
            "epoch 303: 100%|██████████| 282/282 [00:08<00:00, 31.64it/s]\n"
          ]
        },
        {
          "output_type": "stream",
          "name": "stdout",
          "text": [
            "validation loss: 0.001707265914314323 at epoch 304\n",
            "learning_rate: 0.001\n"
          ]
        },
        {
          "output_type": "stream",
          "name": "stderr",
          "text": [
            "epoch 304: 100%|██████████| 282/282 [00:08<00:00, 31.44it/s]\n"
          ]
        },
        {
          "output_type": "stream",
          "name": "stdout",
          "text": [
            "validation loss: 0.0007356114188830058 at epoch 305\n",
            "learning_rate: 0.001\n"
          ]
        },
        {
          "output_type": "stream",
          "name": "stderr",
          "text": [
            "epoch 305: 100%|██████████| 282/282 [00:08<00:00, 34.14it/s]\n"
          ]
        },
        {
          "output_type": "stream",
          "name": "stdout",
          "text": [
            "validation loss: 0.0010804433052738508 at epoch 306\n",
            "learning_rate: 0.001\n"
          ]
        },
        {
          "output_type": "stream",
          "name": "stderr",
          "text": [
            "epoch 306: 100%|██████████| 282/282 [00:08<00:00, 31.85it/s]\n"
          ]
        },
        {
          "output_type": "stream",
          "name": "stdout",
          "text": [
            "validation loss: 0.0033167295191023085 at epoch 307\n",
            "learning_rate: 0.001\n"
          ]
        },
        {
          "output_type": "stream",
          "name": "stderr",
          "text": [
            "epoch 307: 100%|██████████| 282/282 [00:08<00:00, 32.31it/s]\n"
          ]
        },
        {
          "output_type": "stream",
          "name": "stdout",
          "text": [
            "validation loss: 0.0017105444073677062 at epoch 308\n",
            "learning_rate: 0.001\n"
          ]
        },
        {
          "output_type": "stream",
          "name": "stderr",
          "text": [
            "epoch 308: 100%|██████████| 282/282 [00:08<00:00, 31.56it/s]\n"
          ]
        },
        {
          "output_type": "stream",
          "name": "stdout",
          "text": [
            "validation loss: 0.001501199337343375 at epoch 309\n",
            "learning_rate: 0.001\n"
          ]
        },
        {
          "output_type": "stream",
          "name": "stderr",
          "text": [
            "epoch 309: 100%|██████████| 282/282 [00:08<00:00, 35.07it/s]\n"
          ]
        },
        {
          "output_type": "stream",
          "name": "stdout",
          "text": [
            "validation loss: 0.0024179987576272753 at epoch 310\n",
            "learning_rate: 0.001\n"
          ]
        },
        {
          "output_type": "stream",
          "name": "stderr",
          "text": [
            "epoch 310: 100%|██████████| 282/282 [00:09<00:00, 31.25it/s]\n"
          ]
        },
        {
          "output_type": "stream",
          "name": "stdout",
          "text": [
            "validation loss: 0.0019072659032212363 at epoch 311\n",
            "learning_rate: 0.001\n"
          ]
        },
        {
          "output_type": "stream",
          "name": "stderr",
          "text": [
            "epoch 311: 100%|██████████| 282/282 [00:08<00:00, 32.47it/s]\n"
          ]
        },
        {
          "output_type": "stream",
          "name": "stdout",
          "text": [
            "validation loss: 0.0017212373804714944 at epoch 312\n",
            "learning_rate: 0.001\n"
          ]
        },
        {
          "output_type": "stream",
          "name": "stderr",
          "text": [
            "epoch 312: 100%|██████████| 282/282 [00:08<00:00, 35.04it/s]\n"
          ]
        },
        {
          "output_type": "stream",
          "name": "stdout",
          "text": [
            "validation loss: 0.002265905871987343 at epoch 313\n",
            "learning_rate: 0.001\n"
          ]
        },
        {
          "output_type": "stream",
          "name": "stderr",
          "text": [
            "epoch 313: 100%|██████████| 282/282 [00:08<00:00, 33.51it/s]\n"
          ]
        },
        {
          "output_type": "stream",
          "name": "stdout",
          "text": [
            "validation loss: 0.0005903191301557753 at epoch 314\n",
            "learning_rate: 0.001\n",
            "model saved in ani_acrolein.pt\n"
          ]
        },
        {
          "output_type": "stream",
          "name": "stderr",
          "text": [
            "epoch 314: 100%|██████████| 282/282 [00:08<00:00, 31.40it/s]\n"
          ]
        },
        {
          "output_type": "stream",
          "name": "stdout",
          "text": [
            "validation loss: 0.0015419387469689052 at epoch 315\n",
            "learning_rate: 0.001\n"
          ]
        },
        {
          "output_type": "stream",
          "name": "stderr",
          "text": [
            "epoch 315: 100%|██████████| 282/282 [00:08<00:00, 31.87it/s]\n"
          ]
        },
        {
          "output_type": "stream",
          "name": "stdout",
          "text": [
            "validation loss: 0.000641783218830824 at epoch 316\n",
            "learning_rate: 0.001\n"
          ]
        },
        {
          "output_type": "stream",
          "name": "stderr",
          "text": [
            "epoch 316: 100%|██████████| 282/282 [00:07<00:00, 35.86it/s]\n"
          ]
        },
        {
          "output_type": "stream",
          "name": "stdout",
          "text": [
            "validation loss: 0.0016476989611983299 at epoch 317\n",
            "learning_rate: 0.001\n"
          ]
        },
        {
          "output_type": "stream",
          "name": "stderr",
          "text": [
            "epoch 317: 100%|██████████| 282/282 [00:08<00:00, 32.99it/s]\n"
          ]
        },
        {
          "output_type": "stream",
          "name": "stdout",
          "text": [
            "validation loss: 0.0015835656705829831 at epoch 318\n",
            "learning_rate: 0.001\n"
          ]
        },
        {
          "output_type": "stream",
          "name": "stderr",
          "text": [
            "epoch 318: 100%|██████████| 282/282 [00:09<00:00, 31.18it/s]\n"
          ]
        },
        {
          "output_type": "stream",
          "name": "stdout",
          "text": [
            "validation loss: 0.004188507325119443 at epoch 319\n",
            "learning_rate: 0.001\n"
          ]
        },
        {
          "output_type": "stream",
          "name": "stderr",
          "text": [
            "epoch 319: 100%|██████████| 282/282 [00:08<00:00, 32.49it/s]\n"
          ]
        },
        {
          "output_type": "stream",
          "name": "stdout",
          "text": [
            "validation loss: 0.0013953018188476562 at epoch 320\n",
            "learning_rate: 0.001\n"
          ]
        },
        {
          "output_type": "stream",
          "name": "stderr",
          "text": [
            "epoch 320: 100%|██████████| 282/282 [00:08<00:00, 33.54it/s]\n"
          ]
        },
        {
          "output_type": "stream",
          "name": "stdout",
          "text": [
            "validation loss: 0.005592177109585868 at epoch 321\n",
            "learning_rate: 0.001\n"
          ]
        },
        {
          "output_type": "stream",
          "name": "stderr",
          "text": [
            "epoch 321: 100%|██████████| 282/282 [00:09<00:00, 30.54it/s]\n"
          ]
        },
        {
          "output_type": "stream",
          "name": "stdout",
          "text": [
            "validation loss: 0.002493568276365598 at epoch 322\n",
            "learning_rate: 0.001\n"
          ]
        },
        {
          "output_type": "stream",
          "name": "stderr",
          "text": [
            "epoch 322: 100%|██████████| 282/282 [00:09<00:00, 30.52it/s]\n"
          ]
        },
        {
          "output_type": "stream",
          "name": "stdout",
          "text": [
            "validation loss: 0.0016206031060881085 at epoch 323\n",
            "learning_rate: 0.001\n"
          ]
        },
        {
          "output_type": "stream",
          "name": "stderr",
          "text": [
            "epoch 323: 100%|██████████| 282/282 [00:08<00:00, 33.58it/s]\n"
          ]
        },
        {
          "output_type": "stream",
          "name": "stdout",
          "text": [
            "validation loss: 0.0016226203209824032 at epoch 324\n",
            "learning_rate: 0.001\n"
          ]
        },
        {
          "output_type": "stream",
          "name": "stderr",
          "text": [
            "epoch 324: 100%|██████████| 282/282 [00:08<00:00, 32.59it/s]\n"
          ]
        },
        {
          "output_type": "stream",
          "name": "stdout",
          "text": [
            "validation loss: 0.0017402356341481209 at epoch 325\n",
            "learning_rate: 0.001\n"
          ]
        },
        {
          "output_type": "stream",
          "name": "stderr",
          "text": [
            "epoch 325: 100%|██████████| 282/282 [00:09<00:00, 31.30it/s]\n"
          ]
        },
        {
          "output_type": "stream",
          "name": "stdout",
          "text": [
            "validation loss: 0.00756899948252572 at epoch 326\n",
            "learning_rate: 0.001\n"
          ]
        },
        {
          "output_type": "stream",
          "name": "stderr",
          "text": [
            "epoch 326: 100%|██████████| 282/282 [00:09<00:00, 30.84it/s]\n"
          ]
        },
        {
          "output_type": "stream",
          "name": "stdout",
          "text": [
            "validation loss: 0.007084850662284427 at epoch 327\n",
            "learning_rate: 0.001\n"
          ]
        },
        {
          "output_type": "stream",
          "name": "stderr",
          "text": [
            "epoch 327: 100%|██████████| 282/282 [00:08<00:00, 34.30it/s]\n"
          ]
        },
        {
          "output_type": "stream",
          "name": "stdout",
          "text": [
            "validation loss: 0.0006715448142753707 at epoch 328\n",
            "learning_rate: 0.001\n"
          ]
        },
        {
          "output_type": "stream",
          "name": "stderr",
          "text": [
            "epoch 328: 100%|██████████| 282/282 [00:09<00:00, 30.95it/s]\n"
          ]
        },
        {
          "output_type": "stream",
          "name": "stdout",
          "text": [
            "validation loss: 0.003849700782034132 at epoch 329\n",
            "learning_rate: 0.001\n"
          ]
        },
        {
          "output_type": "stream",
          "name": "stderr",
          "text": [
            "epoch 329: 100%|██████████| 282/282 [00:08<00:00, 32.04it/s]\n"
          ]
        },
        {
          "output_type": "stream",
          "name": "stdout",
          "text": [
            "validation loss: 0.002735622396071752 at epoch 330\n",
            "learning_rate: 0.001\n"
          ]
        },
        {
          "output_type": "stream",
          "name": "stderr",
          "text": [
            "epoch 330: 100%|██████████| 282/282 [00:08<00:00, 33.45it/s]\n"
          ]
        },
        {
          "output_type": "stream",
          "name": "stdout",
          "text": [
            "validation loss: 0.000637387899061044 at epoch 331\n",
            "learning_rate: 0.001\n"
          ]
        },
        {
          "output_type": "stream",
          "name": "stderr",
          "text": [
            "epoch 331: 100%|██████████| 282/282 [00:08<00:00, 34.66it/s]\n"
          ]
        },
        {
          "output_type": "stream",
          "name": "stdout",
          "text": [
            "validation loss: 0.0015324516859319475 at epoch 332\n",
            "learning_rate: 0.001\n"
          ]
        },
        {
          "output_type": "stream",
          "name": "stderr",
          "text": [
            "epoch 332: 100%|██████████| 282/282 [00:09<00:00, 31.20it/s]\n"
          ]
        },
        {
          "output_type": "stream",
          "name": "stdout",
          "text": [
            "validation loss: 0.0010673839698235193 at epoch 333\n",
            "learning_rate: 0.001\n"
          ]
        },
        {
          "output_type": "stream",
          "name": "stderr",
          "text": [
            "epoch 333: 100%|██████████| 282/282 [00:08<00:00, 31.65it/s]\n"
          ]
        },
        {
          "output_type": "stream",
          "name": "stdout",
          "text": [
            "validation loss: 0.0022215621885326173 at epoch 334\n",
            "learning_rate: 0.001\n"
          ]
        },
        {
          "output_type": "stream",
          "name": "stderr",
          "text": [
            "epoch 334: 100%|██████████| 282/282 [00:08<00:00, 34.78it/s]\n"
          ]
        },
        {
          "output_type": "stream",
          "name": "stdout",
          "text": [
            "validation loss: 0.004418882770670785 at epoch 335\n",
            "learning_rate: 0.001\n"
          ]
        },
        {
          "output_type": "stream",
          "name": "stderr",
          "text": [
            "epoch 335: 100%|██████████| 282/282 [00:08<00:00, 33.07it/s]\n"
          ]
        },
        {
          "output_type": "stream",
          "name": "stdout",
          "text": [
            "validation loss: 0.0021184677051173315 at epoch 336\n",
            "learning_rate: 0.001\n"
          ]
        },
        {
          "output_type": "stream",
          "name": "stderr",
          "text": [
            "epoch 336: 100%|██████████| 282/282 [00:08<00:00, 31.93it/s]\n"
          ]
        },
        {
          "output_type": "stream",
          "name": "stdout",
          "text": [
            "validation loss: 0.000750981379714277 at epoch 337\n",
            "learning_rate: 0.001\n"
          ]
        },
        {
          "output_type": "stream",
          "name": "stderr",
          "text": [
            "epoch 337: 100%|██████████| 282/282 [00:08<00:00, 32.29it/s]\n"
          ]
        },
        {
          "output_type": "stream",
          "name": "stdout",
          "text": [
            "validation loss: 0.0022916106267107856 at epoch 338\n",
            "learning_rate: 0.001\n"
          ]
        },
        {
          "output_type": "stream",
          "name": "stderr",
          "text": [
            "epoch 338: 100%|██████████| 282/282 [00:07<00:00, 35.82it/s]\n"
          ]
        },
        {
          "output_type": "stream",
          "name": "stdout",
          "text": [
            "validation loss: 0.001252760290271706 at epoch 339\n",
            "learning_rate: 0.001\n"
          ]
        },
        {
          "output_type": "stream",
          "name": "stderr",
          "text": [
            "epoch 339: 100%|██████████| 282/282 [00:08<00:00, 31.80it/s]\n"
          ]
        },
        {
          "output_type": "stream",
          "name": "stdout",
          "text": [
            "validation loss: 0.0017682965869704882 at epoch 340\n",
            "learning_rate: 0.001\n"
          ]
        },
        {
          "output_type": "stream",
          "name": "stderr",
          "text": [
            "epoch 340: 100%|██████████| 282/282 [00:08<00:00, 32.33it/s]\n"
          ]
        },
        {
          "output_type": "stream",
          "name": "stdout",
          "text": [
            "validation loss: 0.002240463169084655 at epoch 341\n",
            "learning_rate: 0.001\n"
          ]
        },
        {
          "output_type": "stream",
          "name": "stderr",
          "text": [
            "epoch 341: 100%|██████████| 282/282 [00:08<00:00, 34.69it/s]\n"
          ]
        },
        {
          "output_type": "stream",
          "name": "stdout",
          "text": [
            "validation loss: 0.0014243681025173929 at epoch 342\n",
            "learning_rate: 0.001\n"
          ]
        },
        {
          "output_type": "stream",
          "name": "stderr",
          "text": [
            "epoch 342: 100%|██████████| 282/282 [00:08<00:00, 32.88it/s]\n"
          ]
        },
        {
          "output_type": "stream",
          "name": "stdout",
          "text": [
            "validation loss: 0.0015752528036634128 at epoch 343\n",
            "learning_rate: 0.001\n"
          ]
        },
        {
          "output_type": "stream",
          "name": "stderr",
          "text": [
            "epoch 343: 100%|██████████| 282/282 [00:08<00:00, 31.99it/s]\n"
          ]
        },
        {
          "output_type": "stream",
          "name": "stdout",
          "text": [
            "validation loss: 0.0012428407337930468 at epoch 344\n",
            "learning_rate: 0.001\n"
          ]
        },
        {
          "output_type": "stream",
          "name": "stderr",
          "text": [
            "epoch 344: 100%|██████████| 282/282 [00:08<00:00, 34.88it/s]\n"
          ]
        },
        {
          "output_type": "stream",
          "name": "stdout",
          "text": [
            "validation loss: 0.0008341775201261044 at epoch 345\n",
            "learning_rate: 0.001\n"
          ]
        },
        {
          "output_type": "stream",
          "name": "stderr",
          "text": [
            "epoch 345: 100%|██████████| 282/282 [00:08<00:00, 33.59it/s]\n"
          ]
        },
        {
          "output_type": "stream",
          "name": "stdout",
          "text": [
            "validation loss: 0.001007064410381847 at epoch 346\n",
            "learning_rate: 0.001\n"
          ]
        },
        {
          "output_type": "stream",
          "name": "stderr",
          "text": [
            "epoch 346: 100%|██████████| 282/282 [00:08<00:00, 31.86it/s]\n"
          ]
        },
        {
          "output_type": "stream",
          "name": "stdout",
          "text": [
            "validation loss: 0.0006304228512777222 at epoch 347\n",
            "learning_rate: 0.001\n"
          ]
        },
        {
          "output_type": "stream",
          "name": "stderr",
          "text": [
            "epoch 347: 100%|██████████| 282/282 [00:08<00:00, 32.48it/s]\n"
          ]
        },
        {
          "output_type": "stream",
          "name": "stdout",
          "text": [
            "validation loss: 0.0005266952502230803 at epoch 348\n",
            "learning_rate: 0.001\n",
            "model saved in ani_acrolein.pt\n"
          ]
        },
        {
          "output_type": "stream",
          "name": "stderr",
          "text": [
            "epoch 348: 100%|██████████| 282/282 [00:07<00:00, 35.98it/s]\n"
          ]
        },
        {
          "output_type": "stream",
          "name": "stdout",
          "text": [
            "validation loss: 0.0011598567126525773 at epoch 349\n",
            "learning_rate: 0.001\n"
          ]
        },
        {
          "output_type": "stream",
          "name": "stderr",
          "text": [
            "epoch 349: 100%|██████████| 282/282 [00:08<00:00, 31.62it/s]\n"
          ]
        },
        {
          "output_type": "stream",
          "name": "stdout",
          "text": [
            "validation loss: 0.0006820602851609389 at epoch 350\n",
            "learning_rate: 0.001\n"
          ]
        },
        {
          "output_type": "stream",
          "name": "stderr",
          "text": [
            "epoch 350: 100%|██████████| 282/282 [00:08<00:00, 32.11it/s]\n"
          ]
        },
        {
          "output_type": "stream",
          "name": "stdout",
          "text": [
            "validation loss: 0.0011468998847736253 at epoch 351\n",
            "learning_rate: 0.001\n"
          ]
        },
        {
          "output_type": "stream",
          "name": "stderr",
          "text": [
            "epoch 351: 100%|██████████| 282/282 [00:07<00:00, 35.32it/s]\n"
          ]
        },
        {
          "output_type": "stream",
          "name": "stdout",
          "text": [
            "validation loss: 0.00291181065969997 at epoch 352\n",
            "learning_rate: 0.001\n"
          ]
        },
        {
          "output_type": "stream",
          "name": "stderr",
          "text": [
            "epoch 352: 100%|██████████| 282/282 [00:08<00:00, 32.68it/s]\n"
          ]
        },
        {
          "output_type": "stream",
          "name": "stdout",
          "text": [
            "validation loss: 0.0027033843795458475 at epoch 353\n",
            "learning_rate: 0.001\n"
          ]
        },
        {
          "output_type": "stream",
          "name": "stderr",
          "text": [
            "epoch 353: 100%|██████████| 282/282 [00:08<00:00, 31.56it/s]\n"
          ]
        },
        {
          "output_type": "stream",
          "name": "stdout",
          "text": [
            "validation loss: 0.0024035312169127993 at epoch 354\n",
            "learning_rate: 0.001\n"
          ]
        },
        {
          "output_type": "stream",
          "name": "stderr",
          "text": [
            "epoch 354: 100%|██████████| 282/282 [00:08<00:00, 34.87it/s]\n"
          ]
        },
        {
          "output_type": "stream",
          "name": "stdout",
          "text": [
            "validation loss: 0.0013768815853529507 at epoch 355\n",
            "learning_rate: 0.001\n"
          ]
        },
        {
          "output_type": "stream",
          "name": "stderr",
          "text": [
            "epoch 355: 100%|██████████| 282/282 [00:08<00:00, 33.13it/s]\n"
          ]
        },
        {
          "output_type": "stream",
          "name": "stdout",
          "text": [
            "validation loss: 0.003454223660959138 at epoch 356\n",
            "learning_rate: 0.001\n"
          ]
        },
        {
          "output_type": "stream",
          "name": "stderr",
          "text": [
            "epoch 356: 100%|██████████| 282/282 [00:08<00:00, 32.11it/s]\n"
          ]
        },
        {
          "output_type": "stream",
          "name": "stdout",
          "text": [
            "validation loss: 0.0010466985727349918 at epoch 357\n",
            "learning_rate: 0.001\n"
          ]
        },
        {
          "output_type": "stream",
          "name": "stderr",
          "text": [
            "epoch 357: 100%|██████████| 282/282 [00:08<00:00, 32.92it/s]\n"
          ]
        },
        {
          "output_type": "stream",
          "name": "stdout",
          "text": [
            "validation loss: 0.0005445274425049623 at epoch 358\n",
            "learning_rate: 0.001\n"
          ]
        },
        {
          "output_type": "stream",
          "name": "stderr",
          "text": [
            "epoch 358: 100%|██████████| 282/282 [00:07<00:00, 36.15it/s]\n"
          ]
        },
        {
          "output_type": "stream",
          "name": "stdout",
          "text": [
            "validation loss: 0.0009154492322769429 at epoch 359\n",
            "learning_rate: 0.001\n"
          ]
        },
        {
          "output_type": "stream",
          "name": "stderr",
          "text": [
            "epoch 359: 100%|██████████| 282/282 [00:08<00:00, 31.75it/s]\n"
          ]
        },
        {
          "output_type": "stream",
          "name": "stdout",
          "text": [
            "validation loss: 0.0010974949159555966 at epoch 360\n",
            "learning_rate: 0.001\n"
          ]
        },
        {
          "output_type": "stream",
          "name": "stderr",
          "text": [
            "epoch 360: 100%|██████████| 282/282 [00:08<00:00, 31.75it/s]\n"
          ]
        },
        {
          "output_type": "stream",
          "name": "stdout",
          "text": [
            "validation loss: 0.0016533114537596702 at epoch 361\n",
            "learning_rate: 0.001\n"
          ]
        },
        {
          "output_type": "stream",
          "name": "stderr",
          "text": [
            "epoch 361: 100%|██████████| 282/282 [00:08<00:00, 35.17it/s]\n"
          ]
        },
        {
          "output_type": "stream",
          "name": "stdout",
          "text": [
            "validation loss: 0.0010861093526085218 at epoch 362\n",
            "learning_rate: 0.001\n"
          ]
        },
        {
          "output_type": "stream",
          "name": "stderr",
          "text": [
            "epoch 362: 100%|██████████| 282/282 [00:08<00:00, 33.02it/s]\n"
          ]
        },
        {
          "output_type": "stream",
          "name": "stdout",
          "text": [
            "validation loss: 0.0005880708677901162 at epoch 363\n",
            "learning_rate: 0.001\n"
          ]
        },
        {
          "output_type": "stream",
          "name": "stderr",
          "text": [
            "epoch 363: 100%|██████████| 282/282 [00:08<00:00, 31.72it/s]\n"
          ]
        },
        {
          "output_type": "stream",
          "name": "stdout",
          "text": [
            "validation loss: 0.000489775674831536 at epoch 364\n",
            "learning_rate: 0.001\n",
            "model saved in ani_acrolein.pt\n"
          ]
        },
        {
          "output_type": "stream",
          "name": "stderr",
          "text": [
            "epoch 364: 100%|██████████| 282/282 [00:08<00:00, 33.62it/s]\n"
          ]
        },
        {
          "output_type": "stream",
          "name": "stdout",
          "text": [
            "validation loss: 0.0060635866390334235 at epoch 365\n",
            "learning_rate: 0.001\n"
          ]
        },
        {
          "output_type": "stream",
          "name": "stderr",
          "text": [
            "epoch 365: 100%|██████████| 282/282 [00:07<00:00, 35.26it/s]\n"
          ]
        },
        {
          "output_type": "stream",
          "name": "stdout",
          "text": [
            "validation loss: 0.0013698099429408708 at epoch 366\n",
            "learning_rate: 0.001\n"
          ]
        },
        {
          "output_type": "stream",
          "name": "stderr",
          "text": [
            "epoch 366: 100%|██████████| 282/282 [00:08<00:00, 32.07it/s]\n"
          ]
        },
        {
          "output_type": "stream",
          "name": "stdout",
          "text": [
            "validation loss: 0.001006287737025155 at epoch 367\n",
            "learning_rate: 0.001\n"
          ]
        },
        {
          "output_type": "stream",
          "name": "stderr",
          "text": [
            "epoch 367: 100%|██████████| 282/282 [00:08<00:00, 32.04it/s]\n"
          ]
        },
        {
          "output_type": "stream",
          "name": "stdout",
          "text": [
            "validation loss: 0.0006696176562044356 at epoch 368\n",
            "learning_rate: 0.001\n"
          ]
        },
        {
          "output_type": "stream",
          "name": "stderr",
          "text": [
            "epoch 368: 100%|██████████| 282/282 [00:07<00:00, 35.41it/s]\n"
          ]
        },
        {
          "output_type": "stream",
          "name": "stdout",
          "text": [
            "validation loss: 0.001139267981880241 at epoch 369\n",
            "learning_rate: 0.001\n"
          ]
        },
        {
          "output_type": "stream",
          "name": "stderr",
          "text": [
            "epoch 369: 100%|██████████| 282/282 [00:08<00:00, 32.07it/s]\n"
          ]
        },
        {
          "output_type": "stream",
          "name": "stdout",
          "text": [
            "validation loss: 0.000585185531526804 at epoch 370\n",
            "learning_rate: 0.001\n"
          ]
        },
        {
          "output_type": "stream",
          "name": "stderr",
          "text": [
            "epoch 370: 100%|██████████| 282/282 [00:08<00:00, 32.23it/s]\n"
          ]
        },
        {
          "output_type": "stream",
          "name": "stdout",
          "text": [
            "validation loss: 0.0026951068970892163 at epoch 371\n",
            "learning_rate: 0.001\n"
          ]
        },
        {
          "output_type": "stream",
          "name": "stderr",
          "text": [
            "epoch 371: 100%|██████████| 282/282 [00:08<00:00, 35.13it/s]\n"
          ]
        },
        {
          "output_type": "stream",
          "name": "stdout",
          "text": [
            "validation loss: 0.0018267878600292736 at epoch 372\n",
            "learning_rate: 0.001\n"
          ]
        },
        {
          "output_type": "stream",
          "name": "stderr",
          "text": [
            "epoch 372: 100%|██████████| 282/282 [00:08<00:00, 33.36it/s]\n"
          ]
        },
        {
          "output_type": "stream",
          "name": "stdout",
          "text": [
            "validation loss: 0.0013767192032602099 at epoch 373\n",
            "learning_rate: 0.001\n"
          ]
        },
        {
          "output_type": "stream",
          "name": "stderr",
          "text": [
            "epoch 373: 100%|██████████| 282/282 [00:08<00:00, 32.00it/s]\n"
          ]
        },
        {
          "output_type": "stream",
          "name": "stdout",
          "text": [
            "validation loss: 0.0012978918014301193 at epoch 374\n",
            "learning_rate: 0.001\n"
          ]
        },
        {
          "output_type": "stream",
          "name": "stderr",
          "text": [
            "epoch 374: 100%|██████████| 282/282 [00:08<00:00, 33.73it/s]\n"
          ]
        },
        {
          "output_type": "stream",
          "name": "stdout",
          "text": [
            "validation loss: 0.00274887202348974 at epoch 375\n",
            "learning_rate: 0.001\n"
          ]
        },
        {
          "output_type": "stream",
          "name": "stderr",
          "text": [
            "epoch 375: 100%|██████████| 282/282 [00:07<00:00, 35.44it/s]\n"
          ]
        },
        {
          "output_type": "stream",
          "name": "stdout",
          "text": [
            "validation loss: 0.0030060895052221085 at epoch 376\n",
            "learning_rate: 0.001\n"
          ]
        },
        {
          "output_type": "stream",
          "name": "stderr",
          "text": [
            "epoch 376: 100%|██████████| 282/282 [00:08<00:00, 31.93it/s]\n"
          ]
        },
        {
          "output_type": "stream",
          "name": "stdout",
          "text": [
            "validation loss: 0.0028338007430235546 at epoch 377\n",
            "learning_rate: 0.001\n"
          ]
        },
        {
          "output_type": "stream",
          "name": "stderr",
          "text": [
            "epoch 377: 100%|██████████| 282/282 [00:08<00:00, 32.61it/s]\n"
          ]
        },
        {
          "output_type": "stream",
          "name": "stdout",
          "text": [
            "validation loss: 0.0015678038365311093 at epoch 378\n",
            "learning_rate: 0.001\n"
          ]
        },
        {
          "output_type": "stream",
          "name": "stderr",
          "text": [
            "epoch 378: 100%|██████████| 282/282 [00:07<00:00, 36.08it/s]\n"
          ]
        },
        {
          "output_type": "stream",
          "name": "stdout",
          "text": [
            "validation loss: 0.002303708132770326 at epoch 379\n",
            "learning_rate: 0.001\n"
          ]
        },
        {
          "output_type": "stream",
          "name": "stderr",
          "text": [
            "epoch 379: 100%|██████████| 282/282 [00:08<00:00, 32.04it/s]\n"
          ]
        },
        {
          "output_type": "stream",
          "name": "stdout",
          "text": [
            "validation loss: 0.0017978095826175478 at epoch 380\n",
            "learning_rate: 0.001\n"
          ]
        },
        {
          "output_type": "stream",
          "name": "stderr",
          "text": [
            "epoch 380: 100%|██████████| 282/282 [00:08<00:00, 32.09it/s]\n"
          ]
        },
        {
          "output_type": "stream",
          "name": "stdout",
          "text": [
            "validation loss: 0.002839466306898329 at epoch 381\n",
            "learning_rate: 0.001\n"
          ]
        },
        {
          "output_type": "stream",
          "name": "stderr",
          "text": [
            "epoch 381: 100%|██████████| 282/282 [00:07<00:00, 35.57it/s]\n"
          ]
        },
        {
          "output_type": "stream",
          "name": "stdout",
          "text": [
            "validation loss: 0.0028005314436223773 at epoch 382\n",
            "learning_rate: 0.001\n"
          ]
        },
        {
          "output_type": "stream",
          "name": "stderr",
          "text": [
            "epoch 382: 100%|██████████| 282/282 [00:08<00:00, 33.61it/s]\n"
          ]
        },
        {
          "output_type": "stream",
          "name": "stdout",
          "text": [
            "validation loss: 0.0022690774003664652 at epoch 383\n",
            "learning_rate: 0.001\n"
          ]
        },
        {
          "output_type": "stream",
          "name": "stderr",
          "text": [
            "epoch 383: 100%|██████████| 282/282 [00:08<00:00, 32.47it/s]\n"
          ]
        },
        {
          "output_type": "stream",
          "name": "stdout",
          "text": [
            "validation loss: 0.001289610447982947 at epoch 384\n",
            "learning_rate: 0.001\n"
          ]
        },
        {
          "output_type": "stream",
          "name": "stderr",
          "text": [
            "epoch 384: 100%|██████████| 282/282 [00:08<00:00, 32.42it/s]\n"
          ]
        },
        {
          "output_type": "stream",
          "name": "stdout",
          "text": [
            "validation loss: 0.0006081295365260708 at epoch 385\n",
            "learning_rate: 0.001\n"
          ]
        },
        {
          "output_type": "stream",
          "name": "stderr",
          "text": [
            "epoch 385: 100%|██████████| 282/282 [00:07<00:00, 35.85it/s]\n"
          ]
        },
        {
          "output_type": "stream",
          "name": "stdout",
          "text": [
            "validation loss: 0.0006246887118452125 at epoch 386\n",
            "learning_rate: 0.001\n"
          ]
        },
        {
          "output_type": "stream",
          "name": "stderr",
          "text": [
            "epoch 386: 100%|██████████| 282/282 [00:08<00:00, 32.24it/s]\n"
          ]
        },
        {
          "output_type": "stream",
          "name": "stdout",
          "text": [
            "validation loss: 0.0019061461786429087 at epoch 387\n",
            "learning_rate: 0.001\n"
          ]
        },
        {
          "output_type": "stream",
          "name": "stderr",
          "text": [
            "epoch 387: 100%|██████████| 282/282 [00:08<00:00, 32.26it/s]\n"
          ]
        },
        {
          "output_type": "stream",
          "name": "stdout",
          "text": [
            "validation loss: 0.0013492686665720409 at epoch 388\n",
            "learning_rate: 0.001\n"
          ]
        },
        {
          "output_type": "stream",
          "name": "stderr",
          "text": [
            "epoch 388: 100%|██████████| 282/282 [00:07<00:00, 35.34it/s]\n"
          ]
        },
        {
          "output_type": "stream",
          "name": "stdout",
          "text": [
            "validation loss: 0.0009925517849624158 at epoch 389\n",
            "learning_rate: 0.001\n"
          ]
        },
        {
          "output_type": "stream",
          "name": "stderr",
          "text": [
            "epoch 389: 100%|██████████| 282/282 [00:08<00:00, 31.74it/s]\n"
          ]
        },
        {
          "output_type": "stream",
          "name": "stdout",
          "text": [
            "validation loss: 0.0013991179366906483 at epoch 390\n",
            "learning_rate: 0.001\n"
          ]
        },
        {
          "output_type": "stream",
          "name": "stderr",
          "text": [
            "epoch 390: 100%|██████████| 282/282 [00:08<00:00, 32.35it/s]\n"
          ]
        },
        {
          "output_type": "stream",
          "name": "stdout",
          "text": [
            "validation loss: 0.0005242331197692289 at epoch 391\n",
            "learning_rate: 0.001\n"
          ]
        },
        {
          "output_type": "stream",
          "name": "stderr",
          "text": [
            "epoch 391: 100%|██████████| 282/282 [00:08<00:00, 34.55it/s]\n"
          ]
        },
        {
          "output_type": "stream",
          "name": "stdout",
          "text": [
            "validation loss: 0.000548804822895262 at epoch 392\n",
            "learning_rate: 0.001\n"
          ]
        },
        {
          "output_type": "stream",
          "name": "stderr",
          "text": [
            "epoch 392: 100%|██████████| 282/282 [00:08<00:00, 34.47it/s]\n"
          ]
        },
        {
          "output_type": "stream",
          "name": "stdout",
          "text": [
            "validation loss: 0.0009676595727602641 at epoch 393\n",
            "learning_rate: 0.001\n"
          ]
        },
        {
          "output_type": "stream",
          "name": "stderr",
          "text": [
            "epoch 393: 100%|██████████| 282/282 [00:08<00:00, 32.12it/s]\n"
          ]
        },
        {
          "output_type": "stream",
          "name": "stdout",
          "text": [
            "validation loss: 0.0016363105956051084 at epoch 394\n",
            "learning_rate: 0.001\n"
          ]
        },
        {
          "output_type": "stream",
          "name": "stderr",
          "text": [
            "epoch 394: 100%|██████████| 282/282 [00:08<00:00, 32.18it/s]\n"
          ]
        },
        {
          "output_type": "stream",
          "name": "stdout",
          "text": [
            "validation loss: 0.0020242265661557517 at epoch 395\n",
            "learning_rate: 0.001\n"
          ]
        },
        {
          "output_type": "stream",
          "name": "stderr",
          "text": [
            "epoch 395: 100%|██████████| 282/282 [00:07<00:00, 35.97it/s]\n"
          ]
        },
        {
          "output_type": "stream",
          "name": "stdout",
          "text": [
            "validation loss: 0.0028243704636891683 at epoch 396\n",
            "learning_rate: 0.001\n"
          ]
        },
        {
          "output_type": "stream",
          "name": "stderr",
          "text": [
            "epoch 396: 100%|██████████| 282/282 [00:08<00:00, 32.39it/s]\n"
          ]
        },
        {
          "output_type": "stream",
          "name": "stdout",
          "text": [
            "validation loss: 0.0010496091610855526 at epoch 397\n",
            "learning_rate: 0.001\n"
          ]
        },
        {
          "output_type": "stream",
          "name": "stderr",
          "text": [
            "epoch 397: 100%|██████████| 282/282 [00:08<00:00, 32.47it/s]\n"
          ]
        },
        {
          "output_type": "stream",
          "name": "stdout",
          "text": [
            "validation loss: 0.0004697532984945509 at epoch 398\n",
            "learning_rate: 0.001\n",
            "model saved in ani_acrolein.pt\n"
          ]
        },
        {
          "output_type": "stream",
          "name": "stderr",
          "text": [
            "epoch 398: 100%|██████████| 282/282 [00:07<00:00, 35.54it/s]\n"
          ]
        },
        {
          "output_type": "stream",
          "name": "stdout",
          "text": [
            "validation loss: 0.0011022474020719528 at epoch 399\n",
            "learning_rate: 0.001\n"
          ]
        },
        {
          "output_type": "stream",
          "name": "stderr",
          "text": [
            "epoch 399: 100%|██████████| 282/282 [00:08<00:00, 33.13it/s]\n"
          ]
        },
        {
          "output_type": "stream",
          "name": "stdout",
          "text": [
            "validation loss: 0.0016107026512424151 at epoch 400\n",
            "learning_rate: 0.001\n"
          ]
        },
        {
          "output_type": "stream",
          "name": "stderr",
          "text": [
            "epoch 400: 100%|██████████| 282/282 [00:08<00:00, 31.42it/s]\n"
          ]
        },
        {
          "output_type": "stream",
          "name": "stdout",
          "text": [
            "validation loss: 0.0006792438419328796 at epoch 401\n",
            "learning_rate: 0.001\n"
          ]
        },
        {
          "output_type": "stream",
          "name": "stderr",
          "text": [
            "epoch 401: 100%|██████████| 282/282 [00:08<00:00, 32.52it/s]\n"
          ]
        },
        {
          "output_type": "stream",
          "name": "stdout",
          "text": [
            "validation loss: 0.001897245176964336 at epoch 402\n",
            "learning_rate: 0.001\n"
          ]
        },
        {
          "output_type": "stream",
          "name": "stderr",
          "text": [
            "epoch 402: 100%|██████████| 282/282 [00:08<00:00, 34.56it/s]\n"
          ]
        },
        {
          "output_type": "stream",
          "name": "stdout",
          "text": [
            "validation loss: 0.0015369198736217287 at epoch 403\n",
            "learning_rate: 0.001\n"
          ]
        },
        {
          "output_type": "stream",
          "name": "stderr",
          "text": [
            "epoch 403: 100%|██████████| 282/282 [00:08<00:00, 32.46it/s]\n"
          ]
        },
        {
          "output_type": "stream",
          "name": "stdout",
          "text": [
            "validation loss: 0.0017638965075214704 at epoch 404\n",
            "learning_rate: 0.001\n"
          ]
        },
        {
          "output_type": "stream",
          "name": "stderr",
          "text": [
            "epoch 404: 100%|██████████| 282/282 [00:08<00:00, 31.65it/s]\n"
          ]
        },
        {
          "output_type": "stream",
          "name": "stdout",
          "text": [
            "validation loss: 0.0018299389829238256 at epoch 405\n",
            "learning_rate: 0.001\n"
          ]
        },
        {
          "output_type": "stream",
          "name": "stderr",
          "text": [
            "epoch 405: 100%|██████████| 282/282 [00:08<00:00, 35.22it/s]\n"
          ]
        },
        {
          "output_type": "stream",
          "name": "stdout",
          "text": [
            "validation loss: 0.003647748765018251 at epoch 406\n",
            "learning_rate: 0.001\n"
          ]
        },
        {
          "output_type": "stream",
          "name": "stderr",
          "text": [
            "epoch 406: 100%|██████████| 282/282 [00:09<00:00, 31.04it/s]\n"
          ]
        },
        {
          "output_type": "stream",
          "name": "stdout",
          "text": [
            "validation loss: 0.00092043904422058 at epoch 407\n",
            "learning_rate: 0.001\n"
          ]
        },
        {
          "output_type": "stream",
          "name": "stderr",
          "text": [
            "epoch 407: 100%|██████████| 282/282 [00:08<00:00, 31.53it/s]\n"
          ]
        },
        {
          "output_type": "stream",
          "name": "stdout",
          "text": [
            "validation loss: 0.002264860259162055 at epoch 408\n",
            "learning_rate: 0.001\n"
          ]
        },
        {
          "output_type": "stream",
          "name": "stderr",
          "text": [
            "epoch 408: 100%|██████████| 282/282 [00:08<00:00, 32.42it/s]\n"
          ]
        },
        {
          "output_type": "stream",
          "name": "stdout",
          "text": [
            "validation loss: 0.0013350706083907022 at epoch 409\n",
            "learning_rate: 0.001\n"
          ]
        },
        {
          "output_type": "stream",
          "name": "stderr",
          "text": [
            "epoch 409: 100%|██████████| 282/282 [00:08<00:00, 34.20it/s]\n"
          ]
        },
        {
          "output_type": "stream",
          "name": "stdout",
          "text": [
            "validation loss: 0.00296936297416687 at epoch 410\n",
            "learning_rate: 0.001\n"
          ]
        },
        {
          "output_type": "stream",
          "name": "stderr",
          "text": [
            "epoch 410: 100%|██████████| 282/282 [00:09<00:00, 31.24it/s]\n"
          ]
        },
        {
          "output_type": "stream",
          "name": "stdout",
          "text": [
            "validation loss: 0.0008335041519668367 at epoch 411\n",
            "learning_rate: 0.001\n"
          ]
        },
        {
          "output_type": "stream",
          "name": "stderr",
          "text": [
            "epoch 411: 100%|██████████| 282/282 [00:08<00:00, 31.60it/s]\n"
          ]
        },
        {
          "output_type": "stream",
          "name": "stdout",
          "text": [
            "validation loss: 0.0012064310842090182 at epoch 412\n",
            "learning_rate: 0.001\n"
          ]
        },
        {
          "output_type": "stream",
          "name": "stderr",
          "text": [
            "epoch 412: 100%|██████████| 282/282 [00:08<00:00, 34.46it/s]\n"
          ]
        },
        {
          "output_type": "stream",
          "name": "stdout",
          "text": [
            "validation loss: 0.0006593539797597461 at epoch 413\n",
            "learning_rate: 0.001\n"
          ]
        },
        {
          "output_type": "stream",
          "name": "stderr",
          "text": [
            "epoch 413: 100%|██████████| 282/282 [00:08<00:00, 31.75it/s]\n"
          ]
        },
        {
          "output_type": "stream",
          "name": "stdout",
          "text": [
            "validation loss: 0.0007119868770241737 at epoch 414\n",
            "learning_rate: 0.001\n"
          ]
        },
        {
          "output_type": "stream",
          "name": "stderr",
          "text": [
            "epoch 414: 100%|██████████| 282/282 [00:09<00:00, 31.21it/s]\n"
          ]
        },
        {
          "output_type": "stream",
          "name": "stdout",
          "text": [
            "validation loss: 0.0007109829713073042 at epoch 415\n",
            "learning_rate: 0.001\n"
          ]
        },
        {
          "output_type": "stream",
          "name": "stderr",
          "text": [
            "epoch 415: 100%|██████████| 282/282 [00:08<00:00, 31.58it/s]\n"
          ]
        },
        {
          "output_type": "stream",
          "name": "stdout",
          "text": [
            "validation loss: 0.001960815413130654 at epoch 416\n",
            "learning_rate: 0.001\n"
          ]
        },
        {
          "output_type": "stream",
          "name": "stderr",
          "text": [
            "epoch 416: 100%|██████████| 282/282 [00:08<00:00, 34.82it/s]\n"
          ]
        },
        {
          "output_type": "stream",
          "name": "stdout",
          "text": [
            "validation loss: 0.0005819737892597914 at epoch 417\n",
            "learning_rate: 0.001\n"
          ]
        },
        {
          "output_type": "stream",
          "name": "stderr",
          "text": [
            "epoch 417: 100%|██████████| 282/282 [00:08<00:00, 31.47it/s]\n"
          ]
        },
        {
          "output_type": "stream",
          "name": "stdout",
          "text": [
            "validation loss: 0.0018006804833809536 at epoch 418\n",
            "learning_rate: 0.001\n"
          ]
        },
        {
          "output_type": "stream",
          "name": "stderr",
          "text": [
            "epoch 418: 100%|██████████| 282/282 [00:08<00:00, 31.52it/s]\n"
          ]
        },
        {
          "output_type": "stream",
          "name": "stdout",
          "text": [
            "validation loss: 0.0007657427688439687 at epoch 419\n",
            "learning_rate: 0.001\n"
          ]
        },
        {
          "output_type": "stream",
          "name": "stderr",
          "text": [
            "epoch 419: 100%|██████████| 282/282 [00:08<00:00, 33.34it/s]\n"
          ]
        },
        {
          "output_type": "stream",
          "name": "stdout",
          "text": [
            "validation loss: 0.0013737388658854697 at epoch 420\n",
            "learning_rate: 0.001\n"
          ]
        },
        {
          "output_type": "stream",
          "name": "stderr",
          "text": [
            "epoch 420: 100%|██████████| 282/282 [00:08<00:00, 33.23it/s]\n"
          ]
        },
        {
          "output_type": "stream",
          "name": "stdout",
          "text": [
            "validation loss: 0.001015622747855054 at epoch 421\n",
            "learning_rate: 0.001\n"
          ]
        },
        {
          "output_type": "stream",
          "name": "stderr",
          "text": [
            "epoch 421: 100%|██████████| 282/282 [00:09<00:00, 31.00it/s]\n"
          ]
        },
        {
          "output_type": "stream",
          "name": "stdout",
          "text": [
            "validation loss: 0.0009786385649608242 at epoch 422\n",
            "learning_rate: 0.001\n"
          ]
        },
        {
          "output_type": "stream",
          "name": "stderr",
          "text": [
            "epoch 422: 100%|██████████| 282/282 [00:09<00:00, 31.17it/s]\n"
          ]
        },
        {
          "output_type": "stream",
          "name": "stdout",
          "text": [
            "validation loss: 0.00047352876596980627 at epoch 423\n",
            "learning_rate: 0.001\n"
          ]
        },
        {
          "output_type": "stream",
          "name": "stderr",
          "text": [
            "epoch 423: 100%|██████████| 282/282 [00:07<00:00, 35.52it/s]\n"
          ]
        },
        {
          "output_type": "stream",
          "name": "stdout",
          "text": [
            "validation loss: 0.0004922663532197475 at epoch 424\n",
            "learning_rate: 0.001\n"
          ]
        },
        {
          "output_type": "stream",
          "name": "stderr",
          "text": [
            "epoch 424: 100%|██████████| 282/282 [00:08<00:00, 32.08it/s]\n"
          ]
        },
        {
          "output_type": "stream",
          "name": "stdout",
          "text": [
            "validation loss: 0.001893447435564465 at epoch 425\n",
            "learning_rate: 0.001\n"
          ]
        },
        {
          "output_type": "stream",
          "name": "stderr",
          "text": [
            "epoch 425: 100%|██████████| 282/282 [00:09<00:00, 30.83it/s]\n"
          ]
        },
        {
          "output_type": "stream",
          "name": "stdout",
          "text": [
            "validation loss: 0.0009462519453631507 at epoch 426\n",
            "learning_rate: 0.001\n"
          ]
        },
        {
          "output_type": "stream",
          "name": "stderr",
          "text": [
            "epoch 426: 100%|██████████| 282/282 [00:09<00:00, 30.75it/s]\n"
          ]
        },
        {
          "output_type": "stream",
          "name": "stdout",
          "text": [
            "validation loss: 0.0005915259114570088 at epoch 427\n",
            "learning_rate: 0.001\n"
          ]
        },
        {
          "output_type": "stream",
          "name": "stderr",
          "text": [
            "epoch 427: 100%|██████████| 282/282 [00:08<00:00, 33.36it/s]\n"
          ]
        },
        {
          "output_type": "stream",
          "name": "stdout",
          "text": [
            "validation loss: 0.0034651345676845976 at epoch 428\n",
            "learning_rate: 0.001\n"
          ]
        },
        {
          "output_type": "stream",
          "name": "stderr",
          "text": [
            "epoch 428: 100%|██████████| 282/282 [00:08<00:00, 31.58it/s]\n"
          ]
        },
        {
          "output_type": "stream",
          "name": "stdout",
          "text": [
            "validation loss: 0.0022290284782648085 at epoch 429\n",
            "learning_rate: 0.001\n"
          ]
        },
        {
          "output_type": "stream",
          "name": "stderr",
          "text": [
            "epoch 429: 100%|██████████| 282/282 [00:09<00:00, 31.16it/s]\n"
          ]
        },
        {
          "output_type": "stream",
          "name": "stdout",
          "text": [
            "validation loss: 0.0017275240901443694 at epoch 430\n",
            "learning_rate: 0.001\n"
          ]
        },
        {
          "output_type": "stream",
          "name": "stderr",
          "text": [
            "epoch 430: 100%|██████████| 282/282 [00:08<00:00, 33.73it/s]\n"
          ]
        },
        {
          "output_type": "stream",
          "name": "stdout",
          "text": [
            "validation loss: 0.0007404880846540133 at epoch 431\n",
            "learning_rate: 0.001\n"
          ]
        },
        {
          "output_type": "stream",
          "name": "stderr",
          "text": [
            "epoch 431: 100%|██████████| 282/282 [00:08<00:00, 34.13it/s]\n"
          ]
        },
        {
          "output_type": "stream",
          "name": "stdout",
          "text": [
            "validation loss: 0.005118001163005829 at epoch 432\n",
            "learning_rate: 0.001\n"
          ]
        },
        {
          "output_type": "stream",
          "name": "stderr",
          "text": [
            "epoch 432: 100%|██████████| 282/282 [00:08<00:00, 32.14it/s]\n"
          ]
        },
        {
          "output_type": "stream",
          "name": "stdout",
          "text": [
            "validation loss: 0.0031313122229443655 at epoch 433\n",
            "learning_rate: 0.001\n"
          ]
        },
        {
          "output_type": "stream",
          "name": "stderr",
          "text": [
            "epoch 433: 100%|██████████| 282/282 [00:09<00:00, 31.07it/s]\n"
          ]
        },
        {
          "output_type": "stream",
          "name": "stdout",
          "text": [
            "validation loss: 0.005418966955608792 at epoch 434\n",
            "learning_rate: 0.001\n"
          ]
        },
        {
          "output_type": "stream",
          "name": "stderr",
          "text": [
            "epoch 434: 100%|██████████| 282/282 [00:08<00:00, 34.97it/s]\n"
          ]
        },
        {
          "output_type": "stream",
          "name": "stdout",
          "text": [
            "validation loss: 0.0006758989004625215 at epoch 435\n",
            "learning_rate: 0.001\n"
          ]
        },
        {
          "output_type": "stream",
          "name": "stderr",
          "text": [
            "epoch 435: 100%|██████████| 282/282 [00:08<00:00, 31.96it/s]\n"
          ]
        },
        {
          "output_type": "stream",
          "name": "stdout",
          "text": [
            "validation loss: 0.0022296167131927278 at epoch 436\n",
            "learning_rate: 0.001\n"
          ]
        },
        {
          "output_type": "stream",
          "name": "stderr",
          "text": [
            "epoch 436: 100%|██████████| 282/282 [00:08<00:00, 31.99it/s]\n"
          ]
        },
        {
          "output_type": "stream",
          "name": "stdout",
          "text": [
            "validation loss: 0.0012699892098704973 at epoch 437\n",
            "learning_rate: 0.001\n"
          ]
        },
        {
          "output_type": "stream",
          "name": "stderr",
          "text": [
            "epoch 437: 100%|██████████| 282/282 [00:08<00:00, 33.64it/s]\n"
          ]
        },
        {
          "output_type": "stream",
          "name": "stdout",
          "text": [
            "validation loss: 0.002164668396115303 at epoch 438\n",
            "learning_rate: 0.001\n"
          ]
        },
        {
          "output_type": "stream",
          "name": "stderr",
          "text": [
            "epoch 438: 100%|██████████| 282/282 [00:08<00:00, 34.70it/s]\n"
          ]
        },
        {
          "output_type": "stream",
          "name": "stdout",
          "text": [
            "validation loss: 0.0008353684797055192 at epoch 439\n",
            "learning_rate: 0.001\n"
          ]
        },
        {
          "output_type": "stream",
          "name": "stderr",
          "text": [
            "epoch 439: 100%|██████████| 282/282 [00:08<00:00, 31.72it/s]\n"
          ]
        },
        {
          "output_type": "stream",
          "name": "stdout",
          "text": [
            "validation loss: 0.0011695957250065273 at epoch 440\n",
            "learning_rate: 0.001\n"
          ]
        },
        {
          "output_type": "stream",
          "name": "stderr",
          "text": [
            "epoch 440: 100%|██████████| 282/282 [00:08<00:00, 32.48it/s]\n"
          ]
        },
        {
          "output_type": "stream",
          "name": "stdout",
          "text": [
            "validation loss: 0.0031991319408019385 at epoch 441\n",
            "learning_rate: 0.001\n"
          ]
        },
        {
          "output_type": "stream",
          "name": "stderr",
          "text": [
            "epoch 441: 100%|██████████| 282/282 [00:07<00:00, 35.65it/s]\n"
          ]
        },
        {
          "output_type": "stream",
          "name": "stdout",
          "text": [
            "validation loss: 0.0012245948107706176 at epoch 442\n",
            "learning_rate: 0.001\n"
          ]
        },
        {
          "output_type": "stream",
          "name": "stderr",
          "text": [
            "epoch 442: 100%|██████████| 282/282 [00:08<00:00, 32.31it/s]\n"
          ]
        },
        {
          "output_type": "stream",
          "name": "stdout",
          "text": [
            "validation loss: 0.001675563905802038 at epoch 443\n",
            "learning_rate: 0.001\n"
          ]
        },
        {
          "output_type": "stream",
          "name": "stderr",
          "text": [
            "epoch 443: 100%|██████████| 282/282 [00:08<00:00, 32.11it/s]\n"
          ]
        },
        {
          "output_type": "stream",
          "name": "stdout",
          "text": [
            "validation loss: 0.0004905642374522156 at epoch 444\n",
            "learning_rate: 0.001\n"
          ]
        },
        {
          "output_type": "stream",
          "name": "stderr",
          "text": [
            "epoch 444: 100%|██████████| 282/282 [00:08<00:00, 35.21it/s]\n"
          ]
        },
        {
          "output_type": "stream",
          "name": "stdout",
          "text": [
            "validation loss: 0.001172606323328283 at epoch 445\n",
            "learning_rate: 0.001\n"
          ]
        },
        {
          "output_type": "stream",
          "name": "stderr",
          "text": [
            "epoch 445: 100%|██████████| 282/282 [00:08<00:00, 32.74it/s]\n"
          ]
        },
        {
          "output_type": "stream",
          "name": "stdout",
          "text": [
            "validation loss: 0.0016724143375953038 at epoch 446\n",
            "learning_rate: 0.001\n"
          ]
        },
        {
          "output_type": "stream",
          "name": "stderr",
          "text": [
            "epoch 446: 100%|██████████| 282/282 [00:08<00:00, 32.12it/s]\n"
          ]
        },
        {
          "output_type": "stream",
          "name": "stdout",
          "text": [
            "validation loss: 0.0007710356248749627 at epoch 447\n",
            "learning_rate: 0.001\n"
          ]
        },
        {
          "output_type": "stream",
          "name": "stderr",
          "text": [
            "epoch 447: 100%|██████████| 282/282 [00:08<00:00, 32.75it/s]\n"
          ]
        },
        {
          "output_type": "stream",
          "name": "stdout",
          "text": [
            "validation loss: 0.0031403738094700705 at epoch 448\n",
            "learning_rate: 0.001\n"
          ]
        },
        {
          "output_type": "stream",
          "name": "stderr",
          "text": [
            "epoch 448: 100%|██████████| 282/282 [00:07<00:00, 35.42it/s]\n"
          ]
        },
        {
          "output_type": "stream",
          "name": "stdout",
          "text": [
            "validation loss: 0.0006677994624608093 at epoch 449\n",
            "learning_rate: 0.001\n"
          ]
        },
        {
          "output_type": "stream",
          "name": "stderr",
          "text": [
            "epoch 449: 100%|██████████| 282/282 [00:08<00:00, 32.50it/s]\n"
          ]
        },
        {
          "output_type": "stream",
          "name": "stdout",
          "text": [
            "validation loss: 0.0008317013304266665 at epoch 450\n",
            "learning_rate: 0.0008\n"
          ]
        },
        {
          "output_type": "stream",
          "name": "stderr",
          "text": [
            "epoch 450: 100%|██████████| 282/282 [00:08<00:00, 31.71it/s]\n"
          ]
        },
        {
          "output_type": "stream",
          "name": "stdout",
          "text": [
            "validation loss: 0.0010620128570331467 at epoch 451\n",
            "learning_rate: 0.0008\n"
          ]
        },
        {
          "output_type": "stream",
          "name": "stderr",
          "text": [
            "epoch 451: 100%|██████████| 282/282 [00:07<00:00, 35.70it/s]\n"
          ]
        },
        {
          "output_type": "stream",
          "name": "stdout",
          "text": [
            "validation loss: 0.0028314803623490864 at epoch 452\n",
            "learning_rate: 0.0008\n"
          ]
        },
        {
          "output_type": "stream",
          "name": "stderr",
          "text": [
            "epoch 452: 100%|██████████| 282/282 [00:08<00:00, 31.44it/s]\n"
          ]
        },
        {
          "output_type": "stream",
          "name": "stdout",
          "text": [
            "validation loss: 0.0020631399469243157 at epoch 453\n",
            "learning_rate: 0.0008\n"
          ]
        },
        {
          "output_type": "stream",
          "name": "stderr",
          "text": [
            "epoch 453: 100%|██████████| 282/282 [00:08<00:00, 32.29it/s]\n"
          ]
        },
        {
          "output_type": "stream",
          "name": "stdout",
          "text": [
            "validation loss: 0.001751186842719714 at epoch 454\n",
            "learning_rate: 0.0008\n"
          ]
        },
        {
          "output_type": "stream",
          "name": "stderr",
          "text": [
            "epoch 454: 100%|██████████| 282/282 [00:07<00:00, 35.39it/s]\n"
          ]
        },
        {
          "output_type": "stream",
          "name": "stdout",
          "text": [
            "validation loss: 0.001151701038910283 at epoch 455\n",
            "learning_rate: 0.0008\n"
          ]
        },
        {
          "output_type": "stream",
          "name": "stderr",
          "text": [
            "epoch 455: 100%|██████████| 282/282 [00:08<00:00, 33.23it/s]\n"
          ]
        },
        {
          "output_type": "stream",
          "name": "stdout",
          "text": [
            "validation loss: 0.0011005549157659213 at epoch 456\n",
            "learning_rate: 0.0008\n"
          ]
        },
        {
          "output_type": "stream",
          "name": "stderr",
          "text": [
            "epoch 456: 100%|██████████| 282/282 [00:09<00:00, 31.29it/s]\n"
          ]
        },
        {
          "output_type": "stream",
          "name": "stdout",
          "text": [
            "validation loss: 0.0005479229759011003 at epoch 457\n",
            "learning_rate: 0.0008\n"
          ]
        },
        {
          "output_type": "stream",
          "name": "stderr",
          "text": [
            "epoch 457: 100%|██████████| 282/282 [00:08<00:00, 33.10it/s]\n"
          ]
        },
        {
          "output_type": "stream",
          "name": "stdout",
          "text": [
            "validation loss: 0.0005146322113772233 at epoch 458\n",
            "learning_rate: 0.0008\n"
          ]
        },
        {
          "output_type": "stream",
          "name": "stderr",
          "text": [
            "epoch 458: 100%|██████████| 282/282 [00:07<00:00, 35.28it/s]\n"
          ]
        },
        {
          "output_type": "stream",
          "name": "stdout",
          "text": [
            "validation loss: 0.0012362234882182545 at epoch 459\n",
            "learning_rate: 0.0008\n"
          ]
        },
        {
          "output_type": "stream",
          "name": "stderr",
          "text": [
            "epoch 459: 100%|██████████| 282/282 [00:08<00:00, 32.47it/s]\n"
          ]
        },
        {
          "output_type": "stream",
          "name": "stdout",
          "text": [
            "validation loss: 0.002374157672127088 at epoch 460\n",
            "learning_rate: 0.0008\n"
          ]
        },
        {
          "output_type": "stream",
          "name": "stderr",
          "text": [
            "epoch 460: 100%|██████████| 282/282 [00:08<00:00, 31.46it/s]\n"
          ]
        },
        {
          "output_type": "stream",
          "name": "stdout",
          "text": [
            "validation loss: 0.0007461490734583802 at epoch 461\n",
            "learning_rate: 0.0008\n"
          ]
        },
        {
          "output_type": "stream",
          "name": "stderr",
          "text": [
            "epoch 461: 100%|██████████| 282/282 [00:07<00:00, 35.74it/s]\n"
          ]
        },
        {
          "output_type": "stream",
          "name": "stdout",
          "text": [
            "validation loss: 0.0010873636959327592 at epoch 462\n",
            "learning_rate: 0.0008\n"
          ]
        },
        {
          "output_type": "stream",
          "name": "stderr",
          "text": [
            "epoch 462: 100%|██████████| 282/282 [00:08<00:00, 31.94it/s]\n"
          ]
        },
        {
          "output_type": "stream",
          "name": "stdout",
          "text": [
            "validation loss: 0.0019134614417950313 at epoch 463\n",
            "learning_rate: 0.0008\n"
          ]
        },
        {
          "output_type": "stream",
          "name": "stderr",
          "text": [
            "epoch 463: 100%|██████████| 282/282 [00:08<00:00, 32.07it/s]\n"
          ]
        },
        {
          "output_type": "stream",
          "name": "stdout",
          "text": [
            "validation loss: 0.0007887497598098384 at epoch 464\n",
            "learning_rate: 0.0008\n"
          ]
        },
        {
          "output_type": "stream",
          "name": "stderr",
          "text": [
            "epoch 464: 100%|██████████| 282/282 [00:08<00:00, 34.67it/s]\n"
          ]
        },
        {
          "output_type": "stream",
          "name": "stdout",
          "text": [
            "validation loss: 0.00047895784158673554 at epoch 465\n",
            "learning_rate: 0.0008\n"
          ]
        },
        {
          "output_type": "stream",
          "name": "stderr",
          "text": [
            "epoch 465: 100%|██████████| 282/282 [00:08<00:00, 33.49it/s]\n"
          ]
        },
        {
          "output_type": "stream",
          "name": "stdout",
          "text": [
            "validation loss: 0.0011962779288490614 at epoch 466\n",
            "learning_rate: 0.0008\n"
          ]
        },
        {
          "output_type": "stream",
          "name": "stderr",
          "text": [
            "epoch 466: 100%|██████████| 282/282 [00:08<00:00, 31.73it/s]\n"
          ]
        },
        {
          "output_type": "stream",
          "name": "stdout",
          "text": [
            "validation loss: 0.001152045187022951 at epoch 467\n",
            "learning_rate: 0.0008\n"
          ]
        },
        {
          "output_type": "stream",
          "name": "stderr",
          "text": [
            "epoch 467: 100%|██████████| 282/282 [00:08<00:00, 33.17it/s]\n"
          ]
        },
        {
          "output_type": "stream",
          "name": "stdout",
          "text": [
            "validation loss: 0.0026680882589684594 at epoch 468\n",
            "learning_rate: 0.0008\n"
          ]
        },
        {
          "output_type": "stream",
          "name": "stderr",
          "text": [
            "epoch 468: 100%|██████████| 282/282 [00:08<00:00, 35.25it/s]\n"
          ]
        },
        {
          "output_type": "stream",
          "name": "stdout",
          "text": [
            "validation loss: 0.0005499691843158669 at epoch 469\n",
            "learning_rate: 0.0008\n"
          ]
        },
        {
          "output_type": "stream",
          "name": "stderr",
          "text": [
            "epoch 469: 100%|██████████| 282/282 [00:08<00:00, 32.35it/s]\n"
          ]
        },
        {
          "output_type": "stream",
          "name": "stdout",
          "text": [
            "validation loss: 0.0007953721065488127 at epoch 470\n",
            "learning_rate: 0.0008\n"
          ]
        },
        {
          "output_type": "stream",
          "name": "stderr",
          "text": [
            "epoch 470: 100%|██████████| 282/282 [00:08<00:00, 31.68it/s]\n"
          ]
        },
        {
          "output_type": "stream",
          "name": "stdout",
          "text": [
            "validation loss: 0.0025970620314280193 at epoch 471\n",
            "learning_rate: 0.0008\n"
          ]
        },
        {
          "output_type": "stream",
          "name": "stderr",
          "text": [
            "epoch 471: 100%|██████████| 282/282 [00:07<00:00, 35.84it/s]\n"
          ]
        },
        {
          "output_type": "stream",
          "name": "stdout",
          "text": [
            "validation loss: 0.001730206947359774 at epoch 472\n",
            "learning_rate: 0.0008\n"
          ]
        },
        {
          "output_type": "stream",
          "name": "stderr",
          "text": [
            "epoch 472: 100%|██████████| 282/282 [00:08<00:00, 31.82it/s]\n"
          ]
        },
        {
          "output_type": "stream",
          "name": "stdout",
          "text": [
            "validation loss: 0.002100340379609002 at epoch 473\n",
            "learning_rate: 0.0008\n"
          ]
        },
        {
          "output_type": "stream",
          "name": "stderr",
          "text": [
            "epoch 473: 100%|██████████| 282/282 [00:08<00:00, 31.93it/s]\n"
          ]
        },
        {
          "output_type": "stream",
          "name": "stdout",
          "text": [
            "validation loss: 0.0007576572361091773 at epoch 474\n",
            "learning_rate: 0.0008\n"
          ]
        },
        {
          "output_type": "stream",
          "name": "stderr",
          "text": [
            "epoch 474: 100%|██████████| 282/282 [00:08<00:00, 33.77it/s]\n"
          ]
        },
        {
          "output_type": "stream",
          "name": "stdout",
          "text": [
            "validation loss: 0.0025349979284736844 at epoch 475\n",
            "learning_rate: 0.0008\n"
          ]
        },
        {
          "output_type": "stream",
          "name": "stderr",
          "text": [
            "epoch 475: 100%|██████████| 282/282 [00:08<00:00, 33.26it/s]\n"
          ]
        },
        {
          "output_type": "stream",
          "name": "stdout",
          "text": [
            "validation loss: 0.000802538737654686 at epoch 476\n",
            "learning_rate: 0.0008\n"
          ]
        },
        {
          "output_type": "stream",
          "name": "stderr",
          "text": [
            "epoch 476: 100%|██████████| 282/282 [00:08<00:00, 31.70it/s]\n"
          ]
        },
        {
          "output_type": "stream",
          "name": "stdout",
          "text": [
            "validation loss: 0.0004808325893763039 at epoch 477\n",
            "learning_rate: 0.0008\n"
          ]
        },
        {
          "output_type": "stream",
          "name": "stderr",
          "text": [
            "epoch 477: 100%|██████████| 282/282 [00:08<00:00, 32.68it/s]\n"
          ]
        },
        {
          "output_type": "stream",
          "name": "stdout",
          "text": [
            "validation loss: 0.0017905866652727126 at epoch 478\n",
            "learning_rate: 0.0008\n"
          ]
        },
        {
          "output_type": "stream",
          "name": "stderr",
          "text": [
            "epoch 478: 100%|██████████| 282/282 [00:08<00:00, 35.16it/s]\n"
          ]
        },
        {
          "output_type": "stream",
          "name": "stdout",
          "text": [
            "validation loss: 0.0013431064726577866 at epoch 479\n",
            "learning_rate: 0.0008\n"
          ]
        },
        {
          "output_type": "stream",
          "name": "stderr",
          "text": [
            "epoch 479: 100%|██████████| 282/282 [00:08<00:00, 32.04it/s]\n"
          ]
        },
        {
          "output_type": "stream",
          "name": "stdout",
          "text": [
            "validation loss: 0.0004219587047894796 at epoch 480\n",
            "learning_rate: 0.0008\n",
            "model saved in ani_acrolein.pt\n"
          ]
        },
        {
          "output_type": "stream",
          "name": "stderr",
          "text": [
            "epoch 480: 100%|██████████| 282/282 [00:08<00:00, 32.07it/s]\n"
          ]
        },
        {
          "output_type": "stream",
          "name": "stdout",
          "text": [
            "validation loss: 0.0025804819100432924 at epoch 481\n",
            "learning_rate: 0.0008\n"
          ]
        },
        {
          "output_type": "stream",
          "name": "stderr",
          "text": [
            "epoch 481: 100%|██████████| 282/282 [00:07<00:00, 35.70it/s]\n"
          ]
        },
        {
          "output_type": "stream",
          "name": "stdout",
          "text": [
            "validation loss: 0.0004397581737074587 at epoch 482\n",
            "learning_rate: 0.0008\n"
          ]
        },
        {
          "output_type": "stream",
          "name": "stderr",
          "text": [
            "epoch 482: 100%|██████████| 282/282 [00:08<00:00, 32.26it/s]\n"
          ]
        },
        {
          "output_type": "stream",
          "name": "stdout",
          "text": [
            "validation loss: 0.0008888235816525089 at epoch 483\n",
            "learning_rate: 0.0008\n"
          ]
        },
        {
          "output_type": "stream",
          "name": "stderr",
          "text": [
            "epoch 483: 100%|██████████| 282/282 [00:08<00:00, 31.61it/s]\n"
          ]
        },
        {
          "output_type": "stream",
          "name": "stdout",
          "text": [
            "validation loss: 0.0014584739241335126 at epoch 484\n",
            "learning_rate: 0.0008\n"
          ]
        },
        {
          "output_type": "stream",
          "name": "stderr",
          "text": [
            "epoch 484: 100%|██████████| 282/282 [00:08<00:00, 33.90it/s]\n"
          ]
        },
        {
          "output_type": "stream",
          "name": "stdout",
          "text": [
            "validation loss: 0.0005623247420622243 at epoch 485\n",
            "learning_rate: 0.0008\n"
          ]
        },
        {
          "output_type": "stream",
          "name": "stderr",
          "text": [
            "epoch 485: 100%|██████████| 282/282 [00:08<00:00, 34.02it/s]\n"
          ]
        },
        {
          "output_type": "stream",
          "name": "stdout",
          "text": [
            "validation loss: 0.0014004857788483302 at epoch 486\n",
            "learning_rate: 0.0008\n"
          ]
        },
        {
          "output_type": "stream",
          "name": "stderr",
          "text": [
            "epoch 486: 100%|██████████| 282/282 [00:08<00:00, 31.90it/s]\n"
          ]
        },
        {
          "output_type": "stream",
          "name": "stdout",
          "text": [
            "validation loss: 0.0006038020207650132 at epoch 487\n",
            "learning_rate: 0.0008\n"
          ]
        },
        {
          "output_type": "stream",
          "name": "stderr",
          "text": [
            "epoch 487: 100%|██████████| 282/282 [00:08<00:00, 32.18it/s]\n"
          ]
        },
        {
          "output_type": "stream",
          "name": "stdout",
          "text": [
            "validation loss: 0.002923076214061843 at epoch 488\n",
            "learning_rate: 0.0008\n"
          ]
        },
        {
          "output_type": "stream",
          "name": "stderr",
          "text": [
            "epoch 488: 100%|██████████| 282/282 [00:07<00:00, 35.56it/s]\n"
          ]
        },
        {
          "output_type": "stream",
          "name": "stdout",
          "text": [
            "validation loss: 0.0014394067997733752 at epoch 489\n",
            "learning_rate: 0.0008\n"
          ]
        },
        {
          "output_type": "stream",
          "name": "stderr",
          "text": [
            "epoch 489: 100%|██████████| 282/282 [00:08<00:00, 31.87it/s]\n"
          ]
        },
        {
          "output_type": "stream",
          "name": "stdout",
          "text": [
            "validation loss: 0.00047232012243734464 at epoch 490\n",
            "learning_rate: 0.0008\n"
          ]
        },
        {
          "output_type": "stream",
          "name": "stderr",
          "text": [
            "epoch 490: 100%|██████████| 282/282 [00:08<00:00, 31.66it/s]\n"
          ]
        },
        {
          "output_type": "stream",
          "name": "stdout",
          "text": [
            "validation loss: 0.0007036738225983249 at epoch 491\n",
            "learning_rate: 0.0008\n"
          ]
        },
        {
          "output_type": "stream",
          "name": "stderr",
          "text": [
            "epoch 491: 100%|██████████| 282/282 [00:08<00:00, 34.29it/s]\n"
          ]
        },
        {
          "output_type": "stream",
          "name": "stdout",
          "text": [
            "validation loss: 0.001526703213651975 at epoch 492\n",
            "learning_rate: 0.0008\n"
          ]
        },
        {
          "output_type": "stream",
          "name": "stderr",
          "text": [
            "epoch 492: 100%|██████████| 282/282 [00:08<00:00, 32.29it/s]\n"
          ]
        },
        {
          "output_type": "stream",
          "name": "stdout",
          "text": [
            "validation loss: 0.00041390183795657424 at epoch 493\n",
            "learning_rate: 0.0008\n",
            "model saved in ani_acrolein.pt\n"
          ]
        },
        {
          "output_type": "stream",
          "name": "stderr",
          "text": [
            "epoch 493: 100%|██████████| 282/282 [00:09<00:00, 31.26it/s]\n"
          ]
        },
        {
          "output_type": "stream",
          "name": "stdout",
          "text": [
            "validation loss: 0.001538799905942546 at epoch 494\n",
            "learning_rate: 0.0008\n"
          ]
        },
        {
          "output_type": "stream",
          "name": "stderr",
          "text": [
            "epoch 494: 100%|██████████| 282/282 [00:08<00:00, 33.19it/s]\n"
          ]
        },
        {
          "output_type": "stream",
          "name": "stdout",
          "text": [
            "validation loss: 0.0009944913337628046 at epoch 495\n",
            "learning_rate: 0.0008\n"
          ]
        },
        {
          "output_type": "stream",
          "name": "stderr",
          "text": [
            "epoch 495: 100%|██████████| 282/282 [00:08<00:00, 33.54it/s]\n"
          ]
        },
        {
          "output_type": "stream",
          "name": "stdout",
          "text": [
            "validation loss: 0.0020483659125036663 at epoch 496\n",
            "learning_rate: 0.0008\n"
          ]
        },
        {
          "output_type": "stream",
          "name": "stderr",
          "text": [
            "epoch 496: 100%|██████████| 282/282 [00:08<00:00, 32.51it/s]\n"
          ]
        },
        {
          "output_type": "stream",
          "name": "stdout",
          "text": [
            "validation loss: 0.000750992445482148 at epoch 497\n",
            "learning_rate: 0.0008\n"
          ]
        },
        {
          "output_type": "stream",
          "name": "stderr",
          "text": [
            "epoch 497: 100%|██████████| 282/282 [00:09<00:00, 30.95it/s]\n"
          ]
        },
        {
          "output_type": "stream",
          "name": "stdout",
          "text": [
            "validation loss: 0.0005945031746394105 at epoch 498\n",
            "learning_rate: 0.0008\n"
          ]
        },
        {
          "output_type": "stream",
          "name": "stderr",
          "text": [
            "epoch 498: 100%|██████████| 282/282 [00:08<00:00, 34.08it/s]\n"
          ]
        },
        {
          "output_type": "stream",
          "name": "stdout",
          "text": [
            "validation loss: 0.0004895630259480741 at epoch 499\n",
            "learning_rate: 0.0008\n"
          ]
        },
        {
          "output_type": "stream",
          "name": "stderr",
          "text": [
            "epoch 499: 100%|██████████| 282/282 [00:09<00:00, 31.17it/s]\n"
          ]
        },
        {
          "output_type": "stream",
          "name": "stdout",
          "text": [
            "validation loss: 0.0028404683669408163 at epoch 500\n",
            "learning_rate: 0.0008\n"
          ]
        },
        {
          "output_type": "stream",
          "name": "stderr",
          "text": [
            "epoch 500: 100%|██████████| 282/282 [00:08<00:00, 31.94it/s]\n"
          ]
        },
        {
          "output_type": "stream",
          "name": "stdout",
          "text": [
            "validation loss: 0.002105927661061287 at epoch 501\n",
            "learning_rate: 0.0008\n"
          ]
        },
        {
          "output_type": "stream",
          "name": "stderr",
          "text": [
            "epoch 501: 100%|██████████| 282/282 [00:08<00:00, 32.46it/s]\n"
          ]
        },
        {
          "output_type": "stream",
          "name": "stdout",
          "text": [
            "validation loss: 0.0013007238846686152 at epoch 502\n",
            "learning_rate: 0.0008\n"
          ]
        },
        {
          "output_type": "stream",
          "name": "stderr",
          "text": [
            "epoch 502: 100%|██████████| 282/282 [00:08<00:00, 34.57it/s]\n"
          ]
        },
        {
          "output_type": "stream",
          "name": "stdout",
          "text": [
            "validation loss: 0.001125969315568606 at epoch 503\n",
            "learning_rate: 0.0008\n"
          ]
        },
        {
          "output_type": "stream",
          "name": "stderr",
          "text": [
            "epoch 503: 100%|██████████| 282/282 [00:09<00:00, 31.03it/s]\n"
          ]
        },
        {
          "output_type": "stream",
          "name": "stdout",
          "text": [
            "validation loss: 0.0008784621941546599 at epoch 504\n",
            "learning_rate: 0.0008\n"
          ]
        },
        {
          "output_type": "stream",
          "name": "stderr",
          "text": [
            "epoch 504: 100%|██████████| 282/282 [00:08<00:00, 31.38it/s]\n"
          ]
        },
        {
          "output_type": "stream",
          "name": "stdout",
          "text": [
            "validation loss: 0.0011939301937818527 at epoch 505\n",
            "learning_rate: 0.0008\n"
          ]
        },
        {
          "output_type": "stream",
          "name": "stderr",
          "text": [
            "epoch 505: 100%|██████████| 282/282 [00:08<00:00, 35.06it/s]\n"
          ]
        },
        {
          "output_type": "stream",
          "name": "stdout",
          "text": [
            "validation loss: 0.0010403442175851928 at epoch 506\n",
            "learning_rate: 0.0008\n"
          ]
        },
        {
          "output_type": "stream",
          "name": "stderr",
          "text": [
            "epoch 506: 100%|██████████| 282/282 [00:08<00:00, 31.97it/s]\n"
          ]
        },
        {
          "output_type": "stream",
          "name": "stdout",
          "text": [
            "validation loss: 0.002235245595375697 at epoch 507\n",
            "learning_rate: 0.0008\n"
          ]
        },
        {
          "output_type": "stream",
          "name": "stderr",
          "text": [
            "epoch 507: 100%|██████████| 282/282 [00:08<00:00, 31.58it/s]\n"
          ]
        },
        {
          "output_type": "stream",
          "name": "stdout",
          "text": [
            "validation loss: 0.001276726828681098 at epoch 508\n",
            "learning_rate: 0.0008\n"
          ]
        },
        {
          "output_type": "stream",
          "name": "stderr",
          "text": [
            "epoch 508: 100%|██████████| 282/282 [00:08<00:00, 33.36it/s]\n"
          ]
        },
        {
          "output_type": "stream",
          "name": "stdout",
          "text": [
            "validation loss: 0.002845216075579325 at epoch 509\n",
            "learning_rate: 0.0008\n"
          ]
        },
        {
          "output_type": "stream",
          "name": "stderr",
          "text": [
            "epoch 509: 100%|██████████| 282/282 [00:08<00:00, 34.15it/s]\n"
          ]
        },
        {
          "output_type": "stream",
          "name": "stdout",
          "text": [
            "validation loss: 0.001984731591410107 at epoch 510\n",
            "learning_rate: 0.0008\n"
          ]
        },
        {
          "output_type": "stream",
          "name": "stderr",
          "text": [
            "epoch 510: 100%|██████████| 282/282 [00:08<00:00, 31.48it/s]\n"
          ]
        },
        {
          "output_type": "stream",
          "name": "stdout",
          "text": [
            "validation loss: 0.002275692241059409 at epoch 511\n",
            "learning_rate: 0.0008\n"
          ]
        },
        {
          "output_type": "stream",
          "name": "stderr",
          "text": [
            "epoch 511: 100%|██████████| 282/282 [00:09<00:00, 31.02it/s]\n"
          ]
        },
        {
          "output_type": "stream",
          "name": "stdout",
          "text": [
            "validation loss: 0.000674525786191225 at epoch 512\n",
            "learning_rate: 0.0008\n"
          ]
        },
        {
          "output_type": "stream",
          "name": "stderr",
          "text": [
            "epoch 512: 100%|██████████| 282/282 [00:07<00:00, 35.28it/s]\n"
          ]
        },
        {
          "output_type": "stream",
          "name": "stdout",
          "text": [
            "validation loss: 0.0017030373646153344 at epoch 513\n",
            "learning_rate: 0.0008\n"
          ]
        },
        {
          "output_type": "stream",
          "name": "stderr",
          "text": [
            "epoch 513: 100%|██████████| 282/282 [00:08<00:00, 31.52it/s]\n"
          ]
        },
        {
          "output_type": "stream",
          "name": "stdout",
          "text": [
            "validation loss: 0.0011836454760697152 at epoch 514\n",
            "learning_rate: 0.0008\n"
          ]
        },
        {
          "output_type": "stream",
          "name": "stderr",
          "text": [
            "epoch 514: 100%|██████████| 282/282 [00:08<00:00, 31.40it/s]\n"
          ]
        },
        {
          "output_type": "stream",
          "name": "stdout",
          "text": [
            "validation loss: 0.0010873375328050718 at epoch 515\n",
            "learning_rate: 0.0008\n"
          ]
        },
        {
          "output_type": "stream",
          "name": "stderr",
          "text": [
            "epoch 515: 100%|██████████| 282/282 [00:08<00:00, 34.37it/s]\n"
          ]
        },
        {
          "output_type": "stream",
          "name": "stdout",
          "text": [
            "validation loss: 0.0006143809018863572 at epoch 516\n",
            "learning_rate: 0.0008\n"
          ]
        },
        {
          "output_type": "stream",
          "name": "stderr",
          "text": [
            "epoch 516: 100%|██████████| 282/282 [00:08<00:00, 33.44it/s]\n"
          ]
        },
        {
          "output_type": "stream",
          "name": "stdout",
          "text": [
            "validation loss: 0.0013815049653251965 at epoch 517\n",
            "learning_rate: 0.0008\n"
          ]
        },
        {
          "output_type": "stream",
          "name": "stderr",
          "text": [
            "epoch 517: 100%|██████████| 282/282 [00:08<00:00, 31.36it/s]\n"
          ]
        },
        {
          "output_type": "stream",
          "name": "stdout",
          "text": [
            "validation loss: 0.000977650574511952 at epoch 518\n",
            "learning_rate: 0.0008\n"
          ]
        },
        {
          "output_type": "stream",
          "name": "stderr",
          "text": [
            "epoch 518: 100%|██████████| 282/282 [00:09<00:00, 30.98it/s]\n"
          ]
        },
        {
          "output_type": "stream",
          "name": "stdout",
          "text": [
            "validation loss: 0.002162956315610144 at epoch 519\n",
            "learning_rate: 0.0008\n"
          ]
        },
        {
          "output_type": "stream",
          "name": "stderr",
          "text": [
            "epoch 519: 100%|██████████| 282/282 [00:07<00:00, 35.41it/s]\n"
          ]
        },
        {
          "output_type": "stream",
          "name": "stdout",
          "text": [
            "validation loss: 0.0010257084510392612 at epoch 520\n",
            "learning_rate: 0.0008\n"
          ]
        },
        {
          "output_type": "stream",
          "name": "stderr",
          "text": [
            "epoch 520: 100%|██████████| 282/282 [00:09<00:00, 30.89it/s]\n"
          ]
        },
        {
          "output_type": "stream",
          "name": "stdout",
          "text": [
            "validation loss: 0.0005135541562404898 at epoch 521\n",
            "learning_rate: 0.0008\n"
          ]
        },
        {
          "output_type": "stream",
          "name": "stderr",
          "text": [
            "epoch 521: 100%|██████████| 282/282 [00:08<00:00, 31.91it/s]\n"
          ]
        },
        {
          "output_type": "stream",
          "name": "stdout",
          "text": [
            "validation loss: 0.0013231303095817566 at epoch 522\n",
            "learning_rate: 0.0008\n"
          ]
        },
        {
          "output_type": "stream",
          "name": "stderr",
          "text": [
            "epoch 522: 100%|██████████| 282/282 [00:08<00:00, 33.80it/s]\n"
          ]
        },
        {
          "output_type": "stream",
          "name": "stdout",
          "text": [
            "validation loss: 0.0004194615042457978 at epoch 523\n",
            "learning_rate: 0.0008\n"
          ]
        },
        {
          "output_type": "stream",
          "name": "stderr",
          "text": [
            "epoch 523: 100%|██████████| 282/282 [00:08<00:00, 32.24it/s]\n"
          ]
        },
        {
          "output_type": "stream",
          "name": "stdout",
          "text": [
            "validation loss: 0.00216381816400422 at epoch 524\n",
            "learning_rate: 0.0008\n"
          ]
        },
        {
          "output_type": "stream",
          "name": "stderr",
          "text": [
            "epoch 524: 100%|██████████| 282/282 [00:08<00:00, 31.44it/s]\n"
          ]
        },
        {
          "output_type": "stream",
          "name": "stdout",
          "text": [
            "validation loss: 0.0017054757740762498 at epoch 525\n",
            "learning_rate: 0.0008\n"
          ]
        },
        {
          "output_type": "stream",
          "name": "stderr",
          "text": [
            "epoch 525: 100%|██████████| 282/282 [00:08<00:00, 31.75it/s]\n"
          ]
        },
        {
          "output_type": "stream",
          "name": "stdout",
          "text": [
            "validation loss: 0.0026187360998657016 at epoch 526\n",
            "learning_rate: 0.0008\n"
          ]
        },
        {
          "output_type": "stream",
          "name": "stderr",
          "text": [
            "epoch 526: 100%|██████████| 282/282 [00:08<00:00, 34.26it/s]\n"
          ]
        },
        {
          "output_type": "stream",
          "name": "stdout",
          "text": [
            "validation loss: 0.0014099221436513795 at epoch 527\n",
            "learning_rate: 0.0008\n"
          ]
        },
        {
          "output_type": "stream",
          "name": "stderr",
          "text": [
            "epoch 527: 100%|██████████| 282/282 [00:08<00:00, 31.55it/s]\n"
          ]
        },
        {
          "output_type": "stream",
          "name": "stdout",
          "text": [
            "validation loss: 0.0017683722178141277 at epoch 528\n",
            "learning_rate: 0.0008\n"
          ]
        },
        {
          "output_type": "stream",
          "name": "stderr",
          "text": [
            "epoch 528: 100%|██████████| 282/282 [00:08<00:00, 31.43it/s]\n"
          ]
        },
        {
          "output_type": "stream",
          "name": "stdout",
          "text": [
            "validation loss: 0.0008635720801022318 at epoch 529\n",
            "learning_rate: 0.0008\n"
          ]
        },
        {
          "output_type": "stream",
          "name": "stderr",
          "text": [
            "epoch 529: 100%|██████████| 282/282 [00:08<00:00, 32.50it/s]\n"
          ]
        },
        {
          "output_type": "stream",
          "name": "stdout",
          "text": [
            "validation loss: 0.0016834171935915948 at epoch 530\n",
            "learning_rate: 0.0008\n"
          ]
        },
        {
          "output_type": "stream",
          "name": "stderr",
          "text": [
            "epoch 530: 100%|██████████| 282/282 [00:07<00:00, 35.51it/s]\n"
          ]
        },
        {
          "output_type": "stream",
          "name": "stdout",
          "text": [
            "validation loss: 0.0008570035989913675 at epoch 531\n",
            "learning_rate: 0.0008\n"
          ]
        },
        {
          "output_type": "stream",
          "name": "stderr",
          "text": [
            "epoch 531: 100%|██████████| 282/282 [00:09<00:00, 31.21it/s]\n"
          ]
        },
        {
          "output_type": "stream",
          "name": "stdout",
          "text": [
            "validation loss: 0.0012016742949684462 at epoch 532\n",
            "learning_rate: 0.0008\n"
          ]
        },
        {
          "output_type": "stream",
          "name": "stderr",
          "text": [
            "epoch 532: 100%|██████████| 282/282 [00:09<00:00, 30.58it/s]\n"
          ]
        },
        {
          "output_type": "stream",
          "name": "stdout",
          "text": [
            "validation loss: 0.0011570334715975655 at epoch 533\n",
            "learning_rate: 0.0008\n"
          ]
        },
        {
          "output_type": "stream",
          "name": "stderr",
          "text": [
            "epoch 533: 100%|██████████| 282/282 [00:08<00:00, 35.12it/s]\n"
          ]
        },
        {
          "output_type": "stream",
          "name": "stdout",
          "text": [
            "validation loss: 0.001953248472677337 at epoch 534\n",
            "learning_rate: 0.0008\n"
          ]
        },
        {
          "output_type": "stream",
          "name": "stderr",
          "text": [
            "epoch 534: 100%|██████████| 282/282 [00:08<00:00, 32.65it/s]\n"
          ]
        },
        {
          "output_type": "stream",
          "name": "stdout",
          "text": [
            "validation loss: 0.0007566509569684665 at epoch 535\n",
            "learning_rate: 0.0008\n"
          ]
        },
        {
          "output_type": "stream",
          "name": "stderr",
          "text": [
            "epoch 535: 100%|██████████| 282/282 [00:09<00:00, 31.09it/s]\n"
          ]
        },
        {
          "output_type": "stream",
          "name": "stdout",
          "text": [
            "validation loss: 0.0009651167881157664 at epoch 536\n",
            "learning_rate: 0.0008\n"
          ]
        },
        {
          "output_type": "stream",
          "name": "stderr",
          "text": [
            "epoch 536: 100%|██████████| 282/282 [00:09<00:00, 30.20it/s]\n"
          ]
        },
        {
          "output_type": "stream",
          "name": "stdout",
          "text": [
            "validation loss: 0.0005793616014222304 at epoch 537\n",
            "learning_rate: 0.0008\n"
          ]
        },
        {
          "output_type": "stream",
          "name": "stderr",
          "text": [
            "epoch 537: 100%|██████████| 282/282 [00:08<00:00, 34.24it/s]\n"
          ]
        },
        {
          "output_type": "stream",
          "name": "stdout",
          "text": [
            "validation loss: 0.0005663206548326545 at epoch 538\n",
            "learning_rate: 0.0008\n"
          ]
        },
        {
          "output_type": "stream",
          "name": "stderr",
          "text": [
            "epoch 538: 100%|██████████| 282/282 [00:09<00:00, 30.30it/s]\n"
          ]
        },
        {
          "output_type": "stream",
          "name": "stdout",
          "text": [
            "validation loss: 0.0006098570513228575 at epoch 539\n",
            "learning_rate: 0.0008\n"
          ]
        },
        {
          "output_type": "stream",
          "name": "stderr",
          "text": [
            "epoch 539: 100%|██████████| 282/282 [00:09<00:00, 30.75it/s]\n"
          ]
        },
        {
          "output_type": "stream",
          "name": "stdout",
          "text": [
            "validation loss: 0.0009493330154154036 at epoch 540\n",
            "learning_rate: 0.0008\n"
          ]
        },
        {
          "output_type": "stream",
          "name": "stderr",
          "text": [
            "epoch 540: 100%|██████████| 282/282 [00:08<00:00, 32.49it/s]\n"
          ]
        },
        {
          "output_type": "stream",
          "name": "stdout",
          "text": [
            "validation loss: 0.0004453662418656879 at epoch 541\n",
            "learning_rate: 0.0008\n"
          ]
        },
        {
          "output_type": "stream",
          "name": "stderr",
          "text": [
            "epoch 541: 100%|██████████| 282/282 [00:08<00:00, 33.53it/s]\n"
          ]
        },
        {
          "output_type": "stream",
          "name": "stdout",
          "text": [
            "validation loss: 0.0010992126216491063 at epoch 542\n",
            "learning_rate: 0.0008\n"
          ]
        },
        {
          "output_type": "stream",
          "name": "stderr",
          "text": [
            "epoch 542: 100%|██████████| 282/282 [00:09<00:00, 30.45it/s]\n"
          ]
        },
        {
          "output_type": "stream",
          "name": "stdout",
          "text": [
            "validation loss: 0.00044844870186514326 at epoch 543\n",
            "learning_rate: 0.0008\n"
          ]
        },
        {
          "output_type": "stream",
          "name": "stderr",
          "text": [
            "epoch 543: 100%|██████████| 282/282 [00:09<00:00, 30.77it/s]\n"
          ]
        },
        {
          "output_type": "stream",
          "name": "stdout",
          "text": [
            "validation loss: 0.0014727732779251206 at epoch 544\n",
            "learning_rate: 0.0008\n"
          ]
        },
        {
          "output_type": "stream",
          "name": "stderr",
          "text": [
            "epoch 544: 100%|██████████| 282/282 [00:08<00:00, 34.15it/s]\n"
          ]
        },
        {
          "output_type": "stream",
          "name": "stdout",
          "text": [
            "validation loss: 0.00047859596274793146 at epoch 545\n",
            "learning_rate: 0.00064\n"
          ]
        },
        {
          "output_type": "stream",
          "name": "stderr",
          "text": [
            "epoch 545: 100%|██████████| 282/282 [00:09<00:00, 31.18it/s]\n"
          ]
        },
        {
          "output_type": "stream",
          "name": "stdout",
          "text": [
            "validation loss: 0.0004297520961198542 at epoch 546\n",
            "learning_rate: 0.00064\n"
          ]
        },
        {
          "output_type": "stream",
          "name": "stderr",
          "text": [
            "epoch 546: 100%|██████████| 282/282 [00:09<00:00, 30.79it/s]\n"
          ]
        },
        {
          "output_type": "stream",
          "name": "stdout",
          "text": [
            "validation loss: 0.0009009758457541466 at epoch 547\n",
            "learning_rate: 0.00064\n"
          ]
        },
        {
          "output_type": "stream",
          "name": "stderr",
          "text": [
            "epoch 547: 100%|██████████| 282/282 [00:09<00:00, 30.97it/s]\n"
          ]
        },
        {
          "output_type": "stream",
          "name": "stdout",
          "text": [
            "validation loss: 0.0018206993291775386 at epoch 548\n",
            "learning_rate: 0.00064\n"
          ]
        },
        {
          "output_type": "stream",
          "name": "stderr",
          "text": [
            "epoch 548: 100%|██████████| 282/282 [00:08<00:00, 33.88it/s]\n"
          ]
        },
        {
          "output_type": "stream",
          "name": "stdout",
          "text": [
            "validation loss: 0.0020731663439008926 at epoch 549\n",
            "learning_rate: 0.00064\n"
          ]
        },
        {
          "output_type": "stream",
          "name": "stderr",
          "text": [
            "epoch 549: 100%|██████████| 282/282 [00:09<00:00, 30.76it/s]\n"
          ]
        },
        {
          "output_type": "stream",
          "name": "stdout",
          "text": [
            "validation loss: 0.0012476250562402937 at epoch 550\n",
            "learning_rate: 0.00064\n"
          ]
        },
        {
          "output_type": "stream",
          "name": "stderr",
          "text": [
            "epoch 550: 100%|██████████| 282/282 [00:09<00:00, 30.94it/s]\n"
          ]
        },
        {
          "output_type": "stream",
          "name": "stdout",
          "text": [
            "validation loss: 0.0009634363560212983 at epoch 551\n",
            "learning_rate: 0.00064\n"
          ]
        },
        {
          "output_type": "stream",
          "name": "stderr",
          "text": [
            "epoch 551: 100%|██████████| 282/282 [00:09<00:00, 30.32it/s]\n"
          ]
        },
        {
          "output_type": "stream",
          "name": "stdout",
          "text": [
            "validation loss: 0.0005155873960918851 at epoch 552\n",
            "learning_rate: 0.00064\n"
          ]
        },
        {
          "output_type": "stream",
          "name": "stderr",
          "text": [
            "epoch 552: 100%|██████████| 282/282 [00:08<00:00, 34.02it/s]\n"
          ]
        },
        {
          "output_type": "stream",
          "name": "stdout",
          "text": [
            "validation loss: 0.0014334235671493742 at epoch 553\n",
            "learning_rate: 0.00064\n"
          ]
        },
        {
          "output_type": "stream",
          "name": "stderr",
          "text": [
            "epoch 553: 100%|██████████| 282/282 [00:09<00:00, 30.82it/s]\n"
          ]
        },
        {
          "output_type": "stream",
          "name": "stdout",
          "text": [
            "validation loss: 0.0014451869146691427 at epoch 554\n",
            "learning_rate: 0.00064\n"
          ]
        },
        {
          "output_type": "stream",
          "name": "stderr",
          "text": [
            "epoch 554: 100%|██████████| 282/282 [00:09<00:00, 31.03it/s]\n"
          ]
        },
        {
          "output_type": "stream",
          "name": "stdout",
          "text": [
            "validation loss: 0.0025380933582782746 at epoch 555\n",
            "learning_rate: 0.00064\n"
          ]
        },
        {
          "output_type": "stream",
          "name": "stderr",
          "text": [
            "epoch 555: 100%|██████████| 282/282 [00:08<00:00, 32.01it/s]\n"
          ]
        },
        {
          "output_type": "stream",
          "name": "stdout",
          "text": [
            "validation loss: 0.0004973637016697062 at epoch 556\n",
            "learning_rate: 0.00064\n"
          ]
        },
        {
          "output_type": "stream",
          "name": "stderr",
          "text": [
            "epoch 556: 100%|██████████| 282/282 [00:08<00:00, 34.47it/s]\n"
          ]
        },
        {
          "output_type": "stream",
          "name": "stdout",
          "text": [
            "validation loss: 0.0016555392510361141 at epoch 557\n",
            "learning_rate: 0.00064\n"
          ]
        },
        {
          "output_type": "stream",
          "name": "stderr",
          "text": [
            "epoch 557: 100%|██████████| 282/282 [00:08<00:00, 32.13it/s]\n"
          ]
        },
        {
          "output_type": "stream",
          "name": "stdout",
          "text": [
            "validation loss: 0.0004419808203561438 at epoch 558\n",
            "learning_rate: 0.00064\n"
          ]
        },
        {
          "output_type": "stream",
          "name": "stderr",
          "text": [
            "epoch 558: 100%|██████████| 282/282 [00:08<00:00, 31.97it/s]\n"
          ]
        },
        {
          "output_type": "stream",
          "name": "stdout",
          "text": [
            "validation loss: 0.0030850829730431238 at epoch 559\n",
            "learning_rate: 0.00064\n"
          ]
        },
        {
          "output_type": "stream",
          "name": "stderr",
          "text": [
            "epoch 559: 100%|██████████| 282/282 [00:07<00:00, 35.70it/s]\n"
          ]
        },
        {
          "output_type": "stream",
          "name": "stdout",
          "text": [
            "validation loss: 0.0006406749830477768 at epoch 560\n",
            "learning_rate: 0.00064\n"
          ]
        },
        {
          "output_type": "stream",
          "name": "stderr",
          "text": [
            "epoch 560: 100%|██████████| 282/282 [00:08<00:00, 33.01it/s]\n"
          ]
        },
        {
          "output_type": "stream",
          "name": "stdout",
          "text": [
            "validation loss: 0.0018903139995204079 at epoch 561\n",
            "learning_rate: 0.00064\n"
          ]
        },
        {
          "output_type": "stream",
          "name": "stderr",
          "text": [
            "epoch 561: 100%|██████████| 282/282 [00:08<00:00, 32.05it/s]\n"
          ]
        },
        {
          "output_type": "stream",
          "name": "stdout",
          "text": [
            "validation loss: 0.0014392912793490622 at epoch 562\n",
            "learning_rate: 0.00064\n"
          ]
        },
        {
          "output_type": "stream",
          "name": "stderr",
          "text": [
            "epoch 562: 100%|██████████| 282/282 [00:08<00:00, 34.03it/s]\n"
          ]
        },
        {
          "output_type": "stream",
          "name": "stdout",
          "text": [
            "validation loss: 0.0006474316931433147 at epoch 563\n",
            "learning_rate: 0.00064\n"
          ]
        },
        {
          "output_type": "stream",
          "name": "stderr",
          "text": [
            "epoch 563: 100%|██████████| 282/282 [00:08<00:00, 34.44it/s]\n"
          ]
        },
        {
          "output_type": "stream",
          "name": "stdout",
          "text": [
            "validation loss: 0.0007551730233761999 at epoch 564\n",
            "learning_rate: 0.00064\n"
          ]
        },
        {
          "output_type": "stream",
          "name": "stderr",
          "text": [
            "epoch 564: 100%|██████████| 282/282 [00:08<00:00, 32.10it/s]\n"
          ]
        },
        {
          "output_type": "stream",
          "name": "stdout",
          "text": [
            "validation loss: 0.0003920067056185669 at epoch 565\n",
            "learning_rate: 0.00064\n",
            "model saved in ani_acrolein.pt\n"
          ]
        },
        {
          "output_type": "stream",
          "name": "stderr",
          "text": [
            "epoch 565: 100%|██████████| 282/282 [00:08<00:00, 31.66it/s]\n"
          ]
        },
        {
          "output_type": "stream",
          "name": "stdout",
          "text": [
            "validation loss: 0.0021357627626922395 at epoch 566\n",
            "learning_rate: 0.00064\n"
          ]
        },
        {
          "output_type": "stream",
          "name": "stderr",
          "text": [
            "epoch 566: 100%|██████████| 282/282 [00:08<00:00, 34.94it/s]\n"
          ]
        },
        {
          "output_type": "stream",
          "name": "stdout",
          "text": [
            "validation loss: 0.0007904873962203662 at epoch 567\n",
            "learning_rate: 0.00064\n"
          ]
        },
        {
          "output_type": "stream",
          "name": "stderr",
          "text": [
            "epoch 567: 100%|██████████| 282/282 [00:08<00:00, 32.32it/s]\n"
          ]
        },
        {
          "output_type": "stream",
          "name": "stdout",
          "text": [
            "validation loss: 0.001978889673948288 at epoch 568\n",
            "learning_rate: 0.00064\n"
          ]
        },
        {
          "output_type": "stream",
          "name": "stderr",
          "text": [
            "epoch 568: 100%|██████████| 282/282 [00:08<00:00, 32.27it/s]\n"
          ]
        },
        {
          "output_type": "stream",
          "name": "stdout",
          "text": [
            "validation loss: 0.0010335602884491285 at epoch 569\n",
            "learning_rate: 0.00064\n"
          ]
        },
        {
          "output_type": "stream",
          "name": "stderr",
          "text": [
            "epoch 569: 100%|██████████| 282/282 [00:08<00:00, 35.17it/s]\n"
          ]
        },
        {
          "output_type": "stream",
          "name": "stdout",
          "text": [
            "validation loss: 0.0005779573428961966 at epoch 570\n",
            "learning_rate: 0.00064\n"
          ]
        },
        {
          "output_type": "stream",
          "name": "stderr",
          "text": [
            "epoch 570: 100%|██████████| 282/282 [00:08<00:00, 32.96it/s]\n"
          ]
        },
        {
          "output_type": "stream",
          "name": "stdout",
          "text": [
            "validation loss: 0.002342611109217008 at epoch 571\n",
            "learning_rate: 0.00064\n"
          ]
        },
        {
          "output_type": "stream",
          "name": "stderr",
          "text": [
            "epoch 571: 100%|██████████| 282/282 [00:09<00:00, 31.29it/s]\n"
          ]
        },
        {
          "output_type": "stream",
          "name": "stdout",
          "text": [
            "validation loss: 0.0010864141997363832 at epoch 572\n",
            "learning_rate: 0.00064\n"
          ]
        },
        {
          "output_type": "stream",
          "name": "stderr",
          "text": [
            "epoch 572: 100%|██████████| 282/282 [00:08<00:00, 31.82it/s]\n"
          ]
        },
        {
          "output_type": "stream",
          "name": "stdout",
          "text": [
            "validation loss: 0.0004524431021677123 at epoch 573\n",
            "learning_rate: 0.00064\n"
          ]
        },
        {
          "output_type": "stream",
          "name": "stderr",
          "text": [
            "epoch 573: 100%|██████████| 282/282 [00:08<00:00, 34.41it/s]\n"
          ]
        },
        {
          "output_type": "stream",
          "name": "stdout",
          "text": [
            "validation loss: 0.001152502247856723 at epoch 574\n",
            "learning_rate: 0.00064\n"
          ]
        },
        {
          "output_type": "stream",
          "name": "stderr",
          "text": [
            "epoch 574: 100%|██████████| 282/282 [00:08<00:00, 31.53it/s]\n"
          ]
        },
        {
          "output_type": "stream",
          "name": "stdout",
          "text": [
            "validation loss: 0.0005795425631933743 at epoch 575\n",
            "learning_rate: 0.00064\n"
          ]
        },
        {
          "output_type": "stream",
          "name": "stderr",
          "text": [
            "epoch 575: 100%|██████████| 282/282 [00:08<00:00, 31.40it/s]\n"
          ]
        },
        {
          "output_type": "stream",
          "name": "stdout",
          "text": [
            "validation loss: 0.0005412900319529904 at epoch 576\n",
            "learning_rate: 0.00064\n"
          ]
        },
        {
          "output_type": "stream",
          "name": "stderr",
          "text": [
            "epoch 576: 100%|██████████| 282/282 [00:08<00:00, 33.97it/s]\n"
          ]
        },
        {
          "output_type": "stream",
          "name": "stdout",
          "text": [
            "validation loss: 0.000814277903487285 at epoch 577\n",
            "learning_rate: 0.00064\n"
          ]
        },
        {
          "output_type": "stream",
          "name": "stderr",
          "text": [
            "epoch 577: 100%|██████████| 282/282 [00:09<00:00, 31.13it/s]\n"
          ]
        },
        {
          "output_type": "stream",
          "name": "stdout",
          "text": [
            "validation loss: 0.002466802605324321 at epoch 578\n",
            "learning_rate: 0.00064\n"
          ]
        },
        {
          "output_type": "stream",
          "name": "stderr",
          "text": [
            "epoch 578: 100%|██████████| 282/282 [00:09<00:00, 30.58it/s]\n"
          ]
        },
        {
          "output_type": "stream",
          "name": "stdout",
          "text": [
            "validation loss: 0.0013937246244814662 at epoch 579\n",
            "learning_rate: 0.00064\n"
          ]
        },
        {
          "output_type": "stream",
          "name": "stderr",
          "text": [
            "epoch 579: 100%|██████████| 282/282 [00:09<00:00, 31.10it/s]\n"
          ]
        },
        {
          "output_type": "stream",
          "name": "stdout",
          "text": [
            "validation loss: 0.000519659236073494 at epoch 580\n",
            "learning_rate: 0.00064\n"
          ]
        },
        {
          "output_type": "stream",
          "name": "stderr",
          "text": [
            "epoch 580: 100%|██████████| 282/282 [00:08<00:00, 34.55it/s]\n"
          ]
        },
        {
          "output_type": "stream",
          "name": "stdout",
          "text": [
            "validation loss: 0.0030308820803960166 at epoch 581\n",
            "learning_rate: 0.00064\n"
          ]
        },
        {
          "output_type": "stream",
          "name": "stderr",
          "text": [
            "epoch 581: 100%|██████████| 282/282 [00:09<00:00, 29.84it/s]\n"
          ]
        },
        {
          "output_type": "stream",
          "name": "stdout",
          "text": [
            "validation loss: 0.001498829475707478 at epoch 582\n",
            "learning_rate: 0.00064\n"
          ]
        },
        {
          "output_type": "stream",
          "name": "stderr",
          "text": [
            "epoch 582: 100%|██████████| 282/282 [00:09<00:00, 30.67it/s]\n"
          ]
        },
        {
          "output_type": "stream",
          "name": "stdout",
          "text": [
            "validation loss: 0.0012885594781902102 at epoch 583\n",
            "learning_rate: 0.00064\n"
          ]
        },
        {
          "output_type": "stream",
          "name": "stderr",
          "text": [
            "epoch 583: 100%|██████████| 282/282 [00:08<00:00, 34.02it/s]\n"
          ]
        },
        {
          "output_type": "stream",
          "name": "stdout",
          "text": [
            "validation loss: 0.000587380369918214 at epoch 584\n",
            "learning_rate: 0.00064\n"
          ]
        },
        {
          "output_type": "stream",
          "name": "stderr",
          "text": [
            "epoch 584: 100%|██████████| 282/282 [00:08<00:00, 31.95it/s]\n"
          ]
        },
        {
          "output_type": "stream",
          "name": "stdout",
          "text": [
            "validation loss: 0.0010645108363694614 at epoch 585\n",
            "learning_rate: 0.00064\n"
          ]
        },
        {
          "output_type": "stream",
          "name": "stderr",
          "text": [
            "epoch 585: 100%|██████████| 282/282 [00:09<00:00, 31.19it/s]\n"
          ]
        },
        {
          "output_type": "stream",
          "name": "stdout",
          "text": [
            "validation loss: 0.0010926018746362793 at epoch 586\n",
            "learning_rate: 0.00064\n"
          ]
        },
        {
          "output_type": "stream",
          "name": "stderr",
          "text": [
            "epoch 586: 100%|██████████| 282/282 [00:08<00:00, 31.50it/s]\n"
          ]
        },
        {
          "output_type": "stream",
          "name": "stdout",
          "text": [
            "validation loss: 0.000892302118241787 at epoch 587\n",
            "learning_rate: 0.00064\n"
          ]
        },
        {
          "output_type": "stream",
          "name": "stderr",
          "text": [
            "epoch 587: 100%|██████████| 282/282 [00:08<00:00, 34.31it/s]\n"
          ]
        },
        {
          "output_type": "stream",
          "name": "stdout",
          "text": [
            "validation loss: 0.0006915682781901625 at epoch 588\n",
            "learning_rate: 0.00064\n"
          ]
        },
        {
          "output_type": "stream",
          "name": "stderr",
          "text": [
            "epoch 588: 100%|██████████| 282/282 [00:09<00:00, 30.66it/s]\n"
          ]
        },
        {
          "output_type": "stream",
          "name": "stdout",
          "text": [
            "validation loss: 0.0034152161694235273 at epoch 589\n",
            "learning_rate: 0.00064\n"
          ]
        },
        {
          "output_type": "stream",
          "name": "stderr",
          "text": [
            "epoch 589: 100%|██████████| 282/282 [00:09<00:00, 30.70it/s]\n"
          ]
        },
        {
          "output_type": "stream",
          "name": "stdout",
          "text": [
            "validation loss: 0.0009445281500617663 at epoch 590\n",
            "learning_rate: 0.00064\n"
          ]
        },
        {
          "output_type": "stream",
          "name": "stderr",
          "text": [
            "epoch 590: 100%|██████████| 282/282 [00:08<00:00, 31.99it/s]\n"
          ]
        },
        {
          "output_type": "stream",
          "name": "stdout",
          "text": [
            "validation loss: 0.0011385565516021517 at epoch 591\n",
            "learning_rate: 0.00064\n"
          ]
        },
        {
          "output_type": "stream",
          "name": "stderr",
          "text": [
            "epoch 591: 100%|██████████| 282/282 [00:08<00:00, 32.84it/s]\n"
          ]
        },
        {
          "output_type": "stream",
          "name": "stdout",
          "text": [
            "validation loss: 0.00043295901930994455 at epoch 592\n",
            "learning_rate: 0.00064\n"
          ]
        },
        {
          "output_type": "stream",
          "name": "stderr",
          "text": [
            "epoch 592: 100%|██████████| 282/282 [00:09<00:00, 30.17it/s]\n"
          ]
        },
        {
          "output_type": "stream",
          "name": "stdout",
          "text": [
            "validation loss: 0.002339167098204295 at epoch 593\n",
            "learning_rate: 0.00064\n"
          ]
        },
        {
          "output_type": "stream",
          "name": "stderr",
          "text": [
            "epoch 593: 100%|██████████| 282/282 [00:09<00:00, 30.50it/s]\n"
          ]
        },
        {
          "output_type": "stream",
          "name": "stdout",
          "text": [
            "validation loss: 0.0015562333936492603 at epoch 594\n",
            "learning_rate: 0.00064\n"
          ]
        },
        {
          "output_type": "stream",
          "name": "stderr",
          "text": [
            "epoch 594: 100%|██████████| 282/282 [00:08<00:00, 33.28it/s]\n"
          ]
        },
        {
          "output_type": "stream",
          "name": "stdout",
          "text": [
            "validation loss: 0.0024518294665548538 at epoch 595\n",
            "learning_rate: 0.00064\n"
          ]
        },
        {
          "output_type": "stream",
          "name": "stderr",
          "text": [
            "epoch 595: 100%|██████████| 282/282 [00:08<00:00, 33.48it/s]\n"
          ]
        },
        {
          "output_type": "stream",
          "name": "stdout",
          "text": [
            "validation loss: 0.00047093165748649175 at epoch 596\n",
            "learning_rate: 0.00064\n"
          ]
        },
        {
          "output_type": "stream",
          "name": "stderr",
          "text": [
            "epoch 596: 100%|██████████| 282/282 [00:09<00:00, 31.05it/s]\n"
          ]
        },
        {
          "output_type": "stream",
          "name": "stdout",
          "text": [
            "validation loss: 0.001997981200615565 at epoch 597\n",
            "learning_rate: 0.00064\n"
          ]
        },
        {
          "output_type": "stream",
          "name": "stderr",
          "text": [
            "epoch 597: 100%|██████████| 282/282 [00:09<00:00, 31.06it/s]\n"
          ]
        },
        {
          "output_type": "stream",
          "name": "stdout",
          "text": [
            "validation loss: 0.0015545739746756024 at epoch 598\n",
            "learning_rate: 0.00064\n"
          ]
        },
        {
          "output_type": "stream",
          "name": "stderr",
          "text": [
            "epoch 598: 100%|██████████| 282/282 [00:08<00:00, 35.16it/s]\n"
          ]
        },
        {
          "output_type": "stream",
          "name": "stdout",
          "text": [
            "validation loss: 0.002920080519384808 at epoch 599\n",
            "learning_rate: 0.00064\n"
          ]
        },
        {
          "output_type": "stream",
          "name": "stderr",
          "text": [
            "epoch 599: 100%|██████████| 282/282 [00:08<00:00, 31.72it/s]\n"
          ]
        },
        {
          "output_type": "stream",
          "name": "stdout",
          "text": [
            "validation loss: 0.0018289766808350881 at epoch 600\n",
            "learning_rate: 0.00064\n"
          ]
        },
        {
          "output_type": "stream",
          "name": "stderr",
          "text": [
            "epoch 600: 100%|██████████| 282/282 [00:09<00:00, 31.17it/s]\n"
          ]
        },
        {
          "output_type": "stream",
          "name": "stdout",
          "text": [
            "validation loss: 0.0006132672458059258 at epoch 601\n",
            "learning_rate: 0.00064\n"
          ]
        },
        {
          "output_type": "stream",
          "name": "stderr",
          "text": [
            "epoch 601: 100%|██████████| 282/282 [00:08<00:00, 33.83it/s]\n"
          ]
        },
        {
          "output_type": "stream",
          "name": "stdout",
          "text": [
            "validation loss: 0.0012687628401650323 at epoch 602\n",
            "learning_rate: 0.00064\n"
          ]
        },
        {
          "output_type": "stream",
          "name": "stderr",
          "text": [
            "epoch 602: 100%|██████████| 282/282 [00:08<00:00, 33.05it/s]\n"
          ]
        },
        {
          "output_type": "stream",
          "name": "stdout",
          "text": [
            "validation loss: 0.0012737051008476152 at epoch 603\n",
            "learning_rate: 0.00064\n"
          ]
        },
        {
          "output_type": "stream",
          "name": "stderr",
          "text": [
            "epoch 603: 100%|██████████| 282/282 [00:09<00:00, 30.59it/s]\n"
          ]
        },
        {
          "output_type": "stream",
          "name": "stdout",
          "text": [
            "validation loss: 0.0019445756955279244 at epoch 604\n",
            "learning_rate: 0.00064\n"
          ]
        },
        {
          "output_type": "stream",
          "name": "stderr",
          "text": [
            "epoch 604: 100%|██████████| 282/282 [00:09<00:00, 31.21it/s]\n"
          ]
        },
        {
          "output_type": "stream",
          "name": "stdout",
          "text": [
            "validation loss: 0.0006317922361195088 at epoch 605\n",
            "learning_rate: 0.00064\n"
          ]
        },
        {
          "output_type": "stream",
          "name": "stderr",
          "text": [
            "epoch 605: 100%|██████████| 282/282 [00:08<00:00, 34.35it/s]\n"
          ]
        },
        {
          "output_type": "stream",
          "name": "stdout",
          "text": [
            "validation loss: 0.0006776989073389106 at epoch 606\n",
            "learning_rate: 0.00064\n"
          ]
        },
        {
          "output_type": "stream",
          "name": "stderr",
          "text": [
            "epoch 606: 100%|██████████| 282/282 [00:08<00:00, 31.91it/s]\n"
          ]
        },
        {
          "output_type": "stream",
          "name": "stdout",
          "text": [
            "validation loss: 0.0007340785819623206 at epoch 607\n",
            "learning_rate: 0.00064\n"
          ]
        },
        {
          "output_type": "stream",
          "name": "stderr",
          "text": [
            "epoch 607: 100%|██████████| 282/282 [00:09<00:00, 31.16it/s]\n"
          ]
        },
        {
          "output_type": "stream",
          "name": "stdout",
          "text": [
            "validation loss: 0.0021740261481867896 at epoch 608\n",
            "learning_rate: 0.00064\n"
          ]
        },
        {
          "output_type": "stream",
          "name": "stderr",
          "text": [
            "epoch 608: 100%|██████████| 282/282 [00:08<00:00, 31.93it/s]\n"
          ]
        },
        {
          "output_type": "stream",
          "name": "stdout",
          "text": [
            "validation loss: 0.0013900579238931338 at epoch 609\n",
            "learning_rate: 0.00064\n"
          ]
        },
        {
          "output_type": "stream",
          "name": "stderr",
          "text": [
            "epoch 609: 100%|██████████| 282/282 [00:08<00:00, 34.53it/s]\n"
          ]
        },
        {
          "output_type": "stream",
          "name": "stdout",
          "text": [
            "validation loss: 0.0012304787594411108 at epoch 610\n",
            "learning_rate: 0.00064\n"
          ]
        },
        {
          "output_type": "stream",
          "name": "stderr",
          "text": [
            "epoch 610: 100%|██████████| 282/282 [00:09<00:00, 31.11it/s]\n"
          ]
        },
        {
          "output_type": "stream",
          "name": "stdout",
          "text": [
            "validation loss: 0.0014633940532803535 at epoch 611\n",
            "learning_rate: 0.00064\n"
          ]
        },
        {
          "output_type": "stream",
          "name": "stderr",
          "text": [
            "epoch 611: 100%|██████████| 282/282 [00:09<00:00, 30.53it/s]\n"
          ]
        },
        {
          "output_type": "stream",
          "name": "stdout",
          "text": [
            "validation loss: 0.00044265982260306675 at epoch 612\n",
            "learning_rate: 0.00064\n"
          ]
        },
        {
          "output_type": "stream",
          "name": "stderr",
          "text": [
            "epoch 612: 100%|██████████| 282/282 [00:08<00:00, 34.63it/s]\n"
          ]
        },
        {
          "output_type": "stream",
          "name": "stdout",
          "text": [
            "validation loss: 0.00046897505472103754 at epoch 613\n",
            "learning_rate: 0.00064\n"
          ]
        },
        {
          "output_type": "stream",
          "name": "stderr",
          "text": [
            "epoch 613: 100%|██████████| 282/282 [00:08<00:00, 31.49it/s]\n"
          ]
        },
        {
          "output_type": "stream",
          "name": "stdout",
          "text": [
            "validation loss: 0.0006248376696474022 at epoch 614\n",
            "learning_rate: 0.00064\n"
          ]
        },
        {
          "output_type": "stream",
          "name": "stderr",
          "text": [
            "epoch 614: 100%|██████████| 282/282 [00:09<00:00, 30.87it/s]\n"
          ]
        },
        {
          "output_type": "stream",
          "name": "stdout",
          "text": [
            "validation loss: 0.0018610056142012278 at epoch 615\n",
            "learning_rate: 0.00064\n"
          ]
        },
        {
          "output_type": "stream",
          "name": "stderr",
          "text": [
            "epoch 615: 100%|██████████| 282/282 [00:09<00:00, 30.36it/s]\n"
          ]
        },
        {
          "output_type": "stream",
          "name": "stdout",
          "text": [
            "validation loss: 0.0009002739377319813 at epoch 616\n",
            "learning_rate: 0.00064\n"
          ]
        },
        {
          "output_type": "stream",
          "name": "stderr",
          "text": [
            "epoch 616: 100%|██████████| 282/282 [00:08<00:00, 34.31it/s]\n"
          ]
        },
        {
          "output_type": "stream",
          "name": "stdout",
          "text": [
            "validation loss: 0.0005918088890612125 at epoch 617\n",
            "learning_rate: 0.0005120000000000001\n"
          ]
        },
        {
          "output_type": "stream",
          "name": "stderr",
          "text": [
            "epoch 617: 100%|██████████| 282/282 [00:09<00:00, 31.10it/s]\n"
          ]
        },
        {
          "output_type": "stream",
          "name": "stdout",
          "text": [
            "validation loss: 0.0014109374086062113 at epoch 618\n",
            "learning_rate: 0.0005120000000000001\n"
          ]
        },
        {
          "output_type": "stream",
          "name": "stderr",
          "text": [
            "epoch 618: 100%|██████████| 282/282 [00:09<00:00, 30.75it/s]\n"
          ]
        },
        {
          "output_type": "stream",
          "name": "stdout",
          "text": [
            "validation loss: 0.0011840850131379233 at epoch 619\n",
            "learning_rate: 0.0005120000000000001\n"
          ]
        },
        {
          "output_type": "stream",
          "name": "stderr",
          "text": [
            "epoch 619: 100%|██████████| 282/282 [00:08<00:00, 33.06it/s]\n"
          ]
        },
        {
          "output_type": "stream",
          "name": "stdout",
          "text": [
            "validation loss: 0.0020410370992289648 at epoch 620\n",
            "learning_rate: 0.0005120000000000001\n"
          ]
        },
        {
          "output_type": "stream",
          "name": "stderr",
          "text": [
            "epoch 620: 100%|██████████| 282/282 [00:08<00:00, 32.74it/s]\n"
          ]
        },
        {
          "output_type": "stream",
          "name": "stdout",
          "text": [
            "validation loss: 0.0017308162210716142 at epoch 621\n",
            "learning_rate: 0.0005120000000000001\n"
          ]
        },
        {
          "output_type": "stream",
          "name": "stderr",
          "text": [
            "epoch 621: 100%|██████████| 282/282 [00:09<00:00, 30.78it/s]\n"
          ]
        },
        {
          "output_type": "stream",
          "name": "stdout",
          "text": [
            "validation loss: 0.0015150892800754971 at epoch 622\n",
            "learning_rate: 0.0005120000000000001\n"
          ]
        },
        {
          "output_type": "stream",
          "name": "stderr",
          "text": [
            "epoch 622: 100%|██████████| 282/282 [00:09<00:00, 31.33it/s]\n"
          ]
        },
        {
          "output_type": "stream",
          "name": "stdout",
          "text": [
            "validation loss: 0.0009660237092110846 at epoch 623\n",
            "learning_rate: 0.0005120000000000001\n"
          ]
        },
        {
          "output_type": "stream",
          "name": "stderr",
          "text": [
            "epoch 623: 100%|██████████| 282/282 [00:08<00:00, 33.66it/s]\n"
          ]
        },
        {
          "output_type": "stream",
          "name": "stdout",
          "text": [
            "validation loss: 0.0013257172827919324 at epoch 624\n",
            "learning_rate: 0.0005120000000000001\n"
          ]
        },
        {
          "output_type": "stream",
          "name": "stderr",
          "text": [
            "epoch 624: 100%|██████████| 282/282 [00:09<00:00, 31.19it/s]\n"
          ]
        },
        {
          "output_type": "stream",
          "name": "stdout",
          "text": [
            "validation loss: 0.0008608490568068292 at epoch 625\n",
            "learning_rate: 0.0005120000000000001\n"
          ]
        },
        {
          "output_type": "stream",
          "name": "stderr",
          "text": [
            "epoch 625: 100%|██████████| 282/282 [00:09<00:00, 30.51it/s]\n"
          ]
        },
        {
          "output_type": "stream",
          "name": "stdout",
          "text": [
            "validation loss: 0.0010627653648455939 at epoch 626\n",
            "learning_rate: 0.0005120000000000001\n"
          ]
        },
        {
          "output_type": "stream",
          "name": "stderr",
          "text": [
            "epoch 626: 100%|██████████| 282/282 [00:09<00:00, 30.98it/s]\n"
          ]
        },
        {
          "output_type": "stream",
          "name": "stdout",
          "text": [
            "validation loss: 0.0016597989756200048 at epoch 627\n",
            "learning_rate: 0.0005120000000000001\n"
          ]
        },
        {
          "output_type": "stream",
          "name": "stderr",
          "text": [
            "epoch 627: 100%|██████████| 282/282 [00:08<00:00, 34.11it/s]\n"
          ]
        },
        {
          "output_type": "stream",
          "name": "stdout",
          "text": [
            "validation loss: 0.000408496316936281 at epoch 628\n",
            "learning_rate: 0.0005120000000000001\n"
          ]
        },
        {
          "output_type": "stream",
          "name": "stderr",
          "text": [
            "epoch 628: 100%|██████████| 282/282 [00:09<00:00, 31.20it/s]\n"
          ]
        },
        {
          "output_type": "stream",
          "name": "stdout",
          "text": [
            "validation loss: 0.0023107724520895216 at epoch 629\n",
            "learning_rate: 0.0005120000000000001\n"
          ]
        },
        {
          "output_type": "stream",
          "name": "stderr",
          "text": [
            "epoch 629: 100%|██████████| 282/282 [00:09<00:00, 30.56it/s]\n"
          ]
        },
        {
          "output_type": "stream",
          "name": "stdout",
          "text": [
            "validation loss: 0.001150166690349579 at epoch 630\n",
            "learning_rate: 0.0005120000000000001\n"
          ]
        },
        {
          "output_type": "stream",
          "name": "stderr",
          "text": [
            "epoch 630: 100%|██████████| 282/282 [00:08<00:00, 32.38it/s]\n"
          ]
        },
        {
          "output_type": "stream",
          "name": "stdout",
          "text": [
            "validation loss: 0.0013824487601717312 at epoch 631\n",
            "learning_rate: 0.0005120000000000001\n"
          ]
        },
        {
          "output_type": "stream",
          "name": "stderr",
          "text": [
            "epoch 631: 100%|██████████| 282/282 [00:08<00:00, 32.90it/s]\n"
          ]
        },
        {
          "output_type": "stream",
          "name": "stdout",
          "text": [
            "validation loss: 0.0010715105136235555 at epoch 632\n",
            "learning_rate: 0.0005120000000000001\n"
          ]
        },
        {
          "output_type": "stream",
          "name": "stderr",
          "text": [
            "epoch 632: 100%|██████████| 282/282 [00:09<00:00, 30.50it/s]\n"
          ]
        },
        {
          "output_type": "stream",
          "name": "stdout",
          "text": [
            "validation loss: 0.0009590173703100946 at epoch 633\n",
            "learning_rate: 0.0005120000000000001\n"
          ]
        },
        {
          "output_type": "stream",
          "name": "stderr",
          "text": [
            "epoch 633: 100%|██████████| 282/282 [00:09<00:00, 30.96it/s]\n"
          ]
        },
        {
          "output_type": "stream",
          "name": "stdout",
          "text": [
            "validation loss: 0.0005773782353434298 at epoch 634\n",
            "learning_rate: 0.0005120000000000001\n"
          ]
        },
        {
          "output_type": "stream",
          "name": "stderr",
          "text": [
            "epoch 634: 100%|██████████| 282/282 [00:08<00:00, 33.66it/s]\n"
          ]
        },
        {
          "output_type": "stream",
          "name": "stdout",
          "text": [
            "validation loss: 0.0015072341602709559 at epoch 635\n",
            "learning_rate: 0.0005120000000000001\n"
          ]
        },
        {
          "output_type": "stream",
          "name": "stderr",
          "text": [
            "epoch 635: 100%|██████████| 282/282 [00:08<00:00, 31.35it/s]\n"
          ]
        },
        {
          "output_type": "stream",
          "name": "stdout",
          "text": [
            "validation loss: 0.0015364663286341561 at epoch 636\n",
            "learning_rate: 0.0005120000000000001\n"
          ]
        },
        {
          "output_type": "stream",
          "name": "stderr",
          "text": [
            "epoch 636: 100%|██████████| 282/282 [00:09<00:00, 30.50it/s]\n"
          ]
        },
        {
          "output_type": "stream",
          "name": "stdout",
          "text": [
            "validation loss: 0.0004616371471848753 at epoch 637\n",
            "learning_rate: 0.0005120000000000001\n"
          ]
        },
        {
          "output_type": "stream",
          "name": "stderr",
          "text": [
            "epoch 637: 100%|██████████| 282/282 [00:09<00:00, 30.54it/s]\n"
          ]
        },
        {
          "output_type": "stream",
          "name": "stdout",
          "text": [
            "validation loss: 0.0011611795317795542 at epoch 638\n",
            "learning_rate: 0.0005120000000000001\n"
          ]
        },
        {
          "output_type": "stream",
          "name": "stderr",
          "text": [
            "epoch 638: 100%|██████████| 282/282 [00:08<00:00, 34.45it/s]\n"
          ]
        },
        {
          "output_type": "stream",
          "name": "stdout",
          "text": [
            "validation loss: 0.0011177294246024557 at epoch 639\n",
            "learning_rate: 0.0005120000000000001\n"
          ]
        },
        {
          "output_type": "stream",
          "name": "stderr",
          "text": [
            "epoch 639: 100%|██████████| 282/282 [00:09<00:00, 30.67it/s]\n"
          ]
        },
        {
          "output_type": "stream",
          "name": "stdout",
          "text": [
            "validation loss: 0.0014258555074532827 at epoch 640\n",
            "learning_rate: 0.0005120000000000001\n"
          ]
        },
        {
          "output_type": "stream",
          "name": "stderr",
          "text": [
            "epoch 640: 100%|██████████| 282/282 [00:09<00:00, 30.62it/s]\n"
          ]
        },
        {
          "output_type": "stream",
          "name": "stdout",
          "text": [
            "validation loss: 0.0009750993053118387 at epoch 641\n",
            "learning_rate: 0.0005120000000000001\n"
          ]
        },
        {
          "output_type": "stream",
          "name": "stderr",
          "text": [
            "epoch 641: 100%|██████████| 282/282 [00:08<00:00, 33.46it/s]\n"
          ]
        },
        {
          "output_type": "stream",
          "name": "stdout",
          "text": [
            "validation loss: 0.0008953004802266757 at epoch 642\n",
            "learning_rate: 0.0005120000000000001\n"
          ]
        },
        {
          "output_type": "stream",
          "name": "stderr",
          "text": [
            "epoch 642: 100%|██████████| 282/282 [00:08<00:00, 32.82it/s]\n"
          ]
        },
        {
          "output_type": "stream",
          "name": "stdout",
          "text": [
            "validation loss: 0.0016094584820999039 at epoch 643\n",
            "learning_rate: 0.0005120000000000001\n"
          ]
        },
        {
          "output_type": "stream",
          "name": "stderr",
          "text": [
            "epoch 643: 100%|██████████| 282/282 [00:09<00:00, 29.90it/s]\n"
          ]
        },
        {
          "output_type": "stream",
          "name": "stdout",
          "text": [
            "validation loss: 0.0009025784234205882 at epoch 644\n",
            "learning_rate: 0.0005120000000000001\n"
          ]
        },
        {
          "output_type": "stream",
          "name": "stderr",
          "text": [
            "epoch 644: 100%|██████████| 282/282 [00:09<00:00, 30.40it/s]\n"
          ]
        },
        {
          "output_type": "stream",
          "name": "stdout",
          "text": [
            "validation loss: 0.0006145462927718957 at epoch 645\n",
            "learning_rate: 0.0005120000000000001\n"
          ]
        },
        {
          "output_type": "stream",
          "name": "stderr",
          "text": [
            "epoch 645: 100%|██████████| 282/282 [00:08<00:00, 34.16it/s]\n"
          ]
        },
        {
          "output_type": "stream",
          "name": "stdout",
          "text": [
            "validation loss: 0.0016086050685909059 at epoch 646\n",
            "learning_rate: 0.0005120000000000001\n"
          ]
        },
        {
          "output_type": "stream",
          "name": "stderr",
          "text": [
            "epoch 646: 100%|██████████| 282/282 [00:09<00:00, 31.04it/s]\n"
          ]
        },
        {
          "output_type": "stream",
          "name": "stdout",
          "text": [
            "validation loss: 0.00193588934176498 at epoch 647\n",
            "learning_rate: 0.0005120000000000001\n"
          ]
        },
        {
          "output_type": "stream",
          "name": "stderr",
          "text": [
            "epoch 647: 100%|██████████| 282/282 [00:09<00:00, 30.53it/s]\n"
          ]
        },
        {
          "output_type": "stream",
          "name": "stdout",
          "text": [
            "validation loss: 0.0015796433430578973 at epoch 648\n",
            "learning_rate: 0.0005120000000000001\n"
          ]
        },
        {
          "output_type": "stream",
          "name": "stderr",
          "text": [
            "epoch 648: 100%|██████████| 282/282 [00:09<00:00, 30.66it/s]\n"
          ]
        },
        {
          "output_type": "stream",
          "name": "stdout",
          "text": [
            "validation loss: 0.0003798981989837355 at epoch 649\n",
            "learning_rate: 0.0005120000000000001\n",
            "model saved in ani_acrolein.pt\n"
          ]
        },
        {
          "output_type": "stream",
          "name": "stderr",
          "text": [
            "epoch 649: 100%|██████████| 282/282 [00:08<00:00, 34.02it/s]\n"
          ]
        },
        {
          "output_type": "stream",
          "name": "stdout",
          "text": [
            "validation loss: 0.0008958187546167109 at epoch 650\n",
            "learning_rate: 0.0005120000000000001\n"
          ]
        },
        {
          "output_type": "stream",
          "name": "stderr",
          "text": [
            "epoch 650: 100%|██████████| 282/282 [00:09<00:00, 30.81it/s]\n"
          ]
        },
        {
          "output_type": "stream",
          "name": "stdout",
          "text": [
            "validation loss: 0.00048698059428069326 at epoch 651\n",
            "learning_rate: 0.0005120000000000001\n"
          ]
        },
        {
          "output_type": "stream",
          "name": "stderr",
          "text": [
            "epoch 651: 100%|██████████| 282/282 [00:09<00:00, 30.36it/s]\n"
          ]
        },
        {
          "output_type": "stream",
          "name": "stdout",
          "text": [
            "validation loss: 0.0014957566418581539 at epoch 652\n",
            "learning_rate: 0.0005120000000000001\n"
          ]
        },
        {
          "output_type": "stream",
          "name": "stderr",
          "text": [
            "epoch 652: 100%|██████████| 282/282 [00:08<00:00, 31.84it/s]\n"
          ]
        },
        {
          "output_type": "stream",
          "name": "stdout",
          "text": [
            "validation loss: 0.0013744359562794367 at epoch 653\n",
            "learning_rate: 0.0005120000000000001\n"
          ]
        },
        {
          "output_type": "stream",
          "name": "stderr",
          "text": [
            "epoch 653: 100%|██████████| 282/282 [00:08<00:00, 32.46it/s]\n"
          ]
        },
        {
          "output_type": "stream",
          "name": "stdout",
          "text": [
            "validation loss: 0.001706660356786516 at epoch 654\n",
            "learning_rate: 0.0005120000000000001\n"
          ]
        },
        {
          "output_type": "stream",
          "name": "stderr",
          "text": [
            "epoch 654: 100%|██████████| 282/282 [00:09<00:00, 30.08it/s]\n"
          ]
        },
        {
          "output_type": "stream",
          "name": "stdout",
          "text": [
            "validation loss: 0.0004718550369143486 at epoch 655\n",
            "learning_rate: 0.0005120000000000001\n"
          ]
        },
        {
          "output_type": "stream",
          "name": "stderr",
          "text": [
            "epoch 655: 100%|██████████| 282/282 [00:09<00:00, 29.92it/s]\n"
          ]
        },
        {
          "output_type": "stream",
          "name": "stdout",
          "text": [
            "validation loss: 0.0012102482128474447 at epoch 656\n",
            "learning_rate: 0.0005120000000000001\n"
          ]
        },
        {
          "output_type": "stream",
          "name": "stderr",
          "text": [
            "epoch 656: 100%|██████████| 282/282 [00:08<00:00, 32.57it/s]\n"
          ]
        },
        {
          "output_type": "stream",
          "name": "stdout",
          "text": [
            "validation loss: 0.0017451206371188164 at epoch 657\n",
            "learning_rate: 0.0005120000000000001\n"
          ]
        },
        {
          "output_type": "stream",
          "name": "stderr",
          "text": [
            "epoch 657: 100%|██████████| 282/282 [00:08<00:00, 31.69it/s]\n"
          ]
        },
        {
          "output_type": "stream",
          "name": "stdout",
          "text": [
            "validation loss: 0.0009110916927456856 at epoch 658\n",
            "learning_rate: 0.0005120000000000001\n"
          ]
        },
        {
          "output_type": "stream",
          "name": "stderr",
          "text": [
            "epoch 658: 100%|██████████| 282/282 [00:09<00:00, 30.72it/s]\n"
          ]
        },
        {
          "output_type": "stream",
          "name": "stdout",
          "text": [
            "validation loss: 0.0012578888328539 at epoch 659\n",
            "learning_rate: 0.0005120000000000001\n"
          ]
        },
        {
          "output_type": "stream",
          "name": "stderr",
          "text": [
            "epoch 659: 100%|██████████| 282/282 [00:09<00:00, 30.61it/s]\n"
          ]
        },
        {
          "output_type": "stream",
          "name": "stdout",
          "text": [
            "validation loss: 0.0019340091099341711 at epoch 660\n",
            "learning_rate: 0.0005120000000000001\n"
          ]
        },
        {
          "output_type": "stream",
          "name": "stderr",
          "text": [
            "epoch 660: 100%|██████████| 282/282 [00:08<00:00, 33.78it/s]\n"
          ]
        },
        {
          "output_type": "stream",
          "name": "stdout",
          "text": [
            "validation loss: 0.000972954192923175 at epoch 661\n",
            "learning_rate: 0.0005120000000000001\n"
          ]
        },
        {
          "output_type": "stream",
          "name": "stderr",
          "text": [
            "epoch 661: 100%|██████████| 282/282 [00:09<00:00, 30.62it/s]\n"
          ]
        },
        {
          "output_type": "stream",
          "name": "stdout",
          "text": [
            "validation loss: 0.001426745211912526 at epoch 662\n",
            "learning_rate: 0.0005120000000000001\n"
          ]
        },
        {
          "output_type": "stream",
          "name": "stderr",
          "text": [
            "epoch 662: 100%|██████████| 282/282 [00:09<00:00, 30.46it/s]\n"
          ]
        },
        {
          "output_type": "stream",
          "name": "stdout",
          "text": [
            "validation loss: 0.0006556122286452187 at epoch 663\n",
            "learning_rate: 0.0005120000000000001\n"
          ]
        },
        {
          "output_type": "stream",
          "name": "stderr",
          "text": [
            "epoch 663: 100%|██████████| 282/282 [00:08<00:00, 31.66it/s]\n"
          ]
        },
        {
          "output_type": "stream",
          "name": "stdout",
          "text": [
            "validation loss: 0.0024702604015668234 at epoch 664\n",
            "learning_rate: 0.0005120000000000001\n"
          ]
        },
        {
          "output_type": "stream",
          "name": "stderr",
          "text": [
            "epoch 664: 100%|██████████| 282/282 [00:08<00:00, 32.61it/s]\n"
          ]
        },
        {
          "output_type": "stream",
          "name": "stdout",
          "text": [
            "validation loss: 0.001301835723221302 at epoch 665\n",
            "learning_rate: 0.0005120000000000001\n"
          ]
        },
        {
          "output_type": "stream",
          "name": "stderr",
          "text": [
            "epoch 665: 100%|██████████| 282/282 [00:09<00:00, 30.20it/s]\n"
          ]
        },
        {
          "output_type": "stream",
          "name": "stdout",
          "text": [
            "validation loss: 0.0017892397095759709 at epoch 666\n",
            "learning_rate: 0.0005120000000000001\n"
          ]
        },
        {
          "output_type": "stream",
          "name": "stderr",
          "text": [
            "epoch 666: 100%|██████████| 282/282 [00:09<00:00, 30.54it/s]\n"
          ]
        },
        {
          "output_type": "stream",
          "name": "stdout",
          "text": [
            "validation loss: 0.001437801087896029 at epoch 667\n",
            "learning_rate: 0.0005120000000000001\n"
          ]
        },
        {
          "output_type": "stream",
          "name": "stderr",
          "text": [
            "epoch 667: 100%|██████████| 282/282 [00:08<00:00, 33.37it/s]\n"
          ]
        },
        {
          "output_type": "stream",
          "name": "stdout",
          "text": [
            "validation loss: 0.0012834191992878914 at epoch 668\n",
            "learning_rate: 0.0005120000000000001\n"
          ]
        },
        {
          "output_type": "stream",
          "name": "stderr",
          "text": [
            "epoch 668: 100%|██████████| 282/282 [00:08<00:00, 32.41it/s]\n"
          ]
        },
        {
          "output_type": "stream",
          "name": "stdout",
          "text": [
            "validation loss: 0.0005567117523815896 at epoch 669\n",
            "learning_rate: 0.0005120000000000001\n"
          ]
        },
        {
          "output_type": "stream",
          "name": "stderr",
          "text": [
            "epoch 669: 100%|██████████| 282/282 [00:09<00:00, 30.52it/s]\n"
          ]
        },
        {
          "output_type": "stream",
          "name": "stdout",
          "text": [
            "validation loss: 0.0030455204115973577 at epoch 670\n",
            "learning_rate: 0.0005120000000000001\n"
          ]
        },
        {
          "output_type": "stream",
          "name": "stderr",
          "text": [
            "epoch 670: 100%|██████████| 282/282 [00:09<00:00, 30.75it/s]\n"
          ]
        },
        {
          "output_type": "stream",
          "name": "stdout",
          "text": [
            "validation loss: 0.0010031405985355378 at epoch 671\n",
            "learning_rate: 0.0005120000000000001\n"
          ]
        },
        {
          "output_type": "stream",
          "name": "stderr",
          "text": [
            "epoch 671: 100%|██████████| 282/282 [00:08<00:00, 34.46it/s]\n"
          ]
        },
        {
          "output_type": "stream",
          "name": "stdout",
          "text": [
            "validation loss: 0.0009002389874723223 at epoch 672\n",
            "learning_rate: 0.0005120000000000001\n"
          ]
        },
        {
          "output_type": "stream",
          "name": "stderr",
          "text": [
            "epoch 672: 100%|██████████| 282/282 [00:09<00:00, 31.27it/s]\n"
          ]
        },
        {
          "output_type": "stream",
          "name": "stdout",
          "text": [
            "validation loss: 0.002021706614229414 at epoch 673\n",
            "learning_rate: 0.0005120000000000001\n"
          ]
        },
        {
          "output_type": "stream",
          "name": "stderr",
          "text": [
            "epoch 673: 100%|██████████| 282/282 [00:09<00:00, 30.98it/s]\n"
          ]
        },
        {
          "output_type": "stream",
          "name": "stdout",
          "text": [
            "validation loss: 0.0006784037463366986 at epoch 674\n",
            "learning_rate: 0.0005120000000000001\n"
          ]
        },
        {
          "output_type": "stream",
          "name": "stderr",
          "text": [
            "epoch 674: 100%|██████████| 282/282 [00:09<00:00, 31.22it/s]\n"
          ]
        },
        {
          "output_type": "stream",
          "name": "stdout",
          "text": [
            "validation loss: 0.0009623287262188064 at epoch 675\n",
            "learning_rate: 0.0005120000000000001\n"
          ]
        },
        {
          "output_type": "stream",
          "name": "stderr",
          "text": [
            "epoch 675: 100%|██████████| 282/282 [00:08<00:00, 34.10it/s]\n"
          ]
        },
        {
          "output_type": "stream",
          "name": "stdout",
          "text": [
            "validation loss: 0.0003834045856363244 at epoch 676\n",
            "learning_rate: 0.0005120000000000001\n"
          ]
        },
        {
          "output_type": "stream",
          "name": "stderr",
          "text": [
            "epoch 676: 100%|██████████| 282/282 [00:09<00:00, 30.62it/s]\n"
          ]
        },
        {
          "output_type": "stream",
          "name": "stdout",
          "text": [
            "validation loss: 0.0013093868593374888 at epoch 677\n",
            "learning_rate: 0.0005120000000000001\n"
          ]
        },
        {
          "output_type": "stream",
          "name": "stderr",
          "text": [
            "epoch 677: 100%|██████████| 282/282 [00:09<00:00, 31.26it/s]\n"
          ]
        },
        {
          "output_type": "stream",
          "name": "stdout",
          "text": [
            "validation loss: 0.0007739161973198254 at epoch 678\n",
            "learning_rate: 0.0005120000000000001\n"
          ]
        },
        {
          "output_type": "stream",
          "name": "stderr",
          "text": [
            "epoch 678: 100%|██████████| 282/282 [00:08<00:00, 34.02it/s]\n"
          ]
        },
        {
          "output_type": "stream",
          "name": "stdout",
          "text": [
            "validation loss: 0.0009268676949044069 at epoch 679\n",
            "learning_rate: 0.0005120000000000001\n"
          ]
        },
        {
          "output_type": "stream",
          "name": "stderr",
          "text": [
            "epoch 679: 100%|██████████| 282/282 [00:08<00:00, 31.91it/s]\n"
          ]
        },
        {
          "output_type": "stream",
          "name": "stdout",
          "text": [
            "validation loss: 0.0014029119536280632 at epoch 680\n",
            "learning_rate: 0.0005120000000000001\n"
          ]
        },
        {
          "output_type": "stream",
          "name": "stderr",
          "text": [
            "epoch 680: 100%|██████████| 282/282 [00:09<00:00, 30.73it/s]\n"
          ]
        },
        {
          "output_type": "stream",
          "name": "stdout",
          "text": [
            "validation loss: 0.0008818376113971074 at epoch 681\n",
            "learning_rate: 0.0005120000000000001\n"
          ]
        },
        {
          "output_type": "stream",
          "name": "stderr",
          "text": [
            "epoch 681: 100%|██████████| 282/282 [00:09<00:00, 30.23it/s]\n"
          ]
        },
        {
          "output_type": "stream",
          "name": "stdout",
          "text": [
            "validation loss: 0.002059481791324086 at epoch 682\n",
            "learning_rate: 0.0005120000000000001\n"
          ]
        },
        {
          "output_type": "stream",
          "name": "stderr",
          "text": [
            "epoch 682: 100%|██████████| 282/282 [00:08<00:00, 33.81it/s]\n"
          ]
        },
        {
          "output_type": "stream",
          "name": "stdout",
          "text": [
            "validation loss: 0.00039805415107144247 at epoch 683\n",
            "learning_rate: 0.0005120000000000001\n"
          ]
        },
        {
          "output_type": "stream",
          "name": "stderr",
          "text": [
            "epoch 683: 100%|██████████| 282/282 [00:09<00:00, 30.63it/s]\n"
          ]
        },
        {
          "output_type": "stream",
          "name": "stdout",
          "text": [
            "validation loss: 0.0008124926346871588 at epoch 684\n",
            "learning_rate: 0.0005120000000000001\n"
          ]
        },
        {
          "output_type": "stream",
          "name": "stderr",
          "text": [
            "epoch 684: 100%|██████████| 282/282 [00:09<00:00, 30.07it/s]\n"
          ]
        },
        {
          "output_type": "stream",
          "name": "stdout",
          "text": [
            "validation loss: 0.0017973985373973846 at epoch 685\n",
            "learning_rate: 0.0005120000000000001\n"
          ]
        },
        {
          "output_type": "stream",
          "name": "stderr",
          "text": [
            "epoch 685: 100%|██████████| 282/282 [00:09<00:00, 30.65it/s]\n"
          ]
        },
        {
          "output_type": "stream",
          "name": "stdout",
          "text": [
            "validation loss: 0.0009904950045877034 at epoch 686\n",
            "learning_rate: 0.0005120000000000001\n"
          ]
        },
        {
          "output_type": "stream",
          "name": "stderr",
          "text": [
            "epoch 686: 100%|██████████| 282/282 [00:08<00:00, 33.65it/s]\n"
          ]
        },
        {
          "output_type": "stream",
          "name": "stdout",
          "text": [
            "validation loss: 0.001474227206574546 at epoch 687\n",
            "learning_rate: 0.0005120000000000001\n"
          ]
        },
        {
          "output_type": "stream",
          "name": "stderr",
          "text": [
            "epoch 687: 100%|██████████| 282/282 [00:09<00:00, 29.99it/s]\n"
          ]
        },
        {
          "output_type": "stream",
          "name": "stdout",
          "text": [
            "validation loss: 0.00147633622172806 at epoch 688\n",
            "learning_rate: 0.0005120000000000001\n"
          ]
        },
        {
          "output_type": "stream",
          "name": "stderr",
          "text": [
            "epoch 688: 100%|██████████| 282/282 [00:09<00:00, 30.02it/s]\n"
          ]
        },
        {
          "output_type": "stream",
          "name": "stdout",
          "text": [
            "validation loss: 0.0015504093724820348 at epoch 689\n",
            "learning_rate: 0.0005120000000000001\n"
          ]
        },
        {
          "output_type": "stream",
          "name": "stderr",
          "text": [
            "epoch 689: 100%|██████████| 282/282 [00:08<00:00, 32.66it/s]\n"
          ]
        },
        {
          "output_type": "stream",
          "name": "stdout",
          "text": [
            "validation loss: 0.0006461780336168078 at epoch 690\n",
            "learning_rate: 0.0005120000000000001\n"
          ]
        },
        {
          "output_type": "stream",
          "name": "stderr",
          "text": [
            "epoch 690: 100%|██████████| 282/282 [00:08<00:00, 32.20it/s]\n"
          ]
        },
        {
          "output_type": "stream",
          "name": "stdout",
          "text": [
            "validation loss: 0.0018035849101013608 at epoch 691\n",
            "learning_rate: 0.0005120000000000001\n"
          ]
        },
        {
          "output_type": "stream",
          "name": "stderr",
          "text": [
            "epoch 691: 100%|██████████| 282/282 [00:09<00:00, 30.24it/s]\n"
          ]
        },
        {
          "output_type": "stream",
          "name": "stdout",
          "text": [
            "validation loss: 0.000453920458133022 at epoch 692\n",
            "learning_rate: 0.0005120000000000001\n"
          ]
        },
        {
          "output_type": "stream",
          "name": "stderr",
          "text": [
            "epoch 692: 100%|██████████| 282/282 [00:09<00:00, 30.63it/s]\n"
          ]
        },
        {
          "output_type": "stream",
          "name": "stdout",
          "text": [
            "validation loss: 0.0014146181974146101 at epoch 693\n",
            "learning_rate: 0.0005120000000000001\n"
          ]
        },
        {
          "output_type": "stream",
          "name": "stderr",
          "text": [
            "epoch 693: 100%|██████████| 282/282 [00:08<00:00, 33.81it/s]\n"
          ]
        },
        {
          "output_type": "stream",
          "name": "stdout",
          "text": [
            "validation loss: 0.0014018000331189897 at epoch 694\n",
            "learning_rate: 0.0005120000000000001\n"
          ]
        },
        {
          "output_type": "stream",
          "name": "stderr",
          "text": [
            "epoch 694: 100%|██████████| 282/282 [00:09<00:00, 30.42it/s]\n"
          ]
        },
        {
          "output_type": "stream",
          "name": "stdout",
          "text": [
            "validation loss: 0.0013883109183775054 at epoch 695\n",
            "learning_rate: 0.0005120000000000001\n"
          ]
        },
        {
          "output_type": "stream",
          "name": "stderr",
          "text": [
            "epoch 695: 100%|██████████| 282/282 [00:09<00:00, 30.68it/s]\n"
          ]
        },
        {
          "output_type": "stream",
          "name": "stdout",
          "text": [
            "validation loss: 0.0016599306795332166 at epoch 696\n",
            "learning_rate: 0.0005120000000000001\n"
          ]
        },
        {
          "output_type": "stream",
          "name": "stderr",
          "text": [
            "epoch 696: 100%|██████████| 282/282 [00:08<00:00, 32.43it/s]\n"
          ]
        },
        {
          "output_type": "stream",
          "name": "stdout",
          "text": [
            "validation loss: 0.0020726853410402936 at epoch 697\n",
            "learning_rate: 0.0005120000000000001\n"
          ]
        },
        {
          "output_type": "stream",
          "name": "stderr",
          "text": [
            "epoch 697: 100%|██████████| 282/282 [00:08<00:00, 33.95it/s]\n"
          ]
        },
        {
          "output_type": "stream",
          "name": "stdout",
          "text": [
            "validation loss: 0.00075308450187246 at epoch 698\n",
            "learning_rate: 0.0005120000000000001\n"
          ]
        },
        {
          "output_type": "stream",
          "name": "stderr",
          "text": [
            "epoch 698: 100%|██████████| 282/282 [00:09<00:00, 30.71it/s]\n"
          ]
        },
        {
          "output_type": "stream",
          "name": "stdout",
          "text": [
            "validation loss: 0.001941008279720942 at epoch 699\n",
            "learning_rate: 0.0005120000000000001\n"
          ]
        },
        {
          "output_type": "stream",
          "name": "stderr",
          "text": [
            "epoch 699: 100%|██████████| 282/282 [00:09<00:00, 30.81it/s]\n"
          ]
        },
        {
          "output_type": "stream",
          "name": "stdout",
          "text": [
            "validation loss: 0.0013753773677680227 at epoch 700\n",
            "learning_rate: 0.0005120000000000001\n"
          ]
        },
        {
          "output_type": "stream",
          "name": "stderr",
          "text": [
            "epoch 700: 100%|██████████| 282/282 [00:08<00:00, 33.14it/s]\n"
          ]
        },
        {
          "output_type": "stream",
          "name": "stdout",
          "text": [
            "validation loss: 0.0004282026787598928 at epoch 701\n",
            "learning_rate: 0.0004096000000000001\n"
          ]
        },
        {
          "output_type": "stream",
          "name": "stderr",
          "text": [
            "epoch 701: 100%|██████████| 282/282 [00:08<00:00, 32.24it/s]\n"
          ]
        },
        {
          "output_type": "stream",
          "name": "stdout",
          "text": [
            "validation loss: 0.0005873909650577439 at epoch 702\n",
            "learning_rate: 0.0004096000000000001\n"
          ]
        },
        {
          "output_type": "stream",
          "name": "stderr",
          "text": [
            "epoch 702: 100%|██████████| 282/282 [00:09<00:00, 30.31it/s]\n"
          ]
        },
        {
          "output_type": "stream",
          "name": "stdout",
          "text": [
            "validation loss: 0.0006790539336701234 at epoch 703\n",
            "learning_rate: 0.0004096000000000001\n"
          ]
        },
        {
          "output_type": "stream",
          "name": "stderr",
          "text": [
            "epoch 703: 100%|██████████| 282/282 [00:09<00:00, 30.25it/s]\n"
          ]
        },
        {
          "output_type": "stream",
          "name": "stdout",
          "text": [
            "validation loss: 0.0009649454512529903 at epoch 704\n",
            "learning_rate: 0.0004096000000000001\n"
          ]
        },
        {
          "output_type": "stream",
          "name": "stderr",
          "text": [
            "epoch 704: 100%|██████████| 282/282 [00:08<00:00, 32.79it/s]\n"
          ]
        },
        {
          "output_type": "stream",
          "name": "stdout",
          "text": [
            "validation loss: 0.0007372796783844629 at epoch 705\n",
            "learning_rate: 0.0004096000000000001\n"
          ]
        },
        {
          "output_type": "stream",
          "name": "stderr",
          "text": [
            "epoch 705: 100%|██████████| 282/282 [00:09<00:00, 30.94it/s]\n"
          ]
        },
        {
          "output_type": "stream",
          "name": "stdout",
          "text": [
            "validation loss: 0.0014140507810645633 at epoch 706\n",
            "learning_rate: 0.0004096000000000001\n"
          ]
        },
        {
          "output_type": "stream",
          "name": "stderr",
          "text": [
            "epoch 706: 100%|██████████| 282/282 [00:09<00:00, 29.91it/s]\n"
          ]
        },
        {
          "output_type": "stream",
          "name": "stdout",
          "text": [
            "validation loss: 0.0013323067294226752 at epoch 707\n",
            "learning_rate: 0.0004096000000000001\n"
          ]
        },
        {
          "output_type": "stream",
          "name": "stderr",
          "text": [
            "epoch 707: 100%|██████████| 282/282 [00:09<00:00, 29.98it/s]\n"
          ]
        },
        {
          "output_type": "stream",
          "name": "stdout",
          "text": [
            "validation loss: 0.001488449402153492 at epoch 708\n",
            "learning_rate: 0.0004096000000000001\n"
          ]
        },
        {
          "output_type": "stream",
          "name": "stderr",
          "text": [
            "epoch 708: 100%|██████████| 282/282 [00:08<00:00, 33.70it/s]\n"
          ]
        },
        {
          "output_type": "stream",
          "name": "stdout",
          "text": [
            "validation loss: 0.0013697962785760563 at epoch 709\n",
            "learning_rate: 0.0004096000000000001\n"
          ]
        },
        {
          "output_type": "stream",
          "name": "stderr",
          "text": [
            "epoch 709: 100%|██████████| 282/282 [00:09<00:00, 31.13it/s]\n"
          ]
        },
        {
          "output_type": "stream",
          "name": "stdout",
          "text": [
            "validation loss: 0.0012338525032003721 at epoch 710\n",
            "learning_rate: 0.0004096000000000001\n"
          ]
        },
        {
          "output_type": "stream",
          "name": "stderr",
          "text": [
            "epoch 710: 100%|██████████| 282/282 [00:09<00:00, 30.13it/s]\n"
          ]
        },
        {
          "output_type": "stream",
          "name": "stdout",
          "text": [
            "validation loss: 0.0013735327041811414 at epoch 711\n",
            "learning_rate: 0.0004096000000000001\n"
          ]
        },
        {
          "output_type": "stream",
          "name": "stderr",
          "text": [
            "epoch 711: 100%|██████████| 282/282 [00:09<00:00, 30.22it/s]\n"
          ]
        },
        {
          "output_type": "stream",
          "name": "stdout",
          "text": [
            "validation loss: 0.00105237724714809 at epoch 712\n",
            "learning_rate: 0.0004096000000000001\n"
          ]
        },
        {
          "output_type": "stream",
          "name": "stderr",
          "text": [
            "epoch 712: 100%|██████████| 282/282 [00:08<00:00, 33.84it/s]\n"
          ]
        },
        {
          "output_type": "stream",
          "name": "stdout",
          "text": [
            "validation loss: 0.001460649084713724 at epoch 713\n",
            "learning_rate: 0.0004096000000000001\n"
          ]
        },
        {
          "output_type": "stream",
          "name": "stderr",
          "text": [
            "epoch 713: 100%|██████████| 282/282 [00:09<00:00, 30.58it/s]\n"
          ]
        },
        {
          "output_type": "stream",
          "name": "stdout",
          "text": [
            "validation loss: 0.0008277233942515321 at epoch 714\n",
            "learning_rate: 0.0004096000000000001\n"
          ]
        },
        {
          "output_type": "stream",
          "name": "stderr",
          "text": [
            "epoch 714: 100%|██████████| 282/282 [00:09<00:00, 30.79it/s]\n"
          ]
        },
        {
          "output_type": "stream",
          "name": "stdout",
          "text": [
            "validation loss: 0.0008801172085934215 at epoch 715\n",
            "learning_rate: 0.0004096000000000001\n"
          ]
        },
        {
          "output_type": "stream",
          "name": "stderr",
          "text": [
            "epoch 715: 100%|██████████| 282/282 [00:08<00:00, 33.14it/s]\n"
          ]
        },
        {
          "output_type": "stream",
          "name": "stdout",
          "text": [
            "validation loss: 0.0015012981047232946 at epoch 716\n",
            "learning_rate: 0.0004096000000000001\n"
          ]
        },
        {
          "output_type": "stream",
          "name": "stderr",
          "text": [
            "epoch 716: 100%|██████████| 282/282 [00:08<00:00, 33.20it/s]\n"
          ]
        },
        {
          "output_type": "stream",
          "name": "stdout",
          "text": [
            "validation loss: 0.0007309235963556502 at epoch 717\n",
            "learning_rate: 0.0004096000000000001\n"
          ]
        },
        {
          "output_type": "stream",
          "name": "stderr",
          "text": [
            "epoch 717: 100%|██████████| 282/282 [00:09<00:00, 31.03it/s]\n"
          ]
        },
        {
          "output_type": "stream",
          "name": "stdout",
          "text": [
            "validation loss: 0.0010668180170986387 at epoch 718\n",
            "learning_rate: 0.0004096000000000001\n"
          ]
        },
        {
          "output_type": "stream",
          "name": "stderr",
          "text": [
            "epoch 718: 100%|██████████| 282/282 [00:09<00:00, 31.12it/s]\n"
          ]
        },
        {
          "output_type": "stream",
          "name": "stdout",
          "text": [
            "validation loss: 0.0016198342889547348 at epoch 719\n",
            "learning_rate: 0.0004096000000000001\n"
          ]
        },
        {
          "output_type": "stream",
          "name": "stderr",
          "text": [
            "epoch 719: 100%|██████████| 282/282 [00:08<00:00, 34.43it/s]\n"
          ]
        },
        {
          "output_type": "stream",
          "name": "stdout",
          "text": [
            "validation loss: 0.0010204941439959738 at epoch 720\n",
            "learning_rate: 0.0004096000000000001\n"
          ]
        },
        {
          "output_type": "stream",
          "name": "stderr",
          "text": [
            "epoch 720: 100%|██████████| 282/282 [00:08<00:00, 31.53it/s]\n"
          ]
        },
        {
          "output_type": "stream",
          "name": "stdout",
          "text": [
            "validation loss: 0.0005339715559449461 at epoch 721\n",
            "learning_rate: 0.0004096000000000001\n"
          ]
        },
        {
          "output_type": "stream",
          "name": "stderr",
          "text": [
            "epoch 721: 100%|██████████| 282/282 [00:09<00:00, 30.81it/s]\n"
          ]
        },
        {
          "output_type": "stream",
          "name": "stdout",
          "text": [
            "validation loss: 0.0005515106328659587 at epoch 722\n",
            "learning_rate: 0.0004096000000000001\n"
          ]
        },
        {
          "output_type": "stream",
          "name": "stderr",
          "text": [
            "epoch 722: 100%|██████████| 282/282 [00:09<00:00, 31.31it/s]\n"
          ]
        },
        {
          "output_type": "stream",
          "name": "stdout",
          "text": [
            "validation loss: 0.0026600980228847926 at epoch 723\n",
            "learning_rate: 0.0004096000000000001\n"
          ]
        },
        {
          "output_type": "stream",
          "name": "stderr",
          "text": [
            "epoch 723: 100%|██████████| 282/282 [00:08<00:00, 34.30it/s]\n"
          ]
        },
        {
          "output_type": "stream",
          "name": "stdout",
          "text": [
            "validation loss: 0.0012692123850186665 at epoch 724\n",
            "learning_rate: 0.0004096000000000001\n"
          ]
        },
        {
          "output_type": "stream",
          "name": "stderr",
          "text": [
            "epoch 724: 100%|██████████| 282/282 [00:09<00:00, 30.64it/s]\n"
          ]
        },
        {
          "output_type": "stream",
          "name": "stdout",
          "text": [
            "validation loss: 0.0010138390436768533 at epoch 725\n",
            "learning_rate: 0.0004096000000000001\n"
          ]
        },
        {
          "output_type": "stream",
          "name": "stderr",
          "text": [
            "epoch 725: 100%|██████████| 282/282 [00:08<00:00, 31.42it/s]\n"
          ]
        },
        {
          "output_type": "stream",
          "name": "stdout",
          "text": [
            "validation loss: 0.0012822381804386775 at epoch 726\n",
            "learning_rate: 0.0004096000000000001\n"
          ]
        },
        {
          "output_type": "stream",
          "name": "stderr",
          "text": [
            "epoch 726: 100%|██████████| 282/282 [00:08<00:00, 33.13it/s]\n"
          ]
        },
        {
          "output_type": "stream",
          "name": "stdout",
          "text": [
            "validation loss: 0.000835529852244589 at epoch 727\n",
            "learning_rate: 0.0004096000000000001\n"
          ]
        },
        {
          "output_type": "stream",
          "name": "stderr",
          "text": [
            "epoch 727: 100%|██████████| 282/282 [00:08<00:00, 33.16it/s]\n"
          ]
        },
        {
          "output_type": "stream",
          "name": "stdout",
          "text": [
            "validation loss: 0.0009414043600360553 at epoch 728\n",
            "learning_rate: 0.0004096000000000001\n"
          ]
        },
        {
          "output_type": "stream",
          "name": "stderr",
          "text": [
            "epoch 728: 100%|██████████| 282/282 [00:09<00:00, 31.04it/s]\n"
          ]
        },
        {
          "output_type": "stream",
          "name": "stdout",
          "text": [
            "validation loss: 0.0012398993927571508 at epoch 729\n",
            "learning_rate: 0.0004096000000000001\n"
          ]
        },
        {
          "output_type": "stream",
          "name": "stderr",
          "text": [
            "epoch 729: 100%|██████████| 282/282 [00:09<00:00, 30.98it/s]\n"
          ]
        },
        {
          "output_type": "stream",
          "name": "stdout",
          "text": [
            "validation loss: 0.001172664061188698 at epoch 730\n",
            "learning_rate: 0.0004096000000000001\n"
          ]
        },
        {
          "output_type": "stream",
          "name": "stderr",
          "text": [
            "epoch 730: 100%|██████████| 282/282 [00:08<00:00, 34.71it/s]\n"
          ]
        },
        {
          "output_type": "stream",
          "name": "stdout",
          "text": [
            "validation loss: 0.0015366590983337826 at epoch 731\n",
            "learning_rate: 0.0004096000000000001\n"
          ]
        },
        {
          "output_type": "stream",
          "name": "stderr",
          "text": [
            "epoch 731: 100%|██████████| 282/282 [00:08<00:00, 31.87it/s]\n"
          ]
        },
        {
          "output_type": "stream",
          "name": "stdout",
          "text": [
            "validation loss: 0.000999152953426043 at epoch 732\n",
            "learning_rate: 0.0004096000000000001\n"
          ]
        },
        {
          "output_type": "stream",
          "name": "stderr",
          "text": [
            "epoch 732: 100%|██████████| 282/282 [00:09<00:00, 30.73it/s]\n"
          ]
        },
        {
          "output_type": "stream",
          "name": "stdout",
          "text": [
            "validation loss: 0.001892954856157303 at epoch 733\n",
            "learning_rate: 0.0004096000000000001\n"
          ]
        },
        {
          "output_type": "stream",
          "name": "stderr",
          "text": [
            "epoch 733: 100%|██████████| 282/282 [00:09<00:00, 30.48it/s]\n"
          ]
        },
        {
          "output_type": "stream",
          "name": "stdout",
          "text": [
            "validation loss: 0.0008162615166770088 at epoch 734\n",
            "learning_rate: 0.0004096000000000001\n"
          ]
        },
        {
          "output_type": "stream",
          "name": "stderr",
          "text": [
            "epoch 734: 100%|██████████| 282/282 [00:08<00:00, 33.87it/s]\n"
          ]
        },
        {
          "output_type": "stream",
          "name": "stdout",
          "text": [
            "validation loss: 0.0012224304816789097 at epoch 735\n",
            "learning_rate: 0.0004096000000000001\n"
          ]
        },
        {
          "output_type": "stream",
          "name": "stderr",
          "text": [
            "epoch 735: 100%|██████████| 282/282 [00:09<00:00, 31.33it/s]\n"
          ]
        },
        {
          "output_type": "stream",
          "name": "stdout",
          "text": [
            "validation loss: 0.0005878953838513957 at epoch 736\n",
            "learning_rate: 0.0004096000000000001\n"
          ]
        },
        {
          "output_type": "stream",
          "name": "stderr",
          "text": [
            "epoch 736: 100%|██████████| 282/282 [00:09<00:00, 31.21it/s]\n"
          ]
        },
        {
          "output_type": "stream",
          "name": "stdout",
          "text": [
            "validation loss: 0.0011848047085934216 at epoch 737\n",
            "learning_rate: 0.0004096000000000001\n"
          ]
        },
        {
          "output_type": "stream",
          "name": "stderr",
          "text": [
            "epoch 737: 100%|██████████| 282/282 [00:08<00:00, 32.51it/s]\n"
          ]
        },
        {
          "output_type": "stream",
          "name": "stdout",
          "text": [
            "validation loss: 0.0006031392253935337 at epoch 738\n",
            "learning_rate: 0.0004096000000000001\n"
          ]
        },
        {
          "output_type": "stream",
          "name": "stderr",
          "text": [
            "epoch 738: 100%|██████████| 282/282 [00:08<00:00, 33.52it/s]\n"
          ]
        },
        {
          "output_type": "stream",
          "name": "stdout",
          "text": [
            "validation loss: 0.0016119693683253394 at epoch 739\n",
            "learning_rate: 0.0004096000000000001\n"
          ]
        },
        {
          "output_type": "stream",
          "name": "stderr",
          "text": [
            "epoch 739: 100%|██████████| 282/282 [00:09<00:00, 30.97it/s]\n"
          ]
        },
        {
          "output_type": "stream",
          "name": "stdout",
          "text": [
            "validation loss: 0.0012028150177664228 at epoch 740\n",
            "learning_rate: 0.0004096000000000001\n"
          ]
        },
        {
          "output_type": "stream",
          "name": "stderr",
          "text": [
            "epoch 740: 100%|██████████| 282/282 [00:09<00:00, 31.20it/s]\n"
          ]
        },
        {
          "output_type": "stream",
          "name": "stdout",
          "text": [
            "validation loss: 0.0017025897320773866 at epoch 741\n",
            "learning_rate: 0.0004096000000000001\n"
          ]
        },
        {
          "output_type": "stream",
          "name": "stderr",
          "text": [
            "epoch 741: 100%|██████████| 282/282 [00:08<00:00, 34.99it/s]\n"
          ]
        },
        {
          "output_type": "stream",
          "name": "stdout",
          "text": [
            "validation loss: 0.0003784549722654952 at epoch 742\n",
            "learning_rate: 0.0004096000000000001\n",
            "model saved in ani_acrolein.pt\n"
          ]
        },
        {
          "output_type": "stream",
          "name": "stderr",
          "text": [
            "epoch 742: 100%|██████████| 282/282 [00:09<00:00, 31.32it/s]\n"
          ]
        },
        {
          "output_type": "stream",
          "name": "stdout",
          "text": [
            "validation loss: 0.0004927686407334275 at epoch 743\n",
            "learning_rate: 0.0004096000000000001\n"
          ]
        },
        {
          "output_type": "stream",
          "name": "stderr",
          "text": [
            "epoch 743: 100%|██████████| 282/282 [00:09<00:00, 31.08it/s]\n"
          ]
        },
        {
          "output_type": "stream",
          "name": "stdout",
          "text": [
            "validation loss: 0.0013901056365834342 at epoch 744\n",
            "learning_rate: 0.0004096000000000001\n"
          ]
        },
        {
          "output_type": "stream",
          "name": "stderr",
          "text": [
            "epoch 744: 100%|██████████| 282/282 [00:08<00:00, 33.43it/s]\n"
          ]
        },
        {
          "output_type": "stream",
          "name": "stdout",
          "text": [
            "validation loss: 0.0017112028549114862 at epoch 745\n",
            "learning_rate: 0.0004096000000000001\n"
          ]
        },
        {
          "output_type": "stream",
          "name": "stderr",
          "text": [
            "epoch 745: 100%|██████████| 282/282 [00:08<00:00, 34.36it/s]\n"
          ]
        },
        {
          "output_type": "stream",
          "name": "stdout",
          "text": [
            "validation loss: 0.0006838394047485458 at epoch 746\n",
            "learning_rate: 0.0004096000000000001\n"
          ]
        },
        {
          "output_type": "stream",
          "name": "stderr",
          "text": [
            "epoch 746: 100%|██████████| 282/282 [00:08<00:00, 31.58it/s]\n"
          ]
        },
        {
          "output_type": "stream",
          "name": "stdout",
          "text": [
            "validation loss: 0.0015601354315876962 at epoch 747\n",
            "learning_rate: 0.0004096000000000001\n"
          ]
        },
        {
          "output_type": "stream",
          "name": "stderr",
          "text": [
            "epoch 747: 100%|██████████| 282/282 [00:08<00:00, 31.89it/s]\n"
          ]
        },
        {
          "output_type": "stream",
          "name": "stdout",
          "text": [
            "validation loss: 0.00037042007740173074 at epoch 748\n",
            "learning_rate: 0.0004096000000000001\n",
            "model saved in ani_acrolein.pt\n"
          ]
        },
        {
          "output_type": "stream",
          "name": "stderr",
          "text": [
            "epoch 748: 100%|██████████| 282/282 [00:07<00:00, 35.43it/s]\n"
          ]
        },
        {
          "output_type": "stream",
          "name": "stdout",
          "text": [
            "validation loss: 0.0020377559214830396 at epoch 749\n",
            "learning_rate: 0.0004096000000000001\n"
          ]
        },
        {
          "output_type": "stream",
          "name": "stderr",
          "text": [
            "epoch 749: 100%|██████████| 282/282 [00:08<00:00, 31.82it/s]\n"
          ]
        },
        {
          "output_type": "stream",
          "name": "stdout",
          "text": [
            "validation loss: 0.0008432034833563698 at epoch 750\n",
            "learning_rate: 0.0004096000000000001\n"
          ]
        },
        {
          "output_type": "stream",
          "name": "stderr",
          "text": [
            "epoch 750: 100%|██████████| 282/282 [00:08<00:00, 31.54it/s]\n"
          ]
        },
        {
          "output_type": "stream",
          "name": "stdout",
          "text": [
            "validation loss: 0.0005105344847672515 at epoch 751\n",
            "learning_rate: 0.0004096000000000001\n"
          ]
        },
        {
          "output_type": "stream",
          "name": "stderr",
          "text": [
            "epoch 751: 100%|██████████| 282/282 [00:08<00:00, 34.96it/s]\n"
          ]
        },
        {
          "output_type": "stream",
          "name": "stdout",
          "text": [
            "validation loss: 0.0010694583099749354 at epoch 752\n",
            "learning_rate: 0.0004096000000000001\n"
          ]
        },
        {
          "output_type": "stream",
          "name": "stderr",
          "text": [
            "epoch 752: 100%|██████████| 282/282 [00:08<00:00, 32.51it/s]\n"
          ]
        },
        {
          "output_type": "stream",
          "name": "stdout",
          "text": [
            "validation loss: 0.00039728487614128325 at epoch 753\n",
            "learning_rate: 0.0004096000000000001\n"
          ]
        },
        {
          "output_type": "stream",
          "name": "stderr",
          "text": [
            "epoch 753: 100%|██████████| 282/282 [00:08<00:00, 31.52it/s]\n"
          ]
        },
        {
          "output_type": "stream",
          "name": "stdout",
          "text": [
            "validation loss: 0.001536419115960598 at epoch 754\n",
            "learning_rate: 0.0004096000000000001\n"
          ]
        },
        {
          "output_type": "stream",
          "name": "stderr",
          "text": [
            "epoch 754: 100%|██████████| 282/282 [00:08<00:00, 32.76it/s]\n"
          ]
        },
        {
          "output_type": "stream",
          "name": "stdout",
          "text": [
            "validation loss: 0.0013084155892332395 at epoch 755\n",
            "learning_rate: 0.0004096000000000001\n"
          ]
        },
        {
          "output_type": "stream",
          "name": "stderr",
          "text": [
            "epoch 755: 100%|██████████| 282/282 [00:08<00:00, 35.22it/s]\n"
          ]
        },
        {
          "output_type": "stream",
          "name": "stdout",
          "text": [
            "validation loss: 0.0011555722032984097 at epoch 756\n",
            "learning_rate: 0.0004096000000000001\n"
          ]
        },
        {
          "output_type": "stream",
          "name": "stderr",
          "text": [
            "epoch 756: 100%|██████████| 282/282 [00:08<00:00, 31.58it/s]\n"
          ]
        },
        {
          "output_type": "stream",
          "name": "stdout",
          "text": [
            "validation loss: 0.0016153050735592841 at epoch 757\n",
            "learning_rate: 0.0004096000000000001\n"
          ]
        },
        {
          "output_type": "stream",
          "name": "stderr",
          "text": [
            "epoch 757: 100%|██████████| 282/282 [00:08<00:00, 31.55it/s]\n"
          ]
        },
        {
          "output_type": "stream",
          "name": "stdout",
          "text": [
            "validation loss: 0.0010885495924287372 at epoch 758\n",
            "learning_rate: 0.0004096000000000001\n"
          ]
        },
        {
          "output_type": "stream",
          "name": "stderr",
          "text": [
            "epoch 758: 100%|██████████| 282/282 [00:07<00:00, 35.68it/s]\n"
          ]
        },
        {
          "output_type": "stream",
          "name": "stdout",
          "text": [
            "validation loss: 0.0019321837822596233 at epoch 759\n",
            "learning_rate: 0.0004096000000000001\n"
          ]
        },
        {
          "output_type": "stream",
          "name": "stderr",
          "text": [
            "epoch 759: 100%|██████████| 282/282 [00:08<00:00, 31.54it/s]\n"
          ]
        },
        {
          "output_type": "stream",
          "name": "stdout",
          "text": [
            "validation loss: 0.00125539008114073 at epoch 760\n",
            "learning_rate: 0.0004096000000000001\n"
          ]
        },
        {
          "output_type": "stream",
          "name": "stderr",
          "text": [
            "epoch 760: 100%|██████████| 282/282 [00:08<00:00, 32.04it/s]\n"
          ]
        },
        {
          "output_type": "stream",
          "name": "stdout",
          "text": [
            "validation loss: 0.0006783043191664748 at epoch 761\n",
            "learning_rate: 0.0004096000000000001\n"
          ]
        },
        {
          "output_type": "stream",
          "name": "stderr",
          "text": [
            "epoch 761: 100%|██████████| 282/282 [00:08<00:00, 34.71it/s]\n"
          ]
        },
        {
          "output_type": "stream",
          "name": "stdout",
          "text": [
            "validation loss: 0.0003917679794960552 at epoch 762\n",
            "learning_rate: 0.0004096000000000001\n"
          ]
        },
        {
          "output_type": "stream",
          "name": "stderr",
          "text": [
            "epoch 762: 100%|██████████| 282/282 [00:08<00:00, 33.88it/s]\n"
          ]
        },
        {
          "output_type": "stream",
          "name": "stdout",
          "text": [
            "validation loss: 0.0014940557065937254 at epoch 763\n",
            "learning_rate: 0.0004096000000000001\n"
          ]
        },
        {
          "output_type": "stream",
          "name": "stderr",
          "text": [
            "epoch 763: 100%|██████████| 282/282 [00:08<00:00, 31.60it/s]\n"
          ]
        },
        {
          "output_type": "stream",
          "name": "stdout",
          "text": [
            "validation loss: 0.0007214090327421825 at epoch 764\n",
            "learning_rate: 0.0004096000000000001\n"
          ]
        },
        {
          "output_type": "stream",
          "name": "stderr",
          "text": [
            "epoch 764: 100%|██████████| 282/282 [00:08<00:00, 32.89it/s]\n"
          ]
        },
        {
          "output_type": "stream",
          "name": "stdout",
          "text": [
            "validation loss: 0.000521273480107387 at epoch 765\n",
            "learning_rate: 0.0004096000000000001\n"
          ]
        },
        {
          "output_type": "stream",
          "name": "stderr",
          "text": [
            "epoch 765: 100%|██████████| 282/282 [00:07<00:00, 35.48it/s]\n"
          ]
        },
        {
          "output_type": "stream",
          "name": "stdout",
          "text": [
            "validation loss: 0.0011707997015780872 at epoch 766\n",
            "learning_rate: 0.0004096000000000001\n"
          ]
        },
        {
          "output_type": "stream",
          "name": "stderr",
          "text": [
            "epoch 766: 100%|██████████| 282/282 [00:08<00:00, 31.92it/s]\n"
          ]
        },
        {
          "output_type": "stream",
          "name": "stdout",
          "text": [
            "validation loss: 0.0013189526167180802 at epoch 767\n",
            "learning_rate: 0.0004096000000000001\n"
          ]
        },
        {
          "output_type": "stream",
          "name": "stderr",
          "text": [
            "epoch 767: 100%|██████████| 282/282 [00:08<00:00, 31.84it/s]\n"
          ]
        },
        {
          "output_type": "stream",
          "name": "stdout",
          "text": [
            "validation loss: 0.0008267386522558001 at epoch 768\n",
            "learning_rate: 0.0004096000000000001\n"
          ]
        },
        {
          "output_type": "stream",
          "name": "stderr",
          "text": [
            "epoch 768: 100%|██████████| 282/282 [00:07<00:00, 35.59it/s]\n"
          ]
        },
        {
          "output_type": "stream",
          "name": "stdout",
          "text": [
            "validation loss: 0.0007171022018624677 at epoch 769\n",
            "learning_rate: 0.0004096000000000001\n"
          ]
        },
        {
          "output_type": "stream",
          "name": "stderr",
          "text": [
            "epoch 769: 100%|██████████| 282/282 [00:08<00:00, 32.24it/s]\n"
          ]
        },
        {
          "output_type": "stream",
          "name": "stdout",
          "text": [
            "validation loss: 0.0006057314318087366 at epoch 770\n",
            "learning_rate: 0.0004096000000000001\n"
          ]
        },
        {
          "output_type": "stream",
          "name": "stderr",
          "text": [
            "epoch 770: 100%|██████████| 282/282 [00:08<00:00, 32.08it/s]\n"
          ]
        },
        {
          "output_type": "stream",
          "name": "stdout",
          "text": [
            "validation loss: 0.0015504370687736404 at epoch 771\n",
            "learning_rate: 0.0004096000000000001\n"
          ]
        },
        {
          "output_type": "stream",
          "name": "stderr",
          "text": [
            "epoch 771: 100%|██████████| 282/282 [00:08<00:00, 33.48it/s]\n"
          ]
        },
        {
          "output_type": "stream",
          "name": "stdout",
          "text": [
            "validation loss: 0.0006718079414632585 at epoch 772\n",
            "learning_rate: 0.0004096000000000001\n"
          ]
        },
        {
          "output_type": "stream",
          "name": "stderr",
          "text": [
            "epoch 772: 100%|██████████| 282/282 [00:08<00:00, 32.84it/s]\n"
          ]
        },
        {
          "output_type": "stream",
          "name": "stdout",
          "text": [
            "validation loss: 0.0020512919177611668 at epoch 773\n",
            "learning_rate: 0.0004096000000000001\n"
          ]
        },
        {
          "output_type": "stream",
          "name": "stderr",
          "text": [
            "epoch 773: 100%|██████████| 282/282 [00:08<00:00, 32.16it/s]\n"
          ]
        },
        {
          "output_type": "stream",
          "name": "stdout",
          "text": [
            "validation loss: 0.0011856675371527672 at epoch 774\n",
            "learning_rate: 0.0004096000000000001\n"
          ]
        },
        {
          "output_type": "stream",
          "name": "stderr",
          "text": [
            "epoch 774: 100%|██████████| 282/282 [00:08<00:00, 31.86it/s]\n"
          ]
        },
        {
          "output_type": "stream",
          "name": "stdout",
          "text": [
            "validation loss: 0.0014544461303287082 at epoch 775\n",
            "learning_rate: 0.0004096000000000001\n"
          ]
        },
        {
          "output_type": "stream",
          "name": "stderr",
          "text": [
            "epoch 775: 100%|██████████| 282/282 [00:08<00:00, 35.16it/s]\n"
          ]
        },
        {
          "output_type": "stream",
          "name": "stdout",
          "text": [
            "validation loss: 0.0009129329845309257 at epoch 776\n",
            "learning_rate: 0.0004096000000000001\n"
          ]
        },
        {
          "output_type": "stream",
          "name": "stderr",
          "text": [
            "epoch 776: 100%|██████████| 282/282 [00:08<00:00, 31.44it/s]\n"
          ]
        },
        {
          "output_type": "stream",
          "name": "stdout",
          "text": [
            "validation loss: 0.00040774034522473814 at epoch 777\n",
            "learning_rate: 0.0004096000000000001\n"
          ]
        },
        {
          "output_type": "stream",
          "name": "stderr",
          "text": [
            "epoch 777: 100%|██████████| 282/282 [00:08<00:00, 31.56it/s]\n"
          ]
        },
        {
          "output_type": "stream",
          "name": "stdout",
          "text": [
            "validation loss: 0.0012827838038404784 at epoch 778\n",
            "learning_rate: 0.0004096000000000001\n"
          ]
        },
        {
          "output_type": "stream",
          "name": "stderr",
          "text": [
            "epoch 778: 100%|██████████| 282/282 [00:08<00:00, 34.22it/s]\n"
          ]
        },
        {
          "output_type": "stream",
          "name": "stdout",
          "text": [
            "validation loss: 0.0013443811602062649 at epoch 779\n",
            "learning_rate: 0.0004096000000000001\n"
          ]
        },
        {
          "output_type": "stream",
          "name": "stderr",
          "text": [
            "epoch 779: 100%|██████████| 282/282 [00:08<00:00, 33.18it/s]\n"
          ]
        },
        {
          "output_type": "stream",
          "name": "stdout",
          "text": [
            "validation loss: 0.001672979477379057 at epoch 780\n",
            "learning_rate: 0.0004096000000000001\n"
          ]
        },
        {
          "output_type": "stream",
          "name": "stderr",
          "text": [
            "epoch 780: 100%|██████████| 282/282 [00:08<00:00, 32.12it/s]\n"
          ]
        },
        {
          "output_type": "stream",
          "name": "stdout",
          "text": [
            "validation loss: 0.0013649875488546159 at epoch 781\n",
            "learning_rate: 0.0004096000000000001\n"
          ]
        },
        {
          "output_type": "stream",
          "name": "stderr",
          "text": [
            "epoch 781: 100%|██████████| 282/282 [00:08<00:00, 32.23it/s]\n"
          ]
        },
        {
          "output_type": "stream",
          "name": "stdout",
          "text": [
            "validation loss: 0.0010907741520139907 at epoch 782\n",
            "learning_rate: 0.0004096000000000001\n"
          ]
        },
        {
          "output_type": "stream",
          "name": "stderr",
          "text": [
            "epoch 782: 100%|██████████| 282/282 [00:08<00:00, 34.97it/s]\n"
          ]
        },
        {
          "output_type": "stream",
          "name": "stdout",
          "text": [
            "validation loss: 0.0004907311846812566 at epoch 783\n",
            "learning_rate: 0.0004096000000000001\n"
          ]
        },
        {
          "output_type": "stream",
          "name": "stderr",
          "text": [
            "epoch 783: 100%|██████████| 282/282 [00:08<00:00, 31.88it/s]\n"
          ]
        },
        {
          "output_type": "stream",
          "name": "stdout",
          "text": [
            "validation loss: 0.0013675112111700906 at epoch 784\n",
            "learning_rate: 0.0004096000000000001\n"
          ]
        },
        {
          "output_type": "stream",
          "name": "stderr",
          "text": [
            "epoch 784: 100%|██████████| 282/282 [00:08<00:00, 31.93it/s]\n"
          ]
        },
        {
          "output_type": "stream",
          "name": "stdout",
          "text": [
            "validation loss: 0.0003258749308685462 at epoch 785\n",
            "learning_rate: 0.0004096000000000001\n",
            "model saved in ani_acrolein.pt\n"
          ]
        },
        {
          "output_type": "stream",
          "name": "stderr",
          "text": [
            "epoch 785: 100%|██████████| 282/282 [00:08<00:00, 33.80it/s]\n"
          ]
        },
        {
          "output_type": "stream",
          "name": "stdout",
          "text": [
            "validation loss: 0.0006758736856281758 at epoch 786\n",
            "learning_rate: 0.0004096000000000001\n"
          ]
        },
        {
          "output_type": "stream",
          "name": "stderr",
          "text": [
            "epoch 786: 100%|██████████| 282/282 [00:08<00:00, 32.85it/s]\n"
          ]
        },
        {
          "output_type": "stream",
          "name": "stdout",
          "text": [
            "validation loss: 0.0006649229249192608 at epoch 787\n",
            "learning_rate: 0.0004096000000000001\n"
          ]
        },
        {
          "output_type": "stream",
          "name": "stderr",
          "text": [
            "epoch 787: 100%|██████████| 282/282 [00:08<00:00, 31.82it/s]\n"
          ]
        },
        {
          "output_type": "stream",
          "name": "stdout",
          "text": [
            "validation loss: 0.001994060516357422 at epoch 788\n",
            "learning_rate: 0.0004096000000000001\n"
          ]
        },
        {
          "output_type": "stream",
          "name": "stderr",
          "text": [
            "epoch 788: 100%|██████████| 282/282 [00:08<00:00, 32.15it/s]\n"
          ]
        },
        {
          "output_type": "stream",
          "name": "stdout",
          "text": [
            "validation loss: 0.0005020348988473416 at epoch 789\n",
            "learning_rate: 0.0004096000000000001\n"
          ]
        },
        {
          "output_type": "stream",
          "name": "stderr",
          "text": [
            "epoch 789: 100%|██████████| 282/282 [00:08<00:00, 35.10it/s]\n"
          ]
        },
        {
          "output_type": "stream",
          "name": "stdout",
          "text": [
            "validation loss: 0.00034581810898251004 at epoch 790\n",
            "learning_rate: 0.0004096000000000001\n"
          ]
        },
        {
          "output_type": "stream",
          "name": "stderr",
          "text": [
            "epoch 790: 100%|██████████| 282/282 [00:08<00:00, 31.87it/s]\n"
          ]
        },
        {
          "output_type": "stream",
          "name": "stdout",
          "text": [
            "validation loss: 0.0010144848600029946 at epoch 791\n",
            "learning_rate: 0.0004096000000000001\n"
          ]
        },
        {
          "output_type": "stream",
          "name": "stderr",
          "text": [
            "epoch 791: 100%|██████████| 282/282 [00:08<00:00, 31.81it/s]\n"
          ]
        },
        {
          "output_type": "stream",
          "name": "stdout",
          "text": [
            "validation loss: 0.0012638050160474247 at epoch 792\n",
            "learning_rate: 0.0004096000000000001\n"
          ]
        },
        {
          "output_type": "stream",
          "name": "stderr",
          "text": [
            "epoch 792: 100%|██████████| 282/282 [00:08<00:00, 35.10it/s]\n"
          ]
        },
        {
          "output_type": "stream",
          "name": "stdout",
          "text": [
            "validation loss: 0.00188849252793524 at epoch 793\n",
            "learning_rate: 0.0004096000000000001\n"
          ]
        },
        {
          "output_type": "stream",
          "name": "stderr",
          "text": [
            "epoch 793: 100%|██████████| 282/282 [00:08<00:00, 31.80it/s]\n"
          ]
        },
        {
          "output_type": "stream",
          "name": "stdout",
          "text": [
            "validation loss: 0.0007633213657471868 at epoch 794\n",
            "learning_rate: 0.0004096000000000001\n"
          ]
        },
        {
          "output_type": "stream",
          "name": "stderr",
          "text": [
            "epoch 794: 100%|██████████| 282/282 [00:08<00:00, 31.61it/s]\n"
          ]
        },
        {
          "output_type": "stream",
          "name": "stdout",
          "text": [
            "validation loss: 0.00043104460711280507 at epoch 795\n",
            "learning_rate: 0.0004096000000000001\n"
          ]
        },
        {
          "output_type": "stream",
          "name": "stderr",
          "text": [
            "epoch 795: 100%|██████████| 282/282 [00:08<00:00, 33.99it/s]\n"
          ]
        },
        {
          "output_type": "stream",
          "name": "stdout",
          "text": [
            "validation loss: 0.0015196833602256245 at epoch 796\n",
            "learning_rate: 0.0004096000000000001\n"
          ]
        },
        {
          "output_type": "stream",
          "name": "stderr",
          "text": [
            "epoch 796: 100%|██████████| 282/282 [00:08<00:00, 33.60it/s]\n"
          ]
        },
        {
          "output_type": "stream",
          "name": "stdout",
          "text": [
            "validation loss: 0.0017859852636853853 at epoch 797\n",
            "learning_rate: 0.0004096000000000001\n"
          ]
        },
        {
          "output_type": "stream",
          "name": "stderr",
          "text": [
            "epoch 797: 100%|██████████| 282/282 [00:08<00:00, 31.55it/s]\n"
          ]
        },
        {
          "output_type": "stream",
          "name": "stdout",
          "text": [
            "validation loss: 0.0013197621934943728 at epoch 798\n",
            "learning_rate: 0.0004096000000000001\n"
          ]
        },
        {
          "output_type": "stream",
          "name": "stderr",
          "text": [
            "epoch 798: 100%|██████████| 282/282 [00:09<00:00, 31.10it/s]\n"
          ]
        },
        {
          "output_type": "stream",
          "name": "stdout",
          "text": [
            "validation loss: 0.0018051474524868859 at epoch 799\n",
            "learning_rate: 0.0004096000000000001\n"
          ]
        },
        {
          "output_type": "stream",
          "name": "stderr",
          "text": [
            "epoch 799: 100%|██████████| 282/282 [00:08<00:00, 35.17it/s]\n"
          ]
        },
        {
          "output_type": "stream",
          "name": "stdout",
          "text": [
            "validation loss: 0.0007545796703133318 at epoch 800\n",
            "learning_rate: 0.0004096000000000001\n"
          ]
        },
        {
          "output_type": "stream",
          "name": "stderr",
          "text": [
            "epoch 800: 100%|██████████| 282/282 [00:08<00:00, 31.39it/s]\n"
          ]
        },
        {
          "output_type": "stream",
          "name": "stdout",
          "text": [
            "validation loss: 0.0013512646324104732 at epoch 801\n",
            "learning_rate: 0.0004096000000000001\n"
          ]
        },
        {
          "output_type": "stream",
          "name": "stderr",
          "text": [
            "epoch 801: 100%|██████████| 282/282 [00:09<00:00, 31.30it/s]\n"
          ]
        },
        {
          "output_type": "stream",
          "name": "stdout",
          "text": [
            "validation loss: 0.0009107427986131774 at epoch 802\n",
            "learning_rate: 0.0004096000000000001\n"
          ]
        },
        {
          "output_type": "stream",
          "name": "stderr",
          "text": [
            "epoch 802: 100%|██████████| 282/282 [00:07<00:00, 35.31it/s]\n"
          ]
        },
        {
          "output_type": "stream",
          "name": "stdout",
          "text": [
            "validation loss: 0.0012724652108218935 at epoch 803\n",
            "learning_rate: 0.0004096000000000001\n"
          ]
        },
        {
          "output_type": "stream",
          "name": "stderr",
          "text": [
            "epoch 803: 100%|██████████| 282/282 [00:08<00:00, 31.93it/s]\n"
          ]
        },
        {
          "output_type": "stream",
          "name": "stdout",
          "text": [
            "validation loss: 0.0023049744731850094 at epoch 804\n",
            "learning_rate: 0.0004096000000000001\n"
          ]
        },
        {
          "output_type": "stream",
          "name": "stderr",
          "text": [
            "epoch 804: 100%|██████████| 282/282 [00:09<00:00, 31.09it/s]\n"
          ]
        },
        {
          "output_type": "stream",
          "name": "stdout",
          "text": [
            "validation loss: 0.0004651278309110138 at epoch 805\n",
            "learning_rate: 0.0004096000000000001\n"
          ]
        },
        {
          "output_type": "stream",
          "name": "stderr",
          "text": [
            "epoch 805: 100%|██████████| 282/282 [00:08<00:00, 33.14it/s]\n"
          ]
        },
        {
          "output_type": "stream",
          "name": "stdout",
          "text": [
            "validation loss: 0.0021686452941762076 at epoch 806\n",
            "learning_rate: 0.0004096000000000001\n"
          ]
        },
        {
          "output_type": "stream",
          "name": "stderr",
          "text": [
            "epoch 806: 100%|██████████| 282/282 [00:08<00:00, 34.07it/s]\n"
          ]
        },
        {
          "output_type": "stream",
          "name": "stdout",
          "text": [
            "validation loss: 0.0008783240144451459 at epoch 807\n",
            "learning_rate: 0.0004096000000000001\n"
          ]
        },
        {
          "output_type": "stream",
          "name": "stderr",
          "text": [
            "epoch 807: 100%|██████████| 282/282 [00:08<00:00, 31.45it/s]\n"
          ]
        },
        {
          "output_type": "stream",
          "name": "stdout",
          "text": [
            "validation loss: 0.001636833555996418 at epoch 808\n",
            "learning_rate: 0.0004096000000000001\n"
          ]
        },
        {
          "output_type": "stream",
          "name": "stderr",
          "text": [
            "epoch 808: 100%|██████████| 282/282 [00:09<00:00, 31.15it/s]\n"
          ]
        },
        {
          "output_type": "stream",
          "name": "stdout",
          "text": [
            "validation loss: 0.0012116009154253535 at epoch 809\n",
            "learning_rate: 0.0004096000000000001\n"
          ]
        },
        {
          "output_type": "stream",
          "name": "stderr",
          "text": [
            "epoch 809: 100%|██████████| 282/282 [00:08<00:00, 35.08it/s]\n"
          ]
        },
        {
          "output_type": "stream",
          "name": "stdout",
          "text": [
            "validation loss: 0.000920220038957066 at epoch 810\n",
            "learning_rate: 0.0004096000000000001\n"
          ]
        },
        {
          "output_type": "stream",
          "name": "stderr",
          "text": [
            "epoch 810: 100%|██████████| 282/282 [00:08<00:00, 31.97it/s]\n"
          ]
        },
        {
          "output_type": "stream",
          "name": "stdout",
          "text": [
            "validation loss: 0.002097964834835794 at epoch 811\n",
            "learning_rate: 0.0004096000000000001\n"
          ]
        },
        {
          "output_type": "stream",
          "name": "stderr",
          "text": [
            "epoch 811: 100%|██████████| 282/282 [00:08<00:00, 31.39it/s]\n"
          ]
        },
        {
          "output_type": "stream",
          "name": "stdout",
          "text": [
            "validation loss: 0.00034282759928868875 at epoch 812\n",
            "learning_rate: 0.0004096000000000001\n"
          ]
        },
        {
          "output_type": "stream",
          "name": "stderr",
          "text": [
            "epoch 812: 100%|██████████| 282/282 [00:08<00:00, 33.62it/s]\n"
          ]
        },
        {
          "output_type": "stream",
          "name": "stdout",
          "text": [
            "validation loss: 0.001903789007001453 at epoch 813\n",
            "learning_rate: 0.0004096000000000001\n"
          ]
        },
        {
          "output_type": "stream",
          "name": "stderr",
          "text": [
            "epoch 813: 100%|██████████| 282/282 [00:08<00:00, 33.85it/s]\n"
          ]
        },
        {
          "output_type": "stream",
          "name": "stdout",
          "text": [
            "validation loss: 0.00047278015315532686 at epoch 814\n",
            "learning_rate: 0.0004096000000000001\n"
          ]
        },
        {
          "output_type": "stream",
          "name": "stderr",
          "text": [
            "epoch 814: 100%|██████████| 282/282 [00:08<00:00, 31.92it/s]\n"
          ]
        },
        {
          "output_type": "stream",
          "name": "stdout",
          "text": [
            "validation loss: 0.0010975353767474492 at epoch 815\n",
            "learning_rate: 0.0004096000000000001\n"
          ]
        },
        {
          "output_type": "stream",
          "name": "stderr",
          "text": [
            "epoch 815: 100%|██████████| 282/282 [00:09<00:00, 31.28it/s]\n"
          ]
        },
        {
          "output_type": "stream",
          "name": "stdout",
          "text": [
            "validation loss: 0.0016408481755190425 at epoch 816\n",
            "learning_rate: 0.0004096000000000001\n"
          ]
        },
        {
          "output_type": "stream",
          "name": "stderr",
          "text": [
            "epoch 816: 100%|██████████| 282/282 [00:08<00:00, 34.64it/s]\n"
          ]
        },
        {
          "output_type": "stream",
          "name": "stdout",
          "text": [
            "validation loss: 0.0004050063325299157 at epoch 817\n",
            "learning_rate: 0.0004096000000000001\n"
          ]
        },
        {
          "output_type": "stream",
          "name": "stderr",
          "text": [
            "epoch 817: 100%|██████████| 282/282 [00:08<00:00, 31.77it/s]\n"
          ]
        },
        {
          "output_type": "stream",
          "name": "stdout",
          "text": [
            "validation loss: 0.0018343394108944469 at epoch 818\n",
            "learning_rate: 0.0004096000000000001\n"
          ]
        },
        {
          "output_type": "stream",
          "name": "stderr",
          "text": [
            "epoch 818: 100%|██████████| 282/282 [00:08<00:00, 31.49it/s]\n"
          ]
        },
        {
          "output_type": "stream",
          "name": "stdout",
          "text": [
            "validation loss: 0.00197662286957105 at epoch 819\n",
            "learning_rate: 0.0004096000000000001\n"
          ]
        },
        {
          "output_type": "stream",
          "name": "stderr",
          "text": [
            "epoch 819: 100%|██████████| 282/282 [00:08<00:00, 34.68it/s]\n"
          ]
        },
        {
          "output_type": "stream",
          "name": "stdout",
          "text": [
            "validation loss: 0.000850613029466735 at epoch 820\n",
            "learning_rate: 0.0004096000000000001\n"
          ]
        },
        {
          "output_type": "stream",
          "name": "stderr",
          "text": [
            "epoch 820: 100%|██████████| 282/282 [00:08<00:00, 32.51it/s]\n"
          ]
        },
        {
          "output_type": "stream",
          "name": "stdout",
          "text": [
            "validation loss: 0.0014936309978365897 at epoch 821\n",
            "learning_rate: 0.0004096000000000001\n"
          ]
        },
        {
          "output_type": "stream",
          "name": "stderr",
          "text": [
            "epoch 821: 100%|██████████| 282/282 [00:09<00:00, 30.79it/s]\n"
          ]
        },
        {
          "output_type": "stream",
          "name": "stdout",
          "text": [
            "validation loss: 0.0020819910549455217 at epoch 822\n",
            "learning_rate: 0.0004096000000000001\n"
          ]
        },
        {
          "output_type": "stream",
          "name": "stderr",
          "text": [
            "epoch 822: 100%|██████████| 282/282 [00:08<00:00, 31.92it/s]\n"
          ]
        },
        {
          "output_type": "stream",
          "name": "stdout",
          "text": [
            "validation loss: 0.0003857214436348942 at epoch 823\n",
            "learning_rate: 0.0004096000000000001\n"
          ]
        },
        {
          "output_type": "stream",
          "name": "stderr",
          "text": [
            "epoch 823: 100%|██████████| 282/282 [00:08<00:00, 35.20it/s]\n"
          ]
        },
        {
          "output_type": "stream",
          "name": "stdout",
          "text": [
            "validation loss: 0.001783380997677644 at epoch 824\n",
            "learning_rate: 0.0004096000000000001\n"
          ]
        },
        {
          "output_type": "stream",
          "name": "stderr",
          "text": [
            "epoch 824: 100%|██████████| 282/282 [00:09<00:00, 31.28it/s]\n"
          ]
        },
        {
          "output_type": "stream",
          "name": "stdout",
          "text": [
            "validation loss: 0.0011844679945045048 at epoch 825\n",
            "learning_rate: 0.0004096000000000001\n"
          ]
        },
        {
          "output_type": "stream",
          "name": "stderr",
          "text": [
            "epoch 825: 100%|██████████| 282/282 [00:08<00:00, 31.83it/s]\n"
          ]
        },
        {
          "output_type": "stream",
          "name": "stdout",
          "text": [
            "validation loss: 0.0008968633065621058 at epoch 826\n",
            "learning_rate: 0.0004096000000000001\n"
          ]
        },
        {
          "output_type": "stream",
          "name": "stderr",
          "text": [
            "epoch 826: 100%|██████████| 282/282 [00:08<00:00, 35.22it/s]\n"
          ]
        },
        {
          "output_type": "stream",
          "name": "stdout",
          "text": [
            "validation loss: 0.0015408674221899774 at epoch 827\n",
            "learning_rate: 0.0004096000000000001\n"
          ]
        },
        {
          "output_type": "stream",
          "name": "stderr",
          "text": [
            "epoch 827: 100%|██████████| 282/282 [00:08<00:00, 31.53it/s]\n"
          ]
        },
        {
          "output_type": "stream",
          "name": "stdout",
          "text": [
            "validation loss: 0.0017540970204604996 at epoch 828\n",
            "learning_rate: 0.0004096000000000001\n"
          ]
        },
        {
          "output_type": "stream",
          "name": "stderr",
          "text": [
            "epoch 828: 100%|██████████| 282/282 [00:08<00:00, 31.70it/s]\n"
          ]
        },
        {
          "output_type": "stream",
          "name": "stdout",
          "text": [
            "validation loss: 0.0012588118811448414 at epoch 829\n",
            "learning_rate: 0.0004096000000000001\n"
          ]
        },
        {
          "output_type": "stream",
          "name": "stderr",
          "text": [
            "epoch 829: 100%|██████████| 282/282 [00:08<00:00, 34.35it/s]\n"
          ]
        },
        {
          "output_type": "stream",
          "name": "stdout",
          "text": [
            "validation loss: 0.002302662115958002 at epoch 830\n",
            "learning_rate: 0.0004096000000000001\n"
          ]
        },
        {
          "output_type": "stream",
          "name": "stderr",
          "text": [
            "epoch 830: 100%|██████████| 282/282 [00:08<00:00, 33.34it/s]\n"
          ]
        },
        {
          "output_type": "stream",
          "name": "stdout",
          "text": [
            "validation loss: 0.0010028843308488528 at epoch 831\n",
            "learning_rate: 0.0004096000000000001\n"
          ]
        },
        {
          "output_type": "stream",
          "name": "stderr",
          "text": [
            "epoch 831: 100%|██████████| 282/282 [00:08<00:00, 31.40it/s]\n"
          ]
        },
        {
          "output_type": "stream",
          "name": "stdout",
          "text": [
            "validation loss: 0.001214158193104797 at epoch 832\n",
            "learning_rate: 0.0004096000000000001\n"
          ]
        },
        {
          "output_type": "stream",
          "name": "stderr",
          "text": [
            "epoch 832: 100%|██████████| 282/282 [00:08<00:00, 32.29it/s]\n"
          ]
        },
        {
          "output_type": "stream",
          "name": "stdout",
          "text": [
            "validation loss: 0.0017099161694447199 at epoch 833\n",
            "learning_rate: 0.0004096000000000001\n"
          ]
        },
        {
          "output_type": "stream",
          "name": "stderr",
          "text": [
            "epoch 833: 100%|██████████| 282/282 [00:08<00:00, 35.24it/s]\n"
          ]
        },
        {
          "output_type": "stream",
          "name": "stdout",
          "text": [
            "validation loss: 0.002544293757941988 at epoch 834\n",
            "learning_rate: 0.0004096000000000001\n"
          ]
        },
        {
          "output_type": "stream",
          "name": "stderr",
          "text": [
            "epoch 834: 100%|██████████| 282/282 [00:09<00:00, 31.05it/s]\n"
          ]
        },
        {
          "output_type": "stream",
          "name": "stdout",
          "text": [
            "validation loss: 0.0018911563522285885 at epoch 835\n",
            "learning_rate: 0.0004096000000000001\n"
          ]
        },
        {
          "output_type": "stream",
          "name": "stderr",
          "text": [
            "epoch 835: 100%|██████████| 282/282 [00:09<00:00, 30.97it/s]\n"
          ]
        },
        {
          "output_type": "stream",
          "name": "stdout",
          "text": [
            "validation loss: 0.0010266163299481074 at epoch 836\n",
            "learning_rate: 0.0004096000000000001\n"
          ]
        },
        {
          "output_type": "stream",
          "name": "stderr",
          "text": [
            "epoch 836: 100%|██████████| 282/282 [00:08<00:00, 34.84it/s]\n"
          ]
        },
        {
          "output_type": "stream",
          "name": "stdout",
          "text": [
            "validation loss: 0.0003172556561314397 at epoch 837\n",
            "learning_rate: 0.0003276800000000001\n",
            "model saved in ani_acrolein.pt\n"
          ]
        },
        {
          "output_type": "stream",
          "name": "stderr",
          "text": [
            "epoch 837: 100%|██████████| 282/282 [00:08<00:00, 31.47it/s]\n"
          ]
        },
        {
          "output_type": "stream",
          "name": "stdout",
          "text": [
            "validation loss: 0.001316583279106352 at epoch 838\n",
            "learning_rate: 0.0003276800000000001\n"
          ]
        },
        {
          "output_type": "stream",
          "name": "stderr",
          "text": [
            "epoch 838: 100%|██████████| 282/282 [00:08<00:00, 31.37it/s]\n"
          ]
        },
        {
          "output_type": "stream",
          "name": "stdout",
          "text": [
            "validation loss: 0.0007438350038395988 at epoch 839\n",
            "learning_rate: 0.0003276800000000001\n"
          ]
        },
        {
          "output_type": "stream",
          "name": "stderr",
          "text": [
            "epoch 839: 100%|██████████| 282/282 [00:08<00:00, 34.32it/s]\n"
          ]
        },
        {
          "output_type": "stream",
          "name": "stdout",
          "text": [
            "validation loss: 0.0008624643037716548 at epoch 840\n",
            "learning_rate: 0.0003276800000000001\n"
          ]
        },
        {
          "output_type": "stream",
          "name": "stderr",
          "text": [
            "epoch 840: 100%|██████████| 282/282 [00:08<00:00, 34.01it/s]\n"
          ]
        },
        {
          "output_type": "stream",
          "name": "stdout",
          "text": [
            "validation loss: 0.0006944179957111676 at epoch 841\n",
            "learning_rate: 0.0003276800000000001\n"
          ]
        },
        {
          "output_type": "stream",
          "name": "stderr",
          "text": [
            "epoch 841: 100%|██████████| 282/282 [00:08<00:00, 32.08it/s]\n"
          ]
        },
        {
          "output_type": "stream",
          "name": "stdout",
          "text": [
            "validation loss: 0.0004127883863531881 at epoch 842\n",
            "learning_rate: 0.0003276800000000001\n"
          ]
        },
        {
          "output_type": "stream",
          "name": "stderr",
          "text": [
            "epoch 842: 100%|██████████| 282/282 [00:08<00:00, 31.46it/s]\n"
          ]
        },
        {
          "output_type": "stream",
          "name": "stdout",
          "text": [
            "validation loss: 0.001409050209654702 at epoch 843\n",
            "learning_rate: 0.0003276800000000001\n"
          ]
        },
        {
          "output_type": "stream",
          "name": "stderr",
          "text": [
            "epoch 843: 100%|██████████| 282/282 [00:08<00:00, 35.05it/s]\n"
          ]
        },
        {
          "output_type": "stream",
          "name": "stdout",
          "text": [
            "validation loss: 0.0005454720126258002 at epoch 844\n",
            "learning_rate: 0.0003276800000000001\n"
          ]
        },
        {
          "output_type": "stream",
          "name": "stderr",
          "text": [
            "epoch 844: 100%|██████████| 282/282 [00:08<00:00, 31.72it/s]\n"
          ]
        },
        {
          "output_type": "stream",
          "name": "stdout",
          "text": [
            "validation loss: 0.0008753345467978053 at epoch 845\n",
            "learning_rate: 0.0003276800000000001\n"
          ]
        },
        {
          "output_type": "stream",
          "name": "stderr",
          "text": [
            "epoch 845: 100%|██████████| 282/282 [00:08<00:00, 32.05it/s]\n"
          ]
        },
        {
          "output_type": "stream",
          "name": "stdout",
          "text": [
            "validation loss: 0.0015152841111024222 at epoch 846\n",
            "learning_rate: 0.0003276800000000001\n"
          ]
        },
        {
          "output_type": "stream",
          "name": "stderr",
          "text": [
            "epoch 846: 100%|██████████| 282/282 [00:08<00:00, 35.02it/s]\n"
          ]
        },
        {
          "output_type": "stream",
          "name": "stdout",
          "text": [
            "validation loss: 0.00158061692946487 at epoch 847\n",
            "learning_rate: 0.0003276800000000001\n"
          ]
        },
        {
          "output_type": "stream",
          "name": "stderr",
          "text": [
            "epoch 847: 100%|██████████| 282/282 [00:08<00:00, 32.77it/s]\n"
          ]
        },
        {
          "output_type": "stream",
          "name": "stdout",
          "text": [
            "validation loss: 0.0005358782700366444 at epoch 848\n",
            "learning_rate: 0.0003276800000000001\n"
          ]
        },
        {
          "output_type": "stream",
          "name": "stderr",
          "text": [
            "epoch 848: 100%|██████████| 282/282 [00:08<00:00, 31.35it/s]\n"
          ]
        },
        {
          "output_type": "stream",
          "name": "stdout",
          "text": [
            "validation loss: 0.001440791029897001 at epoch 849\n",
            "learning_rate: 0.0003276800000000001\n"
          ]
        },
        {
          "output_type": "stream",
          "name": "stderr",
          "text": [
            "epoch 849: 100%|██████████| 282/282 [00:08<00:00, 33.21it/s]\n"
          ]
        },
        {
          "output_type": "stream",
          "name": "stdout",
          "text": [
            "validation loss: 0.00034180811213122475 at epoch 850\n",
            "learning_rate: 0.0003276800000000001\n"
          ]
        },
        {
          "output_type": "stream",
          "name": "stderr",
          "text": [
            "epoch 850: 100%|██████████| 282/282 [00:08<00:00, 34.99it/s]\n"
          ]
        },
        {
          "output_type": "stream",
          "name": "stdout",
          "text": [
            "validation loss: 0.0017680371676882108 at epoch 851\n",
            "learning_rate: 0.0003276800000000001\n"
          ]
        },
        {
          "output_type": "stream",
          "name": "stderr",
          "text": [
            "epoch 851: 100%|██████████| 282/282 [00:08<00:00, 31.98it/s]\n"
          ]
        },
        {
          "output_type": "stream",
          "name": "stdout",
          "text": [
            "validation loss: 0.0007050408273935318 at epoch 852\n",
            "learning_rate: 0.0003276800000000001\n"
          ]
        },
        {
          "output_type": "stream",
          "name": "stderr",
          "text": [
            "epoch 852: 100%|██████████| 282/282 [00:08<00:00, 31.86it/s]\n"
          ]
        },
        {
          "output_type": "stream",
          "name": "stdout",
          "text": [
            "validation loss: 0.0005611712435881297 at epoch 853\n",
            "learning_rate: 0.0003276800000000001\n"
          ]
        },
        {
          "output_type": "stream",
          "name": "stderr",
          "text": [
            "epoch 853: 100%|██████████| 282/282 [00:08<00:00, 35.12it/s]\n"
          ]
        },
        {
          "output_type": "stream",
          "name": "stdout",
          "text": [
            "validation loss: 0.0014266412721739875 at epoch 854\n",
            "learning_rate: 0.0003276800000000001\n"
          ]
        },
        {
          "output_type": "stream",
          "name": "stderr",
          "text": [
            "epoch 854: 100%|██████████| 282/282 [00:08<00:00, 31.64it/s]\n"
          ]
        },
        {
          "output_type": "stream",
          "name": "stdout",
          "text": [
            "validation loss: 0.0005991984224981732 at epoch 855\n",
            "learning_rate: 0.0003276800000000001\n"
          ]
        },
        {
          "output_type": "stream",
          "name": "stderr",
          "text": [
            "epoch 855: 100%|██████████| 282/282 [00:08<00:00, 31.64it/s]\n"
          ]
        },
        {
          "output_type": "stream",
          "name": "stdout",
          "text": [
            "validation loss: 0.0009687781880299251 at epoch 856\n",
            "learning_rate: 0.0003276800000000001\n"
          ]
        },
        {
          "output_type": "stream",
          "name": "stderr",
          "text": [
            "epoch 856: 100%|██████████| 282/282 [00:08<00:00, 34.77it/s]\n"
          ]
        },
        {
          "output_type": "stream",
          "name": "stdout",
          "text": [
            "validation loss: 0.0016142840335766474 at epoch 857\n",
            "learning_rate: 0.0003276800000000001\n"
          ]
        },
        {
          "output_type": "stream",
          "name": "stderr",
          "text": [
            "epoch 857: 100%|██████████| 282/282 [00:08<00:00, 32.60it/s]\n"
          ]
        },
        {
          "output_type": "stream",
          "name": "stdout",
          "text": [
            "validation loss: 0.0012926551616854137 at epoch 858\n",
            "learning_rate: 0.0003276800000000001\n"
          ]
        },
        {
          "output_type": "stream",
          "name": "stderr",
          "text": [
            "epoch 858: 100%|██████████| 282/282 [00:08<00:00, 31.56it/s]\n"
          ]
        },
        {
          "output_type": "stream",
          "name": "stdout",
          "text": [
            "validation loss: 0.001215769863790936 at epoch 859\n",
            "learning_rate: 0.0003276800000000001\n"
          ]
        },
        {
          "output_type": "stream",
          "name": "stderr",
          "text": [
            "epoch 859: 100%|██████████| 282/282 [00:08<00:00, 32.81it/s]\n"
          ]
        },
        {
          "output_type": "stream",
          "name": "stdout",
          "text": [
            "validation loss: 0.00034045301605429917 at epoch 860\n",
            "learning_rate: 0.0003276800000000001\n"
          ]
        },
        {
          "output_type": "stream",
          "name": "stderr",
          "text": [
            "epoch 860: 100%|██████████| 282/282 [00:07<00:00, 35.33it/s]\n"
          ]
        },
        {
          "output_type": "stream",
          "name": "stdout",
          "text": [
            "validation loss: 0.0007433554401828183 at epoch 861\n",
            "learning_rate: 0.0003276800000000001\n"
          ]
        },
        {
          "output_type": "stream",
          "name": "stderr",
          "text": [
            "epoch 861: 100%|██████████| 282/282 [00:08<00:00, 31.37it/s]\n"
          ]
        },
        {
          "output_type": "stream",
          "name": "stdout",
          "text": [
            "validation loss: 0.0012773971930146216 at epoch 862\n",
            "learning_rate: 0.0003276800000000001\n"
          ]
        },
        {
          "output_type": "stream",
          "name": "stderr",
          "text": [
            "epoch 862: 100%|██████████| 282/282 [00:08<00:00, 32.00it/s]\n"
          ]
        },
        {
          "output_type": "stream",
          "name": "stdout",
          "text": [
            "validation loss: 0.0010791314856873617 at epoch 863\n",
            "learning_rate: 0.0003276800000000001\n"
          ]
        },
        {
          "output_type": "stream",
          "name": "stderr",
          "text": [
            "epoch 863: 100%|██████████| 282/282 [00:08<00:00, 35.14it/s]\n"
          ]
        },
        {
          "output_type": "stream",
          "name": "stdout",
          "text": [
            "validation loss: 0.0016445575637949838 at epoch 864\n",
            "learning_rate: 0.0003276800000000001\n"
          ]
        },
        {
          "output_type": "stream",
          "name": "stderr",
          "text": [
            "epoch 864: 100%|██████████| 282/282 [00:09<00:00, 31.17it/s]\n"
          ]
        },
        {
          "output_type": "stream",
          "name": "stdout",
          "text": [
            "validation loss: 0.00030519002427657445 at epoch 865\n",
            "learning_rate: 0.0003276800000000001\n",
            "model saved in ani_acrolein.pt\n"
          ]
        },
        {
          "output_type": "stream",
          "name": "stderr",
          "text": [
            "epoch 865: 100%|██████████| 282/282 [00:08<00:00, 32.14it/s]\n"
          ]
        },
        {
          "output_type": "stream",
          "name": "stdout",
          "text": [
            "validation loss: 0.0012081522353821332 at epoch 866\n",
            "learning_rate: 0.0003276800000000001\n"
          ]
        },
        {
          "output_type": "stream",
          "name": "stderr",
          "text": [
            "epoch 866: 100%|██████████| 282/282 [00:08<00:00, 34.79it/s]\n"
          ]
        },
        {
          "output_type": "stream",
          "name": "stdout",
          "text": [
            "validation loss: 0.0013249137037330203 at epoch 867\n",
            "learning_rate: 0.0003276800000000001\n"
          ]
        },
        {
          "output_type": "stream",
          "name": "stderr",
          "text": [
            "epoch 867: 100%|██████████| 282/282 [00:08<00:00, 32.88it/s]\n"
          ]
        },
        {
          "output_type": "stream",
          "name": "stdout",
          "text": [
            "validation loss: 0.0018780744589037366 at epoch 868\n",
            "learning_rate: 0.0003276800000000001\n"
          ]
        },
        {
          "output_type": "stream",
          "name": "stderr",
          "text": [
            "epoch 868: 100%|██████████| 282/282 [00:09<00:00, 31.30it/s]\n"
          ]
        },
        {
          "output_type": "stream",
          "name": "stdout",
          "text": [
            "validation loss: 0.0015123771321442392 at epoch 869\n",
            "learning_rate: 0.0003276800000000001\n"
          ]
        },
        {
          "output_type": "stream",
          "name": "stderr",
          "text": [
            "epoch 869: 100%|██████████| 282/282 [00:08<00:00, 31.93it/s]\n"
          ]
        },
        {
          "output_type": "stream",
          "name": "stdout",
          "text": [
            "validation loss: 0.0004536112666957908 at epoch 870\n",
            "learning_rate: 0.0003276800000000001\n"
          ]
        },
        {
          "output_type": "stream",
          "name": "stderr",
          "text": [
            "epoch 870: 100%|██████████| 282/282 [00:08<00:00, 35.10it/s]\n"
          ]
        },
        {
          "output_type": "stream",
          "name": "stdout",
          "text": [
            "validation loss: 0.0010298040045632257 at epoch 871\n",
            "learning_rate: 0.0003276800000000001\n"
          ]
        },
        {
          "output_type": "stream",
          "name": "stderr",
          "text": [
            "epoch 871: 100%|██████████| 282/282 [00:08<00:00, 31.52it/s]\n"
          ]
        },
        {
          "output_type": "stream",
          "name": "stdout",
          "text": [
            "validation loss: 0.0013549107594622507 at epoch 872\n",
            "learning_rate: 0.0003276800000000001\n"
          ]
        },
        {
          "output_type": "stream",
          "name": "stderr",
          "text": [
            "epoch 872: 100%|██████████| 282/282 [00:08<00:00, 31.64it/s]\n"
          ]
        },
        {
          "output_type": "stream",
          "name": "stdout",
          "text": [
            "validation loss: 0.0012087956186797883 at epoch 873\n",
            "learning_rate: 0.0003276800000000001\n"
          ]
        },
        {
          "output_type": "stream",
          "name": "stderr",
          "text": [
            "epoch 873: 100%|██████████| 282/282 [00:08<00:00, 34.90it/s]\n"
          ]
        },
        {
          "output_type": "stream",
          "name": "stdout",
          "text": [
            "validation loss: 0.0007132210557659468 at epoch 874\n",
            "learning_rate: 0.0003276800000000001\n"
          ]
        },
        {
          "output_type": "stream",
          "name": "stderr",
          "text": [
            "epoch 874: 100%|██████████| 282/282 [00:08<00:00, 31.87it/s]\n"
          ]
        },
        {
          "output_type": "stream",
          "name": "stdout",
          "text": [
            "validation loss: 0.0008194129297302829 at epoch 875\n",
            "learning_rate: 0.0003276800000000001\n"
          ]
        },
        {
          "output_type": "stream",
          "name": "stderr",
          "text": [
            "epoch 875: 100%|██████████| 282/282 [00:08<00:00, 31.49it/s]\n"
          ]
        },
        {
          "output_type": "stream",
          "name": "stdout",
          "text": [
            "validation loss: 0.0016960264096657436 at epoch 876\n",
            "learning_rate: 0.0003276800000000001\n"
          ]
        },
        {
          "output_type": "stream",
          "name": "stderr",
          "text": [
            "epoch 876: 100%|██████████| 282/282 [00:08<00:00, 34.39it/s]\n"
          ]
        },
        {
          "output_type": "stream",
          "name": "stdout",
          "text": [
            "validation loss: 0.0014029062415162722 at epoch 877\n",
            "learning_rate: 0.0003276800000000001\n"
          ]
        },
        {
          "output_type": "stream",
          "name": "stderr",
          "text": [
            "epoch 877: 100%|██████████| 282/282 [00:08<00:00, 33.11it/s]\n"
          ]
        },
        {
          "output_type": "stream",
          "name": "stdout",
          "text": [
            "validation loss: 0.00029868485571609603 at epoch 878\n",
            "learning_rate: 0.0003276800000000001\n",
            "model saved in ani_acrolein.pt\n"
          ]
        },
        {
          "output_type": "stream",
          "name": "stderr",
          "text": [
            "epoch 878: 100%|██████████| 282/282 [00:08<00:00, 31.74it/s]\n"
          ]
        },
        {
          "output_type": "stream",
          "name": "stdout",
          "text": [
            "validation loss: 0.0012584355423847834 at epoch 879\n",
            "learning_rate: 0.0003276800000000001\n"
          ]
        },
        {
          "output_type": "stream",
          "name": "stderr",
          "text": [
            "epoch 879: 100%|██████████| 282/282 [00:08<00:00, 31.97it/s]\n"
          ]
        },
        {
          "output_type": "stream",
          "name": "stdout",
          "text": [
            "validation loss: 0.0012021882583697636 at epoch 880\n",
            "learning_rate: 0.0003276800000000001\n"
          ]
        },
        {
          "output_type": "stream",
          "name": "stderr",
          "text": [
            "epoch 880: 100%|██████████| 282/282 [00:08<00:00, 34.48it/s]\n"
          ]
        },
        {
          "output_type": "stream",
          "name": "stdout",
          "text": [
            "validation loss: 0.0018386502315600713 at epoch 881\n",
            "learning_rate: 0.0003276800000000001\n"
          ]
        },
        {
          "output_type": "stream",
          "name": "stderr",
          "text": [
            "epoch 881: 100%|██████████| 282/282 [00:09<00:00, 31.27it/s]\n"
          ]
        },
        {
          "output_type": "stream",
          "name": "stdout",
          "text": [
            "validation loss: 0.00031502592605021267 at epoch 882\n",
            "learning_rate: 0.0003276800000000001\n"
          ]
        },
        {
          "output_type": "stream",
          "name": "stderr",
          "text": [
            "epoch 882: 100%|██████████| 282/282 [00:08<00:00, 31.59it/s]\n"
          ]
        },
        {
          "output_type": "stream",
          "name": "stdout",
          "text": [
            "validation loss: 0.0006060871784057882 at epoch 883\n",
            "learning_rate: 0.0003276800000000001\n"
          ]
        },
        {
          "output_type": "stream",
          "name": "stderr",
          "text": [
            "epoch 883: 100%|██████████| 282/282 [00:07<00:00, 35.32it/s]\n"
          ]
        },
        {
          "output_type": "stream",
          "name": "stdout",
          "text": [
            "validation loss: 0.001449132255382008 at epoch 884\n",
            "learning_rate: 0.0003276800000000001\n"
          ]
        },
        {
          "output_type": "stream",
          "name": "stderr",
          "text": [
            "epoch 884: 100%|██████████| 282/282 [00:08<00:00, 31.92it/s]\n"
          ]
        },
        {
          "output_type": "stream",
          "name": "stdout",
          "text": [
            "validation loss: 0.002103088989853859 at epoch 885\n",
            "learning_rate: 0.0003276800000000001\n"
          ]
        },
        {
          "output_type": "stream",
          "name": "stderr",
          "text": [
            "epoch 885: 100%|██████████| 282/282 [00:08<00:00, 31.80it/s]\n"
          ]
        },
        {
          "output_type": "stream",
          "name": "stdout",
          "text": [
            "validation loss: 0.0017802426036861209 at epoch 886\n",
            "learning_rate: 0.0003276800000000001\n"
          ]
        },
        {
          "output_type": "stream",
          "name": "stderr",
          "text": [
            "epoch 886: 100%|██████████| 282/282 [00:08<00:00, 33.07it/s]\n"
          ]
        },
        {
          "output_type": "stream",
          "name": "stdout",
          "text": [
            "validation loss: 0.0009366750617822011 at epoch 887\n",
            "learning_rate: 0.0003276800000000001\n"
          ]
        },
        {
          "output_type": "stream",
          "name": "stderr",
          "text": [
            "epoch 887: 100%|██████████| 282/282 [00:08<00:00, 34.31it/s]\n"
          ]
        },
        {
          "output_type": "stream",
          "name": "stdout",
          "text": [
            "validation loss: 0.00028806976746353837 at epoch 888\n",
            "learning_rate: 0.0003276800000000001\n",
            "model saved in ani_acrolein.pt\n"
          ]
        },
        {
          "output_type": "stream",
          "name": "stderr",
          "text": [
            "epoch 888: 100%|██████████| 282/282 [00:09<00:00, 29.36it/s]\n"
          ]
        },
        {
          "output_type": "stream",
          "name": "stdout",
          "text": [
            "validation loss: 0.0013210914722747273 at epoch 889\n",
            "learning_rate: 0.0003276800000000001\n"
          ]
        },
        {
          "output_type": "stream",
          "name": "stderr",
          "text": [
            "epoch 889: 100%|██████████| 282/282 [00:09<00:00, 29.64it/s]\n"
          ]
        },
        {
          "output_type": "stream",
          "name": "stdout",
          "text": [
            "validation loss: 0.0010192465037107469 at epoch 890\n",
            "learning_rate: 0.0003276800000000001\n"
          ]
        },
        {
          "output_type": "stream",
          "name": "stderr",
          "text": [
            "epoch 890: 100%|██████████| 282/282 [00:08<00:00, 33.97it/s]\n"
          ]
        },
        {
          "output_type": "stream",
          "name": "stdout",
          "text": [
            "validation loss: 0.0008785084941320949 at epoch 891\n",
            "learning_rate: 0.0003276800000000001\n"
          ]
        },
        {
          "output_type": "stream",
          "name": "stderr",
          "text": [
            "epoch 891: 100%|██████████| 282/282 [00:09<00:00, 30.60it/s]\n"
          ]
        },
        {
          "output_type": "stream",
          "name": "stdout",
          "text": [
            "validation loss: 0.001376481088499228 at epoch 892\n",
            "learning_rate: 0.0003276800000000001\n"
          ]
        },
        {
          "output_type": "stream",
          "name": "stderr",
          "text": [
            "epoch 892: 100%|██████████| 282/282 [00:09<00:00, 28.80it/s]\n"
          ]
        },
        {
          "output_type": "stream",
          "name": "stdout",
          "text": [
            "validation loss: 0.0005010851416736841 at epoch 893\n",
            "learning_rate: 0.0003276800000000001\n"
          ]
        },
        {
          "output_type": "stream",
          "name": "stderr",
          "text": [
            "epoch 893: 100%|██████████| 282/282 [00:09<00:00, 30.08it/s]\n"
          ]
        },
        {
          "output_type": "stream",
          "name": "stdout",
          "text": [
            "validation loss: 0.0007013005129992962 at epoch 894\n",
            "learning_rate: 0.0003276800000000001\n"
          ]
        },
        {
          "output_type": "stream",
          "name": "stderr",
          "text": [
            "epoch 894: 100%|██████████| 282/282 [00:08<00:00, 32.98it/s]\n"
          ]
        },
        {
          "output_type": "stream",
          "name": "stdout",
          "text": [
            "validation loss: 0.0018379104054636426 at epoch 895\n",
            "learning_rate: 0.0003276800000000001\n"
          ]
        },
        {
          "output_type": "stream",
          "name": "stderr",
          "text": [
            "epoch 895: 100%|██████████| 282/282 [00:09<00:00, 30.25it/s]\n"
          ]
        },
        {
          "output_type": "stream",
          "name": "stdout",
          "text": [
            "validation loss: 0.000929534702665276 at epoch 896\n",
            "learning_rate: 0.0003276800000000001\n"
          ]
        },
        {
          "output_type": "stream",
          "name": "stderr",
          "text": [
            "epoch 896: 100%|██████████| 282/282 [00:09<00:00, 28.80it/s]\n"
          ]
        },
        {
          "output_type": "stream",
          "name": "stdout",
          "text": [
            "validation loss: 0.0014616724517610338 at epoch 897\n",
            "learning_rate: 0.0003276800000000001\n"
          ]
        },
        {
          "output_type": "stream",
          "name": "stderr",
          "text": [
            "epoch 897: 100%|██████████| 282/282 [00:09<00:00, 28.81it/s]\n"
          ]
        },
        {
          "output_type": "stream",
          "name": "stdout",
          "text": [
            "validation loss: 0.0009985337166322603 at epoch 898\n",
            "learning_rate: 0.0003276800000000001\n"
          ]
        },
        {
          "output_type": "stream",
          "name": "stderr",
          "text": [
            "epoch 898: 100%|██████████| 282/282 [00:09<00:00, 28.88it/s]\n"
          ]
        },
        {
          "output_type": "stream",
          "name": "stdout",
          "text": [
            "validation loss: 0.0010159828844997618 at epoch 899\n",
            "learning_rate: 0.0003276800000000001\n"
          ]
        },
        {
          "output_type": "stream",
          "name": "stderr",
          "text": [
            "epoch 899: 100%|██████████| 282/282 [00:09<00:00, 29.38it/s]\n"
          ]
        },
        {
          "output_type": "stream",
          "name": "stdout",
          "text": [
            "validation loss: 0.0014387709374229112 at epoch 900\n",
            "learning_rate: 0.0003276800000000001\n"
          ]
        },
        {
          "output_type": "stream",
          "name": "stderr",
          "text": [
            "epoch 900: 100%|██████████| 282/282 [00:09<00:00, 28.46it/s]\n"
          ]
        },
        {
          "output_type": "stream",
          "name": "stdout",
          "text": [
            "validation loss: 0.0008914585188031196 at epoch 901\n",
            "learning_rate: 0.0003276800000000001\n"
          ]
        },
        {
          "output_type": "stream",
          "name": "stderr",
          "text": [
            "epoch 901: 100%|██████████| 282/282 [00:09<00:00, 28.54it/s]\n"
          ]
        },
        {
          "output_type": "stream",
          "name": "stdout",
          "text": [
            "validation loss: 0.0006735870146916972 at epoch 902\n",
            "learning_rate: 0.0003276800000000001\n"
          ]
        },
        {
          "output_type": "stream",
          "name": "stderr",
          "text": [
            "epoch 902: 100%|██████████| 282/282 [00:09<00:00, 29.93it/s]\n"
          ]
        },
        {
          "output_type": "stream",
          "name": "stdout",
          "text": [
            "validation loss: 0.0017041711310545604 at epoch 903\n",
            "learning_rate: 0.0003276800000000001\n"
          ]
        },
        {
          "output_type": "stream",
          "name": "stderr",
          "text": [
            "epoch 903: 100%|██████████| 282/282 [00:08<00:00, 32.05it/s]\n"
          ]
        },
        {
          "output_type": "stream",
          "name": "stdout",
          "text": [
            "validation loss: 0.0021642864214049444 at epoch 904\n",
            "learning_rate: 0.0003276800000000001\n"
          ]
        },
        {
          "output_type": "stream",
          "name": "stderr",
          "text": [
            "epoch 904: 100%|██████████| 282/282 [00:09<00:00, 28.57it/s]\n"
          ]
        },
        {
          "output_type": "stream",
          "name": "stdout",
          "text": [
            "validation loss: 0.0011931567382481364 at epoch 905\n",
            "learning_rate: 0.0003276800000000001\n"
          ]
        },
        {
          "output_type": "stream",
          "name": "stderr",
          "text": [
            "epoch 905: 100%|██████████| 282/282 [00:09<00:00, 29.30it/s]\n"
          ]
        },
        {
          "output_type": "stream",
          "name": "stdout",
          "text": [
            "validation loss: 0.001162844120628304 at epoch 906\n",
            "learning_rate: 0.0003276800000000001\n"
          ]
        },
        {
          "output_type": "stream",
          "name": "stderr",
          "text": [
            "epoch 906: 100%|██████████| 282/282 [00:08<00:00, 31.60it/s]\n"
          ]
        },
        {
          "output_type": "stream",
          "name": "stdout",
          "text": [
            "validation loss: 0.000720635121067365 at epoch 907\n",
            "learning_rate: 0.0003276800000000001\n"
          ]
        },
        {
          "output_type": "stream",
          "name": "stderr",
          "text": [
            "epoch 907: 100%|██████████| 282/282 [00:08<00:00, 32.63it/s]\n"
          ]
        },
        {
          "output_type": "stream",
          "name": "stdout",
          "text": [
            "validation loss: 0.0005113206509914664 at epoch 908\n",
            "learning_rate: 0.0003276800000000001\n"
          ]
        },
        {
          "output_type": "stream",
          "name": "stderr",
          "text": [
            "epoch 908: 100%|██████████| 282/282 [00:09<00:00, 29.20it/s]\n"
          ]
        },
        {
          "output_type": "stream",
          "name": "stdout",
          "text": [
            "validation loss: 0.0010381386197275586 at epoch 909\n",
            "learning_rate: 0.0003276800000000001\n"
          ]
        },
        {
          "output_type": "stream",
          "name": "stderr",
          "text": [
            "epoch 909: 100%|██████████| 282/282 [00:09<00:00, 29.34it/s]\n"
          ]
        },
        {
          "output_type": "stream",
          "name": "stdout",
          "text": [
            "validation loss: 0.0003444423069142633 at epoch 910\n",
            "learning_rate: 0.0003276800000000001\n"
          ]
        },
        {
          "output_type": "stream",
          "name": "stderr",
          "text": [
            "epoch 910: 100%|██████████| 282/282 [00:08<00:00, 32.72it/s]\n"
          ]
        },
        {
          "output_type": "stream",
          "name": "stdout",
          "text": [
            "validation loss: 0.0006100696184568935 at epoch 911\n",
            "learning_rate: 0.0003276800000000001\n"
          ]
        },
        {
          "output_type": "stream",
          "name": "stderr",
          "text": [
            "epoch 911: 100%|██████████| 282/282 [00:08<00:00, 31.69it/s]\n"
          ]
        },
        {
          "output_type": "stream",
          "name": "stdout",
          "text": [
            "validation loss: 0.0006590533322758144 at epoch 912\n",
            "learning_rate: 0.0003276800000000001\n"
          ]
        },
        {
          "output_type": "stream",
          "name": "stderr",
          "text": [
            "epoch 912: 100%|██████████| 282/282 [00:09<00:00, 30.69it/s]\n"
          ]
        },
        {
          "output_type": "stream",
          "name": "stdout",
          "text": [
            "validation loss: 0.000905238840315077 at epoch 913\n",
            "learning_rate: 0.0003276800000000001\n"
          ]
        },
        {
          "output_type": "stream",
          "name": "stderr",
          "text": [
            "epoch 913: 100%|██████████| 282/282 [00:09<00:00, 30.73it/s]\n"
          ]
        },
        {
          "output_type": "stream",
          "name": "stdout",
          "text": [
            "validation loss: 0.0009756817801131142 at epoch 914\n",
            "learning_rate: 0.0003276800000000001\n"
          ]
        },
        {
          "output_type": "stream",
          "name": "stderr",
          "text": [
            "epoch 914: 100%|██████████| 282/282 [00:08<00:00, 34.04it/s]\n"
          ]
        },
        {
          "output_type": "stream",
          "name": "stdout",
          "text": [
            "validation loss: 0.001523955725133419 at epoch 915\n",
            "learning_rate: 0.0003276800000000001\n"
          ]
        },
        {
          "output_type": "stream",
          "name": "stderr",
          "text": [
            "epoch 915: 100%|██████████| 282/282 [00:09<00:00, 30.36it/s]\n"
          ]
        },
        {
          "output_type": "stream",
          "name": "stdout",
          "text": [
            "validation loss: 0.0021117638746897377 at epoch 916\n",
            "learning_rate: 0.0003276800000000001\n"
          ]
        },
        {
          "output_type": "stream",
          "name": "stderr",
          "text": [
            "epoch 916: 100%|██████████| 282/282 [00:09<00:00, 30.18it/s]\n"
          ]
        },
        {
          "output_type": "stream",
          "name": "stdout",
          "text": [
            "validation loss: 0.00041159531722466153 at epoch 917\n",
            "learning_rate: 0.0003276800000000001\n"
          ]
        },
        {
          "output_type": "stream",
          "name": "stderr",
          "text": [
            "epoch 917: 100%|██████████| 282/282 [00:08<00:00, 31.68it/s]\n"
          ]
        },
        {
          "output_type": "stream",
          "name": "stdout",
          "text": [
            "validation loss: 0.0016519233766529296 at epoch 918\n",
            "learning_rate: 0.0003276800000000001\n"
          ]
        },
        {
          "output_type": "stream",
          "name": "stderr",
          "text": [
            "epoch 918: 100%|██████████| 282/282 [00:08<00:00, 33.48it/s]\n"
          ]
        },
        {
          "output_type": "stream",
          "name": "stdout",
          "text": [
            "validation loss: 0.00031001994344923234 at epoch 919\n",
            "learning_rate: 0.0003276800000000001\n"
          ]
        },
        {
          "output_type": "stream",
          "name": "stderr",
          "text": [
            "epoch 919: 100%|██████████| 282/282 [00:09<00:00, 30.56it/s]\n"
          ]
        },
        {
          "output_type": "stream",
          "name": "stdout",
          "text": [
            "validation loss: 0.0012657940511902174 at epoch 920\n",
            "learning_rate: 0.0003276800000000001\n"
          ]
        },
        {
          "output_type": "stream",
          "name": "stderr",
          "text": [
            "epoch 920: 100%|██████████| 282/282 [00:09<00:00, 30.39it/s]\n"
          ]
        },
        {
          "output_type": "stream",
          "name": "stdout",
          "text": [
            "validation loss: 0.0015851635088523228 at epoch 921\n",
            "learning_rate: 0.0003276800000000001\n"
          ]
        },
        {
          "output_type": "stream",
          "name": "stderr",
          "text": [
            "epoch 921: 100%|██████████| 282/282 [00:08<00:00, 33.20it/s]\n"
          ]
        },
        {
          "output_type": "stream",
          "name": "stdout",
          "text": [
            "validation loss: 0.0007084614410996438 at epoch 922\n",
            "learning_rate: 0.0003276800000000001\n"
          ]
        },
        {
          "output_type": "stream",
          "name": "stderr",
          "text": [
            "epoch 922: 100%|██████████| 282/282 [00:08<00:00, 33.38it/s]\n"
          ]
        },
        {
          "output_type": "stream",
          "name": "stdout",
          "text": [
            "validation loss: 0.0011720724370744492 at epoch 923\n",
            "learning_rate: 0.0003276800000000001\n"
          ]
        },
        {
          "output_type": "stream",
          "name": "stderr",
          "text": [
            "epoch 923: 100%|██████████| 282/282 [00:09<00:00, 30.97it/s]\n"
          ]
        },
        {
          "output_type": "stream",
          "name": "stdout",
          "text": [
            "validation loss: 0.0015827109209365314 at epoch 924\n",
            "learning_rate: 0.0003276800000000001\n"
          ]
        },
        {
          "output_type": "stream",
          "name": "stderr",
          "text": [
            "epoch 924: 100%|██████████| 282/282 [00:09<00:00, 30.47it/s]\n"
          ]
        },
        {
          "output_type": "stream",
          "name": "stdout",
          "text": [
            "validation loss: 0.0015138810475667317 at epoch 925\n",
            "learning_rate: 0.0003276800000000001\n"
          ]
        },
        {
          "output_type": "stream",
          "name": "stderr",
          "text": [
            "epoch 925: 100%|██████████| 282/282 [00:08<00:00, 34.83it/s]\n"
          ]
        },
        {
          "output_type": "stream",
          "name": "stdout",
          "text": [
            "validation loss: 0.0006456242228547732 at epoch 926\n",
            "learning_rate: 0.0003276800000000001\n"
          ]
        },
        {
          "output_type": "stream",
          "name": "stderr",
          "text": [
            "epoch 926: 100%|██████████| 282/282 [00:09<00:00, 31.05it/s]\n"
          ]
        },
        {
          "output_type": "stream",
          "name": "stdout",
          "text": [
            "validation loss: 0.0016396350032753416 at epoch 927\n",
            "learning_rate: 0.0003276800000000001\n"
          ]
        },
        {
          "output_type": "stream",
          "name": "stderr",
          "text": [
            "epoch 927: 100%|██████████| 282/282 [00:08<00:00, 31.36it/s]\n"
          ]
        },
        {
          "output_type": "stream",
          "name": "stdout",
          "text": [
            "validation loss: 0.0009655728398097886 at epoch 928\n",
            "learning_rate: 0.0003276800000000001\n"
          ]
        },
        {
          "output_type": "stream",
          "name": "stderr",
          "text": [
            "epoch 928: 100%|██████████| 282/282 [00:08<00:00, 34.13it/s]\n"
          ]
        },
        {
          "output_type": "stream",
          "name": "stdout",
          "text": [
            "validation loss: 0.0005001273978915479 at epoch 929\n",
            "learning_rate: 0.0003276800000000001\n"
          ]
        },
        {
          "output_type": "stream",
          "name": "stderr",
          "text": [
            "epoch 929: 100%|██████████| 282/282 [00:08<00:00, 32.79it/s]\n"
          ]
        },
        {
          "output_type": "stream",
          "name": "stdout",
          "text": [
            "validation loss: 0.0017173853483464982 at epoch 930\n",
            "learning_rate: 0.0003276800000000001\n"
          ]
        },
        {
          "output_type": "stream",
          "name": "stderr",
          "text": [
            "epoch 930: 100%|██████████| 282/282 [00:08<00:00, 31.78it/s]\n"
          ]
        },
        {
          "output_type": "stream",
          "name": "stdout",
          "text": [
            "validation loss: 0.0015879564781983693 at epoch 931\n",
            "learning_rate: 0.0003276800000000001\n"
          ]
        },
        {
          "output_type": "stream",
          "name": "stderr",
          "text": [
            "epoch 931: 100%|██████████| 282/282 [00:09<00:00, 31.16it/s]\n"
          ]
        },
        {
          "output_type": "stream",
          "name": "stdout",
          "text": [
            "validation loss: 0.001031704631116655 at epoch 932\n",
            "learning_rate: 0.0003276800000000001\n"
          ]
        },
        {
          "output_type": "stream",
          "name": "stderr",
          "text": [
            "epoch 932: 100%|██████████| 282/282 [00:08<00:00, 35.06it/s]\n"
          ]
        },
        {
          "output_type": "stream",
          "name": "stdout",
          "text": [
            "validation loss: 0.0010264418613579538 at epoch 933\n",
            "learning_rate: 0.0003276800000000001\n"
          ]
        },
        {
          "output_type": "stream",
          "name": "stderr",
          "text": [
            "epoch 933: 100%|██████████| 282/282 [00:08<00:00, 31.42it/s]\n"
          ]
        },
        {
          "output_type": "stream",
          "name": "stdout",
          "text": [
            "validation loss: 0.0020666182008054522 at epoch 934\n",
            "learning_rate: 0.0003276800000000001\n"
          ]
        },
        {
          "output_type": "stream",
          "name": "stderr",
          "text": [
            "epoch 934: 100%|██████████| 282/282 [00:08<00:00, 31.49it/s]\n"
          ]
        },
        {
          "output_type": "stream",
          "name": "stdout",
          "text": [
            "validation loss: 0.00027705812154130805 at epoch 935\n",
            "learning_rate: 0.0003276800000000001\n",
            "model saved in ani_acrolein.pt\n"
          ]
        },
        {
          "output_type": "stream",
          "name": "stderr",
          "text": [
            "epoch 935: 100%|██████████| 282/282 [00:08<00:00, 34.42it/s]\n"
          ]
        },
        {
          "output_type": "stream",
          "name": "stdout",
          "text": [
            "validation loss: 0.0016224105242225858 at epoch 936\n",
            "learning_rate: 0.0003276800000000001\n"
          ]
        },
        {
          "output_type": "stream",
          "name": "stderr",
          "text": [
            "epoch 936: 100%|██████████| 282/282 [00:08<00:00, 33.20it/s]\n"
          ]
        },
        {
          "output_type": "stream",
          "name": "stdout",
          "text": [
            "validation loss: 0.0008194024372431967 at epoch 937\n",
            "learning_rate: 0.0003276800000000001\n"
          ]
        },
        {
          "output_type": "stream",
          "name": "stderr",
          "text": [
            "epoch 937: 100%|██████████| 282/282 [00:08<00:00, 31.48it/s]\n"
          ]
        },
        {
          "output_type": "stream",
          "name": "stdout",
          "text": [
            "validation loss: 0.0013260039256678688 at epoch 938\n",
            "learning_rate: 0.0003276800000000001\n"
          ]
        },
        {
          "output_type": "stream",
          "name": "stderr",
          "text": [
            "epoch 938: 100%|██████████| 282/282 [00:08<00:00, 32.18it/s]\n"
          ]
        },
        {
          "output_type": "stream",
          "name": "stdout",
          "text": [
            "validation loss: 0.0016121095808015928 at epoch 939\n",
            "learning_rate: 0.0003276800000000001\n"
          ]
        },
        {
          "output_type": "stream",
          "name": "stderr",
          "text": [
            "epoch 939: 100%|██████████| 282/282 [00:08<00:00, 34.88it/s]\n"
          ]
        },
        {
          "output_type": "stream",
          "name": "stdout",
          "text": [
            "validation loss: 0.0004764566082093451 at epoch 940\n",
            "learning_rate: 0.0003276800000000001\n"
          ]
        },
        {
          "output_type": "stream",
          "name": "stderr",
          "text": [
            "epoch 940: 100%|██████████| 282/282 [00:08<00:00, 31.44it/s]\n"
          ]
        },
        {
          "output_type": "stream",
          "name": "stdout",
          "text": [
            "validation loss: 0.00034916325555079514 at epoch 941\n",
            "learning_rate: 0.0003276800000000001\n"
          ]
        },
        {
          "output_type": "stream",
          "name": "stderr",
          "text": [
            "epoch 941: 100%|██████████| 282/282 [00:09<00:00, 31.18it/s]\n"
          ]
        },
        {
          "output_type": "stream",
          "name": "stdout",
          "text": [
            "validation loss: 0.001818767860531807 at epoch 942\n",
            "learning_rate: 0.0003276800000000001\n"
          ]
        },
        {
          "output_type": "stream",
          "name": "stderr",
          "text": [
            "epoch 942: 100%|██████████| 282/282 [00:08<00:00, 35.01it/s]\n"
          ]
        },
        {
          "output_type": "stream",
          "name": "stdout",
          "text": [
            "validation loss: 0.0011202112386624018 at epoch 943\n",
            "learning_rate: 0.0003276800000000001\n"
          ]
        },
        {
          "output_type": "stream",
          "name": "stderr",
          "text": [
            "epoch 943: 100%|██████████| 282/282 [00:08<00:00, 31.34it/s]\n"
          ]
        },
        {
          "output_type": "stream",
          "name": "stdout",
          "text": [
            "validation loss: 0.00032200399993194477 at epoch 944\n",
            "learning_rate: 0.0003276800000000001\n"
          ]
        },
        {
          "output_type": "stream",
          "name": "stderr",
          "text": [
            "epoch 944: 100%|██████████| 282/282 [00:09<00:00, 31.23it/s]\n"
          ]
        },
        {
          "output_type": "stream",
          "name": "stdout",
          "text": [
            "validation loss: 0.0008744509042137199 at epoch 945\n",
            "learning_rate: 0.0003276800000000001\n"
          ]
        },
        {
          "output_type": "stream",
          "name": "stderr",
          "text": [
            "epoch 945: 100%|██████████| 282/282 [00:08<00:00, 34.08it/s]\n"
          ]
        },
        {
          "output_type": "stream",
          "name": "stdout",
          "text": [
            "validation loss: 0.0016185071335898505 at epoch 946\n",
            "learning_rate: 0.0003276800000000001\n"
          ]
        },
        {
          "output_type": "stream",
          "name": "stderr",
          "text": [
            "epoch 946: 100%|██████████| 282/282 [00:08<00:00, 32.53it/s]\n"
          ]
        },
        {
          "output_type": "stream",
          "name": "stdout",
          "text": [
            "validation loss: 0.0007440370350248284 at epoch 947\n",
            "learning_rate: 0.0003276800000000001\n"
          ]
        },
        {
          "output_type": "stream",
          "name": "stderr",
          "text": [
            "epoch 947: 100%|██████████| 282/282 [00:08<00:00, 31.67it/s]\n"
          ]
        },
        {
          "output_type": "stream",
          "name": "stdout",
          "text": [
            "validation loss: 0.0003776477018578185 at epoch 948\n",
            "learning_rate: 0.0003276800000000001\n"
          ]
        },
        {
          "output_type": "stream",
          "name": "stderr",
          "text": [
            "epoch 948: 100%|██████████| 282/282 [00:08<00:00, 31.41it/s]\n"
          ]
        },
        {
          "output_type": "stream",
          "name": "stdout",
          "text": [
            "validation loss: 0.0015854513380262588 at epoch 949\n",
            "learning_rate: 0.0003276800000000001\n"
          ]
        },
        {
          "output_type": "stream",
          "name": "stderr",
          "text": [
            "epoch 949: 100%|██████████| 282/282 [00:08<00:00, 34.84it/s]\n"
          ]
        },
        {
          "output_type": "stream",
          "name": "stdout",
          "text": [
            "validation loss: 0.0020262903057866625 at epoch 950\n",
            "learning_rate: 0.0003276800000000001\n"
          ]
        },
        {
          "output_type": "stream",
          "name": "stderr",
          "text": [
            "epoch 950: 100%|██████████| 282/282 [00:09<00:00, 31.30it/s]\n"
          ]
        },
        {
          "output_type": "stream",
          "name": "stdout",
          "text": [
            "validation loss: 0.0004287929774986373 at epoch 951\n",
            "learning_rate: 0.0003276800000000001\n"
          ]
        },
        {
          "output_type": "stream",
          "name": "stderr",
          "text": [
            "epoch 951: 100%|██████████| 282/282 [00:08<00:00, 31.58it/s]\n"
          ]
        },
        {
          "output_type": "stream",
          "name": "stdout",
          "text": [
            "validation loss: 0.0006868056460387177 at epoch 952\n",
            "learning_rate: 0.0003276800000000001\n"
          ]
        },
        {
          "output_type": "stream",
          "name": "stderr",
          "text": [
            "epoch 952: 100%|██████████| 282/282 [00:08<00:00, 32.66it/s]\n"
          ]
        },
        {
          "output_type": "stream",
          "name": "stdout",
          "text": [
            "validation loss: 0.000945038260685073 at epoch 953\n",
            "learning_rate: 0.0003276800000000001\n"
          ]
        },
        {
          "output_type": "stream",
          "name": "stderr",
          "text": [
            "epoch 953: 100%|██████████| 282/282 [00:08<00:00, 33.04it/s]\n"
          ]
        },
        {
          "output_type": "stream",
          "name": "stdout",
          "text": [
            "validation loss: 0.0006552791562345293 at epoch 954\n",
            "learning_rate: 0.0003276800000000001\n"
          ]
        },
        {
          "output_type": "stream",
          "name": "stderr",
          "text": [
            "epoch 954: 100%|██████████| 282/282 [00:09<00:00, 30.75it/s]\n"
          ]
        },
        {
          "output_type": "stream",
          "name": "stdout",
          "text": [
            "validation loss: 0.002593493483132786 at epoch 955\n",
            "learning_rate: 0.0003276800000000001\n"
          ]
        },
        {
          "output_type": "stream",
          "name": "stderr",
          "text": [
            "epoch 955: 100%|██████████| 282/282 [00:09<00:00, 31.20it/s]\n"
          ]
        },
        {
          "output_type": "stream",
          "name": "stdout",
          "text": [
            "validation loss: 0.0015214738522966703 at epoch 956\n",
            "learning_rate: 0.0003276800000000001\n"
          ]
        },
        {
          "output_type": "stream",
          "name": "stderr",
          "text": [
            "epoch 956: 100%|██████████| 282/282 [00:08<00:00, 34.33it/s]\n"
          ]
        },
        {
          "output_type": "stream",
          "name": "stdout",
          "text": [
            "validation loss: 0.00045494301037655934 at epoch 957\n",
            "learning_rate: 0.0003276800000000001\n"
          ]
        },
        {
          "output_type": "stream",
          "name": "stderr",
          "text": [
            "epoch 957: 100%|██████████| 282/282 [00:08<00:00, 31.66it/s]\n"
          ]
        },
        {
          "output_type": "stream",
          "name": "stdout",
          "text": [
            "validation loss: 0.0017086438495251867 at epoch 958\n",
            "learning_rate: 0.0003276800000000001\n"
          ]
        },
        {
          "output_type": "stream",
          "name": "stderr",
          "text": [
            "epoch 958: 100%|██████████| 282/282 [00:09<00:00, 31.11it/s]\n"
          ]
        },
        {
          "output_type": "stream",
          "name": "stdout",
          "text": [
            "validation loss: 0.00162868682295084 at epoch 959\n",
            "learning_rate: 0.0003276800000000001\n"
          ]
        },
        {
          "output_type": "stream",
          "name": "stderr",
          "text": [
            "epoch 959: 100%|██████████| 282/282 [00:08<00:00, 32.02it/s]\n"
          ]
        },
        {
          "output_type": "stream",
          "name": "stdout",
          "text": [
            "validation loss: 0.0009137087700267633 at epoch 960\n",
            "learning_rate: 0.0003276800000000001\n"
          ]
        },
        {
          "output_type": "stream",
          "name": "stderr",
          "text": [
            "epoch 960: 100%|██████████| 282/282 [00:08<00:00, 34.38it/s]\n"
          ]
        },
        {
          "output_type": "stream",
          "name": "stdout",
          "text": [
            "validation loss: 0.0009381688021951252 at epoch 961\n",
            "learning_rate: 0.0003276800000000001\n"
          ]
        },
        {
          "output_type": "stream",
          "name": "stderr",
          "text": [
            "epoch 961: 100%|██████████| 282/282 [00:09<00:00, 31.03it/s]\n"
          ]
        },
        {
          "output_type": "stream",
          "name": "stdout",
          "text": [
            "validation loss: 0.0017350465307633082 at epoch 962\n",
            "learning_rate: 0.0003276800000000001\n"
          ]
        },
        {
          "output_type": "stream",
          "name": "stderr",
          "text": [
            "epoch 962: 100%|██████████| 282/282 [00:09<00:00, 31.14it/s]\n"
          ]
        },
        {
          "output_type": "stream",
          "name": "stdout",
          "text": [
            "validation loss: 0.0020930024733146033 at epoch 963\n",
            "learning_rate: 0.0003276800000000001\n"
          ]
        },
        {
          "output_type": "stream",
          "name": "stderr",
          "text": [
            "epoch 963: 100%|██████████| 282/282 [00:08<00:00, 34.02it/s]\n"
          ]
        },
        {
          "output_type": "stream",
          "name": "stdout",
          "text": [
            "validation loss: 0.0003067588491572274 at epoch 964\n",
            "learning_rate: 0.0003276800000000001\n"
          ]
        },
        {
          "output_type": "stream",
          "name": "stderr",
          "text": [
            "epoch 964: 100%|██████████| 282/282 [00:08<00:00, 32.43it/s]\n"
          ]
        },
        {
          "output_type": "stream",
          "name": "stdout",
          "text": [
            "validation loss: 0.0013879989633957545 at epoch 965\n",
            "learning_rate: 0.0003276800000000001\n"
          ]
        },
        {
          "output_type": "stream",
          "name": "stderr",
          "text": [
            "epoch 965: 100%|██████████| 282/282 [00:09<00:00, 31.28it/s]\n"
          ]
        },
        {
          "output_type": "stream",
          "name": "stdout",
          "text": [
            "validation loss: 0.00035628365994327596 at epoch 966\n",
            "learning_rate: 0.0003276800000000001\n"
          ]
        },
        {
          "output_type": "stream",
          "name": "stderr",
          "text": [
            "epoch 966: 100%|██████████| 282/282 [00:08<00:00, 32.67it/s]\n"
          ]
        },
        {
          "output_type": "stream",
          "name": "stdout",
          "text": [
            "validation loss: 0.0011275980215933589 at epoch 967\n",
            "learning_rate: 0.0003276800000000001\n"
          ]
        },
        {
          "output_type": "stream",
          "name": "stderr",
          "text": [
            "epoch 967: 100%|██████████| 282/282 [00:08<00:00, 34.84it/s]\n"
          ]
        },
        {
          "output_type": "stream",
          "name": "stdout",
          "text": [
            "validation loss: 0.000752025303327375 at epoch 968\n",
            "learning_rate: 0.0003276800000000001\n"
          ]
        },
        {
          "output_type": "stream",
          "name": "stderr",
          "text": [
            "epoch 968: 100%|██████████| 282/282 [00:09<00:00, 31.30it/s]\n"
          ]
        },
        {
          "output_type": "stream",
          "name": "stdout",
          "text": [
            "validation loss: 0.0007610892376138104 at epoch 969\n",
            "learning_rate: 0.0003276800000000001\n"
          ]
        },
        {
          "output_type": "stream",
          "name": "stderr",
          "text": [
            "epoch 969: 100%|██████████| 282/282 [00:08<00:00, 31.50it/s]\n"
          ]
        },
        {
          "output_type": "stream",
          "name": "stdout",
          "text": [
            "validation loss: 0.0022042739159531064 at epoch 970\n",
            "learning_rate: 0.0003276800000000001\n"
          ]
        },
        {
          "output_type": "stream",
          "name": "stderr",
          "text": [
            "epoch 970: 100%|██████████| 282/282 [00:08<00:00, 34.97it/s]\n"
          ]
        },
        {
          "output_type": "stream",
          "name": "stdout",
          "text": [
            "validation loss: 0.001653669794400533 at epoch 971\n",
            "learning_rate: 0.0003276800000000001\n"
          ]
        },
        {
          "output_type": "stream",
          "name": "stderr",
          "text": [
            "epoch 971: 100%|██████████| 282/282 [00:08<00:00, 32.00it/s]\n"
          ]
        },
        {
          "output_type": "stream",
          "name": "stdout",
          "text": [
            "validation loss: 0.0007916208331783613 at epoch 972\n",
            "learning_rate: 0.0003276800000000001\n"
          ]
        },
        {
          "output_type": "stream",
          "name": "stderr",
          "text": [
            "epoch 972: 100%|██████████| 282/282 [00:08<00:00, 31.44it/s]\n"
          ]
        },
        {
          "output_type": "stream",
          "name": "stdout",
          "text": [
            "validation loss: 0.0006847212091088295 at epoch 973\n",
            "learning_rate: 0.0003276800000000001\n"
          ]
        },
        {
          "output_type": "stream",
          "name": "stderr",
          "text": [
            "epoch 973: 100%|██████████| 282/282 [00:08<00:00, 32.60it/s]\n"
          ]
        },
        {
          "output_type": "stream",
          "name": "stdout",
          "text": [
            "validation loss: 0.0008110973652866152 at epoch 974\n",
            "learning_rate: 0.0003276800000000001\n"
          ]
        },
        {
          "output_type": "stream",
          "name": "stderr",
          "text": [
            "epoch 974: 100%|██████████| 282/282 [00:08<00:00, 34.39it/s]\n"
          ]
        },
        {
          "output_type": "stream",
          "name": "stdout",
          "text": [
            "validation loss: 0.001341631735364596 at epoch 975\n",
            "learning_rate: 0.0003276800000000001\n"
          ]
        },
        {
          "output_type": "stream",
          "name": "stderr",
          "text": [
            "epoch 975: 100%|██████████| 282/282 [00:09<00:00, 31.30it/s]\n"
          ]
        },
        {
          "output_type": "stream",
          "name": "stdout",
          "text": [
            "validation loss: 0.00040223848757644495 at epoch 976\n",
            "learning_rate: 0.0003276800000000001\n"
          ]
        },
        {
          "output_type": "stream",
          "name": "stderr",
          "text": [
            "epoch 976: 100%|██████████| 282/282 [00:09<00:00, 30.87it/s]\n"
          ]
        },
        {
          "output_type": "stream",
          "name": "stdout",
          "text": [
            "validation loss: 0.0005984828550782468 at epoch 977\n",
            "learning_rate: 0.0003276800000000001\n"
          ]
        },
        {
          "output_type": "stream",
          "name": "stderr",
          "text": [
            "epoch 977: 100%|██████████| 282/282 [00:08<00:00, 34.63it/s]\n"
          ]
        },
        {
          "output_type": "stream",
          "name": "stdout",
          "text": [
            "validation loss: 0.0007150225076410506 at epoch 978\n",
            "learning_rate: 0.0003276800000000001\n"
          ]
        },
        {
          "output_type": "stream",
          "name": "stderr",
          "text": [
            "epoch 978: 100%|██████████| 282/282 [00:09<00:00, 31.20it/s]\n"
          ]
        },
        {
          "output_type": "stream",
          "name": "stdout",
          "text": [
            "validation loss: 0.0013228252629439035 at epoch 979\n",
            "learning_rate: 0.0003276800000000001\n"
          ]
        },
        {
          "output_type": "stream",
          "name": "stderr",
          "text": [
            "epoch 979: 100%|██████████| 282/282 [00:09<00:00, 31.29it/s]\n"
          ]
        },
        {
          "output_type": "stream",
          "name": "stdout",
          "text": [
            "validation loss: 0.000796258485565583 at epoch 980\n",
            "learning_rate: 0.0003276800000000001\n"
          ]
        },
        {
          "output_type": "stream",
          "name": "stderr",
          "text": [
            "epoch 980: 100%|██████████| 282/282 [00:08<00:00, 33.49it/s]\n"
          ]
        },
        {
          "output_type": "stream",
          "name": "stdout",
          "text": [
            "validation loss: 0.0016013240168491999 at epoch 981\n",
            "learning_rate: 0.0003276800000000001\n"
          ]
        },
        {
          "output_type": "stream",
          "name": "stderr",
          "text": [
            "epoch 981: 100%|██████████| 282/282 [00:08<00:00, 33.60it/s]\n"
          ]
        },
        {
          "output_type": "stream",
          "name": "stdout",
          "text": [
            "validation loss: 0.0007069609744681252 at epoch 982\n",
            "learning_rate: 0.0003276800000000001\n"
          ]
        },
        {
          "output_type": "stream",
          "name": "stderr",
          "text": [
            "epoch 982: 100%|██████████| 282/282 [00:09<00:00, 31.19it/s]\n"
          ]
        },
        {
          "output_type": "stream",
          "name": "stdout",
          "text": [
            "validation loss: 0.0014514882771505249 at epoch 983\n",
            "learning_rate: 0.0003276800000000001\n"
          ]
        },
        {
          "output_type": "stream",
          "name": "stderr",
          "text": [
            "epoch 983: 100%|██████████| 282/282 [00:08<00:00, 31.93it/s]\n"
          ]
        },
        {
          "output_type": "stream",
          "name": "stdout",
          "text": [
            "validation loss: 0.00028262437279853557 at epoch 984\n",
            "learning_rate: 0.0003276800000000001\n"
          ]
        },
        {
          "output_type": "stream",
          "name": "stderr",
          "text": [
            "epoch 984: 100%|██████████| 282/282 [00:08<00:00, 34.44it/s]\n"
          ]
        },
        {
          "output_type": "stream",
          "name": "stdout",
          "text": [
            "validation loss: 0.0017752122845914628 at epoch 985\n",
            "learning_rate: 0.0003276800000000001\n"
          ]
        },
        {
          "output_type": "stream",
          "name": "stderr",
          "text": [
            "epoch 985: 100%|██████████| 282/282 [00:08<00:00, 31.98it/s]\n"
          ]
        },
        {
          "output_type": "stream",
          "name": "stdout",
          "text": [
            "validation loss: 0.0007080204747617245 at epoch 986\n",
            "learning_rate: 0.0003276800000000001\n"
          ]
        },
        {
          "output_type": "stream",
          "name": "stderr",
          "text": [
            "epoch 986: 100%|██████████| 282/282 [00:09<00:00, 30.64it/s]\n"
          ]
        },
        {
          "output_type": "stream",
          "name": "stdout",
          "text": [
            "validation loss: 0.0002845301472892364 at epoch 987\n",
            "learning_rate: 0.0002621440000000001\n"
          ]
        },
        {
          "output_type": "stream",
          "name": "stderr",
          "text": [
            "epoch 987: 100%|██████████| 282/282 [00:08<00:00, 34.54it/s]\n"
          ]
        },
        {
          "output_type": "stream",
          "name": "stdout",
          "text": [
            "validation loss: 0.0009217680841684342 at epoch 988\n",
            "learning_rate: 0.0002621440000000001\n"
          ]
        },
        {
          "output_type": "stream",
          "name": "stderr",
          "text": [
            "epoch 988: 100%|██████████| 282/282 [00:08<00:00, 32.35it/s]\n"
          ]
        },
        {
          "output_type": "stream",
          "name": "stdout",
          "text": [
            "validation loss: 0.0006720326898826493 at epoch 989\n",
            "learning_rate: 0.0002621440000000001\n"
          ]
        },
        {
          "output_type": "stream",
          "name": "stderr",
          "text": [
            "epoch 989: 100%|██████████| 282/282 [00:08<00:00, 31.78it/s]\n"
          ]
        },
        {
          "output_type": "stream",
          "name": "stdout",
          "text": [
            "validation loss: 0.0015261213017834557 at epoch 990\n",
            "learning_rate: 0.0002621440000000001\n"
          ]
        },
        {
          "output_type": "stream",
          "name": "stderr",
          "text": [
            "epoch 990: 100%|██████████| 282/282 [00:08<00:00, 31.82it/s]\n"
          ]
        },
        {
          "output_type": "stream",
          "name": "stdout",
          "text": [
            "validation loss: 0.0011395313425196542 at epoch 991\n",
            "learning_rate: 0.0002621440000000001\n"
          ]
        },
        {
          "output_type": "stream",
          "name": "stderr",
          "text": [
            "epoch 991: 100%|██████████| 282/282 [00:08<00:00, 34.79it/s]\n"
          ]
        },
        {
          "output_type": "stream",
          "name": "stdout",
          "text": [
            "validation loss: 0.00027930480076207055 at epoch 992\n",
            "learning_rate: 0.0002621440000000001\n"
          ]
        },
        {
          "output_type": "stream",
          "name": "stderr",
          "text": [
            "epoch 992: 100%|██████████| 282/282 [00:09<00:00, 31.26it/s]\n"
          ]
        },
        {
          "output_type": "stream",
          "name": "stdout",
          "text": [
            "validation loss: 0.0011984881634513537 at epoch 993\n",
            "learning_rate: 0.0002621440000000001\n"
          ]
        },
        {
          "output_type": "stream",
          "name": "stderr",
          "text": [
            "epoch 993: 100%|██████████| 282/282 [00:08<00:00, 31.54it/s]\n"
          ]
        },
        {
          "output_type": "stream",
          "name": "stdout",
          "text": [
            "validation loss: 0.001488107333580653 at epoch 994\n",
            "learning_rate: 0.0002621440000000001\n"
          ]
        },
        {
          "output_type": "stream",
          "name": "stderr",
          "text": [
            "epoch 994: 100%|██████████| 282/282 [00:07<00:00, 35.31it/s]\n"
          ]
        },
        {
          "output_type": "stream",
          "name": "stdout",
          "text": [
            "validation loss: 0.0007092217240068648 at epoch 995\n",
            "learning_rate: 0.0002621440000000001\n"
          ]
        },
        {
          "output_type": "stream",
          "name": "stderr",
          "text": [
            "epoch 995: 100%|██████████| 282/282 [00:08<00:00, 31.63it/s]\n"
          ]
        },
        {
          "output_type": "stream",
          "name": "stdout",
          "text": [
            "validation loss: 0.0009444902489582698 at epoch 996\n",
            "learning_rate: 0.0002621440000000001\n"
          ]
        },
        {
          "output_type": "stream",
          "name": "stderr",
          "text": [
            "epoch 996: 100%|██████████| 282/282 [00:09<00:00, 30.96it/s]\n"
          ]
        },
        {
          "output_type": "stream",
          "name": "stdout",
          "text": [
            "validation loss: 0.001158071360654301 at epoch 997\n",
            "learning_rate: 0.0002621440000000001\n"
          ]
        },
        {
          "output_type": "stream",
          "name": "stderr",
          "text": [
            "epoch 997: 100%|██████████| 282/282 [00:08<00:00, 33.12it/s]\n"
          ]
        },
        {
          "output_type": "stream",
          "name": "stdout",
          "text": [
            "validation loss: 0.00035469754019545186 at epoch 998\n",
            "learning_rate: 0.0002621440000000001\n"
          ]
        },
        {
          "output_type": "stream",
          "name": "stderr",
          "text": [
            "epoch 998: 100%|██████████| 282/282 [00:08<00:00, 33.95it/s]\n"
          ]
        },
        {
          "output_type": "stream",
          "name": "stdout",
          "text": [
            "validation loss: 0.0013154331859615113 at epoch 999\n",
            "learning_rate: 0.0002621440000000001\n"
          ]
        },
        {
          "output_type": "stream",
          "name": "stderr",
          "text": [
            "epoch 999: 100%|██████████| 282/282 [00:08<00:00, 31.47it/s]\n"
          ]
        },
        {
          "output_type": "stream",
          "name": "stdout",
          "text": [
            "validation loss: 0.0005212926835649543 at epoch 1000\n",
            "learning_rate: 0.0002621440000000001\n"
          ]
        },
        {
          "output_type": "stream",
          "name": "stderr",
          "text": [
            "epoch 1000: 100%|██████████| 282/282 [00:08<00:00, 31.38it/s]"
          ]
        },
        {
          "output_type": "stream",
          "name": "stdout",
          "text": [
            "model loaded from ani_acrolein.pt\n"
          ]
        },
        {
          "output_type": "stream",
          "name": "stderr",
          "text": [
            "\n"
          ]
        }
      ],
      "source": [
        "model_ani.train(\n",
        "    molecular_database=acrolein_train,\n",
        "    property_to_learn=\"energy\",\n",
        "    xyz_derivative_property_to_learn=\"energy_grad\",\n",
        "    save_model=True,\n",
        ")"
      ]
    },
    {
      "cell_type": "markdown",
      "metadata": {
        "id": "ePJxXEdOR9_a"
      },
      "source": [
        "#Testing"
      ]
    },
    {
      "cell_type": "code",
      "execution_count": null,
      "metadata": {
        "id": "QZ00QUEc5wx_"
      },
      "outputs": [],
      "source": [
        "atoms = np.tile(np.array(1 * [6] + 1 * [8] + 2 * [6] + 4 * [1]), (5000, 1))\n",
        "acrolein_test = molecular_database.from_numpy(coordinates_trans_test, atoms)"
      ]
    },
    {
      "cell_type": "code",
      "execution_count": null,
      "metadata": {
        "id": "Pg1RPR6mSDhx"
      },
      "outputs": [],
      "source": [
        "acrolein_test.add_scalar_properties(epots_test, \"energy\")"
      ]
    },
    {
      "cell_type": "code",
      "execution_count": null,
      "metadata": {
        "id": "qiiCMU7dZGxL"
      },
      "outputs": [],
      "source": [
        "acrolein_test.add_xyz_derivative_properties(grads_test, \"energy\", \"energy_grad\")"
      ]
    },
    {
      "cell_type": "code",
      "execution_count": null,
      "metadata": {
        "colab": {
          "base_uri": "https://localhost:8080/"
        },
        "id": "bcrAOqQFSMSJ",
        "outputId": "95d0830d-8d8c-4953-aa49-7ca8650def64"
      },
      "outputs": [
        {
          "output_type": "execute_result",
          "data": {
            "text/plain": [
              "5000"
            ]
          },
          "metadata": {},
          "execution_count": 30
        }
      ],
      "source": [
        "acrolein_test.size"
      ]
    },
    {
      "cell_type": "code",
      "execution_count": null,
      "metadata": {
        "id": "gw0-f85SSVEC"
      },
      "outputs": [],
      "source": []
    },
    {
      "cell_type": "code",
      "execution_count": null,
      "metadata": {
        "id": "woEFYZaUSYPK"
      },
      "outputs": [],
      "source": [
        "mcd_test_mol = acrolein_test.copy()\n",
        "model_ani.predict(\n",
        "    molecular_database=mcd_test_mol,\n",
        "    property_to_predict=\"energy\",\n",
        "    xyz_derivative_property_to_predict=\"energy_grad\",\n",
        "    batch_size=100,\n",
        ")\n",
        "# mcd_test_mol.get_properties(\"energy\")\n",
        "# mcd_test_mol.get_xyz_derivative_properties(\"energy_grad\")\n",
        "np.savez('test.npz', energy=np.array(mcd_test_mol.get_properties(\"energy\")) /kcalpermol2eV, grad=np.array(mcd_test_mol.get_xyz_derivative_properties(\"energy_grad\")) / kcalpermol2eV)"
      ]
    },
    {
      "cell_type": "code",
      "execution_count": null,
      "metadata": {
        "colab": {
          "base_uri": "https://localhost:8080/"
        },
        "id": "ijwQe6JNZoK9",
        "outputId": "3046ff62-4550-45a0-9142-a036baf1e65b"
      },
      "outputs": [
        {
          "output_type": "stream",
          "name": "stdout",
          "text": [
            "0.0033785884978932293\n",
            "0.03748323176924215\n"
          ]
        }
      ],
      "source": [
        "mse_epot = np.mean(\n",
        "    ((mcd_test_mol.get_properties(\"energy\") - acrolein_test.get_properties(\"energy\")))** 2)\n",
        "print(np.sqrt(mse_epot))\n",
        "mse_grad = np.mean(\n",
        "    (\n",
        "        (\n",
        "            mcd_test_mol.get_xyz_derivative_properties(\"energy_grad\")\n",
        "            - acrolein_test.get_xyz_derivative_properties(\"energy_grad\")\n",
        "        )\n",
        "    )\n",
        "    ** 2\n",
        ")\n",
        "print(np.sqrt(mse_grad))"
      ]
    },
    {
      "cell_type": "code",
      "execution_count": null,
      "metadata": {
        "id": "jZmMsjUg111v"
      },
      "outputs": [],
      "source": [
        "mcd_train_mol = acrolein_train.copy()\n",
        "model_ani.predict(\n",
        "    molecular_database=mcd_train_mol,\n",
        "    property_to_predict=\"energy\",\n",
        "    xyz_derivative_property_to_predict=\"energy_grad\",\n",
        "    batch_size=100,\n",
        ")\n",
        "# mcd_test_mol.get_properties(\"energy\")\n",
        "# mcd_test_mol.get_xyz_derivative_properties(\"energy_grad\")\n",
        "np.savez('train.npz', energy=np.array(mcd_train_mol.get_properties(\"energy\")) /kcalpermol2eV, grad=np.array(mcd_train_mol.get_xyz_derivative_properties(\"energy_grad\")) / kcalpermol2eV)"
      ]
    },
    {
      "cell_type": "markdown",
      "metadata": {
        "id": "egFNlJyvWKRK"
      },
      "source": [
        "#Cis-Trans"
      ]
    },
    {
      "cell_type": "code",
      "execution_count": null,
      "metadata": {
        "id": "V7JSX3CQU4a1"
      },
      "outputs": [],
      "source": [
        "atoms = np.tile(np.array(1 * [6] + 1 * [8] + 2 * [6] + 4 * [1]), (20000, 1))\n",
        "acrolein_cis_trans = molecular_database.from_numpy(coordinates_cis_trans, atoms)\n",
        "acrolein_cis_trans.add_scalar_properties(energy_cis_trans.flatten() * kcalpermol2eV, \"energy\")\n",
        "acrolein_cis_trans.add_xyz_derivative_properties(grads_cis_trans * kcalpermol2eV, \"energy\", \"energy_grad\")\n",
        "\n",
        "mcd_cis_trans = acrolein_cis_trans.copy()\n",
        "\n",
        "model_ani.predict(\n",
        "    molecular_database=mcd_cis_trans,\n",
        "    property_to_predict=\"energy\",\n",
        "    xyz_derivative_property_to_predict=\"energy_grad\",\n",
        "    batch_size=100,\n",
        ")\n",
        "# mcd_test_mol.get_properties(\"energy\")\n",
        "# mcd_test_mol.get_xyz_derivative_properties(\"energy_grad\")\n",
        "np.savez('cis_trans.npz', energy=np.array(mcd_cis_trans.get_properties(\"energy\")) /kcalpermol2eV, grad=np.array(mcd_cis_trans.get_xyz_derivative_properties(\"energy_grad\")) / kcalpermol2eV)"
      ]
    },
    {
      "cell_type": "markdown",
      "metadata": {
        "id": "tWMX9srOcCv6"
      },
      "source": [
        "#Cis"
      ]
    },
    {
      "cell_type": "code",
      "execution_count": null,
      "metadata": {
        "id": "6EO9aZRLWaX0"
      },
      "outputs": [],
      "source": [
        "atoms = np.tile(np.array(1 * [6] + 1 * [8] + 2 * [6] + 4 * [1]), (50000, 1))\n",
        "acrolein_cis = molecular_database.from_numpy(coordinates_cis, atoms)\n",
        "acrolein_cis.add_scalar_properties(energy_cis.flatten() * kcalpermol2eV, \"energy\")\n",
        "acrolein_cis.add_xyz_derivative_properties(grads_cis * kcalpermol2eV, \"energy\", \"energy_grad\")\n",
        "\n",
        "mcd_cis = acrolein_cis.copy()\n",
        "\n",
        "model_ani.predict(\n",
        "    molecular_database=mcd_cis,\n",
        "    property_to_predict=\"energy\",\n",
        "    xyz_derivative_property_to_predict=\"energy_grad\",\n",
        "    batch_size=100,\n",
        ")\n",
        "# mcd_test_mol.get_properties(\"energy\")\n",
        "# mcd_test_mol.get_xyz_derivative_properties(\"energy_grad\")\n",
        "np.savez('cis.npz', energy=np.array(mcd_cis.get_properties(\"energy\")) /kcalpermol2eV, grad=np.array(mcd_cis.get_xyz_derivative_properties(\"energy_grad\")) / kcalpermol2eV)"
      ]
    }
  ],
  "metadata": {
    "accelerator": "GPU",
    "colab": {
      "gpuType": "T4",
      "provenance": []
    },
    "kernelspec": {
      "display_name": "Python 3",
      "name": "python3"
    },
    "language_info": {
      "name": "python"
    }
  },
  "nbformat": 4,
  "nbformat_minor": 0
}