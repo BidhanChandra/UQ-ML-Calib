{
  "cells": [
    {
      "cell_type": "markdown",
      "metadata": {
        "id": "wOjcyoxvuDwH"
      },
      "source": [
        "#Data Collection Acrolein"
      ]
    },
    {
      "cell_type": "code",
      "execution_count": null,
      "metadata": {
        "id": "Ge9wCK2bvk8Q"
      },
      "outputs": [],
      "source": [
        "import numpy as np\n",
        "from sklearn.metrics import r2_score, mean_absolute_error\n",
        "from sklearn.model_selection import train_test_split\n",
        "from tqdm import tqdm"
      ]
    },
    {
      "cell_type": "code",
      "execution_count": null,
      "metadata": {
        "colab": {
          "base_uri": "https://localhost:8080/"
        },
        "id": "VNKJbEKCwixz",
        "outputId": "607de552-8249-4af9-ce98-27834924c468"
      },
      "outputs": [
        {
          "output_type": "stream",
          "name": "stdout",
          "text": [
            "Collecting mlatom\n",
            "  Downloading mlatom-3.9.1-py3-none-any.whl.metadata (7.0 kB)\n",
            "Requirement already satisfied: numpy in /usr/local/lib/python3.10/dist-packages (from mlatom) (1.26.4)\n",
            "Requirement already satisfied: scipy in /usr/local/lib/python3.10/dist-packages (from mlatom) (1.13.1)\n",
            "Requirement already satisfied: h5py in /usr/local/lib/python3.10/dist-packages (from mlatom) (3.11.0)\n",
            "Collecting pyh5md (from mlatom)\n",
            "  Downloading pyh5md-1.0.0-py2.py3-none-any.whl.metadata (497 bytes)\n",
            "Requirement already satisfied: torch in /usr/local/lib/python3.10/dist-packages (from mlatom) (2.3.1+cu121)\n",
            "Collecting torchani (from mlatom)\n",
            "  Downloading torchani-2.2.4-py3-none-any.whl.metadata (6.0 kB)\n",
            "Requirement already satisfied: matplotlib in /usr/local/lib/python3.10/dist-packages (from mlatom) (3.7.1)\n",
            "Requirement already satisfied: statsmodels in /usr/local/lib/python3.10/dist-packages (from mlatom) (0.14.2)\n",
            "Requirement already satisfied: tqdm in /usr/local/lib/python3.10/dist-packages (from mlatom) (4.66.4)\n",
            "Requirement already satisfied: contourpy>=1.0.1 in /usr/local/lib/python3.10/dist-packages (from matplotlib->mlatom) (1.2.1)\n",
            "Requirement already satisfied: cycler>=0.10 in /usr/local/lib/python3.10/dist-packages (from matplotlib->mlatom) (0.12.1)\n",
            "Requirement already satisfied: fonttools>=4.22.0 in /usr/local/lib/python3.10/dist-packages (from matplotlib->mlatom) (4.53.1)\n",
            "Requirement already satisfied: kiwisolver>=1.0.1 in /usr/local/lib/python3.10/dist-packages (from matplotlib->mlatom) (1.4.5)\n",
            "Requirement already satisfied: packaging>=20.0 in /usr/local/lib/python3.10/dist-packages (from matplotlib->mlatom) (24.1)\n",
            "Requirement already satisfied: pillow>=6.2.0 in /usr/local/lib/python3.10/dist-packages (from matplotlib->mlatom) (9.4.0)\n",
            "Requirement already satisfied: pyparsing>=2.3.1 in /usr/local/lib/python3.10/dist-packages (from matplotlib->mlatom) (3.1.2)\n",
            "Requirement already satisfied: python-dateutil>=2.7 in /usr/local/lib/python3.10/dist-packages (from matplotlib->mlatom) (2.8.2)\n",
            "Requirement already satisfied: pandas!=2.1.0,>=1.4 in /usr/local/lib/python3.10/dist-packages (from statsmodels->mlatom) (2.1.4)\n",
            "Requirement already satisfied: patsy>=0.5.6 in /usr/local/lib/python3.10/dist-packages (from statsmodels->mlatom) (0.5.6)\n",
            "Requirement already satisfied: filelock in /usr/local/lib/python3.10/dist-packages (from torch->mlatom) (3.15.4)\n",
            "Requirement already satisfied: typing-extensions>=4.8.0 in /usr/local/lib/python3.10/dist-packages (from torch->mlatom) (4.12.2)\n",
            "Requirement already satisfied: sympy in /usr/local/lib/python3.10/dist-packages (from torch->mlatom) (1.13.1)\n",
            "Requirement already satisfied: networkx in /usr/local/lib/python3.10/dist-packages (from torch->mlatom) (3.3)\n",
            "Requirement already satisfied: jinja2 in /usr/local/lib/python3.10/dist-packages (from torch->mlatom) (3.1.4)\n",
            "Requirement already satisfied: fsspec in /usr/local/lib/python3.10/dist-packages (from torch->mlatom) (2024.6.1)\n",
            "Collecting nvidia-cuda-nvrtc-cu12==12.1.105 (from torch->mlatom)\n",
            "  Using cached nvidia_cuda_nvrtc_cu12-12.1.105-py3-none-manylinux1_x86_64.whl.metadata (1.5 kB)\n",
            "Collecting nvidia-cuda-runtime-cu12==12.1.105 (from torch->mlatom)\n",
            "  Using cached nvidia_cuda_runtime_cu12-12.1.105-py3-none-manylinux1_x86_64.whl.metadata (1.5 kB)\n",
            "Collecting nvidia-cuda-cupti-cu12==12.1.105 (from torch->mlatom)\n",
            "  Using cached nvidia_cuda_cupti_cu12-12.1.105-py3-none-manylinux1_x86_64.whl.metadata (1.6 kB)\n",
            "Collecting nvidia-cudnn-cu12==8.9.2.26 (from torch->mlatom)\n",
            "  Using cached nvidia_cudnn_cu12-8.9.2.26-py3-none-manylinux1_x86_64.whl.metadata (1.6 kB)\n",
            "Collecting nvidia-cublas-cu12==12.1.3.1 (from torch->mlatom)\n",
            "  Using cached nvidia_cublas_cu12-12.1.3.1-py3-none-manylinux1_x86_64.whl.metadata (1.5 kB)\n",
            "Collecting nvidia-cufft-cu12==11.0.2.54 (from torch->mlatom)\n",
            "  Using cached nvidia_cufft_cu12-11.0.2.54-py3-none-manylinux1_x86_64.whl.metadata (1.5 kB)\n",
            "Collecting nvidia-curand-cu12==10.3.2.106 (from torch->mlatom)\n",
            "  Using cached nvidia_curand_cu12-10.3.2.106-py3-none-manylinux1_x86_64.whl.metadata (1.5 kB)\n",
            "Collecting nvidia-cusolver-cu12==11.4.5.107 (from torch->mlatom)\n",
            "  Using cached nvidia_cusolver_cu12-11.4.5.107-py3-none-manylinux1_x86_64.whl.metadata (1.6 kB)\n",
            "Collecting nvidia-cusparse-cu12==12.1.0.106 (from torch->mlatom)\n",
            "  Using cached nvidia_cusparse_cu12-12.1.0.106-py3-none-manylinux1_x86_64.whl.metadata (1.6 kB)\n",
            "Collecting nvidia-nccl-cu12==2.20.5 (from torch->mlatom)\n",
            "  Using cached nvidia_nccl_cu12-2.20.5-py3-none-manylinux2014_x86_64.whl.metadata (1.8 kB)\n",
            "Collecting nvidia-nvtx-cu12==12.1.105 (from torch->mlatom)\n",
            "  Using cached nvidia_nvtx_cu12-12.1.105-py3-none-manylinux1_x86_64.whl.metadata (1.7 kB)\n",
            "Requirement already satisfied: triton==2.3.1 in /usr/local/lib/python3.10/dist-packages (from torch->mlatom) (2.3.1)\n",
            "Collecting nvidia-nvjitlink-cu12 (from nvidia-cusolver-cu12==11.4.5.107->torch->mlatom)\n",
            "  Downloading nvidia_nvjitlink_cu12-12.5.82-py3-none-manylinux2014_x86_64.whl.metadata (1.5 kB)\n",
            "Collecting lark-parser (from torchani->mlatom)\n",
            "  Downloading lark_parser-0.12.0-py2.py3-none-any.whl.metadata (1.7 kB)\n",
            "Requirement already satisfied: requests in /usr/local/lib/python3.10/dist-packages (from torchani->mlatom) (2.31.0)\n",
            "Requirement already satisfied: importlib-metadata in /usr/local/lib/python3.10/dist-packages (from torchani->mlatom) (8.2.0)\n",
            "Requirement already satisfied: pytz>=2020.1 in /usr/local/lib/python3.10/dist-packages (from pandas!=2.1.0,>=1.4->statsmodels->mlatom) (2024.1)\n",
            "Requirement already satisfied: tzdata>=2022.1 in /usr/local/lib/python3.10/dist-packages (from pandas!=2.1.0,>=1.4->statsmodels->mlatom) (2024.1)\n",
            "Requirement already satisfied: six in /usr/local/lib/python3.10/dist-packages (from patsy>=0.5.6->statsmodels->mlatom) (1.16.0)\n",
            "Requirement already satisfied: zipp>=0.5 in /usr/local/lib/python3.10/dist-packages (from importlib-metadata->torchani->mlatom) (3.19.2)\n",
            "Requirement already satisfied: MarkupSafe>=2.0 in /usr/local/lib/python3.10/dist-packages (from jinja2->torch->mlatom) (2.1.5)\n",
            "Requirement already satisfied: charset-normalizer<4,>=2 in /usr/local/lib/python3.10/dist-packages (from requests->torchani->mlatom) (3.3.2)\n",
            "Requirement already satisfied: idna<4,>=2.5 in /usr/local/lib/python3.10/dist-packages (from requests->torchani->mlatom) (3.7)\n",
            "Requirement already satisfied: urllib3<3,>=1.21.1 in /usr/local/lib/python3.10/dist-packages (from requests->torchani->mlatom) (2.0.7)\n",
            "Requirement already satisfied: certifi>=2017.4.17 in /usr/local/lib/python3.10/dist-packages (from requests->torchani->mlatom) (2024.7.4)\n",
            "Requirement already satisfied: mpmath<1.4,>=1.1.0 in /usr/local/lib/python3.10/dist-packages (from sympy->torch->mlatom) (1.3.0)\n",
            "Downloading mlatom-3.9.1-py3-none-any.whl (51.8 MB)\n",
            "\u001b[2K   \u001b[90m━━━━━━━━━━━━━━━━━━━━━━━━━━━━━━━━━━━━━━━━\u001b[0m \u001b[32m51.8/51.8 MB\u001b[0m \u001b[31m10.2 MB/s\u001b[0m eta \u001b[36m0:00:00\u001b[0m\n",
            "\u001b[?25hDownloading pyh5md-1.0.0-py2.py3-none-any.whl (4.4 kB)\n",
            "Using cached nvidia_cublas_cu12-12.1.3.1-py3-none-manylinux1_x86_64.whl (410.6 MB)\n",
            "Using cached nvidia_cuda_cupti_cu12-12.1.105-py3-none-manylinux1_x86_64.whl (14.1 MB)\n",
            "Using cached nvidia_cuda_nvrtc_cu12-12.1.105-py3-none-manylinux1_x86_64.whl (23.7 MB)\n",
            "Using cached nvidia_cuda_runtime_cu12-12.1.105-py3-none-manylinux1_x86_64.whl (823 kB)\n",
            "Using cached nvidia_cudnn_cu12-8.9.2.26-py3-none-manylinux1_x86_64.whl (731.7 MB)\n",
            "Using cached nvidia_cufft_cu12-11.0.2.54-py3-none-manylinux1_x86_64.whl (121.6 MB)\n",
            "Using cached nvidia_curand_cu12-10.3.2.106-py3-none-manylinux1_x86_64.whl (56.5 MB)\n",
            "Using cached nvidia_cusolver_cu12-11.4.5.107-py3-none-manylinux1_x86_64.whl (124.2 MB)\n",
            "Using cached nvidia_cusparse_cu12-12.1.0.106-py3-none-manylinux1_x86_64.whl (196.0 MB)\n",
            "Using cached nvidia_nccl_cu12-2.20.5-py3-none-manylinux2014_x86_64.whl (176.2 MB)\n",
            "Using cached nvidia_nvtx_cu12-12.1.105-py3-none-manylinux1_x86_64.whl (99 kB)\n",
            "Downloading torchani-2.2.4-py3-none-any.whl (10.9 MB)\n",
            "\u001b[2K   \u001b[90m━━━━━━━━━━━━━━━━━━━━━━━━━━━━━━━━━━━━━━━━\u001b[0m \u001b[32m10.9/10.9 MB\u001b[0m \u001b[31m42.0 MB/s\u001b[0m eta \u001b[36m0:00:00\u001b[0m\n",
            "\u001b[?25hDownloading lark_parser-0.12.0-py2.py3-none-any.whl (103 kB)\n",
            "\u001b[2K   \u001b[90m━━━━━━━━━━━━━━━━━━━━━━━━━━━━━━━━━━━━━━━━\u001b[0m \u001b[32m103.5/103.5 kB\u001b[0m \u001b[31m9.4 MB/s\u001b[0m eta \u001b[36m0:00:00\u001b[0m\n",
            "\u001b[?25hDownloading nvidia_nvjitlink_cu12-12.5.82-py3-none-manylinux2014_x86_64.whl (21.3 MB)\n",
            "\u001b[2K   \u001b[90m━━━━━━━━━━━━━━━━━━━━━━━━━━━━━━━━━━━━━━━━\u001b[0m \u001b[32m21.3/21.3 MB\u001b[0m \u001b[31m71.8 MB/s\u001b[0m eta \u001b[36m0:00:00\u001b[0m\n",
            "\u001b[?25hInstalling collected packages: pyh5md, lark-parser, nvidia-nvtx-cu12, nvidia-nvjitlink-cu12, nvidia-nccl-cu12, nvidia-curand-cu12, nvidia-cufft-cu12, nvidia-cuda-runtime-cu12, nvidia-cuda-nvrtc-cu12, nvidia-cuda-cupti-cu12, nvidia-cublas-cu12, nvidia-cusparse-cu12, nvidia-cudnn-cu12, nvidia-cusolver-cu12, torchani, mlatom\n",
            "Successfully installed lark-parser-0.12.0 mlatom-3.9.1 nvidia-cublas-cu12-12.1.3.1 nvidia-cuda-cupti-cu12-12.1.105 nvidia-cuda-nvrtc-cu12-12.1.105 nvidia-cuda-runtime-cu12-12.1.105 nvidia-cudnn-cu12-8.9.2.26 nvidia-cufft-cu12-11.0.2.54 nvidia-curand-cu12-10.3.2.106 nvidia-cusolver-cu12-11.4.5.107 nvidia-cusparse-cu12-12.1.0.106 nvidia-nccl-cu12-2.20.5 nvidia-nvjitlink-cu12-12.5.82 nvidia-nvtx-cu12-12.1.105 pyh5md-1.0.0 torchani-2.2.4\n",
            "Cloning into 'ulamdyn'...\n",
            "remote: Enumerating objects: 1097, done.\u001b[K\n",
            "remote: Counting objects: 100% (187/187), done.\u001b[K\n",
            "remote: Compressing objects: 100% (74/74), done.\u001b[K\n",
            "remote: Total 1097 (delta 116), reused 130 (delta 90), pack-reused 910 (from 1)\u001b[K\n",
            "Receiving objects: 100% (1097/1097), 15.66 MiB | 32.73 MiB/s, done.\n",
            "Resolving deltas: 100% (625/625), done.\n",
            "Processing ./ulamdyn\n",
            "  Preparing metadata (setup.py) ... \u001b[?25l\u001b[?25hdone\n",
            "Collecting rmsd (from ulamdyn==0+untagged.86.g3547f09)\n",
            "  Downloading rmsd-1.5.1-py3-none-any.whl.metadata (5.3 kB)\n",
            "Requirement already satisfied: h5py in /usr/local/lib/python3.10/dist-packages (from ulamdyn==0+untagged.86.g3547f09) (3.11.0)\n",
            "Requirement already satisfied: numpy in /usr/local/lib/python3.10/dist-packages (from ulamdyn==0+untagged.86.g3547f09) (1.26.4)\n",
            "Requirement already satisfied: scipy in /usr/local/lib/python3.10/dist-packages (from ulamdyn==0+untagged.86.g3547f09) (1.13.1)\n",
            "Requirement already satisfied: joblib in /usr/local/lib/python3.10/dist-packages (from ulamdyn==0+untagged.86.g3547f09) (1.4.2)\n",
            "Requirement already satisfied: pandas in /usr/local/lib/python3.10/dist-packages (from ulamdyn==0+untagged.86.g3547f09) (2.1.4)\n",
            "Requirement already satisfied: scikit-learn in /usr/local/lib/python3.10/dist-packages (from ulamdyn==0+untagged.86.g3547f09) (1.3.2)\n",
            "Collecting tslearn (from ulamdyn==0+untagged.86.g3547f09)\n",
            "  Downloading tslearn-0.6.3-py3-none-any.whl.metadata (14 kB)\n",
            "Requirement already satisfied: python-dateutil>=2.8.2 in /usr/local/lib/python3.10/dist-packages (from pandas->ulamdyn==0+untagged.86.g3547f09) (2.8.2)\n",
            "Requirement already satisfied: pytz>=2020.1 in /usr/local/lib/python3.10/dist-packages (from pandas->ulamdyn==0+untagged.86.g3547f09) (2024.1)\n",
            "Requirement already satisfied: tzdata>=2022.1 in /usr/local/lib/python3.10/dist-packages (from pandas->ulamdyn==0+untagged.86.g3547f09) (2024.1)\n",
            "Requirement already satisfied: threadpoolctl>=2.0.0 in /usr/local/lib/python3.10/dist-packages (from scikit-learn->ulamdyn==0+untagged.86.g3547f09) (3.5.0)\n",
            "Requirement already satisfied: numba in /usr/local/lib/python3.10/dist-packages (from tslearn->ulamdyn==0+untagged.86.g3547f09) (0.60.0)\n",
            "Requirement already satisfied: six>=1.5 in /usr/local/lib/python3.10/dist-packages (from python-dateutil>=2.8.2->pandas->ulamdyn==0+untagged.86.g3547f09) (1.16.0)\n",
            "Requirement already satisfied: llvmlite<0.44,>=0.43.0dev0 in /usr/local/lib/python3.10/dist-packages (from numba->tslearn->ulamdyn==0+untagged.86.g3547f09) (0.43.0)\n",
            "Downloading rmsd-1.5.1-py3-none-any.whl (17 kB)\n",
            "Downloading tslearn-0.6.3-py3-none-any.whl (374 kB)\n",
            "\u001b[2K   \u001b[90m━━━━━━━━━━━━━━━━━━━━━━━━━━━━━━━━━━━━━━━━\u001b[0m \u001b[32m374.4/374.4 kB\u001b[0m \u001b[31m6.1 MB/s\u001b[0m eta \u001b[36m0:00:00\u001b[0m\n",
            "\u001b[?25hBuilding wheels for collected packages: ulamdyn\n",
            "  Building wheel for ulamdyn (setup.py) ... \u001b[?25l\u001b[?25hdone\n",
            "  Created wheel for ulamdyn: filename=ulamdyn-0+untagged.86.g3547f09-py3-none-any.whl size=82743 sha256=81fb6f25bcc958d3be67dcd4965422a2ddc183e4d82660c66d2a07eb8cafbb8e\n",
            "  Stored in directory: /tmp/pip-ephem-wheel-cache-zn2fe4pw/wheels/ea/44/6c/17ce24d141475292bbb4c82ed8acc25f0b63a566b8af3500fc\n",
            "Successfully built ulamdyn\n",
            "Installing collected packages: rmsd, tslearn, ulamdyn\n",
            "Successfully installed rmsd-1.5.1 tslearn-0.6.3 ulamdyn-0+untagged.86.g3547f09\n"
          ]
        }
      ],
      "source": [
        "!pip install mlatom\n",
        "!git clone https://gitlab.com/maxjr82/ulamdyn.git\n",
        "!pip install ulamdyn/"
      ]
    },
    {
      "cell_type": "code",
      "execution_count": null,
      "metadata": {
        "colab": {
          "base_uri": "https://localhost:8080/"
        },
        "id": "7z8eznaooDgP",
        "outputId": "9390bfaf-aa84-46fb-e6da-98e41c6213f0"
      },
      "outputs": [
        {
          "output_type": "stream",
          "name": "stdout",
          "text": [
            "R -> (120000, 8, 3)\n",
            "F -> (120000, 8, 3)\n",
            "Q -> (120000, 8, 1)\n",
            "DP -> (120000, 3)\n",
            "QP -> (120000, 3, 3)\n",
            "P -> (120000, 6)\n",
            "RC -> (120000, 3)\n",
            "HL -> (120000, 2)\n",
            "E -> (120000, 1)\n",
            "Z -> (8,)\n",
            "R2 -> (120000, 1)\n",
            "CONF -> (120000, 1)\n",
            "['C', 'O', 'C', 'C', 'H', 'H', 'H', 'H']\n"
          ]
        }
      ],
      "source": [
        "from typing_extensions import get_overloads\n",
        "data = np.load('ws22_acrolein.npz')\n",
        "\n",
        "for key, val in data.items():\n",
        "    print(key, '->', val.shape)\n",
        "\n",
        "coordinates_cis_trans = np.array(data['R'][:20000])\n",
        "energy_cis_trans = np.array(data['E'][:20000])\n",
        "grads_cis_trans = -np.array(data['F'][:20000])\n",
        "\n",
        "\n",
        "atoms = []\n",
        "\n",
        "for i in range(data['Z'].shape[0]):\n",
        "    if data['Z'][i] == 6:\n",
        "        atoms.append('C')\n",
        "    elif data['Z'][i] == 8:\n",
        "        atoms.append('O')\n",
        "    elif data['Z'][i] == 1:\n",
        "        atoms.append('H')\n",
        "\n",
        "print(atoms)"
      ]
    },
    {
      "cell_type": "code",
      "execution_count": null,
      "metadata": {
        "id": "ofeIVgHWr5qQ"
      },
      "outputs": [],
      "source": [
        "coordinates_trans = np.array(data['R'][70000:])\n",
        "energy_trans = np.array(data['E'][70000:])\n",
        "grads_trans = -np.array(data['F'][70000:])"
      ]
    },
    {
      "cell_type": "code",
      "execution_count": null,
      "metadata": {
        "id": "huFf9938vuRA"
      },
      "outputs": [],
      "source": [
        "coordinates_cis = np.array(data['R'][20000:70000])\n",
        "energy_cis = np.array(data['E'][20000:70000])\n",
        "grads_cis = -np.array(data['F'][20000:70000])"
      ]
    },
    {
      "cell_type": "code",
      "execution_count": null,
      "metadata": {
        "id": "bjSsy6Fzug6p"
      },
      "outputs": [],
      "source": [
        "coordinates_trans_train, coordinates_trans_test, en_trans_train, en_trans_test, grads_trans_train, grads_trans_test = train_test_split(coordinates_trans, energy_trans, grads_trans, train_size = 0.90, random_state=0)"
      ]
    },
    {
      "cell_type": "code",
      "execution_count": null,
      "metadata": {
        "colab": {
          "base_uri": "https://localhost:8080/"
        },
        "id": "HyZZQweo4vxf",
        "outputId": "9b207779-b5f6-43f7-9229-8b5bd0b02aaa"
      },
      "outputs": [
        {
          "output_type": "execute_result",
          "data": {
            "text/plain": [
              "array([[-120265.54525667],\n",
              "       [-120295.6376437 ],\n",
              "       [-120290.32390238],\n",
              "       ...,\n",
              "       [-120294.09290581],\n",
              "       [-120273.4211467 ],\n",
              "       [-120292.20436419]])"
            ]
          },
          "metadata": {},
          "execution_count": 7
        }
      ],
      "source": [
        "en_trans_train"
      ]
    },
    {
      "cell_type": "code",
      "execution_count": null,
      "metadata": {
        "colab": {
          "base_uri": "https://localhost:8080/"
        },
        "id": "Emluw96Ou2Qj",
        "outputId": "9848d863-e42b-4885-ade7-43f8e935c92f"
      },
      "outputs": [
        {
          "output_type": "stream",
          "name": "stdout",
          "text": [
            "(45000, 1)\n",
            "(5000, 1)\n"
          ]
        }
      ],
      "source": [
        "print(en_trans_train.shape)\n",
        "print(en_trans_test.shape)"
      ]
    },
    {
      "cell_type": "code",
      "execution_count": null,
      "metadata": {
        "id": "lZj6P76dgN2F"
      },
      "outputs": [],
      "source": [
        "import ulamdyn as ulmd\n",
        "import os\n",
        "\n",
        "from mlatom.data import molecular_database, molecule\n",
        "from mlatom.interfaces.torchani_interface import ani\n",
        "# from mlatom.interfaces.gap_interface import gap\n",
        "from mlatom import models\n",
        "from mlatom.constants import Hartree2eV, Angstrom2Bohr, kcalpermol2eV\n",
        "import torch"
      ]
    },
    {
      "cell_type": "code",
      "execution_count": null,
      "metadata": {
        "id": "gCzK7ZVax5wn"
      },
      "outputs": [],
      "source": [
        "import seaborn as sns\n",
        "import matplotlib.pyplot as plt\n",
        "from matplotlib.ticker import StrMethodFormatter\n",
        "\n",
        "import ipywidgets as widgets\n",
        "from ipywidgets import interact"
      ]
    },
    {
      "cell_type": "code",
      "execution_count": null,
      "metadata": {
        "id": "3c9-u_2Yx9g3"
      },
      "outputs": [],
      "source": [
        "epots_train = en_trans_train.flatten() * kcalpermol2eV\n",
        "epots_test = en_trans_test.flatten() * kcalpermol2eV\n",
        "grads_train = grads_trans_train * kcalpermol2eV\n",
        "grads_test = grads_trans_test * kcalpermol2eV"
      ]
    },
    {
      "cell_type": "code",
      "execution_count": null,
      "metadata": {
        "colab": {
          "base_uri": "https://localhost:8080/"
        },
        "id": "ExU-bYt4437L",
        "outputId": "3b3d3c77-3dbe-4d17-c72a-2ca514161f70"
      },
      "outputs": [
        {
          "output_type": "execute_result",
          "data": {
            "text/plain": [
              "array([-5217.51587023, -5218.8213772 , -5218.59084958, ...,\n",
              "       -5218.75436138, -5217.85755231, -5218.67243021])"
            ]
          },
          "metadata": {},
          "execution_count": 12
        }
      ],
      "source": [
        "epots_train"
      ]
    },
    {
      "cell_type": "code",
      "execution_count": null,
      "metadata": {
        "id": "rX81SoKdyL1v"
      },
      "outputs": [],
      "source": [
        "atoms = np.tile(np.array(1 * [6] + 1 * [8] + 2 * [6] + 4 * [1]), (45000, 1))\n",
        "acrolein_train = molecular_database.from_numpy(coordinates_trans_train, atoms)"
      ]
    },
    {
      "cell_type": "code",
      "execution_count": null,
      "metadata": {
        "colab": {
          "base_uri": "https://localhost:8080/"
        },
        "id": "caDLo1Aw1wTQ",
        "outputId": "ab6e8eda-6d09-4d46-febc-6e9fa16be932"
      },
      "outputs": [
        {
          "output_type": "execute_result",
          "data": {
            "text/plain": [
              "(45000, 8)"
            ]
          },
          "metadata": {},
          "execution_count": 14
        }
      ],
      "source": [
        "acrolein_train.element_symbols.shape"
      ]
    },
    {
      "cell_type": "code",
      "execution_count": null,
      "metadata": {
        "colab": {
          "base_uri": "https://localhost:8080/"
        },
        "id": "VP1braDw1_t3",
        "outputId": "df1e1f56-38f7-44f9-e196-0a30faa45545"
      },
      "outputs": [
        {
          "output_type": "execute_result",
          "data": {
            "text/plain": [
              "(45000, 8, 3)"
            ]
          },
          "metadata": {},
          "execution_count": 15
        }
      ],
      "source": [
        "acrolein_train.xyz_coordinates.shape"
      ]
    },
    {
      "cell_type": "code",
      "execution_count": null,
      "metadata": {
        "colab": {
          "base_uri": "https://localhost:8080/"
        },
        "id": "gdpl5_O62CdX",
        "outputId": "8d2f3edf-f42b-46c9-ab20-d51fe595ee6b"
      },
      "outputs": [
        {
          "output_type": "execute_result",
          "data": {
            "text/plain": [
              "['__add__',\n",
              " '__class__',\n",
              " '__delattr__',\n",
              " '__dict__',\n",
              " '__dir__',\n",
              " '__doc__',\n",
              " '__eq__',\n",
              " '__format__',\n",
              " '__ge__',\n",
              " '__getattribute__',\n",
              " '__getitem__',\n",
              " '__gt__',\n",
              " '__hash__',\n",
              " '__init__',\n",
              " '__init_subclass__',\n",
              " '__iter__',\n",
              " '__le__',\n",
              " '__len__',\n",
              " '__lt__',\n",
              " '__module__',\n",
              " '__ne__',\n",
              " '__new__',\n",
              " '__reduce__',\n",
              " '__reduce_ex__',\n",
              " '__repr__',\n",
              " '__setattr__',\n",
              " '__sizeof__',\n",
              " '__str__',\n",
              " '__subclasshook__',\n",
              " '__weakref__',\n",
              " '_is_uniform_cell',\n",
              " '_load',\n",
              " 'add_hessian_properties',\n",
              " 'add_scalar_properties',\n",
              " 'add_scalar_properties_from_file',\n",
              " 'add_xyz_derivative_properties',\n",
              " 'add_xyz_derivative_properties_from_file',\n",
              " 'add_xyz_vectorial_properties',\n",
              " 'add_xyz_vectorial_properties_from_file',\n",
              " 'add_xyz_vectorial_properties_from_string',\n",
              " 'append',\n",
              " 'atomic_numbers',\n",
              " 'batches',\n",
              " 'charges',\n",
              " 'copy',\n",
              " 'dump',\n",
              " 'element_symbols',\n",
              " 'filter_by_property',\n",
              " 'from_numpy',\n",
              " 'from_smiles_file',\n",
              " 'from_smiles_string',\n",
              " 'from_xyz_file',\n",
              " 'from_xyz_string',\n",
              " 'get_atomic_numbers',\n",
              " 'get_element_symbols',\n",
              " 'get_number_of_atoms',\n",
              " 'get_properties',\n",
              " 'get_xyz_derivative_properties',\n",
              " 'get_xyz_string',\n",
              " 'get_xyz_vectorial_properties',\n",
              " 'ids',\n",
              " 'load',\n",
              " 'molecules',\n",
              " 'multiplicities',\n",
              " 'nuclear_masses',\n",
              " 'number_of_atoms',\n",
              " 'proliferate',\n",
              " 'read_from_numpy',\n",
              " 'read_from_smiles_file',\n",
              " 'read_from_smiles_string',\n",
              " 'read_from_xyz_file',\n",
              " 'read_from_xyz_string',\n",
              " 'set_properties',\n",
              " 'size',\n",
              " 'smiles',\n",
              " 'split',\n",
              " 'sum_properties',\n",
              " 'write_file_energy_gradients',\n",
              " 'write_file_with_hessian',\n",
              " 'write_file_with_properties',\n",
              " 'write_file_with_smiles',\n",
              " 'write_file_with_xyz_coordinates',\n",
              " 'write_file_with_xyz_derivative_properties',\n",
              " 'write_file_with_xyz_vectorial_properties',\n",
              " 'xyz_coordinates']"
            ]
          },
          "metadata": {},
          "execution_count": 16
        }
      ],
      "source": [
        "dir(acrolein_train)"
      ]
    },
    {
      "cell_type": "code",
      "execution_count": null,
      "metadata": {
        "id": "ENGGDrGz2FTw"
      },
      "outputs": [],
      "source": [
        "acrolein_train.add_scalar_properties(epots_train, \"energy\")"
      ]
    },
    {
      "cell_type": "code",
      "execution_count": null,
      "metadata": {
        "id": "HdYhO-VbS5Ef"
      },
      "outputs": [],
      "source": [
        "acrolein_train.add_xyz_derivative_properties(grads_train, \"energy\", \"energy_grad\")"
      ]
    },
    {
      "cell_type": "code",
      "execution_count": null,
      "metadata": {
        "colab": {
          "base_uri": "https://localhost:8080/"
        },
        "id": "ecLlx9wP2OwC",
        "outputId": "e055e8b2-1cce-4519-9ff9-320f775a4cb8"
      },
      "outputs": [
        {
          "output_type": "execute_result",
          "data": {
            "text/plain": [
              "45000"
            ]
          },
          "metadata": {},
          "execution_count": 19
        }
      ],
      "source": [
        "acrolein_train.size"
      ]
    },
    {
      "cell_type": "code",
      "execution_count": null,
      "metadata": {
        "colab": {
          "base_uri": "https://localhost:8080/"
        },
        "id": "sKo7_E-K4M2G",
        "outputId": "b22a4dec-8aa8-4bd0-94d8-6bae678ccf73"
      },
      "outputs": [
        {
          "output_type": "execute_result",
          "data": {
            "text/plain": [
              "(45000,)"
            ]
          },
          "metadata": {},
          "execution_count": 20
        }
      ],
      "source": [
        "acrolein_train.get_properties('energy').shape"
      ]
    },
    {
      "cell_type": "code",
      "execution_count": null,
      "metadata": {
        "colab": {
          "base_uri": "https://localhost:8080/"
        },
        "id": "Z5KKyFCBTFVx",
        "outputId": "342f46be-a357-4914-d311-1fb0b15ac877"
      },
      "outputs": [
        {
          "output_type": "execute_result",
          "data": {
            "text/plain": [
              "(45000, 8, 3)"
            ]
          },
          "metadata": {},
          "execution_count": 21
        }
      ],
      "source": [
        "acrolein_train.get_xyz_derivative_properties('energy_grad').shape"
      ]
    },
    {
      "cell_type": "code",
      "execution_count": null,
      "metadata": {
        "id": "bBHu6Civ3fn-"
      },
      "outputs": [],
      "source": [
        "import random\n",
        "import torch\n",
        "import os\n",
        "import sys\n",
        "import numpy as np\n",
        "import pandas as pd\n",
        "import ulamdyn as ulmd\n",
        "import torch\n",
        "import torchani\n",
        "from mlatom.data import molecular_database, molecule\n",
        "from mlatom.interfaces.torchani_interface import ani\n",
        "from mlatom.constants import Hartree2eV, Angstrom2Bohr"
      ]
    },
    {
      "cell_type": "code",
      "execution_count": null,
      "metadata": {
        "id": "WEat_Cfphy1-"
      },
      "outputs": [],
      "source": [
        "def set_seed(seed):\n",
        "    # Set the seed for the Python random module\n",
        "    random.seed(seed)\n",
        "\n",
        "    # Set the seed for NumPy\n",
        "    np.random.seed(seed)\n",
        "\n",
        "    # Set the seed for PyTorch (CPU)\n",
        "    torch.manual_seed(seed)\n",
        "\n",
        "    # If using a GPU, set the seed for PyTorch (GPU)\n",
        "    if torch.cuda.is_available():\n",
        "        torch.cuda.manual_seed(seed)\n",
        "        torch.cuda.manual_seed_all(seed)  # if you are using multi-GPU.\n",
        "\n",
        "    # Ensure deterministic behavior for some operations\n",
        "    torch.backends.cudnn.deterministic = True\n",
        "    torch.backends.cudnn.benchmark = False\n",
        "\n",
        "# Set a seed value\n",
        "seed = 0\n",
        "set_seed(seed)"
      ]
    },
    {
      "cell_type": "code",
      "execution_count": null,
      "metadata": {
        "id": "sJHpYOs6rFkQ"
      },
      "outputs": [],
      "source": [
        "hyperparams = models.hyperparameters({\n",
        "        #### Training ####\n",
        "        'batch_size':           models.hyperparameter(value=128, minval=1, maxval=1024, optimization_space='linear', dtype=int),\n",
        "        'max_epochs':           models.hyperparameter(value=1000, minval=100, maxval=1000000, optimization_space='log', dtype=int),\n",
        "        'learning_rate':                    models.hyperparameter(value=0.002, minval=0.0001, maxval=0.01, optimization_space='log'),\n",
        "        'early_stopping_learning_rate':     models.hyperparameter(value=1.0E-7, minval=1.0E-6, maxval=1.0E-4, optimization_space='log'),\n",
        "        'lr_reduce_patience':   models.hyperparameter(value=50, minval=16, maxval=256, optimization_space='linear'),\n",
        "        'lr_reduce_factor':     models.hyperparameter(value=0.8, minval=0.1, maxval=0.9, optimization_space='linear'),\n",
        "        'lr_reduce_threshold':  models.hyperparameter(value=0.0, minval=-0.01, maxval=0.01, optimization_space='linear'),\n",
        "        #### Loss ####\n",
        "        'force_coefficient':    models.hyperparameter(value=0.1, minval=0.05, maxval=5, optimization_space='linear'),\n",
        "        'median_loss':          models.hyperparameter(value=False),\n",
        "        'validation_loss_type': models.hyperparameter(value='mean_RMSE', choices=['MSE', 'mean_RMSE']),\n",
        "        #### Network ####\n",
        "        \"neurons\":              models.hyperparameter(value=[[72, 64, 64, 16]]),\n",
        "        \"activation_function\":  models.hyperparameter(value=lambda: torch.nn.ReLU(), optimization_space='choice', choices=[\"CELU\", \"ReLU\", \"GELU\"]),\n",
        "        \"fixed_layers\":         models.hyperparameter(value=False),\n",
        "        #### AEV ####\n",
        "        'Rcr':                  models.hyperparameter(value=5.2000e+00, minval=1.0, maxval=10.0, optimization_space='linear'),\n",
        "        'Rca':                  models.hyperparameter(value=3.5000e+00, minval=1.0, maxval=10.0, optimization_space='linear'),\n",
        "        'EtaR':                 models.hyperparameter(value=[1.6000000e+01]),\n",
        "        'ShfR':                 models.hyperparameter(value=[9.0000000e-01, 1.1687500e+00, 1.4375000e+00, 1.7062500e+00, 1.9750000e+00, 2.2437500e+00, 2.5125000e+00, 2.7812500e+00, 3.0500000e+00, 3.3187500e+00, 3.5875000e+00, 3.8562500e+00, 4.1250000e+00, 4.3937500e+00, 4.6625000e+00, 4.9312500e+00]),\n",
        "        'Zeta':                 models.hyperparameter(value=[3.2000000e+01]),\n",
        "        'ShfZ':                 models.hyperparameter(value=[1.9634954e-01, 5.8904862e-01, 9.8174770e-01, 1.3744468e+00, 1.7671459e+00, 2.1598449e+00, 2.5525440e+00, 2.9452431e+00]),\n",
        "        'EtaA':                 models.hyperparameter(value=[8.0000000e+00]),\n",
        "        'ShfA':                 models.hyperparameter(value=[9.0000000e-01, 1.5500000e+00, 2.2000000e+00, 2.8500000e+00]),\n",
        "    })"
      ]
    },
    {
      "cell_type": "code",
      "execution_count": null,
      "metadata": {
        "colab": {
          "base_uri": "https://localhost:8080/"
        },
        "id": "Y_J70_Kz3qqn",
        "outputId": "1597dd7a-2c29-4340-df24-df865e9e3190"
      },
      "outputs": [
        {
          "output_type": "stream",
          "name": "stdout",
          "text": [
            "the trained ANI model will be saved in ani_acrolein.pt\n"
          ]
        }
      ],
      "source": [
        "model_ani = ani(\"ani_acrolein.pt\")\n",
        "model_ani.hyperparameters = hyperparams"
      ]
    },
    {
      "cell_type": "code",
      "execution_count": null,
      "metadata": {
        "colab": {
          "base_uri": "https://localhost:8080/"
        },
        "id": "dfHvFwXo3vVf",
        "outputId": "7d6040d6-e7d6-4e68-aaeb-4767b95e7ada"
      },
      "outputs": [
        {
          "metadata": {
            "tags": null
          },
          "name": "stdout",
          "output_type": "stream",
          "text": [
            "Sequential(\n",
            "  (0): AEVComputer()\n",
            "  (1): ANIModel(\n",
            "    (C): Sequential(\n",
            "      (0): Linear(in_features=240, out_features=72, bias=True)\n",
            "      (1): ReLU()\n",
            "      (2): Linear(in_features=72, out_features=64, bias=True)\n",
            "      (3): ReLU()\n",
            "      (4): Linear(in_features=64, out_features=64, bias=True)\n",
            "      (5): ReLU()\n",
            "      (6): Linear(in_features=64, out_features=16, bias=True)\n",
            "      (7): ReLU()\n",
            "      (8): Linear(in_features=16, out_features=1, bias=True)\n",
            "    )\n",
            "    (H): Sequential(\n",
            "      (0): Linear(in_features=240, out_features=72, bias=True)\n",
            "      (1): ReLU()\n",
            "      (2): Linear(in_features=72, out_features=64, bias=True)\n",
            "      (3): ReLU()\n",
            "      (4): Linear(in_features=64, out_features=64, bias=True)\n",
            "      (5): ReLU()\n",
            "      (6): Linear(in_features=64, out_features=16, bias=True)\n",
            "      (7): ReLU()\n",
            "      (8): Linear(in_features=16, out_features=1, bias=True)\n",
            "    )\n",
            "    (O): Sequential(\n",
            "      (0): Linear(in_features=240, out_features=72, bias=True)\n",
            "      (1): ReLU()\n",
            "      (2): Linear(in_features=72, out_features=64, bias=True)\n",
            "      (3): ReLU()\n",
            "      (4): Linear(in_features=64, out_features=64, bias=True)\n",
            "      (5): ReLU()\n",
            "      (6): Linear(in_features=64, out_features=16, bias=True)\n",
            "      (7): ReLU()\n",
            "      (8): Linear(in_features=16, out_features=1, bias=True)\n",
            "    )\n",
            "  )\n",
            ")\n",
            "training starting from epoch 1\n",
            "validation loss: 0.06470415502124363 at epoch 1\n",
            "learning_rate: 0.002\n",
            "model saved in ani_acrolein.pt\n"
          ]
        },
        {
          "metadata": {
            "tags": null
          },
          "name": "stderr",
          "output_type": "stream",
          "text": [
            "epoch 1: 100%|██████████| 282/282 [00:09<00:00, 31.12it/s]\n"
          ]
        },
        {
          "metadata": {
            "tags": null
          },
          "name": "stdout",
          "output_type": "stream",
          "text": [
            "validation loss: 0.0043107227500942015 at epoch 2\n",
            "learning_rate: 0.002\n",
            "model saved in ani_acrolein.pt\n"
          ]
        },
        {
          "metadata": {
            "tags": null
          },
          "name": "stderr",
          "output_type": "stream",
          "text": [
            "epoch 2: 100%|██████████| 282/282 [00:07<00:00, 36.76it/s]\n"
          ]
        },
        {
          "metadata": {
            "tags": null
          },
          "name": "stdout",
          "output_type": "stream",
          "text": [
            "validation loss: 0.004105910354190403 at epoch 3\n",
            "learning_rate: 0.002\n",
            "model saved in ani_acrolein.pt\n"
          ]
        },
        {
          "metadata": {
            "tags": null
          },
          "name": "stderr",
          "output_type": "stream",
          "text": [
            "epoch 3: 100%|██████████| 282/282 [00:08<00:00, 33.68it/s]\n"
          ]
        },
        {
          "metadata": {
            "tags": null
          },
          "name": "stdout",
          "output_type": "stream",
          "text": [
            "validation loss: 0.005726151595513026 at epoch 4\n",
            "learning_rate: 0.002\n"
          ]
        },
        {
          "metadata": {
            "tags": null
          },
          "name": "stderr",
          "output_type": "stream",
          "text": [
            "epoch 4: 100%|██████████| 282/282 [00:08<00:00, 33.00it/s]\n"
          ]
        },
        {
          "metadata": {
            "tags": null
          },
          "name": "stdout",
          "output_type": "stream",
          "text": [
            "validation loss: 0.0030209139039119085 at epoch 5\n",
            "learning_rate: 0.002\n",
            "model saved in ani_acrolein.pt\n"
          ]
        },
        {
          "metadata": {
            "tags": null
          },
          "name": "stderr",
          "output_type": "stream",
          "text": [
            "epoch 5: 100%|██████████| 282/282 [00:07<00:00, 36.14it/s]\n"
          ]
        },
        {
          "metadata": {
            "tags": null
          },
          "name": "stdout",
          "output_type": "stream",
          "text": [
            "validation loss: 0.004143677757845985 at epoch 6\n",
            "learning_rate: 0.002\n"
          ]
        },
        {
          "metadata": {
            "tags": null
          },
          "name": "stderr",
          "output_type": "stream",
          "text": [
            "epoch 6: 100%|██████████| 282/282 [00:08<00:00, 34.95it/s]\n"
          ]
        },
        {
          "metadata": {
            "tags": null
          },
          "name": "stdout",
          "output_type": "stream",
          "text": [
            "validation loss: 0.0025728861374987497 at epoch 7\n",
            "learning_rate: 0.002\n",
            "model saved in ani_acrolein.pt\n"
          ]
        },
        {
          "metadata": {
            "tags": null
          },
          "name": "stderr",
          "output_type": "stream",
          "text": [
            "epoch 7: 100%|██████████| 282/282 [00:08<00:00, 33.48it/s]\n"
          ]
        },
        {
          "metadata": {
            "tags": null
          },
          "name": "stdout",
          "output_type": "stream",
          "text": [
            "validation loss: 0.0030825873100095327 at epoch 8\n",
            "learning_rate: 0.002\n"
          ]
        },
        {
          "metadata": {
            "tags": null
          },
          "name": "stderr",
          "output_type": "stream",
          "text": [
            "epoch 8: 100%|██████████| 282/282 [00:07<00:00, 35.72it/s]\n"
          ]
        },
        {
          "metadata": {
            "tags": null
          },
          "name": "stdout",
          "output_type": "stream",
          "text": [
            "validation loss: 0.002400750977297624 at epoch 9\n",
            "learning_rate: 0.002\n",
            "model saved in ani_acrolein.pt\n"
          ]
        },
        {
          "metadata": {
            "tags": null
          },
          "name": "stderr",
          "output_type": "stream",
          "text": [
            "epoch 9: 100%|██████████| 282/282 [00:07<00:00, 36.58it/s]\n"
          ]
        },
        {
          "metadata": {
            "tags": null
          },
          "name": "stdout",
          "output_type": "stream",
          "text": [
            "validation loss: 0.0023478722191519205 at epoch 10\n",
            "learning_rate: 0.002\n",
            "model saved in ani_acrolein.pt\n"
          ]
        },
        {
          "metadata": {
            "tags": null
          },
          "name": "stderr",
          "output_type": "stream",
          "text": [
            "epoch 10: 100%|██████████| 282/282 [00:08<00:00, 33.55it/s]\n"
          ]
        },
        {
          "metadata": {
            "tags": null
          },
          "name": "stdout",
          "output_type": "stream",
          "text": [
            "validation loss: 0.003898885581228468 at epoch 11\n",
            "learning_rate: 0.002\n"
          ]
        },
        {
          "metadata": {
            "tags": null
          },
          "name": "stderr",
          "output_type": "stream",
          "text": [
            "epoch 11: 100%|██████████| 282/282 [00:08<00:00, 34.11it/s]\n"
          ]
        },
        {
          "metadata": {
            "tags": null
          },
          "name": "stdout",
          "output_type": "stream",
          "text": [
            "validation loss: 0.002320019844505522 at epoch 12\n",
            "learning_rate: 0.002\n",
            "model saved in ani_acrolein.pt\n"
          ]
        },
        {
          "metadata": {
            "tags": null
          },
          "name": "stderr",
          "output_type": "stream",
          "text": [
            "epoch 12: 100%|██████████| 282/282 [00:07<00:00, 37.59it/s]\n"
          ]
        },
        {
          "metadata": {
            "tags": null
          },
          "name": "stdout",
          "output_type": "stream",
          "text": [
            "validation loss: 0.004672331707345115 at epoch 13\n",
            "learning_rate: 0.002\n"
          ]
        },
        {
          "metadata": {
            "tags": null
          },
          "name": "stderr",
          "output_type": "stream",
          "text": [
            "epoch 13: 100%|██████████| 282/282 [00:08<00:00, 33.08it/s]\n"
          ]
        },
        {
          "metadata": {
            "tags": null
          },
          "name": "stdout",
          "output_type": "stream",
          "text": [
            "validation loss: 0.004531390723254945 at epoch 14\n",
            "learning_rate: 0.002\n"
          ]
        },
        {
          "metadata": {
            "tags": null
          },
          "name": "stderr",
          "output_type": "stream",
          "text": [
            "epoch 14: 100%|██████████| 282/282 [00:12<00:00, 22.64it/s]\n"
          ]
        },
        {
          "metadata": {
            "tags": null
          },
          "name": "stdout",
          "output_type": "stream",
          "text": [
            "validation loss: 0.0028656637867291767 at epoch 15\n",
            "learning_rate: 0.002\n"
          ]
        },
        {
          "metadata": {
            "tags": null
          },
          "name": "stderr",
          "output_type": "stream",
          "text": [
            "epoch 15: 100%|██████████| 282/282 [00:08<00:00, 31.88it/s]\n"
          ]
        },
        {
          "metadata": {
            "tags": null
          },
          "name": "stdout",
          "output_type": "stream",
          "text": [
            "validation loss: 0.0031767662001980675 at epoch 16\n",
            "learning_rate: 0.002\n"
          ]
        },
        {
          "metadata": {
            "tags": null
          },
          "name": "stderr",
          "output_type": "stream",
          "text": [
            "epoch 16: 100%|██████████| 282/282 [00:07<00:00, 37.89it/s]\n"
          ]
        },
        {
          "metadata": {
            "tags": null
          },
          "name": "stdout",
          "output_type": "stream",
          "text": [
            "validation loss: 0.0049123122261630165 at epoch 17\n",
            "learning_rate: 0.002\n"
          ]
        },
        {
          "metadata": {
            "tags": null
          },
          "name": "stderr",
          "output_type": "stream",
          "text": [
            "epoch 17: 100%|██████████| 282/282 [00:08<00:00, 34.16it/s]\n"
          ]
        },
        {
          "metadata": {
            "tags": null
          },
          "name": "stdout",
          "output_type": "stream",
          "text": [
            "validation loss: 0.004452482044696808 at epoch 18\n",
            "learning_rate: 0.002\n"
          ]
        },
        {
          "metadata": {
            "tags": null
          },
          "name": "stderr",
          "output_type": "stream",
          "text": [
            "epoch 18: 100%|██████████| 282/282 [00:08<00:00, 34.17it/s]\n"
          ]
        },
        {
          "metadata": {
            "tags": null
          },
          "name": "stdout",
          "output_type": "stream",
          "text": [
            "validation loss: 0.0021314473400513333 at epoch 19\n",
            "learning_rate: 0.002\n",
            "model saved in ani_acrolein.pt\n"
          ]
        },
        {
          "metadata": {
            "tags": null
          },
          "name": "stderr",
          "output_type": "stream",
          "text": [
            "epoch 19: 100%|██████████| 282/282 [00:07<00:00, 36.45it/s]\n"
          ]
        },
        {
          "metadata": {
            "tags": null
          },
          "name": "stdout",
          "output_type": "stream",
          "text": [
            "validation loss: 0.00442953324649069 at epoch 20\n",
            "learning_rate: 0.002\n"
          ]
        },
        {
          "metadata": {
            "tags": null
          },
          "name": "stderr",
          "output_type": "stream",
          "text": [
            "epoch 20: 100%|██████████| 282/282 [00:08<00:00, 32.88it/s]\n"
          ]
        },
        {
          "metadata": {
            "tags": null
          },
          "name": "stdout",
          "output_type": "stream",
          "text": [
            "validation loss: 0.002088690703941716 at epoch 21\n",
            "learning_rate: 0.002\n",
            "model saved in ani_acrolein.pt\n"
          ]
        },
        {
          "metadata": {
            "tags": null
          },
          "name": "stderr",
          "output_type": "stream",
          "text": [
            "epoch 21: 100%|██████████| 282/282 [00:08<00:00, 31.34it/s]\n"
          ]
        },
        {
          "metadata": {
            "tags": null
          },
          "name": "stdout",
          "output_type": "stream",
          "text": [
            "validation loss: 0.002191141587992509 at epoch 22\n",
            "learning_rate: 0.002\n"
          ]
        },
        {
          "metadata": {
            "tags": null
          },
          "name": "stderr",
          "output_type": "stream",
          "text": [
            "epoch 22: 100%|██████████| 282/282 [00:07<00:00, 38.21it/s]\n"
          ]
        },
        {
          "metadata": {
            "tags": null
          },
          "name": "stdout",
          "output_type": "stream",
          "text": [
            "validation loss: 0.0029717215382390554 at epoch 23\n",
            "learning_rate: 0.002\n"
          ]
        },
        {
          "metadata": {
            "tags": null
          },
          "name": "stderr",
          "output_type": "stream",
          "text": [
            "epoch 23: 100%|██████████| 282/282 [00:08<00:00, 34.98it/s]\n"
          ]
        },
        {
          "metadata": {
            "tags": null
          },
          "name": "stdout",
          "output_type": "stream",
          "text": [
            "validation loss: 0.002063384554452366 at epoch 24\n",
            "learning_rate: 0.002\n",
            "model saved in ani_acrolein.pt\n"
          ]
        },
        {
          "metadata": {
            "tags": null
          },
          "name": "stderr",
          "output_type": "stream",
          "text": [
            "epoch 24: 100%|██████████| 282/282 [00:08<00:00, 33.84it/s]\n"
          ]
        },
        {
          "metadata": {
            "tags": null
          },
          "name": "stdout",
          "output_type": "stream",
          "text": [
            "validation loss: 0.0039027279383606383 at epoch 25\n",
            "learning_rate: 0.002\n"
          ]
        },
        {
          "metadata": {
            "tags": null
          },
          "name": "stderr",
          "output_type": "stream",
          "text": [
            "epoch 25: 100%|██████████| 282/282 [00:07<00:00, 37.95it/s]\n"
          ]
        },
        {
          "metadata": {
            "tags": null
          },
          "name": "stdout",
          "output_type": "stream",
          "text": [
            "validation loss: 0.004752107772562239 at epoch 26\n",
            "learning_rate: 0.002\n"
          ]
        },
        {
          "metadata": {
            "tags": null
          },
          "name": "stderr",
          "output_type": "stream",
          "text": [
            "epoch 26: 100%|██████████| 282/282 [00:08<00:00, 34.88it/s]\n"
          ]
        },
        {
          "metadata": {
            "tags": null
          },
          "name": "stdout",
          "output_type": "stream",
          "text": [
            "validation loss: 0.0045849759081999465 at epoch 27\n",
            "learning_rate: 0.002\n"
          ]
        },
        {
          "metadata": {
            "tags": null
          },
          "name": "stderr",
          "output_type": "stream",
          "text": [
            "epoch 27: 100%|██████████| 282/282 [00:08<00:00, 34.24it/s]\n"
          ]
        },
        {
          "metadata": {
            "tags": null
          },
          "name": "stdout",
          "output_type": "stream",
          "text": [
            "validation loss: 0.00301992316212919 at epoch 28\n",
            "learning_rate: 0.002\n"
          ]
        },
        {
          "metadata": {
            "tags": null
          },
          "name": "stderr",
          "output_type": "stream",
          "text": [
            "epoch 28: 100%|██████████| 282/282 [00:07<00:00, 36.36it/s]\n"
          ]
        },
        {
          "metadata": {
            "tags": null
          },
          "name": "stdout",
          "output_type": "stream",
          "text": [
            "validation loss: 0.004253410226768918 at epoch 29\n",
            "learning_rate: 0.002\n"
          ]
        },
        {
          "metadata": {
            "tags": null
          },
          "name": "stderr",
          "output_type": "stream",
          "text": [
            "epoch 29: 100%|██████████| 282/282 [00:07<00:00, 35.99it/s]\n"
          ]
        },
        {
          "metadata": {
            "tags": null
          },
          "name": "stdout",
          "output_type": "stream",
          "text": [
            "validation loss: 0.007148369352022807 at epoch 30\n",
            "learning_rate: 0.002\n"
          ]
        },
        {
          "metadata": {
            "tags": null
          },
          "name": "stderr",
          "output_type": "stream",
          "text": [
            "epoch 30: 100%|██████████| 282/282 [00:08<00:00, 34.30it/s]\n"
          ]
        },
        {
          "metadata": {
            "tags": null
          },
          "name": "stdout",
          "output_type": "stream",
          "text": [
            "validation loss: 0.0036056637863318124 at epoch 31\n",
            "learning_rate: 0.002\n"
          ]
        },
        {
          "metadata": {
            "tags": null
          },
          "name": "stderr",
          "output_type": "stream",
          "text": [
            "epoch 31: 100%|██████████| 282/282 [00:07<00:00, 35.30it/s]\n"
          ]
        },
        {
          "metadata": {
            "tags": null
          },
          "name": "stdout",
          "output_type": "stream",
          "text": [
            "validation loss: 0.0058897055255042186 at epoch 32\n",
            "learning_rate: 0.002\n"
          ]
        },
        {
          "metadata": {
            "tags": null
          },
          "name": "stderr",
          "output_type": "stream",
          "text": [
            "epoch 32: 100%|██████████| 282/282 [00:07<00:00, 37.75it/s]\n"
          ]
        },
        {
          "metadata": {
            "tags": null
          },
          "name": "stdout",
          "output_type": "stream",
          "text": [
            "validation loss: 0.005497402399778366 at epoch 33\n",
            "learning_rate: 0.002\n"
          ]
        },
        {
          "metadata": {
            "tags": null
          },
          "name": "stderr",
          "output_type": "stream",
          "text": [
            "epoch 33: 100%|██████████| 282/282 [00:08<00:00, 33.90it/s]\n"
          ]
        },
        {
          "metadata": {
            "tags": null
          },
          "name": "stdout",
          "output_type": "stream",
          "text": [
            "validation loss: 0.0025813419272502263 at epoch 34\n",
            "learning_rate: 0.002\n"
          ]
        },
        {
          "metadata": {
            "tags": null
          },
          "name": "stderr",
          "output_type": "stream",
          "text": [
            "epoch 34: 100%|██████████| 282/282 [00:07<00:00, 35.44it/s]\n"
          ]
        },
        {
          "metadata": {
            "tags": null
          },
          "name": "stdout",
          "output_type": "stream",
          "text": [
            "validation loss: 0.002513242153657807 at epoch 35\n",
            "learning_rate: 0.002\n"
          ]
        },
        {
          "metadata": {
            "tags": null
          },
          "name": "stderr",
          "output_type": "stream",
          "text": [
            "epoch 35: 100%|██████████| 282/282 [00:07<00:00, 37.56it/s]\n"
          ]
        },
        {
          "metadata": {
            "tags": null
          },
          "name": "stdout",
          "output_type": "stream",
          "text": [
            "validation loss: 0.00391432081328498 at epoch 36\n",
            "learning_rate: 0.002\n"
          ]
        },
        {
          "metadata": {
            "tags": null
          },
          "name": "stderr",
          "output_type": "stream",
          "text": [
            "epoch 36: 100%|██████████| 282/282 [00:08<00:00, 33.86it/s]\n"
          ]
        },
        {
          "metadata": {
            "tags": null
          },
          "name": "stdout",
          "output_type": "stream",
          "text": [
            "validation loss: 0.0025937643630637064 at epoch 37\n",
            "learning_rate: 0.002\n"
          ]
        },
        {
          "metadata": {
            "tags": null
          },
          "name": "stderr",
          "output_type": "stream",
          "text": [
            "epoch 37: 100%|██████████| 282/282 [00:08<00:00, 34.35it/s]\n"
          ]
        },
        {
          "metadata": {
            "tags": null
          },
          "name": "stdout",
          "output_type": "stream",
          "text": [
            "validation loss: 0.0035734966546297074 at epoch 38\n",
            "learning_rate: 0.002\n"
          ]
        },
        {
          "metadata": {
            "tags": null
          },
          "name": "stderr",
          "output_type": "stream",
          "text": [
            "epoch 38: 100%|██████████| 282/282 [00:07<00:00, 37.96it/s]\n"
          ]
        },
        {
          "metadata": {
            "tags": null
          },
          "name": "stdout",
          "output_type": "stream",
          "text": [
            "validation loss: 0.0027901638133658304 at epoch 39\n",
            "learning_rate: 0.002\n"
          ]
        },
        {
          "metadata": {
            "tags": null
          },
          "name": "stderr",
          "output_type": "stream",
          "text": [
            "epoch 39: 100%|██████████| 282/282 [00:08<00:00, 34.29it/s]\n"
          ]
        },
        {
          "metadata": {
            "tags": null
          },
          "name": "stdout",
          "output_type": "stream",
          "text": [
            "validation loss: 0.0037926700214544933 at epoch 40\n",
            "learning_rate: 0.002\n"
          ]
        },
        {
          "metadata": {
            "tags": null
          },
          "name": "stderr",
          "output_type": "stream",
          "text": [
            "epoch 40: 100%|██████████| 282/282 [00:08<00:00, 33.14it/s]\n"
          ]
        },
        {
          "metadata": {
            "tags": null
          },
          "name": "stdout",
          "output_type": "stream",
          "text": [
            "validation loss: 0.004664317952262031 at epoch 41\n",
            "learning_rate: 0.002\n"
          ]
        },
        {
          "metadata": {
            "tags": null
          },
          "name": "stderr",
          "output_type": "stream",
          "text": [
            "epoch 41: 100%|██████████| 282/282 [00:07<00:00, 37.60it/s]\n"
          ]
        },
        {
          "metadata": {
            "tags": null
          },
          "name": "stdout",
          "output_type": "stream",
          "text": [
            "validation loss: 0.003844177492790752 at epoch 42\n",
            "learning_rate: 0.002\n"
          ]
        },
        {
          "metadata": {
            "tags": null
          },
          "name": "stderr",
          "output_type": "stream",
          "text": [
            "epoch 42: 100%|██████████| 282/282 [00:08<00:00, 33.54it/s]\n"
          ]
        },
        {
          "metadata": {
            "tags": null
          },
          "name": "stdout",
          "output_type": "stream",
          "text": [
            "validation loss: 0.002723836816019482 at epoch 43\n",
            "learning_rate: 0.002\n"
          ]
        },
        {
          "metadata": {
            "tags": null
          },
          "name": "stderr",
          "output_type": "stream",
          "text": [
            "epoch 43: 100%|██████████| 282/282 [00:08<00:00, 33.84it/s]\n"
          ]
        },
        {
          "metadata": {
            "tags": null
          },
          "name": "stdout",
          "output_type": "stream",
          "text": [
            "validation loss: 0.0021751302497254477 at epoch 44\n",
            "learning_rate: 0.002\n"
          ]
        },
        {
          "metadata": {
            "tags": null
          },
          "name": "stderr",
          "output_type": "stream",
          "text": [
            "epoch 44: 100%|██████████| 282/282 [00:07<00:00, 37.65it/s]\n"
          ]
        },
        {
          "metadata": {
            "tags": null
          },
          "name": "stdout",
          "output_type": "stream",
          "text": [
            "validation loss: 0.005060726390944587 at epoch 45\n",
            "learning_rate: 0.002\n"
          ]
        },
        {
          "metadata": {
            "tags": null
          },
          "name": "stderr",
          "output_type": "stream",
          "text": [
            "epoch 45: 100%|██████████| 282/282 [00:08<00:00, 34.02it/s]\n"
          ]
        },
        {
          "metadata": {
            "tags": null
          },
          "name": "stdout",
          "output_type": "stream",
          "text": [
            "validation loss: 0.0021049884210030236 at epoch 46\n",
            "learning_rate: 0.002\n"
          ]
        },
        {
          "metadata": {
            "tags": null
          },
          "name": "stderr",
          "output_type": "stream",
          "text": [
            "epoch 46: 100%|██████████| 282/282 [00:08<00:00, 33.55it/s]\n"
          ]
        },
        {
          "metadata": {
            "tags": null
          },
          "name": "stdout",
          "output_type": "stream",
          "text": [
            "validation loss: 0.0026742682026492225 at epoch 47\n",
            "learning_rate: 0.002\n"
          ]
        },
        {
          "metadata": {
            "tags": null
          },
          "name": "stderr",
          "output_type": "stream",
          "text": [
            "epoch 47: 100%|██████████| 282/282 [00:07<00:00, 37.01it/s]\n"
          ]
        },
        {
          "metadata": {
            "tags": null
          },
          "name": "stdout",
          "output_type": "stream",
          "text": [
            "validation loss: 0.0031867150184181 at epoch 48\n",
            "learning_rate: 0.002\n"
          ]
        },
        {
          "metadata": {
            "tags": null
          },
          "name": "stderr",
          "output_type": "stream",
          "text": [
            "epoch 48: 100%|██████████| 282/282 [00:08<00:00, 33.63it/s]\n"
          ]
        },
        {
          "metadata": {
            "tags": null
          },
          "name": "stdout",
          "output_type": "stream",
          "text": [
            "validation loss: 0.0028744758814573286 at epoch 49\n",
            "learning_rate: 0.002\n"
          ]
        },
        {
          "metadata": {
            "tags": null
          },
          "name": "stderr",
          "output_type": "stream",
          "text": [
            "epoch 49: 100%|██████████| 282/282 [00:08<00:00, 33.64it/s]\n"
          ]
        },
        {
          "metadata": {
            "tags": null
          },
          "name": "stdout",
          "output_type": "stream",
          "text": [
            "validation loss: 0.006320834974447886 at epoch 50\n",
            "learning_rate: 0.002\n"
          ]
        },
        {
          "metadata": {
            "tags": null
          },
          "name": "stderr",
          "output_type": "stream",
          "text": [
            "epoch 50: 100%|██████████| 282/282 [00:07<00:00, 37.59it/s]\n"
          ]
        },
        {
          "metadata": {
            "tags": null
          },
          "name": "stdout",
          "output_type": "stream",
          "text": [
            "validation loss: 0.005614494641621908 at epoch 51\n",
            "learning_rate: 0.002\n"
          ]
        },
        {
          "metadata": {
            "tags": null
          },
          "name": "stderr",
          "output_type": "stream",
          "text": [
            "epoch 51: 100%|██████████| 282/282 [00:08<00:00, 34.17it/s]\n"
          ]
        },
        {
          "metadata": {
            "tags": null
          },
          "name": "stdout",
          "output_type": "stream",
          "text": [
            "validation loss: 0.002667286366224289 at epoch 52\n",
            "learning_rate: 0.002\n"
          ]
        },
        {
          "metadata": {
            "tags": null
          },
          "name": "stderr",
          "output_type": "stream",
          "text": [
            "epoch 52: 100%|██████████| 282/282 [00:08<00:00, 33.90it/s]\n"
          ]
        },
        {
          "metadata": {
            "tags": null
          },
          "name": "stdout",
          "output_type": "stream",
          "text": [
            "validation loss: 0.0021342790689733294 at epoch 53\n",
            "learning_rate: 0.002\n"
          ]
        },
        {
          "metadata": {
            "tags": null
          },
          "name": "stderr",
          "output_type": "stream",
          "text": [
            "epoch 53: 100%|██████████| 282/282 [00:07<00:00, 37.86it/s]\n"
          ]
        },
        {
          "metadata": {
            "tags": null
          },
          "name": "stdout",
          "output_type": "stream",
          "text": [
            "validation loss: 0.009425129546059502 at epoch 54\n",
            "learning_rate: 0.002\n"
          ]
        },
        {
          "metadata": {
            "tags": null
          },
          "name": "stderr",
          "output_type": "stream",
          "text": [
            "epoch 54: 100%|██████████| 282/282 [00:08<00:00, 34.18it/s]\n"
          ]
        },
        {
          "metadata": {
            "tags": null
          },
          "name": "stdout",
          "output_type": "stream",
          "text": [
            "validation loss: 0.004199038343297111 at epoch 55\n",
            "learning_rate: 0.002\n"
          ]
        },
        {
          "metadata": {
            "tags": null
          },
          "name": "stderr",
          "output_type": "stream",
          "text": [
            "epoch 55: 100%|██████████| 282/282 [00:08<00:00, 34.13it/s]\n"
          ]
        },
        {
          "metadata": {
            "tags": null
          },
          "name": "stdout",
          "output_type": "stream",
          "text": [
            "validation loss: 0.0036574845959742863 at epoch 56\n",
            "learning_rate: 0.002\n"
          ]
        },
        {
          "metadata": {
            "tags": null
          },
          "name": "stderr",
          "output_type": "stream",
          "text": [
            "epoch 56: 100%|██████████| 282/282 [00:07<00:00, 37.15it/s]\n"
          ]
        },
        {
          "metadata": {
            "tags": null
          },
          "name": "stdout",
          "output_type": "stream",
          "text": [
            "validation loss: 0.005945191492636999 at epoch 57\n",
            "learning_rate: 0.002\n"
          ]
        },
        {
          "metadata": {
            "tags": null
          },
          "name": "stderr",
          "output_type": "stream",
          "text": [
            "epoch 57: 100%|██████████| 282/282 [00:08<00:00, 35.09it/s]\n"
          ]
        },
        {
          "metadata": {
            "tags": null
          },
          "name": "stdout",
          "output_type": "stream",
          "text": [
            "validation loss: 0.005570718132787281 at epoch 58\n",
            "learning_rate: 0.002\n"
          ]
        },
        {
          "metadata": {
            "tags": null
          },
          "name": "stderr",
          "output_type": "stream",
          "text": [
            "epoch 58: 100%|██████████| 282/282 [00:08<00:00, 34.54it/s]\n"
          ]
        },
        {
          "metadata": {
            "tags": null
          },
          "name": "stdout",
          "output_type": "stream",
          "text": [
            "validation loss: 0.0033884100864330926 at epoch 59\n",
            "learning_rate: 0.002\n"
          ]
        },
        {
          "metadata": {
            "tags": null
          },
          "name": "stderr",
          "output_type": "stream",
          "text": [
            "epoch 59: 100%|██████████| 282/282 [00:07<00:00, 37.18it/s]\n"
          ]
        },
        {
          "metadata": {
            "tags": null
          },
          "name": "stdout",
          "output_type": "stream",
          "text": [
            "validation loss: 0.005024034606085883 at epoch 60\n",
            "learning_rate: 0.002\n"
          ]
        },
        {
          "metadata": {
            "tags": null
          },
          "name": "stderr",
          "output_type": "stream",
          "text": [
            "epoch 60: 100%|██████████| 282/282 [00:07<00:00, 35.62it/s]\n"
          ]
        },
        {
          "metadata": {
            "tags": null
          },
          "name": "stdout",
          "output_type": "stream",
          "text": [
            "validation loss: 0.003354591182536549 at epoch 61\n",
            "learning_rate: 0.002\n"
          ]
        },
        {
          "metadata": {
            "tags": null
          },
          "name": "stderr",
          "output_type": "stream",
          "text": [
            "epoch 61: 100%|██████████| 282/282 [00:08<00:00, 33.58it/s]\n"
          ]
        },
        {
          "metadata": {
            "tags": null
          },
          "name": "stdout",
          "output_type": "stream",
          "text": [
            "validation loss: 0.0042870621018939545 at epoch 62\n",
            "learning_rate: 0.002\n"
          ]
        },
        {
          "metadata": {
            "tags": null
          },
          "name": "stderr",
          "output_type": "stream",
          "text": [
            "epoch 62: 100%|██████████| 282/282 [00:07<00:00, 35.90it/s]\n"
          ]
        },
        {
          "metadata": {
            "tags": null
          },
          "name": "stdout",
          "output_type": "stream",
          "text": [
            "validation loss: 0.0027542913291189407 at epoch 63\n",
            "learning_rate: 0.002\n"
          ]
        },
        {
          "metadata": {
            "tags": null
          },
          "name": "stderr",
          "output_type": "stream",
          "text": [
            "epoch 63: 100%|██████████| 282/282 [00:07<00:00, 35.89it/s]\n"
          ]
        },
        {
          "metadata": {
            "tags": null
          },
          "name": "stdout",
          "output_type": "stream",
          "text": [
            "validation loss: 0.002511347790559133 at epoch 64\n",
            "learning_rate: 0.002\n"
          ]
        },
        {
          "metadata": {
            "tags": null
          },
          "name": "stderr",
          "output_type": "stream",
          "text": [
            "epoch 64: 100%|██████████| 282/282 [00:08<00:00, 33.40it/s]\n"
          ]
        },
        {
          "metadata": {
            "tags": null
          },
          "name": "stdout",
          "output_type": "stream",
          "text": [
            "validation loss: 0.004967398226261139 at epoch 65\n",
            "learning_rate: 0.002\n"
          ]
        },
        {
          "metadata": {
            "tags": null
          },
          "name": "stderr",
          "output_type": "stream",
          "text": [
            "epoch 65: 100%|██████████| 282/282 [00:07<00:00, 35.33it/s]\n"
          ]
        },
        {
          "metadata": {
            "tags": null
          },
          "name": "stdout",
          "output_type": "stream",
          "text": [
            "validation loss: 0.004715786129236221 at epoch 66\n",
            "learning_rate: 0.002\n"
          ]
        },
        {
          "metadata": {
            "tags": null
          },
          "name": "stderr",
          "output_type": "stream",
          "text": [
            "epoch 66: 100%|██████████| 282/282 [00:07<00:00, 37.34it/s]\n"
          ]
        },
        {
          "metadata": {
            "tags": null
          },
          "name": "stdout",
          "output_type": "stream",
          "text": [
            "validation loss: 0.0045630960828728145 at epoch 67\n",
            "learning_rate: 0.002\n"
          ]
        },
        {
          "metadata": {
            "tags": null
          },
          "name": "stderr",
          "output_type": "stream",
          "text": [
            "epoch 67: 100%|██████████| 282/282 [00:08<00:00, 34.23it/s]\n"
          ]
        },
        {
          "metadata": {
            "tags": null
          },
          "name": "stdout",
          "output_type": "stream",
          "text": [
            "validation loss: 0.009361278812090555 at epoch 68\n",
            "learning_rate: 0.002\n"
          ]
        },
        {
          "metadata": {
            "tags": null
          },
          "name": "stderr",
          "output_type": "stream",
          "text": [
            "epoch 68: 100%|██████████| 282/282 [00:08<00:00, 33.43it/s]\n"
          ]
        },
        {
          "metadata": {
            "tags": null
          },
          "name": "stdout",
          "output_type": "stream",
          "text": [
            "validation loss: 0.0023003825147946675 at epoch 69\n",
            "learning_rate: 0.002\n"
          ]
        },
        {
          "metadata": {
            "tags": null
          },
          "name": "stderr",
          "output_type": "stream",
          "text": [
            "epoch 69: 100%|██████████| 282/282 [00:07<00:00, 37.55it/s]\n"
          ]
        },
        {
          "metadata": {
            "tags": null
          },
          "name": "stdout",
          "output_type": "stream",
          "text": [
            "validation loss: 0.004887195355362362 at epoch 70\n",
            "learning_rate: 0.002\n"
          ]
        },
        {
          "metadata": {
            "tags": null
          },
          "name": "stderr",
          "output_type": "stream",
          "text": [
            "epoch 70: 100%|██████████| 282/282 [00:08<00:00, 33.89it/s]\n"
          ]
        },
        {
          "metadata": {
            "tags": null
          },
          "name": "stdout",
          "output_type": "stream",
          "text": [
            "validation loss: 0.008460656192567613 at epoch 71\n",
            "learning_rate: 0.002\n"
          ]
        },
        {
          "metadata": {
            "tags": null
          },
          "name": "stderr",
          "output_type": "stream",
          "text": [
            "epoch 71: 100%|██████████| 282/282 [00:08<00:00, 34.08it/s]\n"
          ]
        },
        {
          "metadata": {
            "tags": null
          },
          "name": "stdout",
          "output_type": "stream",
          "text": [
            "validation loss: 0.0032632099174790914 at epoch 72\n",
            "learning_rate: 0.002\n"
          ]
        },
        {
          "metadata": {
            "tags": null
          },
          "name": "stderr",
          "output_type": "stream",
          "text": [
            "epoch 72: 100%|██████████| 282/282 [00:07<00:00, 37.42it/s]\n"
          ]
        },
        {
          "metadata": {
            "tags": null
          },
          "name": "stdout",
          "output_type": "stream",
          "text": [
            "validation loss: 0.00880230443345176 at epoch 73\n",
            "learning_rate: 0.002\n"
          ]
        },
        {
          "metadata": {
            "tags": null
          },
          "name": "stderr",
          "output_type": "stream",
          "text": [
            "epoch 73: 100%|██████████| 282/282 [00:08<00:00, 33.70it/s]\n"
          ]
        },
        {
          "metadata": {
            "tags": null
          },
          "name": "stdout",
          "output_type": "stream",
          "text": [
            "validation loss: 0.006025141752428478 at epoch 74\n",
            "learning_rate: 0.002\n"
          ]
        },
        {
          "metadata": {
            "tags": null
          },
          "name": "stderr",
          "output_type": "stream",
          "text": [
            "epoch 74: 100%|██████████| 282/282 [00:08<00:00, 33.80it/s]\n"
          ]
        },
        {
          "metadata": {
            "tags": null
          },
          "name": "stdout",
          "output_type": "stream",
          "text": [
            "validation loss: 0.006576506455739339 at epoch 75\n",
            "learning_rate: 0.002\n"
          ]
        },
        {
          "metadata": {
            "tags": null
          },
          "name": "stderr",
          "output_type": "stream",
          "text": [
            "epoch 75: 100%|██████████| 282/282 [00:07<00:00, 37.39it/s]\n"
          ]
        },
        {
          "metadata": {
            "tags": null
          },
          "name": "stdout",
          "output_type": "stream",
          "text": [
            "validation loss: 0.002506882318192058 at epoch 76\n",
            "learning_rate: 0.0016\n"
          ]
        },
        {
          "metadata": {
            "tags": null
          },
          "name": "stderr",
          "output_type": "stream",
          "text": [
            "epoch 76: 100%|██████████| 282/282 [00:08<00:00, 33.83it/s]\n"
          ]
        },
        {
          "metadata": {
            "tags": null
          },
          "name": "stdout",
          "output_type": "stream",
          "text": [
            "validation loss: 0.0023135271701547836 at epoch 77\n",
            "learning_rate: 0.0016\n"
          ]
        },
        {
          "metadata": {
            "tags": null
          },
          "name": "stderr",
          "output_type": "stream",
          "text": [
            "epoch 77: 100%|██████████| 282/282 [00:08<00:00, 33.74it/s]\n"
          ]
        },
        {
          "metadata": {
            "tags": null
          },
          "name": "stdout",
          "output_type": "stream",
          "text": [
            "validation loss: 0.006563947207397885 at epoch 78\n",
            "learning_rate: 0.0016\n"
          ]
        },
        {
          "metadata": {
            "tags": null
          },
          "name": "stderr",
          "output_type": "stream",
          "text": [
            "epoch 78: 100%|██████████| 282/282 [00:07<00:00, 37.40it/s]\n"
          ]
        },
        {
          "metadata": {
            "tags": null
          },
          "name": "stdout",
          "output_type": "stream",
          "text": [
            "validation loss: 0.002486324034631252 at epoch 79\n",
            "learning_rate: 0.0016\n"
          ]
        },
        {
          "metadata": {
            "tags": null
          },
          "name": "stderr",
          "output_type": "stream",
          "text": [
            "epoch 79: 100%|██████████| 282/282 [00:08<00:00, 33.83it/s]\n"
          ]
        },
        {
          "metadata": {
            "tags": null
          },
          "name": "stdout",
          "output_type": "stream",
          "text": [
            "validation loss: 0.0025656077928013273 at epoch 80\n",
            "learning_rate: 0.0016\n"
          ]
        },
        {
          "metadata": {
            "tags": null
          },
          "name": "stderr",
          "output_type": "stream",
          "text": [
            "epoch 80: 100%|██████████| 282/282 [00:08<00:00, 33.61it/s]\n"
          ]
        },
        {
          "metadata": {
            "tags": null
          },
          "name": "stdout",
          "output_type": "stream",
          "text": [
            "validation loss: 0.0024494236128197776 at epoch 81\n",
            "learning_rate: 0.0016\n"
          ]
        },
        {
          "metadata": {
            "tags": null
          },
          "name": "stderr",
          "output_type": "stream",
          "text": [
            "epoch 81: 100%|██████████| 282/282 [00:07<00:00, 37.54it/s]\n"
          ]
        },
        {
          "metadata": {
            "tags": null
          },
          "name": "stdout",
          "output_type": "stream",
          "text": [
            "validation loss: 0.0037427410417132908 at epoch 82\n",
            "learning_rate: 0.0016\n"
          ]
        },
        {
          "metadata": {
            "tags": null
          },
          "name": "stderr",
          "output_type": "stream",
          "text": [
            "epoch 82: 100%|██████████| 282/282 [00:08<00:00, 34.01it/s]\n"
          ]
        },
        {
          "metadata": {
            "tags": null
          },
          "name": "stdout",
          "output_type": "stream",
          "text": [
            "validation loss: 0.006999539461400773 at epoch 83\n",
            "learning_rate: 0.0016\n"
          ]
        },
        {
          "metadata": {
            "tags": null
          },
          "name": "stderr",
          "output_type": "stream",
          "text": [
            "epoch 83: 100%|██████████| 282/282 [00:08<00:00, 34.01it/s]\n"
          ]
        },
        {
          "metadata": {
            "tags": null
          },
          "name": "stdout",
          "output_type": "stream",
          "text": [
            "validation loss: 0.007052124275101556 at epoch 84\n",
            "learning_rate: 0.0016\n"
          ]
        },
        {
          "metadata": {
            "tags": null
          },
          "name": "stderr",
          "output_type": "stream",
          "text": [
            "epoch 84: 100%|██████████| 282/282 [00:07<00:00, 37.56it/s]\n"
          ]
        },
        {
          "metadata": {
            "tags": null
          },
          "name": "stdout",
          "output_type": "stream",
          "text": [
            "validation loss: 0.004542250295480092 at epoch 85\n",
            "learning_rate: 0.0016\n"
          ]
        },
        {
          "metadata": {
            "tags": null
          },
          "name": "stderr",
          "output_type": "stream",
          "text": [
            "epoch 85: 100%|██████████| 282/282 [00:08<00:00, 34.40it/s]\n"
          ]
        },
        {
          "metadata": {
            "tags": null
          },
          "name": "stdout",
          "output_type": "stream",
          "text": [
            "validation loss: 0.0046278105411264635 at epoch 86\n",
            "learning_rate: 0.0016\n"
          ]
        },
        {
          "metadata": {
            "tags": null
          },
          "name": "stderr",
          "output_type": "stream",
          "text": [
            "epoch 86: 100%|██████████| 282/282 [00:08<00:00, 33.94it/s]\n"
          ]
        },
        {
          "metadata": {
            "tags": null
          },
          "name": "stdout",
          "output_type": "stream",
          "text": [
            "validation loss: 0.011363819870683882 at epoch 87\n",
            "learning_rate: 0.0016\n"
          ]
        },
        {
          "metadata": {
            "tags": null
          },
          "name": "stderr",
          "output_type": "stream",
          "text": [
            "epoch 87: 100%|██████████| 282/282 [00:07<00:00, 36.38it/s]\n"
          ]
        },
        {
          "metadata": {
            "tags": null
          },
          "name": "stdout",
          "output_type": "stream",
          "text": [
            "validation loss: 0.005156337049272325 at epoch 88\n",
            "learning_rate: 0.0016\n"
          ]
        },
        {
          "metadata": {
            "tags": null
          },
          "name": "stderr",
          "output_type": "stream",
          "text": [
            "epoch 88: 100%|██████████| 282/282 [00:07<00:00, 35.40it/s]\n"
          ]
        },
        {
          "metadata": {
            "tags": null
          },
          "name": "stdout",
          "output_type": "stream",
          "text": [
            "validation loss: 0.0028953706357214186 at epoch 89\n",
            "learning_rate: 0.0016\n"
          ]
        },
        {
          "metadata": {
            "tags": null
          },
          "name": "stderr",
          "output_type": "stream",
          "text": [
            "epoch 89: 100%|██████████| 282/282 [00:08<00:00, 33.85it/s]\n"
          ]
        },
        {
          "metadata": {
            "tags": null
          },
          "name": "stdout",
          "output_type": "stream",
          "text": [
            "validation loss: 0.0092835340168741 at epoch 90\n",
            "learning_rate: 0.0016\n"
          ]
        },
        {
          "metadata": {
            "tags": null
          },
          "name": "stderr",
          "output_type": "stream",
          "text": [
            "epoch 90: 100%|██████████| 282/282 [00:07<00:00, 36.30it/s]\n"
          ]
        },
        {
          "metadata": {
            "tags": null
          },
          "name": "stdout",
          "output_type": "stream",
          "text": [
            "validation loss: 0.006681711783011754 at epoch 91\n",
            "learning_rate: 0.0016\n"
          ]
        },
        {
          "metadata": {
            "tags": null
          },
          "name": "stderr",
          "output_type": "stream",
          "text": [
            "epoch 91: 100%|██████████| 282/282 [00:07<00:00, 36.57it/s]\n"
          ]
        },
        {
          "metadata": {
            "tags": null
          },
          "name": "stdout",
          "output_type": "stream",
          "text": [
            "validation loss: 0.008932695150375366 at epoch 92\n",
            "learning_rate: 0.0016\n"
          ]
        },
        {
          "metadata": {
            "tags": null
          },
          "name": "stderr",
          "output_type": "stream",
          "text": [
            "epoch 92: 100%|██████████| 282/282 [00:08<00:00, 33.84it/s]\n"
          ]
        },
        {
          "metadata": {
            "tags": null
          },
          "name": "stdout",
          "output_type": "stream",
          "text": [
            "validation loss: 0.002918953036268552 at epoch 93\n",
            "learning_rate: 0.0016\n"
          ]
        },
        {
          "metadata": {
            "tags": null
          },
          "name": "stderr",
          "output_type": "stream",
          "text": [
            "epoch 93: 100%|██████████| 282/282 [00:07<00:00, 36.44it/s]\n"
          ]
        },
        {
          "metadata": {
            "tags": null
          },
          "name": "stdout",
          "output_type": "stream",
          "text": [
            "validation loss: 0.005539847188525729 at epoch 94\n",
            "learning_rate: 0.0016\n"
          ]
        },
        {
          "metadata": {
            "tags": null
          },
          "name": "stderr",
          "output_type": "stream",
          "text": [
            "epoch 94: 100%|██████████| 282/282 [00:07<00:00, 36.37it/s]\n"
          ]
        },
        {
          "metadata": {
            "tags": null
          },
          "name": "stdout",
          "output_type": "stream",
          "text": [
            "validation loss: 0.0027404147187868756 at epoch 95\n",
            "learning_rate: 0.0016\n"
          ]
        },
        {
          "metadata": {
            "tags": null
          },
          "name": "stderr",
          "output_type": "stream",
          "text": [
            "epoch 95: 100%|██████████| 282/282 [00:08<00:00, 34.38it/s]\n"
          ]
        },
        {
          "metadata": {
            "tags": null
          },
          "name": "stdout",
          "output_type": "stream",
          "text": [
            "validation loss: 0.005395384914345211 at epoch 96\n",
            "learning_rate: 0.0016\n"
          ]
        },
        {
          "metadata": {
            "tags": null
          },
          "name": "stderr",
          "output_type": "stream",
          "text": [
            "epoch 96: 100%|██████████| 282/282 [00:07<00:00, 35.30it/s]\n"
          ]
        },
        {
          "metadata": {
            "tags": null
          },
          "name": "stdout",
          "output_type": "stream",
          "text": [
            "validation loss: 0.01391997002893024 at epoch 97\n",
            "learning_rate: 0.0016\n"
          ]
        },
        {
          "metadata": {
            "tags": null
          },
          "name": "stderr",
          "output_type": "stream",
          "text": [
            "epoch 97: 100%|██████████| 282/282 [00:07<00:00, 36.85it/s]\n"
          ]
        },
        {
          "metadata": {
            "tags": null
          },
          "name": "stdout",
          "output_type": "stream",
          "text": [
            "validation loss: 0.011901893430285984 at epoch 98\n",
            "learning_rate: 0.0016\n"
          ]
        },
        {
          "metadata": {
            "tags": null
          },
          "name": "stderr",
          "output_type": "stream",
          "text": [
            "epoch 98: 100%|██████████| 282/282 [00:08<00:00, 34.34it/s]\n"
          ]
        },
        {
          "metadata": {
            "tags": null
          },
          "name": "stdout",
          "output_type": "stream",
          "text": [
            "validation loss: 0.00876507771677441 at epoch 99\n",
            "learning_rate: 0.0016\n"
          ]
        },
        {
          "metadata": {
            "tags": null
          },
          "name": "stderr",
          "output_type": "stream",
          "text": [
            "epoch 99: 100%|██████████| 282/282 [00:08<00:00, 33.34it/s]\n"
          ]
        },
        {
          "metadata": {
            "tags": null
          },
          "name": "stdout",
          "output_type": "stream",
          "text": [
            "validation loss: 0.0031901813132895365 at epoch 100\n",
            "learning_rate: 0.0016\n"
          ]
        },
        {
          "metadata": {
            "tags": null
          },
          "name": "stderr",
          "output_type": "stream",
          "text": [
            "epoch 100: 100%|██████████| 282/282 [00:07<00:00, 37.70it/s]\n"
          ]
        },
        {
          "metadata": {
            "tags": null
          },
          "name": "stdout",
          "output_type": "stream",
          "text": [
            "validation loss: 0.011968295011255476 at epoch 101\n",
            "learning_rate: 0.0016\n"
          ]
        },
        {
          "metadata": {
            "tags": null
          },
          "name": "stderr",
          "output_type": "stream",
          "text": [
            "epoch 101: 100%|██████████| 282/282 [00:08<00:00, 33.93it/s]\n"
          ]
        },
        {
          "metadata": {
            "tags": null
          },
          "name": "stdout",
          "output_type": "stream",
          "text": [
            "validation loss: 0.012744553148746491 at epoch 102\n",
            "learning_rate: 0.0016\n"
          ]
        },
        {
          "metadata": {
            "tags": null
          },
          "name": "stderr",
          "output_type": "stream",
          "text": [
            "epoch 102: 100%|██████████| 282/282 [00:08<00:00, 33.47it/s]\n"
          ]
        },
        {
          "metadata": {
            "tags": null
          },
          "name": "stdout",
          "output_type": "stream",
          "text": [
            "validation loss: 0.005288236081600189 at epoch 103\n",
            "learning_rate: 0.0016\n"
          ]
        },
        {
          "metadata": {
            "tags": null
          },
          "name": "stderr",
          "output_type": "stream",
          "text": [
            "epoch 103: 100%|██████████| 282/282 [00:07<00:00, 37.36it/s]\n"
          ]
        },
        {
          "metadata": {
            "tags": null
          },
          "name": "stdout",
          "output_type": "stream",
          "text": [
            "validation loss: 0.004965343965424432 at epoch 104\n",
            "learning_rate: 0.0016\n"
          ]
        },
        {
          "metadata": {
            "tags": null
          },
          "name": "stderr",
          "output_type": "stream",
          "text": [
            "epoch 104: 100%|██████████| 282/282 [00:08<00:00, 33.85it/s]\n"
          ]
        },
        {
          "metadata": {
            "tags": null
          },
          "name": "stdout",
          "output_type": "stream",
          "text": [
            "validation loss: 0.007740328345033858 at epoch 105\n",
            "learning_rate: 0.0016\n"
          ]
        },
        {
          "metadata": {
            "tags": null
          },
          "name": "stderr",
          "output_type": "stream",
          "text": [
            "epoch 105: 100%|██████████| 282/282 [00:08<00:00, 33.93it/s]\n"
          ]
        },
        {
          "metadata": {
            "tags": null
          },
          "name": "stdout",
          "output_type": "stream",
          "text": [
            "validation loss: 0.01619542736477322 at epoch 106\n",
            "learning_rate: 0.0016\n"
          ]
        },
        {
          "metadata": {
            "tags": null
          },
          "name": "stderr",
          "output_type": "stream",
          "text": [
            "epoch 106: 100%|██████████| 282/282 [00:07<00:00, 37.22it/s]\n"
          ]
        },
        {
          "metadata": {
            "tags": null
          },
          "name": "stdout",
          "output_type": "stream",
          "text": [
            "validation loss: 0.013217309792836507 at epoch 107\n",
            "learning_rate: 0.0016\n"
          ]
        },
        {
          "metadata": {
            "tags": null
          },
          "name": "stderr",
          "output_type": "stream",
          "text": [
            "epoch 107: 100%|██████████| 282/282 [00:08<00:00, 33.43it/s]\n"
          ]
        },
        {
          "metadata": {
            "tags": null
          },
          "name": "stdout",
          "output_type": "stream",
          "text": [
            "validation loss: 0.01361702643500434 at epoch 108\n",
            "learning_rate: 0.0016\n"
          ]
        },
        {
          "metadata": {
            "tags": null
          },
          "name": "stderr",
          "output_type": "stream",
          "text": [
            "epoch 108: 100%|██████████| 282/282 [00:08<00:00, 33.34it/s]\n"
          ]
        },
        {
          "metadata": {
            "tags": null
          },
          "name": "stdout",
          "output_type": "stream",
          "text": [
            "validation loss: 0.012191913611359066 at epoch 109\n",
            "learning_rate: 0.0016\n"
          ]
        },
        {
          "metadata": {
            "tags": null
          },
          "name": "stderr",
          "output_type": "stream",
          "text": [
            "epoch 109: 100%|██████████| 282/282 [00:07<00:00, 37.19it/s]\n"
          ]
        },
        {
          "metadata": {
            "tags": null
          },
          "name": "stdout",
          "output_type": "stream",
          "text": [
            "validation loss: 0.008346649441454145 at epoch 110\n",
            "learning_rate: 0.0016\n"
          ]
        },
        {
          "metadata": {
            "tags": null
          },
          "name": "stderr",
          "output_type": "stream",
          "text": [
            "epoch 110: 100%|██████████| 282/282 [00:08<00:00, 33.60it/s]\n"
          ]
        },
        {
          "metadata": {
            "tags": null
          },
          "name": "stdout",
          "output_type": "stream",
          "text": [
            "validation loss: 0.004795057425896327 at epoch 111\n",
            "learning_rate: 0.0016\n"
          ]
        },
        {
          "metadata": {
            "tags": null
          },
          "name": "stderr",
          "output_type": "stream",
          "text": [
            "epoch 111: 100%|██████████| 282/282 [00:08<00:00, 34.34it/s]\n"
          ]
        },
        {
          "metadata": {
            "tags": null
          },
          "name": "stdout",
          "output_type": "stream",
          "text": [
            "validation loss: 0.011709439330630832 at epoch 112\n",
            "learning_rate: 0.0016\n"
          ]
        },
        {
          "metadata": {
            "tags": null
          },
          "name": "stderr",
          "output_type": "stream",
          "text": [
            "epoch 112: 100%|██████████| 282/282 [00:07<00:00, 37.91it/s]\n"
          ]
        },
        {
          "metadata": {
            "tags": null
          },
          "name": "stdout",
          "output_type": "stream",
          "text": [
            "validation loss: 0.002187880203127861 at epoch 113\n",
            "learning_rate: 0.0016\n"
          ]
        },
        {
          "metadata": {
            "tags": null
          },
          "name": "stderr",
          "output_type": "stream",
          "text": [
            "epoch 113: 100%|██████████| 282/282 [00:08<00:00, 33.31it/s]\n"
          ]
        },
        {
          "metadata": {
            "tags": null
          },
          "name": "stdout",
          "output_type": "stream",
          "text": [
            "validation loss: 0.002131206868423356 at epoch 114\n",
            "learning_rate: 0.0016\n"
          ]
        },
        {
          "metadata": {
            "tags": null
          },
          "name": "stderr",
          "output_type": "stream",
          "text": [
            "epoch 114: 100%|██████████| 282/282 [00:08<00:00, 33.03it/s]\n"
          ]
        },
        {
          "metadata": {
            "tags": null
          },
          "name": "stdout",
          "output_type": "stream",
          "text": [
            "validation loss: 0.010555840419398414 at epoch 115\n",
            "learning_rate: 0.0016\n"
          ]
        },
        {
          "metadata": {
            "tags": null
          },
          "name": "stderr",
          "output_type": "stream",
          "text": [
            "epoch 115: 100%|██████████| 282/282 [00:07<00:00, 37.16it/s]\n"
          ]
        },
        {
          "metadata": {
            "tags": null
          },
          "name": "stdout",
          "output_type": "stream",
          "text": [
            "validation loss: 0.009428840385542975 at epoch 116\n",
            "learning_rate: 0.0016\n"
          ]
        },
        {
          "metadata": {
            "tags": null
          },
          "name": "stderr",
          "output_type": "stream",
          "text": [
            "epoch 116: 100%|██████████| 282/282 [00:08<00:00, 33.99it/s]\n"
          ]
        },
        {
          "metadata": {
            "tags": null
          },
          "name": "stdout",
          "output_type": "stream",
          "text": [
            "validation loss: 0.009052615152464973 at epoch 117\n",
            "learning_rate: 0.0016\n"
          ]
        },
        {
          "metadata": {
            "tags": null
          },
          "name": "stderr",
          "output_type": "stream",
          "text": [
            "epoch 117: 100%|██████████| 282/282 [00:08<00:00, 34.03it/s]\n"
          ]
        },
        {
          "metadata": {
            "tags": null
          },
          "name": "stdout",
          "output_type": "stream",
          "text": [
            "validation loss: 0.004433851894405153 at epoch 118\n",
            "learning_rate: 0.0016\n"
          ]
        },
        {
          "metadata": {
            "tags": null
          },
          "name": "stderr",
          "output_type": "stream",
          "text": [
            "epoch 118: 100%|██████████| 282/282 [00:07<00:00, 37.68it/s]\n"
          ]
        },
        {
          "metadata": {
            "tags": null
          },
          "name": "stdout",
          "output_type": "stream",
          "text": [
            "validation loss: 0.014270419869158004 at epoch 119\n",
            "learning_rate: 0.0016\n"
          ]
        },
        {
          "metadata": {
            "tags": null
          },
          "name": "stderr",
          "output_type": "stream",
          "text": [
            "epoch 119: 100%|██████████| 282/282 [00:08<00:00, 34.04it/s]\n"
          ]
        },
        {
          "metadata": {
            "tags": null
          },
          "name": "stdout",
          "output_type": "stream",
          "text": [
            "validation loss: 0.01061621876557668 at epoch 120\n",
            "learning_rate: 0.0016\n"
          ]
        },
        {
          "metadata": {
            "tags": null
          },
          "name": "stderr",
          "output_type": "stream",
          "text": [
            "epoch 120: 100%|██████████| 282/282 [00:08<00:00, 33.52it/s]\n"
          ]
        },
        {
          "metadata": {
            "tags": null
          },
          "name": "stdout",
          "output_type": "stream",
          "text": [
            "validation loss: 0.011023020095295375 at epoch 121\n",
            "learning_rate: 0.0016\n"
          ]
        },
        {
          "metadata": {
            "tags": null
          },
          "name": "stderr",
          "output_type": "stream",
          "text": [
            "epoch 121: 100%|██████████| 282/282 [00:07<00:00, 37.59it/s]\n"
          ]
        },
        {
          "metadata": {
            "tags": null
          },
          "name": "stdout",
          "output_type": "stream",
          "text": [
            "validation loss: 0.0020995247835914293 at epoch 122\n",
            "learning_rate: 0.0016\n"
          ]
        },
        {
          "metadata": {
            "tags": null
          },
          "name": "stderr",
          "output_type": "stream",
          "text": [
            "epoch 122: 100%|██████████| 282/282 [00:08<00:00, 34.42it/s]\n"
          ]
        },
        {
          "metadata": {
            "tags": null
          },
          "name": "stdout",
          "output_type": "stream",
          "text": [
            "validation loss: 0.01390717676613066 at epoch 123\n",
            "learning_rate: 0.0016\n"
          ]
        },
        {
          "metadata": {
            "tags": null
          },
          "name": "stderr",
          "output_type": "stream",
          "text": [
            "epoch 123: 100%|██████████| 282/282 [00:08<00:00, 33.76it/s]\n"
          ]
        },
        {
          "metadata": {
            "tags": null
          },
          "name": "stdout",
          "output_type": "stream",
          "text": [
            "validation loss: 0.0027058983875645534 at epoch 124\n",
            "learning_rate: 0.0016\n"
          ]
        },
        {
          "metadata": {
            "tags": null
          },
          "name": "stderr",
          "output_type": "stream",
          "text": [
            "epoch 124: 100%|██████████| 282/282 [00:07<00:00, 37.60it/s]\n"
          ]
        },
        {
          "metadata": {
            "tags": null
          },
          "name": "stdout",
          "output_type": "stream",
          "text": [
            "validation loss: 0.002862866517570284 at epoch 125\n",
            "learning_rate: 0.0016\n"
          ]
        },
        {
          "metadata": {
            "tags": null
          },
          "name": "stderr",
          "output_type": "stream",
          "text": [
            "epoch 125: 100%|██████████| 282/282 [00:08<00:00, 34.40it/s]\n"
          ]
        },
        {
          "metadata": {
            "tags": null
          },
          "name": "stdout",
          "output_type": "stream",
          "text": [
            "validation loss: 0.004249302592542436 at epoch 126\n",
            "learning_rate: 0.0016\n"
          ]
        },
        {
          "metadata": {
            "tags": null
          },
          "name": "stderr",
          "output_type": "stream",
          "text": [
            "epoch 126: 100%|██████████| 282/282 [00:08<00:00, 33.76it/s]\n"
          ]
        },
        {
          "metadata": {
            "tags": null
          },
          "name": "stdout",
          "output_type": "stream",
          "text": [
            "validation loss: 0.001842522852950626 at epoch 127\n",
            "learning_rate: 0.00128\n",
            "model saved in ani_acrolein.pt\n"
          ]
        },
        {
          "metadata": {
            "tags": null
          },
          "name": "stderr",
          "output_type": "stream",
          "text": [
            "epoch 127: 100%|██████████| 282/282 [00:07<00:00, 37.59it/s]\n"
          ]
        },
        {
          "metadata": {
            "tags": null
          },
          "name": "stdout",
          "output_type": "stream",
          "text": [
            "validation loss: 0.0027184630384047828 at epoch 128\n",
            "learning_rate: 0.00128\n"
          ]
        },
        {
          "metadata": {
            "tags": null
          },
          "name": "stderr",
          "output_type": "stream",
          "text": [
            "epoch 128: 100%|██████████| 282/282 [00:08<00:00, 34.62it/s]\n"
          ]
        },
        {
          "metadata": {
            "tags": null
          },
          "name": "stdout",
          "output_type": "stream",
          "text": [
            "validation loss: 0.005724523279401991 at epoch 129\n",
            "learning_rate: 0.00128\n"
          ]
        },
        {
          "metadata": {
            "tags": null
          },
          "name": "stderr",
          "output_type": "stream",
          "text": [
            "epoch 129: 100%|██████████| 282/282 [00:08<00:00, 34.04it/s]\n"
          ]
        },
        {
          "metadata": {
            "tags": null
          },
          "name": "stdout",
          "output_type": "stream",
          "text": [
            "validation loss: 0.012254667573504978 at epoch 130\n",
            "learning_rate: 0.00128\n"
          ]
        },
        {
          "metadata": {
            "tags": null
          },
          "name": "stderr",
          "output_type": "stream",
          "text": [
            "epoch 130: 100%|██████████| 282/282 [00:07<00:00, 36.95it/s]\n"
          ]
        },
        {
          "metadata": {
            "tags": null
          },
          "name": "stdout",
          "output_type": "stream",
          "text": [
            "validation loss: 0.009761787037054697 at epoch 131\n",
            "learning_rate: 0.00128\n"
          ]
        },
        {
          "metadata": {
            "tags": null
          },
          "name": "stderr",
          "output_type": "stream",
          "text": [
            "epoch 131: 100%|██████████| 282/282 [00:07<00:00, 35.34it/s]\n"
          ]
        },
        {
          "metadata": {
            "tags": null
          },
          "name": "stdout",
          "output_type": "stream",
          "text": [
            "validation loss: 0.006642193251185947 at epoch 132\n",
            "learning_rate: 0.00128\n"
          ]
        },
        {
          "metadata": {
            "tags": null
          },
          "name": "stderr",
          "output_type": "stream",
          "text": [
            "epoch 132: 100%|██████████| 282/282 [00:08<00:00, 33.82it/s]\n"
          ]
        },
        {
          "metadata": {
            "tags": null
          },
          "name": "stdout",
          "output_type": "stream",
          "text": [
            "validation loss: 0.00650897169775433 at epoch 133\n",
            "learning_rate: 0.00128\n"
          ]
        },
        {
          "metadata": {
            "tags": null
          },
          "name": "stderr",
          "output_type": "stream",
          "text": [
            "epoch 133: 100%|██████████| 282/282 [00:07<00:00, 36.20it/s]\n"
          ]
        },
        {
          "metadata": {
            "tags": null
          },
          "name": "stdout",
          "output_type": "stream",
          "text": [
            "validation loss: 0.010804430670208401 at epoch 134\n",
            "learning_rate: 0.00128\n"
          ]
        },
        {
          "metadata": {
            "tags": null
          },
          "name": "stderr",
          "output_type": "stream",
          "text": [
            "epoch 134: 100%|██████████| 282/282 [00:07<00:00, 35.94it/s]\n"
          ]
        },
        {
          "metadata": {
            "tags": null
          },
          "name": "stdout",
          "output_type": "stream",
          "text": [
            "validation loss: 0.009879690104060703 at epoch 135\n",
            "learning_rate: 0.00128\n"
          ]
        },
        {
          "metadata": {
            "tags": null
          },
          "name": "stderr",
          "output_type": "stream",
          "text": [
            "epoch 135: 100%|██████████| 282/282 [00:08<00:00, 33.41it/s]\n"
          ]
        },
        {
          "metadata": {
            "tags": null
          },
          "name": "stdout",
          "output_type": "stream",
          "text": [
            "validation loss: 0.004745449731747309 at epoch 136\n",
            "learning_rate: 0.00128\n"
          ]
        },
        {
          "metadata": {
            "tags": null
          },
          "name": "stderr",
          "output_type": "stream",
          "text": [
            "epoch 136: 100%|██████████| 282/282 [00:07<00:00, 36.61it/s]\n"
          ]
        },
        {
          "metadata": {
            "tags": null
          },
          "name": "stdout",
          "output_type": "stream",
          "text": [
            "validation loss: 0.0063661663664711845 at epoch 137\n",
            "learning_rate: 0.00128\n"
          ]
        },
        {
          "metadata": {
            "tags": null
          },
          "name": "stderr",
          "output_type": "stream",
          "text": [
            "epoch 137: 100%|██████████| 282/282 [00:07<00:00, 36.31it/s]\n"
          ]
        },
        {
          "metadata": {
            "tags": null
          },
          "name": "stdout",
          "output_type": "stream",
          "text": [
            "validation loss: 0.0048071352077855 at epoch 138\n",
            "learning_rate: 0.00128\n"
          ]
        },
        {
          "metadata": {
            "tags": null
          },
          "name": "stderr",
          "output_type": "stream",
          "text": [
            "epoch 138: 100%|██████████| 282/282 [00:08<00:00, 33.75it/s]\n"
          ]
        },
        {
          "metadata": {
            "tags": null
          },
          "name": "stdout",
          "output_type": "stream",
          "text": [
            "validation loss: 0.0038605499532487655 at epoch 139\n",
            "learning_rate: 0.00128\n"
          ]
        },
        {
          "metadata": {
            "tags": null
          },
          "name": "stderr",
          "output_type": "stream",
          "text": [
            "epoch 139: 100%|██████████| 282/282 [00:07<00:00, 36.03it/s]\n"
          ]
        },
        {
          "metadata": {
            "tags": null
          },
          "name": "stdout",
          "output_type": "stream",
          "text": [
            "validation loss: 0.006318143708838357 at epoch 140\n",
            "learning_rate: 0.00128\n"
          ]
        },
        {
          "metadata": {
            "tags": null
          },
          "name": "stderr",
          "output_type": "stream",
          "text": [
            "epoch 140: 100%|██████████| 282/282 [00:07<00:00, 36.79it/s]\n"
          ]
        },
        {
          "metadata": {
            "tags": null
          },
          "name": "stdout",
          "output_type": "stream",
          "text": [
            "validation loss: 0.008533438245455424 at epoch 141\n",
            "learning_rate: 0.00128\n"
          ]
        },
        {
          "metadata": {
            "tags": null
          },
          "name": "stderr",
          "output_type": "stream",
          "text": [
            "epoch 141: 100%|██████████| 282/282 [00:08<00:00, 33.84it/s]\n"
          ]
        },
        {
          "metadata": {
            "tags": null
          },
          "name": "stdout",
          "output_type": "stream",
          "text": [
            "validation loss: 0.008958048012521532 at epoch 142\n",
            "learning_rate: 0.00128\n"
          ]
        },
        {
          "metadata": {
            "tags": null
          },
          "name": "stderr",
          "output_type": "stream",
          "text": [
            "epoch 142: 100%|██████████| 282/282 [00:08<00:00, 35.13it/s]\n"
          ]
        },
        {
          "metadata": {
            "tags": null
          },
          "name": "stdout",
          "output_type": "stream",
          "text": [
            "validation loss: 0.010932559311389924 at epoch 143\n",
            "learning_rate: 0.00128\n"
          ]
        },
        {
          "metadata": {
            "tags": null
          },
          "name": "stderr",
          "output_type": "stream",
          "text": [
            "epoch 143: 100%|██████████| 282/282 [00:07<00:00, 37.06it/s]\n"
          ]
        },
        {
          "metadata": {
            "tags": null
          },
          "name": "stdout",
          "output_type": "stream",
          "text": [
            "validation loss: 0.009082207209534116 at epoch 144\n",
            "learning_rate: 0.00128\n"
          ]
        },
        {
          "metadata": {
            "tags": null
          },
          "name": "stderr",
          "output_type": "stream",
          "text": [
            "epoch 144: 100%|██████████| 282/282 [00:08<00:00, 33.82it/s]\n"
          ]
        },
        {
          "metadata": {
            "tags": null
          },
          "name": "stdout",
          "output_type": "stream",
          "text": [
            "validation loss: 0.008167961511347029 at epoch 145\n",
            "learning_rate: 0.00128\n"
          ]
        },
        {
          "metadata": {
            "tags": null
          },
          "name": "stderr",
          "output_type": "stream",
          "text": [
            "epoch 145: 100%|██████████| 282/282 [00:08<00:00, 33.71it/s]\n"
          ]
        },
        {
          "metadata": {
            "tags": null
          },
          "name": "stdout",
          "output_type": "stream",
          "text": [
            "validation loss: 0.008101638283994463 at epoch 146\n",
            "learning_rate: 0.00128\n"
          ]
        },
        {
          "metadata": {
            "tags": null
          },
          "name": "stderr",
          "output_type": "stream",
          "text": [
            "epoch 146: 100%|██████████| 282/282 [00:07<00:00, 37.92it/s]\n"
          ]
        },
        {
          "metadata": {
            "tags": null
          },
          "name": "stdout",
          "output_type": "stream",
          "text": [
            "validation loss: 0.0038041894253757263 at epoch 147\n",
            "learning_rate: 0.00128\n"
          ]
        },
        {
          "metadata": {
            "tags": null
          },
          "name": "stderr",
          "output_type": "stream",
          "text": [
            "epoch 147: 100%|██████████| 282/282 [00:08<00:00, 33.65it/s]\n"
          ]
        },
        {
          "metadata": {
            "tags": null
          },
          "name": "stdout",
          "output_type": "stream",
          "text": [
            "validation loss: 0.004090121249357859 at epoch 148\n",
            "learning_rate: 0.00128\n"
          ]
        },
        {
          "metadata": {
            "tags": null
          },
          "name": "stderr",
          "output_type": "stream",
          "text": [
            "epoch 148: 100%|██████████| 282/282 [00:08<00:00, 33.83it/s]\n"
          ]
        },
        {
          "metadata": {
            "tags": null
          },
          "name": "stdout",
          "output_type": "stream",
          "text": [
            "validation loss: 0.006011626657512453 at epoch 149\n",
            "learning_rate: 0.00128\n"
          ]
        },
        {
          "metadata": {
            "tags": null
          },
          "name": "stderr",
          "output_type": "stream",
          "text": [
            "epoch 149: 100%|██████████| 282/282 [00:07<00:00, 36.98it/s]\n"
          ]
        },
        {
          "metadata": {
            "tags": null
          },
          "name": "stdout",
          "output_type": "stream",
          "text": [
            "validation loss: 0.003158724824587504 at epoch 150\n",
            "learning_rate: 0.00128\n"
          ]
        },
        {
          "metadata": {
            "tags": null
          },
          "name": "stderr",
          "output_type": "stream",
          "text": [
            "epoch 150: 100%|██████████| 282/282 [00:08<00:00, 33.86it/s]\n"
          ]
        },
        {
          "metadata": {
            "tags": null
          },
          "name": "stdout",
          "output_type": "stream",
          "text": [
            "validation loss: 0.01074711161851883 at epoch 151\n",
            "learning_rate: 0.00128\n"
          ]
        },
        {
          "metadata": {
            "tags": null
          },
          "name": "stderr",
          "output_type": "stream",
          "text": [
            "epoch 151: 100%|██████████| 282/282 [00:08<00:00, 33.80it/s]\n"
          ]
        },
        {
          "metadata": {
            "tags": null
          },
          "name": "stdout",
          "output_type": "stream",
          "text": [
            "validation loss: 0.007250077333715227 at epoch 152\n",
            "learning_rate: 0.00128\n"
          ]
        },
        {
          "metadata": {
            "tags": null
          },
          "name": "stderr",
          "output_type": "stream",
          "text": [
            "epoch 152: 100%|██████████| 282/282 [00:07<00:00, 37.23it/s]\n"
          ]
        },
        {
          "metadata": {
            "tags": null
          },
          "name": "stdout",
          "output_type": "stream",
          "text": [
            "validation loss: 0.011961249464088016 at epoch 153\n",
            "learning_rate: 0.00128\n"
          ]
        },
        {
          "metadata": {
            "tags": null
          },
          "name": "stderr",
          "output_type": "stream",
          "text": [
            "epoch 153: 100%|██████████| 282/282 [00:08<00:00, 33.66it/s]\n"
          ]
        },
        {
          "metadata": {
            "tags": null
          },
          "name": "stdout",
          "output_type": "stream",
          "text": [
            "validation loss: 0.003500093791219923 at epoch 154\n",
            "learning_rate: 0.00128\n"
          ]
        },
        {
          "metadata": {
            "tags": null
          },
          "name": "stderr",
          "output_type": "stream",
          "text": [
            "epoch 154: 100%|██████████| 282/282 [00:08<00:00, 33.40it/s]\n"
          ]
        },
        {
          "metadata": {
            "tags": null
          },
          "name": "stdout",
          "output_type": "stream",
          "text": [
            "validation loss: 0.011192838410536449 at epoch 155\n",
            "learning_rate: 0.00128\n"
          ]
        },
        {
          "metadata": {
            "tags": null
          },
          "name": "stderr",
          "output_type": "stream",
          "text": [
            "epoch 155: 100%|██████████| 282/282 [00:07<00:00, 37.18it/s]\n"
          ]
        },
        {
          "metadata": {
            "tags": null
          },
          "name": "stdout",
          "output_type": "stream",
          "text": [
            "validation loss: 0.004746205535199907 at epoch 156\n",
            "learning_rate: 0.00128\n"
          ]
        },
        {
          "metadata": {
            "tags": null
          },
          "name": "stderr",
          "output_type": "stream",
          "text": [
            "epoch 156: 100%|██████████| 282/282 [00:08<00:00, 33.20it/s]\n"
          ]
        },
        {
          "metadata": {
            "tags": null
          },
          "name": "stdout",
          "output_type": "stream",
          "text": [
            "validation loss: 0.005885336584515042 at epoch 157\n",
            "learning_rate: 0.00128\n"
          ]
        },
        {
          "metadata": {
            "tags": null
          },
          "name": "stderr",
          "output_type": "stream",
          "text": [
            "epoch 157: 100%|██████████| 282/282 [00:08<00:00, 33.13it/s]\n"
          ]
        },
        {
          "metadata": {
            "tags": null
          },
          "name": "stdout",
          "output_type": "stream",
          "text": [
            "validation loss: 0.0097645599577162 at epoch 158\n",
            "learning_rate: 0.00128\n"
          ]
        },
        {
          "metadata": {
            "tags": null
          },
          "name": "stderr",
          "output_type": "stream",
          "text": [
            "epoch 158: 100%|██████████| 282/282 [00:07<00:00, 37.21it/s]\n"
          ]
        },
        {
          "metadata": {
            "tags": null
          },
          "name": "stdout",
          "output_type": "stream",
          "text": [
            "validation loss: 0.013657285451889038 at epoch 159\n",
            "learning_rate: 0.00128\n"
          ]
        },
        {
          "metadata": {
            "tags": null
          },
          "name": "stderr",
          "output_type": "stream",
          "text": [
            "epoch 159: 100%|██████████| 282/282 [00:08<00:00, 33.45it/s]\n"
          ]
        },
        {
          "metadata": {
            "tags": null
          },
          "name": "stdout",
          "output_type": "stream",
          "text": [
            "validation loss: 0.01055393624967999 at epoch 160\n",
            "learning_rate: 0.00128\n"
          ]
        },
        {
          "metadata": {
            "tags": null
          },
          "name": "stderr",
          "output_type": "stream",
          "text": [
            "epoch 160: 100%|██████████| 282/282 [00:08<00:00, 33.89it/s]\n"
          ]
        },
        {
          "metadata": {
            "tags": null
          },
          "name": "stdout",
          "output_type": "stream",
          "text": [
            "validation loss: 0.004097600417004691 at epoch 161\n",
            "learning_rate: 0.00128\n"
          ]
        },
        {
          "metadata": {
            "tags": null
          },
          "name": "stderr",
          "output_type": "stream",
          "text": [
            "epoch 161: 100%|██████████| 282/282 [00:07<00:00, 37.70it/s]\n"
          ]
        },
        {
          "metadata": {
            "tags": null
          },
          "name": "stdout",
          "output_type": "stream",
          "text": [
            "validation loss: 0.010573402020666334 at epoch 162\n",
            "learning_rate: 0.00128\n"
          ]
        },
        {
          "metadata": {
            "tags": null
          },
          "name": "stderr",
          "output_type": "stream",
          "text": [
            "epoch 162: 100%|██████████| 282/282 [00:08<00:00, 34.00it/s]\n"
          ]
        },
        {
          "metadata": {
            "tags": null
          },
          "name": "stdout",
          "output_type": "stream",
          "text": [
            "validation loss: 0.011201956219143338 at epoch 163\n",
            "learning_rate: 0.00128\n"
          ]
        },
        {
          "metadata": {
            "tags": null
          },
          "name": "stderr",
          "output_type": "stream",
          "text": [
            "epoch 163: 100%|██████████| 282/282 [00:08<00:00, 33.44it/s]\n"
          ]
        },
        {
          "metadata": {
            "tags": null
          },
          "name": "stdout",
          "output_type": "stream",
          "text": [
            "validation loss: 0.011577784491909875 at epoch 164\n",
            "learning_rate: 0.00128\n"
          ]
        },
        {
          "metadata": {
            "tags": null
          },
          "name": "stderr",
          "output_type": "stream",
          "text": [
            "epoch 164: 100%|██████████| 282/282 [00:07<00:00, 37.54it/s]\n"
          ]
        },
        {
          "metadata": {
            "tags": null
          },
          "name": "stdout",
          "output_type": "stream",
          "text": [
            "validation loss: 0.005538397828737895 at epoch 165\n",
            "learning_rate: 0.00128\n"
          ]
        },
        {
          "metadata": {
            "tags": null
          },
          "name": "stderr",
          "output_type": "stream",
          "text": [
            "epoch 165: 100%|██████████| 282/282 [00:08<00:00, 34.82it/s]\n"
          ]
        },
        {
          "metadata": {
            "tags": null
          },
          "name": "stdout",
          "output_type": "stream",
          "text": [
            "validation loss: 0.0021400371947222284 at epoch 166\n",
            "learning_rate: 0.00128\n"
          ]
        },
        {
          "metadata": {
            "tags": null
          },
          "name": "stderr",
          "output_type": "stream",
          "text": [
            "epoch 166: 100%|██████████| 282/282 [00:08<00:00, 33.11it/s]\n"
          ]
        },
        {
          "metadata": {
            "tags": null
          },
          "name": "stdout",
          "output_type": "stream",
          "text": [
            "validation loss: 0.005570401585764355 at epoch 167\n",
            "learning_rate: 0.00128\n"
          ]
        },
        {
          "metadata": {
            "tags": null
          },
          "name": "stderr",
          "output_type": "stream",
          "text": [
            "epoch 167: 100%|██████████| 282/282 [00:07<00:00, 36.86it/s]\n"
          ]
        },
        {
          "metadata": {
            "tags": null
          },
          "name": "stdout",
          "output_type": "stream",
          "text": [
            "validation loss: 0.007444904592302111 at epoch 168\n",
            "learning_rate: 0.00128\n"
          ]
        },
        {
          "metadata": {
            "tags": null
          },
          "name": "stderr",
          "output_type": "stream",
          "text": [
            "epoch 168: 100%|██████████| 282/282 [00:08<00:00, 34.79it/s]\n"
          ]
        },
        {
          "metadata": {
            "tags": null
          },
          "name": "stdout",
          "output_type": "stream",
          "text": [
            "validation loss: 0.003685449080334769 at epoch 169\n",
            "learning_rate: 0.00128\n"
          ]
        },
        {
          "metadata": {
            "tags": null
          },
          "name": "stderr",
          "output_type": "stream",
          "text": [
            "epoch 169: 100%|██████████| 282/282 [00:08<00:00, 33.18it/s]\n"
          ]
        },
        {
          "metadata": {
            "tags": null
          },
          "name": "stdout",
          "output_type": "stream",
          "text": [
            "validation loss: 0.008531450397438474 at epoch 170\n",
            "learning_rate: 0.00128\n"
          ]
        },
        {
          "metadata": {
            "tags": null
          },
          "name": "stderr",
          "output_type": "stream",
          "text": [
            "epoch 170: 100%|██████████| 282/282 [00:07<00:00, 35.36it/s]\n"
          ]
        },
        {
          "metadata": {
            "tags": null
          },
          "name": "stdout",
          "output_type": "stream",
          "text": [
            "validation loss: 0.003325750625795788 at epoch 171\n",
            "learning_rate: 0.00128\n"
          ]
        },
        {
          "metadata": {
            "tags": null
          },
          "name": "stderr",
          "output_type": "stream",
          "text": [
            "epoch 171: 100%|██████████| 282/282 [00:08<00:00, 35.08it/s]\n"
          ]
        },
        {
          "metadata": {
            "tags": null
          },
          "name": "stdout",
          "output_type": "stream",
          "text": [
            "validation loss: 0.009450742483139037 at epoch 172\n",
            "learning_rate: 0.00128\n"
          ]
        },
        {
          "metadata": {
            "tags": null
          },
          "name": "stderr",
          "output_type": "stream",
          "text": [
            "epoch 172: 100%|██████████| 282/282 [00:08<00:00, 33.46it/s]\n"
          ]
        },
        {
          "metadata": {
            "tags": null
          },
          "name": "stdout",
          "output_type": "stream",
          "text": [
            "validation loss: 0.005559888107909096 at epoch 173\n",
            "learning_rate: 0.00128\n"
          ]
        },
        {
          "metadata": {
            "tags": null
          },
          "name": "stderr",
          "output_type": "stream",
          "text": [
            "epoch 173: 100%|██████████| 282/282 [00:08<00:00, 35.03it/s]\n"
          ]
        },
        {
          "metadata": {
            "tags": null
          },
          "name": "stdout",
          "output_type": "stream",
          "text": [
            "validation loss: 0.010924802554978266 at epoch 174\n",
            "learning_rate: 0.00128\n"
          ]
        },
        {
          "metadata": {
            "tags": null
          },
          "name": "stderr",
          "output_type": "stream",
          "text": [
            "epoch 174: 100%|██████████| 282/282 [00:07<00:00, 36.64it/s]\n"
          ]
        },
        {
          "metadata": {
            "tags": null
          },
          "name": "stdout",
          "output_type": "stream",
          "text": [
            "validation loss: 0.01324525209930208 at epoch 175\n",
            "learning_rate: 0.00128\n"
          ]
        },
        {
          "metadata": {
            "tags": null
          },
          "name": "stderr",
          "output_type": "stream",
          "text": [
            "epoch 175: 100%|██████████| 282/282 [00:08<00:00, 33.28it/s]\n"
          ]
        },
        {
          "metadata": {
            "tags": null
          },
          "name": "stdout",
          "output_type": "stream",
          "text": [
            "validation loss: 0.006762072447273467 at epoch 176\n",
            "learning_rate: 0.00128\n"
          ]
        },
        {
          "metadata": {
            "tags": null
          },
          "name": "stderr",
          "output_type": "stream",
          "text": [
            "epoch 176: 100%|██████████| 282/282 [00:08<00:00, 34.64it/s]\n"
          ]
        },
        {
          "metadata": {
            "tags": null
          },
          "name": "stdout",
          "output_type": "stream",
          "text": [
            "validation loss: 0.010949196709526909 at epoch 177\n",
            "learning_rate: 0.00128\n"
          ]
        },
        {
          "metadata": {
            "tags": null
          },
          "name": "stderr",
          "output_type": "stream",
          "text": [
            "epoch 177: 100%|██████████| 282/282 [00:07<00:00, 37.09it/s]\n"
          ]
        },
        {
          "metadata": {
            "tags": null
          },
          "name": "stdout",
          "output_type": "stream",
          "text": [
            "validation loss: 0.005561940292517344 at epoch 178\n",
            "learning_rate: 0.00128\n"
          ]
        },
        {
          "metadata": {
            "tags": null
          },
          "name": "stderr",
          "output_type": "stream",
          "text": [
            "epoch 178: 100%|██████████| 282/282 [00:08<00:00, 34.15it/s]\n"
          ]
        },
        {
          "metadata": {
            "tags": null
          },
          "name": "stdout",
          "output_type": "stream",
          "text": [
            "validation loss: 0.002985147934820917 at epoch 179\n",
            "learning_rate: 0.0010240000000000002\n"
          ]
        },
        {
          "metadata": {
            "tags": null
          },
          "name": "stderr",
          "output_type": "stream",
          "text": [
            "epoch 179: 100%|██████████| 282/282 [00:08<00:00, 33.82it/s]\n"
          ]
        },
        {
          "metadata": {
            "tags": null
          },
          "name": "stdout",
          "output_type": "stream",
          "text": [
            "validation loss: 0.0049099317358599764 at epoch 180\n",
            "learning_rate: 0.0010240000000000002\n"
          ]
        },
        {
          "metadata": {
            "tags": null
          },
          "name": "stderr",
          "output_type": "stream",
          "text": [
            "epoch 180: 100%|██████████| 282/282 [00:07<00:00, 36.88it/s]\n"
          ]
        },
        {
          "metadata": {
            "tags": null
          },
          "name": "stdout",
          "output_type": "stream",
          "text": [
            "validation loss: 0.005357873247729407 at epoch 181\n",
            "learning_rate: 0.0010240000000000002\n"
          ]
        },
        {
          "metadata": {
            "tags": null
          },
          "name": "stderr",
          "output_type": "stream",
          "text": [
            "epoch 181: 100%|██████████| 282/282 [00:08<00:00, 33.24it/s]\n"
          ]
        },
        {
          "metadata": {
            "tags": null
          },
          "name": "stdout",
          "output_type": "stream",
          "text": [
            "validation loss: 0.001817780143684811 at epoch 182\n",
            "learning_rate: 0.0010240000000000002\n",
            "model saved in ani_acrolein.pt\n"
          ]
        },
        {
          "metadata": {
            "tags": null
          },
          "name": "stderr",
          "output_type": "stream",
          "text": [
            "epoch 182: 100%|██████████| 282/282 [00:08<00:00, 33.50it/s]\n"
          ]
        },
        {
          "metadata": {
            "tags": null
          },
          "name": "stdout",
          "output_type": "stream",
          "text": [
            "validation loss: 0.006444812963406245 at epoch 183\n",
            "learning_rate: 0.0010240000000000002\n"
          ]
        },
        {
          "metadata": {
            "tags": null
          },
          "name": "stderr",
          "output_type": "stream",
          "text": [
            "epoch 183: 100%|██████████| 282/282 [00:07<00:00, 37.60it/s]\n"
          ]
        },
        {
          "metadata": {
            "tags": null
          },
          "name": "stdout",
          "output_type": "stream",
          "text": [
            "validation loss: 0.003573512605494923 at epoch 184\n",
            "learning_rate: 0.0010240000000000002\n"
          ]
        },
        {
          "metadata": {
            "tags": null
          },
          "name": "stderr",
          "output_type": "stream",
          "text": [
            "epoch 184: 100%|██████████| 282/282 [00:08<00:00, 33.35it/s]\n"
          ]
        },
        {
          "metadata": {
            "tags": null
          },
          "name": "stdout",
          "output_type": "stream",
          "text": [
            "validation loss: 0.005941286666525734 at epoch 185\n",
            "learning_rate: 0.0010240000000000002\n"
          ]
        },
        {
          "metadata": {
            "tags": null
          },
          "name": "stderr",
          "output_type": "stream",
          "text": [
            "epoch 185: 100%|██████████| 282/282 [00:08<00:00, 33.28it/s]\n"
          ]
        },
        {
          "metadata": {
            "tags": null
          },
          "name": "stdout",
          "output_type": "stream",
          "text": [
            "validation loss: 0.004253499795993169 at epoch 186\n",
            "learning_rate: 0.0010240000000000002\n"
          ]
        },
        {
          "metadata": {
            "tags": null
          },
          "name": "stderr",
          "output_type": "stream",
          "text": [
            "epoch 186: 100%|██████████| 282/282 [00:07<00:00, 37.19it/s]\n"
          ]
        },
        {
          "metadata": {
            "tags": null
          },
          "name": "stdout",
          "output_type": "stream",
          "text": [
            "validation loss: 0.009377040949132708 at epoch 187\n",
            "learning_rate: 0.0010240000000000002\n"
          ]
        },
        {
          "metadata": {
            "tags": null
          },
          "name": "stderr",
          "output_type": "stream",
          "text": [
            "epoch 187: 100%|██████████| 282/282 [00:08<00:00, 33.47it/s]\n"
          ]
        },
        {
          "metadata": {
            "tags": null
          },
          "name": "stdout",
          "output_type": "stream",
          "text": [
            "validation loss: 0.005789390484491984 at epoch 188\n",
            "learning_rate: 0.0010240000000000002\n"
          ]
        },
        {
          "metadata": {
            "tags": null
          },
          "name": "stderr",
          "output_type": "stream",
          "text": [
            "epoch 188: 100%|██████████| 282/282 [00:08<00:00, 33.97it/s]\n"
          ]
        },
        {
          "metadata": {
            "tags": null
          },
          "name": "stdout",
          "output_type": "stream",
          "text": [
            "validation loss: 0.004409374846352471 at epoch 189\n",
            "learning_rate: 0.0010240000000000002\n"
          ]
        },
        {
          "metadata": {
            "tags": null
          },
          "name": "stderr",
          "output_type": "stream",
          "text": [
            "epoch 189: 100%|██████████| 282/282 [00:07<00:00, 36.57it/s]\n"
          ]
        },
        {
          "metadata": {
            "tags": null
          },
          "name": "stdout",
          "output_type": "stream",
          "text": [
            "validation loss: 0.002722003039386537 at epoch 190\n",
            "learning_rate: 0.0010240000000000002\n"
          ]
        },
        {
          "metadata": {
            "tags": null
          },
          "name": "stderr",
          "output_type": "stream",
          "text": [
            "epoch 190: 100%|██████████| 282/282 [00:08<00:00, 34.15it/s]\n"
          ]
        },
        {
          "metadata": {
            "tags": null
          },
          "name": "stdout",
          "output_type": "stream",
          "text": [
            "validation loss: 0.013900770167509714 at epoch 191\n",
            "learning_rate: 0.0010240000000000002\n"
          ]
        },
        {
          "metadata": {
            "tags": null
          },
          "name": "stderr",
          "output_type": "stream",
          "text": [
            "epoch 191: 100%|██████████| 282/282 [00:08<00:00, 32.26it/s]\n"
          ]
        },
        {
          "metadata": {
            "tags": null
          },
          "name": "stdout",
          "output_type": "stream",
          "text": [
            "validation loss: 0.004496393339501487 at epoch 192\n",
            "learning_rate: 0.0010240000000000002\n"
          ]
        },
        {
          "metadata": {
            "tags": null
          },
          "name": "stderr",
          "output_type": "stream",
          "text": [
            "epoch 192: 100%|██████████| 282/282 [00:08<00:00, 33.57it/s]\n"
          ]
        },
        {
          "metadata": {
            "tags": null
          },
          "name": "stdout",
          "output_type": "stream",
          "text": [
            "validation loss: 0.0022745735512839423 at epoch 193\n",
            "learning_rate: 0.0010240000000000002\n"
          ]
        },
        {
          "metadata": {
            "tags": null
          },
          "name": "stderr",
          "output_type": "stream",
          "text": [
            "epoch 193: 100%|██████████| 282/282 [00:07<00:00, 37.25it/s]\n"
          ]
        },
        {
          "metadata": {
            "tags": null
          },
          "name": "stdout",
          "output_type": "stream",
          "text": [
            "validation loss: 0.003613680336210463 at epoch 194\n",
            "learning_rate: 0.0010240000000000002\n"
          ]
        },
        {
          "metadata": {
            "tags": null
          },
          "name": "stderr",
          "output_type": "stream",
          "text": [
            "epoch 194: 100%|██████████| 282/282 [00:08<00:00, 33.17it/s]\n"
          ]
        },
        {
          "metadata": {
            "tags": null
          },
          "name": "stdout",
          "output_type": "stream",
          "text": [
            "validation loss: 0.008791199935807122 at epoch 195\n",
            "learning_rate: 0.0010240000000000002\n"
          ]
        },
        {
          "metadata": {
            "tags": null
          },
          "name": "stderr",
          "output_type": "stream",
          "text": [
            "epoch 195: 100%|██████████| 282/282 [00:08<00:00, 33.66it/s]\n"
          ]
        },
        {
          "metadata": {
            "tags": null
          },
          "name": "stdout",
          "output_type": "stream",
          "text": [
            "validation loss: 0.015826898958947924 at epoch 196\n",
            "learning_rate: 0.0010240000000000002\n"
          ]
        },
        {
          "metadata": {
            "tags": null
          },
          "name": "stderr",
          "output_type": "stream",
          "text": [
            "epoch 196: 100%|██████████| 282/282 [00:07<00:00, 37.36it/s]\n"
          ]
        },
        {
          "metadata": {
            "tags": null
          },
          "name": "stdout",
          "output_type": "stream",
          "text": [
            "validation loss: 0.005988722811142604 at epoch 197\n",
            "learning_rate: 0.0010240000000000002\n"
          ]
        },
        {
          "metadata": {
            "tags": null
          },
          "name": "stderr",
          "output_type": "stream",
          "text": [
            "epoch 197: 100%|██████████| 282/282 [00:08<00:00, 33.58it/s]\n"
          ]
        },
        {
          "metadata": {
            "tags": null
          },
          "name": "stdout",
          "output_type": "stream",
          "text": [
            "validation loss: 0.006407604694366455 at epoch 198\n",
            "learning_rate: 0.0010240000000000002\n"
          ]
        },
        {
          "metadata": {
            "tags": null
          },
          "name": "stderr",
          "output_type": "stream",
          "text": [
            "epoch 198: 100%|██████████| 282/282 [00:08<00:00, 33.61it/s]\n"
          ]
        },
        {
          "metadata": {
            "tags": null
          },
          "name": "stdout",
          "output_type": "stream",
          "text": [
            "validation loss: 0.001962428833047549 at epoch 199\n",
            "learning_rate: 0.0010240000000000002\n"
          ]
        },
        {
          "metadata": {
            "tags": null
          },
          "name": "stderr",
          "output_type": "stream",
          "text": [
            "epoch 199: 100%|██████████| 282/282 [00:07<00:00, 36.49it/s]\n"
          ]
        },
        {
          "metadata": {
            "tags": null
          },
          "name": "stdout",
          "output_type": "stream",
          "text": [
            "validation loss: 0.0030879949265056185 at epoch 200\n",
            "learning_rate: 0.0010240000000000002\n"
          ]
        },
        {
          "metadata": {
            "tags": null
          },
          "name": "stderr",
          "output_type": "stream",
          "text": [
            "epoch 200: 100%|██████████| 282/282 [00:08<00:00, 32.12it/s]\n"
          ]
        },
        {
          "metadata": {
            "tags": null
          },
          "name": "stdout",
          "output_type": "stream",
          "text": [
            "validation loss: 0.01217752277188831 at epoch 201\n",
            "learning_rate: 0.0010240000000000002\n"
          ]
        },
        {
          "metadata": {
            "tags": null
          },
          "name": "stderr",
          "output_type": "stream",
          "text": [
            "epoch 201: 100%|██████████| 282/282 [00:08<00:00, 31.81it/s]\n"
          ]
        },
        {
          "metadata": {
            "tags": null
          },
          "name": "stdout",
          "output_type": "stream",
          "text": [
            "validation loss: 0.010374471293555365 at epoch 202\n",
            "learning_rate: 0.0010240000000000002\n"
          ]
        },
        {
          "metadata": {
            "tags": null
          },
          "name": "stderr",
          "output_type": "stream",
          "text": [
            "epoch 202: 100%|██████████| 282/282 [00:08<00:00, 35.23it/s]\n"
          ]
        },
        {
          "metadata": {
            "tags": null
          },
          "name": "stdout",
          "output_type": "stream",
          "text": [
            "validation loss: 0.010435945159859128 at epoch 203\n",
            "learning_rate: 0.0010240000000000002\n"
          ]
        },
        {
          "metadata": {
            "tags": null
          },
          "name": "stderr",
          "output_type": "stream",
          "text": [
            "epoch 203: 100%|██████████| 282/282 [00:08<00:00, 34.52it/s]\n"
          ]
        },
        {
          "metadata": {
            "tags": null
          },
          "name": "stdout",
          "output_type": "stream",
          "text": [
            "validation loss: 0.009498484724097781 at epoch 204\n",
            "learning_rate: 0.0010240000000000002\n"
          ]
        },
        {
          "metadata": {
            "tags": null
          },
          "name": "stderr",
          "output_type": "stream",
          "text": [
            "epoch 204: 100%|██████████| 282/282 [00:08<00:00, 31.89it/s]\n"
          ]
        },
        {
          "metadata": {
            "tags": null
          },
          "name": "stdout",
          "output_type": "stream",
          "text": [
            "validation loss: 0.0020816554120845266 at epoch 205\n",
            "learning_rate: 0.0010240000000000002\n"
          ]
        },
        {
          "metadata": {
            "tags": null
          },
          "name": "stderr",
          "output_type": "stream",
          "text": [
            "epoch 205: 100%|██████████| 282/282 [00:08<00:00, 34.67it/s]\n"
          ]
        },
        {
          "metadata": {
            "tags": null
          },
          "name": "stdout",
          "output_type": "stream",
          "text": [
            "validation loss: 0.0028021749837530982 at epoch 206\n",
            "learning_rate: 0.0010240000000000002\n"
          ]
        },
        {
          "metadata": {
            "tags": null
          },
          "name": "stderr",
          "output_type": "stream",
          "text": [
            "epoch 206: 100%|██████████| 282/282 [00:07<00:00, 35.73it/s]\n"
          ]
        },
        {
          "metadata": {
            "tags": null
          },
          "name": "stdout",
          "output_type": "stream",
          "text": [
            "validation loss: 0.00504193170203103 at epoch 207\n",
            "learning_rate: 0.0010240000000000002\n"
          ]
        },
        {
          "metadata": {
            "tags": null
          },
          "name": "stderr",
          "output_type": "stream",
          "text": [
            "epoch 207: 100%|██████████| 282/282 [00:08<00:00, 32.76it/s]\n"
          ]
        },
        {
          "metadata": {
            "tags": null
          },
          "name": "stdout",
          "output_type": "stream",
          "text": [
            "validation loss: 0.01439949013127221 at epoch 208\n",
            "learning_rate: 0.0010240000000000002\n"
          ]
        },
        {
          "metadata": {
            "tags": null
          },
          "name": "stderr",
          "output_type": "stream",
          "text": [
            "epoch 208: 100%|██████████| 282/282 [00:08<00:00, 33.51it/s]\n"
          ]
        },
        {
          "metadata": {
            "tags": null
          },
          "name": "stdout",
          "output_type": "stream",
          "text": [
            "validation loss: 0.00347162478003237 at epoch 209\n",
            "learning_rate: 0.0010240000000000002\n"
          ]
        },
        {
          "metadata": {
            "tags": null
          },
          "name": "stderr",
          "output_type": "stream",
          "text": [
            "epoch 209: 100%|██████████| 282/282 [00:07<00:00, 37.14it/s]\n"
          ]
        },
        {
          "metadata": {
            "tags": null
          },
          "name": "stdout",
          "output_type": "stream",
          "text": [
            "validation loss: 0.0027273528054356576 at epoch 210\n",
            "learning_rate: 0.0010240000000000002\n"
          ]
        },
        {
          "metadata": {
            "tags": null
          },
          "name": "stderr",
          "output_type": "stream",
          "text": [
            "epoch 210: 100%|██████████| 282/282 [00:08<00:00, 32.16it/s]\n"
          ]
        },
        {
          "metadata": {
            "tags": null
          },
          "name": "stdout",
          "output_type": "stream",
          "text": [
            "validation loss: 0.0070354249642954935 at epoch 211\n",
            "learning_rate: 0.0010240000000000002\n"
          ]
        },
        {
          "metadata": {
            "tags": null
          },
          "name": "stderr",
          "output_type": "stream",
          "text": [
            "epoch 211: 100%|██████████| 282/282 [00:08<00:00, 32.51it/s]\n"
          ]
        },
        {
          "metadata": {
            "tags": null
          },
          "name": "stdout",
          "output_type": "stream",
          "text": [
            "validation loss: 0.004558139466577106 at epoch 212\n",
            "learning_rate: 0.0010240000000000002\n"
          ]
        },
        {
          "metadata": {
            "tags": null
          },
          "name": "stderr",
          "output_type": "stream",
          "text": [
            "epoch 212: 100%|██████████| 282/282 [00:07<00:00, 36.68it/s]\n"
          ]
        },
        {
          "metadata": {
            "tags": null
          },
          "name": "stdout",
          "output_type": "stream",
          "text": [
            "validation loss: 0.0028243072248167462 at epoch 213\n",
            "learning_rate: 0.0010240000000000002\n"
          ]
        },
        {
          "metadata": {
            "tags": null
          },
          "name": "stderr",
          "output_type": "stream",
          "text": [
            "epoch 213: 100%|██████████| 282/282 [00:08<00:00, 34.61it/s]\n"
          ]
        },
        {
          "metadata": {
            "tags": null
          },
          "name": "stdout",
          "output_type": "stream",
          "text": [
            "validation loss: 0.00400625310672654 at epoch 214\n",
            "learning_rate: 0.0010240000000000002\n"
          ]
        },
        {
          "metadata": {
            "tags": null
          },
          "name": "stderr",
          "output_type": "stream",
          "text": [
            "epoch 214: 100%|██████████| 282/282 [00:08<00:00, 33.77it/s]\n"
          ]
        },
        {
          "metadata": {
            "tags": null
          },
          "name": "stdout",
          "output_type": "stream",
          "text": [
            "validation loss: 0.003968729774157206 at epoch 215\n",
            "learning_rate: 0.0010240000000000002\n"
          ]
        },
        {
          "metadata": {
            "tags": null
          },
          "name": "stderr",
          "output_type": "stream",
          "text": [
            "epoch 215: 100%|██████████| 282/282 [00:07<00:00, 35.96it/s]\n"
          ]
        },
        {
          "metadata": {
            "tags": null
          },
          "name": "stdout",
          "output_type": "stream",
          "text": [
            "validation loss: 0.010334768765502506 at epoch 216\n",
            "learning_rate: 0.0010240000000000002\n"
          ]
        },
        {
          "metadata": {
            "tags": null
          },
          "name": "stderr",
          "output_type": "stream",
          "text": [
            "epoch 216: 100%|██████████| 282/282 [00:08<00:00, 33.49it/s]\n"
          ]
        },
        {
          "metadata": {
            "tags": null
          },
          "name": "stdout",
          "output_type": "stream",
          "text": [
            "validation loss: 0.008759167446030511 at epoch 217\n",
            "learning_rate: 0.0010240000000000002\n"
          ]
        },
        {
          "metadata": {
            "tags": null
          },
          "name": "stderr",
          "output_type": "stream",
          "text": [
            "epoch 217: 100%|██████████| 282/282 [00:08<00:00, 32.67it/s]\n"
          ]
        },
        {
          "metadata": {
            "tags": null
          },
          "name": "stdout",
          "output_type": "stream",
          "text": [
            "validation loss: 0.0085935733517011 at epoch 218\n",
            "learning_rate: 0.0010240000000000002\n"
          ]
        },
        {
          "metadata": {
            "tags": null
          },
          "name": "stderr",
          "output_type": "stream",
          "text": [
            "epoch 218: 100%|██████████| 282/282 [00:08<00:00, 31.46it/s]\n"
          ]
        },
        {
          "metadata": {
            "tags": null
          },
          "name": "stdout",
          "output_type": "stream",
          "text": [
            "validation loss: 0.008461743030283186 at epoch 219\n",
            "learning_rate: 0.0010240000000000002\n"
          ]
        },
        {
          "metadata": {
            "tags": null
          },
          "name": "stderr",
          "output_type": "stream",
          "text": [
            "epoch 219: 100%|██████████| 282/282 [00:07<00:00, 36.48it/s]\n"
          ]
        },
        {
          "metadata": {
            "tags": null
          },
          "name": "stdout",
          "output_type": "stream",
          "text": [
            "validation loss: 0.002621973481443193 at epoch 220\n",
            "learning_rate: 0.0010240000000000002\n"
          ]
        },
        {
          "metadata": {
            "tags": null
          },
          "name": "stderr",
          "output_type": "stream",
          "text": [
            "epoch 220: 100%|██████████| 282/282 [00:08<00:00, 31.34it/s]\n"
          ]
        },
        {
          "metadata": {
            "tags": null
          },
          "name": "stdout",
          "output_type": "stream",
          "text": [
            "validation loss: 0.006615326444307963 at epoch 221\n",
            "learning_rate: 0.0010240000000000002\n"
          ]
        },
        {
          "metadata": {
            "tags": null
          },
          "name": "stderr",
          "output_type": "stream",
          "text": [
            "epoch 221: 100%|██████████| 282/282 [00:08<00:00, 31.91it/s]\n"
          ]
        },
        {
          "metadata": {
            "tags": null
          },
          "name": "stdout",
          "output_type": "stream",
          "text": [
            "validation loss: 0.0041099638806449046 at epoch 222\n",
            "learning_rate: 0.0010240000000000002\n"
          ]
        },
        {
          "metadata": {
            "tags": null
          },
          "name": "stderr",
          "output_type": "stream",
          "text": [
            "epoch 222: 100%|██████████| 282/282 [00:08<00:00, 34.43it/s]\n"
          ]
        },
        {
          "metadata": {
            "tags": null
          },
          "name": "stdout",
          "output_type": "stream",
          "text": [
            "validation loss: 0.005056620283259286 at epoch 223\n",
            "learning_rate: 0.0010240000000000002\n"
          ]
        },
        {
          "metadata": {
            "tags": null
          },
          "name": "stderr",
          "output_type": "stream",
          "text": [
            "epoch 223: 100%|██████████| 282/282 [00:08<00:00, 34.62it/s]\n"
          ]
        },
        {
          "metadata": {
            "tags": null
          },
          "name": "stdout",
          "output_type": "stream",
          "text": [
            "validation loss: 0.004035279406441583 at epoch 224\n",
            "learning_rate: 0.0010240000000000002\n"
          ]
        },
        {
          "metadata": {
            "tags": null
          },
          "name": "stderr",
          "output_type": "stream",
          "text": [
            "epoch 224: 100%|██████████| 282/282 [00:08<00:00, 32.22it/s]\n"
          ]
        },
        {
          "metadata": {
            "tags": null
          },
          "name": "stdout",
          "output_type": "stream",
          "text": [
            "validation loss: 0.004472706470224593 at epoch 225\n",
            "learning_rate: 0.0010240000000000002\n"
          ]
        },
        {
          "metadata": {
            "tags": null
          },
          "name": "stderr",
          "output_type": "stream",
          "text": [
            "epoch 225: 100%|██████████| 282/282 [00:08<00:00, 31.94it/s]\n"
          ]
        },
        {
          "metadata": {
            "tags": null
          },
          "name": "stdout",
          "output_type": "stream",
          "text": [
            "validation loss: 0.0081892742117246 at epoch 226\n",
            "learning_rate: 0.0010240000000000002\n"
          ]
        },
        {
          "metadata": {
            "tags": null
          },
          "name": "stderr",
          "output_type": "stream",
          "text": [
            "epoch 226: 100%|██████████| 282/282 [00:07<00:00, 35.81it/s]\n"
          ]
        },
        {
          "metadata": {
            "tags": null
          },
          "name": "stdout",
          "output_type": "stream",
          "text": [
            "validation loss: 0.0028450738340616228 at epoch 227\n",
            "learning_rate: 0.0010240000000000002\n"
          ]
        },
        {
          "metadata": {
            "tags": null
          },
          "name": "stderr",
          "output_type": "stream",
          "text": [
            "epoch 227: 100%|██████████| 282/282 [00:08<00:00, 33.11it/s]\n"
          ]
        },
        {
          "metadata": {
            "tags": null
          },
          "name": "stdout",
          "output_type": "stream",
          "text": [
            "validation loss: 0.001955965172085497 at epoch 228\n",
            "learning_rate: 0.0010240000000000002\n"
          ]
        },
        {
          "metadata": {
            "tags": null
          },
          "name": "stderr",
          "output_type": "stream",
          "text": [
            "epoch 228: 100%|██████████| 282/282 [00:08<00:00, 31.63it/s]\n"
          ]
        },
        {
          "metadata": {
            "tags": null
          },
          "name": "stdout",
          "output_type": "stream",
          "text": [
            "validation loss: 0.012458498338858287 at epoch 229\n",
            "learning_rate: 0.0010240000000000002\n"
          ]
        },
        {
          "metadata": {
            "tags": null
          },
          "name": "stderr",
          "output_type": "stream",
          "text": [
            "epoch 229: 100%|██████████| 282/282 [00:07<00:00, 36.22it/s]\n"
          ]
        },
        {
          "metadata": {
            "tags": null
          },
          "name": "stdout",
          "output_type": "stream",
          "text": [
            "validation loss: 0.014589182880189684 at epoch 230\n",
            "learning_rate: 0.0010240000000000002\n"
          ]
        },
        {
          "metadata": {
            "tags": null
          },
          "name": "stderr",
          "output_type": "stream",
          "text": [
            "epoch 230: 100%|██████████| 282/282 [00:08<00:00, 32.19it/s]\n"
          ]
        },
        {
          "metadata": {
            "tags": null
          },
          "name": "stdout",
          "output_type": "stream",
          "text": [
            "validation loss: 0.004533714844120873 at epoch 231\n",
            "learning_rate: 0.0010240000000000002\n"
          ]
        },
        {
          "metadata": {
            "tags": null
          },
          "name": "stderr",
          "output_type": "stream",
          "text": [
            "epoch 231: 100%|██████████| 282/282 [00:08<00:00, 32.95it/s]\n"
          ]
        },
        {
          "metadata": {
            "tags": null
          },
          "name": "stdout",
          "output_type": "stream",
          "text": [
            "validation loss: 0.00420365662044949 at epoch 232\n",
            "learning_rate: 0.0010240000000000002\n"
          ]
        },
        {
          "metadata": {
            "tags": null
          },
          "name": "stderr",
          "output_type": "stream",
          "text": [
            "epoch 232: 100%|██████████| 282/282 [00:07<00:00, 35.49it/s]\n"
          ]
        },
        {
          "metadata": {
            "tags": null
          },
          "name": "stdout",
          "output_type": "stream",
          "text": [
            "validation loss: 0.0034324670251872805 at epoch 233\n",
            "learning_rate: 0.0010240000000000002\n"
          ]
        },
        {
          "metadata": {
            "tags": null
          },
          "name": "stderr",
          "output_type": "stream",
          "text": [
            "epoch 233: 100%|██████████| 282/282 [00:07<00:00, 35.98it/s]\n"
          ]
        },
        {
          "metadata": {
            "tags": null
          },
          "name": "stdout",
          "output_type": "stream",
          "text": [
            "validation loss: 0.001785615907775031 at epoch 234\n",
            "learning_rate: 0.0008192000000000002\n",
            "model saved in ani_acrolein.pt\n"
          ]
        },
        {
          "metadata": {
            "tags": null
          },
          "name": "stderr",
          "output_type": "stream",
          "text": [
            "epoch 234: 100%|██████████| 282/282 [00:08<00:00, 33.49it/s]\n"
          ]
        },
        {
          "metadata": {
            "tags": null
          },
          "name": "stdout",
          "output_type": "stream",
          "text": [
            "validation loss: 0.002057060052951177 at epoch 235\n",
            "learning_rate: 0.0008192000000000002\n"
          ]
        },
        {
          "metadata": {
            "tags": null
          },
          "name": "stderr",
          "output_type": "stream",
          "text": [
            "epoch 235: 100%|██████████| 282/282 [00:08<00:00, 35.05it/s]\n"
          ]
        },
        {
          "metadata": {
            "tags": null
          },
          "name": "stdout",
          "output_type": "stream",
          "text": [
            "validation loss: 0.0019234744881590207 at epoch 236\n",
            "learning_rate: 0.0008192000000000002\n"
          ]
        },
        {
          "metadata": {
            "tags": null
          },
          "name": "stderr",
          "output_type": "stream",
          "text": [
            "epoch 236: 100%|██████████| 282/282 [00:07<00:00, 37.04it/s]\n"
          ]
        },
        {
          "metadata": {
            "tags": null
          },
          "name": "stdout",
          "output_type": "stream",
          "text": [
            "validation loss: 0.0017463691375321812 at epoch 237\n",
            "learning_rate: 0.0008192000000000002\n",
            "model saved in ani_acrolein.pt\n"
          ]
        },
        {
          "metadata": {
            "tags": null
          },
          "name": "stderr",
          "output_type": "stream",
          "text": [
            "epoch 237: 100%|██████████| 282/282 [00:08<00:00, 33.76it/s]\n"
          ]
        },
        {
          "metadata": {
            "tags": null
          },
          "name": "stdout",
          "output_type": "stream",
          "text": [
            "validation loss: 0.0017824224539928965 at epoch 238\n",
            "learning_rate: 0.0008192000000000002\n"
          ]
        },
        {
          "metadata": {
            "tags": null
          },
          "name": "stderr",
          "output_type": "stream",
          "text": [
            "epoch 238: 100%|██████████| 282/282 [00:08<00:00, 32.48it/s]\n"
          ]
        },
        {
          "metadata": {
            "tags": null
          },
          "name": "stdout",
          "output_type": "stream",
          "text": [
            "validation loss: 0.010332623653941685 at epoch 239\n",
            "learning_rate: 0.0008192000000000002\n"
          ]
        },
        {
          "metadata": {
            "tags": null
          },
          "name": "stderr",
          "output_type": "stream",
          "text": [
            "epoch 239: 100%|██████████| 282/282 [00:07<00:00, 36.57it/s]\n"
          ]
        },
        {
          "metadata": {
            "tags": null
          },
          "name": "stdout",
          "output_type": "stream",
          "text": [
            "validation loss: 0.0024551202886634402 at epoch 240\n",
            "learning_rate: 0.0008192000000000002\n"
          ]
        },
        {
          "metadata": {
            "tags": null
          },
          "name": "stderr",
          "output_type": "stream",
          "text": [
            "epoch 240: 100%|██████████| 282/282 [00:08<00:00, 33.18it/s]\n"
          ]
        },
        {
          "metadata": {
            "tags": null
          },
          "name": "stdout",
          "output_type": "stream",
          "text": [
            "validation loss: 0.002361492604017258 at epoch 241\n",
            "learning_rate: 0.0008192000000000002\n"
          ]
        },
        {
          "metadata": {
            "tags": null
          },
          "name": "stderr",
          "output_type": "stream",
          "text": [
            "epoch 241: 100%|██████████| 282/282 [00:08<00:00, 33.00it/s]\n"
          ]
        },
        {
          "metadata": {
            "tags": null
          },
          "name": "stdout",
          "output_type": "stream",
          "text": [
            "validation loss: 0.0017142835118704371 at epoch 242\n",
            "learning_rate: 0.0008192000000000002\n",
            "model saved in ani_acrolein.pt\n"
          ]
        },
        {
          "metadata": {
            "tags": null
          },
          "name": "stderr",
          "output_type": "stream",
          "text": [
            "epoch 242: 100%|██████████| 282/282 [00:07<00:00, 37.12it/s]\n"
          ]
        },
        {
          "metadata": {
            "tags": null
          },
          "name": "stdout",
          "output_type": "stream",
          "text": [
            "validation loss: 0.003913712869087855 at epoch 243\n",
            "learning_rate: 0.0008192000000000002\n"
          ]
        },
        {
          "metadata": {
            "tags": null
          },
          "name": "stderr",
          "output_type": "stream",
          "text": [
            "epoch 243: 100%|██████████| 282/282 [00:08<00:00, 33.69it/s]\n"
          ]
        },
        {
          "metadata": {
            "tags": null
          },
          "name": "stdout",
          "output_type": "stream",
          "text": [
            "validation loss: 0.0020854111827082102 at epoch 244\n",
            "learning_rate: 0.0008192000000000002\n"
          ]
        },
        {
          "metadata": {
            "tags": null
          },
          "name": "stderr",
          "output_type": "stream",
          "text": [
            "epoch 244: 100%|██████████| 282/282 [00:08<00:00, 33.90it/s]\n"
          ]
        },
        {
          "metadata": {
            "tags": null
          },
          "name": "stdout",
          "output_type": "stream",
          "text": [
            "validation loss: 0.007668951981597476 at epoch 245\n",
            "learning_rate: 0.0008192000000000002\n"
          ]
        },
        {
          "metadata": {
            "tags": null
          },
          "name": "stderr",
          "output_type": "stream",
          "text": [
            "epoch 245: 100%|██████████| 282/282 [00:07<00:00, 36.10it/s]\n"
          ]
        },
        {
          "metadata": {
            "tags": null
          },
          "name": "stdout",
          "output_type": "stream",
          "text": [
            "validation loss: 0.007844405485524071 at epoch 246\n",
            "learning_rate: 0.0008192000000000002\n"
          ]
        },
        {
          "metadata": {
            "tags": null
          },
          "name": "stderr",
          "output_type": "stream",
          "text": [
            "epoch 246: 100%|██████████| 282/282 [00:07<00:00, 35.66it/s]\n"
          ]
        },
        {
          "metadata": {
            "tags": null
          },
          "name": "stdout",
          "output_type": "stream",
          "text": [
            "validation loss: 0.0017812716058558887 at epoch 247\n",
            "learning_rate: 0.0008192000000000002\n"
          ]
        },
        {
          "metadata": {
            "tags": null
          },
          "name": "stderr",
          "output_type": "stream",
          "text": [
            "epoch 247: 100%|██████████| 282/282 [00:08<00:00, 34.18it/s]\n"
          ]
        },
        {
          "metadata": {
            "tags": null
          },
          "name": "stdout",
          "output_type": "stream",
          "text": [
            "validation loss: 0.0018560881035195457 at epoch 248\n",
            "learning_rate: 0.0008192000000000002\n"
          ]
        },
        {
          "metadata": {
            "tags": null
          },
          "name": "stderr",
          "output_type": "stream",
          "text": [
            "epoch 248: 100%|██████████| 282/282 [00:07<00:00, 35.28it/s]\n"
          ]
        },
        {
          "metadata": {
            "tags": null
          },
          "name": "stdout",
          "output_type": "stream",
          "text": [
            "validation loss: 0.0017270928530229463 at epoch 249\n",
            "learning_rate: 0.0008192000000000002\n"
          ]
        },
        {
          "metadata": {
            "tags": null
          },
          "name": "stderr",
          "output_type": "stream",
          "text": [
            "epoch 249: 100%|██████████| 282/282 [00:07<00:00, 37.23it/s]\n"
          ]
        },
        {
          "metadata": {
            "tags": null
          },
          "name": "stdout",
          "output_type": "stream",
          "text": [
            "validation loss: 0.005102373133103052 at epoch 250\n",
            "learning_rate: 0.0008192000000000002\n"
          ]
        },
        {
          "metadata": {
            "tags": null
          },
          "name": "stderr",
          "output_type": "stream",
          "text": [
            "epoch 250: 100%|██████████| 282/282 [00:08<00:00, 33.35it/s]\n"
          ]
        },
        {
          "metadata": {
            "tags": null
          },
          "name": "stdout",
          "output_type": "stream",
          "text": [
            "validation loss: 0.0019608704811996886 at epoch 251\n",
            "learning_rate: 0.0008192000000000002\n"
          ]
        },
        {
          "metadata": {
            "tags": null
          },
          "name": "stderr",
          "output_type": "stream",
          "text": [
            "epoch 251: 100%|██████████| 282/282 [00:08<00:00, 33.63it/s]\n"
          ]
        },
        {
          "metadata": {
            "tags": null
          },
          "name": "stdout",
          "output_type": "stream",
          "text": [
            "validation loss: 0.0019245802180634605 at epoch 252\n",
            "learning_rate: 0.0008192000000000002\n"
          ]
        },
        {
          "metadata": {
            "tags": null
          },
          "name": "stderr",
          "output_type": "stream",
          "text": [
            "epoch 252: 100%|██████████| 282/282 [00:07<00:00, 36.73it/s]\n"
          ]
        },
        {
          "metadata": {
            "tags": null
          },
          "name": "stdout",
          "output_type": "stream",
          "text": [
            "validation loss: 0.004033104028966692 at epoch 253\n",
            "learning_rate: 0.0008192000000000002\n"
          ]
        },
        {
          "metadata": {
            "tags": null
          },
          "name": "stderr",
          "output_type": "stream",
          "text": [
            "epoch 253: 100%|██████████| 282/282 [00:08<00:00, 33.67it/s]\n"
          ]
        },
        {
          "metadata": {
            "tags": null
          },
          "name": "stdout",
          "output_type": "stream",
          "text": [
            "validation loss: 0.0034846814589367973 at epoch 254\n",
            "learning_rate: 0.0008192000000000002\n"
          ]
        },
        {
          "metadata": {
            "tags": null
          },
          "name": "stderr",
          "output_type": "stream",
          "text": [
            "epoch 254: 100%|██████████| 282/282 [00:08<00:00, 33.59it/s]\n"
          ]
        },
        {
          "metadata": {
            "tags": null
          },
          "name": "stdout",
          "output_type": "stream",
          "text": [
            "validation loss: 0.001857867801354991 at epoch 255\n",
            "learning_rate: 0.0008192000000000002\n"
          ]
        },
        {
          "metadata": {
            "tags": null
          },
          "name": "stderr",
          "output_type": "stream",
          "text": [
            "epoch 255: 100%|██████████| 282/282 [00:07<00:00, 37.35it/s]\n"
          ]
        },
        {
          "metadata": {
            "tags": null
          },
          "name": "stdout",
          "output_type": "stream",
          "text": [
            "validation loss: 0.002189194315837489 at epoch 256\n",
            "learning_rate: 0.0008192000000000002\n"
          ]
        },
        {
          "metadata": {
            "tags": null
          },
          "name": "stderr",
          "output_type": "stream",
          "text": [
            "epoch 256: 100%|██████████| 282/282 [00:08<00:00, 34.21it/s]\n"
          ]
        },
        {
          "metadata": {
            "tags": null
          },
          "name": "stdout",
          "output_type": "stream",
          "text": [
            "validation loss: 0.001911771113673846 at epoch 257\n",
            "learning_rate: 0.0008192000000000002\n"
          ]
        },
        {
          "metadata": {
            "tags": null
          },
          "name": "stderr",
          "output_type": "stream",
          "text": [
            "epoch 257: 100%|██████████| 282/282 [00:08<00:00, 34.22it/s]\n"
          ]
        },
        {
          "metadata": {
            "tags": null
          },
          "name": "stdout",
          "output_type": "stream",
          "text": [
            "validation loss: 0.0017587098595168856 at epoch 258\n",
            "learning_rate: 0.0008192000000000002\n"
          ]
        },
        {
          "metadata": {
            "tags": null
          },
          "name": "stderr",
          "output_type": "stream",
          "text": [
            "epoch 258: 100%|██████████| 282/282 [00:07<00:00, 38.09it/s]\n"
          ]
        },
        {
          "metadata": {
            "tags": null
          },
          "name": "stdout",
          "output_type": "stream",
          "text": [
            "validation loss: 0.002701899210611979 at epoch 259\n",
            "learning_rate: 0.0008192000000000002\n"
          ]
        },
        {
          "metadata": {
            "tags": null
          },
          "name": "stderr",
          "output_type": "stream",
          "text": [
            "epoch 259: 100%|██████████| 282/282 [00:08<00:00, 33.64it/s]\n"
          ]
        },
        {
          "metadata": {
            "tags": null
          },
          "name": "stdout",
          "output_type": "stream",
          "text": [
            "validation loss: 0.0036168891886870064 at epoch 260\n",
            "learning_rate: 0.0008192000000000002\n"
          ]
        },
        {
          "metadata": {
            "tags": null
          },
          "name": "stderr",
          "output_type": "stream",
          "text": [
            "epoch 260: 100%|██████████| 282/282 [00:08<00:00, 33.71it/s]\n"
          ]
        },
        {
          "metadata": {
            "tags": null
          },
          "name": "stdout",
          "output_type": "stream",
          "text": [
            "validation loss: 0.0018287428095936774 at epoch 261\n",
            "learning_rate: 0.0008192000000000002\n"
          ]
        },
        {
          "metadata": {
            "tags": null
          },
          "name": "stderr",
          "output_type": "stream",
          "text": [
            "epoch 261: 100%|██████████| 282/282 [00:07<00:00, 37.42it/s]\n"
          ]
        },
        {
          "metadata": {
            "tags": null
          },
          "name": "stdout",
          "output_type": "stream",
          "text": [
            "validation loss: 0.0017525357198384074 at epoch 262\n",
            "learning_rate: 0.0008192000000000002\n"
          ]
        },
        {
          "metadata": {
            "tags": null
          },
          "name": "stderr",
          "output_type": "stream",
          "text": [
            "epoch 262: 100%|██████████| 282/282 [00:08<00:00, 33.86it/s]\n"
          ]
        },
        {
          "metadata": {
            "tags": null
          },
          "name": "stdout",
          "output_type": "stream",
          "text": [
            "validation loss: 0.001879579627679454 at epoch 263\n",
            "learning_rate: 0.0008192000000000002\n"
          ]
        },
        {
          "metadata": {
            "tags": null
          },
          "name": "stderr",
          "output_type": "stream",
          "text": [
            "epoch 263: 100%|██████████| 282/282 [00:08<00:00, 33.79it/s]\n"
          ]
        },
        {
          "metadata": {
            "tags": null
          },
          "name": "stdout",
          "output_type": "stream",
          "text": [
            "validation loss: 0.0024073665688435237 at epoch 264\n",
            "learning_rate: 0.0008192000000000002\n"
          ]
        },
        {
          "metadata": {
            "tags": null
          },
          "name": "stderr",
          "output_type": "stream",
          "text": [
            "epoch 264: 100%|██████████| 282/282 [00:07<00:00, 36.76it/s]\n"
          ]
        },
        {
          "metadata": {
            "tags": null
          },
          "name": "stdout",
          "output_type": "stream",
          "text": [
            "validation loss: 0.0018293619611197047 at epoch 265\n",
            "learning_rate: 0.0008192000000000002\n"
          ]
        },
        {
          "metadata": {
            "tags": null
          },
          "name": "stderr",
          "output_type": "stream",
          "text": [
            "epoch 265: 100%|██████████| 282/282 [00:08<00:00, 33.86it/s]\n"
          ]
        },
        {
          "metadata": {
            "tags": null
          },
          "name": "stdout",
          "output_type": "stream",
          "text": [
            "validation loss: 0.0022817169154683748 at epoch 266\n",
            "learning_rate: 0.0008192000000000002\n"
          ]
        },
        {
          "metadata": {
            "tags": null
          },
          "name": "stderr",
          "output_type": "stream",
          "text": [
            "epoch 266: 100%|██████████| 282/282 [00:08<00:00, 33.37it/s]\n"
          ]
        },
        {
          "metadata": {
            "tags": null
          },
          "name": "stdout",
          "output_type": "stream",
          "text": [
            "validation loss: 0.0022613266706466677 at epoch 267\n",
            "learning_rate: 0.0008192000000000002\n"
          ]
        },
        {
          "metadata": {
            "tags": null
          },
          "name": "stderr",
          "output_type": "stream",
          "text": [
            "epoch 267: 100%|██████████| 282/282 [00:07<00:00, 35.69it/s]\n"
          ]
        },
        {
          "metadata": {
            "tags": null
          },
          "name": "stdout",
          "output_type": "stream",
          "text": [
            "validation loss: 0.0016998837913076083 at epoch 268\n",
            "learning_rate: 0.0008192000000000002\n",
            "model saved in ani_acrolein.pt\n"
          ]
        },
        {
          "metadata": {
            "tags": null
          },
          "name": "stderr",
          "output_type": "stream",
          "text": [
            "epoch 268: 100%|██████████| 282/282 [00:08<00:00, 34.93it/s]\n"
          ]
        },
        {
          "metadata": {
            "tags": null
          },
          "name": "stdout",
          "output_type": "stream",
          "text": [
            "validation loss: 0.00180891462498241 at epoch 269\n",
            "learning_rate: 0.0008192000000000002\n"
          ]
        },
        {
          "metadata": {
            "tags": null
          },
          "name": "stderr",
          "output_type": "stream",
          "text": [
            "epoch 269: 100%|██████████| 282/282 [00:08<00:00, 32.52it/s]\n"
          ]
        },
        {
          "metadata": {
            "tags": null
          },
          "name": "stdout",
          "output_type": "stream",
          "text": [
            "validation loss: 0.0041607759197553 at epoch 270\n",
            "learning_rate: 0.0008192000000000002\n"
          ]
        },
        {
          "metadata": {
            "tags": null
          },
          "name": "stderr",
          "output_type": "stream",
          "text": [
            "epoch 270: 100%|██████████| 282/282 [00:08<00:00, 34.71it/s]\n"
          ]
        },
        {
          "metadata": {
            "tags": null
          },
          "name": "stdout",
          "output_type": "stream",
          "text": [
            "validation loss: 0.005762312716907925 at epoch 271\n",
            "learning_rate: 0.0008192000000000002\n"
          ]
        },
        {
          "metadata": {
            "tags": null
          },
          "name": "stderr",
          "output_type": "stream",
          "text": [
            "epoch 271: 100%|██████████| 282/282 [00:07<00:00, 36.44it/s]\n"
          ]
        },
        {
          "metadata": {
            "tags": null
          },
          "name": "stdout",
          "output_type": "stream",
          "text": [
            "validation loss: 0.0028034595002730685 at epoch 272\n",
            "learning_rate: 0.0008192000000000002\n"
          ]
        },
        {
          "metadata": {
            "tags": null
          },
          "name": "stderr",
          "output_type": "stream",
          "text": [
            "epoch 272: 100%|██████████| 282/282 [00:08<00:00, 33.05it/s]\n"
          ]
        },
        {
          "metadata": {
            "tags": null
          },
          "name": "stdout",
          "output_type": "stream",
          "text": [
            "validation loss: 0.0022515487372875213 at epoch 273\n",
            "learning_rate: 0.0008192000000000002\n"
          ]
        },
        {
          "metadata": {
            "tags": null
          },
          "name": "stderr",
          "output_type": "stream",
          "text": [
            "epoch 273: 100%|██████████| 282/282 [00:08<00:00, 33.18it/s]\n"
          ]
        },
        {
          "metadata": {
            "tags": null
          },
          "name": "stdout",
          "output_type": "stream",
          "text": [
            "validation loss: 0.0030747243530220457 at epoch 274\n",
            "learning_rate: 0.0008192000000000002\n"
          ]
        },
        {
          "metadata": {
            "tags": null
          },
          "name": "stderr",
          "output_type": "stream",
          "text": [
            "epoch 274: 100%|██████████| 282/282 [00:07<00:00, 36.85it/s]\n"
          ]
        },
        {
          "metadata": {
            "tags": null
          },
          "name": "stdout",
          "output_type": "stream",
          "text": [
            "validation loss: 0.0024017319563362336 at epoch 275\n",
            "learning_rate: 0.0008192000000000002\n"
          ]
        },
        {
          "metadata": {
            "tags": null
          },
          "name": "stderr",
          "output_type": "stream",
          "text": [
            "epoch 275: 100%|██████████| 282/282 [00:08<00:00, 33.73it/s]\n"
          ]
        },
        {
          "metadata": {
            "tags": null
          },
          "name": "stdout",
          "output_type": "stream",
          "text": [
            "validation loss: 0.002727420159512096 at epoch 276\n",
            "learning_rate: 0.0008192000000000002\n"
          ]
        },
        {
          "metadata": {
            "tags": null
          },
          "name": "stderr",
          "output_type": "stream",
          "text": [
            "epoch 276: 100%|██████████| 282/282 [00:08<00:00, 33.41it/s]\n"
          ]
        },
        {
          "metadata": {
            "tags": null
          },
          "name": "stdout",
          "output_type": "stream",
          "text": [
            "validation loss: 0.003438043758273125 at epoch 277\n",
            "learning_rate: 0.0008192000000000002\n"
          ]
        },
        {
          "metadata": {
            "tags": null
          },
          "name": "stderr",
          "output_type": "stream",
          "text": [
            "epoch 277: 100%|██████████| 282/282 [00:07<00:00, 37.16it/s]\n"
          ]
        },
        {
          "metadata": {
            "tags": null
          },
          "name": "stdout",
          "output_type": "stream",
          "text": [
            "validation loss: 0.0019206445184018876 at epoch 278\n",
            "learning_rate: 0.0008192000000000002\n"
          ]
        },
        {
          "metadata": {
            "tags": null
          },
          "name": "stderr",
          "output_type": "stream",
          "text": [
            "epoch 278: 100%|██████████| 282/282 [00:08<00:00, 33.35it/s]\n"
          ]
        },
        {
          "metadata": {
            "tags": null
          },
          "name": "stdout",
          "output_type": "stream",
          "text": [
            "validation loss: 0.0019166529253125191 at epoch 279\n",
            "learning_rate: 0.0008192000000000002\n"
          ]
        },
        {
          "metadata": {
            "tags": null
          },
          "name": "stderr",
          "output_type": "stream",
          "text": [
            "epoch 279: 100%|██████████| 282/282 [00:08<00:00, 33.57it/s]\n"
          ]
        },
        {
          "metadata": {
            "tags": null
          },
          "name": "stdout",
          "output_type": "stream",
          "text": [
            "validation loss: 0.0020013639860683016 at epoch 280\n",
            "learning_rate: 0.0008192000000000002\n"
          ]
        },
        {
          "metadata": {
            "tags": null
          },
          "name": "stderr",
          "output_type": "stream",
          "text": [
            "epoch 280: 100%|██████████| 282/282 [00:07<00:00, 36.57it/s]\n"
          ]
        },
        {
          "metadata": {
            "tags": null
          },
          "name": "stdout",
          "output_type": "stream",
          "text": [
            "validation loss: 0.0021492131484879386 at epoch 281\n",
            "learning_rate: 0.0008192000000000002\n"
          ]
        },
        {
          "metadata": {
            "tags": null
          },
          "name": "stderr",
          "output_type": "stream",
          "text": [
            "epoch 281: 100%|██████████| 282/282 [00:08<00:00, 34.14it/s]\n"
          ]
        },
        {
          "metadata": {
            "tags": null
          },
          "name": "stdout",
          "output_type": "stream",
          "text": [
            "validation loss: 0.0028297005130185023 at epoch 282\n",
            "learning_rate: 0.0008192000000000002\n"
          ]
        },
        {
          "metadata": {
            "tags": null
          },
          "name": "stderr",
          "output_type": "stream",
          "text": [
            "epoch 282: 100%|██████████| 282/282 [00:08<00:00, 33.25it/s]\n"
          ]
        },
        {
          "metadata": {
            "tags": null
          },
          "name": "stdout",
          "output_type": "stream",
          "text": [
            "validation loss: 0.0031008985572391085 at epoch 283\n",
            "learning_rate: 0.0008192000000000002\n"
          ]
        },
        {
          "metadata": {
            "tags": null
          },
          "name": "stderr",
          "output_type": "stream",
          "text": [
            "epoch 283: 100%|██████████| 282/282 [00:08<00:00, 35.07it/s]\n"
          ]
        },
        {
          "metadata": {
            "tags": null
          },
          "name": "stdout",
          "output_type": "stream",
          "text": [
            "validation loss: 0.0026220447106493844 at epoch 284\n",
            "learning_rate: 0.0008192000000000002\n"
          ]
        },
        {
          "metadata": {
            "tags": null
          },
          "name": "stderr",
          "output_type": "stream",
          "text": [
            "epoch 284: 100%|██████████| 282/282 [00:07<00:00, 36.36it/s]\n"
          ]
        },
        {
          "metadata": {
            "tags": null
          },
          "name": "stdout",
          "output_type": "stream",
          "text": [
            "validation loss: 0.002848865316973792 at epoch 285\n",
            "learning_rate: 0.0008192000000000002\n"
          ]
        },
        {
          "metadata": {
            "tags": null
          },
          "name": "stderr",
          "output_type": "stream",
          "text": [
            "epoch 285: 100%|██████████| 282/282 [00:08<00:00, 33.03it/s]\n"
          ]
        },
        {
          "metadata": {
            "tags": null
          },
          "name": "stdout",
          "output_type": "stream",
          "text": [
            "validation loss: 0.002251199712355932 at epoch 286\n",
            "learning_rate: 0.0008192000000000002\n"
          ]
        },
        {
          "metadata": {
            "tags": null
          },
          "name": "stderr",
          "output_type": "stream",
          "text": [
            "epoch 286: 100%|██████████| 282/282 [00:08<00:00, 33.16it/s]\n"
          ]
        },
        {
          "metadata": {
            "tags": null
          },
          "name": "stdout",
          "output_type": "stream",
          "text": [
            "validation loss: 0.0017345624475015534 at epoch 287\n",
            "learning_rate: 0.0008192000000000002\n"
          ]
        },
        {
          "metadata": {
            "tags": null
          },
          "name": "stderr",
          "output_type": "stream",
          "text": [
            "epoch 287: 100%|██████████| 282/282 [00:07<00:00, 37.00it/s]\n"
          ]
        },
        {
          "metadata": {
            "tags": null
          },
          "name": "stdout",
          "output_type": "stream",
          "text": [
            "validation loss: 0.00377547800872061 at epoch 288\n",
            "learning_rate: 0.0008192000000000002\n"
          ]
        },
        {
          "metadata": {
            "tags": null
          },
          "name": "stderr",
          "output_type": "stream",
          "text": [
            "epoch 288: 100%|██████████| 282/282 [00:08<00:00, 33.58it/s]\n"
          ]
        },
        {
          "metadata": {
            "tags": null
          },
          "name": "stdout",
          "output_type": "stream",
          "text": [
            "validation loss: 0.002796716231438849 at epoch 289\n",
            "learning_rate: 0.0008192000000000002\n"
          ]
        },
        {
          "metadata": {
            "tags": null
          },
          "name": "stderr",
          "output_type": "stream",
          "text": [
            "epoch 289: 100%|██████████| 282/282 [00:08<00:00, 33.03it/s]\n"
          ]
        },
        {
          "metadata": {
            "tags": null
          },
          "name": "stdout",
          "output_type": "stream",
          "text": [
            "validation loss: 0.0018905380451016956 at epoch 290\n",
            "learning_rate: 0.0008192000000000002\n"
          ]
        },
        {
          "metadata": {
            "tags": null
          },
          "name": "stderr",
          "output_type": "stream",
          "text": [
            "epoch 290: 100%|██████████| 282/282 [00:07<00:00, 36.47it/s]\n"
          ]
        },
        {
          "metadata": {
            "tags": null
          },
          "name": "stdout",
          "output_type": "stream",
          "text": [
            "validation loss: 0.0024380031906896167 at epoch 291\n",
            "learning_rate: 0.0008192000000000002\n"
          ]
        },
        {
          "metadata": {
            "tags": null
          },
          "name": "stderr",
          "output_type": "stream",
          "text": [
            "epoch 291: 100%|██████████| 282/282 [00:08<00:00, 32.87it/s]\n"
          ]
        },
        {
          "metadata": {
            "tags": null
          },
          "name": "stdout",
          "output_type": "stream",
          "text": [
            "validation loss: 0.003722649138834741 at epoch 292\n",
            "learning_rate: 0.0008192000000000002\n"
          ]
        },
        {
          "metadata": {
            "tags": null
          },
          "name": "stderr",
          "output_type": "stream",
          "text": [
            "epoch 292: 100%|██████████| 282/282 [00:08<00:00, 33.45it/s]\n"
          ]
        },
        {
          "metadata": {
            "tags": null
          },
          "name": "stdout",
          "output_type": "stream",
          "text": [
            "validation loss: 0.005332188983758291 at epoch 293\n",
            "learning_rate: 0.0008192000000000002\n"
          ]
        },
        {
          "metadata": {
            "tags": null
          },
          "name": "stderr",
          "output_type": "stream",
          "text": [
            "epoch 293: 100%|██████████| 282/282 [00:07<00:00, 36.62it/s]\n"
          ]
        },
        {
          "metadata": {
            "tags": null
          },
          "name": "stdout",
          "output_type": "stream",
          "text": [
            "validation loss: 0.00628368713789516 at epoch 294\n",
            "learning_rate: 0.0008192000000000002\n"
          ]
        },
        {
          "metadata": {
            "tags": null
          },
          "name": "stderr",
          "output_type": "stream",
          "text": [
            "epoch 294: 100%|██████████| 282/282 [00:08<00:00, 34.09it/s]\n"
          ]
        },
        {
          "metadata": {
            "tags": null
          },
          "name": "stdout",
          "output_type": "stream",
          "text": [
            "validation loss: 0.0023412773112456006 at epoch 295\n",
            "learning_rate: 0.0008192000000000002\n"
          ]
        },
        {
          "metadata": {
            "tags": null
          },
          "name": "stderr",
          "output_type": "stream",
          "text": [
            "epoch 295: 100%|██████████| 282/282 [00:08<00:00, 33.39it/s]\n"
          ]
        },
        {
          "metadata": {
            "tags": null
          },
          "name": "stdout",
          "output_type": "stream",
          "text": [
            "validation loss: 0.0043710365030500626 at epoch 296\n",
            "learning_rate: 0.0008192000000000002\n"
          ]
        },
        {
          "metadata": {
            "tags": null
          },
          "name": "stderr",
          "output_type": "stream",
          "text": [
            "epoch 296: 100%|██████████| 282/282 [00:07<00:00, 36.11it/s]\n"
          ]
        },
        {
          "metadata": {
            "tags": null
          },
          "name": "stdout",
          "output_type": "stream",
          "text": [
            "validation loss: 0.003194931219021479 at epoch 297\n",
            "learning_rate: 0.0008192000000000002\n"
          ]
        },
        {
          "metadata": {
            "tags": null
          },
          "name": "stderr",
          "output_type": "stream",
          "text": [
            "epoch 297: 100%|██████████| 282/282 [00:07<00:00, 35.64it/s]\n"
          ]
        },
        {
          "metadata": {
            "tags": null
          },
          "name": "stdout",
          "output_type": "stream",
          "text": [
            "validation loss: 0.0019492492857906554 at epoch 298\n",
            "learning_rate: 0.0008192000000000002\n"
          ]
        },
        {
          "metadata": {
            "tags": null
          },
          "name": "stderr",
          "output_type": "stream",
          "text": [
            "epoch 298: 100%|██████████| 282/282 [00:08<00:00, 33.44it/s]\n"
          ]
        },
        {
          "metadata": {
            "tags": null
          },
          "name": "stdout",
          "output_type": "stream",
          "text": [
            "validation loss: 0.0033118213564157484 at epoch 299\n",
            "learning_rate: 0.0008192000000000002\n"
          ]
        },
        {
          "metadata": {
            "tags": null
          },
          "name": "stderr",
          "output_type": "stream",
          "text": [
            "epoch 299: 100%|██████████| 282/282 [00:08<00:00, 33.79it/s]\n"
          ]
        },
        {
          "metadata": {
            "tags": null
          },
          "name": "stdout",
          "output_type": "stream",
          "text": [
            "validation loss: 0.002157895223961936 at epoch 300\n",
            "learning_rate: 0.0008192000000000002\n"
          ]
        },
        {
          "metadata": {
            "tags": null
          },
          "name": "stderr",
          "output_type": "stream",
          "text": [
            "epoch 300: 100%|██████████| 282/282 [00:07<00:00, 36.77it/s]\n"
          ]
        },
        {
          "metadata": {
            "tags": null
          },
          "name": "stdout",
          "output_type": "stream",
          "text": [
            "validation loss: 0.005325500809484058 at epoch 301\n",
            "learning_rate: 0.0008192000000000002\n"
          ]
        },
        {
          "metadata": {
            "tags": null
          },
          "name": "stderr",
          "output_type": "stream",
          "text": [
            "epoch 301: 100%|██████████| 282/282 [00:08<00:00, 33.37it/s]\n"
          ]
        },
        {
          "metadata": {
            "tags": null
          },
          "name": "stdout",
          "output_type": "stream",
          "text": [
            "validation loss: 0.006292980641126633 at epoch 302\n",
            "learning_rate: 0.0008192000000000002\n"
          ]
        },
        {
          "metadata": {
            "tags": null
          },
          "name": "stderr",
          "output_type": "stream",
          "text": [
            "epoch 302: 100%|██████████| 282/282 [00:08<00:00, 33.15it/s]\n"
          ]
        },
        {
          "metadata": {
            "tags": null
          },
          "name": "stdout",
          "output_type": "stream",
          "text": [
            "validation loss: 0.00392207846376631 at epoch 303\n",
            "learning_rate: 0.0008192000000000002\n"
          ]
        },
        {
          "metadata": {
            "tags": null
          },
          "name": "stderr",
          "output_type": "stream",
          "text": [
            "epoch 303: 100%|██████████| 282/282 [00:07<00:00, 36.58it/s]\n"
          ]
        },
        {
          "metadata": {
            "tags": null
          },
          "name": "stdout",
          "output_type": "stream",
          "text": [
            "validation loss: 0.0033996492922306063 at epoch 304\n",
            "learning_rate: 0.0008192000000000002\n"
          ]
        },
        {
          "metadata": {
            "tags": null
          },
          "name": "stderr",
          "output_type": "stream",
          "text": [
            "epoch 304: 100%|██████████| 282/282 [00:08<00:00, 33.58it/s]\n"
          ]
        },
        {
          "metadata": {
            "tags": null
          },
          "name": "stdout",
          "output_type": "stream",
          "text": [
            "validation loss: 0.0054130600425932145 at epoch 305\n",
            "learning_rate: 0.0008192000000000002\n"
          ]
        },
        {
          "metadata": {
            "tags": null
          },
          "name": "stderr",
          "output_type": "stream",
          "text": [
            "epoch 305: 100%|██████████| 282/282 [00:08<00:00, 33.41it/s]\n"
          ]
        },
        {
          "metadata": {
            "tags": null
          },
          "name": "stdout",
          "output_type": "stream",
          "text": [
            "validation loss: 0.0028691020872857837 at epoch 306\n",
            "learning_rate: 0.0008192000000000002\n"
          ]
        },
        {
          "metadata": {
            "tags": null
          },
          "name": "stderr",
          "output_type": "stream",
          "text": [
            "epoch 306: 100%|██████████| 282/282 [00:07<00:00, 37.12it/s]\n"
          ]
        },
        {
          "metadata": {
            "tags": null
          },
          "name": "stdout",
          "output_type": "stream",
          "text": [
            "validation loss: 0.0039019964039325714 at epoch 307\n",
            "learning_rate: 0.0008192000000000002\n"
          ]
        },
        {
          "metadata": {
            "tags": null
          },
          "name": "stderr",
          "output_type": "stream",
          "text": [
            "epoch 307: 100%|██████████| 282/282 [00:08<00:00, 33.44it/s]\n"
          ]
        },
        {
          "metadata": {
            "tags": null
          },
          "name": "stdout",
          "output_type": "stream",
          "text": [
            "validation loss: 0.003387436552180184 at epoch 308\n",
            "learning_rate: 0.0008192000000000002\n"
          ]
        },
        {
          "metadata": {
            "tags": null
          },
          "name": "stderr",
          "output_type": "stream",
          "text": [
            "epoch 308: 100%|██████████| 282/282 [00:08<00:00, 33.78it/s]\n"
          ]
        },
        {
          "metadata": {
            "tags": null
          },
          "name": "stdout",
          "output_type": "stream",
          "text": [
            "validation loss: 0.0034885421974791423 at epoch 309\n",
            "learning_rate: 0.0008192000000000002\n"
          ]
        },
        {
          "metadata": {
            "tags": null
          },
          "name": "stderr",
          "output_type": "stream",
          "text": [
            "epoch 309: 100%|██████████| 282/282 [00:07<00:00, 36.06it/s]\n"
          ]
        },
        {
          "metadata": {
            "tags": null
          },
          "name": "stdout",
          "output_type": "stream",
          "text": [
            "validation loss: 0.0028232033865319356 at epoch 310\n",
            "learning_rate: 0.0008192000000000002\n"
          ]
        },
        {
          "metadata": {
            "tags": null
          },
          "name": "stderr",
          "output_type": "stream",
          "text": [
            "epoch 310: 100%|██████████| 282/282 [00:08<00:00, 35.16it/s]\n"
          ]
        },
        {
          "metadata": {
            "tags": null
          },
          "name": "stdout",
          "output_type": "stream",
          "text": [
            "validation loss: 0.007469112753868103 at epoch 311\n",
            "learning_rate: 0.0008192000000000002\n"
          ]
        },
        {
          "metadata": {
            "tags": null
          },
          "name": "stderr",
          "output_type": "stream",
          "text": [
            "epoch 311: 100%|██████████| 282/282 [00:08<00:00, 33.50it/s]\n"
          ]
        },
        {
          "metadata": {
            "tags": null
          },
          "name": "stdout",
          "output_type": "stream",
          "text": [
            "validation loss: 0.00538231106599172 at epoch 312\n",
            "learning_rate: 0.0008192000000000002\n"
          ]
        },
        {
          "metadata": {
            "tags": null
          },
          "name": "stderr",
          "output_type": "stream",
          "text": [
            "epoch 312: 100%|██████████| 282/282 [00:08<00:00, 34.93it/s]\n"
          ]
        },
        {
          "metadata": {
            "tags": null
          },
          "name": "stdout",
          "output_type": "stream",
          "text": [
            "validation loss: 0.002005510659681426 at epoch 313\n",
            "learning_rate: 0.0008192000000000002\n"
          ]
        },
        {
          "metadata": {
            "tags": null
          },
          "name": "stderr",
          "output_type": "stream",
          "text": [
            "epoch 313: 100%|██████████| 282/282 [00:07<00:00, 36.64it/s]\n"
          ]
        },
        {
          "metadata": {
            "tags": null
          },
          "name": "stdout",
          "output_type": "stream",
          "text": [
            "validation loss: 0.00421272106634246 at epoch 314\n",
            "learning_rate: 0.0008192000000000002\n"
          ]
        },
        {
          "metadata": {
            "tags": null
          },
          "name": "stderr",
          "output_type": "stream",
          "text": [
            "epoch 314: 100%|██████████| 282/282 [00:08<00:00, 34.00it/s]\n"
          ]
        },
        {
          "metadata": {
            "tags": null
          },
          "name": "stdout",
          "output_type": "stream",
          "text": [
            "validation loss: 0.004346330864561929 at epoch 315\n",
            "learning_rate: 0.0008192000000000002\n"
          ]
        },
        {
          "metadata": {
            "tags": null
          },
          "name": "stderr",
          "output_type": "stream",
          "text": [
            "epoch 315: 100%|██████████| 282/282 [00:08<00:00, 33.55it/s]\n"
          ]
        },
        {
          "metadata": {
            "tags": null
          },
          "name": "stdout",
          "output_type": "stream",
          "text": [
            "validation loss: 0.005980898112058639 at epoch 316\n",
            "learning_rate: 0.0008192000000000002\n"
          ]
        },
        {
          "metadata": {
            "tags": null
          },
          "name": "stderr",
          "output_type": "stream",
          "text": [
            "epoch 316: 100%|██████████| 282/282 [00:07<00:00, 36.99it/s]\n"
          ]
        },
        {
          "metadata": {
            "tags": null
          },
          "name": "stdout",
          "output_type": "stream",
          "text": [
            "validation loss: 0.006626617226335737 at epoch 317\n",
            "learning_rate: 0.0008192000000000002\n"
          ]
        },
        {
          "metadata": {
            "tags": null
          },
          "name": "stderr",
          "output_type": "stream",
          "text": [
            "epoch 317: 100%|██████████| 282/282 [00:08<00:00, 33.65it/s]\n"
          ]
        },
        {
          "metadata": {
            "tags": null
          },
          "name": "stdout",
          "output_type": "stream",
          "text": [
            "validation loss: 0.0018743492422832384 at epoch 318\n",
            "learning_rate: 0.0008192000000000002\n"
          ]
        },
        {
          "metadata": {
            "tags": null
          },
          "name": "stderr",
          "output_type": "stream",
          "text": [
            "epoch 318: 100%|██████████| 282/282 [00:08<00:00, 33.65it/s]\n"
          ]
        },
        {
          "metadata": {
            "tags": null
          },
          "name": "stdout",
          "output_type": "stream",
          "text": [
            "validation loss: 0.002337677251961496 at epoch 319\n",
            "learning_rate: 0.0008192000000000002\n"
          ]
        },
        {
          "metadata": {
            "tags": null
          },
          "name": "stderr",
          "output_type": "stream",
          "text": [
            "epoch 319: 100%|██████████| 282/282 [00:07<00:00, 37.31it/s]\n"
          ]
        },
        {
          "metadata": {
            "tags": null
          },
          "name": "stdout",
          "output_type": "stream",
          "text": [
            "validation loss: 0.0020130507010552618 at epoch 320\n",
            "learning_rate: 0.0006553600000000002\n"
          ]
        },
        {
          "metadata": {
            "tags": null
          },
          "name": "stderr",
          "output_type": "stream",
          "text": [
            "epoch 320: 100%|██████████| 282/282 [00:08<00:00, 33.52it/s]\n"
          ]
        },
        {
          "metadata": {
            "tags": null
          },
          "name": "stdout",
          "output_type": "stream",
          "text": [
            "validation loss: 0.0017609999800721804 at epoch 321\n",
            "learning_rate: 0.0006553600000000002\n"
          ]
        },
        {
          "metadata": {
            "tags": null
          },
          "name": "stderr",
          "output_type": "stream",
          "text": [
            "epoch 321: 100%|██████████| 282/282 [00:08<00:00, 33.51it/s]\n"
          ]
        },
        {
          "metadata": {
            "tags": null
          },
          "name": "stdout",
          "output_type": "stream",
          "text": [
            "validation loss: 0.0025499678817060257 at epoch 322\n",
            "learning_rate: 0.0006553600000000002\n"
          ]
        },
        {
          "metadata": {
            "tags": null
          },
          "name": "stderr",
          "output_type": "stream",
          "text": [
            "epoch 322: 100%|██████████| 282/282 [00:07<00:00, 35.92it/s]\n"
          ]
        },
        {
          "metadata": {
            "tags": null
          },
          "name": "stdout",
          "output_type": "stream",
          "text": [
            "validation loss: 0.0018041383806202147 at epoch 323\n",
            "learning_rate: 0.0006553600000000002\n"
          ]
        },
        {
          "metadata": {
            "tags": null
          },
          "name": "stderr",
          "output_type": "stream",
          "text": [
            "epoch 323: 100%|██████████| 282/282 [00:07<00:00, 35.41it/s]\n"
          ]
        },
        {
          "metadata": {
            "tags": null
          },
          "name": "stdout",
          "output_type": "stream",
          "text": [
            "validation loss: 0.0026461883766783607 at epoch 324\n",
            "learning_rate: 0.0006553600000000002\n"
          ]
        },
        {
          "metadata": {
            "tags": null
          },
          "name": "stderr",
          "output_type": "stream",
          "text": [
            "epoch 324: 100%|██████████| 282/282 [00:08<00:00, 32.63it/s]\n"
          ]
        },
        {
          "metadata": {
            "tags": null
          },
          "name": "stdout",
          "output_type": "stream",
          "text": [
            "validation loss: 0.001646400344868501 at epoch 325\n",
            "learning_rate: 0.0006553600000000002\n",
            "model saved in ani_acrolein.pt\n"
          ]
        },
        {
          "metadata": {
            "tags": null
          },
          "name": "stderr",
          "output_type": "stream",
          "text": [
            "epoch 325: 100%|██████████| 282/282 [00:07<00:00, 36.26it/s]\n"
          ]
        },
        {
          "metadata": {
            "tags": null
          },
          "name": "stdout",
          "output_type": "stream",
          "text": [
            "validation loss: 0.0016271325217352972 at epoch 326\n",
            "learning_rate: 0.0006553600000000002\n",
            "model saved in ani_acrolein.pt\n"
          ]
        },
        {
          "metadata": {
            "tags": null
          },
          "name": "stderr",
          "output_type": "stream",
          "text": [
            "epoch 326: 100%|██████████| 282/282 [00:07<00:00, 35.77it/s]\n"
          ]
        },
        {
          "metadata": {
            "tags": null
          },
          "name": "stdout",
          "output_type": "stream",
          "text": [
            "validation loss: 0.0017021992711557282 at epoch 327\n",
            "learning_rate: 0.0006553600000000002\n"
          ]
        },
        {
          "metadata": {
            "tags": null
          },
          "name": "stderr",
          "output_type": "stream",
          "text": [
            "epoch 327: 100%|██████████| 282/282 [00:08<00:00, 33.15it/s]\n"
          ]
        },
        {
          "metadata": {
            "tags": null
          },
          "name": "stdout",
          "output_type": "stream",
          "text": [
            "validation loss: 0.0022102767792012957 at epoch 328\n",
            "learning_rate: 0.0006553600000000002\n"
          ]
        },
        {
          "metadata": {
            "tags": null
          },
          "name": "stderr",
          "output_type": "stream",
          "text": [
            "epoch 328: 100%|██████████| 282/282 [00:08<00:00, 34.77it/s]\n"
          ]
        },
        {
          "metadata": {
            "tags": null
          },
          "name": "stdout",
          "output_type": "stream",
          "text": [
            "validation loss: 0.00414834255973498 at epoch 329\n",
            "learning_rate: 0.0006553600000000002\n"
          ]
        },
        {
          "metadata": {
            "tags": null
          },
          "name": "stderr",
          "output_type": "stream",
          "text": [
            "epoch 329: 100%|██████████| 282/282 [00:07<00:00, 37.08it/s]\n"
          ]
        },
        {
          "metadata": {
            "tags": null
          },
          "name": "stdout",
          "output_type": "stream",
          "text": [
            "validation loss: 0.001561066523194313 at epoch 330\n",
            "learning_rate: 0.0006553600000000002\n",
            "model saved in ani_acrolein.pt\n"
          ]
        },
        {
          "metadata": {
            "tags": null
          },
          "name": "stderr",
          "output_type": "stream",
          "text": [
            "epoch 330: 100%|██████████| 282/282 [00:08<00:00, 34.10it/s]\n"
          ]
        },
        {
          "metadata": {
            "tags": null
          },
          "name": "stdout",
          "output_type": "stream",
          "text": [
            "validation loss: 0.002226093639930089 at epoch 331\n",
            "learning_rate: 0.0006553600000000002\n"
          ]
        },
        {
          "metadata": {
            "tags": null
          },
          "name": "stderr",
          "output_type": "stream",
          "text": [
            "epoch 331: 100%|██████████| 282/282 [00:08<00:00, 33.47it/s]\n"
          ]
        },
        {
          "metadata": {
            "tags": null
          },
          "name": "stdout",
          "output_type": "stream",
          "text": [
            "validation loss: 0.0017592990886833933 at epoch 332\n",
            "learning_rate: 0.0006553600000000002\n"
          ]
        },
        {
          "metadata": {
            "tags": null
          },
          "name": "stderr",
          "output_type": "stream",
          "text": [
            "epoch 332: 100%|██████████| 282/282 [00:07<00:00, 37.31it/s]\n"
          ]
        },
        {
          "metadata": {
            "tags": null
          },
          "name": "stdout",
          "output_type": "stream",
          "text": [
            "validation loss: 0.0018708484379781618 at epoch 333\n",
            "learning_rate: 0.0006553600000000002\n"
          ]
        },
        {
          "metadata": {
            "tags": null
          },
          "name": "stderr",
          "output_type": "stream",
          "text": [
            "epoch 333: 100%|██████████| 282/282 [00:08<00:00, 33.37it/s]\n"
          ]
        },
        {
          "metadata": {
            "tags": null
          },
          "name": "stdout",
          "output_type": "stream",
          "text": [
            "validation loss: 0.001635806900759538 at epoch 334\n",
            "learning_rate: 0.0006553600000000002\n"
          ]
        },
        {
          "metadata": {
            "tags": null
          },
          "name": "stderr",
          "output_type": "stream",
          "text": [
            "epoch 334: 100%|██████████| 282/282 [00:08<00:00, 33.64it/s]\n"
          ]
        },
        {
          "metadata": {
            "tags": null
          },
          "name": "stdout",
          "output_type": "stream",
          "text": [
            "validation loss: 0.0016314230586091678 at epoch 335\n",
            "learning_rate: 0.0006553600000000002\n"
          ]
        },
        {
          "metadata": {
            "tags": null
          },
          "name": "stderr",
          "output_type": "stream",
          "text": [
            "epoch 335: 100%|██████████| 282/282 [00:07<00:00, 37.11it/s]\n"
          ]
        },
        {
          "metadata": {
            "tags": null
          },
          "name": "stdout",
          "output_type": "stream",
          "text": [
            "validation loss: 0.0015844865341981252 at epoch 336\n",
            "learning_rate: 0.0006553600000000002\n"
          ]
        },
        {
          "metadata": {
            "tags": null
          },
          "name": "stderr",
          "output_type": "stream",
          "text": [
            "epoch 336: 100%|██████████| 282/282 [00:08<00:00, 33.50it/s]\n"
          ]
        },
        {
          "metadata": {
            "tags": null
          },
          "name": "stdout",
          "output_type": "stream",
          "text": [
            "validation loss: 0.001560786967476209 at epoch 337\n",
            "learning_rate: 0.0006553600000000002\n",
            "model saved in ani_acrolein.pt\n"
          ]
        },
        {
          "metadata": {
            "tags": null
          },
          "name": "stderr",
          "output_type": "stream",
          "text": [
            "epoch 337: 100%|██████████| 282/282 [00:08<00:00, 33.28it/s]\n"
          ]
        },
        {
          "metadata": {
            "tags": null
          },
          "name": "stdout",
          "output_type": "stream",
          "text": [
            "validation loss: 0.001826089537805981 at epoch 338\n",
            "learning_rate: 0.0006553600000000002\n"
          ]
        },
        {
          "metadata": {
            "tags": null
          },
          "name": "stderr",
          "output_type": "stream",
          "text": [
            "epoch 338: 100%|██████████| 282/282 [00:07<00:00, 36.36it/s]\n"
          ]
        },
        {
          "metadata": {
            "tags": null
          },
          "name": "stdout",
          "output_type": "stream",
          "text": [
            "validation loss: 0.0015932240022553338 at epoch 339\n",
            "learning_rate: 0.0006553600000000002\n"
          ]
        },
        {
          "metadata": {
            "tags": null
          },
          "name": "stderr",
          "output_type": "stream",
          "text": [
            "epoch 339: 100%|██████████| 282/282 [00:08<00:00, 33.78it/s]\n"
          ]
        },
        {
          "metadata": {
            "tags": null
          },
          "name": "stdout",
          "output_type": "stream",
          "text": [
            "validation loss: 0.0019439844629830785 at epoch 340\n",
            "learning_rate: 0.0006553600000000002\n"
          ]
        },
        {
          "metadata": {
            "tags": null
          },
          "name": "stderr",
          "output_type": "stream",
          "text": [
            "epoch 340: 100%|██████████| 282/282 [00:08<00:00, 33.75it/s]\n"
          ]
        },
        {
          "metadata": {
            "tags": null
          },
          "name": "stdout",
          "output_type": "stream",
          "text": [
            "validation loss: 0.004520655529366599 at epoch 341\n",
            "learning_rate: 0.0006553600000000002\n"
          ]
        },
        {
          "metadata": {
            "tags": null
          },
          "name": "stderr",
          "output_type": "stream",
          "text": [
            "epoch 341: 100%|██████████| 282/282 [00:08<00:00, 34.68it/s]\n"
          ]
        },
        {
          "metadata": {
            "tags": null
          },
          "name": "stdout",
          "output_type": "stream",
          "text": [
            "validation loss: 0.004569082078006532 at epoch 342\n",
            "learning_rate: 0.0006553600000000002\n"
          ]
        },
        {
          "metadata": {
            "tags": null
          },
          "name": "stderr",
          "output_type": "stream",
          "text": [
            "epoch 342: 100%|██████████| 282/282 [00:07<00:00, 36.07it/s]\n"
          ]
        },
        {
          "metadata": {
            "tags": null
          },
          "name": "stdout",
          "output_type": "stream",
          "text": [
            "validation loss: 0.0017215725456674893 at epoch 343\n",
            "learning_rate: 0.0006553600000000002\n"
          ]
        },
        {
          "metadata": {
            "tags": null
          },
          "name": "stderr",
          "output_type": "stream",
          "text": [
            "epoch 343: 100%|██████████| 282/282 [00:08<00:00, 32.77it/s]\n"
          ]
        },
        {
          "metadata": {
            "tags": null
          },
          "name": "stdout",
          "output_type": "stream",
          "text": [
            "validation loss: 0.005622605098618402 at epoch 344\n",
            "learning_rate: 0.0006553600000000002\n"
          ]
        },
        {
          "metadata": {
            "tags": null
          },
          "name": "stderr",
          "output_type": "stream",
          "text": [
            "epoch 344: 100%|██████████| 282/282 [00:08<00:00, 34.07it/s]\n"
          ]
        },
        {
          "metadata": {
            "tags": null
          },
          "name": "stdout",
          "output_type": "stream",
          "text": [
            "validation loss: 0.001787615802552965 at epoch 345\n",
            "learning_rate: 0.0006553600000000002\n"
          ]
        },
        {
          "metadata": {
            "tags": null
          },
          "name": "stderr",
          "output_type": "stream",
          "text": [
            "epoch 345: 100%|██████████| 282/282 [00:07<00:00, 36.99it/s]\n"
          ]
        },
        {
          "metadata": {
            "tags": null
          },
          "name": "stdout",
          "output_type": "stream",
          "text": [
            "validation loss: 0.0019500401069720587 at epoch 346\n",
            "learning_rate: 0.0006553600000000002\n"
          ]
        },
        {
          "metadata": {
            "tags": null
          },
          "name": "stderr",
          "output_type": "stream",
          "text": [
            "epoch 346: 100%|██████████| 282/282 [00:08<00:00, 33.98it/s]\n"
          ]
        },
        {
          "metadata": {
            "tags": null
          },
          "name": "stdout",
          "output_type": "stream",
          "text": [
            "validation loss: 0.002018853379620446 at epoch 347\n",
            "learning_rate: 0.0006553600000000002\n"
          ]
        },
        {
          "metadata": {
            "tags": null
          },
          "name": "stderr",
          "output_type": "stream",
          "text": [
            "epoch 347: 100%|██████████| 282/282 [00:08<00:00, 33.22it/s]\n"
          ]
        },
        {
          "metadata": {
            "tags": null
          },
          "name": "stdout",
          "output_type": "stream",
          "text": [
            "validation loss: 0.003754013650947147 at epoch 348\n",
            "learning_rate: 0.0006553600000000002\n"
          ]
        },
        {
          "metadata": {
            "tags": null
          },
          "name": "stderr",
          "output_type": "stream",
          "text": [
            "epoch 348: 100%|██████████| 282/282 [00:07<00:00, 36.84it/s]\n"
          ]
        },
        {
          "metadata": {
            "tags": null
          },
          "name": "stdout",
          "output_type": "stream",
          "text": [
            "validation loss: 0.0019755345260103543 at epoch 349\n",
            "learning_rate: 0.0006553600000000002\n"
          ]
        },
        {
          "metadata": {
            "tags": null
          },
          "name": "stderr",
          "output_type": "stream",
          "text": [
            "epoch 349: 100%|██████████| 282/282 [00:08<00:00, 33.78it/s]\n"
          ]
        },
        {
          "metadata": {
            "tags": null
          },
          "name": "stdout",
          "output_type": "stream",
          "text": [
            "validation loss: 0.002079914382762379 at epoch 350\n",
            "learning_rate: 0.0006553600000000002\n"
          ]
        },
        {
          "metadata": {
            "tags": null
          },
          "name": "stderr",
          "output_type": "stream",
          "text": [
            "epoch 350: 100%|██████████| 282/282 [00:08<00:00, 33.89it/s]\n"
          ]
        },
        {
          "metadata": {
            "tags": null
          },
          "name": "stdout",
          "output_type": "stream",
          "text": [
            "validation loss: 0.0027288829270336362 at epoch 351\n",
            "learning_rate: 0.0006553600000000002\n"
          ]
        },
        {
          "metadata": {
            "tags": null
          },
          "name": "stderr",
          "output_type": "stream",
          "text": [
            "epoch 351: 100%|██████████| 282/282 [00:07<00:00, 36.98it/s]\n"
          ]
        },
        {
          "metadata": {
            "tags": null
          },
          "name": "stdout",
          "output_type": "stream",
          "text": [
            "validation loss: 0.001628326923482948 at epoch 352\n",
            "learning_rate: 0.0006553600000000002\n"
          ]
        },
        {
          "metadata": {
            "tags": null
          },
          "name": "stderr",
          "output_type": "stream",
          "text": [
            "epoch 352: 100%|██████████| 282/282 [00:08<00:00, 34.39it/s]\n"
          ]
        },
        {
          "metadata": {
            "tags": null
          },
          "name": "stdout",
          "output_type": "stream",
          "text": [
            "validation loss: 0.0017194378367728657 at epoch 353\n",
            "learning_rate: 0.0006553600000000002\n"
          ]
        },
        {
          "metadata": {
            "tags": null
          },
          "name": "stderr",
          "output_type": "stream",
          "text": [
            "epoch 353: 100%|██████████| 282/282 [00:08<00:00, 33.32it/s]\n"
          ]
        },
        {
          "metadata": {
            "tags": null
          },
          "name": "stdout",
          "output_type": "stream",
          "text": [
            "validation loss: 0.0022427514923943413 at epoch 354\n",
            "learning_rate: 0.0006553600000000002\n"
          ]
        },
        {
          "metadata": {
            "tags": null
          },
          "name": "stderr",
          "output_type": "stream",
          "text": [
            "epoch 354: 100%|██████████| 282/282 [00:07<00:00, 36.08it/s]\n"
          ]
        },
        {
          "metadata": {
            "tags": null
          },
          "name": "stdout",
          "output_type": "stream",
          "text": [
            "validation loss: 0.0019006169703271653 at epoch 355\n",
            "learning_rate: 0.0006553600000000002\n"
          ]
        },
        {
          "metadata": {
            "tags": null
          },
          "name": "stderr",
          "output_type": "stream",
          "text": [
            "epoch 355: 100%|██████████| 282/282 [00:07<00:00, 35.52it/s]\n"
          ]
        },
        {
          "metadata": {
            "tags": null
          },
          "name": "stdout",
          "output_type": "stream",
          "text": [
            "validation loss: 0.0016908715897136265 at epoch 356\n",
            "learning_rate: 0.0006553600000000002\n"
          ]
        },
        {
          "metadata": {
            "tags": null
          },
          "name": "stderr",
          "output_type": "stream",
          "text": [
            "epoch 356: 100%|██████████| 282/282 [00:08<00:00, 33.55it/s]\n"
          ]
        },
        {
          "metadata": {
            "tags": null
          },
          "name": "stdout",
          "output_type": "stream",
          "text": [
            "validation loss: 0.0016790754513608085 at epoch 357\n",
            "learning_rate: 0.0006553600000000002\n"
          ]
        },
        {
          "metadata": {
            "tags": null
          },
          "name": "stderr",
          "output_type": "stream",
          "text": [
            "epoch 357: 100%|██████████| 282/282 [00:08<00:00, 33.33it/s]\n"
          ]
        },
        {
          "metadata": {
            "tags": null
          },
          "name": "stdout",
          "output_type": "stream",
          "text": [
            "validation loss: 0.0016850205287337304 at epoch 358\n",
            "learning_rate: 0.0006553600000000002\n"
          ]
        },
        {
          "metadata": {
            "tags": null
          },
          "name": "stderr",
          "output_type": "stream",
          "text": [
            "epoch 358: 100%|██████████| 282/282 [00:07<00:00, 36.71it/s]\n"
          ]
        },
        {
          "metadata": {
            "tags": null
          },
          "name": "stdout",
          "output_type": "stream",
          "text": [
            "validation loss: 0.0022021418693992825 at epoch 359\n",
            "learning_rate: 0.0006553600000000002\n"
          ]
        },
        {
          "metadata": {
            "tags": null
          },
          "name": "stderr",
          "output_type": "stream",
          "text": [
            "epoch 359: 100%|██████████| 282/282 [00:08<00:00, 33.52it/s]\n"
          ]
        },
        {
          "metadata": {
            "tags": null
          },
          "name": "stdout",
          "output_type": "stream",
          "text": [
            "validation loss: 0.0016818306437797017 at epoch 360\n",
            "learning_rate: 0.0006553600000000002\n"
          ]
        },
        {
          "metadata": {
            "tags": null
          },
          "name": "stderr",
          "output_type": "stream",
          "text": [
            "epoch 360: 100%|██████████| 282/282 [00:08<00:00, 33.62it/s]\n"
          ]
        },
        {
          "metadata": {
            "tags": null
          },
          "name": "stdout",
          "output_type": "stream",
          "text": [
            "validation loss: 0.005612632102436489 at epoch 361\n",
            "learning_rate: 0.0006553600000000002\n"
          ]
        },
        {
          "metadata": {
            "tags": null
          },
          "name": "stderr",
          "output_type": "stream",
          "text": [
            "epoch 361: 100%|██████████| 282/282 [00:07<00:00, 37.15it/s]\n"
          ]
        },
        {
          "metadata": {
            "tags": null
          },
          "name": "stdout",
          "output_type": "stream",
          "text": [
            "validation loss: 0.001704837447239293 at epoch 362\n",
            "learning_rate: 0.0006553600000000002\n"
          ]
        },
        {
          "metadata": {
            "tags": null
          },
          "name": "stderr",
          "output_type": "stream",
          "text": [
            "epoch 362: 100%|██████████| 282/282 [00:08<00:00, 33.36it/s]\n"
          ]
        },
        {
          "metadata": {
            "tags": null
          },
          "name": "stdout",
          "output_type": "stream",
          "text": [
            "validation loss: 0.006707411352131102 at epoch 363\n",
            "learning_rate: 0.0006553600000000002\n"
          ]
        },
        {
          "metadata": {
            "tags": null
          },
          "name": "stderr",
          "output_type": "stream",
          "text": [
            "epoch 363: 100%|██████████| 282/282 [00:08<00:00, 33.31it/s]\n"
          ]
        },
        {
          "metadata": {
            "tags": null
          },
          "name": "stdout",
          "output_type": "stream",
          "text": [
            "validation loss: 0.0018123856435219446 at epoch 364\n",
            "learning_rate: 0.0006553600000000002\n"
          ]
        },
        {
          "metadata": {
            "tags": null
          },
          "name": "stderr",
          "output_type": "stream",
          "text": [
            "epoch 364: 100%|██████████| 282/282 [00:07<00:00, 36.92it/s]\n"
          ]
        },
        {
          "metadata": {
            "tags": null
          },
          "name": "stdout",
          "output_type": "stream",
          "text": [
            "validation loss: 0.0035308024949497648 at epoch 365\n",
            "learning_rate: 0.0006553600000000002\n"
          ]
        },
        {
          "metadata": {
            "tags": null
          },
          "name": "stderr",
          "output_type": "stream",
          "text": [
            "epoch 365: 100%|██████████| 282/282 [00:08<00:00, 34.15it/s]\n"
          ]
        },
        {
          "metadata": {
            "tags": null
          },
          "name": "stdout",
          "output_type": "stream",
          "text": [
            "validation loss: 0.007629412564966413 at epoch 366\n",
            "learning_rate: 0.0006553600000000002\n"
          ]
        },
        {
          "metadata": {
            "tags": null
          },
          "name": "stderr",
          "output_type": "stream",
          "text": [
            "epoch 366: 100%|██████████| 282/282 [00:08<00:00, 33.27it/s]\n"
          ]
        },
        {
          "metadata": {
            "tags": null
          },
          "name": "stdout",
          "output_type": "stream",
          "text": [
            "validation loss: 0.0016994621538453632 at epoch 367\n",
            "learning_rate: 0.0006553600000000002\n"
          ]
        },
        {
          "metadata": {
            "tags": null
          },
          "name": "stderr",
          "output_type": "stream",
          "text": [
            "epoch 367: 100%|██████████| 282/282 [00:07<00:00, 36.49it/s]\n"
          ]
        },
        {
          "metadata": {
            "tags": null
          },
          "name": "stdout",
          "output_type": "stream",
          "text": [
            "validation loss: 0.0024971035172541936 at epoch 368\n",
            "learning_rate: 0.0006553600000000002\n"
          ]
        },
        {
          "metadata": {
            "tags": null
          },
          "name": "stderr",
          "output_type": "stream",
          "text": [
            "epoch 368: 100%|██████████| 282/282 [00:07<00:00, 35.55it/s]\n"
          ]
        },
        {
          "metadata": {
            "tags": null
          },
          "name": "stdout",
          "output_type": "stream",
          "text": [
            "validation loss: 0.00859059198697408 at epoch 369\n",
            "learning_rate: 0.0006553600000000002\n"
          ]
        },
        {
          "metadata": {
            "tags": null
          },
          "name": "stderr",
          "output_type": "stream",
          "text": [
            "epoch 369: 100%|██████████| 282/282 [00:08<00:00, 33.70it/s]\n"
          ]
        },
        {
          "metadata": {
            "tags": null
          },
          "name": "stdout",
          "output_type": "stream",
          "text": [
            "validation loss: 0.0042453652256064945 at epoch 370\n",
            "learning_rate: 0.0006553600000000002\n"
          ]
        },
        {
          "metadata": {
            "tags": null
          },
          "name": "stderr",
          "output_type": "stream",
          "text": [
            "epoch 370: 100%|██████████| 282/282 [00:08<00:00, 34.94it/s]\n"
          ]
        },
        {
          "metadata": {
            "tags": null
          },
          "name": "stdout",
          "output_type": "stream",
          "text": [
            "validation loss: 0.004222116582923465 at epoch 371\n",
            "learning_rate: 0.0006553600000000002\n"
          ]
        },
        {
          "metadata": {
            "tags": null
          },
          "name": "stderr",
          "output_type": "stream",
          "text": [
            "epoch 371: 100%|██████████| 282/282 [00:07<00:00, 36.74it/s]\n"
          ]
        },
        {
          "metadata": {
            "tags": null
          },
          "name": "stdout",
          "output_type": "stream",
          "text": [
            "validation loss: 0.0019959611230426365 at epoch 372\n",
            "learning_rate: 0.0006553600000000002\n"
          ]
        },
        {
          "metadata": {
            "tags": null
          },
          "name": "stderr",
          "output_type": "stream",
          "text": [
            "epoch 372: 100%|██████████| 282/282 [00:08<00:00, 33.07it/s]\n"
          ]
        },
        {
          "metadata": {
            "tags": null
          },
          "name": "stdout",
          "output_type": "stream",
          "text": [
            "validation loss: 0.005721096409691704 at epoch 373\n",
            "learning_rate: 0.0006553600000000002\n"
          ]
        },
        {
          "metadata": {
            "tags": null
          },
          "name": "stderr",
          "output_type": "stream",
          "text": [
            "epoch 373: 100%|██████████| 282/282 [00:08<00:00, 33.46it/s]\n"
          ]
        },
        {
          "metadata": {
            "tags": null
          },
          "name": "stdout",
          "output_type": "stream",
          "text": [
            "validation loss: 0.00194378215736813 at epoch 374\n",
            "learning_rate: 0.0006553600000000002\n"
          ]
        },
        {
          "metadata": {
            "tags": null
          },
          "name": "stderr",
          "output_type": "stream",
          "text": [
            "epoch 374: 100%|██████████| 282/282 [00:07<00:00, 35.94it/s]\n"
          ]
        },
        {
          "metadata": {
            "tags": null
          },
          "name": "stdout",
          "output_type": "stream",
          "text": [
            "validation loss: 0.005408534195688036 at epoch 375\n",
            "learning_rate: 0.0006553600000000002\n"
          ]
        },
        {
          "metadata": {
            "tags": null
          },
          "name": "stderr",
          "output_type": "stream",
          "text": [
            "epoch 375: 100%|██████████| 282/282 [00:08<00:00, 32.20it/s]\n"
          ]
        },
        {
          "metadata": {
            "tags": null
          },
          "name": "stdout",
          "output_type": "stream",
          "text": [
            "validation loss: 0.0018526565266980064 at epoch 376\n",
            "learning_rate: 0.0006553600000000002\n"
          ]
        },
        {
          "metadata": {
            "tags": null
          },
          "name": "stderr",
          "output_type": "stream",
          "text": [
            "epoch 376: 100%|██████████| 282/282 [00:08<00:00, 33.47it/s]\n"
          ]
        },
        {
          "metadata": {
            "tags": null
          },
          "name": "stdout",
          "output_type": "stream",
          "text": [
            "validation loss: 0.004533559289243486 at epoch 377\n",
            "learning_rate: 0.0006553600000000002\n"
          ]
        },
        {
          "metadata": {
            "tags": null
          },
          "name": "stderr",
          "output_type": "stream",
          "text": [
            "epoch 377: 100%|██████████| 282/282 [00:07<00:00, 37.17it/s]\n"
          ]
        },
        {
          "metadata": {
            "tags": null
          },
          "name": "stdout",
          "output_type": "stream",
          "text": [
            "validation loss: 0.0016954187030593555 at epoch 378\n",
            "learning_rate: 0.0006553600000000002\n"
          ]
        },
        {
          "metadata": {
            "tags": null
          },
          "name": "stderr",
          "output_type": "stream",
          "text": [
            "epoch 378: 100%|██████████| 282/282 [00:08<00:00, 33.80it/s]\n"
          ]
        },
        {
          "metadata": {
            "tags": null
          },
          "name": "stdout",
          "output_type": "stream",
          "text": [
            "validation loss: 0.0021139581385585995 at epoch 379\n",
            "learning_rate: 0.0006553600000000002\n"
          ]
        },
        {
          "metadata": {
            "tags": null
          },
          "name": "stderr",
          "output_type": "stream",
          "text": [
            "epoch 379: 100%|██████████| 282/282 [00:08<00:00, 33.21it/s]\n"
          ]
        },
        {
          "metadata": {
            "tags": null
          },
          "name": "stdout",
          "output_type": "stream",
          "text": [
            "validation loss: 0.0019238855499360296 at epoch 380\n",
            "learning_rate: 0.0006553600000000002\n"
          ]
        },
        {
          "metadata": {
            "tags": null
          },
          "name": "stderr",
          "output_type": "stream",
          "text": [
            "epoch 380: 100%|██████████| 282/282 [00:07<00:00, 35.83it/s]\n"
          ]
        },
        {
          "metadata": {
            "tags": null
          },
          "name": "stdout",
          "output_type": "stream",
          "text": [
            "validation loss: 0.0035801579968796834 at epoch 381\n",
            "learning_rate: 0.0006553600000000002\n"
          ]
        },
        {
          "metadata": {
            "tags": null
          },
          "name": "stderr",
          "output_type": "stream",
          "text": [
            "epoch 381: 100%|██████████| 282/282 [00:08<00:00, 34.81it/s]\n"
          ]
        },
        {
          "metadata": {
            "tags": null
          },
          "name": "stdout",
          "output_type": "stream",
          "text": [
            "validation loss: 0.0020149460285902024 at epoch 382\n",
            "learning_rate: 0.0006553600000000002\n"
          ]
        },
        {
          "metadata": {
            "tags": null
          },
          "name": "stderr",
          "output_type": "stream",
          "text": [
            "epoch 382: 100%|██████████| 282/282 [00:08<00:00, 33.06it/s]\n"
          ]
        },
        {
          "metadata": {
            "tags": null
          },
          "name": "stdout",
          "output_type": "stream",
          "text": [
            "validation loss: 0.00365436186393102 at epoch 383\n",
            "learning_rate: 0.0006553600000000002\n"
          ]
        },
        {
          "metadata": {
            "tags": null
          },
          "name": "stderr",
          "output_type": "stream",
          "text": [
            "epoch 383: 100%|██████████| 282/282 [00:08<00:00, 34.50it/s]\n"
          ]
        },
        {
          "metadata": {
            "tags": null
          },
          "name": "stdout",
          "output_type": "stream",
          "text": [
            "validation loss: 0.0036666344702243805 at epoch 384\n",
            "learning_rate: 0.0006553600000000002\n"
          ]
        },
        {
          "metadata": {
            "tags": null
          },
          "name": "stderr",
          "output_type": "stream",
          "text": [
            "epoch 384: 100%|██████████| 282/282 [00:07<00:00, 35.89it/s]\n"
          ]
        },
        {
          "metadata": {
            "tags": null
          },
          "name": "stdout",
          "output_type": "stream",
          "text": [
            "validation loss: 0.003342697153488795 at epoch 385\n",
            "learning_rate: 0.0006553600000000002\n"
          ]
        },
        {
          "metadata": {
            "tags": null
          },
          "name": "stderr",
          "output_type": "stream",
          "text": [
            "epoch 385: 100%|██████████| 282/282 [00:08<00:00, 33.11it/s]\n"
          ]
        },
        {
          "metadata": {
            "tags": null
          },
          "name": "stdout",
          "output_type": "stream",
          "text": [
            "validation loss: 0.0017236814970771471 at epoch 386\n",
            "learning_rate: 0.0006553600000000002\n"
          ]
        },
        {
          "metadata": {
            "tags": null
          },
          "name": "stderr",
          "output_type": "stream",
          "text": [
            "epoch 386: 100%|██████████| 282/282 [00:08<00:00, 33.29it/s]\n"
          ]
        },
        {
          "metadata": {
            "tags": null
          },
          "name": "stdout",
          "output_type": "stream",
          "text": [
            "validation loss: 0.0020667866783009637 at epoch 387\n",
            "learning_rate: 0.0006553600000000002\n"
          ]
        },
        {
          "metadata": {
            "tags": null
          },
          "name": "stderr",
          "output_type": "stream",
          "text": [
            "epoch 387: 100%|██████████| 282/282 [00:07<00:00, 36.65it/s]\n"
          ]
        },
        {
          "metadata": {
            "tags": null
          },
          "name": "stdout",
          "output_type": "stream",
          "text": [
            "validation loss: 0.0044875820014211865 at epoch 388\n",
            "learning_rate: 0.0006553600000000002\n"
          ]
        },
        {
          "metadata": {
            "tags": null
          },
          "name": "stderr",
          "output_type": "stream",
          "text": [
            "epoch 388: 100%|██████████| 282/282 [00:08<00:00, 33.57it/s]\n"
          ]
        },
        {
          "metadata": {
            "tags": null
          },
          "name": "stdout",
          "output_type": "stream",
          "text": [
            "validation loss: 0.002471973513563474 at epoch 389\n",
            "learning_rate: 0.0005242880000000002\n"
          ]
        },
        {
          "metadata": {
            "tags": null
          },
          "name": "stderr",
          "output_type": "stream",
          "text": [
            "epoch 389: 100%|██████████| 282/282 [00:08<00:00, 33.37it/s]\n"
          ]
        },
        {
          "metadata": {
            "tags": null
          },
          "name": "stdout",
          "output_type": "stream",
          "text": [
            "validation loss: 0.0020763438302609655 at epoch 390\n",
            "learning_rate: 0.0005242880000000002\n"
          ]
        },
        {
          "metadata": {
            "tags": null
          },
          "name": "stderr",
          "output_type": "stream",
          "text": [
            "epoch 390: 100%|██████████| 282/282 [00:07<00:00, 36.27it/s]\n"
          ]
        },
        {
          "metadata": {
            "tags": null
          },
          "name": "stdout",
          "output_type": "stream",
          "text": [
            "validation loss: 0.0015479829104410277 at epoch 391\n",
            "learning_rate: 0.0005242880000000002\n",
            "model saved in ani_acrolein.pt\n"
          ]
        },
        {
          "metadata": {
            "tags": null
          },
          "name": "stderr",
          "output_type": "stream",
          "text": [
            "epoch 391: 100%|██████████| 282/282 [00:08<00:00, 33.45it/s]\n"
          ]
        },
        {
          "metadata": {
            "tags": null
          },
          "name": "stdout",
          "output_type": "stream",
          "text": [
            "validation loss: 0.0043030134538809455 at epoch 392\n",
            "learning_rate: 0.0005242880000000002\n"
          ]
        },
        {
          "metadata": {
            "tags": null
          },
          "name": "stderr",
          "output_type": "stream",
          "text": [
            "epoch 392: 100%|██████████| 282/282 [00:08<00:00, 33.13it/s]\n"
          ]
        },
        {
          "metadata": {
            "tags": null
          },
          "name": "stdout",
          "output_type": "stream",
          "text": [
            "validation loss: 0.0025727155208587647 at epoch 393\n",
            "learning_rate: 0.0005242880000000002\n"
          ]
        },
        {
          "metadata": {
            "tags": null
          },
          "name": "stderr",
          "output_type": "stream",
          "text": [
            "epoch 393: 100%|██████████| 282/282 [00:08<00:00, 34.15it/s]\n"
          ]
        },
        {
          "metadata": {
            "tags": null
          },
          "name": "stdout",
          "output_type": "stream",
          "text": [
            "validation loss: 0.003375726537572013 at epoch 394\n",
            "learning_rate: 0.0005242880000000002\n"
          ]
        },
        {
          "metadata": {
            "tags": null
          },
          "name": "stderr",
          "output_type": "stream",
          "text": [
            "epoch 394: 100%|██████████| 282/282 [00:07<00:00, 35.59it/s]\n"
          ]
        },
        {
          "metadata": {
            "tags": null
          },
          "name": "stdout",
          "output_type": "stream",
          "text": [
            "validation loss: 0.0015982014288504918 at epoch 395\n",
            "learning_rate: 0.0005242880000000002\n"
          ]
        },
        {
          "metadata": {
            "tags": null
          },
          "name": "stderr",
          "output_type": "stream",
          "text": [
            "epoch 395: 100%|██████████| 282/282 [00:08<00:00, 34.09it/s]\n"
          ]
        },
        {
          "metadata": {
            "tags": null
          },
          "name": "stdout",
          "output_type": "stream",
          "text": [
            "validation loss: 0.0014287287617723147 at epoch 396\n",
            "learning_rate: 0.0005242880000000002\n",
            "model saved in ani_acrolein.pt\n"
          ]
        },
        {
          "metadata": {
            "tags": null
          },
          "name": "stderr",
          "output_type": "stream",
          "text": [
            "epoch 396: 100%|██████████| 282/282 [00:08<00:00, 33.34it/s]\n"
          ]
        },
        {
          "metadata": {
            "tags": null
          },
          "name": "stdout",
          "output_type": "stream",
          "text": [
            "validation loss: 0.002624616762002309 at epoch 397\n",
            "learning_rate: 0.0005242880000000002\n"
          ]
        },
        {
          "metadata": {
            "tags": null
          },
          "name": "stderr",
          "output_type": "stream",
          "text": [
            "epoch 397: 100%|██████████| 282/282 [00:07<00:00, 36.85it/s]\n"
          ]
        },
        {
          "metadata": {
            "tags": null
          },
          "name": "stdout",
          "output_type": "stream",
          "text": [
            "validation loss: 0.005956443743573295 at epoch 398\n",
            "learning_rate: 0.0005242880000000002\n"
          ]
        },
        {
          "metadata": {
            "tags": null
          },
          "name": "stderr",
          "output_type": "stream",
          "text": [
            "epoch 398: 100%|██████████| 282/282 [00:08<00:00, 33.14it/s]\n"
          ]
        },
        {
          "metadata": {
            "tags": null
          },
          "name": "stdout",
          "output_type": "stream",
          "text": [
            "validation loss: 0.003663387480709288 at epoch 399\n",
            "learning_rate: 0.0005242880000000002\n"
          ]
        },
        {
          "metadata": {
            "tags": null
          },
          "name": "stderr",
          "output_type": "stream",
          "text": [
            "epoch 399: 100%|██████████| 282/282 [00:08<00:00, 33.88it/s]\n"
          ]
        },
        {
          "metadata": {
            "tags": null
          },
          "name": "stdout",
          "output_type": "stream",
          "text": [
            "validation loss: 0.0029660720278819404 at epoch 400\n",
            "learning_rate: 0.0005242880000000002\n"
          ]
        },
        {
          "metadata": {
            "tags": null
          },
          "name": "stderr",
          "output_type": "stream",
          "text": [
            "epoch 400: 100%|██████████| 282/282 [00:07<00:00, 37.12it/s]\n"
          ]
        },
        {
          "metadata": {
            "tags": null
          },
          "name": "stdout",
          "output_type": "stream",
          "text": [
            "validation loss: 0.0019535573778880965 at epoch 401\n",
            "learning_rate: 0.0005242880000000002\n"
          ]
        },
        {
          "metadata": {
            "tags": null
          },
          "name": "stderr",
          "output_type": "stream",
          "text": [
            "epoch 401: 100%|██████████| 282/282 [00:08<00:00, 33.41it/s]\n"
          ]
        },
        {
          "metadata": {
            "tags": null
          },
          "name": "stdout",
          "output_type": "stream",
          "text": [
            "validation loss: 0.004196917977597979 at epoch 402\n",
            "learning_rate: 0.0005242880000000002\n"
          ]
        },
        {
          "metadata": {
            "tags": null
          },
          "name": "stderr",
          "output_type": "stream",
          "text": [
            "epoch 402: 100%|██████████| 282/282 [00:08<00:00, 33.51it/s]\n"
          ]
        },
        {
          "metadata": {
            "tags": null
          },
          "name": "stdout",
          "output_type": "stream",
          "text": [
            "validation loss: 0.001331374724706014 at epoch 403\n",
            "learning_rate: 0.0005242880000000002\n",
            "model saved in ani_acrolein.pt\n"
          ]
        },
        {
          "metadata": {
            "tags": null
          },
          "name": "stderr",
          "output_type": "stream",
          "text": [
            "epoch 403: 100%|██████████| 282/282 [00:07<00:00, 36.59it/s]\n"
          ]
        },
        {
          "metadata": {
            "tags": null
          },
          "name": "stdout",
          "output_type": "stream",
          "text": [
            "validation loss: 0.0018778777362571822 at epoch 404\n",
            "learning_rate: 0.0005242880000000002\n"
          ]
        },
        {
          "metadata": {
            "tags": null
          },
          "name": "stderr",
          "output_type": "stream",
          "text": [
            "epoch 404: 100%|██████████| 282/282 [00:08<00:00, 33.26it/s]\n"
          ]
        },
        {
          "metadata": {
            "tags": null
          },
          "name": "stdout",
          "output_type": "stream",
          "text": [
            "validation loss: 0.0017200751652320227 at epoch 405\n",
            "learning_rate: 0.0005242880000000002\n"
          ]
        },
        {
          "metadata": {
            "tags": null
          },
          "name": "stderr",
          "output_type": "stream",
          "text": [
            "epoch 405: 100%|██████████| 282/282 [00:08<00:00, 33.77it/s]\n"
          ]
        },
        {
          "metadata": {
            "tags": null
          },
          "name": "stdout",
          "output_type": "stream",
          "text": [
            "validation loss: 0.0017339893413914574 at epoch 406\n",
            "learning_rate: 0.0005242880000000002\n"
          ]
        },
        {
          "metadata": {
            "tags": null
          },
          "name": "stderr",
          "output_type": "stream",
          "text": [
            "epoch 406: 100%|██████████| 282/282 [00:07<00:00, 36.08it/s]\n"
          ]
        },
        {
          "metadata": {
            "tags": null
          },
          "name": "stdout",
          "output_type": "stream",
          "text": [
            "validation loss: 0.0019290365568465657 at epoch 407\n",
            "learning_rate: 0.0005242880000000002\n"
          ]
        },
        {
          "metadata": {
            "tags": null
          },
          "name": "stderr",
          "output_type": "stream",
          "text": [
            "epoch 407: 100%|██████████| 282/282 [00:08<00:00, 34.21it/s]\n"
          ]
        },
        {
          "metadata": {
            "tags": null
          },
          "name": "stdout",
          "output_type": "stream",
          "text": [
            "validation loss: 0.004100118474827872 at epoch 408\n",
            "learning_rate: 0.0005242880000000002\n"
          ]
        },
        {
          "metadata": {
            "tags": null
          },
          "name": "stderr",
          "output_type": "stream",
          "text": [
            "epoch 408: 100%|██████████| 282/282 [00:08<00:00, 33.27it/s]\n"
          ]
        },
        {
          "metadata": {
            "tags": null
          },
          "name": "stdout",
          "output_type": "stream",
          "text": [
            "validation loss: 0.00225528251628081 at epoch 409\n",
            "learning_rate: 0.0005242880000000002\n"
          ]
        },
        {
          "metadata": {
            "tags": null
          },
          "name": "stderr",
          "output_type": "stream",
          "text": [
            "epoch 409: 100%|██████████| 282/282 [00:08<00:00, 35.21it/s]\n"
          ]
        },
        {
          "metadata": {
            "tags": null
          },
          "name": "stdout",
          "output_type": "stream",
          "text": [
            "validation loss: 0.003021684416466289 at epoch 410\n",
            "learning_rate: 0.0005242880000000002\n"
          ]
        },
        {
          "metadata": {
            "tags": null
          },
          "name": "stderr",
          "output_type": "stream",
          "text": [
            "epoch 410: 100%|██████████| 282/282 [00:07<00:00, 36.32it/s]\n"
          ]
        },
        {
          "metadata": {
            "tags": null
          },
          "name": "stdout",
          "output_type": "stream",
          "text": [
            "validation loss: 0.005240096833970811 at epoch 411\n",
            "learning_rate: 0.0005242880000000002\n"
          ]
        },
        {
          "metadata": {
            "tags": null
          },
          "name": "stderr",
          "output_type": "stream",
          "text": [
            "epoch 411: 100%|██████████| 282/282 [00:08<00:00, 33.14it/s]\n"
          ]
        },
        {
          "metadata": {
            "tags": null
          },
          "name": "stdout",
          "output_type": "stream",
          "text": [
            "validation loss: 0.0026676662382152344 at epoch 412\n",
            "learning_rate: 0.0005242880000000002\n"
          ]
        },
        {
          "metadata": {
            "tags": null
          },
          "name": "stderr",
          "output_type": "stream",
          "text": [
            "epoch 412: 100%|██████████| 282/282 [00:08<00:00, 33.48it/s]\n"
          ]
        },
        {
          "metadata": {
            "tags": null
          },
          "name": "stdout",
          "output_type": "stream",
          "text": [
            "validation loss: 0.001715701191789574 at epoch 413\n",
            "learning_rate: 0.0005242880000000002\n"
          ]
        },
        {
          "metadata": {
            "tags": null
          },
          "name": "stderr",
          "output_type": "stream",
          "text": [
            "epoch 413: 100%|██████████| 282/282 [00:07<00:00, 36.96it/s]\n"
          ]
        },
        {
          "metadata": {
            "tags": null
          },
          "name": "stdout",
          "output_type": "stream",
          "text": [
            "validation loss: 0.00432855851120419 at epoch 414\n",
            "learning_rate: 0.0005242880000000002\n"
          ]
        },
        {
          "metadata": {
            "tags": null
          },
          "name": "stderr",
          "output_type": "stream",
          "text": [
            "epoch 414: 100%|██████████| 282/282 [00:08<00:00, 33.62it/s]\n"
          ]
        },
        {
          "metadata": {
            "tags": null
          },
          "name": "stdout",
          "output_type": "stream",
          "text": [
            "validation loss: 0.002256702110171318 at epoch 415\n",
            "learning_rate: 0.0005242880000000002\n"
          ]
        },
        {
          "metadata": {
            "tags": null
          },
          "name": "stderr",
          "output_type": "stream",
          "text": [
            "epoch 415: 100%|██████████| 282/282 [00:08<00:00, 33.58it/s]\n"
          ]
        },
        {
          "metadata": {
            "tags": null
          },
          "name": "stdout",
          "output_type": "stream",
          "text": [
            "validation loss: 0.004775669760174221 at epoch 416\n",
            "learning_rate: 0.0005242880000000002\n"
          ]
        },
        {
          "metadata": {
            "tags": null
          },
          "name": "stderr",
          "output_type": "stream",
          "text": [
            "epoch 416: 100%|██████████| 282/282 [00:07<00:00, 36.85it/s]\n"
          ]
        },
        {
          "metadata": {
            "tags": null
          },
          "name": "stdout",
          "output_type": "stream",
          "text": [
            "validation loss: 0.0019857340363992585 at epoch 417\n",
            "learning_rate: 0.0005242880000000002\n"
          ]
        },
        {
          "metadata": {
            "tags": null
          },
          "name": "stderr",
          "output_type": "stream",
          "text": [
            "epoch 417: 100%|██████████| 282/282 [00:08<00:00, 33.59it/s]\n"
          ]
        },
        {
          "metadata": {
            "tags": null
          },
          "name": "stdout",
          "output_type": "stream",
          "text": [
            "validation loss: 0.0030503812316391202 at epoch 418\n",
            "learning_rate: 0.0005242880000000002\n"
          ]
        },
        {
          "metadata": {
            "tags": null
          },
          "name": "stderr",
          "output_type": "stream",
          "text": [
            "epoch 418: 100%|██████████| 282/282 [00:08<00:00, 33.29it/s]\n"
          ]
        },
        {
          "metadata": {
            "tags": null
          },
          "name": "stdout",
          "output_type": "stream",
          "text": [
            "validation loss: 0.0024848470091819765 at epoch 419\n",
            "learning_rate: 0.0005242880000000002\n"
          ]
        },
        {
          "metadata": {
            "tags": null
          },
          "name": "stderr",
          "output_type": "stream",
          "text": [
            "epoch 419: 100%|██████████| 282/282 [00:07<00:00, 36.89it/s]\n"
          ]
        },
        {
          "metadata": {
            "tags": null
          },
          "name": "stdout",
          "output_type": "stream",
          "text": [
            "validation loss: 0.00181952013903194 at epoch 420\n",
            "learning_rate: 0.0005242880000000002\n"
          ]
        },
        {
          "metadata": {
            "tags": null
          },
          "name": "stderr",
          "output_type": "stream",
          "text": [
            "epoch 420: 100%|██████████| 282/282 [00:08<00:00, 33.69it/s]\n"
          ]
        },
        {
          "metadata": {
            "tags": null
          },
          "name": "stdout",
          "output_type": "stream",
          "text": [
            "validation loss: 0.0015884189224905439 at epoch 421\n",
            "learning_rate: 0.0005242880000000002\n"
          ]
        },
        {
          "metadata": {
            "tags": null
          },
          "name": "stderr",
          "output_type": "stream",
          "text": [
            "epoch 421: 100%|██████████| 282/282 [00:08<00:00, 33.04it/s]\n"
          ]
        },
        {
          "metadata": {
            "tags": null
          },
          "name": "stdout",
          "output_type": "stream",
          "text": [
            "validation loss: 0.0030216354297267064 at epoch 422\n",
            "learning_rate: 0.0005242880000000002\n"
          ]
        },
        {
          "metadata": {
            "tags": null
          },
          "name": "stderr",
          "output_type": "stream",
          "text": [
            "epoch 422: 100%|██████████| 282/282 [00:07<00:00, 35.93it/s]\n"
          ]
        },
        {
          "metadata": {
            "tags": null
          },
          "name": "stdout",
          "output_type": "stream",
          "text": [
            "validation loss: 0.00445169770055347 at epoch 423\n",
            "learning_rate: 0.0005242880000000002\n"
          ]
        },
        {
          "metadata": {
            "tags": null
          },
          "name": "stderr",
          "output_type": "stream",
          "text": [
            "epoch 423: 100%|██████████| 282/282 [00:08<00:00, 35.16it/s]\n"
          ]
        },
        {
          "metadata": {
            "tags": null
          },
          "name": "stdout",
          "output_type": "stream",
          "text": [
            "validation loss: 0.005212439315186606 at epoch 424\n",
            "learning_rate: 0.0005242880000000002\n"
          ]
        },
        {
          "metadata": {
            "tags": null
          },
          "name": "stderr",
          "output_type": "stream",
          "text": [
            "epoch 424: 100%|██████████| 282/282 [00:08<00:00, 33.13it/s]\n"
          ]
        },
        {
          "metadata": {
            "tags": null
          },
          "name": "stdout",
          "output_type": "stream",
          "text": [
            "validation loss: 0.00534432570139567 at epoch 425\n",
            "learning_rate: 0.0005242880000000002\n"
          ]
        },
        {
          "metadata": {
            "tags": null
          },
          "name": "stderr",
          "output_type": "stream",
          "text": [
            "epoch 425: 100%|██████████| 282/282 [00:08<00:00, 34.11it/s]\n"
          ]
        },
        {
          "metadata": {
            "tags": null
          },
          "name": "stdout",
          "output_type": "stream",
          "text": [
            "validation loss: 0.0033631826010015278 at epoch 426\n",
            "learning_rate: 0.0005242880000000002\n"
          ]
        },
        {
          "metadata": {
            "tags": null
          },
          "name": "stderr",
          "output_type": "stream",
          "text": [
            "epoch 426: 100%|██████████| 282/282 [00:07<00:00, 36.50it/s]\n"
          ]
        },
        {
          "metadata": {
            "tags": null
          },
          "name": "stdout",
          "output_type": "stream",
          "text": [
            "validation loss: 0.0031533454408248264 at epoch 427\n",
            "learning_rate: 0.0005242880000000002\n"
          ]
        },
        {
          "metadata": {
            "tags": null
          },
          "name": "stderr",
          "output_type": "stream",
          "text": [
            "epoch 427: 100%|██████████| 282/282 [00:08<00:00, 32.70it/s]\n"
          ]
        },
        {
          "metadata": {
            "tags": null
          },
          "name": "stdout",
          "output_type": "stream",
          "text": [
            "validation loss: 0.0034392012490166556 at epoch 428\n",
            "learning_rate: 0.0005242880000000002\n"
          ]
        },
        {
          "metadata": {
            "tags": null
          },
          "name": "stderr",
          "output_type": "stream",
          "text": [
            "epoch 428: 100%|██████████| 282/282 [00:08<00:00, 33.21it/s]\n"
          ]
        },
        {
          "metadata": {
            "tags": null
          },
          "name": "stdout",
          "output_type": "stream",
          "text": [
            "validation loss: 0.0036018948621220057 at epoch 429\n",
            "learning_rate: 0.0005242880000000002\n"
          ]
        },
        {
          "metadata": {
            "tags": null
          },
          "name": "stderr",
          "output_type": "stream",
          "text": [
            "epoch 429: 100%|██████████| 282/282 [00:07<00:00, 36.67it/s]\n"
          ]
        },
        {
          "metadata": {
            "tags": null
          },
          "name": "stdout",
          "output_type": "stream",
          "text": [
            "validation loss: 0.0016673211198714045 at epoch 430\n",
            "learning_rate: 0.0005242880000000002\n"
          ]
        },
        {
          "metadata": {
            "tags": null
          },
          "name": "stderr",
          "output_type": "stream",
          "text": [
            "epoch 430: 100%|██████████| 282/282 [00:08<00:00, 33.20it/s]\n"
          ]
        },
        {
          "metadata": {
            "tags": null
          },
          "name": "stdout",
          "output_type": "stream",
          "text": [
            "validation loss: 0.0029876432286368476 at epoch 431\n",
            "learning_rate: 0.0005242880000000002\n"
          ]
        },
        {
          "metadata": {
            "tags": null
          },
          "name": "stderr",
          "output_type": "stream",
          "text": [
            "epoch 431: 100%|██████████| 282/282 [00:08<00:00, 33.31it/s]\n"
          ]
        },
        {
          "metadata": {
            "tags": null
          },
          "name": "stdout",
          "output_type": "stream",
          "text": [
            "validation loss: 0.0027755523406796986 at epoch 432\n",
            "learning_rate: 0.0005242880000000002\n"
          ]
        },
        {
          "metadata": {
            "tags": null
          },
          "name": "stderr",
          "output_type": "stream",
          "text": [
            "epoch 432: 100%|██████████| 282/282 [00:07<00:00, 36.29it/s]\n"
          ]
        },
        {
          "metadata": {
            "tags": null
          },
          "name": "stdout",
          "output_type": "stream",
          "text": [
            "validation loss: 0.003923152718279097 at epoch 433\n",
            "learning_rate: 0.0005242880000000002\n"
          ]
        },
        {
          "metadata": {
            "tags": null
          },
          "name": "stderr",
          "output_type": "stream",
          "text": [
            "epoch 433: 100%|██████████| 282/282 [00:08<00:00, 34.08it/s]\n"
          ]
        },
        {
          "metadata": {
            "tags": null
          },
          "name": "stdout",
          "output_type": "stream",
          "text": [
            "validation loss: 0.0035863836341434056 at epoch 434\n",
            "learning_rate: 0.0005242880000000002\n"
          ]
        },
        {
          "metadata": {
            "tags": null
          },
          "name": "stderr",
          "output_type": "stream",
          "text": [
            "epoch 434: 100%|██████████| 282/282 [00:08<00:00, 33.60it/s]\n"
          ]
        },
        {
          "metadata": {
            "tags": null
          },
          "name": "stdout",
          "output_type": "stream",
          "text": [
            "validation loss: 0.0027819687724113464 at epoch 435\n",
            "learning_rate: 0.0005242880000000002\n"
          ]
        },
        {
          "metadata": {
            "tags": null
          },
          "name": "stderr",
          "output_type": "stream",
          "text": [
            "epoch 435: 100%|██████████| 282/282 [00:08<00:00, 34.43it/s]\n"
          ]
        },
        {
          "metadata": {
            "tags": null
          },
          "name": "stdout",
          "output_type": "stream",
          "text": [
            "validation loss: 0.0014000375949674182 at epoch 436\n",
            "learning_rate: 0.0005242880000000002\n"
          ]
        },
        {
          "metadata": {
            "tags": null
          },
          "name": "stderr",
          "output_type": "stream",
          "text": [
            "epoch 436: 100%|██████████| 282/282 [00:07<00:00, 36.39it/s]\n"
          ]
        },
        {
          "metadata": {
            "tags": null
          },
          "name": "stdout",
          "output_type": "stream",
          "text": [
            "validation loss: 0.00327713292506006 at epoch 437\n",
            "learning_rate: 0.0005242880000000002\n"
          ]
        },
        {
          "metadata": {
            "tags": null
          },
          "name": "stderr",
          "output_type": "stream",
          "text": [
            "epoch 437: 100%|██████████| 282/282 [00:08<00:00, 33.35it/s]\n"
          ]
        },
        {
          "metadata": {
            "tags": null
          },
          "name": "stdout",
          "output_type": "stream",
          "text": [
            "validation loss: 0.004293967190716002 at epoch 438\n",
            "learning_rate: 0.0005242880000000002\n"
          ]
        },
        {
          "metadata": {
            "tags": null
          },
          "name": "stderr",
          "output_type": "stream",
          "text": [
            "epoch 438: 100%|██████████| 282/282 [00:08<00:00, 33.07it/s]\n"
          ]
        },
        {
          "metadata": {
            "tags": null
          },
          "name": "stdout",
          "output_type": "stream",
          "text": [
            "validation loss: 0.004347124252054427 at epoch 439\n",
            "learning_rate: 0.0005242880000000002\n"
          ]
        },
        {
          "metadata": {
            "tags": null
          },
          "name": "stderr",
          "output_type": "stream",
          "text": [
            "epoch 439: 100%|██████████| 282/282 [00:07<00:00, 36.12it/s]\n"
          ]
        },
        {
          "metadata": {
            "tags": null
          },
          "name": "stdout",
          "output_type": "stream",
          "text": [
            "validation loss: 0.0025806476341353525 at epoch 440\n",
            "learning_rate: 0.0005242880000000002\n"
          ]
        },
        {
          "metadata": {
            "tags": null
          },
          "name": "stderr",
          "output_type": "stream",
          "text": [
            "epoch 440: 100%|██████████| 282/282 [00:08<00:00, 33.22it/s]\n"
          ]
        },
        {
          "metadata": {
            "tags": null
          },
          "name": "stdout",
          "output_type": "stream",
          "text": [
            "validation loss: 0.0030963092760907278 at epoch 441\n",
            "learning_rate: 0.0005242880000000002\n"
          ]
        },
        {
          "metadata": {
            "tags": null
          },
          "name": "stderr",
          "output_type": "stream",
          "text": [
            "epoch 441: 100%|██████████| 282/282 [00:08<00:00, 33.39it/s]\n"
          ]
        },
        {
          "metadata": {
            "tags": null
          },
          "name": "stdout",
          "output_type": "stream",
          "text": [
            "validation loss: 0.0013009280115365983 at epoch 442\n",
            "learning_rate: 0.0005242880000000002\n",
            "model saved in ani_acrolein.pt\n"
          ]
        },
        {
          "metadata": {
            "tags": null
          },
          "name": "stderr",
          "output_type": "stream",
          "text": [
            "epoch 442: 100%|██████████| 282/282 [00:07<00:00, 35.43it/s]\n"
          ]
        },
        {
          "metadata": {
            "tags": null
          },
          "name": "stdout",
          "output_type": "stream",
          "text": [
            "validation loss: 0.0024595107816987568 at epoch 443\n",
            "learning_rate: 0.0005242880000000002\n"
          ]
        },
        {
          "metadata": {
            "tags": null
          },
          "name": "stderr",
          "output_type": "stream",
          "text": [
            "epoch 443: 100%|██████████| 282/282 [00:07<00:00, 35.27it/s]\n"
          ]
        },
        {
          "metadata": {
            "tags": null
          },
          "name": "stdout",
          "output_type": "stream",
          "text": [
            "validation loss: 0.003387012980050511 at epoch 444\n",
            "learning_rate: 0.0005242880000000002\n"
          ]
        },
        {
          "metadata": {
            "tags": null
          },
          "name": "stderr",
          "output_type": "stream",
          "text": [
            "epoch 444: 100%|██████████| 282/282 [00:08<00:00, 33.26it/s]\n"
          ]
        },
        {
          "metadata": {
            "tags": null
          },
          "name": "stdout",
          "output_type": "stream",
          "text": [
            "validation loss: 0.004652922766076194 at epoch 445\n",
            "learning_rate: 0.0005242880000000002\n"
          ]
        },
        {
          "metadata": {
            "tags": null
          },
          "name": "stderr",
          "output_type": "stream",
          "text": [
            "epoch 445: 100%|██████████| 282/282 [00:08<00:00, 34.23it/s]\n"
          ]
        },
        {
          "metadata": {
            "tags": null
          },
          "name": "stdout",
          "output_type": "stream",
          "text": [
            "validation loss: 0.00293375882671939 at epoch 446\n",
            "learning_rate: 0.0005242880000000002\n"
          ]
        },
        {
          "metadata": {
            "tags": null
          },
          "name": "stderr",
          "output_type": "stream",
          "text": [
            "epoch 446: 100%|██████████| 282/282 [00:07<00:00, 36.45it/s]\n"
          ]
        },
        {
          "metadata": {
            "tags": null
          },
          "name": "stdout",
          "output_type": "stream",
          "text": [
            "validation loss: 0.001496149027513133 at epoch 447\n",
            "learning_rate: 0.0005242880000000002\n"
          ]
        },
        {
          "metadata": {
            "tags": null
          },
          "name": "stderr",
          "output_type": "stream",
          "text": [
            "epoch 447: 100%|██████████| 282/282 [00:08<00:00, 32.94it/s]\n"
          ]
        },
        {
          "metadata": {
            "tags": null
          },
          "name": "stdout",
          "output_type": "stream",
          "text": [
            "validation loss: 0.0030946101397275926 at epoch 448\n",
            "learning_rate: 0.0005242880000000002\n"
          ]
        },
        {
          "metadata": {
            "tags": null
          },
          "name": "stderr",
          "output_type": "stream",
          "text": [
            "epoch 448: 100%|██████████| 282/282 [00:08<00:00, 33.34it/s]\n"
          ]
        },
        {
          "metadata": {
            "tags": null
          },
          "name": "stdout",
          "output_type": "stream",
          "text": [
            "validation loss: 0.004253919922643238 at epoch 449\n",
            "learning_rate: 0.0005242880000000002\n"
          ]
        },
        {
          "metadata": {
            "tags": null
          },
          "name": "stderr",
          "output_type": "stream",
          "text": [
            "epoch 449: 100%|██████████| 282/282 [00:07<00:00, 36.45it/s]\n"
          ]
        },
        {
          "metadata": {
            "tags": null
          },
          "name": "stdout",
          "output_type": "stream",
          "text": [
            "validation loss: 0.002586371103922526 at epoch 450\n",
            "learning_rate: 0.0005242880000000002\n"
          ]
        },
        {
          "metadata": {
            "tags": null
          },
          "name": "stderr",
          "output_type": "stream",
          "text": [
            "epoch 450: 100%|██████████| 282/282 [00:08<00:00, 33.44it/s]\n"
          ]
        },
        {
          "metadata": {
            "tags": null
          },
          "name": "stdout",
          "output_type": "stream",
          "text": [
            "validation loss: 0.001996734928753641 at epoch 451\n",
            "learning_rate: 0.0005242880000000002\n"
          ]
        },
        {
          "metadata": {
            "tags": null
          },
          "name": "stderr",
          "output_type": "stream",
          "text": [
            "epoch 451: 100%|██████████| 282/282 [00:08<00:00, 33.54it/s]\n"
          ]
        },
        {
          "metadata": {
            "tags": null
          },
          "name": "stdout",
          "output_type": "stream",
          "text": [
            "validation loss: 0.002675722357299593 at epoch 452\n",
            "learning_rate: 0.0005242880000000002\n"
          ]
        },
        {
          "metadata": {
            "tags": null
          },
          "name": "stderr",
          "output_type": "stream",
          "text": [
            "epoch 452: 100%|██████████| 282/282 [00:07<00:00, 37.09it/s]\n"
          ]
        },
        {
          "metadata": {
            "tags": null
          },
          "name": "stdout",
          "output_type": "stream",
          "text": [
            "validation loss: 0.002535859508646859 at epoch 453\n",
            "learning_rate: 0.0005242880000000002\n"
          ]
        },
        {
          "metadata": {
            "tags": null
          },
          "name": "stderr",
          "output_type": "stream",
          "text": [
            "epoch 453: 100%|██████████| 282/282 [00:08<00:00, 33.33it/s]\n"
          ]
        },
        {
          "metadata": {
            "tags": null
          },
          "name": "stdout",
          "output_type": "stream",
          "text": [
            "validation loss: 0.0021330723613500594 at epoch 454\n",
            "learning_rate: 0.0005242880000000002\n"
          ]
        },
        {
          "metadata": {
            "tags": null
          },
          "name": "stderr",
          "output_type": "stream",
          "text": [
            "epoch 454: 100%|██████████| 282/282 [00:08<00:00, 34.00it/s]\n"
          ]
        },
        {
          "metadata": {
            "tags": null
          },
          "name": "stdout",
          "output_type": "stream",
          "text": [
            "validation loss: 0.0023609308070606655 at epoch 455\n",
            "learning_rate: 0.0005242880000000002\n"
          ]
        },
        {
          "metadata": {
            "tags": null
          },
          "name": "stderr",
          "output_type": "stream",
          "text": [
            "epoch 455: 100%|██████████| 282/282 [00:07<00:00, 36.82it/s]\n"
          ]
        },
        {
          "metadata": {
            "tags": null
          },
          "name": "stdout",
          "output_type": "stream",
          "text": [
            "validation loss: 0.0013657311648130417 at epoch 456\n",
            "learning_rate: 0.0005242880000000002\n"
          ]
        },
        {
          "metadata": {
            "tags": null
          },
          "name": "stderr",
          "output_type": "stream",
          "text": [
            "epoch 456: 100%|██████████| 282/282 [00:08<00:00, 34.07it/s]\n"
          ]
        },
        {
          "metadata": {
            "tags": null
          },
          "name": "stdout",
          "output_type": "stream",
          "text": [
            "validation loss: 0.0029961920893854565 at epoch 457\n",
            "learning_rate: 0.0005242880000000002\n"
          ]
        },
        {
          "metadata": {
            "tags": null
          },
          "name": "stderr",
          "output_type": "stream",
          "text": [
            "epoch 457: 100%|██████████| 282/282 [00:08<00:00, 33.13it/s]\n"
          ]
        },
        {
          "metadata": {
            "tags": null
          },
          "name": "stdout",
          "output_type": "stream",
          "text": [
            "validation loss: 0.0028242344078090458 at epoch 458\n",
            "learning_rate: 0.0005242880000000002\n"
          ]
        },
        {
          "metadata": {
            "tags": null
          },
          "name": "stderr",
          "output_type": "stream",
          "text": [
            "epoch 458: 100%|██████████| 282/282 [00:07<00:00, 36.22it/s]\n"
          ]
        },
        {
          "metadata": {
            "tags": null
          },
          "name": "stdout",
          "output_type": "stream",
          "text": [
            "validation loss: 0.003817686299482981 at epoch 459\n",
            "learning_rate: 0.0005242880000000002\n"
          ]
        },
        {
          "metadata": {
            "tags": null
          },
          "name": "stderr",
          "output_type": "stream",
          "text": [
            "epoch 459: 100%|██████████| 282/282 [00:08<00:00, 35.24it/s]\n"
          ]
        },
        {
          "metadata": {
            "tags": null
          },
          "name": "stdout",
          "output_type": "stream",
          "text": [
            "validation loss: 0.0033441883507702086 at epoch 460\n",
            "learning_rate: 0.0005242880000000002\n"
          ]
        },
        {
          "metadata": {
            "tags": null
          },
          "name": "stderr",
          "output_type": "stream",
          "text": [
            "epoch 460: 100%|██████████| 282/282 [00:08<00:00, 33.15it/s]\n"
          ]
        },
        {
          "metadata": {
            "tags": null
          },
          "name": "stdout",
          "output_type": "stream",
          "text": [
            "validation loss: 0.0027149605883492363 at epoch 461\n",
            "learning_rate: 0.0005242880000000002\n"
          ]
        },
        {
          "metadata": {
            "tags": null
          },
          "name": "stderr",
          "output_type": "stream",
          "text": [
            "epoch 461: 100%|██████████| 282/282 [00:08<00:00, 35.04it/s]\n"
          ]
        },
        {
          "metadata": {
            "tags": null
          },
          "name": "stdout",
          "output_type": "stream",
          "text": [
            "validation loss: 0.004052185750669904 at epoch 462\n",
            "learning_rate: 0.0005242880000000002\n"
          ]
        },
        {
          "metadata": {
            "tags": null
          },
          "name": "stderr",
          "output_type": "stream",
          "text": [
            "epoch 462: 100%|██████████| 282/282 [00:07<00:00, 36.33it/s]\n"
          ]
        },
        {
          "metadata": {
            "tags": null
          },
          "name": "stdout",
          "output_type": "stream",
          "text": [
            "validation loss: 0.004375181290838454 at epoch 463\n",
            "learning_rate: 0.0005242880000000002\n"
          ]
        },
        {
          "metadata": {
            "tags": null
          },
          "name": "stderr",
          "output_type": "stream",
          "text": [
            "epoch 463: 100%|██████████| 282/282 [00:08<00:00, 33.14it/s]\n"
          ]
        },
        {
          "metadata": {
            "tags": null
          },
          "name": "stdout",
          "output_type": "stream",
          "text": [
            "validation loss: 0.005214227467775345 at epoch 464\n",
            "learning_rate: 0.0005242880000000002\n"
          ]
        },
        {
          "metadata": {
            "tags": null
          },
          "name": "stderr",
          "output_type": "stream",
          "text": [
            "epoch 464: 100%|██████████| 282/282 [00:08<00:00, 33.18it/s]\n"
          ]
        },
        {
          "metadata": {
            "tags": null
          },
          "name": "stdout",
          "output_type": "stream",
          "text": [
            "validation loss: 0.0043396228518750935 at epoch 465\n",
            "learning_rate: 0.0005242880000000002\n"
          ]
        },
        {
          "metadata": {
            "tags": null
          },
          "name": "stderr",
          "output_type": "stream",
          "text": [
            "epoch 465: 100%|██████████| 282/282 [00:07<00:00, 36.74it/s]\n"
          ]
        },
        {
          "metadata": {
            "tags": null
          },
          "name": "stdout",
          "output_type": "stream",
          "text": [
            "validation loss: 0.0035458201898468863 at epoch 466\n",
            "learning_rate: 0.0005242880000000002\n"
          ]
        },
        {
          "metadata": {
            "tags": null
          },
          "name": "stderr",
          "output_type": "stream",
          "text": [
            "epoch 466: 100%|██████████| 282/282 [00:08<00:00, 33.65it/s]\n"
          ]
        },
        {
          "metadata": {
            "tags": null
          },
          "name": "stdout",
          "output_type": "stream",
          "text": [
            "validation loss: 0.00353389058344894 at epoch 467\n",
            "learning_rate: 0.0005242880000000002\n"
          ]
        },
        {
          "metadata": {
            "tags": null
          },
          "name": "stderr",
          "output_type": "stream",
          "text": [
            "epoch 467: 100%|██████████| 282/282 [00:08<00:00, 33.04it/s]\n"
          ]
        },
        {
          "metadata": {
            "tags": null
          },
          "name": "stdout",
          "output_type": "stream",
          "text": [
            "validation loss: 0.004061158100763957 at epoch 468\n",
            "learning_rate: 0.0005242880000000002\n"
          ]
        },
        {
          "metadata": {
            "tags": null
          },
          "name": "stderr",
          "output_type": "stream",
          "text": [
            "epoch 468: 100%|██████████| 282/282 [00:07<00:00, 36.99it/s]\n"
          ]
        },
        {
          "metadata": {
            "tags": null
          },
          "name": "stdout",
          "output_type": "stream",
          "text": [
            "validation loss: 0.00536034389005767 at epoch 469\n",
            "learning_rate: 0.0005242880000000002\n"
          ]
        },
        {
          "metadata": {
            "tags": null
          },
          "name": "stderr",
          "output_type": "stream",
          "text": [
            "epoch 469: 100%|██████████| 282/282 [00:08<00:00, 33.63it/s]\n"
          ]
        },
        {
          "metadata": {
            "tags": null
          },
          "name": "stdout",
          "output_type": "stream",
          "text": [
            "validation loss: 0.004901925332016415 at epoch 470\n",
            "learning_rate: 0.0005242880000000002\n"
          ]
        },
        {
          "metadata": {
            "tags": null
          },
          "name": "stderr",
          "output_type": "stream",
          "text": [
            "epoch 470: 100%|██████████| 282/282 [00:08<00:00, 33.70it/s]\n"
          ]
        },
        {
          "metadata": {
            "tags": null
          },
          "name": "stdout",
          "output_type": "stream",
          "text": [
            "validation loss: 0.00416373038623068 at epoch 471\n",
            "learning_rate: 0.0005242880000000002\n"
          ]
        },
        {
          "metadata": {
            "tags": null
          },
          "name": "stderr",
          "output_type": "stream",
          "text": [
            "epoch 471: 100%|██████████| 282/282 [00:07<00:00, 36.24it/s]\n"
          ]
        },
        {
          "metadata": {
            "tags": null
          },
          "name": "stdout",
          "output_type": "stream",
          "text": [
            "validation loss: 0.0035393458704153697 at epoch 472\n",
            "learning_rate: 0.0005242880000000002\n"
          ]
        },
        {
          "metadata": {
            "tags": null
          },
          "name": "stderr",
          "output_type": "stream",
          "text": [
            "epoch 472: 100%|██████████| 282/282 [00:08<00:00, 34.62it/s]\n"
          ]
        },
        {
          "metadata": {
            "tags": null
          },
          "name": "stdout",
          "output_type": "stream",
          "text": [
            "validation loss: 0.0019983347803354265 at epoch 473\n",
            "learning_rate: 0.0005242880000000002\n"
          ]
        },
        {
          "metadata": {
            "tags": null
          },
          "name": "stderr",
          "output_type": "stream",
          "text": [
            "epoch 473: 100%|██████████| 282/282 [00:08<00:00, 33.74it/s]\n"
          ]
        },
        {
          "metadata": {
            "tags": null
          },
          "name": "stdout",
          "output_type": "stream",
          "text": [
            "validation loss: 0.0033233627693520654 at epoch 474\n",
            "learning_rate: 0.0005242880000000002\n"
          ]
        },
        {
          "metadata": {
            "tags": null
          },
          "name": "stderr",
          "output_type": "stream",
          "text": [
            "epoch 474: 100%|██████████| 282/282 [00:07<00:00, 35.28it/s]\n"
          ]
        },
        {
          "metadata": {
            "tags": null
          },
          "name": "stdout",
          "output_type": "stream",
          "text": [
            "validation loss: 0.002460422843694687 at epoch 475\n",
            "learning_rate: 0.0005242880000000002\n"
          ]
        },
        {
          "metadata": {
            "tags": null
          },
          "name": "stderr",
          "output_type": "stream",
          "text": [
            "epoch 475: 100%|██████████| 282/282 [00:08<00:00, 34.72it/s]\n"
          ]
        },
        {
          "metadata": {
            "tags": null
          },
          "name": "stdout",
          "output_type": "stream",
          "text": [
            "validation loss: 0.001428708737095197 at epoch 476\n",
            "learning_rate: 0.0005242880000000002\n"
          ]
        },
        {
          "metadata": {
            "tags": null
          },
          "name": "stderr",
          "output_type": "stream",
          "text": [
            "epoch 476: 100%|██████████| 282/282 [00:08<00:00, 32.37it/s]\n"
          ]
        },
        {
          "metadata": {
            "tags": null
          },
          "name": "stdout",
          "output_type": "stream",
          "text": [
            "validation loss: 0.0043763796852694615 at epoch 477\n",
            "learning_rate: 0.0005242880000000002\n"
          ]
        },
        {
          "metadata": {
            "tags": null
          },
          "name": "stderr",
          "output_type": "stream",
          "text": [
            "epoch 477: 100%|██████████| 282/282 [00:08<00:00, 32.56it/s]\n"
          ]
        },
        {
          "metadata": {
            "tags": null
          },
          "name": "stdout",
          "output_type": "stream",
          "text": [
            "validation loss: 0.0031157409035497243 at epoch 478\n",
            "learning_rate: 0.0005242880000000002\n"
          ]
        },
        {
          "metadata": {
            "tags": null
          },
          "name": "stderr",
          "output_type": "stream",
          "text": [
            "epoch 478: 100%|██████████| 282/282 [00:07<00:00, 36.51it/s]\n"
          ]
        },
        {
          "metadata": {
            "tags": null
          },
          "name": "stdout",
          "output_type": "stream",
          "text": [
            "validation loss: 0.0020509347799751495 at epoch 479\n",
            "learning_rate: 0.0005242880000000002\n"
          ]
        },
        {
          "metadata": {
            "tags": null
          },
          "name": "stderr",
          "output_type": "stream",
          "text": [
            "epoch 479: 100%|██████████| 282/282 [00:08<00:00, 32.94it/s]\n"
          ]
        },
        {
          "metadata": {
            "tags": null
          },
          "name": "stdout",
          "output_type": "stream",
          "text": [
            "validation loss: 0.0014760548290279176 at epoch 480\n",
            "learning_rate: 0.0005242880000000002\n"
          ]
        },
        {
          "metadata": {
            "tags": null
          },
          "name": "stderr",
          "output_type": "stream",
          "text": [
            "epoch 480: 100%|██████████| 282/282 [00:08<00:00, 33.19it/s]\n"
          ]
        },
        {
          "metadata": {
            "tags": null
          },
          "name": "stdout",
          "output_type": "stream",
          "text": [
            "validation loss: 0.0014507143315341737 at epoch 481\n",
            "learning_rate: 0.0005242880000000002\n"
          ]
        },
        {
          "metadata": {
            "tags": null
          },
          "name": "stderr",
          "output_type": "stream",
          "text": [
            "epoch 481: 100%|██████████| 282/282 [00:07<00:00, 37.04it/s]\n"
          ]
        },
        {
          "metadata": {
            "tags": null
          },
          "name": "stdout",
          "output_type": "stream",
          "text": [
            "validation loss: 0.0014178973312179248 at epoch 482\n",
            "learning_rate: 0.0005242880000000002\n"
          ]
        },
        {
          "metadata": {
            "tags": null
          },
          "name": "stderr",
          "output_type": "stream",
          "text": [
            "epoch 482: 100%|██████████| 282/282 [00:08<00:00, 33.22it/s]\n"
          ]
        },
        {
          "metadata": {
            "tags": null
          },
          "name": "stdout",
          "output_type": "stream",
          "text": [
            "validation loss: 0.0023019538223743438 at epoch 483\n",
            "learning_rate: 0.0005242880000000002\n"
          ]
        },
        {
          "metadata": {
            "tags": null
          },
          "name": "stderr",
          "output_type": "stream",
          "text": [
            "epoch 483: 100%|██████████| 282/282 [00:08<00:00, 32.76it/s]\n"
          ]
        },
        {
          "metadata": {
            "tags": null
          },
          "name": "stdout",
          "output_type": "stream",
          "text": [
            "validation loss: 0.004001559032334222 at epoch 484\n",
            "learning_rate: 0.0005242880000000002\n"
          ]
        },
        {
          "metadata": {
            "tags": null
          },
          "name": "stderr",
          "output_type": "stream",
          "text": [
            "epoch 484: 100%|██████████| 282/282 [00:08<00:00, 35.12it/s]\n"
          ]
        },
        {
          "metadata": {
            "tags": null
          },
          "name": "stdout",
          "output_type": "stream",
          "text": [
            "validation loss: 0.0013629766346679793 at epoch 485\n",
            "learning_rate: 0.0005242880000000002\n"
          ]
        },
        {
          "metadata": {
            "tags": null
          },
          "name": "stderr",
          "output_type": "stream",
          "text": [
            "epoch 485: 100%|██████████| 282/282 [00:07<00:00, 35.53it/s]\n"
          ]
        },
        {
          "metadata": {
            "tags": null
          },
          "name": "stdout",
          "output_type": "stream",
          "text": [
            "validation loss: 0.001703291335867511 at epoch 486\n",
            "learning_rate: 0.0005242880000000002\n"
          ]
        },
        {
          "metadata": {
            "tags": null
          },
          "name": "stderr",
          "output_type": "stream",
          "text": [
            "epoch 486: 100%|██████████| 282/282 [00:08<00:00, 32.88it/s]\n"
          ]
        },
        {
          "metadata": {
            "tags": null
          },
          "name": "stdout",
          "output_type": "stream",
          "text": [
            "validation loss: 0.0026952685995234385 at epoch 487\n",
            "learning_rate: 0.0005242880000000002\n"
          ]
        },
        {
          "metadata": {
            "tags": null
          },
          "name": "stderr",
          "output_type": "stream",
          "text": [
            "epoch 487: 100%|██████████| 282/282 [00:08<00:00, 35.00it/s]\n"
          ]
        },
        {
          "metadata": {
            "tags": null
          },
          "name": "stdout",
          "output_type": "stream",
          "text": [
            "validation loss: 0.0032893244789706337 at epoch 488\n",
            "learning_rate: 0.0005242880000000002\n"
          ]
        },
        {
          "metadata": {
            "tags": null
          },
          "name": "stderr",
          "output_type": "stream",
          "text": [
            "epoch 488: 100%|██████████| 282/282 [00:07<00:00, 35.32it/s]\n"
          ]
        },
        {
          "metadata": {
            "tags": null
          },
          "name": "stdout",
          "output_type": "stream",
          "text": [
            "validation loss: 0.002086052570078108 at epoch 489\n",
            "learning_rate: 0.0005242880000000002\n"
          ]
        },
        {
          "metadata": {
            "tags": null
          },
          "name": "stderr",
          "output_type": "stream",
          "text": [
            "epoch 489: 100%|██████████| 282/282 [00:08<00:00, 33.66it/s]\n"
          ]
        },
        {
          "metadata": {
            "tags": null
          },
          "name": "stdout",
          "output_type": "stream",
          "text": [
            "validation loss: 0.0015245392728183004 at epoch 490\n",
            "learning_rate: 0.0005242880000000002\n"
          ]
        },
        {
          "metadata": {
            "tags": null
          },
          "name": "stderr",
          "output_type": "stream",
          "text": [
            "epoch 490: 100%|██████████| 282/282 [00:08<00:00, 33.81it/s]\n"
          ]
        },
        {
          "metadata": {
            "tags": null
          },
          "name": "stdout",
          "output_type": "stream",
          "text": [
            "validation loss: 0.001979969463414616 at epoch 491\n",
            "learning_rate: 0.0005242880000000002\n"
          ]
        },
        {
          "metadata": {
            "tags": null
          },
          "name": "stderr",
          "output_type": "stream",
          "text": [
            "epoch 491: 100%|██████████| 282/282 [00:07<00:00, 36.78it/s]\n"
          ]
        },
        {
          "metadata": {
            "tags": null
          },
          "name": "stdout",
          "output_type": "stream",
          "text": [
            "validation loss: 0.00173715258969201 at epoch 492\n",
            "learning_rate: 0.0005242880000000002\n"
          ]
        },
        {
          "metadata": {
            "tags": null
          },
          "name": "stderr",
          "output_type": "stream",
          "text": [
            "epoch 492: 100%|██████████| 282/282 [00:08<00:00, 33.41it/s]\n"
          ]
        },
        {
          "metadata": {
            "tags": null
          },
          "name": "stdout",
          "output_type": "stream",
          "text": [
            "validation loss: 0.0014402281733022796 at epoch 493\n",
            "learning_rate: 0.0005242880000000002\n"
          ]
        },
        {
          "metadata": {
            "tags": null
          },
          "name": "stderr",
          "output_type": "stream",
          "text": [
            "epoch 493: 100%|██████████| 282/282 [00:08<00:00, 33.08it/s]\n"
          ]
        },
        {
          "metadata": {
            "tags": null
          },
          "name": "stdout",
          "output_type": "stream",
          "text": [
            "validation loss: 0.0021389105709062684 at epoch 494\n",
            "learning_rate: 0.00041943040000000023\n"
          ]
        },
        {
          "metadata": {
            "tags": null
          },
          "name": "stderr",
          "output_type": "stream",
          "text": [
            "epoch 494: 100%|██████████| 282/282 [00:08<00:00, 34.69it/s]\n"
          ]
        },
        {
          "metadata": {
            "tags": null
          },
          "name": "stdout",
          "output_type": "stream",
          "text": [
            "validation loss: 0.0020588197021020782 at epoch 495\n",
            "learning_rate: 0.00041943040000000023\n"
          ]
        },
        {
          "metadata": {
            "tags": null
          },
          "name": "stderr",
          "output_type": "stream",
          "text": [
            "epoch 495: 100%|██████████| 282/282 [00:08<00:00, 34.49it/s]\n"
          ]
        },
        {
          "metadata": {
            "tags": null
          },
          "name": "stdout",
          "output_type": "stream",
          "text": [
            "validation loss: 0.0022332341935899524 at epoch 496\n",
            "learning_rate: 0.00041943040000000023\n"
          ]
        },
        {
          "metadata": {
            "tags": null
          },
          "name": "stderr",
          "output_type": "stream",
          "text": [
            "epoch 496: 100%|██████████| 282/282 [00:08<00:00, 33.62it/s]\n"
          ]
        },
        {
          "metadata": {
            "tags": null
          },
          "name": "stdout",
          "output_type": "stream",
          "text": [
            "validation loss: 0.0024446450488434896 at epoch 497\n",
            "learning_rate: 0.00041943040000000023\n"
          ]
        },
        {
          "metadata": {
            "tags": null
          },
          "name": "stderr",
          "output_type": "stream",
          "text": [
            "epoch 497: 100%|██████████| 282/282 [00:08<00:00, 33.91it/s]\n"
          ]
        },
        {
          "metadata": {
            "tags": null
          },
          "name": "stdout",
          "output_type": "stream",
          "text": [
            "validation loss: 0.0025140303472677866 at epoch 498\n",
            "learning_rate: 0.00041943040000000023\n"
          ]
        },
        {
          "metadata": {
            "tags": null
          },
          "name": "stderr",
          "output_type": "stream",
          "text": [
            "epoch 498: 100%|██████████| 282/282 [00:07<00:00, 36.50it/s]\n"
          ]
        },
        {
          "metadata": {
            "tags": null
          },
          "name": "stdout",
          "output_type": "stream",
          "text": [
            "validation loss: 0.002555901219447454 at epoch 499\n",
            "learning_rate: 0.00041943040000000023\n"
          ]
        },
        {
          "metadata": {
            "tags": null
          },
          "name": "stderr",
          "output_type": "stream",
          "text": [
            "epoch 499: 100%|██████████| 282/282 [00:08<00:00, 33.02it/s]\n"
          ]
        },
        {
          "metadata": {
            "tags": null
          },
          "name": "stdout",
          "output_type": "stream",
          "text": [
            "validation loss: 0.0025082724922233157 at epoch 500\n",
            "learning_rate: 0.00041943040000000023\n"
          ]
        },
        {
          "metadata": {
            "tags": null
          },
          "name": "stderr",
          "output_type": "stream",
          "text": [
            "epoch 500: 100%|██████████| 282/282 [00:08<00:00, 33.30it/s]\n"
          ]
        },
        {
          "metadata": {
            "tags": null
          },
          "name": "stdout",
          "output_type": "stream",
          "text": [
            "validation loss: 0.0022695402022865083 at epoch 501\n",
            "learning_rate: 0.00041943040000000023\n"
          ]
        },
        {
          "metadata": {
            "tags": null
          },
          "name": "stderr",
          "output_type": "stream",
          "text": [
            "epoch 501: 100%|██████████| 282/282 [00:07<00:00, 37.02it/s]\n"
          ]
        },
        {
          "metadata": {
            "tags": null
          },
          "name": "stdout",
          "output_type": "stream",
          "text": [
            "validation loss: 0.0017275057294302517 at epoch 502\n",
            "learning_rate: 0.00041943040000000023\n"
          ]
        },
        {
          "metadata": {
            "tags": null
          },
          "name": "stderr",
          "output_type": "stream",
          "text": [
            "epoch 502: 100%|██████████| 282/282 [00:08<00:00, 33.27it/s]\n"
          ]
        },
        {
          "metadata": {
            "tags": null
          },
          "name": "stdout",
          "output_type": "stream",
          "text": [
            "validation loss: 0.001484999831351969 at epoch 503\n",
            "learning_rate: 0.00041943040000000023\n"
          ]
        },
        {
          "metadata": {
            "tags": null
          },
          "name": "stderr",
          "output_type": "stream",
          "text": [
            "epoch 503: 100%|██████████| 282/282 [00:08<00:00, 33.84it/s]\n"
          ]
        },
        {
          "metadata": {
            "tags": null
          },
          "name": "stdout",
          "output_type": "stream",
          "text": [
            "validation loss: 0.0021790963295433255 at epoch 504\n",
            "learning_rate: 0.00041943040000000023\n"
          ]
        },
        {
          "metadata": {
            "tags": null
          },
          "name": "stderr",
          "output_type": "stream",
          "text": [
            "epoch 504: 100%|██████████| 282/282 [00:07<00:00, 36.67it/s]\n"
          ]
        },
        {
          "metadata": {
            "tags": null
          },
          "name": "stdout",
          "output_type": "stream",
          "text": [
            "validation loss: 0.0023515714241398706 at epoch 505\n",
            "learning_rate: 0.00041943040000000023\n"
          ]
        },
        {
          "metadata": {
            "tags": null
          },
          "name": "stderr",
          "output_type": "stream",
          "text": [
            "epoch 505: 100%|██████████| 282/282 [00:08<00:00, 33.45it/s]\n"
          ]
        },
        {
          "metadata": {
            "tags": null
          },
          "name": "stdout",
          "output_type": "stream",
          "text": [
            "validation loss: 0.002519603222608566 at epoch 506\n",
            "learning_rate: 0.00041943040000000023\n"
          ]
        },
        {
          "metadata": {
            "tags": null
          },
          "name": "stderr",
          "output_type": "stream",
          "text": [
            "epoch 506: 100%|██████████| 282/282 [00:08<00:00, 33.18it/s]\n"
          ]
        },
        {
          "metadata": {
            "tags": null
          },
          "name": "stdout",
          "output_type": "stream",
          "text": [
            "validation loss: 0.002108091144098176 at epoch 507\n",
            "learning_rate: 0.00041943040000000023\n"
          ]
        },
        {
          "metadata": {
            "tags": null
          },
          "name": "stderr",
          "output_type": "stream",
          "text": [
            "epoch 507: 100%|██████████| 282/282 [00:08<00:00, 35.03it/s]\n"
          ]
        },
        {
          "metadata": {
            "tags": null
          },
          "name": "stdout",
          "output_type": "stream",
          "text": [
            "validation loss: 0.00268891588681274 at epoch 508\n",
            "learning_rate: 0.00041943040000000023\n"
          ]
        },
        {
          "metadata": {
            "tags": null
          },
          "name": "stderr",
          "output_type": "stream",
          "text": [
            "epoch 508: 100%|██████████| 282/282 [00:07<00:00, 36.12it/s]\n"
          ]
        },
        {
          "metadata": {
            "tags": null
          },
          "name": "stdout",
          "output_type": "stream",
          "text": [
            "validation loss: 0.001959514925877253 at epoch 509\n",
            "learning_rate: 0.00041943040000000023\n"
          ]
        },
        {
          "metadata": {
            "tags": null
          },
          "name": "stderr",
          "output_type": "stream",
          "text": [
            "epoch 509: 100%|██████████| 282/282 [00:08<00:00, 32.90it/s]\n"
          ]
        },
        {
          "metadata": {
            "tags": null
          },
          "name": "stdout",
          "output_type": "stream",
          "text": [
            "validation loss: 0.0020956695129474004 at epoch 510\n",
            "learning_rate: 0.00041943040000000023\n"
          ]
        },
        {
          "metadata": {
            "tags": null
          },
          "name": "stderr",
          "output_type": "stream",
          "text": [
            "epoch 510: 100%|██████████| 282/282 [00:08<00:00, 34.33it/s]\n"
          ]
        },
        {
          "metadata": {
            "tags": null
          },
          "name": "stdout",
          "output_type": "stream",
          "text": [
            "validation loss: 0.002676450287302335 at epoch 511\n",
            "learning_rate: 0.00041943040000000023\n"
          ]
        },
        {
          "metadata": {
            "tags": null
          },
          "name": "stderr",
          "output_type": "stream",
          "text": [
            "epoch 511: 100%|██████████| 282/282 [00:07<00:00, 36.93it/s]\n"
          ]
        },
        {
          "metadata": {
            "tags": null
          },
          "name": "stdout",
          "output_type": "stream",
          "text": [
            "validation loss: 0.0022137032647927602 at epoch 512\n",
            "learning_rate: 0.00041943040000000023\n"
          ]
        },
        {
          "metadata": {
            "tags": null
          },
          "name": "stderr",
          "output_type": "stream",
          "text": [
            "epoch 512: 100%|██████████| 282/282 [00:08<00:00, 33.39it/s]\n"
          ]
        },
        {
          "metadata": {
            "tags": null
          },
          "name": "stdout",
          "output_type": "stream",
          "text": [
            "validation loss: 0.0019598035820656353 at epoch 513\n",
            "learning_rate: 0.00041943040000000023\n"
          ]
        },
        {
          "metadata": {
            "tags": null
          },
          "name": "stderr",
          "output_type": "stream",
          "text": [
            "epoch 513: 100%|██████████| 282/282 [00:08<00:00, 33.53it/s]\n"
          ]
        },
        {
          "metadata": {
            "tags": null
          },
          "name": "stdout",
          "output_type": "stream",
          "text": [
            "validation loss: 0.002371044142378701 at epoch 514\n",
            "learning_rate: 0.00041943040000000023\n"
          ]
        },
        {
          "metadata": {
            "tags": null
          },
          "name": "stderr",
          "output_type": "stream",
          "text": [
            "epoch 514: 100%|██████████| 282/282 [00:07<00:00, 37.21it/s]\n"
          ]
        },
        {
          "metadata": {
            "tags": null
          },
          "name": "stdout",
          "output_type": "stream",
          "text": [
            "validation loss: 0.0026719607512156168 at epoch 515\n",
            "learning_rate: 0.00041943040000000023\n"
          ]
        },
        {
          "metadata": {
            "tags": null
          },
          "name": "stderr",
          "output_type": "stream",
          "text": [
            "epoch 515: 100%|██████████| 282/282 [00:08<00:00, 33.77it/s]\n"
          ]
        },
        {
          "metadata": {
            "tags": null
          },
          "name": "stdout",
          "output_type": "stream",
          "text": [
            "validation loss: 0.0012399314579864343 at epoch 516\n",
            "learning_rate: 0.00041943040000000023\n",
            "model saved in ani_acrolein.pt\n"
          ]
        },
        {
          "metadata": {
            "tags": null
          },
          "name": "stderr",
          "output_type": "stream",
          "text": [
            "epoch 516: 100%|██████████| 282/282 [00:08<00:00, 33.05it/s]\n"
          ]
        },
        {
          "metadata": {
            "tags": null
          },
          "name": "stdout",
          "output_type": "stream",
          "text": [
            "validation loss: 0.002337230569786496 at epoch 517\n",
            "learning_rate: 0.00041943040000000023\n"
          ]
        },
        {
          "metadata": {
            "tags": null
          },
          "name": "stderr",
          "output_type": "stream",
          "text": [
            "epoch 517: 100%|██████████| 282/282 [00:07<00:00, 37.14it/s]\n"
          ]
        },
        {
          "metadata": {
            "tags": null
          },
          "name": "stdout",
          "output_type": "stream",
          "text": [
            "validation loss: 0.0016718244776129723 at epoch 518\n",
            "learning_rate: 0.00041943040000000023\n"
          ]
        },
        {
          "metadata": {
            "tags": null
          },
          "name": "stderr",
          "output_type": "stream",
          "text": [
            "epoch 518: 100%|██████████| 282/282 [00:08<00:00, 33.32it/s]\n"
          ]
        },
        {
          "metadata": {
            "tags": null
          },
          "name": "stdout",
          "output_type": "stream",
          "text": [
            "validation loss: 0.002033361069030232 at epoch 519\n",
            "learning_rate: 0.00041943040000000023\n"
          ]
        },
        {
          "metadata": {
            "tags": null
          },
          "name": "stderr",
          "output_type": "stream",
          "text": [
            "epoch 519: 100%|██████████| 282/282 [00:08<00:00, 33.13it/s]\n"
          ]
        },
        {
          "metadata": {
            "tags": null
          },
          "name": "stdout",
          "output_type": "stream",
          "text": [
            "validation loss: 0.0022280000083976324 at epoch 520\n",
            "learning_rate: 0.00041943040000000023\n"
          ]
        },
        {
          "metadata": {
            "tags": null
          },
          "name": "stderr",
          "output_type": "stream",
          "text": [
            "epoch 520: 100%|██████████| 282/282 [00:07<00:00, 36.73it/s]\n"
          ]
        },
        {
          "metadata": {
            "tags": null
          },
          "name": "stdout",
          "output_type": "stream",
          "text": [
            "validation loss: 0.002860266935494211 at epoch 521\n",
            "learning_rate: 0.00041943040000000023\n"
          ]
        },
        {
          "metadata": {
            "tags": null
          },
          "name": "stderr",
          "output_type": "stream",
          "text": [
            "epoch 521: 100%|██████████| 282/282 [00:08<00:00, 33.93it/s]\n"
          ]
        },
        {
          "metadata": {
            "tags": null
          },
          "name": "stdout",
          "output_type": "stream",
          "text": [
            "validation loss: 0.001520008806553152 at epoch 522\n",
            "learning_rate: 0.00041943040000000023\n"
          ]
        },
        {
          "metadata": {
            "tags": null
          },
          "name": "stderr",
          "output_type": "stream",
          "text": [
            "epoch 522: 100%|██████████| 282/282 [00:08<00:00, 33.83it/s]\n"
          ]
        },
        {
          "metadata": {
            "tags": null
          },
          "name": "stdout",
          "output_type": "stream",
          "text": [
            "validation loss: 0.002905787999431292 at epoch 523\n",
            "learning_rate: 0.00041943040000000023\n"
          ]
        },
        {
          "metadata": {
            "tags": null
          },
          "name": "stderr",
          "output_type": "stream",
          "text": [
            "epoch 523: 100%|██████████| 282/282 [00:08<00:00, 34.93it/s]\n"
          ]
        },
        {
          "metadata": {
            "tags": null
          },
          "name": "stdout",
          "output_type": "stream",
          "text": [
            "validation loss: 0.0025054791188902324 at epoch 524\n",
            "learning_rate: 0.00041943040000000023\n"
          ]
        },
        {
          "metadata": {
            "tags": null
          },
          "name": "stderr",
          "output_type": "stream",
          "text": [
            "epoch 524: 100%|██████████| 282/282 [00:07<00:00, 36.26it/s]\n"
          ]
        },
        {
          "metadata": {
            "tags": null
          },
          "name": "stdout",
          "output_type": "stream",
          "text": [
            "validation loss: 0.0014181620528300604 at epoch 525\n",
            "learning_rate: 0.00041943040000000023\n"
          ]
        },
        {
          "metadata": {
            "tags": null
          },
          "name": "stderr",
          "output_type": "stream",
          "text": [
            "epoch 525: 100%|██████████| 282/282 [00:08<00:00, 33.57it/s]\n"
          ]
        },
        {
          "metadata": {
            "tags": null
          },
          "name": "stdout",
          "output_type": "stream",
          "text": [
            "validation loss: 0.0018396937060687277 at epoch 526\n",
            "learning_rate: 0.00041943040000000023\n"
          ]
        },
        {
          "metadata": {
            "tags": null
          },
          "name": "stderr",
          "output_type": "stream",
          "text": [
            "epoch 526: 100%|██████████| 282/282 [00:08<00:00, 33.57it/s]\n"
          ]
        },
        {
          "metadata": {
            "tags": null
          },
          "name": "stdout",
          "output_type": "stream",
          "text": [
            "validation loss: 0.002323077486621009 at epoch 527\n",
            "learning_rate: 0.00041943040000000023\n"
          ]
        },
        {
          "metadata": {
            "tags": null
          },
          "name": "stderr",
          "output_type": "stream",
          "text": [
            "epoch 527: 100%|██████████| 282/282 [00:08<00:00, 35.24it/s]\n"
          ]
        },
        {
          "metadata": {
            "tags": null
          },
          "name": "stdout",
          "output_type": "stream",
          "text": [
            "validation loss: 0.0022169333265887364 at epoch 528\n",
            "learning_rate: 0.00041943040000000023\n"
          ]
        },
        {
          "metadata": {
            "tags": null
          },
          "name": "stderr",
          "output_type": "stream",
          "text": [
            "epoch 528: 100%|██████████| 282/282 [00:08<00:00, 32.88it/s]\n"
          ]
        },
        {
          "metadata": {
            "tags": null
          },
          "name": "stdout",
          "output_type": "stream",
          "text": [
            "validation loss: 0.00141981999658876 at epoch 529\n",
            "learning_rate: 0.00041943040000000023\n"
          ]
        },
        {
          "metadata": {
            "tags": null
          },
          "name": "stderr",
          "output_type": "stream",
          "text": [
            "epoch 529: 100%|██████████| 282/282 [00:08<00:00, 33.56it/s]\n"
          ]
        },
        {
          "metadata": {
            "tags": null
          },
          "name": "stdout",
          "output_type": "stream",
          "text": [
            "validation loss: 0.0016218994268112712 at epoch 530\n",
            "learning_rate: 0.00041943040000000023\n"
          ]
        },
        {
          "metadata": {
            "tags": null
          },
          "name": "stderr",
          "output_type": "stream",
          "text": [
            "epoch 530: 100%|██████████| 282/282 [00:07<00:00, 36.69it/s]\n"
          ]
        },
        {
          "metadata": {
            "tags": null
          },
          "name": "stdout",
          "output_type": "stream",
          "text": [
            "validation loss: 0.001387844382888741 at epoch 531\n",
            "learning_rate: 0.00041943040000000023\n"
          ]
        },
        {
          "metadata": {
            "tags": null
          },
          "name": "stderr",
          "output_type": "stream",
          "text": [
            "epoch 531: 100%|██████████| 282/282 [00:08<00:00, 34.28it/s]\n"
          ]
        },
        {
          "metadata": {
            "tags": null
          },
          "name": "stdout",
          "output_type": "stream",
          "text": [
            "validation loss: 0.0016857186663481924 at epoch 532\n",
            "learning_rate: 0.00041943040000000023\n"
          ]
        },
        {
          "metadata": {
            "tags": null
          },
          "name": "stderr",
          "output_type": "stream",
          "text": [
            "epoch 532: 100%|██████████| 282/282 [00:08<00:00, 33.63it/s]\n"
          ]
        },
        {
          "metadata": {
            "tags": null
          },
          "name": "stdout",
          "output_type": "stream",
          "text": [
            "validation loss: 0.0014597376411159832 at epoch 533\n",
            "learning_rate: 0.00041943040000000023\n"
          ]
        },
        {
          "metadata": {
            "tags": null
          },
          "name": "stderr",
          "output_type": "stream",
          "text": [
            "epoch 533: 100%|██████████| 282/282 [00:07<00:00, 35.51it/s]\n"
          ]
        },
        {
          "metadata": {
            "tags": null
          },
          "name": "stdout",
          "output_type": "stream",
          "text": [
            "validation loss: 0.00242705580426587 at epoch 534\n",
            "learning_rate: 0.00041943040000000023\n"
          ]
        },
        {
          "metadata": {
            "tags": null
          },
          "name": "stderr",
          "output_type": "stream",
          "text": [
            "epoch 534: 100%|██████████| 282/282 [00:08<00:00, 34.51it/s]\n"
          ]
        },
        {
          "metadata": {
            "tags": null
          },
          "name": "stdout",
          "output_type": "stream",
          "text": [
            "validation loss: 0.003412318112121688 at epoch 535\n",
            "learning_rate: 0.00041943040000000023\n"
          ]
        },
        {
          "metadata": {
            "tags": null
          },
          "name": "stderr",
          "output_type": "stream",
          "text": [
            "epoch 535: 100%|██████████| 282/282 [00:08<00:00, 32.82it/s]\n"
          ]
        },
        {
          "metadata": {
            "tags": null
          },
          "name": "stdout",
          "output_type": "stream",
          "text": [
            "validation loss: 0.004206250535117255 at epoch 536\n",
            "learning_rate: 0.00041943040000000023\n"
          ]
        },
        {
          "metadata": {
            "tags": null
          },
          "name": "stderr",
          "output_type": "stream",
          "text": [
            "epoch 536: 100%|██████████| 282/282 [00:08<00:00, 34.31it/s]\n"
          ]
        },
        {
          "metadata": {
            "tags": null
          },
          "name": "stdout",
          "output_type": "stream",
          "text": [
            "validation loss: 0.002660474204354816 at epoch 537\n",
            "learning_rate: 0.00041943040000000023\n"
          ]
        },
        {
          "metadata": {
            "tags": null
          },
          "name": "stderr",
          "output_type": "stream",
          "text": [
            "epoch 537: 100%|██████████| 282/282 [00:07<00:00, 36.71it/s]\n"
          ]
        },
        {
          "metadata": {
            "tags": null
          },
          "name": "stdout",
          "output_type": "stream",
          "text": [
            "validation loss: 0.0013472308582729764 at epoch 538\n",
            "learning_rate: 0.00041943040000000023\n"
          ]
        },
        {
          "metadata": {
            "tags": null
          },
          "name": "stderr",
          "output_type": "stream",
          "text": [
            "epoch 538: 100%|██████████| 282/282 [00:08<00:00, 33.61it/s]\n"
          ]
        },
        {
          "metadata": {
            "tags": null
          },
          "name": "stdout",
          "output_type": "stream",
          "text": [
            "validation loss: 0.002041971700059043 at epoch 539\n",
            "learning_rate: 0.00041943040000000023\n"
          ]
        },
        {
          "metadata": {
            "tags": null
          },
          "name": "stderr",
          "output_type": "stream",
          "text": [
            "epoch 539: 100%|██████████| 282/282 [00:08<00:00, 33.46it/s]\n"
          ]
        },
        {
          "metadata": {
            "tags": null
          },
          "name": "stdout",
          "output_type": "stream",
          "text": [
            "validation loss: 0.0019276039608650737 at epoch 540\n",
            "learning_rate: 0.00041943040000000023\n"
          ]
        },
        {
          "metadata": {
            "tags": null
          },
          "name": "stderr",
          "output_type": "stream",
          "text": [
            "epoch 540: 100%|██████████| 282/282 [00:07<00:00, 36.92it/s]\n"
          ]
        },
        {
          "metadata": {
            "tags": null
          },
          "name": "stdout",
          "output_type": "stream",
          "text": [
            "validation loss: 0.002421945586800575 at epoch 541\n",
            "learning_rate: 0.00041943040000000023\n"
          ]
        },
        {
          "metadata": {
            "tags": null
          },
          "name": "stderr",
          "output_type": "stream",
          "text": [
            "epoch 541: 100%|██████████| 282/282 [00:08<00:00, 32.68it/s]\n"
          ]
        },
        {
          "metadata": {
            "tags": null
          },
          "name": "stdout",
          "output_type": "stream",
          "text": [
            "validation loss: 0.0018492337341109912 at epoch 542\n",
            "learning_rate: 0.00041943040000000023\n"
          ]
        },
        {
          "metadata": {
            "tags": null
          },
          "name": "stderr",
          "output_type": "stream",
          "text": [
            "epoch 542: 100%|██████████| 282/282 [00:08<00:00, 32.89it/s]\n"
          ]
        },
        {
          "metadata": {
            "tags": null
          },
          "name": "stdout",
          "output_type": "stream",
          "text": [
            "validation loss: 0.0026440270625882677 at epoch 543\n",
            "learning_rate: 0.00041943040000000023\n"
          ]
        },
        {
          "metadata": {
            "tags": null
          },
          "name": "stderr",
          "output_type": "stream",
          "text": [
            "epoch 543: 100%|██████████| 282/282 [00:07<00:00, 35.58it/s]\n"
          ]
        },
        {
          "metadata": {
            "tags": null
          },
          "name": "stdout",
          "output_type": "stream",
          "text": [
            "validation loss: 0.0029429086811012693 at epoch 544\n",
            "learning_rate: 0.00041943040000000023\n"
          ]
        },
        {
          "metadata": {
            "tags": null
          },
          "name": "stderr",
          "output_type": "stream",
          "text": [
            "epoch 544: 100%|██████████| 282/282 [00:08<00:00, 32.84it/s]\n"
          ]
        },
        {
          "metadata": {
            "tags": null
          },
          "name": "stdout",
          "output_type": "stream",
          "text": [
            "validation loss: 0.0029826234496302074 at epoch 545\n",
            "learning_rate: 0.00041943040000000023\n"
          ]
        },
        {
          "metadata": {
            "tags": null
          },
          "name": "stderr",
          "output_type": "stream",
          "text": [
            "epoch 545: 100%|██████████| 282/282 [00:08<00:00, 31.89it/s]\n"
          ]
        },
        {
          "metadata": {
            "tags": null
          },
          "name": "stdout",
          "output_type": "stream",
          "text": [
            "validation loss: 0.002591386346353425 at epoch 546\n",
            "learning_rate: 0.00041943040000000023\n"
          ]
        },
        {
          "metadata": {
            "tags": null
          },
          "name": "stderr",
          "output_type": "stream",
          "text": [
            "epoch 546: 100%|██████████| 282/282 [00:08<00:00, 34.00it/s]\n"
          ]
        },
        {
          "metadata": {
            "tags": null
          },
          "name": "stdout",
          "output_type": "stream",
          "text": [
            "validation loss: 0.0021826948838101494 at epoch 547\n",
            "learning_rate: 0.00041943040000000023\n"
          ]
        },
        {
          "metadata": {
            "tags": null
          },
          "name": "stderr",
          "output_type": "stream",
          "text": [
            "epoch 547: 100%|██████████| 282/282 [00:07<00:00, 36.73it/s]\n"
          ]
        },
        {
          "metadata": {
            "tags": null
          },
          "name": "stdout",
          "output_type": "stream",
          "text": [
            "validation loss: 0.002212382223871019 at epoch 548\n",
            "learning_rate: 0.00041943040000000023\n"
          ]
        },
        {
          "metadata": {
            "tags": null
          },
          "name": "stderr",
          "output_type": "stream",
          "text": [
            "epoch 548: 100%|██████████| 282/282 [00:08<00:00, 33.43it/s]\n"
          ]
        },
        {
          "metadata": {
            "tags": null
          },
          "name": "stdout",
          "output_type": "stream",
          "text": [
            "validation loss: 0.002411919092138608 at epoch 549\n",
            "learning_rate: 0.00041943040000000023\n"
          ]
        },
        {
          "metadata": {
            "tags": null
          },
          "name": "stderr",
          "output_type": "stream",
          "text": [
            "epoch 549: 100%|██████████| 282/282 [00:08<00:00, 33.41it/s]\n"
          ]
        },
        {
          "metadata": {
            "tags": null
          },
          "name": "stdout",
          "output_type": "stream",
          "text": [
            "validation loss: 0.002266079659263293 at epoch 550\n",
            "learning_rate: 0.00041943040000000023\n"
          ]
        },
        {
          "metadata": {
            "tags": null
          },
          "name": "stderr",
          "output_type": "stream",
          "text": [
            "epoch 550: 100%|██████████| 282/282 [00:07<00:00, 36.73it/s]\n"
          ]
        },
        {
          "metadata": {
            "tags": null
          },
          "name": "stdout",
          "output_type": "stream",
          "text": [
            "validation loss: 0.0012735223902596367 at epoch 551\n",
            "learning_rate: 0.00041943040000000023\n"
          ]
        },
        {
          "metadata": {
            "tags": null
          },
          "name": "stderr",
          "output_type": "stream",
          "text": [
            "epoch 551: 100%|██████████| 282/282 [00:08<00:00, 33.47it/s]\n"
          ]
        },
        {
          "metadata": {
            "tags": null
          },
          "name": "stdout",
          "output_type": "stream",
          "text": [
            "validation loss: 0.0019821064240402647 at epoch 552\n",
            "learning_rate: 0.00041943040000000023\n"
          ]
        },
        {
          "metadata": {
            "tags": null
          },
          "name": "stderr",
          "output_type": "stream",
          "text": [
            "epoch 552: 100%|██████████| 282/282 [00:08<00:00, 33.38it/s]\n"
          ]
        },
        {
          "metadata": {
            "tags": null
          },
          "name": "stdout",
          "output_type": "stream",
          "text": [
            "validation loss: 0.0017165002243386374 at epoch 553\n",
            "learning_rate: 0.00041943040000000023\n"
          ]
        },
        {
          "metadata": {
            "tags": null
          },
          "name": "stderr",
          "output_type": "stream",
          "text": [
            "epoch 553: 100%|██████████| 282/282 [00:07<00:00, 36.87it/s]\n"
          ]
        },
        {
          "metadata": {
            "tags": null
          },
          "name": "stdout",
          "output_type": "stream",
          "text": [
            "validation loss: 0.002016549994548162 at epoch 554\n",
            "learning_rate: 0.00041943040000000023\n"
          ]
        },
        {
          "metadata": {
            "tags": null
          },
          "name": "stderr",
          "output_type": "stream",
          "text": [
            "epoch 554: 100%|██████████| 282/282 [00:08<00:00, 32.69it/s]\n"
          ]
        },
        {
          "metadata": {
            "tags": null
          },
          "name": "stdout",
          "output_type": "stream",
          "text": [
            "validation loss: 0.001601901727418105 at epoch 555\n",
            "learning_rate: 0.00041943040000000023\n"
          ]
        },
        {
          "metadata": {
            "tags": null
          },
          "name": "stderr",
          "output_type": "stream",
          "text": [
            "epoch 555: 100%|██████████| 282/282 [00:08<00:00, 33.28it/s]\n"
          ]
        },
        {
          "metadata": {
            "tags": null
          },
          "name": "stdout",
          "output_type": "stream",
          "text": [
            "validation loss: 0.0017919151104158824 at epoch 556\n",
            "learning_rate: 0.00041943040000000023\n"
          ]
        },
        {
          "metadata": {
            "tags": null
          },
          "name": "stderr",
          "output_type": "stream",
          "text": [
            "epoch 556: 100%|██████████| 282/282 [00:07<00:00, 36.86it/s]\n"
          ]
        },
        {
          "metadata": {
            "tags": null
          },
          "name": "stdout",
          "output_type": "stream",
          "text": [
            "validation loss: 0.002572494309809473 at epoch 557\n",
            "learning_rate: 0.00041943040000000023\n"
          ]
        },
        {
          "metadata": {
            "tags": null
          },
          "name": "stderr",
          "output_type": "stream",
          "text": [
            "epoch 557: 100%|██████████| 282/282 [00:08<00:00, 34.03it/s]\n"
          ]
        },
        {
          "metadata": {
            "tags": null
          },
          "name": "stdout",
          "output_type": "stream",
          "text": [
            "validation loss: 0.0014559669552577867 at epoch 558\n",
            "learning_rate: 0.00041943040000000023\n"
          ]
        },
        {
          "metadata": {
            "tags": null
          },
          "name": "stderr",
          "output_type": "stream",
          "text": [
            "epoch 558: 100%|██████████| 282/282 [00:08<00:00, 33.13it/s]\n"
          ]
        },
        {
          "metadata": {
            "tags": null
          },
          "name": "stdout",
          "output_type": "stream",
          "text": [
            "validation loss: 0.0020508803923924763 at epoch 559\n",
            "learning_rate: 0.00041943040000000023\n"
          ]
        },
        {
          "metadata": {
            "tags": null
          },
          "name": "stderr",
          "output_type": "stream",
          "text": [
            "epoch 559: 100%|██████████| 282/282 [00:08<00:00, 34.79it/s]\n"
          ]
        },
        {
          "metadata": {
            "tags": null
          },
          "name": "stdout",
          "output_type": "stream",
          "text": [
            "validation loss: 0.0017089215798510445 at epoch 560\n",
            "learning_rate: 0.00041943040000000023\n"
          ]
        },
        {
          "metadata": {
            "tags": null
          },
          "name": "stderr",
          "output_type": "stream",
          "text": [
            "epoch 560: 100%|██████████| 282/282 [00:07<00:00, 35.80it/s]\n"
          ]
        },
        {
          "metadata": {
            "tags": null
          },
          "name": "stdout",
          "output_type": "stream",
          "text": [
            "validation loss: 0.002208592704600758 at epoch 561\n",
            "learning_rate: 0.00041943040000000023\n"
          ]
        },
        {
          "metadata": {
            "tags": null
          },
          "name": "stderr",
          "output_type": "stream",
          "text": [
            "epoch 561: 100%|██████████| 282/282 [00:08<00:00, 33.24it/s]\n"
          ]
        },
        {
          "metadata": {
            "tags": null
          },
          "name": "stdout",
          "output_type": "stream",
          "text": [
            "validation loss: 0.002296516223086251 at epoch 562\n",
            "learning_rate: 0.00041943040000000023\n"
          ]
        },
        {
          "metadata": {
            "tags": null
          },
          "name": "stderr",
          "output_type": "stream",
          "text": [
            "epoch 562: 100%|██████████| 282/282 [00:08<00:00, 33.51it/s]\n"
          ]
        },
        {
          "metadata": {
            "tags": null
          },
          "name": "stdout",
          "output_type": "stream",
          "text": [
            "validation loss: 0.0014555295722352133 at epoch 563\n",
            "learning_rate: 0.00041943040000000023\n"
          ]
        },
        {
          "metadata": {
            "tags": null
          },
          "name": "stderr",
          "output_type": "stream",
          "text": [
            "epoch 563: 100%|██████████| 282/282 [00:07<00:00, 36.07it/s]\n"
          ]
        },
        {
          "metadata": {
            "tags": null
          },
          "name": "stdout",
          "output_type": "stream",
          "text": [
            "validation loss: 0.002285177161296209 at epoch 564\n",
            "learning_rate: 0.00041943040000000023\n"
          ]
        },
        {
          "metadata": {
            "tags": null
          },
          "name": "stderr",
          "output_type": "stream",
          "text": [
            "epoch 564: 100%|██████████| 282/282 [00:08<00:00, 32.55it/s]\n"
          ]
        },
        {
          "metadata": {
            "tags": null
          },
          "name": "stdout",
          "output_type": "stream",
          "text": [
            "validation loss: 0.002099806096818712 at epoch 565\n",
            "learning_rate: 0.00041943040000000023\n"
          ]
        },
        {
          "metadata": {
            "tags": null
          },
          "name": "stderr",
          "output_type": "stream",
          "text": [
            "epoch 565: 100%|██████████| 282/282 [00:08<00:00, 33.08it/s]\n"
          ]
        },
        {
          "metadata": {
            "tags": null
          },
          "name": "stdout",
          "output_type": "stream",
          "text": [
            "validation loss: 0.0017504987319310506 at epoch 566\n",
            "learning_rate: 0.00041943040000000023\n"
          ]
        },
        {
          "metadata": {
            "tags": null
          },
          "name": "stderr",
          "output_type": "stream",
          "text": [
            "epoch 566: 100%|██████████| 282/282 [00:07<00:00, 36.25it/s]\n"
          ]
        },
        {
          "metadata": {
            "tags": null
          },
          "name": "stdout",
          "output_type": "stream",
          "text": [
            "validation loss: 0.0015297205398480096 at epoch 567\n",
            "learning_rate: 0.00041943040000000023\n"
          ]
        },
        {
          "metadata": {
            "tags": null
          },
          "name": "stderr",
          "output_type": "stream",
          "text": [
            "epoch 567: 100%|██████████| 282/282 [00:08<00:00, 32.16it/s]\n"
          ]
        },
        {
          "metadata": {
            "tags": null
          },
          "name": "stdout",
          "output_type": "stream",
          "text": [
            "validation loss: 0.001745248782965872 at epoch 568\n",
            "learning_rate: 0.0003355443200000002\n"
          ]
        },
        {
          "metadata": {
            "tags": null
          },
          "name": "stderr",
          "output_type": "stream",
          "text": [
            "epoch 568: 100%|██████████| 282/282 [00:08<00:00, 32.48it/s]\n"
          ]
        },
        {
          "metadata": {
            "tags": null
          },
          "name": "stdout",
          "output_type": "stream",
          "text": [
            "validation loss: 0.0016127525253428353 at epoch 569\n",
            "learning_rate: 0.0003355443200000002\n"
          ]
        },
        {
          "metadata": {
            "tags": null
          },
          "name": "stderr",
          "output_type": "stream",
          "text": [
            "epoch 569: 100%|██████████| 282/282 [00:08<00:00, 34.66it/s]\n"
          ]
        },
        {
          "metadata": {
            "tags": null
          },
          "name": "stdout",
          "output_type": "stream",
          "text": [
            "validation loss: 0.0015107950038380092 at epoch 570\n",
            "learning_rate: 0.0003355443200000002\n"
          ]
        },
        {
          "metadata": {
            "tags": null
          },
          "name": "stderr",
          "output_type": "stream",
          "text": [
            "epoch 570: 100%|██████████| 282/282 [00:08<00:00, 34.87it/s]\n"
          ]
        },
        {
          "metadata": {
            "tags": null
          },
          "name": "stdout",
          "output_type": "stream",
          "text": [
            "validation loss: 0.001541609476837847 at epoch 571\n",
            "learning_rate: 0.0003355443200000002\n"
          ]
        },
        {
          "metadata": {
            "tags": null
          },
          "name": "stderr",
          "output_type": "stream",
          "text": [
            "epoch 571: 100%|██████████| 282/282 [00:08<00:00, 33.03it/s]\n"
          ]
        },
        {
          "metadata": {
            "tags": null
          },
          "name": "stdout",
          "output_type": "stream",
          "text": [
            "validation loss: 0.001835140433576372 at epoch 572\n",
            "learning_rate: 0.0003355443200000002\n"
          ]
        },
        {
          "metadata": {
            "tags": null
          },
          "name": "stderr",
          "output_type": "stream",
          "text": [
            "epoch 572: 100%|██████████| 282/282 [00:08<00:00, 34.17it/s]\n"
          ]
        },
        {
          "metadata": {
            "tags": null
          },
          "name": "stdout",
          "output_type": "stream",
          "text": [
            "validation loss: 0.0014296941335002582 at epoch 573\n",
            "learning_rate: 0.0003355443200000002\n"
          ]
        },
        {
          "metadata": {
            "tags": null
          },
          "name": "stderr",
          "output_type": "stream",
          "text": [
            "epoch 573: 100%|██████████| 282/282 [00:07<00:00, 36.45it/s]\n"
          ]
        },
        {
          "metadata": {
            "tags": null
          },
          "name": "stdout",
          "output_type": "stream",
          "text": [
            "validation loss: 0.0016599808724390135 at epoch 574\n",
            "learning_rate: 0.0003355443200000002\n"
          ]
        },
        {
          "metadata": {
            "tags": null
          },
          "name": "stderr",
          "output_type": "stream",
          "text": [
            "epoch 574: 100%|██████████| 282/282 [00:08<00:00, 32.92it/s]\n"
          ]
        },
        {
          "metadata": {
            "tags": null
          },
          "name": "stdout",
          "output_type": "stream",
          "text": [
            "validation loss: 0.0018239319051305454 at epoch 575\n",
            "learning_rate: 0.0003355443200000002\n"
          ]
        },
        {
          "metadata": {
            "tags": null
          },
          "name": "stderr",
          "output_type": "stream",
          "text": [
            "epoch 575: 100%|██████████| 282/282 [00:08<00:00, 32.46it/s]\n"
          ]
        },
        {
          "metadata": {
            "tags": null
          },
          "name": "stdout",
          "output_type": "stream",
          "text": [
            "validation loss: 0.0018225595048732227 at epoch 576\n",
            "learning_rate: 0.0003355443200000002\n"
          ]
        },
        {
          "metadata": {
            "tags": null
          },
          "name": "stderr",
          "output_type": "stream",
          "text": [
            "epoch 576: 100%|██████████| 282/282 [00:07<00:00, 36.51it/s]\n"
          ]
        },
        {
          "metadata": {
            "tags": null
          },
          "name": "stdout",
          "output_type": "stream",
          "text": [
            "validation loss: 0.0017379333492782382 at epoch 577\n",
            "learning_rate: 0.0003355443200000002\n"
          ]
        },
        {
          "metadata": {
            "tags": null
          },
          "name": "stderr",
          "output_type": "stream",
          "text": [
            "epoch 577: 100%|██████████| 282/282 [00:08<00:00, 32.39it/s]\n"
          ]
        },
        {
          "metadata": {
            "tags": null
          },
          "name": "stdout",
          "output_type": "stream",
          "text": [
            "validation loss: 0.001740224491390917 at epoch 578\n",
            "learning_rate: 0.0003355443200000002\n"
          ]
        },
        {
          "metadata": {
            "tags": null
          },
          "name": "stderr",
          "output_type": "stream",
          "text": [
            "epoch 578: 100%|██████████| 282/282 [00:08<00:00, 33.03it/s]\n"
          ]
        },
        {
          "metadata": {
            "tags": null
          },
          "name": "stdout",
          "output_type": "stream",
          "text": [
            "validation loss: 0.0017548830550577906 at epoch 579\n",
            "learning_rate: 0.0003355443200000002\n"
          ]
        },
        {
          "metadata": {
            "tags": null
          },
          "name": "stderr",
          "output_type": "stream",
          "text": [
            "epoch 579: 100%|██████████| 282/282 [00:07<00:00, 36.39it/s]\n"
          ]
        },
        {
          "metadata": {
            "tags": null
          },
          "name": "stdout",
          "output_type": "stream",
          "text": [
            "validation loss: 0.0014641611791319318 at epoch 580\n",
            "learning_rate: 0.0003355443200000002\n"
          ]
        },
        {
          "metadata": {
            "tags": null
          },
          "name": "stderr",
          "output_type": "stream",
          "text": [
            "epoch 580: 100%|██████████| 282/282 [00:08<00:00, 33.97it/s]\n"
          ]
        },
        {
          "metadata": {
            "tags": null
          },
          "name": "stdout",
          "output_type": "stream",
          "text": [
            "validation loss: 0.0014027658849954604 at epoch 581\n",
            "learning_rate: 0.0003355443200000002\n"
          ]
        },
        {
          "metadata": {
            "tags": null
          },
          "name": "stderr",
          "output_type": "stream",
          "text": [
            "epoch 581: 100%|██████████| 282/282 [00:08<00:00, 33.43it/s]\n"
          ]
        },
        {
          "metadata": {
            "tags": null
          },
          "name": "stdout",
          "output_type": "stream",
          "text": [
            "validation loss: 0.0013733236268162728 at epoch 582\n",
            "learning_rate: 0.0003355443200000002\n"
          ]
        },
        {
          "metadata": {
            "tags": null
          },
          "name": "stderr",
          "output_type": "stream",
          "text": [
            "epoch 582: 100%|██████████| 282/282 [00:07<00:00, 35.26it/s]\n"
          ]
        },
        {
          "metadata": {
            "tags": null
          },
          "name": "stdout",
          "output_type": "stream",
          "text": [
            "validation loss: 0.0013915243471662204 at epoch 583\n",
            "learning_rate: 0.0003355443200000002\n"
          ]
        },
        {
          "metadata": {
            "tags": null
          },
          "name": "stderr",
          "output_type": "stream",
          "text": [
            "epoch 583: 100%|██████████| 282/282 [00:07<00:00, 36.42it/s]\n"
          ]
        },
        {
          "metadata": {
            "tags": null
          },
          "name": "stdout",
          "output_type": "stream",
          "text": [
            "validation loss: 0.0014382239447699654 at epoch 584\n",
            "learning_rate: 0.0003355443200000002\n"
          ]
        },
        {
          "metadata": {
            "tags": null
          },
          "name": "stderr",
          "output_type": "stream",
          "text": [
            "epoch 584: 100%|██████████| 282/282 [00:08<00:00, 33.38it/s]\n"
          ]
        },
        {
          "metadata": {
            "tags": null
          },
          "name": "stdout",
          "output_type": "stream",
          "text": [
            "validation loss: 0.0014760641637775634 at epoch 585\n",
            "learning_rate: 0.0003355443200000002\n"
          ]
        },
        {
          "metadata": {
            "tags": null
          },
          "name": "stderr",
          "output_type": "stream",
          "text": [
            "epoch 585: 100%|██████████| 282/282 [00:08<00:00, 32.98it/s]\n"
          ]
        },
        {
          "metadata": {
            "tags": null
          },
          "name": "stdout",
          "output_type": "stream",
          "text": [
            "validation loss: 0.0015193357740839323 at epoch 586\n",
            "learning_rate: 0.0003355443200000002\n"
          ]
        },
        {
          "metadata": {
            "tags": null
          },
          "name": "stderr",
          "output_type": "stream",
          "text": [
            "epoch 586: 100%|██████████| 282/282 [00:07<00:00, 36.28it/s]\n"
          ]
        },
        {
          "metadata": {
            "tags": null
          },
          "name": "stdout",
          "output_type": "stream",
          "text": [
            "validation loss: 0.0013589874481161435 at epoch 587\n",
            "learning_rate: 0.0003355443200000002\n"
          ]
        },
        {
          "metadata": {
            "tags": null
          },
          "name": "stderr",
          "output_type": "stream",
          "text": [
            "epoch 587: 100%|██████████| 282/282 [00:08<00:00, 32.97it/s]\n"
          ]
        },
        {
          "metadata": {
            "tags": null
          },
          "name": "stdout",
          "output_type": "stream",
          "text": [
            "validation loss: 0.0018609191651145617 at epoch 588\n",
            "learning_rate: 0.0003355443200000002\n"
          ]
        },
        {
          "metadata": {
            "tags": null
          },
          "name": "stderr",
          "output_type": "stream",
          "text": [
            "epoch 588: 100%|██████████| 282/282 [00:08<00:00, 32.93it/s]\n"
          ]
        },
        {
          "metadata": {
            "tags": null
          },
          "name": "stdout",
          "output_type": "stream",
          "text": [
            "validation loss: 0.0019190546654992632 at epoch 589\n",
            "learning_rate: 0.0003355443200000002\n"
          ]
        },
        {
          "metadata": {
            "tags": null
          },
          "name": "stderr",
          "output_type": "stream",
          "text": [
            "epoch 589: 100%|██████████| 282/282 [00:07<00:00, 36.17it/s]\n"
          ]
        },
        {
          "metadata": {
            "tags": null
          },
          "name": "stdout",
          "output_type": "stream",
          "text": [
            "validation loss: 0.001843822398947345 at epoch 590\n",
            "learning_rate: 0.0003355443200000002\n"
          ]
        },
        {
          "metadata": {
            "tags": null
          },
          "name": "stderr",
          "output_type": "stream",
          "text": [
            "epoch 590: 100%|██████████| 282/282 [00:08<00:00, 33.70it/s]\n"
          ]
        },
        {
          "metadata": {
            "tags": null
          },
          "name": "stdout",
          "output_type": "stream",
          "text": [
            "validation loss: 0.0015087312799361018 at epoch 591\n",
            "learning_rate: 0.0003355443200000002\n"
          ]
        },
        {
          "metadata": {
            "tags": null
          },
          "name": "stderr",
          "output_type": "stream",
          "text": [
            "epoch 591: 100%|██████████| 282/282 [00:08<00:00, 33.07it/s]\n"
          ]
        },
        {
          "metadata": {
            "tags": null
          },
          "name": "stdout",
          "output_type": "stream",
          "text": [
            "validation loss: 0.001595130225022634 at epoch 592\n",
            "learning_rate: 0.0003355443200000002\n"
          ]
        },
        {
          "metadata": {
            "tags": null
          },
          "name": "stderr",
          "output_type": "stream",
          "text": [
            "epoch 592: 100%|██████████| 282/282 [00:07<00:00, 35.65it/s]\n"
          ]
        },
        {
          "metadata": {
            "tags": null
          },
          "name": "stdout",
          "output_type": "stream",
          "text": [
            "validation loss: 0.001496317971083853 at epoch 593\n",
            "learning_rate: 0.0003355443200000002\n"
          ]
        },
        {
          "metadata": {
            "tags": null
          },
          "name": "stderr",
          "output_type": "stream",
          "text": [
            "epoch 593: 100%|██████████| 282/282 [00:07<00:00, 35.53it/s]\n"
          ]
        },
        {
          "metadata": {
            "tags": null
          },
          "name": "stdout",
          "output_type": "stream",
          "text": [
            "validation loss: 0.0018063374451465076 at epoch 594\n",
            "learning_rate: 0.0003355443200000002\n"
          ]
        },
        {
          "metadata": {
            "tags": null
          },
          "name": "stderr",
          "output_type": "stream",
          "text": [
            "epoch 594: 100%|██████████| 282/282 [00:08<00:00, 33.16it/s]\n"
          ]
        },
        {
          "metadata": {
            "tags": null
          },
          "name": "stdout",
          "output_type": "stream",
          "text": [
            "validation loss: 0.001678567360672686 at epoch 595\n",
            "learning_rate: 0.0003355443200000002\n"
          ]
        },
        {
          "metadata": {
            "tags": null
          },
          "name": "stderr",
          "output_type": "stream",
          "text": [
            "epoch 595: 100%|██████████| 282/282 [00:08<00:00, 34.29it/s]\n"
          ]
        },
        {
          "metadata": {
            "tags": null
          },
          "name": "stdout",
          "output_type": "stream",
          "text": [
            "validation loss: 0.001860535241663456 at epoch 596\n",
            "learning_rate: 0.0003355443200000002\n"
          ]
        },
        {
          "metadata": {
            "tags": null
          },
          "name": "stderr",
          "output_type": "stream",
          "text": [
            "epoch 596: 100%|██████████| 282/282 [00:07<00:00, 36.44it/s]\n"
          ]
        },
        {
          "metadata": {
            "tags": null
          },
          "name": "stdout",
          "output_type": "stream",
          "text": [
            "validation loss: 0.0017784165143966675 at epoch 597\n",
            "learning_rate: 0.0003355443200000002\n"
          ]
        },
        {
          "metadata": {
            "tags": null
          },
          "name": "stderr",
          "output_type": "stream",
          "text": [
            "epoch 597: 100%|██████████| 282/282 [00:08<00:00, 33.66it/s]\n"
          ]
        },
        {
          "metadata": {
            "tags": null
          },
          "name": "stdout",
          "output_type": "stream",
          "text": [
            "validation loss: 0.002072972777816984 at epoch 598\n",
            "learning_rate: 0.0003355443200000002\n"
          ]
        },
        {
          "metadata": {
            "tags": null
          },
          "name": "stderr",
          "output_type": "stream",
          "text": [
            "epoch 598: 100%|██████████| 282/282 [00:08<00:00, 33.36it/s]\n"
          ]
        },
        {
          "metadata": {
            "tags": null
          },
          "name": "stdout",
          "output_type": "stream",
          "text": [
            "validation loss: 0.002209568974044588 at epoch 599\n",
            "learning_rate: 0.0003355443200000002\n"
          ]
        },
        {
          "metadata": {
            "tags": null
          },
          "name": "stderr",
          "output_type": "stream",
          "text": [
            "epoch 599: 100%|██████████| 282/282 [00:07<00:00, 36.39it/s]\n"
          ]
        },
        {
          "metadata": {
            "tags": null
          },
          "name": "stdout",
          "output_type": "stream",
          "text": [
            "validation loss: 0.0017658667887250582 at epoch 600\n",
            "learning_rate: 0.0003355443200000002\n"
          ]
        },
        {
          "metadata": {
            "tags": null
          },
          "name": "stderr",
          "output_type": "stream",
          "text": [
            "epoch 600: 100%|██████████| 282/282 [00:08<00:00, 33.44it/s]\n"
          ]
        },
        {
          "metadata": {
            "tags": null
          },
          "name": "stdout",
          "output_type": "stream",
          "text": [
            "validation loss: 0.0015312591857380338 at epoch 601\n",
            "learning_rate: 0.0003355443200000002\n"
          ]
        },
        {
          "metadata": {
            "tags": null
          },
          "name": "stderr",
          "output_type": "stream",
          "text": [
            "epoch 601: 100%|██████████| 282/282 [00:08<00:00, 32.79it/s]\n"
          ]
        },
        {
          "metadata": {
            "tags": null
          },
          "name": "stdout",
          "output_type": "stream",
          "text": [
            "validation loss: 0.0018113488058249156 at epoch 602\n",
            "learning_rate: 0.0003355443200000002\n"
          ]
        },
        {
          "metadata": {
            "tags": null
          },
          "name": "stderr",
          "output_type": "stream",
          "text": [
            "epoch 602: 100%|██████████| 282/282 [00:07<00:00, 36.30it/s]\n"
          ]
        },
        {
          "metadata": {
            "tags": null
          },
          "name": "stdout",
          "output_type": "stream",
          "text": [
            "validation loss: 0.001830922217004829 at epoch 603\n",
            "learning_rate: 0.0003355443200000002\n"
          ]
        },
        {
          "metadata": {
            "tags": null
          },
          "name": "stderr",
          "output_type": "stream",
          "text": [
            "epoch 603: 100%|██████████| 282/282 [00:08<00:00, 33.91it/s]\n"
          ]
        },
        {
          "metadata": {
            "tags": null
          },
          "name": "stdout",
          "output_type": "stream",
          "text": [
            "validation loss: 0.001829916718105475 at epoch 604\n",
            "learning_rate: 0.0003355443200000002\n"
          ]
        },
        {
          "metadata": {
            "tags": null
          },
          "name": "stderr",
          "output_type": "stream",
          "text": [
            "epoch 604: 100%|██████████| 282/282 [00:08<00:00, 33.18it/s]\n"
          ]
        },
        {
          "metadata": {
            "tags": null
          },
          "name": "stdout",
          "output_type": "stream",
          "text": [
            "validation loss: 0.0018661210553513633 at epoch 605\n",
            "learning_rate: 0.0003355443200000002\n"
          ]
        },
        {
          "metadata": {
            "tags": null
          },
          "name": "stderr",
          "output_type": "stream",
          "text": [
            "epoch 605: 100%|██████████| 282/282 [00:08<00:00, 34.36it/s]\n"
          ]
        },
        {
          "metadata": {
            "tags": null
          },
          "name": "stdout",
          "output_type": "stream",
          "text": [
            "validation loss: 0.001827638944817914 at epoch 606\n",
            "learning_rate: 0.0003355443200000002\n"
          ]
        },
        {
          "metadata": {
            "tags": null
          },
          "name": "stderr",
          "output_type": "stream",
          "text": [
            "epoch 606: 100%|██████████| 282/282 [00:07<00:00, 35.80it/s]\n"
          ]
        },
        {
          "metadata": {
            "tags": null
          },
          "name": "stdout",
          "output_type": "stream",
          "text": [
            "validation loss: 0.001963055664466487 at epoch 607\n",
            "learning_rate: 0.0003355443200000002\n"
          ]
        },
        {
          "metadata": {
            "tags": null
          },
          "name": "stderr",
          "output_type": "stream",
          "text": [
            "epoch 607: 100%|██████████| 282/282 [00:08<00:00, 32.88it/s]\n"
          ]
        },
        {
          "metadata": {
            "tags": null
          },
          "name": "stdout",
          "output_type": "stream",
          "text": [
            "validation loss: 0.0019356031434403526 at epoch 608\n",
            "learning_rate: 0.0003355443200000002\n"
          ]
        },
        {
          "metadata": {
            "tags": null
          },
          "name": "stderr",
          "output_type": "stream",
          "text": [
            "epoch 608: 100%|██████████| 282/282 [00:08<00:00, 33.84it/s]\n"
          ]
        },
        {
          "metadata": {
            "tags": null
          },
          "name": "stdout",
          "output_type": "stream",
          "text": [
            "validation loss: 0.0018954411240087615 at epoch 609\n",
            "learning_rate: 0.0003355443200000002\n"
          ]
        },
        {
          "metadata": {
            "tags": null
          },
          "name": "stderr",
          "output_type": "stream",
          "text": [
            "epoch 609: 100%|██████████| 282/282 [00:07<00:00, 36.73it/s]\n"
          ]
        },
        {
          "metadata": {
            "tags": null
          },
          "name": "stdout",
          "output_type": "stream",
          "text": [
            "validation loss: 0.002086528774764803 at epoch 610\n",
            "learning_rate: 0.0003355443200000002\n"
          ]
        },
        {
          "metadata": {
            "tags": null
          },
          "name": "stderr",
          "output_type": "stream",
          "text": [
            "epoch 610: 100%|██████████| 282/282 [00:08<00:00, 33.20it/s]\n"
          ]
        },
        {
          "metadata": {
            "tags": null
          },
          "name": "stdout",
          "output_type": "stream",
          "text": [
            "validation loss: 0.0017884317421250873 at epoch 611\n",
            "learning_rate: 0.0003355443200000002\n"
          ]
        },
        {
          "metadata": {
            "tags": null
          },
          "name": "stderr",
          "output_type": "stream",
          "text": [
            "epoch 611: 100%|██████████| 282/282 [00:08<00:00, 33.16it/s]\n"
          ]
        },
        {
          "metadata": {
            "tags": null
          },
          "name": "stdout",
          "output_type": "stream",
          "text": [
            "validation loss: 0.001713495849735207 at epoch 612\n",
            "learning_rate: 0.0003355443200000002\n"
          ]
        },
        {
          "metadata": {
            "tags": null
          },
          "name": "stderr",
          "output_type": "stream",
          "text": [
            "epoch 612: 100%|██████████| 282/282 [00:07<00:00, 36.73it/s]\n"
          ]
        },
        {
          "metadata": {
            "tags": null
          },
          "name": "stdout",
          "output_type": "stream",
          "text": [
            "validation loss: 0.00175249645113945 at epoch 613\n",
            "learning_rate: 0.0003355443200000002\n"
          ]
        },
        {
          "metadata": {
            "tags": null
          },
          "name": "stderr",
          "output_type": "stream",
          "text": [
            "epoch 613: 100%|██████████| 282/282 [00:08<00:00, 33.05it/s]\n"
          ]
        },
        {
          "metadata": {
            "tags": null
          },
          "name": "stdout",
          "output_type": "stream",
          "text": [
            "validation loss: 0.001508516107996305 at epoch 614\n",
            "learning_rate: 0.0003355443200000002\n"
          ]
        },
        {
          "metadata": {
            "tags": null
          },
          "name": "stderr",
          "output_type": "stream",
          "text": [
            "epoch 614: 100%|██████████| 282/282 [00:08<00:00, 32.97it/s]\n"
          ]
        },
        {
          "metadata": {
            "tags": null
          },
          "name": "stdout",
          "output_type": "stream",
          "text": [
            "validation loss: 0.0016410775168074503 at epoch 615\n",
            "learning_rate: 0.0003355443200000002\n"
          ]
        },
        {
          "metadata": {
            "tags": null
          },
          "name": "stderr",
          "output_type": "stream",
          "text": [
            "epoch 615: 100%|██████████| 282/282 [00:07<00:00, 36.69it/s]\n"
          ]
        },
        {
          "metadata": {
            "tags": null
          },
          "name": "stdout",
          "output_type": "stream",
          "text": [
            "validation loss: 0.0015856196251180436 at epoch 616\n",
            "learning_rate: 0.0003355443200000002\n"
          ]
        },
        {
          "metadata": {
            "tags": null
          },
          "name": "stderr",
          "output_type": "stream",
          "text": [
            "epoch 616: 100%|██████████| 282/282 [00:08<00:00, 33.69it/s]\n"
          ]
        },
        {
          "metadata": {
            "tags": null
          },
          "name": "stdout",
          "output_type": "stream",
          "text": [
            "validation loss: 0.001436278978155719 at epoch 617\n",
            "learning_rate: 0.0003355443200000002\n"
          ]
        },
        {
          "metadata": {
            "tags": null
          },
          "name": "stderr",
          "output_type": "stream",
          "text": [
            "epoch 617: 100%|██████████| 282/282 [00:08<00:00, 33.88it/s]\n"
          ]
        },
        {
          "metadata": {
            "tags": null
          },
          "name": "stdout",
          "output_type": "stream",
          "text": [
            "validation loss: 0.0015134591261545818 at epoch 618\n",
            "learning_rate: 0.0003355443200000002\n"
          ]
        },
        {
          "metadata": {
            "tags": null
          },
          "name": "stderr",
          "output_type": "stream",
          "text": [
            "epoch 618: 100%|██████████| 282/282 [00:07<00:00, 35.82it/s]\n"
          ]
        },
        {
          "metadata": {
            "tags": null
          },
          "name": "stdout",
          "output_type": "stream",
          "text": [
            "validation loss: 0.0016225160989496443 at epoch 619\n",
            "learning_rate: 0.00026843545600000016\n"
          ]
        },
        {
          "metadata": {
            "tags": null
          },
          "name": "stderr",
          "output_type": "stream",
          "text": [
            "epoch 619: 100%|██████████| 282/282 [00:08<00:00, 34.22it/s]\n"
          ]
        },
        {
          "metadata": {
            "tags": null
          },
          "name": "stdout",
          "output_type": "stream",
          "text": [
            "validation loss: 0.0017175409139858352 at epoch 620\n",
            "learning_rate: 0.00026843545600000016\n"
          ]
        },
        {
          "metadata": {
            "tags": null
          },
          "name": "stderr",
          "output_type": "stream",
          "text": [
            "epoch 620: 100%|██████████| 282/282 [00:08<00:00, 33.25it/s]\n"
          ]
        },
        {
          "metadata": {
            "tags": null
          },
          "name": "stdout",
          "output_type": "stream",
          "text": [
            "validation loss: 0.0015020251307222578 at epoch 621\n",
            "learning_rate: 0.00026843545600000016\n"
          ]
        },
        {
          "metadata": {
            "tags": null
          },
          "name": "stderr",
          "output_type": "stream",
          "text": [
            "epoch 621: 100%|██████████| 282/282 [00:08<00:00, 34.28it/s]\n"
          ]
        },
        {
          "metadata": {
            "tags": null
          },
          "name": "stdout",
          "output_type": "stream",
          "text": [
            "validation loss: 0.0014457590224014388 at epoch 622\n",
            "learning_rate: 0.00026843545600000016\n"
          ]
        },
        {
          "metadata": {
            "tags": null
          },
          "name": "stderr",
          "output_type": "stream",
          "text": [
            "epoch 622: 100%|██████████| 282/282 [00:07<00:00, 36.17it/s]\n"
          ]
        },
        {
          "metadata": {
            "tags": null
          },
          "name": "stdout",
          "output_type": "stream",
          "text": [
            "validation loss: 0.001497890892955992 at epoch 623\n",
            "learning_rate: 0.00026843545600000016\n"
          ]
        },
        {
          "metadata": {
            "tags": null
          },
          "name": "stderr",
          "output_type": "stream",
          "text": [
            "epoch 623: 100%|██████████| 282/282 [00:08<00:00, 33.07it/s]\n"
          ]
        },
        {
          "metadata": {
            "tags": null
          },
          "name": "stdout",
          "output_type": "stream",
          "text": [
            "validation loss: 0.001523750631345643 at epoch 624\n",
            "learning_rate: 0.00026843545600000016\n"
          ]
        },
        {
          "metadata": {
            "tags": null
          },
          "name": "stderr",
          "output_type": "stream",
          "text": [
            "epoch 624: 100%|██████████| 282/282 [00:08<00:00, 33.04it/s]\n"
          ]
        },
        {
          "metadata": {
            "tags": null
          },
          "name": "stdout",
          "output_type": "stream",
          "text": [
            "validation loss: 0.0014814956395162477 at epoch 625\n",
            "learning_rate: 0.00026843545600000016\n"
          ]
        },
        {
          "metadata": {
            "tags": null
          },
          "name": "stderr",
          "output_type": "stream",
          "text": [
            "epoch 625: 100%|██████████| 282/282 [00:07<00:00, 36.61it/s]\n"
          ]
        },
        {
          "metadata": {
            "tags": null
          },
          "name": "stdout",
          "output_type": "stream",
          "text": [
            "validation loss: 0.0014794834189944797 at epoch 626\n",
            "learning_rate: 0.00026843545600000016\n"
          ]
        },
        {
          "metadata": {
            "tags": null
          },
          "name": "stderr",
          "output_type": "stream",
          "text": [
            "epoch 626: 100%|██████████| 282/282 [00:08<00:00, 33.50it/s]\n"
          ]
        },
        {
          "metadata": {
            "tags": null
          },
          "name": "stdout",
          "output_type": "stream",
          "text": [
            "validation loss: 0.0015021827022234598 at epoch 627\n",
            "learning_rate: 0.00026843545600000016\n"
          ]
        },
        {
          "metadata": {
            "tags": null
          },
          "name": "stderr",
          "output_type": "stream",
          "text": [
            "epoch 627: 100%|██████████| 282/282 [00:08<00:00, 32.94it/s]\n"
          ]
        },
        {
          "metadata": {
            "tags": null
          },
          "name": "stdout",
          "output_type": "stream",
          "text": [
            "validation loss: 0.001493822576271163 at epoch 628\n",
            "learning_rate: 0.00026843545600000016\n"
          ]
        },
        {
          "metadata": {
            "tags": null
          },
          "name": "stderr",
          "output_type": "stream",
          "text": [
            "epoch 628: 100%|██████████| 282/282 [00:07<00:00, 36.73it/s]\n"
          ]
        },
        {
          "metadata": {
            "tags": null
          },
          "name": "stdout",
          "output_type": "stream",
          "text": [
            "validation loss: 0.001534376242922412 at epoch 629\n",
            "learning_rate: 0.00026843545600000016\n"
          ]
        },
        {
          "metadata": {
            "tags": null
          },
          "name": "stderr",
          "output_type": "stream",
          "text": [
            "epoch 629: 100%|██████████| 282/282 [00:08<00:00, 33.31it/s]\n"
          ]
        },
        {
          "metadata": {
            "tags": null
          },
          "name": "stdout",
          "output_type": "stream",
          "text": [
            "validation loss: 0.0016413535707526738 at epoch 630\n",
            "learning_rate: 0.00026843545600000016\n"
          ]
        },
        {
          "metadata": {
            "tags": null
          },
          "name": "stderr",
          "output_type": "stream",
          "text": [
            "epoch 630: 100%|██████████| 282/282 [00:08<00:00, 33.33it/s]\n"
          ]
        },
        {
          "metadata": {
            "tags": null
          },
          "name": "stdout",
          "output_type": "stream",
          "text": [
            "validation loss: 0.0014912493659390343 at epoch 631\n",
            "learning_rate: 0.00026843545600000016\n"
          ]
        },
        {
          "metadata": {
            "tags": null
          },
          "name": "stderr",
          "output_type": "stream",
          "text": [
            "epoch 631: 100%|██████████| 282/282 [00:07<00:00, 36.40it/s]\n"
          ]
        },
        {
          "metadata": {
            "tags": null
          },
          "name": "stdout",
          "output_type": "stream",
          "text": [
            "validation loss: 0.001440890348619885 at epoch 632\n",
            "learning_rate: 0.00026843545600000016\n"
          ]
        },
        {
          "metadata": {
            "tags": null
          },
          "name": "stderr",
          "output_type": "stream",
          "text": [
            "epoch 632: 100%|██████████| 282/282 [00:08<00:00, 34.67it/s]\n"
          ]
        },
        {
          "metadata": {
            "tags": null
          },
          "name": "stdout",
          "output_type": "stream",
          "text": [
            "validation loss: 0.001514604460861948 at epoch 633\n",
            "learning_rate: 0.00026843545600000016\n"
          ]
        },
        {
          "metadata": {
            "tags": null
          },
          "name": "stderr",
          "output_type": "stream",
          "text": [
            "epoch 633: 100%|██████████| 282/282 [00:08<00:00, 33.08it/s]\n"
          ]
        },
        {
          "metadata": {
            "tags": null
          },
          "name": "stdout",
          "output_type": "stream",
          "text": [
            "validation loss: 0.0015389680729971991 at epoch 634\n",
            "learning_rate: 0.00026843545600000016\n"
          ]
        },
        {
          "metadata": {
            "tags": null
          },
          "name": "stderr",
          "output_type": "stream",
          "text": [
            "epoch 634: 100%|██████████| 282/282 [00:08<00:00, 34.51it/s]\n"
          ]
        },
        {
          "metadata": {
            "tags": null
          },
          "name": "stdout",
          "output_type": "stream",
          "text": [
            "validation loss: 0.001386245912147893 at epoch 635\n",
            "learning_rate: 0.00026843545600000016\n"
          ]
        },
        {
          "metadata": {
            "tags": null
          },
          "name": "stderr",
          "output_type": "stream",
          "text": [
            "epoch 635: 100%|██████████| 282/282 [00:07<00:00, 36.14it/s]\n"
          ]
        },
        {
          "metadata": {
            "tags": null
          },
          "name": "stdout",
          "output_type": "stream",
          "text": [
            "validation loss: 0.0014812964234087202 at epoch 636\n",
            "learning_rate: 0.00026843545600000016\n"
          ]
        },
        {
          "metadata": {
            "tags": null
          },
          "name": "stderr",
          "output_type": "stream",
          "text": [
            "epoch 636: 100%|██████████| 282/282 [00:08<00:00, 33.38it/s]\n"
          ]
        },
        {
          "metadata": {
            "tags": null
          },
          "name": "stdout",
          "output_type": "stream",
          "text": [
            "validation loss: 0.0014672000325388378 at epoch 637\n",
            "learning_rate: 0.00026843545600000016\n"
          ]
        },
        {
          "metadata": {
            "tags": null
          },
          "name": "stderr",
          "output_type": "stream",
          "text": [
            "epoch 637: 100%|██████████| 282/282 [00:08<00:00, 33.27it/s]\n"
          ]
        },
        {
          "metadata": {
            "tags": null
          },
          "name": "stdout",
          "output_type": "stream",
          "text": [
            "validation loss: 0.0014523612252540059 at epoch 638\n",
            "learning_rate: 0.00026843545600000016\n"
          ]
        },
        {
          "metadata": {
            "tags": null
          },
          "name": "stderr",
          "output_type": "stream",
          "text": [
            "epoch 638: 100%|██████████| 282/282 [00:07<00:00, 37.04it/s]\n"
          ]
        },
        {
          "metadata": {
            "tags": null
          },
          "name": "stdout",
          "output_type": "stream",
          "text": [
            "validation loss: 0.0014465721224745116 at epoch 639\n",
            "learning_rate: 0.00026843545600000016\n"
          ]
        },
        {
          "metadata": {
            "tags": null
          },
          "name": "stderr",
          "output_type": "stream",
          "text": [
            "epoch 639: 100%|██████████| 282/282 [00:08<00:00, 33.32it/s]\n"
          ]
        },
        {
          "metadata": {
            "tags": null
          },
          "name": "stdout",
          "output_type": "stream",
          "text": [
            "validation loss: 0.0014304854770501455 at epoch 640\n",
            "learning_rate: 0.00026843545600000016\n"
          ]
        },
        {
          "metadata": {
            "tags": null
          },
          "name": "stderr",
          "output_type": "stream",
          "text": [
            "epoch 640: 100%|██████████| 282/282 [00:08<00:00, 32.77it/s]\n"
          ]
        },
        {
          "metadata": {
            "tags": null
          },
          "name": "stdout",
          "output_type": "stream",
          "text": [
            "validation loss: 0.001383262038230896 at epoch 641\n",
            "learning_rate: 0.00026843545600000016\n"
          ]
        },
        {
          "metadata": {
            "tags": null
          },
          "name": "stderr",
          "output_type": "stream",
          "text": [
            "epoch 641: 100%|██████████| 282/282 [00:07<00:00, 37.16it/s]\n"
          ]
        },
        {
          "metadata": {
            "tags": null
          },
          "name": "stdout",
          "output_type": "stream",
          "text": [
            "validation loss: 0.0014225204081998932 at epoch 642\n",
            "learning_rate: 0.00026843545600000016\n"
          ]
        },
        {
          "metadata": {
            "tags": null
          },
          "name": "stderr",
          "output_type": "stream",
          "text": [
            "epoch 642: 100%|██████████| 282/282 [00:08<00:00, 33.31it/s]\n"
          ]
        },
        {
          "metadata": {
            "tags": null
          },
          "name": "stdout",
          "output_type": "stream",
          "text": [
            "validation loss: 0.0014821508907609515 at epoch 643\n",
            "learning_rate: 0.00026843545600000016\n"
          ]
        },
        {
          "metadata": {
            "tags": null
          },
          "name": "stderr",
          "output_type": "stream",
          "text": [
            "epoch 643: 100%|██████████| 282/282 [00:08<00:00, 33.14it/s]\n"
          ]
        },
        {
          "metadata": {
            "tags": null
          },
          "name": "stdout",
          "output_type": "stream",
          "text": [
            "validation loss: 0.0015079719713992543 at epoch 644\n",
            "learning_rate: 0.00026843545600000016\n"
          ]
        },
        {
          "metadata": {
            "tags": null
          },
          "name": "stderr",
          "output_type": "stream",
          "text": [
            "epoch 644: 100%|██████████| 282/282 [00:07<00:00, 37.42it/s]\n"
          ]
        },
        {
          "metadata": {
            "tags": null
          },
          "name": "stdout",
          "output_type": "stream",
          "text": [
            "validation loss: 0.0015462825323144594 at epoch 645\n",
            "learning_rate: 0.00026843545600000016\n"
          ]
        },
        {
          "metadata": {
            "tags": null
          },
          "name": "stderr",
          "output_type": "stream",
          "text": [
            "epoch 645: 100%|██████████| 282/282 [00:08<00:00, 32.96it/s]\n"
          ]
        },
        {
          "metadata": {
            "tags": null
          },
          "name": "stdout",
          "output_type": "stream",
          "text": [
            "validation loss: 0.001495378418929047 at epoch 646\n",
            "learning_rate: 0.00026843545600000016\n"
          ]
        },
        {
          "metadata": {
            "tags": null
          },
          "name": "stderr",
          "output_type": "stream",
          "text": [
            "epoch 646: 100%|██████████| 282/282 [00:08<00:00, 33.53it/s]\n"
          ]
        },
        {
          "metadata": {
            "tags": null
          },
          "name": "stdout",
          "output_type": "stream",
          "text": [
            "validation loss: 0.001537778446243869 at epoch 647\n",
            "learning_rate: 0.00026843545600000016\n"
          ]
        },
        {
          "metadata": {
            "tags": null
          },
          "name": "stderr",
          "output_type": "stream",
          "text": [
            "epoch 647: 100%|██████████| 282/282 [00:07<00:00, 37.11it/s]\n"
          ]
        },
        {
          "metadata": {
            "tags": null
          },
          "name": "stdout",
          "output_type": "stream",
          "text": [
            "validation loss: 0.0014747450807028346 at epoch 648\n",
            "learning_rate: 0.00026843545600000016\n"
          ]
        },
        {
          "output_type": "stream",
          "name": "stderr",
          "text": [
            "epoch 648: 100%|██████████| 282/282 [00:08<00:00, 33.41it/s]\n"
          ]
        },
        {
          "output_type": "stream",
          "name": "stdout",
          "text": [
            "validation loss: 0.0015399954459733433 at epoch 649\n",
            "learning_rate: 0.00026843545600000016\n"
          ]
        },
        {
          "output_type": "stream",
          "name": "stderr",
          "text": [
            "epoch 649: 100%|██████████| 282/282 [00:08<00:00, 33.56it/s]\n"
          ]
        },
        {
          "output_type": "stream",
          "name": "stdout",
          "text": [
            "validation loss: 0.0014791557573609882 at epoch 650\n",
            "learning_rate: 0.00026843545600000016\n"
          ]
        },
        {
          "output_type": "stream",
          "name": "stderr",
          "text": [
            "epoch 650: 100%|██████████| 282/282 [00:08<00:00, 35.16it/s]\n"
          ]
        },
        {
          "output_type": "stream",
          "name": "stdout",
          "text": [
            "validation loss: 0.0015222268998622895 at epoch 651\n",
            "learning_rate: 0.00026843545600000016\n"
          ]
        },
        {
          "output_type": "stream",
          "name": "stderr",
          "text": [
            "epoch 651: 100%|██████████| 282/282 [00:08<00:00, 35.01it/s]\n"
          ]
        },
        {
          "output_type": "stream",
          "name": "stdout",
          "text": [
            "validation loss: 0.001642573135594527 at epoch 652\n",
            "learning_rate: 0.00026843545600000016\n"
          ]
        },
        {
          "output_type": "stream",
          "name": "stderr",
          "text": [
            "epoch 652: 100%|██████████| 282/282 [00:08<00:00, 32.80it/s]\n"
          ]
        },
        {
          "output_type": "stream",
          "name": "stdout",
          "text": [
            "validation loss: 0.0014693485986855294 at epoch 653\n",
            "learning_rate: 0.00026843545600000016\n"
          ]
        },
        {
          "output_type": "stream",
          "name": "stderr",
          "text": [
            "epoch 653: 100%|██████████| 282/282 [00:08<00:00, 33.62it/s]\n"
          ]
        },
        {
          "output_type": "stream",
          "name": "stdout",
          "text": [
            "validation loss: 0.001345410612722238 at epoch 654\n",
            "learning_rate: 0.00026843545600000016\n"
          ]
        },
        {
          "output_type": "stream",
          "name": "stderr",
          "text": [
            "epoch 654: 100%|██████████| 282/282 [00:07<00:00, 36.67it/s]\n"
          ]
        },
        {
          "output_type": "stream",
          "name": "stdout",
          "text": [
            "validation loss: 0.0013899958282709121 at epoch 655\n",
            "learning_rate: 0.00026843545600000016\n"
          ]
        },
        {
          "output_type": "stream",
          "name": "stderr",
          "text": [
            "epoch 655: 100%|██████████| 282/282 [00:08<00:00, 32.63it/s]\n"
          ]
        },
        {
          "output_type": "stream",
          "name": "stdout",
          "text": [
            "validation loss: 0.0013776251309447819 at epoch 656\n",
            "learning_rate: 0.00026843545600000016\n"
          ]
        },
        {
          "output_type": "stream",
          "name": "stderr",
          "text": [
            "epoch 656: 100%|██████████| 282/282 [00:08<00:00, 33.30it/s]\n"
          ]
        },
        {
          "output_type": "stream",
          "name": "stdout",
          "text": [
            "validation loss: 0.0012738741404480405 at epoch 657\n",
            "learning_rate: 0.00026843545600000016\n"
          ]
        },
        {
          "output_type": "stream",
          "name": "stderr",
          "text": [
            "epoch 657: 100%|██████████| 282/282 [00:07<00:00, 36.28it/s]\n"
          ]
        },
        {
          "output_type": "stream",
          "name": "stdout",
          "text": [
            "validation loss: 0.0012484821660651102 at epoch 658\n",
            "learning_rate: 0.00026843545600000016\n"
          ]
        },
        {
          "output_type": "stream",
          "name": "stderr",
          "text": [
            "epoch 658: 100%|██████████| 282/282 [00:08<00:00, 33.00it/s]\n"
          ]
        },
        {
          "output_type": "stream",
          "name": "stdout",
          "text": [
            "validation loss: 0.0014186910862723986 at epoch 659\n",
            "learning_rate: 0.00026843545600000016\n"
          ]
        },
        {
          "output_type": "stream",
          "name": "stderr",
          "text": [
            "epoch 659: 100%|██████████| 282/282 [00:08<00:00, 33.10it/s]\n"
          ]
        },
        {
          "output_type": "stream",
          "name": "stdout",
          "text": [
            "validation loss: 0.0013297227852874331 at epoch 660\n",
            "learning_rate: 0.00026843545600000016\n"
          ]
        },
        {
          "output_type": "stream",
          "name": "stderr",
          "text": [
            "epoch 660: 100%|██████████| 282/282 [00:07<00:00, 36.40it/s]\n"
          ]
        },
        {
          "output_type": "stream",
          "name": "stdout",
          "text": [
            "validation loss: 0.001439119586514102 at epoch 661\n",
            "learning_rate: 0.00026843545600000016\n"
          ]
        },
        {
          "output_type": "stream",
          "name": "stderr",
          "text": [
            "epoch 661: 100%|██████████| 282/282 [00:08<00:00, 34.20it/s]\n"
          ]
        },
        {
          "output_type": "stream",
          "name": "stdout",
          "text": [
            "validation loss: 0.0015058804700771968 at epoch 662\n",
            "learning_rate: 0.00026843545600000016\n"
          ]
        },
        {
          "output_type": "stream",
          "name": "stderr",
          "text": [
            "epoch 662: 100%|██████████| 282/282 [00:08<00:00, 33.34it/s]\n"
          ]
        },
        {
          "output_type": "stream",
          "name": "stdout",
          "text": [
            "validation loss: 0.0013962620513306725 at epoch 663\n",
            "learning_rate: 0.00026843545600000016\n"
          ]
        },
        {
          "output_type": "stream",
          "name": "stderr",
          "text": [
            "epoch 663: 100%|██████████| 282/282 [00:08<00:00, 34.50it/s]\n"
          ]
        },
        {
          "output_type": "stream",
          "name": "stdout",
          "text": [
            "validation loss: 0.0014019535448816089 at epoch 664\n",
            "learning_rate: 0.00026843545600000016\n"
          ]
        },
        {
          "output_type": "stream",
          "name": "stderr",
          "text": [
            "epoch 664: 100%|██████████| 282/282 [00:07<00:00, 35.96it/s]\n"
          ]
        },
        {
          "output_type": "stream",
          "name": "stdout",
          "text": [
            "validation loss: 0.0015024681761860847 at epoch 665\n",
            "learning_rate: 0.00026843545600000016\n"
          ]
        },
        {
          "output_type": "stream",
          "name": "stderr",
          "text": [
            "epoch 665: 100%|██████████| 282/282 [00:08<00:00, 33.10it/s]\n"
          ]
        },
        {
          "output_type": "stream",
          "name": "stdout",
          "text": [
            "validation loss: 0.0015518337281213866 at epoch 666\n",
            "learning_rate: 0.00026843545600000016\n"
          ]
        },
        {
          "output_type": "stream",
          "name": "stderr",
          "text": [
            "epoch 666: 100%|██████████| 282/282 [00:08<00:00, 33.51it/s]\n"
          ]
        },
        {
          "output_type": "stream",
          "name": "stdout",
          "text": [
            "validation loss: 0.0016376987256937557 at epoch 667\n",
            "learning_rate: 0.00026843545600000016\n"
          ]
        },
        {
          "output_type": "stream",
          "name": "stderr",
          "text": [
            "epoch 667: 100%|██████████| 282/282 [00:07<00:00, 36.46it/s]\n"
          ]
        },
        {
          "output_type": "stream",
          "name": "stdout",
          "text": [
            "validation loss: 0.0015491952664322324 at epoch 668\n",
            "learning_rate: 0.00026843545600000016\n"
          ]
        },
        {
          "output_type": "stream",
          "name": "stderr",
          "text": [
            "epoch 668: 100%|██████████| 282/282 [00:08<00:00, 33.41it/s]\n"
          ]
        },
        {
          "output_type": "stream",
          "name": "stdout",
          "text": [
            "validation loss: 0.0015096443345149358 at epoch 669\n",
            "learning_rate: 0.00026843545600000016\n"
          ]
        },
        {
          "output_type": "stream",
          "name": "stderr",
          "text": [
            "epoch 669: 100%|██████████| 282/282 [00:08<00:00, 33.10it/s]\n"
          ]
        },
        {
          "output_type": "stream",
          "name": "stdout",
          "text": [
            "validation loss: 0.0015531232721275753 at epoch 670\n",
            "learning_rate: 0.00021474836480000014\n"
          ]
        },
        {
          "output_type": "stream",
          "name": "stderr",
          "text": [
            "epoch 670: 100%|██████████| 282/282 [00:07<00:00, 36.16it/s]\n"
          ]
        },
        {
          "output_type": "stream",
          "name": "stdout",
          "text": [
            "validation loss: 0.0017319537873069445 at epoch 671\n",
            "learning_rate: 0.00021474836480000014\n"
          ]
        },
        {
          "output_type": "stream",
          "name": "stderr",
          "text": [
            "epoch 671: 100%|██████████| 282/282 [00:08<00:00, 32.79it/s]\n"
          ]
        },
        {
          "output_type": "stream",
          "name": "stdout",
          "text": [
            "validation loss: 0.0018160574047101868 at epoch 672\n",
            "learning_rate: 0.00021474836480000014\n"
          ]
        },
        {
          "output_type": "stream",
          "name": "stderr",
          "text": [
            "epoch 672: 100%|██████████| 282/282 [00:08<00:00, 33.18it/s]\n"
          ]
        },
        {
          "output_type": "stream",
          "name": "stdout",
          "text": [
            "validation loss: 0.001683748154176606 at epoch 673\n",
            "learning_rate: 0.00021474836480000014\n"
          ]
        },
        {
          "output_type": "stream",
          "name": "stderr",
          "text": [
            "epoch 673: 100%|██████████| 282/282 [00:08<00:00, 35.16it/s]\n"
          ]
        },
        {
          "output_type": "stream",
          "name": "stdout",
          "text": [
            "validation loss: 0.0017517636029256716 at epoch 674\n",
            "learning_rate: 0.00021474836480000014\n"
          ]
        },
        {
          "output_type": "stream",
          "name": "stderr",
          "text": [
            "epoch 674: 100%|██████████| 282/282 [00:08<00:00, 34.49it/s]\n"
          ]
        },
        {
          "output_type": "stream",
          "name": "stdout",
          "text": [
            "validation loss: 0.0018020874129401313 at epoch 675\n",
            "learning_rate: 0.00021474836480000014\n"
          ]
        },
        {
          "output_type": "stream",
          "name": "stderr",
          "text": [
            "epoch 675: 100%|██████████| 282/282 [00:08<00:00, 32.83it/s]\n"
          ]
        },
        {
          "output_type": "stream",
          "name": "stdout",
          "text": [
            "validation loss: 0.0017309862242804632 at epoch 676\n",
            "learning_rate: 0.00021474836480000014\n"
          ]
        },
        {
          "output_type": "stream",
          "name": "stderr",
          "text": [
            "epoch 676: 100%|██████████| 282/282 [00:08<00:00, 33.37it/s]\n"
          ]
        },
        {
          "output_type": "stream",
          "name": "stdout",
          "text": [
            "validation loss: 0.001692414302792814 at epoch 677\n",
            "learning_rate: 0.00021474836480000014\n"
          ]
        },
        {
          "output_type": "stream",
          "name": "stderr",
          "text": [
            "epoch 677: 100%|██████████| 282/282 [00:07<00:00, 36.43it/s]\n"
          ]
        },
        {
          "output_type": "stream",
          "name": "stdout",
          "text": [
            "validation loss: 0.0017556111936767897 at epoch 678\n",
            "learning_rate: 0.00021474836480000014\n"
          ]
        },
        {
          "output_type": "stream",
          "name": "stderr",
          "text": [
            "epoch 678: 100%|██████████| 282/282 [00:08<00:00, 32.55it/s]\n"
          ]
        },
        {
          "output_type": "stream",
          "name": "stdout",
          "text": [
            "validation loss: 0.0017586657454570134 at epoch 679\n",
            "learning_rate: 0.00021474836480000014\n"
          ]
        },
        {
          "output_type": "stream",
          "name": "stderr",
          "text": [
            "epoch 679: 100%|██████████| 282/282 [00:08<00:00, 32.67it/s]\n"
          ]
        },
        {
          "output_type": "stream",
          "name": "stdout",
          "text": [
            "validation loss: 0.001803106757501761 at epoch 680\n",
            "learning_rate: 0.00021474836480000014\n"
          ]
        },
        {
          "output_type": "stream",
          "name": "stderr",
          "text": [
            "epoch 680: 100%|██████████| 282/282 [00:07<00:00, 36.16it/s]\n"
          ]
        },
        {
          "output_type": "stream",
          "name": "stdout",
          "text": [
            "validation loss: 0.0017603857376509242 at epoch 681\n",
            "learning_rate: 0.00021474836480000014\n"
          ]
        },
        {
          "output_type": "stream",
          "name": "stderr",
          "text": [
            "epoch 681: 100%|██████████| 282/282 [00:08<00:00, 32.76it/s]\n"
          ]
        },
        {
          "output_type": "stream",
          "name": "stdout",
          "text": [
            "validation loss: 0.0017160000552733738 at epoch 682\n",
            "learning_rate: 0.00021474836480000014\n"
          ]
        },
        {
          "output_type": "stream",
          "name": "stderr",
          "text": [
            "epoch 682: 100%|██████████| 282/282 [00:08<00:00, 32.68it/s]\n"
          ]
        },
        {
          "output_type": "stream",
          "name": "stdout",
          "text": [
            "validation loss: 0.0018377011972996924 at epoch 683\n",
            "learning_rate: 0.00021474836480000014\n"
          ]
        },
        {
          "output_type": "stream",
          "name": "stderr",
          "text": [
            "epoch 683: 100%|██████████| 282/282 [00:07<00:00, 36.49it/s]\n"
          ]
        },
        {
          "output_type": "stream",
          "name": "stdout",
          "text": [
            "validation loss: 0.0017181651145219802 at epoch 684\n",
            "learning_rate: 0.00021474836480000014\n"
          ]
        },
        {
          "output_type": "stream",
          "name": "stderr",
          "text": [
            "epoch 684: 100%|██████████| 282/282 [00:08<00:00, 33.36it/s]\n"
          ]
        },
        {
          "output_type": "stream",
          "name": "stdout",
          "text": [
            "validation loss: 0.0017359730245338546 at epoch 685\n",
            "learning_rate: 0.00021474836480000014\n"
          ]
        },
        {
          "output_type": "stream",
          "name": "stderr",
          "text": [
            "epoch 685: 100%|██████████| 282/282 [00:08<00:00, 33.85it/s]\n"
          ]
        },
        {
          "output_type": "stream",
          "name": "stdout",
          "text": [
            "validation loss: 0.0018728996540109317 at epoch 686\n",
            "learning_rate: 0.00021474836480000014\n"
          ]
        },
        {
          "output_type": "stream",
          "name": "stderr",
          "text": [
            "epoch 686: 100%|██████████| 282/282 [00:07<00:00, 35.36it/s]\n"
          ]
        },
        {
          "output_type": "stream",
          "name": "stdout",
          "text": [
            "validation loss: 0.00181785602039761 at epoch 687\n",
            "learning_rate: 0.00021474836480000014\n"
          ]
        },
        {
          "output_type": "stream",
          "name": "stderr",
          "text": [
            "epoch 687: 100%|██████████| 282/282 [00:08<00:00, 35.23it/s]\n"
          ]
        },
        {
          "output_type": "stream",
          "name": "stdout",
          "text": [
            "validation loss: 0.0017614941911564934 at epoch 688\n",
            "learning_rate: 0.00021474836480000014\n"
          ]
        },
        {
          "output_type": "stream",
          "name": "stderr",
          "text": [
            "epoch 688: 100%|██████████| 282/282 [00:08<00:00, 32.38it/s]\n"
          ]
        },
        {
          "output_type": "stream",
          "name": "stdout",
          "text": [
            "validation loss: 0.0016505164744125473 at epoch 689\n",
            "learning_rate: 0.00021474836480000014\n"
          ]
        },
        {
          "output_type": "stream",
          "name": "stderr",
          "text": [
            "epoch 689: 100%|██████████| 282/282 [00:08<00:00, 32.34it/s]\n"
          ]
        },
        {
          "output_type": "stream",
          "name": "stdout",
          "text": [
            "validation loss: 0.001622411293288072 at epoch 690\n",
            "learning_rate: 0.00021474836480000014\n"
          ]
        },
        {
          "output_type": "stream",
          "name": "stderr",
          "text": [
            "epoch 690: 100%|██████████| 282/282 [00:07<00:00, 35.71it/s]\n"
          ]
        },
        {
          "output_type": "stream",
          "name": "stdout",
          "text": [
            "validation loss: 0.0016189449487460984 at epoch 691\n",
            "learning_rate: 0.00021474836480000014\n"
          ]
        },
        {
          "output_type": "stream",
          "name": "stderr",
          "text": [
            "epoch 691: 100%|██████████| 282/282 [00:08<00:00, 32.75it/s]\n"
          ]
        },
        {
          "output_type": "stream",
          "name": "stdout",
          "text": [
            "validation loss: 0.0017614958013097445 at epoch 692\n",
            "learning_rate: 0.00021474836480000014\n"
          ]
        },
        {
          "output_type": "stream",
          "name": "stderr",
          "text": [
            "epoch 692: 100%|██████████| 282/282 [00:08<00:00, 32.60it/s]\n"
          ]
        },
        {
          "output_type": "stream",
          "name": "stdout",
          "text": [
            "validation loss: 0.001661029611196783 at epoch 693\n",
            "learning_rate: 0.00021474836480000014\n"
          ]
        },
        {
          "output_type": "stream",
          "name": "stderr",
          "text": [
            "epoch 693: 100%|██████████| 282/282 [00:08<00:00, 35.18it/s]\n"
          ]
        },
        {
          "output_type": "stream",
          "name": "stdout",
          "text": [
            "validation loss: 0.0017364546234409015 at epoch 694\n",
            "learning_rate: 0.00021474836480000014\n"
          ]
        },
        {
          "output_type": "stream",
          "name": "stderr",
          "text": [
            "epoch 694: 100%|██████████| 282/282 [00:08<00:00, 33.87it/s]\n"
          ]
        },
        {
          "output_type": "stream",
          "name": "stdout",
          "text": [
            "validation loss: 0.001630961281557878 at epoch 695\n",
            "learning_rate: 0.00021474836480000014\n"
          ]
        },
        {
          "output_type": "stream",
          "name": "stderr",
          "text": [
            "epoch 695: 100%|██████████| 282/282 [00:08<00:00, 33.63it/s]\n"
          ]
        },
        {
          "output_type": "stream",
          "name": "stdout",
          "text": [
            "validation loss: 0.0015152999758720398 at epoch 696\n",
            "learning_rate: 0.00021474836480000014\n"
          ]
        },
        {
          "output_type": "stream",
          "name": "stderr",
          "text": [
            "epoch 696: 100%|██████████| 282/282 [00:08<00:00, 34.03it/s]\n"
          ]
        },
        {
          "output_type": "stream",
          "name": "stdout",
          "text": [
            "validation loss: 0.0015468430237637627 at epoch 697\n",
            "learning_rate: 0.00021474836480000014\n"
          ]
        },
        {
          "output_type": "stream",
          "name": "stderr",
          "text": [
            "epoch 697: 100%|██████████| 282/282 [00:07<00:00, 36.30it/s]\n"
          ]
        },
        {
          "output_type": "stream",
          "name": "stdout",
          "text": [
            "validation loss: 0.0014939486516846552 at epoch 698\n",
            "learning_rate: 0.00021474836480000014\n"
          ]
        },
        {
          "output_type": "stream",
          "name": "stderr",
          "text": [
            "epoch 698: 100%|██████████| 282/282 [00:08<00:00, 33.31it/s]\n"
          ]
        },
        {
          "output_type": "stream",
          "name": "stdout",
          "text": [
            "validation loss: 0.0014301975228720241 at epoch 699\n",
            "learning_rate: 0.00021474836480000014\n"
          ]
        },
        {
          "output_type": "stream",
          "name": "stderr",
          "text": [
            "epoch 699: 100%|██████████| 282/282 [00:08<00:00, 32.51it/s]\n"
          ]
        },
        {
          "output_type": "stream",
          "name": "stdout",
          "text": [
            "validation loss: 0.0014351219716999266 at epoch 700\n",
            "learning_rate: 0.00021474836480000014\n"
          ]
        },
        {
          "output_type": "stream",
          "name": "stderr",
          "text": [
            "epoch 700: 100%|██████████| 282/282 [00:07<00:00, 36.02it/s]\n"
          ]
        },
        {
          "output_type": "stream",
          "name": "stdout",
          "text": [
            "validation loss: 0.0014596522094474898 at epoch 701\n",
            "learning_rate: 0.00021474836480000014\n"
          ]
        },
        {
          "output_type": "stream",
          "name": "stderr",
          "text": [
            "epoch 701: 100%|██████████| 282/282 [00:08<00:00, 32.91it/s]\n"
          ]
        },
        {
          "output_type": "stream",
          "name": "stdout",
          "text": [
            "validation loss: 0.0014227891423636012 at epoch 702\n",
            "learning_rate: 0.00021474836480000014\n"
          ]
        },
        {
          "output_type": "stream",
          "name": "stderr",
          "text": [
            "epoch 702: 100%|██████████| 282/282 [00:08<00:00, 32.16it/s]\n"
          ]
        },
        {
          "output_type": "stream",
          "name": "stdout",
          "text": [
            "validation loss: 0.0014686086939440833 at epoch 703\n",
            "learning_rate: 0.00021474836480000014\n"
          ]
        },
        {
          "output_type": "stream",
          "name": "stderr",
          "text": [
            "epoch 703: 100%|██████████| 282/282 [00:07<00:00, 35.90it/s]\n"
          ]
        },
        {
          "output_type": "stream",
          "name": "stdout",
          "text": [
            "validation loss: 0.0015083084487252764 at epoch 704\n",
            "learning_rate: 0.00021474836480000014\n"
          ]
        },
        {
          "output_type": "stream",
          "name": "stderr",
          "text": [
            "epoch 704: 100%|██████████| 282/282 [00:08<00:00, 33.22it/s]\n"
          ]
        },
        {
          "output_type": "stream",
          "name": "stdout",
          "text": [
            "validation loss: 0.0014188720716370477 at epoch 705\n",
            "learning_rate: 0.00021474836480000014\n"
          ]
        },
        {
          "output_type": "stream",
          "name": "stderr",
          "text": [
            "epoch 705: 100%|██████████| 282/282 [00:08<00:00, 32.74it/s]\n"
          ]
        },
        {
          "output_type": "stream",
          "name": "stdout",
          "text": [
            "validation loss: 0.0014036830671959454 at epoch 706\n",
            "learning_rate: 0.00021474836480000014\n"
          ]
        },
        {
          "output_type": "stream",
          "name": "stderr",
          "text": [
            "epoch 706: 100%|██████████| 282/282 [00:08<00:00, 34.37it/s]\n"
          ]
        },
        {
          "output_type": "stream",
          "name": "stdout",
          "text": [
            "validation loss: 0.0013174104102783733 at epoch 707\n",
            "learning_rate: 0.00021474836480000014\n"
          ]
        },
        {
          "output_type": "stream",
          "name": "stderr",
          "text": [
            "epoch 707: 100%|██████████| 282/282 [00:07<00:00, 36.06it/s]\n"
          ]
        },
        {
          "output_type": "stream",
          "name": "stdout",
          "text": [
            "validation loss: 0.0013002096778816647 at epoch 708\n",
            "learning_rate: 0.00021474836480000014\n"
          ]
        },
        {
          "output_type": "stream",
          "name": "stderr",
          "text": [
            "epoch 708: 100%|██████████| 282/282 [00:08<00:00, 32.96it/s]\n"
          ]
        },
        {
          "output_type": "stream",
          "name": "stdout",
          "text": [
            "validation loss: 0.001368550580408838 at epoch 709\n",
            "learning_rate: 0.00021474836480000014\n"
          ]
        },
        {
          "output_type": "stream",
          "name": "stderr",
          "text": [
            "epoch 709: 100%|██████████| 282/282 [00:08<00:00, 32.76it/s]\n"
          ]
        },
        {
          "output_type": "stream",
          "name": "stdout",
          "text": [
            "validation loss: 0.0014027305179172092 at epoch 710\n",
            "learning_rate: 0.00021474836480000014\n"
          ]
        },
        {
          "output_type": "stream",
          "name": "stderr",
          "text": [
            "epoch 710: 100%|██████████| 282/282 [00:07<00:00, 35.77it/s]\n"
          ]
        },
        {
          "output_type": "stream",
          "name": "stdout",
          "text": [
            "validation loss: 0.0013646530302034484 at epoch 711\n",
            "learning_rate: 0.00021474836480000014\n"
          ]
        },
        {
          "output_type": "stream",
          "name": "stderr",
          "text": [
            "epoch 711: 100%|██████████| 282/282 [00:08<00:00, 32.59it/s]\n"
          ]
        },
        {
          "output_type": "stream",
          "name": "stdout",
          "text": [
            "validation loss: 0.0012839783223138916 at epoch 712\n",
            "learning_rate: 0.00021474836480000014\n"
          ]
        },
        {
          "output_type": "stream",
          "name": "stderr",
          "text": [
            "epoch 712: 100%|██████████| 282/282 [00:08<00:00, 33.40it/s]\n"
          ]
        },
        {
          "output_type": "stream",
          "name": "stdout",
          "text": [
            "validation loss: 0.0012388370086749395 at epoch 713\n",
            "learning_rate: 0.00021474836480000014\n",
            "model saved in ani_acrolein.pt\n"
          ]
        },
        {
          "output_type": "stream",
          "name": "stderr",
          "text": [
            "epoch 713: 100%|██████████| 282/282 [00:07<00:00, 36.30it/s]\n"
          ]
        },
        {
          "output_type": "stream",
          "name": "stdout",
          "text": [
            "validation loss: 0.001294342483083407 at epoch 714\n",
            "learning_rate: 0.00021474836480000014\n"
          ]
        },
        {
          "output_type": "stream",
          "name": "stderr",
          "text": [
            "epoch 714: 100%|██████████| 282/282 [00:08<00:00, 33.24it/s]\n"
          ]
        },
        {
          "output_type": "stream",
          "name": "stdout",
          "text": [
            "validation loss: 0.0012518955187665092 at epoch 715\n",
            "learning_rate: 0.00021474836480000014\n"
          ]
        },
        {
          "output_type": "stream",
          "name": "stderr",
          "text": [
            "epoch 715: 100%|██████████| 282/282 [00:08<00:00, 32.74it/s]\n"
          ]
        },
        {
          "output_type": "stream",
          "name": "stdout",
          "text": [
            "validation loss: 0.0012754669843448533 at epoch 716\n",
            "learning_rate: 0.00021474836480000014\n"
          ]
        },
        {
          "output_type": "stream",
          "name": "stderr",
          "text": [
            "epoch 716: 100%|██████████| 282/282 [00:07<00:00, 36.20it/s]\n"
          ]
        },
        {
          "output_type": "stream",
          "name": "stdout",
          "text": [
            "validation loss: 0.0012861321427755886 at epoch 717\n",
            "learning_rate: 0.00021474836480000014\n"
          ]
        },
        {
          "output_type": "stream",
          "name": "stderr",
          "text": [
            "epoch 717: 100%|██████████| 282/282 [00:08<00:00, 34.21it/s]\n"
          ]
        },
        {
          "output_type": "stream",
          "name": "stdout",
          "text": [
            "validation loss: 0.00134760575575961 at epoch 718\n",
            "learning_rate: 0.00021474836480000014\n"
          ]
        },
        {
          "output_type": "stream",
          "name": "stderr",
          "text": [
            "epoch 718: 100%|██████████| 282/282 [00:08<00:00, 32.88it/s]\n"
          ]
        },
        {
          "output_type": "stream",
          "name": "stdout",
          "text": [
            "validation loss: 0.0014328442133135265 at epoch 719\n",
            "learning_rate: 0.00021474836480000014\n"
          ]
        },
        {
          "output_type": "stream",
          "name": "stderr",
          "text": [
            "epoch 719: 100%|██████████| 282/282 [00:08<00:00, 33.87it/s]\n"
          ]
        },
        {
          "output_type": "stream",
          "name": "stdout",
          "text": [
            "validation loss: 0.0013548804728521241 at epoch 720\n",
            "learning_rate: 0.00021474836480000014\n"
          ]
        },
        {
          "output_type": "stream",
          "name": "stderr",
          "text": [
            "epoch 720: 100%|██████████| 282/282 [00:07<00:00, 36.73it/s]\n"
          ]
        },
        {
          "output_type": "stream",
          "name": "stdout",
          "text": [
            "validation loss: 0.001291374565826522 at epoch 721\n",
            "learning_rate: 0.00021474836480000014\n"
          ]
        },
        {
          "output_type": "stream",
          "name": "stderr",
          "text": [
            "epoch 721: 100%|██████████| 282/282 [00:08<00:00, 33.25it/s]\n"
          ]
        },
        {
          "output_type": "stream",
          "name": "stdout",
          "text": [
            "validation loss: 0.0013444226210316023 at epoch 722\n",
            "learning_rate: 0.00021474836480000014\n"
          ]
        },
        {
          "output_type": "stream",
          "name": "stderr",
          "text": [
            "epoch 722: 100%|██████████| 282/282 [00:08<00:00, 33.19it/s]\n"
          ]
        },
        {
          "output_type": "stream",
          "name": "stdout",
          "text": [
            "validation loss: 0.0013208136392964258 at epoch 723\n",
            "learning_rate: 0.00021474836480000014\n"
          ]
        },
        {
          "output_type": "stream",
          "name": "stderr",
          "text": [
            "epoch 723: 100%|██████████| 282/282 [00:07<00:00, 36.55it/s]\n"
          ]
        },
        {
          "output_type": "stream",
          "name": "stdout",
          "text": [
            "validation loss: 0.001322187249859174 at epoch 724\n",
            "learning_rate: 0.00021474836480000014\n"
          ]
        },
        {
          "output_type": "stream",
          "name": "stderr",
          "text": [
            "epoch 724: 100%|██████████| 282/282 [00:08<00:00, 33.20it/s]\n"
          ]
        },
        {
          "output_type": "stream",
          "name": "stdout",
          "text": [
            "validation loss: 0.0013793285737435023 at epoch 725\n",
            "learning_rate: 0.00021474836480000014\n"
          ]
        },
        {
          "output_type": "stream",
          "name": "stderr",
          "text": [
            "epoch 725: 100%|██████████| 282/282 [00:08<00:00, 32.84it/s]\n"
          ]
        },
        {
          "output_type": "stream",
          "name": "stdout",
          "text": [
            "validation loss: 0.0014204596661859087 at epoch 726\n",
            "learning_rate: 0.00021474836480000014\n"
          ]
        },
        {
          "output_type": "stream",
          "name": "stderr",
          "text": [
            "epoch 726: 100%|██████████| 282/282 [00:07<00:00, 36.71it/s]\n"
          ]
        },
        {
          "output_type": "stream",
          "name": "stdout",
          "text": [
            "validation loss: 0.0014172343810399373 at epoch 727\n",
            "learning_rate: 0.00021474836480000014\n"
          ]
        },
        {
          "output_type": "stream",
          "name": "stderr",
          "text": [
            "epoch 727: 100%|██████████| 282/282 [00:08<00:00, 33.24it/s]\n"
          ]
        },
        {
          "output_type": "stream",
          "name": "stdout",
          "text": [
            "validation loss: 0.0014221661703454124 at epoch 728\n",
            "learning_rate: 0.00021474836480000014\n"
          ]
        },
        {
          "output_type": "stream",
          "name": "stderr",
          "text": [
            "epoch 728: 100%|██████████| 282/282 [00:08<00:00, 32.72it/s]\n"
          ]
        },
        {
          "output_type": "stream",
          "name": "stdout",
          "text": [
            "validation loss: 0.001488532830443647 at epoch 729\n",
            "learning_rate: 0.00021474836480000014\n"
          ]
        },
        {
          "output_type": "stream",
          "name": "stderr",
          "text": [
            "epoch 729: 100%|██████████| 282/282 [00:07<00:00, 36.22it/s]\n"
          ]
        },
        {
          "output_type": "stream",
          "name": "stdout",
          "text": [
            "validation loss: 0.0013688105584846602 at epoch 730\n",
            "learning_rate: 0.00021474836480000014\n"
          ]
        },
        {
          "output_type": "stream",
          "name": "stderr",
          "text": [
            "epoch 730: 100%|██████████| 282/282 [00:08<00:00, 34.31it/s]\n"
          ]
        },
        {
          "output_type": "stream",
          "name": "stdout",
          "text": [
            "validation loss: 0.001320986560649342 at epoch 731\n",
            "learning_rate: 0.00021474836480000014\n"
          ]
        },
        {
          "output_type": "stream",
          "name": "stderr",
          "text": [
            "epoch 731: 100%|██████████| 282/282 [00:08<00:00, 32.83it/s]\n"
          ]
        },
        {
          "output_type": "stream",
          "name": "stdout",
          "text": [
            "validation loss: 0.0014748304825690057 at epoch 732\n",
            "learning_rate: 0.00021474836480000014\n"
          ]
        },
        {
          "output_type": "stream",
          "name": "stderr",
          "text": [
            "epoch 732: 100%|██████████| 282/282 [00:07<00:00, 35.35it/s]\n"
          ]
        },
        {
          "output_type": "stream",
          "name": "stdout",
          "text": [
            "validation loss: 0.001371192807952563 at epoch 733\n",
            "learning_rate: 0.00021474836480000014\n"
          ]
        },
        {
          "output_type": "stream",
          "name": "stderr",
          "text": [
            "epoch 733: 100%|██████████| 282/282 [00:07<00:00, 35.48it/s]\n"
          ]
        },
        {
          "output_type": "stream",
          "name": "stdout",
          "text": [
            "validation loss: 0.0012628879704409176 at epoch 734\n",
            "learning_rate: 0.00021474836480000014\n"
          ]
        },
        {
          "output_type": "stream",
          "name": "stderr",
          "text": [
            "epoch 734: 100%|██████████| 282/282 [00:08<00:00, 32.88it/s]\n"
          ]
        },
        {
          "output_type": "stream",
          "name": "stdout",
          "text": [
            "validation loss: 0.0013011403613620335 at epoch 735\n",
            "learning_rate: 0.00021474836480000014\n"
          ]
        },
        {
          "output_type": "stream",
          "name": "stderr",
          "text": [
            "epoch 735: 100%|██████████| 282/282 [00:08<00:00, 33.83it/s]\n"
          ]
        },
        {
          "output_type": "stream",
          "name": "stdout",
          "text": [
            "validation loss: 0.0013074949557582538 at epoch 736\n",
            "learning_rate: 0.00021474836480000014\n"
          ]
        },
        {
          "output_type": "stream",
          "name": "stderr",
          "text": [
            "epoch 736: 100%|██████████| 282/282 [00:07<00:00, 36.47it/s]\n"
          ]
        },
        {
          "output_type": "stream",
          "name": "stdout",
          "text": [
            "validation loss: 0.0013005962322155634 at epoch 737\n",
            "learning_rate: 0.00021474836480000014\n"
          ]
        },
        {
          "output_type": "stream",
          "name": "stderr",
          "text": [
            "epoch 737: 100%|██████████| 282/282 [00:08<00:00, 32.95it/s]\n"
          ]
        },
        {
          "output_type": "stream",
          "name": "stdout",
          "text": [
            "validation loss: 0.0012452483086122406 at epoch 738\n",
            "learning_rate: 0.00021474836480000014\n"
          ]
        },
        {
          "output_type": "stream",
          "name": "stderr",
          "text": [
            "epoch 738: 100%|██████████| 282/282 [00:08<00:00, 33.13it/s]\n"
          ]
        },
        {
          "output_type": "stream",
          "name": "stdout",
          "text": [
            "validation loss: 0.0013047762206859059 at epoch 739\n",
            "learning_rate: 0.00021474836480000014\n"
          ]
        },
        {
          "output_type": "stream",
          "name": "stderr",
          "text": [
            "epoch 739: 100%|██████████| 282/282 [00:07<00:00, 36.85it/s]\n"
          ]
        },
        {
          "output_type": "stream",
          "name": "stdout",
          "text": [
            "validation loss: 0.0013939375380674999 at epoch 740\n",
            "learning_rate: 0.00021474836480000014\n"
          ]
        },
        {
          "output_type": "stream",
          "name": "stderr",
          "text": [
            "epoch 740: 100%|██████████| 282/282 [00:08<00:00, 33.30it/s]\n"
          ]
        },
        {
          "output_type": "stream",
          "name": "stdout",
          "text": [
            "validation loss: 0.0014280828105078802 at epoch 741\n",
            "learning_rate: 0.00021474836480000014\n"
          ]
        },
        {
          "output_type": "stream",
          "name": "stderr",
          "text": [
            "epoch 741: 100%|██████████| 282/282 [00:08<00:00, 33.38it/s]\n"
          ]
        },
        {
          "output_type": "stream",
          "name": "stdout",
          "text": [
            "validation loss: 0.001426389794382784 at epoch 742\n",
            "learning_rate: 0.00021474836480000014\n"
          ]
        },
        {
          "output_type": "stream",
          "name": "stderr",
          "text": [
            "epoch 742: 100%|██████████| 282/282 [00:07<00:00, 36.85it/s]\n"
          ]
        },
        {
          "output_type": "stream",
          "name": "stdout",
          "text": [
            "validation loss: 0.0013967852253052924 at epoch 743\n",
            "learning_rate: 0.00021474836480000014\n"
          ]
        },
        {
          "output_type": "stream",
          "name": "stderr",
          "text": [
            "epoch 743: 100%|██████████| 282/282 [00:08<00:00, 33.44it/s]\n"
          ]
        },
        {
          "output_type": "stream",
          "name": "stdout",
          "text": [
            "validation loss: 0.0014121595861183273 at epoch 744\n",
            "learning_rate: 0.00021474836480000014\n"
          ]
        },
        {
          "output_type": "stream",
          "name": "stderr",
          "text": [
            "epoch 744: 100%|██████████| 282/282 [00:08<00:00, 33.05it/s]\n"
          ]
        },
        {
          "output_type": "stream",
          "name": "stdout",
          "text": [
            "validation loss: 0.0012962358130349054 at epoch 745\n",
            "learning_rate: 0.00021474836480000014\n"
          ]
        },
        {
          "output_type": "stream",
          "name": "stderr",
          "text": [
            "epoch 745: 100%|██████████| 282/282 [00:08<00:00, 33.68it/s]\n"
          ]
        },
        {
          "output_type": "stream",
          "name": "stdout",
          "text": [
            "validation loss: 0.0013814499576886494 at epoch 746\n",
            "learning_rate: 0.00021474836480000014\n"
          ]
        },
        {
          "output_type": "stream",
          "name": "stderr",
          "text": [
            "epoch 746: 100%|██████████| 282/282 [00:07<00:00, 35.44it/s]\n"
          ]
        },
        {
          "output_type": "stream",
          "name": "stdout",
          "text": [
            "validation loss: 0.0013754368490642972 at epoch 747\n",
            "learning_rate: 0.00021474836480000014\n"
          ]
        },
        {
          "output_type": "stream",
          "name": "stderr",
          "text": [
            "epoch 747: 100%|██████████| 282/282 [00:08<00:00, 32.44it/s]\n"
          ]
        },
        {
          "output_type": "stream",
          "name": "stdout",
          "text": [
            "validation loss: 0.00140178532153368 at epoch 748\n",
            "learning_rate: 0.00021474836480000014\n"
          ]
        },
        {
          "output_type": "stream",
          "name": "stderr",
          "text": [
            "epoch 748: 100%|██████████| 282/282 [00:08<00:00, 33.57it/s]\n"
          ]
        },
        {
          "output_type": "stream",
          "name": "stdout",
          "text": [
            "validation loss: 0.001436417990260654 at epoch 749\n",
            "learning_rate: 0.00021474836480000014\n"
          ]
        },
        {
          "output_type": "stream",
          "name": "stderr",
          "text": [
            "epoch 749: 100%|██████████| 282/282 [00:07<00:00, 36.67it/s]\n"
          ]
        },
        {
          "output_type": "stream",
          "name": "stdout",
          "text": [
            "validation loss: 0.001502305357820458 at epoch 750\n",
            "learning_rate: 0.00021474836480000014\n"
          ]
        },
        {
          "output_type": "stream",
          "name": "stderr",
          "text": [
            "epoch 750: 100%|██████████| 282/282 [00:08<00:00, 33.11it/s]\n"
          ]
        },
        {
          "output_type": "stream",
          "name": "stdout",
          "text": [
            "validation loss: 0.0014225751641723844 at epoch 751\n",
            "learning_rate: 0.00021474836480000014\n"
          ]
        },
        {
          "output_type": "stream",
          "name": "stderr",
          "text": [
            "epoch 751: 100%|██████████| 282/282 [00:08<00:00, 33.40it/s]\n"
          ]
        },
        {
          "output_type": "stream",
          "name": "stdout",
          "text": [
            "validation loss: 0.001475385276807679 at epoch 752\n",
            "learning_rate: 0.00021474836480000014\n"
          ]
        },
        {
          "output_type": "stream",
          "name": "stderr",
          "text": [
            "epoch 752: 100%|██████████| 282/282 [00:07<00:00, 36.03it/s]\n"
          ]
        },
        {
          "output_type": "stream",
          "name": "stdout",
          "text": [
            "validation loss: 0.001381174101597733 at epoch 753\n",
            "learning_rate: 0.00021474836480000014\n"
          ]
        },
        {
          "output_type": "stream",
          "name": "stderr",
          "text": [
            "epoch 753: 100%|██████████| 282/282 [00:08<00:00, 33.40it/s]\n"
          ]
        },
        {
          "output_type": "stream",
          "name": "stdout",
          "text": [
            "validation loss: 0.0014361470027102364 at epoch 754\n",
            "learning_rate: 0.00021474836480000014\n"
          ]
        },
        {
          "output_type": "stream",
          "name": "stderr",
          "text": [
            "epoch 754: 100%|██████████| 282/282 [00:08<00:00, 32.90it/s]\n"
          ]
        },
        {
          "output_type": "stream",
          "name": "stdout",
          "text": [
            "validation loss: 0.001447768460545275 at epoch 755\n",
            "learning_rate: 0.00021474836480000014\n"
          ]
        },
        {
          "output_type": "stream",
          "name": "stderr",
          "text": [
            "epoch 755: 100%|██████████| 282/282 [00:07<00:00, 36.28it/s]\n"
          ]
        },
        {
          "output_type": "stream",
          "name": "stdout",
          "text": [
            "validation loss: 0.0014028438404202462 at epoch 756\n",
            "learning_rate: 0.00021474836480000014\n"
          ]
        },
        {
          "output_type": "stream",
          "name": "stderr",
          "text": [
            "epoch 756: 100%|██████████| 282/282 [00:08<00:00, 34.12it/s]\n"
          ]
        },
        {
          "output_type": "stream",
          "name": "stdout",
          "text": [
            "validation loss: 0.0014804448096288575 at epoch 757\n",
            "learning_rate: 0.00021474836480000014\n"
          ]
        },
        {
          "output_type": "stream",
          "name": "stderr",
          "text": [
            "epoch 757: 100%|██████████| 282/282 [00:08<00:00, 32.66it/s]\n"
          ]
        },
        {
          "output_type": "stream",
          "name": "stdout",
          "text": [
            "validation loss: 0.001577238383392493 at epoch 758\n",
            "learning_rate: 0.00021474836480000014\n"
          ]
        },
        {
          "output_type": "stream",
          "name": "stderr",
          "text": [
            "epoch 758: 100%|██████████| 282/282 [00:08<00:00, 35.25it/s]\n"
          ]
        },
        {
          "output_type": "stream",
          "name": "stdout",
          "text": [
            "validation loss: 0.0014314910769462586 at epoch 759\n",
            "learning_rate: 0.00021474836480000014\n"
          ]
        },
        {
          "output_type": "stream",
          "name": "stderr",
          "text": [
            "epoch 759: 100%|██████████| 282/282 [00:07<00:00, 35.58it/s]\n"
          ]
        },
        {
          "output_type": "stream",
          "name": "stdout",
          "text": [
            "validation loss: 0.001419725380010075 at epoch 760\n",
            "learning_rate: 0.00021474836480000014\n"
          ]
        },
        {
          "output_type": "stream",
          "name": "stderr",
          "text": [
            "epoch 760: 100%|██████████| 282/282 [00:08<00:00, 32.70it/s]\n"
          ]
        },
        {
          "output_type": "stream",
          "name": "stdout",
          "text": [
            "validation loss: 0.0013290075014034907 at epoch 761\n",
            "learning_rate: 0.00021474836480000014\n"
          ]
        },
        {
          "output_type": "stream",
          "name": "stderr",
          "text": [
            "epoch 761: 100%|██████████| 282/282 [00:08<00:00, 32.91it/s]\n"
          ]
        },
        {
          "output_type": "stream",
          "name": "stdout",
          "text": [
            "validation loss: 0.0014544937974876827 at epoch 762\n",
            "learning_rate: 0.00021474836480000014\n"
          ]
        },
        {
          "output_type": "stream",
          "name": "stderr",
          "text": [
            "epoch 762: 100%|██████████| 282/282 [00:07<00:00, 36.32it/s]\n"
          ]
        },
        {
          "output_type": "stream",
          "name": "stdout",
          "text": [
            "validation loss: 0.001654333531856537 at epoch 763\n",
            "learning_rate: 0.00021474836480000014\n"
          ]
        },
        {
          "output_type": "stream",
          "name": "stderr",
          "text": [
            "epoch 763: 100%|██████████| 282/282 [00:08<00:00, 32.80it/s]\n"
          ]
        },
        {
          "output_type": "stream",
          "name": "stdout",
          "text": [
            "validation loss: 0.001392495449218485 at epoch 764\n",
            "learning_rate: 0.00021474836480000014\n"
          ]
        },
        {
          "output_type": "stream",
          "name": "stderr",
          "text": [
            "epoch 764: 100%|██████████| 282/282 [00:08<00:00, 33.28it/s]\n"
          ]
        },
        {
          "output_type": "stream",
          "name": "stdout",
          "text": [
            "validation loss: 0.0012913413892189662 at epoch 765\n",
            "learning_rate: 0.00017179869184000014\n"
          ]
        },
        {
          "output_type": "stream",
          "name": "stderr",
          "text": [
            "epoch 765: 100%|██████████| 282/282 [00:07<00:00, 36.29it/s]\n"
          ]
        },
        {
          "output_type": "stream",
          "name": "stdout",
          "text": [
            "validation loss: 0.0013155906713671155 at epoch 766\n",
            "learning_rate: 0.00017179869184000014\n"
          ]
        },
        {
          "output_type": "stream",
          "name": "stderr",
          "text": [
            "epoch 766: 100%|██████████| 282/282 [00:08<00:00, 32.84it/s]\n"
          ]
        },
        {
          "output_type": "stream",
          "name": "stdout",
          "text": [
            "validation loss: 0.0013273052291737663 at epoch 767\n",
            "learning_rate: 0.00017179869184000014\n"
          ]
        },
        {
          "output_type": "stream",
          "name": "stderr",
          "text": [
            "epoch 767: 100%|██████████| 282/282 [00:08<00:00, 32.84it/s]\n"
          ]
        },
        {
          "output_type": "stream",
          "name": "stdout",
          "text": [
            "validation loss: 0.0013652291322747865 at epoch 768\n",
            "learning_rate: 0.00017179869184000014\n"
          ]
        },
        {
          "output_type": "stream",
          "name": "stderr",
          "text": [
            "epoch 768: 100%|██████████| 282/282 [00:07<00:00, 36.43it/s]\n"
          ]
        },
        {
          "output_type": "stream",
          "name": "stdout",
          "text": [
            "validation loss: 0.0014441549496518242 at epoch 769\n",
            "learning_rate: 0.00017179869184000014\n"
          ]
        },
        {
          "output_type": "stream",
          "name": "stderr",
          "text": [
            "epoch 769: 100%|██████████| 282/282 [00:08<00:00, 33.32it/s]\n"
          ]
        },
        {
          "output_type": "stream",
          "name": "stdout",
          "text": [
            "validation loss: 0.0013529427862829632 at epoch 770\n",
            "learning_rate: 0.00017179869184000014\n"
          ]
        },
        {
          "output_type": "stream",
          "name": "stderr",
          "text": [
            "epoch 770: 100%|██████████| 282/282 [00:08<00:00, 32.57it/s]\n"
          ]
        },
        {
          "output_type": "stream",
          "name": "stdout",
          "text": [
            "validation loss: 0.0013100970817936791 at epoch 771\n",
            "learning_rate: 0.00017179869184000014\n"
          ]
        },
        {
          "output_type": "stream",
          "name": "stderr",
          "text": [
            "epoch 771: 100%|██████████| 282/282 [00:08<00:00, 35.02it/s]\n"
          ]
        },
        {
          "output_type": "stream",
          "name": "stdout",
          "text": [
            "validation loss: 0.0014430052058564292 at epoch 772\n",
            "learning_rate: 0.00017179869184000014\n"
          ]
        },
        {
          "output_type": "stream",
          "name": "stderr",
          "text": [
            "epoch 772: 100%|██████████| 282/282 [00:07<00:00, 35.32it/s]\n"
          ]
        },
        {
          "output_type": "stream",
          "name": "stdout",
          "text": [
            "validation loss: 0.0013356814607977867 at epoch 773\n",
            "learning_rate: 0.00017179869184000014\n"
          ]
        },
        {
          "output_type": "stream",
          "name": "stderr",
          "text": [
            "epoch 773: 100%|██████████| 282/282 [00:08<00:00, 32.89it/s]\n"
          ]
        },
        {
          "output_type": "stream",
          "name": "stdout",
          "text": [
            "validation loss: 0.0012716009277436468 at epoch 774\n",
            "learning_rate: 0.00017179869184000014\n"
          ]
        },
        {
          "output_type": "stream",
          "name": "stderr",
          "text": [
            "epoch 774: 100%|██████████| 282/282 [00:08<00:00, 33.81it/s]\n"
          ]
        },
        {
          "output_type": "stream",
          "name": "stdout",
          "text": [
            "validation loss: 0.001240798331797123 at epoch 775\n",
            "learning_rate: 0.00017179869184000014\n"
          ]
        },
        {
          "output_type": "stream",
          "name": "stderr",
          "text": [
            "epoch 775: 100%|██████████| 282/282 [00:07<00:00, 36.58it/s]\n"
          ]
        },
        {
          "output_type": "stream",
          "name": "stdout",
          "text": [
            "validation loss: 0.0012599976137280464 at epoch 776\n",
            "learning_rate: 0.00017179869184000014\n"
          ]
        },
        {
          "output_type": "stream",
          "name": "stderr",
          "text": [
            "epoch 776: 100%|██████████| 282/282 [00:08<00:00, 32.74it/s]\n"
          ]
        },
        {
          "output_type": "stream",
          "name": "stdout",
          "text": [
            "validation loss: 0.0012288441326883104 at epoch 777\n",
            "learning_rate: 0.00017179869184000014\n",
            "model saved in ani_acrolein.pt\n"
          ]
        },
        {
          "output_type": "stream",
          "name": "stderr",
          "text": [
            "epoch 777: 100%|██████████| 282/282 [00:08<00:00, 33.32it/s]\n"
          ]
        },
        {
          "output_type": "stream",
          "name": "stdout",
          "text": [
            "validation loss: 0.001250836655497551 at epoch 778\n",
            "learning_rate: 0.00017179869184000014\n"
          ]
        },
        {
          "output_type": "stream",
          "name": "stderr",
          "text": [
            "epoch 778: 100%|██████████| 282/282 [00:07<00:00, 36.33it/s]\n"
          ]
        },
        {
          "output_type": "stream",
          "name": "stdout",
          "text": [
            "validation loss: 0.001212429504427645 at epoch 779\n",
            "learning_rate: 0.00017179869184000014\n",
            "model saved in ani_acrolein.pt\n"
          ]
        },
        {
          "output_type": "stream",
          "name": "stderr",
          "text": [
            "epoch 779: 100%|██████████| 282/282 [00:08<00:00, 32.31it/s]\n"
          ]
        },
        {
          "output_type": "stream",
          "name": "stdout",
          "text": [
            "validation loss: 0.0012601869702339172 at epoch 780\n",
            "learning_rate: 0.00017179869184000014\n"
          ]
        },
        {
          "output_type": "stream",
          "name": "stderr",
          "text": [
            "epoch 780: 100%|██████████| 282/282 [00:08<00:00, 32.00it/s]\n"
          ]
        },
        {
          "output_type": "stream",
          "name": "stdout",
          "text": [
            "validation loss: 0.0012814373961753315 at epoch 781\n",
            "learning_rate: 0.00017179869184000014\n"
          ]
        },
        {
          "output_type": "stream",
          "name": "stderr",
          "text": [
            "epoch 781: 100%|██████████| 282/282 [00:08<00:00, 34.32it/s]\n"
          ]
        },
        {
          "output_type": "stream",
          "name": "stdout",
          "text": [
            "validation loss: 0.0012809989179174105 at epoch 782\n",
            "learning_rate: 0.00017179869184000014\n"
          ]
        },
        {
          "output_type": "stream",
          "name": "stderr",
          "text": [
            "epoch 782: 100%|██████████| 282/282 [00:08<00:00, 32.71it/s]\n"
          ]
        },
        {
          "output_type": "stream",
          "name": "stdout",
          "text": [
            "validation loss: 0.0012763542441858186 at epoch 783\n",
            "learning_rate: 0.00017179869184000014\n"
          ]
        },
        {
          "output_type": "stream",
          "name": "stderr",
          "text": [
            "epoch 783: 100%|██████████| 282/282 [00:08<00:00, 32.49it/s]\n"
          ]
        },
        {
          "output_type": "stream",
          "name": "stdout",
          "text": [
            "validation loss: 0.0012763225394818519 at epoch 784\n",
            "learning_rate: 0.00017179869184000014\n"
          ]
        },
        {
          "output_type": "stream",
          "name": "stderr",
          "text": [
            "epoch 784: 100%|██████████| 282/282 [00:08<00:00, 32.42it/s]\n"
          ]
        },
        {
          "output_type": "stream",
          "name": "stdout",
          "text": [
            "validation loss: 0.0013693184306224188 at epoch 785\n",
            "learning_rate: 0.00017179869184000014\n"
          ]
        },
        {
          "output_type": "stream",
          "name": "stderr",
          "text": [
            "epoch 785: 100%|██████████| 282/282 [00:07<00:00, 35.77it/s]\n"
          ]
        },
        {
          "output_type": "stream",
          "name": "stdout",
          "text": [
            "validation loss: 0.0013927153845628103 at epoch 786\n",
            "learning_rate: 0.00017179869184000014\n"
          ]
        },
        {
          "output_type": "stream",
          "name": "stderr",
          "text": [
            "epoch 786: 100%|██████████| 282/282 [00:08<00:00, 32.22it/s]\n"
          ]
        },
        {
          "output_type": "stream",
          "name": "stdout",
          "text": [
            "validation loss: 0.0014291216789020433 at epoch 787\n",
            "learning_rate: 0.00017179869184000014\n"
          ]
        },
        {
          "output_type": "stream",
          "name": "stderr",
          "text": [
            "epoch 787: 100%|██████████| 282/282 [00:08<00:00, 32.30it/s]\n"
          ]
        },
        {
          "output_type": "stream",
          "name": "stdout",
          "text": [
            "validation loss: 0.0013561705549558004 at epoch 788\n",
            "learning_rate: 0.00017179869184000014\n"
          ]
        },
        {
          "output_type": "stream",
          "name": "stderr",
          "text": [
            "epoch 788: 100%|██████████| 282/282 [00:07<00:00, 35.79it/s]\n"
          ]
        },
        {
          "output_type": "stream",
          "name": "stdout",
          "text": [
            "validation loss: 0.0012362893265154627 at epoch 789\n",
            "learning_rate: 0.00017179869184000014\n"
          ]
        },
        {
          "output_type": "stream",
          "name": "stderr",
          "text": [
            "epoch 789: 100%|██████████| 282/282 [00:08<00:00, 32.75it/s]\n"
          ]
        },
        {
          "output_type": "stream",
          "name": "stdout",
          "text": [
            "validation loss: 0.001211209722691112 at epoch 790\n",
            "learning_rate: 0.00017179869184000014\n",
            "model saved in ani_acrolein.pt\n"
          ]
        },
        {
          "output_type": "stream",
          "name": "stderr",
          "text": [
            "epoch 790: 100%|██████████| 282/282 [00:08<00:00, 32.77it/s]\n"
          ]
        },
        {
          "output_type": "stream",
          "name": "stdout",
          "text": [
            "validation loss: 0.0012471789725952678 at epoch 791\n",
            "learning_rate: 0.00017179869184000014\n"
          ]
        },
        {
          "output_type": "stream",
          "name": "stderr",
          "text": [
            "epoch 791: 100%|██████████| 282/282 [00:08<00:00, 35.14it/s]\n"
          ]
        },
        {
          "output_type": "stream",
          "name": "stdout",
          "text": [
            "validation loss: 0.0011889620630277527 at epoch 792\n",
            "learning_rate: 0.00017179869184000014\n",
            "model saved in ani_acrolein.pt\n"
          ]
        },
        {
          "output_type": "stream",
          "name": "stderr",
          "text": [
            "epoch 792: 100%|██████████| 282/282 [00:08<00:00, 34.21it/s]\n"
          ]
        },
        {
          "output_type": "stream",
          "name": "stdout",
          "text": [
            "validation loss: 0.001220980296532313 at epoch 793\n",
            "learning_rate: 0.00017179869184000014\n"
          ]
        },
        {
          "output_type": "stream",
          "name": "stderr",
          "text": [
            "epoch 793: 100%|██████████| 282/282 [00:08<00:00, 32.61it/s]\n"
          ]
        },
        {
          "output_type": "stream",
          "name": "stdout",
          "text": [
            "validation loss: 0.0012537468762861357 at epoch 794\n",
            "learning_rate: 0.00017179869184000014\n"
          ]
        },
        {
          "output_type": "stream",
          "name": "stderr",
          "text": [
            "epoch 794: 100%|██████████| 282/282 [00:08<00:00, 32.94it/s]\n"
          ]
        },
        {
          "output_type": "stream",
          "name": "stdout",
          "text": [
            "validation loss: 0.0012484305153290431 at epoch 795\n",
            "learning_rate: 0.00017179869184000014\n"
          ]
        },
        {
          "output_type": "stream",
          "name": "stderr",
          "text": [
            "epoch 795: 100%|██████████| 282/282 [00:07<00:00, 35.83it/s]\n"
          ]
        },
        {
          "output_type": "stream",
          "name": "stdout",
          "text": [
            "validation loss: 0.0012098715056975682 at epoch 796\n",
            "learning_rate: 0.00017179869184000014\n"
          ]
        },
        {
          "output_type": "stream",
          "name": "stderr",
          "text": [
            "epoch 796: 100%|██████████| 282/282 [00:08<00:00, 32.47it/s]\n"
          ]
        },
        {
          "output_type": "stream",
          "name": "stdout",
          "text": [
            "validation loss: 0.0012069479665822453 at epoch 797\n",
            "learning_rate: 0.00017179869184000014\n"
          ]
        },
        {
          "output_type": "stream",
          "name": "stderr",
          "text": [
            "epoch 797: 100%|██████████| 282/282 [00:08<00:00, 31.86it/s]\n"
          ]
        },
        {
          "output_type": "stream",
          "name": "stdout",
          "text": [
            "validation loss: 0.0012790625310606426 at epoch 798\n",
            "learning_rate: 0.00017179869184000014\n"
          ]
        },
        {
          "output_type": "stream",
          "name": "stderr",
          "text": [
            "epoch 798: 100%|██████████| 282/282 [00:08<00:00, 33.82it/s]\n"
          ]
        },
        {
          "output_type": "stream",
          "name": "stdout",
          "text": [
            "validation loss: 0.0013562498862544695 at epoch 799\n",
            "learning_rate: 0.00017179869184000014\n"
          ]
        },
        {
          "output_type": "stream",
          "name": "stderr",
          "text": [
            "epoch 799: 100%|██████████| 282/282 [00:08<00:00, 33.47it/s]\n"
          ]
        },
        {
          "output_type": "stream",
          "name": "stdout",
          "text": [
            "validation loss: 0.001430128589272499 at epoch 800\n",
            "learning_rate: 0.00017179869184000014\n"
          ]
        },
        {
          "output_type": "stream",
          "name": "stderr",
          "text": [
            "epoch 800: 100%|██████████| 282/282 [00:08<00:00, 31.48it/s]\n"
          ]
        },
        {
          "output_type": "stream",
          "name": "stdout",
          "text": [
            "validation loss: 0.0013932475008898311 at epoch 801\n",
            "learning_rate: 0.00017179869184000014\n"
          ]
        },
        {
          "output_type": "stream",
          "name": "stderr",
          "text": [
            "epoch 801: 100%|██████████| 282/282 [00:08<00:00, 32.19it/s]\n"
          ]
        },
        {
          "output_type": "stream",
          "name": "stdout",
          "text": [
            "validation loss: 0.0013810707537664306 at epoch 802\n",
            "learning_rate: 0.00017179869184000014\n"
          ]
        },
        {
          "output_type": "stream",
          "name": "stderr",
          "text": [
            "epoch 802: 100%|██████████| 282/282 [00:08<00:00, 34.81it/s]\n"
          ]
        },
        {
          "output_type": "stream",
          "name": "stdout",
          "text": [
            "validation loss: 0.001355123887459437 at epoch 803\n",
            "learning_rate: 0.00017179869184000014\n"
          ]
        },
        {
          "output_type": "stream",
          "name": "stderr",
          "text": [
            "epoch 803: 100%|██████████| 282/282 [00:08<00:00, 31.59it/s]\n"
          ]
        },
        {
          "output_type": "stream",
          "name": "stdout",
          "text": [
            "validation loss: 0.0012487564923034775 at epoch 804\n",
            "learning_rate: 0.00017179869184000014\n"
          ]
        },
        {
          "output_type": "stream",
          "name": "stderr",
          "text": [
            "epoch 804: 100%|██████████| 282/282 [00:08<00:00, 32.08it/s]\n"
          ]
        },
        {
          "output_type": "stream",
          "name": "stdout",
          "text": [
            "validation loss: 0.0013664539729555448 at epoch 805\n",
            "learning_rate: 0.00017179869184000014\n"
          ]
        },
        {
          "output_type": "stream",
          "name": "stderr",
          "text": [
            "epoch 805: 100%|██████████| 282/282 [00:08<00:00, 34.76it/s]\n"
          ]
        },
        {
          "output_type": "stream",
          "name": "stdout",
          "text": [
            "validation loss: 0.0013388469864924748 at epoch 806\n",
            "learning_rate: 0.00017179869184000014\n"
          ]
        },
        {
          "output_type": "stream",
          "name": "stderr",
          "text": [
            "epoch 806: 100%|██████████| 282/282 [00:08<00:00, 32.98it/s]\n"
          ]
        },
        {
          "output_type": "stream",
          "name": "stdout",
          "text": [
            "validation loss: 0.0013067850040064917 at epoch 807\n",
            "learning_rate: 0.00017179869184000014\n"
          ]
        },
        {
          "output_type": "stream",
          "name": "stderr",
          "text": [
            "epoch 807: 100%|██████████| 282/282 [00:08<00:00, 32.25it/s]\n"
          ]
        },
        {
          "output_type": "stream",
          "name": "stdout",
          "text": [
            "validation loss: 0.0012983107045292854 at epoch 808\n",
            "learning_rate: 0.00017179869184000014\n"
          ]
        },
        {
          "output_type": "stream",
          "name": "stderr",
          "text": [
            "epoch 808: 100%|██████████| 282/282 [00:08<00:00, 32.73it/s]\n"
          ]
        },
        {
          "output_type": "stream",
          "name": "stdout",
          "text": [
            "validation loss: 0.0013660936272806591 at epoch 809\n",
            "learning_rate: 0.00017179869184000014\n"
          ]
        },
        {
          "output_type": "stream",
          "name": "stderr",
          "text": [
            "epoch 809: 100%|██████████| 282/282 [00:07<00:00, 35.76it/s]\n"
          ]
        },
        {
          "output_type": "stream",
          "name": "stdout",
          "text": [
            "validation loss: 0.0013376565650105477 at epoch 810\n",
            "learning_rate: 0.00017179869184000014\n"
          ]
        },
        {
          "output_type": "stream",
          "name": "stderr",
          "text": [
            "epoch 810: 100%|██████████| 282/282 [00:08<00:00, 32.88it/s]\n"
          ]
        },
        {
          "output_type": "stream",
          "name": "stdout",
          "text": [
            "validation loss: 0.0013425213098526001 at epoch 811\n",
            "learning_rate: 0.00017179869184000014\n"
          ]
        },
        {
          "output_type": "stream",
          "name": "stderr",
          "text": [
            "epoch 811: 100%|██████████| 282/282 [00:08<00:00, 33.50it/s]\n"
          ]
        },
        {
          "output_type": "stream",
          "name": "stdout",
          "text": [
            "validation loss: 0.001319898978703552 at epoch 812\n",
            "learning_rate: 0.00017179869184000014\n"
          ]
        },
        {
          "output_type": "stream",
          "name": "stderr",
          "text": [
            "epoch 812: 100%|██████████| 282/282 [00:07<00:00, 36.22it/s]\n"
          ]
        },
        {
          "output_type": "stream",
          "name": "stdout",
          "text": [
            "validation loss: 0.0013656660980648464 at epoch 813\n",
            "learning_rate: 0.00017179869184000014\n"
          ]
        },
        {
          "output_type": "stream",
          "name": "stderr",
          "text": [
            "epoch 813: 100%|██████████| 282/282 [00:08<00:00, 32.86it/s]\n"
          ]
        },
        {
          "output_type": "stream",
          "name": "stdout",
          "text": [
            "validation loss: 0.0013798875171277258 at epoch 814\n",
            "learning_rate: 0.00017179869184000014\n"
          ]
        },
        {
          "output_type": "stream",
          "name": "stderr",
          "text": [
            "epoch 814: 100%|██████████| 282/282 [00:08<00:00, 32.57it/s]\n"
          ]
        },
        {
          "output_type": "stream",
          "name": "stdout",
          "text": [
            "validation loss: 0.0013118705691562758 at epoch 815\n",
            "learning_rate: 0.00017179869184000014\n"
          ]
        },
        {
          "output_type": "stream",
          "name": "stderr",
          "text": [
            "epoch 815: 100%|██████████| 282/282 [00:08<00:00, 34.43it/s]\n"
          ]
        },
        {
          "output_type": "stream",
          "name": "stdout",
          "text": [
            "validation loss: 0.0012984509641925494 at epoch 816\n",
            "learning_rate: 0.00017179869184000014\n"
          ]
        },
        {
          "output_type": "stream",
          "name": "stderr",
          "text": [
            "epoch 816: 100%|██████████| 282/282 [00:07<00:00, 35.66it/s]\n"
          ]
        },
        {
          "output_type": "stream",
          "name": "stdout",
          "text": [
            "validation loss: 0.0013431724078125423 at epoch 817\n",
            "learning_rate: 0.00017179869184000014\n"
          ]
        },
        {
          "output_type": "stream",
          "name": "stderr",
          "text": [
            "epoch 817: 100%|██████████| 282/282 [00:08<00:00, 33.07it/s]\n"
          ]
        },
        {
          "output_type": "stream",
          "name": "stdout",
          "text": [
            "validation loss: 0.0013741369388169712 at epoch 818\n",
            "learning_rate: 0.00017179869184000014\n"
          ]
        },
        {
          "output_type": "stream",
          "name": "stderr",
          "text": [
            "epoch 818: 100%|██████████| 282/282 [00:08<00:00, 32.80it/s]\n"
          ]
        },
        {
          "output_type": "stream",
          "name": "stdout",
          "text": [
            "validation loss: 0.0013324468044771088 at epoch 819\n",
            "learning_rate: 0.00017179869184000014\n"
          ]
        },
        {
          "output_type": "stream",
          "name": "stderr",
          "text": [
            "epoch 819: 100%|██████████| 282/282 [00:07<00:00, 36.74it/s]\n"
          ]
        },
        {
          "output_type": "stream",
          "name": "stdout",
          "text": [
            "validation loss: 0.0014397681007782617 at epoch 820\n",
            "learning_rate: 0.00017179869184000014\n"
          ]
        },
        {
          "output_type": "stream",
          "name": "stderr",
          "text": [
            "epoch 820: 100%|██████████| 282/282 [00:08<00:00, 33.30it/s]\n"
          ]
        },
        {
          "output_type": "stream",
          "name": "stdout",
          "text": [
            "validation loss: 0.0013511037048366335 at epoch 821\n",
            "learning_rate: 0.00017179869184000014\n"
          ]
        },
        {
          "output_type": "stream",
          "name": "stderr",
          "text": [
            "epoch 821: 100%|██████████| 282/282 [00:08<00:00, 33.05it/s]\n"
          ]
        },
        {
          "output_type": "stream",
          "name": "stdout",
          "text": [
            "validation loss: 0.0013885798826813699 at epoch 822\n",
            "learning_rate: 0.00017179869184000014\n"
          ]
        },
        {
          "output_type": "stream",
          "name": "stderr",
          "text": [
            "epoch 822: 100%|██████████| 282/282 [00:07<00:00, 36.81it/s]\n"
          ]
        },
        {
          "output_type": "stream",
          "name": "stdout",
          "text": [
            "validation loss: 0.0014451618815461795 at epoch 823\n",
            "learning_rate: 0.00017179869184000014\n"
          ]
        },
        {
          "output_type": "stream",
          "name": "stderr",
          "text": [
            "epoch 823: 100%|██████████| 282/282 [00:08<00:00, 33.23it/s]\n"
          ]
        },
        {
          "output_type": "stream",
          "name": "stdout",
          "text": [
            "validation loss: 0.0013653209035595258 at epoch 824\n",
            "learning_rate: 0.00017179869184000014\n"
          ]
        },
        {
          "output_type": "stream",
          "name": "stderr",
          "text": [
            "epoch 824: 100%|██████████| 282/282 [00:08<00:00, 32.85it/s]\n"
          ]
        },
        {
          "output_type": "stream",
          "name": "stdout",
          "text": [
            "validation loss: 0.0014634603899386193 at epoch 825\n",
            "learning_rate: 0.00017179869184000014\n"
          ]
        },
        {
          "output_type": "stream",
          "name": "stderr",
          "text": [
            "epoch 825: 100%|██████████| 282/282 [00:07<00:00, 36.04it/s]\n"
          ]
        },
        {
          "output_type": "stream",
          "name": "stdout",
          "text": [
            "validation loss: 0.0014597202547722392 at epoch 826\n",
            "learning_rate: 0.00017179869184000014\n"
          ]
        },
        {
          "output_type": "stream",
          "name": "stderr",
          "text": [
            "epoch 826: 100%|██████████| 282/282 [00:08<00:00, 34.09it/s]\n"
          ]
        },
        {
          "output_type": "stream",
          "name": "stdout",
          "text": [
            "validation loss: 0.0015182708758446906 at epoch 827\n",
            "learning_rate: 0.00017179869184000014\n"
          ]
        },
        {
          "output_type": "stream",
          "name": "stderr",
          "text": [
            "epoch 827: 100%|██████████| 282/282 [00:08<00:00, 33.24it/s]\n"
          ]
        },
        {
          "output_type": "stream",
          "name": "stdout",
          "text": [
            "validation loss: 0.0015096554474698172 at epoch 828\n",
            "learning_rate: 0.00017179869184000014\n"
          ]
        },
        {
          "output_type": "stream",
          "name": "stderr",
          "text": [
            "epoch 828: 100%|██████████| 282/282 [00:08<00:00, 34.31it/s]\n"
          ]
        },
        {
          "output_type": "stream",
          "name": "stdout",
          "text": [
            "validation loss: 0.0014546445980668067 at epoch 829\n",
            "learning_rate: 0.00017179869184000014\n"
          ]
        },
        {
          "output_type": "stream",
          "name": "stderr",
          "text": [
            "epoch 829: 100%|██████████| 282/282 [00:07<00:00, 36.39it/s]\n"
          ]
        },
        {
          "output_type": "stream",
          "name": "stdout",
          "text": [
            "validation loss: 0.0014888323802087042 at epoch 830\n",
            "learning_rate: 0.00017179869184000014\n"
          ]
        },
        {
          "output_type": "stream",
          "name": "stderr",
          "text": [
            "epoch 830: 100%|██████████| 282/282 [00:08<00:00, 33.36it/s]\n"
          ]
        },
        {
          "output_type": "stream",
          "name": "stdout",
          "text": [
            "validation loss: 0.0014227213950620758 at epoch 831\n",
            "learning_rate: 0.00017179869184000014\n"
          ]
        },
        {
          "output_type": "stream",
          "name": "stderr",
          "text": [
            "epoch 831: 100%|██████████| 282/282 [00:08<00:00, 33.40it/s]\n"
          ]
        },
        {
          "output_type": "stream",
          "name": "stdout",
          "text": [
            "validation loss: 0.0014991855339871513 at epoch 832\n",
            "learning_rate: 0.00017179869184000014\n"
          ]
        },
        {
          "output_type": "stream",
          "name": "stderr",
          "text": [
            "epoch 832: 100%|██████████| 282/282 [00:07<00:00, 36.87it/s]\n"
          ]
        },
        {
          "output_type": "stream",
          "name": "stdout",
          "text": [
            "validation loss: 0.0014407396904296346 at epoch 833\n",
            "learning_rate: 0.00017179869184000014\n"
          ]
        },
        {
          "output_type": "stream",
          "name": "stderr",
          "text": [
            "epoch 833: 100%|██████████| 282/282 [00:08<00:00, 32.95it/s]\n"
          ]
        },
        {
          "output_type": "stream",
          "name": "stdout",
          "text": [
            "validation loss: 0.0014166328758001329 at epoch 834\n",
            "learning_rate: 0.00017179869184000014\n"
          ]
        },
        {
          "output_type": "stream",
          "name": "stderr",
          "text": [
            "epoch 834: 100%|██████████| 282/282 [00:08<00:00, 32.94it/s]\n"
          ]
        },
        {
          "output_type": "stream",
          "name": "stdout",
          "text": [
            "validation loss: 0.0013568180468347337 at epoch 835\n",
            "learning_rate: 0.00017179869184000014\n"
          ]
        },
        {
          "output_type": "stream",
          "name": "stderr",
          "text": [
            "epoch 835: 100%|██████████| 282/282 [00:07<00:00, 36.31it/s]\n"
          ]
        },
        {
          "output_type": "stream",
          "name": "stdout",
          "text": [
            "validation loss: 0.0013655644067459636 at epoch 836\n",
            "learning_rate: 0.00017179869184000014\n"
          ]
        },
        {
          "output_type": "stream",
          "name": "stderr",
          "text": [
            "epoch 836: 100%|██████████| 282/282 [00:08<00:00, 34.61it/s]\n"
          ]
        },
        {
          "output_type": "stream",
          "name": "stdout",
          "text": [
            "validation loss: 0.0013338828078574604 at epoch 837\n",
            "learning_rate: 0.00017179869184000014\n"
          ]
        },
        {
          "output_type": "stream",
          "name": "stderr",
          "text": [
            "epoch 837: 100%|██████████| 282/282 [00:08<00:00, 33.22it/s]\n"
          ]
        },
        {
          "output_type": "stream",
          "name": "stdout",
          "text": [
            "validation loss: 0.001340426220662064 at epoch 838\n",
            "learning_rate: 0.00017179869184000014\n"
          ]
        },
        {
          "output_type": "stream",
          "name": "stderr",
          "text": [
            "epoch 838: 100%|██████████| 282/282 [00:08<00:00, 34.64it/s]\n"
          ]
        },
        {
          "output_type": "stream",
          "name": "stdout",
          "text": [
            "validation loss: 0.0013066038754251269 at epoch 839\n",
            "learning_rate: 0.00017179869184000014\n"
          ]
        },
        {
          "output_type": "stream",
          "name": "stderr",
          "text": [
            "epoch 839: 100%|██████████| 282/282 [00:07<00:00, 36.39it/s]\n"
          ]
        },
        {
          "output_type": "stream",
          "name": "stdout",
          "text": [
            "validation loss: 0.001396074239578512 at epoch 840\n",
            "learning_rate: 0.00017179869184000014\n"
          ]
        },
        {
          "output_type": "stream",
          "name": "stderr",
          "text": [
            "epoch 840: 100%|██████████| 282/282 [00:08<00:00, 32.90it/s]\n"
          ]
        },
        {
          "output_type": "stream",
          "name": "stdout",
          "text": [
            "validation loss: 0.0013812938506404559 at epoch 841\n",
            "learning_rate: 0.00017179869184000014\n"
          ]
        },
        {
          "output_type": "stream",
          "name": "stderr",
          "text": [
            "epoch 841: 100%|██████████| 282/282 [00:08<00:00, 33.42it/s]\n"
          ]
        },
        {
          "output_type": "stream",
          "name": "stdout",
          "text": [
            "validation loss: 0.0013829896847407023 at epoch 842\n",
            "learning_rate: 0.00017179869184000014\n"
          ]
        },
        {
          "output_type": "stream",
          "name": "stderr",
          "text": [
            "epoch 842: 100%|██████████| 282/282 [00:07<00:00, 36.31it/s]\n"
          ]
        },
        {
          "output_type": "stream",
          "name": "stdout",
          "text": [
            "validation loss: 0.0013437397869096861 at epoch 843\n",
            "learning_rate: 0.00017179869184000014\n"
          ]
        },
        {
          "output_type": "stream",
          "name": "stderr",
          "text": [
            "epoch 843: 100%|██████████| 282/282 [00:08<00:00, 33.45it/s]\n"
          ]
        },
        {
          "output_type": "stream",
          "name": "stdout",
          "text": [
            "validation loss: 0.0014080716164575683 at epoch 844\n",
            "learning_rate: 0.00013743895347200012\n"
          ]
        },
        {
          "output_type": "stream",
          "name": "stderr",
          "text": [
            "epoch 844: 100%|██████████| 282/282 [00:08<00:00, 32.74it/s]\n"
          ]
        },
        {
          "output_type": "stream",
          "name": "stdout",
          "text": [
            "validation loss: 0.0015120466748873393 at epoch 845\n",
            "learning_rate: 0.00013743895347200012\n"
          ]
        },
        {
          "output_type": "stream",
          "name": "stderr",
          "text": [
            "epoch 845: 100%|██████████| 282/282 [00:07<00:00, 35.97it/s]\n"
          ]
        },
        {
          "output_type": "stream",
          "name": "stdout",
          "text": [
            "validation loss: 0.0015702888063258596 at epoch 846\n",
            "learning_rate: 0.00013743895347200012\n"
          ]
        },
        {
          "output_type": "stream",
          "name": "stderr",
          "text": [
            "epoch 846: 100%|██████████| 282/282 [00:08<00:00, 32.53it/s]\n"
          ]
        },
        {
          "output_type": "stream",
          "name": "stdout",
          "text": [
            "validation loss: 0.0015415259483787748 at epoch 847\n",
            "learning_rate: 0.00013743895347200012\n"
          ]
        },
        {
          "output_type": "stream",
          "name": "stderr",
          "text": [
            "epoch 847: 100%|██████████| 282/282 [00:08<00:00, 32.92it/s]\n"
          ]
        },
        {
          "output_type": "stream",
          "name": "stdout",
          "text": [
            "validation loss: 0.0014420677307579253 at epoch 848\n",
            "learning_rate: 0.00013743895347200012\n"
          ]
        },
        {
          "output_type": "stream",
          "name": "stderr",
          "text": [
            "epoch 848: 100%|██████████| 282/282 [00:08<00:00, 35.24it/s]\n"
          ]
        },
        {
          "output_type": "stream",
          "name": "stdout",
          "text": [
            "validation loss: 0.0013885919948418935 at epoch 849\n",
            "learning_rate: 0.00013743895347200012\n"
          ]
        },
        {
          "output_type": "stream",
          "name": "stderr",
          "text": [
            "epoch 849: 100%|██████████| 282/282 [00:08<00:00, 34.17it/s]\n"
          ]
        },
        {
          "output_type": "stream",
          "name": "stdout",
          "text": [
            "validation loss: 0.0013976378565033276 at epoch 850\n",
            "learning_rate: 0.00013743895347200012\n"
          ]
        },
        {
          "output_type": "stream",
          "name": "stderr",
          "text": [
            "epoch 850: 100%|██████████| 282/282 [00:08<00:00, 33.00it/s]\n"
          ]
        },
        {
          "output_type": "stream",
          "name": "stdout",
          "text": [
            "validation loss: 0.0014636905905273225 at epoch 851\n",
            "learning_rate: 0.00013743895347200012\n"
          ]
        },
        {
          "output_type": "stream",
          "name": "stderr",
          "text": [
            "epoch 851: 100%|██████████| 282/282 [00:08<00:00, 33.40it/s]\n"
          ]
        },
        {
          "output_type": "stream",
          "name": "stdout",
          "text": [
            "validation loss: 0.0015370637286040518 at epoch 852\n",
            "learning_rate: 0.00013743895347200012\n"
          ]
        },
        {
          "output_type": "stream",
          "name": "stderr",
          "text": [
            "epoch 852: 100%|██████████| 282/282 [00:07<00:00, 36.43it/s]\n"
          ]
        },
        {
          "output_type": "stream",
          "name": "stdout",
          "text": [
            "validation loss: 0.0015394116962949434 at epoch 853\n",
            "learning_rate: 0.00013743895347200012\n"
          ]
        },
        {
          "output_type": "stream",
          "name": "stderr",
          "text": [
            "epoch 853: 100%|██████████| 282/282 [00:08<00:00, 32.76it/s]\n"
          ]
        },
        {
          "output_type": "stream",
          "name": "stdout",
          "text": [
            "validation loss: 0.0014850291593207254 at epoch 854\n",
            "learning_rate: 0.00013743895347200012\n"
          ]
        },
        {
          "output_type": "stream",
          "name": "stderr",
          "text": [
            "epoch 854: 100%|██████████| 282/282 [00:08<00:00, 33.13it/s]\n"
          ]
        },
        {
          "output_type": "stream",
          "name": "stdout",
          "text": [
            "validation loss: 0.0015081631168723107 at epoch 855\n",
            "learning_rate: 0.00013743895347200012\n"
          ]
        },
        {
          "output_type": "stream",
          "name": "stderr",
          "text": [
            "epoch 855: 100%|██████████| 282/282 [00:07<00:00, 36.05it/s]\n"
          ]
        },
        {
          "output_type": "stream",
          "name": "stdout",
          "text": [
            "validation loss: 0.0014694766087664497 at epoch 856\n",
            "learning_rate: 0.00013743895347200012\n"
          ]
        },
        {
          "output_type": "stream",
          "name": "stderr",
          "text": [
            "epoch 856: 100%|██████████| 282/282 [00:08<00:00, 32.46it/s]\n"
          ]
        },
        {
          "output_type": "stream",
          "name": "stdout",
          "text": [
            "validation loss: 0.0014928301746646563 at epoch 857\n",
            "learning_rate: 0.00013743895347200012\n"
          ]
        },
        {
          "output_type": "stream",
          "name": "stderr",
          "text": [
            "epoch 857: 100%|██████████| 282/282 [00:08<00:00, 32.40it/s]\n"
          ]
        },
        {
          "output_type": "stream",
          "name": "stdout",
          "text": [
            "validation loss: 0.001479443723956744 at epoch 858\n",
            "learning_rate: 0.00013743895347200012\n"
          ]
        },
        {
          "output_type": "stream",
          "name": "stderr",
          "text": [
            "epoch 858: 100%|██████████| 282/282 [00:07<00:00, 36.04it/s]\n"
          ]
        },
        {
          "output_type": "stream",
          "name": "stdout",
          "text": [
            "validation loss: 0.0014618226753340827 at epoch 859\n",
            "learning_rate: 0.00013743895347200012\n"
          ]
        },
        {
          "output_type": "stream",
          "name": "stderr",
          "text": [
            "epoch 859: 100%|██████████| 282/282 [00:08<00:00, 33.60it/s]\n"
          ]
        },
        {
          "output_type": "stream",
          "name": "stdout",
          "text": [
            "validation loss: 0.0014939096975657676 at epoch 860\n",
            "learning_rate: 0.00013743895347200012\n"
          ]
        },
        {
          "output_type": "stream",
          "name": "stderr",
          "text": [
            "epoch 860: 100%|██████████| 282/282 [00:08<00:00, 32.46it/s]\n"
          ]
        },
        {
          "output_type": "stream",
          "name": "stdout",
          "text": [
            "validation loss: 0.0014919388699862692 at epoch 861\n",
            "learning_rate: 0.00013743895347200012\n"
          ]
        },
        {
          "output_type": "stream",
          "name": "stderr",
          "text": [
            "epoch 861: 100%|██████████| 282/282 [00:08<00:00, 35.21it/s]\n"
          ]
        },
        {
          "output_type": "stream",
          "name": "stdout",
          "text": [
            "validation loss: 0.0014933256266845597 at epoch 862\n",
            "learning_rate: 0.00013743895347200012\n"
          ]
        },
        {
          "output_type": "stream",
          "name": "stderr",
          "text": [
            "epoch 862: 100%|██████████| 282/282 [00:08<00:00, 34.58it/s]\n"
          ]
        },
        {
          "output_type": "stream",
          "name": "stdout",
          "text": [
            "validation loss: 0.00155719669494364 at epoch 863\n",
            "learning_rate: 0.00013743895347200012\n"
          ]
        },
        {
          "output_type": "stream",
          "name": "stderr",
          "text": [
            "epoch 863: 100%|██████████| 282/282 [00:08<00:00, 32.53it/s]\n"
          ]
        },
        {
          "output_type": "stream",
          "name": "stdout",
          "text": [
            "validation loss: 0.0015707819362481435 at epoch 864\n",
            "learning_rate: 0.00013743895347200012\n"
          ]
        },
        {
          "output_type": "stream",
          "name": "stderr",
          "text": [
            "epoch 864: 100%|██████████| 282/282 [00:08<00:00, 33.11it/s]\n"
          ]
        },
        {
          "output_type": "stream",
          "name": "stdout",
          "text": [
            "validation loss: 0.0016267237820559077 at epoch 865\n",
            "learning_rate: 0.00013743895347200012\n"
          ]
        },
        {
          "output_type": "stream",
          "name": "stderr",
          "text": [
            "epoch 865: 100%|██████████| 282/282 [00:07<00:00, 36.08it/s]\n"
          ]
        },
        {
          "output_type": "stream",
          "name": "stdout",
          "text": [
            "validation loss: 0.0016161037989788586 at epoch 866\n",
            "learning_rate: 0.00013743895347200012\n"
          ]
        },
        {
          "output_type": "stream",
          "name": "stderr",
          "text": [
            "epoch 866: 100%|██████████| 282/282 [00:08<00:00, 32.63it/s]\n"
          ]
        },
        {
          "output_type": "stream",
          "name": "stdout",
          "text": [
            "validation loss: 0.0015066715826590855 at epoch 867\n",
            "learning_rate: 0.00013743895347200012\n"
          ]
        },
        {
          "output_type": "stream",
          "name": "stderr",
          "text": [
            "epoch 867: 100%|██████████| 282/282 [00:08<00:00, 32.88it/s]\n"
          ]
        },
        {
          "output_type": "stream",
          "name": "stdout",
          "text": [
            "validation loss: 0.001574119846853945 at epoch 868\n",
            "learning_rate: 0.00013743895347200012\n"
          ]
        },
        {
          "output_type": "stream",
          "name": "stderr",
          "text": [
            "epoch 868: 100%|██████████| 282/282 [00:07<00:00, 36.46it/s]\n"
          ]
        },
        {
          "output_type": "stream",
          "name": "stdout",
          "text": [
            "validation loss: 0.0015573372410403357 at epoch 869\n",
            "learning_rate: 0.00013743895347200012\n"
          ]
        },
        {
          "output_type": "stream",
          "name": "stderr",
          "text": [
            "epoch 869: 100%|██████████| 282/282 [00:08<00:00, 32.63it/s]\n"
          ]
        },
        {
          "output_type": "stream",
          "name": "stdout",
          "text": [
            "validation loss: 0.0016224084968368211 at epoch 870\n",
            "learning_rate: 0.00013743895347200012\n"
          ]
        },
        {
          "output_type": "stream",
          "name": "stderr",
          "text": [
            "epoch 870: 100%|██████████| 282/282 [00:08<00:00, 32.93it/s]\n"
          ]
        },
        {
          "output_type": "stream",
          "name": "stdout",
          "text": [
            "validation loss: 0.0016452657489313019 at epoch 871\n",
            "learning_rate: 0.00013743895347200012\n"
          ]
        },
        {
          "output_type": "stream",
          "name": "stderr",
          "text": [
            "epoch 871: 100%|██████████| 282/282 [00:08<00:00, 35.14it/s]\n"
          ]
        },
        {
          "output_type": "stream",
          "name": "stdout",
          "text": [
            "validation loss: 0.0016106167220407061 at epoch 872\n",
            "learning_rate: 0.00013743895347200012\n"
          ]
        },
        {
          "output_type": "stream",
          "name": "stderr",
          "text": [
            "epoch 872: 100%|██████████| 282/282 [00:08<00:00, 34.95it/s]\n"
          ]
        },
        {
          "output_type": "stream",
          "name": "stdout",
          "text": [
            "validation loss: 0.0017033054207762082 at epoch 873\n",
            "learning_rate: 0.00013743895347200012\n"
          ]
        },
        {
          "output_type": "stream",
          "name": "stderr",
          "text": [
            "epoch 873: 100%|██████████| 282/282 [00:08<00:00, 32.29it/s]\n"
          ]
        },
        {
          "output_type": "stream",
          "name": "stdout",
          "text": [
            "validation loss: 0.0016797113708323902 at epoch 874\n",
            "learning_rate: 0.00013743895347200012\n"
          ]
        },
        {
          "output_type": "stream",
          "name": "stderr",
          "text": [
            "epoch 874: 100%|██████████| 282/282 [00:08<00:00, 33.31it/s]\n"
          ]
        },
        {
          "output_type": "stream",
          "name": "stdout",
          "text": [
            "validation loss: 0.0016767032262351778 at epoch 875\n",
            "learning_rate: 0.00013743895347200012\n"
          ]
        },
        {
          "output_type": "stream",
          "name": "stderr",
          "text": [
            "epoch 875: 100%|██████████| 282/282 [00:07<00:00, 36.57it/s]\n"
          ]
        },
        {
          "output_type": "stream",
          "name": "stdout",
          "text": [
            "validation loss: 0.0016484500086969799 at epoch 876\n",
            "learning_rate: 0.00013743895347200012\n"
          ]
        },
        {
          "output_type": "stream",
          "name": "stderr",
          "text": [
            "epoch 876: 100%|██████████| 282/282 [00:08<00:00, 32.68it/s]\n"
          ]
        },
        {
          "output_type": "stream",
          "name": "stdout",
          "text": [
            "validation loss: 0.0015697158086631032 at epoch 877\n",
            "learning_rate: 0.00013743895347200012\n"
          ]
        },
        {
          "output_type": "stream",
          "name": "stderr",
          "text": [
            "epoch 877: 100%|██████████| 282/282 [00:08<00:00, 33.00it/s]\n"
          ]
        },
        {
          "output_type": "stream",
          "name": "stdout",
          "text": [
            "validation loss: 0.0015485533169574209 at epoch 878\n",
            "learning_rate: 0.00013743895347200012\n"
          ]
        },
        {
          "output_type": "stream",
          "name": "stderr",
          "text": [
            "epoch 878: 100%|██████████| 282/282 [00:07<00:00, 36.36it/s]\n"
          ]
        },
        {
          "output_type": "stream",
          "name": "stdout",
          "text": [
            "validation loss: 0.0015423458971911006 at epoch 879\n",
            "learning_rate: 0.00013743895347200012\n"
          ]
        },
        {
          "output_type": "stream",
          "name": "stderr",
          "text": [
            "epoch 879: 100%|██████████| 282/282 [00:08<00:00, 32.47it/s]\n"
          ]
        },
        {
          "output_type": "stream",
          "name": "stdout",
          "text": [
            "validation loss: 0.001595190996925036 at epoch 880\n",
            "learning_rate: 0.00013743895347200012\n"
          ]
        },
        {
          "output_type": "stream",
          "name": "stderr",
          "text": [
            "epoch 880: 100%|██████████| 282/282 [00:08<00:00, 32.66it/s]\n"
          ]
        },
        {
          "output_type": "stream",
          "name": "stdout",
          "text": [
            "validation loss: 0.0016797852044304212 at epoch 881\n",
            "learning_rate: 0.00013743895347200012\n"
          ]
        },
        {
          "output_type": "stream",
          "name": "stderr",
          "text": [
            "epoch 881: 100%|██████████| 282/282 [00:07<00:00, 36.04it/s]\n"
          ]
        },
        {
          "output_type": "stream",
          "name": "stdout",
          "text": [
            "validation loss: 0.001628928961025344 at epoch 882\n",
            "learning_rate: 0.00013743895347200012\n"
          ]
        },
        {
          "output_type": "stream",
          "name": "stderr",
          "text": [
            "epoch 882: 100%|██████████| 282/282 [00:08<00:00, 33.30it/s]\n"
          ]
        },
        {
          "output_type": "stream",
          "name": "stdout",
          "text": [
            "validation loss: 0.0016263120985693402 at epoch 883\n",
            "learning_rate: 0.00013743895347200012\n"
          ]
        },
        {
          "output_type": "stream",
          "name": "stderr",
          "text": [
            "epoch 883: 100%|██████████| 282/282 [00:08<00:00, 32.22it/s]\n"
          ]
        },
        {
          "output_type": "stream",
          "name": "stdout",
          "text": [
            "validation loss: 0.0015781103554699156 at epoch 884\n",
            "learning_rate: 0.00013743895347200012\n"
          ]
        },
        {
          "output_type": "stream",
          "name": "stderr",
          "text": [
            "epoch 884: 100%|██████████| 282/282 [00:08<00:00, 33.76it/s]\n"
          ]
        },
        {
          "output_type": "stream",
          "name": "stdout",
          "text": [
            "validation loss: 0.001560840629869037 at epoch 885\n",
            "learning_rate: 0.00013743895347200012\n"
          ]
        },
        {
          "output_type": "stream",
          "name": "stderr",
          "text": [
            "epoch 885: 100%|██████████| 282/282 [00:07<00:00, 36.38it/s]\n"
          ]
        },
        {
          "output_type": "stream",
          "name": "stdout",
          "text": [
            "validation loss: 0.0015722251600689358 at epoch 886\n",
            "learning_rate: 0.00013743895347200012\n"
          ]
        },
        {
          "output_type": "stream",
          "name": "stderr",
          "text": [
            "epoch 886: 100%|██████████| 282/282 [00:08<00:00, 32.41it/s]\n"
          ]
        },
        {
          "output_type": "stream",
          "name": "stdout",
          "text": [
            "validation loss: 0.0015614802497956489 at epoch 887\n",
            "learning_rate: 0.00013743895347200012\n"
          ]
        },
        {
          "output_type": "stream",
          "name": "stderr",
          "text": [
            "epoch 887: 100%|██████████| 282/282 [00:08<00:00, 32.57it/s]\n"
          ]
        },
        {
          "output_type": "stream",
          "name": "stdout",
          "text": [
            "validation loss: 0.0015201915312144491 at epoch 888\n",
            "learning_rate: 0.00013743895347200012\n"
          ]
        },
        {
          "output_type": "stream",
          "name": "stderr",
          "text": [
            "epoch 888: 100%|██████████| 282/282 [00:07<00:00, 35.95it/s]\n"
          ]
        },
        {
          "output_type": "stream",
          "name": "stdout",
          "text": [
            "validation loss: 0.001464140789376365 at epoch 889\n",
            "learning_rate: 0.00013743895347200012\n"
          ]
        },
        {
          "output_type": "stream",
          "name": "stderr",
          "text": [
            "epoch 889: 100%|██████████| 282/282 [00:08<00:00, 32.64it/s]\n"
          ]
        },
        {
          "output_type": "stream",
          "name": "stdout",
          "text": [
            "validation loss: 0.0014539754746688736 at epoch 890\n",
            "learning_rate: 0.00013743895347200012\n"
          ]
        },
        {
          "output_type": "stream",
          "name": "stderr",
          "text": [
            "epoch 890: 100%|██████████| 282/282 [00:08<00:00, 32.82it/s]\n"
          ]
        },
        {
          "output_type": "stream",
          "name": "stdout",
          "text": [
            "validation loss: 0.0013481015687187513 at epoch 891\n",
            "learning_rate: 0.00013743895347200012\n"
          ]
        },
        {
          "output_type": "stream",
          "name": "stderr",
          "text": [
            "epoch 891: 100%|██████████| 282/282 [00:07<00:00, 36.23it/s]\n"
          ]
        },
        {
          "output_type": "stream",
          "name": "stdout",
          "text": [
            "validation loss: 0.001358555836810006 at epoch 892\n",
            "learning_rate: 0.00013743895347200012\n"
          ]
        },
        {
          "output_type": "stream",
          "name": "stderr",
          "text": [
            "epoch 892: 100%|██████████| 282/282 [00:08<00:00, 32.98it/s]\n"
          ]
        },
        {
          "output_type": "stream",
          "name": "stdout",
          "text": [
            "validation loss: 0.001381038162443373 at epoch 893\n",
            "learning_rate: 0.00013743895347200012\n"
          ]
        },
        {
          "output_type": "stream",
          "name": "stderr",
          "text": [
            "epoch 893: 100%|██████████| 282/282 [00:08<00:00, 32.18it/s]\n"
          ]
        },
        {
          "output_type": "stream",
          "name": "stdout",
          "text": [
            "validation loss: 0.0013659817973772684 at epoch 894\n",
            "learning_rate: 0.00013743895347200012\n"
          ]
        },
        {
          "output_type": "stream",
          "name": "stderr",
          "text": [
            "epoch 894: 100%|██████████| 282/282 [00:08<00:00, 34.49it/s]\n"
          ]
        },
        {
          "output_type": "stream",
          "name": "stdout",
          "text": [
            "validation loss: 0.0014338948701818784 at epoch 895\n",
            "learning_rate: 0.0001099511627776001\n"
          ]
        },
        {
          "output_type": "stream",
          "name": "stderr",
          "text": [
            "epoch 895: 100%|██████████| 282/282 [00:07<00:00, 35.71it/s]\n"
          ]
        },
        {
          "output_type": "stream",
          "name": "stdout",
          "text": [
            "validation loss: 0.0015067767674724261 at epoch 896\n",
            "learning_rate: 0.0001099511627776001\n"
          ]
        },
        {
          "output_type": "stream",
          "name": "stderr",
          "text": [
            "epoch 896: 100%|██████████| 282/282 [00:08<00:00, 32.71it/s]\n"
          ]
        },
        {
          "output_type": "stream",
          "name": "stdout",
          "text": [
            "validation loss: 0.0014749684093727006 at epoch 897\n",
            "learning_rate: 0.0001099511627776001\n"
          ]
        },
        {
          "output_type": "stream",
          "name": "stderr",
          "text": [
            "epoch 897: 100%|██████████| 282/282 [00:08<00:00, 32.19it/s]\n"
          ]
        },
        {
          "output_type": "stream",
          "name": "stdout",
          "text": [
            "validation loss: 0.001494166744252046 at epoch 898\n",
            "learning_rate: 0.0001099511627776001\n"
          ]
        },
        {
          "output_type": "stream",
          "name": "stderr",
          "text": [
            "epoch 898: 100%|██████████| 282/282 [00:07<00:00, 36.31it/s]\n"
          ]
        },
        {
          "output_type": "stream",
          "name": "stdout",
          "text": [
            "validation loss: 0.001538835840092765 at epoch 899\n",
            "learning_rate: 0.0001099511627776001\n"
          ]
        },
        {
          "output_type": "stream",
          "name": "stderr",
          "text": [
            "epoch 899: 100%|██████████| 282/282 [00:08<00:00, 32.80it/s]\n"
          ]
        },
        {
          "output_type": "stream",
          "name": "stdout",
          "text": [
            "validation loss: 0.001533176205224461 at epoch 900\n",
            "learning_rate: 0.0001099511627776001\n"
          ]
        },
        {
          "output_type": "stream",
          "name": "stderr",
          "text": [
            "epoch 900: 100%|██████████| 282/282 [00:08<00:00, 32.59it/s]\n"
          ]
        },
        {
          "output_type": "stream",
          "name": "stdout",
          "text": [
            "validation loss: 0.0015733423936698172 at epoch 901\n",
            "learning_rate: 0.0001099511627776001\n"
          ]
        },
        {
          "output_type": "stream",
          "name": "stderr",
          "text": [
            "epoch 901: 100%|██████████| 282/282 [00:07<00:00, 36.47it/s]\n"
          ]
        },
        {
          "output_type": "stream",
          "name": "stdout",
          "text": [
            "validation loss: 0.0015290979825788075 at epoch 902\n",
            "learning_rate: 0.0001099511627776001\n"
          ]
        },
        {
          "output_type": "stream",
          "name": "stderr",
          "text": [
            "epoch 902: 100%|██████████| 282/282 [00:08<00:00, 32.76it/s]\n"
          ]
        },
        {
          "output_type": "stream",
          "name": "stdout",
          "text": [
            "validation loss: 0.0015775869372818205 at epoch 903\n",
            "learning_rate: 0.0001099511627776001\n"
          ]
        },
        {
          "output_type": "stream",
          "name": "stderr",
          "text": [
            "epoch 903: 100%|██████████| 282/282 [00:08<00:00, 32.99it/s]\n"
          ]
        },
        {
          "output_type": "stream",
          "name": "stdout",
          "text": [
            "validation loss: 0.0016327162740959061 at epoch 904\n",
            "learning_rate: 0.0001099511627776001\n"
          ]
        },
        {
          "output_type": "stream",
          "name": "stderr",
          "text": [
            "epoch 904: 100%|██████████| 282/282 [00:07<00:00, 36.66it/s]\n"
          ]
        },
        {
          "output_type": "stream",
          "name": "stdout",
          "text": [
            "validation loss: 0.0015908365299304326 at epoch 905\n",
            "learning_rate: 0.0001099511627776001\n"
          ]
        },
        {
          "output_type": "stream",
          "name": "stderr",
          "text": [
            "epoch 905: 100%|██████████| 282/282 [00:08<00:00, 33.79it/s]\n"
          ]
        },
        {
          "output_type": "stream",
          "name": "stdout",
          "text": [
            "validation loss: 0.0016293390442927679 at epoch 906\n",
            "learning_rate: 0.0001099511627776001\n"
          ]
        },
        {
          "output_type": "stream",
          "name": "stderr",
          "text": [
            "epoch 906: 100%|██████████| 282/282 [00:08<00:00, 32.73it/s]\n"
          ]
        },
        {
          "output_type": "stream",
          "name": "stdout",
          "text": [
            "validation loss: 0.0016388970977730222 at epoch 907\n",
            "learning_rate: 0.0001099511627776001\n"
          ]
        },
        {
          "output_type": "stream",
          "name": "stderr",
          "text": [
            "epoch 907: 100%|██████████| 282/282 [00:08<00:00, 34.14it/s]\n"
          ]
        },
        {
          "output_type": "stream",
          "name": "stdout",
          "text": [
            "validation loss: 0.0015710148248407577 at epoch 908\n",
            "learning_rate: 0.0001099511627776001\n"
          ]
        },
        {
          "output_type": "stream",
          "name": "stderr",
          "text": [
            "epoch 908: 100%|██████████| 282/282 [00:07<00:00, 36.62it/s]\n"
          ]
        },
        {
          "output_type": "stream",
          "name": "stdout",
          "text": [
            "validation loss: 0.0016131702835361164 at epoch 909\n",
            "learning_rate: 0.0001099511627776001\n"
          ]
        },
        {
          "output_type": "stream",
          "name": "stderr",
          "text": [
            "epoch 909: 100%|██████████| 282/282 [00:08<00:00, 32.54it/s]\n"
          ]
        },
        {
          "output_type": "stream",
          "name": "stdout",
          "text": [
            "validation loss: 0.0015962632869680722 at epoch 910\n",
            "learning_rate: 0.0001099511627776001\n"
          ]
        },
        {
          "output_type": "stream",
          "name": "stderr",
          "text": [
            "epoch 910: 100%|██████████| 282/282 [00:08<00:00, 33.05it/s]\n"
          ]
        },
        {
          "output_type": "stream",
          "name": "stdout",
          "text": [
            "validation loss: 0.0016168715274996227 at epoch 911\n",
            "learning_rate: 0.0001099511627776001\n"
          ]
        },
        {
          "output_type": "stream",
          "name": "stderr",
          "text": [
            "epoch 911: 100%|██████████| 282/282 [00:07<00:00, 36.31it/s]\n"
          ]
        },
        {
          "output_type": "stream",
          "name": "stdout",
          "text": [
            "validation loss: 0.0016726993579003547 at epoch 912\n",
            "learning_rate: 0.0001099511627776001\n"
          ]
        },
        {
          "output_type": "stream",
          "name": "stderr",
          "text": [
            "epoch 912: 100%|██████████| 282/282 [00:08<00:00, 32.98it/s]\n"
          ]
        },
        {
          "output_type": "stream",
          "name": "stdout",
          "text": [
            "validation loss: 0.0016666961163282394 at epoch 913\n",
            "learning_rate: 0.0001099511627776001\n"
          ]
        },
        {
          "output_type": "stream",
          "name": "stderr",
          "text": [
            "epoch 913: 100%|██████████| 282/282 [00:08<00:00, 33.00it/s]\n"
          ]
        },
        {
          "output_type": "stream",
          "name": "stdout",
          "text": [
            "validation loss: 0.001635462841225995 at epoch 914\n",
            "learning_rate: 0.0001099511627776001\n"
          ]
        },
        {
          "output_type": "stream",
          "name": "stderr",
          "text": [
            "epoch 914: 100%|██████████| 282/282 [00:07<00:00, 36.53it/s]\n"
          ]
        },
        {
          "output_type": "stream",
          "name": "stdout",
          "text": [
            "validation loss: 0.0016378294891781276 at epoch 915\n",
            "learning_rate: 0.0001099511627776001\n"
          ]
        },
        {
          "output_type": "stream",
          "name": "stderr",
          "text": [
            "epoch 915: 100%|██████████| 282/282 [00:08<00:00, 33.13it/s]\n"
          ]
        },
        {
          "output_type": "stream",
          "name": "stdout",
          "text": [
            "validation loss: 0.0016348487635453543 at epoch 916\n",
            "learning_rate: 0.0001099511627776001\n"
          ]
        },
        {
          "output_type": "stream",
          "name": "stderr",
          "text": [
            "epoch 916: 100%|██████████| 282/282 [00:08<00:00, 33.02it/s]\n"
          ]
        },
        {
          "output_type": "stream",
          "name": "stdout",
          "text": [
            "validation loss: 0.0016267879779140154 at epoch 917\n",
            "learning_rate: 0.0001099511627776001\n"
          ]
        },
        {
          "output_type": "stream",
          "name": "stderr",
          "text": [
            "epoch 917: 100%|██████████| 282/282 [00:08<00:00, 34.76it/s]\n"
          ]
        },
        {
          "output_type": "stream",
          "name": "stdout",
          "text": [
            "validation loss: 0.0015957878480354945 at epoch 918\n",
            "learning_rate: 0.0001099511627776001\n"
          ]
        },
        {
          "output_type": "stream",
          "name": "stderr",
          "text": [
            "epoch 918: 100%|██████████| 282/282 [00:08<00:00, 34.84it/s]\n"
          ]
        },
        {
          "output_type": "stream",
          "name": "stdout",
          "text": [
            "validation loss: 0.0015770100098517206 at epoch 919\n",
            "learning_rate: 0.0001099511627776001\n"
          ]
        },
        {
          "output_type": "stream",
          "name": "stderr",
          "text": [
            "epoch 919: 100%|██████████| 282/282 [00:08<00:00, 32.50it/s]\n"
          ]
        },
        {
          "output_type": "stream",
          "name": "stdout",
          "text": [
            "validation loss: 0.0016022895044750637 at epoch 920\n",
            "learning_rate: 0.0001099511627776001\n"
          ]
        },
        {
          "output_type": "stream",
          "name": "stderr",
          "text": [
            "epoch 920: 100%|██████████| 282/282 [00:08<00:00, 33.19it/s]\n"
          ]
        },
        {
          "output_type": "stream",
          "name": "stdout",
          "text": [
            "validation loss: 0.0016181790911489063 at epoch 921\n",
            "learning_rate: 0.0001099511627776001\n"
          ]
        },
        {
          "output_type": "stream",
          "name": "stderr",
          "text": [
            "epoch 921: 100%|██████████| 282/282 [00:07<00:00, 36.36it/s]\n"
          ]
        },
        {
          "output_type": "stream",
          "name": "stdout",
          "text": [
            "validation loss: 0.0015785962583290205 at epoch 922\n",
            "learning_rate: 0.0001099511627776001\n"
          ]
        },
        {
          "output_type": "stream",
          "name": "stderr",
          "text": [
            "epoch 922: 100%|██████████| 282/282 [00:08<00:00, 33.22it/s]\n"
          ]
        },
        {
          "output_type": "stream",
          "name": "stdout",
          "text": [
            "validation loss: 0.0015880979291266865 at epoch 923\n",
            "learning_rate: 0.0001099511627776001\n"
          ]
        },
        {
          "output_type": "stream",
          "name": "stderr",
          "text": [
            "epoch 923: 100%|██████████| 282/282 [00:08<00:00, 32.87it/s]\n"
          ]
        },
        {
          "output_type": "stream",
          "name": "stdout",
          "text": [
            "validation loss: 0.0015771353758043713 at epoch 924\n",
            "learning_rate: 0.0001099511627776001\n"
          ]
        },
        {
          "output_type": "stream",
          "name": "stderr",
          "text": [
            "epoch 924: 100%|██████████| 282/282 [00:07<00:00, 36.28it/s]\n"
          ]
        },
        {
          "output_type": "stream",
          "name": "stdout",
          "text": [
            "validation loss: 0.0015640572367442978 at epoch 925\n",
            "learning_rate: 0.0001099511627776001\n"
          ]
        },
        {
          "output_type": "stream",
          "name": "stderr",
          "text": [
            "epoch 925: 100%|██████████| 282/282 [00:08<00:00, 32.79it/s]\n"
          ]
        },
        {
          "output_type": "stream",
          "name": "stdout",
          "text": [
            "validation loss: 0.001610686561299695 at epoch 926\n",
            "learning_rate: 0.0001099511627776001\n"
          ]
        },
        {
          "output_type": "stream",
          "name": "stderr",
          "text": [
            "epoch 926: 100%|██████████| 282/282 [00:08<00:00, 32.99it/s]\n"
          ]
        },
        {
          "output_type": "stream",
          "name": "stdout",
          "text": [
            "validation loss: 0.0016080824981133143 at epoch 927\n",
            "learning_rate: 0.0001099511627776001\n"
          ]
        },
        {
          "output_type": "stream",
          "name": "stderr",
          "text": [
            "epoch 927: 100%|██████████| 282/282 [00:07<00:00, 36.23it/s]\n"
          ]
        },
        {
          "output_type": "stream",
          "name": "stdout",
          "text": [
            "validation loss: 0.0016142405652337605 at epoch 928\n",
            "learning_rate: 0.0001099511627776001\n"
          ]
        },
        {
          "output_type": "stream",
          "name": "stderr",
          "text": [
            "epoch 928: 100%|██████████| 282/282 [00:08<00:00, 33.52it/s]\n"
          ]
        },
        {
          "output_type": "stream",
          "name": "stdout",
          "text": [
            "validation loss: 0.0015817726502815883 at epoch 929\n",
            "learning_rate: 0.0001099511627776001\n"
          ]
        },
        {
          "output_type": "stream",
          "name": "stderr",
          "text": [
            "epoch 929: 100%|██████████| 282/282 [00:08<00:00, 32.76it/s]\n"
          ]
        },
        {
          "output_type": "stream",
          "name": "stdout",
          "text": [
            "validation loss: 0.001601317326227824 at epoch 930\n",
            "learning_rate: 0.0001099511627776001\n"
          ]
        },
        {
          "output_type": "stream",
          "name": "stderr",
          "text": [
            "epoch 930: 100%|██████████| 282/282 [00:08<00:00, 35.05it/s]\n"
          ]
        },
        {
          "output_type": "stream",
          "name": "stdout",
          "text": [
            "validation loss: 0.0015778735304872195 at epoch 931\n",
            "learning_rate: 0.0001099511627776001\n"
          ]
        },
        {
          "output_type": "stream",
          "name": "stderr",
          "text": [
            "epoch 931: 100%|██████████| 282/282 [00:08<00:00, 34.71it/s]\n"
          ]
        },
        {
          "output_type": "stream",
          "name": "stdout",
          "text": [
            "validation loss: 0.0016042186013526386 at epoch 932\n",
            "learning_rate: 0.0001099511627776001\n"
          ]
        },
        {
          "output_type": "stream",
          "name": "stderr",
          "text": [
            "epoch 932: 100%|██████████| 282/282 [00:08<00:00, 32.54it/s]\n"
          ]
        },
        {
          "output_type": "stream",
          "name": "stdout",
          "text": [
            "validation loss: 0.0015299782968229718 at epoch 933\n",
            "learning_rate: 0.0001099511627776001\n"
          ]
        },
        {
          "output_type": "stream",
          "name": "stderr",
          "text": [
            "epoch 933: 100%|██████████| 282/282 [00:08<00:00, 33.05it/s]\n"
          ]
        },
        {
          "output_type": "stream",
          "name": "stdout",
          "text": [
            "validation loss: 0.0015005153376195166 at epoch 934\n",
            "learning_rate: 0.0001099511627776001\n"
          ]
        },
        {
          "output_type": "stream",
          "name": "stderr",
          "text": [
            "epoch 934: 100%|██████████| 282/282 [00:07<00:00, 36.10it/s]\n"
          ]
        },
        {
          "output_type": "stream",
          "name": "stdout",
          "text": [
            "validation loss: 0.0015225558198160595 at epoch 935\n",
            "learning_rate: 0.0001099511627776001\n"
          ]
        },
        {
          "output_type": "stream",
          "name": "stderr",
          "text": [
            "epoch 935: 100%|██████████| 282/282 [00:08<00:00, 32.79it/s]\n"
          ]
        },
        {
          "output_type": "stream",
          "name": "stdout",
          "text": [
            "validation loss: 0.001491902645263407 at epoch 936\n",
            "learning_rate: 0.0001099511627776001\n"
          ]
        },
        {
          "output_type": "stream",
          "name": "stderr",
          "text": [
            "epoch 936: 100%|██████████| 282/282 [00:08<00:00, 33.42it/s]\n"
          ]
        },
        {
          "output_type": "stream",
          "name": "stdout",
          "text": [
            "validation loss: 0.001480549630191591 at epoch 937\n",
            "learning_rate: 0.0001099511627776001\n"
          ]
        },
        {
          "output_type": "stream",
          "name": "stderr",
          "text": [
            "epoch 937: 100%|██████████| 282/282 [00:07<00:00, 36.51it/s]\n"
          ]
        },
        {
          "output_type": "stream",
          "name": "stdout",
          "text": [
            "validation loss: 0.0014318856447935104 at epoch 938\n",
            "learning_rate: 0.0001099511627776001\n"
          ]
        },
        {
          "output_type": "stream",
          "name": "stderr",
          "text": [
            "epoch 938: 100%|██████████| 282/282 [00:08<00:00, 32.29it/s]\n"
          ]
        },
        {
          "output_type": "stream",
          "name": "stdout",
          "text": [
            "validation loss: 0.0014147886120610767 at epoch 939\n",
            "learning_rate: 0.0001099511627776001\n"
          ]
        },
        {
          "output_type": "stream",
          "name": "stderr",
          "text": [
            "epoch 939: 100%|██████████| 282/282 [00:08<00:00, 33.02it/s]\n"
          ]
        },
        {
          "output_type": "stream",
          "name": "stdout",
          "text": [
            "validation loss: 0.0014187125787138938 at epoch 940\n",
            "learning_rate: 0.0001099511627776001\n"
          ]
        },
        {
          "output_type": "stream",
          "name": "stderr",
          "text": [
            "epoch 940: 100%|██████████| 282/282 [00:07<00:00, 36.28it/s]\n"
          ]
        },
        {
          "output_type": "stream",
          "name": "stdout",
          "text": [
            "validation loss: 0.0013874261147446103 at epoch 941\n",
            "learning_rate: 0.0001099511627776001\n"
          ]
        },
        {
          "output_type": "stream",
          "name": "stderr",
          "text": [
            "epoch 941: 100%|██████████| 282/282 [00:08<00:00, 33.49it/s]\n"
          ]
        },
        {
          "output_type": "stream",
          "name": "stdout",
          "text": [
            "validation loss: 0.0013997939725716908 at epoch 942\n",
            "learning_rate: 0.0001099511627776001\n"
          ]
        },
        {
          "output_type": "stream",
          "name": "stderr",
          "text": [
            "epoch 942: 100%|██████████| 282/282 [00:08<00:00, 32.27it/s]\n"
          ]
        },
        {
          "output_type": "stream",
          "name": "stdout",
          "text": [
            "validation loss: 0.001377907228966554 at epoch 943\n",
            "learning_rate: 0.0001099511627776001\n"
          ]
        },
        {
          "output_type": "stream",
          "name": "stderr",
          "text": [
            "epoch 943: 100%|██████████| 282/282 [00:08<00:00, 34.85it/s]\n"
          ]
        },
        {
          "output_type": "stream",
          "name": "stdout",
          "text": [
            "validation loss: 0.0013939508174856503 at epoch 944\n",
            "learning_rate: 0.0001099511627776001\n"
          ]
        },
        {
          "output_type": "stream",
          "name": "stderr",
          "text": [
            "epoch 944: 100%|██████████| 282/282 [00:07<00:00, 35.29it/s]\n"
          ]
        },
        {
          "output_type": "stream",
          "name": "stdout",
          "text": [
            "validation loss: 0.0013399015077286297 at epoch 945\n",
            "learning_rate: 0.0001099511627776001\n"
          ]
        },
        {
          "output_type": "stream",
          "name": "stderr",
          "text": [
            "epoch 945: 100%|██████████| 282/282 [00:08<00:00, 33.03it/s]\n"
          ]
        },
        {
          "output_type": "stream",
          "name": "stdout",
          "text": [
            "validation loss: 0.0013295763846900728 at epoch 946\n",
            "learning_rate: 8.796093022208009e-05\n"
          ]
        },
        {
          "output_type": "stream",
          "name": "stderr",
          "text": [
            "epoch 946: 100%|██████████| 282/282 [00:08<00:00, 33.50it/s]\n"
          ]
        },
        {
          "output_type": "stream",
          "name": "stdout",
          "text": [
            "validation loss: 0.001348716561165121 at epoch 947\n",
            "learning_rate: 8.796093022208009e-05\n"
          ]
        },
        {
          "output_type": "stream",
          "name": "stderr",
          "text": [
            "epoch 947: 100%|██████████| 282/282 [00:07<00:00, 36.64it/s]\n"
          ]
        },
        {
          "output_type": "stream",
          "name": "stdout",
          "text": [
            "validation loss: 0.0013941455582777659 at epoch 948\n",
            "learning_rate: 8.796093022208009e-05\n"
          ]
        },
        {
          "output_type": "stream",
          "name": "stderr",
          "text": [
            "epoch 948: 100%|██████████| 282/282 [00:08<00:00, 33.02it/s]\n"
          ]
        },
        {
          "output_type": "stream",
          "name": "stdout",
          "text": [
            "validation loss: 0.0013895319948593774 at epoch 949\n",
            "learning_rate: 8.796093022208009e-05\n"
          ]
        },
        {
          "output_type": "stream",
          "name": "stderr",
          "text": [
            "epoch 949: 100%|██████████| 282/282 [00:08<00:00, 32.98it/s]\n"
          ]
        },
        {
          "output_type": "stream",
          "name": "stdout",
          "text": [
            "validation loss: 0.0014117763034171527 at epoch 950\n",
            "learning_rate: 8.796093022208009e-05\n"
          ]
        },
        {
          "output_type": "stream",
          "name": "stderr",
          "text": [
            "epoch 950: 100%|██████████| 282/282 [00:07<00:00, 36.37it/s]\n"
          ]
        },
        {
          "output_type": "stream",
          "name": "stdout",
          "text": [
            "validation loss: 0.0014515566900372505 at epoch 951\n",
            "learning_rate: 8.796093022208009e-05\n"
          ]
        },
        {
          "output_type": "stream",
          "name": "stderr",
          "text": [
            "epoch 951: 100%|██████████| 282/282 [00:08<00:00, 32.83it/s]\n"
          ]
        },
        {
          "output_type": "stream",
          "name": "stdout",
          "text": [
            "validation loss: 0.0014433371755811903 at epoch 952\n",
            "learning_rate: 8.796093022208009e-05\n"
          ]
        },
        {
          "output_type": "stream",
          "name": "stderr",
          "text": [
            "epoch 952: 100%|██████████| 282/282 [00:08<00:00, 32.94it/s]\n"
          ]
        },
        {
          "output_type": "stream",
          "name": "stdout",
          "text": [
            "validation loss: 0.0014254498672154215 at epoch 953\n",
            "learning_rate: 8.796093022208009e-05\n"
          ]
        },
        {
          "output_type": "stream",
          "name": "stderr",
          "text": [
            "epoch 953: 100%|██████████| 282/282 [00:07<00:00, 35.82it/s]\n"
          ]
        },
        {
          "output_type": "stream",
          "name": "stdout",
          "text": [
            "validation loss: 0.0014090866926643583 at epoch 954\n",
            "learning_rate: 8.796093022208009e-05\n"
          ]
        },
        {
          "output_type": "stream",
          "name": "stderr",
          "text": [
            "epoch 954: 100%|██████████| 282/282 [00:08<00:00, 33.22it/s]\n"
          ]
        },
        {
          "output_type": "stream",
          "name": "stdout",
          "text": [
            "validation loss: 0.0014141073235207134 at epoch 955\n",
            "learning_rate: 8.796093022208009e-05\n"
          ]
        },
        {
          "output_type": "stream",
          "name": "stderr",
          "text": [
            "epoch 955: 100%|██████████| 282/282 [00:08<00:00, 32.76it/s]\n"
          ]
        },
        {
          "output_type": "stream",
          "name": "stdout",
          "text": [
            "validation loss: 0.0013688722277681034 at epoch 956\n",
            "learning_rate: 8.796093022208009e-05\n"
          ]
        },
        {
          "output_type": "stream",
          "name": "stderr",
          "text": [
            "epoch 956: 100%|██████████| 282/282 [00:08<00:00, 33.05it/s]\n"
          ]
        },
        {
          "output_type": "stream",
          "name": "stdout",
          "text": [
            "validation loss: 0.001386314931843016 at epoch 957\n",
            "learning_rate: 8.796093022208009e-05\n"
          ]
        },
        {
          "output_type": "stream",
          "name": "stderr",
          "text": [
            "epoch 957: 100%|██████████| 282/282 [00:07<00:00, 36.25it/s]\n"
          ]
        },
        {
          "output_type": "stream",
          "name": "stdout",
          "text": [
            "validation loss: 0.0013495635092258453 at epoch 958\n",
            "learning_rate: 8.796093022208009e-05\n"
          ]
        },
        {
          "output_type": "stream",
          "name": "stderr",
          "text": [
            "epoch 958: 100%|██████████| 282/282 [00:08<00:00, 32.74it/s]\n"
          ]
        },
        {
          "output_type": "stream",
          "name": "stdout",
          "text": [
            "validation loss: 0.0013575541343953874 at epoch 959\n",
            "learning_rate: 8.796093022208009e-05\n"
          ]
        },
        {
          "output_type": "stream",
          "name": "stderr",
          "text": [
            "epoch 959: 100%|██████████| 282/282 [00:08<00:00, 32.47it/s]\n"
          ]
        },
        {
          "output_type": "stream",
          "name": "stdout",
          "text": [
            "validation loss: 0.0013360208554400337 at epoch 960\n",
            "learning_rate: 8.796093022208009e-05\n"
          ]
        },
        {
          "output_type": "stream",
          "name": "stderr",
          "text": [
            "epoch 960: 100%|██████████| 282/282 [00:07<00:00, 36.36it/s]\n"
          ]
        },
        {
          "output_type": "stream",
          "name": "stdout",
          "text": [
            "validation loss: 0.0013272871176401775 at epoch 961\n",
            "learning_rate: 8.796093022208009e-05\n"
          ]
        },
        {
          "output_type": "stream",
          "name": "stderr",
          "text": [
            "epoch 961: 100%|██████████| 282/282 [00:08<00:00, 32.13it/s]\n"
          ]
        },
        {
          "output_type": "stream",
          "name": "stdout",
          "text": [
            "validation loss: 0.0013179073631763459 at epoch 962\n",
            "learning_rate: 8.796093022208009e-05\n"
          ]
        },
        {
          "output_type": "stream",
          "name": "stderr",
          "text": [
            "epoch 962: 100%|██████████| 282/282 [00:08<00:00, 33.36it/s]\n"
          ]
        },
        {
          "output_type": "stream",
          "name": "stdout",
          "text": [
            "validation loss: 0.0013210974741313193 at epoch 963\n",
            "learning_rate: 8.796093022208009e-05\n"
          ]
        },
        {
          "output_type": "stream",
          "name": "stderr",
          "text": [
            "epoch 963: 100%|██████████| 282/282 [00:07<00:00, 35.64it/s]\n"
          ]
        },
        {
          "output_type": "stream",
          "name": "stdout",
          "text": [
            "validation loss: 0.0012994956647356351 at epoch 964\n",
            "learning_rate: 8.796093022208009e-05\n"
          ]
        },
        {
          "output_type": "stream",
          "name": "stderr",
          "text": [
            "epoch 964: 100%|██████████| 282/282 [00:08<00:00, 34.28it/s]\n"
          ]
        },
        {
          "output_type": "stream",
          "name": "stdout",
          "text": [
            "validation loss: 0.0013072718116972182 at epoch 965\n",
            "learning_rate: 8.796093022208009e-05\n"
          ]
        },
        {
          "output_type": "stream",
          "name": "stderr",
          "text": [
            "epoch 965: 100%|██████████| 282/282 [00:08<00:00, 32.91it/s]\n"
          ]
        },
        {
          "output_type": "stream",
          "name": "stdout",
          "text": [
            "validation loss: 0.0013063814615209897 at epoch 966\n",
            "learning_rate: 8.796093022208009e-05\n"
          ]
        },
        {
          "output_type": "stream",
          "name": "stderr",
          "text": [
            "epoch 966: 100%|██████████| 282/282 [00:07<00:00, 35.37it/s]\n"
          ]
        },
        {
          "output_type": "stream",
          "name": "stdout",
          "text": [
            "validation loss: 0.0013289785492751334 at epoch 967\n",
            "learning_rate: 8.796093022208009e-05\n"
          ]
        },
        {
          "output_type": "stream",
          "name": "stderr",
          "text": [
            "epoch 967: 100%|██████████| 282/282 [00:08<00:00, 35.09it/s]\n"
          ]
        },
        {
          "output_type": "stream",
          "name": "stdout",
          "text": [
            "validation loss: 0.0013369619440701272 at epoch 968\n",
            "learning_rate: 8.796093022208009e-05\n"
          ]
        },
        {
          "output_type": "stream",
          "name": "stderr",
          "text": [
            "epoch 968: 100%|██████████| 282/282 [00:08<00:00, 33.28it/s]\n"
          ]
        },
        {
          "output_type": "stream",
          "name": "stdout",
          "text": [
            "validation loss: 0.001377078867620892 at epoch 969\n",
            "learning_rate: 8.796093022208009e-05\n"
          ]
        },
        {
          "output_type": "stream",
          "name": "stderr",
          "text": [
            "epoch 969: 100%|██████████| 282/282 [00:08<00:00, 32.78it/s]\n"
          ]
        },
        {
          "output_type": "stream",
          "name": "stdout",
          "text": [
            "validation loss: 0.001358363983531793 at epoch 970\n",
            "learning_rate: 8.796093022208009e-05\n"
          ]
        },
        {
          "output_type": "stream",
          "name": "stderr",
          "text": [
            "epoch 970: 100%|██████████| 282/282 [00:07<00:00, 36.32it/s]\n"
          ]
        },
        {
          "output_type": "stream",
          "name": "stdout",
          "text": [
            "validation loss: 0.0013894751651419533 at epoch 971\n",
            "learning_rate: 8.796093022208009e-05\n"
          ]
        },
        {
          "output_type": "stream",
          "name": "stderr",
          "text": [
            "epoch 971: 100%|██████████| 282/282 [00:08<00:00, 33.13it/s]\n"
          ]
        },
        {
          "output_type": "stream",
          "name": "stdout",
          "text": [
            "validation loss: 0.0013287362232804298 at epoch 972\n",
            "learning_rate: 8.796093022208009e-05\n"
          ]
        },
        {
          "output_type": "stream",
          "name": "stderr",
          "text": [
            "epoch 972: 100%|██████████| 282/282 [00:08<00:00, 32.36it/s]\n"
          ]
        },
        {
          "output_type": "stream",
          "name": "stdout",
          "text": [
            "validation loss: 0.0013173885287510025 at epoch 973\n",
            "learning_rate: 8.796093022208009e-05\n"
          ]
        },
        {
          "output_type": "stream",
          "name": "stderr",
          "text": [
            "epoch 973: 100%|██████████| 282/282 [00:07<00:00, 36.40it/s]\n"
          ]
        },
        {
          "output_type": "stream",
          "name": "stdout",
          "text": [
            "validation loss: 0.0013632987398240301 at epoch 974\n",
            "learning_rate: 8.796093022208009e-05\n"
          ]
        },
        {
          "output_type": "stream",
          "name": "stderr",
          "text": [
            "epoch 974: 100%|██████████| 282/282 [00:08<00:00, 32.35it/s]\n"
          ]
        },
        {
          "output_type": "stream",
          "name": "stdout",
          "text": [
            "validation loss: 0.0013861318810118569 at epoch 975\n",
            "learning_rate: 8.796093022208009e-05\n"
          ]
        },
        {
          "output_type": "stream",
          "name": "stderr",
          "text": [
            "epoch 975: 100%|██████████| 282/282 [00:08<00:00, 32.49it/s]\n"
          ]
        },
        {
          "output_type": "stream",
          "name": "stdout",
          "text": [
            "validation loss: 0.0013900640731056531 at epoch 976\n",
            "learning_rate: 8.796093022208009e-05\n"
          ]
        },
        {
          "output_type": "stream",
          "name": "stderr",
          "text": [
            "epoch 976: 100%|██████████| 282/282 [00:07<00:00, 35.87it/s]\n"
          ]
        },
        {
          "output_type": "stream",
          "name": "stdout",
          "text": [
            "validation loss: 0.0014309741217229102 at epoch 977\n",
            "learning_rate: 8.796093022208009e-05\n"
          ]
        },
        {
          "output_type": "stream",
          "name": "stderr",
          "text": [
            "epoch 977: 100%|██████████| 282/282 [00:08<00:00, 34.40it/s]\n"
          ]
        },
        {
          "output_type": "stream",
          "name": "stdout",
          "text": [
            "validation loss: 0.001435385324060917 at epoch 978\n",
            "learning_rate: 8.796093022208009e-05\n"
          ]
        },
        {
          "output_type": "stream",
          "name": "stderr",
          "text": [
            "epoch 978: 100%|██████████| 282/282 [00:08<00:00, 33.38it/s]\n"
          ]
        },
        {
          "output_type": "stream",
          "name": "stdout",
          "text": [
            "validation loss: 0.0013918285129798783 at epoch 979\n",
            "learning_rate: 8.796093022208009e-05\n"
          ]
        },
        {
          "output_type": "stream",
          "name": "stderr",
          "text": [
            "epoch 979: 100%|██████████| 282/282 [00:08<00:00, 33.73it/s]\n"
          ]
        },
        {
          "output_type": "stream",
          "name": "stdout",
          "text": [
            "validation loss: 0.0014057250552707249 at epoch 980\n",
            "learning_rate: 8.796093022208009e-05\n"
          ]
        },
        {
          "output_type": "stream",
          "name": "stderr",
          "text": [
            "epoch 980: 100%|██████████| 282/282 [00:07<00:00, 36.60it/s]\n"
          ]
        },
        {
          "output_type": "stream",
          "name": "stdout",
          "text": [
            "validation loss: 0.0013848420803745588 at epoch 981\n",
            "learning_rate: 8.796093022208009e-05\n"
          ]
        },
        {
          "output_type": "stream",
          "name": "stderr",
          "text": [
            "epoch 981: 100%|██████████| 282/282 [00:08<00:00, 32.74it/s]\n"
          ]
        },
        {
          "output_type": "stream",
          "name": "stdout",
          "text": [
            "validation loss: 0.001398687668144703 at epoch 982\n",
            "learning_rate: 8.796093022208009e-05\n"
          ]
        },
        {
          "output_type": "stream",
          "name": "stderr",
          "text": [
            "epoch 982: 100%|██████████| 282/282 [00:08<00:00, 32.64it/s]\n"
          ]
        },
        {
          "output_type": "stream",
          "name": "stdout",
          "text": [
            "validation loss: 0.0014083093967702655 at epoch 983\n",
            "learning_rate: 8.796093022208009e-05\n"
          ]
        },
        {
          "output_type": "stream",
          "name": "stderr",
          "text": [
            "epoch 983: 100%|██████████| 282/282 [00:07<00:00, 36.28it/s]\n"
          ]
        },
        {
          "output_type": "stream",
          "name": "stdout",
          "text": [
            "validation loss: 0.0013979963552620677 at epoch 984\n",
            "learning_rate: 8.796093022208009e-05\n"
          ]
        },
        {
          "output_type": "stream",
          "name": "stderr",
          "text": [
            "epoch 984: 100%|██████████| 282/282 [00:08<00:00, 32.61it/s]\n"
          ]
        },
        {
          "output_type": "stream",
          "name": "stdout",
          "text": [
            "validation loss: 0.0014033332856165039 at epoch 985\n",
            "learning_rate: 8.796093022208009e-05\n"
          ]
        },
        {
          "output_type": "stream",
          "name": "stderr",
          "text": [
            "epoch 985: 100%|██████████| 282/282 [00:08<00:00, 32.49it/s]\n"
          ]
        },
        {
          "output_type": "stream",
          "name": "stdout",
          "text": [
            "validation loss: 0.0014268650942378574 at epoch 986\n",
            "learning_rate: 8.796093022208009e-05\n"
          ]
        },
        {
          "output_type": "stream",
          "name": "stderr",
          "text": [
            "epoch 986: 100%|██████████| 282/282 [00:08<00:00, 34.90it/s]\n"
          ]
        },
        {
          "output_type": "stream",
          "name": "stdout",
          "text": [
            "validation loss: 0.0014079211461875173 at epoch 987\n",
            "learning_rate: 8.796093022208009e-05\n"
          ]
        },
        {
          "output_type": "stream",
          "name": "stderr",
          "text": [
            "epoch 987: 100%|██████████| 282/282 [00:08<00:00, 34.84it/s]\n"
          ]
        },
        {
          "output_type": "stream",
          "name": "stdout",
          "text": [
            "validation loss: 0.0014109707127014795 at epoch 988\n",
            "learning_rate: 8.796093022208009e-05\n"
          ]
        },
        {
          "output_type": "stream",
          "name": "stderr",
          "text": [
            "epoch 988: 100%|██████████| 282/282 [00:08<00:00, 32.82it/s]\n"
          ]
        },
        {
          "output_type": "stream",
          "name": "stdout",
          "text": [
            "validation loss: 0.0013952370956540109 at epoch 989\n",
            "learning_rate: 8.796093022208009e-05\n"
          ]
        },
        {
          "output_type": "stream",
          "name": "stderr",
          "text": [
            "epoch 989: 100%|██████████| 282/282 [00:08<00:00, 32.14it/s]\n"
          ]
        },
        {
          "output_type": "stream",
          "name": "stdout",
          "text": [
            "validation loss: 0.0013992290455434057 at epoch 990\n",
            "learning_rate: 8.796093022208009e-05\n"
          ]
        },
        {
          "output_type": "stream",
          "name": "stderr",
          "text": [
            "epoch 990: 100%|██████████| 282/282 [00:07<00:00, 36.45it/s]\n"
          ]
        },
        {
          "output_type": "stream",
          "name": "stdout",
          "text": [
            "validation loss: 0.0014154569514923626 at epoch 991\n",
            "learning_rate: 8.796093022208009e-05\n"
          ]
        },
        {
          "output_type": "stream",
          "name": "stderr",
          "text": [
            "epoch 991: 100%|██████████| 282/282 [00:08<00:00, 32.89it/s]\n"
          ]
        },
        {
          "output_type": "stream",
          "name": "stdout",
          "text": [
            "validation loss: 0.0014070779184500377 at epoch 992\n",
            "learning_rate: 8.796093022208009e-05\n"
          ]
        },
        {
          "output_type": "stream",
          "name": "stderr",
          "text": [
            "epoch 992: 100%|██████████| 282/282 [00:08<00:00, 32.39it/s]\n"
          ]
        },
        {
          "output_type": "stream",
          "name": "stdout",
          "text": [
            "validation loss: 0.0014161910456087854 at epoch 993\n",
            "learning_rate: 8.796093022208009e-05\n"
          ]
        },
        {
          "output_type": "stream",
          "name": "stderr",
          "text": [
            "epoch 993: 100%|██████████| 282/282 [00:07<00:00, 36.25it/s]\n"
          ]
        },
        {
          "output_type": "stream",
          "name": "stdout",
          "text": [
            "validation loss: 0.001394524243970712 at epoch 994\n",
            "learning_rate: 8.796093022208009e-05\n"
          ]
        },
        {
          "output_type": "stream",
          "name": "stderr",
          "text": [
            "epoch 994: 100%|██████████| 282/282 [00:08<00:00, 32.45it/s]\n"
          ]
        },
        {
          "output_type": "stream",
          "name": "stdout",
          "text": [
            "validation loss: 0.00142922476430734 at epoch 995\n",
            "learning_rate: 8.796093022208009e-05\n"
          ]
        },
        {
          "output_type": "stream",
          "name": "stderr",
          "text": [
            "epoch 995: 100%|██████████| 282/282 [00:08<00:00, 32.68it/s]\n"
          ]
        },
        {
          "output_type": "stream",
          "name": "stdout",
          "text": [
            "validation loss: 0.0013984519930349455 at epoch 996\n",
            "learning_rate: 8.796093022208009e-05\n"
          ]
        },
        {
          "output_type": "stream",
          "name": "stderr",
          "text": [
            "epoch 996: 100%|██████████| 282/282 [00:07<00:00, 35.83it/s]\n"
          ]
        },
        {
          "output_type": "stream",
          "name": "stdout",
          "text": [
            "validation loss: 0.0013253051688273748 at epoch 997\n",
            "learning_rate: 7.036874417766407e-05\n"
          ]
        },
        {
          "output_type": "stream",
          "name": "stderr",
          "text": [
            "epoch 997: 100%|██████████| 282/282 [00:08<00:00, 34.06it/s]\n"
          ]
        },
        {
          "output_type": "stream",
          "name": "stdout",
          "text": [
            "validation loss: 0.0013489195323652691 at epoch 998\n",
            "learning_rate: 7.036874417766407e-05\n"
          ]
        },
        {
          "output_type": "stream",
          "name": "stderr",
          "text": [
            "epoch 998: 100%|██████████| 282/282 [00:08<00:00, 32.87it/s]\n"
          ]
        },
        {
          "output_type": "stream",
          "name": "stdout",
          "text": [
            "validation loss: 0.001386098861694336 at epoch 999\n",
            "learning_rate: 7.036874417766407e-05\n"
          ]
        },
        {
          "output_type": "stream",
          "name": "stderr",
          "text": [
            "epoch 999: 100%|██████████| 282/282 [00:08<00:00, 33.69it/s]\n"
          ]
        },
        {
          "output_type": "stream",
          "name": "stdout",
          "text": [
            "validation loss: 0.0014190933696097798 at epoch 1000\n",
            "learning_rate: 7.036874417766407e-05\n"
          ]
        },
        {
          "output_type": "stream",
          "name": "stderr",
          "text": [
            "epoch 1000: 100%|██████████| 282/282 [00:07<00:00, 36.57it/s]"
          ]
        },
        {
          "output_type": "stream",
          "name": "stdout",
          "text": [
            "model loaded from ani_acrolein.pt\n"
          ]
        },
        {
          "output_type": "stream",
          "name": "stderr",
          "text": [
            "\n"
          ]
        }
      ],
      "source": [
        "model_ani.train(\n",
        "    molecular_database=acrolein_train,\n",
        "    property_to_learn=\"energy\",\n",
        "    xyz_derivative_property_to_learn=\"energy_grad\",\n",
        "    save_model=True,\n",
        ")"
      ]
    },
    {
      "cell_type": "markdown",
      "metadata": {
        "id": "ePJxXEdOR9_a"
      },
      "source": [
        "#Testing"
      ]
    },
    {
      "cell_type": "code",
      "execution_count": null,
      "metadata": {
        "id": "QZ00QUEc5wx_"
      },
      "outputs": [],
      "source": [
        "atoms = np.tile(np.array(1 * [6] + 1 * [8] + 2 * [6] + 4 * [1]), (5000, 1))\n",
        "acrolein_test = molecular_database.from_numpy(coordinates_trans_test, atoms)"
      ]
    },
    {
      "cell_type": "code",
      "execution_count": null,
      "metadata": {
        "id": "Pg1RPR6mSDhx"
      },
      "outputs": [],
      "source": [
        "acrolein_test.add_scalar_properties(epots_test, \"energy\")"
      ]
    },
    {
      "cell_type": "code",
      "execution_count": null,
      "metadata": {
        "id": "qiiCMU7dZGxL"
      },
      "outputs": [],
      "source": [
        "acrolein_test.add_xyz_derivative_properties(grads_test, \"energy\", \"energy_grad\")"
      ]
    },
    {
      "cell_type": "code",
      "execution_count": null,
      "metadata": {
        "colab": {
          "base_uri": "https://localhost:8080/"
        },
        "id": "bcrAOqQFSMSJ",
        "outputId": "9e37a2e5-5da7-4eca-d383-5f7cbdbb39c5"
      },
      "outputs": [
        {
          "output_type": "execute_result",
          "data": {
            "text/plain": [
              "5000"
            ]
          },
          "metadata": {},
          "execution_count": 30
        }
      ],
      "source": [
        "acrolein_test.size"
      ]
    },
    {
      "cell_type": "code",
      "execution_count": null,
      "metadata": {
        "id": "gw0-f85SSVEC"
      },
      "outputs": [],
      "source": []
    },
    {
      "cell_type": "code",
      "execution_count": null,
      "metadata": {
        "id": "woEFYZaUSYPK"
      },
      "outputs": [],
      "source": [
        "mcd_test_mol = acrolein_test.copy()\n",
        "model_ani.predict(\n",
        "    molecular_database=mcd_test_mol,\n",
        "    property_to_predict=\"energy\",\n",
        "    xyz_derivative_property_to_predict=\"energy_grad\",\n",
        "    batch_size=100,\n",
        ")\n",
        "# mcd_test_mol.get_properties(\"energy\")\n",
        "# mcd_test_mol.get_xyz_derivative_properties(\"energy_grad\")\n",
        "np.savez('test.npz', energy=np.array(mcd_test_mol.get_properties(\"energy\")) /kcalpermol2eV, grad=np.array(mcd_test_mol.get_xyz_derivative_properties(\"energy_grad\")) / kcalpermol2eV)"
      ]
    },
    {
      "cell_type": "code",
      "execution_count": null,
      "metadata": {
        "colab": {
          "base_uri": "https://localhost:8080/"
        },
        "id": "ijwQe6JNZoK9",
        "outputId": "7bf0531a-4ab2-453a-d6e5-19d6beb6e903"
      },
      "outputs": [
        {
          "output_type": "stream",
          "name": "stdout",
          "text": [
            "0.01805434643685519\n",
            "0.13350999236934297\n"
          ]
        }
      ],
      "source": [
        "mse_epot = np.mean(\n",
        "    ((mcd_test_mol.get_properties(\"energy\") - acrolein_test.get_properties(\"energy\")))** 2)\n",
        "print(np.sqrt(mse_epot))\n",
        "mse_grad = np.mean(\n",
        "    (\n",
        "        (\n",
        "            mcd_test_mol.get_xyz_derivative_properties(\"energy_grad\")\n",
        "            - acrolein_test.get_xyz_derivative_properties(\"energy_grad\")\n",
        "        )\n",
        "    )\n",
        "    ** 2\n",
        ")\n",
        "print(np.sqrt(mse_grad))"
      ]
    },
    {
      "cell_type": "code",
      "execution_count": null,
      "metadata": {
        "id": "jZmMsjUg111v"
      },
      "outputs": [],
      "source": [
        "mcd_train_mol = acrolein_train.copy()\n",
        "model_ani.predict(\n",
        "    molecular_database=mcd_train_mol,\n",
        "    property_to_predict=\"energy\",\n",
        "    xyz_derivative_property_to_predict=\"energy_grad\",\n",
        "    batch_size=100,\n",
        ")\n",
        "# mcd_test_mol.get_properties(\"energy\")\n",
        "# mcd_test_mol.get_xyz_derivative_properties(\"energy_grad\")\n",
        "np.savez('train.npz', energy=np.array(mcd_train_mol.get_properties(\"energy\")) /kcalpermol2eV, grad=np.array(mcd_train_mol.get_xyz_derivative_properties(\"energy_grad\")) / kcalpermol2eV)"
      ]
    },
    {
      "cell_type": "markdown",
      "metadata": {
        "id": "egFNlJyvWKRK"
      },
      "source": [
        "#Cis-Trans"
      ]
    },
    {
      "cell_type": "code",
      "execution_count": null,
      "metadata": {
        "id": "V7JSX3CQU4a1"
      },
      "outputs": [],
      "source": [
        "atoms = np.tile(np.array(1 * [6] + 1 * [8] + 2 * [6] + 4 * [1]), (20000, 1))\n",
        "acrolein_cis_trans = molecular_database.from_numpy(coordinates_cis_trans, atoms)\n",
        "acrolein_cis_trans.add_scalar_properties(energy_cis_trans.flatten() * kcalpermol2eV, \"energy\")\n",
        "acrolein_cis_trans.add_xyz_derivative_properties(grads_cis_trans * kcalpermol2eV, \"energy\", \"energy_grad\")\n",
        "\n",
        "mcd_cis_trans = acrolein_cis_trans.copy()\n",
        "\n",
        "model_ani.predict(\n",
        "    molecular_database=mcd_cis_trans,\n",
        "    property_to_predict=\"energy\",\n",
        "    xyz_derivative_property_to_predict=\"energy_grad\",\n",
        "    batch_size=100,\n",
        ")\n",
        "# mcd_test_mol.get_properties(\"energy\")\n",
        "# mcd_test_mol.get_xyz_derivative_properties(\"energy_grad\")\n",
        "np.savez('cis_trans.npz', energy=np.array(mcd_cis_trans.get_properties(\"energy\")) /kcalpermol2eV, grad=np.array(mcd_cis_trans.get_xyz_derivative_properties(\"energy_grad\")) / kcalpermol2eV)"
      ]
    },
    {
      "cell_type": "markdown",
      "metadata": {
        "id": "tWMX9srOcCv6"
      },
      "source": [
        "#Cis"
      ]
    },
    {
      "cell_type": "code",
      "execution_count": null,
      "metadata": {
        "id": "6EO9aZRLWaX0"
      },
      "outputs": [],
      "source": [
        "atoms = np.tile(np.array(1 * [6] + 1 * [8] + 2 * [6] + 4 * [1]), (50000, 1))\n",
        "acrolein_cis = molecular_database.from_numpy(coordinates_cis, atoms)\n",
        "acrolein_cis.add_scalar_properties(energy_cis.flatten() * kcalpermol2eV, \"energy\")\n",
        "acrolein_cis.add_xyz_derivative_properties(grads_cis * kcalpermol2eV, \"energy\", \"energy_grad\")\n",
        "\n",
        "mcd_cis = acrolein_cis.copy()\n",
        "\n",
        "model_ani.predict(\n",
        "    molecular_database=mcd_cis,\n",
        "    property_to_predict=\"energy\",\n",
        "    xyz_derivative_property_to_predict=\"energy_grad\",\n",
        "    batch_size=100,\n",
        ")\n",
        "# mcd_test_mol.get_properties(\"energy\")\n",
        "# mcd_test_mol.get_xyz_derivative_properties(\"energy_grad\")\n",
        "np.savez('cis.npz', energy=np.array(mcd_cis.get_properties(\"energy\")) /kcalpermol2eV, grad=np.array(mcd_cis.get_xyz_derivative_properties(\"energy_grad\")) / kcalpermol2eV)"
      ]
    }
  ],
  "metadata": {
    "accelerator": "GPU",
    "colab": {
      "gpuType": "T4",
      "provenance": []
    },
    "kernelspec": {
      "display_name": "Python 3",
      "name": "python3"
    },
    "language_info": {
      "name": "python"
    }
  },
  "nbformat": 4,
  "nbformat_minor": 0
}