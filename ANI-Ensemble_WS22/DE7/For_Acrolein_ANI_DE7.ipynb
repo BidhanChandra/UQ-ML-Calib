{
  "cells": [
    {
      "cell_type": "markdown",
      "metadata": {
        "id": "wOjcyoxvuDwH"
      },
      "source": [
        "#Data Collection Acrolein"
      ]
    },
    {
      "cell_type": "code",
      "execution_count": null,
      "metadata": {
        "id": "Ge9wCK2bvk8Q"
      },
      "outputs": [],
      "source": [
        "import numpy as np\n",
        "from sklearn.metrics import r2_score, mean_absolute_error\n",
        "from sklearn.model_selection import train_test_split\n",
        "from tqdm import tqdm"
      ]
    },
    {
      "cell_type": "code",
      "execution_count": null,
      "metadata": {
        "colab": {
          "base_uri": "https://localhost:8080/"
        },
        "id": "VNKJbEKCwixz",
        "outputId": "6d54135d-6c1f-47a4-a528-ea788ce0af93"
      },
      "outputs": [
        {
          "output_type": "stream",
          "name": "stdout",
          "text": [
            "Collecting mlatom\n",
            "  Downloading mlatom-3.9.1-py3-none-any.whl.metadata (7.0 kB)\n",
            "Requirement already satisfied: numpy in /usr/local/lib/python3.10/dist-packages (from mlatom) (1.26.4)\n",
            "Requirement already satisfied: scipy in /usr/local/lib/python3.10/dist-packages (from mlatom) (1.13.1)\n",
            "Requirement already satisfied: h5py in /usr/local/lib/python3.10/dist-packages (from mlatom) (3.11.0)\n",
            "Collecting pyh5md (from mlatom)\n",
            "  Downloading pyh5md-1.0.0-py2.py3-none-any.whl.metadata (497 bytes)\n",
            "Requirement already satisfied: torch in /usr/local/lib/python3.10/dist-packages (from mlatom) (2.3.1+cu121)\n",
            "Collecting torchani (from mlatom)\n",
            "  Downloading torchani-2.2.4-py3-none-any.whl.metadata (6.0 kB)\n",
            "Requirement already satisfied: matplotlib in /usr/local/lib/python3.10/dist-packages (from mlatom) (3.7.1)\n",
            "Requirement already satisfied: statsmodels in /usr/local/lib/python3.10/dist-packages (from mlatom) (0.14.2)\n",
            "Requirement already satisfied: tqdm in /usr/local/lib/python3.10/dist-packages (from mlatom) (4.66.4)\n",
            "Requirement already satisfied: contourpy>=1.0.1 in /usr/local/lib/python3.10/dist-packages (from matplotlib->mlatom) (1.2.1)\n",
            "Requirement already satisfied: cycler>=0.10 in /usr/local/lib/python3.10/dist-packages (from matplotlib->mlatom) (0.12.1)\n",
            "Requirement already satisfied: fonttools>=4.22.0 in /usr/local/lib/python3.10/dist-packages (from matplotlib->mlatom) (4.53.1)\n",
            "Requirement already satisfied: kiwisolver>=1.0.1 in /usr/local/lib/python3.10/dist-packages (from matplotlib->mlatom) (1.4.5)\n",
            "Requirement already satisfied: packaging>=20.0 in /usr/local/lib/python3.10/dist-packages (from matplotlib->mlatom) (24.1)\n",
            "Requirement already satisfied: pillow>=6.2.0 in /usr/local/lib/python3.10/dist-packages (from matplotlib->mlatom) (9.4.0)\n",
            "Requirement already satisfied: pyparsing>=2.3.1 in /usr/local/lib/python3.10/dist-packages (from matplotlib->mlatom) (3.1.2)\n",
            "Requirement already satisfied: python-dateutil>=2.7 in /usr/local/lib/python3.10/dist-packages (from matplotlib->mlatom) (2.8.2)\n",
            "Requirement already satisfied: pandas!=2.1.0,>=1.4 in /usr/local/lib/python3.10/dist-packages (from statsmodels->mlatom) (2.1.4)\n",
            "Requirement already satisfied: patsy>=0.5.6 in /usr/local/lib/python3.10/dist-packages (from statsmodels->mlatom) (0.5.6)\n",
            "Requirement already satisfied: filelock in /usr/local/lib/python3.10/dist-packages (from torch->mlatom) (3.15.4)\n",
            "Requirement already satisfied: typing-extensions>=4.8.0 in /usr/local/lib/python3.10/dist-packages (from torch->mlatom) (4.12.2)\n",
            "Requirement already satisfied: sympy in /usr/local/lib/python3.10/dist-packages (from torch->mlatom) (1.13.1)\n",
            "Requirement already satisfied: networkx in /usr/local/lib/python3.10/dist-packages (from torch->mlatom) (3.3)\n",
            "Requirement already satisfied: jinja2 in /usr/local/lib/python3.10/dist-packages (from torch->mlatom) (3.1.4)\n",
            "Requirement already satisfied: fsspec in /usr/local/lib/python3.10/dist-packages (from torch->mlatom) (2024.6.1)\n",
            "Collecting nvidia-cuda-nvrtc-cu12==12.1.105 (from torch->mlatom)\n",
            "  Using cached nvidia_cuda_nvrtc_cu12-12.1.105-py3-none-manylinux1_x86_64.whl.metadata (1.5 kB)\n",
            "Collecting nvidia-cuda-runtime-cu12==12.1.105 (from torch->mlatom)\n",
            "  Using cached nvidia_cuda_runtime_cu12-12.1.105-py3-none-manylinux1_x86_64.whl.metadata (1.5 kB)\n",
            "Collecting nvidia-cuda-cupti-cu12==12.1.105 (from torch->mlatom)\n",
            "  Using cached nvidia_cuda_cupti_cu12-12.1.105-py3-none-manylinux1_x86_64.whl.metadata (1.6 kB)\n",
            "Collecting nvidia-cudnn-cu12==8.9.2.26 (from torch->mlatom)\n",
            "  Using cached nvidia_cudnn_cu12-8.9.2.26-py3-none-manylinux1_x86_64.whl.metadata (1.6 kB)\n",
            "Collecting nvidia-cublas-cu12==12.1.3.1 (from torch->mlatom)\n",
            "  Using cached nvidia_cublas_cu12-12.1.3.1-py3-none-manylinux1_x86_64.whl.metadata (1.5 kB)\n",
            "Collecting nvidia-cufft-cu12==11.0.2.54 (from torch->mlatom)\n",
            "  Using cached nvidia_cufft_cu12-11.0.2.54-py3-none-manylinux1_x86_64.whl.metadata (1.5 kB)\n",
            "Collecting nvidia-curand-cu12==10.3.2.106 (from torch->mlatom)\n",
            "  Using cached nvidia_curand_cu12-10.3.2.106-py3-none-manylinux1_x86_64.whl.metadata (1.5 kB)\n",
            "Collecting nvidia-cusolver-cu12==11.4.5.107 (from torch->mlatom)\n",
            "  Using cached nvidia_cusolver_cu12-11.4.5.107-py3-none-manylinux1_x86_64.whl.metadata (1.6 kB)\n",
            "Collecting nvidia-cusparse-cu12==12.1.0.106 (from torch->mlatom)\n",
            "  Using cached nvidia_cusparse_cu12-12.1.0.106-py3-none-manylinux1_x86_64.whl.metadata (1.6 kB)\n",
            "Collecting nvidia-nccl-cu12==2.20.5 (from torch->mlatom)\n",
            "  Using cached nvidia_nccl_cu12-2.20.5-py3-none-manylinux2014_x86_64.whl.metadata (1.8 kB)\n",
            "Collecting nvidia-nvtx-cu12==12.1.105 (from torch->mlatom)\n",
            "  Using cached nvidia_nvtx_cu12-12.1.105-py3-none-manylinux1_x86_64.whl.metadata (1.7 kB)\n",
            "Requirement already satisfied: triton==2.3.1 in /usr/local/lib/python3.10/dist-packages (from torch->mlatom) (2.3.1)\n",
            "Collecting nvidia-nvjitlink-cu12 (from nvidia-cusolver-cu12==11.4.5.107->torch->mlatom)\n",
            "  Downloading nvidia_nvjitlink_cu12-12.5.82-py3-none-manylinux2014_x86_64.whl.metadata (1.5 kB)\n",
            "Collecting lark-parser (from torchani->mlatom)\n",
            "  Downloading lark_parser-0.12.0-py2.py3-none-any.whl.metadata (1.7 kB)\n",
            "Requirement already satisfied: requests in /usr/local/lib/python3.10/dist-packages (from torchani->mlatom) (2.31.0)\n",
            "Requirement already satisfied: importlib-metadata in /usr/local/lib/python3.10/dist-packages (from torchani->mlatom) (8.2.0)\n",
            "Requirement already satisfied: pytz>=2020.1 in /usr/local/lib/python3.10/dist-packages (from pandas!=2.1.0,>=1.4->statsmodels->mlatom) (2024.1)\n",
            "Requirement already satisfied: tzdata>=2022.1 in /usr/local/lib/python3.10/dist-packages (from pandas!=2.1.0,>=1.4->statsmodels->mlatom) (2024.1)\n",
            "Requirement already satisfied: six in /usr/local/lib/python3.10/dist-packages (from patsy>=0.5.6->statsmodels->mlatom) (1.16.0)\n",
            "Requirement already satisfied: zipp>=0.5 in /usr/local/lib/python3.10/dist-packages (from importlib-metadata->torchani->mlatom) (3.19.2)\n",
            "Requirement already satisfied: MarkupSafe>=2.0 in /usr/local/lib/python3.10/dist-packages (from jinja2->torch->mlatom) (2.1.5)\n",
            "Requirement already satisfied: charset-normalizer<4,>=2 in /usr/local/lib/python3.10/dist-packages (from requests->torchani->mlatom) (3.3.2)\n",
            "Requirement already satisfied: idna<4,>=2.5 in /usr/local/lib/python3.10/dist-packages (from requests->torchani->mlatom) (3.7)\n",
            "Requirement already satisfied: urllib3<3,>=1.21.1 in /usr/local/lib/python3.10/dist-packages (from requests->torchani->mlatom) (2.0.7)\n",
            "Requirement already satisfied: certifi>=2017.4.17 in /usr/local/lib/python3.10/dist-packages (from requests->torchani->mlatom) (2024.7.4)\n",
            "Requirement already satisfied: mpmath<1.4,>=1.1.0 in /usr/local/lib/python3.10/dist-packages (from sympy->torch->mlatom) (1.3.0)\n",
            "Downloading mlatom-3.9.1-py3-none-any.whl (51.8 MB)\n",
            "\u001b[2K   \u001b[90m━━━━━━━━━━━━━━━━━━━━━━━━━━━━━━━━━━━━━━━━\u001b[0m \u001b[32m51.8/51.8 MB\u001b[0m \u001b[31m13.7 MB/s\u001b[0m eta \u001b[36m0:00:00\u001b[0m\n",
            "\u001b[?25hDownloading pyh5md-1.0.0-py2.py3-none-any.whl (4.4 kB)\n",
            "Using cached nvidia_cublas_cu12-12.1.3.1-py3-none-manylinux1_x86_64.whl (410.6 MB)\n",
            "Using cached nvidia_cuda_cupti_cu12-12.1.105-py3-none-manylinux1_x86_64.whl (14.1 MB)\n",
            "Using cached nvidia_cuda_nvrtc_cu12-12.1.105-py3-none-manylinux1_x86_64.whl (23.7 MB)\n",
            "Using cached nvidia_cuda_runtime_cu12-12.1.105-py3-none-manylinux1_x86_64.whl (823 kB)\n",
            "Using cached nvidia_cudnn_cu12-8.9.2.26-py3-none-manylinux1_x86_64.whl (731.7 MB)\n",
            "Using cached nvidia_cufft_cu12-11.0.2.54-py3-none-manylinux1_x86_64.whl (121.6 MB)\n",
            "Using cached nvidia_curand_cu12-10.3.2.106-py3-none-manylinux1_x86_64.whl (56.5 MB)\n",
            "Using cached nvidia_cusolver_cu12-11.4.5.107-py3-none-manylinux1_x86_64.whl (124.2 MB)\n",
            "Using cached nvidia_cusparse_cu12-12.1.0.106-py3-none-manylinux1_x86_64.whl (196.0 MB)\n",
            "Using cached nvidia_nccl_cu12-2.20.5-py3-none-manylinux2014_x86_64.whl (176.2 MB)\n",
            "Using cached nvidia_nvtx_cu12-12.1.105-py3-none-manylinux1_x86_64.whl (99 kB)\n",
            "Downloading torchani-2.2.4-py3-none-any.whl (10.9 MB)\n",
            "\u001b[2K   \u001b[90m━━━━━━━━━━━━━━━━━━━━━━━━━━━━━━━━━━━━━━━━\u001b[0m \u001b[32m10.9/10.9 MB\u001b[0m \u001b[31m11.3 MB/s\u001b[0m eta \u001b[36m0:00:00\u001b[0m\n",
            "\u001b[?25hDownloading lark_parser-0.12.0-py2.py3-none-any.whl (103 kB)\n",
            "\u001b[2K   \u001b[90m━━━━━━━━━━━━━━━━━━━━━━━━━━━━━━━━━━━━━━━━\u001b[0m \u001b[32m103.5/103.5 kB\u001b[0m \u001b[31m9.7 MB/s\u001b[0m eta \u001b[36m0:00:00\u001b[0m\n",
            "\u001b[?25hDownloading nvidia_nvjitlink_cu12-12.5.82-py3-none-manylinux2014_x86_64.whl (21.3 MB)\n",
            "\u001b[2K   \u001b[90m━━━━━━━━━━━━━━━━━━━━━━━━━━━━━━━━━━━━━━━━\u001b[0m \u001b[32m21.3/21.3 MB\u001b[0m \u001b[31m86.2 MB/s\u001b[0m eta \u001b[36m0:00:00\u001b[0m\n",
            "\u001b[?25hInstalling collected packages: pyh5md, lark-parser, nvidia-nvtx-cu12, nvidia-nvjitlink-cu12, nvidia-nccl-cu12, nvidia-curand-cu12, nvidia-cufft-cu12, nvidia-cuda-runtime-cu12, nvidia-cuda-nvrtc-cu12, nvidia-cuda-cupti-cu12, nvidia-cublas-cu12, nvidia-cusparse-cu12, nvidia-cudnn-cu12, nvidia-cusolver-cu12, torchani, mlatom\n",
            "Successfully installed lark-parser-0.12.0 mlatom-3.9.1 nvidia-cublas-cu12-12.1.3.1 nvidia-cuda-cupti-cu12-12.1.105 nvidia-cuda-nvrtc-cu12-12.1.105 nvidia-cuda-runtime-cu12-12.1.105 nvidia-cudnn-cu12-8.9.2.26 nvidia-cufft-cu12-11.0.2.54 nvidia-curand-cu12-10.3.2.106 nvidia-cusolver-cu12-11.4.5.107 nvidia-cusparse-cu12-12.1.0.106 nvidia-nccl-cu12-2.20.5 nvidia-nvjitlink-cu12-12.5.82 nvidia-nvtx-cu12-12.1.105 pyh5md-1.0.0 torchani-2.2.4\n",
            "Cloning into 'ulamdyn'...\n",
            "remote: Enumerating objects: 1097, done.\u001b[K\n",
            "remote: Counting objects: 100% (187/187), done.\u001b[K\n",
            "remote: Compressing objects: 100% (74/74), done.\u001b[K\n",
            "remote: Total 1097 (delta 116), reused 130 (delta 90), pack-reused 910 (from 1)\u001b[K\n",
            "Receiving objects: 100% (1097/1097), 15.66 MiB | 27.23 MiB/s, done.\n",
            "Resolving deltas: 100% (625/625), done.\n",
            "Processing ./ulamdyn\n",
            "  Preparing metadata (setup.py) ... \u001b[?25l\u001b[?25hdone\n",
            "Collecting rmsd (from ulamdyn==0+untagged.86.g3547f09)\n",
            "  Downloading rmsd-1.5.1-py3-none-any.whl.metadata (5.3 kB)\n",
            "Requirement already satisfied: h5py in /usr/local/lib/python3.10/dist-packages (from ulamdyn==0+untagged.86.g3547f09) (3.11.0)\n",
            "Requirement already satisfied: numpy in /usr/local/lib/python3.10/dist-packages (from ulamdyn==0+untagged.86.g3547f09) (1.26.4)\n",
            "Requirement already satisfied: scipy in /usr/local/lib/python3.10/dist-packages (from ulamdyn==0+untagged.86.g3547f09) (1.13.1)\n",
            "Requirement already satisfied: joblib in /usr/local/lib/python3.10/dist-packages (from ulamdyn==0+untagged.86.g3547f09) (1.4.2)\n",
            "Requirement already satisfied: pandas in /usr/local/lib/python3.10/dist-packages (from ulamdyn==0+untagged.86.g3547f09) (2.1.4)\n",
            "Requirement already satisfied: scikit-learn in /usr/local/lib/python3.10/dist-packages (from ulamdyn==0+untagged.86.g3547f09) (1.3.2)\n",
            "Collecting tslearn (from ulamdyn==0+untagged.86.g3547f09)\n",
            "  Downloading tslearn-0.6.3-py3-none-any.whl.metadata (14 kB)\n",
            "Requirement already satisfied: python-dateutil>=2.8.2 in /usr/local/lib/python3.10/dist-packages (from pandas->ulamdyn==0+untagged.86.g3547f09) (2.8.2)\n",
            "Requirement already satisfied: pytz>=2020.1 in /usr/local/lib/python3.10/dist-packages (from pandas->ulamdyn==0+untagged.86.g3547f09) (2024.1)\n",
            "Requirement already satisfied: tzdata>=2022.1 in /usr/local/lib/python3.10/dist-packages (from pandas->ulamdyn==0+untagged.86.g3547f09) (2024.1)\n",
            "Requirement already satisfied: threadpoolctl>=2.0.0 in /usr/local/lib/python3.10/dist-packages (from scikit-learn->ulamdyn==0+untagged.86.g3547f09) (3.5.0)\n",
            "Requirement already satisfied: numba in /usr/local/lib/python3.10/dist-packages (from tslearn->ulamdyn==0+untagged.86.g3547f09) (0.60.0)\n",
            "Requirement already satisfied: six>=1.5 in /usr/local/lib/python3.10/dist-packages (from python-dateutil>=2.8.2->pandas->ulamdyn==0+untagged.86.g3547f09) (1.16.0)\n",
            "Requirement already satisfied: llvmlite<0.44,>=0.43.0dev0 in /usr/local/lib/python3.10/dist-packages (from numba->tslearn->ulamdyn==0+untagged.86.g3547f09) (0.43.0)\n",
            "Downloading rmsd-1.5.1-py3-none-any.whl (17 kB)\n",
            "Downloading tslearn-0.6.3-py3-none-any.whl (374 kB)\n",
            "\u001b[2K   \u001b[90m━━━━━━━━━━━━━━━━━━━━━━━━━━━━━━━━━━━━━━━━\u001b[0m \u001b[32m374.4/374.4 kB\u001b[0m \u001b[31m11.7 MB/s\u001b[0m eta \u001b[36m0:00:00\u001b[0m\n",
            "\u001b[?25hBuilding wheels for collected packages: ulamdyn\n",
            "  Building wheel for ulamdyn (setup.py) ... \u001b[?25l\u001b[?25hdone\n",
            "  Created wheel for ulamdyn: filename=ulamdyn-0+untagged.86.g3547f09-py3-none-any.whl size=82743 sha256=c2ad4222b83572e7d899515f783a9d464e20ce4b8766a503195be3e1b609e598\n",
            "  Stored in directory: /tmp/pip-ephem-wheel-cache-almaa8iq/wheels/ea/44/6c/17ce24d141475292bbb4c82ed8acc25f0b63a566b8af3500fc\n",
            "Successfully built ulamdyn\n",
            "Installing collected packages: rmsd, tslearn, ulamdyn\n",
            "Successfully installed rmsd-1.5.1 tslearn-0.6.3 ulamdyn-0+untagged.86.g3547f09\n"
          ]
        }
      ],
      "source": [
        "!pip install mlatom\n",
        "!git clone https://gitlab.com/maxjr82/ulamdyn.git\n",
        "!pip install ulamdyn/"
      ]
    },
    {
      "cell_type": "code",
      "execution_count": null,
      "metadata": {
        "colab": {
          "base_uri": "https://localhost:8080/"
        },
        "id": "7z8eznaooDgP",
        "outputId": "25856370-99d1-44c4-85cd-7d902e2286f6"
      },
      "outputs": [
        {
          "output_type": "stream",
          "name": "stdout",
          "text": [
            "R -> (120000, 8, 3)\n",
            "F -> (120000, 8, 3)\n",
            "Q -> (120000, 8, 1)\n",
            "DP -> (120000, 3)\n",
            "QP -> (120000, 3, 3)\n",
            "P -> (120000, 6)\n",
            "RC -> (120000, 3)\n",
            "HL -> (120000, 2)\n",
            "E -> (120000, 1)\n",
            "Z -> (8,)\n",
            "R2 -> (120000, 1)\n",
            "CONF -> (120000, 1)\n",
            "['C', 'O', 'C', 'C', 'H', 'H', 'H', 'H']\n"
          ]
        }
      ],
      "source": [
        "from typing_extensions import get_overloads\n",
        "data = np.load('ws22_acrolein.npz')\n",
        "\n",
        "for key, val in data.items():\n",
        "    print(key, '->', val.shape)\n",
        "\n",
        "coordinates_cis_trans = np.array(data['R'][:20000])\n",
        "energy_cis_trans = np.array(data['E'][:20000])\n",
        "grads_cis_trans = -np.array(data['F'][:20000])\n",
        "\n",
        "\n",
        "atoms = []\n",
        "\n",
        "for i in range(data['Z'].shape[0]):\n",
        "    if data['Z'][i] == 6:\n",
        "        atoms.append('C')\n",
        "    elif data['Z'][i] == 8:\n",
        "        atoms.append('O')\n",
        "    elif data['Z'][i] == 1:\n",
        "        atoms.append('H')\n",
        "\n",
        "print(atoms)"
      ]
    },
    {
      "cell_type": "code",
      "execution_count": null,
      "metadata": {
        "id": "ofeIVgHWr5qQ"
      },
      "outputs": [],
      "source": [
        "coordinates_trans = np.array(data['R'][70000:])\n",
        "energy_trans = np.array(data['E'][70000:])\n",
        "grads_trans = -np.array(data['F'][70000:])"
      ]
    },
    {
      "cell_type": "code",
      "execution_count": null,
      "metadata": {
        "id": "huFf9938vuRA"
      },
      "outputs": [],
      "source": [
        "coordinates_cis = np.array(data['R'][20000:70000])\n",
        "energy_cis = np.array(data['E'][20000:70000])\n",
        "grads_cis = -np.array(data['F'][20000:70000])"
      ]
    },
    {
      "cell_type": "code",
      "execution_count": null,
      "metadata": {
        "id": "bjSsy6Fzug6p"
      },
      "outputs": [],
      "source": [
        "coordinates_trans_train, coordinates_trans_test, en_trans_train, en_trans_test, grads_trans_train, grads_trans_test = train_test_split(coordinates_trans, energy_trans, grads_trans, train_size = 0.90, random_state=0)"
      ]
    },
    {
      "cell_type": "code",
      "execution_count": null,
      "metadata": {
        "colab": {
          "base_uri": "https://localhost:8080/"
        },
        "id": "HyZZQweo4vxf",
        "outputId": "a106c9d3-bcda-4b90-eb14-8e44ca55dfe9"
      },
      "outputs": [
        {
          "output_type": "execute_result",
          "data": {
            "text/plain": [
              "array([[-120265.54525667],\n",
              "       [-120295.6376437 ],\n",
              "       [-120290.32390238],\n",
              "       ...,\n",
              "       [-120294.09290581],\n",
              "       [-120273.4211467 ],\n",
              "       [-120292.20436419]])"
            ]
          },
          "metadata": {},
          "execution_count": 7
        }
      ],
      "source": [
        "en_trans_train"
      ]
    },
    {
      "cell_type": "code",
      "execution_count": null,
      "metadata": {
        "colab": {
          "base_uri": "https://localhost:8080/"
        },
        "id": "Emluw96Ou2Qj",
        "outputId": "68cdce53-6223-405d-ab24-e7deea67d6ed"
      },
      "outputs": [
        {
          "output_type": "stream",
          "name": "stdout",
          "text": [
            "(45000, 1)\n",
            "(5000, 1)\n"
          ]
        }
      ],
      "source": [
        "print(en_trans_train.shape)\n",
        "print(en_trans_test.shape)"
      ]
    },
    {
      "cell_type": "code",
      "execution_count": null,
      "metadata": {
        "id": "lZj6P76dgN2F"
      },
      "outputs": [],
      "source": [
        "import ulamdyn as ulmd\n",
        "import os\n",
        "\n",
        "from mlatom.data import molecular_database, molecule\n",
        "from mlatom.interfaces.torchani_interface import ani\n",
        "# from mlatom.interfaces.gap_interface import gap\n",
        "from mlatom import models\n",
        "from mlatom.constants import Hartree2eV, Angstrom2Bohr, kcalpermol2eV\n",
        "import torch"
      ]
    },
    {
      "cell_type": "code",
      "execution_count": null,
      "metadata": {
        "id": "gCzK7ZVax5wn"
      },
      "outputs": [],
      "source": [
        "import seaborn as sns\n",
        "import matplotlib.pyplot as plt\n",
        "from matplotlib.ticker import StrMethodFormatter\n",
        "\n",
        "import ipywidgets as widgets\n",
        "from ipywidgets import interact"
      ]
    },
    {
      "cell_type": "code",
      "execution_count": null,
      "metadata": {
        "id": "3c9-u_2Yx9g3"
      },
      "outputs": [],
      "source": [
        "epots_train = en_trans_train.flatten() * kcalpermol2eV\n",
        "epots_test = en_trans_test.flatten() * kcalpermol2eV\n",
        "grads_train = grads_trans_train * kcalpermol2eV\n",
        "grads_test = grads_trans_test * kcalpermol2eV"
      ]
    },
    {
      "cell_type": "code",
      "execution_count": null,
      "metadata": {
        "colab": {
          "base_uri": "https://localhost:8080/"
        },
        "id": "ExU-bYt4437L",
        "outputId": "a51b6052-36c5-4900-b582-d6376dac0e65"
      },
      "outputs": [
        {
          "output_type": "execute_result",
          "data": {
            "text/plain": [
              "array([-5217.51587023, -5218.8213772 , -5218.59084958, ...,\n",
              "       -5218.75436138, -5217.85755231, -5218.67243021])"
            ]
          },
          "metadata": {},
          "execution_count": 12
        }
      ],
      "source": [
        "epots_train"
      ]
    },
    {
      "cell_type": "code",
      "execution_count": null,
      "metadata": {
        "id": "rX81SoKdyL1v"
      },
      "outputs": [],
      "source": [
        "atoms = np.tile(np.array(1 * [6] + 1 * [8] + 2 * [6] + 4 * [1]), (45000, 1))\n",
        "acrolein_train = molecular_database.from_numpy(coordinates_trans_train, atoms)"
      ]
    },
    {
      "cell_type": "code",
      "execution_count": null,
      "metadata": {
        "colab": {
          "base_uri": "https://localhost:8080/"
        },
        "id": "caDLo1Aw1wTQ",
        "outputId": "b62de763-f0fb-4bab-86fd-df801b4aa2ef"
      },
      "outputs": [
        {
          "output_type": "execute_result",
          "data": {
            "text/plain": [
              "(45000, 8)"
            ]
          },
          "metadata": {},
          "execution_count": 14
        }
      ],
      "source": [
        "acrolein_train.element_symbols.shape"
      ]
    },
    {
      "cell_type": "code",
      "execution_count": null,
      "metadata": {
        "colab": {
          "base_uri": "https://localhost:8080/"
        },
        "id": "VP1braDw1_t3",
        "outputId": "045b49c6-8d35-4199-efbf-53457682395f"
      },
      "outputs": [
        {
          "output_type": "execute_result",
          "data": {
            "text/plain": [
              "(45000, 8, 3)"
            ]
          },
          "metadata": {},
          "execution_count": 15
        }
      ],
      "source": [
        "acrolein_train.xyz_coordinates.shape"
      ]
    },
    {
      "cell_type": "code",
      "execution_count": null,
      "metadata": {
        "colab": {
          "base_uri": "https://localhost:8080/"
        },
        "id": "gdpl5_O62CdX",
        "outputId": "30ec080e-958f-45f5-f074-ec8ee9ae91e9"
      },
      "outputs": [
        {
          "output_type": "execute_result",
          "data": {
            "text/plain": [
              "['__add__',\n",
              " '__class__',\n",
              " '__delattr__',\n",
              " '__dict__',\n",
              " '__dir__',\n",
              " '__doc__',\n",
              " '__eq__',\n",
              " '__format__',\n",
              " '__ge__',\n",
              " '__getattribute__',\n",
              " '__getitem__',\n",
              " '__gt__',\n",
              " '__hash__',\n",
              " '__init__',\n",
              " '__init_subclass__',\n",
              " '__iter__',\n",
              " '__le__',\n",
              " '__len__',\n",
              " '__lt__',\n",
              " '__module__',\n",
              " '__ne__',\n",
              " '__new__',\n",
              " '__reduce__',\n",
              " '__reduce_ex__',\n",
              " '__repr__',\n",
              " '__setattr__',\n",
              " '__sizeof__',\n",
              " '__str__',\n",
              " '__subclasshook__',\n",
              " '__weakref__',\n",
              " '_is_uniform_cell',\n",
              " '_load',\n",
              " 'add_hessian_properties',\n",
              " 'add_scalar_properties',\n",
              " 'add_scalar_properties_from_file',\n",
              " 'add_xyz_derivative_properties',\n",
              " 'add_xyz_derivative_properties_from_file',\n",
              " 'add_xyz_vectorial_properties',\n",
              " 'add_xyz_vectorial_properties_from_file',\n",
              " 'add_xyz_vectorial_properties_from_string',\n",
              " 'append',\n",
              " 'atomic_numbers',\n",
              " 'batches',\n",
              " 'charges',\n",
              " 'copy',\n",
              " 'dump',\n",
              " 'element_symbols',\n",
              " 'filter_by_property',\n",
              " 'from_numpy',\n",
              " 'from_smiles_file',\n",
              " 'from_smiles_string',\n",
              " 'from_xyz_file',\n",
              " 'from_xyz_string',\n",
              " 'get_atomic_numbers',\n",
              " 'get_element_symbols',\n",
              " 'get_number_of_atoms',\n",
              " 'get_properties',\n",
              " 'get_xyz_derivative_properties',\n",
              " 'get_xyz_string',\n",
              " 'get_xyz_vectorial_properties',\n",
              " 'ids',\n",
              " 'load',\n",
              " 'molecules',\n",
              " 'multiplicities',\n",
              " 'nuclear_masses',\n",
              " 'number_of_atoms',\n",
              " 'proliferate',\n",
              " 'read_from_numpy',\n",
              " 'read_from_smiles_file',\n",
              " 'read_from_smiles_string',\n",
              " 'read_from_xyz_file',\n",
              " 'read_from_xyz_string',\n",
              " 'set_properties',\n",
              " 'size',\n",
              " 'smiles',\n",
              " 'split',\n",
              " 'sum_properties',\n",
              " 'write_file_energy_gradients',\n",
              " 'write_file_with_hessian',\n",
              " 'write_file_with_properties',\n",
              " 'write_file_with_smiles',\n",
              " 'write_file_with_xyz_coordinates',\n",
              " 'write_file_with_xyz_derivative_properties',\n",
              " 'write_file_with_xyz_vectorial_properties',\n",
              " 'xyz_coordinates']"
            ]
          },
          "metadata": {},
          "execution_count": 16
        }
      ],
      "source": [
        "dir(acrolein_train)"
      ]
    },
    {
      "cell_type": "code",
      "execution_count": null,
      "metadata": {
        "id": "ENGGDrGz2FTw"
      },
      "outputs": [],
      "source": [
        "acrolein_train.add_scalar_properties(epots_train, \"energy\")"
      ]
    },
    {
      "cell_type": "code",
      "execution_count": null,
      "metadata": {
        "id": "HdYhO-VbS5Ef"
      },
      "outputs": [],
      "source": [
        "acrolein_train.add_xyz_derivative_properties(grads_train, \"energy\", \"energy_grad\")"
      ]
    },
    {
      "cell_type": "code",
      "execution_count": null,
      "metadata": {
        "colab": {
          "base_uri": "https://localhost:8080/"
        },
        "id": "ecLlx9wP2OwC",
        "outputId": "24f98597-fbde-4125-b2d7-e608c04ad431"
      },
      "outputs": [
        {
          "output_type": "execute_result",
          "data": {
            "text/plain": [
              "45000"
            ]
          },
          "metadata": {},
          "execution_count": 19
        }
      ],
      "source": [
        "acrolein_train.size"
      ]
    },
    {
      "cell_type": "code",
      "execution_count": null,
      "metadata": {
        "colab": {
          "base_uri": "https://localhost:8080/"
        },
        "id": "sKo7_E-K4M2G",
        "outputId": "291ed725-bd21-4a78-cd64-dfaf7104ea65"
      },
      "outputs": [
        {
          "output_type": "execute_result",
          "data": {
            "text/plain": [
              "(45000,)"
            ]
          },
          "metadata": {},
          "execution_count": 20
        }
      ],
      "source": [
        "acrolein_train.get_properties('energy').shape"
      ]
    },
    {
      "cell_type": "code",
      "execution_count": null,
      "metadata": {
        "colab": {
          "base_uri": "https://localhost:8080/"
        },
        "id": "Z5KKyFCBTFVx",
        "outputId": "e997342b-3ba1-4189-a8fe-ad6ad5c545b3"
      },
      "outputs": [
        {
          "output_type": "execute_result",
          "data": {
            "text/plain": [
              "(45000, 8, 3)"
            ]
          },
          "metadata": {},
          "execution_count": 21
        }
      ],
      "source": [
        "acrolein_train.get_xyz_derivative_properties('energy_grad').shape"
      ]
    },
    {
      "cell_type": "code",
      "execution_count": null,
      "metadata": {
        "id": "bBHu6Civ3fn-"
      },
      "outputs": [],
      "source": [
        "import random\n",
        "import torch\n",
        "import os\n",
        "import sys\n",
        "import numpy as np\n",
        "import pandas as pd\n",
        "import ulamdyn as ulmd\n",
        "import torch\n",
        "import torchani\n",
        "from mlatom.data import molecular_database, molecule\n",
        "from mlatom.interfaces.torchani_interface import ani\n",
        "from mlatom.constants import Hartree2eV, Angstrom2Bohr"
      ]
    },
    {
      "cell_type": "code",
      "execution_count": null,
      "metadata": {
        "id": "WEat_Cfphy1-"
      },
      "outputs": [],
      "source": [
        "def set_seed(seed):\n",
        "    # Set the seed for the Python random module\n",
        "    random.seed(seed)\n",
        "\n",
        "    # Set the seed for NumPy\n",
        "    np.random.seed(seed)\n",
        "\n",
        "    # Set the seed for PyTorch (CPU)\n",
        "    torch.manual_seed(seed)\n",
        "\n",
        "    # If using a GPU, set the seed for PyTorch (GPU)\n",
        "    if torch.cuda.is_available():\n",
        "        torch.cuda.manual_seed(seed)\n",
        "        torch.cuda.manual_seed_all(seed)  # if you are using multi-GPU.\n",
        "\n",
        "    # Ensure deterministic behavior for some operations\n",
        "    torch.backends.cudnn.deterministic = True\n",
        "    torch.backends.cudnn.benchmark = False\n",
        "\n",
        "# Set a seed value\n",
        "seed = 0\n",
        "set_seed(seed)"
      ]
    },
    {
      "cell_type": "code",
      "execution_count": null,
      "metadata": {
        "id": "sJHpYOs6rFkQ"
      },
      "outputs": [],
      "source": [
        "hyperparams = models.hyperparameters({\n",
        "        #### Training ####\n",
        "        'batch_size':           models.hyperparameter(value=128, minval=1, maxval=1024, optimization_space='linear', dtype=int),\n",
        "        'max_epochs':           models.hyperparameter(value=1000, minval=100, maxval=1000000, optimization_space='log', dtype=int),\n",
        "        'learning_rate':                    models.hyperparameter(value=0.001, minval=0.0001, maxval=0.01, optimization_space='log'),\n",
        "        'early_stopping_learning_rate':     models.hyperparameter(value=1.0E-7, minval=1.0E-6, maxval=1.0E-4, optimization_space='log'),\n",
        "        'lr_reduce_patience':   models.hyperparameter(value=50, minval=16, maxval=256, optimization_space='linear'),\n",
        "        'lr_reduce_factor':     models.hyperparameter(value=0.8, minval=0.1, maxval=0.9, optimization_space='linear'),\n",
        "        'lr_reduce_threshold':  models.hyperparameter(value=0.0, minval=-0.01, maxval=0.01, optimization_space='linear'),\n",
        "        #### Loss ####\n",
        "        'force_coefficient':    models.hyperparameter(value=0.1, minval=0.05, maxval=5, optimization_space='linear'),\n",
        "        'median_loss':          models.hyperparameter(value=False),\n",
        "        'validation_loss_type': models.hyperparameter(value='mean_RMSE', choices=['MSE', 'mean_RMSE']),\n",
        "        #### Network ####\n",
        "        \"neurons\":              models.hyperparameter(value=[[72, 64, 64, 16]]),\n",
        "        \"activation_function\":  models.hyperparameter(value=lambda: torch.nn.ReLU(), optimization_space='choice', choices=[\"CELU\", \"ReLU\", \"GELU\"]),\n",
        "        \"fixed_layers\":         models.hyperparameter(value=False),\n",
        "        #### AEV ####\n",
        "        'Rcr':                  models.hyperparameter(value=5.2000e+00, minval=1.0, maxval=10.0, optimization_space='linear'),\n",
        "        'Rca':                  models.hyperparameter(value=3.5000e+00, minval=1.0, maxval=10.0, optimization_space='linear'),\n",
        "        'EtaR':                 models.hyperparameter(value=[1.6000000e+01]),\n",
        "        'ShfR':                 models.hyperparameter(value=[9.0000000e-01, 1.1687500e+00, 1.4375000e+00, 1.7062500e+00, 1.9750000e+00, 2.2437500e+00, 2.5125000e+00, 2.7812500e+00, 3.0500000e+00, 3.3187500e+00, 3.5875000e+00, 3.8562500e+00, 4.1250000e+00, 4.3937500e+00, 4.6625000e+00, 4.9312500e+00]),\n",
        "        'Zeta':                 models.hyperparameter(value=[3.2000000e+01]),\n",
        "        'ShfZ':                 models.hyperparameter(value=[1.9634954e-01, 5.8904862e-01, 9.8174770e-01, 1.3744468e+00, 1.7671459e+00, 2.1598449e+00, 2.5525440e+00, 2.9452431e+00]),\n",
        "        'EtaA':                 models.hyperparameter(value=[8.0000000e+00]),\n",
        "        'ShfA':                 models.hyperparameter(value=[9.0000000e-01, 1.5500000e+00, 2.2000000e+00, 2.8500000e+00]),\n",
        "    })"
      ]
    },
    {
      "cell_type": "code",
      "execution_count": null,
      "metadata": {
        "colab": {
          "base_uri": "https://localhost:8080/"
        },
        "id": "Y_J70_Kz3qqn",
        "outputId": "7022d174-4c24-4696-a6de-41b126b241b0"
      },
      "outputs": [
        {
          "output_type": "stream",
          "name": "stdout",
          "text": [
            "the trained ANI model will be saved in ani_acrolein.pt\n"
          ]
        }
      ],
      "source": [
        "model_ani = ani(\"ani_acrolein.pt\")\n",
        "model_ani.hyperparameters = hyperparams"
      ]
    },
    {
      "cell_type": "code",
      "execution_count": null,
      "metadata": {
        "colab": {
          "base_uri": "https://localhost:8080/"
        },
        "id": "dfHvFwXo3vVf",
        "outputId": "d17deb3b-4c05-46fb-9ae1-111f1c60c774"
      },
      "outputs": [
        {
          "metadata": {
            "tags": null
          },
          "name": "stdout",
          "output_type": "stream",
          "text": [
            "Sequential(\n",
            "  (0): AEVComputer()\n",
            "  (1): ANIModel(\n",
            "    (C): Sequential(\n",
            "      (0): Linear(in_features=240, out_features=72, bias=True)\n",
            "      (1): ReLU()\n",
            "      (2): Linear(in_features=72, out_features=64, bias=True)\n",
            "      (3): ReLU()\n",
            "      (4): Linear(in_features=64, out_features=64, bias=True)\n",
            "      (5): ReLU()\n",
            "      (6): Linear(in_features=64, out_features=16, bias=True)\n",
            "      (7): ReLU()\n",
            "      (8): Linear(in_features=16, out_features=1, bias=True)\n",
            "    )\n",
            "    (H): Sequential(\n",
            "      (0): Linear(in_features=240, out_features=72, bias=True)\n",
            "      (1): ReLU()\n",
            "      (2): Linear(in_features=72, out_features=64, bias=True)\n",
            "      (3): ReLU()\n",
            "      (4): Linear(in_features=64, out_features=64, bias=True)\n",
            "      (5): ReLU()\n",
            "      (6): Linear(in_features=64, out_features=16, bias=True)\n",
            "      (7): ReLU()\n",
            "      (8): Linear(in_features=16, out_features=1, bias=True)\n",
            "    )\n",
            "    (O): Sequential(\n",
            "      (0): Linear(in_features=240, out_features=72, bias=True)\n",
            "      (1): ReLU()\n",
            "      (2): Linear(in_features=72, out_features=64, bias=True)\n",
            "      (3): ReLU()\n",
            "      (4): Linear(in_features=64, out_features=64, bias=True)\n",
            "      (5): ReLU()\n",
            "      (6): Linear(in_features=64, out_features=16, bias=True)\n",
            "      (7): ReLU()\n",
            "      (8): Linear(in_features=16, out_features=1, bias=True)\n",
            "    )\n",
            "  )\n",
            ")\n",
            "training starting from epoch 1\n",
            "validation loss: 0.06470415518018935 at epoch 1\n",
            "learning_rate: 0.001\n",
            "model saved in ani_acrolein.pt\n"
          ]
        },
        {
          "metadata": {
            "tags": null
          },
          "name": "stderr",
          "output_type": "stream",
          "text": [
            "epoch 1: 100%|██████████| 282/282 [00:07<00:00, 35.96it/s]\n"
          ]
        },
        {
          "metadata": {
            "tags": null
          },
          "name": "stdout",
          "output_type": "stream",
          "text": [
            "validation loss: 0.006240892320871353 at epoch 2\n",
            "learning_rate: 0.001\n",
            "model saved in ani_acrolein.pt\n"
          ]
        },
        {
          "metadata": {
            "tags": null
          },
          "name": "stderr",
          "output_type": "stream",
          "text": [
            "epoch 2: 100%|██████████| 282/282 [00:07<00:00, 36.21it/s]\n"
          ]
        },
        {
          "metadata": {
            "tags": null
          },
          "name": "stdout",
          "output_type": "stream",
          "text": [
            "validation loss: 0.01006397079759174 at epoch 3\n",
            "learning_rate: 0.001\n"
          ]
        },
        {
          "metadata": {
            "tags": null
          },
          "name": "stderr",
          "output_type": "stream",
          "text": [
            "epoch 3: 100%|██████████| 282/282 [00:08<00:00, 35.09it/s]\n"
          ]
        },
        {
          "metadata": {
            "tags": null
          },
          "name": "stdout",
          "output_type": "stream",
          "text": [
            "validation loss: 0.003702368848853641 at epoch 4\n",
            "learning_rate: 0.001\n",
            "model saved in ani_acrolein.pt\n"
          ]
        },
        {
          "metadata": {
            "tags": null
          },
          "name": "stderr",
          "output_type": "stream",
          "text": [
            "epoch 4: 100%|██████████| 282/282 [00:07<00:00, 38.56it/s]\n"
          ]
        },
        {
          "metadata": {
            "tags": null
          },
          "name": "stdout",
          "output_type": "stream",
          "text": [
            "validation loss: 0.0025389999714162613 at epoch 5\n",
            "learning_rate: 0.001\n",
            "model saved in ani_acrolein.pt\n"
          ]
        },
        {
          "metadata": {
            "tags": null
          },
          "name": "stderr",
          "output_type": "stream",
          "text": [
            "epoch 5: 100%|██████████| 282/282 [00:07<00:00, 36.67it/s]\n"
          ]
        },
        {
          "metadata": {
            "tags": null
          },
          "name": "stdout",
          "output_type": "stream",
          "text": [
            "validation loss: 0.002255463891559177 at epoch 6\n",
            "learning_rate: 0.001\n",
            "model saved in ani_acrolein.pt\n"
          ]
        },
        {
          "metadata": {
            "tags": null
          },
          "name": "stderr",
          "output_type": "stream",
          "text": [
            "epoch 6: 100%|██████████| 282/282 [00:07<00:00, 35.28it/s]\n"
          ]
        },
        {
          "metadata": {
            "tags": null
          },
          "name": "stdout",
          "output_type": "stream",
          "text": [
            "validation loss: 0.0023703059719668495 at epoch 7\n",
            "learning_rate: 0.001\n"
          ]
        },
        {
          "metadata": {
            "tags": null
          },
          "name": "stderr",
          "output_type": "stream",
          "text": [
            "epoch 7: 100%|██████████| 282/282 [00:07<00:00, 38.82it/s]\n"
          ]
        },
        {
          "metadata": {
            "tags": null
          },
          "name": "stdout",
          "output_type": "stream",
          "text": [
            "validation loss: 0.0037996118946207894 at epoch 8\n",
            "learning_rate: 0.001\n"
          ]
        },
        {
          "metadata": {
            "tags": null
          },
          "name": "stderr",
          "output_type": "stream",
          "text": [
            "epoch 8: 100%|██████████| 282/282 [00:07<00:00, 36.05it/s]\n"
          ]
        },
        {
          "metadata": {
            "tags": null
          },
          "name": "stdout",
          "output_type": "stream",
          "text": [
            "validation loss: 0.002029325294825766 at epoch 9\n",
            "learning_rate: 0.001\n",
            "model saved in ani_acrolein.pt\n"
          ]
        },
        {
          "metadata": {
            "tags": null
          },
          "name": "stderr",
          "output_type": "stream",
          "text": [
            "epoch 9: 100%|██████████| 282/282 [00:08<00:00, 35.20it/s]\n"
          ]
        },
        {
          "metadata": {
            "tags": null
          },
          "name": "stdout",
          "output_type": "stream",
          "text": [
            "validation loss: 0.003513203062944942 at epoch 10\n",
            "learning_rate: 0.001\n"
          ]
        },
        {
          "metadata": {
            "tags": null
          },
          "name": "stderr",
          "output_type": "stream",
          "text": [
            "epoch 10: 100%|██████████| 282/282 [00:07<00:00, 39.21it/s]\n"
          ]
        },
        {
          "metadata": {
            "tags": null
          },
          "name": "stdout",
          "output_type": "stream",
          "text": [
            "validation loss: 0.005104890730645921 at epoch 11\n",
            "learning_rate: 0.001\n"
          ]
        },
        {
          "metadata": {
            "tags": null
          },
          "name": "stderr",
          "output_type": "stream",
          "text": [
            "epoch 11: 100%|██████████| 282/282 [00:08<00:00, 35.05it/s]\n"
          ]
        },
        {
          "metadata": {
            "tags": null
          },
          "name": "stdout",
          "output_type": "stream",
          "text": [
            "validation loss: 0.005181316249900394 at epoch 12\n",
            "learning_rate: 0.001\n"
          ]
        },
        {
          "metadata": {
            "tags": null
          },
          "name": "stderr",
          "output_type": "stream",
          "text": [
            "epoch 12: 100%|██████████| 282/282 [00:08<00:00, 35.00it/s]\n"
          ]
        },
        {
          "metadata": {
            "tags": null
          },
          "name": "stdout",
          "output_type": "stream",
          "text": [
            "validation loss: 0.003415102016594675 at epoch 13\n",
            "learning_rate: 0.001\n"
          ]
        },
        {
          "metadata": {
            "tags": null
          },
          "name": "stderr",
          "output_type": "stream",
          "text": [
            "epoch 13: 100%|██████████| 282/282 [00:07<00:00, 38.88it/s]\n"
          ]
        },
        {
          "metadata": {
            "tags": null
          },
          "name": "stdout",
          "output_type": "stream",
          "text": [
            "validation loss: 0.002525432546933492 at epoch 14\n",
            "learning_rate: 0.001\n"
          ]
        },
        {
          "metadata": {
            "tags": null
          },
          "name": "stderr",
          "output_type": "stream",
          "text": [
            "epoch 14: 100%|██████████| 282/282 [00:10<00:00, 27.91it/s]\n"
          ]
        },
        {
          "metadata": {
            "tags": null
          },
          "name": "stdout",
          "output_type": "stream",
          "text": [
            "validation loss: 0.0017000567507412699 at epoch 15\n",
            "learning_rate: 0.001\n",
            "model saved in ani_acrolein.pt\n"
          ]
        },
        {
          "metadata": {
            "tags": null
          },
          "name": "stderr",
          "output_type": "stream",
          "text": [
            "epoch 15: 100%|██████████| 282/282 [00:09<00:00, 30.03it/s]\n"
          ]
        },
        {
          "metadata": {
            "tags": null
          },
          "name": "stdout",
          "output_type": "stream",
          "text": [
            "validation loss: 0.0025567454795042675 at epoch 16\n",
            "learning_rate: 0.001\n"
          ]
        },
        {
          "metadata": {
            "tags": null
          },
          "name": "stderr",
          "output_type": "stream",
          "text": [
            "epoch 16: 100%|██████████| 282/282 [00:08<00:00, 35.01it/s]\n"
          ]
        },
        {
          "metadata": {
            "tags": null
          },
          "name": "stdout",
          "output_type": "stream",
          "text": [
            "validation loss: 0.0018165634142027962 at epoch 17\n",
            "learning_rate: 0.001\n"
          ]
        },
        {
          "metadata": {
            "tags": null
          },
          "name": "stderr",
          "output_type": "stream",
          "text": [
            "epoch 17: 100%|██████████| 282/282 [00:07<00:00, 39.34it/s]\n"
          ]
        },
        {
          "metadata": {
            "tags": null
          },
          "name": "stdout",
          "output_type": "stream",
          "text": [
            "validation loss: 0.003467527465687858 at epoch 18\n",
            "learning_rate: 0.001\n"
          ]
        },
        {
          "metadata": {
            "tags": null
          },
          "name": "stderr",
          "output_type": "stream",
          "text": [
            "epoch 18: 100%|██████████| 282/282 [00:07<00:00, 35.48it/s]\n"
          ]
        },
        {
          "metadata": {
            "tags": null
          },
          "name": "stdout",
          "output_type": "stream",
          "text": [
            "validation loss: 0.001911112910343541 at epoch 19\n",
            "learning_rate: 0.001\n"
          ]
        },
        {
          "metadata": {
            "tags": null
          },
          "name": "stderr",
          "output_type": "stream",
          "text": [
            "epoch 19: 100%|██████████| 282/282 [00:07<00:00, 36.16it/s]\n"
          ]
        },
        {
          "metadata": {
            "tags": null
          },
          "name": "stdout",
          "output_type": "stream",
          "text": [
            "validation loss: 0.0028841942846775056 at epoch 20\n",
            "learning_rate: 0.001\n"
          ]
        },
        {
          "metadata": {
            "tags": null
          },
          "name": "stderr",
          "output_type": "stream",
          "text": [
            "epoch 20: 100%|██████████| 282/282 [00:07<00:00, 39.05it/s]\n"
          ]
        },
        {
          "metadata": {
            "tags": null
          },
          "name": "stdout",
          "output_type": "stream",
          "text": [
            "validation loss: 0.0025475755747821596 at epoch 21\n",
            "learning_rate: 0.001\n"
          ]
        },
        {
          "metadata": {
            "tags": null
          },
          "name": "stderr",
          "output_type": "stream",
          "text": [
            "epoch 21: 100%|██████████| 282/282 [00:08<00:00, 34.87it/s]\n"
          ]
        },
        {
          "metadata": {
            "tags": null
          },
          "name": "stdout",
          "output_type": "stream",
          "text": [
            "validation loss: 0.0027544716348250706 at epoch 22\n",
            "learning_rate: 0.001\n"
          ]
        },
        {
          "metadata": {
            "tags": null
          },
          "name": "stderr",
          "output_type": "stream",
          "text": [
            "epoch 22: 100%|██████████| 282/282 [00:08<00:00, 33.87it/s]\n"
          ]
        },
        {
          "metadata": {
            "tags": null
          },
          "name": "stdout",
          "output_type": "stream",
          "text": [
            "validation loss: 0.0015848678102095921 at epoch 23\n",
            "learning_rate: 0.001\n",
            "model saved in ani_acrolein.pt\n"
          ]
        },
        {
          "metadata": {
            "tags": null
          },
          "name": "stderr",
          "output_type": "stream",
          "text": [
            "epoch 23: 100%|██████████| 282/282 [00:07<00:00, 39.32it/s]\n"
          ]
        },
        {
          "metadata": {
            "tags": null
          },
          "name": "stdout",
          "output_type": "stream",
          "text": [
            "validation loss: 0.004691424654589759 at epoch 24\n",
            "learning_rate: 0.001\n"
          ]
        },
        {
          "metadata": {
            "tags": null
          },
          "name": "stderr",
          "output_type": "stream",
          "text": [
            "epoch 24: 100%|██████████| 282/282 [00:07<00:00, 35.36it/s]\n"
          ]
        },
        {
          "metadata": {
            "tags": null
          },
          "name": "stdout",
          "output_type": "stream",
          "text": [
            "validation loss: 0.001970201505555047 at epoch 25\n",
            "learning_rate: 0.001\n"
          ]
        },
        {
          "metadata": {
            "tags": null
          },
          "name": "stderr",
          "output_type": "stream",
          "text": [
            "epoch 25: 100%|██████████| 282/282 [00:07<00:00, 36.49it/s]\n"
          ]
        },
        {
          "metadata": {
            "tags": null
          },
          "name": "stdout",
          "output_type": "stream",
          "text": [
            "validation loss: 0.007090766396787431 at epoch 26\n",
            "learning_rate: 0.001\n"
          ]
        },
        {
          "metadata": {
            "tags": null
          },
          "name": "stderr",
          "output_type": "stream",
          "text": [
            "epoch 26: 100%|██████████| 282/282 [00:07<00:00, 38.88it/s]\n"
          ]
        },
        {
          "metadata": {
            "tags": null
          },
          "name": "stdout",
          "output_type": "stream",
          "text": [
            "validation loss: 0.0014587040924363666 at epoch 27\n",
            "learning_rate: 0.001\n",
            "model saved in ani_acrolein.pt\n"
          ]
        },
        {
          "metadata": {
            "tags": null
          },
          "name": "stderr",
          "output_type": "stream",
          "text": [
            "epoch 27: 100%|██████████| 282/282 [00:07<00:00, 35.30it/s]\n"
          ]
        },
        {
          "metadata": {
            "tags": null
          },
          "name": "stdout",
          "output_type": "stream",
          "text": [
            "validation loss: 0.0018437958185871443 at epoch 28\n",
            "learning_rate: 0.001\n"
          ]
        },
        {
          "metadata": {
            "tags": null
          },
          "name": "stderr",
          "output_type": "stream",
          "text": [
            "epoch 28: 100%|██████████| 282/282 [00:07<00:00, 37.07it/s]\n"
          ]
        },
        {
          "metadata": {
            "tags": null
          },
          "name": "stdout",
          "output_type": "stream",
          "text": [
            "validation loss: 0.0015935508045885297 at epoch 29\n",
            "learning_rate: 0.001\n"
          ]
        },
        {
          "metadata": {
            "tags": null
          },
          "name": "stderr",
          "output_type": "stream",
          "text": [
            "epoch 29: 100%|██████████| 282/282 [00:07<00:00, 37.59it/s]\n"
          ]
        },
        {
          "metadata": {
            "tags": null
          },
          "name": "stdout",
          "output_type": "stream",
          "text": [
            "validation loss: 0.001447230686744054 at epoch 30\n",
            "learning_rate: 0.001\n",
            "model saved in ani_acrolein.pt\n"
          ]
        },
        {
          "metadata": {
            "tags": null
          },
          "name": "stderr",
          "output_type": "stream",
          "text": [
            "epoch 30: 100%|██████████| 282/282 [00:08<00:00, 34.96it/s]\n"
          ]
        },
        {
          "metadata": {
            "tags": null
          },
          "name": "stdout",
          "output_type": "stream",
          "text": [
            "validation loss: 0.0019018335317571957 at epoch 31\n",
            "learning_rate: 0.001\n"
          ]
        },
        {
          "metadata": {
            "tags": null
          },
          "name": "stderr",
          "output_type": "stream",
          "text": [
            "epoch 31: 100%|██████████| 282/282 [00:07<00:00, 38.25it/s]\n"
          ]
        },
        {
          "metadata": {
            "tags": null
          },
          "name": "stdout",
          "output_type": "stream",
          "text": [
            "validation loss: 0.0023575633880164888 at epoch 32\n",
            "learning_rate: 0.001\n"
          ]
        },
        {
          "metadata": {
            "tags": null
          },
          "name": "stderr",
          "output_type": "stream",
          "text": [
            "epoch 32: 100%|██████████| 282/282 [00:07<00:00, 36.48it/s]\n"
          ]
        },
        {
          "metadata": {
            "tags": null
          },
          "name": "stdout",
          "output_type": "stream",
          "text": [
            "validation loss: 0.0015827900593479475 at epoch 33\n",
            "learning_rate: 0.001\n"
          ]
        },
        {
          "metadata": {
            "tags": null
          },
          "name": "stderr",
          "output_type": "stream",
          "text": [
            "epoch 33: 100%|██████████| 282/282 [00:08<00:00, 35.01it/s]\n"
          ]
        },
        {
          "metadata": {
            "tags": null
          },
          "name": "stdout",
          "output_type": "stream",
          "text": [
            "validation loss: 0.004559665676620271 at epoch 34\n",
            "learning_rate: 0.001\n"
          ]
        },
        {
          "metadata": {
            "tags": null
          },
          "name": "stderr",
          "output_type": "stream",
          "text": [
            "epoch 34: 100%|██████████| 282/282 [00:07<00:00, 38.16it/s]\n"
          ]
        },
        {
          "metadata": {
            "tags": null
          },
          "name": "stdout",
          "output_type": "stream",
          "text": [
            "validation loss: 0.0017339420351717208 at epoch 35\n",
            "learning_rate: 0.001\n"
          ]
        },
        {
          "metadata": {
            "tags": null
          },
          "name": "stderr",
          "output_type": "stream",
          "text": [
            "epoch 35: 100%|██████████| 282/282 [00:07<00:00, 36.42it/s]\n"
          ]
        },
        {
          "metadata": {
            "tags": null
          },
          "name": "stdout",
          "output_type": "stream",
          "text": [
            "validation loss: 0.0016267847758200435 at epoch 36\n",
            "learning_rate: 0.001\n"
          ]
        },
        {
          "metadata": {
            "tags": null
          },
          "name": "stderr",
          "output_type": "stream",
          "text": [
            "epoch 36: 100%|██████████| 282/282 [00:08<00:00, 34.87it/s]\n"
          ]
        },
        {
          "metadata": {
            "tags": null
          },
          "name": "stdout",
          "output_type": "stream",
          "text": [
            "validation loss: 0.0019770786149634254 at epoch 37\n",
            "learning_rate: 0.001\n"
          ]
        },
        {
          "metadata": {
            "tags": null
          },
          "name": "stderr",
          "output_type": "stream",
          "text": [
            "epoch 37: 100%|██████████| 282/282 [00:07<00:00, 38.91it/s]\n"
          ]
        },
        {
          "metadata": {
            "tags": null
          },
          "name": "stdout",
          "output_type": "stream",
          "text": [
            "validation loss: 0.002807257756590843 at epoch 38\n",
            "learning_rate: 0.001\n"
          ]
        },
        {
          "metadata": {
            "tags": null
          },
          "name": "stderr",
          "output_type": "stream",
          "text": [
            "epoch 38: 100%|██████████| 282/282 [00:08<00:00, 35.01it/s]\n"
          ]
        },
        {
          "metadata": {
            "tags": null
          },
          "name": "stdout",
          "output_type": "stream",
          "text": [
            "validation loss: 0.0013542457843820255 at epoch 39\n",
            "learning_rate: 0.001\n",
            "model saved in ani_acrolein.pt\n"
          ]
        },
        {
          "metadata": {
            "tags": null
          },
          "name": "stderr",
          "output_type": "stream",
          "text": [
            "epoch 39: 100%|██████████| 282/282 [00:08<00:00, 34.44it/s]\n"
          ]
        },
        {
          "metadata": {
            "tags": null
          },
          "name": "stdout",
          "output_type": "stream",
          "text": [
            "validation loss: 0.0025742677963442274 at epoch 40\n",
            "learning_rate: 0.001\n"
          ]
        },
        {
          "metadata": {
            "tags": null
          },
          "name": "stderr",
          "output_type": "stream",
          "text": [
            "epoch 40: 100%|██████████| 282/282 [00:07<00:00, 39.01it/s]\n"
          ]
        },
        {
          "metadata": {
            "tags": null
          },
          "name": "stdout",
          "output_type": "stream",
          "text": [
            "validation loss: 0.0017604364711377356 at epoch 41\n",
            "learning_rate: 0.001\n"
          ]
        },
        {
          "metadata": {
            "tags": null
          },
          "name": "stderr",
          "output_type": "stream",
          "text": [
            "epoch 41: 100%|██████████| 282/282 [00:07<00:00, 35.41it/s]\n"
          ]
        },
        {
          "metadata": {
            "tags": null
          },
          "name": "stdout",
          "output_type": "stream",
          "text": [
            "validation loss: 0.004051028241713842 at epoch 42\n",
            "learning_rate: 0.001\n"
          ]
        },
        {
          "metadata": {
            "tags": null
          },
          "name": "stderr",
          "output_type": "stream",
          "text": [
            "epoch 42: 100%|██████████| 282/282 [00:07<00:00, 35.28it/s]\n"
          ]
        },
        {
          "metadata": {
            "tags": null
          },
          "name": "stdout",
          "output_type": "stream",
          "text": [
            "validation loss: 0.0034715183956755533 at epoch 43\n",
            "learning_rate: 0.001\n"
          ]
        },
        {
          "metadata": {
            "tags": null
          },
          "name": "stderr",
          "output_type": "stream",
          "text": [
            "epoch 43: 100%|██████████| 282/282 [00:07<00:00, 38.77it/s]\n"
          ]
        },
        {
          "metadata": {
            "tags": null
          },
          "name": "stdout",
          "output_type": "stream",
          "text": [
            "validation loss: 0.0027945182687706418 at epoch 44\n",
            "learning_rate: 0.001\n"
          ]
        },
        {
          "metadata": {
            "tags": null
          },
          "name": "stderr",
          "output_type": "stream",
          "text": [
            "epoch 44: 100%|██████████| 282/282 [00:08<00:00, 34.76it/s]\n"
          ]
        },
        {
          "metadata": {
            "tags": null
          },
          "name": "stdout",
          "output_type": "stream",
          "text": [
            "validation loss: 0.0016487640448742443 at epoch 45\n",
            "learning_rate: 0.001\n"
          ]
        },
        {
          "metadata": {
            "tags": null
          },
          "name": "stderr",
          "output_type": "stream",
          "text": [
            "epoch 45: 100%|██████████| 282/282 [00:07<00:00, 35.34it/s]\n"
          ]
        },
        {
          "metadata": {
            "tags": null
          },
          "name": "stdout",
          "output_type": "stream",
          "text": [
            "validation loss: 0.0037661100659105514 at epoch 46\n",
            "learning_rate: 0.001\n"
          ]
        },
        {
          "metadata": {
            "tags": null
          },
          "name": "stderr",
          "output_type": "stream",
          "text": [
            "epoch 46: 100%|██████████| 282/282 [00:07<00:00, 38.83it/s]\n"
          ]
        },
        {
          "metadata": {
            "tags": null
          },
          "name": "stdout",
          "output_type": "stream",
          "text": [
            "validation loss: 0.0019386232958899603 at epoch 47\n",
            "learning_rate: 0.001\n"
          ]
        },
        {
          "metadata": {
            "tags": null
          },
          "name": "stderr",
          "output_type": "stream",
          "text": [
            "epoch 47: 100%|██████████| 282/282 [00:08<00:00, 34.78it/s]\n"
          ]
        },
        {
          "metadata": {
            "tags": null
          },
          "name": "stdout",
          "output_type": "stream",
          "text": [
            "validation loss: 0.002213150045937962 at epoch 48\n",
            "learning_rate: 0.001\n"
          ]
        },
        {
          "metadata": {
            "tags": null
          },
          "name": "stderr",
          "output_type": "stream",
          "text": [
            "epoch 48: 100%|██████████| 282/282 [00:08<00:00, 34.99it/s]\n"
          ]
        },
        {
          "metadata": {
            "tags": null
          },
          "name": "stdout",
          "output_type": "stream",
          "text": [
            "validation loss: 0.0014459767821762297 at epoch 49\n",
            "learning_rate: 0.001\n"
          ]
        },
        {
          "metadata": {
            "tags": null
          },
          "name": "stderr",
          "output_type": "stream",
          "text": [
            "epoch 49: 100%|██████████| 282/282 [00:07<00:00, 39.03it/s]\n"
          ]
        },
        {
          "metadata": {
            "tags": null
          },
          "name": "stdout",
          "output_type": "stream",
          "text": [
            "validation loss: 0.0015286473309000332 at epoch 50\n",
            "learning_rate: 0.001\n"
          ]
        },
        {
          "metadata": {
            "tags": null
          },
          "name": "stderr",
          "output_type": "stream",
          "text": [
            "epoch 50: 100%|██████████| 282/282 [00:08<00:00, 34.77it/s]\n"
          ]
        },
        {
          "metadata": {
            "tags": null
          },
          "name": "stdout",
          "output_type": "stream",
          "text": [
            "validation loss: 0.002044755126039187 at epoch 51\n",
            "learning_rate: 0.001\n"
          ]
        },
        {
          "metadata": {
            "tags": null
          },
          "name": "stderr",
          "output_type": "stream",
          "text": [
            "epoch 51: 100%|██████████| 282/282 [00:07<00:00, 36.16it/s]\n"
          ]
        },
        {
          "metadata": {
            "tags": null
          },
          "name": "stdout",
          "output_type": "stream",
          "text": [
            "validation loss: 0.001502278977798091 at epoch 52\n",
            "learning_rate: 0.001\n"
          ]
        },
        {
          "metadata": {
            "tags": null
          },
          "name": "stderr",
          "output_type": "stream",
          "text": [
            "epoch 52: 100%|██████████| 282/282 [00:07<00:00, 38.85it/s]\n"
          ]
        },
        {
          "metadata": {
            "tags": null
          },
          "name": "stdout",
          "output_type": "stream",
          "text": [
            "validation loss: 0.005639771855539746 at epoch 53\n",
            "learning_rate: 0.001\n"
          ]
        },
        {
          "metadata": {
            "tags": null
          },
          "name": "stderr",
          "output_type": "stream",
          "text": [
            "epoch 53: 100%|██████████| 282/282 [00:07<00:00, 35.30it/s]\n"
          ]
        },
        {
          "metadata": {
            "tags": null
          },
          "name": "stdout",
          "output_type": "stream",
          "text": [
            "validation loss: 0.0022885888516902923 at epoch 54\n",
            "learning_rate: 0.001\n"
          ]
        },
        {
          "metadata": {
            "tags": null
          },
          "name": "stderr",
          "output_type": "stream",
          "text": [
            "epoch 54: 100%|██████████| 282/282 [00:07<00:00, 37.05it/s]\n"
          ]
        },
        {
          "metadata": {
            "tags": null
          },
          "name": "stdout",
          "output_type": "stream",
          "text": [
            "validation loss: 0.002922842433055242 at epoch 55\n",
            "learning_rate: 0.001\n"
          ]
        },
        {
          "metadata": {
            "tags": null
          },
          "name": "stderr",
          "output_type": "stream",
          "text": [
            "epoch 55: 100%|██████████| 282/282 [00:07<00:00, 38.20it/s]\n"
          ]
        },
        {
          "metadata": {
            "tags": null
          },
          "name": "stdout",
          "output_type": "stream",
          "text": [
            "validation loss: 0.0017697732895612718 at epoch 56\n",
            "learning_rate: 0.001\n"
          ]
        },
        {
          "metadata": {
            "tags": null
          },
          "name": "stderr",
          "output_type": "stream",
          "text": [
            "epoch 56: 100%|██████████| 282/282 [00:07<00:00, 35.26it/s]\n"
          ]
        },
        {
          "metadata": {
            "tags": null
          },
          "name": "stdout",
          "output_type": "stream",
          "text": [
            "validation loss: 0.0014990498647093774 at epoch 57\n",
            "learning_rate: 0.001\n"
          ]
        },
        {
          "metadata": {
            "tags": null
          },
          "name": "stderr",
          "output_type": "stream",
          "text": [
            "epoch 57: 100%|██████████| 282/282 [00:07<00:00, 38.09it/s]\n"
          ]
        },
        {
          "metadata": {
            "tags": null
          },
          "name": "stdout",
          "output_type": "stream",
          "text": [
            "validation loss: 0.0024707617080873914 at epoch 58\n",
            "learning_rate: 0.001\n"
          ]
        },
        {
          "metadata": {
            "tags": null
          },
          "name": "stderr",
          "output_type": "stream",
          "text": [
            "epoch 58: 100%|██████████| 282/282 [00:07<00:00, 36.23it/s]\n"
          ]
        },
        {
          "metadata": {
            "tags": null
          },
          "name": "stdout",
          "output_type": "stream",
          "text": [
            "validation loss: 0.0025028834011819627 at epoch 59\n",
            "learning_rate: 0.001\n"
          ]
        },
        {
          "metadata": {
            "tags": null
          },
          "name": "stderr",
          "output_type": "stream",
          "text": [
            "epoch 59: 100%|██████████| 282/282 [00:08<00:00, 35.25it/s]\n"
          ]
        },
        {
          "metadata": {
            "tags": null
          },
          "name": "stdout",
          "output_type": "stream",
          "text": [
            "validation loss: 0.0032084416962332198 at epoch 60\n",
            "learning_rate: 0.001\n"
          ]
        },
        {
          "metadata": {
            "tags": null
          },
          "name": "stderr",
          "output_type": "stream",
          "text": [
            "epoch 60: 100%|██████████| 282/282 [00:07<00:00, 38.80it/s]\n"
          ]
        },
        {
          "metadata": {
            "tags": null
          },
          "name": "stdout",
          "output_type": "stream",
          "text": [
            "validation loss: 0.0039163080718782215 at epoch 61\n",
            "learning_rate: 0.001\n"
          ]
        },
        {
          "metadata": {
            "tags": null
          },
          "name": "stderr",
          "output_type": "stream",
          "text": [
            "epoch 61: 100%|██████████| 282/282 [00:07<00:00, 35.54it/s]\n"
          ]
        },
        {
          "metadata": {
            "tags": null
          },
          "name": "stdout",
          "output_type": "stream",
          "text": [
            "validation loss: 0.006601088441080517 at epoch 62\n",
            "learning_rate: 0.001\n"
          ]
        },
        {
          "metadata": {
            "tags": null
          },
          "name": "stderr",
          "output_type": "stream",
          "text": [
            "epoch 62: 100%|██████████| 282/282 [00:07<00:00, 35.29it/s]\n"
          ]
        },
        {
          "metadata": {
            "tags": null
          },
          "name": "stdout",
          "output_type": "stream",
          "text": [
            "validation loss: 0.003949815551439921 at epoch 63\n",
            "learning_rate: 0.001\n"
          ]
        },
        {
          "metadata": {
            "tags": null
          },
          "name": "stderr",
          "output_type": "stream",
          "text": [
            "epoch 63: 100%|██████████| 282/282 [00:07<00:00, 39.10it/s]\n"
          ]
        },
        {
          "metadata": {
            "tags": null
          },
          "name": "stdout",
          "output_type": "stream",
          "text": [
            "validation loss: 0.004169086903333664 at epoch 64\n",
            "learning_rate: 0.001\n"
          ]
        },
        {
          "metadata": {
            "tags": null
          },
          "name": "stderr",
          "output_type": "stream",
          "text": [
            "epoch 64: 100%|██████████| 282/282 [00:07<00:00, 35.43it/s]\n"
          ]
        },
        {
          "metadata": {
            "tags": null
          },
          "name": "stdout",
          "output_type": "stream",
          "text": [
            "validation loss: 0.004006033264928394 at epoch 65\n",
            "learning_rate: 0.001\n"
          ]
        },
        {
          "metadata": {
            "tags": null
          },
          "name": "stderr",
          "output_type": "stream",
          "text": [
            "epoch 65: 100%|██████████| 282/282 [00:08<00:00, 34.63it/s]\n"
          ]
        },
        {
          "metadata": {
            "tags": null
          },
          "name": "stdout",
          "output_type": "stream",
          "text": [
            "validation loss: 0.005489165441857444 at epoch 66\n",
            "learning_rate: 0.001\n"
          ]
        },
        {
          "metadata": {
            "tags": null
          },
          "name": "stderr",
          "output_type": "stream",
          "text": [
            "epoch 66: 100%|██████████| 282/282 [00:07<00:00, 38.98it/s]\n"
          ]
        },
        {
          "metadata": {
            "tags": null
          },
          "name": "stdout",
          "output_type": "stream",
          "text": [
            "validation loss: 0.0037731576677825715 at epoch 67\n",
            "learning_rate: 0.001\n"
          ]
        },
        {
          "metadata": {
            "tags": null
          },
          "name": "stderr",
          "output_type": "stream",
          "text": [
            "epoch 67: 100%|██████████| 282/282 [00:08<00:00, 34.77it/s]\n"
          ]
        },
        {
          "metadata": {
            "tags": null
          },
          "name": "stdout",
          "output_type": "stream",
          "text": [
            "validation loss: 0.0013663914319541719 at epoch 68\n",
            "learning_rate: 0.001\n"
          ]
        },
        {
          "metadata": {
            "tags": null
          },
          "name": "stderr",
          "output_type": "stream",
          "text": [
            "epoch 68: 100%|██████████| 282/282 [00:08<00:00, 34.65it/s]\n"
          ]
        },
        {
          "metadata": {
            "tags": null
          },
          "name": "stdout",
          "output_type": "stream",
          "text": [
            "validation loss: 0.003207592389649815 at epoch 69\n",
            "learning_rate: 0.001\n"
          ]
        },
        {
          "metadata": {
            "tags": null
          },
          "name": "stderr",
          "output_type": "stream",
          "text": [
            "epoch 69: 100%|██████████| 282/282 [00:07<00:00, 38.77it/s]\n"
          ]
        },
        {
          "metadata": {
            "tags": null
          },
          "name": "stdout",
          "output_type": "stream",
          "text": [
            "validation loss: 0.005288046230872472 at epoch 70\n",
            "learning_rate: 0.001\n"
          ]
        },
        {
          "metadata": {
            "tags": null
          },
          "name": "stderr",
          "output_type": "stream",
          "text": [
            "epoch 70: 100%|██████████| 282/282 [00:08<00:00, 35.18it/s]\n"
          ]
        },
        {
          "metadata": {
            "tags": null
          },
          "name": "stdout",
          "output_type": "stream",
          "text": [
            "validation loss: 0.0038389165252447127 at epoch 71\n",
            "learning_rate: 0.001\n"
          ]
        },
        {
          "metadata": {
            "tags": null
          },
          "name": "stderr",
          "output_type": "stream",
          "text": [
            "epoch 71: 100%|██████████| 282/282 [00:08<00:00, 34.58it/s]\n"
          ]
        },
        {
          "metadata": {
            "tags": null
          },
          "name": "stdout",
          "output_type": "stream",
          "text": [
            "validation loss: 0.006740909702248043 at epoch 72\n",
            "learning_rate: 0.001\n"
          ]
        },
        {
          "metadata": {
            "tags": null
          },
          "name": "stderr",
          "output_type": "stream",
          "text": [
            "epoch 72: 100%|██████████| 282/282 [00:07<00:00, 38.61it/s]\n"
          ]
        },
        {
          "metadata": {
            "tags": null
          },
          "name": "stdout",
          "output_type": "stream",
          "text": [
            "validation loss: 0.0024801845302184424 at epoch 73\n",
            "learning_rate: 0.001\n"
          ]
        },
        {
          "metadata": {
            "tags": null
          },
          "name": "stderr",
          "output_type": "stream",
          "text": [
            "epoch 73: 100%|██████████| 282/282 [00:08<00:00, 34.86it/s]\n"
          ]
        },
        {
          "metadata": {
            "tags": null
          },
          "name": "stdout",
          "output_type": "stream",
          "text": [
            "validation loss: 0.0026222377551926505 at epoch 74\n",
            "learning_rate: 0.001\n"
          ]
        },
        {
          "metadata": {
            "tags": null
          },
          "name": "stderr",
          "output_type": "stream",
          "text": [
            "epoch 74: 100%|██████████| 282/282 [00:07<00:00, 35.54it/s]\n"
          ]
        },
        {
          "metadata": {
            "tags": null
          },
          "name": "stdout",
          "output_type": "stream",
          "text": [
            "validation loss: 0.002182478838496738 at epoch 75\n",
            "learning_rate: 0.001\n"
          ]
        },
        {
          "metadata": {
            "tags": null
          },
          "name": "stderr",
          "output_type": "stream",
          "text": [
            "epoch 75: 100%|██████████| 282/282 [00:07<00:00, 38.51it/s]\n"
          ]
        },
        {
          "metadata": {
            "tags": null
          },
          "name": "stdout",
          "output_type": "stream",
          "text": [
            "validation loss: 0.00448757075270017 at epoch 76\n",
            "learning_rate: 0.001\n"
          ]
        },
        {
          "metadata": {
            "tags": null
          },
          "name": "stderr",
          "output_type": "stream",
          "text": [
            "epoch 76: 100%|██████████| 282/282 [00:08<00:00, 34.48it/s]\n"
          ]
        },
        {
          "metadata": {
            "tags": null
          },
          "name": "stdout",
          "output_type": "stream",
          "text": [
            "validation loss: 0.0029633346994717914 at epoch 77\n",
            "learning_rate: 0.001\n"
          ]
        },
        {
          "metadata": {
            "tags": null
          },
          "name": "stderr",
          "output_type": "stream",
          "text": [
            "epoch 77: 100%|██████████| 282/282 [00:07<00:00, 35.95it/s]\n"
          ]
        },
        {
          "metadata": {
            "tags": null
          },
          "name": "stdout",
          "output_type": "stream",
          "text": [
            "validation loss: 0.003009843604432212 at epoch 78\n",
            "learning_rate: 0.001\n"
          ]
        },
        {
          "metadata": {
            "tags": null
          },
          "name": "stderr",
          "output_type": "stream",
          "text": [
            "epoch 78: 100%|██████████| 282/282 [00:07<00:00, 38.16it/s]\n"
          ]
        },
        {
          "metadata": {
            "tags": null
          },
          "name": "stdout",
          "output_type": "stream",
          "text": [
            "validation loss: 0.0069237135383817885 at epoch 79\n",
            "learning_rate: 0.001\n"
          ]
        },
        {
          "metadata": {
            "tags": null
          },
          "name": "stderr",
          "output_type": "stream",
          "text": [
            "epoch 79: 100%|██████████| 282/282 [00:08<00:00, 35.02it/s]\n"
          ]
        },
        {
          "metadata": {
            "tags": null
          },
          "name": "stdout",
          "output_type": "stream",
          "text": [
            "validation loss: 0.005947651240560743 at epoch 80\n",
            "learning_rate: 0.001\n"
          ]
        },
        {
          "metadata": {
            "tags": null
          },
          "name": "stderr",
          "output_type": "stream",
          "text": [
            "epoch 80: 100%|██████████| 282/282 [00:07<00:00, 36.82it/s]\n"
          ]
        },
        {
          "metadata": {
            "tags": null
          },
          "name": "stdout",
          "output_type": "stream",
          "text": [
            "validation loss: 0.0014615597087475989 at epoch 81\n",
            "learning_rate: 0.001\n"
          ]
        },
        {
          "metadata": {
            "tags": null
          },
          "name": "stderr",
          "output_type": "stream",
          "text": [
            "epoch 81: 100%|██████████| 282/282 [00:07<00:00, 37.63it/s]\n"
          ]
        },
        {
          "metadata": {
            "tags": null
          },
          "name": "stdout",
          "output_type": "stream",
          "text": [
            "validation loss: 0.006746404982275433 at epoch 82\n",
            "learning_rate: 0.001\n"
          ]
        },
        {
          "metadata": {
            "tags": null
          },
          "name": "stderr",
          "output_type": "stream",
          "text": [
            "epoch 82: 100%|██████████| 282/282 [00:08<00:00, 35.09it/s]\n"
          ]
        },
        {
          "metadata": {
            "tags": null
          },
          "name": "stdout",
          "output_type": "stream",
          "text": [
            "validation loss: 0.003163482622967826 at epoch 83\n",
            "learning_rate: 0.001\n"
          ]
        },
        {
          "metadata": {
            "tags": null
          },
          "name": "stderr",
          "output_type": "stream",
          "text": [
            "epoch 83: 100%|██████████| 282/282 [00:07<00:00, 37.65it/s]\n"
          ]
        },
        {
          "metadata": {
            "tags": null
          },
          "name": "stdout",
          "output_type": "stream",
          "text": [
            "validation loss: 0.0027015630933973525 at epoch 84\n",
            "learning_rate: 0.001\n"
          ]
        },
        {
          "metadata": {
            "tags": null
          },
          "name": "stderr",
          "output_type": "stream",
          "text": [
            "epoch 84: 100%|██████████| 282/282 [00:07<00:00, 37.42it/s]\n"
          ]
        },
        {
          "metadata": {
            "tags": null
          },
          "name": "stdout",
          "output_type": "stream",
          "text": [
            "validation loss: 0.0032278100036912494 at epoch 85\n",
            "learning_rate: 0.001\n"
          ]
        },
        {
          "metadata": {
            "tags": null
          },
          "name": "stderr",
          "output_type": "stream",
          "text": [
            "epoch 85: 100%|██████████| 282/282 [00:08<00:00, 35.09it/s]\n"
          ]
        },
        {
          "metadata": {
            "tags": null
          },
          "name": "stdout",
          "output_type": "stream",
          "text": [
            "validation loss: 0.0019924836514724625 at epoch 86\n",
            "learning_rate: 0.001\n"
          ]
        },
        {
          "metadata": {
            "tags": null
          },
          "name": "stderr",
          "output_type": "stream",
          "text": [
            "epoch 86: 100%|██████████| 282/282 [00:07<00:00, 38.09it/s]\n"
          ]
        },
        {
          "metadata": {
            "tags": null
          },
          "name": "stdout",
          "output_type": "stream",
          "text": [
            "validation loss: 0.00621871100531684 at epoch 87\n",
            "learning_rate: 0.001\n"
          ]
        },
        {
          "metadata": {
            "tags": null
          },
          "name": "stderr",
          "output_type": "stream",
          "text": [
            "epoch 87: 100%|██████████| 282/282 [00:07<00:00, 36.55it/s]\n"
          ]
        },
        {
          "metadata": {
            "tags": null
          },
          "name": "stdout",
          "output_type": "stream",
          "text": [
            "validation loss: 0.0018744599529438549 at epoch 88\n",
            "learning_rate: 0.001\n"
          ]
        },
        {
          "metadata": {
            "tags": null
          },
          "name": "stderr",
          "output_type": "stream",
          "text": [
            "epoch 88: 100%|██████████| 282/282 [00:07<00:00, 35.45it/s]\n"
          ]
        },
        {
          "metadata": {
            "tags": null
          },
          "name": "stdout",
          "output_type": "stream",
          "text": [
            "validation loss: 0.004243969781531228 at epoch 89\n",
            "learning_rate: 0.001\n"
          ]
        },
        {
          "metadata": {
            "tags": null
          },
          "name": "stderr",
          "output_type": "stream",
          "text": [
            "epoch 89: 100%|██████████| 282/282 [00:07<00:00, 39.20it/s]\n"
          ]
        },
        {
          "metadata": {
            "tags": null
          },
          "name": "stdout",
          "output_type": "stream",
          "text": [
            "validation loss: 0.002742503856619199 at epoch 90\n",
            "learning_rate: 0.001\n"
          ]
        },
        {
          "metadata": {
            "tags": null
          },
          "name": "stderr",
          "output_type": "stream",
          "text": [
            "epoch 90: 100%|██████████| 282/282 [00:07<00:00, 35.96it/s]\n"
          ]
        },
        {
          "metadata": {
            "tags": null
          },
          "name": "stdout",
          "output_type": "stream",
          "text": [
            "validation loss: 0.0013679008897807864 at epoch 91\n",
            "learning_rate: 0.0008\n"
          ]
        },
        {
          "metadata": {
            "tags": null
          },
          "name": "stderr",
          "output_type": "stream",
          "text": [
            "epoch 91: 100%|██████████| 282/282 [00:07<00:00, 35.38it/s]\n"
          ]
        },
        {
          "metadata": {
            "tags": null
          },
          "name": "stdout",
          "output_type": "stream",
          "text": [
            "validation loss: 0.0016393784085909525 at epoch 92\n",
            "learning_rate: 0.0008\n"
          ]
        },
        {
          "metadata": {
            "tags": null
          },
          "name": "stderr",
          "output_type": "stream",
          "text": [
            "epoch 92: 100%|██████████| 282/282 [00:07<00:00, 38.76it/s]\n"
          ]
        },
        {
          "metadata": {
            "tags": null
          },
          "name": "stdout",
          "output_type": "stream",
          "text": [
            "validation loss: 0.001952165250149038 at epoch 93\n",
            "learning_rate: 0.0008\n"
          ]
        },
        {
          "metadata": {
            "tags": null
          },
          "name": "stderr",
          "output_type": "stream",
          "text": [
            "epoch 93: 100%|██████████| 282/282 [00:07<00:00, 35.73it/s]\n"
          ]
        },
        {
          "metadata": {
            "tags": null
          },
          "name": "stdout",
          "output_type": "stream",
          "text": [
            "validation loss: 0.0015010280435283979 at epoch 94\n",
            "learning_rate: 0.0008\n"
          ]
        },
        {
          "metadata": {
            "tags": null
          },
          "name": "stderr",
          "output_type": "stream",
          "text": [
            "epoch 94: 100%|██████████| 282/282 [00:08<00:00, 35.00it/s]\n"
          ]
        },
        {
          "metadata": {
            "tags": null
          },
          "name": "stdout",
          "output_type": "stream",
          "text": [
            "validation loss: 0.0019381336329711808 at epoch 95\n",
            "learning_rate: 0.0008\n"
          ]
        },
        {
          "metadata": {
            "tags": null
          },
          "name": "stderr",
          "output_type": "stream",
          "text": [
            "epoch 95: 100%|██████████| 282/282 [00:07<00:00, 39.29it/s]\n"
          ]
        },
        {
          "metadata": {
            "tags": null
          },
          "name": "stdout",
          "output_type": "stream",
          "text": [
            "validation loss: 0.002369114321139124 at epoch 96\n",
            "learning_rate: 0.0008\n"
          ]
        },
        {
          "metadata": {
            "tags": null
          },
          "name": "stderr",
          "output_type": "stream",
          "text": [
            "epoch 96: 100%|██████████| 282/282 [00:07<00:00, 35.49it/s]\n"
          ]
        },
        {
          "metadata": {
            "tags": null
          },
          "name": "stdout",
          "output_type": "stream",
          "text": [
            "validation loss: 0.002049809105694294 at epoch 97\n",
            "learning_rate: 0.0008\n"
          ]
        },
        {
          "metadata": {
            "tags": null
          },
          "name": "stderr",
          "output_type": "stream",
          "text": [
            "epoch 97: 100%|██████████| 282/282 [00:08<00:00, 35.15it/s]\n"
          ]
        },
        {
          "metadata": {
            "tags": null
          },
          "name": "stdout",
          "output_type": "stream",
          "text": [
            "validation loss: 0.0015917982566687795 at epoch 98\n",
            "learning_rate: 0.0008\n"
          ]
        },
        {
          "metadata": {
            "tags": null
          },
          "name": "stderr",
          "output_type": "stream",
          "text": [
            "epoch 98: 100%|██████████| 282/282 [00:07<00:00, 39.19it/s]\n"
          ]
        },
        {
          "metadata": {
            "tags": null
          },
          "name": "stdout",
          "output_type": "stream",
          "text": [
            "validation loss: 0.004922315239906311 at epoch 99\n",
            "learning_rate: 0.0008\n"
          ]
        },
        {
          "metadata": {
            "tags": null
          },
          "name": "stderr",
          "output_type": "stream",
          "text": [
            "epoch 99: 100%|██████████| 282/282 [00:08<00:00, 34.86it/s]\n"
          ]
        },
        {
          "metadata": {
            "tags": null
          },
          "name": "stdout",
          "output_type": "stream",
          "text": [
            "validation loss: 0.006874550001488792 at epoch 100\n",
            "learning_rate: 0.0008\n"
          ]
        },
        {
          "metadata": {
            "tags": null
          },
          "name": "stderr",
          "output_type": "stream",
          "text": [
            "epoch 100: 100%|██████████| 282/282 [00:07<00:00, 35.52it/s]\n"
          ]
        },
        {
          "metadata": {
            "tags": null
          },
          "name": "stdout",
          "output_type": "stream",
          "text": [
            "validation loss: 0.0016577028102344937 at epoch 101\n",
            "learning_rate: 0.0008\n"
          ]
        },
        {
          "metadata": {
            "tags": null
          },
          "name": "stderr",
          "output_type": "stream",
          "text": [
            "epoch 101: 100%|██████████| 282/282 [00:07<00:00, 39.05it/s]\n"
          ]
        },
        {
          "metadata": {
            "tags": null
          },
          "name": "stdout",
          "output_type": "stream",
          "text": [
            "validation loss: 0.0030125875820716224 at epoch 102\n",
            "learning_rate: 0.0008\n"
          ]
        },
        {
          "metadata": {
            "tags": null
          },
          "name": "stderr",
          "output_type": "stream",
          "text": [
            "epoch 102: 100%|██████████| 282/282 [00:08<00:00, 35.20it/s]\n"
          ]
        },
        {
          "metadata": {
            "tags": null
          },
          "name": "stdout",
          "output_type": "stream",
          "text": [
            "validation loss: 0.002533050744069947 at epoch 103\n",
            "learning_rate: 0.0008\n"
          ]
        },
        {
          "metadata": {
            "tags": null
          },
          "name": "stderr",
          "output_type": "stream",
          "text": [
            "epoch 103: 100%|██████████| 282/282 [00:07<00:00, 35.45it/s]\n"
          ]
        },
        {
          "metadata": {
            "tags": null
          },
          "name": "stdout",
          "output_type": "stream",
          "text": [
            "validation loss: 0.0020619317673974567 at epoch 104\n",
            "learning_rate: 0.0008\n"
          ]
        },
        {
          "metadata": {
            "tags": null
          },
          "name": "stderr",
          "output_type": "stream",
          "text": [
            "epoch 104: 100%|██████████| 282/282 [00:07<00:00, 38.73it/s]\n"
          ]
        },
        {
          "metadata": {
            "tags": null
          },
          "name": "stdout",
          "output_type": "stream",
          "text": [
            "validation loss: 0.00500002763999833 at epoch 105\n",
            "learning_rate: 0.0008\n"
          ]
        },
        {
          "metadata": {
            "tags": null
          },
          "name": "stderr",
          "output_type": "stream",
          "text": [
            "epoch 105: 100%|██████████| 282/282 [00:08<00:00, 34.77it/s]\n"
          ]
        },
        {
          "metadata": {
            "tags": null
          },
          "name": "stdout",
          "output_type": "stream",
          "text": [
            "validation loss: 0.0012649268392059538 at epoch 106\n",
            "learning_rate: 0.0008\n",
            "model saved in ani_acrolein.pt\n"
          ]
        },
        {
          "metadata": {
            "tags": null
          },
          "name": "stderr",
          "output_type": "stream",
          "text": [
            "epoch 106: 100%|██████████| 282/282 [00:07<00:00, 36.38it/s]\n"
          ]
        },
        {
          "metadata": {
            "tags": null
          },
          "name": "stdout",
          "output_type": "stream",
          "text": [
            "validation loss: 0.0028003609528144202 at epoch 107\n",
            "learning_rate: 0.0008\n"
          ]
        },
        {
          "metadata": {
            "tags": null
          },
          "name": "stderr",
          "output_type": "stream",
          "text": [
            "epoch 107: 100%|██████████| 282/282 [00:07<00:00, 38.17it/s]\n"
          ]
        },
        {
          "metadata": {
            "tags": null
          },
          "name": "stdout",
          "output_type": "stream",
          "text": [
            "validation loss: 0.002244612920615408 at epoch 108\n",
            "learning_rate: 0.0008\n"
          ]
        },
        {
          "metadata": {
            "tags": null
          },
          "name": "stderr",
          "output_type": "stream",
          "text": [
            "epoch 108: 100%|██████████| 282/282 [00:08<00:00, 34.93it/s]\n"
          ]
        },
        {
          "metadata": {
            "tags": null
          },
          "name": "stdout",
          "output_type": "stream",
          "text": [
            "validation loss: 0.0033069507165087593 at epoch 109\n",
            "learning_rate: 0.0008\n"
          ]
        },
        {
          "metadata": {
            "tags": null
          },
          "name": "stderr",
          "output_type": "stream",
          "text": [
            "epoch 109: 100%|██████████| 282/282 [00:07<00:00, 37.40it/s]\n"
          ]
        },
        {
          "metadata": {
            "tags": null
          },
          "name": "stdout",
          "output_type": "stream",
          "text": [
            "validation loss: 0.004182445194986131 at epoch 110\n",
            "learning_rate: 0.0008\n"
          ]
        },
        {
          "metadata": {
            "tags": null
          },
          "name": "stderr",
          "output_type": "stream",
          "text": [
            "epoch 110: 100%|██████████| 282/282 [00:07<00:00, 37.35it/s]\n"
          ]
        },
        {
          "metadata": {
            "tags": null
          },
          "name": "stdout",
          "output_type": "stream",
          "text": [
            "validation loss: 0.0019906091110573876 at epoch 111\n",
            "learning_rate: 0.0008\n"
          ]
        },
        {
          "metadata": {
            "tags": null
          },
          "name": "stderr",
          "output_type": "stream",
          "text": [
            "epoch 111: 100%|██████████| 282/282 [00:08<00:00, 34.98it/s]\n"
          ]
        },
        {
          "metadata": {
            "tags": null
          },
          "name": "stdout",
          "output_type": "stream",
          "text": [
            "validation loss: 0.0026103607184357115 at epoch 112\n",
            "learning_rate: 0.0008\n"
          ]
        },
        {
          "metadata": {
            "tags": null
          },
          "name": "stderr",
          "output_type": "stream",
          "text": [
            "epoch 112: 100%|██████████| 282/282 [00:07<00:00, 39.06it/s]\n"
          ]
        },
        {
          "metadata": {
            "tags": null
          },
          "name": "stdout",
          "output_type": "stream",
          "text": [
            "validation loss: 0.0015961850401428012 at epoch 113\n",
            "learning_rate: 0.0008\n"
          ]
        },
        {
          "metadata": {
            "tags": null
          },
          "name": "stderr",
          "output_type": "stream",
          "text": [
            "epoch 113: 100%|██████████| 282/282 [00:07<00:00, 35.71it/s]\n"
          ]
        },
        {
          "metadata": {
            "tags": null
          },
          "name": "stdout",
          "output_type": "stream",
          "text": [
            "validation loss: 0.0031300286683771344 at epoch 114\n",
            "learning_rate: 0.0008\n"
          ]
        },
        {
          "metadata": {
            "tags": null
          },
          "name": "stderr",
          "output_type": "stream",
          "text": [
            "epoch 114: 100%|██████████| 282/282 [00:08<00:00, 34.64it/s]\n"
          ]
        },
        {
          "metadata": {
            "tags": null
          },
          "name": "stdout",
          "output_type": "stream",
          "text": [
            "validation loss: 0.0012363173266251883 at epoch 115\n",
            "learning_rate: 0.0008\n",
            "model saved in ani_acrolein.pt\n"
          ]
        },
        {
          "metadata": {
            "tags": null
          },
          "name": "stderr",
          "output_type": "stream",
          "text": [
            "epoch 115: 100%|██████████| 282/282 [00:07<00:00, 39.09it/s]\n"
          ]
        },
        {
          "metadata": {
            "tags": null
          },
          "name": "stdout",
          "output_type": "stream",
          "text": [
            "validation loss: 0.0014914602819416259 at epoch 116\n",
            "learning_rate: 0.0008\n"
          ]
        },
        {
          "metadata": {
            "tags": null
          },
          "name": "stderr",
          "output_type": "stream",
          "text": [
            "epoch 116: 100%|██████████| 282/282 [00:07<00:00, 35.66it/s]\n"
          ]
        },
        {
          "metadata": {
            "tags": null
          },
          "name": "stdout",
          "output_type": "stream",
          "text": [
            "validation loss: 0.0013105334498816066 at epoch 117\n",
            "learning_rate: 0.0008\n"
          ]
        },
        {
          "metadata": {
            "tags": null
          },
          "name": "stderr",
          "output_type": "stream",
          "text": [
            "epoch 117: 100%|██████████| 282/282 [00:08<00:00, 34.82it/s]\n"
          ]
        },
        {
          "metadata": {
            "tags": null
          },
          "name": "stdout",
          "output_type": "stream",
          "text": [
            "validation loss: 0.006123412880632613 at epoch 118\n",
            "learning_rate: 0.0008\n"
          ]
        },
        {
          "metadata": {
            "tags": null
          },
          "name": "stderr",
          "output_type": "stream",
          "text": [
            "epoch 118: 100%|██████████| 282/282 [00:07<00:00, 38.85it/s]\n"
          ]
        },
        {
          "metadata": {
            "tags": null
          },
          "name": "stdout",
          "output_type": "stream",
          "text": [
            "validation loss: 0.0014155393499467109 at epoch 119\n",
            "learning_rate: 0.0008\n"
          ]
        },
        {
          "metadata": {
            "tags": null
          },
          "name": "stderr",
          "output_type": "stream",
          "text": [
            "epoch 119: 100%|██████████| 282/282 [00:08<00:00, 35.05it/s]\n"
          ]
        },
        {
          "metadata": {
            "tags": null
          },
          "name": "stdout",
          "output_type": "stream",
          "text": [
            "validation loss: 0.001254022323836883 at epoch 120\n",
            "learning_rate: 0.0008\n"
          ]
        },
        {
          "metadata": {
            "tags": null
          },
          "name": "stderr",
          "output_type": "stream",
          "text": [
            "epoch 120: 100%|██████████| 282/282 [00:08<00:00, 34.82it/s]\n"
          ]
        },
        {
          "metadata": {
            "tags": null
          },
          "name": "stdout",
          "output_type": "stream",
          "text": [
            "validation loss: 0.005988222638765971 at epoch 121\n",
            "learning_rate: 0.0008\n"
          ]
        },
        {
          "metadata": {
            "tags": null
          },
          "name": "stderr",
          "output_type": "stream",
          "text": [
            "epoch 121: 100%|██████████| 282/282 [00:07<00:00, 38.69it/s]\n"
          ]
        },
        {
          "metadata": {
            "tags": null
          },
          "name": "stdout",
          "output_type": "stream",
          "text": [
            "validation loss: 0.001389345295727253 at epoch 122\n",
            "learning_rate: 0.0008\n"
          ]
        },
        {
          "metadata": {
            "tags": null
          },
          "name": "stderr",
          "output_type": "stream",
          "text": [
            "epoch 122: 100%|██████████| 282/282 [00:08<00:00, 34.83it/s]\n"
          ]
        },
        {
          "metadata": {
            "tags": null
          },
          "name": "stdout",
          "output_type": "stream",
          "text": [
            "validation loss: 0.0018591200063625972 at epoch 123\n",
            "learning_rate: 0.0008\n"
          ]
        },
        {
          "metadata": {
            "tags": null
          },
          "name": "stderr",
          "output_type": "stream",
          "text": [
            "epoch 123: 100%|██████████| 282/282 [00:07<00:00, 35.33it/s]\n"
          ]
        },
        {
          "metadata": {
            "tags": null
          },
          "name": "stdout",
          "output_type": "stream",
          "text": [
            "validation loss: 0.0013577231193582218 at epoch 124\n",
            "learning_rate: 0.0008\n"
          ]
        },
        {
          "metadata": {
            "tags": null
          },
          "name": "stderr",
          "output_type": "stream",
          "text": [
            "epoch 124: 100%|██████████| 282/282 [00:07<00:00, 38.72it/s]\n"
          ]
        },
        {
          "metadata": {
            "tags": null
          },
          "name": "stdout",
          "output_type": "stream",
          "text": [
            "validation loss: 0.0013949609622359276 at epoch 125\n",
            "learning_rate: 0.0008\n"
          ]
        },
        {
          "metadata": {
            "tags": null
          },
          "name": "stderr",
          "output_type": "stream",
          "text": [
            "epoch 125: 100%|██████████| 282/282 [00:07<00:00, 35.63it/s]\n"
          ]
        },
        {
          "metadata": {
            "tags": null
          },
          "name": "stdout",
          "output_type": "stream",
          "text": [
            "validation loss: 0.0028269484755065705 at epoch 126\n",
            "learning_rate: 0.0008\n"
          ]
        },
        {
          "metadata": {
            "tags": null
          },
          "name": "stderr",
          "output_type": "stream",
          "text": [
            "epoch 126: 100%|██████████| 282/282 [00:08<00:00, 34.62it/s]\n"
          ]
        },
        {
          "metadata": {
            "tags": null
          },
          "name": "stdout",
          "output_type": "stream",
          "text": [
            "validation loss: 0.0013531305053167872 at epoch 127\n",
            "learning_rate: 0.0008\n"
          ]
        },
        {
          "metadata": {
            "tags": null
          },
          "name": "stderr",
          "output_type": "stream",
          "text": [
            "epoch 127: 100%|██████████| 282/282 [00:07<00:00, 38.87it/s]\n"
          ]
        },
        {
          "metadata": {
            "tags": null
          },
          "name": "stdout",
          "output_type": "stream",
          "text": [
            "validation loss: 0.0020192949407630495 at epoch 128\n",
            "learning_rate: 0.0008\n"
          ]
        },
        {
          "metadata": {
            "tags": null
          },
          "name": "stderr",
          "output_type": "stream",
          "text": [
            "epoch 128: 100%|██████████| 282/282 [00:08<00:00, 35.03it/s]\n"
          ]
        },
        {
          "metadata": {
            "tags": null
          },
          "name": "stdout",
          "output_type": "stream",
          "text": [
            "validation loss: 0.0022517319437530305 at epoch 129\n",
            "learning_rate: 0.0008\n"
          ]
        },
        {
          "metadata": {
            "tags": null
          },
          "name": "stderr",
          "output_type": "stream",
          "text": [
            "epoch 129: 100%|██████████| 282/282 [00:07<00:00, 35.66it/s]\n"
          ]
        },
        {
          "metadata": {
            "tags": null
          },
          "name": "stdout",
          "output_type": "stream",
          "text": [
            "validation loss: 0.0021141050333778064 at epoch 130\n",
            "learning_rate: 0.0008\n"
          ]
        },
        {
          "metadata": {
            "tags": null
          },
          "name": "stderr",
          "output_type": "stream",
          "text": [
            "epoch 130: 100%|██████████| 282/282 [00:07<00:00, 38.62it/s]\n"
          ]
        },
        {
          "metadata": {
            "tags": null
          },
          "name": "stdout",
          "output_type": "stream",
          "text": [
            "validation loss: 0.0030425464775827196 at epoch 131\n",
            "learning_rate: 0.0008\n"
          ]
        },
        {
          "metadata": {
            "tags": null
          },
          "name": "stderr",
          "output_type": "stream",
          "text": [
            "epoch 131: 100%|██████████| 282/282 [00:08<00:00, 35.23it/s]\n"
          ]
        },
        {
          "metadata": {
            "tags": null
          },
          "name": "stdout",
          "output_type": "stream",
          "text": [
            "validation loss: 0.001489234122965071 at epoch 132\n",
            "learning_rate: 0.0008\n"
          ]
        },
        {
          "metadata": {
            "tags": null
          },
          "name": "stderr",
          "output_type": "stream",
          "text": [
            "epoch 132: 100%|██████████| 282/282 [00:07<00:00, 35.61it/s]\n"
          ]
        },
        {
          "metadata": {
            "tags": null
          },
          "name": "stdout",
          "output_type": "stream",
          "text": [
            "validation loss: 0.0015490408142407736 at epoch 133\n",
            "learning_rate: 0.0008\n"
          ]
        },
        {
          "metadata": {
            "tags": null
          },
          "name": "stderr",
          "output_type": "stream",
          "text": [
            "epoch 133: 100%|██████████| 282/282 [00:07<00:00, 38.82it/s]\n"
          ]
        },
        {
          "metadata": {
            "tags": null
          },
          "name": "stdout",
          "output_type": "stream",
          "text": [
            "validation loss: 0.0020441836797528796 at epoch 134\n",
            "learning_rate: 0.0008\n"
          ]
        },
        {
          "metadata": {
            "tags": null
          },
          "name": "stderr",
          "output_type": "stream",
          "text": [
            "epoch 134: 100%|██████████| 282/282 [00:08<00:00, 35.15it/s]\n"
          ]
        },
        {
          "metadata": {
            "tags": null
          },
          "name": "stdout",
          "output_type": "stream",
          "text": [
            "validation loss: 0.0016611285068922573 at epoch 135\n",
            "learning_rate: 0.0008\n"
          ]
        },
        {
          "metadata": {
            "tags": null
          },
          "name": "stderr",
          "output_type": "stream",
          "text": [
            "epoch 135: 100%|██████████| 282/282 [00:07<00:00, 36.18it/s]\n"
          ]
        },
        {
          "metadata": {
            "tags": null
          },
          "name": "stdout",
          "output_type": "stream",
          "text": [
            "validation loss: 0.002249887651867337 at epoch 136\n",
            "learning_rate: 0.0008\n"
          ]
        },
        {
          "metadata": {
            "tags": null
          },
          "name": "stderr",
          "output_type": "stream",
          "text": [
            "epoch 136: 100%|██████████| 282/282 [00:07<00:00, 38.76it/s]\n"
          ]
        },
        {
          "metadata": {
            "tags": null
          },
          "name": "stdout",
          "output_type": "stream",
          "text": [
            "validation loss: 0.001464449187119802 at epoch 137\n",
            "learning_rate: 0.0008\n"
          ]
        },
        {
          "metadata": {
            "tags": null
          },
          "name": "stderr",
          "output_type": "stream",
          "text": [
            "epoch 137: 100%|██████████| 282/282 [00:08<00:00, 34.29it/s]\n"
          ]
        },
        {
          "metadata": {
            "tags": null
          },
          "name": "stdout",
          "output_type": "stream",
          "text": [
            "validation loss: 0.0024896309193637636 at epoch 138\n",
            "learning_rate: 0.0008\n"
          ]
        },
        {
          "metadata": {
            "tags": null
          },
          "name": "stderr",
          "output_type": "stream",
          "text": [
            "epoch 138: 100%|██████████| 282/282 [00:07<00:00, 36.70it/s]\n"
          ]
        },
        {
          "metadata": {
            "tags": null
          },
          "name": "stdout",
          "output_type": "stream",
          "text": [
            "validation loss: 0.0022566280497445 at epoch 139\n",
            "learning_rate: 0.0008\n"
          ]
        },
        {
          "metadata": {
            "tags": null
          },
          "name": "stderr",
          "output_type": "stream",
          "text": [
            "epoch 139: 100%|██████████| 282/282 [00:07<00:00, 38.00it/s]\n"
          ]
        },
        {
          "metadata": {
            "tags": null
          },
          "name": "stdout",
          "output_type": "stream",
          "text": [
            "validation loss: 0.00493691235780716 at epoch 140\n",
            "learning_rate: 0.0008\n"
          ]
        },
        {
          "metadata": {
            "tags": null
          },
          "name": "stderr",
          "output_type": "stream",
          "text": [
            "epoch 140: 100%|██████████| 282/282 [00:08<00:00, 35.07it/s]\n"
          ]
        },
        {
          "metadata": {
            "tags": null
          },
          "name": "stdout",
          "output_type": "stream",
          "text": [
            "validation loss: 0.00220447166926331 at epoch 141\n",
            "learning_rate: 0.0008\n"
          ]
        },
        {
          "metadata": {
            "tags": null
          },
          "name": "stderr",
          "output_type": "stream",
          "text": [
            "epoch 141: 100%|██████████| 282/282 [00:07<00:00, 36.96it/s]\n"
          ]
        },
        {
          "metadata": {
            "tags": null
          },
          "name": "stdout",
          "output_type": "stream",
          "text": [
            "validation loss: 0.0030759608414438035 at epoch 142\n",
            "learning_rate: 0.0008\n"
          ]
        },
        {
          "metadata": {
            "tags": null
          },
          "name": "stderr",
          "output_type": "stream",
          "text": [
            "epoch 142: 100%|██████████| 282/282 [00:07<00:00, 37.62it/s]\n"
          ]
        },
        {
          "metadata": {
            "tags": null
          },
          "name": "stdout",
          "output_type": "stream",
          "text": [
            "validation loss: 0.0035980166527960033 at epoch 143\n",
            "learning_rate: 0.0008\n"
          ]
        },
        {
          "metadata": {
            "tags": null
          },
          "name": "stderr",
          "output_type": "stream",
          "text": [
            "epoch 143: 100%|██████████| 282/282 [00:08<00:00, 34.85it/s]\n"
          ]
        },
        {
          "metadata": {
            "tags": null
          },
          "name": "stdout",
          "output_type": "stream",
          "text": [
            "validation loss: 0.0014762046221229765 at epoch 144\n",
            "learning_rate: 0.0008\n"
          ]
        },
        {
          "metadata": {
            "tags": null
          },
          "name": "stderr",
          "output_type": "stream",
          "text": [
            "epoch 144: 100%|██████████| 282/282 [00:07<00:00, 37.89it/s]\n"
          ]
        },
        {
          "metadata": {
            "tags": null
          },
          "name": "stdout",
          "output_type": "stream",
          "text": [
            "validation loss: 0.003323073834180832 at epoch 145\n",
            "learning_rate: 0.0008\n"
          ]
        },
        {
          "metadata": {
            "tags": null
          },
          "name": "stderr",
          "output_type": "stream",
          "text": [
            "epoch 145: 100%|██████████| 282/282 [00:07<00:00, 36.63it/s]\n"
          ]
        },
        {
          "metadata": {
            "tags": null
          },
          "name": "stdout",
          "output_type": "stream",
          "text": [
            "validation loss: 0.0014328555737932523 at epoch 146\n",
            "learning_rate: 0.0008\n"
          ]
        },
        {
          "metadata": {
            "tags": null
          },
          "name": "stderr",
          "output_type": "stream",
          "text": [
            "epoch 146: 100%|██████████| 282/282 [00:07<00:00, 35.25it/s]\n"
          ]
        },
        {
          "metadata": {
            "tags": null
          },
          "name": "stdout",
          "output_type": "stream",
          "text": [
            "validation loss: 0.004547929724057515 at epoch 147\n",
            "learning_rate: 0.0008\n"
          ]
        },
        {
          "metadata": {
            "tags": null
          },
          "name": "stderr",
          "output_type": "stream",
          "text": [
            "epoch 147: 100%|██████████| 282/282 [00:07<00:00, 38.68it/s]\n"
          ]
        },
        {
          "metadata": {
            "tags": null
          },
          "name": "stdout",
          "output_type": "stream",
          "text": [
            "validation loss: 0.001964595640699069 at epoch 148\n",
            "learning_rate: 0.0008\n"
          ]
        },
        {
          "metadata": {
            "tags": null
          },
          "name": "stderr",
          "output_type": "stream",
          "text": [
            "epoch 148: 100%|██████████| 282/282 [00:07<00:00, 36.01it/s]\n"
          ]
        },
        {
          "metadata": {
            "tags": null
          },
          "name": "stdout",
          "output_type": "stream",
          "text": [
            "validation loss: 0.0017450573071837426 at epoch 149\n",
            "learning_rate: 0.0008\n"
          ]
        },
        {
          "metadata": {
            "tags": null
          },
          "name": "stderr",
          "output_type": "stream",
          "text": [
            "epoch 149: 100%|██████████| 282/282 [00:08<00:00, 35.20it/s]\n"
          ]
        },
        {
          "metadata": {
            "tags": null
          },
          "name": "stdout",
          "output_type": "stream",
          "text": [
            "validation loss: 0.003868863195180893 at epoch 150\n",
            "learning_rate: 0.0008\n"
          ]
        },
        {
          "metadata": {
            "tags": null
          },
          "name": "stderr",
          "output_type": "stream",
          "text": [
            "epoch 150: 100%|██████████| 282/282 [00:07<00:00, 38.61it/s]\n"
          ]
        },
        {
          "metadata": {
            "tags": null
          },
          "name": "stdout",
          "output_type": "stream",
          "text": [
            "validation loss: 0.002272892200284534 at epoch 151\n",
            "learning_rate: 0.0008\n"
          ]
        },
        {
          "metadata": {
            "tags": null
          },
          "name": "stderr",
          "output_type": "stream",
          "text": [
            "epoch 151: 100%|██████████| 282/282 [00:07<00:00, 35.36it/s]\n"
          ]
        },
        {
          "metadata": {
            "tags": null
          },
          "name": "stdout",
          "output_type": "stream",
          "text": [
            "validation loss: 0.003204962943991025 at epoch 152\n",
            "learning_rate: 0.0008\n"
          ]
        },
        {
          "metadata": {
            "tags": null
          },
          "name": "stderr",
          "output_type": "stream",
          "text": [
            "epoch 152: 100%|██████████| 282/282 [00:08<00:00, 34.57it/s]\n"
          ]
        },
        {
          "metadata": {
            "tags": null
          },
          "name": "stdout",
          "output_type": "stream",
          "text": [
            "validation loss: 0.001822388403945499 at epoch 153\n",
            "learning_rate: 0.0008\n"
          ]
        },
        {
          "metadata": {
            "tags": null
          },
          "name": "stderr",
          "output_type": "stream",
          "text": [
            "epoch 153: 100%|██████████| 282/282 [00:07<00:00, 38.86it/s]\n"
          ]
        },
        {
          "metadata": {
            "tags": null
          },
          "name": "stdout",
          "output_type": "stream",
          "text": [
            "validation loss: 0.002423292347126537 at epoch 154\n",
            "learning_rate: 0.0008\n"
          ]
        },
        {
          "metadata": {
            "tags": null
          },
          "name": "stderr",
          "output_type": "stream",
          "text": [
            "epoch 154: 100%|██████████| 282/282 [00:08<00:00, 34.59it/s]\n"
          ]
        },
        {
          "metadata": {
            "tags": null
          },
          "name": "stdout",
          "output_type": "stream",
          "text": [
            "validation loss: 0.003983369734552171 at epoch 155\n",
            "learning_rate: 0.0008\n"
          ]
        },
        {
          "metadata": {
            "tags": null
          },
          "name": "stderr",
          "output_type": "stream",
          "text": [
            "epoch 155: 100%|██████████| 282/282 [00:08<00:00, 34.86it/s]\n"
          ]
        },
        {
          "metadata": {
            "tags": null
          },
          "name": "stdout",
          "output_type": "stream",
          "text": [
            "validation loss: 0.005610945072438982 at epoch 156\n",
            "learning_rate: 0.0008\n"
          ]
        },
        {
          "metadata": {
            "tags": null
          },
          "name": "stderr",
          "output_type": "stream",
          "text": [
            "epoch 156: 100%|██████████| 282/282 [00:07<00:00, 38.72it/s]\n"
          ]
        },
        {
          "metadata": {
            "tags": null
          },
          "name": "stdout",
          "output_type": "stream",
          "text": [
            "validation loss: 0.0019771763566467497 at epoch 157\n",
            "learning_rate: 0.0008\n"
          ]
        },
        {
          "metadata": {
            "tags": null
          },
          "name": "stderr",
          "output_type": "stream",
          "text": [
            "epoch 157: 100%|██████████| 282/282 [00:08<00:00, 35.00it/s]\n"
          ]
        },
        {
          "metadata": {
            "tags": null
          },
          "name": "stdout",
          "output_type": "stream",
          "text": [
            "validation loss: 0.001277156958149539 at epoch 158\n",
            "learning_rate: 0.0008\n"
          ]
        },
        {
          "metadata": {
            "tags": null
          },
          "name": "stderr",
          "output_type": "stream",
          "text": [
            "epoch 158: 100%|██████████| 282/282 [00:08<00:00, 34.58it/s]\n"
          ]
        },
        {
          "metadata": {
            "tags": null
          },
          "name": "stdout",
          "output_type": "stream",
          "text": [
            "validation loss: 0.0022290348592731686 at epoch 159\n",
            "learning_rate: 0.0008\n"
          ]
        },
        {
          "metadata": {
            "tags": null
          },
          "name": "stderr",
          "output_type": "stream",
          "text": [
            "epoch 159: 100%|██████████| 282/282 [00:07<00:00, 38.68it/s]\n"
          ]
        },
        {
          "metadata": {
            "tags": null
          },
          "name": "stdout",
          "output_type": "stream",
          "text": [
            "validation loss: 0.0016877535523639785 at epoch 160\n",
            "learning_rate: 0.0008\n"
          ]
        },
        {
          "metadata": {
            "tags": null
          },
          "name": "stderr",
          "output_type": "stream",
          "text": [
            "epoch 160: 100%|██████████| 282/282 [00:08<00:00, 35.01it/s]\n"
          ]
        },
        {
          "metadata": {
            "tags": null
          },
          "name": "stdout",
          "output_type": "stream",
          "text": [
            "validation loss: 0.002163080977069007 at epoch 161\n",
            "learning_rate: 0.0008\n"
          ]
        },
        {
          "metadata": {
            "tags": null
          },
          "name": "stderr",
          "output_type": "stream",
          "text": [
            "epoch 161: 100%|██████████| 282/282 [00:08<00:00, 34.70it/s]\n"
          ]
        },
        {
          "metadata": {
            "tags": null
          },
          "name": "stdout",
          "output_type": "stream",
          "text": [
            "validation loss: 0.0015664812607897652 at epoch 162\n",
            "learning_rate: 0.0008\n"
          ]
        },
        {
          "metadata": {
            "tags": null
          },
          "name": "stderr",
          "output_type": "stream",
          "text": [
            "epoch 162: 100%|██████████| 282/282 [00:07<00:00, 38.59it/s]\n"
          ]
        },
        {
          "metadata": {
            "tags": null
          },
          "name": "stdout",
          "output_type": "stream",
          "text": [
            "validation loss: 0.001230378953119119 at epoch 163\n",
            "learning_rate: 0.0008\n",
            "model saved in ani_acrolein.pt\n"
          ]
        },
        {
          "metadata": {
            "tags": null
          },
          "name": "stderr",
          "output_type": "stream",
          "text": [
            "epoch 163: 100%|██████████| 282/282 [00:07<00:00, 35.33it/s]\n"
          ]
        },
        {
          "metadata": {
            "tags": null
          },
          "name": "stdout",
          "output_type": "stream",
          "text": [
            "validation loss: 0.0014441077154543666 at epoch 164\n",
            "learning_rate: 0.0008\n"
          ]
        },
        {
          "metadata": {
            "tags": null
          },
          "name": "stderr",
          "output_type": "stream",
          "text": [
            "epoch 164: 100%|██████████| 282/282 [00:08<00:00, 34.61it/s]\n"
          ]
        },
        {
          "metadata": {
            "tags": null
          },
          "name": "stdout",
          "output_type": "stream",
          "text": [
            "validation loss: 0.0030180512468020123 at epoch 165\n",
            "learning_rate: 0.0008\n"
          ]
        },
        {
          "metadata": {
            "tags": null
          },
          "name": "stderr",
          "output_type": "stream",
          "text": [
            "epoch 165: 100%|██████████| 282/282 [00:07<00:00, 38.72it/s]\n"
          ]
        },
        {
          "metadata": {
            "tags": null
          },
          "name": "stdout",
          "output_type": "stream",
          "text": [
            "validation loss: 0.001618897265030278 at epoch 166\n",
            "learning_rate: 0.0008\n"
          ]
        },
        {
          "metadata": {
            "tags": null
          },
          "name": "stderr",
          "output_type": "stream",
          "text": [
            "epoch 166: 100%|██████████| 282/282 [00:08<00:00, 34.07it/s]\n"
          ]
        },
        {
          "metadata": {
            "tags": null
          },
          "name": "stdout",
          "output_type": "stream",
          "text": [
            "validation loss: 0.001402063101530075 at epoch 167\n",
            "learning_rate: 0.0008\n"
          ]
        },
        {
          "metadata": {
            "tags": null
          },
          "name": "stderr",
          "output_type": "stream",
          "text": [
            "epoch 167: 100%|██████████| 282/282 [00:07<00:00, 35.52it/s]\n"
          ]
        },
        {
          "metadata": {
            "tags": null
          },
          "name": "stdout",
          "output_type": "stream",
          "text": [
            "validation loss: 0.0017559312797254987 at epoch 168\n",
            "learning_rate: 0.0008\n"
          ]
        },
        {
          "metadata": {
            "tags": null
          },
          "name": "stderr",
          "output_type": "stream",
          "text": [
            "epoch 168: 100%|██████████| 282/282 [00:07<00:00, 38.55it/s]\n"
          ]
        },
        {
          "metadata": {
            "tags": null
          },
          "name": "stdout",
          "output_type": "stream",
          "text": [
            "validation loss: 0.0039039255380630493 at epoch 169\n",
            "learning_rate: 0.0008\n"
          ]
        },
        {
          "metadata": {
            "tags": null
          },
          "name": "stderr",
          "output_type": "stream",
          "text": [
            "epoch 169: 100%|██████████| 282/282 [00:08<00:00, 35.09it/s]\n"
          ]
        },
        {
          "metadata": {
            "tags": null
          },
          "name": "stdout",
          "output_type": "stream",
          "text": [
            "validation loss: 0.0016198835836516486 at epoch 170\n",
            "learning_rate: 0.0008\n"
          ]
        },
        {
          "metadata": {
            "tags": null
          },
          "name": "stderr",
          "output_type": "stream",
          "text": [
            "epoch 170: 100%|██████████| 282/282 [00:07<00:00, 36.60it/s]\n"
          ]
        },
        {
          "metadata": {
            "tags": null
          },
          "name": "stdout",
          "output_type": "stream",
          "text": [
            "validation loss: 0.0013424628840552435 at epoch 171\n",
            "learning_rate: 0.0008\n"
          ]
        },
        {
          "metadata": {
            "tags": null
          },
          "name": "stderr",
          "output_type": "stream",
          "text": [
            "epoch 171: 100%|██████████| 282/282 [00:07<00:00, 38.14it/s]\n"
          ]
        },
        {
          "metadata": {
            "tags": null
          },
          "name": "stdout",
          "output_type": "stream",
          "text": [
            "validation loss: 0.003295368265774515 at epoch 172\n",
            "learning_rate: 0.0008\n"
          ]
        },
        {
          "metadata": {
            "tags": null
          },
          "name": "stderr",
          "output_type": "stream",
          "text": [
            "epoch 172: 100%|██████████| 282/282 [00:08<00:00, 34.85it/s]\n"
          ]
        },
        {
          "metadata": {
            "tags": null
          },
          "name": "stdout",
          "output_type": "stream",
          "text": [
            "validation loss: 0.0013425073648492495 at epoch 173\n",
            "learning_rate: 0.0008\n"
          ]
        },
        {
          "metadata": {
            "tags": null
          },
          "name": "stderr",
          "output_type": "stream",
          "text": [
            "epoch 173: 100%|██████████| 282/282 [00:07<00:00, 36.82it/s]\n"
          ]
        },
        {
          "metadata": {
            "tags": null
          },
          "name": "stdout",
          "output_type": "stream",
          "text": [
            "validation loss: 0.002031974568963051 at epoch 174\n",
            "learning_rate: 0.0008\n"
          ]
        },
        {
          "metadata": {
            "tags": null
          },
          "name": "stderr",
          "output_type": "stream",
          "text": [
            "epoch 174: 100%|██████████| 282/282 [00:07<00:00, 38.08it/s]\n"
          ]
        },
        {
          "metadata": {
            "tags": null
          },
          "name": "stdout",
          "output_type": "stream",
          "text": [
            "validation loss: 0.002840584706928995 at epoch 175\n",
            "learning_rate: 0.0008\n"
          ]
        },
        {
          "metadata": {
            "tags": null
          },
          "name": "stderr",
          "output_type": "stream",
          "text": [
            "epoch 175: 100%|██████████| 282/282 [00:08<00:00, 34.97it/s]\n"
          ]
        },
        {
          "metadata": {
            "tags": null
          },
          "name": "stdout",
          "output_type": "stream",
          "text": [
            "validation loss: 0.0013548018543256654 at epoch 176\n",
            "learning_rate: 0.0008\n"
          ]
        },
        {
          "metadata": {
            "tags": null
          },
          "name": "stderr",
          "output_type": "stream",
          "text": [
            "epoch 176: 100%|██████████| 282/282 [00:07<00:00, 37.50it/s]\n"
          ]
        },
        {
          "metadata": {
            "tags": null
          },
          "name": "stdout",
          "output_type": "stream",
          "text": [
            "validation loss: 0.002116744743453132 at epoch 177\n",
            "learning_rate: 0.0008\n"
          ]
        },
        {
          "metadata": {
            "tags": null
          },
          "name": "stderr",
          "output_type": "stream",
          "text": [
            "epoch 177: 100%|██████████| 282/282 [00:07<00:00, 37.10it/s]\n"
          ]
        },
        {
          "metadata": {
            "tags": null
          },
          "name": "stdout",
          "output_type": "stream",
          "text": [
            "validation loss: 0.0022239662723408807 at epoch 178\n",
            "learning_rate: 0.0008\n"
          ]
        },
        {
          "metadata": {
            "tags": null
          },
          "name": "stderr",
          "output_type": "stream",
          "text": [
            "epoch 178: 100%|██████████| 282/282 [00:08<00:00, 34.25it/s]\n"
          ]
        },
        {
          "metadata": {
            "tags": null
          },
          "name": "stdout",
          "output_type": "stream",
          "text": [
            "validation loss: 0.002394547267092599 at epoch 179\n",
            "learning_rate: 0.0008\n"
          ]
        },
        {
          "metadata": {
            "tags": null
          },
          "name": "stderr",
          "output_type": "stream",
          "text": [
            "epoch 179: 100%|██████████| 282/282 [00:07<00:00, 38.08it/s]\n"
          ]
        },
        {
          "metadata": {
            "tags": null
          },
          "name": "stdout",
          "output_type": "stream",
          "text": [
            "validation loss: 0.001572208207514551 at epoch 180\n",
            "learning_rate: 0.0008\n"
          ]
        },
        {
          "metadata": {
            "tags": null
          },
          "name": "stderr",
          "output_type": "stream",
          "text": [
            "epoch 180: 100%|██████████| 282/282 [00:07<00:00, 35.81it/s]\n"
          ]
        },
        {
          "metadata": {
            "tags": null
          },
          "name": "stdout",
          "output_type": "stream",
          "text": [
            "validation loss: 0.006490771793656879 at epoch 181\n",
            "learning_rate: 0.0008\n"
          ]
        },
        {
          "metadata": {
            "tags": null
          },
          "name": "stderr",
          "output_type": "stream",
          "text": [
            "epoch 181: 100%|██████████| 282/282 [00:08<00:00, 35.13it/s]\n"
          ]
        },
        {
          "metadata": {
            "tags": null
          },
          "name": "stdout",
          "output_type": "stream",
          "text": [
            "validation loss: 0.003413408973150783 at epoch 182\n",
            "learning_rate: 0.0008\n"
          ]
        },
        {
          "metadata": {
            "tags": null
          },
          "name": "stderr",
          "output_type": "stream",
          "text": [
            "epoch 182: 100%|██████████| 282/282 [00:07<00:00, 38.60it/s]\n"
          ]
        },
        {
          "metadata": {
            "tags": null
          },
          "name": "stdout",
          "output_type": "stream",
          "text": [
            "validation loss: 0.003915494624111388 at epoch 183\n",
            "learning_rate: 0.0008\n"
          ]
        },
        {
          "metadata": {
            "tags": null
          },
          "name": "stderr",
          "output_type": "stream",
          "text": [
            "epoch 183: 100%|██████████| 282/282 [00:07<00:00, 35.43it/s]\n"
          ]
        },
        {
          "metadata": {
            "tags": null
          },
          "name": "stdout",
          "output_type": "stream",
          "text": [
            "validation loss: 0.0013016453956564268 at epoch 184\n",
            "learning_rate: 0.0008\n"
          ]
        },
        {
          "metadata": {
            "tags": null
          },
          "name": "stderr",
          "output_type": "stream",
          "text": [
            "epoch 184: 100%|██████████| 282/282 [00:08<00:00, 34.84it/s]\n"
          ]
        },
        {
          "metadata": {
            "tags": null
          },
          "name": "stdout",
          "output_type": "stream",
          "text": [
            "validation loss: 0.0015025004976325564 at epoch 185\n",
            "learning_rate: 0.0008\n"
          ]
        },
        {
          "metadata": {
            "tags": null
          },
          "name": "stderr",
          "output_type": "stream",
          "text": [
            "epoch 185: 100%|██████████| 282/282 [00:07<00:00, 38.70it/s]\n"
          ]
        },
        {
          "metadata": {
            "tags": null
          },
          "name": "stdout",
          "output_type": "stream",
          "text": [
            "validation loss: 0.0024945776379770705 at epoch 186\n",
            "learning_rate: 0.0008\n"
          ]
        },
        {
          "metadata": {
            "tags": null
          },
          "name": "stderr",
          "output_type": "stream",
          "text": [
            "epoch 186: 100%|██████████| 282/282 [00:08<00:00, 34.94it/s]\n"
          ]
        },
        {
          "metadata": {
            "tags": null
          },
          "name": "stdout",
          "output_type": "stream",
          "text": [
            "validation loss: 0.0026373122251696058 at epoch 187\n",
            "learning_rate: 0.0008\n"
          ]
        },
        {
          "metadata": {
            "tags": null
          },
          "name": "stderr",
          "output_type": "stream",
          "text": [
            "epoch 187: 100%|██████████| 282/282 [00:08<00:00, 34.42it/s]\n"
          ]
        },
        {
          "metadata": {
            "tags": null
          },
          "name": "stdout",
          "output_type": "stream",
          "text": [
            "validation loss: 0.004088230080074734 at epoch 188\n",
            "learning_rate: 0.0008\n"
          ]
        },
        {
          "metadata": {
            "tags": null
          },
          "name": "stderr",
          "output_type": "stream",
          "text": [
            "epoch 188: 100%|██████████| 282/282 [00:07<00:00, 38.30it/s]\n"
          ]
        },
        {
          "metadata": {
            "tags": null
          },
          "name": "stdout",
          "output_type": "stream",
          "text": [
            "validation loss: 0.005923045694828034 at epoch 189\n",
            "learning_rate: 0.0008\n"
          ]
        },
        {
          "metadata": {
            "tags": null
          },
          "name": "stderr",
          "output_type": "stream",
          "text": [
            "epoch 189: 100%|██████████| 282/282 [00:08<00:00, 34.47it/s]\n"
          ]
        },
        {
          "metadata": {
            "tags": null
          },
          "name": "stdout",
          "output_type": "stream",
          "text": [
            "validation loss: 0.002564693416158358 at epoch 190\n",
            "learning_rate: 0.0008\n"
          ]
        },
        {
          "metadata": {
            "tags": null
          },
          "name": "stderr",
          "output_type": "stream",
          "text": [
            "epoch 190: 100%|██████████| 282/282 [00:08<00:00, 35.04it/s]\n"
          ]
        },
        {
          "metadata": {
            "tags": null
          },
          "name": "stdout",
          "output_type": "stream",
          "text": [
            "validation loss: 0.0015940645643406444 at epoch 191\n",
            "learning_rate: 0.0008\n"
          ]
        },
        {
          "metadata": {
            "tags": null
          },
          "name": "stderr",
          "output_type": "stream",
          "text": [
            "epoch 191: 100%|██████████| 282/282 [00:07<00:00, 38.83it/s]\n"
          ]
        },
        {
          "metadata": {
            "tags": null
          },
          "name": "stdout",
          "output_type": "stream",
          "text": [
            "validation loss: 0.0012333175846272046 at epoch 192\n",
            "learning_rate: 0.0008\n"
          ]
        },
        {
          "metadata": {
            "tags": null
          },
          "name": "stderr",
          "output_type": "stream",
          "text": [
            "epoch 192: 100%|██████████| 282/282 [00:08<00:00, 35.02it/s]\n"
          ]
        },
        {
          "metadata": {
            "tags": null
          },
          "name": "stdout",
          "output_type": "stream",
          "text": [
            "validation loss: 0.0034850794722636543 at epoch 193\n",
            "learning_rate: 0.0008\n"
          ]
        },
        {
          "metadata": {
            "tags": null
          },
          "name": "stderr",
          "output_type": "stream",
          "text": [
            "epoch 193: 100%|██████████| 282/282 [00:08<00:00, 34.89it/s]\n"
          ]
        },
        {
          "metadata": {
            "tags": null
          },
          "name": "stdout",
          "output_type": "stream",
          "text": [
            "validation loss: 0.002964949212140507 at epoch 194\n",
            "learning_rate: 0.0008\n"
          ]
        },
        {
          "metadata": {
            "tags": null
          },
          "name": "stderr",
          "output_type": "stream",
          "text": [
            "epoch 194: 100%|██████████| 282/282 [00:07<00:00, 38.73it/s]\n"
          ]
        },
        {
          "metadata": {
            "tags": null
          },
          "name": "stdout",
          "output_type": "stream",
          "text": [
            "validation loss: 0.003641945375336541 at epoch 195\n",
            "learning_rate: 0.0008\n"
          ]
        },
        {
          "metadata": {
            "tags": null
          },
          "name": "stderr",
          "output_type": "stream",
          "text": [
            "epoch 195: 100%|██████████| 282/282 [00:08<00:00, 34.25it/s]\n"
          ]
        },
        {
          "metadata": {
            "tags": null
          },
          "name": "stdout",
          "output_type": "stream",
          "text": [
            "validation loss: 0.003857325875096851 at epoch 196\n",
            "learning_rate: 0.0008\n"
          ]
        },
        {
          "metadata": {
            "tags": null
          },
          "name": "stderr",
          "output_type": "stream",
          "text": [
            "epoch 196: 100%|██████████| 282/282 [00:08<00:00, 34.50it/s]\n"
          ]
        },
        {
          "metadata": {
            "tags": null
          },
          "name": "stdout",
          "output_type": "stream",
          "text": [
            "validation loss: 0.005095721304416657 at epoch 197\n",
            "learning_rate: 0.0008\n"
          ]
        },
        {
          "metadata": {
            "tags": null
          },
          "name": "stderr",
          "output_type": "stream",
          "text": [
            "epoch 197: 100%|██████████| 282/282 [00:07<00:00, 38.61it/s]\n"
          ]
        },
        {
          "metadata": {
            "tags": null
          },
          "name": "stdout",
          "output_type": "stream",
          "text": [
            "validation loss: 0.001343112622698148 at epoch 198\n",
            "learning_rate: 0.0008\n"
          ]
        },
        {
          "metadata": {
            "tags": null
          },
          "name": "stderr",
          "output_type": "stream",
          "text": [
            "epoch 198: 100%|██████████| 282/282 [00:08<00:00, 34.43it/s]\n"
          ]
        },
        {
          "metadata": {
            "tags": null
          },
          "name": "stdout",
          "output_type": "stream",
          "text": [
            "validation loss: 0.002491189713279406 at epoch 199\n",
            "learning_rate: 0.0008\n"
          ]
        },
        {
          "metadata": {
            "tags": null
          },
          "name": "stderr",
          "output_type": "stream",
          "text": [
            "epoch 199: 100%|██████████| 282/282 [00:08<00:00, 35.11it/s]\n"
          ]
        },
        {
          "metadata": {
            "tags": null
          },
          "name": "stdout",
          "output_type": "stream",
          "text": [
            "validation loss: 0.0017845311785737673 at epoch 200\n",
            "learning_rate: 0.0008\n"
          ]
        },
        {
          "metadata": {
            "tags": null
          },
          "name": "stderr",
          "output_type": "stream",
          "text": [
            "epoch 200: 100%|██████████| 282/282 [00:07<00:00, 38.63it/s]\n"
          ]
        },
        {
          "metadata": {
            "tags": null
          },
          "name": "stdout",
          "output_type": "stream",
          "text": [
            "validation loss: 0.0017447005096409055 at epoch 201\n",
            "learning_rate: 0.0008\n"
          ]
        },
        {
          "metadata": {
            "tags": null
          },
          "name": "stderr",
          "output_type": "stream",
          "text": [
            "epoch 201: 100%|██████████| 282/282 [00:08<00:00, 34.85it/s]\n"
          ]
        },
        {
          "metadata": {
            "tags": null
          },
          "name": "stdout",
          "output_type": "stream",
          "text": [
            "validation loss: 0.0015754206875960033 at epoch 202\n",
            "learning_rate: 0.0008\n"
          ]
        },
        {
          "metadata": {
            "tags": null
          },
          "name": "stderr",
          "output_type": "stream",
          "text": [
            "epoch 202: 100%|██████████| 282/282 [00:08<00:00, 34.80it/s]\n"
          ]
        },
        {
          "metadata": {
            "tags": null
          },
          "name": "stdout",
          "output_type": "stream",
          "text": [
            "validation loss: 0.0011954393966330421 at epoch 203\n",
            "learning_rate: 0.0008\n",
            "model saved in ani_acrolein.pt\n"
          ]
        },
        {
          "metadata": {
            "tags": null
          },
          "name": "stderr",
          "output_type": "stream",
          "text": [
            "epoch 203: 100%|██████████| 282/282 [00:07<00:00, 38.73it/s]\n"
          ]
        },
        {
          "metadata": {
            "tags": null
          },
          "name": "stdout",
          "output_type": "stream",
          "text": [
            "validation loss: 0.0014536091718408797 at epoch 204\n",
            "learning_rate: 0.0008\n"
          ]
        },
        {
          "metadata": {
            "tags": null
          },
          "name": "stderr",
          "output_type": "stream",
          "text": [
            "epoch 204: 100%|██████████| 282/282 [00:08<00:00, 34.71it/s]\n"
          ]
        },
        {
          "metadata": {
            "tags": null
          },
          "name": "stdout",
          "output_type": "stream",
          "text": [
            "validation loss: 0.001249048187914822 at epoch 205\n",
            "learning_rate: 0.0008\n"
          ]
        },
        {
          "metadata": {
            "tags": null
          },
          "name": "stderr",
          "output_type": "stream",
          "text": [
            "epoch 205: 100%|██████████| 282/282 [00:07<00:00, 35.41it/s]\n"
          ]
        },
        {
          "metadata": {
            "tags": null
          },
          "name": "stdout",
          "output_type": "stream",
          "text": [
            "validation loss: 0.0022951399750179716 at epoch 206\n",
            "learning_rate: 0.0008\n"
          ]
        },
        {
          "metadata": {
            "tags": null
          },
          "name": "stderr",
          "output_type": "stream",
          "text": [
            "epoch 206: 100%|██████████| 282/282 [00:07<00:00, 38.86it/s]\n"
          ]
        },
        {
          "metadata": {
            "tags": null
          },
          "name": "stdout",
          "output_type": "stream",
          "text": [
            "validation loss: 0.0029444642000728185 at epoch 207\n",
            "learning_rate: 0.0008\n"
          ]
        },
        {
          "metadata": {
            "tags": null
          },
          "name": "stderr",
          "output_type": "stream",
          "text": [
            "epoch 207: 100%|██████████| 282/282 [00:08<00:00, 34.51it/s]\n"
          ]
        },
        {
          "metadata": {
            "tags": null
          },
          "name": "stdout",
          "output_type": "stream",
          "text": [
            "validation loss: 0.0019212651832236185 at epoch 208\n",
            "learning_rate: 0.0008\n"
          ]
        },
        {
          "metadata": {
            "tags": null
          },
          "name": "stderr",
          "output_type": "stream",
          "text": [
            "epoch 208: 100%|██████████| 282/282 [00:07<00:00, 36.74it/s]\n"
          ]
        },
        {
          "metadata": {
            "tags": null
          },
          "name": "stdout",
          "output_type": "stream",
          "text": [
            "validation loss: 0.0015606127803524336 at epoch 209\n",
            "learning_rate: 0.0008\n"
          ]
        },
        {
          "metadata": {
            "tags": null
          },
          "name": "stderr",
          "output_type": "stream",
          "text": [
            "epoch 209: 100%|██████████| 282/282 [00:07<00:00, 38.14it/s]\n"
          ]
        },
        {
          "metadata": {
            "tags": null
          },
          "name": "stdout",
          "output_type": "stream",
          "text": [
            "validation loss: 0.0022745444592502384 at epoch 210\n",
            "learning_rate: 0.0008\n"
          ]
        },
        {
          "metadata": {
            "tags": null
          },
          "name": "stderr",
          "output_type": "stream",
          "text": [
            "epoch 210: 100%|██████████| 282/282 [00:08<00:00, 34.50it/s]\n"
          ]
        },
        {
          "metadata": {
            "tags": null
          },
          "name": "stdout",
          "output_type": "stream",
          "text": [
            "validation loss: 0.002446699510018031 at epoch 211\n",
            "learning_rate: 0.0008\n"
          ]
        },
        {
          "metadata": {
            "tags": null
          },
          "name": "stderr",
          "output_type": "stream",
          "text": [
            "epoch 211: 100%|██████████| 282/282 [00:07<00:00, 36.99it/s]\n"
          ]
        },
        {
          "metadata": {
            "tags": null
          },
          "name": "stdout",
          "output_type": "stream",
          "text": [
            "validation loss: 0.00157795350253582 at epoch 212\n",
            "learning_rate: 0.0008\n"
          ]
        },
        {
          "metadata": {
            "tags": null
          },
          "name": "stderr",
          "output_type": "stream",
          "text": [
            "epoch 212: 100%|██████████| 282/282 [00:07<00:00, 37.36it/s]\n"
          ]
        },
        {
          "metadata": {
            "tags": null
          },
          "name": "stdout",
          "output_type": "stream",
          "text": [
            "validation loss: 0.0018371105028523339 at epoch 213\n",
            "learning_rate: 0.0008\n"
          ]
        },
        {
          "metadata": {
            "tags": null
          },
          "name": "stderr",
          "output_type": "stream",
          "text": [
            "epoch 213: 100%|██████████| 282/282 [00:08<00:00, 34.65it/s]\n"
          ]
        },
        {
          "metadata": {
            "tags": null
          },
          "name": "stdout",
          "output_type": "stream",
          "text": [
            "validation loss: 0.003664144946469201 at epoch 214\n",
            "learning_rate: 0.0008\n"
          ]
        },
        {
          "metadata": {
            "tags": null
          },
          "name": "stderr",
          "output_type": "stream",
          "text": [
            "epoch 214: 100%|██████████| 282/282 [00:07<00:00, 37.48it/s]\n"
          ]
        },
        {
          "metadata": {
            "tags": null
          },
          "name": "stdout",
          "output_type": "stream",
          "text": [
            "validation loss: 0.00162781679795848 at epoch 215\n",
            "learning_rate: 0.0008\n"
          ]
        },
        {
          "metadata": {
            "tags": null
          },
          "name": "stderr",
          "output_type": "stream",
          "text": [
            "epoch 215: 100%|██████████| 282/282 [00:07<00:00, 36.41it/s]\n"
          ]
        },
        {
          "metadata": {
            "tags": null
          },
          "name": "stdout",
          "output_type": "stream",
          "text": [
            "validation loss: 0.0028251899596717623 at epoch 216\n",
            "learning_rate: 0.0008\n"
          ]
        },
        {
          "metadata": {
            "tags": null
          },
          "name": "stderr",
          "output_type": "stream",
          "text": [
            "epoch 216: 100%|██████████| 282/282 [00:08<00:00, 34.64it/s]\n"
          ]
        },
        {
          "metadata": {
            "tags": null
          },
          "name": "stdout",
          "output_type": "stream",
          "text": [
            "validation loss: 0.0069097887708081136 at epoch 217\n",
            "learning_rate: 0.0008\n"
          ]
        },
        {
          "metadata": {
            "tags": null
          },
          "name": "stderr",
          "output_type": "stream",
          "text": [
            "epoch 217: 100%|██████████| 282/282 [00:07<00:00, 38.10it/s]\n"
          ]
        },
        {
          "metadata": {
            "tags": null
          },
          "name": "stdout",
          "output_type": "stream",
          "text": [
            "validation loss: 0.0015043118505014314 at epoch 218\n",
            "learning_rate: 0.0008\n"
          ]
        },
        {
          "metadata": {
            "tags": null
          },
          "name": "stderr",
          "output_type": "stream",
          "text": [
            "epoch 218: 100%|██████████| 282/282 [00:07<00:00, 36.33it/s]\n"
          ]
        },
        {
          "metadata": {
            "tags": null
          },
          "name": "stdout",
          "output_type": "stream",
          "text": [
            "validation loss: 0.0012454749403728379 at epoch 219\n",
            "learning_rate: 0.0008\n"
          ]
        },
        {
          "metadata": {
            "tags": null
          },
          "name": "stderr",
          "output_type": "stream",
          "text": [
            "epoch 219: 100%|██████████| 282/282 [00:08<00:00, 34.94it/s]\n"
          ]
        },
        {
          "metadata": {
            "tags": null
          },
          "name": "stdout",
          "output_type": "stream",
          "text": [
            "validation loss: 0.0021479148831632404 at epoch 220\n",
            "learning_rate: 0.0008\n"
          ]
        },
        {
          "metadata": {
            "tags": null
          },
          "name": "stderr",
          "output_type": "stream",
          "text": [
            "epoch 220: 100%|██████████| 282/282 [00:07<00:00, 38.56it/s]\n"
          ]
        },
        {
          "metadata": {
            "tags": null
          },
          "name": "stdout",
          "output_type": "stream",
          "text": [
            "validation loss: 0.004330189671781328 at epoch 221\n",
            "learning_rate: 0.0008\n"
          ]
        },
        {
          "metadata": {
            "tags": null
          },
          "name": "stderr",
          "output_type": "stream",
          "text": [
            "epoch 221: 100%|██████████| 282/282 [00:07<00:00, 36.09it/s]\n"
          ]
        },
        {
          "metadata": {
            "tags": null
          },
          "name": "stdout",
          "output_type": "stream",
          "text": [
            "validation loss: 0.0036951148013273875 at epoch 222\n",
            "learning_rate: 0.0008\n"
          ]
        },
        {
          "metadata": {
            "tags": null
          },
          "name": "stderr",
          "output_type": "stream",
          "text": [
            "epoch 222: 100%|██████████| 282/282 [00:08<00:00, 34.84it/s]\n"
          ]
        },
        {
          "metadata": {
            "tags": null
          },
          "name": "stdout",
          "output_type": "stream",
          "text": [
            "validation loss: 0.001263599022395081 at epoch 223\n",
            "learning_rate: 0.0008\n"
          ]
        },
        {
          "metadata": {
            "tags": null
          },
          "name": "stderr",
          "output_type": "stream",
          "text": [
            "epoch 223: 100%|██████████| 282/282 [00:07<00:00, 38.63it/s]\n"
          ]
        },
        {
          "metadata": {
            "tags": null
          },
          "name": "stdout",
          "output_type": "stream",
          "text": [
            "validation loss: 0.0013385916708244217 at epoch 224\n",
            "learning_rate: 0.0008\n"
          ]
        },
        {
          "metadata": {
            "tags": null
          },
          "name": "stderr",
          "output_type": "stream",
          "text": [
            "epoch 224: 100%|██████████| 282/282 [00:08<00:00, 35.02it/s]\n"
          ]
        },
        {
          "metadata": {
            "tags": null
          },
          "name": "stdout",
          "output_type": "stream",
          "text": [
            "validation loss: 0.0014644170875350634 at epoch 225\n",
            "learning_rate: 0.0008\n"
          ]
        },
        {
          "metadata": {
            "tags": null
          },
          "name": "stderr",
          "output_type": "stream",
          "text": [
            "epoch 225: 100%|██████████| 282/282 [00:08<00:00, 34.12it/s]\n"
          ]
        },
        {
          "metadata": {
            "tags": null
          },
          "name": "stdout",
          "output_type": "stream",
          "text": [
            "validation loss: 0.0011863614685005612 at epoch 226\n",
            "learning_rate: 0.0008\n",
            "model saved in ani_acrolein.pt\n"
          ]
        },
        {
          "metadata": {
            "tags": null
          },
          "name": "stderr",
          "output_type": "stream",
          "text": [
            "epoch 226: 100%|██████████| 282/282 [00:07<00:00, 38.59it/s]\n"
          ]
        },
        {
          "metadata": {
            "tags": null
          },
          "name": "stdout",
          "output_type": "stream",
          "text": [
            "validation loss: 0.0057438466416464915 at epoch 227\n",
            "learning_rate: 0.0008\n"
          ]
        },
        {
          "metadata": {
            "tags": null
          },
          "name": "stderr",
          "output_type": "stream",
          "text": [
            "epoch 227: 100%|██████████| 282/282 [00:08<00:00, 34.88it/s]\n"
          ]
        },
        {
          "metadata": {
            "tags": null
          },
          "name": "stdout",
          "output_type": "stream",
          "text": [
            "validation loss: 0.0023030930956204733 at epoch 228\n",
            "learning_rate: 0.0008\n"
          ]
        },
        {
          "metadata": {
            "tags": null
          },
          "name": "stderr",
          "output_type": "stream",
          "text": [
            "epoch 228: 100%|██████████| 282/282 [00:08<00:00, 35.05it/s]\n"
          ]
        },
        {
          "metadata": {
            "tags": null
          },
          "name": "stdout",
          "output_type": "stream",
          "text": [
            "validation loss: 0.0019300015245874722 at epoch 229\n",
            "learning_rate: 0.0008\n"
          ]
        },
        {
          "metadata": {
            "tags": null
          },
          "name": "stderr",
          "output_type": "stream",
          "text": [
            "epoch 229: 100%|██████████| 282/282 [00:07<00:00, 38.59it/s]\n"
          ]
        },
        {
          "metadata": {
            "tags": null
          },
          "name": "stdout",
          "output_type": "stream",
          "text": [
            "validation loss: 0.0012183372154831887 at epoch 230\n",
            "learning_rate: 0.0008\n"
          ]
        },
        {
          "metadata": {
            "tags": null
          },
          "name": "stderr",
          "output_type": "stream",
          "text": [
            "epoch 230: 100%|██████████| 282/282 [00:08<00:00, 34.75it/s]\n"
          ]
        },
        {
          "metadata": {
            "tags": null
          },
          "name": "stdout",
          "output_type": "stream",
          "text": [
            "validation loss: 0.0015520862249864473 at epoch 231\n",
            "learning_rate: 0.0008\n"
          ]
        },
        {
          "metadata": {
            "tags": null
          },
          "name": "stderr",
          "output_type": "stream",
          "text": [
            "epoch 231: 100%|██████████| 282/282 [00:08<00:00, 34.66it/s]\n"
          ]
        },
        {
          "metadata": {
            "tags": null
          },
          "name": "stdout",
          "output_type": "stream",
          "text": [
            "validation loss: 0.0014916071204675568 at epoch 232\n",
            "learning_rate: 0.0008\n"
          ]
        },
        {
          "metadata": {
            "tags": null
          },
          "name": "stderr",
          "output_type": "stream",
          "text": [
            "epoch 232: 100%|██████████| 282/282 [00:07<00:00, 38.73it/s]\n"
          ]
        },
        {
          "metadata": {
            "tags": null
          },
          "name": "stdout",
          "output_type": "stream",
          "text": [
            "validation loss: 0.0015673736035823822 at epoch 233\n",
            "learning_rate: 0.0008\n"
          ]
        },
        {
          "metadata": {
            "tags": null
          },
          "name": "stderr",
          "output_type": "stream",
          "text": [
            "epoch 233: 100%|██████████| 282/282 [00:08<00:00, 35.23it/s]\n"
          ]
        },
        {
          "metadata": {
            "tags": null
          },
          "name": "stdout",
          "output_type": "stream",
          "text": [
            "validation loss: 0.002905411273241043 at epoch 234\n",
            "learning_rate: 0.0008\n"
          ]
        },
        {
          "metadata": {
            "tags": null
          },
          "name": "stderr",
          "output_type": "stream",
          "text": [
            "epoch 234: 100%|██████████| 282/282 [00:08<00:00, 34.38it/s]\n"
          ]
        },
        {
          "metadata": {
            "tags": null
          },
          "name": "stdout",
          "output_type": "stream",
          "text": [
            "validation loss: 0.00377354682650831 at epoch 235\n",
            "learning_rate: 0.0008\n"
          ]
        },
        {
          "metadata": {
            "tags": null
          },
          "name": "stderr",
          "output_type": "stream",
          "text": [
            "epoch 235: 100%|██████████| 282/282 [00:07<00:00, 38.96it/s]\n"
          ]
        },
        {
          "metadata": {
            "tags": null
          },
          "name": "stdout",
          "output_type": "stream",
          "text": [
            "validation loss: 0.0016462375223636628 at epoch 236\n",
            "learning_rate: 0.0008\n"
          ]
        },
        {
          "metadata": {
            "tags": null
          },
          "name": "stderr",
          "output_type": "stream",
          "text": [
            "epoch 236: 100%|██████████| 282/282 [00:08<00:00, 34.53it/s]\n"
          ]
        },
        {
          "metadata": {
            "tags": null
          },
          "name": "stdout",
          "output_type": "stream",
          "text": [
            "validation loss: 0.002637949335906241 at epoch 237\n",
            "learning_rate: 0.0008\n"
          ]
        },
        {
          "metadata": {
            "tags": null
          },
          "name": "stderr",
          "output_type": "stream",
          "text": [
            "epoch 237: 100%|██████████| 282/282 [00:08<00:00, 35.12it/s]\n"
          ]
        },
        {
          "metadata": {
            "tags": null
          },
          "name": "stdout",
          "output_type": "stream",
          "text": [
            "validation loss: 0.0037380007836553784 at epoch 238\n",
            "learning_rate: 0.0008\n"
          ]
        },
        {
          "metadata": {
            "tags": null
          },
          "name": "stderr",
          "output_type": "stream",
          "text": [
            "epoch 238: 100%|██████████| 282/282 [00:07<00:00, 38.56it/s]\n"
          ]
        },
        {
          "metadata": {
            "tags": null
          },
          "name": "stdout",
          "output_type": "stream",
          "text": [
            "validation loss: 0.0033628484275605944 at epoch 239\n",
            "learning_rate: 0.0008\n"
          ]
        },
        {
          "metadata": {
            "tags": null
          },
          "name": "stderr",
          "output_type": "stream",
          "text": [
            "epoch 239: 100%|██████████| 282/282 [00:08<00:00, 34.93it/s]\n"
          ]
        },
        {
          "metadata": {
            "tags": null
          },
          "name": "stdout",
          "output_type": "stream",
          "text": [
            "validation loss: 0.004572440836164687 at epoch 240\n",
            "learning_rate: 0.0008\n"
          ]
        },
        {
          "metadata": {
            "tags": null
          },
          "name": "stderr",
          "output_type": "stream",
          "text": [
            "epoch 240: 100%|██████████| 282/282 [00:08<00:00, 34.50it/s]\n"
          ]
        },
        {
          "metadata": {
            "tags": null
          },
          "name": "stdout",
          "output_type": "stream",
          "text": [
            "validation loss: 0.004393722742795945 at epoch 241\n",
            "learning_rate: 0.0008\n"
          ]
        },
        {
          "metadata": {
            "tags": null
          },
          "name": "stderr",
          "output_type": "stream",
          "text": [
            "epoch 241: 100%|██████████| 282/282 [00:07<00:00, 38.59it/s]\n"
          ]
        },
        {
          "metadata": {
            "tags": null
          },
          "name": "stdout",
          "output_type": "stream",
          "text": [
            "validation loss: 0.005768705851501889 at epoch 242\n",
            "learning_rate: 0.0008\n"
          ]
        },
        {
          "metadata": {
            "tags": null
          },
          "name": "stderr",
          "output_type": "stream",
          "text": [
            "epoch 242: 100%|██████████| 282/282 [00:08<00:00, 34.98it/s]\n"
          ]
        },
        {
          "metadata": {
            "tags": null
          },
          "name": "stdout",
          "output_type": "stream",
          "text": [
            "validation loss: 0.0015747725036409166 at epoch 243\n",
            "learning_rate: 0.0008\n"
          ]
        },
        {
          "metadata": {
            "tags": null
          },
          "name": "stderr",
          "output_type": "stream",
          "text": [
            "epoch 243: 100%|██████████| 282/282 [00:08<00:00, 34.68it/s]\n"
          ]
        },
        {
          "metadata": {
            "tags": null
          },
          "name": "stdout",
          "output_type": "stream",
          "text": [
            "validation loss: 0.0048712709612316555 at epoch 244\n",
            "learning_rate: 0.0008\n"
          ]
        },
        {
          "metadata": {
            "tags": null
          },
          "name": "stderr",
          "output_type": "stream",
          "text": [
            "epoch 244: 100%|██████████| 282/282 [00:07<00:00, 38.67it/s]\n"
          ]
        },
        {
          "metadata": {
            "tags": null
          },
          "name": "stdout",
          "output_type": "stream",
          "text": [
            "validation loss: 0.00205221455792586 at epoch 245\n",
            "learning_rate: 0.0008\n"
          ]
        },
        {
          "metadata": {
            "tags": null
          },
          "name": "stderr",
          "output_type": "stream",
          "text": [
            "epoch 245: 100%|██████████| 282/282 [00:08<00:00, 34.49it/s]\n"
          ]
        },
        {
          "metadata": {
            "tags": null
          },
          "name": "stdout",
          "output_type": "stream",
          "text": [
            "validation loss: 0.0028846028827958638 at epoch 246\n",
            "learning_rate: 0.0008\n"
          ]
        },
        {
          "metadata": {
            "tags": null
          },
          "name": "stderr",
          "output_type": "stream",
          "text": [
            "epoch 246: 100%|██████████| 282/282 [00:07<00:00, 35.44it/s]\n"
          ]
        },
        {
          "metadata": {
            "tags": null
          },
          "name": "stdout",
          "output_type": "stream",
          "text": [
            "validation loss: 0.00529838185177909 at epoch 247\n",
            "learning_rate: 0.0008\n"
          ]
        },
        {
          "metadata": {
            "tags": null
          },
          "name": "stderr",
          "output_type": "stream",
          "text": [
            "epoch 247: 100%|██████████| 282/282 [00:07<00:00, 38.78it/s]\n"
          ]
        },
        {
          "metadata": {
            "tags": null
          },
          "name": "stdout",
          "output_type": "stream",
          "text": [
            "validation loss: 0.002309143809808625 at epoch 248\n",
            "learning_rate: 0.0008\n"
          ]
        },
        {
          "metadata": {
            "tags": null
          },
          "name": "stderr",
          "output_type": "stream",
          "text": [
            "epoch 248: 100%|██████████| 282/282 [00:08<00:00, 34.62it/s]\n"
          ]
        },
        {
          "metadata": {
            "tags": null
          },
          "name": "stdout",
          "output_type": "stream",
          "text": [
            "validation loss: 0.005757129109568066 at epoch 249\n",
            "learning_rate: 0.0008\n"
          ]
        },
        {
          "metadata": {
            "tags": null
          },
          "name": "stderr",
          "output_type": "stream",
          "text": [
            "epoch 249: 100%|██████████| 282/282 [00:07<00:00, 36.21it/s]\n"
          ]
        },
        {
          "metadata": {
            "tags": null
          },
          "name": "stdout",
          "output_type": "stream",
          "text": [
            "validation loss: 0.0015627557362119357 at epoch 250\n",
            "learning_rate: 0.0008\n"
          ]
        },
        {
          "metadata": {
            "tags": null
          },
          "name": "stderr",
          "output_type": "stream",
          "text": [
            "epoch 250: 100%|██████████| 282/282 [00:07<00:00, 38.63it/s]\n"
          ]
        },
        {
          "metadata": {
            "tags": null
          },
          "name": "stdout",
          "output_type": "stream",
          "text": [
            "validation loss: 0.005496754623121686 at epoch 251\n",
            "learning_rate: 0.0008\n"
          ]
        },
        {
          "metadata": {
            "tags": null
          },
          "name": "stderr",
          "output_type": "stream",
          "text": [
            "epoch 251: 100%|██████████| 282/282 [00:08<00:00, 34.44it/s]\n"
          ]
        },
        {
          "metadata": {
            "tags": null
          },
          "name": "stdout",
          "output_type": "stream",
          "text": [
            "validation loss: 0.004807252489858203 at epoch 252\n",
            "learning_rate: 0.0008\n"
          ]
        },
        {
          "metadata": {
            "tags": null
          },
          "name": "stderr",
          "output_type": "stream",
          "text": [
            "epoch 252: 100%|██████████| 282/282 [00:07<00:00, 36.47it/s]\n"
          ]
        },
        {
          "metadata": {
            "tags": null
          },
          "name": "stdout",
          "output_type": "stream",
          "text": [
            "validation loss: 0.006310830278529061 at epoch 253\n",
            "learning_rate: 0.0008\n"
          ]
        },
        {
          "metadata": {
            "tags": null
          },
          "name": "stderr",
          "output_type": "stream",
          "text": [
            "epoch 253: 100%|██████████| 282/282 [00:07<00:00, 37.95it/s]\n"
          ]
        },
        {
          "metadata": {
            "tags": null
          },
          "name": "stdout",
          "output_type": "stream",
          "text": [
            "validation loss: 0.006028509454594718 at epoch 254\n",
            "learning_rate: 0.0008\n"
          ]
        },
        {
          "metadata": {
            "tags": null
          },
          "name": "stderr",
          "output_type": "stream",
          "text": [
            "epoch 254: 100%|██████████| 282/282 [00:08<00:00, 34.54it/s]\n"
          ]
        },
        {
          "metadata": {
            "tags": null
          },
          "name": "stdout",
          "output_type": "stream",
          "text": [
            "validation loss: 0.004118455757697423 at epoch 255\n",
            "learning_rate: 0.0008\n"
          ]
        },
        {
          "metadata": {
            "tags": null
          },
          "name": "stderr",
          "output_type": "stream",
          "text": [
            "epoch 255: 100%|██████████| 282/282 [00:07<00:00, 37.06it/s]\n"
          ]
        },
        {
          "metadata": {
            "tags": null
          },
          "name": "stdout",
          "output_type": "stream",
          "text": [
            "validation loss: 0.003913391984171338 at epoch 256\n",
            "learning_rate: 0.0008\n"
          ]
        },
        {
          "metadata": {
            "tags": null
          },
          "name": "stderr",
          "output_type": "stream",
          "text": [
            "epoch 256: 100%|██████████| 282/282 [00:07<00:00, 36.71it/s]\n"
          ]
        },
        {
          "metadata": {
            "tags": null
          },
          "name": "stdout",
          "output_type": "stream",
          "text": [
            "validation loss: 0.001746405200825797 at epoch 257\n",
            "learning_rate: 0.0008\n"
          ]
        },
        {
          "metadata": {
            "tags": null
          },
          "name": "stderr",
          "output_type": "stream",
          "text": [
            "epoch 257: 100%|██████████| 282/282 [00:08<00:00, 35.12it/s]\n"
          ]
        },
        {
          "metadata": {
            "tags": null
          },
          "name": "stdout",
          "output_type": "stream",
          "text": [
            "validation loss: 0.0035818237480190066 at epoch 258\n",
            "learning_rate: 0.0008\n"
          ]
        },
        {
          "metadata": {
            "tags": null
          },
          "name": "stderr",
          "output_type": "stream",
          "text": [
            "epoch 258: 100%|██████████| 282/282 [00:07<00:00, 37.80it/s]\n"
          ]
        },
        {
          "metadata": {
            "tags": null
          },
          "name": "stdout",
          "output_type": "stream",
          "text": [
            "validation loss: 0.0036825147238042618 at epoch 259\n",
            "learning_rate: 0.0008\n"
          ]
        },
        {
          "metadata": {
            "tags": null
          },
          "name": "stderr",
          "output_type": "stream",
          "text": [
            "epoch 259: 100%|██████████| 282/282 [00:07<00:00, 37.03it/s]\n"
          ]
        },
        {
          "metadata": {
            "tags": null
          },
          "name": "stdout",
          "output_type": "stream",
          "text": [
            "validation loss: 0.001578219943576389 at epoch 260\n",
            "learning_rate: 0.0008\n"
          ]
        },
        {
          "metadata": {
            "tags": null
          },
          "name": "stderr",
          "output_type": "stream",
          "text": [
            "epoch 260: 100%|██████████| 282/282 [00:08<00:00, 34.54it/s]\n"
          ]
        },
        {
          "metadata": {
            "tags": null
          },
          "name": "stdout",
          "output_type": "stream",
          "text": [
            "validation loss: 0.0023713118533293404 at epoch 261\n",
            "learning_rate: 0.0008\n"
          ]
        },
        {
          "metadata": {
            "tags": null
          },
          "name": "stderr",
          "output_type": "stream",
          "text": [
            "epoch 261: 100%|██████████| 282/282 [00:07<00:00, 38.22it/s]\n"
          ]
        },
        {
          "metadata": {
            "tags": null
          },
          "name": "stdout",
          "output_type": "stream",
          "text": [
            "validation loss: 0.0034210257099734414 at epoch 262\n",
            "learning_rate: 0.0008\n"
          ]
        },
        {
          "metadata": {
            "tags": null
          },
          "name": "stderr",
          "output_type": "stream",
          "text": [
            "epoch 262: 100%|██████████| 282/282 [00:07<00:00, 35.86it/s]\n"
          ]
        },
        {
          "metadata": {
            "tags": null
          },
          "name": "stdout",
          "output_type": "stream",
          "text": [
            "validation loss: 0.006986223558584849 at epoch 263\n",
            "learning_rate: 0.0008\n"
          ]
        },
        {
          "metadata": {
            "tags": null
          },
          "name": "stderr",
          "output_type": "stream",
          "text": [
            "epoch 263: 100%|██████████| 282/282 [00:08<00:00, 34.78it/s]\n"
          ]
        },
        {
          "metadata": {
            "tags": null
          },
          "name": "stdout",
          "output_type": "stream",
          "text": [
            "validation loss: 0.0018486487617095312 at epoch 264\n",
            "learning_rate: 0.0008\n"
          ]
        },
        {
          "metadata": {
            "tags": null
          },
          "name": "stderr",
          "output_type": "stream",
          "text": [
            "epoch 264: 100%|██████████| 282/282 [00:07<00:00, 38.79it/s]\n"
          ]
        },
        {
          "metadata": {
            "tags": null
          },
          "name": "stdout",
          "output_type": "stream",
          "text": [
            "validation loss: 0.001361519972483317 at epoch 265\n",
            "learning_rate: 0.0008\n"
          ]
        },
        {
          "metadata": {
            "tags": null
          },
          "name": "stderr",
          "output_type": "stream",
          "text": [
            "epoch 265: 100%|██████████| 282/282 [00:07<00:00, 35.46it/s]\n"
          ]
        },
        {
          "metadata": {
            "tags": null
          },
          "name": "stdout",
          "output_type": "stream",
          "text": [
            "validation loss: 0.0015982646321256956 at epoch 266\n",
            "learning_rate: 0.0008\n"
          ]
        },
        {
          "metadata": {
            "tags": null
          },
          "name": "stderr",
          "output_type": "stream",
          "text": [
            "epoch 266: 100%|██████████| 282/282 [00:08<00:00, 34.50it/s]\n"
          ]
        },
        {
          "metadata": {
            "tags": null
          },
          "name": "stdout",
          "output_type": "stream",
          "text": [
            "validation loss: 0.0025765220373868943 at epoch 267\n",
            "learning_rate: 0.0008\n"
          ]
        },
        {
          "metadata": {
            "tags": null
          },
          "name": "stderr",
          "output_type": "stream",
          "text": [
            "epoch 267: 100%|██████████| 282/282 [00:07<00:00, 38.31it/s]\n"
          ]
        },
        {
          "metadata": {
            "tags": null
          },
          "name": "stdout",
          "output_type": "stream",
          "text": [
            "validation loss: 0.002418611407279968 at epoch 268\n",
            "learning_rate: 0.0008\n"
          ]
        },
        {
          "metadata": {
            "tags": null
          },
          "name": "stderr",
          "output_type": "stream",
          "text": [
            "epoch 268: 100%|██████████| 282/282 [00:08<00:00, 35.09it/s]\n"
          ]
        },
        {
          "metadata": {
            "tags": null
          },
          "name": "stdout",
          "output_type": "stream",
          "text": [
            "validation loss: 0.004505427122116089 at epoch 269\n",
            "learning_rate: 0.0008\n"
          ]
        },
        {
          "metadata": {
            "tags": null
          },
          "name": "stderr",
          "output_type": "stream",
          "text": [
            "epoch 269: 100%|██████████| 282/282 [00:08<00:00, 34.96it/s]\n"
          ]
        },
        {
          "metadata": {
            "tags": null
          },
          "name": "stdout",
          "output_type": "stream",
          "text": [
            "validation loss: 0.0018083327296707365 at epoch 270\n",
            "learning_rate: 0.0008\n"
          ]
        },
        {
          "metadata": {
            "tags": null
          },
          "name": "stderr",
          "output_type": "stream",
          "text": [
            "epoch 270: 100%|██████████| 282/282 [00:07<00:00, 38.48it/s]\n"
          ]
        },
        {
          "metadata": {
            "tags": null
          },
          "name": "stdout",
          "output_type": "stream",
          "text": [
            "validation loss: 0.0019853530476490657 at epoch 271\n",
            "learning_rate: 0.0008\n"
          ]
        },
        {
          "metadata": {
            "tags": null
          },
          "name": "stderr",
          "output_type": "stream",
          "text": [
            "epoch 271: 100%|██████████| 282/282 [00:08<00:00, 34.57it/s]\n"
          ]
        },
        {
          "metadata": {
            "tags": null
          },
          "name": "stdout",
          "output_type": "stream",
          "text": [
            "validation loss: 0.003244642570614815 at epoch 272\n",
            "learning_rate: 0.0008\n"
          ]
        },
        {
          "metadata": {
            "tags": null
          },
          "name": "stderr",
          "output_type": "stream",
          "text": [
            "epoch 272: 100%|██████████| 282/282 [00:08<00:00, 34.40it/s]\n"
          ]
        },
        {
          "metadata": {
            "tags": null
          },
          "name": "stdout",
          "output_type": "stream",
          "text": [
            "validation loss: 0.0049611111183961235 at epoch 273\n",
            "learning_rate: 0.0008\n"
          ]
        },
        {
          "metadata": {
            "tags": null
          },
          "name": "stderr",
          "output_type": "stream",
          "text": [
            "epoch 273: 100%|██████████| 282/282 [00:07<00:00, 38.50it/s]\n"
          ]
        },
        {
          "metadata": {
            "tags": null
          },
          "name": "stdout",
          "output_type": "stream",
          "text": [
            "validation loss: 0.00724608263042238 at epoch 274\n",
            "learning_rate: 0.0008\n"
          ]
        },
        {
          "metadata": {
            "tags": null
          },
          "name": "stderr",
          "output_type": "stream",
          "text": [
            "epoch 274: 100%|██████████| 282/282 [00:08<00:00, 34.60it/s]\n"
          ]
        },
        {
          "metadata": {
            "tags": null
          },
          "name": "stdout",
          "output_type": "stream",
          "text": [
            "validation loss: 0.0019784215109215843 at epoch 275\n",
            "learning_rate: 0.0008\n"
          ]
        },
        {
          "metadata": {
            "tags": null
          },
          "name": "stderr",
          "output_type": "stream",
          "text": [
            "epoch 275: 100%|██████████| 282/282 [00:08<00:00, 34.60it/s]\n"
          ]
        },
        {
          "metadata": {
            "tags": null
          },
          "name": "stdout",
          "output_type": "stream",
          "text": [
            "validation loss: 0.0048371473550796506 at epoch 276\n",
            "learning_rate: 0.0008\n"
          ]
        },
        {
          "metadata": {
            "tags": null
          },
          "name": "stderr",
          "output_type": "stream",
          "text": [
            "epoch 276: 100%|██████████| 282/282 [00:07<00:00, 38.28it/s]\n"
          ]
        },
        {
          "metadata": {
            "tags": null
          },
          "name": "stdout",
          "output_type": "stream",
          "text": [
            "validation loss: 0.004931202908356984 at epoch 277\n",
            "learning_rate: 0.0008\n"
          ]
        },
        {
          "metadata": {
            "tags": null
          },
          "name": "stderr",
          "output_type": "stream",
          "text": [
            "epoch 277: 100%|██████████| 282/282 [00:08<00:00, 34.58it/s]\n"
          ]
        },
        {
          "metadata": {
            "tags": null
          },
          "name": "stdout",
          "output_type": "stream",
          "text": [
            "validation loss: 0.001486299279663298 at epoch 278\n",
            "learning_rate: 0.00064\n"
          ]
        },
        {
          "metadata": {
            "tags": null
          },
          "name": "stderr",
          "output_type": "stream",
          "text": [
            "epoch 278: 100%|██████████| 282/282 [00:08<00:00, 34.76it/s]\n"
          ]
        },
        {
          "metadata": {
            "tags": null
          },
          "name": "stdout",
          "output_type": "stream",
          "text": [
            "validation loss: 0.0014369383102489843 at epoch 279\n",
            "learning_rate: 0.00064\n"
          ]
        },
        {
          "metadata": {
            "tags": null
          },
          "name": "stderr",
          "output_type": "stream",
          "text": [
            "epoch 279: 100%|██████████| 282/282 [00:07<00:00, 38.38it/s]\n"
          ]
        },
        {
          "metadata": {
            "tags": null
          },
          "name": "stdout",
          "output_type": "stream",
          "text": [
            "validation loss: 0.0020247339689069325 at epoch 280\n",
            "learning_rate: 0.00064\n"
          ]
        },
        {
          "metadata": {
            "tags": null
          },
          "name": "stderr",
          "output_type": "stream",
          "text": [
            "epoch 280: 100%|██████████| 282/282 [00:08<00:00, 34.78it/s]\n"
          ]
        },
        {
          "metadata": {
            "tags": null
          },
          "name": "stdout",
          "output_type": "stream",
          "text": [
            "validation loss: 0.0026438915100362565 at epoch 281\n",
            "learning_rate: 0.00064\n"
          ]
        },
        {
          "metadata": {
            "tags": null
          },
          "name": "stderr",
          "output_type": "stream",
          "text": [
            "epoch 281: 100%|██████████| 282/282 [00:08<00:00, 34.36it/s]\n"
          ]
        },
        {
          "metadata": {
            "tags": null
          },
          "name": "stdout",
          "output_type": "stream",
          "text": [
            "validation loss: 0.004951002217001385 at epoch 282\n",
            "learning_rate: 0.00064\n"
          ]
        },
        {
          "metadata": {
            "tags": null
          },
          "name": "stderr",
          "output_type": "stream",
          "text": [
            "epoch 282: 100%|██████████| 282/282 [00:07<00:00, 38.51it/s]\n"
          ]
        },
        {
          "metadata": {
            "tags": null
          },
          "name": "stdout",
          "output_type": "stream",
          "text": [
            "validation loss: 0.00302331047753493 at epoch 283\n",
            "learning_rate: 0.00064\n"
          ]
        },
        {
          "metadata": {
            "tags": null
          },
          "name": "stderr",
          "output_type": "stream",
          "text": [
            "epoch 283: 100%|██████████| 282/282 [00:08<00:00, 34.81it/s]\n"
          ]
        },
        {
          "metadata": {
            "tags": null
          },
          "name": "stdout",
          "output_type": "stream",
          "text": [
            "validation loss: 0.0024517171614699892 at epoch 284\n",
            "learning_rate: 0.00064\n"
          ]
        },
        {
          "metadata": {
            "tags": null
          },
          "name": "stderr",
          "output_type": "stream",
          "text": [
            "epoch 284: 100%|██████████| 282/282 [00:08<00:00, 34.43it/s]\n"
          ]
        },
        {
          "metadata": {
            "tags": null
          },
          "name": "stdout",
          "output_type": "stream",
          "text": [
            "validation loss: 0.0025674184213081994 at epoch 285\n",
            "learning_rate: 0.00064\n"
          ]
        },
        {
          "metadata": {
            "tags": null
          },
          "name": "stderr",
          "output_type": "stream",
          "text": [
            "epoch 285: 100%|██████████| 282/282 [00:07<00:00, 38.19it/s]\n"
          ]
        },
        {
          "metadata": {
            "tags": null
          },
          "name": "stdout",
          "output_type": "stream",
          "text": [
            "validation loss: 0.0017432675866617096 at epoch 286\n",
            "learning_rate: 0.00064\n"
          ]
        },
        {
          "metadata": {
            "tags": null
          },
          "name": "stderr",
          "output_type": "stream",
          "text": [
            "epoch 286: 100%|██████████| 282/282 [00:08<00:00, 34.59it/s]\n"
          ]
        },
        {
          "metadata": {
            "tags": null
          },
          "name": "stdout",
          "output_type": "stream",
          "text": [
            "validation loss: 0.0029312726474470564 at epoch 287\n",
            "learning_rate: 0.00064\n"
          ]
        },
        {
          "metadata": {
            "tags": null
          },
          "name": "stderr",
          "output_type": "stream",
          "text": [
            "epoch 287: 100%|██████████| 282/282 [00:08<00:00, 35.10it/s]\n"
          ]
        },
        {
          "metadata": {
            "tags": null
          },
          "name": "stdout",
          "output_type": "stream",
          "text": [
            "validation loss: 0.001360808287643724 at epoch 288\n",
            "learning_rate: 0.00064\n"
          ]
        },
        {
          "metadata": {
            "tags": null
          },
          "name": "stderr",
          "output_type": "stream",
          "text": [
            "epoch 288: 100%|██████████| 282/282 [00:07<00:00, 38.32it/s]\n"
          ]
        },
        {
          "metadata": {
            "tags": null
          },
          "name": "stdout",
          "output_type": "stream",
          "text": [
            "validation loss: 0.00761017648379008 at epoch 289\n",
            "learning_rate: 0.00064\n"
          ]
        },
        {
          "metadata": {
            "tags": null
          },
          "name": "stderr",
          "output_type": "stream",
          "text": [
            "epoch 289: 100%|██████████| 282/282 [00:08<00:00, 34.26it/s]\n"
          ]
        },
        {
          "metadata": {
            "tags": null
          },
          "name": "stdout",
          "output_type": "stream",
          "text": [
            "validation loss: 0.0016635286261638006 at epoch 290\n",
            "learning_rate: 0.00064\n"
          ]
        },
        {
          "metadata": {
            "tags": null
          },
          "name": "stderr",
          "output_type": "stream",
          "text": [
            "epoch 290: 100%|██████████| 282/282 [00:08<00:00, 34.90it/s]\n"
          ]
        },
        {
          "metadata": {
            "tags": null
          },
          "name": "stdout",
          "output_type": "stream",
          "text": [
            "validation loss: 0.002181612041261461 at epoch 291\n",
            "learning_rate: 0.00064\n"
          ]
        },
        {
          "metadata": {
            "tags": null
          },
          "name": "stderr",
          "output_type": "stream",
          "text": [
            "epoch 291: 100%|██████████| 282/282 [00:07<00:00, 38.48it/s]\n"
          ]
        },
        {
          "metadata": {
            "tags": null
          },
          "name": "stdout",
          "output_type": "stream",
          "text": [
            "validation loss: 0.002287532154056761 at epoch 292\n",
            "learning_rate: 0.00064\n"
          ]
        },
        {
          "metadata": {
            "tags": null
          },
          "name": "stderr",
          "output_type": "stream",
          "text": [
            "epoch 292: 100%|██████████| 282/282 [00:08<00:00, 34.86it/s]\n"
          ]
        },
        {
          "metadata": {
            "tags": null
          },
          "name": "stdout",
          "output_type": "stream",
          "text": [
            "validation loss: 0.0014485716107818815 at epoch 293\n",
            "learning_rate: 0.00064\n"
          ]
        },
        {
          "metadata": {
            "tags": null
          },
          "name": "stderr",
          "output_type": "stream",
          "text": [
            "epoch 293: 100%|██████████| 282/282 [00:08<00:00, 35.16it/s]\n"
          ]
        },
        {
          "metadata": {
            "tags": null
          },
          "name": "stdout",
          "output_type": "stream",
          "text": [
            "validation loss: 0.0013607035759422514 at epoch 294\n",
            "learning_rate: 0.00064\n"
          ]
        },
        {
          "metadata": {
            "tags": null
          },
          "name": "stderr",
          "output_type": "stream",
          "text": [
            "epoch 294: 100%|██████████| 282/282 [00:07<00:00, 38.49it/s]\n"
          ]
        },
        {
          "metadata": {
            "tags": null
          },
          "name": "stdout",
          "output_type": "stream",
          "text": [
            "validation loss: 0.0016377154009209738 at epoch 295\n",
            "learning_rate: 0.00064\n"
          ]
        },
        {
          "metadata": {
            "tags": null
          },
          "name": "stderr",
          "output_type": "stream",
          "text": [
            "epoch 295: 100%|██████████| 282/282 [00:08<00:00, 34.14it/s]\n"
          ]
        },
        {
          "metadata": {
            "tags": null
          },
          "name": "stdout",
          "output_type": "stream",
          "text": [
            "validation loss: 0.0013149330508377818 at epoch 296\n",
            "learning_rate: 0.00064\n"
          ]
        },
        {
          "metadata": {
            "tags": null
          },
          "name": "stderr",
          "output_type": "stream",
          "text": [
            "epoch 296: 100%|██████████| 282/282 [00:07<00:00, 36.21it/s]\n"
          ]
        },
        {
          "metadata": {
            "tags": null
          },
          "name": "stdout",
          "output_type": "stream",
          "text": [
            "validation loss: 0.00232062039607101 at epoch 297\n",
            "learning_rate: 0.00064\n"
          ]
        },
        {
          "metadata": {
            "tags": null
          },
          "name": "stderr",
          "output_type": "stream",
          "text": [
            "epoch 297: 100%|██████████| 282/282 [00:07<00:00, 38.11it/s]\n"
          ]
        },
        {
          "metadata": {
            "tags": null
          },
          "name": "stdout",
          "output_type": "stream",
          "text": [
            "validation loss: 0.0019349617378579245 at epoch 298\n",
            "learning_rate: 0.00064\n"
          ]
        },
        {
          "metadata": {
            "tags": null
          },
          "name": "stderr",
          "output_type": "stream",
          "text": [
            "epoch 298: 100%|██████████| 282/282 [00:08<00:00, 34.77it/s]\n"
          ]
        },
        {
          "metadata": {
            "tags": null
          },
          "name": "stdout",
          "output_type": "stream",
          "text": [
            "validation loss: 0.0024160953909158705 at epoch 299\n",
            "learning_rate: 0.00064\n"
          ]
        },
        {
          "metadata": {
            "tags": null
          },
          "name": "stderr",
          "output_type": "stream",
          "text": [
            "epoch 299: 100%|██████████| 282/282 [00:07<00:00, 36.06it/s]\n"
          ]
        },
        {
          "metadata": {
            "tags": null
          },
          "name": "stdout",
          "output_type": "stream",
          "text": [
            "validation loss: 0.001444874150885476 at epoch 300\n",
            "learning_rate: 0.00064\n"
          ]
        },
        {
          "metadata": {
            "tags": null
          },
          "name": "stderr",
          "output_type": "stream",
          "text": [
            "epoch 300: 100%|██████████| 282/282 [00:07<00:00, 37.39it/s]\n"
          ]
        },
        {
          "metadata": {
            "tags": null
          },
          "name": "stdout",
          "output_type": "stream",
          "text": [
            "validation loss: 0.0019017544388771057 at epoch 301\n",
            "learning_rate: 0.00064\n"
          ]
        },
        {
          "metadata": {
            "tags": null
          },
          "name": "stderr",
          "output_type": "stream",
          "text": [
            "epoch 301: 100%|██████████| 282/282 [00:08<00:00, 34.10it/s]\n"
          ]
        },
        {
          "metadata": {
            "tags": null
          },
          "name": "stdout",
          "output_type": "stream",
          "text": [
            "validation loss: 0.0013048150746358767 at epoch 302\n",
            "learning_rate: 0.00064\n"
          ]
        },
        {
          "metadata": {
            "tags": null
          },
          "name": "stderr",
          "output_type": "stream",
          "text": [
            "epoch 302: 100%|██████████| 282/282 [00:07<00:00, 37.21it/s]\n"
          ]
        },
        {
          "metadata": {
            "tags": null
          },
          "name": "stdout",
          "output_type": "stream",
          "text": [
            "validation loss: 0.0016456389816270935 at epoch 303\n",
            "learning_rate: 0.00064\n"
          ]
        },
        {
          "metadata": {
            "tags": null
          },
          "name": "stderr",
          "output_type": "stream",
          "text": [
            "epoch 303: 100%|██████████| 282/282 [00:07<00:00, 37.04it/s]\n"
          ]
        },
        {
          "metadata": {
            "tags": null
          },
          "name": "stdout",
          "output_type": "stream",
          "text": [
            "validation loss: 0.001617984930674235 at epoch 304\n",
            "learning_rate: 0.00064\n"
          ]
        },
        {
          "metadata": {
            "tags": null
          },
          "name": "stderr",
          "output_type": "stream",
          "text": [
            "epoch 304: 100%|██████████| 282/282 [00:08<00:00, 34.65it/s]\n"
          ]
        },
        {
          "metadata": {
            "tags": null
          },
          "name": "stdout",
          "output_type": "stream",
          "text": [
            "validation loss: 0.002129796188738611 at epoch 305\n",
            "learning_rate: 0.00064\n"
          ]
        },
        {
          "metadata": {
            "tags": null
          },
          "name": "stderr",
          "output_type": "stream",
          "text": [
            "epoch 305: 100%|██████████| 282/282 [00:07<00:00, 37.16it/s]\n"
          ]
        },
        {
          "metadata": {
            "tags": null
          },
          "name": "stdout",
          "output_type": "stream",
          "text": [
            "validation loss: 0.00236417029135757 at epoch 306\n",
            "learning_rate: 0.00064\n"
          ]
        },
        {
          "metadata": {
            "tags": null
          },
          "name": "stderr",
          "output_type": "stream",
          "text": [
            "epoch 306: 100%|██████████| 282/282 [00:07<00:00, 36.62it/s]\n"
          ]
        },
        {
          "metadata": {
            "tags": null
          },
          "name": "stdout",
          "output_type": "stream",
          "text": [
            "validation loss: 0.003575210440489981 at epoch 307\n",
            "learning_rate: 0.00064\n"
          ]
        },
        {
          "metadata": {
            "tags": null
          },
          "name": "stderr",
          "output_type": "stream",
          "text": [
            "epoch 307: 100%|██████████| 282/282 [00:08<00:00, 34.24it/s]\n"
          ]
        },
        {
          "metadata": {
            "tags": null
          },
          "name": "stdout",
          "output_type": "stream",
          "text": [
            "validation loss: 0.0019995449847645228 at epoch 308\n",
            "learning_rate: 0.00064\n"
          ]
        },
        {
          "metadata": {
            "tags": null
          },
          "name": "stderr",
          "output_type": "stream",
          "text": [
            "epoch 308: 100%|██████████| 282/282 [00:07<00:00, 38.07it/s]\n"
          ]
        },
        {
          "metadata": {
            "tags": null
          },
          "name": "stdout",
          "output_type": "stream",
          "text": [
            "validation loss: 0.0014227348872356944 at epoch 309\n",
            "learning_rate: 0.00064\n"
          ]
        },
        {
          "metadata": {
            "tags": null
          },
          "name": "stderr",
          "output_type": "stream",
          "text": [
            "epoch 309: 100%|██████████| 282/282 [00:07<00:00, 35.65it/s]\n"
          ]
        },
        {
          "metadata": {
            "tags": null
          },
          "name": "stdout",
          "output_type": "stream",
          "text": [
            "validation loss: 0.0028532004637850657 at epoch 310\n",
            "learning_rate: 0.00064\n"
          ]
        },
        {
          "metadata": {
            "tags": null
          },
          "name": "stderr",
          "output_type": "stream",
          "text": [
            "epoch 310: 100%|██████████| 282/282 [00:08<00:00, 33.93it/s]\n"
          ]
        },
        {
          "metadata": {
            "tags": null
          },
          "name": "stdout",
          "output_type": "stream",
          "text": [
            "validation loss: 0.0018131353168023957 at epoch 311\n",
            "learning_rate: 0.00064\n"
          ]
        },
        {
          "metadata": {
            "tags": null
          },
          "name": "stderr",
          "output_type": "stream",
          "text": [
            "epoch 311: 100%|██████████| 282/282 [00:07<00:00, 38.06it/s]\n"
          ]
        },
        {
          "metadata": {
            "tags": null
          },
          "name": "stdout",
          "output_type": "stream",
          "text": [
            "validation loss: 0.0023906238509549035 at epoch 312\n",
            "learning_rate: 0.00064\n"
          ]
        },
        {
          "metadata": {
            "tags": null
          },
          "name": "stderr",
          "output_type": "stream",
          "text": [
            "epoch 312: 100%|██████████| 282/282 [00:07<00:00, 36.03it/s]\n"
          ]
        },
        {
          "metadata": {
            "tags": null
          },
          "name": "stdout",
          "output_type": "stream",
          "text": [
            "validation loss: 0.0021928167649441295 at epoch 313\n",
            "learning_rate: 0.00064\n"
          ]
        },
        {
          "metadata": {
            "tags": null
          },
          "name": "stderr",
          "output_type": "stream",
          "text": [
            "epoch 313: 100%|██████████| 282/282 [00:08<00:00, 34.62it/s]\n"
          ]
        },
        {
          "metadata": {
            "tags": null
          },
          "name": "stdout",
          "output_type": "stream",
          "text": [
            "validation loss: 0.002014397385219733 at epoch 314\n",
            "learning_rate: 0.00064\n"
          ]
        },
        {
          "metadata": {
            "tags": null
          },
          "name": "stderr",
          "output_type": "stream",
          "text": [
            "epoch 314: 100%|██████████| 282/282 [00:07<00:00, 38.46it/s]\n"
          ]
        },
        {
          "metadata": {
            "tags": null
          },
          "name": "stdout",
          "output_type": "stream",
          "text": [
            "validation loss: 0.0014402640966905487 at epoch 315\n",
            "learning_rate: 0.00064\n"
          ]
        },
        {
          "metadata": {
            "tags": null
          },
          "name": "stderr",
          "output_type": "stream",
          "text": [
            "epoch 315: 100%|██████████| 282/282 [00:07<00:00, 35.98it/s]\n"
          ]
        },
        {
          "metadata": {
            "tags": null
          },
          "name": "stdout",
          "output_type": "stream",
          "text": [
            "validation loss: 0.0033712374137507546 at epoch 316\n",
            "learning_rate: 0.00064\n"
          ]
        },
        {
          "metadata": {
            "tags": null
          },
          "name": "stderr",
          "output_type": "stream",
          "text": [
            "epoch 316: 100%|██████████| 282/282 [00:08<00:00, 34.75it/s]\n"
          ]
        },
        {
          "metadata": {
            "tags": null
          },
          "name": "stdout",
          "output_type": "stream",
          "text": [
            "validation loss: 0.0016478951937622494 at epoch 317\n",
            "learning_rate: 0.00064\n"
          ]
        },
        {
          "metadata": {
            "tags": null
          },
          "name": "stderr",
          "output_type": "stream",
          "text": [
            "epoch 317: 100%|██████████| 282/282 [00:07<00:00, 38.56it/s]\n"
          ]
        },
        {
          "metadata": {
            "tags": null
          },
          "name": "stdout",
          "output_type": "stream",
          "text": [
            "validation loss: 0.002288224627574285 at epoch 318\n",
            "learning_rate: 0.00064\n"
          ]
        },
        {
          "metadata": {
            "tags": null
          },
          "name": "stderr",
          "output_type": "stream",
          "text": [
            "epoch 318: 100%|██████████| 282/282 [00:07<00:00, 35.61it/s]\n"
          ]
        },
        {
          "metadata": {
            "tags": null
          },
          "name": "stdout",
          "output_type": "stream",
          "text": [
            "validation loss: 0.002805840027001169 at epoch 319\n",
            "learning_rate: 0.00064\n"
          ]
        },
        {
          "metadata": {
            "tags": null
          },
          "name": "stderr",
          "output_type": "stream",
          "text": [
            "epoch 319: 100%|██████████| 282/282 [00:08<00:00, 35.04it/s]\n"
          ]
        },
        {
          "metadata": {
            "tags": null
          },
          "name": "stdout",
          "output_type": "stream",
          "text": [
            "validation loss: 0.0015220528940359751 at epoch 320\n",
            "learning_rate: 0.00064\n"
          ]
        },
        {
          "metadata": {
            "tags": null
          },
          "name": "stderr",
          "output_type": "stream",
          "text": [
            "epoch 320: 100%|██████████| 282/282 [00:07<00:00, 38.62it/s]\n"
          ]
        },
        {
          "metadata": {
            "tags": null
          },
          "name": "stdout",
          "output_type": "stream",
          "text": [
            "validation loss: 0.0013328816104266378 at epoch 321\n",
            "learning_rate: 0.00064\n"
          ]
        },
        {
          "metadata": {
            "tags": null
          },
          "name": "stderr",
          "output_type": "stream",
          "text": [
            "epoch 321: 100%|██████████| 282/282 [00:08<00:00, 35.14it/s]\n"
          ]
        },
        {
          "metadata": {
            "tags": null
          },
          "name": "stdout",
          "output_type": "stream",
          "text": [
            "validation loss: 0.0030196321970886652 at epoch 322\n",
            "learning_rate: 0.00064\n"
          ]
        },
        {
          "metadata": {
            "tags": null
          },
          "name": "stderr",
          "output_type": "stream",
          "text": [
            "epoch 322: 100%|██████████| 282/282 [00:08<00:00, 34.68it/s]\n"
          ]
        },
        {
          "metadata": {
            "tags": null
          },
          "name": "stdout",
          "output_type": "stream",
          "text": [
            "validation loss: 0.0020218957811594007 at epoch 323\n",
            "learning_rate: 0.00064\n"
          ]
        },
        {
          "metadata": {
            "tags": null
          },
          "name": "stderr",
          "output_type": "stream",
          "text": [
            "epoch 323: 100%|██████████| 282/282 [00:07<00:00, 38.44it/s]\n"
          ]
        },
        {
          "metadata": {
            "tags": null
          },
          "name": "stdout",
          "output_type": "stream",
          "text": [
            "validation loss: 0.0033166345026757983 at epoch 324\n",
            "learning_rate: 0.00064\n"
          ]
        },
        {
          "metadata": {
            "tags": null
          },
          "name": "stderr",
          "output_type": "stream",
          "text": [
            "epoch 324: 100%|██████████| 282/282 [00:08<00:00, 34.70it/s]\n"
          ]
        },
        {
          "metadata": {
            "tags": null
          },
          "name": "stdout",
          "output_type": "stream",
          "text": [
            "validation loss: 0.0024818318353758916 at epoch 325\n",
            "learning_rate: 0.00064\n"
          ]
        },
        {
          "metadata": {
            "tags": null
          },
          "name": "stderr",
          "output_type": "stream",
          "text": [
            "epoch 325: 100%|██████████| 282/282 [00:08<00:00, 34.46it/s]\n"
          ]
        },
        {
          "metadata": {
            "tags": null
          },
          "name": "stdout",
          "output_type": "stream",
          "text": [
            "validation loss: 0.0019833706981605952 at epoch 326\n",
            "learning_rate: 0.00064\n"
          ]
        },
        {
          "metadata": {
            "tags": null
          },
          "name": "stderr",
          "output_type": "stream",
          "text": [
            "epoch 326: 100%|██████████| 282/282 [00:07<00:00, 38.48it/s]\n"
          ]
        },
        {
          "metadata": {
            "tags": null
          },
          "name": "stdout",
          "output_type": "stream",
          "text": [
            "validation loss: 0.0018072404323352708 at epoch 327\n",
            "learning_rate: 0.00064\n"
          ]
        },
        {
          "metadata": {
            "tags": null
          },
          "name": "stderr",
          "output_type": "stream",
          "text": [
            "epoch 327: 100%|██████████| 282/282 [00:08<00:00, 34.65it/s]\n"
          ]
        },
        {
          "metadata": {
            "tags": null
          },
          "name": "stdout",
          "output_type": "stream",
          "text": [
            "validation loss: 0.0030267370922697915 at epoch 328\n",
            "learning_rate: 0.00064\n"
          ]
        },
        {
          "metadata": {
            "tags": null
          },
          "name": "stderr",
          "output_type": "stream",
          "text": [
            "epoch 328: 100%|██████████| 282/282 [00:08<00:00, 34.13it/s]\n"
          ]
        },
        {
          "metadata": {
            "tags": null
          },
          "name": "stdout",
          "output_type": "stream",
          "text": [
            "validation loss: 0.0018449393386642137 at epoch 329\n",
            "learning_rate: 0.0005120000000000001\n"
          ]
        },
        {
          "metadata": {
            "tags": null
          },
          "name": "stderr",
          "output_type": "stream",
          "text": [
            "epoch 329: 100%|██████████| 282/282 [00:07<00:00, 38.11it/s]\n"
          ]
        },
        {
          "metadata": {
            "tags": null
          },
          "name": "stdout",
          "output_type": "stream",
          "text": [
            "validation loss: 0.0032322781301207014 at epoch 330\n",
            "learning_rate: 0.0005120000000000001\n"
          ]
        },
        {
          "metadata": {
            "tags": null
          },
          "name": "stderr",
          "output_type": "stream",
          "text": [
            "epoch 330: 100%|██████████| 282/282 [00:08<00:00, 34.87it/s]\n"
          ]
        },
        {
          "metadata": {
            "tags": null
          },
          "name": "stdout",
          "output_type": "stream",
          "text": [
            "validation loss: 0.0019262188441223568 at epoch 331\n",
            "learning_rate: 0.0005120000000000001\n"
          ]
        },
        {
          "metadata": {
            "tags": null
          },
          "name": "stderr",
          "output_type": "stream",
          "text": [
            "epoch 331: 100%|██████████| 282/282 [00:08<00:00, 34.54it/s]\n"
          ]
        },
        {
          "metadata": {
            "tags": null
          },
          "name": "stdout",
          "output_type": "stream",
          "text": [
            "validation loss: 0.001210297107282612 at epoch 332\n",
            "learning_rate: 0.0005120000000000001\n"
          ]
        },
        {
          "metadata": {
            "tags": null
          },
          "name": "stderr",
          "output_type": "stream",
          "text": [
            "epoch 332: 100%|██████████| 282/282 [00:07<00:00, 38.41it/s]\n"
          ]
        },
        {
          "metadata": {
            "tags": null
          },
          "name": "stdout",
          "output_type": "stream",
          "text": [
            "validation loss: 0.002044650966922442 at epoch 333\n",
            "learning_rate: 0.0005120000000000001\n"
          ]
        },
        {
          "metadata": {
            "tags": null
          },
          "name": "stderr",
          "output_type": "stream",
          "text": [
            "epoch 333: 100%|██████████| 282/282 [00:08<00:00, 34.44it/s]\n"
          ]
        },
        {
          "metadata": {
            "tags": null
          },
          "name": "stdout",
          "output_type": "stream",
          "text": [
            "validation loss: 0.0035506977240244548 at epoch 334\n",
            "learning_rate: 0.0005120000000000001\n"
          ]
        },
        {
          "metadata": {
            "tags": null
          },
          "name": "stderr",
          "output_type": "stream",
          "text": [
            "epoch 334: 100%|██████████| 282/282 [00:08<00:00, 34.34it/s]\n"
          ]
        },
        {
          "metadata": {
            "tags": null
          },
          "name": "stdout",
          "output_type": "stream",
          "text": [
            "validation loss: 0.00143792129556338 at epoch 335\n",
            "learning_rate: 0.0005120000000000001\n"
          ]
        },
        {
          "metadata": {
            "tags": null
          },
          "name": "stderr",
          "output_type": "stream",
          "text": [
            "epoch 335: 100%|██████████| 282/282 [00:07<00:00, 37.90it/s]\n"
          ]
        },
        {
          "metadata": {
            "tags": null
          },
          "name": "stdout",
          "output_type": "stream",
          "text": [
            "validation loss: 0.00190555775579479 at epoch 336\n",
            "learning_rate: 0.0005120000000000001\n"
          ]
        },
        {
          "metadata": {
            "tags": null
          },
          "name": "stderr",
          "output_type": "stream",
          "text": [
            "epoch 336: 100%|██████████| 282/282 [00:08<00:00, 34.00it/s]\n"
          ]
        },
        {
          "metadata": {
            "tags": null
          },
          "name": "stdout",
          "output_type": "stream",
          "text": [
            "validation loss: 0.001617186800473266 at epoch 337\n",
            "learning_rate: 0.0005120000000000001\n"
          ]
        },
        {
          "metadata": {
            "tags": null
          },
          "name": "stderr",
          "output_type": "stream",
          "text": [
            "epoch 337: 100%|██████████| 282/282 [00:08<00:00, 35.08it/s]\n"
          ]
        },
        {
          "metadata": {
            "tags": null
          },
          "name": "stdout",
          "output_type": "stream",
          "text": [
            "validation loss: 0.004222802393966251 at epoch 338\n",
            "learning_rate: 0.0005120000000000001\n"
          ]
        },
        {
          "metadata": {
            "tags": null
          },
          "name": "stderr",
          "output_type": "stream",
          "text": [
            "epoch 338: 100%|██████████| 282/282 [00:07<00:00, 38.53it/s]\n"
          ]
        },
        {
          "metadata": {
            "tags": null
          },
          "name": "stdout",
          "output_type": "stream",
          "text": [
            "validation loss: 0.005986527668105231 at epoch 339\n",
            "learning_rate: 0.0005120000000000001\n"
          ]
        },
        {
          "metadata": {
            "tags": null
          },
          "name": "stderr",
          "output_type": "stream",
          "text": [
            "epoch 339: 100%|██████████| 282/282 [00:08<00:00, 34.41it/s]\n"
          ]
        },
        {
          "metadata": {
            "tags": null
          },
          "name": "stdout",
          "output_type": "stream",
          "text": [
            "validation loss: 0.0014871110618114472 at epoch 340\n",
            "learning_rate: 0.0005120000000000001\n"
          ]
        },
        {
          "metadata": {
            "tags": null
          },
          "name": "stderr",
          "output_type": "stream",
          "text": [
            "epoch 340: 100%|██████████| 282/282 [00:08<00:00, 34.25it/s]\n"
          ]
        },
        {
          "metadata": {
            "tags": null
          },
          "name": "stdout",
          "output_type": "stream",
          "text": [
            "validation loss: 0.0011575717851519585 at epoch 341\n",
            "learning_rate: 0.0005120000000000001\n",
            "model saved in ani_acrolein.pt\n"
          ]
        },
        {
          "metadata": {
            "tags": null
          },
          "name": "stderr",
          "output_type": "stream",
          "text": [
            "epoch 341: 100%|██████████| 282/282 [00:07<00:00, 38.50it/s]\n"
          ]
        },
        {
          "metadata": {
            "tags": null
          },
          "name": "stdout",
          "output_type": "stream",
          "text": [
            "validation loss: 0.002668373775151041 at epoch 342\n",
            "learning_rate: 0.0005120000000000001\n"
          ]
        },
        {
          "metadata": {
            "tags": null
          },
          "name": "stderr",
          "output_type": "stream",
          "text": [
            "epoch 342: 100%|██████████| 282/282 [00:08<00:00, 34.46it/s]\n"
          ]
        },
        {
          "metadata": {
            "tags": null
          },
          "name": "stdout",
          "output_type": "stream",
          "text": [
            "validation loss: 0.0010878388016588158 at epoch 343\n",
            "learning_rate: 0.0005120000000000001\n",
            "model saved in ani_acrolein.pt\n"
          ]
        },
        {
          "metadata": {
            "tags": null
          },
          "name": "stderr",
          "output_type": "stream",
          "text": [
            "epoch 343: 100%|██████████| 282/282 [00:08<00:00, 35.06it/s]\n"
          ]
        },
        {
          "metadata": {
            "tags": null
          },
          "name": "stdout",
          "output_type": "stream",
          "text": [
            "validation loss: 0.0024546991917822098 at epoch 344\n",
            "learning_rate: 0.0005120000000000001\n"
          ]
        },
        {
          "metadata": {
            "tags": null
          },
          "name": "stderr",
          "output_type": "stream",
          "text": [
            "epoch 344: 100%|██████████| 282/282 [00:07<00:00, 38.69it/s]\n"
          ]
        },
        {
          "metadata": {
            "tags": null
          },
          "name": "stdout",
          "output_type": "stream",
          "text": [
            "validation loss: 0.0014055297134651077 at epoch 345\n",
            "learning_rate: 0.0005120000000000001\n"
          ]
        },
        {
          "metadata": {
            "tags": null
          },
          "name": "stderr",
          "output_type": "stream",
          "text": [
            "epoch 345: 100%|██████████| 282/282 [00:08<00:00, 35.06it/s]\n"
          ]
        },
        {
          "metadata": {
            "tags": null
          },
          "name": "stdout",
          "output_type": "stream",
          "text": [
            "validation loss: 0.002119465017484294 at epoch 346\n",
            "learning_rate: 0.0005120000000000001\n"
          ]
        },
        {
          "metadata": {
            "tags": null
          },
          "name": "stderr",
          "output_type": "stream",
          "text": [
            "epoch 346: 100%|██████████| 282/282 [00:08<00:00, 34.45it/s]\n"
          ]
        },
        {
          "metadata": {
            "tags": null
          },
          "name": "stdout",
          "output_type": "stream",
          "text": [
            "validation loss: 0.001173723455518484 at epoch 347\n",
            "learning_rate: 0.0005120000000000001\n"
          ]
        },
        {
          "metadata": {
            "tags": null
          },
          "name": "stderr",
          "output_type": "stream",
          "text": [
            "epoch 347: 100%|██████████| 282/282 [00:07<00:00, 38.08it/s]\n"
          ]
        },
        {
          "metadata": {
            "tags": null
          },
          "name": "stdout",
          "output_type": "stream",
          "text": [
            "validation loss: 0.0015659839204616016 at epoch 348\n",
            "learning_rate: 0.0005120000000000001\n"
          ]
        },
        {
          "metadata": {
            "tags": null
          },
          "name": "stderr",
          "output_type": "stream",
          "text": [
            "epoch 348: 100%|██████████| 282/282 [00:08<00:00, 34.49it/s]\n"
          ]
        },
        {
          "metadata": {
            "tags": null
          },
          "name": "stdout",
          "output_type": "stream",
          "text": [
            "validation loss: 0.0010849068636695543 at epoch 349\n",
            "learning_rate: 0.0005120000000000001\n",
            "model saved in ani_acrolein.pt\n"
          ]
        },
        {
          "metadata": {
            "tags": null
          },
          "name": "stderr",
          "output_type": "stream",
          "text": [
            "epoch 349: 100%|██████████| 282/282 [00:08<00:00, 34.26it/s]\n"
          ]
        },
        {
          "metadata": {
            "tags": null
          },
          "name": "stdout",
          "output_type": "stream",
          "text": [
            "validation loss: 0.003494925354917844 at epoch 350\n",
            "learning_rate: 0.0005120000000000001\n"
          ]
        },
        {
          "metadata": {
            "tags": null
          },
          "name": "stderr",
          "output_type": "stream",
          "text": [
            "epoch 350: 100%|██████████| 282/282 [00:07<00:00, 38.22it/s]\n"
          ]
        },
        {
          "metadata": {
            "tags": null
          },
          "name": "stdout",
          "output_type": "stream",
          "text": [
            "validation loss: 0.0039917872912353936 at epoch 351\n",
            "learning_rate: 0.0005120000000000001\n"
          ]
        },
        {
          "metadata": {
            "tags": null
          },
          "name": "stderr",
          "output_type": "stream",
          "text": [
            "epoch 351: 100%|██████████| 282/282 [00:08<00:00, 34.72it/s]\n"
          ]
        },
        {
          "metadata": {
            "tags": null
          },
          "name": "stdout",
          "output_type": "stream",
          "text": [
            "validation loss: 0.0016751993224024772 at epoch 352\n",
            "learning_rate: 0.0005120000000000001\n"
          ]
        },
        {
          "metadata": {
            "tags": null
          },
          "name": "stderr",
          "output_type": "stream",
          "text": [
            "epoch 352: 100%|██████████| 282/282 [00:08<00:00, 34.41it/s]\n"
          ]
        },
        {
          "metadata": {
            "tags": null
          },
          "name": "stdout",
          "output_type": "stream",
          "text": [
            "validation loss: 0.006203868385818269 at epoch 353\n",
            "learning_rate: 0.0005120000000000001\n"
          ]
        },
        {
          "metadata": {
            "tags": null
          },
          "name": "stderr",
          "output_type": "stream",
          "text": [
            "epoch 353: 100%|██████████| 282/282 [00:07<00:00, 37.95it/s]\n"
          ]
        },
        {
          "metadata": {
            "tags": null
          },
          "name": "stdout",
          "output_type": "stream",
          "text": [
            "validation loss: 0.0012842160094943312 at epoch 354\n",
            "learning_rate: 0.0005120000000000001\n"
          ]
        },
        {
          "metadata": {
            "tags": null
          },
          "name": "stderr",
          "output_type": "stream",
          "text": [
            "epoch 354: 100%|██████████| 282/282 [00:08<00:00, 34.89it/s]\n"
          ]
        },
        {
          "metadata": {
            "tags": null
          },
          "name": "stdout",
          "output_type": "stream",
          "text": [
            "validation loss: 0.00408088191681438 at epoch 355\n",
            "learning_rate: 0.0005120000000000001\n"
          ]
        },
        {
          "metadata": {
            "tags": null
          },
          "name": "stderr",
          "output_type": "stream",
          "text": [
            "epoch 355: 100%|██████████| 282/282 [00:08<00:00, 34.77it/s]\n"
          ]
        },
        {
          "metadata": {
            "tags": null
          },
          "name": "stdout",
          "output_type": "stream",
          "text": [
            "validation loss: 0.0010764390553037325 at epoch 356\n",
            "learning_rate: 0.0005120000000000001\n",
            "model saved in ani_acrolein.pt\n"
          ]
        },
        {
          "metadata": {
            "tags": null
          },
          "name": "stderr",
          "output_type": "stream",
          "text": [
            "epoch 356: 100%|██████████| 282/282 [00:07<00:00, 38.21it/s]\n"
          ]
        },
        {
          "metadata": {
            "tags": null
          },
          "name": "stdout",
          "output_type": "stream",
          "text": [
            "validation loss: 0.0012394277138842477 at epoch 357\n",
            "learning_rate: 0.0005120000000000001\n"
          ]
        },
        {
          "metadata": {
            "tags": null
          },
          "name": "stderr",
          "output_type": "stream",
          "text": [
            "epoch 357: 100%|██████████| 282/282 [00:08<00:00, 34.36it/s]\n"
          ]
        },
        {
          "metadata": {
            "tags": null
          },
          "name": "stdout",
          "output_type": "stream",
          "text": [
            "validation loss: 0.002859417604075538 at epoch 358\n",
            "learning_rate: 0.0005120000000000001\n"
          ]
        },
        {
          "metadata": {
            "tags": null
          },
          "name": "stderr",
          "output_type": "stream",
          "text": [
            "epoch 358: 100%|██████████| 282/282 [00:08<00:00, 34.89it/s]\n"
          ]
        },
        {
          "metadata": {
            "tags": null
          },
          "name": "stdout",
          "output_type": "stream",
          "text": [
            "validation loss: 0.002640039250254631 at epoch 359\n",
            "learning_rate: 0.0005120000000000001\n"
          ]
        },
        {
          "metadata": {
            "tags": null
          },
          "name": "stderr",
          "output_type": "stream",
          "text": [
            "epoch 359: 100%|██████████| 282/282 [00:07<00:00, 38.26it/s]\n"
          ]
        },
        {
          "metadata": {
            "tags": null
          },
          "name": "stdout",
          "output_type": "stream",
          "text": [
            "validation loss: 0.0012177292158206303 at epoch 360\n",
            "learning_rate: 0.0005120000000000001\n"
          ]
        },
        {
          "metadata": {
            "tags": null
          },
          "name": "stderr",
          "output_type": "stream",
          "text": [
            "epoch 360: 100%|██████████| 282/282 [00:08<00:00, 34.23it/s]\n"
          ]
        },
        {
          "metadata": {
            "tags": null
          },
          "name": "stdout",
          "output_type": "stream",
          "text": [
            "validation loss: 0.001259368385705683 at epoch 361\n",
            "learning_rate: 0.0005120000000000001\n"
          ]
        },
        {
          "metadata": {
            "tags": null
          },
          "name": "stderr",
          "output_type": "stream",
          "text": [
            "epoch 361: 100%|██████████| 282/282 [00:07<00:00, 35.46it/s]\n"
          ]
        },
        {
          "metadata": {
            "tags": null
          },
          "name": "stdout",
          "output_type": "stream",
          "text": [
            "validation loss: 0.001758512482047081 at epoch 362\n",
            "learning_rate: 0.0005120000000000001\n"
          ]
        },
        {
          "metadata": {
            "tags": null
          },
          "name": "stderr",
          "output_type": "stream",
          "text": [
            "epoch 362: 100%|██████████| 282/282 [00:07<00:00, 38.57it/s]\n"
          ]
        },
        {
          "metadata": {
            "tags": null
          },
          "name": "stdout",
          "output_type": "stream",
          "text": [
            "validation loss: 0.0013031207480364375 at epoch 363\n",
            "learning_rate: 0.0005120000000000001\n"
          ]
        },
        {
          "metadata": {
            "tags": null
          },
          "name": "stderr",
          "output_type": "stream",
          "text": [
            "epoch 363: 100%|██████████| 282/282 [00:08<00:00, 34.36it/s]\n"
          ]
        },
        {
          "metadata": {
            "tags": null
          },
          "name": "stdout",
          "output_type": "stream",
          "text": [
            "validation loss: 0.003809931539826923 at epoch 364\n",
            "learning_rate: 0.0005120000000000001\n"
          ]
        },
        {
          "metadata": {
            "tags": null
          },
          "name": "stderr",
          "output_type": "stream",
          "text": [
            "epoch 364: 100%|██████████| 282/282 [00:07<00:00, 35.64it/s]\n"
          ]
        },
        {
          "metadata": {
            "tags": null
          },
          "name": "stdout",
          "output_type": "stream",
          "text": [
            "validation loss: 0.0013180734084712134 at epoch 365\n",
            "learning_rate: 0.0005120000000000001\n"
          ]
        },
        {
          "metadata": {
            "tags": null
          },
          "name": "stderr",
          "output_type": "stream",
          "text": [
            "epoch 365: 100%|██████████| 282/282 [00:07<00:00, 38.11it/s]\n"
          ]
        },
        {
          "metadata": {
            "tags": null
          },
          "name": "stdout",
          "output_type": "stream",
          "text": [
            "validation loss: 0.004230454802513123 at epoch 366\n",
            "learning_rate: 0.0005120000000000001\n"
          ]
        },
        {
          "metadata": {
            "tags": null
          },
          "name": "stderr",
          "output_type": "stream",
          "text": [
            "epoch 366: 100%|██████████| 282/282 [00:08<00:00, 34.94it/s]\n"
          ]
        },
        {
          "metadata": {
            "tags": null
          },
          "name": "stdout",
          "output_type": "stream",
          "text": [
            "validation loss: 0.0012732286068300406 at epoch 367\n",
            "learning_rate: 0.0005120000000000001\n"
          ]
        },
        {
          "metadata": {
            "tags": null
          },
          "name": "stderr",
          "output_type": "stream",
          "text": [
            "epoch 367: 100%|██████████| 282/282 [00:07<00:00, 35.34it/s]\n"
          ]
        },
        {
          "metadata": {
            "tags": null
          },
          "name": "stdout",
          "output_type": "stream",
          "text": [
            "validation loss: 0.0051061190664768216 at epoch 368\n",
            "learning_rate: 0.0005120000000000001\n"
          ]
        },
        {
          "metadata": {
            "tags": null
          },
          "name": "stderr",
          "output_type": "stream",
          "text": [
            "epoch 368: 100%|██████████| 282/282 [00:07<00:00, 38.47it/s]\n"
          ]
        },
        {
          "metadata": {
            "tags": null
          },
          "name": "stdout",
          "output_type": "stream",
          "text": [
            "validation loss: 0.0022938108874691857 at epoch 369\n",
            "learning_rate: 0.0005120000000000001\n"
          ]
        },
        {
          "metadata": {
            "tags": null
          },
          "name": "stderr",
          "output_type": "stream",
          "text": [
            "epoch 369: 100%|██████████| 282/282 [00:08<00:00, 34.50it/s]\n"
          ]
        },
        {
          "metadata": {
            "tags": null
          },
          "name": "stdout",
          "output_type": "stream",
          "text": [
            "validation loss: 0.003797061492999395 at epoch 370\n",
            "learning_rate: 0.0005120000000000001\n"
          ]
        },
        {
          "metadata": {
            "tags": null
          },
          "name": "stderr",
          "output_type": "stream",
          "text": [
            "epoch 370: 100%|██████████| 282/282 [00:07<00:00, 36.13it/s]\n"
          ]
        },
        {
          "metadata": {
            "tags": null
          },
          "name": "stdout",
          "output_type": "stream",
          "text": [
            "validation loss: 0.003763163467248281 at epoch 371\n",
            "learning_rate: 0.0005120000000000001\n"
          ]
        },
        {
          "metadata": {
            "tags": null
          },
          "name": "stderr",
          "output_type": "stream",
          "text": [
            "epoch 371: 100%|██████████| 282/282 [00:07<00:00, 38.34it/s]\n"
          ]
        },
        {
          "metadata": {
            "tags": null
          },
          "name": "stdout",
          "output_type": "stream",
          "text": [
            "validation loss: 0.002391334922777282 at epoch 372\n",
            "learning_rate: 0.0005120000000000001\n"
          ]
        },
        {
          "metadata": {
            "tags": null
          },
          "name": "stderr",
          "output_type": "stream",
          "text": [
            "epoch 372: 100%|██████████| 282/282 [00:08<00:00, 34.12it/s]\n"
          ]
        },
        {
          "metadata": {
            "tags": null
          },
          "name": "stdout",
          "output_type": "stream",
          "text": [
            "validation loss: 0.0013558626522620519 at epoch 373\n",
            "learning_rate: 0.0005120000000000001\n"
          ]
        },
        {
          "metadata": {
            "tags": null
          },
          "name": "stderr",
          "output_type": "stream",
          "text": [
            "epoch 373: 100%|██████████| 282/282 [00:08<00:00, 35.19it/s]\n"
          ]
        },
        {
          "metadata": {
            "tags": null
          },
          "name": "stdout",
          "output_type": "stream",
          "text": [
            "validation loss: 0.001954083361559444 at epoch 374\n",
            "learning_rate: 0.0005120000000000001\n"
          ]
        },
        {
          "metadata": {
            "tags": null
          },
          "name": "stderr",
          "output_type": "stream",
          "text": [
            "epoch 374: 100%|██████████| 282/282 [00:07<00:00, 38.25it/s]\n"
          ]
        },
        {
          "metadata": {
            "tags": null
          },
          "name": "stdout",
          "output_type": "stream",
          "text": [
            "validation loss: 0.003301781478855345 at epoch 375\n",
            "learning_rate: 0.0005120000000000001\n"
          ]
        },
        {
          "metadata": {
            "tags": null
          },
          "name": "stderr",
          "output_type": "stream",
          "text": [
            "epoch 375: 100%|██████████| 282/282 [00:08<00:00, 34.65it/s]\n"
          ]
        },
        {
          "metadata": {
            "tags": null
          },
          "name": "stdout",
          "output_type": "stream",
          "text": [
            "validation loss: 0.002971271271506945 at epoch 376\n",
            "learning_rate: 0.0005120000000000001\n"
          ]
        },
        {
          "metadata": {
            "tags": null
          },
          "name": "stderr",
          "output_type": "stream",
          "text": [
            "epoch 376: 100%|██████████| 282/282 [00:07<00:00, 35.47it/s]\n"
          ]
        },
        {
          "metadata": {
            "tags": null
          },
          "name": "stdout",
          "output_type": "stream",
          "text": [
            "validation loss: 0.0020590427509612507 at epoch 377\n",
            "learning_rate: 0.0005120000000000001\n"
          ]
        },
        {
          "metadata": {
            "tags": null
          },
          "name": "stderr",
          "output_type": "stream",
          "text": [
            "epoch 377: 100%|██████████| 282/282 [00:07<00:00, 38.00it/s]\n"
          ]
        },
        {
          "metadata": {
            "tags": null
          },
          "name": "stdout",
          "output_type": "stream",
          "text": [
            "validation loss: 0.005660006672143936 at epoch 378\n",
            "learning_rate: 0.0005120000000000001\n"
          ]
        },
        {
          "metadata": {
            "tags": null
          },
          "name": "stderr",
          "output_type": "stream",
          "text": [
            "epoch 378: 100%|██████████| 282/282 [00:08<00:00, 34.86it/s]\n"
          ]
        },
        {
          "metadata": {
            "tags": null
          },
          "name": "stdout",
          "output_type": "stream",
          "text": [
            "validation loss: 0.006060568445258671 at epoch 379\n",
            "learning_rate: 0.0005120000000000001\n"
          ]
        },
        {
          "metadata": {
            "tags": null
          },
          "name": "stderr",
          "output_type": "stream",
          "text": [
            "epoch 379: 100%|██████████| 282/282 [00:07<00:00, 35.71it/s]\n"
          ]
        },
        {
          "metadata": {
            "tags": null
          },
          "name": "stdout",
          "output_type": "stream",
          "text": [
            "validation loss: 0.0013345455080270767 at epoch 380\n",
            "learning_rate: 0.0005120000000000001\n"
          ]
        },
        {
          "metadata": {
            "tags": null
          },
          "name": "stderr",
          "output_type": "stream",
          "text": [
            "epoch 380: 100%|██████████| 282/282 [00:07<00:00, 38.31it/s]\n"
          ]
        },
        {
          "metadata": {
            "tags": null
          },
          "name": "stdout",
          "output_type": "stream",
          "text": [
            "validation loss: 0.0013317812292112244 at epoch 381\n",
            "learning_rate: 0.0005120000000000001\n"
          ]
        },
        {
          "metadata": {
            "tags": null
          },
          "name": "stderr",
          "output_type": "stream",
          "text": [
            "epoch 381: 100%|██████████| 282/282 [00:08<00:00, 34.99it/s]\n"
          ]
        },
        {
          "metadata": {
            "tags": null
          },
          "name": "stdout",
          "output_type": "stream",
          "text": [
            "validation loss: 0.0011450853869318961 at epoch 382\n",
            "learning_rate: 0.0005120000000000001\n"
          ]
        },
        {
          "metadata": {
            "tags": null
          },
          "name": "stderr",
          "output_type": "stream",
          "text": [
            "epoch 382: 100%|██████████| 282/282 [00:07<00:00, 35.51it/s]\n"
          ]
        },
        {
          "metadata": {
            "tags": null
          },
          "name": "stdout",
          "output_type": "stream",
          "text": [
            "validation loss: 0.001488017137679789 at epoch 383\n",
            "learning_rate: 0.0005120000000000001\n"
          ]
        },
        {
          "metadata": {
            "tags": null
          },
          "name": "stderr",
          "output_type": "stream",
          "text": [
            "epoch 383: 100%|██████████| 282/282 [00:07<00:00, 38.47it/s]\n"
          ]
        },
        {
          "metadata": {
            "tags": null
          },
          "name": "stdout",
          "output_type": "stream",
          "text": [
            "validation loss: 0.003960362861553828 at epoch 384\n",
            "learning_rate: 0.0005120000000000001\n"
          ]
        },
        {
          "metadata": {
            "tags": null
          },
          "name": "stderr",
          "output_type": "stream",
          "text": [
            "epoch 384: 100%|██████████| 282/282 [00:08<00:00, 34.68it/s]\n"
          ]
        },
        {
          "metadata": {
            "tags": null
          },
          "name": "stdout",
          "output_type": "stream",
          "text": [
            "validation loss: 0.003476403928465313 at epoch 385\n",
            "learning_rate: 0.0005120000000000001\n"
          ]
        },
        {
          "metadata": {
            "tags": null
          },
          "name": "stderr",
          "output_type": "stream",
          "text": [
            "epoch 385: 100%|██████████| 282/282 [00:08<00:00, 35.04it/s]\n"
          ]
        },
        {
          "metadata": {
            "tags": null
          },
          "name": "stdout",
          "output_type": "stream",
          "text": [
            "validation loss: 0.0040124118990368315 at epoch 386\n",
            "learning_rate: 0.0005120000000000001\n"
          ]
        },
        {
          "metadata": {
            "tags": null
          },
          "name": "stderr",
          "output_type": "stream",
          "text": [
            "epoch 386: 100%|██████████| 282/282 [00:07<00:00, 38.21it/s]\n"
          ]
        },
        {
          "metadata": {
            "tags": null
          },
          "name": "stdout",
          "output_type": "stream",
          "text": [
            "validation loss: 0.001221590217616823 at epoch 387\n",
            "learning_rate: 0.0005120000000000001\n"
          ]
        },
        {
          "metadata": {
            "tags": null
          },
          "name": "stderr",
          "output_type": "stream",
          "text": [
            "epoch 387: 100%|██████████| 282/282 [00:08<00:00, 34.71it/s]\n"
          ]
        },
        {
          "metadata": {
            "tags": null
          },
          "name": "stdout",
          "output_type": "stream",
          "text": [
            "validation loss: 0.0020474570327334934 at epoch 388\n",
            "learning_rate: 0.0005120000000000001\n"
          ]
        },
        {
          "metadata": {
            "tags": null
          },
          "name": "stderr",
          "output_type": "stream",
          "text": [
            "epoch 388: 100%|██████████| 282/282 [00:07<00:00, 35.40it/s]\n"
          ]
        },
        {
          "metadata": {
            "tags": null
          },
          "name": "stdout",
          "output_type": "stream",
          "text": [
            "validation loss: 0.0011806756626400682 at epoch 389\n",
            "learning_rate: 0.0005120000000000001\n"
          ]
        },
        {
          "metadata": {
            "tags": null
          },
          "name": "stderr",
          "output_type": "stream",
          "text": [
            "epoch 389: 100%|██████████| 282/282 [00:07<00:00, 38.38it/s]\n"
          ]
        },
        {
          "metadata": {
            "tags": null
          },
          "name": "stdout",
          "output_type": "stream",
          "text": [
            "validation loss: 0.002070057502223386 at epoch 390\n",
            "learning_rate: 0.0005120000000000001\n"
          ]
        },
        {
          "metadata": {
            "tags": null
          },
          "name": "stderr",
          "output_type": "stream",
          "text": [
            "epoch 390: 100%|██████████| 282/282 [00:08<00:00, 34.12it/s]\n"
          ]
        },
        {
          "metadata": {
            "tags": null
          },
          "name": "stdout",
          "output_type": "stream",
          "text": [
            "validation loss: 0.002318010687828064 at epoch 391\n",
            "learning_rate: 0.0005120000000000001\n"
          ]
        },
        {
          "metadata": {
            "tags": null
          },
          "name": "stderr",
          "output_type": "stream",
          "text": [
            "epoch 391: 100%|██████████| 282/282 [00:07<00:00, 35.96it/s]\n"
          ]
        },
        {
          "metadata": {
            "tags": null
          },
          "name": "stdout",
          "output_type": "stream",
          "text": [
            "validation loss: 0.0026610477964083353 at epoch 392\n",
            "learning_rate: 0.0005120000000000001\n"
          ]
        },
        {
          "metadata": {
            "tags": null
          },
          "name": "stderr",
          "output_type": "stream",
          "text": [
            "epoch 392: 100%|██████████| 282/282 [00:07<00:00, 37.69it/s]\n"
          ]
        },
        {
          "metadata": {
            "tags": null
          },
          "name": "stdout",
          "output_type": "stream",
          "text": [
            "validation loss: 0.0011558368561996354 at epoch 393\n",
            "learning_rate: 0.0005120000000000001\n"
          ]
        },
        {
          "metadata": {
            "tags": null
          },
          "name": "stderr",
          "output_type": "stream",
          "text": [
            "epoch 393: 100%|██████████| 282/282 [00:08<00:00, 34.15it/s]\n"
          ]
        },
        {
          "metadata": {
            "tags": null
          },
          "name": "stdout",
          "output_type": "stream",
          "text": [
            "validation loss: 0.0019736849251720642 at epoch 394\n",
            "learning_rate: 0.0005120000000000001\n"
          ]
        },
        {
          "metadata": {
            "tags": null
          },
          "name": "stderr",
          "output_type": "stream",
          "text": [
            "epoch 394: 100%|██████████| 282/282 [00:07<00:00, 36.48it/s]\n"
          ]
        },
        {
          "metadata": {
            "tags": null
          },
          "name": "stdout",
          "output_type": "stream",
          "text": [
            "validation loss: 0.0018187774966160455 at epoch 395\n",
            "learning_rate: 0.0005120000000000001\n"
          ]
        },
        {
          "metadata": {
            "tags": null
          },
          "name": "stderr",
          "output_type": "stream",
          "text": [
            "epoch 395: 100%|██████████| 282/282 [00:07<00:00, 37.32it/s]\n"
          ]
        },
        {
          "metadata": {
            "tags": null
          },
          "name": "stdout",
          "output_type": "stream",
          "text": [
            "validation loss: 0.0032885661125183104 at epoch 396\n",
            "learning_rate: 0.0005120000000000001\n"
          ]
        },
        {
          "metadata": {
            "tags": null
          },
          "name": "stderr",
          "output_type": "stream",
          "text": [
            "epoch 396: 100%|██████████| 282/282 [00:08<00:00, 34.17it/s]\n"
          ]
        },
        {
          "metadata": {
            "tags": null
          },
          "name": "stdout",
          "output_type": "stream",
          "text": [
            "validation loss: 0.0029725060098701054 at epoch 397\n",
            "learning_rate: 0.0005120000000000001\n"
          ]
        },
        {
          "metadata": {
            "tags": null
          },
          "name": "stderr",
          "output_type": "stream",
          "text": [
            "epoch 397: 100%|██████████| 282/282 [00:07<00:00, 36.81it/s]\n"
          ]
        },
        {
          "metadata": {
            "tags": null
          },
          "name": "stdout",
          "output_type": "stream",
          "text": [
            "validation loss: 0.0026013156473636626 at epoch 398\n",
            "learning_rate: 0.0005120000000000001\n"
          ]
        },
        {
          "metadata": {
            "tags": null
          },
          "name": "stderr",
          "output_type": "stream",
          "text": [
            "epoch 398: 100%|██████████| 282/282 [00:07<00:00, 36.44it/s]\n"
          ]
        },
        {
          "metadata": {
            "tags": null
          },
          "name": "stdout",
          "output_type": "stream",
          "text": [
            "validation loss: 0.001195495516889625 at epoch 399\n",
            "learning_rate: 0.0005120000000000001\n"
          ]
        },
        {
          "metadata": {
            "tags": null
          },
          "name": "stderr",
          "output_type": "stream",
          "text": [
            "epoch 399: 100%|██████████| 282/282 [00:08<00:00, 34.04it/s]\n"
          ]
        },
        {
          "metadata": {
            "tags": null
          },
          "name": "stdout",
          "output_type": "stream",
          "text": [
            "validation loss: 0.0018143847303258049 at epoch 400\n",
            "learning_rate: 0.0005120000000000001\n"
          ]
        },
        {
          "metadata": {
            "tags": null
          },
          "name": "stderr",
          "output_type": "stream",
          "text": [
            "epoch 400: 100%|██████████| 282/282 [00:07<00:00, 37.71it/s]\n"
          ]
        },
        {
          "metadata": {
            "tags": null
          },
          "name": "stdout",
          "output_type": "stream",
          "text": [
            "validation loss: 0.003953834096590678 at epoch 401\n",
            "learning_rate: 0.0005120000000000001\n"
          ]
        },
        {
          "metadata": {
            "tags": null
          },
          "name": "stderr",
          "output_type": "stream",
          "text": [
            "epoch 401: 100%|██████████| 282/282 [00:07<00:00, 35.58it/s]\n"
          ]
        },
        {
          "metadata": {
            "tags": null
          },
          "name": "stdout",
          "output_type": "stream",
          "text": [
            "validation loss: 0.0028796051343282065 at epoch 402\n",
            "learning_rate: 0.0005120000000000001\n"
          ]
        },
        {
          "metadata": {
            "tags": null
          },
          "name": "stderr",
          "output_type": "stream",
          "text": [
            "epoch 402: 100%|██████████| 282/282 [00:08<00:00, 34.16it/s]\n"
          ]
        },
        {
          "metadata": {
            "tags": null
          },
          "name": "stdout",
          "output_type": "stream",
          "text": [
            "validation loss: 0.002637771613068051 at epoch 403\n",
            "learning_rate: 0.0005120000000000001\n"
          ]
        },
        {
          "metadata": {
            "tags": null
          },
          "name": "stderr",
          "output_type": "stream",
          "text": [
            "epoch 403: 100%|██████████| 282/282 [00:07<00:00, 38.00it/s]\n"
          ]
        },
        {
          "metadata": {
            "tags": null
          },
          "name": "stdout",
          "output_type": "stream",
          "text": [
            "validation loss: 0.0018851566720339988 at epoch 404\n",
            "learning_rate: 0.0005120000000000001\n"
          ]
        },
        {
          "metadata": {
            "tags": null
          },
          "name": "stderr",
          "output_type": "stream",
          "text": [
            "epoch 404: 100%|██████████| 282/282 [00:07<00:00, 35.62it/s]\n"
          ]
        },
        {
          "metadata": {
            "tags": null
          },
          "name": "stdout",
          "output_type": "stream",
          "text": [
            "validation loss: 0.003484384240375625 at epoch 405\n",
            "learning_rate: 0.0005120000000000001\n"
          ]
        },
        {
          "metadata": {
            "tags": null
          },
          "name": "stderr",
          "output_type": "stream",
          "text": [
            "epoch 405: 100%|██████████| 282/282 [00:08<00:00, 34.62it/s]\n"
          ]
        },
        {
          "metadata": {
            "tags": null
          },
          "name": "stdout",
          "output_type": "stream",
          "text": [
            "validation loss: 0.002090200532641676 at epoch 406\n",
            "learning_rate: 0.0005120000000000001\n"
          ]
        },
        {
          "metadata": {
            "tags": null
          },
          "name": "stderr",
          "output_type": "stream",
          "text": [
            "epoch 406: 100%|██████████| 282/282 [00:07<00:00, 38.31it/s]\n"
          ]
        },
        {
          "metadata": {
            "tags": null
          },
          "name": "stdout",
          "output_type": "stream",
          "text": [
            "validation loss: 0.0015352760983837976 at epoch 407\n",
            "learning_rate: 0.0005120000000000001\n"
          ]
        },
        {
          "metadata": {
            "tags": null
          },
          "name": "stderr",
          "output_type": "stream",
          "text": [
            "epoch 407: 100%|██████████| 282/282 [00:08<00:00, 35.19it/s]\n"
          ]
        },
        {
          "metadata": {
            "tags": null
          },
          "name": "stdout",
          "output_type": "stream",
          "text": [
            "validation loss: 0.0016160971133245363 at epoch 408\n",
            "learning_rate: 0.0004096000000000001\n"
          ]
        },
        {
          "metadata": {
            "tags": null
          },
          "name": "stderr",
          "output_type": "stream",
          "text": [
            "epoch 408: 100%|██████████| 282/282 [00:08<00:00, 34.33it/s]\n"
          ]
        },
        {
          "metadata": {
            "tags": null
          },
          "name": "stdout",
          "output_type": "stream",
          "text": [
            "validation loss: 0.001473587559329139 at epoch 409\n",
            "learning_rate: 0.0004096000000000001\n"
          ]
        },
        {
          "metadata": {
            "tags": null
          },
          "name": "stderr",
          "output_type": "stream",
          "text": [
            "epoch 409: 100%|██████████| 282/282 [00:07<00:00, 37.51it/s]\n"
          ]
        },
        {
          "metadata": {
            "tags": null
          },
          "name": "stdout",
          "output_type": "stream",
          "text": [
            "validation loss: 0.0014119471336404483 at epoch 410\n",
            "learning_rate: 0.0004096000000000001\n"
          ]
        },
        {
          "metadata": {
            "tags": null
          },
          "name": "stderr",
          "output_type": "stream",
          "text": [
            "epoch 410: 100%|██████████| 282/282 [00:08<00:00, 34.86it/s]\n"
          ]
        },
        {
          "metadata": {
            "tags": null
          },
          "name": "stdout",
          "output_type": "stream",
          "text": [
            "validation loss: 0.0038844013379679787 at epoch 411\n",
            "learning_rate: 0.0004096000000000001\n"
          ]
        },
        {
          "metadata": {
            "tags": null
          },
          "name": "stderr",
          "output_type": "stream",
          "text": [
            "epoch 411: 100%|██████████| 282/282 [00:08<00:00, 34.27it/s]\n"
          ]
        },
        {
          "metadata": {
            "tags": null
          },
          "name": "stdout",
          "output_type": "stream",
          "text": [
            "validation loss: 0.001135629424204429 at epoch 412\n",
            "learning_rate: 0.0004096000000000001\n"
          ]
        },
        {
          "metadata": {
            "tags": null
          },
          "name": "stderr",
          "output_type": "stream",
          "text": [
            "epoch 412: 100%|██████████| 282/282 [00:07<00:00, 38.15it/s]\n"
          ]
        },
        {
          "metadata": {
            "tags": null
          },
          "name": "stdout",
          "output_type": "stream",
          "text": [
            "validation loss: 0.0033216890841722487 at epoch 413\n",
            "learning_rate: 0.0004096000000000001\n"
          ]
        },
        {
          "metadata": {
            "tags": null
          },
          "name": "stderr",
          "output_type": "stream",
          "text": [
            "epoch 413: 100%|██████████| 282/282 [00:08<00:00, 34.70it/s]\n"
          ]
        },
        {
          "metadata": {
            "tags": null
          },
          "name": "stdout",
          "output_type": "stream",
          "text": [
            "validation loss: 0.0011996253670917617 at epoch 414\n",
            "learning_rate: 0.0004096000000000001\n"
          ]
        },
        {
          "metadata": {
            "tags": null
          },
          "name": "stderr",
          "output_type": "stream",
          "text": [
            "epoch 414: 100%|██████████| 282/282 [00:08<00:00, 34.64it/s]\n"
          ]
        },
        {
          "metadata": {
            "tags": null
          },
          "name": "stdout",
          "output_type": "stream",
          "text": [
            "validation loss: 0.0013070382467574543 at epoch 415\n",
            "learning_rate: 0.0004096000000000001\n"
          ]
        },
        {
          "metadata": {
            "tags": null
          },
          "name": "stderr",
          "output_type": "stream",
          "text": [
            "epoch 415: 100%|██████████| 282/282 [00:07<00:00, 38.34it/s]\n"
          ]
        },
        {
          "metadata": {
            "tags": null
          },
          "name": "stdout",
          "output_type": "stream",
          "text": [
            "validation loss: 0.0017491444125771523 at epoch 416\n",
            "learning_rate: 0.0004096000000000001\n"
          ]
        },
        {
          "metadata": {
            "tags": null
          },
          "name": "stderr",
          "output_type": "stream",
          "text": [
            "epoch 416: 100%|██████████| 282/282 [00:08<00:00, 34.52it/s]\n"
          ]
        },
        {
          "metadata": {
            "tags": null
          },
          "name": "stdout",
          "output_type": "stream",
          "text": [
            "validation loss: 0.006490039951271481 at epoch 417\n",
            "learning_rate: 0.0004096000000000001\n"
          ]
        },
        {
          "metadata": {
            "tags": null
          },
          "name": "stderr",
          "output_type": "stream",
          "text": [
            "epoch 417: 100%|██████████| 282/282 [00:08<00:00, 34.15it/s]\n"
          ]
        },
        {
          "metadata": {
            "tags": null
          },
          "name": "stdout",
          "output_type": "stream",
          "text": [
            "validation loss: 0.0018336289831333691 at epoch 418\n",
            "learning_rate: 0.0004096000000000001\n"
          ]
        },
        {
          "metadata": {
            "tags": null
          },
          "name": "stderr",
          "output_type": "stream",
          "text": [
            "epoch 418: 100%|██████████| 282/282 [00:07<00:00, 37.91it/s]\n"
          ]
        },
        {
          "metadata": {
            "tags": null
          },
          "name": "stdout",
          "output_type": "stream",
          "text": [
            "validation loss: 0.002160469859838486 at epoch 419\n",
            "learning_rate: 0.0004096000000000001\n"
          ]
        },
        {
          "metadata": {
            "tags": null
          },
          "name": "stderr",
          "output_type": "stream",
          "text": [
            "epoch 419: 100%|██████████| 282/282 [00:08<00:00, 34.46it/s]\n"
          ]
        },
        {
          "metadata": {
            "tags": null
          },
          "name": "stdout",
          "output_type": "stream",
          "text": [
            "validation loss: 0.0011580389100644324 at epoch 420\n",
            "learning_rate: 0.0004096000000000001\n"
          ]
        },
        {
          "metadata": {
            "tags": null
          },
          "name": "stderr",
          "output_type": "stream",
          "text": [
            "epoch 420: 100%|██████████| 282/282 [00:08<00:00, 34.41it/s]\n"
          ]
        },
        {
          "metadata": {
            "tags": null
          },
          "name": "stdout",
          "output_type": "stream",
          "text": [
            "validation loss: 0.002263130471110344 at epoch 421\n",
            "learning_rate: 0.0004096000000000001\n"
          ]
        },
        {
          "metadata": {
            "tags": null
          },
          "name": "stderr",
          "output_type": "stream",
          "text": [
            "epoch 421: 100%|██████████| 282/282 [00:07<00:00, 38.40it/s]\n"
          ]
        },
        {
          "metadata": {
            "tags": null
          },
          "name": "stdout",
          "output_type": "stream",
          "text": [
            "validation loss: 0.001232555028465059 at epoch 422\n",
            "learning_rate: 0.0004096000000000001\n"
          ]
        },
        {
          "metadata": {
            "tags": null
          },
          "name": "stderr",
          "output_type": "stream",
          "text": [
            "epoch 422: 100%|██████████| 282/282 [00:08<00:00, 33.90it/s]\n"
          ]
        },
        {
          "metadata": {
            "tags": null
          },
          "name": "stdout",
          "output_type": "stream",
          "text": [
            "validation loss: 0.001076705873840385 at epoch 423\n",
            "learning_rate: 0.0004096000000000001\n"
          ]
        },
        {
          "metadata": {
            "tags": null
          },
          "name": "stderr",
          "output_type": "stream",
          "text": [
            "epoch 423: 100%|██████████| 282/282 [00:08<00:00, 34.33it/s]\n"
          ]
        },
        {
          "metadata": {
            "tags": null
          },
          "name": "stdout",
          "output_type": "stream",
          "text": [
            "validation loss: 0.0014410220293535126 at epoch 424\n",
            "learning_rate: 0.0004096000000000001\n"
          ]
        },
        {
          "metadata": {
            "tags": null
          },
          "name": "stderr",
          "output_type": "stream",
          "text": [
            "epoch 424: 100%|██████████| 282/282 [00:07<00:00, 38.28it/s]\n"
          ]
        },
        {
          "metadata": {
            "tags": null
          },
          "name": "stdout",
          "output_type": "stream",
          "text": [
            "validation loss: 0.0018526276581817204 at epoch 425\n",
            "learning_rate: 0.0004096000000000001\n"
          ]
        },
        {
          "metadata": {
            "tags": null
          },
          "name": "stderr",
          "output_type": "stream",
          "text": [
            "epoch 425: 100%|██████████| 282/282 [00:08<00:00, 34.27it/s]\n"
          ]
        },
        {
          "metadata": {
            "tags": null
          },
          "name": "stdout",
          "output_type": "stream",
          "text": [
            "validation loss: 0.0037760294609599644 at epoch 426\n",
            "learning_rate: 0.0004096000000000001\n"
          ]
        },
        {
          "metadata": {
            "tags": null
          },
          "name": "stderr",
          "output_type": "stream",
          "text": [
            "epoch 426: 100%|██████████| 282/282 [00:08<00:00, 34.03it/s]\n"
          ]
        },
        {
          "metadata": {
            "tags": null
          },
          "name": "stdout",
          "output_type": "stream",
          "text": [
            "validation loss: 0.002727748836080233 at epoch 427\n",
            "learning_rate: 0.0004096000000000001\n"
          ]
        },
        {
          "metadata": {
            "tags": null
          },
          "name": "stderr",
          "output_type": "stream",
          "text": [
            "epoch 427: 100%|██████████| 282/282 [00:07<00:00, 38.39it/s]\n"
          ]
        },
        {
          "metadata": {
            "tags": null
          },
          "name": "stdout",
          "output_type": "stream",
          "text": [
            "validation loss: 0.0012808184549212456 at epoch 428\n",
            "learning_rate: 0.0004096000000000001\n"
          ]
        },
        {
          "metadata": {
            "tags": null
          },
          "name": "stderr",
          "output_type": "stream",
          "text": [
            "epoch 428: 100%|██████████| 282/282 [00:08<00:00, 34.11it/s]\n"
          ]
        },
        {
          "metadata": {
            "tags": null
          },
          "name": "stdout",
          "output_type": "stream",
          "text": [
            "validation loss: 0.001462018425265948 at epoch 429\n",
            "learning_rate: 0.0004096000000000001\n"
          ]
        },
        {
          "metadata": {
            "tags": null
          },
          "name": "stderr",
          "output_type": "stream",
          "text": [
            "epoch 429: 100%|██████████| 282/282 [00:08<00:00, 34.53it/s]\n"
          ]
        },
        {
          "metadata": {
            "tags": null
          },
          "name": "stdout",
          "output_type": "stream",
          "text": [
            "validation loss: 0.0013540149993366665 at epoch 430\n",
            "learning_rate: 0.0004096000000000001\n"
          ]
        },
        {
          "metadata": {
            "tags": null
          },
          "name": "stderr",
          "output_type": "stream",
          "text": [
            "epoch 430: 100%|██████████| 282/282 [00:07<00:00, 38.33it/s]\n"
          ]
        },
        {
          "metadata": {
            "tags": null
          },
          "name": "stdout",
          "output_type": "stream",
          "text": [
            "validation loss: 0.0016219299071364933 at epoch 431\n",
            "learning_rate: 0.0004096000000000001\n"
          ]
        },
        {
          "metadata": {
            "tags": null
          },
          "name": "stderr",
          "output_type": "stream",
          "text": [
            "epoch 431: 100%|██████████| 282/282 [00:08<00:00, 33.89it/s]\n"
          ]
        },
        {
          "metadata": {
            "tags": null
          },
          "name": "stdout",
          "output_type": "stream",
          "text": [
            "validation loss: 0.0013919259425666597 at epoch 432\n",
            "learning_rate: 0.0004096000000000001\n"
          ]
        },
        {
          "metadata": {
            "tags": null
          },
          "name": "stderr",
          "output_type": "stream",
          "text": [
            "epoch 432: 100%|██████████| 282/282 [00:08<00:00, 33.94it/s]\n"
          ]
        },
        {
          "metadata": {
            "tags": null
          },
          "name": "stdout",
          "output_type": "stream",
          "text": [
            "validation loss: 0.0012740898057818414 at epoch 433\n",
            "learning_rate: 0.0004096000000000001\n"
          ]
        },
        {
          "metadata": {
            "tags": null
          },
          "name": "stderr",
          "output_type": "stream",
          "text": [
            "epoch 433: 100%|██████████| 282/282 [00:07<00:00, 38.24it/s]\n"
          ]
        },
        {
          "metadata": {
            "tags": null
          },
          "name": "stdout",
          "output_type": "stream",
          "text": [
            "validation loss: 0.0017004623644881777 at epoch 434\n",
            "learning_rate: 0.0004096000000000001\n"
          ]
        },
        {
          "metadata": {
            "tags": null
          },
          "name": "stderr",
          "output_type": "stream",
          "text": [
            "epoch 434: 100%|██████████| 282/282 [00:08<00:00, 34.00it/s]\n"
          ]
        },
        {
          "metadata": {
            "tags": null
          },
          "name": "stdout",
          "output_type": "stream",
          "text": [
            "validation loss: 0.0014160155612561438 at epoch 435\n",
            "learning_rate: 0.0004096000000000001\n"
          ]
        },
        {
          "metadata": {
            "tags": null
          },
          "name": "stderr",
          "output_type": "stream",
          "text": [
            "epoch 435: 100%|██████████| 282/282 [00:08<00:00, 34.31it/s]\n"
          ]
        },
        {
          "metadata": {
            "tags": null
          },
          "name": "stdout",
          "output_type": "stream",
          "text": [
            "validation loss: 0.0012010986531774202 at epoch 436\n",
            "learning_rate: 0.0004096000000000001\n"
          ]
        },
        {
          "metadata": {
            "tags": null
          },
          "name": "stderr",
          "output_type": "stream",
          "text": [
            "epoch 436: 100%|██████████| 282/282 [00:07<00:00, 38.19it/s]\n"
          ]
        },
        {
          "metadata": {
            "tags": null
          },
          "name": "stdout",
          "output_type": "stream",
          "text": [
            "validation loss: 0.0012393471366829343 at epoch 437\n",
            "learning_rate: 0.0004096000000000001\n"
          ]
        },
        {
          "metadata": {
            "tags": null
          },
          "name": "stderr",
          "output_type": "stream",
          "text": [
            "epoch 437: 100%|██████████| 282/282 [00:08<00:00, 34.23it/s]\n"
          ]
        },
        {
          "metadata": {
            "tags": null
          },
          "name": "stdout",
          "output_type": "stream",
          "text": [
            "validation loss: 0.0012065782865716352 at epoch 438\n",
            "learning_rate: 0.0004096000000000001\n"
          ]
        },
        {
          "metadata": {
            "tags": null
          },
          "name": "stderr",
          "output_type": "stream",
          "text": [
            "epoch 438: 100%|██████████| 282/282 [00:08<00:00, 35.09it/s]\n"
          ]
        },
        {
          "metadata": {
            "tags": null
          },
          "name": "stdout",
          "output_type": "stream",
          "text": [
            "validation loss: 0.001236005614615149 at epoch 439\n",
            "learning_rate: 0.0004096000000000001\n"
          ]
        },
        {
          "metadata": {
            "tags": null
          },
          "name": "stderr",
          "output_type": "stream",
          "text": [
            "epoch 439: 100%|██████████| 282/282 [00:07<00:00, 38.23it/s]\n"
          ]
        },
        {
          "metadata": {
            "tags": null
          },
          "name": "stdout",
          "output_type": "stream",
          "text": [
            "validation loss: 0.0011582220138774979 at epoch 440\n",
            "learning_rate: 0.0004096000000000001\n"
          ]
        },
        {
          "metadata": {
            "tags": null
          },
          "name": "stderr",
          "output_type": "stream",
          "text": [
            "epoch 440: 100%|██████████| 282/282 [00:08<00:00, 34.21it/s]\n"
          ]
        },
        {
          "metadata": {
            "tags": null
          },
          "name": "stdout",
          "output_type": "stream",
          "text": [
            "validation loss: 0.0017636325342787636 at epoch 441\n",
            "learning_rate: 0.0004096000000000001\n"
          ]
        },
        {
          "metadata": {
            "tags": null
          },
          "name": "stderr",
          "output_type": "stream",
          "text": [
            "epoch 441: 100%|██████████| 282/282 [00:07<00:00, 36.15it/s]\n"
          ]
        },
        {
          "metadata": {
            "tags": null
          },
          "name": "stdout",
          "output_type": "stream",
          "text": [
            "validation loss: 0.001311679473767678 at epoch 442\n",
            "learning_rate: 0.0004096000000000001\n"
          ]
        },
        {
          "metadata": {
            "tags": null
          },
          "name": "stderr",
          "output_type": "stream",
          "text": [
            "epoch 442: 100%|██████████| 282/282 [00:07<00:00, 37.54it/s]\n"
          ]
        },
        {
          "metadata": {
            "tags": null
          },
          "name": "stdout",
          "output_type": "stream",
          "text": [
            "validation loss: 0.0012222967805961768 at epoch 443\n",
            "learning_rate: 0.0004096000000000001\n"
          ]
        },
        {
          "metadata": {
            "tags": null
          },
          "name": "stderr",
          "output_type": "stream",
          "text": [
            "epoch 443: 100%|██████████| 282/282 [00:08<00:00, 34.31it/s]\n"
          ]
        },
        {
          "metadata": {
            "tags": null
          },
          "name": "stdout",
          "output_type": "stream",
          "text": [
            "validation loss: 0.0021615980284081563 at epoch 444\n",
            "learning_rate: 0.0004096000000000001\n"
          ]
        },
        {
          "metadata": {
            "tags": null
          },
          "name": "stderr",
          "output_type": "stream",
          "text": [
            "epoch 444: 100%|██████████| 282/282 [00:07<00:00, 36.70it/s]\n"
          ]
        },
        {
          "metadata": {
            "tags": null
          },
          "name": "stdout",
          "output_type": "stream",
          "text": [
            "validation loss: 0.0016080971575445598 at epoch 445\n",
            "learning_rate: 0.0004096000000000001\n"
          ]
        },
        {
          "metadata": {
            "tags": null
          },
          "name": "stderr",
          "output_type": "stream",
          "text": [
            "epoch 445: 100%|██████████| 282/282 [00:07<00:00, 36.96it/s]\n"
          ]
        },
        {
          "metadata": {
            "tags": null
          },
          "name": "stdout",
          "output_type": "stream",
          "text": [
            "validation loss: 0.0012359531977110439 at epoch 446\n",
            "learning_rate: 0.0004096000000000001\n"
          ]
        },
        {
          "metadata": {
            "tags": null
          },
          "name": "stderr",
          "output_type": "stream",
          "text": [
            "epoch 446: 100%|██████████| 282/282 [00:08<00:00, 33.71it/s]\n"
          ]
        },
        {
          "metadata": {
            "tags": null
          },
          "name": "stdout",
          "output_type": "stream",
          "text": [
            "validation loss: 0.0014811457006467714 at epoch 447\n",
            "learning_rate: 0.0004096000000000001\n"
          ]
        },
        {
          "metadata": {
            "tags": null
          },
          "name": "stderr",
          "output_type": "stream",
          "text": [
            "epoch 447: 100%|██████████| 282/282 [00:07<00:00, 36.11it/s]\n"
          ]
        },
        {
          "metadata": {
            "tags": null
          },
          "name": "stdout",
          "output_type": "stream",
          "text": [
            "validation loss: 0.0011138174070252312 at epoch 448\n",
            "learning_rate: 0.0004096000000000001\n"
          ]
        },
        {
          "metadata": {
            "tags": null
          },
          "name": "stderr",
          "output_type": "stream",
          "text": [
            "epoch 448: 100%|██████████| 282/282 [00:07<00:00, 37.87it/s]\n"
          ]
        },
        {
          "metadata": {
            "tags": null
          },
          "name": "stdout",
          "output_type": "stream",
          "text": [
            "validation loss: 0.0011120037672420343 at epoch 449\n",
            "learning_rate: 0.0004096000000000001\n"
          ]
        },
        {
          "metadata": {
            "tags": null
          },
          "name": "stderr",
          "output_type": "stream",
          "text": [
            "epoch 449: 100%|██████████| 282/282 [00:08<00:00, 34.10it/s]\n"
          ]
        },
        {
          "metadata": {
            "tags": null
          },
          "name": "stdout",
          "output_type": "stream",
          "text": [
            "validation loss: 0.0017638402374254333 at epoch 450\n",
            "learning_rate: 0.0004096000000000001\n"
          ]
        },
        {
          "metadata": {
            "tags": null
          },
          "name": "stderr",
          "output_type": "stream",
          "text": [
            "epoch 450: 100%|██████████| 282/282 [00:07<00:00, 36.10it/s]\n"
          ]
        },
        {
          "metadata": {
            "tags": null
          },
          "name": "stdout",
          "output_type": "stream",
          "text": [
            "validation loss: 0.0024398983981874255 at epoch 451\n",
            "learning_rate: 0.0004096000000000001\n"
          ]
        },
        {
          "metadata": {
            "tags": null
          },
          "name": "stderr",
          "output_type": "stream",
          "text": [
            "epoch 451: 100%|██████████| 282/282 [00:07<00:00, 38.02it/s]\n"
          ]
        },
        {
          "metadata": {
            "tags": null
          },
          "name": "stdout",
          "output_type": "stream",
          "text": [
            "validation loss: 0.0020180820524692534 at epoch 452\n",
            "learning_rate: 0.0004096000000000001\n"
          ]
        },
        {
          "metadata": {
            "tags": null
          },
          "name": "stderr",
          "output_type": "stream",
          "text": [
            "epoch 452: 100%|██████████| 282/282 [00:08<00:00, 33.88it/s]\n"
          ]
        },
        {
          "metadata": {
            "tags": null
          },
          "name": "stdout",
          "output_type": "stream",
          "text": [
            "validation loss: 0.001987127463022868 at epoch 453\n",
            "learning_rate: 0.0004096000000000001\n"
          ]
        },
        {
          "metadata": {
            "tags": null
          },
          "name": "stderr",
          "output_type": "stream",
          "text": [
            "epoch 453: 100%|██████████| 282/282 [00:07<00:00, 36.21it/s]\n"
          ]
        },
        {
          "metadata": {
            "tags": null
          },
          "name": "stdout",
          "output_type": "stream",
          "text": [
            "validation loss: 0.0013439788300957944 at epoch 454\n",
            "learning_rate: 0.0004096000000000001\n"
          ]
        },
        {
          "metadata": {
            "tags": null
          },
          "name": "stderr",
          "output_type": "stream",
          "text": [
            "epoch 454: 100%|██████████| 282/282 [00:07<00:00, 37.55it/s]\n"
          ]
        },
        {
          "metadata": {
            "tags": null
          },
          "name": "stdout",
          "output_type": "stream",
          "text": [
            "validation loss: 0.005106261458661821 at epoch 455\n",
            "learning_rate: 0.0004096000000000001\n"
          ]
        },
        {
          "metadata": {
            "tags": null
          },
          "name": "stderr",
          "output_type": "stream",
          "text": [
            "epoch 455: 100%|██████████| 282/282 [00:08<00:00, 34.34it/s]\n"
          ]
        },
        {
          "metadata": {
            "tags": null
          },
          "name": "stdout",
          "output_type": "stream",
          "text": [
            "validation loss: 0.0015016664606001642 at epoch 456\n",
            "learning_rate: 0.0004096000000000001\n"
          ]
        },
        {
          "metadata": {
            "tags": null
          },
          "name": "stderr",
          "output_type": "stream",
          "text": [
            "epoch 456: 100%|██████████| 282/282 [00:07<00:00, 36.00it/s]\n"
          ]
        },
        {
          "metadata": {
            "tags": null
          },
          "name": "stdout",
          "output_type": "stream",
          "text": [
            "validation loss: 0.002630435711807675 at epoch 457\n",
            "learning_rate: 0.0004096000000000001\n"
          ]
        },
        {
          "metadata": {
            "tags": null
          },
          "name": "stderr",
          "output_type": "stream",
          "text": [
            "epoch 457: 100%|██████████| 282/282 [00:07<00:00, 37.15it/s]\n"
          ]
        },
        {
          "metadata": {
            "tags": null
          },
          "name": "stdout",
          "output_type": "stream",
          "text": [
            "validation loss: 0.003041346806618902 at epoch 458\n",
            "learning_rate: 0.0004096000000000001\n"
          ]
        },
        {
          "metadata": {
            "tags": null
          },
          "name": "stderr",
          "output_type": "stream",
          "text": [
            "epoch 458: 100%|██████████| 282/282 [00:08<00:00, 34.27it/s]\n"
          ]
        },
        {
          "metadata": {
            "tags": null
          },
          "name": "stdout",
          "output_type": "stream",
          "text": [
            "validation loss: 0.0014105238649580213 at epoch 459\n",
            "learning_rate: 0.0003276800000000001\n"
          ]
        },
        {
          "metadata": {
            "tags": null
          },
          "name": "stderr",
          "output_type": "stream",
          "text": [
            "epoch 459: 100%|██████████| 282/282 [00:07<00:00, 36.50it/s]\n"
          ]
        },
        {
          "metadata": {
            "tags": null
          },
          "name": "stdout",
          "output_type": "stream",
          "text": [
            "validation loss: 0.001109435102591912 at epoch 460\n",
            "learning_rate: 0.0003276800000000001\n"
          ]
        },
        {
          "metadata": {
            "tags": null
          },
          "name": "stderr",
          "output_type": "stream",
          "text": [
            "epoch 460: 100%|██████████| 282/282 [00:07<00:00, 36.89it/s]\n"
          ]
        },
        {
          "metadata": {
            "tags": null
          },
          "name": "stdout",
          "output_type": "stream",
          "text": [
            "validation loss: 0.0012886035061544841 at epoch 461\n",
            "learning_rate: 0.0003276800000000001\n"
          ]
        },
        {
          "metadata": {
            "tags": null
          },
          "name": "stderr",
          "output_type": "stream",
          "text": [
            "epoch 461: 100%|██████████| 282/282 [00:08<00:00, 34.59it/s]\n"
          ]
        },
        {
          "metadata": {
            "tags": null
          },
          "name": "stdout",
          "output_type": "stream",
          "text": [
            "validation loss: 0.0014877663792835342 at epoch 462\n",
            "learning_rate: 0.0003276800000000001\n"
          ]
        },
        {
          "metadata": {
            "tags": null
          },
          "name": "stderr",
          "output_type": "stream",
          "text": [
            "epoch 462: 100%|██████████| 282/282 [00:07<00:00, 36.87it/s]\n"
          ]
        },
        {
          "metadata": {
            "tags": null
          },
          "name": "stdout",
          "output_type": "stream",
          "text": [
            "validation loss: 0.0015668808213538594 at epoch 463\n",
            "learning_rate: 0.0003276800000000001\n"
          ]
        },
        {
          "metadata": {
            "tags": null
          },
          "name": "stderr",
          "output_type": "stream",
          "text": [
            "epoch 463: 100%|██████████| 282/282 [00:07<00:00, 36.36it/s]\n"
          ]
        },
        {
          "metadata": {
            "tags": null
          },
          "name": "stdout",
          "output_type": "stream",
          "text": [
            "validation loss: 0.0012411061492231157 at epoch 464\n",
            "learning_rate: 0.0003276800000000001\n"
          ]
        },
        {
          "metadata": {
            "tags": null
          },
          "name": "stderr",
          "output_type": "stream",
          "text": [
            "epoch 464: 100%|██████████| 282/282 [00:08<00:00, 34.08it/s]\n"
          ]
        },
        {
          "metadata": {
            "tags": null
          },
          "name": "stdout",
          "output_type": "stream",
          "text": [
            "validation loss: 0.001290740757352776 at epoch 465\n",
            "learning_rate: 0.0003276800000000001\n"
          ]
        },
        {
          "metadata": {
            "tags": null
          },
          "name": "stderr",
          "output_type": "stream",
          "text": [
            "epoch 465: 100%|██████████| 282/282 [00:07<00:00, 37.16it/s]\n"
          ]
        },
        {
          "metadata": {
            "tags": null
          },
          "name": "stdout",
          "output_type": "stream",
          "text": [
            "validation loss: 0.0018528930362727907 at epoch 466\n",
            "learning_rate: 0.0003276800000000001\n"
          ]
        },
        {
          "metadata": {
            "tags": null
          },
          "name": "stderr",
          "output_type": "stream",
          "text": [
            "epoch 466: 100%|██████████| 282/282 [00:07<00:00, 36.16it/s]\n"
          ]
        },
        {
          "metadata": {
            "tags": null
          },
          "name": "stdout",
          "output_type": "stream",
          "text": [
            "validation loss: 0.0015226808049612576 at epoch 467\n",
            "learning_rate: 0.0003276800000000001\n"
          ]
        },
        {
          "metadata": {
            "tags": null
          },
          "name": "stderr",
          "output_type": "stream",
          "text": [
            "epoch 467: 100%|██████████| 282/282 [00:08<00:00, 34.28it/s]\n"
          ]
        },
        {
          "metadata": {
            "tags": null
          },
          "name": "stdout",
          "output_type": "stream",
          "text": [
            "validation loss: 0.001245658665895462 at epoch 468\n",
            "learning_rate: 0.0003276800000000001\n"
          ]
        },
        {
          "metadata": {
            "tags": null
          },
          "name": "stderr",
          "output_type": "stream",
          "text": [
            "epoch 468: 100%|██████████| 282/282 [00:07<00:00, 37.06it/s]\n"
          ]
        },
        {
          "metadata": {
            "tags": null
          },
          "name": "stdout",
          "output_type": "stream",
          "text": [
            "validation loss: 0.0012476079741285907 at epoch 469\n",
            "learning_rate: 0.0003276800000000001\n"
          ]
        },
        {
          "metadata": {
            "tags": null
          },
          "name": "stderr",
          "output_type": "stream",
          "text": [
            "epoch 469: 100%|██████████| 282/282 [00:07<00:00, 36.13it/s]\n"
          ]
        },
        {
          "metadata": {
            "tags": null
          },
          "name": "stdout",
          "output_type": "stream",
          "text": [
            "validation loss: 0.0015594959962699148 at epoch 470\n",
            "learning_rate: 0.0003276800000000001\n"
          ]
        },
        {
          "metadata": {
            "tags": null
          },
          "name": "stderr",
          "output_type": "stream",
          "text": [
            "epoch 470: 100%|██████████| 282/282 [00:08<00:00, 34.00it/s]\n"
          ]
        },
        {
          "metadata": {
            "tags": null
          },
          "name": "stdout",
          "output_type": "stream",
          "text": [
            "validation loss: 0.006972954640785853 at epoch 471\n",
            "learning_rate: 0.0003276800000000001\n"
          ]
        },
        {
          "metadata": {
            "tags": null
          },
          "name": "stderr",
          "output_type": "stream",
          "text": [
            "epoch 471: 100%|██████████| 282/282 [00:07<00:00, 37.22it/s]\n"
          ]
        },
        {
          "metadata": {
            "tags": null
          },
          "name": "stdout",
          "output_type": "stream",
          "text": [
            "validation loss: 0.0022128461119201447 at epoch 472\n",
            "learning_rate: 0.0003276800000000001\n"
          ]
        },
        {
          "metadata": {
            "tags": null
          },
          "name": "stderr",
          "output_type": "stream",
          "text": [
            "epoch 472: 100%|██████████| 282/282 [00:07<00:00, 35.67it/s]\n"
          ]
        },
        {
          "metadata": {
            "tags": null
          },
          "name": "stdout",
          "output_type": "stream",
          "text": [
            "validation loss: 0.0010957881141867903 at epoch 473\n",
            "learning_rate: 0.0003276800000000001\n"
          ]
        },
        {
          "metadata": {
            "tags": null
          },
          "name": "stderr",
          "output_type": "stream",
          "text": [
            "epoch 473: 100%|██████████| 282/282 [00:08<00:00, 34.18it/s]\n"
          ]
        },
        {
          "metadata": {
            "tags": null
          },
          "name": "stdout",
          "output_type": "stream",
          "text": [
            "validation loss: 0.0017493136707279417 at epoch 474\n",
            "learning_rate: 0.0003276800000000001\n"
          ]
        },
        {
          "metadata": {
            "tags": null
          },
          "name": "stderr",
          "output_type": "stream",
          "text": [
            "epoch 474: 100%|██████████| 282/282 [00:07<00:00, 37.69it/s]\n"
          ]
        },
        {
          "metadata": {
            "tags": null
          },
          "name": "stdout",
          "output_type": "stream",
          "text": [
            "validation loss: 0.0022891749491294223 at epoch 475\n",
            "learning_rate: 0.0003276800000000001\n"
          ]
        },
        {
          "metadata": {
            "tags": null
          },
          "name": "stderr",
          "output_type": "stream",
          "text": [
            "epoch 475: 100%|██████████| 282/282 [00:08<00:00, 34.90it/s]\n"
          ]
        },
        {
          "metadata": {
            "tags": null
          },
          "name": "stdout",
          "output_type": "stream",
          "text": [
            "validation loss: 0.0017167485281825066 at epoch 476\n",
            "learning_rate: 0.0003276800000000001\n"
          ]
        },
        {
          "metadata": {
            "tags": null
          },
          "name": "stderr",
          "output_type": "stream",
          "text": [
            "epoch 476: 100%|██████████| 282/282 [00:08<00:00, 34.70it/s]\n"
          ]
        },
        {
          "metadata": {
            "tags": null
          },
          "name": "stdout",
          "output_type": "stream",
          "text": [
            "validation loss: 0.0012800065299703016 at epoch 477\n",
            "learning_rate: 0.0003276800000000001\n"
          ]
        },
        {
          "metadata": {
            "tags": null
          },
          "name": "stderr",
          "output_type": "stream",
          "text": [
            "epoch 477: 100%|██████████| 282/282 [00:07<00:00, 37.64it/s]\n"
          ]
        },
        {
          "metadata": {
            "tags": null
          },
          "name": "stdout",
          "output_type": "stream",
          "text": [
            "validation loss: 0.003341106366780069 at epoch 478\n",
            "learning_rate: 0.0003276800000000001\n"
          ]
        },
        {
          "metadata": {
            "tags": null
          },
          "name": "stderr",
          "output_type": "stream",
          "text": [
            "epoch 478: 100%|██████████| 282/282 [00:08<00:00, 35.17it/s]\n"
          ]
        },
        {
          "metadata": {
            "tags": null
          },
          "name": "stdout",
          "output_type": "stream",
          "text": [
            "validation loss: 0.0014316631224420336 at epoch 479\n",
            "learning_rate: 0.0003276800000000001\n"
          ]
        },
        {
          "metadata": {
            "tags": null
          },
          "name": "stderr",
          "output_type": "stream",
          "text": [
            "epoch 479: 100%|██████████| 282/282 [00:08<00:00, 33.77it/s]\n"
          ]
        },
        {
          "metadata": {
            "tags": null
          },
          "name": "stdout",
          "output_type": "stream",
          "text": [
            "validation loss: 0.004509153962135315 at epoch 480\n",
            "learning_rate: 0.0003276800000000001\n"
          ]
        },
        {
          "metadata": {
            "tags": null
          },
          "name": "stderr",
          "output_type": "stream",
          "text": [
            "epoch 480: 100%|██████████| 282/282 [00:07<00:00, 38.14it/s]\n"
          ]
        },
        {
          "metadata": {
            "tags": null
          },
          "name": "stdout",
          "output_type": "stream",
          "text": [
            "validation loss: 0.0015380310383107927 at epoch 481\n",
            "learning_rate: 0.0003276800000000001\n"
          ]
        },
        {
          "metadata": {
            "tags": null
          },
          "name": "stderr",
          "output_type": "stream",
          "text": [
            "epoch 481: 100%|██████████| 282/282 [00:08<00:00, 34.26it/s]\n"
          ]
        },
        {
          "metadata": {
            "tags": null
          },
          "name": "stdout",
          "output_type": "stream",
          "text": [
            "validation loss: 0.0012167037891017067 at epoch 482\n",
            "learning_rate: 0.0003276800000000001\n"
          ]
        },
        {
          "metadata": {
            "tags": null
          },
          "name": "stderr",
          "output_type": "stream",
          "text": [
            "epoch 482: 100%|██████████| 282/282 [00:08<00:00, 33.71it/s]\n"
          ]
        },
        {
          "metadata": {
            "tags": null
          },
          "name": "stdout",
          "output_type": "stream",
          "text": [
            "validation loss: 0.0011221373172269928 at epoch 483\n",
            "learning_rate: 0.0003276800000000001\n"
          ]
        },
        {
          "metadata": {
            "tags": null
          },
          "name": "stderr",
          "output_type": "stream",
          "text": [
            "epoch 483: 100%|██████████| 282/282 [00:07<00:00, 37.78it/s]\n"
          ]
        },
        {
          "metadata": {
            "tags": null
          },
          "name": "stdout",
          "output_type": "stream",
          "text": [
            "validation loss: 0.0012016038828425938 at epoch 484\n",
            "learning_rate: 0.0003276800000000001\n"
          ]
        },
        {
          "metadata": {
            "tags": null
          },
          "name": "stderr",
          "output_type": "stream",
          "text": [
            "epoch 484: 100%|██████████| 282/282 [00:08<00:00, 34.36it/s]\n"
          ]
        },
        {
          "metadata": {
            "tags": null
          },
          "name": "stdout",
          "output_type": "stream",
          "text": [
            "validation loss: 0.00124690587239133 at epoch 485\n",
            "learning_rate: 0.0003276800000000001\n"
          ]
        },
        {
          "metadata": {
            "tags": null
          },
          "name": "stderr",
          "output_type": "stream",
          "text": [
            "epoch 485: 100%|██████████| 282/282 [00:08<00:00, 34.41it/s]\n"
          ]
        },
        {
          "metadata": {
            "tags": null
          },
          "name": "stdout",
          "output_type": "stream",
          "text": [
            "validation loss: 0.0029362855652968088 at epoch 486\n",
            "learning_rate: 0.0003276800000000001\n"
          ]
        },
        {
          "metadata": {
            "tags": null
          },
          "name": "stderr",
          "output_type": "stream",
          "text": [
            "epoch 486: 100%|██████████| 282/282 [00:07<00:00, 38.23it/s]\n"
          ]
        },
        {
          "metadata": {
            "tags": null
          },
          "name": "stdout",
          "output_type": "stream",
          "text": [
            "validation loss: 0.0010940688422156704 at epoch 487\n",
            "learning_rate: 0.0003276800000000001\n"
          ]
        },
        {
          "metadata": {
            "tags": null
          },
          "name": "stderr",
          "output_type": "stream",
          "text": [
            "epoch 487: 100%|██████████| 282/282 [00:08<00:00, 34.11it/s]\n"
          ]
        },
        {
          "metadata": {
            "tags": null
          },
          "name": "stdout",
          "output_type": "stream",
          "text": [
            "validation loss: 0.0034830530501074263 at epoch 488\n",
            "learning_rate: 0.0003276800000000001\n"
          ]
        },
        {
          "metadata": {
            "tags": null
          },
          "name": "stderr",
          "output_type": "stream",
          "text": [
            "epoch 488: 100%|██████████| 282/282 [00:08<00:00, 34.26it/s]\n"
          ]
        },
        {
          "metadata": {
            "tags": null
          },
          "name": "stdout",
          "output_type": "stream",
          "text": [
            "validation loss: 0.0012915461469027731 at epoch 489\n",
            "learning_rate: 0.0003276800000000001\n"
          ]
        },
        {
          "metadata": {
            "tags": null
          },
          "name": "stderr",
          "output_type": "stream",
          "text": [
            "epoch 489: 100%|██████████| 282/282 [00:07<00:00, 37.86it/s]\n"
          ]
        },
        {
          "metadata": {
            "tags": null
          },
          "name": "stdout",
          "output_type": "stream",
          "text": [
            "validation loss: 0.0015753999832603667 at epoch 490\n",
            "learning_rate: 0.0003276800000000001\n"
          ]
        },
        {
          "metadata": {
            "tags": null
          },
          "name": "stderr",
          "output_type": "stream",
          "text": [
            "epoch 490: 100%|██████████| 282/282 [00:08<00:00, 34.07it/s]\n"
          ]
        },
        {
          "metadata": {
            "tags": null
          },
          "name": "stdout",
          "output_type": "stream",
          "text": [
            "validation loss: 0.0015501961194806628 at epoch 491\n",
            "learning_rate: 0.0003276800000000001\n"
          ]
        },
        {
          "metadata": {
            "tags": null
          },
          "name": "stderr",
          "output_type": "stream",
          "text": [
            "epoch 491: 100%|██████████| 282/282 [00:08<00:00, 34.04it/s]\n"
          ]
        },
        {
          "metadata": {
            "tags": null
          },
          "name": "stdout",
          "output_type": "stream",
          "text": [
            "validation loss: 0.0016098740978373422 at epoch 492\n",
            "learning_rate: 0.0003276800000000001\n"
          ]
        },
        {
          "metadata": {
            "tags": null
          },
          "name": "stderr",
          "output_type": "stream",
          "text": [
            "epoch 492: 100%|██████████| 282/282 [00:07<00:00, 37.94it/s]\n"
          ]
        },
        {
          "metadata": {
            "tags": null
          },
          "name": "stdout",
          "output_type": "stream",
          "text": [
            "validation loss: 0.001085819368561109 at epoch 493\n",
            "learning_rate: 0.0003276800000000001\n"
          ]
        },
        {
          "metadata": {
            "tags": null
          },
          "name": "stderr",
          "output_type": "stream",
          "text": [
            "epoch 493: 100%|██████████| 282/282 [00:08<00:00, 34.21it/s]\n"
          ]
        },
        {
          "metadata": {
            "tags": null
          },
          "name": "stdout",
          "output_type": "stream",
          "text": [
            "validation loss: 0.0022162238475349214 at epoch 494\n",
            "learning_rate: 0.0003276800000000001\n"
          ]
        },
        {
          "metadata": {
            "tags": null
          },
          "name": "stderr",
          "output_type": "stream",
          "text": [
            "epoch 494: 100%|██████████| 282/282 [00:08<00:00, 34.46it/s]\n"
          ]
        },
        {
          "metadata": {
            "tags": null
          },
          "name": "stdout",
          "output_type": "stream",
          "text": [
            "validation loss: 0.0017689094228876961 at epoch 495\n",
            "learning_rate: 0.0003276800000000001\n"
          ]
        },
        {
          "metadata": {
            "tags": null
          },
          "name": "stderr",
          "output_type": "stream",
          "text": [
            "epoch 495: 100%|██████████| 282/282 [00:07<00:00, 38.04it/s]\n"
          ]
        },
        {
          "metadata": {
            "tags": null
          },
          "name": "stdout",
          "output_type": "stream",
          "text": [
            "validation loss: 0.004498366352584627 at epoch 496\n",
            "learning_rate: 0.0003276800000000001\n"
          ]
        },
        {
          "metadata": {
            "tags": null
          },
          "name": "stderr",
          "output_type": "stream",
          "text": [
            "epoch 496: 100%|██████████| 282/282 [00:08<00:00, 34.40it/s]\n"
          ]
        },
        {
          "metadata": {
            "tags": null
          },
          "name": "stdout",
          "output_type": "stream",
          "text": [
            "validation loss: 0.0023280182464255226 at epoch 497\n",
            "learning_rate: 0.0003276800000000001\n"
          ]
        },
        {
          "metadata": {
            "tags": null
          },
          "name": "stderr",
          "output_type": "stream",
          "text": [
            "epoch 497: 100%|██████████| 282/282 [00:08<00:00, 34.58it/s]\n"
          ]
        },
        {
          "metadata": {
            "tags": null
          },
          "name": "stdout",
          "output_type": "stream",
          "text": [
            "validation loss: 0.0010756858479645517 at epoch 498\n",
            "learning_rate: 0.0003276800000000001\n",
            "model saved in ani_acrolein.pt\n"
          ]
        },
        {
          "metadata": {
            "tags": null
          },
          "name": "stderr",
          "output_type": "stream",
          "text": [
            "epoch 498: 100%|██████████| 282/282 [00:07<00:00, 38.25it/s]\n"
          ]
        },
        {
          "metadata": {
            "tags": null
          },
          "name": "stdout",
          "output_type": "stream",
          "text": [
            "validation loss: 0.0019006081736750073 at epoch 499\n",
            "learning_rate: 0.0003276800000000001\n"
          ]
        },
        {
          "metadata": {
            "tags": null
          },
          "name": "stderr",
          "output_type": "stream",
          "text": [
            "epoch 499: 100%|██████████| 282/282 [00:08<00:00, 34.16it/s]\n"
          ]
        },
        {
          "metadata": {
            "tags": null
          },
          "name": "stdout",
          "output_type": "stream",
          "text": [
            "validation loss: 0.0014032631698581907 at epoch 500\n",
            "learning_rate: 0.0003276800000000001\n"
          ]
        },
        {
          "metadata": {
            "tags": null
          },
          "name": "stderr",
          "output_type": "stream",
          "text": [
            "epoch 500: 100%|██████████| 282/282 [00:08<00:00, 34.26it/s]\n"
          ]
        },
        {
          "metadata": {
            "tags": null
          },
          "name": "stdout",
          "output_type": "stream",
          "text": [
            "validation loss: 0.0014028458918134371 at epoch 501\n",
            "learning_rate: 0.0003276800000000001\n"
          ]
        },
        {
          "metadata": {
            "tags": null
          },
          "name": "stderr",
          "output_type": "stream",
          "text": [
            "epoch 501: 100%|██████████| 282/282 [00:07<00:00, 38.07it/s]\n"
          ]
        },
        {
          "metadata": {
            "tags": null
          },
          "name": "stdout",
          "output_type": "stream",
          "text": [
            "validation loss: 0.0011027796847952736 at epoch 502\n",
            "learning_rate: 0.0003276800000000001\n"
          ]
        },
        {
          "metadata": {
            "tags": null
          },
          "name": "stderr",
          "output_type": "stream",
          "text": [
            "epoch 502: 100%|██████████| 282/282 [00:08<00:00, 33.74it/s]\n"
          ]
        },
        {
          "metadata": {
            "tags": null
          },
          "name": "stdout",
          "output_type": "stream",
          "text": [
            "validation loss: 0.0013481754147344166 at epoch 503\n",
            "learning_rate: 0.0003276800000000001\n"
          ]
        },
        {
          "metadata": {
            "tags": null
          },
          "name": "stderr",
          "output_type": "stream",
          "text": [
            "epoch 503: 100%|██████████| 282/282 [00:08<00:00, 34.80it/s]\n"
          ]
        },
        {
          "metadata": {
            "tags": null
          },
          "name": "stdout",
          "output_type": "stream",
          "text": [
            "validation loss: 0.0015720143649313185 at epoch 504\n",
            "learning_rate: 0.0003276800000000001\n"
          ]
        },
        {
          "metadata": {
            "tags": null
          },
          "name": "stderr",
          "output_type": "stream",
          "text": [
            "epoch 504: 100%|██████████| 282/282 [00:07<00:00, 38.20it/s]\n"
          ]
        },
        {
          "metadata": {
            "tags": null
          },
          "name": "stdout",
          "output_type": "stream",
          "text": [
            "validation loss: 0.0011561858231822649 at epoch 505\n",
            "learning_rate: 0.0003276800000000001\n"
          ]
        },
        {
          "metadata": {
            "tags": null
          },
          "name": "stderr",
          "output_type": "stream",
          "text": [
            "epoch 505: 100%|██████████| 282/282 [00:08<00:00, 34.39it/s]\n"
          ]
        },
        {
          "metadata": {
            "tags": null
          },
          "name": "stdout",
          "output_type": "stream",
          "text": [
            "validation loss: 0.001339717370768388 at epoch 506\n",
            "learning_rate: 0.0003276800000000001\n"
          ]
        },
        {
          "metadata": {
            "tags": null
          },
          "name": "stderr",
          "output_type": "stream",
          "text": [
            "epoch 506: 100%|██████████| 282/282 [00:08<00:00, 33.64it/s]\n"
          ]
        },
        {
          "metadata": {
            "tags": null
          },
          "name": "stdout",
          "output_type": "stream",
          "text": [
            "validation loss: 0.001379464643696944 at epoch 507\n",
            "learning_rate: 0.0003276800000000001\n"
          ]
        },
        {
          "metadata": {
            "tags": null
          },
          "name": "stderr",
          "output_type": "stream",
          "text": [
            "epoch 507: 100%|██████████| 282/282 [00:07<00:00, 38.32it/s]\n"
          ]
        },
        {
          "metadata": {
            "tags": null
          },
          "name": "stdout",
          "output_type": "stream",
          "text": [
            "validation loss: 0.0062538600795798835 at epoch 508\n",
            "learning_rate: 0.0003276800000000001\n"
          ]
        },
        {
          "metadata": {
            "tags": null
          },
          "name": "stderr",
          "output_type": "stream",
          "text": [
            "epoch 508: 100%|██████████| 282/282 [00:08<00:00, 34.36it/s]\n"
          ]
        },
        {
          "metadata": {
            "tags": null
          },
          "name": "stdout",
          "output_type": "stream",
          "text": [
            "validation loss: 0.001687030927174621 at epoch 509\n",
            "learning_rate: 0.0003276800000000001\n"
          ]
        },
        {
          "metadata": {
            "tags": null
          },
          "name": "stderr",
          "output_type": "stream",
          "text": [
            "epoch 509: 100%|██████████| 282/282 [00:08<00:00, 34.10it/s]\n"
          ]
        },
        {
          "metadata": {
            "tags": null
          },
          "name": "stdout",
          "output_type": "stream",
          "text": [
            "validation loss: 0.0011607956228156884 at epoch 510\n",
            "learning_rate: 0.0003276800000000001\n"
          ]
        },
        {
          "metadata": {
            "tags": null
          },
          "name": "stderr",
          "output_type": "stream",
          "text": [
            "epoch 510: 100%|██████████| 282/282 [00:07<00:00, 38.06it/s]\n"
          ]
        },
        {
          "metadata": {
            "tags": null
          },
          "name": "stdout",
          "output_type": "stream",
          "text": [
            "validation loss: 0.0013947881799605158 at epoch 511\n",
            "learning_rate: 0.0003276800000000001\n"
          ]
        },
        {
          "metadata": {
            "tags": null
          },
          "name": "stderr",
          "output_type": "stream",
          "text": [
            "epoch 511: 100%|██████████| 282/282 [00:08<00:00, 34.51it/s]\n"
          ]
        },
        {
          "metadata": {
            "tags": null
          },
          "name": "stdout",
          "output_type": "stream",
          "text": [
            "validation loss: 0.0011515734518567722 at epoch 512\n",
            "learning_rate: 0.0003276800000000001\n"
          ]
        },
        {
          "metadata": {
            "tags": null
          },
          "name": "stderr",
          "output_type": "stream",
          "text": [
            "epoch 512: 100%|██████████| 282/282 [00:08<00:00, 34.42it/s]\n"
          ]
        },
        {
          "metadata": {
            "tags": null
          },
          "name": "stdout",
          "output_type": "stream",
          "text": [
            "validation loss: 0.00127310501701302 at epoch 513\n",
            "learning_rate: 0.0003276800000000001\n"
          ]
        },
        {
          "metadata": {
            "tags": null
          },
          "name": "stderr",
          "output_type": "stream",
          "text": [
            "epoch 513: 100%|██████████| 282/282 [00:07<00:00, 38.00it/s]\n"
          ]
        },
        {
          "metadata": {
            "tags": null
          },
          "name": "stdout",
          "output_type": "stream",
          "text": [
            "validation loss: 0.001176746918923325 at epoch 514\n",
            "learning_rate: 0.0003276800000000001\n"
          ]
        },
        {
          "metadata": {
            "tags": null
          },
          "name": "stderr",
          "output_type": "stream",
          "text": [
            "epoch 514: 100%|██████████| 282/282 [00:08<00:00, 34.38it/s]\n"
          ]
        },
        {
          "metadata": {
            "tags": null
          },
          "name": "stdout",
          "output_type": "stream",
          "text": [
            "validation loss: 0.0012172681958311133 at epoch 515\n",
            "learning_rate: 0.0003276800000000001\n"
          ]
        },
        {
          "metadata": {
            "tags": null
          },
          "name": "stderr",
          "output_type": "stream",
          "text": [
            "epoch 515: 100%|██████████| 282/282 [00:08<00:00, 34.29it/s]\n"
          ]
        },
        {
          "metadata": {
            "tags": null
          },
          "name": "stdout",
          "output_type": "stream",
          "text": [
            "validation loss: 0.0010485425165130033 at epoch 516\n",
            "learning_rate: 0.0003276800000000001\n",
            "model saved in ani_acrolein.pt\n"
          ]
        },
        {
          "metadata": {
            "tags": null
          },
          "name": "stderr",
          "output_type": "stream",
          "text": [
            "epoch 516: 100%|██████████| 282/282 [00:07<00:00, 38.16it/s]\n"
          ]
        },
        {
          "metadata": {
            "tags": null
          },
          "name": "stdout",
          "output_type": "stream",
          "text": [
            "validation loss: 0.0026913867957062193 at epoch 517\n",
            "learning_rate: 0.0003276800000000001\n"
          ]
        },
        {
          "metadata": {
            "tags": null
          },
          "name": "stderr",
          "output_type": "stream",
          "text": [
            "epoch 517: 100%|██████████| 282/282 [00:08<00:00, 34.05it/s]\n"
          ]
        },
        {
          "metadata": {
            "tags": null
          },
          "name": "stdout",
          "output_type": "stream",
          "text": [
            "validation loss: 0.0010692971290813553 at epoch 518\n",
            "learning_rate: 0.0003276800000000001\n"
          ]
        },
        {
          "metadata": {
            "tags": null
          },
          "name": "stderr",
          "output_type": "stream",
          "text": [
            "epoch 518: 100%|██████████| 282/282 [00:08<00:00, 34.32it/s]\n"
          ]
        },
        {
          "metadata": {
            "tags": null
          },
          "name": "stdout",
          "output_type": "stream",
          "text": [
            "validation loss: 0.0012387415439718298 at epoch 519\n",
            "learning_rate: 0.0003276800000000001\n"
          ]
        },
        {
          "metadata": {
            "tags": null
          },
          "name": "stderr",
          "output_type": "stream",
          "text": [
            "epoch 519: 100%|██████████| 282/282 [00:07<00:00, 37.66it/s]\n"
          ]
        },
        {
          "metadata": {
            "tags": null
          },
          "name": "stdout",
          "output_type": "stream",
          "text": [
            "validation loss: 0.001974006213247776 at epoch 520\n",
            "learning_rate: 0.0003276800000000001\n"
          ]
        },
        {
          "metadata": {
            "tags": null
          },
          "name": "stderr",
          "output_type": "stream",
          "text": [
            "epoch 520: 100%|██████████| 282/282 [00:08<00:00, 34.20it/s]\n"
          ]
        },
        {
          "metadata": {
            "tags": null
          },
          "name": "stdout",
          "output_type": "stream",
          "text": [
            "validation loss: 0.001385983011788792 at epoch 521\n",
            "learning_rate: 0.0003276800000000001\n"
          ]
        },
        {
          "metadata": {
            "tags": null
          },
          "name": "stderr",
          "output_type": "stream",
          "text": [
            "epoch 521: 100%|██████████| 282/282 [00:08<00:00, 33.99it/s]\n"
          ]
        },
        {
          "metadata": {
            "tags": null
          },
          "name": "stdout",
          "output_type": "stream",
          "text": [
            "validation loss: 0.0012410766329202386 at epoch 522\n",
            "learning_rate: 0.0003276800000000001\n"
          ]
        },
        {
          "metadata": {
            "tags": null
          },
          "name": "stderr",
          "output_type": "stream",
          "text": [
            "epoch 522: 100%|██████████| 282/282 [00:07<00:00, 38.08it/s]\n"
          ]
        },
        {
          "metadata": {
            "tags": null
          },
          "name": "stdout",
          "output_type": "stream",
          "text": [
            "validation loss: 0.002366916542251905 at epoch 523\n",
            "learning_rate: 0.0003276800000000001\n"
          ]
        },
        {
          "metadata": {
            "tags": null
          },
          "name": "stderr",
          "output_type": "stream",
          "text": [
            "epoch 523: 100%|██████████| 282/282 [00:08<00:00, 34.07it/s]\n"
          ]
        },
        {
          "metadata": {
            "tags": null
          },
          "name": "stdout",
          "output_type": "stream",
          "text": [
            "validation loss: 0.0012705908649497562 at epoch 524\n",
            "learning_rate: 0.0003276800000000001\n"
          ]
        },
        {
          "metadata": {
            "tags": null
          },
          "name": "stderr",
          "output_type": "stream",
          "text": [
            "epoch 524: 100%|██████████| 282/282 [00:08<00:00, 34.45it/s]\n"
          ]
        },
        {
          "metadata": {
            "tags": null
          },
          "name": "stdout",
          "output_type": "stream",
          "text": [
            "validation loss: 0.003171775827805201 at epoch 525\n",
            "learning_rate: 0.0003276800000000001\n"
          ]
        },
        {
          "metadata": {
            "tags": null
          },
          "name": "stderr",
          "output_type": "stream",
          "text": [
            "epoch 525: 100%|██████████| 282/282 [00:07<00:00, 38.21it/s]\n"
          ]
        },
        {
          "metadata": {
            "tags": null
          },
          "name": "stdout",
          "output_type": "stream",
          "text": [
            "validation loss: 0.001693552005622122 at epoch 526\n",
            "learning_rate: 0.0003276800000000001\n"
          ]
        },
        {
          "metadata": {
            "tags": null
          },
          "name": "stderr",
          "output_type": "stream",
          "text": [
            "epoch 526: 100%|██████████| 282/282 [00:08<00:00, 34.42it/s]\n"
          ]
        },
        {
          "metadata": {
            "tags": null
          },
          "name": "stdout",
          "output_type": "stream",
          "text": [
            "validation loss: 0.00353394349416097 at epoch 527\n",
            "learning_rate: 0.0003276800000000001\n"
          ]
        },
        {
          "metadata": {
            "tags": null
          },
          "name": "stderr",
          "output_type": "stream",
          "text": [
            "epoch 527: 100%|██████████| 282/282 [00:08<00:00, 34.59it/s]\n"
          ]
        },
        {
          "metadata": {
            "tags": null
          },
          "name": "stdout",
          "output_type": "stream",
          "text": [
            "validation loss: 0.0022936913321415582 at epoch 528\n",
            "learning_rate: 0.0003276800000000001\n"
          ]
        },
        {
          "metadata": {
            "tags": null
          },
          "name": "stderr",
          "output_type": "stream",
          "text": [
            "epoch 528: 100%|██████████| 282/282 [00:07<00:00, 38.06it/s]\n"
          ]
        },
        {
          "metadata": {
            "tags": null
          },
          "name": "stdout",
          "output_type": "stream",
          "text": [
            "validation loss: 0.0026316408928897645 at epoch 529\n",
            "learning_rate: 0.0003276800000000001\n"
          ]
        },
        {
          "metadata": {
            "tags": null
          },
          "name": "stderr",
          "output_type": "stream",
          "text": [
            "epoch 529: 100%|██████████| 282/282 [00:08<00:00, 34.33it/s]\n"
          ]
        },
        {
          "metadata": {
            "tags": null
          },
          "name": "stdout",
          "output_type": "stream",
          "text": [
            "validation loss: 0.001935493990778923 at epoch 530\n",
            "learning_rate: 0.0003276800000000001\n"
          ]
        },
        {
          "metadata": {
            "tags": null
          },
          "name": "stderr",
          "output_type": "stream",
          "text": [
            "epoch 530: 100%|██████████| 282/282 [00:08<00:00, 34.40it/s]\n"
          ]
        },
        {
          "metadata": {
            "tags": null
          },
          "name": "stdout",
          "output_type": "stream",
          "text": [
            "validation loss: 0.0014188549601369435 at epoch 531\n",
            "learning_rate: 0.0003276800000000001\n"
          ]
        },
        {
          "metadata": {
            "tags": null
          },
          "name": "stderr",
          "output_type": "stream",
          "text": [
            "epoch 531: 100%|██████████| 282/282 [00:07<00:00, 37.21it/s]\n"
          ]
        },
        {
          "metadata": {
            "tags": null
          },
          "name": "stdout",
          "output_type": "stream",
          "text": [
            "validation loss: 0.003081342715356085 at epoch 532\n",
            "learning_rate: 0.0003276800000000001\n"
          ]
        },
        {
          "metadata": {
            "tags": null
          },
          "name": "stderr",
          "output_type": "stream",
          "text": [
            "epoch 532: 100%|██████████| 282/282 [00:08<00:00, 34.36it/s]\n"
          ]
        },
        {
          "metadata": {
            "tags": null
          },
          "name": "stdout",
          "output_type": "stream",
          "text": [
            "validation loss: 0.005128995137082206 at epoch 533\n",
            "learning_rate: 0.0003276800000000001\n"
          ]
        },
        {
          "metadata": {
            "tags": null
          },
          "name": "stderr",
          "output_type": "stream",
          "text": [
            "epoch 533: 100%|██████████| 282/282 [00:08<00:00, 34.39it/s]\n"
          ]
        },
        {
          "metadata": {
            "tags": null
          },
          "name": "stdout",
          "output_type": "stream",
          "text": [
            "validation loss: 0.0028323036382595698 at epoch 534\n",
            "learning_rate: 0.0003276800000000001\n"
          ]
        },
        {
          "metadata": {
            "tags": null
          },
          "name": "stderr",
          "output_type": "stream",
          "text": [
            "epoch 534: 100%|██████████| 282/282 [00:07<00:00, 38.05it/s]\n"
          ]
        },
        {
          "metadata": {
            "tags": null
          },
          "name": "stdout",
          "output_type": "stream",
          "text": [
            "validation loss: 0.0026541094217035505 at epoch 535\n",
            "learning_rate: 0.0003276800000000001\n"
          ]
        },
        {
          "metadata": {
            "tags": null
          },
          "name": "stderr",
          "output_type": "stream",
          "text": [
            "epoch 535: 100%|██████████| 282/282 [00:08<00:00, 33.96it/s]\n"
          ]
        },
        {
          "metadata": {
            "tags": null
          },
          "name": "stdout",
          "output_type": "stream",
          "text": [
            "validation loss: 0.002773028262787395 at epoch 536\n",
            "learning_rate: 0.0003276800000000001\n"
          ]
        },
        {
          "metadata": {
            "tags": null
          },
          "name": "stderr",
          "output_type": "stream",
          "text": [
            "epoch 536: 100%|██████████| 282/282 [00:08<00:00, 34.30it/s]\n"
          ]
        },
        {
          "metadata": {
            "tags": null
          },
          "name": "stdout",
          "output_type": "stream",
          "text": [
            "validation loss: 0.005751279897160001 at epoch 537\n",
            "learning_rate: 0.0003276800000000001\n"
          ]
        },
        {
          "metadata": {
            "tags": null
          },
          "name": "stderr",
          "output_type": "stream",
          "text": [
            "epoch 537: 100%|██████████| 282/282 [00:07<00:00, 37.89it/s]\n"
          ]
        },
        {
          "metadata": {
            "tags": null
          },
          "name": "stdout",
          "output_type": "stream",
          "text": [
            "validation loss: 0.0055476531949308185 at epoch 538\n",
            "learning_rate: 0.0003276800000000001\n"
          ]
        },
        {
          "metadata": {
            "tags": null
          },
          "name": "stderr",
          "output_type": "stream",
          "text": [
            "epoch 538: 100%|██████████| 282/282 [00:08<00:00, 34.46it/s]\n"
          ]
        },
        {
          "metadata": {
            "tags": null
          },
          "name": "stdout",
          "output_type": "stream",
          "text": [
            "validation loss: 0.0030839343782928254 at epoch 539\n",
            "learning_rate: 0.0003276800000000001\n"
          ]
        },
        {
          "metadata": {
            "tags": null
          },
          "name": "stderr",
          "output_type": "stream",
          "text": [
            "epoch 539: 100%|██████████| 282/282 [00:08<00:00, 34.27it/s]\n"
          ]
        },
        {
          "metadata": {
            "tags": null
          },
          "name": "stdout",
          "output_type": "stream",
          "text": [
            "validation loss: 0.004480135381221771 at epoch 540\n",
            "learning_rate: 0.0003276800000000001\n"
          ]
        },
        {
          "metadata": {
            "tags": null
          },
          "name": "stderr",
          "output_type": "stream",
          "text": [
            "epoch 540: 100%|██████████| 282/282 [00:07<00:00, 37.89it/s]\n"
          ]
        },
        {
          "metadata": {
            "tags": null
          },
          "name": "stdout",
          "output_type": "stream",
          "text": [
            "validation loss: 0.003165156677365303 at epoch 541\n",
            "learning_rate: 0.0003276800000000001\n"
          ]
        },
        {
          "metadata": {
            "tags": null
          },
          "name": "stderr",
          "output_type": "stream",
          "text": [
            "epoch 541: 100%|██████████| 282/282 [00:08<00:00, 34.12it/s]\n"
          ]
        },
        {
          "metadata": {
            "tags": null
          },
          "name": "stdout",
          "output_type": "stream",
          "text": [
            "validation loss: 0.0010546094290912152 at epoch 542\n",
            "learning_rate: 0.0003276800000000001\n"
          ]
        },
        {
          "metadata": {
            "tags": null
          },
          "name": "stderr",
          "output_type": "stream",
          "text": [
            "epoch 542: 100%|██████████| 282/282 [00:08<00:00, 34.33it/s]\n"
          ]
        },
        {
          "metadata": {
            "tags": null
          },
          "name": "stdout",
          "output_type": "stream",
          "text": [
            "validation loss: 0.0024435727414157653 at epoch 543\n",
            "learning_rate: 0.0003276800000000001\n"
          ]
        },
        {
          "metadata": {
            "tags": null
          },
          "name": "stderr",
          "output_type": "stream",
          "text": [
            "epoch 543: 100%|██████████| 282/282 [00:07<00:00, 37.85it/s]\n"
          ]
        },
        {
          "metadata": {
            "tags": null
          },
          "name": "stdout",
          "output_type": "stream",
          "text": [
            "validation loss: 0.0035944458809163836 at epoch 544\n",
            "learning_rate: 0.0003276800000000001\n"
          ]
        },
        {
          "metadata": {
            "tags": null
          },
          "name": "stderr",
          "output_type": "stream",
          "text": [
            "epoch 544: 100%|██████████| 282/282 [00:08<00:00, 33.94it/s]\n"
          ]
        },
        {
          "metadata": {
            "tags": null
          },
          "name": "stdout",
          "output_type": "stream",
          "text": [
            "validation loss: 0.0022019391705592473 at epoch 545\n",
            "learning_rate: 0.0003276800000000001\n"
          ]
        },
        {
          "metadata": {
            "tags": null
          },
          "name": "stderr",
          "output_type": "stream",
          "text": [
            "epoch 545: 100%|██████████| 282/282 [00:08<00:00, 34.00it/s]\n"
          ]
        },
        {
          "metadata": {
            "tags": null
          },
          "name": "stdout",
          "output_type": "stream",
          "text": [
            "validation loss: 0.001455434139404032 at epoch 546\n",
            "learning_rate: 0.0003276800000000001\n"
          ]
        },
        {
          "metadata": {
            "tags": null
          },
          "name": "stderr",
          "output_type": "stream",
          "text": [
            "epoch 546: 100%|██████████| 282/282 [00:07<00:00, 38.13it/s]\n"
          ]
        },
        {
          "metadata": {
            "tags": null
          },
          "name": "stdout",
          "output_type": "stream",
          "text": [
            "validation loss: 0.003593317050072882 at epoch 547\n",
            "learning_rate: 0.0003276800000000001\n"
          ]
        },
        {
          "metadata": {
            "tags": null
          },
          "name": "stderr",
          "output_type": "stream",
          "text": [
            "epoch 547: 100%|██████████| 282/282 [00:08<00:00, 34.11it/s]\n"
          ]
        },
        {
          "metadata": {
            "tags": null
          },
          "name": "stdout",
          "output_type": "stream",
          "text": [
            "validation loss: 0.001539876272281011 at epoch 548\n",
            "learning_rate: 0.0003276800000000001\n"
          ]
        },
        {
          "metadata": {
            "tags": null
          },
          "name": "stderr",
          "output_type": "stream",
          "text": [
            "epoch 548: 100%|██████████| 282/282 [00:08<00:00, 34.23it/s]\n"
          ]
        },
        {
          "metadata": {
            "tags": null
          },
          "name": "stdout",
          "output_type": "stream",
          "text": [
            "validation loss: 0.0019491575608650844 at epoch 549\n",
            "learning_rate: 0.0003276800000000001\n"
          ]
        },
        {
          "metadata": {
            "tags": null
          },
          "name": "stderr",
          "output_type": "stream",
          "text": [
            "epoch 549: 100%|██████████| 282/282 [00:07<00:00, 37.99it/s]\n"
          ]
        },
        {
          "metadata": {
            "tags": null
          },
          "name": "stdout",
          "output_type": "stream",
          "text": [
            "validation loss: 0.00304105970925755 at epoch 550\n",
            "learning_rate: 0.0003276800000000001\n"
          ]
        },
        {
          "metadata": {
            "tags": null
          },
          "name": "stderr",
          "output_type": "stream",
          "text": [
            "epoch 550: 100%|██████████| 282/282 [00:08<00:00, 34.18it/s]\n"
          ]
        },
        {
          "metadata": {
            "tags": null
          },
          "name": "stdout",
          "output_type": "stream",
          "text": [
            "validation loss: 0.0034862783898909886 at epoch 551\n",
            "learning_rate: 0.0003276800000000001\n"
          ]
        },
        {
          "metadata": {
            "tags": null
          },
          "name": "stderr",
          "output_type": "stream",
          "text": [
            "epoch 551: 100%|██████████| 282/282 [00:08<00:00, 34.21it/s]\n"
          ]
        },
        {
          "metadata": {
            "tags": null
          },
          "name": "stdout",
          "output_type": "stream",
          "text": [
            "validation loss: 0.0022507985946204926 at epoch 552\n",
            "learning_rate: 0.0003276800000000001\n"
          ]
        },
        {
          "metadata": {
            "tags": null
          },
          "name": "stderr",
          "output_type": "stream",
          "text": [
            "epoch 552: 100%|██████████| 282/282 [00:07<00:00, 37.87it/s]\n"
          ]
        },
        {
          "metadata": {
            "tags": null
          },
          "name": "stdout",
          "output_type": "stream",
          "text": [
            "validation loss: 0.001644242591328091 at epoch 553\n",
            "learning_rate: 0.0003276800000000001\n"
          ]
        },
        {
          "metadata": {
            "tags": null
          },
          "name": "stderr",
          "output_type": "stream",
          "text": [
            "epoch 553: 100%|██████████| 282/282 [00:08<00:00, 34.52it/s]\n"
          ]
        },
        {
          "metadata": {
            "tags": null
          },
          "name": "stdout",
          "output_type": "stream",
          "text": [
            "validation loss: 0.0036643968323866525 at epoch 554\n",
            "learning_rate: 0.0003276800000000001\n"
          ]
        },
        {
          "metadata": {
            "tags": null
          },
          "name": "stderr",
          "output_type": "stream",
          "text": [
            "epoch 554: 100%|██████████| 282/282 [00:08<00:00, 34.26it/s]\n"
          ]
        },
        {
          "metadata": {
            "tags": null
          },
          "name": "stdout",
          "output_type": "stream",
          "text": [
            "validation loss: 0.0010838902824454838 at epoch 555\n",
            "learning_rate: 0.0003276800000000001\n"
          ]
        },
        {
          "metadata": {
            "tags": null
          },
          "name": "stderr",
          "output_type": "stream",
          "text": [
            "epoch 555: 100%|██████████| 282/282 [00:07<00:00, 37.58it/s]\n"
          ]
        },
        {
          "metadata": {
            "tags": null
          },
          "name": "stdout",
          "output_type": "stream",
          "text": [
            "validation loss: 0.003936868064933353 at epoch 556\n",
            "learning_rate: 0.0003276800000000001\n"
          ]
        },
        {
          "metadata": {
            "tags": null
          },
          "name": "stderr",
          "output_type": "stream",
          "text": [
            "epoch 556: 100%|██████████| 282/282 [00:08<00:00, 33.70it/s]\n"
          ]
        },
        {
          "metadata": {
            "tags": null
          },
          "name": "stdout",
          "output_type": "stream",
          "text": [
            "validation loss: 0.004741800732082791 at epoch 557\n",
            "learning_rate: 0.0003276800000000001\n"
          ]
        },
        {
          "metadata": {
            "tags": null
          },
          "name": "stderr",
          "output_type": "stream",
          "text": [
            "epoch 557: 100%|██████████| 282/282 [00:08<00:00, 34.00it/s]\n"
          ]
        },
        {
          "metadata": {
            "tags": null
          },
          "name": "stdout",
          "output_type": "stream",
          "text": [
            "validation loss: 0.0047168158723248374 at epoch 558\n",
            "learning_rate: 0.0003276800000000001\n"
          ]
        },
        {
          "metadata": {
            "tags": null
          },
          "name": "stderr",
          "output_type": "stream",
          "text": [
            "epoch 558: 100%|██████████| 282/282 [00:07<00:00, 38.18it/s]\n"
          ]
        },
        {
          "metadata": {
            "tags": null
          },
          "name": "stdout",
          "output_type": "stream",
          "text": [
            "validation loss: 0.0045243657264444565 at epoch 559\n",
            "learning_rate: 0.0003276800000000001\n"
          ]
        },
        {
          "metadata": {
            "tags": null
          },
          "name": "stderr",
          "output_type": "stream",
          "text": [
            "epoch 559: 100%|██████████| 282/282 [00:08<00:00, 33.86it/s]\n"
          ]
        },
        {
          "metadata": {
            "tags": null
          },
          "name": "stdout",
          "output_type": "stream",
          "text": [
            "validation loss: 0.003365422836608357 at epoch 560\n",
            "learning_rate: 0.0003276800000000001\n"
          ]
        },
        {
          "metadata": {
            "tags": null
          },
          "name": "stderr",
          "output_type": "stream",
          "text": [
            "epoch 560: 100%|██████████| 282/282 [00:08<00:00, 34.43it/s]\n"
          ]
        },
        {
          "metadata": {
            "tags": null
          },
          "name": "stdout",
          "output_type": "stream",
          "text": [
            "validation loss: 0.0031436732825305728 at epoch 561\n",
            "learning_rate: 0.0003276800000000001\n"
          ]
        },
        {
          "metadata": {
            "tags": null
          },
          "name": "stderr",
          "output_type": "stream",
          "text": [
            "epoch 561: 100%|██████████| 282/282 [00:07<00:00, 38.21it/s]\n"
          ]
        },
        {
          "metadata": {
            "tags": null
          },
          "name": "stdout",
          "output_type": "stream",
          "text": [
            "validation loss: 0.0034265963236490885 at epoch 562\n",
            "learning_rate: 0.0003276800000000001\n"
          ]
        },
        {
          "metadata": {
            "tags": null
          },
          "name": "stderr",
          "output_type": "stream",
          "text": [
            "epoch 562: 100%|██████████| 282/282 [00:08<00:00, 33.89it/s]\n"
          ]
        },
        {
          "metadata": {
            "tags": null
          },
          "name": "stdout",
          "output_type": "stream",
          "text": [
            "validation loss: 0.0033051714897155762 at epoch 563\n",
            "learning_rate: 0.0003276800000000001\n"
          ]
        },
        {
          "metadata": {
            "tags": null
          },
          "name": "stderr",
          "output_type": "stream",
          "text": [
            "epoch 563: 100%|██████████| 282/282 [00:08<00:00, 34.98it/s]\n"
          ]
        },
        {
          "metadata": {
            "tags": null
          },
          "name": "stdout",
          "output_type": "stream",
          "text": [
            "validation loss: 0.002954447782701916 at epoch 564\n",
            "learning_rate: 0.0003276800000000001\n"
          ]
        },
        {
          "metadata": {
            "tags": null
          },
          "name": "stderr",
          "output_type": "stream",
          "text": [
            "epoch 564: 100%|██████████| 282/282 [00:07<00:00, 37.84it/s]\n"
          ]
        },
        {
          "metadata": {
            "tags": null
          },
          "name": "stdout",
          "output_type": "stream",
          "text": [
            "validation loss: 0.003242689044939147 at epoch 565\n",
            "learning_rate: 0.0003276800000000001\n"
          ]
        },
        {
          "metadata": {
            "tags": null
          },
          "name": "stderr",
          "output_type": "stream",
          "text": [
            "epoch 565: 100%|██████████| 282/282 [00:08<00:00, 33.52it/s]\n"
          ]
        },
        {
          "metadata": {
            "tags": null
          },
          "name": "stdout",
          "output_type": "stream",
          "text": [
            "validation loss: 0.0026858733114269043 at epoch 566\n",
            "learning_rate: 0.0003276800000000001\n"
          ]
        },
        {
          "metadata": {
            "tags": null
          },
          "name": "stderr",
          "output_type": "stream",
          "text": [
            "epoch 566: 100%|██████████| 282/282 [00:08<00:00, 35.16it/s]\n"
          ]
        },
        {
          "metadata": {
            "tags": null
          },
          "name": "stdout",
          "output_type": "stream",
          "text": [
            "validation loss: 0.005238146159383986 at epoch 567\n",
            "learning_rate: 0.0003276800000000001\n"
          ]
        },
        {
          "metadata": {
            "tags": null
          },
          "name": "stderr",
          "output_type": "stream",
          "text": [
            "epoch 567: 100%|██████████| 282/282 [00:07<00:00, 38.02it/s]\n"
          ]
        },
        {
          "metadata": {
            "tags": null
          },
          "name": "stdout",
          "output_type": "stream",
          "text": [
            "validation loss: 0.001578590579330921 at epoch 568\n",
            "learning_rate: 0.0002621440000000001\n"
          ]
        },
        {
          "metadata": {
            "tags": null
          },
          "name": "stderr",
          "output_type": "stream",
          "text": [
            "epoch 568: 100%|██████████| 282/282 [00:08<00:00, 33.88it/s]\n"
          ]
        },
        {
          "metadata": {
            "tags": null
          },
          "name": "stdout",
          "output_type": "stream",
          "text": [
            "validation loss: 0.0013074154274331199 at epoch 569\n",
            "learning_rate: 0.0002621440000000001\n"
          ]
        },
        {
          "metadata": {
            "tags": null
          },
          "name": "stderr",
          "output_type": "stream",
          "text": [
            "epoch 569: 100%|██████████| 282/282 [00:07<00:00, 35.46it/s]\n"
          ]
        },
        {
          "metadata": {
            "tags": null
          },
          "name": "stdout",
          "output_type": "stream",
          "text": [
            "validation loss: 0.0023391571044921876 at epoch 570\n",
            "learning_rate: 0.0002621440000000001\n"
          ]
        },
        {
          "metadata": {
            "tags": null
          },
          "name": "stderr",
          "output_type": "stream",
          "text": [
            "epoch 570: 100%|██████████| 282/282 [00:07<00:00, 37.92it/s]\n"
          ]
        },
        {
          "metadata": {
            "tags": null
          },
          "name": "stdout",
          "output_type": "stream",
          "text": [
            "validation loss: 0.0026336486091216404 at epoch 571\n",
            "learning_rate: 0.0002621440000000001\n"
          ]
        },
        {
          "metadata": {
            "tags": null
          },
          "name": "stderr",
          "output_type": "stream",
          "text": [
            "epoch 571: 100%|██████████| 282/282 [00:08<00:00, 33.97it/s]\n"
          ]
        },
        {
          "metadata": {
            "tags": null
          },
          "name": "stdout",
          "output_type": "stream",
          "text": [
            "validation loss: 0.0025877375933859082 at epoch 572\n",
            "learning_rate: 0.0002621440000000001\n"
          ]
        },
        {
          "metadata": {
            "tags": null
          },
          "name": "stderr",
          "output_type": "stream",
          "text": [
            "epoch 572: 100%|██████████| 282/282 [00:07<00:00, 35.29it/s]\n"
          ]
        },
        {
          "metadata": {
            "tags": null
          },
          "name": "stdout",
          "output_type": "stream",
          "text": [
            "validation loss: 0.00315844450559881 at epoch 573\n",
            "learning_rate: 0.0002621440000000001\n"
          ]
        },
        {
          "metadata": {
            "tags": null
          },
          "name": "stderr",
          "output_type": "stream",
          "text": [
            "epoch 573: 100%|██████████| 282/282 [00:07<00:00, 37.86it/s]\n"
          ]
        },
        {
          "metadata": {
            "tags": null
          },
          "name": "stdout",
          "output_type": "stream",
          "text": [
            "validation loss: 0.002830182587107023 at epoch 574\n",
            "learning_rate: 0.0002621440000000001\n"
          ]
        },
        {
          "metadata": {
            "tags": null
          },
          "name": "stderr",
          "output_type": "stream",
          "text": [
            "epoch 574: 100%|██████████| 282/282 [00:08<00:00, 34.14it/s]\n"
          ]
        },
        {
          "metadata": {
            "tags": null
          },
          "name": "stdout",
          "output_type": "stream",
          "text": [
            "validation loss: 0.0024199958990017575 at epoch 575\n",
            "learning_rate: 0.0002621440000000001\n"
          ]
        },
        {
          "metadata": {
            "tags": null
          },
          "name": "stderr",
          "output_type": "stream",
          "text": [
            "epoch 575: 100%|██████████| 282/282 [00:08<00:00, 35.00it/s]\n"
          ]
        },
        {
          "metadata": {
            "tags": null
          },
          "name": "stdout",
          "output_type": "stream",
          "text": [
            "validation loss: 0.003033400171332889 at epoch 576\n",
            "learning_rate: 0.0002621440000000001\n"
          ]
        },
        {
          "metadata": {
            "tags": null
          },
          "name": "stderr",
          "output_type": "stream",
          "text": [
            "epoch 576: 100%|██████████| 282/282 [00:07<00:00, 37.50it/s]\n"
          ]
        },
        {
          "metadata": {
            "tags": null
          },
          "name": "stdout",
          "output_type": "stream",
          "text": [
            "validation loss: 0.003148231456677119 at epoch 577\n",
            "learning_rate: 0.0002621440000000001\n"
          ]
        },
        {
          "metadata": {
            "tags": null
          },
          "name": "stderr",
          "output_type": "stream",
          "text": [
            "epoch 577: 100%|██████████| 282/282 [00:08<00:00, 33.80it/s]\n"
          ]
        },
        {
          "metadata": {
            "tags": null
          },
          "name": "stdout",
          "output_type": "stream",
          "text": [
            "validation loss: 0.002415443812807401 at epoch 578\n",
            "learning_rate: 0.0002621440000000001\n"
          ]
        },
        {
          "metadata": {
            "tags": null
          },
          "name": "stderr",
          "output_type": "stream",
          "text": [
            "epoch 578: 100%|██████████| 282/282 [00:07<00:00, 35.55it/s]\n"
          ]
        },
        {
          "metadata": {
            "tags": null
          },
          "name": "stdout",
          "output_type": "stream",
          "text": [
            "validation loss: 0.003424467227525181 at epoch 579\n",
            "learning_rate: 0.0002621440000000001\n"
          ]
        },
        {
          "metadata": {
            "tags": null
          },
          "name": "stderr",
          "output_type": "stream",
          "text": [
            "epoch 579: 100%|██████████| 282/282 [00:07<00:00, 37.92it/s]\n"
          ]
        },
        {
          "metadata": {
            "tags": null
          },
          "name": "stdout",
          "output_type": "stream",
          "text": [
            "validation loss: 0.0032728613598479164 at epoch 580\n",
            "learning_rate: 0.0002621440000000001\n"
          ]
        },
        {
          "metadata": {
            "tags": null
          },
          "name": "stderr",
          "output_type": "stream",
          "text": [
            "epoch 580: 100%|██████████| 282/282 [00:08<00:00, 34.11it/s]\n"
          ]
        },
        {
          "metadata": {
            "tags": null
          },
          "name": "stdout",
          "output_type": "stream",
          "text": [
            "validation loss: 0.0033325498832596674 at epoch 581\n",
            "learning_rate: 0.0002621440000000001\n"
          ]
        },
        {
          "metadata": {
            "tags": null
          },
          "name": "stderr",
          "output_type": "stream",
          "text": [
            "epoch 581: 100%|██████████| 282/282 [00:07<00:00, 35.39it/s]\n"
          ]
        },
        {
          "metadata": {
            "tags": null
          },
          "name": "stdout",
          "output_type": "stream",
          "text": [
            "validation loss: 0.003055929279989666 at epoch 582\n",
            "learning_rate: 0.0002621440000000001\n"
          ]
        },
        {
          "metadata": {
            "tags": null
          },
          "name": "stderr",
          "output_type": "stream",
          "text": [
            "epoch 582: 100%|██████████| 282/282 [00:07<00:00, 37.44it/s]\n"
          ]
        },
        {
          "metadata": {
            "tags": null
          },
          "name": "stdout",
          "output_type": "stream",
          "text": [
            "validation loss: 0.0025567527810732523 at epoch 583\n",
            "learning_rate: 0.0002621440000000001\n"
          ]
        },
        {
          "metadata": {
            "tags": null
          },
          "name": "stderr",
          "output_type": "stream",
          "text": [
            "epoch 583: 100%|██████████| 282/282 [00:08<00:00, 34.48it/s]\n"
          ]
        },
        {
          "metadata": {
            "tags": null
          },
          "name": "stdout",
          "output_type": "stream",
          "text": [
            "validation loss: 0.0023711789896090824 at epoch 584\n",
            "learning_rate: 0.0002621440000000001\n"
          ]
        },
        {
          "metadata": {
            "tags": null
          },
          "name": "stderr",
          "output_type": "stream",
          "text": [
            "epoch 584: 100%|██████████| 282/282 [00:08<00:00, 35.23it/s]\n"
          ]
        },
        {
          "metadata": {
            "tags": null
          },
          "name": "stdout",
          "output_type": "stream",
          "text": [
            "validation loss: 0.0024047680530283186 at epoch 585\n",
            "learning_rate: 0.0002621440000000001\n"
          ]
        },
        {
          "metadata": {
            "tags": null
          },
          "name": "stderr",
          "output_type": "stream",
          "text": [
            "epoch 585: 100%|██████████| 282/282 [00:07<00:00, 37.50it/s]\n"
          ]
        },
        {
          "metadata": {
            "tags": null
          },
          "name": "stdout",
          "output_type": "stream",
          "text": [
            "validation loss: 0.002254510929187139 at epoch 586\n",
            "learning_rate: 0.0002621440000000001\n"
          ]
        },
        {
          "metadata": {
            "tags": null
          },
          "name": "stderr",
          "output_type": "stream",
          "text": [
            "epoch 586: 100%|██████████| 282/282 [00:08<00:00, 34.10it/s]\n"
          ]
        },
        {
          "metadata": {
            "tags": null
          },
          "name": "stdout",
          "output_type": "stream",
          "text": [
            "validation loss: 0.0026929359750615224 at epoch 587\n",
            "learning_rate: 0.0002621440000000001\n"
          ]
        },
        {
          "metadata": {
            "tags": null
          },
          "name": "stderr",
          "output_type": "stream",
          "text": [
            "epoch 587: 100%|██████████| 282/282 [00:07<00:00, 35.75it/s]\n"
          ]
        },
        {
          "metadata": {
            "tags": null
          },
          "name": "stdout",
          "output_type": "stream",
          "text": [
            "validation loss: 0.0024225760797659556 at epoch 588\n",
            "learning_rate: 0.0002621440000000001\n"
          ]
        },
        {
          "metadata": {
            "tags": null
          },
          "name": "stderr",
          "output_type": "stream",
          "text": [
            "epoch 588: 100%|██████████| 282/282 [00:07<00:00, 37.73it/s]\n"
          ]
        },
        {
          "metadata": {
            "tags": null
          },
          "name": "stdout",
          "output_type": "stream",
          "text": [
            "validation loss: 0.0026644129471646415 at epoch 589\n",
            "learning_rate: 0.0002621440000000001\n"
          ]
        },
        {
          "metadata": {
            "tags": null
          },
          "name": "stderr",
          "output_type": "stream",
          "text": [
            "epoch 589: 100%|██████████| 282/282 [00:08<00:00, 34.42it/s]\n"
          ]
        },
        {
          "metadata": {
            "tags": null
          },
          "name": "stdout",
          "output_type": "stream",
          "text": [
            "validation loss: 0.002751019436452124 at epoch 590\n",
            "learning_rate: 0.0002621440000000001\n"
          ]
        },
        {
          "metadata": {
            "tags": null
          },
          "name": "stderr",
          "output_type": "stream",
          "text": [
            "epoch 590: 100%|██████████| 282/282 [00:07<00:00, 35.30it/s]\n"
          ]
        },
        {
          "metadata": {
            "tags": null
          },
          "name": "stdout",
          "output_type": "stream",
          "text": [
            "validation loss: 0.0026979172461562687 at epoch 591\n",
            "learning_rate: 0.0002621440000000001\n"
          ]
        },
        {
          "metadata": {
            "tags": null
          },
          "name": "stderr",
          "output_type": "stream",
          "text": [
            "epoch 591: 100%|██████████| 282/282 [00:07<00:00, 37.37it/s]\n"
          ]
        },
        {
          "metadata": {
            "tags": null
          },
          "name": "stdout",
          "output_type": "stream",
          "text": [
            "validation loss: 0.0021561504784557554 at epoch 592\n",
            "learning_rate: 0.0002621440000000001\n"
          ]
        },
        {
          "metadata": {
            "tags": null
          },
          "name": "stderr",
          "output_type": "stream",
          "text": [
            "epoch 592: 100%|██████████| 282/282 [00:08<00:00, 33.46it/s]\n"
          ]
        },
        {
          "metadata": {
            "tags": null
          },
          "name": "stdout",
          "output_type": "stream",
          "text": [
            "validation loss: 0.0024846261988083524 at epoch 593\n",
            "learning_rate: 0.0002621440000000001\n"
          ]
        },
        {
          "metadata": {
            "tags": null
          },
          "name": "stderr",
          "output_type": "stream",
          "text": [
            "epoch 593: 100%|██████████| 282/282 [00:07<00:00, 35.42it/s]\n"
          ]
        },
        {
          "metadata": {
            "tags": null
          },
          "name": "stdout",
          "output_type": "stream",
          "text": [
            "validation loss: 0.001962328952219751 at epoch 594\n",
            "learning_rate: 0.0002621440000000001\n"
          ]
        },
        {
          "metadata": {
            "tags": null
          },
          "name": "stderr",
          "output_type": "stream",
          "text": [
            "epoch 594: 100%|██████████| 282/282 [00:07<00:00, 37.78it/s]\n"
          ]
        },
        {
          "metadata": {
            "tags": null
          },
          "name": "stdout",
          "output_type": "stream",
          "text": [
            "validation loss: 0.0016525076561503941 at epoch 595\n",
            "learning_rate: 0.0002621440000000001\n"
          ]
        },
        {
          "metadata": {
            "tags": null
          },
          "name": "stderr",
          "output_type": "stream",
          "text": [
            "epoch 595: 100%|██████████| 282/282 [00:08<00:00, 34.05it/s]\n"
          ]
        },
        {
          "metadata": {
            "tags": null
          },
          "name": "stdout",
          "output_type": "stream",
          "text": [
            "validation loss: 0.0020390388137764403 at epoch 596\n",
            "learning_rate: 0.0002621440000000001\n"
          ]
        },
        {
          "metadata": {
            "tags": null
          },
          "name": "stderr",
          "output_type": "stream",
          "text": [
            "epoch 596: 100%|██████████| 282/282 [00:08<00:00, 35.07it/s]\n"
          ]
        },
        {
          "metadata": {
            "tags": null
          },
          "name": "stdout",
          "output_type": "stream",
          "text": [
            "validation loss: 0.0023105077726973426 at epoch 597\n",
            "learning_rate: 0.0002621440000000001\n"
          ]
        },
        {
          "metadata": {
            "tags": null
          },
          "name": "stderr",
          "output_type": "stream",
          "text": [
            "epoch 597: 100%|██████████| 282/282 [00:07<00:00, 37.97it/s]\n"
          ]
        },
        {
          "metadata": {
            "tags": null
          },
          "name": "stdout",
          "output_type": "stream",
          "text": [
            "validation loss: 0.002166087120771408 at epoch 598\n",
            "learning_rate: 0.0002621440000000001\n"
          ]
        },
        {
          "metadata": {
            "tags": null
          },
          "name": "stderr",
          "output_type": "stream",
          "text": [
            "epoch 598: 100%|██████████| 282/282 [00:08<00:00, 33.57it/s]\n"
          ]
        },
        {
          "metadata": {
            "tags": null
          },
          "name": "stdout",
          "output_type": "stream",
          "text": [
            "validation loss: 0.0015315366403924095 at epoch 599\n",
            "learning_rate: 0.0002621440000000001\n"
          ]
        },
        {
          "metadata": {
            "tags": null
          },
          "name": "stderr",
          "output_type": "stream",
          "text": [
            "epoch 599: 100%|██████████| 282/282 [00:07<00:00, 35.79it/s]\n"
          ]
        },
        {
          "metadata": {
            "tags": null
          },
          "name": "stdout",
          "output_type": "stream",
          "text": [
            "validation loss: 0.0020492903821998174 at epoch 600\n",
            "learning_rate: 0.0002621440000000001\n"
          ]
        },
        {
          "metadata": {
            "tags": null
          },
          "name": "stderr",
          "output_type": "stream",
          "text": [
            "epoch 600: 100%|██████████| 282/282 [00:07<00:00, 36.85it/s]\n"
          ]
        },
        {
          "metadata": {
            "tags": null
          },
          "name": "stdout",
          "output_type": "stream",
          "text": [
            "validation loss: 0.002830132799016105 at epoch 601\n",
            "learning_rate: 0.0002621440000000001\n"
          ]
        },
        {
          "metadata": {
            "tags": null
          },
          "name": "stderr",
          "output_type": "stream",
          "text": [
            "epoch 601: 100%|██████████| 282/282 [00:08<00:00, 33.70it/s]\n"
          ]
        },
        {
          "metadata": {
            "tags": null
          },
          "name": "stdout",
          "output_type": "stream",
          "text": [
            "validation loss: 0.0020437933769490986 at epoch 602\n",
            "learning_rate: 0.0002621440000000001\n"
          ]
        },
        {
          "metadata": {
            "tags": null
          },
          "name": "stderr",
          "output_type": "stream",
          "text": [
            "epoch 602: 100%|██████████| 282/282 [00:07<00:00, 36.65it/s]\n"
          ]
        },
        {
          "metadata": {
            "tags": null
          },
          "name": "stdout",
          "output_type": "stream",
          "text": [
            "validation loss: 0.0012477998576230474 at epoch 603\n",
            "learning_rate: 0.0002621440000000001\n"
          ]
        },
        {
          "metadata": {
            "tags": null
          },
          "name": "stderr",
          "output_type": "stream",
          "text": [
            "epoch 603: 100%|██████████| 282/282 [00:07<00:00, 36.22it/s]\n"
          ]
        },
        {
          "metadata": {
            "tags": null
          },
          "name": "stdout",
          "output_type": "stream",
          "text": [
            "validation loss: 0.0016561603372295698 at epoch 604\n",
            "learning_rate: 0.0002621440000000001\n"
          ]
        },
        {
          "metadata": {
            "tags": null
          },
          "name": "stderr",
          "output_type": "stream",
          "text": [
            "epoch 604: 100%|██████████| 282/282 [00:08<00:00, 33.78it/s]\n"
          ]
        },
        {
          "metadata": {
            "tags": null
          },
          "name": "stdout",
          "output_type": "stream",
          "text": [
            "validation loss: 0.0014692227608627743 at epoch 605\n",
            "learning_rate: 0.0002621440000000001\n"
          ]
        },
        {
          "metadata": {
            "tags": null
          },
          "name": "stderr",
          "output_type": "stream",
          "text": [
            "epoch 605: 100%|██████████| 282/282 [00:07<00:00, 36.29it/s]\n"
          ]
        },
        {
          "metadata": {
            "tags": null
          },
          "name": "stdout",
          "output_type": "stream",
          "text": [
            "validation loss: 0.0016917689111497667 at epoch 606\n",
            "learning_rate: 0.0002621440000000001\n"
          ]
        },
        {
          "metadata": {
            "tags": null
          },
          "name": "stderr",
          "output_type": "stream",
          "text": [
            "epoch 606: 100%|██████████| 282/282 [00:07<00:00, 35.97it/s]\n"
          ]
        },
        {
          "metadata": {
            "tags": null
          },
          "name": "stdout",
          "output_type": "stream",
          "text": [
            "validation loss: 0.001158207387973865 at epoch 607\n",
            "learning_rate: 0.0002621440000000001\n"
          ]
        },
        {
          "metadata": {
            "tags": null
          },
          "name": "stderr",
          "output_type": "stream",
          "text": [
            "epoch 607: 100%|██████████| 282/282 [00:08<00:00, 34.02it/s]\n"
          ]
        },
        {
          "metadata": {
            "tags": null
          },
          "name": "stdout",
          "output_type": "stream",
          "text": [
            "validation loss: 0.001361718274652958 at epoch 608\n",
            "learning_rate: 0.0002621440000000001\n"
          ]
        },
        {
          "metadata": {
            "tags": null
          },
          "name": "stderr",
          "output_type": "stream",
          "text": [
            "epoch 608: 100%|██████████| 282/282 [00:07<00:00, 36.92it/s]\n"
          ]
        },
        {
          "metadata": {
            "tags": null
          },
          "name": "stdout",
          "output_type": "stream",
          "text": [
            "validation loss: 0.0010417929225497776 at epoch 609\n",
            "learning_rate: 0.0002621440000000001\n",
            "model saved in ani_acrolein.pt\n"
          ]
        },
        {
          "metadata": {
            "tags": null
          },
          "name": "stderr",
          "output_type": "stream",
          "text": [
            "epoch 609: 100%|██████████| 282/282 [00:07<00:00, 35.53it/s]\n"
          ]
        },
        {
          "metadata": {
            "tags": null
          },
          "name": "stdout",
          "output_type": "stream",
          "text": [
            "validation loss: 0.0015240483788980378 at epoch 610\n",
            "learning_rate: 0.0002621440000000001\n"
          ]
        },
        {
          "metadata": {
            "tags": null
          },
          "name": "stderr",
          "output_type": "stream",
          "text": [
            "epoch 610: 100%|██████████| 282/282 [00:08<00:00, 33.80it/s]\n"
          ]
        },
        {
          "metadata": {
            "tags": null
          },
          "name": "stdout",
          "output_type": "stream",
          "text": [
            "validation loss: 0.0012647920590307977 at epoch 611\n",
            "learning_rate: 0.0002621440000000001\n"
          ]
        },
        {
          "metadata": {
            "tags": null
          },
          "name": "stderr",
          "output_type": "stream",
          "text": [
            "epoch 611: 100%|██████████| 282/282 [00:07<00:00, 37.35it/s]\n"
          ]
        },
        {
          "metadata": {
            "tags": null
          },
          "name": "stdout",
          "output_type": "stream",
          "text": [
            "validation loss: 0.001236394918627209 at epoch 612\n",
            "learning_rate: 0.0002621440000000001\n"
          ]
        },
        {
          "metadata": {
            "tags": null
          },
          "name": "stderr",
          "output_type": "stream",
          "text": [
            "epoch 612: 100%|██████████| 282/282 [00:08<00:00, 35.09it/s]\n"
          ]
        },
        {
          "metadata": {
            "tags": null
          },
          "name": "stdout",
          "output_type": "stream",
          "text": [
            "validation loss: 0.0011396488870183627 at epoch 613\n",
            "learning_rate: 0.0002621440000000001\n"
          ]
        },
        {
          "metadata": {
            "tags": null
          },
          "name": "stderr",
          "output_type": "stream",
          "text": [
            "epoch 613: 100%|██████████| 282/282 [00:08<00:00, 34.20it/s]\n"
          ]
        },
        {
          "metadata": {
            "tags": null
          },
          "name": "stdout",
          "output_type": "stream",
          "text": [
            "validation loss: 0.0010510829935471216 at epoch 614\n",
            "learning_rate: 0.0002621440000000001\n"
          ]
        },
        {
          "metadata": {
            "tags": null
          },
          "name": "stderr",
          "output_type": "stream",
          "text": [
            "epoch 614: 100%|██████████| 282/282 [00:07<00:00, 36.90it/s]\n"
          ]
        },
        {
          "metadata": {
            "tags": null
          },
          "name": "stdout",
          "output_type": "stream",
          "text": [
            "validation loss: 0.0011727180646525488 at epoch 615\n",
            "learning_rate: 0.0002621440000000001\n"
          ]
        },
        {
          "metadata": {
            "tags": null
          },
          "name": "stderr",
          "output_type": "stream",
          "text": [
            "epoch 615: 100%|██████████| 282/282 [00:07<00:00, 35.88it/s]\n"
          ]
        },
        {
          "metadata": {
            "tags": null
          },
          "name": "stdout",
          "output_type": "stream",
          "text": [
            "validation loss: 0.0011870267134573725 at epoch 616\n",
            "learning_rate: 0.0002621440000000001\n"
          ]
        },
        {
          "metadata": {
            "tags": null
          },
          "name": "stderr",
          "output_type": "stream",
          "text": [
            "epoch 616: 100%|██████████| 282/282 [00:08<00:00, 34.06it/s]\n"
          ]
        },
        {
          "metadata": {
            "tags": null
          },
          "name": "stdout",
          "output_type": "stream",
          "text": [
            "validation loss: 0.0010658080648216937 at epoch 617\n",
            "learning_rate: 0.0002621440000000001\n"
          ]
        },
        {
          "metadata": {
            "tags": null
          },
          "name": "stderr",
          "output_type": "stream",
          "text": [
            "epoch 617: 100%|██████████| 282/282 [00:07<00:00, 36.89it/s]\n"
          ]
        },
        {
          "metadata": {
            "tags": null
          },
          "name": "stdout",
          "output_type": "stream",
          "text": [
            "validation loss: 0.0015600932579901484 at epoch 618\n",
            "learning_rate: 0.0002621440000000001\n"
          ]
        },
        {
          "metadata": {
            "tags": null
          },
          "name": "stderr",
          "output_type": "stream",
          "text": [
            "epoch 618: 100%|██████████| 282/282 [00:07<00:00, 36.16it/s]\n"
          ]
        },
        {
          "metadata": {
            "tags": null
          },
          "name": "stdout",
          "output_type": "stream",
          "text": [
            "validation loss: 0.001593384000990126 at epoch 619\n",
            "learning_rate: 0.0002621440000000001\n"
          ]
        },
        {
          "metadata": {
            "tags": null
          },
          "name": "stderr",
          "output_type": "stream",
          "text": [
            "epoch 619: 100%|██████████| 282/282 [00:08<00:00, 34.08it/s]\n"
          ]
        },
        {
          "metadata": {
            "tags": null
          },
          "name": "stdout",
          "output_type": "stream",
          "text": [
            "validation loss: 0.0014956918002830611 at epoch 620\n",
            "learning_rate: 0.0002621440000000001\n"
          ]
        },
        {
          "metadata": {
            "tags": null
          },
          "name": "stderr",
          "output_type": "stream",
          "text": [
            "epoch 620: 100%|██████████| 282/282 [00:07<00:00, 36.25it/s]\n"
          ]
        },
        {
          "metadata": {
            "tags": null
          },
          "name": "stdout",
          "output_type": "stream",
          "text": [
            "validation loss: 0.0014635441303253174 at epoch 621\n",
            "learning_rate: 0.0002621440000000001\n"
          ]
        },
        {
          "metadata": {
            "tags": null
          },
          "name": "stderr",
          "output_type": "stream",
          "text": [
            "epoch 621: 100%|██████████| 282/282 [00:07<00:00, 36.95it/s]\n"
          ]
        },
        {
          "metadata": {
            "tags": null
          },
          "name": "stdout",
          "output_type": "stream",
          "text": [
            "validation loss: 0.0015136259860462613 at epoch 622\n",
            "learning_rate: 0.0002621440000000001\n"
          ]
        },
        {
          "metadata": {
            "tags": null
          },
          "name": "stderr",
          "output_type": "stream",
          "text": [
            "epoch 622: 100%|██████████| 282/282 [00:08<00:00, 33.96it/s]\n"
          ]
        },
        {
          "metadata": {
            "tags": null
          },
          "name": "stdout",
          "output_type": "stream",
          "text": [
            "validation loss: 0.0014976669235361947 at epoch 623\n",
            "learning_rate: 0.0002621440000000001\n"
          ]
        },
        {
          "metadata": {
            "tags": null
          },
          "name": "stderr",
          "output_type": "stream",
          "text": [
            "epoch 623: 100%|██████████| 282/282 [00:07<00:00, 36.32it/s]\n"
          ]
        },
        {
          "metadata": {
            "tags": null
          },
          "name": "stdout",
          "output_type": "stream",
          "text": [
            "validation loss: 0.0014927673323286905 at epoch 624\n",
            "learning_rate: 0.0002621440000000001\n"
          ]
        },
        {
          "metadata": {
            "tags": null
          },
          "name": "stderr",
          "output_type": "stream",
          "text": [
            "epoch 624: 100%|██████████| 282/282 [00:07<00:00, 37.19it/s]\n"
          ]
        },
        {
          "metadata": {
            "tags": null
          },
          "name": "stdout",
          "output_type": "stream",
          "text": [
            "validation loss: 0.0014537779796454642 at epoch 625\n",
            "learning_rate: 0.0002621440000000001\n"
          ]
        },
        {
          "metadata": {
            "tags": null
          },
          "name": "stderr",
          "output_type": "stream",
          "text": [
            "epoch 625: 100%|██████████| 282/282 [00:08<00:00, 34.48it/s]\n"
          ]
        },
        {
          "metadata": {
            "tags": null
          },
          "name": "stdout",
          "output_type": "stream",
          "text": [
            "validation loss: 0.0014647222194406721 at epoch 626\n",
            "learning_rate: 0.0002621440000000001\n"
          ]
        },
        {
          "metadata": {
            "tags": null
          },
          "name": "stderr",
          "output_type": "stream",
          "text": [
            "epoch 626: 100%|██████████| 282/282 [00:07<00:00, 35.61it/s]\n"
          ]
        },
        {
          "metadata": {
            "tags": null
          },
          "name": "stdout",
          "output_type": "stream",
          "text": [
            "validation loss: 0.0015320147309038374 at epoch 627\n",
            "learning_rate: 0.0002621440000000001\n"
          ]
        },
        {
          "metadata": {
            "tags": null
          },
          "name": "stderr",
          "output_type": "stream",
          "text": [
            "epoch 627: 100%|██████████| 282/282 [00:07<00:00, 36.82it/s]\n"
          ]
        },
        {
          "metadata": {
            "tags": null
          },
          "name": "stdout",
          "output_type": "stream",
          "text": [
            "validation loss: 0.001409263797932201 at epoch 628\n",
            "learning_rate: 0.0002621440000000001\n"
          ]
        },
        {
          "metadata": {
            "tags": null
          },
          "name": "stderr",
          "output_type": "stream",
          "text": [
            "epoch 628: 100%|██████████| 282/282 [00:08<00:00, 33.07it/s]\n"
          ]
        },
        {
          "metadata": {
            "tags": null
          },
          "name": "stdout",
          "output_type": "stream",
          "text": [
            "validation loss: 0.0012468851324584748 at epoch 629\n",
            "learning_rate: 0.0002621440000000001\n"
          ]
        },
        {
          "metadata": {
            "tags": null
          },
          "name": "stderr",
          "output_type": "stream",
          "text": [
            "epoch 629: 100%|██████████| 282/282 [00:07<00:00, 35.84it/s]\n"
          ]
        },
        {
          "metadata": {
            "tags": null
          },
          "name": "stdout",
          "output_type": "stream",
          "text": [
            "validation loss: 0.0015156032716234526 at epoch 630\n",
            "learning_rate: 0.0002621440000000001\n"
          ]
        },
        {
          "metadata": {
            "tags": null
          },
          "name": "stderr",
          "output_type": "stream",
          "text": [
            "epoch 630: 100%|██████████| 282/282 [00:07<00:00, 36.28it/s]\n"
          ]
        },
        {
          "metadata": {
            "tags": null
          },
          "name": "stdout",
          "output_type": "stream",
          "text": [
            "validation loss: 0.001630760606792238 at epoch 631\n",
            "learning_rate: 0.0002621440000000001\n"
          ]
        },
        {
          "metadata": {
            "tags": null
          },
          "name": "stderr",
          "output_type": "stream",
          "text": [
            "epoch 631: 100%|██████████| 282/282 [00:08<00:00, 34.01it/s]\n"
          ]
        },
        {
          "metadata": {
            "tags": null
          },
          "name": "stdout",
          "output_type": "stream",
          "text": [
            "validation loss: 0.0014267440206474729 at epoch 632\n",
            "learning_rate: 0.0002621440000000001\n"
          ]
        },
        {
          "metadata": {
            "tags": null
          },
          "name": "stderr",
          "output_type": "stream",
          "text": [
            "epoch 632: 100%|██████████| 282/282 [00:07<00:00, 36.49it/s]\n"
          ]
        },
        {
          "metadata": {
            "tags": null
          },
          "name": "stdout",
          "output_type": "stream",
          "text": [
            "validation loss: 0.0012621060957511267 at epoch 633\n",
            "learning_rate: 0.0002621440000000001\n"
          ]
        },
        {
          "metadata": {
            "tags": null
          },
          "name": "stderr",
          "output_type": "stream",
          "text": [
            "epoch 633: 100%|██████████| 282/282 [00:07<00:00, 35.81it/s]\n"
          ]
        },
        {
          "metadata": {
            "tags": null
          },
          "name": "stdout",
          "output_type": "stream",
          "text": [
            "validation loss: 0.001400580739809407 at epoch 634\n",
            "learning_rate: 0.0002621440000000001\n"
          ]
        },
        {
          "metadata": {
            "tags": null
          },
          "name": "stderr",
          "output_type": "stream",
          "text": [
            "epoch 634: 100%|██████████| 282/282 [00:08<00:00, 33.77it/s]\n"
          ]
        },
        {
          "metadata": {
            "tags": null
          },
          "name": "stdout",
          "output_type": "stream",
          "text": [
            "validation loss: 0.001135254328449567 at epoch 635\n",
            "learning_rate: 0.0002621440000000001\n"
          ]
        },
        {
          "metadata": {
            "tags": null
          },
          "name": "stderr",
          "output_type": "stream",
          "text": [
            "epoch 635: 100%|██████████| 282/282 [00:07<00:00, 36.66it/s]\n"
          ]
        },
        {
          "metadata": {
            "tags": null
          },
          "name": "stdout",
          "output_type": "stream",
          "text": [
            "validation loss: 0.001382543823785252 at epoch 636\n",
            "learning_rate: 0.0002621440000000001\n"
          ]
        },
        {
          "metadata": {
            "tags": null
          },
          "name": "stderr",
          "output_type": "stream",
          "text": [
            "epoch 636: 100%|██████████| 282/282 [00:07<00:00, 36.14it/s]\n"
          ]
        },
        {
          "metadata": {
            "tags": null
          },
          "name": "stdout",
          "output_type": "stream",
          "text": [
            "validation loss: 0.001252440186838309 at epoch 637\n",
            "learning_rate: 0.0002621440000000001\n"
          ]
        },
        {
          "metadata": {
            "tags": null
          },
          "name": "stderr",
          "output_type": "stream",
          "text": [
            "epoch 637: 100%|██████████| 282/282 [00:08<00:00, 33.59it/s]\n"
          ]
        },
        {
          "metadata": {
            "tags": null
          },
          "name": "stdout",
          "output_type": "stream",
          "text": [
            "validation loss: 0.001100543094591962 at epoch 638\n",
            "learning_rate: 0.0002621440000000001\n"
          ]
        },
        {
          "metadata": {
            "tags": null
          },
          "name": "stderr",
          "output_type": "stream",
          "text": [
            "epoch 638: 100%|██████████| 282/282 [00:07<00:00, 37.01it/s]\n"
          ]
        },
        {
          "metadata": {
            "tags": null
          },
          "name": "stdout",
          "output_type": "stream",
          "text": [
            "validation loss: 0.0013876134157180787 at epoch 639\n",
            "learning_rate: 0.0002621440000000001\n"
          ]
        },
        {
          "metadata": {
            "tags": null
          },
          "name": "stderr",
          "output_type": "stream",
          "text": [
            "epoch 639: 100%|██████████| 282/282 [00:07<00:00, 35.79it/s]\n"
          ]
        },
        {
          "metadata": {
            "tags": null
          },
          "name": "stdout",
          "output_type": "stream",
          "text": [
            "validation loss: 0.0019981899526384144 at epoch 640\n",
            "learning_rate: 0.0002621440000000001\n"
          ]
        },
        {
          "metadata": {
            "tags": null
          },
          "name": "stderr",
          "output_type": "stream",
          "text": [
            "epoch 640: 100%|██████████| 282/282 [00:08<00:00, 33.91it/s]\n"
          ]
        },
        {
          "metadata": {
            "tags": null
          },
          "name": "stdout",
          "output_type": "stream",
          "text": [
            "validation loss: 0.0013441005051136018 at epoch 641\n",
            "learning_rate: 0.0002621440000000001\n"
          ]
        },
        {
          "metadata": {
            "tags": null
          },
          "name": "stderr",
          "output_type": "stream",
          "text": [
            "epoch 641: 100%|██████████| 282/282 [00:07<00:00, 36.76it/s]\n"
          ]
        },
        {
          "metadata": {
            "tags": null
          },
          "name": "stdout",
          "output_type": "stream",
          "text": [
            "validation loss: 0.0021153477761480543 at epoch 642\n",
            "learning_rate: 0.0002621440000000001\n"
          ]
        },
        {
          "metadata": {
            "tags": null
          },
          "name": "stderr",
          "output_type": "stream",
          "text": [
            "epoch 642: 100%|██████████| 282/282 [00:07<00:00, 35.67it/s]\n"
          ]
        },
        {
          "metadata": {
            "tags": null
          },
          "name": "stdout",
          "output_type": "stream",
          "text": [
            "validation loss: 0.0014127410079042117 at epoch 643\n",
            "learning_rate: 0.0002621440000000001\n"
          ]
        },
        {
          "metadata": {
            "tags": null
          },
          "name": "stderr",
          "output_type": "stream",
          "text": [
            "epoch 643: 100%|██████████| 282/282 [00:08<00:00, 34.27it/s]\n"
          ]
        },
        {
          "metadata": {
            "tags": null
          },
          "name": "stdout",
          "output_type": "stream",
          "text": [
            "validation loss: 0.0016764420668284098 at epoch 644\n",
            "learning_rate: 0.0002621440000000001\n"
          ]
        },
        {
          "metadata": {
            "tags": null
          },
          "name": "stderr",
          "output_type": "stream",
          "text": [
            "epoch 644: 100%|██████████| 282/282 [00:07<00:00, 37.61it/s]\n"
          ]
        },
        {
          "metadata": {
            "tags": null
          },
          "name": "stdout",
          "output_type": "stream",
          "text": [
            "validation loss: 0.0011443350182639227 at epoch 645\n",
            "learning_rate: 0.0002621440000000001\n"
          ]
        },
        {
          "metadata": {
            "tags": null
          },
          "name": "stderr",
          "output_type": "stream",
          "text": [
            "epoch 645: 100%|██████████| 282/282 [00:08<00:00, 34.87it/s]\n"
          ]
        },
        {
          "metadata": {
            "tags": null
          },
          "name": "stdout",
          "output_type": "stream",
          "text": [
            "validation loss: 0.0014517442873782582 at epoch 646\n",
            "learning_rate: 0.0002621440000000001\n"
          ]
        },
        {
          "metadata": {
            "tags": null
          },
          "name": "stderr",
          "output_type": "stream",
          "text": [
            "epoch 646: 100%|██████████| 282/282 [00:08<00:00, 33.75it/s]\n"
          ]
        },
        {
          "metadata": {
            "tags": null
          },
          "name": "stdout",
          "output_type": "stream",
          "text": [
            "validation loss: 0.0012688742263449564 at epoch 647\n",
            "learning_rate: 0.0002621440000000001\n"
          ]
        },
        {
          "metadata": {
            "tags": null
          },
          "name": "stderr",
          "output_type": "stream",
          "text": [
            "epoch 647: 100%|██████████| 282/282 [00:07<00:00, 37.79it/s]\n"
          ]
        },
        {
          "metadata": {
            "tags": null
          },
          "name": "stdout",
          "output_type": "stream",
          "text": [
            "validation loss: 0.0014632351158393754 at epoch 648\n",
            "learning_rate: 0.0002621440000000001\n"
          ]
        },
        {
          "metadata": {
            "tags": null
          },
          "name": "stderr",
          "output_type": "stream",
          "text": [
            "epoch 648: 100%|██████████| 282/282 [00:08<00:00, 34.14it/s]\n"
          ]
        },
        {
          "metadata": {
            "tags": null
          },
          "name": "stdout",
          "output_type": "stream",
          "text": [
            "validation loss: 0.0010073133028215833 at epoch 649\n",
            "learning_rate: 0.0002621440000000001\n",
            "model saved in ani_acrolein.pt\n"
          ]
        },
        {
          "metadata": {
            "tags": null
          },
          "name": "stderr",
          "output_type": "stream",
          "text": [
            "epoch 649: 100%|██████████| 282/282 [00:08<00:00, 34.41it/s]\n"
          ]
        },
        {
          "metadata": {
            "tags": null
          },
          "name": "stdout",
          "output_type": "stream",
          "text": [
            "validation loss: 0.0011953510695861445 at epoch 650\n",
            "learning_rate: 0.0002621440000000001\n"
          ]
        },
        {
          "metadata": {
            "tags": null
          },
          "name": "stderr",
          "output_type": "stream",
          "text": [
            "epoch 650: 100%|██████████| 282/282 [00:07<00:00, 37.76it/s]\n"
          ]
        },
        {
          "metadata": {
            "tags": null
          },
          "name": "stdout",
          "output_type": "stream",
          "text": [
            "validation loss: 0.001535187900894218 at epoch 651\n",
            "learning_rate: 0.0002621440000000001\n"
          ]
        },
        {
          "metadata": {
            "tags": null
          },
          "name": "stderr",
          "output_type": "stream",
          "text": [
            "epoch 651: 100%|██████████| 282/282 [00:08<00:00, 33.95it/s]\n"
          ]
        },
        {
          "metadata": {
            "tags": null
          },
          "name": "stdout",
          "output_type": "stream",
          "text": [
            "validation loss: 0.0010982975314060847 at epoch 652\n",
            "learning_rate: 0.0002621440000000001\n"
          ]
        },
        {
          "metadata": {
            "tags": null
          },
          "name": "stderr",
          "output_type": "stream",
          "text": [
            "epoch 652: 100%|██████████| 282/282 [00:08<00:00, 33.90it/s]\n"
          ]
        },
        {
          "metadata": {
            "tags": null
          },
          "name": "stdout",
          "output_type": "stream",
          "text": [
            "validation loss: 0.0009941538199782372 at epoch 653\n",
            "learning_rate: 0.0002621440000000001\n",
            "model saved in ani_acrolein.pt\n"
          ]
        },
        {
          "metadata": {
            "tags": null
          },
          "name": "stderr",
          "output_type": "stream",
          "text": [
            "epoch 653: 100%|██████████| 282/282 [00:07<00:00, 37.94it/s]\n"
          ]
        },
        {
          "metadata": {
            "tags": null
          },
          "name": "stdout",
          "output_type": "stream",
          "text": [
            "validation loss: 0.0011153288202153313 at epoch 654\n",
            "learning_rate: 0.0002621440000000001\n"
          ]
        },
        {
          "metadata": {
            "tags": null
          },
          "name": "stderr",
          "output_type": "stream",
          "text": [
            "epoch 654: 100%|██████████| 282/282 [00:08<00:00, 33.86it/s]\n"
          ]
        },
        {
          "metadata": {
            "tags": null
          },
          "name": "stdout",
          "output_type": "stream",
          "text": [
            "validation loss: 0.0013412494957447051 at epoch 655\n",
            "learning_rate: 0.0002621440000000001\n"
          ]
        },
        {
          "metadata": {
            "tags": null
          },
          "name": "stderr",
          "output_type": "stream",
          "text": [
            "epoch 655: 100%|██████████| 282/282 [00:08<00:00, 33.50it/s]\n"
          ]
        },
        {
          "metadata": {
            "tags": null
          },
          "name": "stdout",
          "output_type": "stream",
          "text": [
            "validation loss: 0.0009785478913949595 at epoch 656\n",
            "learning_rate: 0.0002621440000000001\n",
            "model saved in ani_acrolein.pt\n"
          ]
        },
        {
          "metadata": {
            "tags": null
          },
          "name": "stderr",
          "output_type": "stream",
          "text": [
            "epoch 656: 100%|██████████| 282/282 [00:07<00:00, 37.77it/s]\n"
          ]
        },
        {
          "metadata": {
            "tags": null
          },
          "name": "stdout",
          "output_type": "stream",
          "text": [
            "validation loss: 0.0011492384403116174 at epoch 657\n",
            "learning_rate: 0.0002621440000000001\n"
          ]
        },
        {
          "metadata": {
            "tags": null
          },
          "name": "stderr",
          "output_type": "stream",
          "text": [
            "epoch 657: 100%|██████████| 282/282 [00:08<00:00, 33.68it/s]\n"
          ]
        },
        {
          "metadata": {
            "tags": null
          },
          "name": "stdout",
          "output_type": "stream",
          "text": [
            "validation loss: 0.0011277315707670318 at epoch 658\n",
            "learning_rate: 0.0002621440000000001\n"
          ]
        },
        {
          "metadata": {
            "tags": null
          },
          "name": "stderr",
          "output_type": "stream",
          "text": [
            "epoch 658: 100%|██████████| 282/282 [00:08<00:00, 34.02it/s]\n"
          ]
        },
        {
          "metadata": {
            "tags": null
          },
          "name": "stdout",
          "output_type": "stream",
          "text": [
            "validation loss: 0.0009645492177870539 at epoch 659\n",
            "learning_rate: 0.0002621440000000001\n",
            "model saved in ani_acrolein.pt\n"
          ]
        },
        {
          "metadata": {
            "tags": null
          },
          "name": "stderr",
          "output_type": "stream",
          "text": [
            "epoch 659: 100%|██████████| 282/282 [00:07<00:00, 37.83it/s]\n"
          ]
        },
        {
          "metadata": {
            "tags": null
          },
          "name": "stdout",
          "output_type": "stream",
          "text": [
            "validation loss: 0.001031546806709634 at epoch 660\n",
            "learning_rate: 0.0002621440000000001\n"
          ]
        },
        {
          "metadata": {
            "tags": null
          },
          "name": "stderr",
          "output_type": "stream",
          "text": [
            "epoch 660: 100%|██████████| 282/282 [00:08<00:00, 33.93it/s]\n"
          ]
        },
        {
          "metadata": {
            "tags": null
          },
          "name": "stdout",
          "output_type": "stream",
          "text": [
            "validation loss: 0.0009589233708878358 at epoch 661\n",
            "learning_rate: 0.0002621440000000001\n",
            "model saved in ani_acrolein.pt\n"
          ]
        },
        {
          "metadata": {
            "tags": null
          },
          "name": "stderr",
          "output_type": "stream",
          "text": [
            "epoch 661: 100%|██████████| 282/282 [00:08<00:00, 33.79it/s]\n"
          ]
        },
        {
          "metadata": {
            "tags": null
          },
          "name": "stdout",
          "output_type": "stream",
          "text": [
            "validation loss: 0.0016339870881703165 at epoch 662\n",
            "learning_rate: 0.0002621440000000001\n"
          ]
        },
        {
          "metadata": {
            "tags": null
          },
          "name": "stderr",
          "output_type": "stream",
          "text": [
            "epoch 662: 100%|██████████| 282/282 [00:07<00:00, 37.85it/s]\n"
          ]
        },
        {
          "metadata": {
            "tags": null
          },
          "name": "stdout",
          "output_type": "stream",
          "text": [
            "validation loss: 0.0009656876938210593 at epoch 663\n",
            "learning_rate: 0.0002621440000000001\n"
          ]
        },
        {
          "metadata": {
            "tags": null
          },
          "name": "stderr",
          "output_type": "stream",
          "text": [
            "epoch 663: 100%|██████████| 282/282 [00:08<00:00, 33.94it/s]\n"
          ]
        },
        {
          "metadata": {
            "tags": null
          },
          "name": "stdout",
          "output_type": "stream",
          "text": [
            "validation loss: 0.0015346965259975857 at epoch 664\n",
            "learning_rate: 0.0002621440000000001\n"
          ]
        },
        {
          "metadata": {
            "tags": null
          },
          "name": "stderr",
          "output_type": "stream",
          "text": [
            "epoch 664: 100%|██████████| 282/282 [00:08<00:00, 33.65it/s]\n"
          ]
        },
        {
          "metadata": {
            "tags": null
          },
          "name": "stdout",
          "output_type": "stream",
          "text": [
            "validation loss: 0.0009944131014247735 at epoch 665\n",
            "learning_rate: 0.0002621440000000001\n"
          ]
        },
        {
          "metadata": {
            "tags": null
          },
          "name": "stderr",
          "output_type": "stream",
          "text": [
            "epoch 665: 100%|██████████| 282/282 [00:07<00:00, 37.13it/s]\n"
          ]
        },
        {
          "metadata": {
            "tags": null
          },
          "name": "stdout",
          "output_type": "stream",
          "text": [
            "validation loss: 0.001363480487631427 at epoch 666\n",
            "learning_rate: 0.0002621440000000001\n"
          ]
        },
        {
          "metadata": {
            "tags": null
          },
          "name": "stderr",
          "output_type": "stream",
          "text": [
            "epoch 666: 100%|██████████| 282/282 [00:08<00:00, 33.68it/s]\n"
          ]
        },
        {
          "metadata": {
            "tags": null
          },
          "name": "stdout",
          "output_type": "stream",
          "text": [
            "validation loss: 0.0009773386754095554 at epoch 667\n",
            "learning_rate: 0.0002621440000000001\n"
          ]
        },
        {
          "metadata": {
            "tags": null
          },
          "name": "stderr",
          "output_type": "stream",
          "text": [
            "epoch 667: 100%|██████████| 282/282 [00:08<00:00, 34.14it/s]\n"
          ]
        },
        {
          "metadata": {
            "tags": null
          },
          "name": "stdout",
          "output_type": "stream",
          "text": [
            "validation loss: 0.000968212793684668 at epoch 668\n",
            "learning_rate: 0.0002621440000000001\n"
          ]
        },
        {
          "metadata": {
            "tags": null
          },
          "name": "stderr",
          "output_type": "stream",
          "text": [
            "epoch 668: 100%|██████████| 282/282 [00:07<00:00, 37.91it/s]\n"
          ]
        },
        {
          "metadata": {
            "tags": null
          },
          "name": "stdout",
          "output_type": "stream",
          "text": [
            "validation loss: 0.0010106142713791795 at epoch 669\n",
            "learning_rate: 0.0002621440000000001\n"
          ]
        },
        {
          "metadata": {
            "tags": null
          },
          "name": "stderr",
          "output_type": "stream",
          "text": [
            "epoch 669: 100%|██████████| 282/282 [00:08<00:00, 34.07it/s]\n"
          ]
        },
        {
          "metadata": {
            "tags": null
          },
          "name": "stdout",
          "output_type": "stream",
          "text": [
            "validation loss: 0.0011827359249194462 at epoch 670\n",
            "learning_rate: 0.0002621440000000001\n"
          ]
        },
        {
          "metadata": {
            "tags": null
          },
          "name": "stderr",
          "output_type": "stream",
          "text": [
            "epoch 670: 100%|██████████| 282/282 [00:08<00:00, 33.95it/s]\n"
          ]
        },
        {
          "metadata": {
            "tags": null
          },
          "name": "stdout",
          "output_type": "stream",
          "text": [
            "validation loss: 0.0010820781671338612 at epoch 671\n",
            "learning_rate: 0.0002621440000000001\n"
          ]
        },
        {
          "metadata": {
            "tags": null
          },
          "name": "stderr",
          "output_type": "stream",
          "text": [
            "epoch 671: 100%|██████████| 282/282 [00:07<00:00, 37.77it/s]\n"
          ]
        },
        {
          "metadata": {
            "tags": null
          },
          "name": "stdout",
          "output_type": "stream",
          "text": [
            "validation loss: 0.0012165512003832393 at epoch 672\n",
            "learning_rate: 0.0002621440000000001\n"
          ]
        },
        {
          "metadata": {
            "tags": null
          },
          "name": "stderr",
          "output_type": "stream",
          "text": [
            "epoch 672: 100%|██████████| 282/282 [00:08<00:00, 33.69it/s]\n"
          ]
        },
        {
          "metadata": {
            "tags": null
          },
          "name": "stdout",
          "output_type": "stream",
          "text": [
            "validation loss: 0.0009560063903530439 at epoch 673\n",
            "learning_rate: 0.0002621440000000001\n",
            "model saved in ani_acrolein.pt\n"
          ]
        },
        {
          "metadata": {
            "tags": null
          },
          "name": "stderr",
          "output_type": "stream",
          "text": [
            "epoch 673: 100%|██████████| 282/282 [00:08<00:00, 34.28it/s]\n"
          ]
        },
        {
          "metadata": {
            "tags": null
          },
          "name": "stdout",
          "output_type": "stream",
          "text": [
            "validation loss: 0.0014865529065330823 at epoch 674\n",
            "learning_rate: 0.0002621440000000001\n"
          ]
        },
        {
          "metadata": {
            "tags": null
          },
          "name": "stderr",
          "output_type": "stream",
          "text": [
            "epoch 674: 100%|██████████| 282/282 [00:07<00:00, 37.77it/s]\n"
          ]
        },
        {
          "metadata": {
            "tags": null
          },
          "name": "stdout",
          "output_type": "stream",
          "text": [
            "validation loss: 0.0016298428749044736 at epoch 675\n",
            "learning_rate: 0.0002621440000000001\n"
          ]
        },
        {
          "metadata": {
            "tags": null
          },
          "name": "stderr",
          "output_type": "stream",
          "text": [
            "epoch 675: 100%|██████████| 282/282 [00:08<00:00, 33.47it/s]\n"
          ]
        },
        {
          "metadata": {
            "tags": null
          },
          "name": "stdout",
          "output_type": "stream",
          "text": [
            "validation loss: 0.0017450026397903761 at epoch 676\n",
            "learning_rate: 0.0002621440000000001\n"
          ]
        },
        {
          "metadata": {
            "tags": null
          },
          "name": "stderr",
          "output_type": "stream",
          "text": [
            "epoch 676: 100%|██████████| 282/282 [00:08<00:00, 34.48it/s]\n"
          ]
        },
        {
          "metadata": {
            "tags": null
          },
          "name": "stdout",
          "output_type": "stream",
          "text": [
            "validation loss: 0.0016808646809723642 at epoch 677\n",
            "learning_rate: 0.0002621440000000001\n"
          ]
        },
        {
          "metadata": {
            "tags": null
          },
          "name": "stderr",
          "output_type": "stream",
          "text": [
            "epoch 677: 100%|██████████| 282/282 [00:07<00:00, 37.92it/s]\n"
          ]
        },
        {
          "metadata": {
            "tags": null
          },
          "name": "stdout",
          "output_type": "stream",
          "text": [
            "validation loss: 0.0020590866108735405 at epoch 678\n",
            "learning_rate: 0.0002621440000000001\n"
          ]
        },
        {
          "metadata": {
            "tags": null
          },
          "name": "stderr",
          "output_type": "stream",
          "text": [
            "epoch 678: 100%|██████████| 282/282 [00:08<00:00, 33.63it/s]\n"
          ]
        },
        {
          "metadata": {
            "tags": null
          },
          "name": "stdout",
          "output_type": "stream",
          "text": [
            "validation loss: 0.0018284289845161969 at epoch 679\n",
            "learning_rate: 0.0002621440000000001\n"
          ]
        },
        {
          "metadata": {
            "tags": null
          },
          "name": "stderr",
          "output_type": "stream",
          "text": [
            "epoch 679: 100%|██████████| 282/282 [00:07<00:00, 35.34it/s]\n"
          ]
        },
        {
          "metadata": {
            "tags": null
          },
          "name": "stdout",
          "output_type": "stream",
          "text": [
            "validation loss: 0.0016548114874296719 at epoch 680\n",
            "learning_rate: 0.0002621440000000001\n"
          ]
        },
        {
          "metadata": {
            "tags": null
          },
          "name": "stderr",
          "output_type": "stream",
          "text": [
            "epoch 680: 100%|██████████| 282/282 [00:07<00:00, 37.71it/s]\n"
          ]
        },
        {
          "metadata": {
            "tags": null
          },
          "name": "stdout",
          "output_type": "stream",
          "text": [
            "validation loss: 0.0017293263723452885 at epoch 681\n",
            "learning_rate: 0.0002621440000000001\n"
          ]
        },
        {
          "metadata": {
            "tags": null
          },
          "name": "stderr",
          "output_type": "stream",
          "text": [
            "epoch 681: 100%|██████████| 282/282 [00:08<00:00, 34.40it/s]\n"
          ]
        },
        {
          "metadata": {
            "tags": null
          },
          "name": "stdout",
          "output_type": "stream",
          "text": [
            "validation loss: 0.003055453480945693 at epoch 682\n",
            "learning_rate: 0.0002621440000000001\n"
          ]
        },
        {
          "metadata": {
            "tags": null
          },
          "name": "stderr",
          "output_type": "stream",
          "text": [
            "epoch 682: 100%|██████████| 282/282 [00:07<00:00, 35.41it/s]\n"
          ]
        },
        {
          "metadata": {
            "tags": null
          },
          "name": "stdout",
          "output_type": "stream",
          "text": [
            "validation loss: 0.002307120599680477 at epoch 683\n",
            "learning_rate: 0.0002621440000000001\n"
          ]
        },
        {
          "metadata": {
            "tags": null
          },
          "name": "stderr",
          "output_type": "stream",
          "text": [
            "epoch 683: 100%|██████████| 282/282 [00:07<00:00, 37.48it/s]\n"
          ]
        },
        {
          "metadata": {
            "tags": null
          },
          "name": "stdout",
          "output_type": "stream",
          "text": [
            "validation loss: 0.002726325531800588 at epoch 684\n",
            "learning_rate: 0.0002621440000000001\n"
          ]
        },
        {
          "metadata": {
            "tags": null
          },
          "name": "stderr",
          "output_type": "stream",
          "text": [
            "epoch 684: 100%|██████████| 282/282 [00:08<00:00, 34.26it/s]\n"
          ]
        },
        {
          "metadata": {
            "tags": null
          },
          "name": "stdout",
          "output_type": "stream",
          "text": [
            "validation loss: 0.0014161788034770225 at epoch 685\n",
            "learning_rate: 0.0002621440000000001\n"
          ]
        },
        {
          "metadata": {
            "tags": null
          },
          "name": "stderr",
          "output_type": "stream",
          "text": [
            "epoch 685: 100%|██████████| 282/282 [00:07<00:00, 35.38it/s]\n"
          ]
        },
        {
          "metadata": {
            "tags": null
          },
          "name": "stdout",
          "output_type": "stream",
          "text": [
            "validation loss: 0.002809663024213579 at epoch 686\n",
            "learning_rate: 0.0002621440000000001\n"
          ]
        },
        {
          "metadata": {
            "tags": null
          },
          "name": "stderr",
          "output_type": "stream",
          "text": [
            "epoch 686: 100%|██████████| 282/282 [00:07<00:00, 37.47it/s]\n"
          ]
        },
        {
          "metadata": {
            "tags": null
          },
          "name": "stdout",
          "output_type": "stream",
          "text": [
            "validation loss: 0.0019175082329246733 at epoch 687\n",
            "learning_rate: 0.0002621440000000001\n"
          ]
        },
        {
          "metadata": {
            "tags": null
          },
          "name": "stderr",
          "output_type": "stream",
          "text": [
            "epoch 687: 100%|██████████| 282/282 [00:08<00:00, 34.08it/s]\n"
          ]
        },
        {
          "metadata": {
            "tags": null
          },
          "name": "stdout",
          "output_type": "stream",
          "text": [
            "validation loss: 0.002799640600879987 at epoch 688\n",
            "learning_rate: 0.0002621440000000001\n"
          ]
        },
        {
          "metadata": {
            "tags": null
          },
          "name": "stderr",
          "output_type": "stream",
          "text": [
            "epoch 688: 100%|██████████| 282/282 [00:07<00:00, 35.98it/s]\n"
          ]
        },
        {
          "metadata": {
            "tags": null
          },
          "name": "stdout",
          "output_type": "stream",
          "text": [
            "validation loss: 0.0033426833517021604 at epoch 689\n",
            "learning_rate: 0.0002621440000000001\n"
          ]
        },
        {
          "metadata": {
            "tags": null
          },
          "name": "stderr",
          "output_type": "stream",
          "text": [
            "epoch 689: 100%|██████████| 282/282 [00:07<00:00, 36.90it/s]\n"
          ]
        },
        {
          "metadata": {
            "tags": null
          },
          "name": "stdout",
          "output_type": "stream",
          "text": [
            "validation loss: 0.003871434022982915 at epoch 690\n",
            "learning_rate: 0.0002621440000000001\n"
          ]
        },
        {
          "metadata": {
            "tags": null
          },
          "name": "stderr",
          "output_type": "stream",
          "text": [
            "epoch 690: 100%|██████████| 282/282 [00:08<00:00, 33.61it/s]\n"
          ]
        },
        {
          "metadata": {
            "tags": null
          },
          "name": "stdout",
          "output_type": "stream",
          "text": [
            "validation loss: 0.0021756461014350256 at epoch 691\n",
            "learning_rate: 0.0002621440000000001\n"
          ]
        },
        {
          "metadata": {
            "tags": null
          },
          "name": "stderr",
          "output_type": "stream",
          "text": [
            "epoch 691: 100%|██████████| 282/282 [00:07<00:00, 36.36it/s]\n"
          ]
        },
        {
          "metadata": {
            "tags": null
          },
          "name": "stdout",
          "output_type": "stream",
          "text": [
            "validation loss: 0.0031906202187140784 at epoch 692\n",
            "learning_rate: 0.0002621440000000001\n"
          ]
        },
        {
          "metadata": {
            "tags": null
          },
          "name": "stderr",
          "output_type": "stream",
          "text": [
            "epoch 692: 100%|██████████| 282/282 [00:07<00:00, 36.62it/s]\n"
          ]
        },
        {
          "metadata": {
            "tags": null
          },
          "name": "stdout",
          "output_type": "stream",
          "text": [
            "validation loss: 0.0025294561319881017 at epoch 693\n",
            "learning_rate: 0.0002621440000000001\n"
          ]
        },
        {
          "metadata": {
            "tags": null
          },
          "name": "stderr",
          "output_type": "stream",
          "text": [
            "epoch 693: 100%|██████████| 282/282 [00:08<00:00, 33.99it/s]\n"
          ]
        },
        {
          "metadata": {
            "tags": null
          },
          "name": "stdout",
          "output_type": "stream",
          "text": [
            "validation loss: 0.003979605906539493 at epoch 694\n",
            "learning_rate: 0.0002621440000000001\n"
          ]
        },
        {
          "metadata": {
            "tags": null
          },
          "name": "stderr",
          "output_type": "stream",
          "text": [
            "epoch 694: 100%|██████████| 282/282 [00:07<00:00, 36.53it/s]\n"
          ]
        },
        {
          "metadata": {
            "tags": null
          },
          "name": "stdout",
          "output_type": "stream",
          "text": [
            "validation loss: 0.0018838566839694977 at epoch 695\n",
            "learning_rate: 0.0002621440000000001\n"
          ]
        },
        {
          "metadata": {
            "tags": null
          },
          "name": "stderr",
          "output_type": "stream",
          "text": [
            "epoch 695: 100%|██████████| 282/282 [00:07<00:00, 36.68it/s]\n"
          ]
        },
        {
          "metadata": {
            "tags": null
          },
          "name": "stdout",
          "output_type": "stream",
          "text": [
            "validation loss: 0.002906214209066497 at epoch 696\n",
            "learning_rate: 0.0002621440000000001\n"
          ]
        },
        {
          "metadata": {
            "tags": null
          },
          "name": "stderr",
          "output_type": "stream",
          "text": [
            "epoch 696: 100%|██████████| 282/282 [00:08<00:00, 34.23it/s]\n"
          ]
        },
        {
          "metadata": {
            "tags": null
          },
          "name": "stdout",
          "output_type": "stream",
          "text": [
            "validation loss: 0.002826860492428144 at epoch 697\n",
            "learning_rate: 0.0002621440000000001\n"
          ]
        },
        {
          "metadata": {
            "tags": null
          },
          "name": "stderr",
          "output_type": "stream",
          "text": [
            "epoch 697: 100%|██████████| 282/282 [00:07<00:00, 36.21it/s]\n"
          ]
        },
        {
          "metadata": {
            "tags": null
          },
          "name": "stdout",
          "output_type": "stream",
          "text": [
            "validation loss: 0.0020064236207140815 at epoch 698\n",
            "learning_rate: 0.0002621440000000001\n"
          ]
        },
        {
          "metadata": {
            "tags": null
          },
          "name": "stderr",
          "output_type": "stream",
          "text": [
            "epoch 698: 100%|██████████| 282/282 [00:07<00:00, 37.23it/s]\n"
          ]
        },
        {
          "metadata": {
            "tags": null
          },
          "name": "stdout",
          "output_type": "stream",
          "text": [
            "validation loss: 0.0023877407527632183 at epoch 699\n",
            "learning_rate: 0.0002621440000000001\n"
          ]
        },
        {
          "metadata": {
            "tags": null
          },
          "name": "stderr",
          "output_type": "stream",
          "text": [
            "epoch 699: 100%|██████████| 282/282 [00:08<00:00, 33.64it/s]\n"
          ]
        },
        {
          "metadata": {
            "tags": null
          },
          "name": "stdout",
          "output_type": "stream",
          "text": [
            "validation loss: 0.002419199508097437 at epoch 700\n",
            "learning_rate: 0.0002621440000000001\n"
          ]
        },
        {
          "metadata": {
            "tags": null
          },
          "name": "stderr",
          "output_type": "stream",
          "text": [
            "epoch 700: 100%|██████████| 282/282 [00:07<00:00, 35.49it/s]\n"
          ]
        },
        {
          "metadata": {
            "tags": null
          },
          "name": "stdout",
          "output_type": "stream",
          "text": [
            "validation loss: 0.001619116993414031 at epoch 701\n",
            "learning_rate: 0.0002621440000000001\n"
          ]
        },
        {
          "metadata": {
            "tags": null
          },
          "name": "stderr",
          "output_type": "stream",
          "text": [
            "epoch 701: 100%|██████████| 282/282 [00:07<00:00, 36.33it/s]\n"
          ]
        },
        {
          "metadata": {
            "tags": null
          },
          "name": "stdout",
          "output_type": "stream",
          "text": [
            "validation loss: 0.001410376451909542 at epoch 702\n",
            "learning_rate: 0.0002621440000000001\n"
          ]
        },
        {
          "metadata": {
            "tags": null
          },
          "name": "stderr",
          "output_type": "stream",
          "text": [
            "epoch 702: 100%|██████████| 282/282 [00:08<00:00, 34.43it/s]\n"
          ]
        },
        {
          "metadata": {
            "tags": null
          },
          "name": "stdout",
          "output_type": "stream",
          "text": [
            "validation loss: 0.0015699647019306818 at epoch 703\n",
            "learning_rate: 0.0002621440000000001\n"
          ]
        },
        {
          "metadata": {
            "tags": null
          },
          "name": "stderr",
          "output_type": "stream",
          "text": [
            "epoch 703: 100%|██████████| 282/282 [00:08<00:00, 35.20it/s]\n"
          ]
        },
        {
          "metadata": {
            "tags": null
          },
          "name": "stdout",
          "output_type": "stream",
          "text": [
            "validation loss: 0.0027613330764902962 at epoch 704\n",
            "learning_rate: 0.0002621440000000001\n"
          ]
        },
        {
          "metadata": {
            "tags": null
          },
          "name": "stderr",
          "output_type": "stream",
          "text": [
            "epoch 704: 100%|██████████| 282/282 [00:07<00:00, 37.57it/s]\n"
          ]
        },
        {
          "metadata": {
            "tags": null
          },
          "name": "stdout",
          "output_type": "stream",
          "text": [
            "validation loss: 0.00300389364361763 at epoch 705\n",
            "learning_rate: 0.0002621440000000001\n"
          ]
        },
        {
          "metadata": {
            "tags": null
          },
          "name": "stderr",
          "output_type": "stream",
          "text": [
            "epoch 705: 100%|██████████| 282/282 [00:08<00:00, 33.99it/s]\n"
          ]
        },
        {
          "metadata": {
            "tags": null
          },
          "name": "stdout",
          "output_type": "stream",
          "text": [
            "validation loss: 0.0023497334751817916 at epoch 706\n",
            "learning_rate: 0.0002621440000000001\n"
          ]
        },
        {
          "metadata": {
            "tags": null
          },
          "name": "stderr",
          "output_type": "stream",
          "text": [
            "epoch 706: 100%|██████████| 282/282 [00:08<00:00, 34.64it/s]\n"
          ]
        },
        {
          "metadata": {
            "tags": null
          },
          "name": "stdout",
          "output_type": "stream",
          "text": [
            "validation loss: 0.0024434699631399577 at epoch 707\n",
            "learning_rate: 0.0002621440000000001\n"
          ]
        },
        {
          "metadata": {
            "tags": null
          },
          "name": "stderr",
          "output_type": "stream",
          "text": [
            "epoch 707: 100%|██████████| 282/282 [00:07<00:00, 37.87it/s]\n"
          ]
        },
        {
          "metadata": {
            "tags": null
          },
          "name": "stdout",
          "output_type": "stream",
          "text": [
            "validation loss: 0.0011761149341861408 at epoch 708\n",
            "learning_rate: 0.0002621440000000001\n"
          ]
        },
        {
          "metadata": {
            "tags": null
          },
          "name": "stderr",
          "output_type": "stream",
          "text": [
            "epoch 708: 100%|██████████| 282/282 [00:08<00:00, 34.24it/s]\n"
          ]
        },
        {
          "metadata": {
            "tags": null
          },
          "name": "stdout",
          "output_type": "stream",
          "text": [
            "validation loss: 0.0013769099861383439 at epoch 709\n",
            "learning_rate: 0.0002621440000000001\n"
          ]
        },
        {
          "metadata": {
            "tags": null
          },
          "name": "stderr",
          "output_type": "stream",
          "text": [
            "epoch 709: 100%|██████████| 282/282 [00:08<00:00, 33.98it/s]\n"
          ]
        },
        {
          "metadata": {
            "tags": null
          },
          "name": "stdout",
          "output_type": "stream",
          "text": [
            "validation loss: 0.002963162425491545 at epoch 710\n",
            "learning_rate: 0.0002621440000000001\n"
          ]
        },
        {
          "metadata": {
            "tags": null
          },
          "name": "stderr",
          "output_type": "stream",
          "text": [
            "epoch 710: 100%|██████████| 282/282 [00:07<00:00, 38.10it/s]\n"
          ]
        },
        {
          "metadata": {
            "tags": null
          },
          "name": "stdout",
          "output_type": "stream",
          "text": [
            "validation loss: 0.0011181584542824163 at epoch 711\n",
            "learning_rate: 0.0002621440000000001\n"
          ]
        },
        {
          "metadata": {
            "tags": null
          },
          "name": "stderr",
          "output_type": "stream",
          "text": [
            "epoch 711: 100%|██████████| 282/282 [00:08<00:00, 33.83it/s]\n"
          ]
        },
        {
          "metadata": {
            "tags": null
          },
          "name": "stdout",
          "output_type": "stream",
          "text": [
            "validation loss: 0.0014394318618708188 at epoch 712\n",
            "learning_rate: 0.0002621440000000001\n"
          ]
        },
        {
          "metadata": {
            "tags": null
          },
          "name": "stderr",
          "output_type": "stream",
          "text": [
            "epoch 712: 100%|██████████| 282/282 [00:08<00:00, 34.08it/s]\n"
          ]
        },
        {
          "metadata": {
            "tags": null
          },
          "name": "stdout",
          "output_type": "stream",
          "text": [
            "validation loss: 0.0017616584499677021 at epoch 713\n",
            "learning_rate: 0.0002621440000000001\n"
          ]
        },
        {
          "metadata": {
            "tags": null
          },
          "name": "stderr",
          "output_type": "stream",
          "text": [
            "epoch 713: 100%|██████████| 282/282 [00:07<00:00, 37.81it/s]\n"
          ]
        },
        {
          "metadata": {
            "tags": null
          },
          "name": "stdout",
          "output_type": "stream",
          "text": [
            "validation loss: 0.0009409197953840097 at epoch 714\n",
            "learning_rate: 0.0002621440000000001\n",
            "model saved in ani_acrolein.pt\n"
          ]
        },
        {
          "metadata": {
            "tags": null
          },
          "name": "stderr",
          "output_type": "stream",
          "text": [
            "epoch 714: 100%|██████████| 282/282 [00:08<00:00, 33.99it/s]\n"
          ]
        },
        {
          "metadata": {
            "tags": null
          },
          "name": "stdout",
          "output_type": "stream",
          "text": [
            "validation loss: 0.0013691116132669978 at epoch 715\n",
            "learning_rate: 0.0002621440000000001\n"
          ]
        },
        {
          "metadata": {
            "tags": null
          },
          "name": "stderr",
          "output_type": "stream",
          "text": [
            "epoch 715: 100%|██████████| 282/282 [00:08<00:00, 34.26it/s]\n"
          ]
        },
        {
          "metadata": {
            "tags": null
          },
          "name": "stdout",
          "output_type": "stream",
          "text": [
            "validation loss: 0.0012182610126005278 at epoch 716\n",
            "learning_rate: 0.0002621440000000001\n"
          ]
        },
        {
          "metadata": {
            "tags": null
          },
          "name": "stderr",
          "output_type": "stream",
          "text": [
            "epoch 716: 100%|██████████| 282/282 [00:07<00:00, 37.85it/s]\n"
          ]
        },
        {
          "metadata": {
            "tags": null
          },
          "name": "stdout",
          "output_type": "stream",
          "text": [
            "validation loss: 0.0020453657706578574 at epoch 717\n",
            "learning_rate: 0.0002621440000000001\n"
          ]
        },
        {
          "metadata": {
            "tags": null
          },
          "name": "stderr",
          "output_type": "stream",
          "text": [
            "epoch 717: 100%|██████████| 282/282 [00:08<00:00, 33.58it/s]\n"
          ]
        },
        {
          "metadata": {
            "tags": null
          },
          "name": "stdout",
          "output_type": "stream",
          "text": [
            "validation loss: 0.0023318421608871883 at epoch 718\n",
            "learning_rate: 0.0002621440000000001\n"
          ]
        },
        {
          "metadata": {
            "tags": null
          },
          "name": "stderr",
          "output_type": "stream",
          "text": [
            "epoch 718: 100%|██████████| 282/282 [00:08<00:00, 34.45it/s]\n"
          ]
        },
        {
          "metadata": {
            "tags": null
          },
          "name": "stdout",
          "output_type": "stream",
          "text": [
            "validation loss: 0.0019413507531086604 at epoch 719\n",
            "learning_rate: 0.0002621440000000001\n"
          ]
        },
        {
          "metadata": {
            "tags": null
          },
          "name": "stderr",
          "output_type": "stream",
          "text": [
            "epoch 719: 100%|██████████| 282/282 [00:07<00:00, 38.07it/s]\n"
          ]
        },
        {
          "metadata": {
            "tags": null
          },
          "name": "stdout",
          "output_type": "stream",
          "text": [
            "validation loss: 0.003344019517302513 at epoch 720\n",
            "learning_rate: 0.0002621440000000001\n"
          ]
        },
        {
          "metadata": {
            "tags": null
          },
          "name": "stderr",
          "output_type": "stream",
          "text": [
            "epoch 720: 100%|██████████| 282/282 [00:08<00:00, 34.25it/s]\n"
          ]
        },
        {
          "metadata": {
            "tags": null
          },
          "name": "stdout",
          "output_type": "stream",
          "text": [
            "validation loss: 0.0010057319348884953 at epoch 721\n",
            "learning_rate: 0.0002621440000000001\n"
          ]
        },
        {
          "metadata": {
            "tags": null
          },
          "name": "stderr",
          "output_type": "stream",
          "text": [
            "epoch 721: 100%|██████████| 282/282 [00:08<00:00, 34.49it/s]\n"
          ]
        },
        {
          "metadata": {
            "tags": null
          },
          "name": "stdout",
          "output_type": "stream",
          "text": [
            "validation loss: 0.0009937043036851619 at epoch 722\n",
            "learning_rate: 0.0002621440000000001\n"
          ]
        },
        {
          "metadata": {
            "tags": null
          },
          "name": "stderr",
          "output_type": "stream",
          "text": [
            "epoch 722: 100%|██████████| 282/282 [00:07<00:00, 38.24it/s]\n"
          ]
        },
        {
          "metadata": {
            "tags": null
          },
          "name": "stdout",
          "output_type": "stream",
          "text": [
            "validation loss: 0.0012974635453687775 at epoch 723\n",
            "learning_rate: 0.0002621440000000001\n"
          ]
        },
        {
          "metadata": {
            "tags": null
          },
          "name": "stderr",
          "output_type": "stream",
          "text": [
            "epoch 723: 100%|██████████| 282/282 [00:08<00:00, 33.79it/s]\n"
          ]
        },
        {
          "metadata": {
            "tags": null
          },
          "name": "stdout",
          "output_type": "stream",
          "text": [
            "validation loss: 0.002595776880780856 at epoch 724\n",
            "learning_rate: 0.0002621440000000001\n"
          ]
        },
        {
          "metadata": {
            "tags": null
          },
          "name": "stderr",
          "output_type": "stream",
          "text": [
            "epoch 724: 100%|██████████| 282/282 [00:08<00:00, 34.61it/s]\n"
          ]
        },
        {
          "metadata": {
            "tags": null
          },
          "name": "stdout",
          "output_type": "stream",
          "text": [
            "validation loss: 0.0014831899652878444 at epoch 725\n",
            "learning_rate: 0.0002621440000000001\n"
          ]
        },
        {
          "metadata": {
            "tags": null
          },
          "name": "stderr",
          "output_type": "stream",
          "text": [
            "epoch 725: 100%|██████████| 282/282 [00:07<00:00, 37.67it/s]\n"
          ]
        },
        {
          "metadata": {
            "tags": null
          },
          "name": "stdout",
          "output_type": "stream",
          "text": [
            "validation loss: 0.0010350028636554878 at epoch 726\n",
            "learning_rate: 0.0002621440000000001\n"
          ]
        },
        {
          "metadata": {
            "tags": null
          },
          "name": "stderr",
          "output_type": "stream",
          "text": [
            "epoch 726: 100%|██████████| 282/282 [00:08<00:00, 33.59it/s]\n"
          ]
        },
        {
          "metadata": {
            "tags": null
          },
          "name": "stdout",
          "output_type": "stream",
          "text": [
            "validation loss: 0.0013265761882066726 at epoch 727\n",
            "learning_rate: 0.0002621440000000001\n"
          ]
        },
        {
          "metadata": {
            "tags": null
          },
          "name": "stderr",
          "output_type": "stream",
          "text": [
            "epoch 727: 100%|██████████| 282/282 [00:08<00:00, 35.19it/s]\n"
          ]
        },
        {
          "metadata": {
            "tags": null
          },
          "name": "stdout",
          "output_type": "stream",
          "text": [
            "validation loss: 0.0011213217953013048 at epoch 728\n",
            "learning_rate: 0.0002621440000000001\n"
          ]
        },
        {
          "metadata": {
            "tags": null
          },
          "name": "stderr",
          "output_type": "stream",
          "text": [
            "epoch 728: 100%|██████████| 282/282 [00:07<00:00, 37.58it/s]\n"
          ]
        },
        {
          "metadata": {
            "tags": null
          },
          "name": "stdout",
          "output_type": "stream",
          "text": [
            "validation loss: 0.001028031624853611 at epoch 729\n",
            "learning_rate: 0.0002621440000000001\n"
          ]
        },
        {
          "metadata": {
            "tags": null
          },
          "name": "stderr",
          "output_type": "stream",
          "text": [
            "epoch 729: 100%|██████████| 282/282 [00:08<00:00, 34.04it/s]\n"
          ]
        },
        {
          "metadata": {
            "tags": null
          },
          "name": "stdout",
          "output_type": "stream",
          "text": [
            "validation loss: 0.0017088909472028414 at epoch 730\n",
            "learning_rate: 0.0002621440000000001\n"
          ]
        },
        {
          "metadata": {
            "tags": null
          },
          "name": "stderr",
          "output_type": "stream",
          "text": [
            "epoch 730: 100%|██████████| 282/282 [00:08<00:00, 34.50it/s]\n"
          ]
        },
        {
          "metadata": {
            "tags": null
          },
          "name": "stdout",
          "output_type": "stream",
          "text": [
            "validation loss: 0.002761362723178334 at epoch 731\n",
            "learning_rate: 0.0002621440000000001\n"
          ]
        },
        {
          "metadata": {
            "tags": null
          },
          "name": "stderr",
          "output_type": "stream",
          "text": [
            "epoch 731: 100%|██████████| 282/282 [00:07<00:00, 37.89it/s]\n"
          ]
        },
        {
          "metadata": {
            "tags": null
          },
          "name": "stdout",
          "output_type": "stream",
          "text": [
            "validation loss: 0.0015902173072099685 at epoch 732\n",
            "learning_rate: 0.0002621440000000001\n"
          ]
        },
        {
          "metadata": {
            "tags": null
          },
          "name": "stderr",
          "output_type": "stream",
          "text": [
            "epoch 732: 100%|██████████| 282/282 [00:08<00:00, 33.41it/s]\n"
          ]
        },
        {
          "metadata": {
            "tags": null
          },
          "name": "stdout",
          "output_type": "stream",
          "text": [
            "validation loss: 0.0015267065250211293 at epoch 733\n",
            "learning_rate: 0.0002621440000000001\n"
          ]
        },
        {
          "metadata": {
            "tags": null
          },
          "name": "stderr",
          "output_type": "stream",
          "text": [
            "epoch 733: 100%|██████████| 282/282 [00:08<00:00, 34.83it/s]\n"
          ]
        },
        {
          "metadata": {
            "tags": null
          },
          "name": "stdout",
          "output_type": "stream",
          "text": [
            "validation loss: 0.0010877021352450054 at epoch 734\n",
            "learning_rate: 0.0002621440000000001\n"
          ]
        },
        {
          "metadata": {
            "tags": null
          },
          "name": "stderr",
          "output_type": "stream",
          "text": [
            "epoch 734: 100%|██████████| 282/282 [00:07<00:00, 37.64it/s]\n"
          ]
        },
        {
          "metadata": {
            "tags": null
          },
          "name": "stdout",
          "output_type": "stream",
          "text": [
            "validation loss: 0.0010296971946954726 at epoch 735\n",
            "learning_rate: 0.0002621440000000001\n"
          ]
        },
        {
          "metadata": {
            "tags": null
          },
          "name": "stderr",
          "output_type": "stream",
          "text": [
            "epoch 735: 100%|██████████| 282/282 [00:08<00:00, 33.52it/s]\n"
          ]
        },
        {
          "metadata": {
            "tags": null
          },
          "name": "stdout",
          "output_type": "stream",
          "text": [
            "validation loss: 0.0010974858502546946 at epoch 736\n",
            "learning_rate: 0.0002621440000000001\n"
          ]
        },
        {
          "metadata": {
            "tags": null
          },
          "name": "stderr",
          "output_type": "stream",
          "text": [
            "epoch 736: 100%|██████████| 282/282 [00:07<00:00, 35.33it/s]\n"
          ]
        },
        {
          "metadata": {
            "tags": null
          },
          "name": "stdout",
          "output_type": "stream",
          "text": [
            "validation loss: 0.0016934173570738898 at epoch 737\n",
            "learning_rate: 0.0002621440000000001\n"
          ]
        },
        {
          "metadata": {
            "tags": null
          },
          "name": "stderr",
          "output_type": "stream",
          "text": [
            "epoch 737: 100%|██████████| 282/282 [00:07<00:00, 37.59it/s]\n"
          ]
        },
        {
          "metadata": {
            "tags": null
          },
          "name": "stdout",
          "output_type": "stream",
          "text": [
            "validation loss: 0.0010188721666733423 at epoch 738\n",
            "learning_rate: 0.0002621440000000001\n"
          ]
        },
        {
          "metadata": {
            "tags": null
          },
          "name": "stderr",
          "output_type": "stream",
          "text": [
            "epoch 738: 100%|██████████| 282/282 [00:08<00:00, 33.69it/s]\n"
          ]
        },
        {
          "metadata": {
            "tags": null
          },
          "name": "stdout",
          "output_type": "stream",
          "text": [
            "validation loss: 0.0012726196414894527 at epoch 739\n",
            "learning_rate: 0.0002621440000000001\n"
          ]
        },
        {
          "metadata": {
            "tags": null
          },
          "name": "stderr",
          "output_type": "stream",
          "text": [
            "epoch 739: 100%|██████████| 282/282 [00:08<00:00, 34.95it/s]\n"
          ]
        },
        {
          "metadata": {
            "tags": null
          },
          "name": "stdout",
          "output_type": "stream",
          "text": [
            "validation loss: 0.0017907323646876548 at epoch 740\n",
            "learning_rate: 0.0002621440000000001\n"
          ]
        },
        {
          "metadata": {
            "tags": null
          },
          "name": "stderr",
          "output_type": "stream",
          "text": [
            "epoch 740: 100%|██████████| 282/282 [00:07<00:00, 37.77it/s]\n"
          ]
        },
        {
          "metadata": {
            "tags": null
          },
          "name": "stdout",
          "output_type": "stream",
          "text": [
            "validation loss: 0.002083215587668949 at epoch 741\n",
            "learning_rate: 0.0002621440000000001\n"
          ]
        },
        {
          "metadata": {
            "tags": null
          },
          "name": "stderr",
          "output_type": "stream",
          "text": [
            "epoch 741: 100%|██████████| 282/282 [00:08<00:00, 33.66it/s]\n"
          ]
        },
        {
          "metadata": {
            "tags": null
          },
          "name": "stdout",
          "output_type": "stream",
          "text": [
            "validation loss: 0.002783417984843254 at epoch 742\n",
            "learning_rate: 0.0002621440000000001\n"
          ]
        },
        {
          "metadata": {
            "tags": null
          },
          "name": "stderr",
          "output_type": "stream",
          "text": [
            "epoch 742: 100%|██████████| 282/282 [00:08<00:00, 34.88it/s]\n"
          ]
        },
        {
          "metadata": {
            "tags": null
          },
          "name": "stdout",
          "output_type": "stream",
          "text": [
            "validation loss: 0.0009707012292411592 at epoch 743\n",
            "learning_rate: 0.0002621440000000001\n"
          ]
        },
        {
          "metadata": {
            "tags": null
          },
          "name": "stderr",
          "output_type": "stream",
          "text": [
            "epoch 743: 100%|██████████| 282/282 [00:07<00:00, 37.77it/s]\n"
          ]
        },
        {
          "metadata": {
            "tags": null
          },
          "name": "stdout",
          "output_type": "stream",
          "text": [
            "validation loss: 0.0009569688128928343 at epoch 744\n",
            "learning_rate: 0.0002621440000000001\n"
          ]
        },
        {
          "metadata": {
            "tags": null
          },
          "name": "stderr",
          "output_type": "stream",
          "text": [
            "epoch 744: 100%|██████████| 282/282 [00:08<00:00, 34.04it/s]\n"
          ]
        },
        {
          "metadata": {
            "tags": null
          },
          "name": "stdout",
          "output_type": "stream",
          "text": [
            "validation loss: 0.0009779984607464736 at epoch 745\n",
            "learning_rate: 0.0002621440000000001\n"
          ]
        },
        {
          "metadata": {
            "tags": null
          },
          "name": "stderr",
          "output_type": "stream",
          "text": [
            "epoch 745: 100%|██████████| 282/282 [00:08<00:00, 35.07it/s]\n"
          ]
        },
        {
          "metadata": {
            "tags": null
          },
          "name": "stdout",
          "output_type": "stream",
          "text": [
            "validation loss: 0.002798183626598782 at epoch 746\n",
            "learning_rate: 0.0002621440000000001\n"
          ]
        },
        {
          "metadata": {
            "tags": null
          },
          "name": "stderr",
          "output_type": "stream",
          "text": [
            "epoch 746: 100%|██████████| 282/282 [00:07<00:00, 37.55it/s]\n"
          ]
        },
        {
          "metadata": {
            "tags": null
          },
          "name": "stdout",
          "output_type": "stream",
          "text": [
            "validation loss: 0.0020966923038164774 at epoch 747\n",
            "learning_rate: 0.0002621440000000001\n"
          ]
        },
        {
          "metadata": {
            "tags": null
          },
          "name": "stderr",
          "output_type": "stream",
          "text": [
            "epoch 747: 100%|██████████| 282/282 [00:08<00:00, 33.56it/s]\n"
          ]
        },
        {
          "metadata": {
            "tags": null
          },
          "name": "stdout",
          "output_type": "stream",
          "text": [
            "validation loss: 0.0011182929186357392 at epoch 748\n",
            "learning_rate: 0.0002621440000000001\n"
          ]
        },
        {
          "metadata": {
            "tags": null
          },
          "name": "stderr",
          "output_type": "stream",
          "text": [
            "epoch 748: 100%|██████████| 282/282 [00:08<00:00, 35.20it/s]\n"
          ]
        },
        {
          "metadata": {
            "tags": null
          },
          "name": "stdout",
          "output_type": "stream",
          "text": [
            "validation loss: 0.0023637972838348813 at epoch 749\n",
            "learning_rate: 0.0002621440000000001\n"
          ]
        },
        {
          "metadata": {
            "tags": null
          },
          "name": "stderr",
          "output_type": "stream",
          "text": [
            "epoch 749: 100%|██████████| 282/282 [00:07<00:00, 37.71it/s]\n"
          ]
        },
        {
          "metadata": {
            "tags": null
          },
          "name": "stdout",
          "output_type": "stream",
          "text": [
            "validation loss: 0.0011535402859250705 at epoch 750\n",
            "learning_rate: 0.0002621440000000001\n"
          ]
        },
        {
          "metadata": {
            "tags": null
          },
          "name": "stderr",
          "output_type": "stream",
          "text": [
            "epoch 750: 100%|██████████| 282/282 [00:08<00:00, 33.88it/s]\n"
          ]
        },
        {
          "metadata": {
            "tags": null
          },
          "name": "stdout",
          "output_type": "stream",
          "text": [
            "validation loss: 0.0013462920089562735 at epoch 751\n",
            "learning_rate: 0.0002621440000000001\n"
          ]
        },
        {
          "metadata": {
            "tags": null
          },
          "name": "stderr",
          "output_type": "stream",
          "text": [
            "epoch 751: 100%|██████████| 282/282 [00:08<00:00, 34.70it/s]\n"
          ]
        },
        {
          "metadata": {
            "tags": null
          },
          "name": "stdout",
          "output_type": "stream",
          "text": [
            "validation loss: 0.0022699235959185494 at epoch 752\n",
            "learning_rate: 0.0002621440000000001\n"
          ]
        },
        {
          "metadata": {
            "tags": null
          },
          "name": "stderr",
          "output_type": "stream",
          "text": [
            "epoch 752: 100%|██████████| 282/282 [00:07<00:00, 37.93it/s]\n"
          ]
        },
        {
          "metadata": {
            "tags": null
          },
          "name": "stdout",
          "output_type": "stream",
          "text": [
            "validation loss: 0.00233802078002029 at epoch 753\n",
            "learning_rate: 0.0002621440000000001\n"
          ]
        },
        {
          "metadata": {
            "tags": null
          },
          "name": "stderr",
          "output_type": "stream",
          "text": [
            "epoch 753: 100%|██████████| 282/282 [00:08<00:00, 33.39it/s]\n"
          ]
        },
        {
          "metadata": {
            "tags": null
          },
          "name": "stdout",
          "output_type": "stream",
          "text": [
            "validation loss: 0.0025717540515793696 at epoch 754\n",
            "learning_rate: 0.0002621440000000001\n"
          ]
        },
        {
          "metadata": {
            "tags": null
          },
          "name": "stderr",
          "output_type": "stream",
          "text": [
            "epoch 754: 100%|██████████| 282/282 [00:07<00:00, 35.42it/s]\n"
          ]
        },
        {
          "metadata": {
            "tags": null
          },
          "name": "stdout",
          "output_type": "stream",
          "text": [
            "validation loss: 0.0018489240987433328 at epoch 755\n",
            "learning_rate: 0.0002621440000000001\n"
          ]
        },
        {
          "metadata": {
            "tags": null
          },
          "name": "stderr",
          "output_type": "stream",
          "text": [
            "epoch 755: 100%|██████████| 282/282 [00:07<00:00, 37.52it/s]\n"
          ]
        },
        {
          "metadata": {
            "tags": null
          },
          "name": "stdout",
          "output_type": "stream",
          "text": [
            "validation loss: 0.0014546155648099053 at epoch 756\n",
            "learning_rate: 0.0002621440000000001\n"
          ]
        },
        {
          "metadata": {
            "tags": null
          },
          "name": "stderr",
          "output_type": "stream",
          "text": [
            "epoch 756: 100%|██████████| 282/282 [00:08<00:00, 33.67it/s]\n"
          ]
        },
        {
          "metadata": {
            "tags": null
          },
          "name": "stdout",
          "output_type": "stream",
          "text": [
            "validation loss: 0.0020366198304626677 at epoch 757\n",
            "learning_rate: 0.0002621440000000001\n"
          ]
        },
        {
          "metadata": {
            "tags": null
          },
          "name": "stderr",
          "output_type": "stream",
          "text": [
            "epoch 757: 100%|██████████| 282/282 [00:07<00:00, 35.71it/s]\n"
          ]
        },
        {
          "metadata": {
            "tags": null
          },
          "name": "stdout",
          "output_type": "stream",
          "text": [
            "validation loss: 0.0028229806737767324 at epoch 758\n",
            "learning_rate: 0.0002621440000000001\n"
          ]
        },
        {
          "metadata": {
            "tags": null
          },
          "name": "stderr",
          "output_type": "stream",
          "text": [
            "epoch 758: 100%|██████████| 282/282 [00:07<00:00, 37.02it/s]\n"
          ]
        },
        {
          "metadata": {
            "tags": null
          },
          "name": "stdout",
          "output_type": "stream",
          "text": [
            "validation loss: 0.0012508068987064891 at epoch 759\n",
            "learning_rate: 0.0002621440000000001\n"
          ]
        },
        {
          "metadata": {
            "tags": null
          },
          "name": "stderr",
          "output_type": "stream",
          "text": [
            "epoch 759: 100%|██████████| 282/282 [00:08<00:00, 33.85it/s]\n"
          ]
        },
        {
          "metadata": {
            "tags": null
          },
          "name": "stdout",
          "output_type": "stream",
          "text": [
            "validation loss: 0.0023936303969886567 at epoch 760\n",
            "learning_rate: 0.0002621440000000001\n"
          ]
        },
        {
          "metadata": {
            "tags": null
          },
          "name": "stderr",
          "output_type": "stream",
          "text": [
            "epoch 760: 100%|██████████| 282/282 [00:07<00:00, 35.53it/s]\n"
          ]
        },
        {
          "metadata": {
            "tags": null
          },
          "name": "stdout",
          "output_type": "stream",
          "text": [
            "validation loss: 0.00151184771127171 at epoch 761\n",
            "learning_rate: 0.0002621440000000001\n"
          ]
        },
        {
          "metadata": {
            "tags": null
          },
          "name": "stderr",
          "output_type": "stream",
          "text": [
            "epoch 761: 100%|██████████| 282/282 [00:07<00:00, 36.47it/s]\n"
          ]
        },
        {
          "metadata": {
            "tags": null
          },
          "name": "stdout",
          "output_type": "stream",
          "text": [
            "validation loss: 0.0011043592571384378 at epoch 762\n",
            "learning_rate: 0.0002621440000000001\n"
          ]
        },
        {
          "metadata": {
            "tags": null
          },
          "name": "stderr",
          "output_type": "stream",
          "text": [
            "epoch 762: 100%|██████████| 282/282 [00:08<00:00, 33.44it/s]\n"
          ]
        },
        {
          "metadata": {
            "tags": null
          },
          "name": "stdout",
          "output_type": "stream",
          "text": [
            "validation loss: 0.0017061911713745859 at epoch 763\n",
            "learning_rate: 0.0002621440000000001\n"
          ]
        },
        {
          "metadata": {
            "tags": null
          },
          "name": "stderr",
          "output_type": "stream",
          "text": [
            "epoch 763: 100%|██████████| 282/282 [00:07<00:00, 35.66it/s]\n"
          ]
        },
        {
          "metadata": {
            "tags": null
          },
          "name": "stdout",
          "output_type": "stream",
          "text": [
            "validation loss: 0.001960749187403255 at epoch 764\n",
            "learning_rate: 0.0002621440000000001\n"
          ]
        },
        {
          "metadata": {
            "tags": null
          },
          "name": "stderr",
          "output_type": "stream",
          "text": [
            "epoch 764: 100%|██████████| 282/282 [00:07<00:00, 37.11it/s]\n"
          ]
        },
        {
          "metadata": {
            "tags": null
          },
          "name": "stdout",
          "output_type": "stream",
          "text": [
            "validation loss: 0.0011936099355419477 at epoch 765\n",
            "learning_rate: 0.0002621440000000001\n"
          ]
        },
        {
          "metadata": {
            "tags": null
          },
          "name": "stderr",
          "output_type": "stream",
          "text": [
            "epoch 765: 100%|██████████| 282/282 [00:08<00:00, 33.85it/s]\n"
          ]
        },
        {
          "metadata": {
            "tags": null
          },
          "name": "stdout",
          "output_type": "stream",
          "text": [
            "validation loss: 0.0016598756710688274 at epoch 766\n",
            "learning_rate: 0.00020971520000000012\n"
          ]
        },
        {
          "metadata": {
            "tags": null
          },
          "name": "stderr",
          "output_type": "stream",
          "text": [
            "epoch 766: 100%|██████████| 282/282 [00:07<00:00, 36.44it/s]\n"
          ]
        },
        {
          "metadata": {
            "tags": null
          },
          "name": "stdout",
          "output_type": "stream",
          "text": [
            "validation loss: 0.001198617895030313 at epoch 767\n",
            "learning_rate: 0.00020971520000000012\n"
          ]
        },
        {
          "metadata": {
            "tags": null
          },
          "name": "stderr",
          "output_type": "stream",
          "text": [
            "epoch 767: 100%|██████████| 282/282 [00:07<00:00, 36.89it/s]\n"
          ]
        },
        {
          "metadata": {
            "tags": null
          },
          "name": "stdout",
          "output_type": "stream",
          "text": [
            "validation loss: 0.0010371999070048332 at epoch 768\n",
            "learning_rate: 0.00020971520000000012\n"
          ]
        },
        {
          "metadata": {
            "tags": null
          },
          "name": "stderr",
          "output_type": "stream",
          "text": [
            "epoch 768: 100%|██████████| 282/282 [00:08<00:00, 33.71it/s]\n"
          ]
        },
        {
          "metadata": {
            "tags": null
          },
          "name": "stdout",
          "output_type": "stream",
          "text": [
            "validation loss: 0.0012261752196484142 at epoch 769\n",
            "learning_rate: 0.00020971520000000012\n"
          ]
        },
        {
          "metadata": {
            "tags": null
          },
          "name": "stderr",
          "output_type": "stream",
          "text": [
            "epoch 769: 100%|██████████| 282/282 [00:07<00:00, 35.74it/s]\n"
          ]
        },
        {
          "metadata": {
            "tags": null
          },
          "name": "stdout",
          "output_type": "stream",
          "text": [
            "validation loss: 0.0009856059865819083 at epoch 770\n",
            "learning_rate: 0.00020971520000000012\n"
          ]
        },
        {
          "metadata": {
            "tags": null
          },
          "name": "stderr",
          "output_type": "stream",
          "text": [
            "epoch 770: 100%|██████████| 282/282 [00:07<00:00, 36.98it/s]\n"
          ]
        },
        {
          "metadata": {
            "tags": null
          },
          "name": "stdout",
          "output_type": "stream",
          "text": [
            "validation loss: 0.0009851359112395181 at epoch 771\n",
            "learning_rate: 0.00020971520000000012\n"
          ]
        },
        {
          "metadata": {
            "tags": null
          },
          "name": "stderr",
          "output_type": "stream",
          "text": [
            "epoch 771: 100%|██████████| 282/282 [00:08<00:00, 34.03it/s]\n"
          ]
        },
        {
          "metadata": {
            "tags": null
          },
          "name": "stdout",
          "output_type": "stream",
          "text": [
            "validation loss: 0.000921769957161612 at epoch 772\n",
            "learning_rate: 0.00020971520000000012\n",
            "model saved in ani_acrolein.pt\n"
          ]
        },
        {
          "metadata": {
            "tags": null
          },
          "name": "stderr",
          "output_type": "stream",
          "text": [
            "epoch 772: 100%|██████████| 282/282 [00:08<00:00, 35.08it/s]\n"
          ]
        },
        {
          "metadata": {
            "tags": null
          },
          "name": "stdout",
          "output_type": "stream",
          "text": [
            "validation loss: 0.0009929569736123085 at epoch 773\n",
            "learning_rate: 0.00020971520000000012\n"
          ]
        },
        {
          "metadata": {
            "tags": null
          },
          "name": "stderr",
          "output_type": "stream",
          "text": [
            "epoch 773: 100%|██████████| 282/282 [00:07<00:00, 37.50it/s]\n"
          ]
        },
        {
          "metadata": {
            "tags": null
          },
          "name": "stdout",
          "output_type": "stream",
          "text": [
            "validation loss: 0.001153712344666322 at epoch 774\n",
            "learning_rate: 0.00020971520000000012\n"
          ]
        },
        {
          "metadata": {
            "tags": null
          },
          "name": "stderr",
          "output_type": "stream",
          "text": [
            "epoch 774: 100%|██████████| 282/282 [00:08<00:00, 33.38it/s]\n"
          ]
        },
        {
          "metadata": {
            "tags": null
          },
          "name": "stdout",
          "output_type": "stream",
          "text": [
            "validation loss: 0.001238953981962469 at epoch 775\n",
            "learning_rate: 0.00020971520000000012\n"
          ]
        },
        {
          "metadata": {
            "tags": null
          },
          "name": "stderr",
          "output_type": "stream",
          "text": [
            "epoch 775: 100%|██████████| 282/282 [00:08<00:00, 34.45it/s]\n"
          ]
        },
        {
          "metadata": {
            "tags": null
          },
          "name": "stdout",
          "output_type": "stream",
          "text": [
            "validation loss: 0.0017943336152368122 at epoch 776\n",
            "learning_rate: 0.00020971520000000012\n"
          ]
        },
        {
          "metadata": {
            "tags": null
          },
          "name": "stderr",
          "output_type": "stream",
          "text": [
            "epoch 776: 100%|██████████| 282/282 [00:07<00:00, 37.91it/s]\n"
          ]
        },
        {
          "metadata": {
            "tags": null
          },
          "name": "stdout",
          "output_type": "stream",
          "text": [
            "validation loss: 0.0016639190258251296 at epoch 777\n",
            "learning_rate: 0.00020971520000000012\n"
          ]
        },
        {
          "metadata": {
            "tags": null
          },
          "name": "stderr",
          "output_type": "stream",
          "text": [
            "epoch 777: 100%|██████████| 282/282 [00:08<00:00, 33.98it/s]\n"
          ]
        },
        {
          "metadata": {
            "tags": null
          },
          "name": "stdout",
          "output_type": "stream",
          "text": [
            "validation loss: 0.001574328799214628 at epoch 778\n",
            "learning_rate: 0.00020971520000000012\n"
          ]
        },
        {
          "metadata": {
            "tags": null
          },
          "name": "stderr",
          "output_type": "stream",
          "text": [
            "epoch 778: 100%|██████████| 282/282 [00:08<00:00, 34.88it/s]\n"
          ]
        },
        {
          "metadata": {
            "tags": null
          },
          "name": "stdout",
          "output_type": "stream",
          "text": [
            "validation loss: 0.001660774758292569 at epoch 779\n",
            "learning_rate: 0.00020971520000000012\n"
          ]
        },
        {
          "metadata": {
            "tags": null
          },
          "name": "stderr",
          "output_type": "stream",
          "text": [
            "epoch 779: 100%|██████████| 282/282 [00:07<00:00, 37.68it/s]\n"
          ]
        },
        {
          "metadata": {
            "tags": null
          },
          "name": "stdout",
          "output_type": "stream",
          "text": [
            "validation loss: 0.002016054758595096 at epoch 780\n",
            "learning_rate: 0.00020971520000000012\n"
          ]
        },
        {
          "metadata": {
            "tags": null
          },
          "name": "stderr",
          "output_type": "stream",
          "text": [
            "epoch 780: 100%|██████████| 282/282 [00:08<00:00, 33.91it/s]\n"
          ]
        },
        {
          "metadata": {
            "tags": null
          },
          "name": "stdout",
          "output_type": "stream",
          "text": [
            "validation loss: 0.0017067889951997333 at epoch 781\n",
            "learning_rate: 0.00020971520000000012\n"
          ]
        },
        {
          "metadata": {
            "tags": null
          },
          "name": "stderr",
          "output_type": "stream",
          "text": [
            "epoch 781: 100%|██████████| 282/282 [00:08<00:00, 34.47it/s]\n"
          ]
        },
        {
          "metadata": {
            "tags": null
          },
          "name": "stdout",
          "output_type": "stream",
          "text": [
            "validation loss: 0.0015786437698536448 at epoch 782\n",
            "learning_rate: 0.00020971520000000012\n"
          ]
        },
        {
          "metadata": {
            "tags": null
          },
          "name": "stderr",
          "output_type": "stream",
          "text": [
            "epoch 782: 100%|██████████| 282/282 [00:07<00:00, 37.81it/s]\n"
          ]
        },
        {
          "metadata": {
            "tags": null
          },
          "name": "stdout",
          "output_type": "stream",
          "text": [
            "validation loss: 0.0015278288697203 at epoch 783\n",
            "learning_rate: 0.00020971520000000012\n"
          ]
        },
        {
          "metadata": {
            "tags": null
          },
          "name": "stderr",
          "output_type": "stream",
          "text": [
            "epoch 783: 100%|██████████| 282/282 [00:08<00:00, 34.08it/s]\n"
          ]
        },
        {
          "metadata": {
            "tags": null
          },
          "name": "stdout",
          "output_type": "stream",
          "text": [
            "validation loss: 0.0019335421605242624 at epoch 784\n",
            "learning_rate: 0.00020971520000000012\n"
          ]
        },
        {
          "metadata": {
            "tags": null
          },
          "name": "stderr",
          "output_type": "stream",
          "text": [
            "epoch 784: 100%|██████████| 282/282 [00:08<00:00, 34.84it/s]\n"
          ]
        },
        {
          "metadata": {
            "tags": null
          },
          "name": "stdout",
          "output_type": "stream",
          "text": [
            "validation loss: 0.001281300967766179 at epoch 785\n",
            "learning_rate: 0.00020971520000000012\n"
          ]
        },
        {
          "metadata": {
            "tags": null
          },
          "name": "stderr",
          "output_type": "stream",
          "text": [
            "epoch 785: 100%|██████████| 282/282 [00:07<00:00, 37.97it/s]\n"
          ]
        },
        {
          "metadata": {
            "tags": null
          },
          "name": "stdout",
          "output_type": "stream",
          "text": [
            "validation loss: 0.0011387582889033688 at epoch 786\n",
            "learning_rate: 0.00020971520000000012\n"
          ]
        },
        {
          "metadata": {
            "tags": null
          },
          "name": "stderr",
          "output_type": "stream",
          "text": [
            "epoch 786: 100%|██████████| 282/282 [00:08<00:00, 33.77it/s]\n"
          ]
        },
        {
          "metadata": {
            "tags": null
          },
          "name": "stdout",
          "output_type": "stream",
          "text": [
            "validation loss: 0.001257764630847507 at epoch 787\n",
            "learning_rate: 0.00020971520000000012\n"
          ]
        },
        {
          "metadata": {
            "tags": null
          },
          "name": "stderr",
          "output_type": "stream",
          "text": [
            "epoch 787: 100%|██████████| 282/282 [00:08<00:00, 34.83it/s]\n"
          ]
        },
        {
          "metadata": {
            "tags": null
          },
          "name": "stdout",
          "output_type": "stream",
          "text": [
            "validation loss: 0.0011218107086088923 at epoch 788\n",
            "learning_rate: 0.00020971520000000012\n"
          ]
        },
        {
          "metadata": {
            "tags": null
          },
          "name": "stderr",
          "output_type": "stream",
          "text": [
            "epoch 788: 100%|██████████| 282/282 [00:07<00:00, 37.71it/s]\n"
          ]
        },
        {
          "metadata": {
            "tags": null
          },
          "name": "stdout",
          "output_type": "stream",
          "text": [
            "validation loss: 0.0012361638479762608 at epoch 789\n",
            "learning_rate: 0.00020971520000000012\n"
          ]
        },
        {
          "metadata": {
            "tags": null
          },
          "name": "stderr",
          "output_type": "stream",
          "text": [
            "epoch 789: 100%|██████████| 282/282 [00:08<00:00, 33.93it/s]\n"
          ]
        },
        {
          "metadata": {
            "tags": null
          },
          "name": "stdout",
          "output_type": "stream",
          "text": [
            "validation loss: 0.0013144169367021986 at epoch 790\n",
            "learning_rate: 0.00020971520000000012\n"
          ]
        },
        {
          "metadata": {
            "tags": null
          },
          "name": "stderr",
          "output_type": "stream",
          "text": [
            "epoch 790: 100%|██████████| 282/282 [00:08<00:00, 34.49it/s]\n"
          ]
        },
        {
          "metadata": {
            "tags": null
          },
          "name": "stdout",
          "output_type": "stream",
          "text": [
            "validation loss: 0.0009549821760091516 at epoch 791\n",
            "learning_rate: 0.00020971520000000012\n"
          ]
        },
        {
          "metadata": {
            "tags": null
          },
          "name": "stderr",
          "output_type": "stream",
          "text": [
            "epoch 791: 100%|██████████| 282/282 [00:07<00:00, 37.59it/s]\n"
          ]
        },
        {
          "metadata": {
            "tags": null
          },
          "name": "stdout",
          "output_type": "stream",
          "text": [
            "validation loss: 0.0009066468659374449 at epoch 792\n",
            "learning_rate: 0.00020971520000000012\n",
            "model saved in ani_acrolein.pt\n"
          ]
        },
        {
          "metadata": {
            "tags": null
          },
          "name": "stderr",
          "output_type": "stream",
          "text": [
            "epoch 792: 100%|██████████| 282/282 [00:08<00:00, 33.91it/s]\n"
          ]
        },
        {
          "metadata": {
            "tags": null
          },
          "name": "stdout",
          "output_type": "stream",
          "text": [
            "validation loss: 0.000851076849632793 at epoch 793\n",
            "learning_rate: 0.00020971520000000012\n",
            "model saved in ani_acrolein.pt\n"
          ]
        },
        {
          "metadata": {
            "tags": null
          },
          "name": "stderr",
          "output_type": "stream",
          "text": [
            "epoch 793: 100%|██████████| 282/282 [00:08<00:00, 34.42it/s]\n"
          ]
        },
        {
          "metadata": {
            "tags": null
          },
          "name": "stdout",
          "output_type": "stream",
          "text": [
            "validation loss: 0.000999696628501018 at epoch 794\n",
            "learning_rate: 0.00020971520000000012\n"
          ]
        },
        {
          "metadata": {
            "tags": null
          },
          "name": "stderr",
          "output_type": "stream",
          "text": [
            "epoch 794: 100%|██████████| 282/282 [00:07<00:00, 37.81it/s]\n"
          ]
        },
        {
          "metadata": {
            "tags": null
          },
          "name": "stdout",
          "output_type": "stream",
          "text": [
            "validation loss: 0.0009134254467984041 at epoch 795\n",
            "learning_rate: 0.00020971520000000012\n"
          ]
        },
        {
          "metadata": {
            "tags": null
          },
          "name": "stderr",
          "output_type": "stream",
          "text": [
            "epoch 795: 100%|██████████| 282/282 [00:08<00:00, 33.74it/s]\n"
          ]
        },
        {
          "metadata": {
            "tags": null
          },
          "name": "stdout",
          "output_type": "stream",
          "text": [
            "validation loss: 0.0008567480175859398 at epoch 796\n",
            "learning_rate: 0.00020971520000000012\n"
          ]
        },
        {
          "metadata": {
            "tags": null
          },
          "name": "stderr",
          "output_type": "stream",
          "text": [
            "epoch 796: 100%|██████████| 282/282 [00:08<00:00, 34.23it/s]\n"
          ]
        },
        {
          "metadata": {
            "tags": null
          },
          "name": "stdout",
          "output_type": "stream",
          "text": [
            "validation loss: 0.0009820658477644126 at epoch 797\n",
            "learning_rate: 0.00020971520000000012\n"
          ]
        },
        {
          "metadata": {
            "tags": null
          },
          "name": "stderr",
          "output_type": "stream",
          "text": [
            "epoch 797: 100%|██████████| 282/282 [00:07<00:00, 37.77it/s]\n"
          ]
        },
        {
          "metadata": {
            "tags": null
          },
          "name": "stdout",
          "output_type": "stream",
          "text": [
            "validation loss: 0.0009667612471514278 at epoch 798\n",
            "learning_rate: 0.00020971520000000012\n"
          ]
        },
        {
          "metadata": {
            "tags": null
          },
          "name": "stderr",
          "output_type": "stream",
          "text": [
            "epoch 798: 100%|██████████| 282/282 [00:08<00:00, 33.92it/s]\n"
          ]
        },
        {
          "metadata": {
            "tags": null
          },
          "name": "stdout",
          "output_type": "stream",
          "text": [
            "validation loss: 0.0008855687636468146 at epoch 799\n",
            "learning_rate: 0.00020971520000000012\n"
          ]
        },
        {
          "metadata": {
            "tags": null
          },
          "name": "stderr",
          "output_type": "stream",
          "text": [
            "epoch 799: 100%|██████████| 282/282 [00:08<00:00, 34.03it/s]\n"
          ]
        },
        {
          "metadata": {
            "tags": null
          },
          "name": "stdout",
          "output_type": "stream",
          "text": [
            "validation loss: 0.000858322325679991 at epoch 800\n",
            "learning_rate: 0.00020971520000000012\n"
          ]
        },
        {
          "metadata": {
            "tags": null
          },
          "name": "stderr",
          "output_type": "stream",
          "text": [
            "epoch 800: 100%|██████████| 282/282 [00:07<00:00, 37.75it/s]\n"
          ]
        },
        {
          "metadata": {
            "tags": null
          },
          "name": "stdout",
          "output_type": "stream",
          "text": [
            "validation loss: 0.0008946872419781155 at epoch 801\n",
            "learning_rate: 0.00020971520000000012\n"
          ]
        },
        {
          "metadata": {
            "tags": null
          },
          "name": "stderr",
          "output_type": "stream",
          "text": [
            "epoch 801: 100%|██████████| 282/282 [00:08<00:00, 33.84it/s]\n"
          ]
        },
        {
          "metadata": {
            "tags": null
          },
          "name": "stdout",
          "output_type": "stream",
          "text": [
            "validation loss: 0.000860100375695361 at epoch 802\n",
            "learning_rate: 0.00020971520000000012\n"
          ]
        },
        {
          "metadata": {
            "tags": null
          },
          "name": "stderr",
          "output_type": "stream",
          "text": [
            "epoch 802: 100%|██████████| 282/282 [00:08<00:00, 34.33it/s]\n"
          ]
        },
        {
          "metadata": {
            "tags": null
          },
          "name": "stdout",
          "output_type": "stream",
          "text": [
            "validation loss: 0.0008689663720627625 at epoch 803\n",
            "learning_rate: 0.00020971520000000012\n"
          ]
        },
        {
          "metadata": {
            "tags": null
          },
          "name": "stderr",
          "output_type": "stream",
          "text": [
            "epoch 803: 100%|██████████| 282/282 [00:07<00:00, 37.84it/s]\n"
          ]
        },
        {
          "metadata": {
            "tags": null
          },
          "name": "stdout",
          "output_type": "stream",
          "text": [
            "validation loss: 0.0008711242779261536 at epoch 804\n",
            "learning_rate: 0.00020971520000000012\n"
          ]
        },
        {
          "metadata": {
            "tags": null
          },
          "name": "stderr",
          "output_type": "stream",
          "text": [
            "epoch 804: 100%|██████████| 282/282 [00:08<00:00, 33.99it/s]\n"
          ]
        },
        {
          "metadata": {
            "tags": null
          },
          "name": "stdout",
          "output_type": "stream",
          "text": [
            "validation loss: 0.0008567228259311782 at epoch 805\n",
            "learning_rate: 0.00020971520000000012\n"
          ]
        },
        {
          "metadata": {
            "tags": null
          },
          "name": "stderr",
          "output_type": "stream",
          "text": [
            "epoch 805: 100%|██████████| 282/282 [00:08<00:00, 34.66it/s]\n"
          ]
        },
        {
          "metadata": {
            "tags": null
          },
          "name": "stdout",
          "output_type": "stream",
          "text": [
            "validation loss: 0.0012385573610663415 at epoch 806\n",
            "learning_rate: 0.00020971520000000012\n"
          ]
        },
        {
          "metadata": {
            "tags": null
          },
          "name": "stderr",
          "output_type": "stream",
          "text": [
            "epoch 806: 100%|██████████| 282/282 [00:07<00:00, 37.92it/s]\n"
          ]
        },
        {
          "metadata": {
            "tags": null
          },
          "name": "stdout",
          "output_type": "stream",
          "text": [
            "validation loss: 0.0008657879063652622 at epoch 807\n",
            "learning_rate: 0.00020971520000000012\n"
          ]
        },
        {
          "metadata": {
            "tags": null
          },
          "name": "stderr",
          "output_type": "stream",
          "text": [
            "epoch 807: 100%|██████████| 282/282 [00:08<00:00, 34.10it/s]\n"
          ]
        },
        {
          "metadata": {
            "tags": null
          },
          "name": "stdout",
          "output_type": "stream",
          "text": [
            "validation loss: 0.0017038437649607658 at epoch 808\n",
            "learning_rate: 0.00020971520000000012\n"
          ]
        },
        {
          "metadata": {
            "tags": null
          },
          "name": "stderr",
          "output_type": "stream",
          "text": [
            "epoch 808: 100%|██████████| 282/282 [00:08<00:00, 34.72it/s]\n"
          ]
        },
        {
          "metadata": {
            "tags": null
          },
          "name": "stdout",
          "output_type": "stream",
          "text": [
            "validation loss: 0.0009630847854746712 at epoch 809\n",
            "learning_rate: 0.00020971520000000012\n"
          ]
        },
        {
          "metadata": {
            "tags": null
          },
          "name": "stderr",
          "output_type": "stream",
          "text": [
            "epoch 809: 100%|██████████| 282/282 [00:07<00:00, 37.41it/s]\n"
          ]
        },
        {
          "metadata": {
            "tags": null
          },
          "name": "stdout",
          "output_type": "stream",
          "text": [
            "validation loss: 0.0014870065972208977 at epoch 810\n",
            "learning_rate: 0.00020971520000000012\n"
          ]
        },
        {
          "metadata": {
            "tags": null
          },
          "name": "stderr",
          "output_type": "stream",
          "text": [
            "epoch 810: 100%|██████████| 282/282 [00:08<00:00, 33.41it/s]\n"
          ]
        },
        {
          "metadata": {
            "tags": null
          },
          "name": "stdout",
          "output_type": "stream",
          "text": [
            "validation loss: 0.0008697383842534489 at epoch 811\n",
            "learning_rate: 0.00020971520000000012\n"
          ]
        },
        {
          "metadata": {
            "tags": null
          },
          "name": "stderr",
          "output_type": "stream",
          "text": [
            "epoch 811: 100%|██████████| 282/282 [00:08<00:00, 34.48it/s]\n"
          ]
        },
        {
          "metadata": {
            "tags": null
          },
          "name": "stdout",
          "output_type": "stream",
          "text": [
            "validation loss: 0.003368007923165957 at epoch 812\n",
            "learning_rate: 0.00020971520000000012\n"
          ]
        },
        {
          "metadata": {
            "tags": null
          },
          "name": "stderr",
          "output_type": "stream",
          "text": [
            "epoch 812: 100%|██████████| 282/282 [00:07<00:00, 37.69it/s]\n"
          ]
        },
        {
          "metadata": {
            "tags": null
          },
          "name": "stdout",
          "output_type": "stream",
          "text": [
            "validation loss: 0.0009793079151875442 at epoch 813\n",
            "learning_rate: 0.00020971520000000012\n"
          ]
        },
        {
          "metadata": {
            "tags": null
          },
          "name": "stderr",
          "output_type": "stream",
          "text": [
            "epoch 813: 100%|██████████| 282/282 [00:08<00:00, 33.71it/s]\n"
          ]
        },
        {
          "metadata": {
            "tags": null
          },
          "name": "stdout",
          "output_type": "stream",
          "text": [
            "validation loss: 0.0008704531962672869 at epoch 814\n",
            "learning_rate: 0.00020971520000000012\n"
          ]
        },
        {
          "metadata": {
            "tags": null
          },
          "name": "stderr",
          "output_type": "stream",
          "text": [
            "epoch 814: 100%|██████████| 282/282 [00:08<00:00, 34.35it/s]\n"
          ]
        },
        {
          "metadata": {
            "tags": null
          },
          "name": "stdout",
          "output_type": "stream",
          "text": [
            "validation loss: 0.001223112332324187 at epoch 815\n",
            "learning_rate: 0.00020971520000000012\n"
          ]
        },
        {
          "metadata": {
            "tags": null
          },
          "name": "stderr",
          "output_type": "stream",
          "text": [
            "epoch 815: 100%|██████████| 282/282 [00:07<00:00, 37.81it/s]\n"
          ]
        },
        {
          "metadata": {
            "tags": null
          },
          "name": "stdout",
          "output_type": "stream",
          "text": [
            "validation loss: 0.0009549033948116832 at epoch 816\n",
            "learning_rate: 0.00020971520000000012\n"
          ]
        },
        {
          "metadata": {
            "tags": null
          },
          "name": "stderr",
          "output_type": "stream",
          "text": [
            "epoch 816: 100%|██████████| 282/282 [00:08<00:00, 33.94it/s]\n"
          ]
        },
        {
          "metadata": {
            "tags": null
          },
          "name": "stdout",
          "output_type": "stream",
          "text": [
            "validation loss: 0.0008742902469303873 at epoch 817\n",
            "learning_rate: 0.00020971520000000012\n"
          ]
        },
        {
          "metadata": {
            "tags": null
          },
          "name": "stderr",
          "output_type": "stream",
          "text": [
            "epoch 817: 100%|██████████| 282/282 [00:08<00:00, 34.16it/s]\n"
          ]
        },
        {
          "metadata": {
            "tags": null
          },
          "name": "stdout",
          "output_type": "stream",
          "text": [
            "validation loss: 0.0011968907647662693 at epoch 818\n",
            "learning_rate: 0.00020971520000000012\n"
          ]
        },
        {
          "metadata": {
            "tags": null
          },
          "name": "stderr",
          "output_type": "stream",
          "text": [
            "epoch 818: 100%|██████████| 282/282 [00:07<00:00, 37.63it/s]\n"
          ]
        },
        {
          "metadata": {
            "tags": null
          },
          "name": "stdout",
          "output_type": "stream",
          "text": [
            "validation loss: 0.0013436613786551688 at epoch 819\n",
            "learning_rate: 0.00020971520000000012\n"
          ]
        },
        {
          "metadata": {
            "tags": null
          },
          "name": "stderr",
          "output_type": "stream",
          "text": [
            "epoch 819: 100%|██████████| 282/282 [00:08<00:00, 34.39it/s]\n"
          ]
        },
        {
          "metadata": {
            "tags": null
          },
          "name": "stdout",
          "output_type": "stream",
          "text": [
            "validation loss: 0.000996820569038391 at epoch 820\n",
            "learning_rate: 0.00020971520000000012\n"
          ]
        },
        {
          "metadata": {
            "tags": null
          },
          "name": "stderr",
          "output_type": "stream",
          "text": [
            "epoch 820: 100%|██████████| 282/282 [00:08<00:00, 34.02it/s]\n"
          ]
        },
        {
          "metadata": {
            "tags": null
          },
          "name": "stdout",
          "output_type": "stream",
          "text": [
            "validation loss: 0.0021551628907521565 at epoch 821\n",
            "learning_rate: 0.00020971520000000012\n"
          ]
        },
        {
          "metadata": {
            "tags": null
          },
          "name": "stderr",
          "output_type": "stream",
          "text": [
            "epoch 821: 100%|██████████| 282/282 [00:07<00:00, 37.63it/s]\n"
          ]
        },
        {
          "metadata": {
            "tags": null
          },
          "name": "stdout",
          "output_type": "stream",
          "text": [
            "validation loss: 0.0010062201900614633 at epoch 822\n",
            "learning_rate: 0.00020971520000000012\n"
          ]
        },
        {
          "metadata": {
            "tags": null
          },
          "name": "stderr",
          "output_type": "stream",
          "text": [
            "epoch 822: 100%|██████████| 282/282 [00:08<00:00, 33.94it/s]\n"
          ]
        },
        {
          "metadata": {
            "tags": null
          },
          "name": "stdout",
          "output_type": "stream",
          "text": [
            "validation loss: 0.0013480448168185022 at epoch 823\n",
            "learning_rate: 0.00020971520000000012\n"
          ]
        },
        {
          "metadata": {
            "tags": null
          },
          "name": "stderr",
          "output_type": "stream",
          "text": [
            "epoch 823: 100%|██████████| 282/282 [00:08<00:00, 34.53it/s]\n"
          ]
        },
        {
          "metadata": {
            "tags": null
          },
          "name": "stdout",
          "output_type": "stream",
          "text": [
            "validation loss: 0.001455003938741154 at epoch 824\n",
            "learning_rate: 0.00020971520000000012\n"
          ]
        },
        {
          "metadata": {
            "tags": null
          },
          "name": "stderr",
          "output_type": "stream",
          "text": [
            "epoch 824: 100%|██████████| 282/282 [00:07<00:00, 37.73it/s]\n"
          ]
        },
        {
          "metadata": {
            "tags": null
          },
          "name": "stdout",
          "output_type": "stream",
          "text": [
            "validation loss: 0.001310385599732399 at epoch 825\n",
            "learning_rate: 0.00020971520000000012\n"
          ]
        },
        {
          "metadata": {
            "tags": null
          },
          "name": "stderr",
          "output_type": "stream",
          "text": [
            "epoch 825: 100%|██████████| 282/282 [00:08<00:00, 34.09it/s]\n"
          ]
        },
        {
          "metadata": {
            "tags": null
          },
          "name": "stdout",
          "output_type": "stream",
          "text": [
            "validation loss: 0.0009403595150344902 at epoch 826\n",
            "learning_rate: 0.00020971520000000012\n"
          ]
        },
        {
          "metadata": {
            "tags": null
          },
          "name": "stderr",
          "output_type": "stream",
          "text": [
            "epoch 826: 100%|██████████| 282/282 [00:08<00:00, 34.14it/s]\n"
          ]
        },
        {
          "metadata": {
            "tags": null
          },
          "name": "stdout",
          "output_type": "stream",
          "text": [
            "validation loss: 0.0012240415703919198 at epoch 827\n",
            "learning_rate: 0.00020971520000000012\n"
          ]
        },
        {
          "metadata": {
            "tags": null
          },
          "name": "stderr",
          "output_type": "stream",
          "text": [
            "epoch 827: 100%|██████████| 282/282 [00:07<00:00, 37.62it/s]\n"
          ]
        },
        {
          "metadata": {
            "tags": null
          },
          "name": "stdout",
          "output_type": "stream",
          "text": [
            "validation loss: 0.0008628516035775344 at epoch 828\n",
            "learning_rate: 0.00020971520000000012\n"
          ]
        },
        {
          "metadata": {
            "tags": null
          },
          "name": "stderr",
          "output_type": "stream",
          "text": [
            "epoch 828: 100%|██████████| 282/282 [00:08<00:00, 33.34it/s]\n"
          ]
        },
        {
          "metadata": {
            "tags": null
          },
          "name": "stdout",
          "output_type": "stream",
          "text": [
            "validation loss: 0.002255194306373596 at epoch 829\n",
            "learning_rate: 0.00020971520000000012\n"
          ]
        },
        {
          "metadata": {
            "tags": null
          },
          "name": "stderr",
          "output_type": "stream",
          "text": [
            "epoch 829: 100%|██████████| 282/282 [00:07<00:00, 35.38it/s]\n"
          ]
        },
        {
          "metadata": {
            "tags": null
          },
          "name": "stdout",
          "output_type": "stream",
          "text": [
            "validation loss: 0.001485242182181941 at epoch 830\n",
            "learning_rate: 0.00020971520000000012\n"
          ]
        },
        {
          "metadata": {
            "tags": null
          },
          "name": "stderr",
          "output_type": "stream",
          "text": [
            "epoch 830: 100%|██████████| 282/282 [00:07<00:00, 37.61it/s]\n"
          ]
        },
        {
          "metadata": {
            "tags": null
          },
          "name": "stdout",
          "output_type": "stream",
          "text": [
            "validation loss: 0.0020968035293949974 at epoch 831\n",
            "learning_rate: 0.00020971520000000012\n"
          ]
        },
        {
          "metadata": {
            "tags": null
          },
          "name": "stderr",
          "output_type": "stream",
          "text": [
            "epoch 831: 100%|██████████| 282/282 [00:08<00:00, 33.58it/s]\n"
          ]
        },
        {
          "metadata": {
            "tags": null
          },
          "name": "stdout",
          "output_type": "stream",
          "text": [
            "validation loss: 0.0009187958819998635 at epoch 832\n",
            "learning_rate: 0.00020971520000000012\n"
          ]
        },
        {
          "metadata": {
            "tags": null
          },
          "name": "stderr",
          "output_type": "stream",
          "text": [
            "epoch 832: 100%|██████████| 282/282 [00:07<00:00, 35.35it/s]\n"
          ]
        },
        {
          "metadata": {
            "tags": null
          },
          "name": "stdout",
          "output_type": "stream",
          "text": [
            "validation loss: 0.0011942297807998128 at epoch 833\n",
            "learning_rate: 0.00020971520000000012\n"
          ]
        },
        {
          "metadata": {
            "tags": null
          },
          "name": "stderr",
          "output_type": "stream",
          "text": [
            "epoch 833: 100%|██████████| 282/282 [00:07<00:00, 37.61it/s]\n"
          ]
        },
        {
          "metadata": {
            "tags": null
          },
          "name": "stdout",
          "output_type": "stream",
          "text": [
            "validation loss: 0.001576021375755469 at epoch 834\n",
            "learning_rate: 0.00020971520000000012\n"
          ]
        },
        {
          "metadata": {
            "tags": null
          },
          "name": "stderr",
          "output_type": "stream",
          "text": [
            "epoch 834: 100%|██████████| 282/282 [00:08<00:00, 33.54it/s]\n"
          ]
        },
        {
          "metadata": {
            "tags": null
          },
          "name": "stdout",
          "output_type": "stream",
          "text": [
            "validation loss: 0.0018079386726021767 at epoch 835\n",
            "learning_rate: 0.00020971520000000012\n"
          ]
        },
        {
          "metadata": {
            "tags": null
          },
          "name": "stderr",
          "output_type": "stream",
          "text": [
            "epoch 835: 100%|██████████| 282/282 [00:08<00:00, 34.99it/s]\n"
          ]
        },
        {
          "metadata": {
            "tags": null
          },
          "name": "stdout",
          "output_type": "stream",
          "text": [
            "validation loss: 0.002709217151006063 at epoch 836\n",
            "learning_rate: 0.00020971520000000012\n"
          ]
        },
        {
          "metadata": {
            "tags": null
          },
          "name": "stderr",
          "output_type": "stream",
          "text": [
            "epoch 836: 100%|██████████| 282/282 [00:07<00:00, 37.88it/s]\n"
          ]
        },
        {
          "metadata": {
            "tags": null
          },
          "name": "stdout",
          "output_type": "stream",
          "text": [
            "validation loss: 0.0015355045679542754 at epoch 837\n",
            "learning_rate: 0.00020971520000000012\n"
          ]
        },
        {
          "metadata": {
            "tags": null
          },
          "name": "stderr",
          "output_type": "stream",
          "text": [
            "epoch 837: 100%|██████████| 282/282 [00:08<00:00, 33.75it/s]\n"
          ]
        },
        {
          "metadata": {
            "tags": null
          },
          "name": "stdout",
          "output_type": "stream",
          "text": [
            "validation loss: 0.0019944638013839723 at epoch 838\n",
            "learning_rate: 0.00020971520000000012\n"
          ]
        },
        {
          "metadata": {
            "tags": null
          },
          "name": "stderr",
          "output_type": "stream",
          "text": [
            "epoch 838: 100%|██████████| 282/282 [00:07<00:00, 35.31it/s]\n"
          ]
        },
        {
          "metadata": {
            "tags": null
          },
          "name": "stdout",
          "output_type": "stream",
          "text": [
            "validation loss: 0.001345880228612158 at epoch 839\n",
            "learning_rate: 0.00020971520000000012\n"
          ]
        },
        {
          "metadata": {
            "tags": null
          },
          "name": "stderr",
          "output_type": "stream",
          "text": [
            "epoch 839: 100%|██████████| 282/282 [00:07<00:00, 37.65it/s]\n"
          ]
        },
        {
          "metadata": {
            "tags": null
          },
          "name": "stdout",
          "output_type": "stream",
          "text": [
            "validation loss: 0.001113017867008845 at epoch 840\n",
            "learning_rate: 0.00020971520000000012\n"
          ]
        },
        {
          "metadata": {
            "tags": null
          },
          "name": "stderr",
          "output_type": "stream",
          "text": [
            "epoch 840: 100%|██████████| 282/282 [00:08<00:00, 33.53it/s]\n"
          ]
        },
        {
          "metadata": {
            "tags": null
          },
          "name": "stdout",
          "output_type": "stream",
          "text": [
            "validation loss: 0.0009097330247362455 at epoch 841\n",
            "learning_rate: 0.00020971520000000012\n"
          ]
        },
        {
          "metadata": {
            "tags": null
          },
          "name": "stderr",
          "output_type": "stream",
          "text": [
            "epoch 841: 100%|██████████| 282/282 [00:08<00:00, 34.95it/s]\n"
          ]
        },
        {
          "metadata": {
            "tags": null
          },
          "name": "stdout",
          "output_type": "stream",
          "text": [
            "validation loss: 0.0010925007723271848 at epoch 842\n",
            "learning_rate: 0.00020971520000000012\n"
          ]
        },
        {
          "metadata": {
            "tags": null
          },
          "name": "stderr",
          "output_type": "stream",
          "text": [
            "epoch 842: 100%|██████████| 282/282 [00:07<00:00, 37.26it/s]\n"
          ]
        },
        {
          "metadata": {
            "tags": null
          },
          "name": "stdout",
          "output_type": "stream",
          "text": [
            "validation loss: 0.001196134394241704 at epoch 843\n",
            "learning_rate: 0.00020971520000000012\n"
          ]
        },
        {
          "metadata": {
            "tags": null
          },
          "name": "stderr",
          "output_type": "stream",
          "text": [
            "epoch 843: 100%|██████████| 282/282 [00:08<00:00, 33.83it/s]\n"
          ]
        },
        {
          "metadata": {
            "tags": null
          },
          "name": "stdout",
          "output_type": "stream",
          "text": [
            "validation loss: 0.0009681842401623726 at epoch 844\n",
            "learning_rate: 0.00020971520000000012\n"
          ]
        },
        {
          "metadata": {
            "tags": null
          },
          "name": "stderr",
          "output_type": "stream",
          "text": [
            "epoch 844: 100%|██████████| 282/282 [00:08<00:00, 34.66it/s]\n"
          ]
        },
        {
          "metadata": {
            "tags": null
          },
          "name": "stdout",
          "output_type": "stream",
          "text": [
            "validation loss: 0.0013840854581859377 at epoch 845\n",
            "learning_rate: 0.0001677721600000001\n"
          ]
        },
        {
          "metadata": {
            "tags": null
          },
          "name": "stderr",
          "output_type": "stream",
          "text": [
            "epoch 845: 100%|██████████| 282/282 [00:07<00:00, 37.21it/s]\n"
          ]
        },
        {
          "metadata": {
            "tags": null
          },
          "name": "stdout",
          "output_type": "stream",
          "text": [
            "validation loss: 0.0010311859928899341 at epoch 846\n",
            "learning_rate: 0.0001677721600000001\n"
          ]
        },
        {
          "metadata": {
            "tags": null
          },
          "name": "stderr",
          "output_type": "stream",
          "text": [
            "epoch 846: 100%|██████████| 282/282 [00:08<00:00, 33.72it/s]\n"
          ]
        },
        {
          "metadata": {
            "tags": null
          },
          "name": "stdout",
          "output_type": "stream",
          "text": [
            "validation loss: 0.0009392907805740833 at epoch 847\n",
            "learning_rate: 0.0001677721600000001\n"
          ]
        },
        {
          "metadata": {
            "tags": null
          },
          "name": "stderr",
          "output_type": "stream",
          "text": [
            "epoch 847: 100%|██████████| 282/282 [00:08<00:00, 34.43it/s]\n"
          ]
        },
        {
          "metadata": {
            "tags": null
          },
          "name": "stdout",
          "output_type": "stream",
          "text": [
            "validation loss: 0.0009783205510013634 at epoch 848\n",
            "learning_rate: 0.0001677721600000001\n"
          ]
        },
        {
          "metadata": {
            "tags": null
          },
          "name": "stderr",
          "output_type": "stream",
          "text": [
            "epoch 848: 100%|██████████| 282/282 [00:07<00:00, 37.74it/s]\n"
          ]
        },
        {
          "metadata": {
            "tags": null
          },
          "name": "stdout",
          "output_type": "stream",
          "text": [
            "validation loss: 0.000921746207608117 at epoch 849\n",
            "learning_rate: 0.0001677721600000001\n"
          ]
        },
        {
          "metadata": {
            "tags": null
          },
          "name": "stderr",
          "output_type": "stream",
          "text": [
            "epoch 849: 100%|██████████| 282/282 [00:08<00:00, 33.75it/s]\n"
          ]
        },
        {
          "metadata": {
            "tags": null
          },
          "name": "stdout",
          "output_type": "stream",
          "text": [
            "validation loss: 0.000918318398296833 at epoch 850\n",
            "learning_rate: 0.0001677721600000001\n"
          ]
        },
        {
          "metadata": {
            "tags": null
          },
          "name": "stderr",
          "output_type": "stream",
          "text": [
            "epoch 850: 100%|██████████| 282/282 [00:08<00:00, 34.94it/s]\n"
          ]
        },
        {
          "metadata": {
            "tags": null
          },
          "name": "stdout",
          "output_type": "stream",
          "text": [
            "validation loss: 0.0009722412149939272 at epoch 851\n",
            "learning_rate: 0.0001677721600000001\n"
          ]
        },
        {
          "metadata": {
            "tags": null
          },
          "name": "stderr",
          "output_type": "stream",
          "text": [
            "epoch 851: 100%|██████████| 282/282 [00:07<00:00, 37.45it/s]\n"
          ]
        },
        {
          "metadata": {
            "tags": null
          },
          "name": "stdout",
          "output_type": "stream",
          "text": [
            "validation loss: 0.0009663452237016625 at epoch 852\n",
            "learning_rate: 0.0001677721600000001\n"
          ]
        },
        {
          "metadata": {
            "tags": null
          },
          "name": "stderr",
          "output_type": "stream",
          "text": [
            "epoch 852: 100%|██████████| 282/282 [00:08<00:00, 33.90it/s]\n"
          ]
        },
        {
          "metadata": {
            "tags": null
          },
          "name": "stdout",
          "output_type": "stream",
          "text": [
            "validation loss: 0.0011160756829712126 at epoch 853\n",
            "learning_rate: 0.0001677721600000001\n"
          ]
        },
        {
          "metadata": {
            "tags": null
          },
          "name": "stderr",
          "output_type": "stream",
          "text": [
            "epoch 853: 100%|██████████| 282/282 [00:08<00:00, 34.23it/s]\n"
          ]
        },
        {
          "metadata": {
            "tags": null
          },
          "name": "stdout",
          "output_type": "stream",
          "text": [
            "validation loss: 0.0008896241655780209 at epoch 854\n",
            "learning_rate: 0.0001677721600000001\n"
          ]
        },
        {
          "metadata": {
            "tags": null
          },
          "name": "stderr",
          "output_type": "stream",
          "text": [
            "epoch 854: 100%|██████████| 282/282 [00:07<00:00, 37.71it/s]\n"
          ]
        },
        {
          "metadata": {
            "tags": null
          },
          "name": "stdout",
          "output_type": "stream",
          "text": [
            "validation loss: 0.0008918606580959426 at epoch 855\n",
            "learning_rate: 0.0001677721600000001\n"
          ]
        },
        {
          "metadata": {
            "tags": null
          },
          "name": "stderr",
          "output_type": "stream",
          "text": [
            "epoch 855: 100%|██████████| 282/282 [00:08<00:00, 33.95it/s]\n"
          ]
        },
        {
          "metadata": {
            "tags": null
          },
          "name": "stdout",
          "output_type": "stream",
          "text": [
            "validation loss: 0.0009238490586479505 at epoch 856\n",
            "learning_rate: 0.0001677721600000001\n"
          ]
        },
        {
          "metadata": {
            "tags": null
          },
          "name": "stderr",
          "output_type": "stream",
          "text": [
            "epoch 856: 100%|██████████| 282/282 [00:08<00:00, 33.88it/s]\n"
          ]
        },
        {
          "metadata": {
            "tags": null
          },
          "name": "stdout",
          "output_type": "stream",
          "text": [
            "validation loss: 0.0008725087328089608 at epoch 857\n",
            "learning_rate: 0.0001677721600000001\n"
          ]
        },
        {
          "metadata": {
            "tags": null
          },
          "name": "stderr",
          "output_type": "stream",
          "text": [
            "epoch 857: 100%|██████████| 282/282 [00:07<00:00, 37.70it/s]\n"
          ]
        },
        {
          "metadata": {
            "tags": null
          },
          "name": "stdout",
          "output_type": "stream",
          "text": [
            "validation loss: 0.0008868578825559882 at epoch 858\n",
            "learning_rate: 0.0001677721600000001\n"
          ]
        },
        {
          "metadata": {
            "tags": null
          },
          "name": "stderr",
          "output_type": "stream",
          "text": [
            "epoch 858: 100%|██████████| 282/282 [00:08<00:00, 33.65it/s]\n"
          ]
        },
        {
          "metadata": {
            "tags": null
          },
          "name": "stdout",
          "output_type": "stream",
          "text": [
            "validation loss: 0.0008915903485483594 at epoch 859\n",
            "learning_rate: 0.0001677721600000001\n"
          ]
        },
        {
          "metadata": {
            "tags": null
          },
          "name": "stderr",
          "output_type": "stream",
          "text": [
            "epoch 859: 100%|██████████| 282/282 [00:08<00:00, 34.04it/s]\n"
          ]
        },
        {
          "metadata": {
            "tags": null
          },
          "name": "stdout",
          "output_type": "stream",
          "text": [
            "validation loss: 0.0009669395974940723 at epoch 860\n",
            "learning_rate: 0.0001677721600000001\n"
          ]
        },
        {
          "metadata": {
            "tags": null
          },
          "name": "stderr",
          "output_type": "stream",
          "text": [
            "epoch 860: 100%|██████████| 282/282 [00:07<00:00, 37.64it/s]\n"
          ]
        },
        {
          "metadata": {
            "tags": null
          },
          "name": "stdout",
          "output_type": "stream",
          "text": [
            "validation loss: 0.0008672652890284856 at epoch 861\n",
            "learning_rate: 0.0001677721600000001\n"
          ]
        },
        {
          "metadata": {
            "tags": null
          },
          "name": "stderr",
          "output_type": "stream",
          "text": [
            "epoch 861: 100%|██████████| 282/282 [00:08<00:00, 33.46it/s]\n"
          ]
        },
        {
          "metadata": {
            "tags": null
          },
          "name": "stdout",
          "output_type": "stream",
          "text": [
            "validation loss: 0.0008929538350138399 at epoch 862\n",
            "learning_rate: 0.0001677721600000001\n"
          ]
        },
        {
          "metadata": {
            "tags": null
          },
          "name": "stderr",
          "output_type": "stream",
          "text": [
            "epoch 862: 100%|██████████| 282/282 [00:08<00:00, 34.04it/s]\n"
          ]
        },
        {
          "metadata": {
            "tags": null
          },
          "name": "stdout",
          "output_type": "stream",
          "text": [
            "validation loss: 0.0008691989911927117 at epoch 863\n",
            "learning_rate: 0.0001677721600000001\n"
          ]
        },
        {
          "metadata": {
            "tags": null
          },
          "name": "stderr",
          "output_type": "stream",
          "text": [
            "epoch 863: 100%|██████████| 282/282 [00:07<00:00, 37.66it/s]\n"
          ]
        },
        {
          "metadata": {
            "tags": null
          },
          "name": "stdout",
          "output_type": "stream",
          "text": [
            "validation loss: 0.0008767939822541343 at epoch 864\n",
            "learning_rate: 0.0001677721600000001\n"
          ]
        },
        {
          "metadata": {
            "tags": null
          },
          "name": "stderr",
          "output_type": "stream",
          "text": [
            "epoch 864: 100%|██████████| 282/282 [00:08<00:00, 34.06it/s]\n"
          ]
        },
        {
          "metadata": {
            "tags": null
          },
          "name": "stdout",
          "output_type": "stream",
          "text": [
            "validation loss: 0.0008716763688458337 at epoch 865\n",
            "learning_rate: 0.0001677721600000001\n"
          ]
        },
        {
          "metadata": {
            "tags": null
          },
          "name": "stderr",
          "output_type": "stream",
          "text": [
            "epoch 865: 100%|██████████| 282/282 [00:08<00:00, 34.06it/s]\n"
          ]
        },
        {
          "metadata": {
            "tags": null
          },
          "name": "stdout",
          "output_type": "stream",
          "text": [
            "validation loss: 0.0009482424747612741 at epoch 866\n",
            "learning_rate: 0.0001677721600000001\n"
          ]
        },
        {
          "metadata": {
            "tags": null
          },
          "name": "stderr",
          "output_type": "stream",
          "text": [
            "epoch 866: 100%|██████████| 282/282 [00:07<00:00, 37.95it/s]\n"
          ]
        },
        {
          "metadata": {
            "tags": null
          },
          "name": "stdout",
          "output_type": "stream",
          "text": [
            "validation loss: 0.0009729926846921443 at epoch 867\n",
            "learning_rate: 0.0001677721600000001\n"
          ]
        },
        {
          "metadata": {
            "tags": null
          },
          "name": "stderr",
          "output_type": "stream",
          "text": [
            "epoch 867: 100%|██████████| 282/282 [00:08<00:00, 33.79it/s]\n"
          ]
        },
        {
          "metadata": {
            "tags": null
          },
          "name": "stdout",
          "output_type": "stream",
          "text": [
            "validation loss: 0.0011890332301457724 at epoch 868\n",
            "learning_rate: 0.0001677721600000001\n"
          ]
        },
        {
          "metadata": {
            "tags": null
          },
          "name": "stderr",
          "output_type": "stream",
          "text": [
            "epoch 868: 100%|██████████| 282/282 [00:08<00:00, 34.40it/s]\n"
          ]
        },
        {
          "metadata": {
            "tags": null
          },
          "name": "stdout",
          "output_type": "stream",
          "text": [
            "validation loss: 0.001311651897099283 at epoch 869\n",
            "learning_rate: 0.0001677721600000001\n"
          ]
        },
        {
          "metadata": {
            "tags": null
          },
          "name": "stderr",
          "output_type": "stream",
          "text": [
            "epoch 869: 100%|██████████| 282/282 [00:07<00:00, 37.49it/s]\n"
          ]
        },
        {
          "metadata": {
            "tags": null
          },
          "name": "stdout",
          "output_type": "stream",
          "text": [
            "validation loss: 0.001265892471704218 at epoch 870\n",
            "learning_rate: 0.0001677721600000001\n"
          ]
        },
        {
          "metadata": {
            "tags": null
          },
          "name": "stderr",
          "output_type": "stream",
          "text": [
            "epoch 870: 100%|██████████| 282/282 [00:08<00:00, 33.28it/s]\n"
          ]
        },
        {
          "metadata": {
            "tags": null
          },
          "name": "stdout",
          "output_type": "stream",
          "text": [
            "validation loss: 0.0011515821897321277 at epoch 871\n",
            "learning_rate: 0.0001677721600000001\n"
          ]
        },
        {
          "metadata": {
            "tags": null
          },
          "name": "stderr",
          "output_type": "stream",
          "text": [
            "epoch 871: 100%|██████████| 282/282 [00:08<00:00, 33.68it/s]\n"
          ]
        },
        {
          "metadata": {
            "tags": null
          },
          "name": "stdout",
          "output_type": "stream",
          "text": [
            "validation loss: 0.0009901664534376726 at epoch 872\n",
            "learning_rate: 0.0001677721600000001\n"
          ]
        },
        {
          "metadata": {
            "tags": null
          },
          "name": "stderr",
          "output_type": "stream",
          "text": [
            "epoch 872: 100%|██████████| 282/282 [00:07<00:00, 37.46it/s]\n"
          ]
        },
        {
          "metadata": {
            "tags": null
          },
          "name": "stdout",
          "output_type": "stream",
          "text": [
            "validation loss: 0.0010226285200979975 at epoch 873\n",
            "learning_rate: 0.0001677721600000001\n"
          ]
        },
        {
          "metadata": {
            "tags": null
          },
          "name": "stderr",
          "output_type": "stream",
          "text": [
            "epoch 873: 100%|██████████| 282/282 [00:08<00:00, 34.14it/s]\n"
          ]
        },
        {
          "metadata": {
            "tags": null
          },
          "name": "stdout",
          "output_type": "stream",
          "text": [
            "validation loss: 0.0010651931568152375 at epoch 874\n",
            "learning_rate: 0.0001677721600000001\n"
          ]
        },
        {
          "metadata": {
            "tags": null
          },
          "name": "stderr",
          "output_type": "stream",
          "text": [
            "epoch 874: 100%|██████████| 282/282 [00:08<00:00, 33.43it/s]\n"
          ]
        },
        {
          "metadata": {
            "tags": null
          },
          "name": "stdout",
          "output_type": "stream",
          "text": [
            "validation loss: 0.0008939226033786933 at epoch 875\n",
            "learning_rate: 0.0001677721600000001\n"
          ]
        },
        {
          "metadata": {
            "tags": null
          },
          "name": "stderr",
          "output_type": "stream",
          "text": [
            "epoch 875: 100%|██████████| 282/282 [00:07<00:00, 37.19it/s]\n"
          ]
        },
        {
          "metadata": {
            "tags": null
          },
          "name": "stdout",
          "output_type": "stream",
          "text": [
            "validation loss: 0.0009279689312809043 at epoch 876\n",
            "learning_rate: 0.0001677721600000001\n"
          ]
        },
        {
          "metadata": {
            "tags": null
          },
          "name": "stderr",
          "output_type": "stream",
          "text": [
            "epoch 876: 100%|██████████| 282/282 [00:08<00:00, 33.57it/s]\n"
          ]
        },
        {
          "metadata": {
            "tags": null
          },
          "name": "stdout",
          "output_type": "stream",
          "text": [
            "validation loss: 0.0008731958630184333 at epoch 877\n",
            "learning_rate: 0.0001677721600000001\n"
          ]
        },
        {
          "metadata": {
            "tags": null
          },
          "name": "stderr",
          "output_type": "stream",
          "text": [
            "epoch 877: 100%|██████████| 282/282 [00:08<00:00, 33.98it/s]\n"
          ]
        },
        {
          "metadata": {
            "tags": null
          },
          "name": "stdout",
          "output_type": "stream",
          "text": [
            "validation loss: 0.0009449490884111988 at epoch 878\n",
            "learning_rate: 0.0001677721600000001\n"
          ]
        },
        {
          "metadata": {
            "tags": null
          },
          "name": "stderr",
          "output_type": "stream",
          "text": [
            "epoch 878: 100%|██████████| 282/282 [00:07<00:00, 37.58it/s]\n"
          ]
        },
        {
          "metadata": {
            "tags": null
          },
          "name": "stdout",
          "output_type": "stream",
          "text": [
            "validation loss: 0.0009645296235879262 at epoch 879\n",
            "learning_rate: 0.0001677721600000001\n"
          ]
        },
        {
          "metadata": {
            "tags": null
          },
          "name": "stderr",
          "output_type": "stream",
          "text": [
            "epoch 879: 100%|██████████| 282/282 [00:08<00:00, 33.09it/s]\n"
          ]
        },
        {
          "metadata": {
            "tags": null
          },
          "name": "stdout",
          "output_type": "stream",
          "text": [
            "validation loss: 0.0009215065017342568 at epoch 880\n",
            "learning_rate: 0.0001677721600000001\n"
          ]
        },
        {
          "metadata": {
            "tags": null
          },
          "name": "stderr",
          "output_type": "stream",
          "text": [
            "epoch 880: 100%|██████████| 282/282 [00:08<00:00, 33.52it/s]\n"
          ]
        },
        {
          "metadata": {
            "tags": null
          },
          "name": "stdout",
          "output_type": "stream",
          "text": [
            "validation loss: 0.0011000172773169147 at epoch 881\n",
            "learning_rate: 0.0001677721600000001\n"
          ]
        },
        {
          "output_type": "stream",
          "name": "stderr",
          "text": [
            "epoch 881: 100%|██████████| 282/282 [00:07<00:00, 37.05it/s]\n"
          ]
        },
        {
          "output_type": "stream",
          "name": "stdout",
          "text": [
            "validation loss: 0.001013498851408561 at epoch 882\n",
            "learning_rate: 0.0001677721600000001\n"
          ]
        },
        {
          "output_type": "stream",
          "name": "stderr",
          "text": [
            "epoch 882: 100%|██████████| 282/282 [00:08<00:00, 33.30it/s]\n"
          ]
        },
        {
          "output_type": "stream",
          "name": "stdout",
          "text": [
            "validation loss: 0.00100846699376901 at epoch 883\n",
            "learning_rate: 0.0001677721600000001\n"
          ]
        },
        {
          "output_type": "stream",
          "name": "stderr",
          "text": [
            "epoch 883: 100%|██████████| 282/282 [00:08<00:00, 33.72it/s]\n"
          ]
        },
        {
          "output_type": "stream",
          "name": "stdout",
          "text": [
            "validation loss: 0.001003519373635451 at epoch 884\n",
            "learning_rate: 0.0001677721600000001\n"
          ]
        },
        {
          "output_type": "stream",
          "name": "stderr",
          "text": [
            "epoch 884: 100%|██████████| 282/282 [00:07<00:00, 37.29it/s]\n"
          ]
        },
        {
          "output_type": "stream",
          "name": "stdout",
          "text": [
            "validation loss: 0.0010051987680296103 at epoch 885\n",
            "learning_rate: 0.0001677721600000001\n"
          ]
        },
        {
          "output_type": "stream",
          "name": "stderr",
          "text": [
            "epoch 885: 100%|██████████| 282/282 [00:08<00:00, 34.81it/s]\n"
          ]
        },
        {
          "output_type": "stream",
          "name": "stdout",
          "text": [
            "validation loss: 0.0011519641168415546 at epoch 886\n",
            "learning_rate: 0.0001677721600000001\n"
          ]
        },
        {
          "output_type": "stream",
          "name": "stderr",
          "text": [
            "epoch 886: 100%|██████████| 282/282 [00:08<00:00, 33.88it/s]\n"
          ]
        },
        {
          "output_type": "stream",
          "name": "stdout",
          "text": [
            "validation loss: 0.0010297016352415085 at epoch 887\n",
            "learning_rate: 0.0001677721600000001\n"
          ]
        },
        {
          "output_type": "stream",
          "name": "stderr",
          "text": [
            "epoch 887: 100%|██████████| 282/282 [00:07<00:00, 36.49it/s]\n"
          ]
        },
        {
          "output_type": "stream",
          "name": "stdout",
          "text": [
            "validation loss: 0.001072642755177286 at epoch 888\n",
            "learning_rate: 0.0001677721600000001\n"
          ]
        },
        {
          "output_type": "stream",
          "name": "stderr",
          "text": [
            "epoch 888: 100%|██████████| 282/282 [00:08<00:00, 34.96it/s]\n"
          ]
        },
        {
          "output_type": "stream",
          "name": "stdout",
          "text": [
            "validation loss: 0.0010112348211308321 at epoch 889\n",
            "learning_rate: 0.0001677721600000001\n"
          ]
        },
        {
          "output_type": "stream",
          "name": "stderr",
          "text": [
            "epoch 889: 100%|██████████| 282/282 [00:08<00:00, 33.69it/s]\n"
          ]
        },
        {
          "output_type": "stream",
          "name": "stdout",
          "text": [
            "validation loss: 0.0008899809391134315 at epoch 890\n",
            "learning_rate: 0.0001677721600000001\n"
          ]
        },
        {
          "output_type": "stream",
          "name": "stderr",
          "text": [
            "epoch 890: 100%|██████████| 282/282 [00:07<00:00, 35.77it/s]\n"
          ]
        },
        {
          "output_type": "stream",
          "name": "stdout",
          "text": [
            "validation loss: 0.0009157399667633904 at epoch 891\n",
            "learning_rate: 0.0001677721600000001\n"
          ]
        },
        {
          "output_type": "stream",
          "name": "stderr",
          "text": [
            "epoch 891: 100%|██████████| 282/282 [00:07<00:00, 36.54it/s]\n"
          ]
        },
        {
          "output_type": "stream",
          "name": "stdout",
          "text": [
            "validation loss: 0.0009695463308857547 at epoch 892\n",
            "learning_rate: 0.0001677721600000001\n"
          ]
        },
        {
          "output_type": "stream",
          "name": "stderr",
          "text": [
            "epoch 892: 100%|██████████| 282/282 [00:08<00:00, 33.85it/s]\n"
          ]
        },
        {
          "output_type": "stream",
          "name": "stdout",
          "text": [
            "validation loss: 0.0009368002211882009 at epoch 893\n",
            "learning_rate: 0.0001677721600000001\n"
          ]
        },
        {
          "output_type": "stream",
          "name": "stderr",
          "text": [
            "epoch 893: 100%|██████████| 282/282 [00:08<00:00, 34.32it/s]\n"
          ]
        },
        {
          "output_type": "stream",
          "name": "stdout",
          "text": [
            "validation loss: 0.0008954380328456561 at epoch 894\n",
            "learning_rate: 0.0001677721600000001\n"
          ]
        },
        {
          "output_type": "stream",
          "name": "stderr",
          "text": [
            "epoch 894: 100%|██████████| 282/282 [00:07<00:00, 37.39it/s]\n"
          ]
        },
        {
          "output_type": "stream",
          "name": "stdout",
          "text": [
            "validation loss: 0.0009625531993806362 at epoch 895\n",
            "learning_rate: 0.0001677721600000001\n"
          ]
        },
        {
          "output_type": "stream",
          "name": "stderr",
          "text": [
            "epoch 895: 100%|██████████| 282/282 [00:08<00:00, 33.55it/s]\n"
          ]
        },
        {
          "output_type": "stream",
          "name": "stdout",
          "text": [
            "validation loss: 0.0013014412704441282 at epoch 896\n",
            "learning_rate: 0.00013421772800000008\n"
          ]
        },
        {
          "output_type": "stream",
          "name": "stderr",
          "text": [
            "epoch 896: 100%|██████████| 282/282 [00:08<00:00, 33.86it/s]\n"
          ]
        },
        {
          "output_type": "stream",
          "name": "stdout",
          "text": [
            "validation loss: 0.0013432417768571112 at epoch 897\n",
            "learning_rate: 0.00013421772800000008\n"
          ]
        },
        {
          "output_type": "stream",
          "name": "stderr",
          "text": [
            "epoch 897: 100%|██████████| 282/282 [00:07<00:00, 37.26it/s]\n"
          ]
        },
        {
          "output_type": "stream",
          "name": "stdout",
          "text": [
            "validation loss: 0.0010213990343941582 at epoch 898\n",
            "learning_rate: 0.00013421772800000008\n"
          ]
        },
        {
          "output_type": "stream",
          "name": "stderr",
          "text": [
            "epoch 898: 100%|██████████| 282/282 [00:08<00:00, 33.57it/s]\n"
          ]
        },
        {
          "output_type": "stream",
          "name": "stdout",
          "text": [
            "validation loss: 0.0009431895990338591 at epoch 899\n",
            "learning_rate: 0.00013421772800000008\n"
          ]
        },
        {
          "output_type": "stream",
          "name": "stderr",
          "text": [
            "epoch 899: 100%|██████████| 282/282 [00:08<00:00, 33.85it/s]\n"
          ]
        },
        {
          "output_type": "stream",
          "name": "stdout",
          "text": [
            "validation loss: 0.0009684513405793243 at epoch 900\n",
            "learning_rate: 0.00013421772800000008\n"
          ]
        },
        {
          "output_type": "stream",
          "name": "stderr",
          "text": [
            "epoch 900: 100%|██████████| 282/282 [00:07<00:00, 37.03it/s]\n"
          ]
        },
        {
          "output_type": "stream",
          "name": "stdout",
          "text": [
            "validation loss: 0.0009256325728363461 at epoch 901\n",
            "learning_rate: 0.00013421772800000008\n"
          ]
        },
        {
          "output_type": "stream",
          "name": "stderr",
          "text": [
            "epoch 901: 100%|██████████| 282/282 [00:08<00:00, 34.07it/s]\n"
          ]
        },
        {
          "output_type": "stream",
          "name": "stdout",
          "text": [
            "validation loss: 0.0009299335682557689 at epoch 902\n",
            "learning_rate: 0.00013421772800000008\n"
          ]
        },
        {
          "output_type": "stream",
          "name": "stderr",
          "text": [
            "epoch 902: 100%|██████████| 282/282 [00:08<00:00, 34.05it/s]\n"
          ]
        },
        {
          "output_type": "stream",
          "name": "stdout",
          "text": [
            "validation loss: 0.000991571723173062 at epoch 903\n",
            "learning_rate: 0.00013421772800000008\n"
          ]
        },
        {
          "output_type": "stream",
          "name": "stderr",
          "text": [
            "epoch 903: 100%|██████████| 282/282 [00:07<00:00, 37.15it/s]\n"
          ]
        },
        {
          "output_type": "stream",
          "name": "stdout",
          "text": [
            "validation loss: 0.0009825332831177446 at epoch 904\n",
            "learning_rate: 0.00013421772800000008\n"
          ]
        },
        {
          "output_type": "stream",
          "name": "stderr",
          "text": [
            "epoch 904: 100%|██████████| 282/282 [00:08<00:00, 33.85it/s]\n"
          ]
        },
        {
          "output_type": "stream",
          "name": "stdout",
          "text": [
            "validation loss: 0.0009722970384690497 at epoch 905\n",
            "learning_rate: 0.00013421772800000008\n"
          ]
        },
        {
          "output_type": "stream",
          "name": "stderr",
          "text": [
            "epoch 905: 100%|██████████| 282/282 [00:08<00:00, 33.89it/s]\n"
          ]
        },
        {
          "output_type": "stream",
          "name": "stdout",
          "text": [
            "validation loss: 0.0009531875836352507 at epoch 906\n",
            "learning_rate: 0.00013421772800000008\n"
          ]
        },
        {
          "output_type": "stream",
          "name": "stderr",
          "text": [
            "epoch 906: 100%|██████████| 282/282 [00:07<00:00, 37.35it/s]\n"
          ]
        },
        {
          "output_type": "stream",
          "name": "stdout",
          "text": [
            "validation loss: 0.0009289026173452536 at epoch 907\n",
            "learning_rate: 0.00013421772800000008\n"
          ]
        },
        {
          "output_type": "stream",
          "name": "stderr",
          "text": [
            "epoch 907: 100%|██████████| 282/282 [00:08<00:00, 34.26it/s]\n"
          ]
        },
        {
          "output_type": "stream",
          "name": "stdout",
          "text": [
            "validation loss: 0.0009538241852488782 at epoch 908\n",
            "learning_rate: 0.00013421772800000008\n"
          ]
        },
        {
          "output_type": "stream",
          "name": "stderr",
          "text": [
            "epoch 908: 100%|██████████| 282/282 [00:08<00:00, 33.94it/s]\n"
          ]
        },
        {
          "output_type": "stream",
          "name": "stdout",
          "text": [
            "validation loss: 0.0009540758509602812 at epoch 909\n",
            "learning_rate: 0.00013421772800000008\n"
          ]
        },
        {
          "output_type": "stream",
          "name": "stderr",
          "text": [
            "epoch 909: 100%|██████████| 282/282 [00:07<00:00, 36.05it/s]\n"
          ]
        },
        {
          "output_type": "stream",
          "name": "stdout",
          "text": [
            "validation loss: 0.0009220702263216178 at epoch 910\n",
            "learning_rate: 0.00013421772800000008\n"
          ]
        },
        {
          "output_type": "stream",
          "name": "stderr",
          "text": [
            "epoch 910: 100%|██████████| 282/282 [00:07<00:00, 35.51it/s]\n"
          ]
        },
        {
          "output_type": "stream",
          "name": "stdout",
          "text": [
            "validation loss: 0.0010772405531671312 at epoch 911\n",
            "learning_rate: 0.00013421772800000008\n"
          ]
        },
        {
          "output_type": "stream",
          "name": "stderr",
          "text": [
            "epoch 911: 100%|██████████| 282/282 [00:08<00:00, 33.31it/s]\n"
          ]
        },
        {
          "output_type": "stream",
          "name": "stdout",
          "text": [
            "validation loss: 0.0009581537105970913 at epoch 912\n",
            "learning_rate: 0.00013421772800000008\n"
          ]
        },
        {
          "output_type": "stream",
          "name": "stderr",
          "text": [
            "epoch 912: 100%|██████████| 282/282 [00:07<00:00, 35.59it/s]\n"
          ]
        },
        {
          "output_type": "stream",
          "name": "stdout",
          "text": [
            "validation loss: 0.0010783931261135473 at epoch 913\n",
            "learning_rate: 0.00013421772800000008\n"
          ]
        },
        {
          "output_type": "stream",
          "name": "stderr",
          "text": [
            "epoch 913: 100%|██████████| 282/282 [00:07<00:00, 36.68it/s]\n"
          ]
        },
        {
          "output_type": "stream",
          "name": "stdout",
          "text": [
            "validation loss: 0.001239937665561835 at epoch 914\n",
            "learning_rate: 0.00013421772800000008\n"
          ]
        },
        {
          "output_type": "stream",
          "name": "stderr",
          "text": [
            "epoch 914: 100%|██████████| 282/282 [00:08<00:00, 33.52it/s]\n"
          ]
        },
        {
          "output_type": "stream",
          "name": "stdout",
          "text": [
            "validation loss: 0.0013392155178719096 at epoch 915\n",
            "learning_rate: 0.00013421772800000008\n"
          ]
        },
        {
          "output_type": "stream",
          "name": "stderr",
          "text": [
            "epoch 915: 100%|██████████| 282/282 [00:07<00:00, 35.54it/s]\n"
          ]
        },
        {
          "output_type": "stream",
          "name": "stdout",
          "text": [
            "validation loss: 0.0012054889972011248 at epoch 916\n",
            "learning_rate: 0.00013421772800000008\n"
          ]
        },
        {
          "output_type": "stream",
          "name": "stderr",
          "text": [
            "epoch 916: 100%|██████████| 282/282 [00:07<00:00, 36.67it/s]\n"
          ]
        },
        {
          "output_type": "stream",
          "name": "stdout",
          "text": [
            "validation loss: 0.0013218014248543315 at epoch 917\n",
            "learning_rate: 0.00013421772800000008\n"
          ]
        },
        {
          "output_type": "stream",
          "name": "stderr",
          "text": [
            "epoch 917: 100%|██████████| 282/282 [00:08<00:00, 33.62it/s]\n"
          ]
        },
        {
          "output_type": "stream",
          "name": "stdout",
          "text": [
            "validation loss: 0.0012064564774433772 at epoch 918\n",
            "learning_rate: 0.00013421772800000008\n"
          ]
        },
        {
          "output_type": "stream",
          "name": "stderr",
          "text": [
            "epoch 918: 100%|██████████| 282/282 [00:08<00:00, 33.34it/s]\n"
          ]
        },
        {
          "output_type": "stream",
          "name": "stdout",
          "text": [
            "validation loss: 0.0011553803185621898 at epoch 919\n",
            "learning_rate: 0.00013421772800000008\n"
          ]
        },
        {
          "output_type": "stream",
          "name": "stderr",
          "text": [
            "epoch 919: 100%|██████████| 282/282 [00:07<00:00, 37.53it/s]\n"
          ]
        },
        {
          "output_type": "stream",
          "name": "stdout",
          "text": [
            "validation loss: 0.0013036113695965874 at epoch 920\n",
            "learning_rate: 0.00013421772800000008\n"
          ]
        },
        {
          "output_type": "stream",
          "name": "stderr",
          "text": [
            "epoch 920: 100%|██████████| 282/282 [00:08<00:00, 33.98it/s]\n"
          ]
        },
        {
          "output_type": "stream",
          "name": "stdout",
          "text": [
            "validation loss: 0.001234964427848657 at epoch 921\n",
            "learning_rate: 0.00013421772800000008\n"
          ]
        },
        {
          "output_type": "stream",
          "name": "stderr",
          "text": [
            "epoch 921: 100%|██████████| 282/282 [00:08<00:00, 33.66it/s]\n"
          ]
        },
        {
          "output_type": "stream",
          "name": "stdout",
          "text": [
            "validation loss: 0.0012898847667707338 at epoch 922\n",
            "learning_rate: 0.00013421772800000008\n"
          ]
        },
        {
          "output_type": "stream",
          "name": "stderr",
          "text": [
            "epoch 922: 100%|██████████| 282/282 [00:07<00:00, 37.33it/s]\n"
          ]
        },
        {
          "output_type": "stream",
          "name": "stdout",
          "text": [
            "validation loss: 0.001278521386285623 at epoch 923\n",
            "learning_rate: 0.00013421772800000008\n"
          ]
        },
        {
          "output_type": "stream",
          "name": "stderr",
          "text": [
            "epoch 923: 100%|██████████| 282/282 [00:08<00:00, 33.56it/s]\n"
          ]
        },
        {
          "output_type": "stream",
          "name": "stdout",
          "text": [
            "validation loss: 0.0014277839172217581 at epoch 924\n",
            "learning_rate: 0.00013421772800000008\n"
          ]
        },
        {
          "output_type": "stream",
          "name": "stderr",
          "text": [
            "epoch 924: 100%|██████████| 282/282 [00:08<00:00, 33.13it/s]\n"
          ]
        },
        {
          "output_type": "stream",
          "name": "stdout",
          "text": [
            "validation loss: 0.0012780285701155661 at epoch 925\n",
            "learning_rate: 0.00013421772800000008\n"
          ]
        },
        {
          "output_type": "stream",
          "name": "stderr",
          "text": [
            "epoch 925: 100%|██████████| 282/282 [00:07<00:00, 37.38it/s]\n"
          ]
        },
        {
          "output_type": "stream",
          "name": "stdout",
          "text": [
            "validation loss: 0.0013433297508292728 at epoch 926\n",
            "learning_rate: 0.00013421772800000008\n"
          ]
        },
        {
          "output_type": "stream",
          "name": "stderr",
          "text": [
            "epoch 926: 100%|██████████| 282/282 [00:08<00:00, 33.56it/s]\n"
          ]
        },
        {
          "output_type": "stream",
          "name": "stdout",
          "text": [
            "validation loss: 0.0013698577707012495 at epoch 927\n",
            "learning_rate: 0.00013421772800000008\n"
          ]
        },
        {
          "output_type": "stream",
          "name": "stderr",
          "text": [
            "epoch 927: 100%|██████████| 282/282 [00:08<00:00, 33.70it/s]\n"
          ]
        },
        {
          "output_type": "stream",
          "name": "stdout",
          "text": [
            "validation loss: 0.0012491832193401125 at epoch 928\n",
            "learning_rate: 0.00013421772800000008\n"
          ]
        },
        {
          "output_type": "stream",
          "name": "stderr",
          "text": [
            "epoch 928: 100%|██████████| 282/282 [00:07<00:00, 37.10it/s]\n"
          ]
        },
        {
          "output_type": "stream",
          "name": "stdout",
          "text": [
            "validation loss: 0.0013611517490612136 at epoch 929\n",
            "learning_rate: 0.00013421772800000008\n"
          ]
        },
        {
          "output_type": "stream",
          "name": "stderr",
          "text": [
            "epoch 929: 100%|██████████| 282/282 [00:08<00:00, 33.66it/s]\n"
          ]
        },
        {
          "output_type": "stream",
          "name": "stdout",
          "text": [
            "validation loss: 0.0011662825114197202 at epoch 930\n",
            "learning_rate: 0.00013421772800000008\n"
          ]
        },
        {
          "output_type": "stream",
          "name": "stderr",
          "text": [
            "epoch 930: 100%|██████████| 282/282 [00:08<00:00, 33.94it/s]\n"
          ]
        },
        {
          "output_type": "stream",
          "name": "stdout",
          "text": [
            "validation loss: 0.0012507455382082197 at epoch 931\n",
            "learning_rate: 0.00013421772800000008\n"
          ]
        },
        {
          "output_type": "stream",
          "name": "stderr",
          "text": [
            "epoch 931: 100%|██████████| 282/282 [00:07<00:00, 37.17it/s]\n"
          ]
        },
        {
          "output_type": "stream",
          "name": "stdout",
          "text": [
            "validation loss: 0.0011835853324996101 at epoch 932\n",
            "learning_rate: 0.00013421772800000008\n"
          ]
        },
        {
          "output_type": "stream",
          "name": "stderr",
          "text": [
            "epoch 932: 100%|██████████| 282/282 [00:08<00:00, 34.38it/s]\n"
          ]
        },
        {
          "output_type": "stream",
          "name": "stdout",
          "text": [
            "validation loss: 0.0011067329442335499 at epoch 933\n",
            "learning_rate: 0.00013421772800000008\n"
          ]
        },
        {
          "output_type": "stream",
          "name": "stderr",
          "text": [
            "epoch 933: 100%|██████████| 282/282 [00:08<00:00, 33.65it/s]\n"
          ]
        },
        {
          "output_type": "stream",
          "name": "stdout",
          "text": [
            "validation loss: 0.0011918892214695612 at epoch 934\n",
            "learning_rate: 0.00013421772800000008\n"
          ]
        },
        {
          "output_type": "stream",
          "name": "stderr",
          "text": [
            "epoch 934: 100%|██████████| 282/282 [00:07<00:00, 37.26it/s]\n"
          ]
        },
        {
          "output_type": "stream",
          "name": "stdout",
          "text": [
            "validation loss: 0.0011183019789556662 at epoch 935\n",
            "learning_rate: 0.00013421772800000008\n"
          ]
        },
        {
          "output_type": "stream",
          "name": "stderr",
          "text": [
            "epoch 935: 100%|██████████| 282/282 [00:08<00:00, 34.10it/s]\n"
          ]
        },
        {
          "output_type": "stream",
          "name": "stdout",
          "text": [
            "validation loss: 0.0013698846606744661 at epoch 936\n",
            "learning_rate: 0.00013421772800000008\n"
          ]
        },
        {
          "output_type": "stream",
          "name": "stderr",
          "text": [
            "epoch 936: 100%|██████████| 282/282 [00:08<00:00, 33.73it/s]\n"
          ]
        },
        {
          "output_type": "stream",
          "name": "stdout",
          "text": [
            "validation loss: 0.00130860359635618 at epoch 937\n",
            "learning_rate: 0.00013421772800000008\n"
          ]
        },
        {
          "output_type": "stream",
          "name": "stderr",
          "text": [
            "epoch 937: 100%|██████████| 282/282 [00:07<00:00, 36.30it/s]\n"
          ]
        },
        {
          "output_type": "stream",
          "name": "stdout",
          "text": [
            "validation loss: 0.001264367163181305 at epoch 938\n",
            "learning_rate: 0.00013421772800000008\n"
          ]
        },
        {
          "output_type": "stream",
          "name": "stderr",
          "text": [
            "epoch 938: 100%|██████████| 282/282 [00:08<00:00, 34.83it/s]\n"
          ]
        },
        {
          "output_type": "stream",
          "name": "stdout",
          "text": [
            "validation loss: 0.0012975419585903485 at epoch 939\n",
            "learning_rate: 0.00013421772800000008\n"
          ]
        },
        {
          "output_type": "stream",
          "name": "stderr",
          "text": [
            "epoch 939: 100%|██████████| 282/282 [00:08<00:00, 33.68it/s]\n"
          ]
        },
        {
          "output_type": "stream",
          "name": "stdout",
          "text": [
            "validation loss: 0.0012704368755221368 at epoch 940\n",
            "learning_rate: 0.00013421772800000008\n"
          ]
        },
        {
          "output_type": "stream",
          "name": "stderr",
          "text": [
            "epoch 940: 100%|██████████| 282/282 [00:07<00:00, 35.97it/s]\n"
          ]
        },
        {
          "output_type": "stream",
          "name": "stdout",
          "text": [
            "validation loss: 0.0013129303463631206 at epoch 941\n",
            "learning_rate: 0.00013421772800000008\n"
          ]
        },
        {
          "output_type": "stream",
          "name": "stderr",
          "text": [
            "epoch 941: 100%|██████████| 282/282 [00:07<00:00, 35.99it/s]\n"
          ]
        },
        {
          "output_type": "stream",
          "name": "stdout",
          "text": [
            "validation loss: 0.0012590058288640446 at epoch 942\n",
            "learning_rate: 0.00013421772800000008\n"
          ]
        },
        {
          "output_type": "stream",
          "name": "stderr",
          "text": [
            "epoch 942: 100%|██████████| 282/282 [00:08<00:00, 33.44it/s]\n"
          ]
        },
        {
          "output_type": "stream",
          "name": "stdout",
          "text": [
            "validation loss: 0.0011671054268048869 at epoch 943\n",
            "learning_rate: 0.00013421772800000008\n"
          ]
        },
        {
          "output_type": "stream",
          "name": "stderr",
          "text": [
            "epoch 943: 100%|██████████| 282/282 [00:07<00:00, 35.28it/s]\n"
          ]
        },
        {
          "output_type": "stream",
          "name": "stdout",
          "text": [
            "validation loss: 0.001249531663954258 at epoch 944\n",
            "learning_rate: 0.00013421772800000008\n"
          ]
        },
        {
          "output_type": "stream",
          "name": "stderr",
          "text": [
            "epoch 944: 100%|██████████| 282/282 [00:07<00:00, 37.33it/s]\n"
          ]
        },
        {
          "output_type": "stream",
          "name": "stdout",
          "text": [
            "validation loss: 0.0010894633726113373 at epoch 945\n",
            "learning_rate: 0.00013421772800000008\n"
          ]
        },
        {
          "output_type": "stream",
          "name": "stderr",
          "text": [
            "epoch 945: 100%|██████████| 282/282 [00:08<00:00, 33.72it/s]\n"
          ]
        },
        {
          "output_type": "stream",
          "name": "stdout",
          "text": [
            "validation loss: 0.0013699938439660601 at epoch 946\n",
            "learning_rate: 0.00013421772800000008\n"
          ]
        },
        {
          "output_type": "stream",
          "name": "stderr",
          "text": [
            "epoch 946: 100%|██████████| 282/282 [00:08<00:00, 33.59it/s]\n"
          ]
        },
        {
          "output_type": "stream",
          "name": "stdout",
          "text": [
            "validation loss: 0.001424955401983526 at epoch 947\n",
            "learning_rate: 0.00010737418240000007\n"
          ]
        },
        {
          "output_type": "stream",
          "name": "stderr",
          "text": [
            "epoch 947: 100%|██████████| 282/282 [00:07<00:00, 37.28it/s]\n"
          ]
        },
        {
          "output_type": "stream",
          "name": "stdout",
          "text": [
            "validation loss: 0.0015657996071709527 at epoch 948\n",
            "learning_rate: 0.00010737418240000007\n"
          ]
        },
        {
          "output_type": "stream",
          "name": "stderr",
          "text": [
            "epoch 948: 100%|██████████| 282/282 [00:08<00:00, 33.48it/s]\n"
          ]
        },
        {
          "output_type": "stream",
          "name": "stdout",
          "text": [
            "validation loss: 0.0015055284102757772 at epoch 949\n",
            "learning_rate: 0.00010737418240000007\n"
          ]
        },
        {
          "output_type": "stream",
          "name": "stderr",
          "text": [
            "epoch 949: 100%|██████████| 282/282 [00:08<00:00, 33.37it/s]\n"
          ]
        },
        {
          "output_type": "stream",
          "name": "stdout",
          "text": [
            "validation loss: 0.0015780762765142653 at epoch 950\n",
            "learning_rate: 0.00010737418240000007\n"
          ]
        },
        {
          "output_type": "stream",
          "name": "stderr",
          "text": [
            "epoch 950: 100%|██████████| 282/282 [00:07<00:00, 37.29it/s]\n"
          ]
        },
        {
          "output_type": "stream",
          "name": "stdout",
          "text": [
            "validation loss: 0.001488861800895797 at epoch 951\n",
            "learning_rate: 0.00010737418240000007\n"
          ]
        },
        {
          "output_type": "stream",
          "name": "stderr",
          "text": [
            "epoch 951: 100%|██████████| 282/282 [00:08<00:00, 34.02it/s]\n"
          ]
        },
        {
          "output_type": "stream",
          "name": "stdout",
          "text": [
            "validation loss: 0.0014723594528105524 at epoch 952\n",
            "learning_rate: 0.00010737418240000007\n"
          ]
        },
        {
          "output_type": "stream",
          "name": "stderr",
          "text": [
            "epoch 952: 100%|██████████| 282/282 [00:08<00:00, 34.04it/s]\n"
          ]
        },
        {
          "output_type": "stream",
          "name": "stdout",
          "text": [
            "validation loss: 0.0015398766431543563 at epoch 953\n",
            "learning_rate: 0.00010737418240000007\n"
          ]
        },
        {
          "output_type": "stream",
          "name": "stderr",
          "text": [
            "epoch 953: 100%|██████████| 282/282 [00:07<00:00, 37.36it/s]\n"
          ]
        },
        {
          "output_type": "stream",
          "name": "stdout",
          "text": [
            "validation loss: 0.0017315524228745036 at epoch 954\n",
            "learning_rate: 0.00010737418240000007\n"
          ]
        },
        {
          "output_type": "stream",
          "name": "stderr",
          "text": [
            "epoch 954: 100%|██████████| 282/282 [00:08<00:00, 33.55it/s]\n"
          ]
        },
        {
          "output_type": "stream",
          "name": "stdout",
          "text": [
            "validation loss: 0.0015556172562970056 at epoch 955\n",
            "learning_rate: 0.00010737418240000007\n"
          ]
        },
        {
          "output_type": "stream",
          "name": "stderr",
          "text": [
            "epoch 955: 100%|██████████| 282/282 [00:08<00:00, 34.01it/s]\n"
          ]
        },
        {
          "output_type": "stream",
          "name": "stdout",
          "text": [
            "validation loss: 0.0014923201700051626 at epoch 956\n",
            "learning_rate: 0.00010737418240000007\n"
          ]
        },
        {
          "output_type": "stream",
          "name": "stderr",
          "text": [
            "epoch 956: 100%|██████████| 282/282 [00:07<00:00, 36.95it/s]\n"
          ]
        },
        {
          "output_type": "stream",
          "name": "stdout",
          "text": [
            "validation loss: 0.0014994377204113536 at epoch 957\n",
            "learning_rate: 0.00010737418240000007\n"
          ]
        },
        {
          "output_type": "stream",
          "name": "stderr",
          "text": [
            "epoch 957: 100%|██████████| 282/282 [00:08<00:00, 34.02it/s]\n"
          ]
        },
        {
          "output_type": "stream",
          "name": "stdout",
          "text": [
            "validation loss: 0.0015999831880132358 at epoch 958\n",
            "learning_rate: 0.00010737418240000007\n"
          ]
        },
        {
          "output_type": "stream",
          "name": "stderr",
          "text": [
            "epoch 958: 100%|██████████| 282/282 [00:08<00:00, 33.87it/s]\n"
          ]
        },
        {
          "output_type": "stream",
          "name": "stdout",
          "text": [
            "validation loss: 0.00155020978467332 at epoch 959\n",
            "learning_rate: 0.00010737418240000007\n"
          ]
        },
        {
          "output_type": "stream",
          "name": "stderr",
          "text": [
            "epoch 959: 100%|██████████| 282/282 [00:07<00:00, 37.56it/s]\n"
          ]
        },
        {
          "output_type": "stream",
          "name": "stdout",
          "text": [
            "validation loss: 0.0015424825424949328 at epoch 960\n",
            "learning_rate: 0.00010737418240000007\n"
          ]
        },
        {
          "output_type": "stream",
          "name": "stderr",
          "text": [
            "epoch 960: 100%|██████████| 282/282 [00:08<00:00, 33.71it/s]\n"
          ]
        },
        {
          "output_type": "stream",
          "name": "stdout",
          "text": [
            "validation loss: 0.001563681349158287 at epoch 961\n",
            "learning_rate: 0.00010737418240000007\n"
          ]
        },
        {
          "output_type": "stream",
          "name": "stderr",
          "text": [
            "epoch 961: 100%|██████████| 282/282 [00:08<00:00, 33.78it/s]\n"
          ]
        },
        {
          "output_type": "stream",
          "name": "stdout",
          "text": [
            "validation loss: 0.0016166047867801454 at epoch 962\n",
            "learning_rate: 0.00010737418240000007\n"
          ]
        },
        {
          "output_type": "stream",
          "name": "stderr",
          "text": [
            "epoch 962: 100%|██████████| 282/282 [00:07<00:00, 37.44it/s]\n"
          ]
        },
        {
          "output_type": "stream",
          "name": "stdout",
          "text": [
            "validation loss: 0.0013483219378524357 at epoch 963\n",
            "learning_rate: 0.00010737418240000007\n"
          ]
        },
        {
          "output_type": "stream",
          "name": "stderr",
          "text": [
            "epoch 963: 100%|██████████| 282/282 [00:08<00:00, 33.99it/s]\n"
          ]
        },
        {
          "output_type": "stream",
          "name": "stdout",
          "text": [
            "validation loss: 0.0014297627781828244 at epoch 964\n",
            "learning_rate: 0.00010737418240000007\n"
          ]
        },
        {
          "output_type": "stream",
          "name": "stderr",
          "text": [
            "epoch 964: 100%|██████████| 282/282 [00:08<00:00, 33.31it/s]\n"
          ]
        },
        {
          "output_type": "stream",
          "name": "stdout",
          "text": [
            "validation loss: 0.00160076884759797 at epoch 965\n",
            "learning_rate: 0.00010737418240000007\n"
          ]
        },
        {
          "output_type": "stream",
          "name": "stderr",
          "text": [
            "epoch 965: 100%|██████████| 282/282 [00:07<00:00, 36.91it/s]\n"
          ]
        },
        {
          "output_type": "stream",
          "name": "stdout",
          "text": [
            "validation loss: 0.0015856404287947548 at epoch 966\n",
            "learning_rate: 0.00010737418240000007\n"
          ]
        },
        {
          "output_type": "stream",
          "name": "stderr",
          "text": [
            "epoch 966: 100%|██████████| 282/282 [00:08<00:00, 34.56it/s]\n"
          ]
        },
        {
          "output_type": "stream",
          "name": "stdout",
          "text": [
            "validation loss: 0.0015176050008998978 at epoch 967\n",
            "learning_rate: 0.00010737418240000007\n"
          ]
        },
        {
          "output_type": "stream",
          "name": "stderr",
          "text": [
            "epoch 967: 100%|██████████| 282/282 [00:08<00:00, 33.84it/s]\n"
          ]
        },
        {
          "output_type": "stream",
          "name": "stdout",
          "text": [
            "validation loss: 0.0014662455552154118 at epoch 968\n",
            "learning_rate: 0.00010737418240000007\n"
          ]
        },
        {
          "output_type": "stream",
          "name": "stderr",
          "text": [
            "epoch 968: 100%|██████████| 282/282 [00:07<00:00, 36.35it/s]\n"
          ]
        },
        {
          "output_type": "stream",
          "name": "stdout",
          "text": [
            "validation loss: 0.0014744748299320538 at epoch 969\n",
            "learning_rate: 0.00010737418240000007\n"
          ]
        },
        {
          "output_type": "stream",
          "name": "stderr",
          "text": [
            "epoch 969: 100%|██████████| 282/282 [00:07<00:00, 35.72it/s]\n"
          ]
        },
        {
          "output_type": "stream",
          "name": "stdout",
          "text": [
            "validation loss: 0.0015416988374458418 at epoch 970\n",
            "learning_rate: 0.00010737418240000007\n"
          ]
        },
        {
          "output_type": "stream",
          "name": "stderr",
          "text": [
            "epoch 970: 100%|██████████| 282/282 [00:08<00:00, 33.29it/s]\n"
          ]
        },
        {
          "output_type": "stream",
          "name": "stdout",
          "text": [
            "validation loss: 0.0015875433733065923 at epoch 971\n",
            "learning_rate: 0.00010737418240000007\n"
          ]
        },
        {
          "output_type": "stream",
          "name": "stderr",
          "text": [
            "epoch 971: 100%|██████████| 282/282 [00:07<00:00, 35.84it/s]\n"
          ]
        },
        {
          "output_type": "stream",
          "name": "stdout",
          "text": [
            "validation loss: 0.0017224096175697116 at epoch 972\n",
            "learning_rate: 0.00010737418240000007\n"
          ]
        },
        {
          "output_type": "stream",
          "name": "stderr",
          "text": [
            "epoch 972: 100%|██████████| 282/282 [00:07<00:00, 36.48it/s]\n"
          ]
        },
        {
          "output_type": "stream",
          "name": "stdout",
          "text": [
            "validation loss: 0.001757117351724042 at epoch 973\n",
            "learning_rate: 0.00010737418240000007\n"
          ]
        },
        {
          "output_type": "stream",
          "name": "stderr",
          "text": [
            "epoch 973: 100%|██████████| 282/282 [00:08<00:00, 33.76it/s]\n"
          ]
        },
        {
          "output_type": "stream",
          "name": "stdout",
          "text": [
            "validation loss: 0.0017468593741456668 at epoch 974\n",
            "learning_rate: 0.00010737418240000007\n"
          ]
        },
        {
          "output_type": "stream",
          "name": "stderr",
          "text": [
            "epoch 974: 100%|██████████| 282/282 [00:08<00:00, 34.70it/s]\n"
          ]
        },
        {
          "output_type": "stream",
          "name": "stdout",
          "text": [
            "validation loss: 0.0016869655342565642 at epoch 975\n",
            "learning_rate: 0.00010737418240000007\n"
          ]
        },
        {
          "output_type": "stream",
          "name": "stderr",
          "text": [
            "epoch 975: 100%|██████████| 282/282 [00:07<00:00, 37.41it/s]\n"
          ]
        },
        {
          "output_type": "stream",
          "name": "stdout",
          "text": [
            "validation loss: 0.0017017884080608686 at epoch 976\n",
            "learning_rate: 0.00010737418240000007\n"
          ]
        },
        {
          "output_type": "stream",
          "name": "stderr",
          "text": [
            "epoch 976: 100%|██████████| 282/282 [00:08<00:00, 33.20it/s]\n"
          ]
        },
        {
          "output_type": "stream",
          "name": "stdout",
          "text": [
            "validation loss: 0.0016055289391014311 at epoch 977\n",
            "learning_rate: 0.00010737418240000007\n"
          ]
        },
        {
          "output_type": "stream",
          "name": "stderr",
          "text": [
            "epoch 977: 100%|██████████| 282/282 [00:08<00:00, 33.52it/s]\n"
          ]
        },
        {
          "output_type": "stream",
          "name": "stdout",
          "text": [
            "validation loss: 0.0014928752813074325 at epoch 978\n",
            "learning_rate: 0.00010737418240000007\n"
          ]
        },
        {
          "output_type": "stream",
          "name": "stderr",
          "text": [
            "epoch 978: 100%|██████████| 282/282 [00:07<00:00, 37.26it/s]\n"
          ]
        },
        {
          "output_type": "stream",
          "name": "stdout",
          "text": [
            "validation loss: 0.0014450856778356765 at epoch 979\n",
            "learning_rate: 0.00010737418240000007\n"
          ]
        },
        {
          "output_type": "stream",
          "name": "stderr",
          "text": [
            "epoch 979: 100%|██████████| 282/282 [00:08<00:00, 33.39it/s]\n"
          ]
        },
        {
          "output_type": "stream",
          "name": "stdout",
          "text": [
            "validation loss: 0.0014150554082459873 at epoch 980\n",
            "learning_rate: 0.00010737418240000007\n"
          ]
        },
        {
          "output_type": "stream",
          "name": "stderr",
          "text": [
            "epoch 980: 100%|██████████| 282/282 [00:08<00:00, 33.33it/s]\n"
          ]
        },
        {
          "output_type": "stream",
          "name": "stdout",
          "text": [
            "validation loss: 0.001468109426399072 at epoch 981\n",
            "learning_rate: 0.00010737418240000007\n"
          ]
        },
        {
          "output_type": "stream",
          "name": "stderr",
          "text": [
            "epoch 981: 100%|██████████| 282/282 [00:07<00:00, 37.19it/s]\n"
          ]
        },
        {
          "output_type": "stream",
          "name": "stdout",
          "text": [
            "validation loss: 0.0015695975662933456 at epoch 982\n",
            "learning_rate: 0.00010737418240000007\n"
          ]
        },
        {
          "output_type": "stream",
          "name": "stderr",
          "text": [
            "epoch 982: 100%|██████████| 282/282 [00:08<00:00, 33.41it/s]\n"
          ]
        },
        {
          "output_type": "stream",
          "name": "stdout",
          "text": [
            "validation loss: 0.001188552140361733 at epoch 983\n",
            "learning_rate: 0.00010737418240000007\n"
          ]
        },
        {
          "output_type": "stream",
          "name": "stderr",
          "text": [
            "epoch 983: 100%|██████████| 282/282 [00:08<00:00, 33.59it/s]\n"
          ]
        },
        {
          "output_type": "stream",
          "name": "stdout",
          "text": [
            "validation loss: 0.0011837530955672265 at epoch 984\n",
            "learning_rate: 0.00010737418240000007\n"
          ]
        },
        {
          "output_type": "stream",
          "name": "stderr",
          "text": [
            "epoch 984: 100%|██████████| 282/282 [00:07<00:00, 36.91it/s]\n"
          ]
        },
        {
          "output_type": "stream",
          "name": "stdout",
          "text": [
            "validation loss: 0.0011849133844176929 at epoch 985\n",
            "learning_rate: 0.00010737418240000007\n"
          ]
        },
        {
          "output_type": "stream",
          "name": "stderr",
          "text": [
            "epoch 985: 100%|██████████| 282/282 [00:08<00:00, 33.24it/s]\n"
          ]
        },
        {
          "output_type": "stream",
          "name": "stdout",
          "text": [
            "validation loss: 0.0014331049273411433 at epoch 986\n",
            "learning_rate: 0.00010737418240000007\n"
          ]
        },
        {
          "output_type": "stream",
          "name": "stderr",
          "text": [
            "epoch 986: 100%|██████████| 282/282 [00:08<00:00, 33.64it/s]\n"
          ]
        },
        {
          "output_type": "stream",
          "name": "stdout",
          "text": [
            "validation loss: 0.001139947223994467 at epoch 987\n",
            "learning_rate: 0.00010737418240000007\n"
          ]
        },
        {
          "output_type": "stream",
          "name": "stderr",
          "text": [
            "epoch 987: 100%|██████████| 282/282 [00:07<00:00, 37.10it/s]\n"
          ]
        },
        {
          "output_type": "stream",
          "name": "stdout",
          "text": [
            "validation loss: 0.00128946872221099 at epoch 988\n",
            "learning_rate: 0.00010737418240000007\n"
          ]
        },
        {
          "output_type": "stream",
          "name": "stderr",
          "text": [
            "epoch 988: 100%|██████████| 282/282 [00:08<00:00, 33.77it/s]\n"
          ]
        },
        {
          "output_type": "stream",
          "name": "stdout",
          "text": [
            "validation loss: 0.0013441971987485887 at epoch 989\n",
            "learning_rate: 0.00010737418240000007\n"
          ]
        },
        {
          "output_type": "stream",
          "name": "stderr",
          "text": [
            "epoch 989: 100%|██████████| 282/282 [00:08<00:00, 33.22it/s]\n"
          ]
        },
        {
          "output_type": "stream",
          "name": "stdout",
          "text": [
            "validation loss: 0.0012709316338102023 at epoch 990\n",
            "learning_rate: 0.00010737418240000007\n"
          ]
        },
        {
          "output_type": "stream",
          "name": "stderr",
          "text": [
            "epoch 990: 100%|██████████| 282/282 [00:07<00:00, 37.07it/s]\n"
          ]
        },
        {
          "output_type": "stream",
          "name": "stdout",
          "text": [
            "validation loss: 0.0012723146925369899 at epoch 991\n",
            "learning_rate: 0.00010737418240000007\n"
          ]
        },
        {
          "output_type": "stream",
          "name": "stderr",
          "text": [
            "epoch 991: 100%|██████████| 282/282 [00:08<00:00, 33.62it/s]\n"
          ]
        },
        {
          "output_type": "stream",
          "name": "stdout",
          "text": [
            "validation loss: 0.001347740084760719 at epoch 992\n",
            "learning_rate: 0.00010737418240000007\n"
          ]
        },
        {
          "output_type": "stream",
          "name": "stderr",
          "text": [
            "epoch 992: 100%|██████████| 282/282 [00:08<00:00, 33.89it/s]\n"
          ]
        },
        {
          "output_type": "stream",
          "name": "stdout",
          "text": [
            "validation loss: 0.0012271856384144888 at epoch 993\n",
            "learning_rate: 0.00010737418240000007\n"
          ]
        },
        {
          "output_type": "stream",
          "name": "stderr",
          "text": [
            "epoch 993: 100%|██████████| 282/282 [00:07<00:00, 37.34it/s]\n"
          ]
        },
        {
          "output_type": "stream",
          "name": "stdout",
          "text": [
            "validation loss: 0.0012698500942852763 at epoch 994\n",
            "learning_rate: 0.00010737418240000007\n"
          ]
        },
        {
          "output_type": "stream",
          "name": "stderr",
          "text": [
            "epoch 994: 100%|██████████| 282/282 [00:08<00:00, 34.37it/s]\n"
          ]
        },
        {
          "output_type": "stream",
          "name": "stdout",
          "text": [
            "validation loss: 0.0012965334008137384 at epoch 995\n",
            "learning_rate: 0.00010737418240000007\n"
          ]
        },
        {
          "output_type": "stream",
          "name": "stderr",
          "text": [
            "epoch 995: 100%|██████████| 282/282 [00:08<00:00, 33.28it/s]\n"
          ]
        },
        {
          "output_type": "stream",
          "name": "stdout",
          "text": [
            "validation loss: 0.0012731577787134382 at epoch 996\n",
            "learning_rate: 0.00010737418240000007\n"
          ]
        },
        {
          "output_type": "stream",
          "name": "stderr",
          "text": [
            "epoch 996: 100%|██████████| 282/282 [00:07<00:00, 37.43it/s]\n"
          ]
        },
        {
          "output_type": "stream",
          "name": "stdout",
          "text": [
            "validation loss: 0.0011035129667984116 at epoch 997\n",
            "learning_rate: 0.00010737418240000007\n"
          ]
        },
        {
          "output_type": "stream",
          "name": "stderr",
          "text": [
            "epoch 997: 100%|██████████| 282/282 [00:08<00:00, 34.17it/s]\n"
          ]
        },
        {
          "output_type": "stream",
          "name": "stdout",
          "text": [
            "validation loss: 0.0012935437526967791 at epoch 998\n",
            "learning_rate: 8.589934592000007e-05\n"
          ]
        },
        {
          "output_type": "stream",
          "name": "stderr",
          "text": [
            "epoch 998: 100%|██████████| 282/282 [00:08<00:00, 34.01it/s]\n"
          ]
        },
        {
          "output_type": "stream",
          "name": "stdout",
          "text": [
            "validation loss: 0.001363001043597857 at epoch 999\n",
            "learning_rate: 8.589934592000007e-05\n"
          ]
        },
        {
          "output_type": "stream",
          "name": "stderr",
          "text": [
            "epoch 999: 100%|██████████| 282/282 [00:07<00:00, 36.40it/s]\n"
          ]
        },
        {
          "output_type": "stream",
          "name": "stdout",
          "text": [
            "validation loss: 0.0013374679154819912 at epoch 1000\n",
            "learning_rate: 8.589934592000007e-05\n"
          ]
        },
        {
          "output_type": "stream",
          "name": "stderr",
          "text": [
            "epoch 1000: 100%|██████████| 282/282 [00:08<00:00, 34.92it/s]"
          ]
        },
        {
          "output_type": "stream",
          "name": "stdout",
          "text": [
            "model loaded from ani_acrolein.pt\n"
          ]
        },
        {
          "output_type": "stream",
          "name": "stderr",
          "text": [
            "\n"
          ]
        }
      ],
      "source": [
        "model_ani.train(\n",
        "    molecular_database=acrolein_train,\n",
        "    property_to_learn=\"energy\",\n",
        "    xyz_derivative_property_to_learn=\"energy_grad\",\n",
        "    save_model=True,\n",
        ")"
      ]
    },
    {
      "cell_type": "markdown",
      "metadata": {
        "id": "ePJxXEdOR9_a"
      },
      "source": [
        "#Testing"
      ]
    },
    {
      "cell_type": "code",
      "execution_count": null,
      "metadata": {
        "id": "QZ00QUEc5wx_"
      },
      "outputs": [],
      "source": [
        "atoms = np.tile(np.array(1 * [6] + 1 * [8] + 2 * [6] + 4 * [1]), (5000, 1))\n",
        "acrolein_test = molecular_database.from_numpy(coordinates_trans_test, atoms)"
      ]
    },
    {
      "cell_type": "code",
      "execution_count": null,
      "metadata": {
        "id": "Pg1RPR6mSDhx"
      },
      "outputs": [],
      "source": [
        "acrolein_test.add_scalar_properties(epots_test, \"energy\")"
      ]
    },
    {
      "cell_type": "code",
      "execution_count": null,
      "metadata": {
        "id": "qiiCMU7dZGxL"
      },
      "outputs": [],
      "source": [
        "acrolein_test.add_xyz_derivative_properties(grads_test, \"energy\", \"energy_grad\")"
      ]
    },
    {
      "cell_type": "code",
      "execution_count": null,
      "metadata": {
        "colab": {
          "base_uri": "https://localhost:8080/"
        },
        "id": "bcrAOqQFSMSJ",
        "outputId": "56745972-00c0-4503-bf43-61db9e27f6b8"
      },
      "outputs": [
        {
          "output_type": "execute_result",
          "data": {
            "text/plain": [
              "5000"
            ]
          },
          "metadata": {},
          "execution_count": 30
        }
      ],
      "source": [
        "acrolein_test.size"
      ]
    },
    {
      "cell_type": "code",
      "execution_count": null,
      "metadata": {
        "id": "gw0-f85SSVEC"
      },
      "outputs": [],
      "source": []
    },
    {
      "cell_type": "code",
      "execution_count": null,
      "metadata": {
        "id": "woEFYZaUSYPK"
      },
      "outputs": [],
      "source": [
        "mcd_test_mol = acrolein_test.copy()\n",
        "model_ani.predict(\n",
        "    molecular_database=mcd_test_mol,\n",
        "    property_to_predict=\"energy\",\n",
        "    xyz_derivative_property_to_predict=\"energy_grad\",\n",
        "    batch_size=100,\n",
        ")\n",
        "# mcd_test_mol.get_properties(\"energy\")\n",
        "# mcd_test_mol.get_xyz_derivative_properties(\"energy_grad\")\n",
        "np.savez('test.npz', energy=np.array(mcd_test_mol.get_properties(\"energy\")) /kcalpermol2eV, grad=np.array(mcd_test_mol.get_xyz_derivative_properties(\"energy_grad\")) / kcalpermol2eV)"
      ]
    },
    {
      "cell_type": "code",
      "execution_count": null,
      "metadata": {
        "colab": {
          "base_uri": "https://localhost:8080/"
        },
        "id": "ijwQe6JNZoK9",
        "outputId": "b72423d5-fdac-4eb2-fb0f-be6df3e27440"
      },
      "outputs": [
        {
          "output_type": "stream",
          "name": "stdout",
          "text": [
            "0.009755491197242346\n",
            "0.09440937473925015\n"
          ]
        }
      ],
      "source": [
        "mse_epot = np.mean(\n",
        "    ((mcd_test_mol.get_properties(\"energy\") - acrolein_test.get_properties(\"energy\")))** 2)\n",
        "print(np.sqrt(mse_epot))\n",
        "mse_grad = np.mean(\n",
        "    (\n",
        "        (\n",
        "            mcd_test_mol.get_xyz_derivative_properties(\"energy_grad\")\n",
        "            - acrolein_test.get_xyz_derivative_properties(\"energy_grad\")\n",
        "        )\n",
        "    )\n",
        "    ** 2\n",
        ")\n",
        "print(np.sqrt(mse_grad))"
      ]
    },
    {
      "cell_type": "code",
      "execution_count": null,
      "metadata": {
        "id": "jZmMsjUg111v"
      },
      "outputs": [],
      "source": [
        "mcd_train_mol = acrolein_train.copy()\n",
        "model_ani.predict(\n",
        "    molecular_database=mcd_train_mol,\n",
        "    property_to_predict=\"energy\",\n",
        "    xyz_derivative_property_to_predict=\"energy_grad\",\n",
        "    batch_size=100,\n",
        ")\n",
        "# mcd_test_mol.get_properties(\"energy\")\n",
        "# mcd_test_mol.get_xyz_derivative_properties(\"energy_grad\")\n",
        "np.savez('train.npz', energy=np.array(mcd_train_mol.get_properties(\"energy\")) /kcalpermol2eV, grad=np.array(mcd_train_mol.get_xyz_derivative_properties(\"energy_grad\")) / kcalpermol2eV)"
      ]
    },
    {
      "cell_type": "markdown",
      "metadata": {
        "id": "egFNlJyvWKRK"
      },
      "source": [
        "#Cis-Trans"
      ]
    },
    {
      "cell_type": "code",
      "execution_count": null,
      "metadata": {
        "id": "V7JSX3CQU4a1"
      },
      "outputs": [],
      "source": [
        "atoms = np.tile(np.array(1 * [6] + 1 * [8] + 2 * [6] + 4 * [1]), (20000, 1))\n",
        "acrolein_cis_trans = molecular_database.from_numpy(coordinates_cis_trans, atoms)\n",
        "acrolein_cis_trans.add_scalar_properties(energy_cis_trans.flatten() * kcalpermol2eV, \"energy\")\n",
        "acrolein_cis_trans.add_xyz_derivative_properties(grads_cis_trans * kcalpermol2eV, \"energy\", \"energy_grad\")\n",
        "\n",
        "mcd_cis_trans = acrolein_cis_trans.copy()\n",
        "\n",
        "model_ani.predict(\n",
        "    molecular_database=mcd_cis_trans,\n",
        "    property_to_predict=\"energy\",\n",
        "    xyz_derivative_property_to_predict=\"energy_grad\",\n",
        "    batch_size=100,\n",
        ")\n",
        "# mcd_test_mol.get_properties(\"energy\")\n",
        "# mcd_test_mol.get_xyz_derivative_properties(\"energy_grad\")\n",
        "np.savez('cis_trans.npz', energy=np.array(mcd_cis_trans.get_properties(\"energy\")) /kcalpermol2eV, grad=np.array(mcd_cis_trans.get_xyz_derivative_properties(\"energy_grad\")) / kcalpermol2eV)"
      ]
    },
    {
      "cell_type": "markdown",
      "metadata": {
        "id": "tWMX9srOcCv6"
      },
      "source": [
        "#Cis"
      ]
    },
    {
      "cell_type": "code",
      "execution_count": null,
      "metadata": {
        "id": "6EO9aZRLWaX0"
      },
      "outputs": [],
      "source": [
        "atoms = np.tile(np.array(1 * [6] + 1 * [8] + 2 * [6] + 4 * [1]), (50000, 1))\n",
        "acrolein_cis = molecular_database.from_numpy(coordinates_cis, atoms)\n",
        "acrolein_cis.add_scalar_properties(energy_cis.flatten() * kcalpermol2eV, \"energy\")\n",
        "acrolein_cis.add_xyz_derivative_properties(grads_cis * kcalpermol2eV, \"energy\", \"energy_grad\")\n",
        "\n",
        "mcd_cis = acrolein_cis.copy()\n",
        "\n",
        "model_ani.predict(\n",
        "    molecular_database=mcd_cis,\n",
        "    property_to_predict=\"energy\",\n",
        "    xyz_derivative_property_to_predict=\"energy_grad\",\n",
        "    batch_size=100,\n",
        ")\n",
        "# mcd_test_mol.get_properties(\"energy\")\n",
        "# mcd_test_mol.get_xyz_derivative_properties(\"energy_grad\")\n",
        "np.savez('cis.npz', energy=np.array(mcd_cis.get_properties(\"energy\")) /kcalpermol2eV, grad=np.array(mcd_cis.get_xyz_derivative_properties(\"energy_grad\")) / kcalpermol2eV)"
      ]
    }
  ],
  "metadata": {
    "accelerator": "GPU",
    "colab": {
      "gpuType": "T4",
      "provenance": []
    },
    "kernelspec": {
      "display_name": "Python 3",
      "name": "python3"
    },
    "language_info": {
      "name": "python"
    }
  },
  "nbformat": 4,
  "nbformat_minor": 0
}